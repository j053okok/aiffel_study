{
 "cells": [
  {
   "cell_type": "markdown",
   "source": [
    "#### ResNet50 transfer learning 코드로 살펴보기"
   ],
   "metadata": {
    "collapsed": false
   },
   "id": "7561673480823580"
  },
  {
   "cell_type": "code",
   "execution_count": 1,
   "id": "initial_id",
   "metadata": {
    "collapsed": true,
    "ExecuteTime": {
     "end_time": "2023-10-25T21:10:18.830714300Z",
     "start_time": "2023-10-25T21:10:16.000047800Z"
    }
   },
   "outputs": [],
   "source": [
    "import os\n",
    "import tensorflow as tf\n",
    "import matplotlib.pyplot as plt"
   ]
  },
  {
   "cell_type": "code",
   "execution_count": null,
   "outputs": [],
   "source": [
    "train_dir='aiffel/cifar_10_small/train'\n",
    "test_dir='aiffel/cifar_10_small/test'\n",
    "\n",
    "train_aeroplane_dir= os.path.join(train_dir,'aeroplane')\n",
    "train_bird_dir=os.path.join(train_dir,'bird')\n",
    "train_car_dir= os.path.join(train_dir,'car')\n",
    "train_cat_dir=os.path.join(train_dir,'cat')\n",
    "\n",
    "test_aeroplane_dir= os.path.join(test_dir,'aeroplane')\n",
    "test_bird_dir=os.path.join(test_dir,'bird')\n",
    "test_car_dir= os.path.join(test_dir,'car')\n",
    "test_cat_dir=os.path.join(test_dir,'cat')"
   ],
   "metadata": {
    "collapsed": false
   },
   "id": "955f27ce5e529239"
  },
  {
   "cell_type": "code",
   "execution_count": null,
   "outputs": [],
   "source": [
    "# 훈련용 데이터셋의 이미지 개수 출력\n",
    "print('훈련용 aeroplane 이미지 전체 개수:', len(os.listdir(train_aeroplane_dir)))\n",
    "print('훈련용 bird 이미지 전체 개수:', len(os.listdir(train_bird_dir)))\n",
    "print('훈련용 car 이미지 전체 개수:', len(os.listdir(train_car_dir)))\n",
    "print('훈련용 cat 이미지 전체 개수:', len(os.listdir(train_cat_dir)))"
   ],
   "metadata": {
    "collapsed": false
   },
   "id": "9530a2af7edfe21"
  },
  {
   "cell_type": "markdown",
   "source": [
    "훈련용 aeroplane 이미지 전체 개수: 5000\n",
    "훈련용 bird 이미지 전체 개수: 5000\n",
    "훈련용 car 이미지 전체 개수: 5000\n",
    "훈련용 cat 이미지 전체 개수: 5000"
   ],
   "metadata": {
    "collapsed": false
   },
   "id": "c0bb5f607950236f"
  },
  {
   "cell_type": "code",
   "execution_count": null,
   "outputs": [],
   "source": [
    "print('테스트용 aeroplane 이미지 전체 개수:', len(os.listdir(test_aeroplane_dir)))\n",
    "print('테스트용 bird 이미지 전체 개수:', len(os.listdir(test_bird_dir)))\n",
    "print('테스트용 car 이미지 전체 개수:', len(os.listdir(test_car_dir)))\n",
    "print('테스트용 cat 이미지 전체 개수:', len(os.listdir(test_cat_dir)))"
   ],
   "metadata": {
    "collapsed": false
   },
   "id": "f59c8cc379fbbce2"
  },
  {
   "cell_type": "markdown",
   "source": [
    "훈련용 aeroplane 이미지 전체 개수: 1000\n",
    "훈련용 bird 이미지 전체 개수: 1000\n",
    "훈련용 car 이미지 전체 개수: 1000\n",
    "훈련용 cat 이미지 전체 개수: 1000"
   ],
   "metadata": {
    "collapsed": false
   },
   "id": "ea4f890d797797c1"
  },
  {
   "cell_type": "code",
   "execution_count": null,
   "outputs": [],
   "source": [
    "### data 파이프 라인 생성\n",
    "\n",
    "# 데이터를 디렉토리로부터 불러올 때, 한번에 가져올 데이터의 수\n",
    "batch_size=20\n",
    "\n",
    "# Training 데이터의 augmentation 파이프 라인 만들기\n",
    "augmentation_train_datagen = tf.keras.preprocessing.image.ImageDataGenerator( rescale=1./255,  # 모든 데이터의 값을 1/255로 스케일 조정\n",
    "                                    rotation_range=40,  # 0~40도 사이로 이미지 회전\n",
    "                                    width_shift_range=0.2,  # 전체 가로 길이를 기준으로 0.2 비율까지 가로로 이동\n",
    "                                    height_shift_range=0.2,   # 전체 세로 길이를 기준으로 0.2 비율까지 가로로 이동\n",
    "                                    shear_range=0.2,  # 0.2 라디안 정도까지 이미지를 기울이기\n",
    "                                    zoom_range=0.2, # 확대와 축소의 범위 [1-0.2 ~ 1+0.2 ]\n",
    "                                    horizontal_flip=True,)  # 수평 기준 플립을 할 지, 하지 않을 지를 결정\n",
    "\n",
    "# Test 데이터의 augmentation 파이프 라인 만들기\n",
    "test_datagen = tf.keras.preprocessing.image.ImageDataGenerator(rescale=1./255)"
   ],
   "metadata": {
    "collapsed": false
   },
   "id": "3319bc76a3f3ba1b"
  },
  {
   "cell_type": "code",
   "execution_count": null,
   "outputs": [],
   "source": [
    "# Augmentation 파이프라인을 기준으로 디렉토리로부터 데이터를 불러 오는 모듈 만들기\n",
    "train_generator = augmentation_train_datagen.flow_from_directory(\n",
    "        directory=train_dir, #  어느 디렉터리에서 이미지 데이터를 가져올 것인가?\n",
    "        target_size=(150, 150), # 모든 이미지를 150 × 150 크기로 바꿉니다\n",
    "        batch_size=batch_size, # 디렉토리에서 batch size만큼의 이미지를 가져옵니다.\n",
    "        interpolation='bilinear',  # resize를 할 때, interpolatrion 기법을 결정합니다.\n",
    "        color_mode ='rgb',\n",
    "        shuffle='True', # 이미지를 셔플링할 지 하지 않을 지를 결정.\n",
    "        class_mode='categorical') # multiclass의 경우이므로 class mode는 categorical\n",
    "\n",
    "print(train_generator.class_indices)"
   ],
   "metadata": {
    "collapsed": false
   },
   "id": "5a5f7ba65d1db757"
  },
  {
   "cell_type": "code",
   "execution_count": null,
   "outputs": [],
   "source": [
    "# (위의 train_generator와 조건은 동일)\n",
    "test_generator = test_datagen.flow_from_directory(\n",
    "    \n",
    "    directory=test_dir, #  어느 디렉터리에서 이미지 데이터를 가져올 것인가?\n",
    "    target_size=(150, 150), # 모든 이미지를 150 × 150 크기로 바꿉니다\n",
    "    batch_size=batch_size, # 디렉토리에서 batch size만큼의 이미지를 가져옵니다.\n",
    "    interpolation='bilinear',  # resize를 할 때, interpolatrion 기법을 결정합니다.\n",
    "    color_mode ='rgb',\n",
    "    shuffle='True', # 이미지를 셔플링할 지 하지 않을 지를 결정.\n",
    "    class_mode='categorical') # multiclass의 경우이므로 class mode는 categorical"
   ],
   "metadata": {
    "collapsed": false
   },
   "id": "9f4477f647bf9bff"
  },
  {
   "cell_type": "code",
   "execution_count": null,
   "outputs": [],
   "source": [
    "for data_batch, labels_batch in train_generator: \n",
    "    print('배치 데이터 크기:', data_batch.shape)\n",
    "    print('배치 레이블 크기:', labels_batch.shape)\n",
    "    break"
   ],
   "metadata": {
    "collapsed": false
   },
   "id": "bd45468c6378ecc1"
  },
  {
   "cell_type": "code",
   "execution_count": null,
   "outputs": [],
   "source": [
    "## back bone\n",
    "conv_base=tf.keras.applications.ResNet50(weights='imagenet',include_top=False)\n",
    "conv_base.summary()"
   ],
   "metadata": {
    "collapsed": false
   },
   "id": "61274a28224d7de2"
  },
  {
   "cell_type": "markdown",
   "source": [
    "최종 모델을 구성합니다.\n",
    "\n",
    "input layer와 ResNet50 backbone, fully-connected layer를 연결하여 transfer learning 모델을 만듭니다."
   ],
   "metadata": {
    "collapsed": false
   },
   "id": "b94bb831a79c59a5"
  },
  {
   "cell_type": "code",
   "execution_count": null,
   "outputs": [],
   "source": [
    "# 최종 모델 구성하기\n",
    "input_layer = tf.keras.layers.Input(shape=(150,150,3))\n",
    "x = conv_base(input_layer) # 위에서 불러온 pretrained model을 활용하기\n",
    "# 불러온 conv_base 모델의 최종 결과물은 Conv2D 연산의 feature map과 동일\n",
    "# 따라서 최종적인 Multiclass classfication을 하기 위해서는 Flatten을 해야 한다.\n",
    "x = tf.keras.layers.Flatten()(x)\n",
    "x = tf.keras.layers.Dense(512, activation='relu')(x)\n",
    "out_layer = tf.keras.layers.Dense(4, activation='softmax')(x)"
   ],
   "metadata": {
    "collapsed": false
   },
   "id": "a46fca9d14fa133e"
  },
  {
   "cell_type": "code",
   "execution_count": null,
   "outputs": [],
   "source": [
    "# conv_base는 freeze 시킴으로써 이미 학습된 파라미터 값을 그대로 사용\n",
    "conv_base.trainable = False"
   ],
   "metadata": {
    "collapsed": false
   },
   "id": "3bd37308886c10b7"
  },
  {
   "cell_type": "code",
   "execution_count": null,
   "outputs": [],
   "source": [
    "# 만들어진 모델의 구조 살펴보기\n",
    "model = tf.keras.Model(inputs=[input_layer], outputs=[out_layer])\n",
    "model.summary()"
   ],
   "metadata": {
    "collapsed": false
   },
   "id": "c36591aa5cfb894"
  },
  {
   "cell_type": "code",
   "execution_count": null,
   "outputs": [],
   "source": [
    "loss_function=tf.keras.losses.categorical_crossentropy \n",
    "optimize=tf.keras.optimizers.Adam(learning_rate=0.0001)\n",
    "metric=tf.keras.metrics.categorical_accuracy\n",
    "model.compile(loss=loss_function,\n",
    "              optimizer=optimize,\n",
    "              metrics=[metric])"
   ],
   "metadata": {
    "collapsed": false
   },
   "id": "1d55404506060b6b"
  },
  {
   "cell_type": "code",
   "execution_count": null,
   "outputs": [],
   "source": [
    "history = model.fit( \n",
    "      train_generator,\n",
    "     steps_per_epoch=(len(os.listdir(train_aeroplane_dir)) + len(os.listdir(train_bird_dir)) + len(\n",
    "       os.listdir(train_car_dir)) + len(os.listdir(train_cat_dir))) // batch_size,\n",
    "      epochs=20,\n",
    "      validation_data=test_generator,\n",
    "      validation_freq=1)"
   ],
   "metadata": {
    "collapsed": false
   },
   "id": "ed4434e8f8e8e067"
  },
  {
   "cell_type": "code",
   "execution_count": null,
   "outputs": [],
   "source": [
    "model.save('/aiffel/aiffel/cifar_10_small/multi_classification_augumentation_model.hdf5')\n",
    "\n",
    "acc = history.history['categorical_accuracy'] \n",
    "val_acc = history.history['val_categorical_accuracy']\n",
    "loss = history.history['loss']\n",
    "val_loss = history.history['val_loss']"
   ],
   "metadata": {
    "collapsed": false
   },
   "id": "c9b192e5700a1661"
  },
  {
   "cell_type": "code",
   "execution_count": null,
   "outputs": [],
   "source": [
    "# # 학습한 결과 시각화 \n",
    "epochs = range(len(acc))\n",
    "\n",
    "plt.plot(epochs, acc, 'bo', label='Training acc')\n",
    "plt.plot(epochs, val_acc, 'b', label='Validation acc')\n",
    "plt.title('Training and validation accuracy')\n",
    "plt.legend()\n",
    "\n",
    "plt.figure()\n",
    "\n",
    "plt.plot(epochs, loss, 'bo', label='Training loss')\n",
    "plt.plot(epochs, val_loss, 'b', label='Validation loss')\n",
    "plt.title('Training and validation loss')\n",
    "plt.legend()\n",
    "\n",
    "plt.show()"
   ],
   "metadata": {
    "collapsed": false
   },
   "id": "111b66e5cd50899b"
  }
 ],
 "metadata": {
  "kernelspec": {
   "display_name": "Python 3",
   "language": "python",
   "name": "python3"
  },
  "language_info": {
   "codemirror_mode": {
    "name": "ipython",
    "version": 2
   },
   "file_extension": ".py",
   "mimetype": "text/x-python",
   "name": "python",
   "nbconvert_exporter": "python",
   "pygments_lexer": "ipython2",
   "version": "2.7.6"
  }
 },
 "nbformat": 4,
 "nbformat_minor": 5
}
