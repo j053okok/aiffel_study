{
 "cells": [
  {
   "cell_type": "code",
   "execution_count": 1,
   "outputs": [],
   "source": [
    "import pandas as pd\n",
    "import numpy as np\n",
    "import matplotlib.pyplot as plt\n",
    "import seaborn as sns"
   ],
   "metadata": {
    "collapsed": false,
    "ExecuteTime": {
     "end_time": "2023-08-22T07:56:41.425000400Z",
     "start_time": "2023-08-22T07:56:40.805073900Z"
    }
   }
  },
  {
   "cell_type": "code",
   "execution_count": 2,
   "outputs": [],
   "source": [
    "custom_params = {\"axes.spines.right\": False, \"axes.spines.top\": False}\n",
    "sns.set_theme(context='notebook',\n",
    "              style='darkgrid',\n",
    "              palette='pastel',\n",
    "              font='Malgun Gothic',\n",
    "              rc=custom_params)"
   ],
   "metadata": {
    "collapsed": false,
    "ExecuteTime": {
     "end_time": "2023-08-22T07:56:50.513961800Z",
     "start_time": "2023-08-22T07:56:50.507953Z"
    }
   }
  },
  {
   "cell_type": "code",
   "execution_count": 3,
   "outputs": [
    {
     "data": {
      "text/plain": "      install  Time_stamp   Game_Name Status  Payment   Customer_ID\n0  2022-01-08  2022-02-05  MineGround   play     4900    facilis140\n1  2022-01-05  2022-02-17  MineGround   play    29900    debitis994\n2  2022-01-29  2022-02-06  MineGround   play     4900   possimus246\n3  2022-01-09  2022-02-05  MineGround   play      900  occaecati138\n4  2022-01-08  2022-02-01  MineGround   play      900   corrupti325",
      "text/html": "<div>\n<style scoped>\n    .dataframe tbody tr th:only-of-type {\n        vertical-align: middle;\n    }\n\n    .dataframe tbody tr th {\n        vertical-align: top;\n    }\n\n    .dataframe thead th {\n        text-align: right;\n    }\n</style>\n<table border=\"1\" class=\"dataframe\">\n  <thead>\n    <tr style=\"text-align: right;\">\n      <th></th>\n      <th>install</th>\n      <th>Time_stamp</th>\n      <th>Game_Name</th>\n      <th>Status</th>\n      <th>Payment</th>\n      <th>Customer_ID</th>\n    </tr>\n  </thead>\n  <tbody>\n    <tr>\n      <th>0</th>\n      <td>2022-01-08</td>\n      <td>2022-02-05</td>\n      <td>MineGround</td>\n      <td>play</td>\n      <td>4900</td>\n      <td>facilis140</td>\n    </tr>\n    <tr>\n      <th>1</th>\n      <td>2022-01-05</td>\n      <td>2022-02-17</td>\n      <td>MineGround</td>\n      <td>play</td>\n      <td>29900</td>\n      <td>debitis994</td>\n    </tr>\n    <tr>\n      <th>2</th>\n      <td>2022-01-29</td>\n      <td>2022-02-06</td>\n      <td>MineGround</td>\n      <td>play</td>\n      <td>4900</td>\n      <td>possimus246</td>\n    </tr>\n    <tr>\n      <th>3</th>\n      <td>2022-01-09</td>\n      <td>2022-02-05</td>\n      <td>MineGround</td>\n      <td>play</td>\n      <td>900</td>\n      <td>occaecati138</td>\n    </tr>\n    <tr>\n      <th>4</th>\n      <td>2022-01-08</td>\n      <td>2022-02-01</td>\n      <td>MineGround</td>\n      <td>play</td>\n      <td>900</td>\n      <td>corrupti325</td>\n    </tr>\n  </tbody>\n</table>\n</div>"
     },
     "execution_count": 3,
     "metadata": {},
     "output_type": "execute_result"
    }
   ],
   "source": [
    "sales_data = pd.read_csv(\"sales_6.csv\")\n",
    "sales_data.head()"
   ],
   "metadata": {
    "collapsed": false,
    "ExecuteTime": {
     "end_time": "2023-08-22T07:57:18.935630500Z",
     "start_time": "2023-08-22T07:57:18.809675300Z"
    }
   }
  },
  {
   "cell_type": "code",
   "execution_count": null,
   "outputs": [],
   "source": [],
   "metadata": {
    "collapsed": false
   }
  }
 ],
 "metadata": {
  "kernelspec": {
   "display_name": "Python 3",
   "language": "python",
   "name": "python3"
  },
  "language_info": {
   "codemirror_mode": {
    "name": "ipython",
    "version": 2
   },
   "file_extension": ".py",
   "mimetype": "text/x-python",
   "name": "python",
   "nbconvert_exporter": "python",
   "pygments_lexer": "ipython2",
   "version": "2.7.6"
  }
 },
 "nbformat": 4,
 "nbformat_minor": 0
}
