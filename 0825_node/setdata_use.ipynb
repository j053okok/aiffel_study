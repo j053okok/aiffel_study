{
 "cells": [
  {
   "cell_type": "code",
   "execution_count": 1,
   "metadata": {
    "collapsed": true,
    "ExecuteTime": {
     "end_time": "2023-08-25T06:45:40.664936900Z",
     "start_time": "2023-08-25T06:45:40.364055900Z"
    }
   },
   "outputs": [],
   "source": [
    "import pandas as pd\n",
    "from sklearn.model_selection import train_test_split\n",
    "from sklearn.tree import DecisionTreeClassifier\n",
    "from sklearn.metrics import confusion_matrix\n",
    "from sklearn.metrics import classification_report"
   ]
  },
  {
   "cell_type": "code",
   "execution_count": 2,
   "outputs": [
    {
     "data": {
      "text/plain": "46"
     },
     "execution_count": 2,
     "metadata": {},
     "output_type": "execute_result"
    }
   ],
   "source": [
    "pokemon = pd.read_csv(\"pokemon_set.csv\")\n",
    "pokemon.columns.nunique()"
   ],
   "metadata": {
    "collapsed": false,
    "ExecuteTime": {
     "end_time": "2023-08-25T06:45:43.795497Z",
     "start_time": "2023-08-25T06:45:43.771507200Z"
    }
   }
  },
  {
   "cell_type": "code",
   "execution_count": 3,
   "outputs": [
    {
     "data": {
      "text/plain": "Index(['Unnamed: 0', '#', 'Name', 'Type 1', 'Type 2', 'Total', 'HP', 'Attack',\n       'Defense', 'Sp. Atk', 'Sp. Def', 'Speed', 'Generation', 'Legendary',\n       'name_count', 'long_name', 'Name_nospace', 'name_isalpha', 'Forme',\n       'Mega', 'Deoxys', 'Mewtwo', 'Incarnate', 'Therian', 'Kyurem', 'Latias',\n       'Latios', 'Kyogre', 'Steel', 'Water', 'Fairy', 'Fighting', 'Electric',\n       'Ground', 'Poison', 'Rock', 'Bug', 'Fire', 'Psychic', 'Ice', 'Flying',\n       'Ghost', 'Grass', 'Normal', 'Dragon', 'Dark'],\n      dtype='object')"
     },
     "execution_count": 3,
     "metadata": {},
     "output_type": "execute_result"
    }
   ],
   "source": [
    "pokemon.columns"
   ],
   "metadata": {
    "collapsed": false,
    "ExecuteTime": {
     "end_time": "2023-08-25T06:45:55.871989700Z",
     "start_time": "2023-08-25T06:45:55.777821100Z"
    }
   }
  },
  {
   "cell_type": "code",
   "execution_count": 4,
   "outputs": [],
   "source": [
    "features = pokemon.columns.tolist()\n",
    "for i in ['Unnamed: 0', '#', 'Name', 'Type 1', 'Type 2', 'Legendary', 'Name_nospace', 'name_isalpha']:\n",
    "    features.remove(i)"
   ],
   "metadata": {
    "collapsed": false,
    "ExecuteTime": {
     "end_time": "2023-08-25T06:46:03.758850300Z",
     "start_time": "2023-08-25T06:46:03.758850300Z"
    }
   }
  },
  {
   "cell_type": "code",
   "execution_count": 5,
   "outputs": [
    {
     "name": "stdout",
     "output_type": "stream",
     "text": [
      "['Total', 'HP', 'Attack', 'Defense', 'Sp. Atk', 'Sp. Def', 'Speed', 'Generation', 'name_count', 'long_name', 'Forme', 'Mega', 'Deoxys', 'Mewtwo', 'Incarnate', 'Therian', 'Kyurem', 'Latias', 'Latios', 'Kyogre', 'Steel', 'Water', 'Fairy', 'Fighting', 'Electric', 'Ground', 'Poison', 'Rock', 'Bug', 'Fire', 'Psychic', 'Ice', 'Flying', 'Ghost', 'Grass', 'Normal', 'Dragon', 'Dark'] 38\n"
     ]
    }
   ],
   "source": [
    "print(features, len(features))"
   ],
   "metadata": {
    "collapsed": false,
    "ExecuteTime": {
     "end_time": "2023-08-25T06:46:12.489117300Z",
     "start_time": "2023-08-25T06:46:12.487606800Z"
    }
   }
  },
  {
   "cell_type": "code",
   "execution_count": 6,
   "outputs": [],
   "source": [
    "target = \"Legendary\""
   ],
   "metadata": {
    "collapsed": false,
    "ExecuteTime": {
     "end_time": "2023-08-25T06:46:18.289033200Z",
     "start_time": "2023-08-25T06:46:18.289033200Z"
    }
   }
  },
  {
   "cell_type": "code",
   "execution_count": 7,
   "outputs": [
    {
     "data": {
      "text/plain": "   Total  HP  Attack  Defense  Sp. Atk  Sp. Def  Speed  Generation  \\\n0    318  45      49       49       65       65     45           1   \n1    405  60      62       63       80       80     60           1   \n2    525  80      82       83      100      100     80           1   \n3    625  80     100      123      122      120     80           1   \n4    309  39      52       43       60       50     65           1   \n\n   name_count  long_name  ...    Bug   Fire  Psychic    Ice  Flying  Ghost  \\\n0           9      False  ...  False  False    False  False   False  False   \n1           7      False  ...  False  False    False  False   False  False   \n2           8      False  ...  False  False    False  False   False  False   \n3          21       True  ...  False  False    False  False   False  False   \n4          10       True  ...  False   True    False  False   False  False   \n\n   Grass  Normal  Dragon   Dark  \n0   True   False   False  False  \n1   True   False   False  False  \n2   True   False   False  False  \n3   True   False   False  False  \n4  False   False   False  False  \n\n[5 rows x 38 columns]",
      "text/html": "<div>\n<style scoped>\n    .dataframe tbody tr th:only-of-type {\n        vertical-align: middle;\n    }\n\n    .dataframe tbody tr th {\n        vertical-align: top;\n    }\n\n    .dataframe thead th {\n        text-align: right;\n    }\n</style>\n<table border=\"1\" class=\"dataframe\">\n  <thead>\n    <tr style=\"text-align: right;\">\n      <th></th>\n      <th>Total</th>\n      <th>HP</th>\n      <th>Attack</th>\n      <th>Defense</th>\n      <th>Sp. Atk</th>\n      <th>Sp. Def</th>\n      <th>Speed</th>\n      <th>Generation</th>\n      <th>name_count</th>\n      <th>long_name</th>\n      <th>...</th>\n      <th>Bug</th>\n      <th>Fire</th>\n      <th>Psychic</th>\n      <th>Ice</th>\n      <th>Flying</th>\n      <th>Ghost</th>\n      <th>Grass</th>\n      <th>Normal</th>\n      <th>Dragon</th>\n      <th>Dark</th>\n    </tr>\n  </thead>\n  <tbody>\n    <tr>\n      <th>0</th>\n      <td>318</td>\n      <td>45</td>\n      <td>49</td>\n      <td>49</td>\n      <td>65</td>\n      <td>65</td>\n      <td>45</td>\n      <td>1</td>\n      <td>9</td>\n      <td>False</td>\n      <td>...</td>\n      <td>False</td>\n      <td>False</td>\n      <td>False</td>\n      <td>False</td>\n      <td>False</td>\n      <td>False</td>\n      <td>True</td>\n      <td>False</td>\n      <td>False</td>\n      <td>False</td>\n    </tr>\n    <tr>\n      <th>1</th>\n      <td>405</td>\n      <td>60</td>\n      <td>62</td>\n      <td>63</td>\n      <td>80</td>\n      <td>80</td>\n      <td>60</td>\n      <td>1</td>\n      <td>7</td>\n      <td>False</td>\n      <td>...</td>\n      <td>False</td>\n      <td>False</td>\n      <td>False</td>\n      <td>False</td>\n      <td>False</td>\n      <td>False</td>\n      <td>True</td>\n      <td>False</td>\n      <td>False</td>\n      <td>False</td>\n    </tr>\n    <tr>\n      <th>2</th>\n      <td>525</td>\n      <td>80</td>\n      <td>82</td>\n      <td>83</td>\n      <td>100</td>\n      <td>100</td>\n      <td>80</td>\n      <td>1</td>\n      <td>8</td>\n      <td>False</td>\n      <td>...</td>\n      <td>False</td>\n      <td>False</td>\n      <td>False</td>\n      <td>False</td>\n      <td>False</td>\n      <td>False</td>\n      <td>True</td>\n      <td>False</td>\n      <td>False</td>\n      <td>False</td>\n    </tr>\n    <tr>\n      <th>3</th>\n      <td>625</td>\n      <td>80</td>\n      <td>100</td>\n      <td>123</td>\n      <td>122</td>\n      <td>120</td>\n      <td>80</td>\n      <td>1</td>\n      <td>21</td>\n      <td>True</td>\n      <td>...</td>\n      <td>False</td>\n      <td>False</td>\n      <td>False</td>\n      <td>False</td>\n      <td>False</td>\n      <td>False</td>\n      <td>True</td>\n      <td>False</td>\n      <td>False</td>\n      <td>False</td>\n    </tr>\n    <tr>\n      <th>4</th>\n      <td>309</td>\n      <td>39</td>\n      <td>52</td>\n      <td>43</td>\n      <td>60</td>\n      <td>50</td>\n      <td>65</td>\n      <td>1</td>\n      <td>10</td>\n      <td>True</td>\n      <td>...</td>\n      <td>False</td>\n      <td>True</td>\n      <td>False</td>\n      <td>False</td>\n      <td>False</td>\n      <td>False</td>\n      <td>False</td>\n      <td>False</td>\n      <td>False</td>\n      <td>False</td>\n    </tr>\n  </tbody>\n</table>\n<p>5 rows × 38 columns</p>\n</div>"
     },
     "execution_count": 7,
     "metadata": {},
     "output_type": "execute_result"
    }
   ],
   "source": [
    "X = pokemon[features]\n",
    "X.head()"
   ],
   "metadata": {
    "collapsed": false,
    "ExecuteTime": {
     "end_time": "2023-08-25T06:46:23.450391500Z",
     "start_time": "2023-08-25T06:46:23.418999600Z"
    }
   }
  },
  {
   "cell_type": "code",
   "execution_count": 8,
   "outputs": [
    {
     "data": {
      "text/plain": "0    False\n1    False\n2    False\n3    False\n4    False\nName: Legendary, dtype: bool"
     },
     "execution_count": 8,
     "metadata": {},
     "output_type": "execute_result"
    }
   ],
   "source": [
    "y = pokemon[target]\n",
    "y.head()"
   ],
   "metadata": {
    "collapsed": false,
    "ExecuteTime": {
     "end_time": "2023-08-25T06:46:35.615652500Z",
     "start_time": "2023-08-25T06:46:35.611626700Z"
    }
   }
  },
  {
   "cell_type": "code",
   "execution_count": 9,
   "outputs": [],
   "source": [
    "X_train, X_test, y_train, y_test = train_test_split(X, y, test_size=0.2, random_state=15)\n",
    "model = DecisionTreeClassifier(random_state=25)\n",
    "model.fit(X_train, y_train)\n",
    "y_pred = model.predict(X_test)"
   ],
   "metadata": {
    "collapsed": false,
    "ExecuteTime": {
     "end_time": "2023-08-25T06:46:49.519597300Z",
     "start_time": "2023-08-25T06:46:49.503905100Z"
    }
   }
  },
  {
   "cell_type": "code",
   "execution_count": 10,
   "outputs": [
    {
     "data": {
      "text/plain": "array([[142,   5],\n       [  1,  12]], dtype=int64)"
     },
     "execution_count": 10,
     "metadata": {},
     "output_type": "execute_result"
    }
   ],
   "source": [
    "confusion_matrix(y_test, y_pred)"
   ],
   "metadata": {
    "collapsed": false,
    "ExecuteTime": {
     "end_time": "2023-08-25T06:46:54.412892700Z",
     "start_time": "2023-08-25T06:46:54.412892700Z"
    }
   }
  },
  {
   "cell_type": "code",
   "execution_count": 11,
   "outputs": [
    {
     "name": "stdout",
     "output_type": "stream",
     "text": [
      "              precision    recall  f1-score   support\n",
      "\n",
      "       False       0.99      0.97      0.98       147\n",
      "        True       0.71      0.92      0.80        13\n",
      "\n",
      "    accuracy                           0.96       160\n",
      "   macro avg       0.85      0.94      0.89       160\n",
      "weighted avg       0.97      0.96      0.96       160\n",
      "\n"
     ]
    }
   ],
   "source": [
    "print(classification_report(y_test, y_pred))"
   ],
   "metadata": {
    "collapsed": false,
    "ExecuteTime": {
     "end_time": "2023-08-25T06:46:59.980955900Z",
     "start_time": "2023-08-25T06:46:59.965222200Z"
    }
   }
  },
  {
   "cell_type": "code",
   "execution_count": null,
   "outputs": [],
   "source": [],
   "metadata": {
    "collapsed": false
   }
  }
 ],
 "metadata": {
  "kernelspec": {
   "display_name": "Python 3",
   "language": "python",
   "name": "python3"
  },
  "language_info": {
   "codemirror_mode": {
    "name": "ipython",
    "version": 2
   },
   "file_extension": ".py",
   "mimetype": "text/x-python",
   "name": "python",
   "nbconvert_exporter": "python",
   "pygments_lexer": "ipython2",
   "version": "2.7.6"
  }
 },
 "nbformat": 4,
 "nbformat_minor": 0
}
