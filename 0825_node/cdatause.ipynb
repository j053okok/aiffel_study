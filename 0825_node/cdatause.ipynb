{
 "cells": [
  {
   "cell_type": "code",
   "execution_count": 38,
   "metadata": {
    "collapsed": true,
    "ExecuteTime": {
     "end_time": "2023-08-25T06:32:50.061334200Z",
     "start_time": "2023-08-25T06:32:50.060825600Z"
    }
   },
   "outputs": [],
   "source": [
    "import pandas as pd\n",
    "from sklearn.model_selection import train_test_split\n",
    "from sklearn.tree import DecisionTreeClassifier\n",
    "from sklearn.metrics import confusion_matrix\n",
    "from sklearn.metrics import classification_report"
   ]
  },
  {
   "cell_type": "code",
   "execution_count": 39,
   "outputs": [
    {
     "data": {
      "text/plain": "46"
     },
     "execution_count": 39,
     "metadata": {},
     "output_type": "execute_result"
    }
   ],
   "source": [
    "pokemon = pd.read_csv(\"pokemon_c.csv\")\n",
    "pokemon.columns.nunique()"
   ],
   "metadata": {
    "collapsed": false,
    "ExecuteTime": {
     "end_time": "2023-08-25T06:32:50.423571700Z",
     "start_time": "2023-08-25T06:32:50.391999100Z"
    }
   }
  },
  {
   "cell_type": "code",
   "execution_count": 40,
   "outputs": [
    {
     "name": "stdout",
     "output_type": "stream",
     "text": [
      "<class 'pandas.core.frame.DataFrame'>\n",
      "RangeIndex: 800 entries, 0 to 799\n",
      "Data columns (total 46 columns):\n",
      " #   Column        Non-Null Count  Dtype \n",
      "---  ------        --------------  ----- \n",
      " 0   Unnamed: 0    800 non-null    int64 \n",
      " 1   #             800 non-null    int64 \n",
      " 2   Name          800 non-null    object\n",
      " 3   Type 1        800 non-null    object\n",
      " 4   Type 2        414 non-null    object\n",
      " 5   Total         800 non-null    int64 \n",
      " 6   HP            800 non-null    int64 \n",
      " 7   Attack        800 non-null    int64 \n",
      " 8   Defense       800 non-null    int64 \n",
      " 9   Sp. Atk       800 non-null    int64 \n",
      " 10  Sp. Def       800 non-null    int64 \n",
      " 11  Speed         800 non-null    int64 \n",
      " 12  Generation    800 non-null    int64 \n",
      " 13  Legendary     800 non-null    bool  \n",
      " 14  name_count    800 non-null    int64 \n",
      " 15  long_name     800 non-null    bool  \n",
      " 16  Name_nospace  800 non-null    object\n",
      " 17  name_isalpha  800 non-null    bool  \n",
      " 18  Forme         800 non-null    bool  \n",
      " 19  Mega          800 non-null    bool  \n",
      " 20  Mewtwo        800 non-null    bool  \n",
      " 21  Kyurem        800 non-null    bool  \n",
      " 22  Deoxys        800 non-null    bool  \n",
      " 23  Hoopa         800 non-null    bool  \n",
      " 24  Latias        800 non-null    bool  \n",
      " 25  Latios        800 non-null    bool  \n",
      " 26  Kyogre        800 non-null    bool  \n",
      " 27  Groudon       800 non-null    bool  \n",
      " 28  Steel         800 non-null    bool  \n",
      " 29  Water         800 non-null    bool  \n",
      " 30  Fairy         800 non-null    bool  \n",
      " 31  Fighting      800 non-null    bool  \n",
      " 32  Electric      800 non-null    bool  \n",
      " 33  Ground        800 non-null    bool  \n",
      " 34  Poison        800 non-null    bool  \n",
      " 35  Rock          800 non-null    bool  \n",
      " 36  Bug           800 non-null    bool  \n",
      " 37  Fire          800 non-null    bool  \n",
      " 38  Psychic       800 non-null    bool  \n",
      " 39  Ice           800 non-null    bool  \n",
      " 40  Flying        800 non-null    bool  \n",
      " 41  Ghost         800 non-null    bool  \n",
      " 42  Grass         800 non-null    bool  \n",
      " 43  Normal        800 non-null    bool  \n",
      " 44  Dragon        800 non-null    bool  \n",
      " 45  Dark          800 non-null    bool  \n",
      "dtypes: bool(31), int64(11), object(4)\n",
      "memory usage: 118.1+ KB\n"
     ]
    }
   ],
   "source": [
    "pokemon.info()"
   ],
   "metadata": {
    "collapsed": false,
    "ExecuteTime": {
     "end_time": "2023-08-25T06:32:50.954938600Z",
     "start_time": "2023-08-25T06:32:50.923377100Z"
    }
   }
  },
  {
   "cell_type": "code",
   "execution_count": 41,
   "outputs": [
    {
     "data": {
      "text/plain": "   Unnamed: 0  #                   Name Type 1  Type 2  Total  HP  Attack  \\\n0           0  1              Bulbasaur  Grass  Poison    318  45      49   \n1           1  2                Ivysaur  Grass  Poison    405  60      62   \n2           2  3               Venusaur  Grass  Poison    525  80      82   \n3           3  3  VenusaurMega Venusaur  Grass  Poison    625  80     100   \n4           4  4             Charmander   Fire     NaN    309  39      52   \n\n   Defense  Sp. Atk  ...    Bug   Fire  Psychic    Ice  Flying  Ghost  Grass  \\\n0       49       65  ...  False  False    False  False   False  False   True   \n1       63       80  ...  False  False    False  False   False  False   True   \n2       83      100  ...  False  False    False  False   False  False   True   \n3      123      122  ...  False  False    False  False   False  False   True   \n4       43       60  ...  False   True    False  False   False  False  False   \n\n   Normal  Dragon   Dark  \n0   False   False  False  \n1   False   False  False  \n2   False   False  False  \n3   False   False  False  \n4   False   False  False  \n\n[5 rows x 46 columns]",
      "text/html": "<div>\n<style scoped>\n    .dataframe tbody tr th:only-of-type {\n        vertical-align: middle;\n    }\n\n    .dataframe tbody tr th {\n        vertical-align: top;\n    }\n\n    .dataframe thead th {\n        text-align: right;\n    }\n</style>\n<table border=\"1\" class=\"dataframe\">\n  <thead>\n    <tr style=\"text-align: right;\">\n      <th></th>\n      <th>Unnamed: 0</th>\n      <th>#</th>\n      <th>Name</th>\n      <th>Type 1</th>\n      <th>Type 2</th>\n      <th>Total</th>\n      <th>HP</th>\n      <th>Attack</th>\n      <th>Defense</th>\n      <th>Sp. Atk</th>\n      <th>...</th>\n      <th>Bug</th>\n      <th>Fire</th>\n      <th>Psychic</th>\n      <th>Ice</th>\n      <th>Flying</th>\n      <th>Ghost</th>\n      <th>Grass</th>\n      <th>Normal</th>\n      <th>Dragon</th>\n      <th>Dark</th>\n    </tr>\n  </thead>\n  <tbody>\n    <tr>\n      <th>0</th>\n      <td>0</td>\n      <td>1</td>\n      <td>Bulbasaur</td>\n      <td>Grass</td>\n      <td>Poison</td>\n      <td>318</td>\n      <td>45</td>\n      <td>49</td>\n      <td>49</td>\n      <td>65</td>\n      <td>...</td>\n      <td>False</td>\n      <td>False</td>\n      <td>False</td>\n      <td>False</td>\n      <td>False</td>\n      <td>False</td>\n      <td>True</td>\n      <td>False</td>\n      <td>False</td>\n      <td>False</td>\n    </tr>\n    <tr>\n      <th>1</th>\n      <td>1</td>\n      <td>2</td>\n      <td>Ivysaur</td>\n      <td>Grass</td>\n      <td>Poison</td>\n      <td>405</td>\n      <td>60</td>\n      <td>62</td>\n      <td>63</td>\n      <td>80</td>\n      <td>...</td>\n      <td>False</td>\n      <td>False</td>\n      <td>False</td>\n      <td>False</td>\n      <td>False</td>\n      <td>False</td>\n      <td>True</td>\n      <td>False</td>\n      <td>False</td>\n      <td>False</td>\n    </tr>\n    <tr>\n      <th>2</th>\n      <td>2</td>\n      <td>3</td>\n      <td>Venusaur</td>\n      <td>Grass</td>\n      <td>Poison</td>\n      <td>525</td>\n      <td>80</td>\n      <td>82</td>\n      <td>83</td>\n      <td>100</td>\n      <td>...</td>\n      <td>False</td>\n      <td>False</td>\n      <td>False</td>\n      <td>False</td>\n      <td>False</td>\n      <td>False</td>\n      <td>True</td>\n      <td>False</td>\n      <td>False</td>\n      <td>False</td>\n    </tr>\n    <tr>\n      <th>3</th>\n      <td>3</td>\n      <td>3</td>\n      <td>VenusaurMega Venusaur</td>\n      <td>Grass</td>\n      <td>Poison</td>\n      <td>625</td>\n      <td>80</td>\n      <td>100</td>\n      <td>123</td>\n      <td>122</td>\n      <td>...</td>\n      <td>False</td>\n      <td>False</td>\n      <td>False</td>\n      <td>False</td>\n      <td>False</td>\n      <td>False</td>\n      <td>True</td>\n      <td>False</td>\n      <td>False</td>\n      <td>False</td>\n    </tr>\n    <tr>\n      <th>4</th>\n      <td>4</td>\n      <td>4</td>\n      <td>Charmander</td>\n      <td>Fire</td>\n      <td>NaN</td>\n      <td>309</td>\n      <td>39</td>\n      <td>52</td>\n      <td>43</td>\n      <td>60</td>\n      <td>...</td>\n      <td>False</td>\n      <td>True</td>\n      <td>False</td>\n      <td>False</td>\n      <td>False</td>\n      <td>False</td>\n      <td>False</td>\n      <td>False</td>\n      <td>False</td>\n      <td>False</td>\n    </tr>\n  </tbody>\n</table>\n<p>5 rows × 46 columns</p>\n</div>"
     },
     "execution_count": 41,
     "metadata": {},
     "output_type": "execute_result"
    }
   ],
   "source": [
    "pokemon.head()"
   ],
   "metadata": {
    "collapsed": false,
    "ExecuteTime": {
     "end_time": "2023-08-25T06:32:51.509596500Z",
     "start_time": "2023-08-25T06:32:51.478260600Z"
    }
   }
  },
  {
   "cell_type": "code",
   "execution_count": 42,
   "outputs": [
    {
     "data": {
      "text/plain": "Index(['Unnamed: 0', '#', 'Name', 'Type 1', 'Type 2', 'Total', 'HP', 'Attack',\n       'Defense', 'Sp. Atk', 'Sp. Def', 'Speed', 'Generation', 'Legendary',\n       'name_count', 'long_name', 'Name_nospace', 'name_isalpha', 'Forme',\n       'Mega', 'Mewtwo', 'Kyurem', 'Deoxys', 'Hoopa', 'Latias', 'Latios',\n       'Kyogre', 'Groudon', 'Steel', 'Water', 'Fairy', 'Fighting', 'Electric',\n       'Ground', 'Poison', 'Rock', 'Bug', 'Fire', 'Psychic', 'Ice', 'Flying',\n       'Ghost', 'Grass', 'Normal', 'Dragon', 'Dark'],\n      dtype='object')"
     },
     "execution_count": 42,
     "metadata": {},
     "output_type": "execute_result"
    }
   ],
   "source": [
    "pokemon.columns"
   ],
   "metadata": {
    "collapsed": false,
    "ExecuteTime": {
     "end_time": "2023-08-25T06:32:52.494257Z",
     "start_time": "2023-08-25T06:32:52.478139600Z"
    }
   }
  },
  {
   "cell_type": "code",
   "execution_count": 43,
   "outputs": [],
   "source": [
    "features = pokemon.columns.tolist()\n",
    "for i in ['Unnamed: 0', '#', 'Name', 'Type 1', 'Type 2', 'Legendary', 'Name_nospace', 'name_isalpha']:\n",
    "    features.remove(i)"
   ],
   "metadata": {
    "collapsed": false,
    "ExecuteTime": {
     "end_time": "2023-08-25T06:32:52.962834900Z",
     "start_time": "2023-08-25T06:32:52.930917400Z"
    }
   }
  },
  {
   "cell_type": "code",
   "execution_count": 44,
   "outputs": [
    {
     "name": "stdout",
     "output_type": "stream",
     "text": [
      "['Total', 'HP', 'Attack', 'Defense', 'Sp. Atk', 'Sp. Def', 'Speed', 'Generation', 'name_count', 'long_name', 'Forme', 'Mega', 'Mewtwo', 'Kyurem', 'Deoxys', 'Hoopa', 'Latias', 'Latios', 'Kyogre', 'Groudon', 'Steel', 'Water', 'Fairy', 'Fighting', 'Electric', 'Ground', 'Poison', 'Rock', 'Bug', 'Fire', 'Psychic', 'Ice', 'Flying', 'Ghost', 'Grass', 'Normal', 'Dragon', 'Dark'] 38\n"
     ]
    }
   ],
   "source": [
    "print(features, len(features))"
   ],
   "metadata": {
    "collapsed": false,
    "ExecuteTime": {
     "end_time": "2023-08-25T06:32:54.753148600Z",
     "start_time": "2023-08-25T06:32:54.721555900Z"
    }
   }
  },
  {
   "cell_type": "code",
   "execution_count": 45,
   "outputs": [],
   "source": [
    "target = \"Legendary\""
   ],
   "metadata": {
    "collapsed": false,
    "ExecuteTime": {
     "end_time": "2023-08-25T06:32:58.350265500Z",
     "start_time": "2023-08-25T06:32:58.319402100Z"
    }
   }
  },
  {
   "cell_type": "code",
   "execution_count": 46,
   "outputs": [
    {
     "data": {
      "text/plain": "   Total  HP  Attack  Defense  Sp. Atk  Sp. Def  Speed  Generation  \\\n0    318  45      49       49       65       65     45           1   \n1    405  60      62       63       80       80     60           1   \n2    525  80      82       83      100      100     80           1   \n3    625  80     100      123      122      120     80           1   \n4    309  39      52       43       60       50     65           1   \n\n   name_count  long_name  ...    Bug   Fire  Psychic    Ice  Flying  Ghost  \\\n0           9      False  ...  False  False    False  False   False  False   \n1           7      False  ...  False  False    False  False   False  False   \n2           8      False  ...  False  False    False  False   False  False   \n3          21       True  ...  False  False    False  False   False  False   \n4          10       True  ...  False   True    False  False   False  False   \n\n   Grass  Normal  Dragon   Dark  \n0   True   False   False  False  \n1   True   False   False  False  \n2   True   False   False  False  \n3   True   False   False  False  \n4  False   False   False  False  \n\n[5 rows x 38 columns]",
      "text/html": "<div>\n<style scoped>\n    .dataframe tbody tr th:only-of-type {\n        vertical-align: middle;\n    }\n\n    .dataframe tbody tr th {\n        vertical-align: top;\n    }\n\n    .dataframe thead th {\n        text-align: right;\n    }\n</style>\n<table border=\"1\" class=\"dataframe\">\n  <thead>\n    <tr style=\"text-align: right;\">\n      <th></th>\n      <th>Total</th>\n      <th>HP</th>\n      <th>Attack</th>\n      <th>Defense</th>\n      <th>Sp. Atk</th>\n      <th>Sp. Def</th>\n      <th>Speed</th>\n      <th>Generation</th>\n      <th>name_count</th>\n      <th>long_name</th>\n      <th>...</th>\n      <th>Bug</th>\n      <th>Fire</th>\n      <th>Psychic</th>\n      <th>Ice</th>\n      <th>Flying</th>\n      <th>Ghost</th>\n      <th>Grass</th>\n      <th>Normal</th>\n      <th>Dragon</th>\n      <th>Dark</th>\n    </tr>\n  </thead>\n  <tbody>\n    <tr>\n      <th>0</th>\n      <td>318</td>\n      <td>45</td>\n      <td>49</td>\n      <td>49</td>\n      <td>65</td>\n      <td>65</td>\n      <td>45</td>\n      <td>1</td>\n      <td>9</td>\n      <td>False</td>\n      <td>...</td>\n      <td>False</td>\n      <td>False</td>\n      <td>False</td>\n      <td>False</td>\n      <td>False</td>\n      <td>False</td>\n      <td>True</td>\n      <td>False</td>\n      <td>False</td>\n      <td>False</td>\n    </tr>\n    <tr>\n      <th>1</th>\n      <td>405</td>\n      <td>60</td>\n      <td>62</td>\n      <td>63</td>\n      <td>80</td>\n      <td>80</td>\n      <td>60</td>\n      <td>1</td>\n      <td>7</td>\n      <td>False</td>\n      <td>...</td>\n      <td>False</td>\n      <td>False</td>\n      <td>False</td>\n      <td>False</td>\n      <td>False</td>\n      <td>False</td>\n      <td>True</td>\n      <td>False</td>\n      <td>False</td>\n      <td>False</td>\n    </tr>\n    <tr>\n      <th>2</th>\n      <td>525</td>\n      <td>80</td>\n      <td>82</td>\n      <td>83</td>\n      <td>100</td>\n      <td>100</td>\n      <td>80</td>\n      <td>1</td>\n      <td>8</td>\n      <td>False</td>\n      <td>...</td>\n      <td>False</td>\n      <td>False</td>\n      <td>False</td>\n      <td>False</td>\n      <td>False</td>\n      <td>False</td>\n      <td>True</td>\n      <td>False</td>\n      <td>False</td>\n      <td>False</td>\n    </tr>\n    <tr>\n      <th>3</th>\n      <td>625</td>\n      <td>80</td>\n      <td>100</td>\n      <td>123</td>\n      <td>122</td>\n      <td>120</td>\n      <td>80</td>\n      <td>1</td>\n      <td>21</td>\n      <td>True</td>\n      <td>...</td>\n      <td>False</td>\n      <td>False</td>\n      <td>False</td>\n      <td>False</td>\n      <td>False</td>\n      <td>False</td>\n      <td>True</td>\n      <td>False</td>\n      <td>False</td>\n      <td>False</td>\n    </tr>\n    <tr>\n      <th>4</th>\n      <td>309</td>\n      <td>39</td>\n      <td>52</td>\n      <td>43</td>\n      <td>60</td>\n      <td>50</td>\n      <td>65</td>\n      <td>1</td>\n      <td>10</td>\n      <td>True</td>\n      <td>...</td>\n      <td>False</td>\n      <td>True</td>\n      <td>False</td>\n      <td>False</td>\n      <td>False</td>\n      <td>False</td>\n      <td>False</td>\n      <td>False</td>\n      <td>False</td>\n      <td>False</td>\n    </tr>\n  </tbody>\n</table>\n<p>5 rows × 38 columns</p>\n</div>"
     },
     "execution_count": 46,
     "metadata": {},
     "output_type": "execute_result"
    }
   ],
   "source": [
    "X = pokemon[features]\n",
    "X.head()"
   ],
   "metadata": {
    "collapsed": false,
    "ExecuteTime": {
     "end_time": "2023-08-25T06:32:58.697276100Z",
     "start_time": "2023-08-25T06:32:58.634010200Z"
    }
   }
  },
  {
   "cell_type": "code",
   "execution_count": 47,
   "outputs": [
    {
     "data": {
      "text/plain": "0    False\n1    False\n2    False\n3    False\n4    False\nName: Legendary, dtype: bool"
     },
     "execution_count": 47,
     "metadata": {},
     "output_type": "execute_result"
    }
   ],
   "source": [
    "y = pokemon[target]\n",
    "y.head()"
   ],
   "metadata": {
    "collapsed": false,
    "ExecuteTime": {
     "end_time": "2023-08-25T06:33:01.350944200Z",
     "start_time": "2023-08-25T06:33:01.336097100Z"
    }
   }
  },
  {
   "cell_type": "code",
   "execution_count": 48,
   "outputs": [],
   "source": [
    "X_train, X_test, y_train, y_test = train_test_split(X, y, test_size=0.2, random_state=15)"
   ],
   "metadata": {
    "collapsed": false,
    "ExecuteTime": {
     "end_time": "2023-08-25T06:33:01.852637100Z",
     "start_time": "2023-08-25T06:33:01.820893300Z"
    }
   }
  },
  {
   "cell_type": "code",
   "execution_count": 49,
   "outputs": [],
   "source": [
    "model = DecisionTreeClassifier(random_state=25)\n",
    "model.fit(X_train, y_train)\n",
    "y_pred = model.predict(X_test)"
   ],
   "metadata": {
    "collapsed": false,
    "ExecuteTime": {
     "end_time": "2023-08-25T06:33:02.249218500Z",
     "start_time": "2023-08-25T06:33:02.217423900Z"
    }
   }
  },
  {
   "cell_type": "code",
   "execution_count": 50,
   "outputs": [
    {
     "data": {
      "text/plain": "array([[141,   6],\n       [  1,  12]], dtype=int64)"
     },
     "execution_count": 50,
     "metadata": {},
     "output_type": "execute_result"
    }
   ],
   "source": [
    "confusion_matrix(y_test, y_pred)"
   ],
   "metadata": {
    "collapsed": false,
    "ExecuteTime": {
     "end_time": "2023-08-25T06:33:03.456767700Z",
     "start_time": "2023-08-25T06:33:03.455311300Z"
    }
   }
  },
  {
   "cell_type": "code",
   "execution_count": 51,
   "outputs": [
    {
     "name": "stdout",
     "output_type": "stream",
     "text": [
      "              precision    recall  f1-score   support\n",
      "\n",
      "       False       0.99      0.96      0.98       147\n",
      "        True       0.67      0.92      0.77        13\n",
      "\n",
      "    accuracy                           0.96       160\n",
      "   macro avg       0.83      0.94      0.87       160\n",
      "weighted avg       0.97      0.96      0.96       160\n",
      "\n"
     ]
    }
   ],
   "source": [
    "print(classification_report(y_test, y_pred))"
   ],
   "metadata": {
    "collapsed": false,
    "ExecuteTime": {
     "end_time": "2023-08-25T06:33:15.100781300Z",
     "start_time": "2023-08-25T06:33:15.069632400Z"
    }
   }
  },
  {
   "cell_type": "code",
   "execution_count": null,
   "outputs": [],
   "source": [],
   "metadata": {
    "collapsed": false
   }
  }
 ],
 "metadata": {
  "kernelspec": {
   "display_name": "Python 3",
   "language": "python",
   "name": "python3"
  },
  "language_info": {
   "codemirror_mode": {
    "name": "ipython",
    "version": 2
   },
   "file_extension": ".py",
   "mimetype": "text/x-python",
   "name": "python",
   "nbconvert_exporter": "python",
   "pygments_lexer": "ipython2",
   "version": "2.7.6"
  }
 },
 "nbformat": 4,
 "nbformat_minor": 0
}
