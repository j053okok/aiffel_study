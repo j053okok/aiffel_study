{
 "cells": [
  {
   "cell_type": "code",
   "execution_count": 9,
   "outputs": [],
   "source": [
    "from collections import Counter\n",
    "from konlpy.tag import Komoran\n",
    "from wordcloud import WordCloud\n",
    "import matplotlib.pyplot as plt"
   ],
   "metadata": {
    "collapsed": false,
    "ExecuteTime": {
     "end_time": "2023-10-09T16:51:23.266097200Z",
     "start_time": "2023-10-09T16:51:23.260738200Z"
    }
   },
   "id": "e3b63c6ae031efbb"
  },
  {
   "cell_type": "code",
   "execution_count": 10,
   "outputs": [],
   "source": [
    "%config InlineBackend.figure_format = 'retina'"
   ],
   "metadata": {
    "collapsed": false,
    "ExecuteTime": {
     "end_time": "2023-10-09T16:51:23.697446700Z",
     "start_time": "2023-10-09T16:51:23.694169500Z"
    }
   },
   "id": "43f4491cf57ace4"
  },
  {
   "cell_type": "markdown",
   "source": [
    "#### 명사추출"
   ],
   "metadata": {
    "collapsed": false
   },
   "id": "d4fdb116a431ebf8"
  },
  {
   "cell_type": "code",
   "execution_count": 15,
   "outputs": [
    {
     "name": "stdout",
     "output_type": "stream",
     "text": [
      "통합보건교육은 이 대학만의 특화된 프로그램이다.\n",
      "통합 보건 교육 대학 특화 프로그램 \n",
      "\n",
      "이에 따라 전달된 후원금은 저소득층과 사회복지시설에 2억원 상당을, 중구 푸드뱅크 설립 지원에 6000만원, 저소득 긴급지원과 시설 등의 지원에 5000만원이 전해진다.\n",
      "전달 후원금 소득 사회 복지 시설 원 상당 중구 푸드뱅크 설립 지원 만원 소득 긴급 지원 시설 등 지원 만원 \n",
      "\n",
      "오리콤은 이에 모든 조직과 프로세스를 바꾸기로 했다.\n",
      "조직 프로세스 \n",
      "\n",
      "방사청은 이번 원가관리 안내서를 희망하는 기업에 무료로 배포할 예정이다.\n",
      "방사 청 이번 원가 관리 안내서 희망 기업 무료 배포 예정 \n",
      "\n",
      "그러나 이 건물은 겉에서 보는 것과는 달리 지어진 지가 꽤 오래되었는지 방이 약간 낡았다는 느낌을 주었다.\n",
      "건물 겉 것 지 방 느낌 \n",
      "\n",
      "그런데 황희찬이 다시 1부로 올라갈 수도 있다.\n",
      "황희찬 부 수 \n",
      "\n",
      "응답자 중 가장 많은 의견이었다.\n",
      "응답자 중 의견 \n",
      "\n",
      "P씨는 23일 오전 8시30분쯤 벤츠 승용차를 몰고 서울 마장동 내부순환로를 달리다 커브길에서 좌우 방호벽을 차례로 들이받았다.\n",
      "씨 일 오전 시 분 쯤 벤츠 승용차 서울 마장동 내부순환로 커브 길 좌우 방호벽 차례 \n",
      "\n",
      "니트는 당초 수능 영어를 2015년부터 대체할 계획이었지만 2019년까지 미뤄지는 등 난항을 겪어왔다.\n",
      "니트 당초 수능 영어 년 대체 계획 년 등 난항 \n",
      "\n",
      "세계 금융시장이 극심한 공포에서 잠시 벗어났다.\n",
      "세계 금융 시장 공포 \n"
     ]
    }
   ],
   "source": [
    "#print Noun in sentence\n",
    "#only 10 sentences\n",
    "\n",
    "komoran = Komoran()\n",
    "\n",
    "news = open(\"KCC150_100k.txt\",'r',encoding='utf8')\n",
    "news_lines = news.read().splitlines()\n",
    "\n",
    "for idx, line in enumerate(news_lines):\n",
    "    morph_result = komoran.pos(line) #형태소 분석\n",
    "    if idx == 10:\n",
    "        break\n",
    "    print(line)\n",
    "    for word, tag in morph_result:\n",
    "        if tag.startswith('NN'): #komoran은 NNP,NNG 가 명사\n",
    "            print(word, end=' ')\n",
    "\n",
    "    print('\\n') #next line\n",
    "\n",
    "news.close()"
   ],
   "metadata": {
    "collapsed": false,
    "ExecuteTime": {
     "end_time": "2023-10-09T16:52:24.579034800Z",
     "start_time": "2023-10-09T16:52:23.797793400Z"
    }
   },
   "id": "8dbc8f7d01b471f3"
  },
  {
   "cell_type": "markdown",
   "source": [
    "### 불용어 제거하기"
   ],
   "metadata": {
    "collapsed": false
   },
   "id": "baa318979f966dbd"
  },
  {
   "cell_type": "code",
   "execution_count": 17,
   "outputs": [
    {
     "name": "stdout",
     "output_type": "stream",
     "text": [
      "100\n",
      "['이', '있', '하', '것', '들', '그', '되', '수', '이', '보', '않', '없', '나', '사람', '주', '아니', '등', '같', '우리', '때', '년', '가', '한', '지', '대하', '오', '말', '일', '그렇', '위하', '때문', '그것', '두', '말하', '알', '그러나', '받', '못하', '일', '그런', '또', '문제', '더', '사회', '많', '그리고', '좋', '크', '따르', '중', '나오', '가지', '씨', '시키', '만들', '지금', '생각하', '그러', '속', '하나', '집', '살', '모르', '적', '월', '데', '자신', '안', '어떤', '내', '내', '경우', '명', '생각', '시간', '그녀', '다시', '이런', '앞', '보이', '번', '나', '다른', '어떻', '여자', '개', '전', '들', '사실', '이렇', '점', '싶', '말', '정도', '좀', '원', '잘', '통하', '소리', '놓']\n"
     ]
    }
   ],
   "source": [
    "# korean_stopword.txt안에 불용어 리스트가 들어가있음\n",
    "stopword_file = open(\"korean_stopword.txt\",'r',encoding='utf8')\n",
    "stopword_lines = stopword_file.read().splitlines()\n",
    "\n",
    "korean_stopword = [line.split()[0] for line in stopword_lines]\n",
    "print(len(korean_stopword))\n",
    "stopword_file.close()\n",
    "print(korean_stopword)"
   ],
   "metadata": {
    "collapsed": false,
    "ExecuteTime": {
     "end_time": "2023-10-09T16:55:14.298938800Z",
     "start_time": "2023-10-09T16:55:14.288741100Z"
    }
   },
   "id": "ec7deacb0028a224"
  },
  {
   "cell_type": "code",
   "execution_count": 18,
   "outputs": [
    {
     "name": "stdout",
     "output_type": "stream",
     "text": [
      "['물건', '은', '고', '는', '다', '.']\n"
     ]
    }
   ],
   "source": [
    "# 불용어 테스트\n",
    "sample_sent = '이 물건은 우리가 가지고 있는 것들 이다.'\n",
    "sample_token = komoran.morphs(sample_sent)\n",
    "\n",
    "output_token = []\n",
    "for token in sample_token:\n",
    "    if token not in korean_stopword:\n",
    "        output_token.append(token)\n",
    "\n",
    "print(output_token)"
   ],
   "metadata": {
    "collapsed": false,
    "ExecuteTime": {
     "end_time": "2023-10-09T16:56:29.038200200Z",
     "start_time": "2023-10-09T16:56:29.021140200Z"
    }
   },
   "id": "9e141ef77fb24782"
  },
  {
   "cell_type": "markdown",
   "source": [
    "#### 단어 빈도 카운팅"
   ],
   "metadata": {
    "collapsed": false
   },
   "id": "1930432135e943dd"
  },
  {
   "cell_type": "code",
   "execution_count": 20,
   "outputs": [
    {
     "name": "stdout",
     "output_type": "stream",
     "text": [
      "59074\n",
      "[('하', 109538), ('.', 99724), ('이', 86681), ('다', 75412), ('을', 72951), ('는', 66393), ('ㄴ', 66150), ('에', 50796), ('의', 45652), ('를', 42052)]\n"
     ]
    }
   ],
   "source": [
    "#뉴스 단어 기준으로 빈도를 카운팅\n",
    "#Counter 함수를 불러서 사용\n",
    "\n",
    "word_count = Counter()\n",
    "komoran = Komoran()\n",
    "\n",
    "news = open(\"KCC150_100k.txt\",'r',encoding='utf8')\n",
    "news_lines = news.read().splitlines()\n",
    "\n",
    "for line in news_lines:\n",
    "    word_count.update(komoran.morphs(line))\n",
    "\n",
    "print(len(word_count)) #전체 단어 개수 출력\n",
    "print(word_count.most_common(10)) #빈도 상위 10개 출력\n",
    "news.close()"
   ],
   "metadata": {
    "collapsed": false,
    "ExecuteTime": {
     "end_time": "2023-10-09T16:59:30.956760800Z",
     "start_time": "2023-10-09T16:58:48.404013400Z"
    }
   },
   "id": "97a0859bb4720db3"
  },
  {
   "cell_type": "code",
   "execution_count": 21,
   "outputs": [
    {
     "name": "stdout",
     "output_type": "stream",
     "text": [
      "112\n",
      "[('볼', 498), ('월', 121), ('암', 44), ('버스', 40), ('전원', 32), ('전기', 32), ('실내', 31), ('심', 26), ('메인', 25), ('패널', 22)]\n"
     ]
    }
   ],
   "source": [
    "#파일에서 단어 기준으로 빈도 카운팅\n",
    "#뉴스 기사에서 자동차 단어 찾기\n",
    "\n",
    "car_count = Counter()\n",
    "komoran = Komoran()\n",
    "\n",
    "news = open(\"KCC150_100k.txt\",'r',encoding='utf8')\n",
    "news_lines = news.read().splitlines()\n",
    "\n",
    "car_file = open(\"carDic.txt\", 'r',encoding='utf8')\n",
    "car_words_list = car_file.read().split('\\n')\n",
    "\n",
    "for line in news_lines:\n",
    "    line = line.split() #문장 to 단어\n",
    "    car_count.update([word for word in line if word in car_words_list])\n",
    "\n",
    "print(len(car_count)) #전체 단어 개수 출력\n",
    "print(car_count.most_common(10)) #빈도 상위 10개 출력\n",
    "news.close()\n",
    "car_file.close()"
   ],
   "metadata": {
    "collapsed": false,
    "ExecuteTime": {
     "end_time": "2023-10-09T17:00:45.444937400Z",
     "start_time": "2023-10-09T17:00:31.336937100Z"
    }
   },
   "id": "90207272e3c7f090"
  },
  {
   "cell_type": "code",
   "execution_count": null,
   "outputs": [],
   "source": [],
   "metadata": {
    "collapsed": false
   },
   "id": "4b9a8511c01ce233"
  }
 ],
 "metadata": {
  "kernelspec": {
   "display_name": "Python 3",
   "language": "python",
   "name": "python3"
  },
  "language_info": {
   "codemirror_mode": {
    "name": "ipython",
    "version": 2
   },
   "file_extension": ".py",
   "mimetype": "text/x-python",
   "name": "python",
   "nbconvert_exporter": "python",
   "pygments_lexer": "ipython2",
   "version": "2.7.6"
  }
 },
 "nbformat": 4,
 "nbformat_minor": 5
}
