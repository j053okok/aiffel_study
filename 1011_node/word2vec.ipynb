{
 "cells": [
  {
   "cell_type": "code",
   "execution_count": 13,
   "id": "initial_id",
   "metadata": {
    "collapsed": true,
    "ExecuteTime": {
     "end_time": "2023-10-10T23:25:23.313604600Z",
     "start_time": "2023-10-10T23:25:23.312607500Z"
    }
   },
   "outputs": [],
   "source": [
    "from collections import Counter\n",
    "import pandas as pd\n",
    "import gensim\n",
    "from konlpy.tag import Komoran\n",
    "import sentencepiece as spm\n",
    "import matplotlib.pyplot as plt\n",
    "import re\n",
    "\n",
    "plt.rc('font', family='malgun')\n",
    "%config InlineBackend.figure_format = 'retina'"
   ]
  },
  {
   "cell_type": "markdown",
   "source": [
    "### 토큰화한 데이터를 word2vec으로 표현하기"
   ],
   "metadata": {
    "collapsed": false
   },
   "id": "28f5e2f03b220f6a"
  },
  {
   "cell_type": "code",
   "execution_count": 14,
   "outputs": [
    {
     "data": {
      "text/plain": "  inspect_id  car_id  inspect_at inspect_type     price        description\n0  \\n2504316  8421.0  2020-03-09    타이어수리(후우)    6600.0     조수석뒤타이어 현장펑크수리\n1  \\n2401681  6654.0  2020-01-07         미션오일  120000.0      단양애니카_미션오일 교환\n2  \\n2384487  8563.0  2020-01-14        점화플러그   60000.0   당진세계모터스_점화플러그 교환\n3  \\n2384485  8563.0  2020-01-14        브레이크액   50000.0  당진세계모터스-브레이크오일 교환\n4  \\n2364371  6424.0  2020-01-06        브레이크액   40000.0  당진세계모터스_브레이크오일 교환",
      "text/html": "<div>\n<style scoped>\n    .dataframe tbody tr th:only-of-type {\n        vertical-align: middle;\n    }\n\n    .dataframe tbody tr th {\n        vertical-align: top;\n    }\n\n    .dataframe thead th {\n        text-align: right;\n    }\n</style>\n<table border=\"1\" class=\"dataframe\">\n  <thead>\n    <tr style=\"text-align: right;\">\n      <th></th>\n      <th>inspect_id</th>\n      <th>car_id</th>\n      <th>inspect_at</th>\n      <th>inspect_type</th>\n      <th>price</th>\n      <th>description</th>\n    </tr>\n  </thead>\n  <tbody>\n    <tr>\n      <th>0</th>\n      <td>\\n2504316</td>\n      <td>8421.0</td>\n      <td>2020-03-09</td>\n      <td>타이어수리(후우)</td>\n      <td>6600.0</td>\n      <td>조수석뒤타이어 현장펑크수리</td>\n    </tr>\n    <tr>\n      <th>1</th>\n      <td>\\n2401681</td>\n      <td>6654.0</td>\n      <td>2020-01-07</td>\n      <td>미션오일</td>\n      <td>120000.0</td>\n      <td>단양애니카_미션오일 교환</td>\n    </tr>\n    <tr>\n      <th>2</th>\n      <td>\\n2384487</td>\n      <td>8563.0</td>\n      <td>2020-01-14</td>\n      <td>점화플러그</td>\n      <td>60000.0</td>\n      <td>당진세계모터스_점화플러그 교환</td>\n    </tr>\n    <tr>\n      <th>3</th>\n      <td>\\n2384485</td>\n      <td>8563.0</td>\n      <td>2020-01-14</td>\n      <td>브레이크액</td>\n      <td>50000.0</td>\n      <td>당진세계모터스-브레이크오일 교환</td>\n    </tr>\n    <tr>\n      <th>4</th>\n      <td>\\n2364371</td>\n      <td>6424.0</td>\n      <td>2020-01-06</td>\n      <td>브레이크액</td>\n      <td>40000.0</td>\n      <td>당진세계모터스_브레이크오일 교환</td>\n    </tr>\n  </tbody>\n</table>\n</div>"
     },
     "execution_count": 14,
     "metadata": {},
     "output_type": "execute_result"
    }
   ],
   "source": [
    "memo_data = pd.read_csv(\"car_inspect_info.tsv\", sep='\\t', lineterminator='\\r')\n",
    "memo_data.head()"
   ],
   "metadata": {
    "collapsed": false,
    "ExecuteTime": {
     "end_time": "2023-10-10T23:25:24.655363300Z",
     "start_time": "2023-10-10T23:25:24.325184Z"
    }
   },
   "id": "15f604cfc99dd24f"
  },
  {
   "cell_type": "markdown",
   "source": [
    "* inspect_id : 수리요청 고유 번호\n",
    "* car_id : 자동차 고유 번호\n",
    "* inspect_at : 수리요청 발생 시간\n",
    "* inspect_type : 수리요청 카테고리\n",
    "* price : 수리 비용\n",
    "* description : 수리 관련 메모"
   ],
   "metadata": {
    "collapsed": false
   },
   "id": "749f46f9daeb3219"
  },
  {
   "cell_type": "code",
   "execution_count": 15,
   "outputs": [],
   "source": [
    "# inspect_id, car_id, price는 사용하지 않을 예정이니 지움\n",
    "memo_data = memo_data.drop(columns=['inspect_id', 'car_id', 'price'])"
   ],
   "metadata": {
    "collapsed": false,
    "ExecuteTime": {
     "end_time": "2023-10-10T23:25:25.854803800Z",
     "start_time": "2023-10-10T23:25:25.848070400Z"
    }
   },
   "id": "dfadfc2ce845adff"
  },
  {
   "cell_type": "code",
   "execution_count": 16,
   "outputs": [
    {
     "data": {
      "text/plain": "       inspect_at inspect_type description\n18            NaN          NaN         NaN\n20            NaN          NaN         NaN\n22            NaN          NaN         NaN\n58            NaN          NaN         NaN\n169           NaN          NaN         NaN\n...           ...          ...         ...\n272856        NaN          NaN         NaN\n272858        NaN          NaN         NaN\n272860        NaN          NaN         NaN\n272862        NaN          NaN         NaN\n272939        NaN          NaN         NaN\n\n[18976 rows x 3 columns]",
      "text/html": "<div>\n<style scoped>\n    .dataframe tbody tr th:only-of-type {\n        vertical-align: middle;\n    }\n\n    .dataframe tbody tr th {\n        vertical-align: top;\n    }\n\n    .dataframe thead th {\n        text-align: right;\n    }\n</style>\n<table border=\"1\" class=\"dataframe\">\n  <thead>\n    <tr style=\"text-align: right;\">\n      <th></th>\n      <th>inspect_at</th>\n      <th>inspect_type</th>\n      <th>description</th>\n    </tr>\n  </thead>\n  <tbody>\n    <tr>\n      <th>18</th>\n      <td>NaN</td>\n      <td>NaN</td>\n      <td>NaN</td>\n    </tr>\n    <tr>\n      <th>20</th>\n      <td>NaN</td>\n      <td>NaN</td>\n      <td>NaN</td>\n    </tr>\n    <tr>\n      <th>22</th>\n      <td>NaN</td>\n      <td>NaN</td>\n      <td>NaN</td>\n    </tr>\n    <tr>\n      <th>58</th>\n      <td>NaN</td>\n      <td>NaN</td>\n      <td>NaN</td>\n    </tr>\n    <tr>\n      <th>169</th>\n      <td>NaN</td>\n      <td>NaN</td>\n      <td>NaN</td>\n    </tr>\n    <tr>\n      <th>...</th>\n      <td>...</td>\n      <td>...</td>\n      <td>...</td>\n    </tr>\n    <tr>\n      <th>272856</th>\n      <td>NaN</td>\n      <td>NaN</td>\n      <td>NaN</td>\n    </tr>\n    <tr>\n      <th>272858</th>\n      <td>NaN</td>\n      <td>NaN</td>\n      <td>NaN</td>\n    </tr>\n    <tr>\n      <th>272860</th>\n      <td>NaN</td>\n      <td>NaN</td>\n      <td>NaN</td>\n    </tr>\n    <tr>\n      <th>272862</th>\n      <td>NaN</td>\n      <td>NaN</td>\n      <td>NaN</td>\n    </tr>\n    <tr>\n      <th>272939</th>\n      <td>NaN</td>\n      <td>NaN</td>\n      <td>NaN</td>\n    </tr>\n  </tbody>\n</table>\n<p>18976 rows × 3 columns</p>\n</div>"
     },
     "execution_count": 16,
     "metadata": {},
     "output_type": "execute_result"
    }
   ],
   "source": [
    "memo_data[memo_data.isna().any(axis=1)]"
   ],
   "metadata": {
    "collapsed": false,
    "ExecuteTime": {
     "end_time": "2023-10-10T23:25:26.492418Z",
     "start_time": "2023-10-10T23:25:26.464190Z"
    }
   },
   "id": "a185c3f6405f3e8a"
  },
  {
   "cell_type": "code",
   "execution_count": 17,
   "outputs": [
    {
     "data": {
      "text/plain": "   inspect_at inspect_type        description\n0  2020-03-09    타이어수리(후우)     조수석뒤타이어 현장펑크수리\n1  2020-01-07         미션오일      단양애니카_미션오일 교환\n2  2020-01-14        점화플러그   당진세계모터스_점화플러그 교환\n3  2020-01-14        브레이크액  당진세계모터스-브레이크오일 교환\n4  2020-01-06        브레이크액  당진세계모터스_브레이크오일 교환",
      "text/html": "<div>\n<style scoped>\n    .dataframe tbody tr th:only-of-type {\n        vertical-align: middle;\n    }\n\n    .dataframe tbody tr th {\n        vertical-align: top;\n    }\n\n    .dataframe thead th {\n        text-align: right;\n    }\n</style>\n<table border=\"1\" class=\"dataframe\">\n  <thead>\n    <tr style=\"text-align: right;\">\n      <th></th>\n      <th>inspect_at</th>\n      <th>inspect_type</th>\n      <th>description</th>\n    </tr>\n  </thead>\n  <tbody>\n    <tr>\n      <th>0</th>\n      <td>2020-03-09</td>\n      <td>타이어수리(후우)</td>\n      <td>조수석뒤타이어 현장펑크수리</td>\n    </tr>\n    <tr>\n      <th>1</th>\n      <td>2020-01-07</td>\n      <td>미션오일</td>\n      <td>단양애니카_미션오일 교환</td>\n    </tr>\n    <tr>\n      <th>2</th>\n      <td>2020-01-14</td>\n      <td>점화플러그</td>\n      <td>당진세계모터스_점화플러그 교환</td>\n    </tr>\n    <tr>\n      <th>3</th>\n      <td>2020-01-14</td>\n      <td>브레이크액</td>\n      <td>당진세계모터스-브레이크오일 교환</td>\n    </tr>\n    <tr>\n      <th>4</th>\n      <td>2020-01-06</td>\n      <td>브레이크액</td>\n      <td>당진세계모터스_브레이크오일 교환</td>\n    </tr>\n  </tbody>\n</table>\n</div>"
     },
     "execution_count": 17,
     "metadata": {},
     "output_type": "execute_result"
    }
   ],
   "source": [
    "memo_data = memo_data.dropna() # drop nan row\n",
    "memo_data.head()"
   ],
   "metadata": {
    "collapsed": false,
    "ExecuteTime": {
     "end_time": "2023-10-10T23:25:27.122475200Z",
     "start_time": "2023-10-10T23:25:27.094622800Z"
    }
   },
   "id": "bef8991cae3cd7b1"
  },
  {
   "cell_type": "code",
   "execution_count": 18,
   "outputs": [
    {
     "data": {
      "text/plain": "   inspect_at inspect_type        description   subword_description\n0  2020-03-09    타이어수리(후우)     조수석뒤타이어 현장펑크수리    조수석 뒤 타이어 현장 펑크 수리\n1  2020-01-07         미션오일      단양애니카_미션오일 교환      단양 애니 카 미션 오일 교환\n2  2020-01-14        점화플러그   당진세계모터스_점화플러그 교환   당진 세계 모터스 점화 플러그 교환\n3  2020-01-14        브레이크액  당진세계모터스-브레이크오일 교환  당진 세계 모터스 브레이크 오일 교환\n4  2020-01-06        브레이크액  당진세계모터스_브레이크오일 교환  당진 세계 모터스 브레이크 오일 교환",
      "text/html": "<div>\n<style scoped>\n    .dataframe tbody tr th:only-of-type {\n        vertical-align: middle;\n    }\n\n    .dataframe tbody tr th {\n        vertical-align: top;\n    }\n\n    .dataframe thead th {\n        text-align: right;\n    }\n</style>\n<table border=\"1\" class=\"dataframe\">\n  <thead>\n    <tr style=\"text-align: right;\">\n      <th></th>\n      <th>inspect_at</th>\n      <th>inspect_type</th>\n      <th>description</th>\n      <th>subword_description</th>\n    </tr>\n  </thead>\n  <tbody>\n    <tr>\n      <th>0</th>\n      <td>2020-03-09</td>\n      <td>타이어수리(후우)</td>\n      <td>조수석뒤타이어 현장펑크수리</td>\n      <td>조수석 뒤 타이어 현장 펑크 수리</td>\n    </tr>\n    <tr>\n      <th>1</th>\n      <td>2020-01-07</td>\n      <td>미션오일</td>\n      <td>단양애니카_미션오일 교환</td>\n      <td>단양 애니 카 미션 오일 교환</td>\n    </tr>\n    <tr>\n      <th>2</th>\n      <td>2020-01-14</td>\n      <td>점화플러그</td>\n      <td>당진세계모터스_점화플러그 교환</td>\n      <td>당진 세계 모터스 점화 플러그 교환</td>\n    </tr>\n    <tr>\n      <th>3</th>\n      <td>2020-01-14</td>\n      <td>브레이크액</td>\n      <td>당진세계모터스-브레이크오일 교환</td>\n      <td>당진 세계 모터스 브레이크 오일 교환</td>\n    </tr>\n    <tr>\n      <th>4</th>\n      <td>2020-01-06</td>\n      <td>브레이크액</td>\n      <td>당진세계모터스_브레이크오일 교환</td>\n      <td>당진 세계 모터스 브레이크 오일 교환</td>\n    </tr>\n  </tbody>\n</table>\n</div>"
     },
     "execution_count": 18,
     "metadata": {},
     "output_type": "execute_result"
    }
   ],
   "source": [
    "# 토큰화\n",
    "komoran = Komoran()\n",
    "\n",
    "# def to_token(df, col):\n",
    "# \n",
    "#     morph_description = []\n",
    "#     for idx, row in df.iterrows():\n",
    "#         memo = row[col]\n",
    "# \n",
    "#         try: \n",
    "#             morph_out = komoran.morphs(memo.replace('_',' ').replace('-',' ').replace('/',' ').replace('ㄴ',' ').replace('#',' ').replace('=',' ').replace(')',' ) ').replace('(',' ( '))\n",
    "#             morph_description.append(' '.join(morph_out))\n",
    "# \n",
    "#         except: \n",
    "#             df.drop(idx, inplace=True)\n",
    "# \n",
    "#     df[\"subword_description\"] = morph_description \n",
    "#     return df\n",
    "\n",
    "\n",
    "\n",
    "def to_token(df, col):\n",
    "    \n",
    "    morph_description = []\n",
    "    for idx, row in df.iterrows():\n",
    "        memo = row[col]\n",
    "\n",
    "        try:\n",
    "            # 정규식을 사용하여 특수 문자를 공백으로 대체\n",
    "            morph_out = komoran.morphs(re.sub(r'[^a-zA-Z0-9가-힣\\s]', ' ', memo))\n",
    "            morph_description.append(' '.join(morph_out))\n",
    "            \n",
    "        except:\n",
    "            df.drop(idx, inplace=True)\n",
    "\n",
    "    df[\"subword_description\"] = morph_description\n",
    "    return df\n",
    "\n",
    "memo_data = to_token(memo_data, \"description\")\n",
    "memo_data.head()"
   ],
   "metadata": {
    "collapsed": false,
    "ExecuteTime": {
     "end_time": "2023-10-10T23:26:19.304401100Z",
     "start_time": "2023-10-10T23:25:30.061623500Z"
    }
   },
   "id": "5f5720cd68c79b12"
  },
  {
   "cell_type": "code",
   "execution_count": 19,
   "outputs": [
    {
     "data": {
      "text/plain": "254064"
     },
     "execution_count": 19,
     "metadata": {},
     "output_type": "execute_result"
    }
   ],
   "source": [
    "len(memo_data)"
   ],
   "metadata": {
    "collapsed": false,
    "ExecuteTime": {
     "end_time": "2023-10-10T23:26:21.943119300Z",
     "start_time": "2023-10-10T23:26:21.935536300Z"
    }
   },
   "id": "f1c3a21f4de83da0"
  },
  {
   "cell_type": "code",
   "execution_count": 20,
   "outputs": [
    {
     "name": "stdout",
     "output_type": "stream",
     "text": [
      "254064\n"
     ]
    }
   ],
   "source": [
    "w2v_train = list(memo_data['subword_description'])\n",
    "w2v_train = [line.split() for line in w2v_train]\n",
    "\n",
    "print(len(w2v_train))"
   ],
   "metadata": {
    "collapsed": false,
    "ExecuteTime": {
     "end_time": "2023-10-10T23:26:22.637449200Z",
     "start_time": "2023-10-10T23:26:22.336137100Z"
    }
   },
   "id": "c2d6d89c2661c3bb"
  },
  {
   "cell_type": "code",
   "execution_count": 10,
   "outputs": [],
   "source": [
    "model = gensim.models.word2vec.Word2Vec(w2v_train, vector_size=300, window=5, min_count=1, epochs=10)\n",
    "# save Word2Vec\n",
    "model.save('vec300_w2v.model')\n",
    "# load Word2Vec\n",
    "model = gensim.models.Word2Vec.load('vec300_w2v.model')"
   ],
   "metadata": {
    "collapsed": false,
    "ExecuteTime": {
     "end_time": "2023-10-10T16:28:13.045413200Z",
     "start_time": "2023-10-10T16:28:04.895063800Z"
    }
   },
   "id": "6914e17c67abbdd2"
  },
  {
   "cell_type": "code",
   "execution_count": 11,
   "outputs": [
    {
     "data": {
      "text/plain": "[('디스크', 0.40206199884414673),\n ('파스', 0.39008191227912903),\n ('마모', 0.3850942850112915),\n ('도어스커프트립', 0.37463974952697754),\n ('모선', 0.3715605139732361),\n ('iq', 0.3695164620876312),\n ('부츠', 0.36856889724731445),\n ('허브', 0.3545205295085907),\n ('드럼', 0.3545028865337372),\n ('송정', 0.3533509075641632)]"
     },
     "execution_count": 11,
     "metadata": {},
     "output_type": "execute_result"
    }
   ],
   "source": [
    "# check word most similarity\n",
    "model.wv.most_similar('타이어', topn=10)"
   ],
   "metadata": {
    "collapsed": false,
    "ExecuteTime": {
     "end_time": "2023-10-10T16:28:22.837931200Z",
     "start_time": "2023-10-10T16:28:22.816299Z"
    }
   },
   "id": "9ea9da90360fca49"
  },
  {
   "cell_type": "code",
   "execution_count": 13,
   "outputs": [
    {
     "data": {
      "text/plain": "[('소거', 0.5868825912475586),\n ('배기가스', 0.5463823676109314),\n ('스캐너', 0.5398175716400146),\n ('2815401', 0.5196344256401062),\n ('DPF', 0.5039170384407043),\n ('에어백', 0.49814853072166443),\n ('스캔너', 0.496612012386322),\n ('과거', 0.485440194606781),\n ('스패너', 0.46449461579322815),\n ('진단', 0.4592687487602234)]"
     },
     "execution_count": 13,
     "metadata": {},
     "output_type": "execute_result"
    }
   ],
   "source": [
    "model.wv.most_similar('엔진', topn=10)"
   ],
   "metadata": {
    "collapsed": false,
    "ExecuteTime": {
     "end_time": "2023-10-10T16:29:09.403880900Z",
     "start_time": "2023-10-10T16:29:09.386521100Z"
    }
   },
   "id": "acf3b2ab4b9caa3a"
  },
  {
   "cell_type": "code",
   "execution_count": 14,
   "outputs": [],
   "source": [
    "# 상위 10개의 단어 중 하위에 위치한 단어는 유사성이 부족한 것을 볼 수 있음.\n",
    "# 이 부분을 보완하기 위해 top 10의 유사도 값을 모두 더하여 평균내고, 이 평균값을 기준(Threshold)로 정하여 기준보다 상위에 위치한 값을 사용하도록 할 수 있음\n",
    "\n",
    "def exclusion(word_list):\n",
    "    count = sum([score for _, score in word_list])\n",
    "    avg = count / len(word_list)\n",
    "  \n",
    "    up_word = []\n",
    "    for w, s in word_list:\n",
    "        if s > avg:\n",
    "            up_word.append(w)\n",
    "  \n",
    "    return up_word"
   ],
   "metadata": {
    "collapsed": false,
    "ExecuteTime": {
     "end_time": "2023-10-10T16:30:15.322699900Z",
     "start_time": "2023-10-10T16:30:15.306831900Z"
    }
   },
   "id": "258ffd31a32b0293"
  },
  {
   "cell_type": "code",
   "execution_count": 15,
   "outputs": [
    {
     "name": "stdout",
     "output_type": "stream",
     "text": [
      "1433\n"
     ]
    }
   ],
   "source": [
    "def load_car_dic():\n",
    "    car_dic_file = open('carDic.txt','r',encoding='utf8')\n",
    "    car_dic = set(car_dic_file.read().split('\\n'))\n",
    "    return car_dic\n",
    "\n",
    "car_dic = load_car_dic()\n",
    "print(len(car_dic)) #1433"
   ],
   "metadata": {
    "collapsed": false,
    "ExecuteTime": {
     "end_time": "2023-10-10T16:52:25.438194700Z",
     "start_time": "2023-10-10T16:52:25.429864200Z"
    }
   },
   "id": "33d2aea7482d2d9f"
  },
  {
   "cell_type": "code",
   "execution_count": 16,
   "outputs": [
    {
     "data": {
      "text/plain": "   inspect_at inspect_type        description\n0  2020-03-09    타이어수리(후우)     조수석뒤타이어 현장펑크수리\n1  2020-01-07         미션오일      단양애니카_미션오일 교환\n2  2020-01-14        점화플러그   당진세계모터스_점화플러그 교환\n3  2020-01-14        브레이크액  당진세계모터스-브레이크오일 교환\n4  2020-01-06        브레이크액  당진세계모터스_브레이크오일 교환",
      "text/html": "<div>\n<style scoped>\n    .dataframe tbody tr th:only-of-type {\n        vertical-align: middle;\n    }\n\n    .dataframe tbody tr th {\n        vertical-align: top;\n    }\n\n    .dataframe thead th {\n        text-align: right;\n    }\n</style>\n<table border=\"1\" class=\"dataframe\">\n  <thead>\n    <tr style=\"text-align: right;\">\n      <th></th>\n      <th>inspect_at</th>\n      <th>inspect_type</th>\n      <th>description</th>\n    </tr>\n  </thead>\n  <tbody>\n    <tr>\n      <th>0</th>\n      <td>2020-03-09</td>\n      <td>타이어수리(후우)</td>\n      <td>조수석뒤타이어 현장펑크수리</td>\n    </tr>\n    <tr>\n      <th>1</th>\n      <td>2020-01-07</td>\n      <td>미션오일</td>\n      <td>단양애니카_미션오일 교환</td>\n    </tr>\n    <tr>\n      <th>2</th>\n      <td>2020-01-14</td>\n      <td>점화플러그</td>\n      <td>당진세계모터스_점화플러그 교환</td>\n    </tr>\n    <tr>\n      <th>3</th>\n      <td>2020-01-14</td>\n      <td>브레이크액</td>\n      <td>당진세계모터스-브레이크오일 교환</td>\n    </tr>\n    <tr>\n      <th>4</th>\n      <td>2020-01-06</td>\n      <td>브레이크액</td>\n      <td>당진세계모터스_브레이크오일 교환</td>\n    </tr>\n  </tbody>\n</table>\n</div>"
     },
     "execution_count": 16,
     "metadata": {},
     "output_type": "execute_result"
    }
   ],
   "source": [
    "memo_data = pd.read_csv('car_inspect_info.tsv', sep='\\t', lineterminator='\\r')\n",
    "memo_data = memo_data.drop(columns=['inspect_id', 'car_id', 'price']) # drop columns\n",
    "memo_data = memo_data.dropna() # drop nan row\n",
    "memo_data.head()"
   ],
   "metadata": {
    "collapsed": false,
    "ExecuteTime": {
     "end_time": "2023-10-10T16:53:08.186514900Z",
     "start_time": "2023-10-10T16:53:07.855868100Z"
    }
   },
   "id": "7928af589ac15613"
  },
  {
   "cell_type": "code",
   "execution_count": 17,
   "outputs": [],
   "source": [
    "#sentenctePiece를 학습하기 위해서는 별도의 text 파일이 필요함\n",
    "#따라서 이를 만드는 부분\n",
    "with open('car_info_description.txt','w',encoding='utf8') as w, open('KCC150_100k.txt','r',encoding='utf8') as corpus:\n",
    "    w.write('\\n'.join(memo_data['description']))\n",
    "    for idx, snt in enumerate(corpus.readlines()):\n",
    "        w.write(snt)"
   ],
   "metadata": {
    "collapsed": false,
    "ExecuteTime": {
     "end_time": "2023-10-10T16:55:31.929476600Z",
     "start_time": "2023-10-10T16:55:31.773370800Z"
    }
   },
   "id": "5e13cc2a717da6fc"
  },
  {
   "cell_type": "code",
   "execution_count": null,
   "outputs": [],
   "source": [],
   "metadata": {
    "collapsed": false
   },
   "id": "2703aec9c33e8ef8"
  }
 ],
 "metadata": {
  "kernelspec": {
   "display_name": "Python 3",
   "language": "python",
   "name": "python3"
  },
  "language_info": {
   "codemirror_mode": {
    "name": "ipython",
    "version": 2
   },
   "file_extension": ".py",
   "mimetype": "text/x-python",
   "name": "python",
   "nbconvert_exporter": "python",
   "pygments_lexer": "ipython2",
   "version": "2.7.6"
  }
 },
 "nbformat": 4,
 "nbformat_minor": 5
}
