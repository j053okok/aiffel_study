{
 "cells": [
  {
   "cell_type": "code",
   "execution_count": 1,
   "id": "initial_id",
   "metadata": {
    "collapsed": true,
    "ExecuteTime": {
     "end_time": "2023-10-29T18:21:49.255599500Z",
     "start_time": "2023-10-29T18:21:48.987981Z"
    }
   },
   "outputs": [
    {
     "ename": "NameError",
     "evalue": "name 'tf' is not defined",
     "output_type": "error",
     "traceback": [
      "\u001B[1;31m---------------------------------------------------------------------------\u001B[0m",
      "\u001B[1;31mNameError\u001B[0m                                 Traceback (most recent call last)",
      "Cell \u001B[1;32mIn[1], line 2\u001B[0m\n\u001B[0;32m      1\u001B[0m \u001B[38;5;66;03m# 문제1-1. 이미지에 나온 VGG16 모델을 구현하세요.  \u001B[39;00m\n\u001B[1;32m----> 2\u001B[0m input_layer\u001B[38;5;241m=\u001B[39m\u001B[43mtf\u001B[49m\u001B[38;5;241m.\u001B[39mkeras\u001B[38;5;241m.\u001B[39mlayers\u001B[38;5;241m.\u001B[39mInput(shape\u001B[38;5;241m=\u001B[39m(\u001B[38;5;241m256\u001B[39m, \u001B[38;5;241m256\u001B[39m, \u001B[38;5;241m3\u001B[39m))\n\u001B[0;32m      3\u001B[0m x \u001B[38;5;241m=\u001B[39m tf\u001B[38;5;241m.\u001B[39mkeras\u001B[38;5;241m.\u001B[39mlayers\u001B[38;5;241m.\u001B[39mConv2D(filters\u001B[38;5;241m=\u001B[39m\u001B[38;5;241m64\u001B[39m, kernel_size\u001B[38;5;241m=\u001B[39m(\u001B[38;5;241m3\u001B[39m,\u001B[38;5;241m3\u001B[39m),padding\u001B[38;5;241m=\u001B[39m\u001B[38;5;124m\"\u001B[39m\u001B[38;5;124msame\u001B[39m\u001B[38;5;124m\"\u001B[39m, activation\u001B[38;5;241m=\u001B[39m\u001B[38;5;124m\"\u001B[39m\u001B[38;5;124mrelu\u001B[39m\u001B[38;5;124m\"\u001B[39m)(input_layer)\n\u001B[0;32m      4\u001B[0m x \u001B[38;5;241m=\u001B[39m tf\u001B[38;5;241m.\u001B[39mkeras\u001B[38;5;241m.\u001B[39mlayers\u001B[38;5;241m.\u001B[39mConv2D(filters\u001B[38;5;241m=\u001B[39m\u001B[38;5;241m64\u001B[39m, kernel_size\u001B[38;5;241m=\u001B[39m(\u001B[38;5;241m3\u001B[39m,\u001B[38;5;241m3\u001B[39m),padding\u001B[38;5;241m=\u001B[39m\u001B[38;5;124m\"\u001B[39m\u001B[38;5;124msame\u001B[39m\u001B[38;5;124m\"\u001B[39m, activation\u001B[38;5;241m=\u001B[39m\u001B[38;5;124m\"\u001B[39m\u001B[38;5;124mrelu\u001B[39m\u001B[38;5;124m\"\u001B[39m)(x)\n",
      "\u001B[1;31mNameError\u001B[0m: name 'tf' is not defined"
     ]
    }
   ],
   "source": [
    "# 문제1-1. 이미지에 나온 VGG16 모델을 구현하세요.  \n",
    "input_layer=tf.keras.layers.Input(shape=(256, 256, 3))\n",
    "x = tf.keras.layers.Conv2D(filters=64, kernel_size=(3,3),padding=\"same\", activation=\"relu\")(input_layer)\n",
    "x = tf.keras.layers.Conv2D(filters=64, kernel_size=(3,3),padding=\"same\", activation=\"relu\")(x)\n",
    "x = tf.keras.layers.MaxPool2D((2, 2))(x)\n",
    "x = tf.keras.layers.Conv2D(filters=128, kernel_size=(3,3),padding=\"same\", activation=\"relu\")(x)\n",
    "x = tf.keras.layers.Conv2D(filters=128, kernel_size=(3,3),padding=\"same\", activation=\"relu\")(x)\n",
    "x = tf.keras.layers.MaxPool2D((2, 2))(x)\n",
    "x = tf.keras.layers.Conv2D(filters=256, kernel_size=(3,3),padding=\"same\", activation=\"relu\")(x)\n",
    "x = tf.keras.layers.Conv2D(filters=256, kernel_size=(3,3),padding=\"same\", activation=\"relu\")(x)\n",
    "x = tf.keras.layers.Conv2D(filters=256, kernel_size=(3,3),padding=\"same\", activation=\"relu\")(x)\n",
    "x = tf.keras.layers.MaxPool2D((2, 2))(x)\n",
    "x = tf.keras.layers.Conv2D(filters=512, kernel_size=(3,3),padding=\"same\", activation=\"relu\")(x)\n",
    "x = tf.keras.layers.Conv2D(filters=512, kernel_size=(3,3),padding=\"same\", activation=\"relu\")(x)\n",
    "x = tf.keras.layers.Conv2D(filters=512, kernel_size=(3,3),padding=\"same\", activation=\"relu\")(x)\n",
    "x = tf.keras.layers.MaxPool2D((2, 2))(x)\n",
    "x = tf.keras.layers.Conv2D(filters=512, kernel_size=(3,3),padding=\"same\", activation=\"relu\")(x)\n",
    "x = tf.keras.layers.Conv2D(filters=512, kernel_size=(3,3),padding=\"same\", activation=\"relu\")(x)\n",
    "x = tf.keras.layers.Conv2D(filters=512, kernel_size=(3,3),padding=\"same\", activation=\"relu\")(x)\n",
    "x = tf.keras.layers.MaxPool2D((2, 2))(x)\n",
    "x = tf.keras.layers.Dense(4096, activation='relu')(x)\n",
    "x = tf.keras.layers.Dense(4096, activation='relu')(x)\n",
    "out_layer = tf.keras.layers.Dense(1000, activation='softmax')(x)\n",
    "\n",
    "model = tf.keras.Model(inputs=[input_layer], outputs=[out_layer])\n",
    "model.summary()"
   ]
  },
  {
   "cell_type": "code",
   "execution_count": 2,
   "outputs": [],
   "source": [
    "# 문제 1-2. hyperparameter 설정\n",
    "batch_size = 16\n",
    "epochs = 5\n",
    "IMG_HEIGHT = 256\n",
    "IMG_WIDTH = 256"
   ],
   "metadata": {
    "collapsed": false,
    "ExecuteTime": {
     "end_time": "2023-10-29T18:25:13.884982200Z",
     "start_time": "2023-10-29T18:25:13.876237100Z"
    }
   },
   "id": "de101705cab66818"
  },
  {
   "cell_type": "code",
   "execution_count": 3,
   "outputs": [
    {
     "ename": "NameError",
     "evalue": "name 'ImageDataGenerator' is not defined",
     "output_type": "error",
     "traceback": [
      "\u001B[1;31m---------------------------------------------------------------------------\u001B[0m",
      "\u001B[1;31mNameError\u001B[0m                                 Traceback (most recent call last)",
      "Cell \u001B[1;32mIn[3], line 3\u001B[0m\n\u001B[0;32m      1\u001B[0m \u001B[38;5;66;03m# 문제 1-2. 데이터 generator 생성\u001B[39;00m\n\u001B[0;32m      2\u001B[0m \u001B[38;5;66;03m# Training data generator\u001B[39;00m\n\u001B[1;32m----> 3\u001B[0m image_gen_train \u001B[38;5;241m=\u001B[39m \u001B[43mImageDataGenerator\u001B[49m(rescale\u001B[38;5;241m=\u001B[39m\u001B[38;5;241m1.\u001B[39m\u001B[38;5;241m/\u001B[39m\u001B[38;5;241m255\u001B[39m,\n\u001B[0;32m      4\u001B[0m                                      rotation_range\u001B[38;5;241m=\u001B[39m\u001B[38;5;241m0.3\u001B[39m,\n\u001B[0;32m      5\u001B[0m                                      width_shift_range\u001B[38;5;241m=\u001B[39m\u001B[38;5;241m0.1\u001B[39m,\n\u001B[0;32m      6\u001B[0m                                      height_shift_range\u001B[38;5;241m=\u001B[39m\u001B[38;5;241m0.1\u001B[39m,\n\u001B[0;32m      7\u001B[0m                                      zoom_range\u001B[38;5;241m=\u001B[39m\u001B[38;5;241m0.2\u001B[39m,\n\u001B[0;32m      8\u001B[0m                                      horizontal_flip\u001B[38;5;241m=\u001B[39m\u001B[38;5;28;01mTrue\u001B[39;00m, \n\u001B[0;32m      9\u001B[0m                                      vertical_flip\u001B[38;5;241m=\u001B[39m\u001B[38;5;28;01mFalse\u001B[39;00m)\n\u001B[0;32m     11\u001B[0m train_data_gen \u001B[38;5;241m=\u001B[39m image_gen_train\u001B[38;5;241m.\u001B[39mflow_from_directory(batch_size\u001B[38;5;241m=\u001B[39mbatch_size,\n\u001B[0;32m     12\u001B[0m                                                      directory\u001B[38;5;241m=\u001B[39mtrain_dir,\n\u001B[0;32m     13\u001B[0m                                                      shuffle\u001B[38;5;241m=\u001B[39m\u001B[38;5;28;01mTrue\u001B[39;00m,\n\u001B[0;32m     14\u001B[0m                                                      target_size\u001B[38;5;241m=\u001B[39m(IMG_HEIGHT, IMG_WIDTH),\n\u001B[0;32m     15\u001B[0m                                                      class_mode\u001B[38;5;241m=\u001B[39m\u001B[38;5;124m'\u001B[39m\u001B[38;5;124mbinary\u001B[39m\u001B[38;5;124m'\u001B[39m)\n\u001B[0;32m     17\u001B[0m image_gen_val \u001B[38;5;241m=\u001B[39m ImageDataGenerator(rescale\u001B[38;5;241m=\u001B[39m\u001B[38;5;241m1.\u001B[39m\u001B[38;5;241m/\u001B[39m\u001B[38;5;241m255\u001B[39m)\n",
      "\u001B[1;31mNameError\u001B[0m: name 'ImageDataGenerator' is not defined"
     ]
    }
   ],
   "source": [
    "# 문제 1-2. 데이터 generator 생성\n",
    "# Training data generator\n",
    "image_gen_train = ImageDataGenerator(rescale=1./255,\n",
    "                                     rotation_range=0.3,\n",
    "                                     width_shift_range=0.1,\n",
    "                                     height_shift_range=0.1,\n",
    "                                     zoom_range=0.2,\n",
    "                                     horizontal_flip=True, \n",
    "                                     vertical_flip=False)\n",
    "\n",
    "train_data_gen = image_gen_train.flow_from_directory(batch_size=batch_size,\n",
    "                                                     directory=train_dir,\n",
    "                                                     shuffle=True,\n",
    "                                                     target_size=(IMG_HEIGHT, IMG_WIDTH),\n",
    "                                                     class_mode='binary')\n",
    "\n",
    "image_gen_val = ImageDataGenerator(rescale=1./255)\n",
    "\n",
    "val_data_gen = image_gen_val.flow_from_directory(batch_size=batch_size,\n",
    "                                                 directory=validation_dir,\n",
    "                                                 target_size=(IMG_HEIGHT, IMG_WIDTH),\n",
    "                                                 class_mode='binary')"
   ],
   "metadata": {
    "collapsed": false,
    "ExecuteTime": {
     "end_time": "2023-10-29T18:25:17.987085200Z",
     "start_time": "2023-10-29T18:25:17.956563400Z"
    }
   },
   "id": "95f2ea70c222d2f7"
  },
  {
   "cell_type": "code",
   "execution_count": null,
   "outputs": [],
   "source": [],
   "metadata": {
    "collapsed": false
   },
   "id": "60c979ffb568c102"
  }
 ],
 "metadata": {
  "kernelspec": {
   "display_name": "Python 3",
   "language": "python",
   "name": "python3"
  },
  "language_info": {
   "codemirror_mode": {
    "name": "ipython",
    "version": 2
   },
   "file_extension": ".py",
   "mimetype": "text/x-python",
   "name": "python",
   "nbconvert_exporter": "python",
   "pygments_lexer": "ipython2",
   "version": "2.7.6"
  }
 },
 "nbformat": 4,
 "nbformat_minor": 5
}
