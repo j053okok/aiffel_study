{
 "cells": [
  {
   "cell_type": "code",
   "execution_count": 1,
   "id": "initial_id",
   "metadata": {
    "collapsed": true,
    "ExecuteTime": {
     "end_time": "2023-10-29T18:21:49.255599500Z",
     "start_time": "2023-10-29T18:21:48.987981Z"
    }
   },
   "outputs": [
    {
     "ename": "NameError",
     "evalue": "name 'tf' is not defined",
     "output_type": "error",
     "traceback": [
      "\u001B[1;31m---------------------------------------------------------------------------\u001B[0m",
      "\u001B[1;31mNameError\u001B[0m                                 Traceback (most recent call last)",
      "Cell \u001B[1;32mIn[1], line 2\u001B[0m\n\u001B[0;32m      1\u001B[0m \u001B[38;5;66;03m# 문제1-1. 이미지에 나온 VGG16 모델을 구현하세요.  \u001B[39;00m\n\u001B[1;32m----> 2\u001B[0m input_layer\u001B[38;5;241m=\u001B[39m\u001B[43mtf\u001B[49m\u001B[38;5;241m.\u001B[39mkeras\u001B[38;5;241m.\u001B[39mlayers\u001B[38;5;241m.\u001B[39mInput(shape\u001B[38;5;241m=\u001B[39m(\u001B[38;5;241m256\u001B[39m, \u001B[38;5;241m256\u001B[39m, \u001B[38;5;241m3\u001B[39m))\n\u001B[0;32m      3\u001B[0m x \u001B[38;5;241m=\u001B[39m tf\u001B[38;5;241m.\u001B[39mkeras\u001B[38;5;241m.\u001B[39mlayers\u001B[38;5;241m.\u001B[39mConv2D(filters\u001B[38;5;241m=\u001B[39m\u001B[38;5;241m64\u001B[39m, kernel_size\u001B[38;5;241m=\u001B[39m(\u001B[38;5;241m3\u001B[39m,\u001B[38;5;241m3\u001B[39m),padding\u001B[38;5;241m=\u001B[39m\u001B[38;5;124m\"\u001B[39m\u001B[38;5;124msame\u001B[39m\u001B[38;5;124m\"\u001B[39m, activation\u001B[38;5;241m=\u001B[39m\u001B[38;5;124m\"\u001B[39m\u001B[38;5;124mrelu\u001B[39m\u001B[38;5;124m\"\u001B[39m)(input_layer)\n\u001B[0;32m      4\u001B[0m x \u001B[38;5;241m=\u001B[39m tf\u001B[38;5;241m.\u001B[39mkeras\u001B[38;5;241m.\u001B[39mlayers\u001B[38;5;241m.\u001B[39mConv2D(filters\u001B[38;5;241m=\u001B[39m\u001B[38;5;241m64\u001B[39m, kernel_size\u001B[38;5;241m=\u001B[39m(\u001B[38;5;241m3\u001B[39m,\u001B[38;5;241m3\u001B[39m),padding\u001B[38;5;241m=\u001B[39m\u001B[38;5;124m\"\u001B[39m\u001B[38;5;124msame\u001B[39m\u001B[38;5;124m\"\u001B[39m, activation\u001B[38;5;241m=\u001B[39m\u001B[38;5;124m\"\u001B[39m\u001B[38;5;124mrelu\u001B[39m\u001B[38;5;124m\"\u001B[39m)(x)\n",
      "\u001B[1;31mNameError\u001B[0m: name 'tf' is not defined"
     ]
    }
   ],
   "source": [
    "# 문제1-1. 이미지에 나온 VGG16 모델을 구현하세요.  \n",
    "input_layer=tf.keras.layers.Input(shape=(256, 256, 3))\n",
    "x = tf.keras.layers.Conv2D(filters=64, kernel_size=(3,3),padding=\"same\", activation=\"relu\")(input_layer)\n",
    "x = tf.keras.layers.Conv2D(filters=64, kernel_size=(3,3),padding=\"same\", activation=\"relu\")(x)\n",
    "x = tf.keras.layers.MaxPool2D((2, 2))(x)\n",
    "x = tf.keras.layers.Conv2D(filters=128, kernel_size=(3,3),padding=\"same\", activation=\"relu\")(x)\n",
    "x = tf.keras.layers.Conv2D(filters=128, kernel_size=(3,3),padding=\"same\", activation=\"relu\")(x)\n",
    "x = tf.keras.layers.MaxPool2D((2, 2))(x)\n",
    "x = tf.keras.layers.Conv2D(filters=256, kernel_size=(3,3),padding=\"same\", activation=\"relu\")(x)\n",
    "x = tf.keras.layers.Conv2D(filters=256, kernel_size=(3,3),padding=\"same\", activation=\"relu\")(x)\n",
    "x = tf.keras.layers.Conv2D(filters=256, kernel_size=(3,3),padding=\"same\", activation=\"relu\")(x)\n",
    "x = tf.keras.layers.MaxPool2D((2, 2))(x)\n",
    "x = tf.keras.layers.Conv2D(filters=512, kernel_size=(3,3),padding=\"same\", activation=\"relu\")(x)\n",
    "x = tf.keras.layers.Conv2D(filters=512, kernel_size=(3,3),padding=\"same\", activation=\"relu\")(x)\n",
    "x = tf.keras.layers.Conv2D(filters=512, kernel_size=(3,3),padding=\"same\", activation=\"relu\")(x)\n",
    "x = tf.keras.layers.MaxPool2D((2, 2))(x)\n",
    "x = tf.keras.layers.Conv2D(filters=512, kernel_size=(3,3),padding=\"same\", activation=\"relu\")(x)\n",
    "x = tf.keras.layers.Conv2D(filters=512, kernel_size=(3,3),padding=\"same\", activation=\"relu\")(x)\n",
    "x = tf.keras.layers.Conv2D(filters=512, kernel_size=(3,3),padding=\"same\", activation=\"relu\")(x)\n",
    "x = tf.keras.layers.MaxPool2D((2, 2))(x)\n",
    "x = tf.keras.layers.Dense(4096, activation='relu')(x)\n",
    "x = tf.keras.layers.Dense(4096, activation='relu')(x)\n",
    "out_layer = tf.keras.layers.Dense(1000, activation='softmax')(x)\n",
    "\n",
    "model = tf.keras.Model(inputs=[input_layer], outputs=[out_layer])\n",
    "model.summary()"
   ]
  },
  {
   "cell_type": "code",
   "execution_count": null,
   "outputs": [],
   "source": [],
   "metadata": {
    "collapsed": false
   },
   "id": "de101705cab66818"
  }
 ],
 "metadata": {
  "kernelspec": {
   "display_name": "Python 3",
   "language": "python",
   "name": "python3"
  },
  "language_info": {
   "codemirror_mode": {
    "name": "ipython",
    "version": 2
   },
   "file_extension": ".py",
   "mimetype": "text/x-python",
   "name": "python",
   "nbconvert_exporter": "python",
   "pygments_lexer": "ipython2",
   "version": "2.7.6"
  }
 },
 "nbformat": 4,
 "nbformat_minor": 5
}
