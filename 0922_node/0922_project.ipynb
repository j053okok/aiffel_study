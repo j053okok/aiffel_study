{
 "cells": [
  {
   "cell_type": "code",
   "execution_count": 13,
   "id": "initial_id",
   "metadata": {
    "collapsed": true,
    "ExecuteTime": {
     "end_time": "2023-09-21T15:15:18.452185400Z",
     "start_time": "2023-09-21T15:15:18.437583600Z"
    }
   },
   "outputs": [],
   "source": [
    "import os\n",
    "import pandas as pd \n",
    "import matplotlib.pyplot as plt\n",
    "import numpy as np \n",
    "from sklearn.metrics import classification_report\n",
    "from sklearn.semi_supervised import LabelSpreading\n",
    "from sklearn.metrics import ConfusionMatrixDisplay\n",
    "from sklearn.linear_model import LogisticRegression"
   ]
  },
  {
   "cell_type": "code",
   "execution_count": 2,
   "outputs": [],
   "source": [
    "df = pd.read_csv(\"final_v2.csv\")"
   ],
   "metadata": {
    "collapsed": false,
    "ExecuteTime": {
     "end_time": "2023-09-21T15:11:37.107239400Z",
     "start_time": "2023-09-21T15:11:37.092604800Z"
    }
   },
   "id": "f28382098657668a"
  },
  {
   "cell_type": "code",
   "execution_count": 3,
   "outputs": [
    {
     "data": {
      "text/plain": "   test/train/unlabeled  isfraud  car_model_1  car_model_2  car_model_3  \\\n0                     1        1            0            1            0   \n1                     1        1            0            1            0   \n2                     1        1            0            1            0   \n3                     1        1            0            1            0   \n4                     1        1            1            0            0   \n\n   car_model_4  car_model_5  sharing_type_0  sharing_type_1  age_group_1  ...  \\\n0            0            0               0               1            1  ...   \n1            0            0               1               0            0  ...   \n2            0            0               0               1            0  ...   \n3            0            0               1               0            0  ...   \n4            0            0               1               0            0  ...   \n\n   acc_hour_6  oai_prsn_cnt_missing  oai_prsn_cnt_0  oai_prsn_cnt_1  \\\n0           0                     0               1               0   \n1           0                     0               1               0   \n2           0                     0               1               0   \n3           0                     0               1               0   \n4           0                     0               0               0   \n\n   oai_prsn_cnt_2  oai_prsn_cnt_3  oai_prsn_cnt_4  oai_prsn_cnt_5  \\\n0               0               0               0               0   \n1               0               0               0               0   \n2               0               0               0               0   \n3               0               0               0               0   \n4               0               1               0               0   \n\n   network_feature_involved_cnt  h3_feature_top3_share  \n0                             5               0.413587  \n1                             4               0.748059  \n2                             5               0.738435  \n3                             3               0.587487  \n4                             6               0.683564  \n\n[5 rows x 52 columns]",
      "text/html": "<div>\n<style scoped>\n    .dataframe tbody tr th:only-of-type {\n        vertical-align: middle;\n    }\n\n    .dataframe tbody tr th {\n        vertical-align: top;\n    }\n\n    .dataframe thead th {\n        text-align: right;\n    }\n</style>\n<table border=\"1\" class=\"dataframe\">\n  <thead>\n    <tr style=\"text-align: right;\">\n      <th></th>\n      <th>test/train/unlabeled</th>\n      <th>isfraud</th>\n      <th>car_model_1</th>\n      <th>car_model_2</th>\n      <th>car_model_3</th>\n      <th>car_model_4</th>\n      <th>car_model_5</th>\n      <th>sharing_type_0</th>\n      <th>sharing_type_1</th>\n      <th>age_group_1</th>\n      <th>...</th>\n      <th>acc_hour_6</th>\n      <th>oai_prsn_cnt_missing</th>\n      <th>oai_prsn_cnt_0</th>\n      <th>oai_prsn_cnt_1</th>\n      <th>oai_prsn_cnt_2</th>\n      <th>oai_prsn_cnt_3</th>\n      <th>oai_prsn_cnt_4</th>\n      <th>oai_prsn_cnt_5</th>\n      <th>network_feature_involved_cnt</th>\n      <th>h3_feature_top3_share</th>\n    </tr>\n  </thead>\n  <tbody>\n    <tr>\n      <th>0</th>\n      <td>1</td>\n      <td>1</td>\n      <td>0</td>\n      <td>1</td>\n      <td>0</td>\n      <td>0</td>\n      <td>0</td>\n      <td>0</td>\n      <td>1</td>\n      <td>1</td>\n      <td>...</td>\n      <td>0</td>\n      <td>0</td>\n      <td>1</td>\n      <td>0</td>\n      <td>0</td>\n      <td>0</td>\n      <td>0</td>\n      <td>0</td>\n      <td>5</td>\n      <td>0.413587</td>\n    </tr>\n    <tr>\n      <th>1</th>\n      <td>1</td>\n      <td>1</td>\n      <td>0</td>\n      <td>1</td>\n      <td>0</td>\n      <td>0</td>\n      <td>0</td>\n      <td>1</td>\n      <td>0</td>\n      <td>0</td>\n      <td>...</td>\n      <td>0</td>\n      <td>0</td>\n      <td>1</td>\n      <td>0</td>\n      <td>0</td>\n      <td>0</td>\n      <td>0</td>\n      <td>0</td>\n      <td>4</td>\n      <td>0.748059</td>\n    </tr>\n    <tr>\n      <th>2</th>\n      <td>1</td>\n      <td>1</td>\n      <td>0</td>\n      <td>1</td>\n      <td>0</td>\n      <td>0</td>\n      <td>0</td>\n      <td>0</td>\n      <td>1</td>\n      <td>0</td>\n      <td>...</td>\n      <td>0</td>\n      <td>0</td>\n      <td>1</td>\n      <td>0</td>\n      <td>0</td>\n      <td>0</td>\n      <td>0</td>\n      <td>0</td>\n      <td>5</td>\n      <td>0.738435</td>\n    </tr>\n    <tr>\n      <th>3</th>\n      <td>1</td>\n      <td>1</td>\n      <td>0</td>\n      <td>1</td>\n      <td>0</td>\n      <td>0</td>\n      <td>0</td>\n      <td>1</td>\n      <td>0</td>\n      <td>0</td>\n      <td>...</td>\n      <td>0</td>\n      <td>0</td>\n      <td>1</td>\n      <td>0</td>\n      <td>0</td>\n      <td>0</td>\n      <td>0</td>\n      <td>0</td>\n      <td>3</td>\n      <td>0.587487</td>\n    </tr>\n    <tr>\n      <th>4</th>\n      <td>1</td>\n      <td>1</td>\n      <td>1</td>\n      <td>0</td>\n      <td>0</td>\n      <td>0</td>\n      <td>0</td>\n      <td>1</td>\n      <td>0</td>\n      <td>0</td>\n      <td>...</td>\n      <td>0</td>\n      <td>0</td>\n      <td>0</td>\n      <td>0</td>\n      <td>0</td>\n      <td>1</td>\n      <td>0</td>\n      <td>0</td>\n      <td>6</td>\n      <td>0.683564</td>\n    </tr>\n  </tbody>\n</table>\n<p>5 rows × 52 columns</p>\n</div>"
     },
     "execution_count": 3,
     "metadata": {},
     "output_type": "execute_result"
    }
   ],
   "source": [
    "df.head()"
   ],
   "metadata": {
    "collapsed": false,
    "ExecuteTime": {
     "end_time": "2023-09-21T15:11:39.203133300Z",
     "start_time": "2023-09-21T15:11:39.189397700Z"
    }
   },
   "id": "b04d8b39fd3511c"
  },
  {
   "cell_type": "code",
   "execution_count": 4,
   "outputs": [
    {
     "data": {
      "text/plain": "test/train/unlabeled            0\nisfraud                         0\ncar_model_1                     0\ncar_model_2                     0\ncar_model_3                     0\ncar_model_4                     0\ncar_model_5                     0\nsharing_type_0                  0\nsharing_type_1                  0\nage_group_1                     0\nage_group_2                     0\nage_group_3                     0\nage_group_4                     0\nage_group_5                     0\ncum_acc_YN_1                    0\ncum_acc_YN_0                    0\ntype_b2b_b2c_0                  0\ntype_b2b_b2c_2                  0\npf_type_1                       0\npf_type_2                       0\npf_type_3                       0\nsocarpass_0                     0\nsocarpass_1                     0\nsocarsave_0                     0\nsocarsave_1                     0\nstart_hour_1                    0\nstart_hour_2                    0\nstart_hour_3                    0\nstart_hour_4                    0\nstart_hour_5                    0\nstart_hour_6                    0\nb_hour_1                        0\nb_hour_2                        0\nb_hour_3                        0\nb_hour_4                        0\nb_hour_5                        0\nacc_hour_0                      0\nacc_hour_1                      0\nacc_hour_2                      0\nacc_hour_3                      0\nacc_hour_4                      0\nacc_hour_5                      0\nacc_hour_6                      0\noai_prsn_cnt_missing            0\noai_prsn_cnt_0                  0\noai_prsn_cnt_1                  0\noai_prsn_cnt_2                  0\noai_prsn_cnt_3                  0\noai_prsn_cnt_4                  0\noai_prsn_cnt_5                  0\nnetwork_feature_involved_cnt    0\nh3_feature_top3_share           0\ndtype: int64"
     },
     "execution_count": 4,
     "metadata": {},
     "output_type": "execute_result"
    }
   ],
   "source": [
    "df.isnull().sum()"
   ],
   "metadata": {
    "collapsed": false,
    "ExecuteTime": {
     "end_time": "2023-09-21T15:11:55.167220Z",
     "start_time": "2023-09-21T15:11:55.151460500Z"
    }
   },
   "id": "cccfded0be9c1fd"
  },
  {
   "cell_type": "code",
   "execution_count": 5,
   "outputs": [
    {
     "name": "stdout",
     "output_type": "stream",
     "text": [
      "features Index(['car_model_1', 'car_model_2', 'car_model_3', 'car_model_4',\n",
      "       'car_model_5', 'sharing_type_0', 'sharing_type_1', 'age_group_1',\n",
      "       'age_group_2', 'age_group_3', 'age_group_4', 'age_group_5',\n",
      "       'cum_acc_YN_1', 'cum_acc_YN_0', 'type_b2b_b2c_0', 'type_b2b_b2c_2',\n",
      "       'pf_type_1', 'pf_type_2', 'pf_type_3', 'socarpass_0', 'socarpass_1',\n",
      "       'socarsave_0', 'socarsave_1', 'start_hour_1', 'start_hour_2',\n",
      "       'start_hour_3', 'start_hour_4', 'start_hour_5', 'start_hour_6',\n",
      "       'b_hour_1', 'b_hour_2', 'b_hour_3', 'b_hour_4', 'b_hour_5',\n",
      "       'acc_hour_0', 'acc_hour_1', 'acc_hour_2', 'acc_hour_3', 'acc_hour_4',\n",
      "       'acc_hour_5', 'acc_hour_6', 'oai_prsn_cnt_missing', 'oai_prsn_cnt_0',\n",
      "       'oai_prsn_cnt_1', 'oai_prsn_cnt_2', 'oai_prsn_cnt_3', 'oai_prsn_cnt_4',\n",
      "       'oai_prsn_cnt_5', 'network_feature_involved_cnt',\n",
      "       'h3_feature_top3_share'],\n",
      "      dtype='object')\n",
      "label ['isfraud']\n"
     ]
    }
   ],
   "source": [
    "features = df.columns.drop([ 'test/train/unlabeled', 'isfraud'])\n",
    "label = ['isfraud'] \n",
    "\n",
    "print('features', features)\n",
    "print('label', label)"
   ],
   "metadata": {
    "collapsed": false,
    "ExecuteTime": {
     "end_time": "2023-09-21T15:12:08.561560200Z",
     "start_time": "2023-09-21T15:12:08.556580800Z"
    }
   },
   "id": "f19c97cd50d777ff"
  },
  {
   "cell_type": "code",
   "execution_count": 6,
   "outputs": [
    {
     "data": {
      "text/plain": "(array([351.,   0.,   0.,   0.,   0., 191.,   0.,   0.,   0.,  58.]),\n array([-1. , -0.8, -0.6, -0.4, -0.2,  0. ,  0.2,  0.4,  0.6,  0.8,  1. ]),\n <BarContainer object of 10 artists>)"
     },
     "execution_count": 6,
     "metadata": {},
     "output_type": "execute_result"
    },
    {
     "data": {
      "text/plain": "<Figure size 640x480 with 1 Axes>",
      "image/png": "[encoded data removed]"
     },
     "metadata": {},
     "output_type": "display_data"
    }
   ],
   "source": [
    "plt.hist(df['isfraud'])"
   ],
   "metadata": {
    "collapsed": false,
    "ExecuteTime": {
     "end_time": "2023-09-21T15:12:17.767238300Z",
     "start_time": "2023-09-21T15:12:17.647694300Z"
    }
   },
   "id": "dd44b214fd0d0765"
  },
  {
   "cell_type": "code",
   "execution_count": 7,
   "outputs": [],
   "source": [
    "# 트레인 셋 / 테스트 셋 \n",
    "X_train_labeled = df[df['test/train/unlabeled']==2][features]\n",
    "Y_train_labeled = df[df['test/train/unlabeled']==2][label]\n",
    "\n",
    "X_test_labeled = df[df['test/train/unlabeled']==1][features]\n",
    "Y_test_labeled = df[df['test/train/unlabeled']==1][label]"
   ],
   "metadata": {
    "collapsed": false,
    "ExecuteTime": {
     "end_time": "2023-09-21T15:12:46.114267800Z",
     "start_time": "2023-09-21T15:12:46.097618500Z"
    }
   },
   "id": "b30e005346e089dc"
  },
  {
   "cell_type": "code",
   "execution_count": 14,
   "outputs": [],
   "source": [
    "clf1 = LogisticRegression(random_state=0).fit(X_train_labeled, Y_train_labeled.values.ravel())\n",
    "\n",
    "# 결과 확인\n",
    "y = Y_test_labeled\n",
    "y_pred = clf1.predict(X_test_labeled)"
   ],
   "metadata": {
    "collapsed": false,
    "ExecuteTime": {
     "end_time": "2023-09-21T15:15:23.396562200Z",
     "start_time": "2023-09-21T15:15:23.389401600Z"
    }
   },
   "id": "97573f7e7f7e4083"
  },
  {
   "cell_type": "code",
   "execution_count": 15,
   "outputs": [
    {
     "name": "stdout",
     "output_type": "stream",
     "text": [
      "              precision    recall  f1-score   support\n",
      "\n",
      "           0       0.92      0.71      0.80       124\n",
      "           1       0.32      0.68      0.44        25\n",
      "\n",
      "    accuracy                           0.70       149\n",
      "   macro avg       0.62      0.69      0.62       149\n",
      "weighted avg       0.82      0.70      0.74       149\n"
     ]
    },
    {
     "data": {
      "text/plain": "<Figure size 640x480 with 2 Axes>",
      "image/png": "[encoded data removed]"
     },
     "metadata": {},
     "output_type": "display_data"
    }
   ],
   "source": [
    "# 평가 \n",
    "print(classification_report(y, y_pred))\n",
    "ConfusionMatrixDisplay.from_estimator(clf1, X_test_labeled, Y_test_labeled)  \n",
    "plt.show()  \n",
    "\n",
    "# 보험사기건에 대한 f1-score 0.44를 기록했습니다."
   ],
   "metadata": {
    "collapsed": false,
    "ExecuteTime": {
     "end_time": "2023-09-21T15:15:24.765611700Z",
     "start_time": "2023-09-21T15:15:24.667897Z"
    }
   },
   "id": "bff55050a1cf5dd3"
  },
  {
   "cell_type": "code",
   "execution_count": null,
   "outputs": [],
   "source": [],
   "metadata": {
    "collapsed": false
   },
   "id": "81e971fc07e8b016"
  }
 ],
 "metadata": {
  "kernelspec": {
   "display_name": "Python 3",
   "language": "python",
   "name": "python3"
  },
  "language_info": {
   "codemirror_mode": {
    "name": "ipython",
    "version": 2
   },
   "file_extension": ".py",
   "mimetype": "text/x-python",
   "name": "python",
   "nbconvert_exporter": "python",
   "pygments_lexer": "ipython2",
   "version": "2.7.6"
  }
 },
 "nbformat": 4,
 "nbformat_minor": 5
}
