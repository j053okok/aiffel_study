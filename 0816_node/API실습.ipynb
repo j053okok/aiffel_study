{
 "cells": [
  {
   "cell_type": "code",
   "execution_count": 7,
   "metadata": {
    "collapsed": true,
    "ExecuteTime": {
     "end_time": "2023-08-16T02:30:31.972553100Z",
     "start_time": "2023-08-16T02:30:31.028240100Z"
    }
   },
   "outputs": [],
   "source": [
    "import requests\n",
    "import pandas as pd"
   ]
  },
  {
   "cell_type": "code",
   "execution_count": 5,
   "outputs": [
    {
     "name": "stdout",
     "output_type": "stream",
     "text": [
      "access token:  dd962b63-9424-480f-bb56-cb424107b8c3\n"
     ]
    }
   ],
   "source": [
    "def get_access_token(consumer_key, consumer_secret) -> None :\n",
    "    temp_res = requests.get(\n",
    "        url=\"https://sgisapi.kostat.go.kr/OpenAPI3/auth/authentication.json\",\n",
    "        params={\n",
    "            \"consumer_key\": consumer_key,\n",
    "            \"consumer_secret\": consumer_secret\n",
    "        }\n",
    "    )\n",
    "\n",
    "    access_token = temp_res.json()[\"result\"][\"accessToken\"]\n",
    "\n",
    "    return access_token\n",
    "\n",
    "\n",
    "consumer_key = \"0557bd5252b34142911d\"\n",
    "consumer_secret = \"d90d86911924440786d4\"\n",
    "\n",
    "print('access token: ', get_access_token(consumer_key, consumer_secret))"
   ],
   "metadata": {
    "collapsed": false,
    "ExecuteTime": {
     "end_time": "2023-08-16T02:25:17.695963800Z",
     "start_time": "2023-08-16T02:25:17.351915500Z"
    }
   }
  },
  {
   "cell_type": "code",
   "execution_count": 8,
   "outputs": [
    {
     "data": {
      "text/plain": "                 address               centerName centerType  \\\n0    서울특별시 중구 을지로 39길 29          코로나19 중앙 예방접종센터      중앙/권역   \n1  충청남도 천안시 동남구 천안대로 357        코로나19 중부권역 예방접종센터      중앙/권역   \n2      광주광역시 동구 필문대로 365        코로나19 호남권역 예방접종센터      중앙/권역   \n3    경상남도 양산시 물금읍 금오로 20        코로나19 영남권역 예방접종센터      중앙/권역   \n4          대구시 중구 달성로 56    코로나19 대구광역시 중구 예방접종센터         지역   \n5     서울특별시 성동구 고산자로 270   코로나19 서울특별시 성동구 예방접종센터         지역   \n6       부산 부산진구 시민공원로 73  코로나19 부산광역시 부산진구 예방접종센터         지역   \n7     인천광역시 연수구 경원대로 526   코로나19 인천광역시 연수구 예방접종센터         지역   \n8       광주광역시 서구 금화로 278    코로나19 광주광역시 서구 예방접종센터         지역   \n9     대전광역시 유성구 유성대로 978   코로나19 대전광역시 유성구 예방접종센터         지역   \n\n             createdAt      facilityName  id        lat          lng  \\\n0  2021-03-03 07:00:52        국립중앙의료원 D동   1  37.567817   127.004501   \n1  2021-03-03 07:00:52    천안시 실내배드민턴장 1층   2  36.779887   127.164717   \n2  2021-03-03 07:00:52    조선대학교병원 의성관 5층   3  35.139465   126.925563   \n3  2021-03-03 07:00:53  양산 부산대병원 기숙사동 1층   4    35.3239   129.009337   \n4  2021-03-03 07:00:53   계명대학교 대구동산병원 별관   5  35.869985   128.583716   \n5  2021-03-15 00:03:43      성동구청 대강당(3층)   6  37.563457   127.036981   \n6  2021-03-15 00:03:43      부산시민공원 시민사랑채   7  35.170182   129.059301   \n7  2021-03-15 00:03:43       선학경기장 선학체육관   8  37.429571   126.703271   \n8  2021-03-15 00:03:43            빛고을체육관   9  35.135361  126.8771731   \n9  2021-03-15 00:03:44         유성종합스포츠센터  10  36.378512   127.344399   \n\n         org   phoneNumber   sido  sigungu            updatedAt zipCode  \n0    국립중앙의료원  02-2260-7114  서울특별시       중구  2021-07-16 04:55:08   04562  \n1  순천향대 천안병원                 충청남도  천안시 동남구  2021-07-16 04:55:08   31212  \n2      조선대병원  062-220-3739  광주광역시       동구  2021-07-16 04:55:08   61452  \n3   양산 부산대병원  055-360-6701   경상남도      양산시  2021-07-16 04:55:08   50612  \n4             053-661-3955  대구광역시       중구  2021-07-16 04:55:09   41931  \n5             02-2286-5084  서울특별시      성동구  2021-07-16 04:55:09   04750  \n6             051-605-8633  부산광역시     부산진구  2021-07-16 04:55:09   47197  \n7             032-749-8121  인천광역시      연수구  2021-07-16 04:55:10   21908  \n8             062-371-8731  광주광역시       서구  2021-07-16 04:55:10   62048  \n9             042-611-2498  대전광역시      유성구  2021-07-16 04:55:11   34128  ",
      "text/html": "<div>\n<style scoped>\n    .dataframe tbody tr th:only-of-type {\n        vertical-align: middle;\n    }\n\n    .dataframe tbody tr th {\n        vertical-align: top;\n    }\n\n    .dataframe thead th {\n        text-align: right;\n    }\n</style>\n<table border=\"1\" class=\"dataframe\">\n  <thead>\n    <tr style=\"text-align: right;\">\n      <th></th>\n      <th>address</th>\n      <th>centerName</th>\n      <th>centerType</th>\n      <th>createdAt</th>\n      <th>facilityName</th>\n      <th>id</th>\n      <th>lat</th>\n      <th>lng</th>\n      <th>org</th>\n      <th>phoneNumber</th>\n      <th>sido</th>\n      <th>sigungu</th>\n      <th>updatedAt</th>\n      <th>zipCode</th>\n    </tr>\n  </thead>\n  <tbody>\n    <tr>\n      <th>0</th>\n      <td>서울특별시 중구 을지로 39길 29</td>\n      <td>코로나19 중앙 예방접종센터</td>\n      <td>중앙/권역</td>\n      <td>2021-03-03 07:00:52</td>\n      <td>국립중앙의료원 D동</td>\n      <td>1</td>\n      <td>37.567817</td>\n      <td>127.004501</td>\n      <td>국립중앙의료원</td>\n      <td>02-2260-7114</td>\n      <td>서울특별시</td>\n      <td>중구</td>\n      <td>2021-07-16 04:55:08</td>\n      <td>04562</td>\n    </tr>\n    <tr>\n      <th>1</th>\n      <td>충청남도 천안시 동남구 천안대로 357</td>\n      <td>코로나19 중부권역 예방접종센터</td>\n      <td>중앙/권역</td>\n      <td>2021-03-03 07:00:52</td>\n      <td>천안시 실내배드민턴장 1층</td>\n      <td>2</td>\n      <td>36.779887</td>\n      <td>127.164717</td>\n      <td>순천향대 천안병원</td>\n      <td></td>\n      <td>충청남도</td>\n      <td>천안시 동남구</td>\n      <td>2021-07-16 04:55:08</td>\n      <td>31212</td>\n    </tr>\n    <tr>\n      <th>2</th>\n      <td>광주광역시 동구 필문대로 365</td>\n      <td>코로나19 호남권역 예방접종센터</td>\n      <td>중앙/권역</td>\n      <td>2021-03-03 07:00:52</td>\n      <td>조선대학교병원 의성관 5층</td>\n      <td>3</td>\n      <td>35.139465</td>\n      <td>126.925563</td>\n      <td>조선대병원</td>\n      <td>062-220-3739</td>\n      <td>광주광역시</td>\n      <td>동구</td>\n      <td>2021-07-16 04:55:08</td>\n      <td>61452</td>\n    </tr>\n    <tr>\n      <th>3</th>\n      <td>경상남도 양산시 물금읍 금오로 20</td>\n      <td>코로나19 영남권역 예방접종센터</td>\n      <td>중앙/권역</td>\n      <td>2021-03-03 07:00:53</td>\n      <td>양산 부산대병원 기숙사동 1층</td>\n      <td>4</td>\n      <td>35.3239</td>\n      <td>129.009337</td>\n      <td>양산 부산대병원</td>\n      <td>055-360-6701</td>\n      <td>경상남도</td>\n      <td>양산시</td>\n      <td>2021-07-16 04:55:08</td>\n      <td>50612</td>\n    </tr>\n    <tr>\n      <th>4</th>\n      <td>대구시 중구 달성로 56</td>\n      <td>코로나19 대구광역시 중구 예방접종센터</td>\n      <td>지역</td>\n      <td>2021-03-03 07:00:53</td>\n      <td>계명대학교 대구동산병원 별관</td>\n      <td>5</td>\n      <td>35.869985</td>\n      <td>128.583716</td>\n      <td></td>\n      <td>053-661-3955</td>\n      <td>대구광역시</td>\n      <td>중구</td>\n      <td>2021-07-16 04:55:09</td>\n      <td>41931</td>\n    </tr>\n    <tr>\n      <th>5</th>\n      <td>서울특별시 성동구 고산자로 270</td>\n      <td>코로나19 서울특별시 성동구 예방접종센터</td>\n      <td>지역</td>\n      <td>2021-03-15 00:03:43</td>\n      <td>성동구청 대강당(3층)</td>\n      <td>6</td>\n      <td>37.563457</td>\n      <td>127.036981</td>\n      <td></td>\n      <td>02-2286-5084</td>\n      <td>서울특별시</td>\n      <td>성동구</td>\n      <td>2021-07-16 04:55:09</td>\n      <td>04750</td>\n    </tr>\n    <tr>\n      <th>6</th>\n      <td>부산 부산진구 시민공원로 73</td>\n      <td>코로나19 부산광역시 부산진구 예방접종센터</td>\n      <td>지역</td>\n      <td>2021-03-15 00:03:43</td>\n      <td>부산시민공원 시민사랑채</td>\n      <td>7</td>\n      <td>35.170182</td>\n      <td>129.059301</td>\n      <td></td>\n      <td>051-605-8633</td>\n      <td>부산광역시</td>\n      <td>부산진구</td>\n      <td>2021-07-16 04:55:09</td>\n      <td>47197</td>\n    </tr>\n    <tr>\n      <th>7</th>\n      <td>인천광역시 연수구 경원대로 526</td>\n      <td>코로나19 인천광역시 연수구 예방접종센터</td>\n      <td>지역</td>\n      <td>2021-03-15 00:03:43</td>\n      <td>선학경기장 선학체육관</td>\n      <td>8</td>\n      <td>37.429571</td>\n      <td>126.703271</td>\n      <td></td>\n      <td>032-749-8121</td>\n      <td>인천광역시</td>\n      <td>연수구</td>\n      <td>2021-07-16 04:55:10</td>\n      <td>21908</td>\n    </tr>\n    <tr>\n      <th>8</th>\n      <td>광주광역시 서구 금화로 278</td>\n      <td>코로나19 광주광역시 서구 예방접종센터</td>\n      <td>지역</td>\n      <td>2021-03-15 00:03:43</td>\n      <td>빛고을체육관</td>\n      <td>9</td>\n      <td>35.135361</td>\n      <td>126.8771731</td>\n      <td></td>\n      <td>062-371-8731</td>\n      <td>광주광역시</td>\n      <td>서구</td>\n      <td>2021-07-16 04:55:10</td>\n      <td>62048</td>\n    </tr>\n    <tr>\n      <th>9</th>\n      <td>대전광역시 유성구 유성대로 978</td>\n      <td>코로나19 대전광역시 유성구 예방접종센터</td>\n      <td>지역</td>\n      <td>2021-03-15 00:03:44</td>\n      <td>유성종합스포츠센터</td>\n      <td>10</td>\n      <td>36.378512</td>\n      <td>127.344399</td>\n      <td></td>\n      <td>042-611-2498</td>\n      <td>대전광역시</td>\n      <td>유성구</td>\n      <td>2021-07-16 04:55:11</td>\n      <td>34128</td>\n    </tr>\n  </tbody>\n</table>\n</div>"
     },
     "execution_count": 8,
     "metadata": {},
     "output_type": "execute_result"
    }
   ],
   "source": [
    "def get_vaccination_center(serviceKey):\n",
    "    temp_res = requests.get(\n",
    "        url=\"https://api.odcloud.kr/api/15077586/v1/centers\",\n",
    "        params={\n",
    "            \"serviceKey\": serviceKey\n",
    "        }\n",
    "    )\n",
    "\n",
    "    temp_df = pd.DataFrame(temp_res.json()[\"data\"])\n",
    "\n",
    "    return temp_df\n",
    "\n",
    "serviceKey = \"LzlBj0p3GnSdSwbZEDsfDJQF13YfSF6S0kxSCOSFap8Vq20jZkVrVykaQ/PQH9CyukrUWhsmA8T85RHFeaz3rg==\"\n",
    "vaccination_center_df = get_vaccination_center(serviceKey)\n",
    "vaccination_center_df"
   ],
   "metadata": {
    "collapsed": false,
    "ExecuteTime": {
     "end_time": "2023-08-16T02:33:31.083282300Z",
     "start_time": "2023-08-16T02:33:30.929456400Z"
    }
   }
  },
  {
   "cell_type": "code",
   "execution_count": 9,
   "outputs": [
    {
     "name": "stdout",
     "output_type": "stream",
     "text": [
      "<class 'pandas.core.frame.DataFrame'>\n",
      "RangeIndex: 10 entries, 0 to 9\n",
      "Data columns (total 14 columns):\n",
      " #   Column        Non-Null Count  Dtype \n",
      "---  ------        --------------  ----- \n",
      " 0   address       10 non-null     object\n",
      " 1   centerName    10 non-null     object\n",
      " 2   centerType    10 non-null     object\n",
      " 3   createdAt     10 non-null     object\n",
      " 4   facilityName  10 non-null     object\n",
      " 5   id            10 non-null     int64 \n",
      " 6   lat           10 non-null     object\n",
      " 7   lng           10 non-null     object\n",
      " 8   org           10 non-null     object\n",
      " 9   phoneNumber   10 non-null     object\n",
      " 10  sido          10 non-null     object\n",
      " 11  sigungu       10 non-null     object\n",
      " 12  updatedAt     10 non-null     object\n",
      " 13  zipCode       10 non-null     object\n",
      "dtypes: int64(1), object(13)\n",
      "memory usage: 1.2+ KB\n"
     ]
    }
   ],
   "source": [
    "vaccination_center_df.info()"
   ],
   "metadata": {
    "collapsed": false,
    "ExecuteTime": {
     "end_time": "2023-08-16T02:33:51.068810400Z",
     "start_time": "2023-08-16T02:33:51.050714900Z"
    }
   }
  },
  {
   "cell_type": "code",
   "execution_count": 10,
   "outputs": [
    {
     "name": "stdout",
     "output_type": "stream",
     "text": [
      "슝~\n"
     ]
    }
   ],
   "source": [
    "def get_sido_info_list(consumer_key, consumer_secret, cd) -> None:\n",
    "    ACCESS_TOKEN=get_access_token(consumer_key, consumer_secret) # 위에서 정의한 get_access_token 사용\n",
    "    PARAMS={\n",
    "        \"accessToken\": ACCESS_TOKEN,\n",
    "        \"cd\": cd # 선택) 최대 5자리, non(default): 시도정보, 2자리: 시군구, 5자리: 읍면동 # 서울은 11\n",
    "        # \"pg_yn\": , # 선택) 경계 미포함(default): 0, 경계 포함: 1\n",
    "    }\n",
    "\n",
    "    temp_res = requests.get(\n",
    "        url=\"https://sgisapi.kostat.go.kr/OpenAPI3/addr/stage.json\",\n",
    "        params=PARAMS\n",
    "    )\n",
    "\n",
    "    temp_sido_info_list = temp_res.json()[\"result\"]\n",
    "\n",
    "    return temp_sido_info_list\n",
    "\n",
    "print(\"슝~\")"
   ],
   "metadata": {
    "collapsed": false,
    "ExecuteTime": {
     "end_time": "2023-08-16T02:35:36.496316300Z",
     "start_time": "2023-08-16T02:35:36.496316300Z"
    }
   }
  },
  {
   "cell_type": "code",
   "execution_count": 12,
   "outputs": [
    {
     "data": {
      "text/plain": "[{'y_coor': '1944250',\n  'full_addr': '서울특별시 강남구',\n  'x_coor': '961366',\n  'addr_name': '강남구',\n  'cd': '11230'},\n {'y_coor': '1950181',\n  'full_addr': '서울특별시 강동구',\n  'x_coor': '968817',\n  'addr_name': '강동구',\n  'cd': '11250'},\n {'y_coor': '1960547',\n  'full_addr': '서울특별시 강북구',\n  'x_coor': '956880',\n  'addr_name': '강북구',\n  'cd': '11090'},\n {'y_coor': '1951538',\n  'full_addr': '서울특별시 강서구',\n  'x_coor': '940183',\n  'addr_name': '강서구',\n  'cd': '11160'},\n {'y_coor': '1941043',\n  'full_addr': '서울특별시 관악구',\n  'x_coor': '950955',\n  'addr_name': '관악구',\n  'cd': '11210'},\n {'y_coor': '1949789',\n  'full_addr': '서울특별시 광진구',\n  'x_coor': '963406',\n  'addr_name': '광진구',\n  'cd': '11050'},\n {'y_coor': '1944106',\n  'full_addr': '서울특별시 구로구',\n  'x_coor': '942116',\n  'addr_name': '구로구',\n  'cd': '11170'},\n {'y_coor': '1940318',\n  'full_addr': '서울특별시 금천구',\n  'x_coor': '947013',\n  'addr_name': '금천구',\n  'cd': '11180'},\n {'y_coor': '1961524',\n  'full_addr': '서울특별시 노원구',\n  'x_coor': '962515',\n  'addr_name': '노원구',\n  'cd': '11110'},\n {'y_coor': '1963392',\n  'full_addr': '서울특별시 도봉구',\n  'x_coor': '958762',\n  'addr_name': '도봉구',\n  'cd': '11100'},\n {'y_coor': '1953724',\n  'full_addr': '서울특별시 동대문구',\n  'x_coor': '960700',\n  'addr_name': '동대문구',\n  'cd': '11060'},\n {'y_coor': '1945542',\n  'full_addr': '서울특별시 동작구',\n  'x_coor': '951541',\n  'addr_name': '동작구',\n  'cd': '11200'},\n {'y_coor': '1951273',\n  'full_addr': '서울특별시 마포구',\n  'x_coor': '947740',\n  'addr_name': '마포구',\n  'cd': '11140'},\n {'y_coor': '1953308',\n  'full_addr': '서울특별시 서대문구',\n  'x_coor': '950469',\n  'addr_name': '서대문구',\n  'cd': '11130'},\n {'y_coor': '1941664',\n  'full_addr': '서울특별시 서초구',\n  'x_coor': '958560',\n  'addr_name': '서초구',\n  'cd': '11220'},\n {'y_coor': '1950284',\n  'full_addr': '서울특별시 성동구',\n  'x_coor': '959458',\n  'addr_name': '성동구',\n  'cd': '11040'},\n {'y_coor': '1956365',\n  'full_addr': '서울특별시 성북구',\n  'x_coor': '957400',\n  'addr_name': '성북구',\n  'cd': '11080'},\n {'y_coor': '1945217',\n  'full_addr': '서울특별시 송파구',\n  'x_coor': '965995',\n  'addr_name': '송파구',\n  'cd': '11240'},\n {'y_coor': '1947596',\n  'full_addr': '서울특별시 양천구',\n  'x_coor': '942501',\n  'addr_name': '양천구',\n  'cd': '11150'},\n {'y_coor': '1947168',\n  'full_addr': '서울특별시 영등포구',\n  'x_coor': '947876',\n  'addr_name': '영등포구',\n  'cd': '11190'},\n {'y_coor': '1948126',\n  'full_addr': '서울특별시 용산구',\n  'x_coor': '954044',\n  'addr_name': '용산구',\n  'cd': '11030'},\n {'y_coor': '1957902',\n  'full_addr': '서울특별시 은평구',\n  'x_coor': '949435',\n  'addr_name': '은평구',\n  'cd': '11120'},\n {'y_coor': '1955185',\n  'full_addr': '서울특별시 종로구',\n  'x_coor': '953858',\n  'addr_name': '종로구',\n  'cd': '11010'},\n {'y_coor': '1951313',\n  'full_addr': '서울특별시 중구',\n  'x_coor': '955475',\n  'addr_name': '중구',\n  'cd': '11020'},\n {'y_coor': '1955450',\n  'full_addr': '서울특별시 중랑구',\n  'x_coor': '964062',\n  'addr_name': '중랑구',\n  'cd': '11070'}]"
     },
     "execution_count": 12,
     "metadata": {},
     "output_type": "execute_result"
    }
   ],
   "source": [
    "temp_seoul_info_list = get_sido_info_list(consumer_key, consumer_secret, 11)\n",
    "temp_seoul_info_list"
   ],
   "metadata": {
    "collapsed": false,
    "ExecuteTime": {
     "end_time": "2023-08-16T02:37:28.361538500Z",
     "start_time": "2023-08-16T02:37:27.639507100Z"
    }
   }
  },
  {
   "cell_type": "code",
   "execution_count": 13,
   "outputs": [
    {
     "data": {
      "text/plain": "     y_coor   full_addr  x_coor addr_name     cd\n0   1944250   서울특별시 강남구  961366       강남구  11230\n1   1950181   서울특별시 강동구  968817       강동구  11250\n2   1960547   서울특별시 강북구  956880       강북구  11090\n3   1951538   서울특별시 강서구  940183       강서구  11160\n4   1941043   서울특별시 관악구  950955       관악구  11210\n5   1949789   서울특별시 광진구  963406       광진구  11050\n6   1944106   서울특별시 구로구  942116       구로구  11170\n7   1940318   서울특별시 금천구  947013       금천구  11180\n8   1961524   서울특별시 노원구  962515       노원구  11110\n9   1963392   서울특별시 도봉구  958762       도봉구  11100\n10  1953724  서울특별시 동대문구  960700      동대문구  11060\n11  1945542   서울특별시 동작구  951541       동작구  11200\n12  1951273   서울특별시 마포구  947740       마포구  11140\n13  1953308  서울특별시 서대문구  950469      서대문구  11130\n14  1941664   서울특별시 서초구  958560       서초구  11220\n15  1950284   서울특별시 성동구  959458       성동구  11040\n16  1956365   서울특별시 성북구  957400       성북구  11080\n17  1945217   서울특별시 송파구  965995       송파구  11240\n18  1947596   서울특별시 양천구  942501       양천구  11150\n19  1947168  서울특별시 영등포구  947876      영등포구  11190\n20  1948126   서울특별시 용산구  954044       용산구  11030\n21  1957902   서울특별시 은평구  949435       은평구  11120\n22  1955185   서울특별시 종로구  953858       종로구  11010\n23  1951313    서울특별시 중구  955475        중구  11020\n24  1955450   서울특별시 중랑구  964062       중랑구  11070",
      "text/html": "<div>\n<style scoped>\n    .dataframe tbody tr th:only-of-type {\n        vertical-align: middle;\n    }\n\n    .dataframe tbody tr th {\n        vertical-align: top;\n    }\n\n    .dataframe thead th {\n        text-align: right;\n    }\n</style>\n<table border=\"1\" class=\"dataframe\">\n  <thead>\n    <tr style=\"text-align: right;\">\n      <th></th>\n      <th>y_coor</th>\n      <th>full_addr</th>\n      <th>x_coor</th>\n      <th>addr_name</th>\n      <th>cd</th>\n    </tr>\n  </thead>\n  <tbody>\n    <tr>\n      <th>0</th>\n      <td>1944250</td>\n      <td>서울특별시 강남구</td>\n      <td>961366</td>\n      <td>강남구</td>\n      <td>11230</td>\n    </tr>\n    <tr>\n      <th>1</th>\n      <td>1950181</td>\n      <td>서울특별시 강동구</td>\n      <td>968817</td>\n      <td>강동구</td>\n      <td>11250</td>\n    </tr>\n    <tr>\n      <th>2</th>\n      <td>1960547</td>\n      <td>서울특별시 강북구</td>\n      <td>956880</td>\n      <td>강북구</td>\n      <td>11090</td>\n    </tr>\n    <tr>\n      <th>3</th>\n      <td>1951538</td>\n      <td>서울특별시 강서구</td>\n      <td>940183</td>\n      <td>강서구</td>\n      <td>11160</td>\n    </tr>\n    <tr>\n      <th>4</th>\n      <td>1941043</td>\n      <td>서울특별시 관악구</td>\n      <td>950955</td>\n      <td>관악구</td>\n      <td>11210</td>\n    </tr>\n    <tr>\n      <th>5</th>\n      <td>1949789</td>\n      <td>서울특별시 광진구</td>\n      <td>963406</td>\n      <td>광진구</td>\n      <td>11050</td>\n    </tr>\n    <tr>\n      <th>6</th>\n      <td>1944106</td>\n      <td>서울특별시 구로구</td>\n      <td>942116</td>\n      <td>구로구</td>\n      <td>11170</td>\n    </tr>\n    <tr>\n      <th>7</th>\n      <td>1940318</td>\n      <td>서울특별시 금천구</td>\n      <td>947013</td>\n      <td>금천구</td>\n      <td>11180</td>\n    </tr>\n    <tr>\n      <th>8</th>\n      <td>1961524</td>\n      <td>서울특별시 노원구</td>\n      <td>962515</td>\n      <td>노원구</td>\n      <td>11110</td>\n    </tr>\n    <tr>\n      <th>9</th>\n      <td>1963392</td>\n      <td>서울특별시 도봉구</td>\n      <td>958762</td>\n      <td>도봉구</td>\n      <td>11100</td>\n    </tr>\n    <tr>\n      <th>10</th>\n      <td>1953724</td>\n      <td>서울특별시 동대문구</td>\n      <td>960700</td>\n      <td>동대문구</td>\n      <td>11060</td>\n    </tr>\n    <tr>\n      <th>11</th>\n      <td>1945542</td>\n      <td>서울특별시 동작구</td>\n      <td>951541</td>\n      <td>동작구</td>\n      <td>11200</td>\n    </tr>\n    <tr>\n      <th>12</th>\n      <td>1951273</td>\n      <td>서울특별시 마포구</td>\n      <td>947740</td>\n      <td>마포구</td>\n      <td>11140</td>\n    </tr>\n    <tr>\n      <th>13</th>\n      <td>1953308</td>\n      <td>서울특별시 서대문구</td>\n      <td>950469</td>\n      <td>서대문구</td>\n      <td>11130</td>\n    </tr>\n    <tr>\n      <th>14</th>\n      <td>1941664</td>\n      <td>서울특별시 서초구</td>\n      <td>958560</td>\n      <td>서초구</td>\n      <td>11220</td>\n    </tr>\n    <tr>\n      <th>15</th>\n      <td>1950284</td>\n      <td>서울특별시 성동구</td>\n      <td>959458</td>\n      <td>성동구</td>\n      <td>11040</td>\n    </tr>\n    <tr>\n      <th>16</th>\n      <td>1956365</td>\n      <td>서울특별시 성북구</td>\n      <td>957400</td>\n      <td>성북구</td>\n      <td>11080</td>\n    </tr>\n    <tr>\n      <th>17</th>\n      <td>1945217</td>\n      <td>서울특별시 송파구</td>\n      <td>965995</td>\n      <td>송파구</td>\n      <td>11240</td>\n    </tr>\n    <tr>\n      <th>18</th>\n      <td>1947596</td>\n      <td>서울특별시 양천구</td>\n      <td>942501</td>\n      <td>양천구</td>\n      <td>11150</td>\n    </tr>\n    <tr>\n      <th>19</th>\n      <td>1947168</td>\n      <td>서울특별시 영등포구</td>\n      <td>947876</td>\n      <td>영등포구</td>\n      <td>11190</td>\n    </tr>\n    <tr>\n      <th>20</th>\n      <td>1948126</td>\n      <td>서울특별시 용산구</td>\n      <td>954044</td>\n      <td>용산구</td>\n      <td>11030</td>\n    </tr>\n    <tr>\n      <th>21</th>\n      <td>1957902</td>\n      <td>서울특별시 은평구</td>\n      <td>949435</td>\n      <td>은평구</td>\n      <td>11120</td>\n    </tr>\n    <tr>\n      <th>22</th>\n      <td>1955185</td>\n      <td>서울특별시 종로구</td>\n      <td>953858</td>\n      <td>종로구</td>\n      <td>11010</td>\n    </tr>\n    <tr>\n      <th>23</th>\n      <td>1951313</td>\n      <td>서울특별시 중구</td>\n      <td>955475</td>\n      <td>중구</td>\n      <td>11020</td>\n    </tr>\n    <tr>\n      <th>24</th>\n      <td>1955450</td>\n      <td>서울특별시 중랑구</td>\n      <td>964062</td>\n      <td>중랑구</td>\n      <td>11070</td>\n    </tr>\n  </tbody>\n</table>\n</div>"
     },
     "execution_count": 13,
     "metadata": {},
     "output_type": "execute_result"
    }
   ],
   "source": [
    "seoul_info_df = pd.DataFrame(temp_seoul_info_list)\n",
    "seoul_info_df"
   ],
   "metadata": {
    "collapsed": false,
    "ExecuteTime": {
     "end_time": "2023-08-16T02:43:04.266646800Z",
     "start_time": "2023-08-16T02:43:04.242950500Z"
    }
   }
  },
  {
   "cell_type": "code",
   "execution_count": 14,
   "outputs": [
    {
     "data": {
      "text/plain": "       cd   full_addr addr_name  x_coor   y_coor\n0   11230   서울특별시 강남구       강남구  961366  1944250\n1   11250   서울특별시 강동구       강동구  968817  1950181\n2   11090   서울특별시 강북구       강북구  956880  1960547\n3   11160   서울특별시 강서구       강서구  940183  1951538\n4   11210   서울특별시 관악구       관악구  950955  1941043\n5   11050   서울특별시 광진구       광진구  963406  1949789\n6   11170   서울특별시 구로구       구로구  942116  1944106\n7   11180   서울특별시 금천구       금천구  947013  1940318\n8   11110   서울특별시 노원구       노원구  962515  1961524\n9   11100   서울특별시 도봉구       도봉구  958762  1963392\n10  11060  서울특별시 동대문구      동대문구  960700  1953724\n11  11200   서울특별시 동작구       동작구  951541  1945542\n12  11140   서울특별시 마포구       마포구  947740  1951273\n13  11130  서울특별시 서대문구      서대문구  950469  1953308\n14  11220   서울특별시 서초구       서초구  958560  1941664\n15  11040   서울특별시 성동구       성동구  959458  1950284\n16  11080   서울특별시 성북구       성북구  957400  1956365\n17  11240   서울특별시 송파구       송파구  965995  1945217\n18  11150   서울특별시 양천구       양천구  942501  1947596\n19  11190  서울특별시 영등포구      영등포구  947876  1947168\n20  11030   서울특별시 용산구       용산구  954044  1948126\n21  11120   서울특별시 은평구       은평구  949435  1957902\n22  11010   서울특별시 종로구       종로구  953858  1955185\n23  11020    서울특별시 중구        중구  955475  1951313\n24  11070   서울특별시 중랑구       중랑구  964062  1955450",
      "text/html": "<div>\n<style scoped>\n    .dataframe tbody tr th:only-of-type {\n        vertical-align: middle;\n    }\n\n    .dataframe tbody tr th {\n        vertical-align: top;\n    }\n\n    .dataframe thead th {\n        text-align: right;\n    }\n</style>\n<table border=\"1\" class=\"dataframe\">\n  <thead>\n    <tr style=\"text-align: right;\">\n      <th></th>\n      <th>cd</th>\n      <th>full_addr</th>\n      <th>addr_name</th>\n      <th>x_coor</th>\n      <th>y_coor</th>\n    </tr>\n  </thead>\n  <tbody>\n    <tr>\n      <th>0</th>\n      <td>11230</td>\n      <td>서울특별시 강남구</td>\n      <td>강남구</td>\n      <td>961366</td>\n      <td>1944250</td>\n    </tr>\n    <tr>\n      <th>1</th>\n      <td>11250</td>\n      <td>서울특별시 강동구</td>\n      <td>강동구</td>\n      <td>968817</td>\n      <td>1950181</td>\n    </tr>\n    <tr>\n      <th>2</th>\n      <td>11090</td>\n      <td>서울특별시 강북구</td>\n      <td>강북구</td>\n      <td>956880</td>\n      <td>1960547</td>\n    </tr>\n    <tr>\n      <th>3</th>\n      <td>11160</td>\n      <td>서울특별시 강서구</td>\n      <td>강서구</td>\n      <td>940183</td>\n      <td>1951538</td>\n    </tr>\n    <tr>\n      <th>4</th>\n      <td>11210</td>\n      <td>서울특별시 관악구</td>\n      <td>관악구</td>\n      <td>950955</td>\n      <td>1941043</td>\n    </tr>\n    <tr>\n      <th>5</th>\n      <td>11050</td>\n      <td>서울특별시 광진구</td>\n      <td>광진구</td>\n      <td>963406</td>\n      <td>1949789</td>\n    </tr>\n    <tr>\n      <th>6</th>\n      <td>11170</td>\n      <td>서울특별시 구로구</td>\n      <td>구로구</td>\n      <td>942116</td>\n      <td>1944106</td>\n    </tr>\n    <tr>\n      <th>7</th>\n      <td>11180</td>\n      <td>서울특별시 금천구</td>\n      <td>금천구</td>\n      <td>947013</td>\n      <td>1940318</td>\n    </tr>\n    <tr>\n      <th>8</th>\n      <td>11110</td>\n      <td>서울특별시 노원구</td>\n      <td>노원구</td>\n      <td>962515</td>\n      <td>1961524</td>\n    </tr>\n    <tr>\n      <th>9</th>\n      <td>11100</td>\n      <td>서울특별시 도봉구</td>\n      <td>도봉구</td>\n      <td>958762</td>\n      <td>1963392</td>\n    </tr>\n    <tr>\n      <th>10</th>\n      <td>11060</td>\n      <td>서울특별시 동대문구</td>\n      <td>동대문구</td>\n      <td>960700</td>\n      <td>1953724</td>\n    </tr>\n    <tr>\n      <th>11</th>\n      <td>11200</td>\n      <td>서울특별시 동작구</td>\n      <td>동작구</td>\n      <td>951541</td>\n      <td>1945542</td>\n    </tr>\n    <tr>\n      <th>12</th>\n      <td>11140</td>\n      <td>서울특별시 마포구</td>\n      <td>마포구</td>\n      <td>947740</td>\n      <td>1951273</td>\n    </tr>\n    <tr>\n      <th>13</th>\n      <td>11130</td>\n      <td>서울특별시 서대문구</td>\n      <td>서대문구</td>\n      <td>950469</td>\n      <td>1953308</td>\n    </tr>\n    <tr>\n      <th>14</th>\n      <td>11220</td>\n      <td>서울특별시 서초구</td>\n      <td>서초구</td>\n      <td>958560</td>\n      <td>1941664</td>\n    </tr>\n    <tr>\n      <th>15</th>\n      <td>11040</td>\n      <td>서울특별시 성동구</td>\n      <td>성동구</td>\n      <td>959458</td>\n      <td>1950284</td>\n    </tr>\n    <tr>\n      <th>16</th>\n      <td>11080</td>\n      <td>서울특별시 성북구</td>\n      <td>성북구</td>\n      <td>957400</td>\n      <td>1956365</td>\n    </tr>\n    <tr>\n      <th>17</th>\n      <td>11240</td>\n      <td>서울특별시 송파구</td>\n      <td>송파구</td>\n      <td>965995</td>\n      <td>1945217</td>\n    </tr>\n    <tr>\n      <th>18</th>\n      <td>11150</td>\n      <td>서울특별시 양천구</td>\n      <td>양천구</td>\n      <td>942501</td>\n      <td>1947596</td>\n    </tr>\n    <tr>\n      <th>19</th>\n      <td>11190</td>\n      <td>서울특별시 영등포구</td>\n      <td>영등포구</td>\n      <td>947876</td>\n      <td>1947168</td>\n    </tr>\n    <tr>\n      <th>20</th>\n      <td>11030</td>\n      <td>서울특별시 용산구</td>\n      <td>용산구</td>\n      <td>954044</td>\n      <td>1948126</td>\n    </tr>\n    <tr>\n      <th>21</th>\n      <td>11120</td>\n      <td>서울특별시 은평구</td>\n      <td>은평구</td>\n      <td>949435</td>\n      <td>1957902</td>\n    </tr>\n    <tr>\n      <th>22</th>\n      <td>11010</td>\n      <td>서울특별시 종로구</td>\n      <td>종로구</td>\n      <td>953858</td>\n      <td>1955185</td>\n    </tr>\n    <tr>\n      <th>23</th>\n      <td>11020</td>\n      <td>서울특별시 중구</td>\n      <td>중구</td>\n      <td>955475</td>\n      <td>1951313</td>\n    </tr>\n    <tr>\n      <th>24</th>\n      <td>11070</td>\n      <td>서울특별시 중랑구</td>\n      <td>중랑구</td>\n      <td>964062</td>\n      <td>1955450</td>\n    </tr>\n  </tbody>\n</table>\n</div>"
     },
     "execution_count": 14,
     "metadata": {},
     "output_type": "execute_result"
    }
   ],
   "source": [
    "seoul_info_df = seoul_info_df[[\"cd\", \"full_addr\", \"addr_name\", \"x_coor\", \"y_coor\"]]\n",
    "seoul_info_df"
   ],
   "metadata": {
    "collapsed": false,
    "ExecuteTime": {
     "end_time": "2023-08-16T02:43:44.111326400Z",
     "start_time": "2023-08-16T02:43:44.079595100Z"
    }
   }
  },
  {
   "cell_type": "code",
   "execution_count": 15,
   "outputs": [
    {
     "name": "stdout",
     "output_type": "stream",
     "text": [
      "<class 'pandas.core.frame.DataFrame'>\n",
      "RangeIndex: 25 entries, 0 to 24\n",
      "Data columns (total 5 columns):\n",
      " #   Column     Non-Null Count  Dtype \n",
      "---  ------     --------------  ----- \n",
      " 0   cd         25 non-null     object\n",
      " 1   full_addr  25 non-null     object\n",
      " 2   addr_name  25 non-null     object\n",
      " 3   x_coor     25 non-null     object\n",
      " 4   y_coor     25 non-null     object\n",
      "dtypes: object(5)\n",
      "memory usage: 1.1+ KB\n"
     ]
    }
   ],
   "source": [
    "seoul_info_df.info()"
   ],
   "metadata": {
    "collapsed": false,
    "ExecuteTime": {
     "end_time": "2023-08-16T02:43:53.081097600Z",
     "start_time": "2023-08-16T02:43:53.081097600Z"
    }
   }
  },
  {
   "cell_type": "code",
   "execution_count": 16,
   "outputs": [],
   "source": [
    "### 지역코드를 활용해 동 단위 정보를 데이터 프레임으로 가져오는 함수\n",
    "def get_cd_df(consumer_key, consumer_secret, cd) -> None:\n",
    "    ACCESS_TOKEN=get_access_token(consumer_key, consumer_secret)\n",
    "    PARAMS={\n",
    "        \"accessToken\": ACCESS_TOKEN,\n",
    "        \"cd\": cd # 선택) 최대 5자리, non(default): 시도정보, 2자리: 시군구, 5자리: 읍면동\n",
    "        # \"pg_yn\": , # 선택) 경계 미포함(default): 0, 경계 포함: 1\n",
    "    }\n",
    "\n",
    "    res = requests.get(\n",
    "        url=\"https://sgisapi.kostat.go.kr/OpenAPI3/addr/stage.json\",\n",
    "        params=PARAMS\n",
    "    )\n",
    "\n",
    "    # json -> dataframe\n",
    "    temp_df = pd.DataFrame(res.json()[\"result\"])\n",
    "\n",
    "    # 컬럼 순서변경\n",
    "    temp_df = temp_df[[\"cd\", \"full_addr\", \"addr_name\", \"x_coor\", \"y_coor\"]]\n",
    "\n",
    "    return temp_df"
   ],
   "metadata": {
    "collapsed": false,
    "ExecuteTime": {
     "end_time": "2023-08-16T02:44:58.135422100Z",
     "start_time": "2023-08-16T02:44:58.103731400Z"
    }
   }
  },
  {
   "cell_type": "code",
   "execution_count": 17,
   "outputs": [
    {
     "data": {
      "text/plain": "['11230',\n '11250',\n '11090',\n '11160',\n '11210',\n '11050',\n '11170',\n '11180',\n '11110',\n '11100',\n '11060',\n '11200',\n '11140',\n '11130',\n '11220',\n '11040',\n '11080',\n '11240',\n '11150',\n '11190',\n '11030',\n '11120',\n '11010',\n '11020',\n '11070']"
     },
     "execution_count": 17,
     "metadata": {},
     "output_type": "execute_result"
    }
   ],
   "source": [
    "seoul_sig_cd_list = get_cd_df(consumer_key, consumer_secret, 11)[\"cd\"].values.tolist()\n",
    "seoul_sig_cd_list"
   ],
   "metadata": {
    "collapsed": false,
    "ExecuteTime": {
     "end_time": "2023-08-16T02:45:13.916463900Z",
     "start_time": "2023-08-16T02:45:13.198513900Z"
    }
   }
  },
  {
   "cell_type": "code",
   "execution_count": 23,
   "outputs": [],
   "source": [
    "# import time\n",
    "#\n",
    "# seoul_emd_df = pd.DataFrame()\n",
    "# for cd in seoul_sig_cd_list:\n",
    "#     temp_df = get_cd_df(consumer_key, consumer_secret, int(cd))\n",
    "#     seoul_emd_df = seoul_emd_df.append(temp_df)\n",
    "#\n",
    "# seoul_emd_df"
   ],
   "metadata": {
    "collapsed": false,
    "ExecuteTime": {
     "end_time": "2023-08-16T13:04:08.317697400Z",
     "start_time": "2023-08-16T13:04:08.301728200Z"
    }
   }
  },
  {
   "cell_type": "code",
   "execution_count": 22,
   "outputs": [],
   "source": [
    "import folium"
   ],
   "metadata": {
    "collapsed": false,
    "ExecuteTime": {
     "end_time": "2023-08-16T07:13:30.298633300Z",
     "start_time": "2023-08-16T07:13:29.805056100Z"
    }
   }
  },
  {
   "cell_type": "code",
   "execution_count": 24,
   "outputs": [],
   "source": [
    "def get_country_info_list(consumer_key, consumer_secret, year) -> None:\n",
    "    ACCESS_TOKEN=get_access_token(consumer_key, consumer_secret) # 위에서 정의한 get_access_token 사용\n",
    "    PARAMS={\n",
    "        \"accessToken\": ACCESS_TOKEN,\n",
    "        \"year\": year, # 연도, (2000, 2005, 2010, 2015)\n",
    "    }\n",
    "\n",
    "    temp_res = requests.get(\n",
    "        url=\"https://sgisapi.kostat.go.kr/OpenAPI3/stats/farmhousehold.json\", # 농가 통계 정보 데이터 API 주소를 입력하세요\n",
    "        params=PARAMS\n",
    "    )\n",
    "\n",
    "    temp_country_info_list= temp_res.json()[\"result\"]\n",
    "\n",
    "    return temp_country_info_list"
   ],
   "metadata": {
    "collapsed": false,
    "ExecuteTime": {
     "end_time": "2023-08-16T13:06:20.115575Z",
     "start_time": "2023-08-16T13:06:20.099777700Z"
    }
   }
  },
  {
   "cell_type": "code",
   "execution_count": 25,
   "outputs": [
    {
     "data": {
      "text/plain": "   adm_cd farm_cnt   adm_nm avg_population population\n0      11     4124    서울특별시              3      13604\n1      21     8460    부산광역시              3      24970\n2      22    16971    대구광역시              3      50345\n3      23    13835    인천광역시              3      37750\n4      24    13077    광주광역시              3      37987\n5      25     8914    대전광역시              3      27605\n6      26    12124    울산광역시              3      34078\n7      29     7090  세종특별자치시              3      19380\n8      31   135329      경기도              3     412129\n9      32    72472      강원도              3     191924\n10     33    79307     충청북도              3     209787\n11     34   144991     충청남도              3     376676\n12     35   109435     전라북도              3     277617\n13     36   170214     전라남도              2     395841\n14     37   201654     경상북도              2     491234\n15     38   141428     경상남도              2     347490\n16     39    37893  제주특별자치도              3     114539",
      "text/html": "<div>\n<style scoped>\n    .dataframe tbody tr th:only-of-type {\n        vertical-align: middle;\n    }\n\n    .dataframe tbody tr th {\n        vertical-align: top;\n    }\n\n    .dataframe thead th {\n        text-align: right;\n    }\n</style>\n<table border=\"1\" class=\"dataframe\">\n  <thead>\n    <tr style=\"text-align: right;\">\n      <th></th>\n      <th>adm_cd</th>\n      <th>farm_cnt</th>\n      <th>adm_nm</th>\n      <th>avg_population</th>\n      <th>population</th>\n    </tr>\n  </thead>\n  <tbody>\n    <tr>\n      <th>0</th>\n      <td>11</td>\n      <td>4124</td>\n      <td>서울특별시</td>\n      <td>3</td>\n      <td>13604</td>\n    </tr>\n    <tr>\n      <th>1</th>\n      <td>21</td>\n      <td>8460</td>\n      <td>부산광역시</td>\n      <td>3</td>\n      <td>24970</td>\n    </tr>\n    <tr>\n      <th>2</th>\n      <td>22</td>\n      <td>16971</td>\n      <td>대구광역시</td>\n      <td>3</td>\n      <td>50345</td>\n    </tr>\n    <tr>\n      <th>3</th>\n      <td>23</td>\n      <td>13835</td>\n      <td>인천광역시</td>\n      <td>3</td>\n      <td>37750</td>\n    </tr>\n    <tr>\n      <th>4</th>\n      <td>24</td>\n      <td>13077</td>\n      <td>광주광역시</td>\n      <td>3</td>\n      <td>37987</td>\n    </tr>\n    <tr>\n      <th>5</th>\n      <td>25</td>\n      <td>8914</td>\n      <td>대전광역시</td>\n      <td>3</td>\n      <td>27605</td>\n    </tr>\n    <tr>\n      <th>6</th>\n      <td>26</td>\n      <td>12124</td>\n      <td>울산광역시</td>\n      <td>3</td>\n      <td>34078</td>\n    </tr>\n    <tr>\n      <th>7</th>\n      <td>29</td>\n      <td>7090</td>\n      <td>세종특별자치시</td>\n      <td>3</td>\n      <td>19380</td>\n    </tr>\n    <tr>\n      <th>8</th>\n      <td>31</td>\n      <td>135329</td>\n      <td>경기도</td>\n      <td>3</td>\n      <td>412129</td>\n    </tr>\n    <tr>\n      <th>9</th>\n      <td>32</td>\n      <td>72472</td>\n      <td>강원도</td>\n      <td>3</td>\n      <td>191924</td>\n    </tr>\n    <tr>\n      <th>10</th>\n      <td>33</td>\n      <td>79307</td>\n      <td>충청북도</td>\n      <td>3</td>\n      <td>209787</td>\n    </tr>\n    <tr>\n      <th>11</th>\n      <td>34</td>\n      <td>144991</td>\n      <td>충청남도</td>\n      <td>3</td>\n      <td>376676</td>\n    </tr>\n    <tr>\n      <th>12</th>\n      <td>35</td>\n      <td>109435</td>\n      <td>전라북도</td>\n      <td>3</td>\n      <td>277617</td>\n    </tr>\n    <tr>\n      <th>13</th>\n      <td>36</td>\n      <td>170214</td>\n      <td>전라남도</td>\n      <td>2</td>\n      <td>395841</td>\n    </tr>\n    <tr>\n      <th>14</th>\n      <td>37</td>\n      <td>201654</td>\n      <td>경상북도</td>\n      <td>2</td>\n      <td>491234</td>\n    </tr>\n    <tr>\n      <th>15</th>\n      <td>38</td>\n      <td>141428</td>\n      <td>경상남도</td>\n      <td>2</td>\n      <td>347490</td>\n    </tr>\n    <tr>\n      <th>16</th>\n      <td>39</td>\n      <td>37893</td>\n      <td>제주특별자치도</td>\n      <td>3</td>\n      <td>114539</td>\n    </tr>\n  </tbody>\n</table>\n</div>"
     },
     "execution_count": 25,
     "metadata": {},
     "output_type": "execute_result"
    }
   ],
   "source": [
    "temp_country_info_list = get_country_info_list(consumer_key, consumer_secret, 2010)\n",
    "country_info_df = pd.DataFrame(temp_country_info_list)\n",
    "country_info_df"
   ],
   "metadata": {
    "collapsed": false,
    "ExecuteTime": {
     "end_time": "2023-08-16T13:09:01.624379100Z",
     "start_time": "2023-08-16T13:07:59.168985400Z"
    }
   }
  },
  {
   "cell_type": "code",
   "execution_count": null,
   "outputs": [],
   "source": [],
   "metadata": {
    "collapsed": false
   }
  }
 ],
 "metadata": {
  "kernelspec": {
   "display_name": "Python 3",
   "language": "python",
   "name": "python3"
  },
  "language_info": {
   "codemirror_mode": {
    "name": "ipython",
    "version": 2
   },
   "file_extension": ".py",
   "mimetype": "text/x-python",
   "name": "python",
   "nbconvert_exporter": "python",
   "pygments_lexer": "ipython2",
   "version": "2.7.6"
  }
 },
 "nbformat": 4,
 "nbformat_minor": 0
}
