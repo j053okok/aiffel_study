{
 "cells": [
  {
   "cell_type": "code",
   "execution_count": 9,
   "metadata": {
    "collapsed": true,
    "ExecuteTime": {
     "end_time": "2023-08-16T14:03:58.464760400Z",
     "start_time": "2023-08-16T14:03:58.187100100Z"
    }
   },
   "outputs": [],
   "source": [
    "import requests\n",
    "import pandas as pd\n",
    "import numpy as np\n",
    "import geopandas as gpd\n",
    "import pyproj\n",
    "\n",
    "from shapely.geometry import mapping, shape, Point, Polygon, LineString"
   ]
  },
  {
   "cell_type": "code",
   "execution_count": 2,
   "outputs": [
    {
     "name": "stdout",
     "output_type": "stream",
     "text": [
      "access token:  991aca35-a93a-4d88-98a9-6f24ad0df500\n"
     ]
    }
   ],
   "source": [
    "def get_access_token(consumer_key, consumer_secret) -> None :\n",
    "    temp_res = requests.get(\n",
    "        url=\"https://sgisapi.kostat.go.kr/OpenAPI3/auth/authentication.json\",\n",
    "        params={\n",
    "            \"consumer_key\": consumer_key,\n",
    "            \"consumer_secret\": consumer_secret\n",
    "        }\n",
    "    )\n",
    "\n",
    "    access_token = temp_res.json()[\"result\"][\"accessToken\"]\n",
    "\n",
    "    return access_token\n",
    "\n",
    "\n",
    "consumer_key = \"0557bd5252b34142911d\"\n",
    "consumer_secret = \"d90d86911924440786d4\"\n",
    "\n",
    "print('access token: ', get_access_token(consumer_key, consumer_secret))"
   ],
   "metadata": {
    "collapsed": false,
    "ExecuteTime": {
     "end_time": "2023-08-16T13:59:52.450980500Z",
     "start_time": "2023-08-16T13:59:50.213364200Z"
    }
   }
  },
  {
   "cell_type": "code",
   "execution_count": 5,
   "outputs": [],
   "source": [
    "## SGIS access_token 가져오기\n",
    "access_token = get_access_token(consumer_key, consumer_secret)\n",
    "\n",
    "## 주소를 입력해 주소의 데이터를 DataFrame으로 가지고오는 함수\n",
    "def get_adress_info(access_token, address) -> None:\n",
    "    url=\"https://sgisapi.kostat.go.kr/OpenAPI3/addr/geocode.json\"\n",
    "    params={\n",
    "        \"accessToken\": access_token,\n",
    "        \"address\": address\n",
    "    }\n",
    "\n",
    "    temp_res = requests.get(\n",
    "        url=url,\n",
    "        params=params\n",
    "    ).json()[\"result\"][\"resultdata\"]\n",
    "\n",
    "    temp_df = pd.DataFrame(temp_res)\n",
    "\n",
    "    return temp_df"
   ],
   "metadata": {
    "collapsed": false,
    "ExecuteTime": {
     "end_time": "2023-08-16T14:00:26.331295400Z",
     "start_time": "2023-08-16T14:00:25.284441500Z"
    }
   }
  },
  {
   "cell_type": "markdown",
   "source": [
    "# GeoPandas 를 활용한 좌표계 변환 방법"
   ],
   "metadata": {
    "collapsed": false
   }
  },
  {
   "cell_type": "code",
   "execution_count": 7,
   "outputs": [
    {
     "data": {
      "text/plain": "  ri_nm road_nm_sub_no sgg_cd    adm_cd road_nm_main_no      leg_cd road_nm  \\\n0  null              0  23010  23010640             271  2811014700     공항로   \n\n  bd_matches bd_sub_nm addr_type  ...  road_cd bd_main_nm adm_nm  \\\n0          4      null         6  ...  3149003    인천국제공항역    운서동   \n\n  jibun_main_no origin_xy jibun_sub_no       ri_cd                 y leg_nm  \\\n0          null     BUILD         null  2811014700  1939236.69257386    운서동   \n\n                  x  \n0  907316.512763601  \n\n[1 rows x 23 columns]",
      "text/html": "<div>\n<style scoped>\n    .dataframe tbody tr th:only-of-type {\n        vertical-align: middle;\n    }\n\n    .dataframe tbody tr th {\n        vertical-align: top;\n    }\n\n    .dataframe thead th {\n        text-align: right;\n    }\n</style>\n<table border=\"1\" class=\"dataframe\">\n  <thead>\n    <tr style=\"text-align: right;\">\n      <th></th>\n      <th>ri_nm</th>\n      <th>road_nm_sub_no</th>\n      <th>sgg_cd</th>\n      <th>adm_cd</th>\n      <th>road_nm_main_no</th>\n      <th>leg_cd</th>\n      <th>road_nm</th>\n      <th>bd_matches</th>\n      <th>bd_sub_nm</th>\n      <th>addr_type</th>\n      <th>...</th>\n      <th>road_cd</th>\n      <th>bd_main_nm</th>\n      <th>adm_nm</th>\n      <th>jibun_main_no</th>\n      <th>origin_xy</th>\n      <th>jibun_sub_no</th>\n      <th>ri_cd</th>\n      <th>y</th>\n      <th>leg_nm</th>\n      <th>x</th>\n    </tr>\n  </thead>\n  <tbody>\n    <tr>\n      <th>0</th>\n      <td>null</td>\n      <td>0</td>\n      <td>23010</td>\n      <td>23010640</td>\n      <td>271</td>\n      <td>2811014700</td>\n      <td>공항로</td>\n      <td>4</td>\n      <td>null</td>\n      <td>6</td>\n      <td>...</td>\n      <td>3149003</td>\n      <td>인천국제공항역</td>\n      <td>운서동</td>\n      <td>null</td>\n      <td>BUILD</td>\n      <td>null</td>\n      <td>2811014700</td>\n      <td>1939236.69257386</td>\n      <td>운서동</td>\n      <td>907316.512763601</td>\n    </tr>\n  </tbody>\n</table>\n<p>1 rows × 23 columns</p>\n</div>"
     },
     "execution_count": 7,
     "metadata": {},
     "output_type": "execute_result"
    }
   ],
   "source": [
    "# 인천공항 주소로 데이터 가져오기\n",
    "address_df = get_adress_info(access_token, \"인천 중구 공항로 271\")\n",
    "address_df"
   ],
   "metadata": {
    "collapsed": false,
    "ExecuteTime": {
     "end_time": "2023-08-16T14:02:02.853223400Z",
     "start_time": "2023-08-16T14:02:01.943148600Z"
    }
   }
  },
  {
   "cell_type": "code",
   "execution_count": 8,
   "outputs": [
    {
     "name": "stdout",
     "output_type": "stream",
     "text": [
      "<class 'pandas.core.frame.DataFrame'>\n",
      "RangeIndex: 1 entries, 0 to 0\n",
      "Data columns (total 23 columns):\n",
      " #   Column           Non-Null Count  Dtype  \n",
      "---  ------           --------------  -----  \n",
      " 0   ri_nm            1 non-null      object \n",
      " 1   road_nm_sub_no   1 non-null      object \n",
      " 2   sgg_cd           1 non-null      object \n",
      " 3   adm_cd           1 non-null      object \n",
      " 4   road_nm_main_no  1 non-null      object \n",
      " 5   leg_cd           1 non-null      object \n",
      " 6   road_nm          1 non-null      object \n",
      " 7   bd_matches       1 non-null      object \n",
      " 8   bd_sub_nm        1 non-null      object \n",
      " 9   addr_type        1 non-null      object \n",
      " 10  sido_nm          1 non-null      object \n",
      " 11  sgg_nm           1 non-null      object \n",
      " 12  sido_cd          1 non-null      object \n",
      " 13  road_cd          1 non-null      object \n",
      " 14  bd_main_nm       1 non-null      object \n",
      " 15  adm_nm           1 non-null      object \n",
      " 16  jibun_main_no    1 non-null      object \n",
      " 17  origin_xy        1 non-null      object \n",
      " 18  jibun_sub_no     1 non-null      object \n",
      " 19  ri_cd            1 non-null      object \n",
      " 20  y                1 non-null      float64\n",
      " 21  leg_nm           1 non-null      object \n",
      " 22  x                1 non-null      float64\n",
      "dtypes: float64(2), object(21)\n",
      "memory usage: 316.0+ bytes\n"
     ]
    }
   ],
   "source": [
    "address_df['x'] = address_df['x'].astype(float)\n",
    "address_df['y'] = address_df['y'].astype(float)\n",
    "address_df.info()"
   ],
   "metadata": {
    "collapsed": false,
    "ExecuteTime": {
     "end_time": "2023-08-16T14:02:49.912099600Z",
     "start_time": "2023-08-16T14:02:49.894212800Z"
    }
   }
  },
  {
   "cell_type": "code",
   "execution_count": 10,
   "outputs": [
    {
     "data": {
      "text/plain": "  bd_main_nm              x             y                        geometry\n0    인천국제공항역  907316.512764  1.939237e+06  POINT (907316.513 1939236.693)",
      "text/html": "<div>\n<style scoped>\n    .dataframe tbody tr th:only-of-type {\n        vertical-align: middle;\n    }\n\n    .dataframe tbody tr th {\n        vertical-align: top;\n    }\n\n    .dataframe thead th {\n        text-align: right;\n    }\n</style>\n<table border=\"1\" class=\"dataframe\">\n  <thead>\n    <tr style=\"text-align: right;\">\n      <th></th>\n      <th>bd_main_nm</th>\n      <th>x</th>\n      <th>y</th>\n      <th>geometry</th>\n    </tr>\n  </thead>\n  <tbody>\n    <tr>\n      <th>0</th>\n      <td>인천국제공항역</td>\n      <td>907316.512764</td>\n      <td>1.939237e+06</td>\n      <td>POINT (907316.513 1939236.693)</td>\n    </tr>\n  </tbody>\n</table>\n</div>"
     },
     "execution_count": 10,
     "metadata": {},
     "output_type": "execute_result"
    }
   ],
   "source": [
    "address_df['geometry'] = address_df.apply(lambda row: Point([row['x'], row['y']]), axis=1)\n",
    "address_geo_df = gpd.GeoDataFrame(address_df, geometry=\"geometry\")\n",
    "address_geo_df[['bd_main_nm', 'x', 'y', 'geometry']]"
   ],
   "metadata": {
    "collapsed": false,
    "ExecuteTime": {
     "end_time": "2023-08-16T14:05:16.869864200Z",
     "start_time": "2023-08-16T14:05:16.838590500Z"
    }
   }
  },
  {
   "cell_type": "code",
   "execution_count": 11,
   "outputs": [
    {
     "name": "stdout",
     "output_type": "stream",
     "text": [
      "None\n"
     ]
    }
   ],
   "source": [
    "# 좌표계를 확인했을때 None면 정의 해줘야함\n",
    "print(address_geo_df.crs)"
   ],
   "metadata": {
    "collapsed": false,
    "ExecuteTime": {
     "end_time": "2023-08-16T14:05:45.719579400Z",
     "start_time": "2023-08-16T14:05:45.719579400Z"
    }
   }
  },
  {
   "cell_type": "code",
   "execution_count": 12,
   "outputs": [
    {
     "name": "stderr",
     "output_type": "stream",
     "text": [
      "C:\\Users\\김영준\\PycharmProjects\\aiffel_study\\venv\\Lib\\site-packages\\pyproj\\crs\\crs.py:141: FutureWarning: '+init=<authority>:<code>' syntax is deprecated. '<authority>:<code>' is the preferred initialization method. When making the change, be mindful of axis order changes: https://pyproj4.github.io/pyproj/stable/gotchas.html#axis-order-changes-in-proj-6\n",
      "  in_crs_string = _prepare_from_proj_string(in_crs_string)\n"
     ]
    },
    {
     "data": {
      "text/plain": "<Projected CRS: +init=epsg:5179 +type=crs>\nName: Korea 2000 / Unified CS\nAxis Info [cartesian]:\n- E[east]: Easting (metre)\n- N[north]: Northing (metre)\nArea of Use:\n- name: Republic of Korea (South Korea) - onshore and offshore.\n- bounds: (122.71, 28.6, 134.28, 40.27)\nCoordinate Operation:\n- name: Korea Unified Belt\n- method: Transverse Mercator\nDatum: Geocentric datum of Korea\n- Ellipsoid: GRS 1980\n- Prime Meridian: Greenwich"
     },
     "execution_count": 12,
     "metadata": {},
     "output_type": "execute_result"
    }
   ],
   "source": [
    "address_geo_df.crs = {\"init\":\"epsg:5179\"} # epsg:5179 는 UTM-K 좌표계\n",
    "address_geo_df.crs"
   ],
   "metadata": {
    "collapsed": false,
    "ExecuteTime": {
     "end_time": "2023-08-16T14:06:35.863063900Z",
     "start_time": "2023-08-16T14:06:35.796061600Z"
    }
   }
  },
  {
   "cell_type": "code",
   "execution_count": 13,
   "outputs": [
    {
     "name": "stderr",
     "output_type": "stream",
     "text": [
      "C:\\Users\\김영준\\PycharmProjects\\aiffel_study\\venv\\Lib\\site-packages\\pyproj\\crs\\crs.py:141: FutureWarning: '+init=<authority>:<code>' syntax is deprecated. '<authority>:<code>' is the preferred initialization method. When making the change, be mindful of axis order changes: https://pyproj4.github.io/pyproj/stable/gotchas.html#axis-order-changes-in-proj-6\n",
      "  in_crs_string = _prepare_from_proj_string(in_crs_string)\n"
     ]
    },
    {
     "data": {
      "text/plain": "  bd_main_nm              x             y                    geometry\n0    인천국제공항역  907316.512764  1.939237e+06  POINT (126.45217 37.44768)",
      "text/html": "<div>\n<style scoped>\n    .dataframe tbody tr th:only-of-type {\n        vertical-align: middle;\n    }\n\n    .dataframe tbody tr th {\n        vertical-align: top;\n    }\n\n    .dataframe thead th {\n        text-align: right;\n    }\n</style>\n<table border=\"1\" class=\"dataframe\">\n  <thead>\n    <tr style=\"text-align: right;\">\n      <th></th>\n      <th>bd_main_nm</th>\n      <th>x</th>\n      <th>y</th>\n      <th>geometry</th>\n    </tr>\n  </thead>\n  <tbody>\n    <tr>\n      <th>0</th>\n      <td>인천국제공항역</td>\n      <td>907316.512764</td>\n      <td>1.939237e+06</td>\n      <td>POINT (126.45217 37.44768)</td>\n    </tr>\n  </tbody>\n</table>\n</div>"
     },
     "execution_count": 13,
     "metadata": {},
     "output_type": "execute_result"
    }
   ],
   "source": [
    "# UTM-K 좌표계를 WGS84(위도,경도)좌표계로 전환\n",
    "address_geo_df = address_geo_df.to_crs({\"init\":\"epsg:4326\"})\n",
    "address_geo_df[['bd_main_nm', 'x', 'y', 'geometry']]"
   ],
   "metadata": {
    "collapsed": false,
    "ExecuteTime": {
     "end_time": "2023-08-16T14:08:37.809304700Z",
     "start_time": "2023-08-16T14:08:37.747196800Z"
    }
   }
  },
  {
   "cell_type": "markdown",
   "source": [
    "# pyproj를 활용한 좌표계 변환"
   ],
   "metadata": {
    "collapsed": false
   }
  },
  {
   "cell_type": "code",
   "execution_count": 14,
   "outputs": [
    {
     "data": {
      "text/plain": "  sido_nm sgg_nm adm_nm jibun_main_no jibun_sub_no                 x  \\\n0   서울특별시    동작구   사당2동           271           18  953475.620000162   \n\n                  y  \n0  1944631.15909765  ",
      "text/html": "<div>\n<style scoped>\n    .dataframe tbody tr th:only-of-type {\n        vertical-align: middle;\n    }\n\n    .dataframe tbody tr th {\n        vertical-align: top;\n    }\n\n    .dataframe thead th {\n        text-align: right;\n    }\n</style>\n<table border=\"1\" class=\"dataframe\">\n  <thead>\n    <tr style=\"text-align: right;\">\n      <th></th>\n      <th>sido_nm</th>\n      <th>sgg_nm</th>\n      <th>adm_nm</th>\n      <th>jibun_main_no</th>\n      <th>jibun_sub_no</th>\n      <th>x</th>\n      <th>y</th>\n    </tr>\n  </thead>\n  <tbody>\n    <tr>\n      <th>0</th>\n      <td>서울특별시</td>\n      <td>동작구</td>\n      <td>사당2동</td>\n      <td>271</td>\n      <td>18</td>\n      <td>953475.620000162</td>\n      <td>1944631.15909765</td>\n    </tr>\n  </tbody>\n</table>\n</div>"
     },
     "execution_count": 14,
     "metadata": {},
     "output_type": "execute_result"
    }
   ],
   "source": [
    "# 국립 현충원 데이터 가져오기\n",
    "address_df2 = get_adress_info(access_token, '서울특별시 동작구 동작동 271-18')\n",
    "address_df2[['sido_nm', 'sgg_nm', 'adm_nm', 'jibun_main_no', 'jibun_sub_no', 'x', 'y']]"
   ],
   "metadata": {
    "collapsed": false,
    "ExecuteTime": {
     "end_time": "2023-08-16T14:10:38.498206600Z",
     "start_time": "2023-08-16T14:10:37.700337Z"
    }
   }
  },
  {
   "cell_type": "code",
   "execution_count": 15,
   "outputs": [],
   "source": [
    "# pyproj의 Proj, transform 메소드를 이용\n",
    "def utmk_to_wgs84(utmk_x, utmk_y) -> None:\n",
    "    utmk_proj = pyproj.Proj(init=\"EPSG:5179\") # UTM-K 좌표계 정의\n",
    "    wgs84_proj = pyproj.Proj(init=\"EPSG:4326\") # WGS84 좌표계 정의\n",
    "\n",
    "    wgs84_x, wgs84_y = pyproj.transform(utmk_proj, wgs84_proj, utmk_x, utmk_y)\n",
    "\n",
    "    return wgs84_x, wgs84_y"
   ],
   "metadata": {
    "collapsed": false,
    "ExecuteTime": {
     "end_time": "2023-08-16T14:14:12.003611100Z",
     "start_time": "2023-08-16T14:14:11.959582200Z"
    }
   }
  },
  {
   "cell_type": "code",
   "execution_count": 17,
   "outputs": [
    {
     "name": "stderr",
     "output_type": "stream",
     "text": [
      "C:\\Users\\김영준\\PycharmProjects\\aiffel_study\\venv\\Lib\\site-packages\\pyproj\\crs\\crs.py:141: FutureWarning: '+init=<authority>:<code>' syntax is deprecated. '<authority>:<code>' is the preferred initialization method. When making the change, be mindful of axis order changes: https://pyproj4.github.io/pyproj/stable/gotchas.html#axis-order-changes-in-proj-6\n",
      "  in_crs_string = _prepare_from_proj_string(in_crs_string)\n",
      "C:\\Users\\김영준\\PycharmProjects\\aiffel_study\\venv\\Lib\\site-packages\\pyproj\\crs\\crs.py:141: FutureWarning: '+init=<authority>:<code>' syntax is deprecated. '<authority>:<code>' is the preferred initialization method. When making the change, be mindful of axis order changes: https://pyproj4.github.io/pyproj/stable/gotchas.html#axis-order-changes-in-proj-6\n",
      "  in_crs_string = _prepare_from_proj_string(in_crs_string)\n",
      "C:\\Users\\김영준\\AppData\\Local\\Temp\\ipykernel_15144\\2173025951.py:6: FutureWarning: This function is deprecated. See: https://pyproj4.github.io/pyproj/stable/gotchas.html#upgrading-to-pyproj-2-from-pyproj-1\n",
      "  wgs84_x, wgs84_y = pyproj.transform(utmk_proj, wgs84_proj, utmk_x, utmk_y)\n"
     ]
    },
    {
     "data": {
      "text/plain": "  sido_nm sgg_nm adm_nm jibun_main_no jibun_sub_no                 x  \\\n0   서울특별시    동작구   사당2동           271           18  953475.620000162   \n\n                  y     wgs84_x    wgs84_y  \n0  1944631.15909765  126.973651  37.499772  ",
      "text/html": "<div>\n<style scoped>\n    .dataframe tbody tr th:only-of-type {\n        vertical-align: middle;\n    }\n\n    .dataframe tbody tr th {\n        vertical-align: top;\n    }\n\n    .dataframe thead th {\n        text-align: right;\n    }\n</style>\n<table border=\"1\" class=\"dataframe\">\n  <thead>\n    <tr style=\"text-align: right;\">\n      <th></th>\n      <th>sido_nm</th>\n      <th>sgg_nm</th>\n      <th>adm_nm</th>\n      <th>jibun_main_no</th>\n      <th>jibun_sub_no</th>\n      <th>x</th>\n      <th>y</th>\n      <th>wgs84_x</th>\n      <th>wgs84_y</th>\n    </tr>\n  </thead>\n  <tbody>\n    <tr>\n      <th>0</th>\n      <td>서울특별시</td>\n      <td>동작구</td>\n      <td>사당2동</td>\n      <td>271</td>\n      <td>18</td>\n      <td>953475.620000162</td>\n      <td>1944631.15909765</td>\n      <td>126.973651</td>\n      <td>37.499772</td>\n    </tr>\n  </tbody>\n</table>\n</div>"
     },
     "execution_count": 17,
     "metadata": {},
     "output_type": "execute_result"
    }
   ],
   "source": [
    "# 변환된 좌푯값을 DataFrame 컬럼에 추가\n",
    "address_df2[['wgs84_x', 'wgs84_y']] = utmk_to_wgs84(address_df2.loc[0,'x'], address_df2.loc[0,'y'])\n",
    "address_df2[[\"sido_nm\", \"sgg_nm\", \"adm_nm\", \"jibun_main_no\", \"jibun_sub_no\", \"x\", \"y\", \"wgs84_x\", \"wgs84_y\"]]"
   ],
   "metadata": {
    "collapsed": false,
    "ExecuteTime": {
     "end_time": "2023-08-16T14:15:49.723585300Z",
     "start_time": "2023-08-16T14:15:49.649552400Z"
    }
   }
  },
  {
   "cell_type": "markdown",
   "source": [
    "# SGIS API를 활용한 좌표계 변환"
   ],
   "metadata": {
    "collapsed": false
   }
  },
  {
   "cell_type": "code",
   "execution_count": 18,
   "outputs": [
    {
     "data": {
      "text/plain": "  sido_nm sgg_nm adm_nm jibun_main_no jibun_sub_no                x  \\\n0   서울특별시     중구     명동          null         null  953893.87330747   \n\n                  y  \n0  1952017.73064447  ",
      "text/html": "<div>\n<style scoped>\n    .dataframe tbody tr th:only-of-type {\n        vertical-align: middle;\n    }\n\n    .dataframe tbody tr th {\n        vertical-align: top;\n    }\n\n    .dataframe thead th {\n        text-align: right;\n    }\n</style>\n<table border=\"1\" class=\"dataframe\">\n  <thead>\n    <tr style=\"text-align: right;\">\n      <th></th>\n      <th>sido_nm</th>\n      <th>sgg_nm</th>\n      <th>adm_nm</th>\n      <th>jibun_main_no</th>\n      <th>jibun_sub_no</th>\n      <th>x</th>\n      <th>y</th>\n    </tr>\n  </thead>\n  <tbody>\n    <tr>\n      <th>0</th>\n      <td>서울특별시</td>\n      <td>중구</td>\n      <td>명동</td>\n      <td>null</td>\n      <td>null</td>\n      <td>953893.87330747</td>\n      <td>1952017.73064447</td>\n    </tr>\n  </tbody>\n</table>\n</div>"
     },
     "execution_count": 18,
     "metadata": {},
     "output_type": "execute_result"
    }
   ],
   "source": [
    "# 서울 시청 데이터\n",
    "address_df3 = get_adress_info(access_token, \"서울 중구 세종대로 110 서울특별시청\")\n",
    "address_df3[[\"sido_nm\", \"sgg_nm\", \"adm_nm\", \"jibun_main_no\", \"jibun_sub_no\", \"x\", \"y\"]]"
   ],
   "metadata": {
    "collapsed": false,
    "ExecuteTime": {
     "end_time": "2023-08-16T14:16:50.346237100Z",
     "start_time": "2023-08-16T14:16:49.575379400Z"
    }
   }
  },
  {
   "cell_type": "code",
   "execution_count": 19,
   "outputs": [],
   "source": [
    "# SGIS 좌표변환 API를 활용한 좌표변환 함수\n",
    "def get_transcoord(access_token, src, dst, posX, posY) -> None:\n",
    "    url=\"https://sgisapi.kostat.go.kr/OpenAPI3/transformation/transcoord.json\"\n",
    "    params={\n",
    "        \"accessToken\": access_token,\n",
    "        \"src\": src, # 현재 좌표체계\n",
    "        \"dst\": dst, # 변환할 좌표체계\n",
    "        \"posX\": posX, # 변환할 좌표 X값\n",
    "        \"posY\":\tposY # 변환할 좌표 Y값\n",
    "    }\n",
    "\n",
    "    temp_dict = requests.get(\n",
    "        url=url,\n",
    "        params=params\n",
    "    ).json()[\"result\"]\n",
    "\n",
    "    return temp_dict[\"posX\"], temp_dict[\"posY\"]"
   ],
   "metadata": {
    "collapsed": false,
    "ExecuteTime": {
     "end_time": "2023-08-16T14:17:17.718209300Z",
     "start_time": "2023-08-16T14:17:17.696063200Z"
    }
   }
  },
  {
   "cell_type": "code",
   "execution_count": 20,
   "outputs": [
    {
     "data": {
      "text/plain": "  sido_nm sgg_nm adm_nm jibun_main_no jibun_sub_no              x  \\\n0   인천광역시     중구    운서동          null         null  907316.512764   \n\n              y  transcoord_x  transcoord_y  \n0  1.939237e+06    126.452173     37.447676  ",
      "text/html": "<div>\n<style scoped>\n    .dataframe tbody tr th:only-of-type {\n        vertical-align: middle;\n    }\n\n    .dataframe tbody tr th {\n        vertical-align: top;\n    }\n\n    .dataframe thead th {\n        text-align: right;\n    }\n</style>\n<table border=\"1\" class=\"dataframe\">\n  <thead>\n    <tr style=\"text-align: right;\">\n      <th></th>\n      <th>sido_nm</th>\n      <th>sgg_nm</th>\n      <th>adm_nm</th>\n      <th>jibun_main_no</th>\n      <th>jibun_sub_no</th>\n      <th>x</th>\n      <th>y</th>\n      <th>transcoord_x</th>\n      <th>transcoord_y</th>\n    </tr>\n  </thead>\n  <tbody>\n    <tr>\n      <th>0</th>\n      <td>인천광역시</td>\n      <td>중구</td>\n      <td>운서동</td>\n      <td>null</td>\n      <td>null</td>\n      <td>907316.512764</td>\n      <td>1.939237e+06</td>\n      <td>126.452173</td>\n      <td>37.447676</td>\n    </tr>\n  </tbody>\n</table>\n</div>"
     },
     "execution_count": 20,
     "metadata": {},
     "output_type": "execute_result"
    }
   ],
   "source": [
    "# 변환 후 변환된 데이터 칼럼 추가\n",
    "address_df[[\"transcoord_x\", \"transcoord_y\"]] = get_transcoord(access_token, \"EPSG:5179\", \"EPSG:4326\", address_df.loc[0, \"x\"], address_df.loc[0, \"y\"])\n",
    "address_df[[\"sido_nm\", \"sgg_nm\", \"adm_nm\", \"jibun_main_no\", \"jibun_sub_no\", \"x\", \"y\", \"transcoord_x\", \"transcoord_y\"]]"
   ],
   "metadata": {
    "collapsed": false,
    "ExecuteTime": {
     "end_time": "2023-08-16T14:17:38.918687800Z",
     "start_time": "2023-08-16T14:17:38.311814300Z"
    }
   }
  },
  {
   "cell_type": "code",
   "execution_count": null,
   "outputs": [],
   "source": [],
   "metadata": {
    "collapsed": false
   }
  }
 ],
 "metadata": {
  "kernelspec": {
   "display_name": "Python 3",
   "language": "python",
   "name": "python3"
  },
  "language_info": {
   "codemirror_mode": {
    "name": "ipython",
    "version": 2
   },
   "file_extension": ".py",
   "mimetype": "text/x-python",
   "name": "python",
   "nbconvert_exporter": "python",
   "pygments_lexer": "ipython2",
   "version": "2.7.6"
  }
 },
 "nbformat": 4,
 "nbformat_minor": 0
}
