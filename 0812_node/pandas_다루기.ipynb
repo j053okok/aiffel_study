{
 "cells": [
  {
   "cell_type": "code",
   "execution_count": 33,
   "metadata": {
    "collapsed": true,
    "ExecuteTime": {
     "end_time": "2023-08-16T00:57:56.361303500Z",
     "start_time": "2023-08-16T00:57:56.288736400Z"
    }
   },
   "outputs": [],
   "source": [
    "import pandas as pd"
   ]
  },
  {
   "cell_type": "code",
   "execution_count": 34,
   "outputs": [
    {
     "data": {
      "text/plain": "    Customer_Id Name              Nickname  Password  \\\n0  doloribus740  류현숙           Bryce_White  ********   \n1   expedita131  오지현  Zachary_LightSkyBlue  ********   \n2  provident683  최민석         Brenda_Violet  ********   \n3      sequi591  김민수           Kyle_Orange  ********   \n4      totam890  최미경   Kevin_DarkTurquoise  ********   \n\n                       Email       Birth  gender              C.P.  \\\n0              xhwang@yu.com  1990-01-21  female  01x9-4x671-x0x6x   \n1  jeongung54@jusighoesa.com  1987-08-17  female  01x9-1x037-x6x5x   \n2       songyeweon@isoni.org  2004-10-29    male  01x9-5x526-x7x2x   \n3        anseonghyeon@ju.com  2000-10-17    male  01x9-1x567-x3x0x   \n4               ggim@gimi.kr  1989-02-02  female  01x9-3x802-x3x0x   \n\n  MobileCompany       OS  Class  \n0           LGU      iOS      3  \n1          MVNO      iOS      3  \n2            KT  Android      3  \n3           SKT      iOS      2  \n4           SKT      iOS      4  ",
      "text/html": "<div>\n<style scoped>\n    .dataframe tbody tr th:only-of-type {\n        vertical-align: middle;\n    }\n\n    .dataframe tbody tr th {\n        vertical-align: top;\n    }\n\n    .dataframe thead th {\n        text-align: right;\n    }\n</style>\n<table border=\"1\" class=\"dataframe\">\n  <thead>\n    <tr style=\"text-align: right;\">\n      <th></th>\n      <th>Customer_Id</th>\n      <th>Name</th>\n      <th>Nickname</th>\n      <th>Password</th>\n      <th>Email</th>\n      <th>Birth</th>\n      <th>gender</th>\n      <th>C.P.</th>\n      <th>MobileCompany</th>\n      <th>OS</th>\n      <th>Class</th>\n    </tr>\n  </thead>\n  <tbody>\n    <tr>\n      <th>0</th>\n      <td>doloribus740</td>\n      <td>류현숙</td>\n      <td>Bryce_White</td>\n      <td>********</td>\n      <td>xhwang@yu.com</td>\n      <td>1990-01-21</td>\n      <td>female</td>\n      <td>01x9-4x671-x0x6x</td>\n      <td>LGU</td>\n      <td>iOS</td>\n      <td>3</td>\n    </tr>\n    <tr>\n      <th>1</th>\n      <td>expedita131</td>\n      <td>오지현</td>\n      <td>Zachary_LightSkyBlue</td>\n      <td>********</td>\n      <td>jeongung54@jusighoesa.com</td>\n      <td>1987-08-17</td>\n      <td>female</td>\n      <td>01x9-1x037-x6x5x</td>\n      <td>MVNO</td>\n      <td>iOS</td>\n      <td>3</td>\n    </tr>\n    <tr>\n      <th>2</th>\n      <td>provident683</td>\n      <td>최민석</td>\n      <td>Brenda_Violet</td>\n      <td>********</td>\n      <td>songyeweon@isoni.org</td>\n      <td>2004-10-29</td>\n      <td>male</td>\n      <td>01x9-5x526-x7x2x</td>\n      <td>KT</td>\n      <td>Android</td>\n      <td>3</td>\n    </tr>\n    <tr>\n      <th>3</th>\n      <td>sequi591</td>\n      <td>김민수</td>\n      <td>Kyle_Orange</td>\n      <td>********</td>\n      <td>anseonghyeon@ju.com</td>\n      <td>2000-10-17</td>\n      <td>male</td>\n      <td>01x9-1x567-x3x0x</td>\n      <td>SKT</td>\n      <td>iOS</td>\n      <td>2</td>\n    </tr>\n    <tr>\n      <th>4</th>\n      <td>totam890</td>\n      <td>최미경</td>\n      <td>Kevin_DarkTurquoise</td>\n      <td>********</td>\n      <td>ggim@gimi.kr</td>\n      <td>1989-02-02</td>\n      <td>female</td>\n      <td>01x9-3x802-x3x0x</td>\n      <td>SKT</td>\n      <td>iOS</td>\n      <td>4</td>\n    </tr>\n  </tbody>\n</table>\n</div>"
     },
     "execution_count": 34,
     "metadata": {},
     "output_type": "execute_result"
    }
   ],
   "source": [
    "customer_1 = pd.read_csv(\"customer_lib_1.csv\")\n",
    "customer_2 = pd.read_csv(\"customer_lib_2.csv\")\n",
    "customer_1.head()"
   ],
   "metadata": {
    "collapsed": false,
    "ExecuteTime": {
     "end_time": "2023-08-16T00:57:56.430651600Z",
     "start_time": "2023-08-16T00:57:56.304859100Z"
    }
   }
  },
  {
   "cell_type": "code",
   "execution_count": 35,
   "outputs": [
    {
     "data": {
      "text/plain": "               Nickname    Defense         HP        int         MP\n0           Bryce_White  25.630568  30.047333  80.191590  90.734824\n1  Zachary_LightSkyBlue  14.601957  24.901503  23.778162  33.527576\n2         Brenda_Violet  37.768119  36.958759  50.672921  47.716956\n3           Kyle_Orange  61.736459  59.692233  80.028095  81.593752\n4   Kevin_DarkTurquoise  57.515975  50.800429  43.708943  46.930504",
      "text/html": "<div>\n<style scoped>\n    .dataframe tbody tr th:only-of-type {\n        vertical-align: middle;\n    }\n\n    .dataframe tbody tr th {\n        vertical-align: top;\n    }\n\n    .dataframe thead th {\n        text-align: right;\n    }\n</style>\n<table border=\"1\" class=\"dataframe\">\n  <thead>\n    <tr style=\"text-align: right;\">\n      <th></th>\n      <th>Nickname</th>\n      <th>Defense</th>\n      <th>HP</th>\n      <th>int</th>\n      <th>MP</th>\n    </tr>\n  </thead>\n  <tbody>\n    <tr>\n      <th>0</th>\n      <td>Bryce_White</td>\n      <td>25.630568</td>\n      <td>30.047333</td>\n      <td>80.191590</td>\n      <td>90.734824</td>\n    </tr>\n    <tr>\n      <th>1</th>\n      <td>Zachary_LightSkyBlue</td>\n      <td>14.601957</td>\n      <td>24.901503</td>\n      <td>23.778162</td>\n      <td>33.527576</td>\n    </tr>\n    <tr>\n      <th>2</th>\n      <td>Brenda_Violet</td>\n      <td>37.768119</td>\n      <td>36.958759</td>\n      <td>50.672921</td>\n      <td>47.716956</td>\n    </tr>\n    <tr>\n      <th>3</th>\n      <td>Kyle_Orange</td>\n      <td>61.736459</td>\n      <td>59.692233</td>\n      <td>80.028095</td>\n      <td>81.593752</td>\n    </tr>\n    <tr>\n      <th>4</th>\n      <td>Kevin_DarkTurquoise</td>\n      <td>57.515975</td>\n      <td>50.800429</td>\n      <td>43.708943</td>\n      <td>46.930504</td>\n    </tr>\n  </tbody>\n</table>\n</div>"
     },
     "execution_count": 35,
     "metadata": {},
     "output_type": "execute_result"
    }
   ],
   "source": [
    "customer_2.head()"
   ],
   "metadata": {
    "collapsed": false,
    "ExecuteTime": {
     "end_time": "2023-08-16T00:57:56.443034100Z",
     "start_time": "2023-08-16T00:57:56.430651600Z"
    }
   }
  },
  {
   "cell_type": "code",
   "execution_count": 36,
   "outputs": [
    {
     "data": {
      "text/plain": "Index(['Customer_Id', 'Name', 'Nickname', 'Password', 'Email', 'Birth',\n       'gender', 'C.P.', 'MobileCompany', 'OS', 'Class'],\n      dtype='object')"
     },
     "execution_count": 36,
     "metadata": {},
     "output_type": "execute_result"
    }
   ],
   "source": [
    "customer_1.columns"
   ],
   "metadata": {
    "collapsed": false,
    "ExecuteTime": {
     "end_time": "2023-08-16T00:57:56.456443700Z",
     "start_time": "2023-08-16T00:57:56.443034100Z"
    }
   }
  },
  {
   "cell_type": "code",
   "execution_count": 37,
   "outputs": [
    {
     "name": "stdout",
     "output_type": "stream",
     "text": [
      "<class 'pandas.core.frame.DataFrame'>\n",
      "RangeIndex: 500 entries, 0 to 499\n",
      "Data columns (total 11 columns):\n",
      " #   Column         Non-Null Count  Dtype \n",
      "---  ------         --------------  ----- \n",
      " 0   Customer_Id    500 non-null    object\n",
      " 1   Name           500 non-null    object\n",
      " 2   Nickname       500 non-null    object\n",
      " 3   Password       500 non-null    object\n",
      " 4   Email          500 non-null    object\n",
      " 5   Birth          500 non-null    object\n",
      " 6   gender         500 non-null    object\n",
      " 7   C.P.           500 non-null    object\n",
      " 8   MobileCompany  500 non-null    object\n",
      " 9   OS             500 non-null    object\n",
      " 10  Class          500 non-null    int64 \n",
      "dtypes: int64(1), object(10)\n",
      "memory usage: 43.1+ KB\n"
     ]
    }
   ],
   "source": [
    "customer_1.info()"
   ],
   "metadata": {
    "collapsed": false,
    "ExecuteTime": {
     "end_time": "2023-08-16T00:57:56.639533Z",
     "start_time": "2023-08-16T00:57:56.456443700Z"
    }
   }
  },
  {
   "cell_type": "code",
   "execution_count": 38,
   "outputs": [
    {
     "data": {
      "text/plain": "            Class\ncount  500.000000\nmean     2.970000\nstd      0.999549\nmin      1.000000\n25%      2.000000\n50%      3.000000\n75%      4.000000\nmax      4.000000",
      "text/html": "<div>\n<style scoped>\n    .dataframe tbody tr th:only-of-type {\n        vertical-align: middle;\n    }\n\n    .dataframe tbody tr th {\n        vertical-align: top;\n    }\n\n    .dataframe thead th {\n        text-align: right;\n    }\n</style>\n<table border=\"1\" class=\"dataframe\">\n  <thead>\n    <tr style=\"text-align: right;\">\n      <th></th>\n      <th>Class</th>\n    </tr>\n  </thead>\n  <tbody>\n    <tr>\n      <th>count</th>\n      <td>500.000000</td>\n    </tr>\n    <tr>\n      <th>mean</th>\n      <td>2.970000</td>\n    </tr>\n    <tr>\n      <th>std</th>\n      <td>0.999549</td>\n    </tr>\n    <tr>\n      <th>min</th>\n      <td>1.000000</td>\n    </tr>\n    <tr>\n      <th>25%</th>\n      <td>2.000000</td>\n    </tr>\n    <tr>\n      <th>50%</th>\n      <td>3.000000</td>\n    </tr>\n    <tr>\n      <th>75%</th>\n      <td>4.000000</td>\n    </tr>\n    <tr>\n      <th>max</th>\n      <td>4.000000</td>\n    </tr>\n  </tbody>\n</table>\n</div>"
     },
     "execution_count": 38,
     "metadata": {},
     "output_type": "execute_result"
    }
   ],
   "source": [
    "customer_1.describe()"
   ],
   "metadata": {
    "collapsed": false,
    "ExecuteTime": {
     "end_time": "2023-08-16T00:57:56.678533400Z",
     "start_time": "2023-08-16T00:57:56.488632400Z"
    }
   }
  },
  {
   "cell_type": "code",
   "execution_count": 39,
   "outputs": [
    {
     "data": {
      "text/plain": "0      류현숙\n1      오지현\n2      최민석\n3      김민수\n4      최미경\n      ... \n495    박영자\n496    김미정\n497    최성호\n498    허경자\n499    박준호\nName: Name, Length: 500, dtype: object"
     },
     "execution_count": 39,
     "metadata": {},
     "output_type": "execute_result"
    }
   ],
   "source": [
    "x = customer_1['Name']\n",
    "x"
   ],
   "metadata": {
    "collapsed": false,
    "ExecuteTime": {
     "end_time": "2023-08-16T00:57:56.695563900Z",
     "start_time": "2023-08-16T00:57:56.515612200Z"
    }
   }
  },
  {
   "cell_type": "code",
   "execution_count": 40,
   "outputs": [
    {
     "data": {
      "text/plain": "    Name                      Email                Nickname\n0    류현숙              xhwang@yu.com             Bryce_White\n1    오지현  jeongung54@jusighoesa.com    Zachary_LightSkyBlue\n2    최민석       songyeweon@isoni.org           Brenda_Violet\n3    김민수        anseonghyeon@ju.com             Kyle_Orange\n4    최미경               ggim@gimi.kr     Kevin_DarkTurquoise\n..   ...                        ...                     ...\n495  박영자  jeongsugseo@jusighoesa.kr         Jeffrey_DimGray\n496  김미정          junhyeog84@yu.net  John_MediumSpringGreen\n497  최성호     subinbag@yuhanhoesa.kr        Donald_LawnGreen\n498  허경자    gimeunju@yuhanhoesa.net    Bethany_DarkSeaGreen\n499  박준호            areumsim@ju.com   Stephen_DarkSlateBlue\n\n[500 rows x 3 columns]",
      "text/html": "<div>\n<style scoped>\n    .dataframe tbody tr th:only-of-type {\n        vertical-align: middle;\n    }\n\n    .dataframe tbody tr th {\n        vertical-align: top;\n    }\n\n    .dataframe thead th {\n        text-align: right;\n    }\n</style>\n<table border=\"1\" class=\"dataframe\">\n  <thead>\n    <tr style=\"text-align: right;\">\n      <th></th>\n      <th>Name</th>\n      <th>Email</th>\n      <th>Nickname</th>\n    </tr>\n  </thead>\n  <tbody>\n    <tr>\n      <th>0</th>\n      <td>류현숙</td>\n      <td>xhwang@yu.com</td>\n      <td>Bryce_White</td>\n    </tr>\n    <tr>\n      <th>1</th>\n      <td>오지현</td>\n      <td>jeongung54@jusighoesa.com</td>\n      <td>Zachary_LightSkyBlue</td>\n    </tr>\n    <tr>\n      <th>2</th>\n      <td>최민석</td>\n      <td>songyeweon@isoni.org</td>\n      <td>Brenda_Violet</td>\n    </tr>\n    <tr>\n      <th>3</th>\n      <td>김민수</td>\n      <td>anseonghyeon@ju.com</td>\n      <td>Kyle_Orange</td>\n    </tr>\n    <tr>\n      <th>4</th>\n      <td>최미경</td>\n      <td>ggim@gimi.kr</td>\n      <td>Kevin_DarkTurquoise</td>\n    </tr>\n    <tr>\n      <th>...</th>\n      <td>...</td>\n      <td>...</td>\n      <td>...</td>\n    </tr>\n    <tr>\n      <th>495</th>\n      <td>박영자</td>\n      <td>jeongsugseo@jusighoesa.kr</td>\n      <td>Jeffrey_DimGray</td>\n    </tr>\n    <tr>\n      <th>496</th>\n      <td>김미정</td>\n      <td>junhyeog84@yu.net</td>\n      <td>John_MediumSpringGreen</td>\n    </tr>\n    <tr>\n      <th>497</th>\n      <td>최성호</td>\n      <td>subinbag@yuhanhoesa.kr</td>\n      <td>Donald_LawnGreen</td>\n    </tr>\n    <tr>\n      <th>498</th>\n      <td>허경자</td>\n      <td>gimeunju@yuhanhoesa.net</td>\n      <td>Bethany_DarkSeaGreen</td>\n    </tr>\n    <tr>\n      <th>499</th>\n      <td>박준호</td>\n      <td>areumsim@ju.com</td>\n      <td>Stephen_DarkSlateBlue</td>\n    </tr>\n  </tbody>\n</table>\n<p>500 rows × 3 columns</p>\n</div>"
     },
     "execution_count": 40,
     "metadata": {},
     "output_type": "execute_result"
    }
   ],
   "source": [
    "customer_1[['Name', 'Email', 'Nickname']]"
   ],
   "metadata": {
    "collapsed": false,
    "ExecuteTime": {
     "end_time": "2023-08-16T00:57:56.710073600Z",
     "start_time": "2023-08-16T00:57:56.528428Z"
    }
   }
  },
  {
   "cell_type": "code",
   "execution_count": 41,
   "outputs": [
    {
     "data": {
      "text/plain": "       Customer_Id Name                Nickname  Password  \\\n2     provident683  최민석           Brenda_Violet  ********   \n6         eaque461  김수빈              Amber_Pink  ********   \n7     explicabo998  김옥자        Michael_SeaShell  ********   \n8       eveniet134  김영순                Lisa_Red  ********   \n9      expedita123  권우진         John_DodgerBlue  ********   \n..             ...  ...                     ...       ...   \n492  voluptatum200  김숙자        Brandy_LightCyan  ********   \n493        quod243  김옥자       Rebecca_IndianRed  ********   \n496   quibusdam437  김미정  John_MediumSpringGreen  ********   \n498  recusandae058  허경자    Bethany_DarkSeaGreen  ********   \n499       nihil065  박준호   Stephen_DarkSlateBlue  ********   \n\n                       Email       Birth  gender              C.P.  \\\n2       songyeweon@isoni.org  2004-10-29    male  01x9-5x526-x7x2x   \n6       seojun95@hangimi.net  1999-07-15    male  01x9-5x180-x5x1x   \n7          ai@jusighoesa.com  2006-01-30    male  01x9-5x470-x7x5x   \n8                   ou@yu.kr  1984-12-14    male  01x9-7x512-x5x4x   \n9             junseo80@yu.kr  1985-07-22  female  01x9-2x003-x6x3x   \n..                       ...         ...     ...               ...   \n492      hyeonju88@simno.com  2004-04-10  female  01x9-6x504-x3x8x   \n493     jihun43@sinyango.com  1991-12-05    male  01x9-8x958-x0x4x   \n496        junhyeog84@yu.net  1993-10-20    male  01x9-2x327-x4x1x   \n498  gimeunju@yuhanhoesa.net  1998-09-17    male  01x9-0x976-x7x7x   \n499          areumsim@ju.com  1990-08-14    male  01x9-5x263-x0x1x   \n\n    MobileCompany       OS  Class  \n2              KT  Android      3  \n6             SKT  Android      2  \n7             SKT  Android      3  \n8             SKT  Android      4  \n9             LGU  Android      4  \n..            ...      ...    ...  \n492            KT  Android      4  \n493           LGU  Android      1  \n496           SKT  Android      1  \n498           SKT  Android      3  \n499           SKT  Android      3  \n\n[344 rows x 11 columns]",
      "text/html": "<div>\n<style scoped>\n    .dataframe tbody tr th:only-of-type {\n        vertical-align: middle;\n    }\n\n    .dataframe tbody tr th {\n        vertical-align: top;\n    }\n\n    .dataframe thead th {\n        text-align: right;\n    }\n</style>\n<table border=\"1\" class=\"dataframe\">\n  <thead>\n    <tr style=\"text-align: right;\">\n      <th></th>\n      <th>Customer_Id</th>\n      <th>Name</th>\n      <th>Nickname</th>\n      <th>Password</th>\n      <th>Email</th>\n      <th>Birth</th>\n      <th>gender</th>\n      <th>C.P.</th>\n      <th>MobileCompany</th>\n      <th>OS</th>\n      <th>Class</th>\n    </tr>\n  </thead>\n  <tbody>\n    <tr>\n      <th>2</th>\n      <td>provident683</td>\n      <td>최민석</td>\n      <td>Brenda_Violet</td>\n      <td>********</td>\n      <td>songyeweon@isoni.org</td>\n      <td>2004-10-29</td>\n      <td>male</td>\n      <td>01x9-5x526-x7x2x</td>\n      <td>KT</td>\n      <td>Android</td>\n      <td>3</td>\n    </tr>\n    <tr>\n      <th>6</th>\n      <td>eaque461</td>\n      <td>김수빈</td>\n      <td>Amber_Pink</td>\n      <td>********</td>\n      <td>seojun95@hangimi.net</td>\n      <td>1999-07-15</td>\n      <td>male</td>\n      <td>01x9-5x180-x5x1x</td>\n      <td>SKT</td>\n      <td>Android</td>\n      <td>2</td>\n    </tr>\n    <tr>\n      <th>7</th>\n      <td>explicabo998</td>\n      <td>김옥자</td>\n      <td>Michael_SeaShell</td>\n      <td>********</td>\n      <td>ai@jusighoesa.com</td>\n      <td>2006-01-30</td>\n      <td>male</td>\n      <td>01x9-5x470-x7x5x</td>\n      <td>SKT</td>\n      <td>Android</td>\n      <td>3</td>\n    </tr>\n    <tr>\n      <th>8</th>\n      <td>eveniet134</td>\n      <td>김영순</td>\n      <td>Lisa_Red</td>\n      <td>********</td>\n      <td>ou@yu.kr</td>\n      <td>1984-12-14</td>\n      <td>male</td>\n      <td>01x9-7x512-x5x4x</td>\n      <td>SKT</td>\n      <td>Android</td>\n      <td>4</td>\n    </tr>\n    <tr>\n      <th>9</th>\n      <td>expedita123</td>\n      <td>권우진</td>\n      <td>John_DodgerBlue</td>\n      <td>********</td>\n      <td>junseo80@yu.kr</td>\n      <td>1985-07-22</td>\n      <td>female</td>\n      <td>01x9-2x003-x6x3x</td>\n      <td>LGU</td>\n      <td>Android</td>\n      <td>4</td>\n    </tr>\n    <tr>\n      <th>...</th>\n      <td>...</td>\n      <td>...</td>\n      <td>...</td>\n      <td>...</td>\n      <td>...</td>\n      <td>...</td>\n      <td>...</td>\n      <td>...</td>\n      <td>...</td>\n      <td>...</td>\n      <td>...</td>\n    </tr>\n    <tr>\n      <th>492</th>\n      <td>voluptatum200</td>\n      <td>김숙자</td>\n      <td>Brandy_LightCyan</td>\n      <td>********</td>\n      <td>hyeonju88@simno.com</td>\n      <td>2004-04-10</td>\n      <td>female</td>\n      <td>01x9-6x504-x3x8x</td>\n      <td>KT</td>\n      <td>Android</td>\n      <td>4</td>\n    </tr>\n    <tr>\n      <th>493</th>\n      <td>quod243</td>\n      <td>김옥자</td>\n      <td>Rebecca_IndianRed</td>\n      <td>********</td>\n      <td>jihun43@sinyango.com</td>\n      <td>1991-12-05</td>\n      <td>male</td>\n      <td>01x9-8x958-x0x4x</td>\n      <td>LGU</td>\n      <td>Android</td>\n      <td>1</td>\n    </tr>\n    <tr>\n      <th>496</th>\n      <td>quibusdam437</td>\n      <td>김미정</td>\n      <td>John_MediumSpringGreen</td>\n      <td>********</td>\n      <td>junhyeog84@yu.net</td>\n      <td>1993-10-20</td>\n      <td>male</td>\n      <td>01x9-2x327-x4x1x</td>\n      <td>SKT</td>\n      <td>Android</td>\n      <td>1</td>\n    </tr>\n    <tr>\n      <th>498</th>\n      <td>recusandae058</td>\n      <td>허경자</td>\n      <td>Bethany_DarkSeaGreen</td>\n      <td>********</td>\n      <td>gimeunju@yuhanhoesa.net</td>\n      <td>1998-09-17</td>\n      <td>male</td>\n      <td>01x9-0x976-x7x7x</td>\n      <td>SKT</td>\n      <td>Android</td>\n      <td>3</td>\n    </tr>\n    <tr>\n      <th>499</th>\n      <td>nihil065</td>\n      <td>박준호</td>\n      <td>Stephen_DarkSlateBlue</td>\n      <td>********</td>\n      <td>areumsim@ju.com</td>\n      <td>1990-08-14</td>\n      <td>male</td>\n      <td>01x9-5x263-x0x1x</td>\n      <td>SKT</td>\n      <td>Android</td>\n      <td>3</td>\n    </tr>\n  </tbody>\n</table>\n<p>344 rows × 11 columns</p>\n</div>"
     },
     "execution_count": 41,
     "metadata": {},
     "output_type": "execute_result"
    }
   ],
   "source": [
    "customer_1[customer_1[\"OS\"] == \"Android\"]"
   ],
   "metadata": {
    "collapsed": false,
    "ExecuteTime": {
     "end_time": "2023-08-16T00:57:56.763941400Z",
     "start_time": "2023-08-16T00:57:56.548632100Z"
    }
   }
  },
  {
   "cell_type": "code",
   "execution_count": 42,
   "outputs": [
    {
     "data": {
      "text/plain": "       Customer_Id Name                Nickname  Password  \\\n6         eaque461  김수빈              Amber_Pink  ********   \n7     explicabo998  김옥자        Michael_SeaShell  ********   \n8       eveniet134  김영순                Lisa_Red  ********   \n10           ea027  진미경            Amber_Maroon  ********   \n12      facilis655  박도현          Melanie_Salmon  ********   \n..             ...  ...                     ...       ...   \n490    adipisci111  허종수     Colleen_SaddleBrown  ********   \n491    deleniti768  최명자       William_SteelBlue  ********   \n496   quibusdam437  김미정  John_MediumSpringGreen  ********   \n498  recusandae058  허경자    Bethany_DarkSeaGreen  ********   \n499       nihil065  박준호   Stephen_DarkSlateBlue  ********   \n\n                        Email       Birth  gender              C.P.  \\\n6        seojun95@hangimi.net  1999-07-15    male  01x9-5x180-x5x1x   \n7           ai@jusighoesa.com  2006-01-30    male  01x9-5x470-x7x5x   \n8                    ou@yu.kr  1984-12-14    male  01x9-7x512-x5x4x   \n10         minjae18@coeson.kr  1981-06-28  female  01x9-1x384-x1x5x   \n12           iseongmin@yu.org  1985-02-24  female  01x9-5x970-x6x7x   \n..                        ...         ...     ...               ...   \n490  nammiyeong@yuhanhoesa.kr  1995-06-24    male  01x9-5x812-x4x7x   \n491                vju@yu.net  1991-03-17    male  01x9-0x435-x6x1x   \n496         junhyeog84@yu.net  1993-10-20    male  01x9-2x327-x4x1x   \n498   gimeunju@yuhanhoesa.net  1998-09-17    male  01x9-0x976-x7x7x   \n499           areumsim@ju.com  1990-08-14    male  01x9-5x263-x0x1x   \n\n    MobileCompany       OS  Class  \n6             SKT  Android      2  \n7             SKT  Android      3  \n8             SKT  Android      4  \n10            SKT  Android      2  \n12            SKT  Android      4  \n..            ...      ...    ...  \n490           SKT  Android      1  \n491           SKT  Android      3  \n496           SKT  Android      1  \n498           SKT  Android      3  \n499           SKT  Android      3  \n\n[157 rows x 11 columns]",
      "text/html": "<div>\n<style scoped>\n    .dataframe tbody tr th:only-of-type {\n        vertical-align: middle;\n    }\n\n    .dataframe tbody tr th {\n        vertical-align: top;\n    }\n\n    .dataframe thead th {\n        text-align: right;\n    }\n</style>\n<table border=\"1\" class=\"dataframe\">\n  <thead>\n    <tr style=\"text-align: right;\">\n      <th></th>\n      <th>Customer_Id</th>\n      <th>Name</th>\n      <th>Nickname</th>\n      <th>Password</th>\n      <th>Email</th>\n      <th>Birth</th>\n      <th>gender</th>\n      <th>C.P.</th>\n      <th>MobileCompany</th>\n      <th>OS</th>\n      <th>Class</th>\n    </tr>\n  </thead>\n  <tbody>\n    <tr>\n      <th>6</th>\n      <td>eaque461</td>\n      <td>김수빈</td>\n      <td>Amber_Pink</td>\n      <td>********</td>\n      <td>seojun95@hangimi.net</td>\n      <td>1999-07-15</td>\n      <td>male</td>\n      <td>01x9-5x180-x5x1x</td>\n      <td>SKT</td>\n      <td>Android</td>\n      <td>2</td>\n    </tr>\n    <tr>\n      <th>7</th>\n      <td>explicabo998</td>\n      <td>김옥자</td>\n      <td>Michael_SeaShell</td>\n      <td>********</td>\n      <td>ai@jusighoesa.com</td>\n      <td>2006-01-30</td>\n      <td>male</td>\n      <td>01x9-5x470-x7x5x</td>\n      <td>SKT</td>\n      <td>Android</td>\n      <td>3</td>\n    </tr>\n    <tr>\n      <th>8</th>\n      <td>eveniet134</td>\n      <td>김영순</td>\n      <td>Lisa_Red</td>\n      <td>********</td>\n      <td>ou@yu.kr</td>\n      <td>1984-12-14</td>\n      <td>male</td>\n      <td>01x9-7x512-x5x4x</td>\n      <td>SKT</td>\n      <td>Android</td>\n      <td>4</td>\n    </tr>\n    <tr>\n      <th>10</th>\n      <td>ea027</td>\n      <td>진미경</td>\n      <td>Amber_Maroon</td>\n      <td>********</td>\n      <td>minjae18@coeson.kr</td>\n      <td>1981-06-28</td>\n      <td>female</td>\n      <td>01x9-1x384-x1x5x</td>\n      <td>SKT</td>\n      <td>Android</td>\n      <td>2</td>\n    </tr>\n    <tr>\n      <th>12</th>\n      <td>facilis655</td>\n      <td>박도현</td>\n      <td>Melanie_Salmon</td>\n      <td>********</td>\n      <td>iseongmin@yu.org</td>\n      <td>1985-02-24</td>\n      <td>female</td>\n      <td>01x9-5x970-x6x7x</td>\n      <td>SKT</td>\n      <td>Android</td>\n      <td>4</td>\n    </tr>\n    <tr>\n      <th>...</th>\n      <td>...</td>\n      <td>...</td>\n      <td>...</td>\n      <td>...</td>\n      <td>...</td>\n      <td>...</td>\n      <td>...</td>\n      <td>...</td>\n      <td>...</td>\n      <td>...</td>\n      <td>...</td>\n    </tr>\n    <tr>\n      <th>490</th>\n      <td>adipisci111</td>\n      <td>허종수</td>\n      <td>Colleen_SaddleBrown</td>\n      <td>********</td>\n      <td>nammiyeong@yuhanhoesa.kr</td>\n      <td>1995-06-24</td>\n      <td>male</td>\n      <td>01x9-5x812-x4x7x</td>\n      <td>SKT</td>\n      <td>Android</td>\n      <td>1</td>\n    </tr>\n    <tr>\n      <th>491</th>\n      <td>deleniti768</td>\n      <td>최명자</td>\n      <td>William_SteelBlue</td>\n      <td>********</td>\n      <td>vju@yu.net</td>\n      <td>1991-03-17</td>\n      <td>male</td>\n      <td>01x9-0x435-x6x1x</td>\n      <td>SKT</td>\n      <td>Android</td>\n      <td>3</td>\n    </tr>\n    <tr>\n      <th>496</th>\n      <td>quibusdam437</td>\n      <td>김미정</td>\n      <td>John_MediumSpringGreen</td>\n      <td>********</td>\n      <td>junhyeog84@yu.net</td>\n      <td>1993-10-20</td>\n      <td>male</td>\n      <td>01x9-2x327-x4x1x</td>\n      <td>SKT</td>\n      <td>Android</td>\n      <td>1</td>\n    </tr>\n    <tr>\n      <th>498</th>\n      <td>recusandae058</td>\n      <td>허경자</td>\n      <td>Bethany_DarkSeaGreen</td>\n      <td>********</td>\n      <td>gimeunju@yuhanhoesa.net</td>\n      <td>1998-09-17</td>\n      <td>male</td>\n      <td>01x9-0x976-x7x7x</td>\n      <td>SKT</td>\n      <td>Android</td>\n      <td>3</td>\n    </tr>\n    <tr>\n      <th>499</th>\n      <td>nihil065</td>\n      <td>박준호</td>\n      <td>Stephen_DarkSlateBlue</td>\n      <td>********</td>\n      <td>areumsim@ju.com</td>\n      <td>1990-08-14</td>\n      <td>male</td>\n      <td>01x9-5x263-x0x1x</td>\n      <td>SKT</td>\n      <td>Android</td>\n      <td>3</td>\n    </tr>\n  </tbody>\n</table>\n<p>157 rows × 11 columns</p>\n</div>"
     },
     "execution_count": 42,
     "metadata": {},
     "output_type": "execute_result"
    }
   ],
   "source": [
    "customer_1[(customer_1['OS'] == \"Android\") & (customer_1['MobileCompany'] == 'SKT')]"
   ],
   "metadata": {
    "collapsed": false,
    "ExecuteTime": {
     "end_time": "2023-08-16T00:57:56.763941400Z",
     "start_time": "2023-08-16T00:57:56.570887900Z"
    }
   }
  },
  {
   "cell_type": "code",
   "execution_count": 43,
   "outputs": [
    {
     "data": {
      "text/plain": "Customer_Id             tenetur677\nName                           한명자\nNickname            Lisa_RosyBrown\nPassword                  ********\nEmail            bagseongmin@ju.kr\nBirth                   2001-10-30\ngender                        male\nC.P.              01x9-2x941-x9x9x\nMobileCompany                  SKT\nOS                             iOS\nClass                            4\nName: 11, dtype: object"
     },
     "execution_count": 43,
     "metadata": {},
     "output_type": "execute_result"
    }
   ],
   "source": [
    "customer_1.iloc[11]  # 인덱스 번호로 행 불러오기"
   ],
   "metadata": {
    "collapsed": false,
    "ExecuteTime": {
     "end_time": "2023-08-16T00:57:56.763941400Z",
     "start_time": "2023-08-16T00:57:56.589752Z"
    }
   }
  },
  {
   "cell_type": "code",
   "execution_count": 44,
   "outputs": [
    {
     "data": {
      "text/plain": "Customer_Id        tenetur677\nName                      한명자\nNickname       Lisa_RosyBrown\nName: 11, dtype: object"
     },
     "execution_count": 44,
     "metadata": {},
     "output_type": "execute_result"
    }
   ],
   "source": [
    "customer_1.iloc[11, :3]  # 인덱스 슬라이싱 사용해서 칼럼도 자르기"
   ],
   "metadata": {
    "collapsed": false,
    "ExecuteTime": {
     "end_time": "2023-08-16T00:57:56.763941400Z",
     "start_time": "2023-08-16T00:57:56.615428700Z"
    }
   }
  },
  {
   "cell_type": "code",
   "execution_count": 45,
   "outputs": [
    {
     "data": {
      "text/plain": "Customer_Id             tenetur677\nName                           한명자\nNickname            Lisa_RosyBrown\nPassword                  ********\nEmail            bagseongmin@ju.kr\nBirth                   2001-10-30\ngender                        male\nC.P.              01x9-2x941-x9x9x\nMobileCompany                  SKT\nOS                             iOS\nClass                            4\nName: 11, dtype: object"
     },
     "execution_count": 45,
     "metadata": {},
     "output_type": "execute_result"
    }
   ],
   "source": [
    "customer_1.loc[11]  # 인덱스명 이 11인 행 불러오기"
   ],
   "metadata": {
    "collapsed": false,
    "ExecuteTime": {
     "end_time": "2023-08-16T00:57:56.763941400Z",
     "start_time": "2023-08-16T00:57:56.615428700Z"
    }
   }
  },
  {
   "cell_type": "code",
   "execution_count": 46,
   "outputs": [
    {
     "data": {
      "text/plain": "Name                      한명자\nNickname       Lisa_RosyBrown\nEmail       bagseongmin@ju.kr\nName: 11, dtype: object"
     },
     "execution_count": 46,
     "metadata": {},
     "output_type": "execute_result"
    }
   ],
   "source": [
    "customer_1.loc[11, ['Name', 'Nickname', \"Email\"]]  # 인덱스명, 칼럼명으로 불러오기"
   ],
   "metadata": {
    "collapsed": false,
    "ExecuteTime": {
     "end_time": "2023-08-16T00:57:56.763941400Z",
     "start_time": "2023-08-16T00:57:56.615428700Z"
    }
   }
  },
  {
   "cell_type": "code",
   "execution_count": 47,
   "outputs": [
    {
     "data": {
      "text/plain": "0      120.782157\n1       58.429080\n2       84.675715\n3      141.285985\n4       97.730933\n          ...    \n495    153.094556\n496    115.682869\n497     90.517022\n498    142.116421\n499     79.242787\nLength: 500, dtype: float64"
     },
     "execution_count": 47,
     "metadata": {},
     "output_type": "execute_result"
    }
   ],
   "source": [
    "customer_2['HP'] + customer_2['MP']  # 열끼리 더하기"
   ],
   "metadata": {
    "collapsed": false,
    "ExecuteTime": {
     "end_time": "2023-08-16T00:57:56.763941400Z",
     "start_time": "2023-08-16T00:57:56.630663400Z"
    }
   }
  },
  {
   "cell_type": "code",
   "execution_count": 48,
   "outputs": [
    {
     "data": {
      "text/plain": "                   Nickname     Defense          HP        int         MP  \\\n0               Bryce_White   25.630568   30.047333  80.191590  90.734824   \n1      Zachary_LightSkyBlue   14.601957   24.901503  23.778162  33.527576   \n2             Brenda_Violet   37.768119   36.958759  50.672921  47.716956   \n3               Kyle_Orange   61.736459   59.692233  80.028095  81.593752   \n4       Kevin_DarkTurquoise   57.515975   50.800429  43.708943  46.930504   \n..                      ...         ...         ...        ...        ...   \n495         Jeffrey_DimGray  100.000000  100.000000  55.598552  53.094556   \n496  John_MediumSpringGreen   38.437986   50.819602  54.639640  64.863266   \n497        Donald_LawnGreen   47.392362   53.366615  47.435131  37.150407   \n498    Bethany_DarkSeaGreen   59.112459   69.812357  59.936633  72.304064   \n499   Stephen_DarkSlateBlue   47.564891   51.952629  34.681843  27.290158   \n\n           Avg  \n0    60.391079  \n1    29.214540  \n2    42.337857  \n3    70.642993  \n4    48.865466  \n..         ...  \n495  76.547278  \n496  57.841434  \n497  45.258511  \n498  71.058210  \n499  39.621393  \n\n[500 rows x 6 columns]",
      "text/html": "<div>\n<style scoped>\n    .dataframe tbody tr th:only-of-type {\n        vertical-align: middle;\n    }\n\n    .dataframe tbody tr th {\n        vertical-align: top;\n    }\n\n    .dataframe thead th {\n        text-align: right;\n    }\n</style>\n<table border=\"1\" class=\"dataframe\">\n  <thead>\n    <tr style=\"text-align: right;\">\n      <th></th>\n      <th>Nickname</th>\n      <th>Defense</th>\n      <th>HP</th>\n      <th>int</th>\n      <th>MP</th>\n      <th>Avg</th>\n    </tr>\n  </thead>\n  <tbody>\n    <tr>\n      <th>0</th>\n      <td>Bryce_White</td>\n      <td>25.630568</td>\n      <td>30.047333</td>\n      <td>80.191590</td>\n      <td>90.734824</td>\n      <td>60.391079</td>\n    </tr>\n    <tr>\n      <th>1</th>\n      <td>Zachary_LightSkyBlue</td>\n      <td>14.601957</td>\n      <td>24.901503</td>\n      <td>23.778162</td>\n      <td>33.527576</td>\n      <td>29.214540</td>\n    </tr>\n    <tr>\n      <th>2</th>\n      <td>Brenda_Violet</td>\n      <td>37.768119</td>\n      <td>36.958759</td>\n      <td>50.672921</td>\n      <td>47.716956</td>\n      <td>42.337857</td>\n    </tr>\n    <tr>\n      <th>3</th>\n      <td>Kyle_Orange</td>\n      <td>61.736459</td>\n      <td>59.692233</td>\n      <td>80.028095</td>\n      <td>81.593752</td>\n      <td>70.642993</td>\n    </tr>\n    <tr>\n      <th>4</th>\n      <td>Kevin_DarkTurquoise</td>\n      <td>57.515975</td>\n      <td>50.800429</td>\n      <td>43.708943</td>\n      <td>46.930504</td>\n      <td>48.865466</td>\n    </tr>\n    <tr>\n      <th>...</th>\n      <td>...</td>\n      <td>...</td>\n      <td>...</td>\n      <td>...</td>\n      <td>...</td>\n      <td>...</td>\n    </tr>\n    <tr>\n      <th>495</th>\n      <td>Jeffrey_DimGray</td>\n      <td>100.000000</td>\n      <td>100.000000</td>\n      <td>55.598552</td>\n      <td>53.094556</td>\n      <td>76.547278</td>\n    </tr>\n    <tr>\n      <th>496</th>\n      <td>John_MediumSpringGreen</td>\n      <td>38.437986</td>\n      <td>50.819602</td>\n      <td>54.639640</td>\n      <td>64.863266</td>\n      <td>57.841434</td>\n    </tr>\n    <tr>\n      <th>497</th>\n      <td>Donald_LawnGreen</td>\n      <td>47.392362</td>\n      <td>53.366615</td>\n      <td>47.435131</td>\n      <td>37.150407</td>\n      <td>45.258511</td>\n    </tr>\n    <tr>\n      <th>498</th>\n      <td>Bethany_DarkSeaGreen</td>\n      <td>59.112459</td>\n      <td>69.812357</td>\n      <td>59.936633</td>\n      <td>72.304064</td>\n      <td>71.058210</td>\n    </tr>\n    <tr>\n      <th>499</th>\n      <td>Stephen_DarkSlateBlue</td>\n      <td>47.564891</td>\n      <td>51.952629</td>\n      <td>34.681843</td>\n      <td>27.290158</td>\n      <td>39.621393</td>\n    </tr>\n  </tbody>\n</table>\n<p>500 rows × 6 columns</p>\n</div>"
     },
     "execution_count": 48,
     "metadata": {},
     "output_type": "execute_result"
    }
   ],
   "source": [
    "customer_2['Avg'] = (customer_2['HP'] + customer_2['MP']) / 2\n",
    "customer_2"
   ],
   "metadata": {
    "collapsed": false,
    "ExecuteTime": {
     "end_time": "2023-08-16T00:57:56.900267200Z",
     "start_time": "2023-08-16T00:57:56.646677700Z"
    }
   }
  },
  {
   "cell_type": "code",
   "execution_count": 49,
   "outputs": [
    {
     "data": {
      "text/plain": "      Customer_Id Name                Nickname  Password  \\\n0    doloribus740  류현숙             Bryce_White  ********   \n1     expedita131  오지현    Zachary_LightSkyBlue  ********   \n2    provident683  최민석           Brenda_Violet  ********   \n3        sequi591  김민수             Kyle_Orange  ********   \n4        totam890  최미경     Kevin_DarkTurquoise  ********   \n..            ...  ...                     ...       ...   \n495           NaN  NaN         Jeffrey_DimGray       NaN   \n496           NaN  NaN  John_MediumSpringGreen       NaN   \n497           NaN  NaN        Donald_LawnGreen       NaN   \n498           NaN  NaN    Bethany_DarkSeaGreen       NaN   \n499           NaN  NaN   Stephen_DarkSlateBlue       NaN   \n\n                         Email       Birth  gender              C.P.  \\\n0                xhwang@yu.com  1990-01-21  female  01x9-4x671-x0x6x   \n1    jeongung54@jusighoesa.com  1987-08-17  female  01x9-1x037-x6x5x   \n2         songyeweon@isoni.org  2004-10-29    male  01x9-5x526-x7x2x   \n3          anseonghyeon@ju.com  2000-10-17    male  01x9-1x567-x3x0x   \n4                 ggim@gimi.kr  1989-02-02  female  01x9-3x802-x3x0x   \n..                         ...         ...     ...               ...   \n495                        NaN         NaN     NaN               NaN   \n496                        NaN         NaN     NaN               NaN   \n497                        NaN         NaN     NaN               NaN   \n498                        NaN         NaN     NaN               NaN   \n499                        NaN         NaN     NaN               NaN   \n\n    MobileCompany       OS  Class     Defense          HP        int  \\\n0             LGU      iOS    3.0         NaN         NaN        NaN   \n1            MVNO      iOS    3.0         NaN         NaN        NaN   \n2              KT  Android    3.0         NaN         NaN        NaN   \n3             SKT      iOS    2.0         NaN         NaN        NaN   \n4             SKT      iOS    4.0         NaN         NaN        NaN   \n..            ...      ...    ...         ...         ...        ...   \n495           NaN      NaN    NaN  100.000000  100.000000  55.598552   \n496           NaN      NaN    NaN   38.437986   50.819602  54.639640   \n497           NaN      NaN    NaN   47.392362   53.366615  47.435131   \n498           NaN      NaN    NaN   59.112459   69.812357  59.936633   \n499           NaN      NaN    NaN   47.564891   51.952629  34.681843   \n\n            MP        Avg  \n0          NaN        NaN  \n1          NaN        NaN  \n2          NaN        NaN  \n3          NaN        NaN  \n4          NaN        NaN  \n..         ...        ...  \n495  53.094556  76.547278  \n496  64.863266  57.841434  \n497  37.150407  45.258511  \n498  72.304064  71.058210  \n499  27.290158  39.621393  \n\n[1000 rows x 16 columns]",
      "text/html": "<div>\n<style scoped>\n    .dataframe tbody tr th:only-of-type {\n        vertical-align: middle;\n    }\n\n    .dataframe tbody tr th {\n        vertical-align: top;\n    }\n\n    .dataframe thead th {\n        text-align: right;\n    }\n</style>\n<table border=\"1\" class=\"dataframe\">\n  <thead>\n    <tr style=\"text-align: right;\">\n      <th></th>\n      <th>Customer_Id</th>\n      <th>Name</th>\n      <th>Nickname</th>\n      <th>Password</th>\n      <th>Email</th>\n      <th>Birth</th>\n      <th>gender</th>\n      <th>C.P.</th>\n      <th>MobileCompany</th>\n      <th>OS</th>\n      <th>Class</th>\n      <th>Defense</th>\n      <th>HP</th>\n      <th>int</th>\n      <th>MP</th>\n      <th>Avg</th>\n    </tr>\n  </thead>\n  <tbody>\n    <tr>\n      <th>0</th>\n      <td>doloribus740</td>\n      <td>류현숙</td>\n      <td>Bryce_White</td>\n      <td>********</td>\n      <td>xhwang@yu.com</td>\n      <td>1990-01-21</td>\n      <td>female</td>\n      <td>01x9-4x671-x0x6x</td>\n      <td>LGU</td>\n      <td>iOS</td>\n      <td>3.0</td>\n      <td>NaN</td>\n      <td>NaN</td>\n      <td>NaN</td>\n      <td>NaN</td>\n      <td>NaN</td>\n    </tr>\n    <tr>\n      <th>1</th>\n      <td>expedita131</td>\n      <td>오지현</td>\n      <td>Zachary_LightSkyBlue</td>\n      <td>********</td>\n      <td>jeongung54@jusighoesa.com</td>\n      <td>1987-08-17</td>\n      <td>female</td>\n      <td>01x9-1x037-x6x5x</td>\n      <td>MVNO</td>\n      <td>iOS</td>\n      <td>3.0</td>\n      <td>NaN</td>\n      <td>NaN</td>\n      <td>NaN</td>\n      <td>NaN</td>\n      <td>NaN</td>\n    </tr>\n    <tr>\n      <th>2</th>\n      <td>provident683</td>\n      <td>최민석</td>\n      <td>Brenda_Violet</td>\n      <td>********</td>\n      <td>songyeweon@isoni.org</td>\n      <td>2004-10-29</td>\n      <td>male</td>\n      <td>01x9-5x526-x7x2x</td>\n      <td>KT</td>\n      <td>Android</td>\n      <td>3.0</td>\n      <td>NaN</td>\n      <td>NaN</td>\n      <td>NaN</td>\n      <td>NaN</td>\n      <td>NaN</td>\n    </tr>\n    <tr>\n      <th>3</th>\n      <td>sequi591</td>\n      <td>김민수</td>\n      <td>Kyle_Orange</td>\n      <td>********</td>\n      <td>anseonghyeon@ju.com</td>\n      <td>2000-10-17</td>\n      <td>male</td>\n      <td>01x9-1x567-x3x0x</td>\n      <td>SKT</td>\n      <td>iOS</td>\n      <td>2.0</td>\n      <td>NaN</td>\n      <td>NaN</td>\n      <td>NaN</td>\n      <td>NaN</td>\n      <td>NaN</td>\n    </tr>\n    <tr>\n      <th>4</th>\n      <td>totam890</td>\n      <td>최미경</td>\n      <td>Kevin_DarkTurquoise</td>\n      <td>********</td>\n      <td>ggim@gimi.kr</td>\n      <td>1989-02-02</td>\n      <td>female</td>\n      <td>01x9-3x802-x3x0x</td>\n      <td>SKT</td>\n      <td>iOS</td>\n      <td>4.0</td>\n      <td>NaN</td>\n      <td>NaN</td>\n      <td>NaN</td>\n      <td>NaN</td>\n      <td>NaN</td>\n    </tr>\n    <tr>\n      <th>...</th>\n      <td>...</td>\n      <td>...</td>\n      <td>...</td>\n      <td>...</td>\n      <td>...</td>\n      <td>...</td>\n      <td>...</td>\n      <td>...</td>\n      <td>...</td>\n      <td>...</td>\n      <td>...</td>\n      <td>...</td>\n      <td>...</td>\n      <td>...</td>\n      <td>...</td>\n      <td>...</td>\n    </tr>\n    <tr>\n      <th>495</th>\n      <td>NaN</td>\n      <td>NaN</td>\n      <td>Jeffrey_DimGray</td>\n      <td>NaN</td>\n      <td>NaN</td>\n      <td>NaN</td>\n      <td>NaN</td>\n      <td>NaN</td>\n      <td>NaN</td>\n      <td>NaN</td>\n      <td>NaN</td>\n      <td>100.000000</td>\n      <td>100.000000</td>\n      <td>55.598552</td>\n      <td>53.094556</td>\n      <td>76.547278</td>\n    </tr>\n    <tr>\n      <th>496</th>\n      <td>NaN</td>\n      <td>NaN</td>\n      <td>John_MediumSpringGreen</td>\n      <td>NaN</td>\n      <td>NaN</td>\n      <td>NaN</td>\n      <td>NaN</td>\n      <td>NaN</td>\n      <td>NaN</td>\n      <td>NaN</td>\n      <td>NaN</td>\n      <td>38.437986</td>\n      <td>50.819602</td>\n      <td>54.639640</td>\n      <td>64.863266</td>\n      <td>57.841434</td>\n    </tr>\n    <tr>\n      <th>497</th>\n      <td>NaN</td>\n      <td>NaN</td>\n      <td>Donald_LawnGreen</td>\n      <td>NaN</td>\n      <td>NaN</td>\n      <td>NaN</td>\n      <td>NaN</td>\n      <td>NaN</td>\n      <td>NaN</td>\n      <td>NaN</td>\n      <td>NaN</td>\n      <td>47.392362</td>\n      <td>53.366615</td>\n      <td>47.435131</td>\n      <td>37.150407</td>\n      <td>45.258511</td>\n    </tr>\n    <tr>\n      <th>498</th>\n      <td>NaN</td>\n      <td>NaN</td>\n      <td>Bethany_DarkSeaGreen</td>\n      <td>NaN</td>\n      <td>NaN</td>\n      <td>NaN</td>\n      <td>NaN</td>\n      <td>NaN</td>\n      <td>NaN</td>\n      <td>NaN</td>\n      <td>NaN</td>\n      <td>59.112459</td>\n      <td>69.812357</td>\n      <td>59.936633</td>\n      <td>72.304064</td>\n      <td>71.058210</td>\n    </tr>\n    <tr>\n      <th>499</th>\n      <td>NaN</td>\n      <td>NaN</td>\n      <td>Stephen_DarkSlateBlue</td>\n      <td>NaN</td>\n      <td>NaN</td>\n      <td>NaN</td>\n      <td>NaN</td>\n      <td>NaN</td>\n      <td>NaN</td>\n      <td>NaN</td>\n      <td>NaN</td>\n      <td>47.564891</td>\n      <td>51.952629</td>\n      <td>34.681843</td>\n      <td>27.290158</td>\n      <td>39.621393</td>\n    </tr>\n  </tbody>\n</table>\n<p>1000 rows × 16 columns</p>\n</div>"
     },
     "execution_count": 49,
     "metadata": {},
     "output_type": "execute_result"
    }
   ],
   "source": [
    "# concat은 말 그대로 이어붙이기 axis값0이면 행을 건드림\n",
    "pd.concat([customer_1, customer_2], axis=0)"
   ],
   "metadata": {
    "collapsed": false,
    "ExecuteTime": {
     "end_time": "2023-08-16T00:57:56.900267200Z",
     "start_time": "2023-08-16T00:57:56.656072600Z"
    }
   }
  },
  {
   "cell_type": "code",
   "execution_count": 50,
   "outputs": [
    {
     "data": {
      "text/plain": "       Customer_Id Name                Nickname  Password  \\\n0     doloribus740  류현숙             Bryce_White  ********   \n1      expedita131  오지현    Zachary_LightSkyBlue  ********   \n2     provident683  최민석           Brenda_Violet  ********   \n3         sequi591  김민수             Kyle_Orange  ********   \n4         totam890  최미경     Kevin_DarkTurquoise  ********   \n..             ...  ...                     ...       ...   \n495    expedita399  박영자         Jeffrey_DimGray  ********   \n496   quibusdam437  김미정  John_MediumSpringGreen  ********   \n497  reiciendis486  최성호        Donald_LawnGreen  ********   \n498  recusandae058  허경자    Bethany_DarkSeaGreen  ********   \n499       nihil065  박준호   Stephen_DarkSlateBlue  ********   \n\n                         Email       Birth  gender              C.P.  \\\n0                xhwang@yu.com  1990-01-21  female  01x9-4x671-x0x6x   \n1    jeongung54@jusighoesa.com  1987-08-17  female  01x9-1x037-x6x5x   \n2         songyeweon@isoni.org  2004-10-29    male  01x9-5x526-x7x2x   \n3          anseonghyeon@ju.com  2000-10-17    male  01x9-1x567-x3x0x   \n4                 ggim@gimi.kr  1989-02-02  female  01x9-3x802-x3x0x   \n..                         ...         ...     ...               ...   \n495  jeongsugseo@jusighoesa.kr  1997-10-16  female  01x9-8x765-x6x6x   \n496          junhyeog84@yu.net  1993-10-20    male  01x9-2x327-x4x1x   \n497     subinbag@yuhanhoesa.kr  2003-04-07    male  01x9-6x908-x0x9x   \n498    gimeunju@yuhanhoesa.net  1998-09-17    male  01x9-0x976-x7x7x   \n499            areumsim@ju.com  1990-08-14    male  01x9-5x263-x0x1x   \n\n    MobileCompany       OS  Class                Nickname     Defense  \\\n0             LGU      iOS      3             Bryce_White   25.630568   \n1            MVNO      iOS      3    Zachary_LightSkyBlue   14.601957   \n2              KT  Android      3           Brenda_Violet   37.768119   \n3             SKT      iOS      2             Kyle_Orange   61.736459   \n4             SKT      iOS      4     Kevin_DarkTurquoise   57.515975   \n..            ...      ...    ...                     ...         ...   \n495           SKT      iOS      1         Jeffrey_DimGray  100.000000   \n496           SKT  Android      1  John_MediumSpringGreen   38.437986   \n497           SKT      iOS      4        Donald_LawnGreen   47.392362   \n498           SKT  Android      3    Bethany_DarkSeaGreen   59.112459   \n499           SKT  Android      3   Stephen_DarkSlateBlue   47.564891   \n\n             HP        int         MP        Avg  \n0     30.047333  80.191590  90.734824  60.391079  \n1     24.901503  23.778162  33.527576  29.214540  \n2     36.958759  50.672921  47.716956  42.337857  \n3     59.692233  80.028095  81.593752  70.642993  \n4     50.800429  43.708943  46.930504  48.865466  \n..          ...        ...        ...        ...  \n495  100.000000  55.598552  53.094556  76.547278  \n496   50.819602  54.639640  64.863266  57.841434  \n497   53.366615  47.435131  37.150407  45.258511  \n498   69.812357  59.936633  72.304064  71.058210  \n499   51.952629  34.681843  27.290158  39.621393  \n\n[500 rows x 17 columns]",
      "text/html": "<div>\n<style scoped>\n    .dataframe tbody tr th:only-of-type {\n        vertical-align: middle;\n    }\n\n    .dataframe tbody tr th {\n        vertical-align: top;\n    }\n\n    .dataframe thead th {\n        text-align: right;\n    }\n</style>\n<table border=\"1\" class=\"dataframe\">\n  <thead>\n    <tr style=\"text-align: right;\">\n      <th></th>\n      <th>Customer_Id</th>\n      <th>Name</th>\n      <th>Nickname</th>\n      <th>Password</th>\n      <th>Email</th>\n      <th>Birth</th>\n      <th>gender</th>\n      <th>C.P.</th>\n      <th>MobileCompany</th>\n      <th>OS</th>\n      <th>Class</th>\n      <th>Nickname</th>\n      <th>Defense</th>\n      <th>HP</th>\n      <th>int</th>\n      <th>MP</th>\n      <th>Avg</th>\n    </tr>\n  </thead>\n  <tbody>\n    <tr>\n      <th>0</th>\n      <td>doloribus740</td>\n      <td>류현숙</td>\n      <td>Bryce_White</td>\n      <td>********</td>\n      <td>xhwang@yu.com</td>\n      <td>1990-01-21</td>\n      <td>female</td>\n      <td>01x9-4x671-x0x6x</td>\n      <td>LGU</td>\n      <td>iOS</td>\n      <td>3</td>\n      <td>Bryce_White</td>\n      <td>25.630568</td>\n      <td>30.047333</td>\n      <td>80.191590</td>\n      <td>90.734824</td>\n      <td>60.391079</td>\n    </tr>\n    <tr>\n      <th>1</th>\n      <td>expedita131</td>\n      <td>오지현</td>\n      <td>Zachary_LightSkyBlue</td>\n      <td>********</td>\n      <td>jeongung54@jusighoesa.com</td>\n      <td>1987-08-17</td>\n      <td>female</td>\n      <td>01x9-1x037-x6x5x</td>\n      <td>MVNO</td>\n      <td>iOS</td>\n      <td>3</td>\n      <td>Zachary_LightSkyBlue</td>\n      <td>14.601957</td>\n      <td>24.901503</td>\n      <td>23.778162</td>\n      <td>33.527576</td>\n      <td>29.214540</td>\n    </tr>\n    <tr>\n      <th>2</th>\n      <td>provident683</td>\n      <td>최민석</td>\n      <td>Brenda_Violet</td>\n      <td>********</td>\n      <td>songyeweon@isoni.org</td>\n      <td>2004-10-29</td>\n      <td>male</td>\n      <td>01x9-5x526-x7x2x</td>\n      <td>KT</td>\n      <td>Android</td>\n      <td>3</td>\n      <td>Brenda_Violet</td>\n      <td>37.768119</td>\n      <td>36.958759</td>\n      <td>50.672921</td>\n      <td>47.716956</td>\n      <td>42.337857</td>\n    </tr>\n    <tr>\n      <th>3</th>\n      <td>sequi591</td>\n      <td>김민수</td>\n      <td>Kyle_Orange</td>\n      <td>********</td>\n      <td>anseonghyeon@ju.com</td>\n      <td>2000-10-17</td>\n      <td>male</td>\n      <td>01x9-1x567-x3x0x</td>\n      <td>SKT</td>\n      <td>iOS</td>\n      <td>2</td>\n      <td>Kyle_Orange</td>\n      <td>61.736459</td>\n      <td>59.692233</td>\n      <td>80.028095</td>\n      <td>81.593752</td>\n      <td>70.642993</td>\n    </tr>\n    <tr>\n      <th>4</th>\n      <td>totam890</td>\n      <td>최미경</td>\n      <td>Kevin_DarkTurquoise</td>\n      <td>********</td>\n      <td>ggim@gimi.kr</td>\n      <td>1989-02-02</td>\n      <td>female</td>\n      <td>01x9-3x802-x3x0x</td>\n      <td>SKT</td>\n      <td>iOS</td>\n      <td>4</td>\n      <td>Kevin_DarkTurquoise</td>\n      <td>57.515975</td>\n      <td>50.800429</td>\n      <td>43.708943</td>\n      <td>46.930504</td>\n      <td>48.865466</td>\n    </tr>\n    <tr>\n      <th>...</th>\n      <td>...</td>\n      <td>...</td>\n      <td>...</td>\n      <td>...</td>\n      <td>...</td>\n      <td>...</td>\n      <td>...</td>\n      <td>...</td>\n      <td>...</td>\n      <td>...</td>\n      <td>...</td>\n      <td>...</td>\n      <td>...</td>\n      <td>...</td>\n      <td>...</td>\n      <td>...</td>\n      <td>...</td>\n    </tr>\n    <tr>\n      <th>495</th>\n      <td>expedita399</td>\n      <td>박영자</td>\n      <td>Jeffrey_DimGray</td>\n      <td>********</td>\n      <td>jeongsugseo@jusighoesa.kr</td>\n      <td>1997-10-16</td>\n      <td>female</td>\n      <td>01x9-8x765-x6x6x</td>\n      <td>SKT</td>\n      <td>iOS</td>\n      <td>1</td>\n      <td>Jeffrey_DimGray</td>\n      <td>100.000000</td>\n      <td>100.000000</td>\n      <td>55.598552</td>\n      <td>53.094556</td>\n      <td>76.547278</td>\n    </tr>\n    <tr>\n      <th>496</th>\n      <td>quibusdam437</td>\n      <td>김미정</td>\n      <td>John_MediumSpringGreen</td>\n      <td>********</td>\n      <td>junhyeog84@yu.net</td>\n      <td>1993-10-20</td>\n      <td>male</td>\n      <td>01x9-2x327-x4x1x</td>\n      <td>SKT</td>\n      <td>Android</td>\n      <td>1</td>\n      <td>John_MediumSpringGreen</td>\n      <td>38.437986</td>\n      <td>50.819602</td>\n      <td>54.639640</td>\n      <td>64.863266</td>\n      <td>57.841434</td>\n    </tr>\n    <tr>\n      <th>497</th>\n      <td>reiciendis486</td>\n      <td>최성호</td>\n      <td>Donald_LawnGreen</td>\n      <td>********</td>\n      <td>subinbag@yuhanhoesa.kr</td>\n      <td>2003-04-07</td>\n      <td>male</td>\n      <td>01x9-6x908-x0x9x</td>\n      <td>SKT</td>\n      <td>iOS</td>\n      <td>4</td>\n      <td>Donald_LawnGreen</td>\n      <td>47.392362</td>\n      <td>53.366615</td>\n      <td>47.435131</td>\n      <td>37.150407</td>\n      <td>45.258511</td>\n    </tr>\n    <tr>\n      <th>498</th>\n      <td>recusandae058</td>\n      <td>허경자</td>\n      <td>Bethany_DarkSeaGreen</td>\n      <td>********</td>\n      <td>gimeunju@yuhanhoesa.net</td>\n      <td>1998-09-17</td>\n      <td>male</td>\n      <td>01x9-0x976-x7x7x</td>\n      <td>SKT</td>\n      <td>Android</td>\n      <td>3</td>\n      <td>Bethany_DarkSeaGreen</td>\n      <td>59.112459</td>\n      <td>69.812357</td>\n      <td>59.936633</td>\n      <td>72.304064</td>\n      <td>71.058210</td>\n    </tr>\n    <tr>\n      <th>499</th>\n      <td>nihil065</td>\n      <td>박준호</td>\n      <td>Stephen_DarkSlateBlue</td>\n      <td>********</td>\n      <td>areumsim@ju.com</td>\n      <td>1990-08-14</td>\n      <td>male</td>\n      <td>01x9-5x263-x0x1x</td>\n      <td>SKT</td>\n      <td>Android</td>\n      <td>3</td>\n      <td>Stephen_DarkSlateBlue</td>\n      <td>47.564891</td>\n      <td>51.952629</td>\n      <td>34.681843</td>\n      <td>27.290158</td>\n      <td>39.621393</td>\n    </tr>\n  </tbody>\n</table>\n<p>500 rows × 17 columns</p>\n</div>"
     },
     "execution_count": 50,
     "metadata": {},
     "output_type": "execute_result"
    }
   ],
   "source": [
    "# axis 1 이면 열을 건드림\n",
    "pd.concat([customer_1, customer_2], axis=1)"
   ],
   "metadata": {
    "collapsed": false,
    "ExecuteTime": {
     "end_time": "2023-08-16T00:57:56.900267200Z",
     "start_time": "2023-08-16T00:57:56.694040200Z"
    }
   }
  },
  {
   "cell_type": "code",
   "execution_count": 51,
   "outputs": [
    {
     "data": {
      "text/plain": "       Customer_Id Name                Nickname  Password  \\\n0     doloribus740  류현숙             Bryce_White  ********   \n1      expedita131  오지현    Zachary_LightSkyBlue  ********   \n2     provident683  최민석           Brenda_Violet  ********   \n3         sequi591  김민수             Kyle_Orange  ********   \n4         totam890  최미경     Kevin_DarkTurquoise  ********   \n..             ...  ...                     ...       ...   \n495    expedita399  박영자         Jeffrey_DimGray  ********   \n496   quibusdam437  김미정  John_MediumSpringGreen  ********   \n497  reiciendis486  최성호        Donald_LawnGreen  ********   \n498  recusandae058  허경자    Bethany_DarkSeaGreen  ********   \n499       nihil065  박준호   Stephen_DarkSlateBlue  ********   \n\n                         Email       Birth  gender              C.P.  \\\n0                xhwang@yu.com  1990-01-21  female  01x9-4x671-x0x6x   \n1    jeongung54@jusighoesa.com  1987-08-17  female  01x9-1x037-x6x5x   \n2         songyeweon@isoni.org  2004-10-29    male  01x9-5x526-x7x2x   \n3          anseonghyeon@ju.com  2000-10-17    male  01x9-1x567-x3x0x   \n4                 ggim@gimi.kr  1989-02-02  female  01x9-3x802-x3x0x   \n..                         ...         ...     ...               ...   \n495  jeongsugseo@jusighoesa.kr  1997-10-16  female  01x9-8x765-x6x6x   \n496          junhyeog84@yu.net  1993-10-20    male  01x9-2x327-x4x1x   \n497     subinbag@yuhanhoesa.kr  2003-04-07    male  01x9-6x908-x0x9x   \n498    gimeunju@yuhanhoesa.net  1998-09-17    male  01x9-0x976-x7x7x   \n499            areumsim@ju.com  1990-08-14    male  01x9-5x263-x0x1x   \n\n    MobileCompany       OS  Class     Defense          HP        int  \\\n0             LGU      iOS      3   25.630568   30.047333  80.191590   \n1            MVNO      iOS      3   14.601957   24.901503  23.778162   \n2              KT  Android      3   37.768119   36.958759  50.672921   \n3             SKT      iOS      2   61.736459   59.692233  80.028095   \n4             SKT      iOS      4   57.515975   50.800429  43.708943   \n..            ...      ...    ...         ...         ...        ...   \n495           SKT      iOS      1  100.000000  100.000000  55.598552   \n496           SKT  Android      1   38.437986   50.819602  54.639640   \n497           SKT      iOS      4   47.392362   53.366615  47.435131   \n498           SKT  Android      3   59.112459   69.812357  59.936633   \n499           SKT  Android      3   47.564891   51.952629  34.681843   \n\n            MP        Avg  \n0    90.734824  60.391079  \n1    33.527576  29.214540  \n2    47.716956  42.337857  \n3    81.593752  70.642993  \n4    46.930504  48.865466  \n..         ...        ...  \n495  53.094556  76.547278  \n496  64.863266  57.841434  \n497  37.150407  45.258511  \n498  72.304064  71.058210  \n499  27.290158  39.621393  \n\n[500 rows x 16 columns]",
      "text/html": "<div>\n<style scoped>\n    .dataframe tbody tr th:only-of-type {\n        vertical-align: middle;\n    }\n\n    .dataframe tbody tr th {\n        vertical-align: top;\n    }\n\n    .dataframe thead th {\n        text-align: right;\n    }\n</style>\n<table border=\"1\" class=\"dataframe\">\n  <thead>\n    <tr style=\"text-align: right;\">\n      <th></th>\n      <th>Customer_Id</th>\n      <th>Name</th>\n      <th>Nickname</th>\n      <th>Password</th>\n      <th>Email</th>\n      <th>Birth</th>\n      <th>gender</th>\n      <th>C.P.</th>\n      <th>MobileCompany</th>\n      <th>OS</th>\n      <th>Class</th>\n      <th>Defense</th>\n      <th>HP</th>\n      <th>int</th>\n      <th>MP</th>\n      <th>Avg</th>\n    </tr>\n  </thead>\n  <tbody>\n    <tr>\n      <th>0</th>\n      <td>doloribus740</td>\n      <td>류현숙</td>\n      <td>Bryce_White</td>\n      <td>********</td>\n      <td>xhwang@yu.com</td>\n      <td>1990-01-21</td>\n      <td>female</td>\n      <td>01x9-4x671-x0x6x</td>\n      <td>LGU</td>\n      <td>iOS</td>\n      <td>3</td>\n      <td>25.630568</td>\n      <td>30.047333</td>\n      <td>80.191590</td>\n      <td>90.734824</td>\n      <td>60.391079</td>\n    </tr>\n    <tr>\n      <th>1</th>\n      <td>expedita131</td>\n      <td>오지현</td>\n      <td>Zachary_LightSkyBlue</td>\n      <td>********</td>\n      <td>jeongung54@jusighoesa.com</td>\n      <td>1987-08-17</td>\n      <td>female</td>\n      <td>01x9-1x037-x6x5x</td>\n      <td>MVNO</td>\n      <td>iOS</td>\n      <td>3</td>\n      <td>14.601957</td>\n      <td>24.901503</td>\n      <td>23.778162</td>\n      <td>33.527576</td>\n      <td>29.214540</td>\n    </tr>\n    <tr>\n      <th>2</th>\n      <td>provident683</td>\n      <td>최민석</td>\n      <td>Brenda_Violet</td>\n      <td>********</td>\n      <td>songyeweon@isoni.org</td>\n      <td>2004-10-29</td>\n      <td>male</td>\n      <td>01x9-5x526-x7x2x</td>\n      <td>KT</td>\n      <td>Android</td>\n      <td>3</td>\n      <td>37.768119</td>\n      <td>36.958759</td>\n      <td>50.672921</td>\n      <td>47.716956</td>\n      <td>42.337857</td>\n    </tr>\n    <tr>\n      <th>3</th>\n      <td>sequi591</td>\n      <td>김민수</td>\n      <td>Kyle_Orange</td>\n      <td>********</td>\n      <td>anseonghyeon@ju.com</td>\n      <td>2000-10-17</td>\n      <td>male</td>\n      <td>01x9-1x567-x3x0x</td>\n      <td>SKT</td>\n      <td>iOS</td>\n      <td>2</td>\n      <td>61.736459</td>\n      <td>59.692233</td>\n      <td>80.028095</td>\n      <td>81.593752</td>\n      <td>70.642993</td>\n    </tr>\n    <tr>\n      <th>4</th>\n      <td>totam890</td>\n      <td>최미경</td>\n      <td>Kevin_DarkTurquoise</td>\n      <td>********</td>\n      <td>ggim@gimi.kr</td>\n      <td>1989-02-02</td>\n      <td>female</td>\n      <td>01x9-3x802-x3x0x</td>\n      <td>SKT</td>\n      <td>iOS</td>\n      <td>4</td>\n      <td>57.515975</td>\n      <td>50.800429</td>\n      <td>43.708943</td>\n      <td>46.930504</td>\n      <td>48.865466</td>\n    </tr>\n    <tr>\n      <th>...</th>\n      <td>...</td>\n      <td>...</td>\n      <td>...</td>\n      <td>...</td>\n      <td>...</td>\n      <td>...</td>\n      <td>...</td>\n      <td>...</td>\n      <td>...</td>\n      <td>...</td>\n      <td>...</td>\n      <td>...</td>\n      <td>...</td>\n      <td>...</td>\n      <td>...</td>\n      <td>...</td>\n    </tr>\n    <tr>\n      <th>495</th>\n      <td>expedita399</td>\n      <td>박영자</td>\n      <td>Jeffrey_DimGray</td>\n      <td>********</td>\n      <td>jeongsugseo@jusighoesa.kr</td>\n      <td>1997-10-16</td>\n      <td>female</td>\n      <td>01x9-8x765-x6x6x</td>\n      <td>SKT</td>\n      <td>iOS</td>\n      <td>1</td>\n      <td>100.000000</td>\n      <td>100.000000</td>\n      <td>55.598552</td>\n      <td>53.094556</td>\n      <td>76.547278</td>\n    </tr>\n    <tr>\n      <th>496</th>\n      <td>quibusdam437</td>\n      <td>김미정</td>\n      <td>John_MediumSpringGreen</td>\n      <td>********</td>\n      <td>junhyeog84@yu.net</td>\n      <td>1993-10-20</td>\n      <td>male</td>\n      <td>01x9-2x327-x4x1x</td>\n      <td>SKT</td>\n      <td>Android</td>\n      <td>1</td>\n      <td>38.437986</td>\n      <td>50.819602</td>\n      <td>54.639640</td>\n      <td>64.863266</td>\n      <td>57.841434</td>\n    </tr>\n    <tr>\n      <th>497</th>\n      <td>reiciendis486</td>\n      <td>최성호</td>\n      <td>Donald_LawnGreen</td>\n      <td>********</td>\n      <td>subinbag@yuhanhoesa.kr</td>\n      <td>2003-04-07</td>\n      <td>male</td>\n      <td>01x9-6x908-x0x9x</td>\n      <td>SKT</td>\n      <td>iOS</td>\n      <td>4</td>\n      <td>47.392362</td>\n      <td>53.366615</td>\n      <td>47.435131</td>\n      <td>37.150407</td>\n      <td>45.258511</td>\n    </tr>\n    <tr>\n      <th>498</th>\n      <td>recusandae058</td>\n      <td>허경자</td>\n      <td>Bethany_DarkSeaGreen</td>\n      <td>********</td>\n      <td>gimeunju@yuhanhoesa.net</td>\n      <td>1998-09-17</td>\n      <td>male</td>\n      <td>01x9-0x976-x7x7x</td>\n      <td>SKT</td>\n      <td>Android</td>\n      <td>3</td>\n      <td>59.112459</td>\n      <td>69.812357</td>\n      <td>59.936633</td>\n      <td>72.304064</td>\n      <td>71.058210</td>\n    </tr>\n    <tr>\n      <th>499</th>\n      <td>nihil065</td>\n      <td>박준호</td>\n      <td>Stephen_DarkSlateBlue</td>\n      <td>********</td>\n      <td>areumsim@ju.com</td>\n      <td>1990-08-14</td>\n      <td>male</td>\n      <td>01x9-5x263-x0x1x</td>\n      <td>SKT</td>\n      <td>Android</td>\n      <td>3</td>\n      <td>47.564891</td>\n      <td>51.952629</td>\n      <td>34.681843</td>\n      <td>27.290158</td>\n      <td>39.621393</td>\n    </tr>\n  </tbody>\n</table>\n<p>500 rows × 16 columns</p>\n</div>"
     },
     "execution_count": 51,
     "metadata": {},
     "output_type": "execute_result"
    }
   ],
   "source": [
    "# 공통된 부분으로 두개의 데이터 결합하기\n",
    "customer = pd.merge(customer_1, customer_2)\n",
    "customer"
   ],
   "metadata": {
    "collapsed": false,
    "ExecuteTime": {
     "end_time": "2023-08-16T00:57:56.900267200Z",
     "start_time": "2023-08-16T00:57:56.695563900Z"
    }
   }
  },
  {
   "cell_type": "code",
   "execution_count": 52,
   "outputs": [
    {
     "name": "stdout",
     "output_type": "stream",
     "text": [
      "<class 'pandas.core.frame.DataFrame'>\n",
      "RangeIndex: 500 entries, 0 to 499\n",
      "Data columns (total 16 columns):\n",
      " #   Column         Non-Null Count  Dtype  \n",
      "---  ------         --------------  -----  \n",
      " 0   Customer_Id    500 non-null    object \n",
      " 1   Name           500 non-null    object \n",
      " 2   Nickname       500 non-null    object \n",
      " 3   Password       500 non-null    object \n",
      " 4   Email          500 non-null    object \n",
      " 5   Birth          500 non-null    object \n",
      " 6   gender         500 non-null    object \n",
      " 7   C.P.           500 non-null    object \n",
      " 8   MobileCompany  500 non-null    object \n",
      " 9   OS             500 non-null    object \n",
      " 10  Class          500 non-null    int64  \n",
      " 11  Defense        500 non-null    float64\n",
      " 12  HP             500 non-null    float64\n",
      " 13  int            500 non-null    float64\n",
      " 14  MP             500 non-null    float64\n",
      " 15  Avg            500 non-null    float64\n",
      "dtypes: float64(5), int64(1), object(10)\n",
      "memory usage: 62.6+ KB\n"
     ]
    }
   ],
   "source": [
    "customer.info()"
   ],
   "metadata": {
    "collapsed": false,
    "ExecuteTime": {
     "end_time": "2023-08-16T00:57:56.900267200Z",
     "start_time": "2023-08-16T00:57:56.721912900Z"
    }
   }
  },
  {
   "cell_type": "code",
   "execution_count": 53,
   "outputs": [],
   "source": [
    "customer.drop(['Password', 'C.P.'], axis=1, inplace=True)  # Password C.P. 열을 지우기"
   ],
   "metadata": {
    "collapsed": false,
    "ExecuteTime": {
     "end_time": "2023-08-16T00:57:56.900267200Z",
     "start_time": "2023-08-16T00:57:56.733616200Z"
    }
   }
  },
  {
   "cell_type": "code",
   "execution_count": 54,
   "outputs": [
    {
     "data": {
      "text/plain": "       Customer_Id Name                Nickname                      Email  \\\n0     doloribus740  류현숙             Bryce_White              xhwang@yu.com   \n1      expedita131  오지현    Zachary_LightSkyBlue  jeongung54@jusighoesa.com   \n2     provident683  최민석           Brenda_Violet       songyeweon@isoni.org   \n3         sequi591  김민수             Kyle_Orange        anseonghyeon@ju.com   \n4         totam890  최미경     Kevin_DarkTurquoise               ggim@gimi.kr   \n..             ...  ...                     ...                        ...   \n495    expedita399  박영자         Jeffrey_DimGray  jeongsugseo@jusighoesa.kr   \n496   quibusdam437  김미정  John_MediumSpringGreen          junhyeog84@yu.net   \n497  reiciendis486  최성호        Donald_LawnGreen     subinbag@yuhanhoesa.kr   \n498  recusandae058  허경자    Bethany_DarkSeaGreen    gimeunju@yuhanhoesa.net   \n499       nihil065  박준호   Stephen_DarkSlateBlue            areumsim@ju.com   \n\n          Birth  gender MobileCompany       OS  Class     Defense          HP  \\\n0    1990-01-21  female           LGU      iOS      3   25.630568   30.047333   \n1    1987-08-17  female          MVNO      iOS      3   14.601957   24.901503   \n2    2004-10-29    male            KT  Android      3   37.768119   36.958759   \n3    2000-10-17    male           SKT      iOS      2   61.736459   59.692233   \n4    1989-02-02  female           SKT      iOS      4   57.515975   50.800429   \n..          ...     ...           ...      ...    ...         ...         ...   \n495  1997-10-16  female           SKT      iOS      1  100.000000  100.000000   \n496  1993-10-20    male           SKT  Android      1   38.437986   50.819602   \n497  2003-04-07    male           SKT      iOS      4   47.392362   53.366615   \n498  1998-09-17    male           SKT  Android      3   59.112459   69.812357   \n499  1990-08-14    male           SKT  Android      3   47.564891   51.952629   \n\n           int         MP        Avg  \n0    80.191590  90.734824  60.391079  \n1    23.778162  33.527576  29.214540  \n2    50.672921  47.716956  42.337857  \n3    80.028095  81.593752  70.642993  \n4    43.708943  46.930504  48.865466  \n..         ...        ...        ...  \n495  55.598552  53.094556  76.547278  \n496  54.639640  64.863266  57.841434  \n497  47.435131  37.150407  45.258511  \n498  59.936633  72.304064  71.058210  \n499  34.681843  27.290158  39.621393  \n\n[500 rows x 14 columns]",
      "text/html": "<div>\n<style scoped>\n    .dataframe tbody tr th:only-of-type {\n        vertical-align: middle;\n    }\n\n    .dataframe tbody tr th {\n        vertical-align: top;\n    }\n\n    .dataframe thead th {\n        text-align: right;\n    }\n</style>\n<table border=\"1\" class=\"dataframe\">\n  <thead>\n    <tr style=\"text-align: right;\">\n      <th></th>\n      <th>Customer_Id</th>\n      <th>Name</th>\n      <th>Nickname</th>\n      <th>Email</th>\n      <th>Birth</th>\n      <th>gender</th>\n      <th>MobileCompany</th>\n      <th>OS</th>\n      <th>Class</th>\n      <th>Defense</th>\n      <th>HP</th>\n      <th>int</th>\n      <th>MP</th>\n      <th>Avg</th>\n    </tr>\n  </thead>\n  <tbody>\n    <tr>\n      <th>0</th>\n      <td>doloribus740</td>\n      <td>류현숙</td>\n      <td>Bryce_White</td>\n      <td>xhwang@yu.com</td>\n      <td>1990-01-21</td>\n      <td>female</td>\n      <td>LGU</td>\n      <td>iOS</td>\n      <td>3</td>\n      <td>25.630568</td>\n      <td>30.047333</td>\n      <td>80.191590</td>\n      <td>90.734824</td>\n      <td>60.391079</td>\n    </tr>\n    <tr>\n      <th>1</th>\n      <td>expedita131</td>\n      <td>오지현</td>\n      <td>Zachary_LightSkyBlue</td>\n      <td>jeongung54@jusighoesa.com</td>\n      <td>1987-08-17</td>\n      <td>female</td>\n      <td>MVNO</td>\n      <td>iOS</td>\n      <td>3</td>\n      <td>14.601957</td>\n      <td>24.901503</td>\n      <td>23.778162</td>\n      <td>33.527576</td>\n      <td>29.214540</td>\n    </tr>\n    <tr>\n      <th>2</th>\n      <td>provident683</td>\n      <td>최민석</td>\n      <td>Brenda_Violet</td>\n      <td>songyeweon@isoni.org</td>\n      <td>2004-10-29</td>\n      <td>male</td>\n      <td>KT</td>\n      <td>Android</td>\n      <td>3</td>\n      <td>37.768119</td>\n      <td>36.958759</td>\n      <td>50.672921</td>\n      <td>47.716956</td>\n      <td>42.337857</td>\n    </tr>\n    <tr>\n      <th>3</th>\n      <td>sequi591</td>\n      <td>김민수</td>\n      <td>Kyle_Orange</td>\n      <td>anseonghyeon@ju.com</td>\n      <td>2000-10-17</td>\n      <td>male</td>\n      <td>SKT</td>\n      <td>iOS</td>\n      <td>2</td>\n      <td>61.736459</td>\n      <td>59.692233</td>\n      <td>80.028095</td>\n      <td>81.593752</td>\n      <td>70.642993</td>\n    </tr>\n    <tr>\n      <th>4</th>\n      <td>totam890</td>\n      <td>최미경</td>\n      <td>Kevin_DarkTurquoise</td>\n      <td>ggim@gimi.kr</td>\n      <td>1989-02-02</td>\n      <td>female</td>\n      <td>SKT</td>\n      <td>iOS</td>\n      <td>4</td>\n      <td>57.515975</td>\n      <td>50.800429</td>\n      <td>43.708943</td>\n      <td>46.930504</td>\n      <td>48.865466</td>\n    </tr>\n    <tr>\n      <th>...</th>\n      <td>...</td>\n      <td>...</td>\n      <td>...</td>\n      <td>...</td>\n      <td>...</td>\n      <td>...</td>\n      <td>...</td>\n      <td>...</td>\n      <td>...</td>\n      <td>...</td>\n      <td>...</td>\n      <td>...</td>\n      <td>...</td>\n      <td>...</td>\n    </tr>\n    <tr>\n      <th>495</th>\n      <td>expedita399</td>\n      <td>박영자</td>\n      <td>Jeffrey_DimGray</td>\n      <td>jeongsugseo@jusighoesa.kr</td>\n      <td>1997-10-16</td>\n      <td>female</td>\n      <td>SKT</td>\n      <td>iOS</td>\n      <td>1</td>\n      <td>100.000000</td>\n      <td>100.000000</td>\n      <td>55.598552</td>\n      <td>53.094556</td>\n      <td>76.547278</td>\n    </tr>\n    <tr>\n      <th>496</th>\n      <td>quibusdam437</td>\n      <td>김미정</td>\n      <td>John_MediumSpringGreen</td>\n      <td>junhyeog84@yu.net</td>\n      <td>1993-10-20</td>\n      <td>male</td>\n      <td>SKT</td>\n      <td>Android</td>\n      <td>1</td>\n      <td>38.437986</td>\n      <td>50.819602</td>\n      <td>54.639640</td>\n      <td>64.863266</td>\n      <td>57.841434</td>\n    </tr>\n    <tr>\n      <th>497</th>\n      <td>reiciendis486</td>\n      <td>최성호</td>\n      <td>Donald_LawnGreen</td>\n      <td>subinbag@yuhanhoesa.kr</td>\n      <td>2003-04-07</td>\n      <td>male</td>\n      <td>SKT</td>\n      <td>iOS</td>\n      <td>4</td>\n      <td>47.392362</td>\n      <td>53.366615</td>\n      <td>47.435131</td>\n      <td>37.150407</td>\n      <td>45.258511</td>\n    </tr>\n    <tr>\n      <th>498</th>\n      <td>recusandae058</td>\n      <td>허경자</td>\n      <td>Bethany_DarkSeaGreen</td>\n      <td>gimeunju@yuhanhoesa.net</td>\n      <td>1998-09-17</td>\n      <td>male</td>\n      <td>SKT</td>\n      <td>Android</td>\n      <td>3</td>\n      <td>59.112459</td>\n      <td>69.812357</td>\n      <td>59.936633</td>\n      <td>72.304064</td>\n      <td>71.058210</td>\n    </tr>\n    <tr>\n      <th>499</th>\n      <td>nihil065</td>\n      <td>박준호</td>\n      <td>Stephen_DarkSlateBlue</td>\n      <td>areumsim@ju.com</td>\n      <td>1990-08-14</td>\n      <td>male</td>\n      <td>SKT</td>\n      <td>Android</td>\n      <td>3</td>\n      <td>47.564891</td>\n      <td>51.952629</td>\n      <td>34.681843</td>\n      <td>27.290158</td>\n      <td>39.621393</td>\n    </tr>\n  </tbody>\n</table>\n<p>500 rows × 14 columns</p>\n</div>"
     },
     "execution_count": 54,
     "metadata": {},
     "output_type": "execute_result"
    }
   ],
   "source": [
    "customer"
   ],
   "metadata": {
    "collapsed": false,
    "ExecuteTime": {
     "end_time": "2023-08-16T00:57:56.900267200Z",
     "start_time": "2023-08-16T00:57:56.757708Z"
    }
   }
  },
  {
   "cell_type": "code",
   "execution_count": 55,
   "outputs": [
    {
     "data": {
      "text/plain": "306"
     },
     "execution_count": 55,
     "metadata": {},
     "output_type": "execute_result"
    }
   ],
   "source": [
    "customer[\"Avg\"].idxmax(axis=0)"
   ],
   "metadata": {
    "collapsed": false,
    "ExecuteTime": {
     "end_time": "2023-08-16T00:57:56.900267200Z",
     "start_time": "2023-08-16T00:57:56.757708Z"
    }
   }
  },
  {
   "cell_type": "code",
   "execution_count": 56,
   "outputs": [
    {
     "data": {
      "text/plain": "Customer_Id                     modi899\nName                                장상훈\nNickname                   Adam_DimGray\nEmail            yeongsug49@yanggim.com\nBirth                        1994-12-14\ngender                             male\nMobileCompany                        KT\nOS                                  iOS\nClass                                 2\nDefense                       96.462225\nHP                            99.276001\nint                           89.557178\nMP                            87.693416\nAvg                           93.484709\nName: 306, dtype: object"
     },
     "execution_count": 56,
     "metadata": {},
     "output_type": "execute_result"
    }
   ],
   "source": [
    "customer.loc[306]"
   ],
   "metadata": {
    "collapsed": false,
    "ExecuteTime": {
     "end_time": "2023-08-16T00:57:56.900267200Z",
     "start_time": "2023-08-16T00:57:56.763941400Z"
    }
   }
  },
  {
   "cell_type": "code",
   "execution_count": 57,
   "outputs": [],
   "source": [
    "import numpy as np"
   ],
   "metadata": {
    "collapsed": false,
    "ExecuteTime": {
     "end_time": "2023-08-16T00:57:56.900267200Z",
     "start_time": "2023-08-16T00:57:56.772246400Z"
    }
   }
  },
  {
   "cell_type": "code",
   "execution_count": 58,
   "outputs": [
    {
     "data": {
      "text/plain": "       Customer_Id Name                Nickname                       Email  \\\n246    delectus318  고채원        Latoya_SteelBlue    sunjagim@minganggang.org   \n275  voluptatum713  최미경       Matthew_Chocolate                 rcoe@yu.com   \n180       porro149  김옥자          Sean_SlateGray             gimeunji@yu.com   \n31        atque527  이예은      Richard_PapayaWhip    hyeonji43@jusighoesa.org   \n0     doloribus740  류현숙             Bryce_White               xhwang@yu.com   \n367    mollitia864  이명자  Matthew_LightSlateGray             pi@gimimyun.com   \n71    veritatis107  이광수               Cory_Cyan         lgim@gimgangheo.org   \n154    deserunt719  강지훈   Mikayla_PaleTurquoise  sanghunjang@jusighoesa.org   \n82    occaecati653  양우진       Anthony_DarkKhaki      yeongja05@hongryui.net   \n132    mollitia065  이서영       Aaron_SpringGreen             pseo@bagugim.kr   \n93         nemo122  윤진호           Robert_Silver             iyeongho@ju.net   \n176         sed415  이재호           Nicole_Orchid         hyeonjeonggu@yu.com   \n424      fugiat532  김미정           Sydney_Orchid          ijiweon@bagryu.com   \n121         sit324  김서준      William_Aquamarine          hyeonugim@useo.org   \n493        quod243  김옥자       Rebecca_IndianRed        jihun43@sinyango.com   \n136    possimus130  박경수          Mary_LimeGreen    seonyeong01@baehagim.net   \n346        quos702  류성현             Johnny_Teal         dgim@jusighoesa.com   \n105      veniam397  구시우           Sophia_Salmon     coeyejin@yuhanhoesa.com   \n168   occaecati016  장진우                Chad_Tan         bagjiyeong@gugim.kr   \n359   provident758  김경수    Curtis_DarkGoldenRod   sangceol32@jusighoesa.com   \n\n          Birth  gender MobileCompany       OS  Class    Defense         HP  \\\n246  1984-04-10  female           SKT  Android      2  87.565781  82.958696   \n275  1999-07-05    male            KT  Android      3  47.566601  51.725232   \n180  1995-11-25  female           LGU  Android      4  73.465003  60.401846   \n31   1990-06-29  female           SKT      iOS      2  47.668239  35.212067   \n0    1990-01-21  female           LGU      iOS      3  25.630568  30.047333   \n367  1997-07-11  female          MVNO      iOS      3  43.045155  40.753370   \n71   1995-02-10    male           SKT      iOS      4  60.030649  65.729839   \n154  1982-10-10    male          MVNO  Android      4  61.712572  69.043824   \n82   1982-11-15    male           SKT      iOS      3  52.742155  50.223564   \n132  1988-09-03    male           SKT  Android      4  46.360634  57.291426   \n93   2000-10-14    male          MVNO      iOS      1  44.678332  41.238005   \n176  1996-12-12    male           SKT  Android      3  50.340986  58.312372   \n424  1987-03-21  female           LGU  Android      3  45.534387  47.699953   \n121  1986-06-16    male           SKT      iOS      3  50.103496  45.995458   \n493  1991-12-05    male           LGU  Android      1  60.051901  67.847125   \n136  2004-02-12  female           SKT      iOS      4  43.443535  53.166401   \n346  2002-02-24    male           SKT  Android      3  36.719780  41.671305   \n105  1987-09-08    male           LGU  Android      3  54.871626  50.477169   \n168  1988-07-14  female           SKT  Android      2  63.491038  64.191447   \n359  2005-11-06    male           SKT  Android      3  56.937758  59.644018   \n\n           int         MP        Avg  \n246  61.619174  49.781971  66.370334  \n275  58.431990  62.869941  57.297586  \n180  67.118903  66.488037  63.444941  \n31   24.917940  26.999272  31.105670  \n0    80.191590  90.734824  60.391079  \n367  30.606718  45.103755  42.928563  \n71   39.583349  55.063013  60.396426  \n154  29.268013  32.383034  50.713429  \n82   43.742308  41.407590  45.815577  \n132  73.800894  68.338551  62.814988  \n93   65.181782  62.251755  51.744880  \n176  53.077182  55.362299  56.837336  \n424  41.470394  46.909059  47.304506  \n121  52.975998  48.914646  47.455052  \n493  59.297667  72.530666  70.188896  \n136  65.910557  62.630685  57.898543  \n346  43.220175  46.709305  44.190305  \n105  22.319546  27.370377  38.923773  \n168  38.507398  39.717405  51.954426  \n359  39.043458  37.019162  48.331590  ",
      "text/html": "<div>\n<style scoped>\n    .dataframe tbody tr th:only-of-type {\n        vertical-align: middle;\n    }\n\n    .dataframe tbody tr th {\n        vertical-align: top;\n    }\n\n    .dataframe thead th {\n        text-align: right;\n    }\n</style>\n<table border=\"1\" class=\"dataframe\">\n  <thead>\n    <tr style=\"text-align: right;\">\n      <th></th>\n      <th>Customer_Id</th>\n      <th>Name</th>\n      <th>Nickname</th>\n      <th>Email</th>\n      <th>Birth</th>\n      <th>gender</th>\n      <th>MobileCompany</th>\n      <th>OS</th>\n      <th>Class</th>\n      <th>Defense</th>\n      <th>HP</th>\n      <th>int</th>\n      <th>MP</th>\n      <th>Avg</th>\n    </tr>\n  </thead>\n  <tbody>\n    <tr>\n      <th>246</th>\n      <td>delectus318</td>\n      <td>고채원</td>\n      <td>Latoya_SteelBlue</td>\n      <td>sunjagim@minganggang.org</td>\n      <td>1984-04-10</td>\n      <td>female</td>\n      <td>SKT</td>\n      <td>Android</td>\n      <td>2</td>\n      <td>87.565781</td>\n      <td>82.958696</td>\n      <td>61.619174</td>\n      <td>49.781971</td>\n      <td>66.370334</td>\n    </tr>\n    <tr>\n      <th>275</th>\n      <td>voluptatum713</td>\n      <td>최미경</td>\n      <td>Matthew_Chocolate</td>\n      <td>rcoe@yu.com</td>\n      <td>1999-07-05</td>\n      <td>male</td>\n      <td>KT</td>\n      <td>Android</td>\n      <td>3</td>\n      <td>47.566601</td>\n      <td>51.725232</td>\n      <td>58.431990</td>\n      <td>62.869941</td>\n      <td>57.297586</td>\n    </tr>\n    <tr>\n      <th>180</th>\n      <td>porro149</td>\n      <td>김옥자</td>\n      <td>Sean_SlateGray</td>\n      <td>gimeunji@yu.com</td>\n      <td>1995-11-25</td>\n      <td>female</td>\n      <td>LGU</td>\n      <td>Android</td>\n      <td>4</td>\n      <td>73.465003</td>\n      <td>60.401846</td>\n      <td>67.118903</td>\n      <td>66.488037</td>\n      <td>63.444941</td>\n    </tr>\n    <tr>\n      <th>31</th>\n      <td>atque527</td>\n      <td>이예은</td>\n      <td>Richard_PapayaWhip</td>\n      <td>hyeonji43@jusighoesa.org</td>\n      <td>1990-06-29</td>\n      <td>female</td>\n      <td>SKT</td>\n      <td>iOS</td>\n      <td>2</td>\n      <td>47.668239</td>\n      <td>35.212067</td>\n      <td>24.917940</td>\n      <td>26.999272</td>\n      <td>31.105670</td>\n    </tr>\n    <tr>\n      <th>0</th>\n      <td>doloribus740</td>\n      <td>류현숙</td>\n      <td>Bryce_White</td>\n      <td>xhwang@yu.com</td>\n      <td>1990-01-21</td>\n      <td>female</td>\n      <td>LGU</td>\n      <td>iOS</td>\n      <td>3</td>\n      <td>25.630568</td>\n      <td>30.047333</td>\n      <td>80.191590</td>\n      <td>90.734824</td>\n      <td>60.391079</td>\n    </tr>\n    <tr>\n      <th>367</th>\n      <td>mollitia864</td>\n      <td>이명자</td>\n      <td>Matthew_LightSlateGray</td>\n      <td>pi@gimimyun.com</td>\n      <td>1997-07-11</td>\n      <td>female</td>\n      <td>MVNO</td>\n      <td>iOS</td>\n      <td>3</td>\n      <td>43.045155</td>\n      <td>40.753370</td>\n      <td>30.606718</td>\n      <td>45.103755</td>\n      <td>42.928563</td>\n    </tr>\n    <tr>\n      <th>71</th>\n      <td>veritatis107</td>\n      <td>이광수</td>\n      <td>Cory_Cyan</td>\n      <td>lgim@gimgangheo.org</td>\n      <td>1995-02-10</td>\n      <td>male</td>\n      <td>SKT</td>\n      <td>iOS</td>\n      <td>4</td>\n      <td>60.030649</td>\n      <td>65.729839</td>\n      <td>39.583349</td>\n      <td>55.063013</td>\n      <td>60.396426</td>\n    </tr>\n    <tr>\n      <th>154</th>\n      <td>deserunt719</td>\n      <td>강지훈</td>\n      <td>Mikayla_PaleTurquoise</td>\n      <td>sanghunjang@jusighoesa.org</td>\n      <td>1982-10-10</td>\n      <td>male</td>\n      <td>MVNO</td>\n      <td>Android</td>\n      <td>4</td>\n      <td>61.712572</td>\n      <td>69.043824</td>\n      <td>29.268013</td>\n      <td>32.383034</td>\n      <td>50.713429</td>\n    </tr>\n    <tr>\n      <th>82</th>\n      <td>occaecati653</td>\n      <td>양우진</td>\n      <td>Anthony_DarkKhaki</td>\n      <td>yeongja05@hongryui.net</td>\n      <td>1982-11-15</td>\n      <td>male</td>\n      <td>SKT</td>\n      <td>iOS</td>\n      <td>3</td>\n      <td>52.742155</td>\n      <td>50.223564</td>\n      <td>43.742308</td>\n      <td>41.407590</td>\n      <td>45.815577</td>\n    </tr>\n    <tr>\n      <th>132</th>\n      <td>mollitia065</td>\n      <td>이서영</td>\n      <td>Aaron_SpringGreen</td>\n      <td>pseo@bagugim.kr</td>\n      <td>1988-09-03</td>\n      <td>male</td>\n      <td>SKT</td>\n      <td>Android</td>\n      <td>4</td>\n      <td>46.360634</td>\n      <td>57.291426</td>\n      <td>73.800894</td>\n      <td>68.338551</td>\n      <td>62.814988</td>\n    </tr>\n    <tr>\n      <th>93</th>\n      <td>nemo122</td>\n      <td>윤진호</td>\n      <td>Robert_Silver</td>\n      <td>iyeongho@ju.net</td>\n      <td>2000-10-14</td>\n      <td>male</td>\n      <td>MVNO</td>\n      <td>iOS</td>\n      <td>1</td>\n      <td>44.678332</td>\n      <td>41.238005</td>\n      <td>65.181782</td>\n      <td>62.251755</td>\n      <td>51.744880</td>\n    </tr>\n    <tr>\n      <th>176</th>\n      <td>sed415</td>\n      <td>이재호</td>\n      <td>Nicole_Orchid</td>\n      <td>hyeonjeonggu@yu.com</td>\n      <td>1996-12-12</td>\n      <td>male</td>\n      <td>SKT</td>\n      <td>Android</td>\n      <td>3</td>\n      <td>50.340986</td>\n      <td>58.312372</td>\n      <td>53.077182</td>\n      <td>55.362299</td>\n      <td>56.837336</td>\n    </tr>\n    <tr>\n      <th>424</th>\n      <td>fugiat532</td>\n      <td>김미정</td>\n      <td>Sydney_Orchid</td>\n      <td>ijiweon@bagryu.com</td>\n      <td>1987-03-21</td>\n      <td>female</td>\n      <td>LGU</td>\n      <td>Android</td>\n      <td>3</td>\n      <td>45.534387</td>\n      <td>47.699953</td>\n      <td>41.470394</td>\n      <td>46.909059</td>\n      <td>47.304506</td>\n    </tr>\n    <tr>\n      <th>121</th>\n      <td>sit324</td>\n      <td>김서준</td>\n      <td>William_Aquamarine</td>\n      <td>hyeonugim@useo.org</td>\n      <td>1986-06-16</td>\n      <td>male</td>\n      <td>SKT</td>\n      <td>iOS</td>\n      <td>3</td>\n      <td>50.103496</td>\n      <td>45.995458</td>\n      <td>52.975998</td>\n      <td>48.914646</td>\n      <td>47.455052</td>\n    </tr>\n    <tr>\n      <th>493</th>\n      <td>quod243</td>\n      <td>김옥자</td>\n      <td>Rebecca_IndianRed</td>\n      <td>jihun43@sinyango.com</td>\n      <td>1991-12-05</td>\n      <td>male</td>\n      <td>LGU</td>\n      <td>Android</td>\n      <td>1</td>\n      <td>60.051901</td>\n      <td>67.847125</td>\n      <td>59.297667</td>\n      <td>72.530666</td>\n      <td>70.188896</td>\n    </tr>\n    <tr>\n      <th>136</th>\n      <td>possimus130</td>\n      <td>박경수</td>\n      <td>Mary_LimeGreen</td>\n      <td>seonyeong01@baehagim.net</td>\n      <td>2004-02-12</td>\n      <td>female</td>\n      <td>SKT</td>\n      <td>iOS</td>\n      <td>4</td>\n      <td>43.443535</td>\n      <td>53.166401</td>\n      <td>65.910557</td>\n      <td>62.630685</td>\n      <td>57.898543</td>\n    </tr>\n    <tr>\n      <th>346</th>\n      <td>quos702</td>\n      <td>류성현</td>\n      <td>Johnny_Teal</td>\n      <td>dgim@jusighoesa.com</td>\n      <td>2002-02-24</td>\n      <td>male</td>\n      <td>SKT</td>\n      <td>Android</td>\n      <td>3</td>\n      <td>36.719780</td>\n      <td>41.671305</td>\n      <td>43.220175</td>\n      <td>46.709305</td>\n      <td>44.190305</td>\n    </tr>\n    <tr>\n      <th>105</th>\n      <td>veniam397</td>\n      <td>구시우</td>\n      <td>Sophia_Salmon</td>\n      <td>coeyejin@yuhanhoesa.com</td>\n      <td>1987-09-08</td>\n      <td>male</td>\n      <td>LGU</td>\n      <td>Android</td>\n      <td>3</td>\n      <td>54.871626</td>\n      <td>50.477169</td>\n      <td>22.319546</td>\n      <td>27.370377</td>\n      <td>38.923773</td>\n    </tr>\n    <tr>\n      <th>168</th>\n      <td>occaecati016</td>\n      <td>장진우</td>\n      <td>Chad_Tan</td>\n      <td>bagjiyeong@gugim.kr</td>\n      <td>1988-07-14</td>\n      <td>female</td>\n      <td>SKT</td>\n      <td>Android</td>\n      <td>2</td>\n      <td>63.491038</td>\n      <td>64.191447</td>\n      <td>38.507398</td>\n      <td>39.717405</td>\n      <td>51.954426</td>\n    </tr>\n    <tr>\n      <th>359</th>\n      <td>provident758</td>\n      <td>김경수</td>\n      <td>Curtis_DarkGoldenRod</td>\n      <td>sangceol32@jusighoesa.com</td>\n      <td>2005-11-06</td>\n      <td>male</td>\n      <td>SKT</td>\n      <td>Android</td>\n      <td>3</td>\n      <td>56.937758</td>\n      <td>59.644018</td>\n      <td>39.043458</td>\n      <td>37.019162</td>\n      <td>48.331590</td>\n    </tr>\n  </tbody>\n</table>\n</div>"
     },
     "execution_count": 58,
     "metadata": {},
     "output_type": "execute_result"
    }
   ],
   "source": [
    "customer.sample(n=20)"
   ],
   "metadata": {
    "collapsed": false,
    "ExecuteTime": {
     "end_time": "2023-08-16T00:57:56.947142200Z",
     "start_time": "2023-08-16T00:57:56.780853300Z"
    }
   }
  },
  {
   "cell_type": "code",
   "execution_count": 59,
   "outputs": [
    {
     "name": "stdout",
     "output_type": "stream",
     "text": [
      "<class 'pandas.core.frame.DataFrame'>\n",
      "Index: 100 entries, 57 to 15\n",
      "Data columns (total 14 columns):\n",
      " #   Column         Non-Null Count  Dtype  \n",
      "---  ------         --------------  -----  \n",
      " 0   Customer_Id    100 non-null    object \n",
      " 1   Name           100 non-null    object \n",
      " 2   Nickname       100 non-null    object \n",
      " 3   Email          100 non-null    object \n",
      " 4   Birth          100 non-null    object \n",
      " 5   gender         100 non-null    object \n",
      " 6   MobileCompany  100 non-null    object \n",
      " 7   OS             100 non-null    object \n",
      " 8   Class          100 non-null    int64  \n",
      " 9   Defense        100 non-null    float64\n",
      " 10  HP             100 non-null    float64\n",
      " 11  int            100 non-null    float64\n",
      " 12  MP             100 non-null    float64\n",
      " 13  Avg            100 non-null    float64\n",
      "dtypes: float64(5), int64(1), object(8)\n",
      "memory usage: 11.7+ KB\n"
     ]
    }
   ],
   "source": [
    "# frac 은 비율 0.2면 20% 1이면 100%\n",
    "customer_sample = customer.sample(frac=0.2)\n",
    "customer_sample.info()"
   ],
   "metadata": {
    "collapsed": false,
    "ExecuteTime": {
     "end_time": "2023-08-16T00:57:57.009721500Z",
     "start_time": "2023-08-16T00:57:56.797619500Z"
    }
   }
  },
  {
   "cell_type": "code",
   "execution_count": 60,
   "outputs": [
    {
     "data": {
      "text/plain": "array([[1.        , 0.91775097],\n       [0.91775097, 1.        ]])"
     },
     "execution_count": 60,
     "metadata": {},
     "output_type": "execute_result"
    }
   ],
   "source": [
    "#customer_sample에서 HP와 Defense 간 상관계수 도출하기\n",
    "np.corrcoef(customer['HP'], customer['Defense'])"
   ],
   "metadata": {
    "collapsed": false,
    "ExecuteTime": {
     "end_time": "2023-08-16T00:57:57.040890300Z",
     "start_time": "2023-08-16T00:57:56.809355300Z"
    }
   }
  },
  {
   "cell_type": "code",
   "execution_count": 60,
   "outputs": [],
   "source": [],
   "metadata": {
    "collapsed": false,
    "ExecuteTime": {
     "end_time": "2023-08-16T00:57:57.040890300Z",
     "start_time": "2023-08-16T00:57:56.825547700Z"
    }
   }
  }
 ],
 "metadata": {
  "kernelspec": {
   "display_name": "Python 3",
   "language": "python",
   "name": "python3"
  },
  "language_info": {
   "codemirror_mode": {
    "name": "ipython",
    "version": 2
   },
   "file_extension": ".py",
   "mimetype": "text/x-python",
   "name": "python",
   "nbconvert_exporter": "python",
   "pygments_lexer": "ipython2",
   "version": "2.7.6"
  }
 },
 "nbformat": 4,
 "nbformat_minor": 0
}
