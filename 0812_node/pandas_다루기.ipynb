{
 "cells": [
  {
   "cell_type": "code",
   "execution_count": 1,
   "metadata": {
    "collapsed": true,
    "ExecuteTime": {
     "end_time": "2023-08-14T09:07:17.599224300Z",
     "start_time": "2023-08-14T09:07:17.596717200Z"
    }
   },
   "outputs": [],
   "source": [
    "import pandas as pd"
   ]
  },
  {
   "cell_type": "code",
   "execution_count": 2,
   "outputs": [
    {
     "data": {
      "text/plain": "    Customer_Id Name              Nickname  Password  \\\n0  doloribus740  류현숙           Bryce_White  ********   \n1   expedita131  오지현  Zachary_LightSkyBlue  ********   \n2  provident683  최민석         Brenda_Violet  ********   \n3      sequi591  김민수           Kyle_Orange  ********   \n4      totam890  최미경   Kevin_DarkTurquoise  ********   \n\n                       Email       Birth  gender              C.P.  \\\n0              xhwang@yu.com  1990-01-21  female  01x9-4x671-x0x6x   \n1  jeongung54@jusighoesa.com  1987-08-17  female  01x9-1x037-x6x5x   \n2       songyeweon@isoni.org  2004-10-29    male  01x9-5x526-x7x2x   \n3        anseonghyeon@ju.com  2000-10-17    male  01x9-1x567-x3x0x   \n4               ggim@gimi.kr  1989-02-02  female  01x9-3x802-x3x0x   \n\n  MobileCompany       OS  Class  \n0           LGU      iOS      3  \n1          MVNO      iOS      3  \n2            KT  Android      3  \n3           SKT      iOS      2  \n4           SKT      iOS      4  ",
      "text/html": "<div>\n<style scoped>\n    .dataframe tbody tr th:only-of-type {\n        vertical-align: middle;\n    }\n\n    .dataframe tbody tr th {\n        vertical-align: top;\n    }\n\n    .dataframe thead th {\n        text-align: right;\n    }\n</style>\n<table border=\"1\" class=\"dataframe\">\n  <thead>\n    <tr style=\"text-align: right;\">\n      <th></th>\n      <th>Customer_Id</th>\n      <th>Name</th>\n      <th>Nickname</th>\n      <th>Password</th>\n      <th>Email</th>\n      <th>Birth</th>\n      <th>gender</th>\n      <th>C.P.</th>\n      <th>MobileCompany</th>\n      <th>OS</th>\n      <th>Class</th>\n    </tr>\n  </thead>\n  <tbody>\n    <tr>\n      <th>0</th>\n      <td>doloribus740</td>\n      <td>류현숙</td>\n      <td>Bryce_White</td>\n      <td>********</td>\n      <td>xhwang@yu.com</td>\n      <td>1990-01-21</td>\n      <td>female</td>\n      <td>01x9-4x671-x0x6x</td>\n      <td>LGU</td>\n      <td>iOS</td>\n      <td>3</td>\n    </tr>\n    <tr>\n      <th>1</th>\n      <td>expedita131</td>\n      <td>오지현</td>\n      <td>Zachary_LightSkyBlue</td>\n      <td>********</td>\n      <td>jeongung54@jusighoesa.com</td>\n      <td>1987-08-17</td>\n      <td>female</td>\n      <td>01x9-1x037-x6x5x</td>\n      <td>MVNO</td>\n      <td>iOS</td>\n      <td>3</td>\n    </tr>\n    <tr>\n      <th>2</th>\n      <td>provident683</td>\n      <td>최민석</td>\n      <td>Brenda_Violet</td>\n      <td>********</td>\n      <td>songyeweon@isoni.org</td>\n      <td>2004-10-29</td>\n      <td>male</td>\n      <td>01x9-5x526-x7x2x</td>\n      <td>KT</td>\n      <td>Android</td>\n      <td>3</td>\n    </tr>\n    <tr>\n      <th>3</th>\n      <td>sequi591</td>\n      <td>김민수</td>\n      <td>Kyle_Orange</td>\n      <td>********</td>\n      <td>anseonghyeon@ju.com</td>\n      <td>2000-10-17</td>\n      <td>male</td>\n      <td>01x9-1x567-x3x0x</td>\n      <td>SKT</td>\n      <td>iOS</td>\n      <td>2</td>\n    </tr>\n    <tr>\n      <th>4</th>\n      <td>totam890</td>\n      <td>최미경</td>\n      <td>Kevin_DarkTurquoise</td>\n      <td>********</td>\n      <td>ggim@gimi.kr</td>\n      <td>1989-02-02</td>\n      <td>female</td>\n      <td>01x9-3x802-x3x0x</td>\n      <td>SKT</td>\n      <td>iOS</td>\n      <td>4</td>\n    </tr>\n  </tbody>\n</table>\n</div>"
     },
     "execution_count": 2,
     "metadata": {},
     "output_type": "execute_result"
    }
   ],
   "source": [
    "customer_1 = pd.read_csv(\"customer_lib_1.csv\")\n",
    "customer_2 = pd.read_csv(\"customer_lib_2.csv\")\n",
    "customer_1.head()"
   ],
   "metadata": {
    "collapsed": false,
    "ExecuteTime": {
     "end_time": "2023-08-14T09:11:09.298295200Z",
     "start_time": "2023-08-14T09:11:09.128211400Z"
    }
   }
  },
  {
   "cell_type": "code",
   "execution_count": 3,
   "outputs": [
    {
     "data": {
      "text/plain": "               Nickname    Defense         HP        int         MP\n0           Bryce_White  25.630568  30.047333  80.191590  90.734824\n1  Zachary_LightSkyBlue  14.601957  24.901503  23.778162  33.527576\n2         Brenda_Violet  37.768119  36.958759  50.672921  47.716956\n3           Kyle_Orange  61.736459  59.692233  80.028095  81.593752\n4   Kevin_DarkTurquoise  57.515975  50.800429  43.708943  46.930504",
      "text/html": "<div>\n<style scoped>\n    .dataframe tbody tr th:only-of-type {\n        vertical-align: middle;\n    }\n\n    .dataframe tbody tr th {\n        vertical-align: top;\n    }\n\n    .dataframe thead th {\n        text-align: right;\n    }\n</style>\n<table border=\"1\" class=\"dataframe\">\n  <thead>\n    <tr style=\"text-align: right;\">\n      <th></th>\n      <th>Nickname</th>\n      <th>Defense</th>\n      <th>HP</th>\n      <th>int</th>\n      <th>MP</th>\n    </tr>\n  </thead>\n  <tbody>\n    <tr>\n      <th>0</th>\n      <td>Bryce_White</td>\n      <td>25.630568</td>\n      <td>30.047333</td>\n      <td>80.191590</td>\n      <td>90.734824</td>\n    </tr>\n    <tr>\n      <th>1</th>\n      <td>Zachary_LightSkyBlue</td>\n      <td>14.601957</td>\n      <td>24.901503</td>\n      <td>23.778162</td>\n      <td>33.527576</td>\n    </tr>\n    <tr>\n      <th>2</th>\n      <td>Brenda_Violet</td>\n      <td>37.768119</td>\n      <td>36.958759</td>\n      <td>50.672921</td>\n      <td>47.716956</td>\n    </tr>\n    <tr>\n      <th>3</th>\n      <td>Kyle_Orange</td>\n      <td>61.736459</td>\n      <td>59.692233</td>\n      <td>80.028095</td>\n      <td>81.593752</td>\n    </tr>\n    <tr>\n      <th>4</th>\n      <td>Kevin_DarkTurquoise</td>\n      <td>57.515975</td>\n      <td>50.800429</td>\n      <td>43.708943</td>\n      <td>46.930504</td>\n    </tr>\n  </tbody>\n</table>\n</div>"
     },
     "execution_count": 3,
     "metadata": {},
     "output_type": "execute_result"
    }
   ],
   "source": [
    "customer_2.head()"
   ],
   "metadata": {
    "collapsed": false,
    "ExecuteTime": {
     "end_time": "2023-08-14T09:11:15.051818Z",
     "start_time": "2023-08-14T09:11:15.036034800Z"
    }
   }
  },
  {
   "cell_type": "code",
   "execution_count": 4,
   "outputs": [
    {
     "data": {
      "text/plain": "Index(['Customer_Id', 'Name', 'Nickname', 'Password', 'Email', 'Birth',\n       'gender', 'C.P.', 'MobileCompany', 'OS', 'Class'],\n      dtype='object')"
     },
     "execution_count": 4,
     "metadata": {},
     "output_type": "execute_result"
    }
   ],
   "source": [
    "customer_1.columns"
   ],
   "metadata": {
    "collapsed": false,
    "ExecuteTime": {
     "end_time": "2023-08-14T09:11:55.896231700Z",
     "start_time": "2023-08-14T09:11:55.896231700Z"
    }
   }
  },
  {
   "cell_type": "code",
   "execution_count": 6,
   "outputs": [
    {
     "name": "stdout",
     "output_type": "stream",
     "text": [
      "<class 'pandas.core.frame.DataFrame'>\n",
      "RangeIndex: 500 entries, 0 to 499\n",
      "Data columns (total 11 columns):\n",
      " #   Column         Non-Null Count  Dtype \n",
      "---  ------         --------------  ----- \n",
      " 0   Customer_Id    500 non-null    object\n",
      " 1   Name           500 non-null    object\n",
      " 2   Nickname       500 non-null    object\n",
      " 3   Password       500 non-null    object\n",
      " 4   Email          500 non-null    object\n",
      " 5   Birth          500 non-null    object\n",
      " 6   gender         500 non-null    object\n",
      " 7   C.P.           500 non-null    object\n",
      " 8   MobileCompany  500 non-null    object\n",
      " 9   OS             500 non-null    object\n",
      " 10  Class          500 non-null    int64 \n",
      "dtypes: int64(1), object(10)\n",
      "memory usage: 43.1+ KB\n"
     ]
    }
   ],
   "source": [
    "customer_1.info()"
   ],
   "metadata": {
    "collapsed": false,
    "ExecuteTime": {
     "end_time": "2023-08-14T09:12:11.306080700Z",
     "start_time": "2023-08-14T09:12:11.288028200Z"
    }
   }
  },
  {
   "cell_type": "code",
   "execution_count": 7,
   "outputs": [
    {
     "data": {
      "text/plain": "            Class\ncount  500.000000\nmean     2.970000\nstd      0.999549\nmin      1.000000\n25%      2.000000\n50%      3.000000\n75%      4.000000\nmax      4.000000",
      "text/html": "<div>\n<style scoped>\n    .dataframe tbody tr th:only-of-type {\n        vertical-align: middle;\n    }\n\n    .dataframe tbody tr th {\n        vertical-align: top;\n    }\n\n    .dataframe thead th {\n        text-align: right;\n    }\n</style>\n<table border=\"1\" class=\"dataframe\">\n  <thead>\n    <tr style=\"text-align: right;\">\n      <th></th>\n      <th>Class</th>\n    </tr>\n  </thead>\n  <tbody>\n    <tr>\n      <th>count</th>\n      <td>500.000000</td>\n    </tr>\n    <tr>\n      <th>mean</th>\n      <td>2.970000</td>\n    </tr>\n    <tr>\n      <th>std</th>\n      <td>0.999549</td>\n    </tr>\n    <tr>\n      <th>min</th>\n      <td>1.000000</td>\n    </tr>\n    <tr>\n      <th>25%</th>\n      <td>2.000000</td>\n    </tr>\n    <tr>\n      <th>50%</th>\n      <td>3.000000</td>\n    </tr>\n    <tr>\n      <th>75%</th>\n      <td>4.000000</td>\n    </tr>\n    <tr>\n      <th>max</th>\n      <td>4.000000</td>\n    </tr>\n  </tbody>\n</table>\n</div>"
     },
     "execution_count": 7,
     "metadata": {},
     "output_type": "execute_result"
    }
   ],
   "source": [
    "customer_1.describe()"
   ],
   "metadata": {
    "collapsed": false,
    "ExecuteTime": {
     "end_time": "2023-08-14T09:12:24.010920900Z",
     "start_time": "2023-08-14T09:12:23.991066900Z"
    }
   }
  },
  {
   "cell_type": "code",
   "execution_count": 8,
   "outputs": [
    {
     "data": {
      "text/plain": "0      류현숙\n1      오지현\n2      최민석\n3      김민수\n4      최미경\n      ... \n495    박영자\n496    김미정\n497    최성호\n498    허경자\n499    박준호\nName: Name, Length: 500, dtype: object"
     },
     "execution_count": 8,
     "metadata": {},
     "output_type": "execute_result"
    }
   ],
   "source": [
    "x = customer_1['Name']\n",
    "x"
   ],
   "metadata": {
    "collapsed": false,
    "ExecuteTime": {
     "end_time": "2023-08-14T09:13:38.427475200Z",
     "start_time": "2023-08-14T09:13:38.427475200Z"
    }
   }
  },
  {
   "cell_type": "code",
   "execution_count": 9,
   "outputs": [
    {
     "data": {
      "text/plain": "    Name                      Email                Nickname\n0    류현숙              xhwang@yu.com             Bryce_White\n1    오지현  jeongung54@jusighoesa.com    Zachary_LightSkyBlue\n2    최민석       songyeweon@isoni.org           Brenda_Violet\n3    김민수        anseonghyeon@ju.com             Kyle_Orange\n4    최미경               ggim@gimi.kr     Kevin_DarkTurquoise\n..   ...                        ...                     ...\n495  박영자  jeongsugseo@jusighoesa.kr         Jeffrey_DimGray\n496  김미정          junhyeog84@yu.net  John_MediumSpringGreen\n497  최성호     subinbag@yuhanhoesa.kr        Donald_LawnGreen\n498  허경자    gimeunju@yuhanhoesa.net    Bethany_DarkSeaGreen\n499  박준호            areumsim@ju.com   Stephen_DarkSlateBlue\n\n[500 rows x 3 columns]",
      "text/html": "<div>\n<style scoped>\n    .dataframe tbody tr th:only-of-type {\n        vertical-align: middle;\n    }\n\n    .dataframe tbody tr th {\n        vertical-align: top;\n    }\n\n    .dataframe thead th {\n        text-align: right;\n    }\n</style>\n<table border=\"1\" class=\"dataframe\">\n  <thead>\n    <tr style=\"text-align: right;\">\n      <th></th>\n      <th>Name</th>\n      <th>Email</th>\n      <th>Nickname</th>\n    </tr>\n  </thead>\n  <tbody>\n    <tr>\n      <th>0</th>\n      <td>류현숙</td>\n      <td>xhwang@yu.com</td>\n      <td>Bryce_White</td>\n    </tr>\n    <tr>\n      <th>1</th>\n      <td>오지현</td>\n      <td>jeongung54@jusighoesa.com</td>\n      <td>Zachary_LightSkyBlue</td>\n    </tr>\n    <tr>\n      <th>2</th>\n      <td>최민석</td>\n      <td>songyeweon@isoni.org</td>\n      <td>Brenda_Violet</td>\n    </tr>\n    <tr>\n      <th>3</th>\n      <td>김민수</td>\n      <td>anseonghyeon@ju.com</td>\n      <td>Kyle_Orange</td>\n    </tr>\n    <tr>\n      <th>4</th>\n      <td>최미경</td>\n      <td>ggim@gimi.kr</td>\n      <td>Kevin_DarkTurquoise</td>\n    </tr>\n    <tr>\n      <th>...</th>\n      <td>...</td>\n      <td>...</td>\n      <td>...</td>\n    </tr>\n    <tr>\n      <th>495</th>\n      <td>박영자</td>\n      <td>jeongsugseo@jusighoesa.kr</td>\n      <td>Jeffrey_DimGray</td>\n    </tr>\n    <tr>\n      <th>496</th>\n      <td>김미정</td>\n      <td>junhyeog84@yu.net</td>\n      <td>John_MediumSpringGreen</td>\n    </tr>\n    <tr>\n      <th>497</th>\n      <td>최성호</td>\n      <td>subinbag@yuhanhoesa.kr</td>\n      <td>Donald_LawnGreen</td>\n    </tr>\n    <tr>\n      <th>498</th>\n      <td>허경자</td>\n      <td>gimeunju@yuhanhoesa.net</td>\n      <td>Bethany_DarkSeaGreen</td>\n    </tr>\n    <tr>\n      <th>499</th>\n      <td>박준호</td>\n      <td>areumsim@ju.com</td>\n      <td>Stephen_DarkSlateBlue</td>\n    </tr>\n  </tbody>\n</table>\n<p>500 rows × 3 columns</p>\n</div>"
     },
     "execution_count": 9,
     "metadata": {},
     "output_type": "execute_result"
    }
   ],
   "source": [
    "customer_1[['Name', 'Email', 'Nickname']]"
   ],
   "metadata": {
    "collapsed": false,
    "ExecuteTime": {
     "end_time": "2023-08-14T09:13:59.536478500Z",
     "start_time": "2023-08-14T09:13:59.532030500Z"
    }
   }
  },
  {
   "cell_type": "code",
   "execution_count": 10,
   "outputs": [
    {
     "data": {
      "text/plain": "       Customer_Id Name                Nickname  Password  \\\n2     provident683  최민석           Brenda_Violet  ********   \n6         eaque461  김수빈              Amber_Pink  ********   \n7     explicabo998  김옥자        Michael_SeaShell  ********   \n8       eveniet134  김영순                Lisa_Red  ********   \n9      expedita123  권우진         John_DodgerBlue  ********   \n..             ...  ...                     ...       ...   \n492  voluptatum200  김숙자        Brandy_LightCyan  ********   \n493        quod243  김옥자       Rebecca_IndianRed  ********   \n496   quibusdam437  김미정  John_MediumSpringGreen  ********   \n498  recusandae058  허경자    Bethany_DarkSeaGreen  ********   \n499       nihil065  박준호   Stephen_DarkSlateBlue  ********   \n\n                       Email       Birth  gender              C.P.  \\\n2       songyeweon@isoni.org  2004-10-29    male  01x9-5x526-x7x2x   \n6       seojun95@hangimi.net  1999-07-15    male  01x9-5x180-x5x1x   \n7          ai@jusighoesa.com  2006-01-30    male  01x9-5x470-x7x5x   \n8                   ou@yu.kr  1984-12-14    male  01x9-7x512-x5x4x   \n9             junseo80@yu.kr  1985-07-22  female  01x9-2x003-x6x3x   \n..                       ...         ...     ...               ...   \n492      hyeonju88@simno.com  2004-04-10  female  01x9-6x504-x3x8x   \n493     jihun43@sinyango.com  1991-12-05    male  01x9-8x958-x0x4x   \n496        junhyeog84@yu.net  1993-10-20    male  01x9-2x327-x4x1x   \n498  gimeunju@yuhanhoesa.net  1998-09-17    male  01x9-0x976-x7x7x   \n499          areumsim@ju.com  1990-08-14    male  01x9-5x263-x0x1x   \n\n    MobileCompany       OS  Class  \n2              KT  Android      3  \n6             SKT  Android      2  \n7             SKT  Android      3  \n8             SKT  Android      4  \n9             LGU  Android      4  \n..            ...      ...    ...  \n492            KT  Android      4  \n493           LGU  Android      1  \n496           SKT  Android      1  \n498           SKT  Android      3  \n499           SKT  Android      3  \n\n[344 rows x 11 columns]",
      "text/html": "<div>\n<style scoped>\n    .dataframe tbody tr th:only-of-type {\n        vertical-align: middle;\n    }\n\n    .dataframe tbody tr th {\n        vertical-align: top;\n    }\n\n    .dataframe thead th {\n        text-align: right;\n    }\n</style>\n<table border=\"1\" class=\"dataframe\">\n  <thead>\n    <tr style=\"text-align: right;\">\n      <th></th>\n      <th>Customer_Id</th>\n      <th>Name</th>\n      <th>Nickname</th>\n      <th>Password</th>\n      <th>Email</th>\n      <th>Birth</th>\n      <th>gender</th>\n      <th>C.P.</th>\n      <th>MobileCompany</th>\n      <th>OS</th>\n      <th>Class</th>\n    </tr>\n  </thead>\n  <tbody>\n    <tr>\n      <th>2</th>\n      <td>provident683</td>\n      <td>최민석</td>\n      <td>Brenda_Violet</td>\n      <td>********</td>\n      <td>songyeweon@isoni.org</td>\n      <td>2004-10-29</td>\n      <td>male</td>\n      <td>01x9-5x526-x7x2x</td>\n      <td>KT</td>\n      <td>Android</td>\n      <td>3</td>\n    </tr>\n    <tr>\n      <th>6</th>\n      <td>eaque461</td>\n      <td>김수빈</td>\n      <td>Amber_Pink</td>\n      <td>********</td>\n      <td>seojun95@hangimi.net</td>\n      <td>1999-07-15</td>\n      <td>male</td>\n      <td>01x9-5x180-x5x1x</td>\n      <td>SKT</td>\n      <td>Android</td>\n      <td>2</td>\n    </tr>\n    <tr>\n      <th>7</th>\n      <td>explicabo998</td>\n      <td>김옥자</td>\n      <td>Michael_SeaShell</td>\n      <td>********</td>\n      <td>ai@jusighoesa.com</td>\n      <td>2006-01-30</td>\n      <td>male</td>\n      <td>01x9-5x470-x7x5x</td>\n      <td>SKT</td>\n      <td>Android</td>\n      <td>3</td>\n    </tr>\n    <tr>\n      <th>8</th>\n      <td>eveniet134</td>\n      <td>김영순</td>\n      <td>Lisa_Red</td>\n      <td>********</td>\n      <td>ou@yu.kr</td>\n      <td>1984-12-14</td>\n      <td>male</td>\n      <td>01x9-7x512-x5x4x</td>\n      <td>SKT</td>\n      <td>Android</td>\n      <td>4</td>\n    </tr>\n    <tr>\n      <th>9</th>\n      <td>expedita123</td>\n      <td>권우진</td>\n      <td>John_DodgerBlue</td>\n      <td>********</td>\n      <td>junseo80@yu.kr</td>\n      <td>1985-07-22</td>\n      <td>female</td>\n      <td>01x9-2x003-x6x3x</td>\n      <td>LGU</td>\n      <td>Android</td>\n      <td>4</td>\n    </tr>\n    <tr>\n      <th>...</th>\n      <td>...</td>\n      <td>...</td>\n      <td>...</td>\n      <td>...</td>\n      <td>...</td>\n      <td>...</td>\n      <td>...</td>\n      <td>...</td>\n      <td>...</td>\n      <td>...</td>\n      <td>...</td>\n    </tr>\n    <tr>\n      <th>492</th>\n      <td>voluptatum200</td>\n      <td>김숙자</td>\n      <td>Brandy_LightCyan</td>\n      <td>********</td>\n      <td>hyeonju88@simno.com</td>\n      <td>2004-04-10</td>\n      <td>female</td>\n      <td>01x9-6x504-x3x8x</td>\n      <td>KT</td>\n      <td>Android</td>\n      <td>4</td>\n    </tr>\n    <tr>\n      <th>493</th>\n      <td>quod243</td>\n      <td>김옥자</td>\n      <td>Rebecca_IndianRed</td>\n      <td>********</td>\n      <td>jihun43@sinyango.com</td>\n      <td>1991-12-05</td>\n      <td>male</td>\n      <td>01x9-8x958-x0x4x</td>\n      <td>LGU</td>\n      <td>Android</td>\n      <td>1</td>\n    </tr>\n    <tr>\n      <th>496</th>\n      <td>quibusdam437</td>\n      <td>김미정</td>\n      <td>John_MediumSpringGreen</td>\n      <td>********</td>\n      <td>junhyeog84@yu.net</td>\n      <td>1993-10-20</td>\n      <td>male</td>\n      <td>01x9-2x327-x4x1x</td>\n      <td>SKT</td>\n      <td>Android</td>\n      <td>1</td>\n    </tr>\n    <tr>\n      <th>498</th>\n      <td>recusandae058</td>\n      <td>허경자</td>\n      <td>Bethany_DarkSeaGreen</td>\n      <td>********</td>\n      <td>gimeunju@yuhanhoesa.net</td>\n      <td>1998-09-17</td>\n      <td>male</td>\n      <td>01x9-0x976-x7x7x</td>\n      <td>SKT</td>\n      <td>Android</td>\n      <td>3</td>\n    </tr>\n    <tr>\n      <th>499</th>\n      <td>nihil065</td>\n      <td>박준호</td>\n      <td>Stephen_DarkSlateBlue</td>\n      <td>********</td>\n      <td>areumsim@ju.com</td>\n      <td>1990-08-14</td>\n      <td>male</td>\n      <td>01x9-5x263-x0x1x</td>\n      <td>SKT</td>\n      <td>Android</td>\n      <td>3</td>\n    </tr>\n  </tbody>\n</table>\n<p>344 rows × 11 columns</p>\n</div>"
     },
     "execution_count": 10,
     "metadata": {},
     "output_type": "execute_result"
    }
   ],
   "source": [
    "customer_1[customer_1[\"OS\"] == \"Android\"]"
   ],
   "metadata": {
    "collapsed": false,
    "ExecuteTime": {
     "end_time": "2023-08-14T09:14:24.697604900Z",
     "start_time": "2023-08-14T09:14:24.677837Z"
    }
   }
  },
  {
   "cell_type": "code",
   "execution_count": 11,
   "outputs": [
    {
     "data": {
      "text/plain": "       Customer_Id Name                Nickname  Password  \\\n6         eaque461  김수빈              Amber_Pink  ********   \n7     explicabo998  김옥자        Michael_SeaShell  ********   \n8       eveniet134  김영순                Lisa_Red  ********   \n10           ea027  진미경            Amber_Maroon  ********   \n12      facilis655  박도현          Melanie_Salmon  ********   \n..             ...  ...                     ...       ...   \n490    adipisci111  허종수     Colleen_SaddleBrown  ********   \n491    deleniti768  최명자       William_SteelBlue  ********   \n496   quibusdam437  김미정  John_MediumSpringGreen  ********   \n498  recusandae058  허경자    Bethany_DarkSeaGreen  ********   \n499       nihil065  박준호   Stephen_DarkSlateBlue  ********   \n\n                        Email       Birth  gender              C.P.  \\\n6        seojun95@hangimi.net  1999-07-15    male  01x9-5x180-x5x1x   \n7           ai@jusighoesa.com  2006-01-30    male  01x9-5x470-x7x5x   \n8                    ou@yu.kr  1984-12-14    male  01x9-7x512-x5x4x   \n10         minjae18@coeson.kr  1981-06-28  female  01x9-1x384-x1x5x   \n12           iseongmin@yu.org  1985-02-24  female  01x9-5x970-x6x7x   \n..                        ...         ...     ...               ...   \n490  nammiyeong@yuhanhoesa.kr  1995-06-24    male  01x9-5x812-x4x7x   \n491                vju@yu.net  1991-03-17    male  01x9-0x435-x6x1x   \n496         junhyeog84@yu.net  1993-10-20    male  01x9-2x327-x4x1x   \n498   gimeunju@yuhanhoesa.net  1998-09-17    male  01x9-0x976-x7x7x   \n499           areumsim@ju.com  1990-08-14    male  01x9-5x263-x0x1x   \n\n    MobileCompany       OS  Class  \n6             SKT  Android      2  \n7             SKT  Android      3  \n8             SKT  Android      4  \n10            SKT  Android      2  \n12            SKT  Android      4  \n..            ...      ...    ...  \n490           SKT  Android      1  \n491           SKT  Android      3  \n496           SKT  Android      1  \n498           SKT  Android      3  \n499           SKT  Android      3  \n\n[157 rows x 11 columns]",
      "text/html": "<div>\n<style scoped>\n    .dataframe tbody tr th:only-of-type {\n        vertical-align: middle;\n    }\n\n    .dataframe tbody tr th {\n        vertical-align: top;\n    }\n\n    .dataframe thead th {\n        text-align: right;\n    }\n</style>\n<table border=\"1\" class=\"dataframe\">\n  <thead>\n    <tr style=\"text-align: right;\">\n      <th></th>\n      <th>Customer_Id</th>\n      <th>Name</th>\n      <th>Nickname</th>\n      <th>Password</th>\n      <th>Email</th>\n      <th>Birth</th>\n      <th>gender</th>\n      <th>C.P.</th>\n      <th>MobileCompany</th>\n      <th>OS</th>\n      <th>Class</th>\n    </tr>\n  </thead>\n  <tbody>\n    <tr>\n      <th>6</th>\n      <td>eaque461</td>\n      <td>김수빈</td>\n      <td>Amber_Pink</td>\n      <td>********</td>\n      <td>seojun95@hangimi.net</td>\n      <td>1999-07-15</td>\n      <td>male</td>\n      <td>01x9-5x180-x5x1x</td>\n      <td>SKT</td>\n      <td>Android</td>\n      <td>2</td>\n    </tr>\n    <tr>\n      <th>7</th>\n      <td>explicabo998</td>\n      <td>김옥자</td>\n      <td>Michael_SeaShell</td>\n      <td>********</td>\n      <td>ai@jusighoesa.com</td>\n      <td>2006-01-30</td>\n      <td>male</td>\n      <td>01x9-5x470-x7x5x</td>\n      <td>SKT</td>\n      <td>Android</td>\n      <td>3</td>\n    </tr>\n    <tr>\n      <th>8</th>\n      <td>eveniet134</td>\n      <td>김영순</td>\n      <td>Lisa_Red</td>\n      <td>********</td>\n      <td>ou@yu.kr</td>\n      <td>1984-12-14</td>\n      <td>male</td>\n      <td>01x9-7x512-x5x4x</td>\n      <td>SKT</td>\n      <td>Android</td>\n      <td>4</td>\n    </tr>\n    <tr>\n      <th>10</th>\n      <td>ea027</td>\n      <td>진미경</td>\n      <td>Amber_Maroon</td>\n      <td>********</td>\n      <td>minjae18@coeson.kr</td>\n      <td>1981-06-28</td>\n      <td>female</td>\n      <td>01x9-1x384-x1x5x</td>\n      <td>SKT</td>\n      <td>Android</td>\n      <td>2</td>\n    </tr>\n    <tr>\n      <th>12</th>\n      <td>facilis655</td>\n      <td>박도현</td>\n      <td>Melanie_Salmon</td>\n      <td>********</td>\n      <td>iseongmin@yu.org</td>\n      <td>1985-02-24</td>\n      <td>female</td>\n      <td>01x9-5x970-x6x7x</td>\n      <td>SKT</td>\n      <td>Android</td>\n      <td>4</td>\n    </tr>\n    <tr>\n      <th>...</th>\n      <td>...</td>\n      <td>...</td>\n      <td>...</td>\n      <td>...</td>\n      <td>...</td>\n      <td>...</td>\n      <td>...</td>\n      <td>...</td>\n      <td>...</td>\n      <td>...</td>\n      <td>...</td>\n    </tr>\n    <tr>\n      <th>490</th>\n      <td>adipisci111</td>\n      <td>허종수</td>\n      <td>Colleen_SaddleBrown</td>\n      <td>********</td>\n      <td>nammiyeong@yuhanhoesa.kr</td>\n      <td>1995-06-24</td>\n      <td>male</td>\n      <td>01x9-5x812-x4x7x</td>\n      <td>SKT</td>\n      <td>Android</td>\n      <td>1</td>\n    </tr>\n    <tr>\n      <th>491</th>\n      <td>deleniti768</td>\n      <td>최명자</td>\n      <td>William_SteelBlue</td>\n      <td>********</td>\n      <td>vju@yu.net</td>\n      <td>1991-03-17</td>\n      <td>male</td>\n      <td>01x9-0x435-x6x1x</td>\n      <td>SKT</td>\n      <td>Android</td>\n      <td>3</td>\n    </tr>\n    <tr>\n      <th>496</th>\n      <td>quibusdam437</td>\n      <td>김미정</td>\n      <td>John_MediumSpringGreen</td>\n      <td>********</td>\n      <td>junhyeog84@yu.net</td>\n      <td>1993-10-20</td>\n      <td>male</td>\n      <td>01x9-2x327-x4x1x</td>\n      <td>SKT</td>\n      <td>Android</td>\n      <td>1</td>\n    </tr>\n    <tr>\n      <th>498</th>\n      <td>recusandae058</td>\n      <td>허경자</td>\n      <td>Bethany_DarkSeaGreen</td>\n      <td>********</td>\n      <td>gimeunju@yuhanhoesa.net</td>\n      <td>1998-09-17</td>\n      <td>male</td>\n      <td>01x9-0x976-x7x7x</td>\n      <td>SKT</td>\n      <td>Android</td>\n      <td>3</td>\n    </tr>\n    <tr>\n      <th>499</th>\n      <td>nihil065</td>\n      <td>박준호</td>\n      <td>Stephen_DarkSlateBlue</td>\n      <td>********</td>\n      <td>areumsim@ju.com</td>\n      <td>1990-08-14</td>\n      <td>male</td>\n      <td>01x9-5x263-x0x1x</td>\n      <td>SKT</td>\n      <td>Android</td>\n      <td>3</td>\n    </tr>\n  </tbody>\n</table>\n<p>157 rows × 11 columns</p>\n</div>"
     },
     "execution_count": 11,
     "metadata": {},
     "output_type": "execute_result"
    }
   ],
   "source": [
    "customer_1[(customer_1['OS'] == \"Android\") & (customer_1['MobileCompany'] == 'SKT')]"
   ],
   "metadata": {
    "collapsed": false,
    "ExecuteTime": {
     "end_time": "2023-08-14T09:15:15.543661700Z",
     "start_time": "2023-08-14T09:15:15.511805400Z"
    }
   }
  },
  {
   "cell_type": "code",
   "execution_count": 12,
   "outputs": [
    {
     "data": {
      "text/plain": "Customer_Id             tenetur677\nName                           한명자\nNickname            Lisa_RosyBrown\nPassword                  ********\nEmail            bagseongmin@ju.kr\nBirth                   2001-10-30\ngender                        male\nC.P.              01x9-2x941-x9x9x\nMobileCompany                  SKT\nOS                             iOS\nClass                            4\nName: 11, dtype: object"
     },
     "execution_count": 12,
     "metadata": {},
     "output_type": "execute_result"
    }
   ],
   "source": [
    "customer_1.iloc[11]  # 인덱스 번호로 행 불러오기"
   ],
   "metadata": {
    "collapsed": false,
    "ExecuteTime": {
     "end_time": "2023-08-14T09:15:34.932384100Z",
     "start_time": "2023-08-14T09:15:34.932384100Z"
    }
   }
  },
  {
   "cell_type": "code",
   "execution_count": 14,
   "outputs": [
    {
     "data": {
      "text/plain": "Customer_Id        tenetur677\nName                      한명자\nNickname       Lisa_RosyBrown\nName: 11, dtype: object"
     },
     "execution_count": 14,
     "metadata": {},
     "output_type": "execute_result"
    }
   ],
   "source": [
    "customer_1.iloc[11, :3]  # 인덱스 슬라이싱 사용해서 칼럼도 자르기"
   ],
   "metadata": {
    "collapsed": false,
    "ExecuteTime": {
     "end_time": "2023-08-14T09:16:02.679936Z",
     "start_time": "2023-08-14T09:16:02.662039400Z"
    }
   }
  },
  {
   "cell_type": "code",
   "execution_count": 15,
   "outputs": [
    {
     "data": {
      "text/plain": "Customer_Id             tenetur677\nName                           한명자\nNickname            Lisa_RosyBrown\nPassword                  ********\nEmail            bagseongmin@ju.kr\nBirth                   2001-10-30\ngender                        male\nC.P.              01x9-2x941-x9x9x\nMobileCompany                  SKT\nOS                             iOS\nClass                            4\nName: 11, dtype: object"
     },
     "execution_count": 15,
     "metadata": {},
     "output_type": "execute_result"
    }
   ],
   "source": [
    "customer_1.loc[11]  # 인덱스명 이 11인 행 불러오기"
   ],
   "metadata": {
    "collapsed": false,
    "ExecuteTime": {
     "end_time": "2023-08-14T09:16:41.286207200Z",
     "start_time": "2023-08-14T09:16:41.281198200Z"
    }
   }
  },
  {
   "cell_type": "code",
   "execution_count": 16,
   "outputs": [
    {
     "data": {
      "text/plain": "Name                      한명자\nNickname       Lisa_RosyBrown\nEmail       bagseongmin@ju.kr\nName: 11, dtype: object"
     },
     "execution_count": 16,
     "metadata": {},
     "output_type": "execute_result"
    }
   ],
   "source": [
    "customer_1.loc[11, ['Name', 'Nickname', \"Email\"]]  # 인덱스명, 칼럼명으로 불러오기"
   ],
   "metadata": {
    "collapsed": false,
    "ExecuteTime": {
     "end_time": "2023-08-14T09:17:30.899866800Z",
     "start_time": "2023-08-14T09:17:30.884143200Z"
    }
   }
  },
  {
   "cell_type": "code",
   "execution_count": 17,
   "outputs": [
    {
     "data": {
      "text/plain": "0      120.782157\n1       58.429080\n2       84.675715\n3      141.285985\n4       97.730933\n          ...    \n495    153.094556\n496    115.682869\n497     90.517022\n498    142.116421\n499     79.242787\nLength: 500, dtype: float64"
     },
     "execution_count": 17,
     "metadata": {},
     "output_type": "execute_result"
    }
   ],
   "source": [
    "customer_2['HP'] + customer_2['MP']  # 열끼리 더하기"
   ],
   "metadata": {
    "collapsed": false,
    "ExecuteTime": {
     "end_time": "2023-08-14T09:18:06.308973200Z",
     "start_time": "2023-08-14T09:18:06.308973200Z"
    }
   }
  },
  {
   "cell_type": "code",
   "execution_count": 18,
   "outputs": [
    {
     "data": {
      "text/plain": "                   Nickname     Defense          HP        int         MP  \\\n0               Bryce_White   25.630568   30.047333  80.191590  90.734824   \n1      Zachary_LightSkyBlue   14.601957   24.901503  23.778162  33.527576   \n2             Brenda_Violet   37.768119   36.958759  50.672921  47.716956   \n3               Kyle_Orange   61.736459   59.692233  80.028095  81.593752   \n4       Kevin_DarkTurquoise   57.515975   50.800429  43.708943  46.930504   \n..                      ...         ...         ...        ...        ...   \n495         Jeffrey_DimGray  100.000000  100.000000  55.598552  53.094556   \n496  John_MediumSpringGreen   38.437986   50.819602  54.639640  64.863266   \n497        Donald_LawnGreen   47.392362   53.366615  47.435131  37.150407   \n498    Bethany_DarkSeaGreen   59.112459   69.812357  59.936633  72.304064   \n499   Stephen_DarkSlateBlue   47.564891   51.952629  34.681843  27.290158   \n\n           Avg  \n0    60.391079  \n1    29.214540  \n2    42.337857  \n3    70.642993  \n4    48.865466  \n..         ...  \n495  76.547278  \n496  57.841434  \n497  45.258511  \n498  71.058210  \n499  39.621393  \n\n[500 rows x 6 columns]",
      "text/html": "<div>\n<style scoped>\n    .dataframe tbody tr th:only-of-type {\n        vertical-align: middle;\n    }\n\n    .dataframe tbody tr th {\n        vertical-align: top;\n    }\n\n    .dataframe thead th {\n        text-align: right;\n    }\n</style>\n<table border=\"1\" class=\"dataframe\">\n  <thead>\n    <tr style=\"text-align: right;\">\n      <th></th>\n      <th>Nickname</th>\n      <th>Defense</th>\n      <th>HP</th>\n      <th>int</th>\n      <th>MP</th>\n      <th>Avg</th>\n    </tr>\n  </thead>\n  <tbody>\n    <tr>\n      <th>0</th>\n      <td>Bryce_White</td>\n      <td>25.630568</td>\n      <td>30.047333</td>\n      <td>80.191590</td>\n      <td>90.734824</td>\n      <td>60.391079</td>\n    </tr>\n    <tr>\n      <th>1</th>\n      <td>Zachary_LightSkyBlue</td>\n      <td>14.601957</td>\n      <td>24.901503</td>\n      <td>23.778162</td>\n      <td>33.527576</td>\n      <td>29.214540</td>\n    </tr>\n    <tr>\n      <th>2</th>\n      <td>Brenda_Violet</td>\n      <td>37.768119</td>\n      <td>36.958759</td>\n      <td>50.672921</td>\n      <td>47.716956</td>\n      <td>42.337857</td>\n    </tr>\n    <tr>\n      <th>3</th>\n      <td>Kyle_Orange</td>\n      <td>61.736459</td>\n      <td>59.692233</td>\n      <td>80.028095</td>\n      <td>81.593752</td>\n      <td>70.642993</td>\n    </tr>\n    <tr>\n      <th>4</th>\n      <td>Kevin_DarkTurquoise</td>\n      <td>57.515975</td>\n      <td>50.800429</td>\n      <td>43.708943</td>\n      <td>46.930504</td>\n      <td>48.865466</td>\n    </tr>\n    <tr>\n      <th>...</th>\n      <td>...</td>\n      <td>...</td>\n      <td>...</td>\n      <td>...</td>\n      <td>...</td>\n      <td>...</td>\n    </tr>\n    <tr>\n      <th>495</th>\n      <td>Jeffrey_DimGray</td>\n      <td>100.000000</td>\n      <td>100.000000</td>\n      <td>55.598552</td>\n      <td>53.094556</td>\n      <td>76.547278</td>\n    </tr>\n    <tr>\n      <th>496</th>\n      <td>John_MediumSpringGreen</td>\n      <td>38.437986</td>\n      <td>50.819602</td>\n      <td>54.639640</td>\n      <td>64.863266</td>\n      <td>57.841434</td>\n    </tr>\n    <tr>\n      <th>497</th>\n      <td>Donald_LawnGreen</td>\n      <td>47.392362</td>\n      <td>53.366615</td>\n      <td>47.435131</td>\n      <td>37.150407</td>\n      <td>45.258511</td>\n    </tr>\n    <tr>\n      <th>498</th>\n      <td>Bethany_DarkSeaGreen</td>\n      <td>59.112459</td>\n      <td>69.812357</td>\n      <td>59.936633</td>\n      <td>72.304064</td>\n      <td>71.058210</td>\n    </tr>\n    <tr>\n      <th>499</th>\n      <td>Stephen_DarkSlateBlue</td>\n      <td>47.564891</td>\n      <td>51.952629</td>\n      <td>34.681843</td>\n      <td>27.290158</td>\n      <td>39.621393</td>\n    </tr>\n  </tbody>\n</table>\n<p>500 rows × 6 columns</p>\n</div>"
     },
     "execution_count": 18,
     "metadata": {},
     "output_type": "execute_result"
    }
   ],
   "source": [
    "customer_2['Avg'] = (customer_2['HP'] + customer_2['MP']) / 2\n",
    "customer_2"
   ],
   "metadata": {
    "collapsed": false,
    "ExecuteTime": {
     "end_time": "2023-08-14T09:18:29.403671700Z",
     "start_time": "2023-08-14T09:18:29.382445400Z"
    }
   }
  },
  {
   "cell_type": "code",
   "execution_count": 19,
   "outputs": [
    {
     "data": {
      "text/plain": "      Customer_Id Name                Nickname  Password  \\\n0    doloribus740  류현숙             Bryce_White  ********   \n1     expedita131  오지현    Zachary_LightSkyBlue  ********   \n2    provident683  최민석           Brenda_Violet  ********   \n3        sequi591  김민수             Kyle_Orange  ********   \n4        totam890  최미경     Kevin_DarkTurquoise  ********   \n..            ...  ...                     ...       ...   \n495           NaN  NaN         Jeffrey_DimGray       NaN   \n496           NaN  NaN  John_MediumSpringGreen       NaN   \n497           NaN  NaN        Donald_LawnGreen       NaN   \n498           NaN  NaN    Bethany_DarkSeaGreen       NaN   \n499           NaN  NaN   Stephen_DarkSlateBlue       NaN   \n\n                         Email       Birth  gender              C.P.  \\\n0                xhwang@yu.com  1990-01-21  female  01x9-4x671-x0x6x   \n1    jeongung54@jusighoesa.com  1987-08-17  female  01x9-1x037-x6x5x   \n2         songyeweon@isoni.org  2004-10-29    male  01x9-5x526-x7x2x   \n3          anseonghyeon@ju.com  2000-10-17    male  01x9-1x567-x3x0x   \n4                 ggim@gimi.kr  1989-02-02  female  01x9-3x802-x3x0x   \n..                         ...         ...     ...               ...   \n495                        NaN         NaN     NaN               NaN   \n496                        NaN         NaN     NaN               NaN   \n497                        NaN         NaN     NaN               NaN   \n498                        NaN         NaN     NaN               NaN   \n499                        NaN         NaN     NaN               NaN   \n\n    MobileCompany       OS  Class     Defense          HP        int  \\\n0             LGU      iOS    3.0         NaN         NaN        NaN   \n1            MVNO      iOS    3.0         NaN         NaN        NaN   \n2              KT  Android    3.0         NaN         NaN        NaN   \n3             SKT      iOS    2.0         NaN         NaN        NaN   \n4             SKT      iOS    4.0         NaN         NaN        NaN   \n..            ...      ...    ...         ...         ...        ...   \n495           NaN      NaN    NaN  100.000000  100.000000  55.598552   \n496           NaN      NaN    NaN   38.437986   50.819602  54.639640   \n497           NaN      NaN    NaN   47.392362   53.366615  47.435131   \n498           NaN      NaN    NaN   59.112459   69.812357  59.936633   \n499           NaN      NaN    NaN   47.564891   51.952629  34.681843   \n\n            MP        Avg  \n0          NaN        NaN  \n1          NaN        NaN  \n2          NaN        NaN  \n3          NaN        NaN  \n4          NaN        NaN  \n..         ...        ...  \n495  53.094556  76.547278  \n496  64.863266  57.841434  \n497  37.150407  45.258511  \n498  72.304064  71.058210  \n499  27.290158  39.621393  \n\n[1000 rows x 16 columns]",
      "text/html": "<div>\n<style scoped>\n    .dataframe tbody tr th:only-of-type {\n        vertical-align: middle;\n    }\n\n    .dataframe tbody tr th {\n        vertical-align: top;\n    }\n\n    .dataframe thead th {\n        text-align: right;\n    }\n</style>\n<table border=\"1\" class=\"dataframe\">\n  <thead>\n    <tr style=\"text-align: right;\">\n      <th></th>\n      <th>Customer_Id</th>\n      <th>Name</th>\n      <th>Nickname</th>\n      <th>Password</th>\n      <th>Email</th>\n      <th>Birth</th>\n      <th>gender</th>\n      <th>C.P.</th>\n      <th>MobileCompany</th>\n      <th>OS</th>\n      <th>Class</th>\n      <th>Defense</th>\n      <th>HP</th>\n      <th>int</th>\n      <th>MP</th>\n      <th>Avg</th>\n    </tr>\n  </thead>\n  <tbody>\n    <tr>\n      <th>0</th>\n      <td>doloribus740</td>\n      <td>류현숙</td>\n      <td>Bryce_White</td>\n      <td>********</td>\n      <td>xhwang@yu.com</td>\n      <td>1990-01-21</td>\n      <td>female</td>\n      <td>01x9-4x671-x0x6x</td>\n      <td>LGU</td>\n      <td>iOS</td>\n      <td>3.0</td>\n      <td>NaN</td>\n      <td>NaN</td>\n      <td>NaN</td>\n      <td>NaN</td>\n      <td>NaN</td>\n    </tr>\n    <tr>\n      <th>1</th>\n      <td>expedita131</td>\n      <td>오지현</td>\n      <td>Zachary_LightSkyBlue</td>\n      <td>********</td>\n      <td>jeongung54@jusighoesa.com</td>\n      <td>1987-08-17</td>\n      <td>female</td>\n      <td>01x9-1x037-x6x5x</td>\n      <td>MVNO</td>\n      <td>iOS</td>\n      <td>3.0</td>\n      <td>NaN</td>\n      <td>NaN</td>\n      <td>NaN</td>\n      <td>NaN</td>\n      <td>NaN</td>\n    </tr>\n    <tr>\n      <th>2</th>\n      <td>provident683</td>\n      <td>최민석</td>\n      <td>Brenda_Violet</td>\n      <td>********</td>\n      <td>songyeweon@isoni.org</td>\n      <td>2004-10-29</td>\n      <td>male</td>\n      <td>01x9-5x526-x7x2x</td>\n      <td>KT</td>\n      <td>Android</td>\n      <td>3.0</td>\n      <td>NaN</td>\n      <td>NaN</td>\n      <td>NaN</td>\n      <td>NaN</td>\n      <td>NaN</td>\n    </tr>\n    <tr>\n      <th>3</th>\n      <td>sequi591</td>\n      <td>김민수</td>\n      <td>Kyle_Orange</td>\n      <td>********</td>\n      <td>anseonghyeon@ju.com</td>\n      <td>2000-10-17</td>\n      <td>male</td>\n      <td>01x9-1x567-x3x0x</td>\n      <td>SKT</td>\n      <td>iOS</td>\n      <td>2.0</td>\n      <td>NaN</td>\n      <td>NaN</td>\n      <td>NaN</td>\n      <td>NaN</td>\n      <td>NaN</td>\n    </tr>\n    <tr>\n      <th>4</th>\n      <td>totam890</td>\n      <td>최미경</td>\n      <td>Kevin_DarkTurquoise</td>\n      <td>********</td>\n      <td>ggim@gimi.kr</td>\n      <td>1989-02-02</td>\n      <td>female</td>\n      <td>01x9-3x802-x3x0x</td>\n      <td>SKT</td>\n      <td>iOS</td>\n      <td>4.0</td>\n      <td>NaN</td>\n      <td>NaN</td>\n      <td>NaN</td>\n      <td>NaN</td>\n      <td>NaN</td>\n    </tr>\n    <tr>\n      <th>...</th>\n      <td>...</td>\n      <td>...</td>\n      <td>...</td>\n      <td>...</td>\n      <td>...</td>\n      <td>...</td>\n      <td>...</td>\n      <td>...</td>\n      <td>...</td>\n      <td>...</td>\n      <td>...</td>\n      <td>...</td>\n      <td>...</td>\n      <td>...</td>\n      <td>...</td>\n      <td>...</td>\n    </tr>\n    <tr>\n      <th>495</th>\n      <td>NaN</td>\n      <td>NaN</td>\n      <td>Jeffrey_DimGray</td>\n      <td>NaN</td>\n      <td>NaN</td>\n      <td>NaN</td>\n      <td>NaN</td>\n      <td>NaN</td>\n      <td>NaN</td>\n      <td>NaN</td>\n      <td>NaN</td>\n      <td>100.000000</td>\n      <td>100.000000</td>\n      <td>55.598552</td>\n      <td>53.094556</td>\n      <td>76.547278</td>\n    </tr>\n    <tr>\n      <th>496</th>\n      <td>NaN</td>\n      <td>NaN</td>\n      <td>John_MediumSpringGreen</td>\n      <td>NaN</td>\n      <td>NaN</td>\n      <td>NaN</td>\n      <td>NaN</td>\n      <td>NaN</td>\n      <td>NaN</td>\n      <td>NaN</td>\n      <td>NaN</td>\n      <td>38.437986</td>\n      <td>50.819602</td>\n      <td>54.639640</td>\n      <td>64.863266</td>\n      <td>57.841434</td>\n    </tr>\n    <tr>\n      <th>497</th>\n      <td>NaN</td>\n      <td>NaN</td>\n      <td>Donald_LawnGreen</td>\n      <td>NaN</td>\n      <td>NaN</td>\n      <td>NaN</td>\n      <td>NaN</td>\n      <td>NaN</td>\n      <td>NaN</td>\n      <td>NaN</td>\n      <td>NaN</td>\n      <td>47.392362</td>\n      <td>53.366615</td>\n      <td>47.435131</td>\n      <td>37.150407</td>\n      <td>45.258511</td>\n    </tr>\n    <tr>\n      <th>498</th>\n      <td>NaN</td>\n      <td>NaN</td>\n      <td>Bethany_DarkSeaGreen</td>\n      <td>NaN</td>\n      <td>NaN</td>\n      <td>NaN</td>\n      <td>NaN</td>\n      <td>NaN</td>\n      <td>NaN</td>\n      <td>NaN</td>\n      <td>NaN</td>\n      <td>59.112459</td>\n      <td>69.812357</td>\n      <td>59.936633</td>\n      <td>72.304064</td>\n      <td>71.058210</td>\n    </tr>\n    <tr>\n      <th>499</th>\n      <td>NaN</td>\n      <td>NaN</td>\n      <td>Stephen_DarkSlateBlue</td>\n      <td>NaN</td>\n      <td>NaN</td>\n      <td>NaN</td>\n      <td>NaN</td>\n      <td>NaN</td>\n      <td>NaN</td>\n      <td>NaN</td>\n      <td>NaN</td>\n      <td>47.564891</td>\n      <td>51.952629</td>\n      <td>34.681843</td>\n      <td>27.290158</td>\n      <td>39.621393</td>\n    </tr>\n  </tbody>\n</table>\n<p>1000 rows × 16 columns</p>\n</div>"
     },
     "execution_count": 19,
     "metadata": {},
     "output_type": "execute_result"
    }
   ],
   "source": [
    "# concat은 말 그대로 이어붙이기 axis값0이면 행을 건드림\n",
    "pd.concat([customer_1, customer_2], axis=0)"
   ],
   "metadata": {
    "collapsed": false,
    "ExecuteTime": {
     "end_time": "2023-08-14T09:18:42.365562500Z",
     "start_time": "2023-08-14T09:18:42.334290200Z"
    }
   }
  },
  {
   "cell_type": "code",
   "execution_count": 20,
   "outputs": [
    {
     "data": {
      "text/plain": "       Customer_Id Name                Nickname  Password  \\\n0     doloribus740  류현숙             Bryce_White  ********   \n1      expedita131  오지현    Zachary_LightSkyBlue  ********   \n2     provident683  최민석           Brenda_Violet  ********   \n3         sequi591  김민수             Kyle_Orange  ********   \n4         totam890  최미경     Kevin_DarkTurquoise  ********   \n..             ...  ...                     ...       ...   \n495    expedita399  박영자         Jeffrey_DimGray  ********   \n496   quibusdam437  김미정  John_MediumSpringGreen  ********   \n497  reiciendis486  최성호        Donald_LawnGreen  ********   \n498  recusandae058  허경자    Bethany_DarkSeaGreen  ********   \n499       nihil065  박준호   Stephen_DarkSlateBlue  ********   \n\n                         Email       Birth  gender              C.P.  \\\n0                xhwang@yu.com  1990-01-21  female  01x9-4x671-x0x6x   \n1    jeongung54@jusighoesa.com  1987-08-17  female  01x9-1x037-x6x5x   \n2         songyeweon@isoni.org  2004-10-29    male  01x9-5x526-x7x2x   \n3          anseonghyeon@ju.com  2000-10-17    male  01x9-1x567-x3x0x   \n4                 ggim@gimi.kr  1989-02-02  female  01x9-3x802-x3x0x   \n..                         ...         ...     ...               ...   \n495  jeongsugseo@jusighoesa.kr  1997-10-16  female  01x9-8x765-x6x6x   \n496          junhyeog84@yu.net  1993-10-20    male  01x9-2x327-x4x1x   \n497     subinbag@yuhanhoesa.kr  2003-04-07    male  01x9-6x908-x0x9x   \n498    gimeunju@yuhanhoesa.net  1998-09-17    male  01x9-0x976-x7x7x   \n499            areumsim@ju.com  1990-08-14    male  01x9-5x263-x0x1x   \n\n    MobileCompany       OS  Class                Nickname     Defense  \\\n0             LGU      iOS      3             Bryce_White   25.630568   \n1            MVNO      iOS      3    Zachary_LightSkyBlue   14.601957   \n2              KT  Android      3           Brenda_Violet   37.768119   \n3             SKT      iOS      2             Kyle_Orange   61.736459   \n4             SKT      iOS      4     Kevin_DarkTurquoise   57.515975   \n..            ...      ...    ...                     ...         ...   \n495           SKT      iOS      1         Jeffrey_DimGray  100.000000   \n496           SKT  Android      1  John_MediumSpringGreen   38.437986   \n497           SKT      iOS      4        Donald_LawnGreen   47.392362   \n498           SKT  Android      3    Bethany_DarkSeaGreen   59.112459   \n499           SKT  Android      3   Stephen_DarkSlateBlue   47.564891   \n\n             HP        int         MP        Avg  \n0     30.047333  80.191590  90.734824  60.391079  \n1     24.901503  23.778162  33.527576  29.214540  \n2     36.958759  50.672921  47.716956  42.337857  \n3     59.692233  80.028095  81.593752  70.642993  \n4     50.800429  43.708943  46.930504  48.865466  \n..          ...        ...        ...        ...  \n495  100.000000  55.598552  53.094556  76.547278  \n496   50.819602  54.639640  64.863266  57.841434  \n497   53.366615  47.435131  37.150407  45.258511  \n498   69.812357  59.936633  72.304064  71.058210  \n499   51.952629  34.681843  27.290158  39.621393  \n\n[500 rows x 17 columns]",
      "text/html": "<div>\n<style scoped>\n    .dataframe tbody tr th:only-of-type {\n        vertical-align: middle;\n    }\n\n    .dataframe tbody tr th {\n        vertical-align: top;\n    }\n\n    .dataframe thead th {\n        text-align: right;\n    }\n</style>\n<table border=\"1\" class=\"dataframe\">\n  <thead>\n    <tr style=\"text-align: right;\">\n      <th></th>\n      <th>Customer_Id</th>\n      <th>Name</th>\n      <th>Nickname</th>\n      <th>Password</th>\n      <th>Email</th>\n      <th>Birth</th>\n      <th>gender</th>\n      <th>C.P.</th>\n      <th>MobileCompany</th>\n      <th>OS</th>\n      <th>Class</th>\n      <th>Nickname</th>\n      <th>Defense</th>\n      <th>HP</th>\n      <th>int</th>\n      <th>MP</th>\n      <th>Avg</th>\n    </tr>\n  </thead>\n  <tbody>\n    <tr>\n      <th>0</th>\n      <td>doloribus740</td>\n      <td>류현숙</td>\n      <td>Bryce_White</td>\n      <td>********</td>\n      <td>xhwang@yu.com</td>\n      <td>1990-01-21</td>\n      <td>female</td>\n      <td>01x9-4x671-x0x6x</td>\n      <td>LGU</td>\n      <td>iOS</td>\n      <td>3</td>\n      <td>Bryce_White</td>\n      <td>25.630568</td>\n      <td>30.047333</td>\n      <td>80.191590</td>\n      <td>90.734824</td>\n      <td>60.391079</td>\n    </tr>\n    <tr>\n      <th>1</th>\n      <td>expedita131</td>\n      <td>오지현</td>\n      <td>Zachary_LightSkyBlue</td>\n      <td>********</td>\n      <td>jeongung54@jusighoesa.com</td>\n      <td>1987-08-17</td>\n      <td>female</td>\n      <td>01x9-1x037-x6x5x</td>\n      <td>MVNO</td>\n      <td>iOS</td>\n      <td>3</td>\n      <td>Zachary_LightSkyBlue</td>\n      <td>14.601957</td>\n      <td>24.901503</td>\n      <td>23.778162</td>\n      <td>33.527576</td>\n      <td>29.214540</td>\n    </tr>\n    <tr>\n      <th>2</th>\n      <td>provident683</td>\n      <td>최민석</td>\n      <td>Brenda_Violet</td>\n      <td>********</td>\n      <td>songyeweon@isoni.org</td>\n      <td>2004-10-29</td>\n      <td>male</td>\n      <td>01x9-5x526-x7x2x</td>\n      <td>KT</td>\n      <td>Android</td>\n      <td>3</td>\n      <td>Brenda_Violet</td>\n      <td>37.768119</td>\n      <td>36.958759</td>\n      <td>50.672921</td>\n      <td>47.716956</td>\n      <td>42.337857</td>\n    </tr>\n    <tr>\n      <th>3</th>\n      <td>sequi591</td>\n      <td>김민수</td>\n      <td>Kyle_Orange</td>\n      <td>********</td>\n      <td>anseonghyeon@ju.com</td>\n      <td>2000-10-17</td>\n      <td>male</td>\n      <td>01x9-1x567-x3x0x</td>\n      <td>SKT</td>\n      <td>iOS</td>\n      <td>2</td>\n      <td>Kyle_Orange</td>\n      <td>61.736459</td>\n      <td>59.692233</td>\n      <td>80.028095</td>\n      <td>81.593752</td>\n      <td>70.642993</td>\n    </tr>\n    <tr>\n      <th>4</th>\n      <td>totam890</td>\n      <td>최미경</td>\n      <td>Kevin_DarkTurquoise</td>\n      <td>********</td>\n      <td>ggim@gimi.kr</td>\n      <td>1989-02-02</td>\n      <td>female</td>\n      <td>01x9-3x802-x3x0x</td>\n      <td>SKT</td>\n      <td>iOS</td>\n      <td>4</td>\n      <td>Kevin_DarkTurquoise</td>\n      <td>57.515975</td>\n      <td>50.800429</td>\n      <td>43.708943</td>\n      <td>46.930504</td>\n      <td>48.865466</td>\n    </tr>\n    <tr>\n      <th>...</th>\n      <td>...</td>\n      <td>...</td>\n      <td>...</td>\n      <td>...</td>\n      <td>...</td>\n      <td>...</td>\n      <td>...</td>\n      <td>...</td>\n      <td>...</td>\n      <td>...</td>\n      <td>...</td>\n      <td>...</td>\n      <td>...</td>\n      <td>...</td>\n      <td>...</td>\n      <td>...</td>\n      <td>...</td>\n    </tr>\n    <tr>\n      <th>495</th>\n      <td>expedita399</td>\n      <td>박영자</td>\n      <td>Jeffrey_DimGray</td>\n      <td>********</td>\n      <td>jeongsugseo@jusighoesa.kr</td>\n      <td>1997-10-16</td>\n      <td>female</td>\n      <td>01x9-8x765-x6x6x</td>\n      <td>SKT</td>\n      <td>iOS</td>\n      <td>1</td>\n      <td>Jeffrey_DimGray</td>\n      <td>100.000000</td>\n      <td>100.000000</td>\n      <td>55.598552</td>\n      <td>53.094556</td>\n      <td>76.547278</td>\n    </tr>\n    <tr>\n      <th>496</th>\n      <td>quibusdam437</td>\n      <td>김미정</td>\n      <td>John_MediumSpringGreen</td>\n      <td>********</td>\n      <td>junhyeog84@yu.net</td>\n      <td>1993-10-20</td>\n      <td>male</td>\n      <td>01x9-2x327-x4x1x</td>\n      <td>SKT</td>\n      <td>Android</td>\n      <td>1</td>\n      <td>John_MediumSpringGreen</td>\n      <td>38.437986</td>\n      <td>50.819602</td>\n      <td>54.639640</td>\n      <td>64.863266</td>\n      <td>57.841434</td>\n    </tr>\n    <tr>\n      <th>497</th>\n      <td>reiciendis486</td>\n      <td>최성호</td>\n      <td>Donald_LawnGreen</td>\n      <td>********</td>\n      <td>subinbag@yuhanhoesa.kr</td>\n      <td>2003-04-07</td>\n      <td>male</td>\n      <td>01x9-6x908-x0x9x</td>\n      <td>SKT</td>\n      <td>iOS</td>\n      <td>4</td>\n      <td>Donald_LawnGreen</td>\n      <td>47.392362</td>\n      <td>53.366615</td>\n      <td>47.435131</td>\n      <td>37.150407</td>\n      <td>45.258511</td>\n    </tr>\n    <tr>\n      <th>498</th>\n      <td>recusandae058</td>\n      <td>허경자</td>\n      <td>Bethany_DarkSeaGreen</td>\n      <td>********</td>\n      <td>gimeunju@yuhanhoesa.net</td>\n      <td>1998-09-17</td>\n      <td>male</td>\n      <td>01x9-0x976-x7x7x</td>\n      <td>SKT</td>\n      <td>Android</td>\n      <td>3</td>\n      <td>Bethany_DarkSeaGreen</td>\n      <td>59.112459</td>\n      <td>69.812357</td>\n      <td>59.936633</td>\n      <td>72.304064</td>\n      <td>71.058210</td>\n    </tr>\n    <tr>\n      <th>499</th>\n      <td>nihil065</td>\n      <td>박준호</td>\n      <td>Stephen_DarkSlateBlue</td>\n      <td>********</td>\n      <td>areumsim@ju.com</td>\n      <td>1990-08-14</td>\n      <td>male</td>\n      <td>01x9-5x263-x0x1x</td>\n      <td>SKT</td>\n      <td>Android</td>\n      <td>3</td>\n      <td>Stephen_DarkSlateBlue</td>\n      <td>47.564891</td>\n      <td>51.952629</td>\n      <td>34.681843</td>\n      <td>27.290158</td>\n      <td>39.621393</td>\n    </tr>\n  </tbody>\n</table>\n<p>500 rows × 17 columns</p>\n</div>"
     },
     "execution_count": 20,
     "metadata": {},
     "output_type": "execute_result"
    }
   ],
   "source": [
    "# axis 1 이면 열을 건드림\n",
    "pd.concat([customer_1, customer_2], axis=1)"
   ],
   "metadata": {
    "collapsed": false,
    "ExecuteTime": {
     "end_time": "2023-08-14T09:19:18.933825100Z",
     "start_time": "2023-08-14T09:19:18.886460900Z"
    }
   }
  },
  {
   "cell_type": "code",
   "execution_count": 21,
   "outputs": [
    {
     "data": {
      "text/plain": "       Customer_Id Name                Nickname  Password  \\\n0     doloribus740  류현숙             Bryce_White  ********   \n1      expedita131  오지현    Zachary_LightSkyBlue  ********   \n2     provident683  최민석           Brenda_Violet  ********   \n3         sequi591  김민수             Kyle_Orange  ********   \n4         totam890  최미경     Kevin_DarkTurquoise  ********   \n..             ...  ...                     ...       ...   \n495    expedita399  박영자         Jeffrey_DimGray  ********   \n496   quibusdam437  김미정  John_MediumSpringGreen  ********   \n497  reiciendis486  최성호        Donald_LawnGreen  ********   \n498  recusandae058  허경자    Bethany_DarkSeaGreen  ********   \n499       nihil065  박준호   Stephen_DarkSlateBlue  ********   \n\n                         Email       Birth  gender              C.P.  \\\n0                xhwang@yu.com  1990-01-21  female  01x9-4x671-x0x6x   \n1    jeongung54@jusighoesa.com  1987-08-17  female  01x9-1x037-x6x5x   \n2         songyeweon@isoni.org  2004-10-29    male  01x9-5x526-x7x2x   \n3          anseonghyeon@ju.com  2000-10-17    male  01x9-1x567-x3x0x   \n4                 ggim@gimi.kr  1989-02-02  female  01x9-3x802-x3x0x   \n..                         ...         ...     ...               ...   \n495  jeongsugseo@jusighoesa.kr  1997-10-16  female  01x9-8x765-x6x6x   \n496          junhyeog84@yu.net  1993-10-20    male  01x9-2x327-x4x1x   \n497     subinbag@yuhanhoesa.kr  2003-04-07    male  01x9-6x908-x0x9x   \n498    gimeunju@yuhanhoesa.net  1998-09-17    male  01x9-0x976-x7x7x   \n499            areumsim@ju.com  1990-08-14    male  01x9-5x263-x0x1x   \n\n    MobileCompany       OS  Class     Defense          HP        int  \\\n0             LGU      iOS      3   25.630568   30.047333  80.191590   \n1            MVNO      iOS      3   14.601957   24.901503  23.778162   \n2              KT  Android      3   37.768119   36.958759  50.672921   \n3             SKT      iOS      2   61.736459   59.692233  80.028095   \n4             SKT      iOS      4   57.515975   50.800429  43.708943   \n..            ...      ...    ...         ...         ...        ...   \n495           SKT      iOS      1  100.000000  100.000000  55.598552   \n496           SKT  Android      1   38.437986   50.819602  54.639640   \n497           SKT      iOS      4   47.392362   53.366615  47.435131   \n498           SKT  Android      3   59.112459   69.812357  59.936633   \n499           SKT  Android      3   47.564891   51.952629  34.681843   \n\n            MP        Avg  \n0    90.734824  60.391079  \n1    33.527576  29.214540  \n2    47.716956  42.337857  \n3    81.593752  70.642993  \n4    46.930504  48.865466  \n..         ...        ...  \n495  53.094556  76.547278  \n496  64.863266  57.841434  \n497  37.150407  45.258511  \n498  72.304064  71.058210  \n499  27.290158  39.621393  \n\n[500 rows x 16 columns]",
      "text/html": "<div>\n<style scoped>\n    .dataframe tbody tr th:only-of-type {\n        vertical-align: middle;\n    }\n\n    .dataframe tbody tr th {\n        vertical-align: top;\n    }\n\n    .dataframe thead th {\n        text-align: right;\n    }\n</style>\n<table border=\"1\" class=\"dataframe\">\n  <thead>\n    <tr style=\"text-align: right;\">\n      <th></th>\n      <th>Customer_Id</th>\n      <th>Name</th>\n      <th>Nickname</th>\n      <th>Password</th>\n      <th>Email</th>\n      <th>Birth</th>\n      <th>gender</th>\n      <th>C.P.</th>\n      <th>MobileCompany</th>\n      <th>OS</th>\n      <th>Class</th>\n      <th>Defense</th>\n      <th>HP</th>\n      <th>int</th>\n      <th>MP</th>\n      <th>Avg</th>\n    </tr>\n  </thead>\n  <tbody>\n    <tr>\n      <th>0</th>\n      <td>doloribus740</td>\n      <td>류현숙</td>\n      <td>Bryce_White</td>\n      <td>********</td>\n      <td>xhwang@yu.com</td>\n      <td>1990-01-21</td>\n      <td>female</td>\n      <td>01x9-4x671-x0x6x</td>\n      <td>LGU</td>\n      <td>iOS</td>\n      <td>3</td>\n      <td>25.630568</td>\n      <td>30.047333</td>\n      <td>80.191590</td>\n      <td>90.734824</td>\n      <td>60.391079</td>\n    </tr>\n    <tr>\n      <th>1</th>\n      <td>expedita131</td>\n      <td>오지현</td>\n      <td>Zachary_LightSkyBlue</td>\n      <td>********</td>\n      <td>jeongung54@jusighoesa.com</td>\n      <td>1987-08-17</td>\n      <td>female</td>\n      <td>01x9-1x037-x6x5x</td>\n      <td>MVNO</td>\n      <td>iOS</td>\n      <td>3</td>\n      <td>14.601957</td>\n      <td>24.901503</td>\n      <td>23.778162</td>\n      <td>33.527576</td>\n      <td>29.214540</td>\n    </tr>\n    <tr>\n      <th>2</th>\n      <td>provident683</td>\n      <td>최민석</td>\n      <td>Brenda_Violet</td>\n      <td>********</td>\n      <td>songyeweon@isoni.org</td>\n      <td>2004-10-29</td>\n      <td>male</td>\n      <td>01x9-5x526-x7x2x</td>\n      <td>KT</td>\n      <td>Android</td>\n      <td>3</td>\n      <td>37.768119</td>\n      <td>36.958759</td>\n      <td>50.672921</td>\n      <td>47.716956</td>\n      <td>42.337857</td>\n    </tr>\n    <tr>\n      <th>3</th>\n      <td>sequi591</td>\n      <td>김민수</td>\n      <td>Kyle_Orange</td>\n      <td>********</td>\n      <td>anseonghyeon@ju.com</td>\n      <td>2000-10-17</td>\n      <td>male</td>\n      <td>01x9-1x567-x3x0x</td>\n      <td>SKT</td>\n      <td>iOS</td>\n      <td>2</td>\n      <td>61.736459</td>\n      <td>59.692233</td>\n      <td>80.028095</td>\n      <td>81.593752</td>\n      <td>70.642993</td>\n    </tr>\n    <tr>\n      <th>4</th>\n      <td>totam890</td>\n      <td>최미경</td>\n      <td>Kevin_DarkTurquoise</td>\n      <td>********</td>\n      <td>ggim@gimi.kr</td>\n      <td>1989-02-02</td>\n      <td>female</td>\n      <td>01x9-3x802-x3x0x</td>\n      <td>SKT</td>\n      <td>iOS</td>\n      <td>4</td>\n      <td>57.515975</td>\n      <td>50.800429</td>\n      <td>43.708943</td>\n      <td>46.930504</td>\n      <td>48.865466</td>\n    </tr>\n    <tr>\n      <th>...</th>\n      <td>...</td>\n      <td>...</td>\n      <td>...</td>\n      <td>...</td>\n      <td>...</td>\n      <td>...</td>\n      <td>...</td>\n      <td>...</td>\n      <td>...</td>\n      <td>...</td>\n      <td>...</td>\n      <td>...</td>\n      <td>...</td>\n      <td>...</td>\n      <td>...</td>\n      <td>...</td>\n    </tr>\n    <tr>\n      <th>495</th>\n      <td>expedita399</td>\n      <td>박영자</td>\n      <td>Jeffrey_DimGray</td>\n      <td>********</td>\n      <td>jeongsugseo@jusighoesa.kr</td>\n      <td>1997-10-16</td>\n      <td>female</td>\n      <td>01x9-8x765-x6x6x</td>\n      <td>SKT</td>\n      <td>iOS</td>\n      <td>1</td>\n      <td>100.000000</td>\n      <td>100.000000</td>\n      <td>55.598552</td>\n      <td>53.094556</td>\n      <td>76.547278</td>\n    </tr>\n    <tr>\n      <th>496</th>\n      <td>quibusdam437</td>\n      <td>김미정</td>\n      <td>John_MediumSpringGreen</td>\n      <td>********</td>\n      <td>junhyeog84@yu.net</td>\n      <td>1993-10-20</td>\n      <td>male</td>\n      <td>01x9-2x327-x4x1x</td>\n      <td>SKT</td>\n      <td>Android</td>\n      <td>1</td>\n      <td>38.437986</td>\n      <td>50.819602</td>\n      <td>54.639640</td>\n      <td>64.863266</td>\n      <td>57.841434</td>\n    </tr>\n    <tr>\n      <th>497</th>\n      <td>reiciendis486</td>\n      <td>최성호</td>\n      <td>Donald_LawnGreen</td>\n      <td>********</td>\n      <td>subinbag@yuhanhoesa.kr</td>\n      <td>2003-04-07</td>\n      <td>male</td>\n      <td>01x9-6x908-x0x9x</td>\n      <td>SKT</td>\n      <td>iOS</td>\n      <td>4</td>\n      <td>47.392362</td>\n      <td>53.366615</td>\n      <td>47.435131</td>\n      <td>37.150407</td>\n      <td>45.258511</td>\n    </tr>\n    <tr>\n      <th>498</th>\n      <td>recusandae058</td>\n      <td>허경자</td>\n      <td>Bethany_DarkSeaGreen</td>\n      <td>********</td>\n      <td>gimeunju@yuhanhoesa.net</td>\n      <td>1998-09-17</td>\n      <td>male</td>\n      <td>01x9-0x976-x7x7x</td>\n      <td>SKT</td>\n      <td>Android</td>\n      <td>3</td>\n      <td>59.112459</td>\n      <td>69.812357</td>\n      <td>59.936633</td>\n      <td>72.304064</td>\n      <td>71.058210</td>\n    </tr>\n    <tr>\n      <th>499</th>\n      <td>nihil065</td>\n      <td>박준호</td>\n      <td>Stephen_DarkSlateBlue</td>\n      <td>********</td>\n      <td>areumsim@ju.com</td>\n      <td>1990-08-14</td>\n      <td>male</td>\n      <td>01x9-5x263-x0x1x</td>\n      <td>SKT</td>\n      <td>Android</td>\n      <td>3</td>\n      <td>47.564891</td>\n      <td>51.952629</td>\n      <td>34.681843</td>\n      <td>27.290158</td>\n      <td>39.621393</td>\n    </tr>\n  </tbody>\n</table>\n<p>500 rows × 16 columns</p>\n</div>"
     },
     "execution_count": 21,
     "metadata": {},
     "output_type": "execute_result"
    }
   ],
   "source": [
    "# 공통된 부분으로 두개의 데이터 결합하기\n",
    "customer = pd.merge(customer_1, customer_2)\n",
    "customer"
   ],
   "metadata": {
    "collapsed": false,
    "ExecuteTime": {
     "end_time": "2023-08-14T09:19:48.828886600Z",
     "start_time": "2023-08-14T09:19:48.781381800Z"
    }
   }
  },
  {
   "cell_type": "code",
   "execution_count": 22,
   "outputs": [
    {
     "name": "stdout",
     "output_type": "stream",
     "text": [
      "<class 'pandas.core.frame.DataFrame'>\n",
      "RangeIndex: 500 entries, 0 to 499\n",
      "Data columns (total 16 columns):\n",
      " #   Column         Non-Null Count  Dtype  \n",
      "---  ------         --------------  -----  \n",
      " 0   Customer_Id    500 non-null    object \n",
      " 1   Name           500 non-null    object \n",
      " 2   Nickname       500 non-null    object \n",
      " 3   Password       500 non-null    object \n",
      " 4   Email          500 non-null    object \n",
      " 5   Birth          500 non-null    object \n",
      " 6   gender         500 non-null    object \n",
      " 7   C.P.           500 non-null    object \n",
      " 8   MobileCompany  500 non-null    object \n",
      " 9   OS             500 non-null    object \n",
      " 10  Class          500 non-null    int64  \n",
      " 11  Defense        500 non-null    float64\n",
      " 12  HP             500 non-null    float64\n",
      " 13  int            500 non-null    float64\n",
      " 14  MP             500 non-null    float64\n",
      " 15  Avg            500 non-null    float64\n",
      "dtypes: float64(5), int64(1), object(10)\n",
      "memory usage: 62.6+ KB\n"
     ]
    }
   ],
   "source": [
    "customer.info()"
   ],
   "metadata": {
    "collapsed": false,
    "ExecuteTime": {
     "end_time": "2023-08-14T09:19:53.665345400Z",
     "start_time": "2023-08-14T09:19:53.635707500Z"
    }
   }
  },
  {
   "cell_type": "code",
   "execution_count": 23,
   "outputs": [],
   "source": [
    "customer.drop(['Password', 'C.P.'], axis=1, inplace=True)  # Password C.P. 열을 지우기"
   ],
   "metadata": {
    "collapsed": false,
    "ExecuteTime": {
     "end_time": "2023-08-14T09:20:56.452560600Z",
     "start_time": "2023-08-14T09:20:56.441466800Z"
    }
   }
  },
  {
   "cell_type": "code",
   "execution_count": 24,
   "outputs": [
    {
     "data": {
      "text/plain": "       Customer_Id Name                Nickname                      Email  \\\n0     doloribus740  류현숙             Bryce_White              xhwang@yu.com   \n1      expedita131  오지현    Zachary_LightSkyBlue  jeongung54@jusighoesa.com   \n2     provident683  최민석           Brenda_Violet       songyeweon@isoni.org   \n3         sequi591  김민수             Kyle_Orange        anseonghyeon@ju.com   \n4         totam890  최미경     Kevin_DarkTurquoise               ggim@gimi.kr   \n..             ...  ...                     ...                        ...   \n495    expedita399  박영자         Jeffrey_DimGray  jeongsugseo@jusighoesa.kr   \n496   quibusdam437  김미정  John_MediumSpringGreen          junhyeog84@yu.net   \n497  reiciendis486  최성호        Donald_LawnGreen     subinbag@yuhanhoesa.kr   \n498  recusandae058  허경자    Bethany_DarkSeaGreen    gimeunju@yuhanhoesa.net   \n499       nihil065  박준호   Stephen_DarkSlateBlue            areumsim@ju.com   \n\n          Birth  gender MobileCompany       OS  Class     Defense          HP  \\\n0    1990-01-21  female           LGU      iOS      3   25.630568   30.047333   \n1    1987-08-17  female          MVNO      iOS      3   14.601957   24.901503   \n2    2004-10-29    male            KT  Android      3   37.768119   36.958759   \n3    2000-10-17    male           SKT      iOS      2   61.736459   59.692233   \n4    1989-02-02  female           SKT      iOS      4   57.515975   50.800429   \n..          ...     ...           ...      ...    ...         ...         ...   \n495  1997-10-16  female           SKT      iOS      1  100.000000  100.000000   \n496  1993-10-20    male           SKT  Android      1   38.437986   50.819602   \n497  2003-04-07    male           SKT      iOS      4   47.392362   53.366615   \n498  1998-09-17    male           SKT  Android      3   59.112459   69.812357   \n499  1990-08-14    male           SKT  Android      3   47.564891   51.952629   \n\n           int         MP        Avg  \n0    80.191590  90.734824  60.391079  \n1    23.778162  33.527576  29.214540  \n2    50.672921  47.716956  42.337857  \n3    80.028095  81.593752  70.642993  \n4    43.708943  46.930504  48.865466  \n..         ...        ...        ...  \n495  55.598552  53.094556  76.547278  \n496  54.639640  64.863266  57.841434  \n497  47.435131  37.150407  45.258511  \n498  59.936633  72.304064  71.058210  \n499  34.681843  27.290158  39.621393  \n\n[500 rows x 14 columns]",
      "text/html": "<div>\n<style scoped>\n    .dataframe tbody tr th:only-of-type {\n        vertical-align: middle;\n    }\n\n    .dataframe tbody tr th {\n        vertical-align: top;\n    }\n\n    .dataframe thead th {\n        text-align: right;\n    }\n</style>\n<table border=\"1\" class=\"dataframe\">\n  <thead>\n    <tr style=\"text-align: right;\">\n      <th></th>\n      <th>Customer_Id</th>\n      <th>Name</th>\n      <th>Nickname</th>\n      <th>Email</th>\n      <th>Birth</th>\n      <th>gender</th>\n      <th>MobileCompany</th>\n      <th>OS</th>\n      <th>Class</th>\n      <th>Defense</th>\n      <th>HP</th>\n      <th>int</th>\n      <th>MP</th>\n      <th>Avg</th>\n    </tr>\n  </thead>\n  <tbody>\n    <tr>\n      <th>0</th>\n      <td>doloribus740</td>\n      <td>류현숙</td>\n      <td>Bryce_White</td>\n      <td>xhwang@yu.com</td>\n      <td>1990-01-21</td>\n      <td>female</td>\n      <td>LGU</td>\n      <td>iOS</td>\n      <td>3</td>\n      <td>25.630568</td>\n      <td>30.047333</td>\n      <td>80.191590</td>\n      <td>90.734824</td>\n      <td>60.391079</td>\n    </tr>\n    <tr>\n      <th>1</th>\n      <td>expedita131</td>\n      <td>오지현</td>\n      <td>Zachary_LightSkyBlue</td>\n      <td>jeongung54@jusighoesa.com</td>\n      <td>1987-08-17</td>\n      <td>female</td>\n      <td>MVNO</td>\n      <td>iOS</td>\n      <td>3</td>\n      <td>14.601957</td>\n      <td>24.901503</td>\n      <td>23.778162</td>\n      <td>33.527576</td>\n      <td>29.214540</td>\n    </tr>\n    <tr>\n      <th>2</th>\n      <td>provident683</td>\n      <td>최민석</td>\n      <td>Brenda_Violet</td>\n      <td>songyeweon@isoni.org</td>\n      <td>2004-10-29</td>\n      <td>male</td>\n      <td>KT</td>\n      <td>Android</td>\n      <td>3</td>\n      <td>37.768119</td>\n      <td>36.958759</td>\n      <td>50.672921</td>\n      <td>47.716956</td>\n      <td>42.337857</td>\n    </tr>\n    <tr>\n      <th>3</th>\n      <td>sequi591</td>\n      <td>김민수</td>\n      <td>Kyle_Orange</td>\n      <td>anseonghyeon@ju.com</td>\n      <td>2000-10-17</td>\n      <td>male</td>\n      <td>SKT</td>\n      <td>iOS</td>\n      <td>2</td>\n      <td>61.736459</td>\n      <td>59.692233</td>\n      <td>80.028095</td>\n      <td>81.593752</td>\n      <td>70.642993</td>\n    </tr>\n    <tr>\n      <th>4</th>\n      <td>totam890</td>\n      <td>최미경</td>\n      <td>Kevin_DarkTurquoise</td>\n      <td>ggim@gimi.kr</td>\n      <td>1989-02-02</td>\n      <td>female</td>\n      <td>SKT</td>\n      <td>iOS</td>\n      <td>4</td>\n      <td>57.515975</td>\n      <td>50.800429</td>\n      <td>43.708943</td>\n      <td>46.930504</td>\n      <td>48.865466</td>\n    </tr>\n    <tr>\n      <th>...</th>\n      <td>...</td>\n      <td>...</td>\n      <td>...</td>\n      <td>...</td>\n      <td>...</td>\n      <td>...</td>\n      <td>...</td>\n      <td>...</td>\n      <td>...</td>\n      <td>...</td>\n      <td>...</td>\n      <td>...</td>\n      <td>...</td>\n      <td>...</td>\n    </tr>\n    <tr>\n      <th>495</th>\n      <td>expedita399</td>\n      <td>박영자</td>\n      <td>Jeffrey_DimGray</td>\n      <td>jeongsugseo@jusighoesa.kr</td>\n      <td>1997-10-16</td>\n      <td>female</td>\n      <td>SKT</td>\n      <td>iOS</td>\n      <td>1</td>\n      <td>100.000000</td>\n      <td>100.000000</td>\n      <td>55.598552</td>\n      <td>53.094556</td>\n      <td>76.547278</td>\n    </tr>\n    <tr>\n      <th>496</th>\n      <td>quibusdam437</td>\n      <td>김미정</td>\n      <td>John_MediumSpringGreen</td>\n      <td>junhyeog84@yu.net</td>\n      <td>1993-10-20</td>\n      <td>male</td>\n      <td>SKT</td>\n      <td>Android</td>\n      <td>1</td>\n      <td>38.437986</td>\n      <td>50.819602</td>\n      <td>54.639640</td>\n      <td>64.863266</td>\n      <td>57.841434</td>\n    </tr>\n    <tr>\n      <th>497</th>\n      <td>reiciendis486</td>\n      <td>최성호</td>\n      <td>Donald_LawnGreen</td>\n      <td>subinbag@yuhanhoesa.kr</td>\n      <td>2003-04-07</td>\n      <td>male</td>\n      <td>SKT</td>\n      <td>iOS</td>\n      <td>4</td>\n      <td>47.392362</td>\n      <td>53.366615</td>\n      <td>47.435131</td>\n      <td>37.150407</td>\n      <td>45.258511</td>\n    </tr>\n    <tr>\n      <th>498</th>\n      <td>recusandae058</td>\n      <td>허경자</td>\n      <td>Bethany_DarkSeaGreen</td>\n      <td>gimeunju@yuhanhoesa.net</td>\n      <td>1998-09-17</td>\n      <td>male</td>\n      <td>SKT</td>\n      <td>Android</td>\n      <td>3</td>\n      <td>59.112459</td>\n      <td>69.812357</td>\n      <td>59.936633</td>\n      <td>72.304064</td>\n      <td>71.058210</td>\n    </tr>\n    <tr>\n      <th>499</th>\n      <td>nihil065</td>\n      <td>박준호</td>\n      <td>Stephen_DarkSlateBlue</td>\n      <td>areumsim@ju.com</td>\n      <td>1990-08-14</td>\n      <td>male</td>\n      <td>SKT</td>\n      <td>Android</td>\n      <td>3</td>\n      <td>47.564891</td>\n      <td>51.952629</td>\n      <td>34.681843</td>\n      <td>27.290158</td>\n      <td>39.621393</td>\n    </tr>\n  </tbody>\n</table>\n<p>500 rows × 14 columns</p>\n</div>"
     },
     "execution_count": 24,
     "metadata": {},
     "output_type": "execute_result"
    }
   ],
   "source": [
    "customer"
   ],
   "metadata": {
    "collapsed": false,
    "ExecuteTime": {
     "end_time": "2023-08-14T09:20:58.521422600Z",
     "start_time": "2023-08-14T09:20:58.505439200Z"
    }
   }
  },
  {
   "cell_type": "code",
   "execution_count": 28,
   "outputs": [
    {
     "ename": "ValueError",
     "evalue": "`axis` must be fewer than the number of dimensions (1)",
     "output_type": "error",
     "traceback": [
      "\u001B[1;31m---------------------------------------------------------------------------\u001B[0m",
      "\u001B[1;31mValueError\u001B[0m                                Traceback (most recent call last)",
      "Cell \u001B[1;32mIn[28], line 1\u001B[0m\n\u001B[1;32m----> 1\u001B[0m \u001B[43mcustomer\u001B[49m\u001B[43m[\u001B[49m\u001B[38;5;124;43m\"\u001B[39;49m\u001B[38;5;124;43mAvg\u001B[39;49m\u001B[38;5;124;43m\"\u001B[39;49m\u001B[43m]\u001B[49m\u001B[38;5;241;43m.\u001B[39;49m\u001B[43midxmax\u001B[49m\u001B[43m(\u001B[49m\u001B[43maxis\u001B[49m\u001B[38;5;241;43m=\u001B[39;49m\u001B[38;5;241;43m1\u001B[39;49m\u001B[43m)\u001B[49m\n",
      "File \u001B[1;32m~\\PycharmProjects\\aiffel_study\\venv\\Lib\\site-packages\\pandas\\core\\series.py:2531\u001B[0m, in \u001B[0;36mSeries.idxmax\u001B[1;34m(self, axis, skipna, *args, **kwargs)\u001B[0m\n\u001B[0;32m   2466\u001B[0m \u001B[38;5;250m\u001B[39m\u001B[38;5;124;03m\"\"\"\u001B[39;00m\n\u001B[0;32m   2467\u001B[0m \u001B[38;5;124;03mReturn the row label of the maximum value.\u001B[39;00m\n\u001B[0;32m   2468\u001B[0m \n\u001B[1;32m   (...)\u001B[0m\n\u001B[0;32m   2527\u001B[0m \u001B[38;5;124;03mnan\u001B[39;00m\n\u001B[0;32m   2528\u001B[0m \u001B[38;5;124;03m\"\"\"\u001B[39;00m\n\u001B[0;32m   2529\u001B[0m \u001B[38;5;66;03m# error: Argument 1 to \"argmax\" of \"IndexOpsMixin\" has incompatible type\u001B[39;00m\n\u001B[0;32m   2530\u001B[0m \u001B[38;5;66;03m# \"Union[int, Literal['index', 'columns']]\"; expected \"Optional[int]\"\u001B[39;00m\n\u001B[1;32m-> 2531\u001B[0m i \u001B[38;5;241m=\u001B[39m \u001B[38;5;28;43mself\u001B[39;49m\u001B[38;5;241;43m.\u001B[39;49m\u001B[43margmax\u001B[49m\u001B[43m(\u001B[49m\u001B[43maxis\u001B[49m\u001B[43m,\u001B[49m\u001B[43m \u001B[49m\u001B[43mskipna\u001B[49m\u001B[43m,\u001B[49m\u001B[43m \u001B[49m\u001B[38;5;241;43m*\u001B[39;49m\u001B[43margs\u001B[49m\u001B[43m,\u001B[49m\u001B[43m \u001B[49m\u001B[38;5;241;43m*\u001B[39;49m\u001B[38;5;241;43m*\u001B[39;49m\u001B[43mkwargs\u001B[49m\u001B[43m)\u001B[49m  \u001B[38;5;66;03m# type: ignore[arg-type]\u001B[39;00m\n\u001B[0;32m   2532\u001B[0m \u001B[38;5;28;01mif\u001B[39;00m i \u001B[38;5;241m==\u001B[39m \u001B[38;5;241m-\u001B[39m\u001B[38;5;241m1\u001B[39m:\n\u001B[0;32m   2533\u001B[0m     \u001B[38;5;28;01mreturn\u001B[39;00m np\u001B[38;5;241m.\u001B[39mnan\n",
      "File \u001B[1;32m~\\PycharmProjects\\aiffel_study\\venv\\Lib\\site-packages\\pandas\\core\\base.py:667\u001B[0m, in \u001B[0;36mIndexOpsMixin.argmax\u001B[1;34m(self, axis, skipna, *args, **kwargs)\u001B[0m\n\u001B[0;32m    616\u001B[0m \u001B[38;5;250m\u001B[39m\u001B[38;5;124;03m\"\"\"\u001B[39;00m\n\u001B[0;32m    617\u001B[0m \u001B[38;5;124;03mReturn int position of the {value} value in the Series.\u001B[39;00m\n\u001B[0;32m    618\u001B[0m \n\u001B[1;32m   (...)\u001B[0m\n\u001B[0;32m    664\u001B[0m \u001B[38;5;124;03msince series is zero-indexed.\u001B[39;00m\n\u001B[0;32m    665\u001B[0m \u001B[38;5;124;03m\"\"\"\u001B[39;00m\n\u001B[0;32m    666\u001B[0m delegate \u001B[38;5;241m=\u001B[39m \u001B[38;5;28mself\u001B[39m\u001B[38;5;241m.\u001B[39m_values\n\u001B[1;32m--> 667\u001B[0m \u001B[43mnv\u001B[49m\u001B[38;5;241;43m.\u001B[39;49m\u001B[43mvalidate_minmax_axis\u001B[49m\u001B[43m(\u001B[49m\u001B[43maxis\u001B[49m\u001B[43m)\u001B[49m\n\u001B[0;32m    668\u001B[0m skipna \u001B[38;5;241m=\u001B[39m nv\u001B[38;5;241m.\u001B[39mvalidate_argmax_with_skipna(skipna, args, kwargs)\n\u001B[0;32m    670\u001B[0m \u001B[38;5;28;01mif\u001B[39;00m \u001B[38;5;28misinstance\u001B[39m(delegate, ExtensionArray):\n",
      "File \u001B[1;32m~\\PycharmProjects\\aiffel_study\\venv\\Lib\\site-packages\\pandas\\compat\\numpy\\function.py:391\u001B[0m, in \u001B[0;36mvalidate_minmax_axis\u001B[1;34m(axis, ndim)\u001B[0m\n\u001B[0;32m    389\u001B[0m     \u001B[38;5;28;01mreturn\u001B[39;00m\n\u001B[0;32m    390\u001B[0m \u001B[38;5;28;01mif\u001B[39;00m axis \u001B[38;5;241m>\u001B[39m\u001B[38;5;241m=\u001B[39m ndim \u001B[38;5;129;01mor\u001B[39;00m (axis \u001B[38;5;241m<\u001B[39m \u001B[38;5;241m0\u001B[39m \u001B[38;5;129;01mand\u001B[39;00m ndim \u001B[38;5;241m+\u001B[39m axis \u001B[38;5;241m<\u001B[39m \u001B[38;5;241m0\u001B[39m):\n\u001B[1;32m--> 391\u001B[0m     \u001B[38;5;28;01mraise\u001B[39;00m \u001B[38;5;167;01mValueError\u001B[39;00m(\u001B[38;5;124mf\u001B[39m\u001B[38;5;124m\"\u001B[39m\u001B[38;5;124m`axis` must be fewer than the number of dimensions (\u001B[39m\u001B[38;5;132;01m{\u001B[39;00mndim\u001B[38;5;132;01m}\u001B[39;00m\u001B[38;5;124m)\u001B[39m\u001B[38;5;124m\"\u001B[39m)\n",
      "\u001B[1;31mValueError\u001B[0m: `axis` must be fewer than the number of dimensions (1)"
     ]
    }
   ],
   "source": [
    "customer[\"Avg\"].idxmax(axis=1)"
   ],
   "metadata": {
    "collapsed": false,
    "ExecuteTime": {
     "end_time": "2023-08-14T09:22:08.328488900Z",
     "start_time": "2023-08-14T09:22:08.281271100Z"
    }
   }
  },
  {
   "cell_type": "code",
   "execution_count": 27,
   "outputs": [
    {
     "data": {
      "text/plain": "Customer_Id                     modi899\nName                                장상훈\nNickname                   Adam_DimGray\nEmail            yeongsug49@yanggim.com\nBirth                        1994-12-14\ngender                             male\nMobileCompany                        KT\nOS                                  iOS\nClass                                 2\nDefense                       96.462225\nHP                            99.276001\nint                           89.557178\nMP                            87.693416\nAvg                           93.484709\nName: 306, dtype: object"
     },
     "execution_count": 27,
     "metadata": {},
     "output_type": "execute_result"
    }
   ],
   "source": [
    "customer.loc[306]"
   ],
   "metadata": {
    "collapsed": false,
    "ExecuteTime": {
     "end_time": "2023-08-14T09:21:58.900167800Z",
     "start_time": "2023-08-14T09:21:58.891571700Z"
    }
   }
  },
  {
   "cell_type": "code",
   "execution_count": 29,
   "outputs": [],
   "source": [
    "import numpy as np"
   ],
   "metadata": {
    "collapsed": false,
    "ExecuteTime": {
     "end_time": "2023-08-14T09:27:15.792984300Z",
     "start_time": "2023-08-14T09:27:15.782004800Z"
    }
   }
  },
  {
   "cell_type": "code",
   "execution_count": 30,
   "outputs": [
    {
     "data": {
      "text/plain": "       Customer_Id Name                 Nickname                      Email  \\\n482  laudantium555  강서윤             Steve_Violet             simogja@jui.kr   \n32     voluptas252  남정호         Christian_Yellow      eunyeong72@yangii.com   \n407        iste381  박영희      Alex_LightSteelBlue    myeongsugyun@hanhan.net   \n451        sunt964  문경희          David_AliceBlue           jeongho08@yu.com   \n359   provident758  김경수     Curtis_DarkGoldenRod  sangceol32@jusighoesa.com   \n278        enim595  김채원              Brian_Wheat  isanghyeon@jusighoesa.com   \n298       animi100  손건우    Debra_MediumTurquoise        ieunyeong@gimii.org   \n264     nostrum743  손지원  Brittany_BlanchedAlmond   yeongsugi@yuhanhoesa.com   \n96    explicabo088  차아름    Stephanie_DarkMagenta            zjang@giman.com   \n270   similique365  이시우        Stephen_SteelBlue                  qi@yu.com   \n87       fugiat825  한지연           Debra_DarkBlue                egim@yu.org   \n260       alias275  이건우           Kimberly_Wheat           yeongmi11@iii.kr   \n115         eum334  김시우             Dean_Thistle      cunja40@jusighoesa.kr   \n26     quisquam424  신영호           Ryan_PeachPuff   jeonghogim@yuhanhoesa.kr   \n255     tenetur067  서순자         Robert_IndianRed              thwang@ju.com   \n488     debitis378  이정수             Joseph_Beige         bgim@jusighoesa.kr   \n231          in549  민상철   Benjamin_LavenderBlush           sunjajang@yu.com   \n108        vero235  김정웅           Danielle_Linen    yeonggil33@janggimim.kr   \n155      itaque167  최준영        Helen_SaddleBrown                hcoe@ju.com   \n90      debitis210  오상철               Tanya_Cyan      migyeongbag@gimju.com   \n\n          Birth  gender MobileCompany       OS  Class    Defense         HP  \\\n482  1998-01-15  female          MVNO  Android      1  55.146735  56.193267   \n32   1993-09-06    male           LGU  Android      3  67.067848  68.336812   \n407  2003-04-11    male           SKT  Android      4  43.198859  57.915039   \n451  1982-06-18  female          MVNO      iOS      1  74.150993  72.741277   \n359  2005-11-06    male           SKT  Android      3  56.937758  59.644018   \n278  1990-10-28    male           LGU  Android      3  46.482238  28.052813   \n298  1984-12-30  female           SKT      iOS      4  44.649141  50.594569   \n264  2003-07-06    male           SKT      iOS      4  47.818588  43.318702   \n96   1992-04-23    male          MVNO  Android      3  76.945365  67.129263   \n270  1984-12-20    male           LGU      iOS      1  68.638523  71.892223   \n87   1997-11-13    male           SKT  Android      3  54.349583  58.180398   \n260  1982-11-17  female            KT  Android      4  51.186608  51.375676   \n115  2002-04-14  female           SKT  Android      4  46.811267  46.742452   \n26   1997-01-08    male           SKT  Android      3  60.064168  62.460507   \n255  1993-09-20  female           SKT      iOS      2  43.760093  47.714319   \n488  1984-04-17  female           SKT      iOS      2  29.026660  34.793005   \n231  1988-02-07    male           SKT  Android      2  47.898082  53.787710   \n108  2002-09-11    male           LGU      iOS      4  40.087152  38.006699   \n155  1981-09-15    male          MVNO      iOS      3  48.500001  51.486661   \n90   2001-10-13    male           SKT      iOS      4  41.179369  32.163873   \n\n           int         MP        Avg  \n482  60.048066  57.584181  56.888724  \n32   30.301295  49.540456  58.938634  \n407  54.567571  57.194998  57.555018  \n451  44.767861  43.635810  58.188543  \n359  39.043458  37.019162  48.331590  \n278  58.915172  65.642805  46.847809  \n298  42.551699  48.254053  49.424311  \n264   9.235902   1.000000  22.159351  \n96   27.571446  46.061929  56.595596  \n270  73.174756  58.552928  65.222575  \n87   30.301797  38.352381  48.266389  \n260  56.508109  51.417683  51.396680  \n115  77.709056  89.363052  68.052752  \n26   63.943060  61.530277  61.995392  \n255  49.949694  41.202252  44.458286  \n488  44.747151  55.121553  44.957279  \n231  64.823958  76.782491  65.285100  \n108  44.316032  42.822746  40.414722  \n155  53.530376  49.444028  50.465345  \n90   33.008766  30.743828  31.453851  ",
      "text/html": "<div>\n<style scoped>\n    .dataframe tbody tr th:only-of-type {\n        vertical-align: middle;\n    }\n\n    .dataframe tbody tr th {\n        vertical-align: top;\n    }\n\n    .dataframe thead th {\n        text-align: right;\n    }\n</style>\n<table border=\"1\" class=\"dataframe\">\n  <thead>\n    <tr style=\"text-align: right;\">\n      <th></th>\n      <th>Customer_Id</th>\n      <th>Name</th>\n      <th>Nickname</th>\n      <th>Email</th>\n      <th>Birth</th>\n      <th>gender</th>\n      <th>MobileCompany</th>\n      <th>OS</th>\n      <th>Class</th>\n      <th>Defense</th>\n      <th>HP</th>\n      <th>int</th>\n      <th>MP</th>\n      <th>Avg</th>\n    </tr>\n  </thead>\n  <tbody>\n    <tr>\n      <th>482</th>\n      <td>laudantium555</td>\n      <td>강서윤</td>\n      <td>Steve_Violet</td>\n      <td>simogja@jui.kr</td>\n      <td>1998-01-15</td>\n      <td>female</td>\n      <td>MVNO</td>\n      <td>Android</td>\n      <td>1</td>\n      <td>55.146735</td>\n      <td>56.193267</td>\n      <td>60.048066</td>\n      <td>57.584181</td>\n      <td>56.888724</td>\n    </tr>\n    <tr>\n      <th>32</th>\n      <td>voluptas252</td>\n      <td>남정호</td>\n      <td>Christian_Yellow</td>\n      <td>eunyeong72@yangii.com</td>\n      <td>1993-09-06</td>\n      <td>male</td>\n      <td>LGU</td>\n      <td>Android</td>\n      <td>3</td>\n      <td>67.067848</td>\n      <td>68.336812</td>\n      <td>30.301295</td>\n      <td>49.540456</td>\n      <td>58.938634</td>\n    </tr>\n    <tr>\n      <th>407</th>\n      <td>iste381</td>\n      <td>박영희</td>\n      <td>Alex_LightSteelBlue</td>\n      <td>myeongsugyun@hanhan.net</td>\n      <td>2003-04-11</td>\n      <td>male</td>\n      <td>SKT</td>\n      <td>Android</td>\n      <td>4</td>\n      <td>43.198859</td>\n      <td>57.915039</td>\n      <td>54.567571</td>\n      <td>57.194998</td>\n      <td>57.555018</td>\n    </tr>\n    <tr>\n      <th>451</th>\n      <td>sunt964</td>\n      <td>문경희</td>\n      <td>David_AliceBlue</td>\n      <td>jeongho08@yu.com</td>\n      <td>1982-06-18</td>\n      <td>female</td>\n      <td>MVNO</td>\n      <td>iOS</td>\n      <td>1</td>\n      <td>74.150993</td>\n      <td>72.741277</td>\n      <td>44.767861</td>\n      <td>43.635810</td>\n      <td>58.188543</td>\n    </tr>\n    <tr>\n      <th>359</th>\n      <td>provident758</td>\n      <td>김경수</td>\n      <td>Curtis_DarkGoldenRod</td>\n      <td>sangceol32@jusighoesa.com</td>\n      <td>2005-11-06</td>\n      <td>male</td>\n      <td>SKT</td>\n      <td>Android</td>\n      <td>3</td>\n      <td>56.937758</td>\n      <td>59.644018</td>\n      <td>39.043458</td>\n      <td>37.019162</td>\n      <td>48.331590</td>\n    </tr>\n    <tr>\n      <th>278</th>\n      <td>enim595</td>\n      <td>김채원</td>\n      <td>Brian_Wheat</td>\n      <td>isanghyeon@jusighoesa.com</td>\n      <td>1990-10-28</td>\n      <td>male</td>\n      <td>LGU</td>\n      <td>Android</td>\n      <td>3</td>\n      <td>46.482238</td>\n      <td>28.052813</td>\n      <td>58.915172</td>\n      <td>65.642805</td>\n      <td>46.847809</td>\n    </tr>\n    <tr>\n      <th>298</th>\n      <td>animi100</td>\n      <td>손건우</td>\n      <td>Debra_MediumTurquoise</td>\n      <td>ieunyeong@gimii.org</td>\n      <td>1984-12-30</td>\n      <td>female</td>\n      <td>SKT</td>\n      <td>iOS</td>\n      <td>4</td>\n      <td>44.649141</td>\n      <td>50.594569</td>\n      <td>42.551699</td>\n      <td>48.254053</td>\n      <td>49.424311</td>\n    </tr>\n    <tr>\n      <th>264</th>\n      <td>nostrum743</td>\n      <td>손지원</td>\n      <td>Brittany_BlanchedAlmond</td>\n      <td>yeongsugi@yuhanhoesa.com</td>\n      <td>2003-07-06</td>\n      <td>male</td>\n      <td>SKT</td>\n      <td>iOS</td>\n      <td>4</td>\n      <td>47.818588</td>\n      <td>43.318702</td>\n      <td>9.235902</td>\n      <td>1.000000</td>\n      <td>22.159351</td>\n    </tr>\n    <tr>\n      <th>96</th>\n      <td>explicabo088</td>\n      <td>차아름</td>\n      <td>Stephanie_DarkMagenta</td>\n      <td>zjang@giman.com</td>\n      <td>1992-04-23</td>\n      <td>male</td>\n      <td>MVNO</td>\n      <td>Android</td>\n      <td>3</td>\n      <td>76.945365</td>\n      <td>67.129263</td>\n      <td>27.571446</td>\n      <td>46.061929</td>\n      <td>56.595596</td>\n    </tr>\n    <tr>\n      <th>270</th>\n      <td>similique365</td>\n      <td>이시우</td>\n      <td>Stephen_SteelBlue</td>\n      <td>qi@yu.com</td>\n      <td>1984-12-20</td>\n      <td>male</td>\n      <td>LGU</td>\n      <td>iOS</td>\n      <td>1</td>\n      <td>68.638523</td>\n      <td>71.892223</td>\n      <td>73.174756</td>\n      <td>58.552928</td>\n      <td>65.222575</td>\n    </tr>\n    <tr>\n      <th>87</th>\n      <td>fugiat825</td>\n      <td>한지연</td>\n      <td>Debra_DarkBlue</td>\n      <td>egim@yu.org</td>\n      <td>1997-11-13</td>\n      <td>male</td>\n      <td>SKT</td>\n      <td>Android</td>\n      <td>3</td>\n      <td>54.349583</td>\n      <td>58.180398</td>\n      <td>30.301797</td>\n      <td>38.352381</td>\n      <td>48.266389</td>\n    </tr>\n    <tr>\n      <th>260</th>\n      <td>alias275</td>\n      <td>이건우</td>\n      <td>Kimberly_Wheat</td>\n      <td>yeongmi11@iii.kr</td>\n      <td>1982-11-17</td>\n      <td>female</td>\n      <td>KT</td>\n      <td>Android</td>\n      <td>4</td>\n      <td>51.186608</td>\n      <td>51.375676</td>\n      <td>56.508109</td>\n      <td>51.417683</td>\n      <td>51.396680</td>\n    </tr>\n    <tr>\n      <th>115</th>\n      <td>eum334</td>\n      <td>김시우</td>\n      <td>Dean_Thistle</td>\n      <td>cunja40@jusighoesa.kr</td>\n      <td>2002-04-14</td>\n      <td>female</td>\n      <td>SKT</td>\n      <td>Android</td>\n      <td>4</td>\n      <td>46.811267</td>\n      <td>46.742452</td>\n      <td>77.709056</td>\n      <td>89.363052</td>\n      <td>68.052752</td>\n    </tr>\n    <tr>\n      <th>26</th>\n      <td>quisquam424</td>\n      <td>신영호</td>\n      <td>Ryan_PeachPuff</td>\n      <td>jeonghogim@yuhanhoesa.kr</td>\n      <td>1997-01-08</td>\n      <td>male</td>\n      <td>SKT</td>\n      <td>Android</td>\n      <td>3</td>\n      <td>60.064168</td>\n      <td>62.460507</td>\n      <td>63.943060</td>\n      <td>61.530277</td>\n      <td>61.995392</td>\n    </tr>\n    <tr>\n      <th>255</th>\n      <td>tenetur067</td>\n      <td>서순자</td>\n      <td>Robert_IndianRed</td>\n      <td>thwang@ju.com</td>\n      <td>1993-09-20</td>\n      <td>female</td>\n      <td>SKT</td>\n      <td>iOS</td>\n      <td>2</td>\n      <td>43.760093</td>\n      <td>47.714319</td>\n      <td>49.949694</td>\n      <td>41.202252</td>\n      <td>44.458286</td>\n    </tr>\n    <tr>\n      <th>488</th>\n      <td>debitis378</td>\n      <td>이정수</td>\n      <td>Joseph_Beige</td>\n      <td>bgim@jusighoesa.kr</td>\n      <td>1984-04-17</td>\n      <td>female</td>\n      <td>SKT</td>\n      <td>iOS</td>\n      <td>2</td>\n      <td>29.026660</td>\n      <td>34.793005</td>\n      <td>44.747151</td>\n      <td>55.121553</td>\n      <td>44.957279</td>\n    </tr>\n    <tr>\n      <th>231</th>\n      <td>in549</td>\n      <td>민상철</td>\n      <td>Benjamin_LavenderBlush</td>\n      <td>sunjajang@yu.com</td>\n      <td>1988-02-07</td>\n      <td>male</td>\n      <td>SKT</td>\n      <td>Android</td>\n      <td>2</td>\n      <td>47.898082</td>\n      <td>53.787710</td>\n      <td>64.823958</td>\n      <td>76.782491</td>\n      <td>65.285100</td>\n    </tr>\n    <tr>\n      <th>108</th>\n      <td>vero235</td>\n      <td>김정웅</td>\n      <td>Danielle_Linen</td>\n      <td>yeonggil33@janggimim.kr</td>\n      <td>2002-09-11</td>\n      <td>male</td>\n      <td>LGU</td>\n      <td>iOS</td>\n      <td>4</td>\n      <td>40.087152</td>\n      <td>38.006699</td>\n      <td>44.316032</td>\n      <td>42.822746</td>\n      <td>40.414722</td>\n    </tr>\n    <tr>\n      <th>155</th>\n      <td>itaque167</td>\n      <td>최준영</td>\n      <td>Helen_SaddleBrown</td>\n      <td>hcoe@ju.com</td>\n      <td>1981-09-15</td>\n      <td>male</td>\n      <td>MVNO</td>\n      <td>iOS</td>\n      <td>3</td>\n      <td>48.500001</td>\n      <td>51.486661</td>\n      <td>53.530376</td>\n      <td>49.444028</td>\n      <td>50.465345</td>\n    </tr>\n    <tr>\n      <th>90</th>\n      <td>debitis210</td>\n      <td>오상철</td>\n      <td>Tanya_Cyan</td>\n      <td>migyeongbag@gimju.com</td>\n      <td>2001-10-13</td>\n      <td>male</td>\n      <td>SKT</td>\n      <td>iOS</td>\n      <td>4</td>\n      <td>41.179369</td>\n      <td>32.163873</td>\n      <td>33.008766</td>\n      <td>30.743828</td>\n      <td>31.453851</td>\n    </tr>\n  </tbody>\n</table>\n</div>"
     },
     "execution_count": 30,
     "metadata": {},
     "output_type": "execute_result"
    }
   ],
   "source": [
    "customer.sample(n=20)"
   ],
   "metadata": {
    "collapsed": false,
    "ExecuteTime": {
     "end_time": "2023-08-14T09:27:22.388252900Z",
     "start_time": "2023-08-14T09:27:22.388252900Z"
    }
   }
  },
  {
   "cell_type": "code",
   "execution_count": 31,
   "outputs": [
    {
     "name": "stdout",
     "output_type": "stream",
     "text": [
      "<class 'pandas.core.frame.DataFrame'>\n",
      "Index: 100 entries, 286 to 385\n",
      "Data columns (total 14 columns):\n",
      " #   Column         Non-Null Count  Dtype  \n",
      "---  ------         --------------  -----  \n",
      " 0   Customer_Id    100 non-null    object \n",
      " 1   Name           100 non-null    object \n",
      " 2   Nickname       100 non-null    object \n",
      " 3   Email          100 non-null    object \n",
      " 4   Birth          100 non-null    object \n",
      " 5   gender         100 non-null    object \n",
      " 6   MobileCompany  100 non-null    object \n",
      " 7   OS             100 non-null    object \n",
      " 8   Class          100 non-null    int64  \n",
      " 9   Defense        100 non-null    float64\n",
      " 10  HP             100 non-null    float64\n",
      " 11  int            100 non-null    float64\n",
      " 12  MP             100 non-null    float64\n",
      " 13  Avg            100 non-null    float64\n",
      "dtypes: float64(5), int64(1), object(8)\n",
      "memory usage: 11.7+ KB\n"
     ]
    }
   ],
   "source": [
    "# frac 은 비율 0.2면 20% 1이면 100%\n",
    "customer_sample = customer.sample(frac=0.2)\n",
    "customer_sample.info()"
   ],
   "metadata": {
    "collapsed": false,
    "ExecuteTime": {
     "end_time": "2023-08-14T09:27:28.549584800Z",
     "start_time": "2023-08-14T09:27:28.549584800Z"
    }
   }
  },
  {
   "cell_type": "code",
   "execution_count": 32,
   "outputs": [
    {
     "data": {
      "text/plain": "array([[1.        , 0.91775097],\n       [0.91775097, 1.        ]])"
     },
     "execution_count": 32,
     "metadata": {},
     "output_type": "execute_result"
    }
   ],
   "source": [
    "#customer_sample에서 HP와 Defense 간 상관계수 도출하기\n",
    "np.corrcoef(customer['HP'], customer['Defense'])"
   ],
   "metadata": {
    "collapsed": false,
    "ExecuteTime": {
     "end_time": "2023-08-14T09:27:51.881765Z",
     "start_time": "2023-08-14T09:27:51.856580400Z"
    }
   }
  },
  {
   "cell_type": "code",
   "execution_count": null,
   "outputs": [],
   "source": [],
   "metadata": {
    "collapsed": false
   }
  }
 ],
 "metadata": {
  "kernelspec": {
   "display_name": "Python 3",
   "language": "python",
   "name": "python3"
  },
  "language_info": {
   "codemirror_mode": {
    "name": "ipython",
    "version": 2
   },
   "file_extension": ".py",
   "mimetype": "text/x-python",
   "name": "python",
   "nbconvert_exporter": "python",
   "pygments_lexer": "ipython2",
   "version": "2.7.6"
  }
 },
 "nbformat": 4,
 "nbformat_minor": 0
}
