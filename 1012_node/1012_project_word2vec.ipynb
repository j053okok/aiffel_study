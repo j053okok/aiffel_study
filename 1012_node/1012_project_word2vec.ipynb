{
 "cells": [
  {
   "cell_type": "code",
   "execution_count": 1,
   "id": "initial_id",
   "metadata": {
    "collapsed": true,
    "ExecuteTime": {
     "end_time": "2023-10-12T01:26:49.945623100Z",
     "start_time": "2023-10-12T01:26:49.765653100Z"
    }
   },
   "outputs": [],
   "source": [
    "import pandas as pd\n",
    "import gensim\n",
    "from konlpy.tag import Komoran\n",
    "import sentencepiece as spm\n",
    "from collections import Counter\n",
    "import matplotlib.pyplot as plt\n",
    "import seaborn as sns"
   ]
  },
  {
   "cell_type": "code",
   "execution_count": 2,
   "outputs": [],
   "source": [
    "plt.rcParams['axes.unicode_minus'] = False\n",
    "custom_params = {\"axes.spines.right\": False, \"axes.spines.top\": False}\n",
    "sns.set_theme(context='notebook',\n",
    "              style='darkgrid',\n",
    "              palette='pastel',\n",
    "              font='Malgun Gothic',\n",
    "              rc=custom_params)"
   ],
   "metadata": {
    "collapsed": false,
    "ExecuteTime": {
     "end_time": "2023-10-12T01:26:49.954520500Z",
     "start_time": "2023-10-12T01:26:49.946373200Z"
    }
   },
   "id": "87943b835db4125c"
  },
  {
   "cell_type": "code",
   "execution_count": 3,
   "outputs": [
    {
     "name": "stdout",
     "output_type": "stream",
     "text": [
      "1433\n"
     ]
    }
   ],
   "source": [
    "# 자동차 사전 데이터 불러오기\n",
    "def load_car_dic():\n",
    "    car_dic_file = open('carDic.txt','r',encoding='utf8')\n",
    "    car_dic = set(car_dic_file.read().split('\\n'))\n",
    "    return car_dic\n",
    "\n",
    "car_dic = load_car_dic()\n",
    "print(len(car_dic))"
   ],
   "metadata": {
    "collapsed": false,
    "ExecuteTime": {
     "end_time": "2023-10-12T01:26:49.956764Z",
     "start_time": "2023-10-12T01:26:49.949446300Z"
    }
   },
   "id": "2110504725ecd99f"
  },
  {
   "cell_type": "code",
   "execution_count": 4,
   "outputs": [
    {
     "name": "stdout",
     "output_type": "stream",
     "text": [
      "254142\n"
     ]
    },
    {
     "data": {
      "text/plain": "   inspect_at inspect_type        description\n0  2020-03-09    타이어수리(후우)     조수석뒤타이어 현장펑크수리\n1  2020-01-07         미션오일      단양애니카_미션오일 교환\n2  2020-01-14        점화플러그   당진세계모터스_점화플러그 교환\n3  2020-01-14        브레이크액  당진세계모터스-브레이크오일 교환\n4  2020-01-06        브레이크액  당진세계모터스_브레이크오일 교환",
      "text/html": "<div>\n<style scoped>\n    .dataframe tbody tr th:only-of-type {\n        vertical-align: middle;\n    }\n\n    .dataframe tbody tr th {\n        vertical-align: top;\n    }\n\n    .dataframe thead th {\n        text-align: right;\n    }\n</style>\n<table border=\"1\" class=\"dataframe\">\n  <thead>\n    <tr style=\"text-align: right;\">\n      <th></th>\n      <th>inspect_at</th>\n      <th>inspect_type</th>\n      <th>description</th>\n    </tr>\n  </thead>\n  <tbody>\n    <tr>\n      <th>0</th>\n      <td>2020-03-09</td>\n      <td>타이어수리(후우)</td>\n      <td>조수석뒤타이어 현장펑크수리</td>\n    </tr>\n    <tr>\n      <th>1</th>\n      <td>2020-01-07</td>\n      <td>미션오일</td>\n      <td>단양애니카_미션오일 교환</td>\n    </tr>\n    <tr>\n      <th>2</th>\n      <td>2020-01-14</td>\n      <td>점화플러그</td>\n      <td>당진세계모터스_점화플러그 교환</td>\n    </tr>\n    <tr>\n      <th>3</th>\n      <td>2020-01-14</td>\n      <td>브레이크액</td>\n      <td>당진세계모터스-브레이크오일 교환</td>\n    </tr>\n    <tr>\n      <th>4</th>\n      <td>2020-01-06</td>\n      <td>브레이크액</td>\n      <td>당진세계모터스_브레이크오일 교환</td>\n    </tr>\n  </tbody>\n</table>\n</div>"
     },
     "execution_count": 4,
     "metadata": {},
     "output_type": "execute_result"
    }
   ],
   "source": [
    "memo_data = pd.read_csv('car_inspect_info.tsv', sep='\\t', lineterminator='\\r')\n",
    "memo_data = memo_data.drop(columns=['inspect_id', 'car_id', 'price']) # drop columns\n",
    "memo_data = memo_data.dropna() # drop nan row\n",
    "print(len(memo_data))\n",
    "memo_data.head()"
   ],
   "metadata": {
    "collapsed": false,
    "ExecuteTime": {
     "end_time": "2023-10-12T01:26:50.322454400Z",
     "start_time": "2023-10-12T01:26:49.956014200Z"
    }
   },
   "id": "377fd379dd3e2008"
  },
  {
   "cell_type": "markdown",
   "source": [
    "### sentences 전처리"
   ],
   "metadata": {
    "collapsed": false
   },
   "id": "b89f6dbd56cdaebc"
  },
  {
   "cell_type": "code",
   "execution_count": 5,
   "outputs": [],
   "source": [
    "with open('car_info_description.txt','w',encoding='utf8') as w, open('KCC150_100k.txt','r',encoding='utf8') as corpus:\n",
    "    w.write('\\n'.join(memo_data['description']))\n",
    "    for idx, snt in enumerate(corpus.readlines()):\n",
    "        w.write(snt)"
   ],
   "metadata": {
    "collapsed": false,
    "ExecuteTime": {
     "end_time": "2023-10-12T01:26:50.508893800Z",
     "start_time": "2023-10-12T01:26:50.322454400Z"
    }
   },
   "id": "1235cbae2e9e6b66"
  },
  {
   "cell_type": "code",
   "execution_count": 6,
   "outputs": [
    {
     "data": {
      "text/plain": "True"
     },
     "execution_count": 6,
     "metadata": {},
     "output_type": "execute_result"
    }
   ],
   "source": [
    "spm.SentencePieceTrainer.Train(f'--input=car_info_description.txt --model_prefix=description --vocab_size=6000')\n",
    "sp = spm.SentencePieceProcessor()\n",
    "vocab_file = 'description.model'\n",
    "sp.load(vocab_file)"
   ],
   "metadata": {
    "collapsed": false,
    "ExecuteTime": {
     "end_time": "2023-10-12T01:27:01.398753300Z",
     "start_time": "2023-10-12T01:26:50.508893800Z"
    }
   },
   "id": "cec536a3fa60b72a"
  },
  {
   "cell_type": "code",
   "execution_count": 7,
   "outputs": [
    {
     "data": {
      "text/plain": "   inspect_at inspect_type        description subword_description\n0  2020-03-09    타이어수리(후우)     조수석뒤타이어 현장펑크수리   조수석 뒤 타이어 현장 펑크수리\n1  2020-01-07         미션오일      단양애니카_미션오일 교환   단 양 애 니 카 미션오일 교환\n2  2020-01-14        점화플러그   당진세계모터스_점화플러그 교환    당진세계모터스 점화플러그 교환\n3  2020-01-14        브레이크액  당진세계모터스-브레이크오일 교환   당진세계모터스 브레이크오일 교환\n4  2020-01-06        브레이크액  당진세계모터스_브레이크오일 교환   당진세계모터스 브레이크오일 교환",
      "text/html": "<div>\n<style scoped>\n    .dataframe tbody tr th:only-of-type {\n        vertical-align: middle;\n    }\n\n    .dataframe tbody tr th {\n        vertical-align: top;\n    }\n\n    .dataframe thead th {\n        text-align: right;\n    }\n</style>\n<table border=\"1\" class=\"dataframe\">\n  <thead>\n    <tr style=\"text-align: right;\">\n      <th></th>\n      <th>inspect_at</th>\n      <th>inspect_type</th>\n      <th>description</th>\n      <th>subword_description</th>\n    </tr>\n  </thead>\n  <tbody>\n    <tr>\n      <th>0</th>\n      <td>2020-03-09</td>\n      <td>타이어수리(후우)</td>\n      <td>조수석뒤타이어 현장펑크수리</td>\n      <td>조수석 뒤 타이어 현장 펑크수리</td>\n    </tr>\n    <tr>\n      <th>1</th>\n      <td>2020-01-07</td>\n      <td>미션오일</td>\n      <td>단양애니카_미션오일 교환</td>\n      <td>단 양 애 니 카 미션오일 교환</td>\n    </tr>\n    <tr>\n      <th>2</th>\n      <td>2020-01-14</td>\n      <td>점화플러그</td>\n      <td>당진세계모터스_점화플러그 교환</td>\n      <td>당진세계모터스 점화플러그 교환</td>\n    </tr>\n    <tr>\n      <th>3</th>\n      <td>2020-01-14</td>\n      <td>브레이크액</td>\n      <td>당진세계모터스-브레이크오일 교환</td>\n      <td>당진세계모터스 브레이크오일 교환</td>\n    </tr>\n    <tr>\n      <th>4</th>\n      <td>2020-01-06</td>\n      <td>브레이크액</td>\n      <td>당진세계모터스_브레이크오일 교환</td>\n      <td>당진세계모터스 브레이크오일 교환</td>\n    </tr>\n  </tbody>\n</table>\n</div>"
     },
     "execution_count": 7,
     "metadata": {},
     "output_type": "execute_result"
    }
   ],
   "source": [
    "def to_token(df, col):\n",
    "\n",
    "    morph_description = []\n",
    "    for _, row in df.iterrows():\n",
    "        memo = row[col]\n",
    "        sp_out = sp.encode_as_pieces(memo.replace('_',' ').replace('-',' ').replace('/',' ').replace('ㄴ',' ').replace('#',' ').replace('=',' ').replace(')',' ) ').replace('(',' ( '))\n",
    "        morph_description.append(' '.join([token.replace('▁','') for token in sp_out]))\n",
    "\n",
    "    df[\"subword_description\"] = morph_description\n",
    "    return df\n",
    "\n",
    "memo_data = to_token(memo_data, \"description\")\n",
    "memo_data.head()"
   ],
   "metadata": {
    "collapsed": false,
    "ExecuteTime": {
     "end_time": "2023-10-12T01:27:11.846530600Z",
     "start_time": "2023-10-12T01:27:01.399503Z"
    }
   },
   "id": "588b88f4aba03552"
  },
  {
   "cell_type": "markdown",
   "source": [
    "### Word2vec 사용하기"
   ],
   "metadata": {
    "collapsed": false
   },
   "id": "a2f0573cc2289ae4"
  },
  {
   "cell_type": "code",
   "execution_count": 8,
   "outputs": [],
   "source": [
    "w2v_train = list(memo_data['subword_description'])\n",
    "w2v_train = [line.split() for line in w2v_train]\n",
    "\n",
    "model = gensim.models.word2vec.Word2Vec(w2v_train, vector_size=300, window=5, min_count=1, epochs=10)"
   ],
   "metadata": {
    "collapsed": false,
    "ExecuteTime": {
     "end_time": "2023-10-12T01:27:18.121391200Z",
     "start_time": "2023-10-12T01:27:11.846530600Z"
    }
   },
   "id": "2a547eb3b189a5"
  },
  {
   "cell_type": "code",
   "execution_count": 9,
   "outputs": [
    {
     "data": {
      "text/plain": "[('전우타이어', 0.6516146063804626),\n ('앞타이어', 0.604376494884491),\n ('전좌타이어', 0.5791398286819458),\n ('후우타이어', 0.5497062802314758),\n ('후좌타이어', 0.5382509827613831),\n ('바퀴', 0.5217775702476501),\n ('타이어펑크', 0.5177106857299805),\n ('륜', 0.4771993160247803),\n ('펑크', 0.46602895855903625),\n ('타이어교체', 0.4468853175640106)]"
     },
     "execution_count": 9,
     "metadata": {},
     "output_type": "execute_result"
    }
   ],
   "source": [
    "model.wv.most_similar('타이어', topn=10)"
   ],
   "metadata": {
    "collapsed": false,
    "ExecuteTime": {
     "end_time": "2023-10-12T01:27:18.131345600Z",
     "start_time": "2023-10-12T01:27:18.122132200Z"
    }
   },
   "id": "262be9c1e03cf621"
  },
  {
   "cell_type": "code",
   "execution_count": 10,
   "outputs": [
    {
     "data": {
      "text/plain": "[('엔진체크등', 0.701880931854248),\n ('공기압경고등', 0.6759686470031738),\n ('고장코드', 0.6326425075531006),\n ('기억', 0.5805225372314453),\n ('통합경고등', 0.5681738257408142),\n ('체크', 0.533349871635437),\n ('라이트경고등', 0.5325048565864563),\n ('과거', 0.5064188241958618),\n ('돔', 0.48922085762023926),\n ('룸', 0.4791662395000458)]"
     },
     "execution_count": 10,
     "metadata": {},
     "output_type": "execute_result"
    }
   ],
   "source": [
    "model.wv.most_similar('경고등', topn=10)"
   ],
   "metadata": {
    "collapsed": false,
    "ExecuteTime": {
     "end_time": "2023-10-12T01:27:18.132842400Z",
     "start_time": "2023-10-12T01:27:18.128859800Z"
    }
   },
   "id": "527ff1fac9da8248"
  },
  {
   "cell_type": "code",
   "execution_count": 11,
   "outputs": [],
   "source": [
    "# 유사도가 평균값 이상인 것만 선택 하는 함수\n",
    "def exclusion(word_list):\n",
    "\n",
    "    count = sum([score for _, score in word_list])\n",
    "    avg = count / len(word_list)\n",
    "  \n",
    "    up_word = []\n",
    "    for w, s in word_list:\n",
    "        if s > avg:\n",
    "            up_word.append(w)\n",
    "  \n",
    "    return up_word"
   ],
   "metadata": {
    "collapsed": false,
    "ExecuteTime": {
     "end_time": "2023-10-12T01:27:18.141145800Z",
     "start_time": "2023-10-12T01:27:18.132842400Z"
    }
   },
   "id": "f65455b80eba457e"
  },
  {
   "cell_type": "code",
   "execution_count": 12,
   "outputs": [
    {
     "name": "stdout",
     "output_type": "stream",
     "text": [
      "{'전구', '라이트', '하향등', '주간주행등', '전조등', '미등', '헤드라이트', '후미등', '브레이크등', '방향지시등', '보조제동등', '백색더블', '데이라이트', '브레이크전구', '라이트전구', '안개등', '주행등'}\n",
      "\n",
      "['엔진체크등', '공기압경고등', '고장코드', '기억', '경고등']\n"
     ]
    }
   ],
   "source": [
    "light = model.wv.most_similar('라이트', topn=20)\n",
    "light_word = exclusion(light)\n",
    "light = model.wv.most_similar('전구', topn=20)\n",
    "light_word.extend(exclusion(light))\n",
    "\n",
    "light_word.append('라이트')\n",
    "light_word.append('전구')\n",
    "\n",
    "light_word = set(light_word)\n",
    "\n",
    "error = model.wv.most_similar('경고등', topn=10)\n",
    "error_word = exclusion(error)\n",
    "error_word.append('경고등')\n",
    "\n",
    "print(light_word)\n",
    "print('')\n",
    "print(error_word)"
   ],
   "metadata": {
    "collapsed": false,
    "ExecuteTime": {
     "end_time": "2023-10-12T01:27:18.141145800Z",
     "start_time": "2023-10-12T01:27:18.136382700Z"
    }
   },
   "id": "961f3270e8ea0f3f"
  },
  {
   "cell_type": "code",
   "execution_count": 13,
   "outputs": [
    {
     "name": "stdout",
     "output_type": "stream",
     "text": [
      "{'내비게이션': '네비게이션', '내비': '네비게이션', '네비': '네비게이션', '딜리버리': '탁송', '탁송비': '탁송', '브레이크 오일': '브레이크액', '브레이크오일': '브레이크액', '라디오': '오디오', '전구': '라이트', '라이트': '라이트', '하향등': '라이트', '주간주행등': '라이트', '전조등': '라이트', '미등': '라이트', '헤드라이트': '라이트', '후미등': '라이트', '브레이크등': '라이트', '방향지시등': '라이트', '보조제동등': '라이트', '백색더블': '라이트', '데이라이트': '라이트', '브레이크전구': '라이트', '라이트전구': '라이트', '안개등': '라이트', '주행등': '라이트', '엔진체크등': '경고등', '공기압경고등': '경고등', '고장코드': '경고등', '기억': '경고등', '경고등': '경고등'}\n"
     ]
    }
   ],
   "source": [
    "# 매핑 테이블 작성\n",
    "mapping_table = {'내비게이션':'네비게이션', '내비':'네비게이션', '네비':'네비게이션', \\\n",
    "                  '딜리버리':'탁송', '탁송비':'탁송', \\\n",
    "                  '브레이크 오일':'브레이크액', '브레이크오일':'브레이크액', \\\n",
    "                  '라디오':'오디오'}\n",
    "\n",
    "# \"라이트\" 관련 단어 매핑 테이블 추가\n",
    "light_mapping = dict()\n",
    "for word in light_word:\n",
    "    light_mapping[word] = '라이트'\n",
    "\n",
    "mapping_table.update(light_mapping)\n",
    "\n",
    "# \"경고등\" 관련 단어 매핑 테이블 추가\n",
    "error_mapping = dict()\n",
    "for word in error_word:\n",
    "    error_mapping[word] = '경고등'\n",
    "\n",
    "mapping_table.update(error_mapping)\n",
    "\n",
    "print(mapping_table)"
   ],
   "metadata": {
    "collapsed": false,
    "ExecuteTime": {
     "end_time": "2023-10-12T01:27:18.194170600Z",
     "start_time": "2023-10-12T01:27:18.140395600Z"
    }
   },
   "id": "c83cca83224d0e5d"
  },
  {
   "cell_type": "code",
   "execution_count": 14,
   "outputs": [
    {
     "name": "stdout",
     "output_type": "stream",
     "text": [
      "45\n"
     ]
    }
   ],
   "source": [
    "#total 45 category\n",
    "category = set(memo_data['inspect_type'])\n",
    "print(len(category))"
   ],
   "metadata": {
    "collapsed": false,
    "ExecuteTime": {
     "end_time": "2023-10-12T01:27:18.205423400Z",
     "start_time": "2023-10-12T01:27:18.144419100Z"
    }
   },
   "id": "526063435462830c"
  },
  {
   "cell_type": "code",
   "execution_count": 15,
   "outputs": [
    {
     "name": "stdout",
     "output_type": "stream",
     "text": [
      "{'운영상태점검', 'CSA', '사고조사', '브레이크액', '출장점검', '타이어일반', '블랙박스', '점화플러그', '와이퍼', '타이어수리(후좌)', '키케이블', '휠캡', '장애처리', '타이어교체(후우)', '세차점검', 'CSA_A/S', '하이패스', '타이어교체(전우)', '타이어교체(전좌)', '배터리', '엔진오일', '컴파운드', '재충전배터리', '일반수리', '타이어교체(후좌)', '네비게이션', '미션오일', '후방카메라', '에어컨필터', 'V리브드벨트', '후패드', 'TCS', '상품화점검', '타이어수리(전우)', '사고수리', '주차장위치', '얼라이먼트', '타이어수리(후우)', '타이어수리(전좌)', '기타', '전패드', '브레이크', '정기검사', '아이들러베어링', '전압관리'}\n"
     ]
    }
   ],
   "source": [
    "print(category)"
   ],
   "metadata": {
    "collapsed": false,
    "ExecuteTime": {
     "end_time": "2023-10-12T01:27:18.206173300Z",
     "start_time": "2023-10-12T01:27:18.157868800Z"
    }
   },
   "id": "1d5fb9091f682e92"
  },
  {
   "cell_type": "code",
   "execution_count": 16,
   "outputs": [],
   "source": [
    "def noun_phrase(words):\n",
    "    result = []\n",
    "\n",
    "    for index, token in enumerate(words):\n",
    "        if (token in car_dic) or (token in category):\n",
    "            \n",
    "            if (''.join(words[index : index +2]) in car_dic) or (''.join(words[index : index +2]) in category):\n",
    "                result.append(''.join(words[index : index +2]))\n",
    "            \n",
    "            result.append(token)\n",
    "    return result\n",
    "\n",
    "def find_category(row):\n",
    "   \n",
    "    line = row['description'].replace('_',' ').replace('-',' ').replace('/',' ').replace('ㄴ',' ').replace('#',' ').replace('=',' ').replace(')',' ) ').replace('(',' ( ')\n",
    "    car_token = noun_phrase(line.upper().split())\n",
    " \n",
    "    car_token.extend(noun_phrase(row['subword_description'].upper().split()))\n",
    "    return set(car_token)"
   ],
   "metadata": {
    "collapsed": false,
    "ExecuteTime": {
     "end_time": "2023-10-12T01:27:18.206173300Z",
     "start_time": "2023-10-12T01:27:18.161164200Z"
    }
   },
   "id": "d3e8ab5d4bd42614"
  },
  {
   "cell_type": "code",
   "execution_count": 17,
   "outputs": [
    {
     "name": "stdout",
     "output_type": "stream",
     "text": [
      "[('장애처리', 1238), ('TCS', 613), ('하이패스', 543), ('타이어', 495), ('출장점검', 472), ('배터리', 273), ('후방카메라', 233), ('네비게이션', 216), ('블랙박스', 190), ('사고조사', 180), ('전조등', 129), ('전원', 120), ('컴파운드', 119), ('전구', 113), ('범퍼', 93), ('심', 86), ('도어', 84), ('제동등', 79), ('브레이크', 60), ('불량', 53)]\n"
     ]
    }
   ],
   "source": [
    "subword_list = []\n",
    "for _, row in memo_data.iterrows():\n",
    "    if row['inspect_type'] == '장애처리':\n",
    "        car_words = find_category(row) \n",
    "    \n",
    "        if len(car_words) >= 1: \n",
    "            subword_list.extend(car_words)\n",
    "\n",
    "subword_list = [subword for subword in subword_list if subword != '']\n",
    "subword_counter = Counter(subword_list) \n",
    "subword_sort = sorted(subword_counter.items(), key=lambda x:x[1], reverse=True)\n",
    "subword_top20 = [(key, value) for key, value in subword_sort[:20]]\n",
    "\n",
    "print(subword_top20)"
   ],
   "metadata": {
    "collapsed": false,
    "ExecuteTime": {
     "end_time": "2023-10-12T01:27:25.108079600Z",
     "start_time": "2023-10-12T01:27:18.165665500Z"
    }
   },
   "id": "d59ca2ec7b1eb002"
  },
  {
   "cell_type": "code",
   "execution_count": 18,
   "outputs": [],
   "source": [
    "def re_ranking(word_list):\n",
    "\n",
    "    max_word = (None, -99)\n",
    "    for word in word_list:\n",
    "        if word in mapping_table:\n",
    "            word = mapping_table.get(word)\n",
    "\n",
    "        if subword_counter[word] > max_word[1]:\n",
    "            max_word = (word, subword_counter[word])\n",
    "\n",
    "    return max_word[0]"
   ],
   "metadata": {
    "collapsed": false,
    "ExecuteTime": {
     "end_time": "2023-10-12T01:27:25.117026200Z",
     "start_time": "2023-10-12T01:27:25.108079600Z"
    }
   },
   "id": "cf961b0104d9ab6e"
  },
  {
   "cell_type": "code",
   "execution_count": 19,
   "outputs": [
    {
     "data": {
      "text/plain": "   inspect_at inspect_type recategory        description subword_description\n0  2020-03-09    타이어수리(후우)       None     조수석뒤타이어 현장펑크수리   조수석 뒤 타이어 현장 펑크수리\n1  2020-01-07         미션오일       None      단양애니카_미션오일 교환   단 양 애 니 카 미션오일 교환\n2  2020-01-14        점화플러그       None   당진세계모터스_점화플러그 교환    당진세계모터스 점화플러그 교환\n3  2020-01-14        브레이크액       None  당진세계모터스-브레이크오일 교환   당진세계모터스 브레이크오일 교환\n4  2020-01-06        브레이크액       None  당진세계모터스_브레이크오일 교환   당진세계모터스 브레이크오일 교환",
      "text/html": "<div>\n<style scoped>\n    .dataframe tbody tr th:only-of-type {\n        vertical-align: middle;\n    }\n\n    .dataframe tbody tr th {\n        vertical-align: top;\n    }\n\n    .dataframe thead th {\n        text-align: right;\n    }\n</style>\n<table border=\"1\" class=\"dataframe\">\n  <thead>\n    <tr style=\"text-align: right;\">\n      <th></th>\n      <th>inspect_at</th>\n      <th>inspect_type</th>\n      <th>recategory</th>\n      <th>description</th>\n      <th>subword_description</th>\n    </tr>\n  </thead>\n  <tbody>\n    <tr>\n      <th>0</th>\n      <td>2020-03-09</td>\n      <td>타이어수리(후우)</td>\n      <td>None</td>\n      <td>조수석뒤타이어 현장펑크수리</td>\n      <td>조수석 뒤 타이어 현장 펑크수리</td>\n    </tr>\n    <tr>\n      <th>1</th>\n      <td>2020-01-07</td>\n      <td>미션오일</td>\n      <td>None</td>\n      <td>단양애니카_미션오일 교환</td>\n      <td>단 양 애 니 카 미션오일 교환</td>\n    </tr>\n    <tr>\n      <th>2</th>\n      <td>2020-01-14</td>\n      <td>점화플러그</td>\n      <td>None</td>\n      <td>당진세계모터스_점화플러그 교환</td>\n      <td>당진세계모터스 점화플러그 교환</td>\n    </tr>\n    <tr>\n      <th>3</th>\n      <td>2020-01-14</td>\n      <td>브레이크액</td>\n      <td>None</td>\n      <td>당진세계모터스-브레이크오일 교환</td>\n      <td>당진세계모터스 브레이크오일 교환</td>\n    </tr>\n    <tr>\n      <th>4</th>\n      <td>2020-01-06</td>\n      <td>브레이크액</td>\n      <td>None</td>\n      <td>당진세계모터스_브레이크오일 교환</td>\n      <td>당진세계모터스 브레이크오일 교환</td>\n    </tr>\n  </tbody>\n</table>\n</div>"
     },
     "execution_count": 19,
     "metadata": {},
     "output_type": "execute_result"
    }
   ],
   "source": [
    "category_count = 0\n",
    "recategory_count = 0\n",
    "recategory = []\n",
    "for _, row in memo_data.iterrows():\n",
    "    if row['inspect_type'] == '장애처리':\n",
    "        carWords = find_category(row) \n",
    "        recat = re_ranking(carWords)\n",
    "        recategory.append(recat)\n",
    "    \n",
    "        category_count += 1\n",
    "        if recat != None:\n",
    "            recategory_count += 1 \n",
    "\n",
    "    else:\n",
    "        recategory.append(None)\n",
    "\n",
    "memo_data['recategory'] = recategory \n",
    "\n",
    "memo_data = memo_data[['inspect_at', 'inspect_type','recategory','description','subword_description']]\n",
    "\n",
    "memo_data.head()"
   ],
   "metadata": {
    "collapsed": false,
    "ExecuteTime": {
     "end_time": "2023-10-12T01:27:32.276587500Z",
     "start_time": "2023-10-12T01:27:25.111774300Z"
    }
   },
   "id": "645be4104b586539"
  },
  {
   "cell_type": "code",
   "execution_count": 20,
   "outputs": [
    {
     "name": "stdout",
     "output_type": "stream",
     "text": [
      "[(None, 248668), ('장애처리', 1238), ('TCS', 612), ('하이패스', 535), ('출장점검', 468), ('타이어', 465), ('라이트', 270), ('배터리', 257), ('후방카메라', 192), ('블랙박스', 175), ('네비게이션', 167), ('사고조사', 167), ('컴파운드', 109), ('제동등', 71), ('범퍼', 64), ('도어', 62), ('브레이크', 50), ('시트', 37), ('전원', 36), ('볼', 32), ('와이퍼', 31)]\n"
     ]
    }
   ],
   "source": [
    "recategory_counter = Counter(recategory)\n",
    "recategory_counter_sorted = sorted(recategory_counter.items(), key=lambda x:x[1], reverse=True)\n",
    "recategory_top20 = [(key, value) for key, value in recategory_counter_sorted[:21]]\n",
    "print(recategory_top20)"
   ],
   "metadata": {
    "collapsed": false,
    "ExecuteTime": {
     "end_time": "2023-10-12T01:27:32.294926400Z",
     "start_time": "2023-10-12T01:27:32.277337500Z"
    }
   },
   "id": "b1429d17b223cb4b"
  },
  {
   "cell_type": "code",
   "execution_count": 21,
   "outputs": [
    {
     "data": {
      "text/plain": "        inspect_at inspect_type recategory description subword_description  \\\n167673  2020-12-09         장애처리       None         붓터치                 붓터치   \n167674  2020-12-10         장애처리       None         붓터치                 붓터치   \n167675  2020-12-08         장애처리       None        배선정리                배선정리   \n167676  2020-12-08         장애처리       None       강제문개방            강제 문 개 방   \n167677  2020-12-07         장애처리       None      라이트 교체              라이트 교체   \n\n            dates  \n167673 2020-12-09  \n167674 2020-12-10  \n167675 2020-12-08  \n167676 2020-12-08  \n167677 2020-12-07  ",
      "text/html": "<div>\n<style scoped>\n    .dataframe tbody tr th:only-of-type {\n        vertical-align: middle;\n    }\n\n    .dataframe tbody tr th {\n        vertical-align: top;\n    }\n\n    .dataframe thead th {\n        text-align: right;\n    }\n</style>\n<table border=\"1\" class=\"dataframe\">\n  <thead>\n    <tr style=\"text-align: right;\">\n      <th></th>\n      <th>inspect_at</th>\n      <th>inspect_type</th>\n      <th>recategory</th>\n      <th>description</th>\n      <th>subword_description</th>\n      <th>dates</th>\n    </tr>\n  </thead>\n  <tbody>\n    <tr>\n      <th>167673</th>\n      <td>2020-12-09</td>\n      <td>장애처리</td>\n      <td>None</td>\n      <td>붓터치</td>\n      <td>붓터치</td>\n      <td>2020-12-09</td>\n    </tr>\n    <tr>\n      <th>167674</th>\n      <td>2020-12-10</td>\n      <td>장애처리</td>\n      <td>None</td>\n      <td>붓터치</td>\n      <td>붓터치</td>\n      <td>2020-12-10</td>\n    </tr>\n    <tr>\n      <th>167675</th>\n      <td>2020-12-08</td>\n      <td>장애처리</td>\n      <td>None</td>\n      <td>배선정리</td>\n      <td>배선정리</td>\n      <td>2020-12-08</td>\n    </tr>\n    <tr>\n      <th>167676</th>\n      <td>2020-12-08</td>\n      <td>장애처리</td>\n      <td>None</td>\n      <td>강제문개방</td>\n      <td>강제 문 개 방</td>\n      <td>2020-12-08</td>\n    </tr>\n    <tr>\n      <th>167677</th>\n      <td>2020-12-07</td>\n      <td>장애처리</td>\n      <td>None</td>\n      <td>라이트 교체</td>\n      <td>라이트 교체</td>\n      <td>2020-12-07</td>\n    </tr>\n  </tbody>\n</table>\n</div>"
     },
     "execution_count": 21,
     "metadata": {},
     "output_type": "execute_result"
    }
   ],
   "source": [
    "normal = memo_data.loc[memo_data['inspect_type'] == '장애처리'].copy()\n",
    "normal['dates'] = pd.to_datetime(normal['inspect_at'], format='%Y-%m-%d', errors='raise')\n",
    "\n",
    "normal.head()"
   ],
   "metadata": {
    "collapsed": false,
    "ExecuteTime": {
     "end_time": "2023-10-12T01:27:32.361067700Z",
     "start_time": "2023-10-12T01:27:32.288924700Z"
    }
   },
   "id": "468217bbed2bac15"
  },
  {
   "cell_type": "code",
   "execution_count": 29,
   "outputs": [
    {
     "data": {
      "text/plain": "<Figure size 800x600 with 1 Axes>",
      "image/png": "[encoded data removed]"
     },
     "metadata": {},
     "output_type": "display_data"
    }
   ],
   "source": [
    "temp = pd.DataFrame()\n",
    "for word, count in recategory_top20[2:10]:\n",
    "    temp[word] = normal.groupby(pd.Grouper(key='dates', freq='M'))['recategory'].apply(lambda x: x[x == word].count())\n",
    "\n",
    "temp.plot(marker='.')\n",
    "plt.title('Monthly Freq')\n",
    "plt.xlabel('Month')\n",
    "plt.ylabel('freq')\n",
    "plt.show()"
   ],
   "metadata": {
    "collapsed": false,
    "ExecuteTime": {
     "end_time": "2023-10-12T04:32:49.981067600Z",
     "start_time": "2023-10-12T04:32:49.587547100Z"
    }
   },
   "id": "46f7dad9ffa8a9f0"
  },
  {
   "cell_type": "code",
   "execution_count": 27,
   "outputs": [
    {
     "data": {
      "text/plain": "[('배터리교환', 0.48826560378074646),\n ('후패드', 0.48685628175735474),\n ('전패드', 0.4711616039276123),\n ('배터리방전', 0.4409596621990204),\n ('점화플러그', 0.43691307306289673),\n ('미션오일', 0.42477086186408997),\n ('브레이크액', 0.42336487770080566),\n ('시동', 0.41628286242485046),\n ('배터리방전으로', 0.40926387906074524),\n ('시동유지', 0.3977958559989929)]"
     },
     "execution_count": 27,
     "metadata": {},
     "output_type": "execute_result"
    }
   ],
   "source": [
    "model.wv.most_similar('배터리', topn=10)"
   ],
   "metadata": {
    "collapsed": false,
    "ExecuteTime": {
     "end_time": "2023-10-12T04:19:58.936160900Z",
     "start_time": "2023-10-12T04:19:58.926890900Z"
    }
   },
   "id": "82c1559799131f2b"
  }
 ],
 "metadata": {
  "kernelspec": {
   "display_name": "Python 3",
   "language": "python",
   "name": "python3"
  },
  "language_info": {
   "codemirror_mode": {
    "name": "ipython",
    "version": 2
   },
   "file_extension": ".py",
   "mimetype": "text/x-python",
   "name": "python",
   "nbconvert_exporter": "python",
   "pygments_lexer": "ipython2",
   "version": "2.7.6"
  }
 },
 "nbformat": 4,
 "nbformat_minor": 5
}
