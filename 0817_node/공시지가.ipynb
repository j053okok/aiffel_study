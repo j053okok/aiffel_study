{
 "cells": [
  {
   "cell_type": "code",
   "execution_count": 1,
   "outputs": [],
   "source": [
    "import requests\n",
    "import json\n",
    "import os\n",
    "import math\n",
    "import time\n",
    "import pandas as pd\n",
    "import numpy as np\n",
    "import geopandas as gpd\n",
    "import folium\n",
    "import matplotlib.pyplot as plt\n",
    "\n",
    "from shapely.geometry import mapping, shape, Point, Polygon, LineString\n",
    "from folium import plugins\n",
    "from folium.plugins import MarkerCluster, HeatMap"
   ],
   "metadata": {
    "collapsed": false,
    "ExecuteTime": {
     "end_time": "2023-08-17T01:31:59.070325300Z",
     "start_time": "2023-08-17T01:31:57.197468100Z"
    }
   }
  },
  {
   "cell_type": "code",
   "execution_count": 3,
   "outputs": [
    {
     "name": "stdout",
     "output_type": "stream",
     "text": [
      "access token:  cd91f03d-5596-4a3d-a279-31a09d25902b\n"
     ]
    }
   ],
   "source": [
    "def get_access_token(consumer_key, consumer_secret) -> None:\n",
    "    temp_res = requests.get(\n",
    "        url=\"https://sgisapi.kostat.go.kr/OpenAPI3/auth/authentication.json\",\n",
    "        params={\n",
    "            \"consumer_key\": consumer_key,\n",
    "            \"consumer_secret\": consumer_secret\n",
    "        }\n",
    "    )\n",
    "\n",
    "    access_token = temp_res.json()[\"result\"][\"accessToken\"]\n",
    "\n",
    "    return access_token\n",
    "\n",
    "consumer_key = \"0557bd5252b34142911d\"\n",
    "consumer_secret = \"d90d86911924440786d4\"\n",
    "\n",
    "print('access token: ', get_access_token(consumer_key, consumer_secret))"
   ],
   "metadata": {
    "collapsed": false,
    "ExecuteTime": {
     "end_time": "2023-08-17T01:32:52.435680100Z",
     "start_time": "2023-08-17T01:32:52.040656400Z"
    }
   }
  },
  {
   "cell_type": "code",
   "execution_count": 4,
   "outputs": [],
   "source": [
    "def get_si_info_list(consumer_key, consumer_secret, cd) -> None:\n",
    "    ACCESS_TOKEN=get_access_token(consumer_key, consumer_secret)\n",
    "    PARAMS={\n",
    "        \"accessToken\": ACCESS_TOKEN,\n",
    "        \"cd\": cd # 선택) 최대 5자리, non(default): 시도정보, 2자리: 시군구, 5자리: 읍면동\n",
    "        # \"pg_yn\": , # 선택) 경계 미포함(default): 0, 경계 포함: 1\n",
    "    }\n",
    "\n",
    "    temp_res = requests.get(\n",
    "        url=\"https://sgisapi.kostat.go.kr/OpenAPI3/addr/stage.json\",\n",
    "        params=PARAMS\n",
    "    )\n",
    "\n",
    "    temp_sido_info_list = temp_res.json()[\"result\"]\n",
    "\n",
    "    return temp_sido_info_list"
   ],
   "metadata": {
    "collapsed": false,
    "ExecuteTime": {
     "end_time": "2023-08-17T01:33:01.538219200Z",
     "start_time": "2023-08-17T01:33:01.512836600Z"
    }
   }
  },
  {
   "cell_type": "code",
   "execution_count": 6,
   "outputs": [
    {
     "data": {
      "text/plain": "['강남구',\n '강동구',\n '강북구',\n '강서구',\n '관악구',\n '광진구',\n '구로구',\n '금천구',\n '노원구',\n '도봉구',\n '동대문구',\n '동작구',\n '마포구',\n '서대문구',\n '서초구',\n '성동구',\n '성북구',\n '송파구',\n '양천구',\n '영등포구',\n '용산구',\n '은평구',\n '종로구',\n '중구',\n '중랑구']"
     },
     "execution_count": 6,
     "metadata": {},
     "output_type": "execute_result"
    }
   ],
   "source": [
    "# 서울시에 속하는 구들의 이름을 리스트로\n",
    "temp_seoul_info_list = get_si_info_list(consumer_key, consumer_secret, 11)\n",
    "seoul_gu_name_list = [gu_name[\"addr_name\"] for gu_name in temp_seoul_info_list ]\n",
    "seoul_gu_name_list"
   ],
   "metadata": {
    "collapsed": false,
    "ExecuteTime": {
     "end_time": "2023-08-17T01:34:08.945570400Z",
     "start_time": "2023-08-17T01:34:08.192870Z"
    }
   }
  },
  {
   "cell_type": "code",
   "execution_count": 24,
   "outputs": [
    {
     "name": "stdout",
     "output_type": "stream",
     "text": [
      "총 데이터수: 25671\n"
     ]
    }
   ],
   "source": [
    "# 반복문 초기값\n",
    "START_INDEX = 1\n",
    "END_INDEX = 1000\n",
    "request_code = \"INFO-000\"\n",
    "temp_result_list = []\n",
    "\n",
    "while True:\n",
    "    if(request_code!=\"INFO-000\"):\n",
    "        break\n",
    "    elif(request_code==\"INFO-000\"):\n",
    "        # API 조회간격 조절\n",
    "        time.sleep(0.2) # 0.2초 대기후 요청\n",
    "\n",
    "    # 요청 파라미터\n",
    "    KEY = \"614f614e5a6a303535387977726a57\" # 서울 열린데이터 광장의 본인의 인증키\n",
    "    TYPE = \"json\"\n",
    "    SERVICE = \"IndividuallyPostedLandPriceService\"\n",
    "    START_INDEX = START_INDEX + 1000\n",
    "    END_INDEX = END_INDEX + 1000\n",
    "    SIGUNGU_NM = \"성동구\"\n",
    "    YEAR = 2020\n",
    "\n",
    "    url = f\"http://openapi.seoul.go.kr:8088/{KEY}/{TYPE}/{SERVICE}/{START_INDEX}/{END_INDEX}/{SIGUNGU_NM}/ / / / /{YEAR}\"\n",
    "\n",
    "    try:\n",
    "        temp_res = requests.get(\n",
    "            url=url\n",
    "        )\n",
    "\n",
    "        request_code = temp_res.json()[\"IndividuallyPostedLandPriceService\"][\"RESULT\"][\"CODE\"]\n",
    "\n",
    "        temp_res_list = temp_res.json()[\"IndividuallyPostedLandPriceService\"][\"row\"]\n",
    "        temp_result_list = temp_res_list + temp_result_list\n",
    "\n",
    "    except:\n",
    "        request_code = \"INFO-200\"\n",
    "\n",
    "\n",
    "print(f\"총 데이터수: {len(temp_result_list)}\")"
   ],
   "metadata": {
    "collapsed": false,
    "ExecuteTime": {
     "end_time": "2023-08-17T01:52:44.469625700Z",
     "start_time": "2023-08-17T01:52:34.337145400Z"
    }
   }
  },
  {
   "cell_type": "code",
   "execution_count": 25,
   "outputs": [
    {
     "data": {
      "text/plain": "  SIGUNGU_NM SIGUNGU_CD BJDONG_NM BJDONG_CD BONBEON BUBEON PILGI_NM PILGI_CD  \\\n0        성동구      11200       용답동     12200    0047   0016       토지        1   \n1        성동구      11200       용답동     12200    0047   0015       토지        1   \n2        성동구      11200       용답동     12200    0047   0014       토지        1   \n3        성동구      11200       용답동     12200    0047   0013       토지        1   \n4        성동구      11200       용답동     12200    0047   0012       토지        1   \n\n     BASE_MON     JIGA  YEAR  \n0  2020-01-01  3100000  2020  \n1  2020-01-01  3100000  2020  \n2  2020-01-01  4334000  2020  \n3  2020-01-01  1023000  2020  \n4  2020-01-01  4334000  2020  ",
      "text/html": "<div>\n<style scoped>\n    .dataframe tbody tr th:only-of-type {\n        vertical-align: middle;\n    }\n\n    .dataframe tbody tr th {\n        vertical-align: top;\n    }\n\n    .dataframe thead th {\n        text-align: right;\n    }\n</style>\n<table border=\"1\" class=\"dataframe\">\n  <thead>\n    <tr style=\"text-align: right;\">\n      <th></th>\n      <th>SIGUNGU_NM</th>\n      <th>SIGUNGU_CD</th>\n      <th>BJDONG_NM</th>\n      <th>BJDONG_CD</th>\n      <th>BONBEON</th>\n      <th>BUBEON</th>\n      <th>PILGI_NM</th>\n      <th>PILGI_CD</th>\n      <th>BASE_MON</th>\n      <th>JIGA</th>\n      <th>YEAR</th>\n    </tr>\n  </thead>\n  <tbody>\n    <tr>\n      <th>0</th>\n      <td>성동구</td>\n      <td>11200</td>\n      <td>용답동</td>\n      <td>12200</td>\n      <td>0047</td>\n      <td>0016</td>\n      <td>토지</td>\n      <td>1</td>\n      <td>2020-01-01</td>\n      <td>3100000</td>\n      <td>2020</td>\n    </tr>\n    <tr>\n      <th>1</th>\n      <td>성동구</td>\n      <td>11200</td>\n      <td>용답동</td>\n      <td>12200</td>\n      <td>0047</td>\n      <td>0015</td>\n      <td>토지</td>\n      <td>1</td>\n      <td>2020-01-01</td>\n      <td>3100000</td>\n      <td>2020</td>\n    </tr>\n    <tr>\n      <th>2</th>\n      <td>성동구</td>\n      <td>11200</td>\n      <td>용답동</td>\n      <td>12200</td>\n      <td>0047</td>\n      <td>0014</td>\n      <td>토지</td>\n      <td>1</td>\n      <td>2020-01-01</td>\n      <td>4334000</td>\n      <td>2020</td>\n    </tr>\n    <tr>\n      <th>3</th>\n      <td>성동구</td>\n      <td>11200</td>\n      <td>용답동</td>\n      <td>12200</td>\n      <td>0047</td>\n      <td>0013</td>\n      <td>토지</td>\n      <td>1</td>\n      <td>2020-01-01</td>\n      <td>1023000</td>\n      <td>2020</td>\n    </tr>\n    <tr>\n      <th>4</th>\n      <td>성동구</td>\n      <td>11200</td>\n      <td>용답동</td>\n      <td>12200</td>\n      <td>0047</td>\n      <td>0012</td>\n      <td>토지</td>\n      <td>1</td>\n      <td>2020-01-01</td>\n      <td>4334000</td>\n      <td>2020</td>\n    </tr>\n  </tbody>\n</table>\n</div>"
     },
     "execution_count": 25,
     "metadata": {},
     "output_type": "execute_result"
    }
   ],
   "source": [
    "sungdong_gu_giga_df = pd.DataFrame(temp_result_list)\n",
    "sungdong_gu_giga_df.head()"
   ],
   "metadata": {
    "collapsed": false,
    "ExecuteTime": {
     "end_time": "2023-08-17T01:52:51.667454600Z",
     "start_time": "2023-08-17T01:52:51.666947600Z"
    }
   }
  },
  {
   "cell_type": "code",
   "execution_count": 26,
   "outputs": [
    {
     "name": "stdout",
     "output_type": "stream",
     "text": [
      "<class 'pandas.core.frame.DataFrame'>\n",
      "RangeIndex: 25671 entries, 0 to 25670\n",
      "Data columns (total 11 columns):\n",
      " #   Column      Non-Null Count  Dtype \n",
      "---  ------      --------------  ----- \n",
      " 0   SIGUNGU_NM  25671 non-null  object\n",
      " 1   SIGUNGU_CD  25671 non-null  object\n",
      " 2   BJDONG_NM   25671 non-null  object\n",
      " 3   BJDONG_CD   25671 non-null  object\n",
      " 4   BONBEON     25671 non-null  object\n",
      " 5   BUBEON      25671 non-null  object\n",
      " 6   PILGI_NM    25671 non-null  object\n",
      " 7   PILGI_CD    25671 non-null  object\n",
      " 8   BASE_MON    25671 non-null  object\n",
      " 9   JIGA        25671 non-null  object\n",
      " 10  YEAR        25671 non-null  object\n",
      "dtypes: object(11)\n",
      "memory usage: 2.2+ MB\n"
     ]
    }
   ],
   "source": [
    "sungdong_gu_giga_df.info()"
   ],
   "metadata": {
    "collapsed": false,
    "ExecuteTime": {
     "end_time": "2023-08-17T01:52:53.970070500Z",
     "start_time": "2023-08-17T01:52:53.937981700Z"
    }
   }
  },
  {
   "cell_type": "code",
   "execution_count": 27,
   "outputs": [],
   "source": [
    "sungdong_gu_giga_df[\"JIGA\"] = sungdong_gu_giga_df[\"JIGA\"].astype(int)"
   ],
   "metadata": {
    "collapsed": false,
    "ExecuteTime": {
     "end_time": "2023-08-17T01:52:57.958586400Z",
     "start_time": "2023-08-17T01:52:57.958586400Z"
    }
   }
  },
  {
   "cell_type": "code",
   "execution_count": 28,
   "outputs": [
    {
     "data": {
      "text/plain": "   BJDONG_NM          JIGA\n0      금호동1가  2.765562e+06\n1      금호동2가  3.496425e+06\n2      금호동3가  3.808270e+06\n3      금호동4가  3.783610e+06\n4        도선동  5.473955e+06\n5        마장동  3.356850e+06\n6        사근동  2.296565e+06\n7      성수동1가  4.912384e+06\n8      성수동2가  5.512291e+06\n9        송정동  2.768494e+06\n10       옥수동  2.860291e+06\n11       용답동  3.540490e+06\n12       응봉동  2.058748e+06\n13     하왕십리동  3.308334e+06\n14       행당동  3.759154e+06\n15       홍익동  4.377335e+06",
      "text/html": "<div>\n<style scoped>\n    .dataframe tbody tr th:only-of-type {\n        vertical-align: middle;\n    }\n\n    .dataframe tbody tr th {\n        vertical-align: top;\n    }\n\n    .dataframe thead th {\n        text-align: right;\n    }\n</style>\n<table border=\"1\" class=\"dataframe\">\n  <thead>\n    <tr style=\"text-align: right;\">\n      <th></th>\n      <th>BJDONG_NM</th>\n      <th>JIGA</th>\n    </tr>\n  </thead>\n  <tbody>\n    <tr>\n      <th>0</th>\n      <td>금호동1가</td>\n      <td>2.765562e+06</td>\n    </tr>\n    <tr>\n      <th>1</th>\n      <td>금호동2가</td>\n      <td>3.496425e+06</td>\n    </tr>\n    <tr>\n      <th>2</th>\n      <td>금호동3가</td>\n      <td>3.808270e+06</td>\n    </tr>\n    <tr>\n      <th>3</th>\n      <td>금호동4가</td>\n      <td>3.783610e+06</td>\n    </tr>\n    <tr>\n      <th>4</th>\n      <td>도선동</td>\n      <td>5.473955e+06</td>\n    </tr>\n    <tr>\n      <th>5</th>\n      <td>마장동</td>\n      <td>3.356850e+06</td>\n    </tr>\n    <tr>\n      <th>6</th>\n      <td>사근동</td>\n      <td>2.296565e+06</td>\n    </tr>\n    <tr>\n      <th>7</th>\n      <td>성수동1가</td>\n      <td>4.912384e+06</td>\n    </tr>\n    <tr>\n      <th>8</th>\n      <td>성수동2가</td>\n      <td>5.512291e+06</td>\n    </tr>\n    <tr>\n      <th>9</th>\n      <td>송정동</td>\n      <td>2.768494e+06</td>\n    </tr>\n    <tr>\n      <th>10</th>\n      <td>옥수동</td>\n      <td>2.860291e+06</td>\n    </tr>\n    <tr>\n      <th>11</th>\n      <td>용답동</td>\n      <td>3.540490e+06</td>\n    </tr>\n    <tr>\n      <th>12</th>\n      <td>응봉동</td>\n      <td>2.058748e+06</td>\n    </tr>\n    <tr>\n      <th>13</th>\n      <td>하왕십리동</td>\n      <td>3.308334e+06</td>\n    </tr>\n    <tr>\n      <th>14</th>\n      <td>행당동</td>\n      <td>3.759154e+06</td>\n    </tr>\n    <tr>\n      <th>15</th>\n      <td>홍익동</td>\n      <td>4.377335e+06</td>\n    </tr>\n  </tbody>\n</table>\n</div>"
     },
     "execution_count": 28,
     "metadata": {},
     "output_type": "execute_result"
    }
   ],
   "source": [
    "sungdong_gu_dong_giga_df = sungdong_gu_giga_df.groupby([\"BJDONG_NM\"])[\"JIGA\"].mean().to_frame().reset_index()\n",
    "sungdong_gu_dong_giga_df # to_frame은 Series를 DataFrame으로 변환, reset_index()는 인덱스를 초기화"
   ],
   "metadata": {
    "collapsed": false,
    "ExecuteTime": {
     "end_time": "2023-08-17T01:52:59.027627100Z",
     "start_time": "2023-08-17T01:52:59.003048800Z"
    }
   }
  },
  {
   "cell_type": "code",
   "execution_count": 30,
   "outputs": [],
   "source": [
    "# 성동구 정보를 SGIS에서 가져와서 GeoPandas를 이용해 GeoDataFrame을 생성\n",
    "accessToken = get_access_token(consumer_key , consumer_secret )\n",
    "params={\n",
    "    \"accessToken\": accessToken,\n",
    "    \"year\": 2020,\n",
    "    \"adm_cd\": 11040, # 성동구 코드\n",
    "    \"low_search\": 1\n",
    "}\n",
    "\n",
    "temp_res = requests.get(\n",
    "    url=\"https://sgisapi.kostat.go.kr/OpenAPI3/boundary/hadmarea.geojson\",\n",
    "    params=params\n",
    ")"
   ],
   "metadata": {
    "collapsed": false,
    "ExecuteTime": {
     "end_time": "2023-08-17T01:53:15.536300400Z",
     "start_time": "2023-08-17T01:53:14.914870900Z"
    }
   }
  },
  {
   "cell_type": "code",
   "execution_count": 31,
   "outputs": [
    {
     "data": {
      "text/plain": "                                            geometry   adm_cd  \\\n0  POLYGON ((958262.940 1951830.159, 958806.169 1...  1104052   \n1  POLYGON ((959182.984 1952644.101, 959214.539 1...  1104054   \n2  POLYGON ((960102.858 1951876.095, 960114.175 1...  1104055   \n3  POLYGON ((959261.179 1951611.886, 959269.656 1...  1104056   \n4  POLYGON ((958545.562 1951320.264, 958584.077 1...  1104057   \n\n            adm_nm        y       x  \n0  서울특별시 성동구 왕십리2동  1951605  958298  \n1    서울특별시 성동구 마장동  1952095  959431  \n2    서울특별시 성동구 사근동  1951065  959858  \n3   서울특별시 성동구 행당1동  1951176  959027  \n4   서울특별시 성동구 행당2동  1950913  958455  ",
      "text/html": "<div>\n<style scoped>\n    .dataframe tbody tr th:only-of-type {\n        vertical-align: middle;\n    }\n\n    .dataframe tbody tr th {\n        vertical-align: top;\n    }\n\n    .dataframe thead th {\n        text-align: right;\n    }\n</style>\n<table border=\"1\" class=\"dataframe\">\n  <thead>\n    <tr style=\"text-align: right;\">\n      <th></th>\n      <th>geometry</th>\n      <th>adm_cd</th>\n      <th>adm_nm</th>\n      <th>y</th>\n      <th>x</th>\n    </tr>\n  </thead>\n  <tbody>\n    <tr>\n      <th>0</th>\n      <td>POLYGON ((958262.940 1951830.159, 958806.169 1...</td>\n      <td>1104052</td>\n      <td>서울특별시 성동구 왕십리2동</td>\n      <td>1951605</td>\n      <td>958298</td>\n    </tr>\n    <tr>\n      <th>1</th>\n      <td>POLYGON ((959182.984 1952644.101, 959214.539 1...</td>\n      <td>1104054</td>\n      <td>서울특별시 성동구 마장동</td>\n      <td>1952095</td>\n      <td>959431</td>\n    </tr>\n    <tr>\n      <th>2</th>\n      <td>POLYGON ((960102.858 1951876.095, 960114.175 1...</td>\n      <td>1104055</td>\n      <td>서울특별시 성동구 사근동</td>\n      <td>1951065</td>\n      <td>959858</td>\n    </tr>\n    <tr>\n      <th>3</th>\n      <td>POLYGON ((959261.179 1951611.886, 959269.656 1...</td>\n      <td>1104056</td>\n      <td>서울특별시 성동구 행당1동</td>\n      <td>1951176</td>\n      <td>959027</td>\n    </tr>\n    <tr>\n      <th>4</th>\n      <td>POLYGON ((958545.562 1951320.264, 958584.077 1...</td>\n      <td>1104057</td>\n      <td>서울특별시 성동구 행당2동</td>\n      <td>1950913</td>\n      <td>958455</td>\n    </tr>\n  </tbody>\n</table>\n</div>"
     },
     "execution_count": 31,
     "metadata": {},
     "output_type": "execute_result"
    }
   ],
   "source": [
    "sungdong_gu_dong_gpd = gpd.GeoDataFrame().from_features(temp_res.json())\n",
    "sungdong_gu_dong_gpd.head()"
   ],
   "metadata": {
    "collapsed": false,
    "ExecuteTime": {
     "end_time": "2023-08-17T01:53:17.000098600Z",
     "start_time": "2023-08-17T01:53:16.985337700Z"
    }
   }
  },
  {
   "cell_type": "code",
   "execution_count": 32,
   "outputs": [
    {
     "name": "stdout",
     "output_type": "stream",
     "text": [
      "<class 'geopandas.geodataframe.GeoDataFrame'>\n",
      "RangeIndex: 17 entries, 0 to 16\n",
      "Data columns (total 5 columns):\n",
      " #   Column    Non-Null Count  Dtype   \n",
      "---  ------    --------------  -----   \n",
      " 0   geometry  17 non-null     geometry\n",
      " 1   adm_cd    17 non-null     object  \n",
      " 2   adm_nm    17 non-null     object  \n",
      " 3   y         17 non-null     object  \n",
      " 4   x         17 non-null     object  \n",
      "dtypes: geometry(1), object(4)\n",
      "memory usage: 812.0+ bytes\n"
     ]
    }
   ],
   "source": [
    "sungdong_gu_dong_gpd.info()"
   ],
   "metadata": {
    "collapsed": false,
    "ExecuteTime": {
     "end_time": "2023-08-17T01:53:19.534825100Z",
     "start_time": "2023-08-17T01:53:19.533566700Z"
    }
   }
  },
  {
   "cell_type": "code",
   "execution_count": 34,
   "outputs": [
    {
     "data": {
      "text/plain": "      시도    시군구  행정구역명 행정동(행정기관명)    법정동     행정구역코드      행정기관코드  행정기관 생성일  \\\n0  서울특별시  서울특별시  서울특별시      서울특별시  서울특별시       11.0  1100000000  19880423   \n1  서울특별시    종로구    종로구        종로구    종로구    11010.0  1111000000  19880423   \n2  서울특별시    종로구  청운효자동      청운효자동    청운동  1101072.0  1111051500  20081101   \n3  서울특별시    종로구  청운효자동      청운효자동    신교동  1101072.0  1111051500  20081101   \n4  서울특별시    종로구  청운효자동      청운효자동    궁정동  1101072.0  1111051500  20081101   \n\n        법정동코드 법정동 관할지역            행정동 영문명칭   비고 연계표 정비결과  \n0  1100000000      NaN               Seoul  NaN      NaN  \n1  1111000000      NaN           Jongno-gu  NaN      NaN  \n2  1111010100      NaN  Cheongunhyoja-dong  NaN      NaN  \n3  1111010200      NaN  Cheongunhyoja-dong  NaN      NaN  \n4  1111010300      NaN  Cheongunhyoja-dong  NaN      NaN  ",
      "text/html": "<div>\n<style scoped>\n    .dataframe tbody tr th:only-of-type {\n        vertical-align: middle;\n    }\n\n    .dataframe tbody tr th {\n        vertical-align: top;\n    }\n\n    .dataframe thead th {\n        text-align: right;\n    }\n</style>\n<table border=\"1\" class=\"dataframe\">\n  <thead>\n    <tr style=\"text-align: right;\">\n      <th></th>\n      <th>시도</th>\n      <th>시군구</th>\n      <th>행정구역명</th>\n      <th>행정동(행정기관명)</th>\n      <th>법정동</th>\n      <th>행정구역코드</th>\n      <th>행정기관코드</th>\n      <th>행정기관 생성일</th>\n      <th>법정동코드</th>\n      <th>법정동 관할지역</th>\n      <th>행정동 영문명칭</th>\n      <th>비고</th>\n      <th>연계표 정비결과</th>\n    </tr>\n  </thead>\n  <tbody>\n    <tr>\n      <th>0</th>\n      <td>서울특별시</td>\n      <td>서울특별시</td>\n      <td>서울특별시</td>\n      <td>서울특별시</td>\n      <td>서울특별시</td>\n      <td>11.0</td>\n      <td>1100000000</td>\n      <td>19880423</td>\n      <td>1100000000</td>\n      <td>NaN</td>\n      <td>Seoul</td>\n      <td>NaN</td>\n      <td>NaN</td>\n    </tr>\n    <tr>\n      <th>1</th>\n      <td>서울특별시</td>\n      <td>종로구</td>\n      <td>종로구</td>\n      <td>종로구</td>\n      <td>종로구</td>\n      <td>11010.0</td>\n      <td>1111000000</td>\n      <td>19880423</td>\n      <td>1111000000</td>\n      <td>NaN</td>\n      <td>Jongno-gu</td>\n      <td>NaN</td>\n      <td>NaN</td>\n    </tr>\n    <tr>\n      <th>2</th>\n      <td>서울특별시</td>\n      <td>종로구</td>\n      <td>청운효자동</td>\n      <td>청운효자동</td>\n      <td>청운동</td>\n      <td>1101072.0</td>\n      <td>1111051500</td>\n      <td>20081101</td>\n      <td>1111010100</td>\n      <td>NaN</td>\n      <td>Cheongunhyoja-dong</td>\n      <td>NaN</td>\n      <td>NaN</td>\n    </tr>\n    <tr>\n      <th>3</th>\n      <td>서울특별시</td>\n      <td>종로구</td>\n      <td>청운효자동</td>\n      <td>청운효자동</td>\n      <td>신교동</td>\n      <td>1101072.0</td>\n      <td>1111051500</td>\n      <td>20081101</td>\n      <td>1111010200</td>\n      <td>NaN</td>\n      <td>Cheongunhyoja-dong</td>\n      <td>NaN</td>\n      <td>NaN</td>\n    </tr>\n    <tr>\n      <th>4</th>\n      <td>서울특별시</td>\n      <td>종로구</td>\n      <td>청운효자동</td>\n      <td>청운효자동</td>\n      <td>궁정동</td>\n      <td>1101072.0</td>\n      <td>1111051500</td>\n      <td>20081101</td>\n      <td>1111010300</td>\n      <td>NaN</td>\n      <td>Cheongunhyoja-dong</td>\n      <td>NaN</td>\n      <td>NaN</td>\n    </tr>\n  </tbody>\n</table>\n</div>"
     },
     "execution_count": 34,
     "metadata": {},
     "output_type": "execute_result"
    }
   ],
   "source": [
    "address_code_mappint_df = pd.read_csv(\"administration_zone_20201001.csv\")\n",
    "address_code_mappint_df.head()"
   ],
   "metadata": {
    "collapsed": false,
    "ExecuteTime": {
     "end_time": "2023-08-17T01:53:59.280132300Z",
     "start_time": "2023-08-17T01:53:59.213487400Z"
    }
   }
  },
  {
   "cell_type": "code",
   "execution_count": 35,
   "outputs": [
    {
     "name": "stdout",
     "output_type": "stream",
     "text": [
      "<class 'pandas.core.frame.DataFrame'>\n",
      "RangeIndex: 21687 entries, 0 to 21686\n",
      "Data columns (total 13 columns):\n",
      " #   Column      Non-Null Count  Dtype  \n",
      "---  ------      --------------  -----  \n",
      " 0   시도          21687 non-null  object \n",
      " 1   시군구         21687 non-null  object \n",
      " 2   행정구역명       21687 non-null  object \n",
      " 3   행정동(행정기관명)  21687 non-null  object \n",
      " 4   법정동         21687 non-null  object \n",
      " 5   행정구역코드      21608 non-null  float64\n",
      " 6   행정기관코드      21687 non-null  int64  \n",
      " 7   행정기관 생성일    21687 non-null  int64  \n",
      " 8   법정동코드       21687 non-null  int64  \n",
      " 9   법정동 관할지역    1704 non-null   object \n",
      " 10  행정동 영문명칭    21686 non-null  object \n",
      " 11  비고          673 non-null    object \n",
      " 12  연계표 정비결과    28 non-null     object \n",
      "dtypes: float64(1), int64(3), object(9)\n",
      "memory usage: 2.2+ MB\n"
     ]
    }
   ],
   "source": [
    "address_code_mappint_df.info()"
   ],
   "metadata": {
    "collapsed": false,
    "ExecuteTime": {
     "end_time": "2023-08-17T01:54:11.793279Z",
     "start_time": "2023-08-17T01:54:11.744110200Z"
    }
   }
  },
  {
   "cell_type": "code",
   "execution_count": 36,
   "outputs": [],
   "source": [
    "address_code_mappint_df['행정구역코드'] = address_code_mappint_df['행정구역코드'].fillna(0).astype(int).astype(str)\n",
    "# fillna(0) 은 결측치를 0으로 만듬"
   ],
   "metadata": {
    "collapsed": false,
    "ExecuteTime": {
     "end_time": "2023-08-17T01:55:12.331021500Z",
     "start_time": "2023-08-17T01:55:12.299220700Z"
    }
   }
  },
  {
   "cell_type": "code",
   "execution_count": 37,
   "outputs": [
    {
     "data": {
      "text/plain": "      시도    시군구  행정구역명 행정동(행정기관명)    법정동   행정구역코드      행정기관코드  행정기관 생성일  \\\n0  서울특별시  서울특별시  서울특별시      서울특별시  서울특별시       11  1100000000  19880423   \n1  서울특별시    종로구    종로구        종로구    종로구    11010  1111000000  19880423   \n2  서울특별시    종로구  청운효자동      청운효자동    청운동  1101072  1111051500  20081101   \n3  서울특별시    종로구  청운효자동      청운효자동    신교동  1101072  1111051500  20081101   \n4  서울특별시    종로구  청운효자동      청운효자동    궁정동  1101072  1111051500  20081101   \n\n        법정동코드 법정동 관할지역            행정동 영문명칭   비고 연계표 정비결과  \n0  1100000000      NaN               Seoul  NaN      NaN  \n1  1111000000      NaN           Jongno-gu  NaN      NaN  \n2  1111010100      NaN  Cheongunhyoja-dong  NaN      NaN  \n3  1111010200      NaN  Cheongunhyoja-dong  NaN      NaN  \n4  1111010300      NaN  Cheongunhyoja-dong  NaN      NaN  ",
      "text/html": "<div>\n<style scoped>\n    .dataframe tbody tr th:only-of-type {\n        vertical-align: middle;\n    }\n\n    .dataframe tbody tr th {\n        vertical-align: top;\n    }\n\n    .dataframe thead th {\n        text-align: right;\n    }\n</style>\n<table border=\"1\" class=\"dataframe\">\n  <thead>\n    <tr style=\"text-align: right;\">\n      <th></th>\n      <th>시도</th>\n      <th>시군구</th>\n      <th>행정구역명</th>\n      <th>행정동(행정기관명)</th>\n      <th>법정동</th>\n      <th>행정구역코드</th>\n      <th>행정기관코드</th>\n      <th>행정기관 생성일</th>\n      <th>법정동코드</th>\n      <th>법정동 관할지역</th>\n      <th>행정동 영문명칭</th>\n      <th>비고</th>\n      <th>연계표 정비결과</th>\n    </tr>\n  </thead>\n  <tbody>\n    <tr>\n      <th>0</th>\n      <td>서울특별시</td>\n      <td>서울특별시</td>\n      <td>서울특별시</td>\n      <td>서울특별시</td>\n      <td>서울특별시</td>\n      <td>11</td>\n      <td>1100000000</td>\n      <td>19880423</td>\n      <td>1100000000</td>\n      <td>NaN</td>\n      <td>Seoul</td>\n      <td>NaN</td>\n      <td>NaN</td>\n    </tr>\n    <tr>\n      <th>1</th>\n      <td>서울특별시</td>\n      <td>종로구</td>\n      <td>종로구</td>\n      <td>종로구</td>\n      <td>종로구</td>\n      <td>11010</td>\n      <td>1111000000</td>\n      <td>19880423</td>\n      <td>1111000000</td>\n      <td>NaN</td>\n      <td>Jongno-gu</td>\n      <td>NaN</td>\n      <td>NaN</td>\n    </tr>\n    <tr>\n      <th>2</th>\n      <td>서울특별시</td>\n      <td>종로구</td>\n      <td>청운효자동</td>\n      <td>청운효자동</td>\n      <td>청운동</td>\n      <td>1101072</td>\n      <td>1111051500</td>\n      <td>20081101</td>\n      <td>1111010100</td>\n      <td>NaN</td>\n      <td>Cheongunhyoja-dong</td>\n      <td>NaN</td>\n      <td>NaN</td>\n    </tr>\n    <tr>\n      <th>3</th>\n      <td>서울특별시</td>\n      <td>종로구</td>\n      <td>청운효자동</td>\n      <td>청운효자동</td>\n      <td>신교동</td>\n      <td>1101072</td>\n      <td>1111051500</td>\n      <td>20081101</td>\n      <td>1111010200</td>\n      <td>NaN</td>\n      <td>Cheongunhyoja-dong</td>\n      <td>NaN</td>\n      <td>NaN</td>\n    </tr>\n    <tr>\n      <th>4</th>\n      <td>서울특별시</td>\n      <td>종로구</td>\n      <td>청운효자동</td>\n      <td>청운효자동</td>\n      <td>궁정동</td>\n      <td>1101072</td>\n      <td>1111051500</td>\n      <td>20081101</td>\n      <td>1111010300</td>\n      <td>NaN</td>\n      <td>Cheongunhyoja-dong</td>\n      <td>NaN</td>\n      <td>NaN</td>\n    </tr>\n  </tbody>\n</table>\n</div>"
     },
     "execution_count": 37,
     "metadata": {},
     "output_type": "execute_result"
    }
   ],
   "source": [
    "address_code_mappint_df.head()"
   ],
   "metadata": {
    "collapsed": false,
    "ExecuteTime": {
     "end_time": "2023-08-17T01:55:21.140992500Z",
     "start_time": "2023-08-17T01:55:21.140992500Z"
    }
   }
  },
  {
   "cell_type": "code",
   "execution_count": 38,
   "outputs": [
    {
     "name": "stdout",
     "output_type": "stream",
     "text": [
      "<class 'pandas.core.frame.DataFrame'>\n",
      "RangeIndex: 21687 entries, 0 to 21686\n",
      "Data columns (total 13 columns):\n",
      " #   Column      Non-Null Count  Dtype \n",
      "---  ------      --------------  ----- \n",
      " 0   시도          21687 non-null  object\n",
      " 1   시군구         21687 non-null  object\n",
      " 2   행정구역명       21687 non-null  object\n",
      " 3   행정동(행정기관명)  21687 non-null  object\n",
      " 4   법정동         21687 non-null  object\n",
      " 5   행정구역코드      21687 non-null  object\n",
      " 6   행정기관코드      21687 non-null  int64 \n",
      " 7   행정기관 생성일    21687 non-null  int64 \n",
      " 8   법정동코드       21687 non-null  int64 \n",
      " 9   법정동 관할지역    1704 non-null   object\n",
      " 10  행정동 영문명칭    21686 non-null  object\n",
      " 11  비고          673 non-null    object\n",
      " 12  연계표 정비결과    28 non-null     object\n",
      "dtypes: int64(3), object(10)\n",
      "memory usage: 2.2+ MB\n"
     ]
    }
   ],
   "source": [
    "address_code_mappint_df.info()"
   ],
   "metadata": {
    "collapsed": false,
    "ExecuteTime": {
     "end_time": "2023-08-17T01:55:28.916893800Z",
     "start_time": "2023-08-17T01:55:28.900977300Z"
    }
   }
  },
  {
   "cell_type": "code",
   "execution_count": 39,
   "outputs": [
    {
     "data": {
      "text/plain": "      시도    시군구 행정동(행정기관명)    법정동   행정구역코드\n0  서울특별시  서울특별시      서울특별시  서울특별시       11\n1  서울특별시    종로구        종로구    종로구    11010\n2  서울특별시    종로구      청운효자동    청운동  1101072\n3  서울특별시    종로구      청운효자동    신교동  1101072\n4  서울특별시    종로구      청운효자동    궁정동  1101072",
      "text/html": "<div>\n<style scoped>\n    .dataframe tbody tr th:only-of-type {\n        vertical-align: middle;\n    }\n\n    .dataframe tbody tr th {\n        vertical-align: top;\n    }\n\n    .dataframe thead th {\n        text-align: right;\n    }\n</style>\n<table border=\"1\" class=\"dataframe\">\n  <thead>\n    <tr style=\"text-align: right;\">\n      <th></th>\n      <th>시도</th>\n      <th>시군구</th>\n      <th>행정동(행정기관명)</th>\n      <th>법정동</th>\n      <th>행정구역코드</th>\n    </tr>\n  </thead>\n  <tbody>\n    <tr>\n      <th>0</th>\n      <td>서울특별시</td>\n      <td>서울특별시</td>\n      <td>서울특별시</td>\n      <td>서울특별시</td>\n      <td>11</td>\n    </tr>\n    <tr>\n      <th>1</th>\n      <td>서울특별시</td>\n      <td>종로구</td>\n      <td>종로구</td>\n      <td>종로구</td>\n      <td>11010</td>\n    </tr>\n    <tr>\n      <th>2</th>\n      <td>서울특별시</td>\n      <td>종로구</td>\n      <td>청운효자동</td>\n      <td>청운동</td>\n      <td>1101072</td>\n    </tr>\n    <tr>\n      <th>3</th>\n      <td>서울특별시</td>\n      <td>종로구</td>\n      <td>청운효자동</td>\n      <td>신교동</td>\n      <td>1101072</td>\n    </tr>\n    <tr>\n      <th>4</th>\n      <td>서울특별시</td>\n      <td>종로구</td>\n      <td>청운효자동</td>\n      <td>궁정동</td>\n      <td>1101072</td>\n    </tr>\n  </tbody>\n</table>\n</div>"
     },
     "execution_count": 39,
     "metadata": {},
     "output_type": "execute_result"
    }
   ],
   "source": [
    "address_code_mappint_df = address_code_mappint_df[[\"시도\", \"시군구\", \"행정동(행정기관명)\", \"법정동\", \"행정구역코드\"]]\n",
    "address_code_mappint_df.head()"
   ],
   "metadata": {
    "collapsed": false,
    "ExecuteTime": {
     "end_time": "2023-08-17T01:57:07.194481Z",
     "start_time": "2023-08-17T01:57:07.163150100Z"
    }
   }
  },
  {
   "cell_type": "code",
   "execution_count": 40,
   "outputs": [
    {
     "data": {
      "text/plain": "   si_do si_gun_gu  hj_nm  bj_nm   adm_cd\n0  서울특별시     서울특별시  서울특별시  서울특별시       11\n1  서울특별시       종로구    종로구    종로구    11010\n2  서울특별시       종로구  청운효자동    청운동  1101072\n3  서울특별시       종로구  청운효자동    신교동  1101072\n4  서울특별시       종로구  청운효자동    궁정동  1101072",
      "text/html": "<div>\n<style scoped>\n    .dataframe tbody tr th:only-of-type {\n        vertical-align: middle;\n    }\n\n    .dataframe tbody tr th {\n        vertical-align: top;\n    }\n\n    .dataframe thead th {\n        text-align: right;\n    }\n</style>\n<table border=\"1\" class=\"dataframe\">\n  <thead>\n    <tr style=\"text-align: right;\">\n      <th></th>\n      <th>si_do</th>\n      <th>si_gun_gu</th>\n      <th>hj_nm</th>\n      <th>bj_nm</th>\n      <th>adm_cd</th>\n    </tr>\n  </thead>\n  <tbody>\n    <tr>\n      <th>0</th>\n      <td>서울특별시</td>\n      <td>서울특별시</td>\n      <td>서울특별시</td>\n      <td>서울특별시</td>\n      <td>11</td>\n    </tr>\n    <tr>\n      <th>1</th>\n      <td>서울특별시</td>\n      <td>종로구</td>\n      <td>종로구</td>\n      <td>종로구</td>\n      <td>11010</td>\n    </tr>\n    <tr>\n      <th>2</th>\n      <td>서울특별시</td>\n      <td>종로구</td>\n      <td>청운효자동</td>\n      <td>청운동</td>\n      <td>1101072</td>\n    </tr>\n    <tr>\n      <th>3</th>\n      <td>서울특별시</td>\n      <td>종로구</td>\n      <td>청운효자동</td>\n      <td>신교동</td>\n      <td>1101072</td>\n    </tr>\n    <tr>\n      <th>4</th>\n      <td>서울특별시</td>\n      <td>종로구</td>\n      <td>청운효자동</td>\n      <td>궁정동</td>\n      <td>1101072</td>\n    </tr>\n  </tbody>\n</table>\n</div>"
     },
     "execution_count": 40,
     "metadata": {},
     "output_type": "execute_result"
    }
   ],
   "source": [
    "# 칼럼명 한번에 변경하기\n",
    "address_code_mappint_df.rename(\n",
    "    columns={\n",
    "        \"시도\": \"si_do\",\n",
    "        \"시군구\": \"si_gun_gu\",\n",
    "        \"행정동(행정기관명)\": \"hj_nm\",\n",
    "        \"법정동\": \"bj_nm\",\n",
    "        \"행정구역코드\": \"adm_cd\"\n",
    "    },\n",
    "    inplace=True\n",
    ")\n",
    "\n",
    "address_code_mappint_df.head()"
   ],
   "metadata": {
    "collapsed": false,
    "ExecuteTime": {
     "end_time": "2023-08-17T01:57:55.429130Z",
     "start_time": "2023-08-17T01:57:55.397596Z"
    }
   }
  },
  {
   "cell_type": "code",
   "execution_count": 41,
   "outputs": [
    {
     "data": {
      "text/plain": "                                            geometry   adm_cd  \\\n0  POLYGON ((958262.940 1951830.159, 958806.169 1...  1104052   \n1  POLYGON ((959182.984 1952644.101, 959214.539 1...  1104054   \n2  POLYGON ((960102.858 1951876.095, 960114.175 1...  1104055   \n3  POLYGON ((960102.858 1951876.095, 960114.175 1...  1104055   \n4  POLYGON ((959261.179 1951611.886, 959269.656 1...  1104056   \n\n            adm_nm        y       x  si_do si_gun_gu   hj_nm  bj_nm  \n0  서울특별시 성동구 왕십리2동  1951605  958298  서울특별시       성동구  왕십리제2동  하왕십리동  \n1    서울특별시 성동구 마장동  1952095  959431  서울특별시       성동구     마장동    마장동  \n2    서울특별시 성동구 사근동  1951065  959858  서울특별시       성동구     사근동    사근동  \n3    서울특별시 성동구 사근동  1951065  959858  서울특별시       성동구     사근동    행당동  \n4   서울특별시 성동구 행당1동  1951176  959027  서울특별시       성동구   행당제1동    행당동  ",
      "text/html": "<div>\n<style scoped>\n    .dataframe tbody tr th:only-of-type {\n        vertical-align: middle;\n    }\n\n    .dataframe tbody tr th {\n        vertical-align: top;\n    }\n\n    .dataframe thead th {\n        text-align: right;\n    }\n</style>\n<table border=\"1\" class=\"dataframe\">\n  <thead>\n    <tr style=\"text-align: right;\">\n      <th></th>\n      <th>geometry</th>\n      <th>adm_cd</th>\n      <th>adm_nm</th>\n      <th>y</th>\n      <th>x</th>\n      <th>si_do</th>\n      <th>si_gun_gu</th>\n      <th>hj_nm</th>\n      <th>bj_nm</th>\n    </tr>\n  </thead>\n  <tbody>\n    <tr>\n      <th>0</th>\n      <td>POLYGON ((958262.940 1951830.159, 958806.169 1...</td>\n      <td>1104052</td>\n      <td>서울특별시 성동구 왕십리2동</td>\n      <td>1951605</td>\n      <td>958298</td>\n      <td>서울특별시</td>\n      <td>성동구</td>\n      <td>왕십리제2동</td>\n      <td>하왕십리동</td>\n    </tr>\n    <tr>\n      <th>1</th>\n      <td>POLYGON ((959182.984 1952644.101, 959214.539 1...</td>\n      <td>1104054</td>\n      <td>서울특별시 성동구 마장동</td>\n      <td>1952095</td>\n      <td>959431</td>\n      <td>서울특별시</td>\n      <td>성동구</td>\n      <td>마장동</td>\n      <td>마장동</td>\n    </tr>\n    <tr>\n      <th>2</th>\n      <td>POLYGON ((960102.858 1951876.095, 960114.175 1...</td>\n      <td>1104055</td>\n      <td>서울특별시 성동구 사근동</td>\n      <td>1951065</td>\n      <td>959858</td>\n      <td>서울특별시</td>\n      <td>성동구</td>\n      <td>사근동</td>\n      <td>사근동</td>\n    </tr>\n    <tr>\n      <th>3</th>\n      <td>POLYGON ((960102.858 1951876.095, 960114.175 1...</td>\n      <td>1104055</td>\n      <td>서울특별시 성동구 사근동</td>\n      <td>1951065</td>\n      <td>959858</td>\n      <td>서울특별시</td>\n      <td>성동구</td>\n      <td>사근동</td>\n      <td>행당동</td>\n    </tr>\n    <tr>\n      <th>4</th>\n      <td>POLYGON ((959261.179 1951611.886, 959269.656 1...</td>\n      <td>1104056</td>\n      <td>서울특별시 성동구 행당1동</td>\n      <td>1951176</td>\n      <td>959027</td>\n      <td>서울특별시</td>\n      <td>성동구</td>\n      <td>행당제1동</td>\n      <td>행당동</td>\n    </tr>\n  </tbody>\n</table>\n</div>"
     },
     "execution_count": 41,
     "metadata": {},
     "output_type": "execute_result"
    }
   ],
   "source": [
    "sungdong_gu_dong_gpd = pd.merge(sungdong_gu_dong_gpd, address_code_mappint_df, how=\"left\", on=\"adm_cd\")\n",
    "# how=\"left\"는 병합 방식을 지정, 여기서는 왼쪽 DataFrame의 모든 행을 유지하면서 오른쪽 DataFrame과 공통된 열(\"adm_cd\")을 기준으로 병합, 오른쪽 DataFrame에 매칭되는 값이 없는 경우에는 누락된 값(NaN)으로 채웁니다.\n",
    "sungdong_gu_dong_gpd.head()"
   ],
   "metadata": {
    "collapsed": false,
    "ExecuteTime": {
     "end_time": "2023-08-17T02:10:29.541444200Z",
     "start_time": "2023-08-17T02:10:29.225089300Z"
    }
   }
  },
  {
   "cell_type": "code",
   "execution_count": 42,
   "outputs": [
    {
     "name": "stdout",
     "output_type": "stream",
     "text": [
      "<class 'geopandas.geodataframe.GeoDataFrame'>\n",
      "RangeIndex: 23 entries, 0 to 22\n",
      "Data columns (total 9 columns):\n",
      " #   Column     Non-Null Count  Dtype   \n",
      "---  ------     --------------  -----   \n",
      " 0   geometry   23 non-null     geometry\n",
      " 1   adm_cd     23 non-null     object  \n",
      " 2   adm_nm     23 non-null     object  \n",
      " 3   y          23 non-null     object  \n",
      " 4   x          23 non-null     object  \n",
      " 5   si_do      23 non-null     object  \n",
      " 6   si_gun_gu  23 non-null     object  \n",
      " 7   hj_nm      23 non-null     object  \n",
      " 8   bj_nm      23 non-null     object  \n",
      "dtypes: geometry(1), object(8)\n",
      "memory usage: 1.7+ KB\n"
     ]
    }
   ],
   "source": [
    "sungdong_gu_dong_gpd.info()"
   ],
   "metadata": {
    "collapsed": false,
    "ExecuteTime": {
     "end_time": "2023-08-17T02:10:45.466414600Z",
     "start_time": "2023-08-17T02:10:45.403142800Z"
    }
   }
  },
  {
   "cell_type": "code",
   "execution_count": 44,
   "outputs": [
    {
     "data": {
      "text/plain": "    adm_cd           adm_nm  si_do si_gun_gu   hj_nm  bj_nm       x        y  \\\n0  1104052  서울특별시 성동구 왕십리2동  서울특별시       성동구  왕십리제2동  하왕십리동  958298  1951605   \n1  1104054    서울특별시 성동구 마장동  서울특별시       성동구     마장동    마장동  959431  1952095   \n2  1104055    서울특별시 성동구 사근동  서울특별시       성동구     사근동    사근동  959858  1951065   \n3  1104055    서울특별시 성동구 사근동  서울특별시       성동구     사근동    행당동  959858  1951065   \n4  1104056   서울특별시 성동구 행당1동  서울특별시       성동구   행당제1동    행당동  959027  1951176   \n\n                                            geometry  \n0  POLYGON ((958262.940 1951830.159, 958806.169 1...  \n1  POLYGON ((959182.984 1952644.101, 959214.539 1...  \n2  POLYGON ((960102.858 1951876.095, 960114.175 1...  \n3  POLYGON ((960102.858 1951876.095, 960114.175 1...  \n4  POLYGON ((959261.179 1951611.886, 959269.656 1...  ",
      "text/html": "<div>\n<style scoped>\n    .dataframe tbody tr th:only-of-type {\n        vertical-align: middle;\n    }\n\n    .dataframe tbody tr th {\n        vertical-align: top;\n    }\n\n    .dataframe thead th {\n        text-align: right;\n    }\n</style>\n<table border=\"1\" class=\"dataframe\">\n  <thead>\n    <tr style=\"text-align: right;\">\n      <th></th>\n      <th>adm_cd</th>\n      <th>adm_nm</th>\n      <th>si_do</th>\n      <th>si_gun_gu</th>\n      <th>hj_nm</th>\n      <th>bj_nm</th>\n      <th>x</th>\n      <th>y</th>\n      <th>geometry</th>\n    </tr>\n  </thead>\n  <tbody>\n    <tr>\n      <th>0</th>\n      <td>1104052</td>\n      <td>서울특별시 성동구 왕십리2동</td>\n      <td>서울특별시</td>\n      <td>성동구</td>\n      <td>왕십리제2동</td>\n      <td>하왕십리동</td>\n      <td>958298</td>\n      <td>1951605</td>\n      <td>POLYGON ((958262.940 1951830.159, 958806.169 1...</td>\n    </tr>\n    <tr>\n      <th>1</th>\n      <td>1104054</td>\n      <td>서울특별시 성동구 마장동</td>\n      <td>서울특별시</td>\n      <td>성동구</td>\n      <td>마장동</td>\n      <td>마장동</td>\n      <td>959431</td>\n      <td>1952095</td>\n      <td>POLYGON ((959182.984 1952644.101, 959214.539 1...</td>\n    </tr>\n    <tr>\n      <th>2</th>\n      <td>1104055</td>\n      <td>서울특별시 성동구 사근동</td>\n      <td>서울특별시</td>\n      <td>성동구</td>\n      <td>사근동</td>\n      <td>사근동</td>\n      <td>959858</td>\n      <td>1951065</td>\n      <td>POLYGON ((960102.858 1951876.095, 960114.175 1...</td>\n    </tr>\n    <tr>\n      <th>3</th>\n      <td>1104055</td>\n      <td>서울특별시 성동구 사근동</td>\n      <td>서울특별시</td>\n      <td>성동구</td>\n      <td>사근동</td>\n      <td>행당동</td>\n      <td>959858</td>\n      <td>1951065</td>\n      <td>POLYGON ((960102.858 1951876.095, 960114.175 1...</td>\n    </tr>\n    <tr>\n      <th>4</th>\n      <td>1104056</td>\n      <td>서울특별시 성동구 행당1동</td>\n      <td>서울특별시</td>\n      <td>성동구</td>\n      <td>행당제1동</td>\n      <td>행당동</td>\n      <td>959027</td>\n      <td>1951176</td>\n      <td>POLYGON ((959261.179 1951611.886, 959269.656 1...</td>\n    </tr>\n  </tbody>\n</table>\n</div>"
     },
     "execution_count": 44,
     "metadata": {},
     "output_type": "execute_result"
    }
   ],
   "source": [
    "sungdong_gu_dong_gpd = sungdong_gu_dong_gpd[[\"adm_cd\", \"adm_nm\", \"si_do\", \"si_gun_gu\", \"hj_nm\", \"bj_nm\", \"x\", \"y\", \"geometry\"]]\n",
    "sungdong_gu_dong_gpd.head()"
   ],
   "metadata": {
    "collapsed": false,
    "ExecuteTime": {
     "end_time": "2023-08-17T02:11:27.314996600Z",
     "start_time": "2023-08-17T02:11:27.303616500Z"
    }
   }
  },
  {
   "cell_type": "code",
   "execution_count": 45,
   "outputs": [
    {
     "name": "stderr",
     "output_type": "stream",
     "text": [
      "C:\\Users\\김영준\\PycharmProjects\\aiffel_study\\venv\\Lib\\site-packages\\pyproj\\crs\\crs.py:141: FutureWarning: '+init=<authority>:<code>' syntax is deprecated. '<authority>:<code>' is the preferred initialization method. When making the change, be mindful of axis order changes: https://pyproj4.github.io/pyproj/stable/gotchas.html#axis-order-changes-in-proj-6\n",
      "  in_crs_string = _prepare_from_proj_string(in_crs_string)\n",
      "C:\\Users\\김영준\\PycharmProjects\\aiffel_study\\venv\\Lib\\site-packages\\pyproj\\crs\\crs.py:141: FutureWarning: '+init=<authority>:<code>' syntax is deprecated. '<authority>:<code>' is the preferred initialization method. When making the change, be mindful of axis order changes: https://pyproj4.github.io/pyproj/stable/gotchas.html#axis-order-changes-in-proj-6\n",
      "  in_crs_string = _prepare_from_proj_string(in_crs_string)\n"
     ]
    },
    {
     "data": {
      "text/plain": "    adm_cd           adm_nm  si_do si_gun_gu   hj_nm  bj_nm       x        y  \\\n0  1104052  서울특별시 성동구 왕십리2동  서울특별시       성동구  왕십리제2동  하왕십리동  958298  1951605   \n1  1104054    서울특별시 성동구 마장동  서울특별시       성동구     마장동    마장동  959431  1952095   \n2  1104055    서울특별시 성동구 사근동  서울특별시       성동구     사근동    사근동  959858  1951065   \n3  1104055    서울특별시 성동구 사근동  서울특별시       성동구     사근동    행당동  959858  1951065   \n4  1104056   서울특별시 성동구 행당1동  서울특별시       성동구   행당제1동    행당동  959027  1951176   \n\n                                            geometry  \n0  POLYGON ((127.02740 37.56489, 127.03357 37.562...  \n1  POLYGON ((127.03777 37.57227, 127.03813 37.572...  \n2  POLYGON ((127.04823 37.56538, 127.04836 37.565...  \n3  POLYGON ((127.04823 37.56538, 127.04836 37.565...  \n4  POLYGON ((127.03872 37.56297, 127.03881 37.562...  ",
      "text/html": "<div>\n<style scoped>\n    .dataframe tbody tr th:only-of-type {\n        vertical-align: middle;\n    }\n\n    .dataframe tbody tr th {\n        vertical-align: top;\n    }\n\n    .dataframe thead th {\n        text-align: right;\n    }\n</style>\n<table border=\"1\" class=\"dataframe\">\n  <thead>\n    <tr style=\"text-align: right;\">\n      <th></th>\n      <th>adm_cd</th>\n      <th>adm_nm</th>\n      <th>si_do</th>\n      <th>si_gun_gu</th>\n      <th>hj_nm</th>\n      <th>bj_nm</th>\n      <th>x</th>\n      <th>y</th>\n      <th>geometry</th>\n    </tr>\n  </thead>\n  <tbody>\n    <tr>\n      <th>0</th>\n      <td>1104052</td>\n      <td>서울특별시 성동구 왕십리2동</td>\n      <td>서울특별시</td>\n      <td>성동구</td>\n      <td>왕십리제2동</td>\n      <td>하왕십리동</td>\n      <td>958298</td>\n      <td>1951605</td>\n      <td>POLYGON ((127.02740 37.56489, 127.03357 37.562...</td>\n    </tr>\n    <tr>\n      <th>1</th>\n      <td>1104054</td>\n      <td>서울특별시 성동구 마장동</td>\n      <td>서울특별시</td>\n      <td>성동구</td>\n      <td>마장동</td>\n      <td>마장동</td>\n      <td>959431</td>\n      <td>1952095</td>\n      <td>POLYGON ((127.03777 37.57227, 127.03813 37.572...</td>\n    </tr>\n    <tr>\n      <th>2</th>\n      <td>1104055</td>\n      <td>서울특별시 성동구 사근동</td>\n      <td>서울특별시</td>\n      <td>성동구</td>\n      <td>사근동</td>\n      <td>사근동</td>\n      <td>959858</td>\n      <td>1951065</td>\n      <td>POLYGON ((127.04823 37.56538, 127.04836 37.565...</td>\n    </tr>\n    <tr>\n      <th>3</th>\n      <td>1104055</td>\n      <td>서울특별시 성동구 사근동</td>\n      <td>서울특별시</td>\n      <td>성동구</td>\n      <td>사근동</td>\n      <td>행당동</td>\n      <td>959858</td>\n      <td>1951065</td>\n      <td>POLYGON ((127.04823 37.56538, 127.04836 37.565...</td>\n    </tr>\n    <tr>\n      <th>4</th>\n      <td>1104056</td>\n      <td>서울특별시 성동구 행당1동</td>\n      <td>서울특별시</td>\n      <td>성동구</td>\n      <td>행당제1동</td>\n      <td>행당동</td>\n      <td>959027</td>\n      <td>1951176</td>\n      <td>POLYGON ((127.03872 37.56297, 127.03881 37.562...</td>\n    </tr>\n  </tbody>\n</table>\n</div>"
     },
     "execution_count": 45,
     "metadata": {},
     "output_type": "execute_result"
    }
   ],
   "source": [
    "# 좌표계 정의: UTM-K(epsg:5179)\n",
    "sungdong_gu_dong_gpd.crs = {\"init\": \"epsg:5179\"}\n",
    "\n",
    "# 좌표계 변환: UTM-K(epsg:5179) -> WSG84(epsg:4326)\n",
    "sungdong_gu_dong_gpd = sungdong_gu_dong_gpd.to_crs({\"init\": \"epsg:4326\"})\n",
    "sungdong_gu_dong_gpd.head()"
   ],
   "metadata": {
    "collapsed": false,
    "ExecuteTime": {
     "end_time": "2023-08-17T02:11:56.206697100Z",
     "start_time": "2023-08-17T02:11:56.010935800Z"
    }
   }
  },
  {
   "cell_type": "code",
   "execution_count": 46,
   "outputs": [
    {
     "data": {
      "text/plain": "        adm_cd           adm_nm  si_do si_gun_gu   hj_nm  bj_nm       x  \\\nbj_nm                                                                     \n하왕십리동  1104052  서울특별시 성동구 왕십리2동  서울특별시       성동구  왕십리제2동  하왕십리동  958298   \n마장동    1104054    서울특별시 성동구 마장동  서울특별시       성동구     마장동    마장동  959431   \n사근동    1104055    서울특별시 성동구 사근동  서울특별시       성동구     사근동    사근동  959858   \n행당동    1104055    서울특별시 성동구 사근동  서울특별시       성동구     사근동    행당동  959858   \n행당동    1104056   서울특별시 성동구 행당1동  서울특별시       성동구   행당제1동    행당동  959027   \n\n             y                                           geometry  \nbj_nm                                                              \n하왕십리동  1951605  POLYGON ((127.02740 37.56489, 127.03357 37.562...  \n마장동    1952095  POLYGON ((127.03777 37.57227, 127.03813 37.572...  \n사근동    1951065  POLYGON ((127.04823 37.56538, 127.04836 37.565...  \n행당동    1951065  POLYGON ((127.04823 37.56538, 127.04836 37.565...  \n행당동    1951176  POLYGON ((127.03872 37.56297, 127.03881 37.562...  ",
      "text/html": "<div>\n<style scoped>\n    .dataframe tbody tr th:only-of-type {\n        vertical-align: middle;\n    }\n\n    .dataframe tbody tr th {\n        vertical-align: top;\n    }\n\n    .dataframe thead th {\n        text-align: right;\n    }\n</style>\n<table border=\"1\" class=\"dataframe\">\n  <thead>\n    <tr style=\"text-align: right;\">\n      <th></th>\n      <th>adm_cd</th>\n      <th>adm_nm</th>\n      <th>si_do</th>\n      <th>si_gun_gu</th>\n      <th>hj_nm</th>\n      <th>bj_nm</th>\n      <th>x</th>\n      <th>y</th>\n      <th>geometry</th>\n    </tr>\n    <tr>\n      <th>bj_nm</th>\n      <th></th>\n      <th></th>\n      <th></th>\n      <th></th>\n      <th></th>\n      <th></th>\n      <th></th>\n      <th></th>\n      <th></th>\n    </tr>\n  </thead>\n  <tbody>\n    <tr>\n      <th>하왕십리동</th>\n      <td>1104052</td>\n      <td>서울특별시 성동구 왕십리2동</td>\n      <td>서울특별시</td>\n      <td>성동구</td>\n      <td>왕십리제2동</td>\n      <td>하왕십리동</td>\n      <td>958298</td>\n      <td>1951605</td>\n      <td>POLYGON ((127.02740 37.56489, 127.03357 37.562...</td>\n    </tr>\n    <tr>\n      <th>마장동</th>\n      <td>1104054</td>\n      <td>서울특별시 성동구 마장동</td>\n      <td>서울특별시</td>\n      <td>성동구</td>\n      <td>마장동</td>\n      <td>마장동</td>\n      <td>959431</td>\n      <td>1952095</td>\n      <td>POLYGON ((127.03777 37.57227, 127.03813 37.572...</td>\n    </tr>\n    <tr>\n      <th>사근동</th>\n      <td>1104055</td>\n      <td>서울특별시 성동구 사근동</td>\n      <td>서울특별시</td>\n      <td>성동구</td>\n      <td>사근동</td>\n      <td>사근동</td>\n      <td>959858</td>\n      <td>1951065</td>\n      <td>POLYGON ((127.04823 37.56538, 127.04836 37.565...</td>\n    </tr>\n    <tr>\n      <th>행당동</th>\n      <td>1104055</td>\n      <td>서울특별시 성동구 사근동</td>\n      <td>서울특별시</td>\n      <td>성동구</td>\n      <td>사근동</td>\n      <td>행당동</td>\n      <td>959858</td>\n      <td>1951065</td>\n      <td>POLYGON ((127.04823 37.56538, 127.04836 37.565...</td>\n    </tr>\n    <tr>\n      <th>행당동</th>\n      <td>1104056</td>\n      <td>서울특별시 성동구 행당1동</td>\n      <td>서울특별시</td>\n      <td>성동구</td>\n      <td>행당제1동</td>\n      <td>행당동</td>\n      <td>959027</td>\n      <td>1951176</td>\n      <td>POLYGON ((127.03872 37.56297, 127.03881 37.562...</td>\n    </tr>\n  </tbody>\n</table>\n</div>"
     },
     "execution_count": 46,
     "metadata": {},
     "output_type": "execute_result"
    }
   ],
   "source": [
    "# 인덱스를 동이름으로 변경\n",
    "sungdong_gu_dong_gpd.set_index(\n",
    "    \"bj_nm\",\n",
    "    drop=False, # 해당 열을 인덱스로 지정하면서 기존의 열을 삭제할거면 True 유지할거면 False\n",
    "    inplace=True\n",
    ")\n",
    "\n",
    "sungdong_gu_dong_gpd.head()"
   ],
   "metadata": {
    "collapsed": false,
    "ExecuteTime": {
     "end_time": "2023-08-17T02:12:32.533038900Z",
     "start_time": "2023-08-17T02:12:32.485651600Z"
    }
   }
  },
  {
   "cell_type": "code",
   "execution_count": 49,
   "outputs": [
    {
     "data": {
      "text/plain": "        adm_cd           adm_nm  si_do si_gun_gu  hj_nm  bj_nm       x  \\\nbj_nm                                                                    \n금호동1가  1104059  서울특별시 성동구 금호1가동  서울특별시       성동구  금호1가동  금호동1가  958067   \n\n             y                                           geometry  \nbj_nm                                                              \n금호동1가  1950570  POLYGON ((127.02441 37.55790, 127.02462 37.557...  ",
      "text/html": "<div>\n<style scoped>\n    .dataframe tbody tr th:only-of-type {\n        vertical-align: middle;\n    }\n\n    .dataframe tbody tr th {\n        vertical-align: top;\n    }\n\n    .dataframe thead th {\n        text-align: right;\n    }\n</style>\n<table border=\"1\" class=\"dataframe\">\n  <thead>\n    <tr style=\"text-align: right;\">\n      <th></th>\n      <th>adm_cd</th>\n      <th>adm_nm</th>\n      <th>si_do</th>\n      <th>si_gun_gu</th>\n      <th>hj_nm</th>\n      <th>bj_nm</th>\n      <th>x</th>\n      <th>y</th>\n      <th>geometry</th>\n    </tr>\n    <tr>\n      <th>bj_nm</th>\n      <th></th>\n      <th></th>\n      <th></th>\n      <th></th>\n      <th></th>\n      <th></th>\n      <th></th>\n      <th></th>\n      <th></th>\n    </tr>\n  </thead>\n  <tbody>\n    <tr>\n      <th>금호동1가</th>\n      <td>1104059</td>\n      <td>서울특별시 성동구 금호1가동</td>\n      <td>서울특별시</td>\n      <td>성동구</td>\n      <td>금호1가동</td>\n      <td>금호동1가</td>\n      <td>958067</td>\n      <td>1950570</td>\n      <td>POLYGON ((127.02441 37.55790, 127.02462 37.557...</td>\n    </tr>\n  </tbody>\n</table>\n</div>"
     },
     "execution_count": 49,
     "metadata": {},
     "output_type": "execute_result"
    }
   ],
   "source": [
    "sungdong_gu_dong_gpd[sungdong_gu_dong_gpd[\"bj_nm\"] == \"금호동1가\"]"
   ],
   "metadata": {
    "collapsed": false,
    "ExecuteTime": {
     "end_time": "2023-08-17T02:14:42.912800700Z",
     "start_time": "2023-08-17T02:14:42.894502100Z"
    }
   }
  },
  {
   "cell_type": "code",
   "execution_count": 50,
   "outputs": [],
   "source": [
    "center = [37.541, 126.986]\n",
    "map = folium.Map(\n",
    "    location=center,\n",
    "    zoom_start=10,\n",
    "    )"
   ],
   "metadata": {
    "collapsed": false,
    "ExecuteTime": {
     "end_time": "2023-08-17T02:16:39.510178900Z",
     "start_time": "2023-08-17T02:16:39.431654600Z"
    }
   }
  },
  {
   "cell_type": "code",
   "execution_count": 53,
   "outputs": [
    {
     "data": {
      "text/plain": "<folium.features.Choropleth at 0x280404be610>"
     },
     "execution_count": 53,
     "metadata": {},
     "output_type": "execute_result"
    }
   ],
   "source": [
    "folium.Choropleth(\n",
    "    geo_data=sungdong_gu_dong_gpd,  # 지리정보 데이터\n",
    "    name=\"서울시 성동구 동별 평균 공시지가\",  # Choropleth 레이어 이름\n",
    "    data=sungdong_gu_dong_giga_df,  # 지도에 색상을 적용할 데이터\n",
    "    columns=[\"BJDONG_NM\", \"JIGA\"],  # BJDONG_NM은 지리정보와 연결되는 열, JIGA는 데이터 값을 나타내는 열\n",
    "    key_on=\"feature.properties.bj_nm\",  # 지리적 특성 정보를 지정\n",
    "    fill_color='YlOrRd',\n",
    "    fill_opacity=0.7,\n",
    "    line_opacity=0.2,\n",
    "    line_color='white',\n",
    "    line_weight=0,\n",
    "    highlight=False,  # 마우스 오버 효과 지정\n",
    "    smooth_factor=1.0,  # 스무딩 효과 지정\n",
    "    legend_name=\"평균 공시지가\",  # 범례 이름 지정\n",
    ").add_to(map)"
   ],
   "metadata": {
    "collapsed": false,
    "ExecuteTime": {
     "end_time": "2023-08-17T02:30:08.864272900Z",
     "start_time": "2023-08-17T02:30:08.779937100Z"
    }
   }
  },
  {
   "cell_type": "code",
   "execution_count": 52,
   "outputs": [
    {
     "data": {
      "text/plain": "<folium.folium.Map at 0x28044757c90>",
      "text/html": "<div style=\"width:100%;\"><div style=\"position:relative;width:100%;height:0;padding-bottom:60%;\"><span style=\"color:#565656\">Make this Notebook Trusted to load map: File -> Trust Notebook</span><iframe srcdoc=\"&lt;!DOCTYPE html&gt;\n&lt;html&gt;\n&lt;head&gt;\n    \n    &lt;meta http-equiv=&quot;content-type&quot; content=&quot;text/html; charset=UTF-8&quot; /&gt;\n    \n        &lt;script&gt;\n            L_NO_TOUCH = false;\n            L_DISABLE_3D = false;\n        &lt;/script&gt;\n    \n    &lt;style&gt;html, body {width: 100%;height: 100%;margin: 0;padding: 0;}&lt;/style&gt;\n    &lt;style&gt;#map {position:absolute;top:0;bottom:0;right:0;left:0;}&lt;/style&gt;\n    &lt;script src=&quot;https://cdn.jsdelivr.net/npm/leaflet@1.9.3/dist/leaflet.js&quot;&gt;&lt;/script&gt;\n    &lt;script src=&quot;https://code.jquery.com/jquery-1.12.4.min.js&quot;&gt;&lt;/script&gt;\n    &lt;script src=&quot;https://cdn.jsdelivr.net/npm/bootstrap@5.2.2/dist/js/bootstrap.bundle.min.js&quot;&gt;&lt;/script&gt;\n    &lt;script src=&quot;https://cdnjs.cloudflare.com/ajax/libs/Leaflet.awesome-markers/2.0.2/leaflet.awesome-markers.js&quot;&gt;&lt;/script&gt;\n    &lt;link rel=&quot;stylesheet&quot; href=&quot;https://cdn.jsdelivr.net/npm/leaflet@1.9.3/dist/leaflet.css&quot;/&gt;\n    &lt;link rel=&quot;stylesheet&quot; href=&quot;https://cdn.jsdelivr.net/npm/bootstrap@5.2.2/dist/css/bootstrap.min.css&quot;/&gt;\n    &lt;link rel=&quot;stylesheet&quot; href=&quot;https://netdna.bootstrapcdn.com/bootstrap/3.0.0/css/bootstrap.min.css&quot;/&gt;\n    &lt;link rel=&quot;stylesheet&quot; href=&quot;https://cdn.jsdelivr.net/npm/@fortawesome/fontawesome-free@6.2.0/css/all.min.css&quot;/&gt;\n    &lt;link rel=&quot;stylesheet&quot; href=&quot;https://cdnjs.cloudflare.com/ajax/libs/Leaflet.awesome-markers/2.0.2/leaflet.awesome-markers.css&quot;/&gt;\n    &lt;link rel=&quot;stylesheet&quot; href=&quot;https://cdn.jsdelivr.net/gh/python-visualization/folium/folium/templates/leaflet.awesome.rotate.min.css&quot;/&gt;\n    \n            &lt;meta name=&quot;viewport&quot; content=&quot;width=device-width,\n                initial-scale=1.0, maximum-scale=1.0, user-scalable=no&quot; /&gt;\n            &lt;style&gt;\n                #map_c3da1ff7ea7f2b5fa606fc4b8cc7269c {\n                    position: relative;\n                    width: 100.0%;\n                    height: 100.0%;\n                    left: 0.0%;\n                    top: 0.0%;\n                }\n                .leaflet-container { font-size: 1rem; }\n            &lt;/style&gt;\n        \n    &lt;script src=&quot;https://cdnjs.cloudflare.com/ajax/libs/d3/3.5.5/d3.min.js&quot;&gt;&lt;/script&gt;\n&lt;/head&gt;\n&lt;body&gt;\n    \n    \n            &lt;div class=&quot;folium-map&quot; id=&quot;map_c3da1ff7ea7f2b5fa606fc4b8cc7269c&quot; &gt;&lt;/div&gt;\n        \n&lt;/body&gt;\n&lt;script&gt;\n    \n    \n            var map_c3da1ff7ea7f2b5fa606fc4b8cc7269c = L.map(\n                &quot;map_c3da1ff7ea7f2b5fa606fc4b8cc7269c&quot;,\n                {\n                    center: [37.541, 126.986],\n                    crs: L.CRS.EPSG3857,\n                    zoom: 10,\n                    zoomControl: true,\n                    preferCanvas: false,\n                }\n            );\n\n            \n\n        \n    \n            var tile_layer_1c58384639831309a2c14902ef7fc8c8 = L.tileLayer(\n                &quot;https://{s}.tile.openstreetmap.org/{z}/{x}/{y}.png&quot;,\n                {&quot;attribution&quot;: &quot;Data by \\u0026copy; \\u003ca target=\\&quot;_blank\\&quot; href=\\&quot;http://openstreetmap.org\\&quot;\\u003eOpenStreetMap\\u003c/a\\u003e, under \\u003ca target=\\&quot;_blank\\&quot; href=\\&quot;http://www.openstreetmap.org/copyright\\&quot;\\u003eODbL\\u003c/a\\u003e.&quot;, &quot;detectRetina&quot;: false, &quot;maxNativeZoom&quot;: 18, &quot;maxZoom&quot;: 18, &quot;minZoom&quot;: 0, &quot;noWrap&quot;: false, &quot;opacity&quot;: 1, &quot;subdomains&quot;: &quot;abc&quot;, &quot;tms&quot;: false}\n            ).addTo(map_c3da1ff7ea7f2b5fa606fc4b8cc7269c);\n        \n    \n            var choropleth_cc39d08bc0a2c4f4d6f2db1522049aa3 = L.featureGroup(\n                {}\n            ).addTo(map_c3da1ff7ea7f2b5fa606fc4b8cc7269c);\n        \n    \n        function geo_json_cb305611c4839ce42953e4cb2d24c2c6_styler(feature) {\n            switch(feature.id) {\n                case &quot;2&quot;: case &quot;6&quot;: \n                    return {&quot;color&quot;: &quot;white&quot;, &quot;fillColor&quot;: &quot;#ffffb2&quot;, &quot;fillOpacity&quot;: 0.7, &quot;opacity&quot;: 0.2, &quot;weight&quot;: 0};\n                case &quot;7&quot;: case &quot;13&quot;: case &quot;14&quot;: case &quot;22&quot;: \n                    return {&quot;color&quot;: &quot;white&quot;, &quot;fillColor&quot;: &quot;#fed976&quot;, &quot;fillOpacity&quot;: 0.7, &quot;opacity&quot;: 0.2, &quot;weight&quot;: 0};\n                case &quot;9&quot;: case &quot;10&quot;: case &quot;18&quot;: \n                    return {&quot;color&quot;: &quot;white&quot;, &quot;fillColor&quot;: &quot;#f03b20&quot;, &quot;fillOpacity&quot;: 0.7, &quot;opacity&quot;: 0.2, &quot;weight&quot;: 0};\n                case &quot;11&quot;: case &quot;12&quot;: case &quot;19&quot;: \n                    return {&quot;color&quot;: &quot;white&quot;, &quot;fillColor&quot;: &quot;#bd0026&quot;, &quot;fillOpacity&quot;: 0.7, &quot;opacity&quot;: 0.2, &quot;weight&quot;: 0};\n                case &quot;16&quot;: \n                    return {&quot;color&quot;: &quot;white&quot;, &quot;fillColor&quot;: &quot;black&quot;, &quot;fillOpacity&quot;: 0.7, &quot;opacity&quot;: 0.2, &quot;weight&quot;: 0};\n                case &quot;21&quot;: \n                    return {&quot;color&quot;: &quot;white&quot;, &quot;fillColor&quot;: &quot;#fd8d3c&quot;, &quot;fillOpacity&quot;: 0.7, &quot;opacity&quot;: 0.2, &quot;weight&quot;: 0};\n                default:\n                    return {&quot;color&quot;: &quot;white&quot;, &quot;fillColor&quot;: &quot;#feb24c&quot;, &quot;fillOpacity&quot;: 0.7, &quot;opacity&quot;: 0.2, &quot;weight&quot;: 0};\n            }\n        }\n\n        function geo_json_cb305611c4839ce42953e4cb2d24c2c6_onEachFeature(feature, layer) {\n            layer.on({\n            });\n        };\n        var geo_json_cb305611c4839ce42953e4cb2d24c2c6 = L.geoJson(null, {\n                smoothFactor: 1.0,\n                onEachFeature: geo_json_cb305611c4839ce42953e4cb2d24c2c6_onEachFeature,\n            \n                style: geo_json_cb305611c4839ce42953e4cb2d24c2c6_styler,\n        });\n\n        function geo_json_cb305611c4839ce42953e4cb2d24c2c6_add (data) {\n            geo_json_cb305611c4839ce42953e4cb2d24c2c6\n                .addData(data)\n                .addTo(choropleth_cc39d08bc0a2c4f4d6f2db1522049aa3);\n        }\n            geo_json_cb305611c4839ce42953e4cb2d24c2c6_add({&quot;bbox&quot;: [127.00815255436369, 37.52831837294472, 127.07373576027406, 37.57299357973826], &quot;features&quot;: [{&quot;bbox&quot;: [127.02291590449371, 37.55786209104822, 127.0335655936225, 37.56495516467002], &quot;geometry&quot;: {&quot;coordinates&quot;: [[[127.02740041358987, 37.56488807095957], [127.0335655936225, 37.56262856895808], [127.03106526314386, 37.56033355959813], [127.03062935817199, 37.56030501589951], [127.03024795083822, 37.560440244530014], [127.0281146770151, 37.560290148049575], [127.0272285257349, 37.55990533207363], [127.02637160068304, 37.55908930927385], [127.02629314820923, 37.55892640908108], [127.02628564394665, 37.55891082618363], [127.02616989421023, 37.558670481009464], [127.02613649034708, 37.55862057261344], [127.02604387833478, 37.558518420466555], [127.02598461479998, 37.55846205730492], [127.02576616945419, 37.55825430770295], [127.02560088275709, 37.55810621892163], [127.02552514930775, 37.5580464994225], [127.02549073722778, 37.558027854612455], [127.02542327510083, 37.558001109018576], [127.02535196615493, 37.55797715652736], [127.02529107308652, 37.55796221249993], [127.0252151271109, 37.55794925397353], [127.02514744647819, 37.55794305090762], [127.02441348431752, 37.5578970644735], [127.02291590449371, 37.55786209104822], [127.02338927326372, 37.560729610191935], [127.02592920283055, 37.56260370930454], [127.02614891711174, 37.562885258832615], [127.02631630840844, 37.5631069350296], [127.02652602137135, 37.56339123068373], [127.02661925911676, 37.56358164318487], [127.02664746203733, 37.563674762858454], [127.02670201568827, 37.56385490884844], [127.026758522214, 37.564274826847544], [127.02676722647283, 37.56495516467002], [127.02740041358987, 37.56488807095957]]], &quot;type&quot;: &quot;Polygon&quot;}, &quot;id&quot;: &quot;0&quot;, &quot;properties&quot;: {&quot;adm_cd&quot;: &quot;1104052&quot;, &quot;adm_nm&quot;: &quot;\\uc11c\\uc6b8\\ud2b9\\ubcc4\\uc2dc \\uc131\\ub3d9\\uad6c \\uc655\\uc2ed\\ub9ac2\\ub3d9&quot;, &quot;bj_nm&quot;: &quot;\\ud558\\uc655\\uc2ed\\ub9ac\\ub3d9&quot;, &quot;hj_nm&quot;: &quot;\\uc655\\uc2ed\\ub9ac\\uc81c2\\ub3d9&quot;, &quot;si_do&quot;: &quot;\\uc11c\\uc6b8\\ud2b9\\ubcc4\\uc2dc&quot;, &quot;si_gun_gu&quot;: &quot;\\uc131\\ub3d9\\uad6c&quot;, &quot;x&quot;: &quot;958298&quot;, &quot;y&quot;: &quot;1951605&quot;}, &quot;type&quot;: &quot;Feature&quot;}, {&quot;bbox&quot;: [127.03216656134768, 37.56182657139346, 127.04836026800312, 37.57226558978411], &quot;geometry&quot;: {&quot;coordinates&quot;: [[[127.0377726714238, 37.57226558978411], [127.03813001067921, 37.57226514152979], [127.03841172335578, 37.5722653312122], [127.03868602823223, 37.57226524610822], [127.03876140302447, 37.57226522155096], [127.03877165849768, 37.57226409166978], [127.03893223214004, 37.57224508756116], [127.03943718661576, 37.57218532351862], [127.03987832257258, 37.57213157836756], [127.04033156358851, 37.57207635542252], [127.04040814650301, 37.57206619435092], [127.04042914797188, 37.57206112400452], [127.04048755694966, 37.572047021740765], [127.0409911177696, 37.57192312551122], [127.04125049288305, 37.5718593069607], [127.04125418790957, 37.57185839653621], [127.0414458756728, 37.5718107704195], [127.0419985403795, 37.57167345114707], [127.04200684982078, 37.57167090733114], [127.04263532794806, 37.571410827999465], [127.04321600167899, 37.571154958918186], [127.04414361528946, 37.570723838575724], [127.0452646271971, 37.57012111094037], [127.04530420526388, 37.57009975901065], [127.04556393360272, 37.569950441182876], [127.04557065464135, 37.56994536542128], [127.04562527889891, 37.56990142221118], [127.0458285981066, 37.569720566605135], [127.04593180463614, 37.56962875924467], [127.04594258542599, 37.569618617272404], [127.04608433300845, 37.5694575126923], [127.04612533805961, 37.56940879020664], [127.04613594843079, 37.56939611837646], [127.04619691492432, 37.56932316863823], [127.04633863350085, 37.56909646346659], [127.04836026800312, 37.56522764382839], [127.04823118279906, 37.56538366205412], [127.04734604702551, 37.56534881455938], [127.04724943498942, 37.56534500995636], [127.04702856110718, 37.565330033158844], [127.04697713389486, 37.56532279448985], [127.04690149177095, 37.565309405799134], [127.0468911618202, 37.56530169747304], [127.04576451023958, 37.56298449437127], [127.04573527759489, 37.56290938960247], [127.04576119455427, 37.56286407751899], [127.04586180923218, 37.56268733855004], [127.04586889387215, 37.5626688845266], [127.04572416910744, 37.562328077226745], [127.04570864507869, 37.562316963339256], [127.04546328080215, 37.56218931260528], [127.04540155464649, 37.56215781252949], [127.04090817179788, 37.56183241792466], [127.04072500620072, 37.56182835251672], [127.04063185593104, 37.56182657139346], [127.03936513861959, 37.56226424459903], [127.03916399829798, 37.562410169621316], [127.03881222725137, 37.562848859191014], [127.03871553122477, 37.562965419802126], [127.0379160884141, 37.56491708040382], [127.037819235233, 37.565759255354095], [127.03779648700218, 37.56590397882872], [127.03649381613482, 37.56604786299777], [127.03474460626195, 37.56624841875663], [127.03469377012131, 37.56629515884985], [127.03462615876009, 37.566360932376895], [127.0328859354166, 37.568061383504066], [127.03337412307847, 37.56831057383133], [127.0336093533021, 37.568430000041694], [127.03361384793651, 37.56843232164475], [127.03351895652474, 37.56898478878461], [127.03216656134768, 37.570086940929365], [127.03418882831365, 37.57138996574891], [127.03466322890088, 37.57159434524756], [127.03507702923424, 37.57177195121338], [127.03511969009693, 37.57179013896537], [127.03529910601367, 37.57186645583299], [127.0353499753952, 37.571887100439646], [127.03546862762138, 37.57193467544354], [127.03548534970724, 37.57194112999779], [127.03558965070334, 37.57197979356695], [127.03565815305203, 37.57200357379247], [127.03569133373817, 37.57201497475485], [127.03570141236135, 37.57201843771417], [127.03575957020453, 37.57203726755304], [127.03592387507102, 37.57208475482115], [127.03593219784226, 37.57208703820452], [127.03596822137442, 37.57209673680192], [127.03613785535605, 37.57214172635339], [127.03617671111152, 37.57215197862735], [127.03627400167596, 37.57217149916154], [127.03633040366236, 37.57218096853414], [127.03633481781559, 37.572181708752495], [127.03663684949946, 37.57222811706922], [127.03665257260508, 37.57223024016557], [127.03677716505483, 37.57224283332113], [127.03699999390993, 37.5722625258113], [127.0371180020948, 37.57226329413834], [127.03757713374283, 37.57226534317809], [127.0377726714238, 37.57226558978411]]], &quot;type&quot;: &quot;Polygon&quot;}, &quot;id&quot;: &quot;1&quot;, &quot;properties&quot;: {&quot;adm_cd&quot;: &quot;1104054&quot;, &quot;adm_nm&quot;: &quot;\\uc11c\\uc6b8\\ud2b9\\ubcc4\\uc2dc \\uc131\\ub3d9\\uad6c \\ub9c8\\uc7a5\\ub3d9&quot;, &quot;bj_nm&quot;: &quot;\\ub9c8\\uc7a5\\ub3d9&quot;, &quot;hj_nm&quot;: &quot;\\ub9c8\\uc7a5\\ub3d9&quot;, &quot;si_do&quot;: &quot;\\uc11c\\uc6b8\\ud2b9\\ubcc4\\uc2dc&quot;, &quot;si_gun_gu&quot;: &quot;\\uc131\\ub3d9\\uad6c&quot;, &quot;x&quot;: &quot;959431&quot;, &quot;y&quot;: &quot;1952095&quot;}, &quot;type&quot;: &quot;Feature&quot;}, {&quot;bbox&quot;: [127.03879291883472, 37.55189363334855, 127.05179711145487, 37.56538366205412], &quot;geometry&quot;: {&quot;coordinates&quot;: [[[127.04823118279906, 37.56538366205412], [127.04836026800312, 37.56522764382839], [127.04928530091412, 37.56355269475263], [127.05038570403686, 37.56286162537472], [127.05053299679297, 37.56278246903107], [127.05090081834128, 37.56267987101774], [127.05111225296604, 37.56255147380854], [127.05177795828432, 37.55915833918327], [127.05179711145487, 37.558017741954984], [127.05173222632317, 37.557159709003145], [127.05151209120466, 37.55585675272063], [127.0513868037596, 37.555544757232695], [127.04999678931286, 37.55356101455338], [127.04990477193412, 37.553440300973136], [127.04965748636262, 37.553159924732945], [127.04958223535468, 37.55308087400975], [127.04955903275854, 37.55305650128813], [127.04951522862137, 37.553010496849296], [127.04937295767252, 37.55287200573883], [127.04934917489443, 37.55284962274767], [127.0490858481803, 37.55261368558768], [127.04902604112864, 37.55256010257974], [127.0490122973527, 37.55255065439853], [127.04693622734102, 37.55314496595551], [127.04636478482638, 37.553489828111644], [127.04605587857512, 37.55362455201646], [127.0459075616887, 37.553689235913694], [127.04324708849504, 37.553222277481765], [127.04275857342034, 37.55312438739448], [127.04198523731571, 37.55291783255834], [127.04161740570409, 37.55281094525284], [127.04152728673117, 37.552766360651745], [127.04136335225323, 37.55268525496502], [127.04136020845105, 37.55268356984574], [127.04011083098669, 37.55189363334855], [127.03879291883472, 37.55355343057072], [127.03888899403712, 37.553684081665246], [127.03896266848173, 37.55378427870241], [127.0390152870055, 37.55385585671805], [127.0390308501615, 37.55388296521638], [127.0391431930441, 37.55407869224232], [127.03920407265142, 37.55418475925477], [127.03929969308408, 37.5543766568195], [127.03935160220936, 37.55448083376969], [127.03936855412798, 37.55454244413606], [127.03944886672288, 37.554834348004505], [127.03946086642107, 37.55487797331497], [127.03950485775701, 37.55509511262948], [127.03953179568666, 37.55522811643807], [127.03953377882634, 37.55533968975113], [127.039540897839, 37.55574046160493], [127.03953432740975, 37.556659950514124], [127.03940349671875, 37.56035865337852], [127.03934262744264, 37.5607219519257], [127.03881222725137, 37.562848859191014], [127.03916399829798, 37.562410169621316], [127.03936513861959, 37.56226424459903], [127.04063185593104, 37.56182657139346], [127.04072500620072, 37.56182835251672], [127.04090817179788, 37.56183241792466], [127.04540155464649, 37.56215781252949], [127.04546328080215, 37.56218931260528], [127.04570864507869, 37.562316963339256], [127.04572416910744, 37.562328077226745], [127.04586889387215, 37.5626688845266], [127.04586180923218, 37.56268733855004], [127.04576119455427, 37.56286407751899], [127.04573527759489, 37.56290938960247], [127.04576451023958, 37.56298449437127], [127.0468911618202, 37.56530169747304], [127.04690149177095, 37.565309405799134], [127.04697713389486, 37.56532279448985], [127.04702856110718, 37.565330033158844], [127.04724943498942, 37.56534500995636], [127.04734604702551, 37.56534881455938], [127.04823118279906, 37.56538366205412]]], &quot;type&quot;: &quot;Polygon&quot;}, &quot;id&quot;: &quot;2&quot;, &quot;properties&quot;: {&quot;adm_cd&quot;: &quot;1104055&quot;, &quot;adm_nm&quot;: &quot;\\uc11c\\uc6b8\\ud2b9\\ubcc4\\uc2dc \\uc131\\ub3d9\\uad6c \\uc0ac\\uadfc\\ub3d9&quot;, &quot;bj_nm&quot;: &quot;\\uc0ac\\uadfc\\ub3d9&quot;, &quot;hj_nm&quot;: &quot;\\uc0ac\\uadfc\\ub3d9&quot;, &quot;si_do&quot;: &quot;\\uc11c\\uc6b8\\ud2b9\\ubcc4\\uc2dc&quot;, &quot;si_gun_gu&quot;: &quot;\\uc131\\ub3d9\\uad6c&quot;, &quot;x&quot;: &quot;959858&quot;, &quot;y&quot;: &quot;1951065&quot;}, &quot;type&quot;: &quot;Feature&quot;}, {&quot;bbox&quot;: [127.03879291883472, 37.55189363334855, 127.05179711145487, 37.56538366205412], &quot;geometry&quot;: {&quot;coordinates&quot;: [[[127.04823118279906, 37.56538366205412], [127.04836026800312, 37.56522764382839], [127.04928530091412, 37.56355269475263], [127.05038570403686, 37.56286162537472], [127.05053299679297, 37.56278246903107], [127.05090081834128, 37.56267987101774], [127.05111225296604, 37.56255147380854], [127.05177795828432, 37.55915833918327], [127.05179711145487, 37.558017741954984], [127.05173222632317, 37.557159709003145], [127.05151209120466, 37.55585675272063], [127.0513868037596, 37.555544757232695], [127.04999678931286, 37.55356101455338], [127.04990477193412, 37.553440300973136], [127.04965748636262, 37.553159924732945], [127.04958223535468, 37.55308087400975], [127.04955903275854, 37.55305650128813], [127.04951522862137, 37.553010496849296], [127.04937295767252, 37.55287200573883], [127.04934917489443, 37.55284962274767], [127.0490858481803, 37.55261368558768], [127.04902604112864, 37.55256010257974], [127.0490122973527, 37.55255065439853], [127.04693622734102, 37.55314496595551], [127.04636478482638, 37.553489828111644], [127.04605587857512, 37.55362455201646], [127.0459075616887, 37.553689235913694], [127.04324708849504, 37.553222277481765], [127.04275857342034, 37.55312438739448], [127.04198523731571, 37.55291783255834], [127.04161740570409, 37.55281094525284], [127.04152728673117, 37.552766360651745], [127.04136335225323, 37.55268525496502], [127.04136020845105, 37.55268356984574], [127.04011083098669, 37.55189363334855], [127.03879291883472, 37.55355343057072], [127.03888899403712, 37.553684081665246], [127.03896266848173, 37.55378427870241], [127.0390152870055, 37.55385585671805], [127.0390308501615, 37.55388296521638], [127.0391431930441, 37.55407869224232], [127.03920407265142, 37.55418475925477], [127.03929969308408, 37.5543766568195], [127.03935160220936, 37.55448083376969], [127.03936855412798, 37.55454244413606], [127.03944886672288, 37.554834348004505], [127.03946086642107, 37.55487797331497], [127.03950485775701, 37.55509511262948], [127.03953179568666, 37.55522811643807], [127.03953377882634, 37.55533968975113], [127.039540897839, 37.55574046160493], [127.03953432740975, 37.556659950514124], [127.03940349671875, 37.56035865337852], [127.03934262744264, 37.5607219519257], [127.03881222725137, 37.562848859191014], [127.03916399829798, 37.562410169621316], [127.03936513861959, 37.56226424459903], [127.04063185593104, 37.56182657139346], [127.04072500620072, 37.56182835251672], [127.04090817179788, 37.56183241792466], [127.04540155464649, 37.56215781252949], [127.04546328080215, 37.56218931260528], [127.04570864507869, 37.562316963339256], [127.04572416910744, 37.562328077226745], [127.04586889387215, 37.5626688845266], [127.04586180923218, 37.56268733855004], [127.04576119455427, 37.56286407751899], [127.04573527759489, 37.56290938960247], [127.04576451023958, 37.56298449437127], [127.0468911618202, 37.56530169747304], [127.04690149177095, 37.565309405799134], [127.04697713389486, 37.56532279448985], [127.04702856110718, 37.565330033158844], [127.04724943498942, 37.56534500995636], [127.04734604702551, 37.56534881455938], [127.04823118279906, 37.56538366205412]]], &quot;type&quot;: &quot;Polygon&quot;}, &quot;id&quot;: &quot;3&quot;, &quot;properties&quot;: {&quot;adm_cd&quot;: &quot;1104055&quot;, &quot;adm_nm&quot;: &quot;\\uc11c\\uc6b8\\ud2b9\\ubcc4\\uc2dc \\uc131\\ub3d9\\uad6c \\uc0ac\\uadfc\\ub3d9&quot;, &quot;bj_nm&quot;: &quot;\\ud589\\ub2f9\\ub3d9&quot;, &quot;hj_nm&quot;: &quot;\\uc0ac\\uadfc\\ub3d9&quot;, &quot;si_do&quot;: &quot;\\uc11c\\uc6b8\\ud2b9\\ubcc4\\uc2dc&quot;, &quot;si_gun_gu&quot;: &quot;\\uc131\\ub3d9\\uad6c&quot;, &quot;x&quot;: &quot;959858&quot;, &quot;y&quot;: &quot;1951065&quot;}, &quot;type&quot;: &quot;Feature&quot;}, {&quot;bbox&quot;: [127.0306297753935, 37.55355343057072, 127.039540897839, 37.56604786299777], &quot;geometry&quot;: {&quot;coordinates&quot;: [[[127.03871553122477, 37.562965419802126], [127.03881222725137, 37.562848859191014], [127.03934262744264, 37.5607219519257], [127.03940349671875, 37.56035865337852], [127.03953432740975, 37.556659950514124], [127.039540897839, 37.55574046160493], [127.03953377882634, 37.55533968975113], [127.03953179568666, 37.55522811643807], [127.03950485775701, 37.55509511262948], [127.03946086642107, 37.55487797331497], [127.03944886672288, 37.554834348004505], [127.03936855412798, 37.55454244413606], [127.03935160220936, 37.55448083376969], [127.03929969308408, 37.5543766568195], [127.03920407265142, 37.55418475925477], [127.0391431930441, 37.55407869224232], [127.0390308501615, 37.55388296521638], [127.0390152870055, 37.55385585671805], [127.03896266848173, 37.55378427870241], [127.03888899403712, 37.553684081665246], [127.03879291883472, 37.55355343057072], [127.03610718632481, 37.55471972526636], [127.0342198699692, 37.55452972105999], [127.03428009820014, 37.55485837112956], [127.0339956822477, 37.55850934172278], [127.0339955278255, 37.55851123034286], [127.0339642642879, 37.55850478126855], [127.0339112063161, 37.55849383314101], [127.03346589406853, 37.558401939354894], [127.03076817036508, 37.55786176863451], [127.0306510784448, 37.55837884753533], [127.0306297753935, 37.55847293588364], [127.03106526314386, 37.56033355959813], [127.0335655936225, 37.56262856895808], [127.03423606440991, 37.56211687890867], [127.03474240719899, 37.56175535030898], [127.03546056272823, 37.561439781874085], [127.03556492294003, 37.56140782138058], [127.03556525112975, 37.56140857800257], [127.03601923396083, 37.56246454895569], [127.03602094560618, 37.56247045050779], [127.03602193297448, 37.56247482953831], [127.03608504557108, 37.56294571354152], [127.03609672920673, 37.563032891091964], [127.03610234372124, 37.563074791647175], [127.03629405593055, 37.56450966355802], [127.03634963972372, 37.56492901100432], [127.03639369331728, 37.565266737426555], [127.03639375165729, 37.5652671901328], [127.03649381613482, 37.56604786299777], [127.03779648700218, 37.56590397882872], [127.037819235233, 37.565759255354095], [127.0379160884141, 37.56491708040382], [127.03871553122477, 37.562965419802126]]], &quot;type&quot;: &quot;Polygon&quot;}, &quot;id&quot;: &quot;4&quot;, &quot;properties&quot;: {&quot;adm_cd&quot;: &quot;1104056&quot;, &quot;adm_nm&quot;: &quot;\\uc11c\\uc6b8\\ud2b9\\ubcc4\\uc2dc \\uc131\\ub3d9\\uad6c \\ud589\\ub2f91\\ub3d9&quot;, &quot;bj_nm&quot;: &quot;\\ud589\\ub2f9\\ub3d9&quot;, &quot;hj_nm&quot;: &quot;\\ud589\\ub2f9\\uc81c1\\ub3d9&quot;, &quot;si_do&quot;: &quot;\\uc11c\\uc6b8\\ud2b9\\ubcc4\\uc2dc&quot;, &quot;si_gun_gu&quot;: &quot;\\uc131\\ub3d9\\uad6c&quot;, &quot;x&quot;: &quot;959027&quot;, &quot;y&quot;: &quot;1951176&quot;}, &quot;type&quot;: &quot;Feature&quot;}, {&quot;bbox&quot;: [127.02441348431752, 37.55291574088278, 127.03428009820014, 37.560440244530014], &quot;geometry&quot;: {&quot;coordinates&quot;: [[[127.03062935817199, 37.56030501589951], [127.03106526314386, 37.56033355959813], [127.0306297753935, 37.55847293588364], [127.0306510784448, 37.55837884753533], [127.03076817036508, 37.55786176863451], [127.03346589406853, 37.558401939354894], [127.0339112063161, 37.55849383314101], [127.0339642642879, 37.55850478126855], [127.0339955278255, 37.55851123034286], [127.0339956822477, 37.55850934172278], [127.03428009820014, 37.55485837112956], [127.0342198699692, 37.55452972105999], [127.03194258550205, 37.552958469227434], [127.031720334311, 37.55293076198003], [127.03160742598932, 37.55292608138499], [127.03135796062345, 37.55291574088278], [127.0305009596019, 37.553309080176696], [127.02946360937588, 37.55384071171207], [127.02803251008415, 37.55420047403212], [127.02645267302731, 37.55477436019423], [127.02548767526771, 37.555150816060696], [127.02492480448662, 37.55569692681608], [127.02492086701969, 37.55645838231066], [127.02491475464149, 37.55721070909751], [127.02490264311369, 37.557280132804834], [127.02489630427833, 37.55731627305955], [127.02489467780717, 37.557321364549416], [127.0248939315882, 37.55732369784543], [127.02485447038663, 37.55744555477548], [127.02478606232104, 37.55757286913105], [127.02475379326245, 37.55760441988908], [127.02473774998694, 37.557619730535535], [127.02462425666761, 37.55772534086984], [127.02441348431752, 37.5578970644735], [127.02514744647819, 37.55794305090762], [127.0252151271109, 37.55794925397353], [127.02529107308652, 37.55796221249993], [127.02535196615493, 37.55797715652736], [127.02542327510083, 37.558001109018576], [127.02549073722778, 37.558027854612455], [127.02552514930775, 37.5580464994225], [127.02560088275709, 37.55810621892163], [127.02576616945419, 37.55825430770295], [127.02598461479998, 37.55846205730492], [127.02604387833478, 37.558518420466555], [127.02613649034708, 37.55862057261344], [127.02616989421023, 37.558670481009464], [127.02628564394665, 37.55891082618363], [127.02629314820923, 37.55892640908108], [127.02637160068304, 37.55908930927385], [127.0272285257349, 37.55990533207363], [127.0281146770151, 37.560290148049575], [127.03024795083822, 37.560440244530014], [127.03062935817199, 37.56030501589951]]], &quot;type&quot;: &quot;Polygon&quot;}, &quot;id&quot;: &quot;5&quot;, &quot;properties&quot;: {&quot;adm_cd&quot;: &quot;1104057&quot;, &quot;adm_nm&quot;: &quot;\\uc11c\\uc6b8\\ud2b9\\ubcc4\\uc2dc \\uc131\\ub3d9\\uad6c \\ud589\\ub2f92\\ub3d9&quot;, &quot;bj_nm&quot;: &quot;\\ud589\\ub2f9\\ub3d9&quot;, &quot;hj_nm&quot;: &quot;\\ud589\\ub2f9\\uc81c2\\ub3d9&quot;, &quot;si_do&quot;: &quot;\\uc11c\\uc6b8\\ud2b9\\ubcc4\\uc2dc&quot;, &quot;si_gun_gu&quot;: &quot;\\uc131\\ub3d9\\uad6c&quot;, &quot;x&quot;: &quot;958455&quot;, &quot;y&quot;: &quot;1950913&quot;}, &quot;type&quot;: &quot;Feature&quot;}, {&quot;bbox&quot;: [127.02882190493499, 37.54625108510332, 127.04011083098669, 37.55471972526636], &quot;geometry&quot;: {&quot;coordinates&quot;: [[[127.03610718632481, 37.55471972526636], [127.03879291883472, 37.55355343057072], [127.04011083098669, 37.55189363334855], [127.03967942985405, 37.5517078909622], [127.03861840057272, 37.551157922042705], [127.0385258690481, 37.55109908076607], [127.03792276383692, 37.550705950264984], [127.0376739805501, 37.550536748202205], [127.03729567219665, 37.550187404197466], [127.03722411886011, 37.55011859944306], [127.03718503652351, 37.55007833792747], [127.0371043307505, 37.54998659568918], [127.0368608723575, 37.54970984009419], [127.0367454530567, 37.549558093680545], [127.03655727044354, 37.5493087282437], [127.03645716701034, 37.54916505106338], [127.03632422448584, 37.54897424116619], [127.03604358575262, 37.548638324558276], [127.03574066632999, 37.54827751267121], [127.035609774414, 37.54815743006079], [127.0331148323085, 37.546511751620216], [127.03309744722361, 37.54650145794393], [127.03293528378241, 37.546409049991695], [127.03274703218624, 37.54635176161142], [127.03152657469457, 37.54625108510332], [127.0296059431461, 37.54868322599506], [127.02930276599865, 37.54894368370155], [127.02887855941226, 37.54936724850988], [127.02882190493499, 37.54944536879383], [127.02886624420427, 37.54985328273242], [127.02929662190307, 37.5507297099384], [127.02958125037956, 37.55163911217802], [127.02959133068417, 37.553411882116535], [127.02958719753828, 37.55349630597705], [127.02946360937588, 37.55384071171207], [127.0305009596019, 37.553309080176696], [127.03135796062345, 37.55291574088278], [127.03160742598932, 37.55292608138499], [127.031720334311, 37.55293076198003], [127.03194258550205, 37.552958469227434], [127.0342198699692, 37.55452972105999], [127.03610718632481, 37.55471972526636]]], &quot;type&quot;: &quot;Polygon&quot;}, &quot;id&quot;: &quot;6&quot;, &quot;properties&quot;: {&quot;adm_cd&quot;: &quot;1104058&quot;, &quot;adm_nm&quot;: &quot;\\uc11c\\uc6b8\\ud2b9\\ubcc4\\uc2dc \\uc131\\ub3d9\\uad6c \\uc751\\ubd09\\ub3d9&quot;, &quot;bj_nm&quot;: &quot;\\uc751\\ubd09\\ub3d9&quot;, &quot;hj_nm&quot;: &quot;\\uc751\\ubd09\\ub3d9&quot;, &quot;si_do&quot;: &quot;\\uc11c\\uc6b8\\ud2b9\\ubcc4\\uc2dc&quot;, &quot;si_gun_gu&quot;: &quot;\\uc131\\ub3d9\\uad6c&quot;, &quot;x&quot;: &quot;958829&quot;, &quot;y&quot;: &quot;1950271&quot;}, &quot;type&quot;: &quot;Feature&quot;}, {&quot;bbox&quot;: [127.01962807774646, 37.54817136038092, 127.02959133068417, 37.5578970644735], &quot;geometry&quot;: {&quot;coordinates&quot;: [[[127.02441348431752, 37.5578970644735], [127.02462425666761, 37.55772534086984], [127.02473774998694, 37.557619730535535], [127.02475379326245, 37.55760441988908], [127.02478606232104, 37.55757286913105], [127.02485447038663, 37.55744555477548], [127.0248939315882, 37.55732369784543], [127.02489467780717, 37.557321364549416], [127.02489630427833, 37.55731627305955], [127.02490264311369, 37.557280132804834], [127.02491475464149, 37.55721070909751], [127.02492086701969, 37.55645838231066], [127.02492480448662, 37.55569692681608], [127.02548767526771, 37.555150816060696], [127.02645267302731, 37.55477436019423], [127.02803251008415, 37.55420047403212], [127.02946360937588, 37.55384071171207], [127.02958719753828, 37.55349630597705], [127.02959133068417, 37.553411882116535], [127.02958125037956, 37.55163911217802], [127.02929662190307, 37.5507297099384], [127.02886624420427, 37.54985328273242], [127.02882190493499, 37.54944536879383], [127.02887855941226, 37.54936724850988], [127.02930276599865, 37.54894368370155], [127.02567086833632, 37.54817136038092], [127.02568800502618, 37.5481846646615], [127.02574444188821, 37.54822952085892], [127.02574876699511, 37.548234070224716], [127.0257806456992, 37.54827271660424], [127.02590041172536, 37.54846896292406], [127.02594270679421, 37.5486615144395], [127.02603333458104, 37.54920454123831], [127.02603787221581, 37.549240616201786], [127.02608881588249, 37.54971159004587], [127.02609527629521, 37.54988205695084], [127.0260952779837, 37.54989180326631], [127.0260667999112, 37.550080117295195], [127.02606537691427, 37.55008601002446], [127.02539289501067, 37.55188658021842], [127.02536946567483, 37.55194853682455], [127.02532345770157, 37.55203290758106], [127.02526754396034, 37.55211292552797], [127.02521990569397, 37.55216835542909], [127.02513224474801, 37.552266194242954], [127.02485765623007, 37.55245145643981], [127.02481184297683, 37.55247934193227], [127.02476683213176, 37.552506551919315], [127.0247216082722, 37.55253342753182], [127.02467499066563, 37.552556925563536], [127.02446564977527, 37.552662310405445], [127.02443545125638, 37.55267727197815], [127.02441783136231, 37.55268447490768], [127.02344875801677, 37.553062499572455], [127.02332995451529, 37.55310606540167], [127.02318418363795, 37.553152060413055], [127.02315563477345, 37.553161067687356], [127.02308574774108, 37.553180776473376], [127.02285813657275, 37.55323932709206], [127.02273238993638, 37.55326499498699], [127.01999644984392, 37.55566195836634], [127.01965185599958, 37.55725558827208], [127.01962807774646, 37.55729293359603], [127.02291590449371, 37.55786209104822], [127.02441348431752, 37.5578970644735]]], &quot;type&quot;: &quot;Polygon&quot;}, &quot;id&quot;: &quot;7&quot;, &quot;properties&quot;: {&quot;adm_cd&quot;: &quot;1104059&quot;, &quot;adm_nm&quot;: &quot;\\uc11c\\uc6b8\\ud2b9\\ubcc4\\uc2dc \\uc131\\ub3d9\\uad6c \\uae08\\ud6381\\uac00\\ub3d9&quot;, &quot;bj_nm&quot;: &quot;\\uae08\\ud638\\ub3d91\\uac00&quot;, &quot;hj_nm&quot;: &quot;\\uae08\\ud6381\\uac00\\ub3d9&quot;, &quot;si_do&quot;: &quot;\\uc11c\\uc6b8\\ud2b9\\ubcc4\\uc2dc&quot;, &quot;si_gun_gu&quot;: &quot;\\uc131\\ub3d9\\uad6c&quot;, &quot;x&quot;: &quot;958067&quot;, &quot;y&quot;: &quot;1950570&quot;}, &quot;type&quot;: &quot;Feature&quot;}, {&quot;bbox&quot;: [127.01486072921065, 37.541454029476206, 127.03152657469457, 37.54894368370155], &quot;geometry&quot;: {&quot;coordinates&quot;: [[[127.0296059431461, 37.54868322599506], [127.03152657469457, 37.54625108510332], [127.03116717363719, 37.54568741704007], [127.03148549386397, 37.54241911408438], [127.02916528642474, 37.542359763149534], [127.02757488192088, 37.54210746085884], [127.02665495428909, 37.5419533177551], [127.02615059102011, 37.54186880496797], [127.02366969085837, 37.5414542534224], [127.02366243865359, 37.541454029476206], [127.02293225041741, 37.54145416436968], [127.02041734811444, 37.541711233591386], [127.01969237210012, 37.54269019279358], [127.0199587272392, 37.542842807575326], [127.02019125679651, 37.54288317957717], [127.0198447679466, 37.544398495626076], [127.0187360948829, 37.545008363286094], [127.0173058602979, 37.545678996857], [127.01702431359962, 37.54580233844746], [127.0169829872234, 37.54579136040035], [127.01692462890014, 37.54577555893401], [127.01654875291935, 37.54566954496399], [127.01614241500896, 37.54550155605168], [127.01564347312767, 37.54594761007731], [127.01488438572011, 37.547457370319925], [127.01486072921065, 37.54764129294705], [127.01486130351081, 37.547685082036026], [127.0148787376232, 37.547728688015845], [127.01535153293837, 37.54825080367963], [127.01707916884645, 37.548401069825466], [127.0215815393849, 37.54828809106083], [127.02567086833632, 37.54817136038092], [127.02930276599865, 37.54894368370155], [127.0296059431461, 37.54868322599506]]], &quot;type&quot;: &quot;Polygon&quot;}, &quot;id&quot;: &quot;8&quot;, &quot;properties&quot;: {&quot;adm_cd&quot;: &quot;1104062&quot;, &quot;adm_nm&quot;: &quot;\\uc11c\\uc6b8\\ud2b9\\ubcc4\\uc2dc \\uc131\\ub3d9\\uad6c \\uae08\\ud6384\\uac00\\ub3d9&quot;, &quot;bj_nm&quot;: &quot;\\uae08\\ud638\\ub3d94\\uac00&quot;, &quot;hj_nm&quot;: &quot;\\uae08\\ud6384\\uac00\\ub3d9&quot;, &quot;si_do&quot;: &quot;\\uc11c\\uc6b8\\ud2b9\\ubcc4\\uc2dc&quot;, &quot;si_gun_gu&quot;: &quot;\\uc131\\ub3d9\\uad6c&quot;, &quot;x&quot;: &quot;957969&quot;, &quot;y&quot;: &quot;1949667&quot;}, &quot;type&quot;: &quot;Feature&quot;}, {&quot;bbox&quot;: [127.03116717363719, 37.53251960797952, 127.05190697262343, 37.547333119476924], &quot;geometry&quot;: {&quot;coordinates&quot;: [[[127.03920847741954, 37.54696441843207], [127.04394761810528, 37.54621932701129], [127.04461879798214, 37.54622539297002], [127.04518994263944, 37.546163914602005], [127.04610795623258, 37.5459055698659], [127.04625433424336, 37.54586346602848], [127.04637427227293, 37.54582810170231], [127.04652983369661, 37.545779532248176], [127.04678166703631, 37.545699593720556], [127.04845583433598, 37.54508975839749], [127.04877620763952, 37.54497179001991], [127.04900866685884, 37.54488361544155], [127.04911707401433, 37.544813592336865], [127.04959370053193, 37.54417912848175], [127.05190697262343, 37.54346687062948], [127.05149705267795, 37.54288965274427], [127.05133211763109, 37.54264786018299], [127.0510180944952, 37.54208375544446], [127.05100307165159, 37.54204097418946], [127.05092280028636, 37.54181237063592], [127.05089002776519, 37.54171890728038], [127.05066516795345, 37.54090666277608], [127.05045653018277, 37.54011027662031], [127.05044536634462, 37.54003420857278], [127.05044329583693, 37.540020099017475], [127.0515354921655, 37.53973370610316], [127.05175512547568, 37.53880289833961], [127.0515135631227, 37.538025839083986], [127.04950931321214, 37.53398486415396], [127.04891941316296, 37.53251960797952], [127.04657679510282, 37.53392330043784], [127.04604434848397, 37.534239769993754], [127.04574981029225, 37.53432331961987], [127.04566997200725, 37.53434596637317], [127.04533290397559, 37.534441534026925], [127.04038815021, 37.53582315420463], [127.03961490057306, 37.5358248120939], [127.03915964849095, 37.53582567825891], [127.03796967547233, 37.53582717843669], [127.03769424614246, 37.535827523739194], [127.03580666375147, 37.53582956349143], [127.03580842294168, 37.53655573318382], [127.03581154873228, 37.53784715578213], [127.03328829134459, 37.54127944616888], [127.03320974834925, 37.54137868469823], [127.03315182447916, 37.54145186907397], [127.03228128935208, 37.54196063759005], [127.03148549386397, 37.54241911408438], [127.03116717363719, 37.54568741704007], [127.03142173578365, 37.54559220457678], [127.03316061497306, 37.54494180286465], [127.03351019083763, 37.54495710939784], [127.03360643139582, 37.54496132391639], [127.03436046993578, 37.545433220963254], [127.03558541491502, 37.546310432969705], [127.0364073530874, 37.54717230323174], [127.03776654846689, 37.547333119476924], [127.03920847741954, 37.54696441843207]]], &quot;type&quot;: &quot;Polygon&quot;}, &quot;id&quot;: &quot;9&quot;, &quot;properties&quot;: {&quot;adm_cd&quot;: &quot;1104065&quot;, &quot;adm_nm&quot;: &quot;\\uc11c\\uc6b8\\ud2b9\\ubcc4\\uc2dc \\uc131\\ub3d9\\uad6c \\uc131\\uc2181\\uac001\\ub3d9&quot;, &quot;bj_nm&quot;: &quot;\\uc131\\uc218\\ub3d91\\uac00&quot;, &quot;hj_nm&quot;: &quot;\\uc131\\uc2181\\uac00\\uc81c1\\ub3d9&quot;, &quot;si_do&quot;: &quot;\\uc11c\\uc6b8\\ud2b9\\ubcc4\\uc2dc&quot;, &quot;si_gun_gu&quot;: &quot;\\uc131\\ub3d9\\uad6c&quot;, &quot;x&quot;: &quot;959569&quot;, &quot;y&quot;: &quot;1949145&quot;}, &quot;type&quot;: &quot;Feature&quot;}, {&quot;bbox&quot;: [127.03116717363719, 37.54417912848175, 127.05213195121705, 37.553689235913694], &quot;geometry&quot;: {&quot;coordinates&quot;: [[[127.04775658367475, 37.55185272304195], [127.05213195121705, 37.55083719588909], [127.04959370053193, 37.54417912848175], [127.04911707401433, 37.544813592336865], [127.04900866685884, 37.54488361544155], [127.04877620763952, 37.54497179001991], [127.04845583433598, 37.54508975839749], [127.04678166703631, 37.545699593720556], [127.04652983369661, 37.545779532248176], [127.04637427227293, 37.54582810170231], [127.04625433424336, 37.54586346602848], [127.04610795623258, 37.5459055698659], [127.04518994263944, 37.546163914602005], [127.04461879798214, 37.54622539297002], [127.04394761810528, 37.54621932701129], [127.03920847741954, 37.54696441843207], [127.03776654846689, 37.547333119476924], [127.0364073530874, 37.54717230323174], [127.03558541491502, 37.546310432969705], [127.03436046993578, 37.545433220963254], [127.03360643139582, 37.54496132391639], [127.03351019083763, 37.54495710939784], [127.03316061497306, 37.54494180286465], [127.03142173578365, 37.54559220457678], [127.03116717363719, 37.54568741704007], [127.03152657469457, 37.54625108510332], [127.03274703218624, 37.54635176161142], [127.03293528378241, 37.546409049991695], [127.03309744722361, 37.54650145794393], [127.0331148323085, 37.546511751620216], [127.035609774414, 37.54815743006079], [127.03574066632999, 37.54827751267121], [127.03604358575262, 37.548638324558276], [127.03632422448584, 37.54897424116619], [127.03645716701034, 37.54916505106338], [127.03655727044354, 37.5493087282437], [127.0367454530567, 37.549558093680545], [127.0368608723575, 37.54970984009419], [127.0371043307505, 37.54998659568918], [127.03718503652351, 37.55007833792747], [127.03722411886011, 37.55011859944306], [127.03729567219665, 37.550187404197466], [127.0376739805501, 37.550536748202205], [127.03792276383692, 37.550705950264984], [127.0385258690481, 37.55109908076607], [127.03861840057272, 37.551157922042705], [127.03967942985405, 37.5517078909622], [127.04011083098669, 37.55189363334855], [127.04136020845105, 37.55268356984574], [127.04136335225323, 37.55268525496502], [127.04152728673117, 37.552766360651745], [127.04161740570409, 37.55281094525284], [127.04198523731571, 37.55291783255834], [127.04275857342034, 37.55312438739448], [127.04324708849504, 37.553222277481765], [127.0459075616887, 37.553689235913694], [127.04605587857512, 37.55362455201646], [127.04636478482638, 37.553489828111644], [127.04693622734102, 37.55314496595551], [127.04775658367475, 37.55185272304195]]], &quot;type&quot;: &quot;Polygon&quot;}, &quot;id&quot;: &quot;10&quot;, &quot;properties&quot;: {&quot;adm_cd&quot;: &quot;1104066&quot;, &quot;adm_nm&quot;: &quot;\\uc11c\\uc6b8\\ud2b9\\ubcc4\\uc2dc \\uc131\\ub3d9\\uad6c \\uc131\\uc2181\\uac002\\ub3d9&quot;, &quot;bj_nm&quot;: &quot;\\uc131\\uc218\\ub3d91\\uac00&quot;, &quot;hj_nm&quot;: &quot;\\uc131\\uc2181\\uac00\\uc81c2\\ub3d9&quot;, &quot;si_do&quot;: &quot;\\uc11c\\uc6b8\\ud2b9\\ubcc4\\uc2dc&quot;, &quot;si_gun_gu&quot;: &quot;\\uc131\\ub3d9\\uad6c&quot;, &quot;x&quot;: &quot;959692&quot;, &quot;y&quot;: &quot;1950060&quot;}, &quot;type&quot;: &quot;Feature&quot;}, {&quot;bbox&quot;: [127.04891941316296, 37.52831837294472, 127.06285420563059, 37.54346687062948], &quot;geometry&quot;: {&quot;coordinates&quot;: [[[127.05190739219701, 37.54346674783497], [127.06285420563059, 37.540177464325886], [127.06147143799708, 37.537708437044294], [127.06009164743749, 37.53525823135872], [127.05996358479067, 37.53503098249169], [127.05963582671077, 37.53445051793852], [127.05955546765162, 37.534308741656076], [127.05951936077217, 37.53424533911029], [127.0592772588444, 37.533846424719776], [127.05857746005378, 37.53259015832549], [127.05790548133507, 37.531378086008495], [127.05785918096376, 37.53129451391102], [127.05749623437602, 37.53063938555985], [127.05728079563926, 37.53024992556395], [127.05622154281855, 37.52833096863562], [127.05621454615664, 37.52831837294472], [127.05616545373074, 37.52833361154924], [127.0560710592925, 37.52836291225444], [127.0557839065163, 37.52845232497905], [127.0554841751564, 37.52854583228698], [127.05511566183382, 37.52866087631812], [127.05502721209737, 37.52871793958789], [127.05345264629482, 37.529738118899076], [127.05207108497122, 37.53063336928364], [127.05169910638644, 37.530864523582544], [127.05146823267637, 37.53100382563962], [127.05102544724053, 37.53126809322027], [127.04891941316296, 37.53251960797952], [127.04950931321214, 37.53398486415396], [127.0515135631227, 37.538025839083986], [127.05175512547568, 37.53880289833961], [127.0515354921655, 37.53973370610316], [127.05044329583693, 37.540020099017475], [127.05044536634462, 37.54003420857278], [127.05045653018277, 37.54011027662031], [127.05066516795345, 37.54090666277608], [127.05089002776519, 37.54171890728038], [127.05092280028636, 37.54181237063592], [127.05100307165159, 37.54204097418946], [127.0510180944952, 37.54208375544446], [127.05133211763109, 37.54264786018299], [127.05149705267795, 37.54288965274427], [127.05190697262343, 37.54346687062948], [127.05190739219701, 37.54346674783497]]], &quot;type&quot;: &quot;Polygon&quot;}, &quot;id&quot;: &quot;11&quot;, &quot;properties&quot;: {&quot;adm_cd&quot;: &quot;1104067&quot;, &quot;adm_nm&quot;: &quot;\\uc11c\\uc6b8\\ud2b9\\ubcc4\\uc2dc \\uc131\\ub3d9\\uad6c \\uc131\\uc2182\\uac001\\ub3d9&quot;, &quot;bj_nm&quot;: &quot;\\uc131\\uc218\\ub3d92\\uac00&quot;, &quot;hj_nm&quot;: &quot;\\uc131\\uc2182\\uac00\\uc81c1\\ub3d9&quot;, &quot;si_do&quot;: &quot;\\uc11c\\uc6b8\\ud2b9\\ubcc4\\uc2dc&quot;, &quot;si_gun_gu&quot;: &quot;\\uc131\\ub3d9\\uad6c&quot;, &quot;x&quot;: &quot;960716&quot;, &quot;y&quot;: &quot;1948653&quot;}, &quot;type&quot;: &quot;Feature&quot;}, {&quot;bbox&quot;: [127.04959370053193, 37.540177464325886, 127.06746518821865, 37.55083719588909], &quot;geometry&quot;: {&quot;coordinates&quot;: [[[127.06280767951512, 37.54809732311136], [127.06746518821865, 37.54832886270946], [127.06401169996435, 37.54222920790386], [127.06285420563059, 37.540177464325886], [127.05190739219701, 37.54346674783497], [127.05190697262343, 37.54346687062948], [127.04959370053193, 37.54417912848175], [127.05213195121705, 37.55083719588909], [127.05523184747292, 37.54982832158352], [127.05664792598586, 37.54924683630846], [127.05668217748098, 37.54923608198456], [127.05692074444428, 37.54916118634325], [127.0569852002263, 37.549140990934795], [127.05705870222053, 37.549117963126484], [127.05715586591798, 37.549087836634804], [127.05725262350482, 37.54905783653204], [127.05736941027533, 37.5490216272065], [127.0573976270465, 37.54901345135425], [127.05776167339378, 37.548910195440186], [127.05808609724936, 37.54881823909176], [127.05828932637914, 37.548760734306065], [127.0586799478616, 37.54865020550434], [127.05882195174985, 37.54861624141268], [127.05918580540522, 37.548534281128546], [127.05971768778679, 37.54841449468523], [127.06132227430831, 37.548185816002714], [127.0623367559719, 37.548116623324205], [127.06263049757348, 37.548096921131865], [127.06280767951512, 37.54809732311136]]], &quot;type&quot;: &quot;Polygon&quot;}, &quot;id&quot;: &quot;12&quot;, &quot;properties&quot;: {&quot;adm_cd&quot;: &quot;1104068&quot;, &quot;adm_nm&quot;: &quot;\\uc11c\\uc6b8\\ud2b9\\ubcc4\\uc2dc \\uc131\\ub3d9\\uad6c \\uc131\\uc2182\\uac003\\ub3d9&quot;, &quot;bj_nm&quot;: &quot;\\uc131\\uc218\\ub3d92\\uac00&quot;, &quot;hj_nm&quot;: &quot;\\uc131\\uc2182\\uac00\\uc81c3\\ub3d9&quot;, &quot;si_do&quot;: &quot;\\uc11c\\uc6b8\\ud2b9\\ubcc4\\uc2dc&quot;, &quot;si_gun_gu&quot;: &quot;\\uc131\\ub3d9\\uad6c&quot;, &quot;x&quot;: &quot;960968&quot;, &quot;y&quot;: &quot;1949671&quot;}, &quot;type&quot;: &quot;Feature&quot;}, {&quot;bbox&quot;: [127.04693622734102, 37.548096921131865, 127.07373576027406, 37.56009903530767], &quot;geometry&quot;: {&quot;coordinates&quot;: [[[127.07229619232741, 37.55687683692033], [127.06746584041349, 37.548330017027176], [127.06746518821865, 37.54832886270946], [127.06280767951512, 37.54809732311136], [127.06263049757348, 37.548096921131865], [127.0623367559719, 37.548116623324205], [127.06132227430831, 37.548185816002714], [127.05971768778679, 37.54841449468523], [127.05918580540522, 37.548534281128546], [127.05882195174985, 37.54861624141268], [127.0586799478616, 37.54865020550434], [127.05828932637914, 37.548760734306065], [127.05808609724936, 37.54881823909176], [127.05776167339378, 37.548910195440186], [127.0573976270465, 37.54901345135425], [127.05736941027533, 37.5490216272065], [127.05725262350482, 37.54905783653204], [127.05715586591798, 37.549087836634804], [127.05705870222053, 37.549117963126484], [127.0569852002263, 37.549140990934795], [127.05692074444428, 37.54916118634325], [127.05668217748098, 37.54923608198456], [127.05664792598586, 37.54924683630846], [127.05523184747292, 37.54982832158352], [127.05213195121705, 37.55083719588909], [127.04775658367475, 37.55185272304195], [127.04693622734102, 37.55314496595551], [127.0490122973527, 37.55255065439853], [127.0493462335037, 37.55226227112532], [127.04939361355869, 37.55223887980943], [127.04982722616874, 37.55202950039772], [127.05004643989182, 37.551964306571854], [127.05007996761614, 37.55195435001327], [127.05012093752221, 37.551942199068314], [127.05046257266164, 37.55184104362668], [127.05051647028327, 37.55183358372277], [127.05083321797945, 37.55184978577845], [127.0508822484484, 37.55186102465835], [127.05089033200828, 37.55186287793835], [127.05119435804168, 37.55193405274039], [127.05120266857003, 37.551937705959396], [127.05156210100562, 37.5521276109175], [127.05167177626129, 37.55218556067551], [127.05180722701209, 37.55225728708556], [127.05185844259752, 37.552427020292235], [127.05198463304865, 37.55239284761735], [127.05428104768447, 37.55177092251528], [127.05441357700529, 37.55173502794903], [127.05556194449652, 37.5514074693325], [127.05687062169099, 37.5510341645491], [127.05850434701549, 37.55053538322764], [127.05888113695025, 37.55042034220878], [127.05964953592503, 37.550184678364495], [127.06031082892576, 37.549981856179436], [127.06076523765518, 37.54986544865748], [127.06123854306388, 37.54974419903393], [127.06135922632659, 37.54971328396942], [127.06162261793907, 37.5497466513365], [127.06177259940463, 37.54976565154026], [127.06203624931622, 37.54979905139266], [127.0624164866149, 37.54984722149101], [127.0629521707202, 37.55005385750953], [127.06337681808971, 37.550267671744486], [127.06343350564913, 37.55029621445574], [127.0635430610729, 37.550351378416245], [127.06390552461563, 37.55065430830656], [127.0640800585662, 37.55080017684666], [127.06408284580716, 37.55080251082256], [127.06408399690282, 37.55080391577341], [127.06410470444001, 37.55082935446668], [127.0646043374045, 37.5514432177624], [127.06485610387158, 37.551752541666566], [127.06495006913458, 37.551867992375946], [127.06513615907599, 37.55219603269756], [127.06539772872065, 37.55265725669942], [127.06554556480661, 37.552917894854204], [127.06557753415426, 37.552960026294606], [127.0657905031576, 37.553240664993865], [127.06621408652066, 37.55379881749004], [127.06638794179852, 37.55402790007886], [127.06642074362371, 37.55407111235923], [127.0681733519462, 37.55621807218604], [127.07200303148211, 37.56009903530767], [127.07238515187828, 37.55996034455957], [127.07373576027406, 37.559413976638815], [127.07229619232741, 37.55687683692033]]], &quot;type&quot;: &quot;Polygon&quot;}, &quot;id&quot;: &quot;13&quot;, &quot;properties&quot;: {&quot;adm_cd&quot;: &quot;1104069&quot;, &quot;adm_nm&quot;: &quot;\\uc11c\\uc6b8\\ud2b9\\ubcc4\\uc2dc \\uc131\\ub3d9\\uad6c \\uc1a1\\uc815\\ub3d9&quot;, &quot;bj_nm&quot;: &quot;\\uc1a1\\uc815\\ub3d9&quot;, &quot;hj_nm&quot;: &quot;\\uc1a1\\uc815\\ub3d9&quot;, &quot;si_do&quot;: &quot;\\uc11c\\uc6b8\\ud2b9\\ubcc4\\uc2dc&quot;, &quot;si_gun_gu&quot;: &quot;\\uc131\\ub3d9\\uad6c&quot;, &quot;x&quot;: &quot;962263&quot;, &quot;y&quot;: &quot;1951008&quot;}, &quot;type&quot;: &quot;Feature&quot;}, {&quot;bbox&quot;: [127.03813001067921, 37.54971328396942, 127.07200303148211, 37.57299357973826], &quot;geometry&quot;: {&quot;coordinates&quot;: [[[127.04002007137522, 37.57299357973826], [127.04255513289132, 37.57269655819286], [127.04334582354818, 37.572364266551624], [127.04491321609058, 37.57169602777887], [127.04795064178883, 37.57038424057557], [127.04816472021976, 37.57022606042067], [127.04839894960858, 37.570052551105505], [127.0484861356298, 37.56998795503655], [127.0485550161496, 37.56993670637953], [127.04861828474591, 37.56988953195322], [127.05230919341722, 37.56713264656902], [127.05495009128744, 37.56515810706014], [127.05779766520018, 37.56303723909544], [127.05794669040463, 37.562925386203254], [127.05876084255056, 37.56231431487727], [127.05939591958796, 37.56222346000552], [127.05946294815637, 37.56221387279688], [127.06642653794012, 37.56121776667191], [127.06980519424286, 37.56073431815591], [127.07200303148211, 37.56009903530767], [127.0681733519462, 37.55621807218604], [127.06642074362371, 37.55407111235923], [127.06638794179852, 37.55402790007886], [127.06621408652066, 37.55379881749004], [127.0657905031576, 37.553240664993865], [127.06557753415426, 37.552960026294606], [127.06554556480661, 37.552917894854204], [127.06539772872065, 37.55265725669942], [127.06513615907599, 37.55219603269756], [127.06495006913458, 37.551867992375946], [127.06485610387158, 37.551752541666566], [127.0646043374045, 37.5514432177624], [127.06410470444001, 37.55082935446668], [127.06408399690282, 37.55080391577341], [127.06408284580716, 37.55080251082256], [127.0640800585662, 37.55080017684666], [127.06390552461563, 37.55065430830656], [127.0635430610729, 37.550351378416245], [127.06343350564913, 37.55029621445574], [127.06337681808971, 37.550267671744486], [127.0629521707202, 37.55005385750953], [127.0624164866149, 37.54984722149101], [127.06203624931622, 37.54979905139266], [127.06177259940463, 37.54976565154026], [127.06162261793907, 37.5497466513365], [127.06135922632659, 37.54971328396942], [127.06123854306388, 37.54974419903393], [127.06076523765518, 37.54986544865748], [127.06031082892576, 37.549981856179436], [127.05964953592503, 37.550184678364495], [127.05888113695025, 37.55042034220878], [127.05850434701549, 37.55053538322764], [127.05687062169099, 37.5510341645491], [127.05556194449652, 37.5514074693325], [127.05441357700529, 37.55173502794903], [127.05428104768447, 37.55177092251528], [127.05198463304865, 37.55239284761735], [127.05185844259752, 37.552427020292235], [127.05180722701209, 37.55225728708556], [127.05167177626129, 37.55218556067551], [127.05156210100562, 37.5521276109175], [127.05120266857003, 37.551937705959396], [127.05119435804168, 37.55193405274039], [127.05089033200828, 37.55186287793835], [127.0508822484484, 37.55186102465835], [127.05083321797945, 37.55184978577845], [127.05051647028327, 37.55183358372277], [127.05046257266164, 37.55184104362668], [127.05012093752221, 37.551942199068314], [127.05007996761614, 37.55195435001327], [127.05004643989182, 37.551964306571854], [127.04982722616874, 37.55202950039772], [127.04939361355869, 37.55223887980943], [127.0493462335037, 37.55226227112532], [127.0490122973527, 37.55255065439853], [127.04902604112864, 37.55256010257974], [127.0490858481803, 37.55261368558768], [127.04934917489443, 37.55284962274767], [127.04937295767252, 37.55287200573883], [127.04951522862137, 37.553010496849296], [127.04955903275854, 37.55305650128813], [127.04958223535468, 37.55308087400975], [127.04965748636262, 37.553159924732945], [127.04990477193412, 37.553440300973136], [127.04999678931286, 37.55356101455338], [127.0513868037596, 37.555544757232695], [127.05151209120466, 37.55585675272063], [127.05173222632317, 37.557159709003145], [127.05179711145487, 37.558017741954984], [127.05177795828432, 37.55915833918327], [127.05111225296604, 37.56255147380854], [127.05090081834128, 37.56267987101774], [127.05053299679297, 37.56278246903107], [127.05038570403686, 37.56286162537472], [127.04928530091412, 37.56355269475263], [127.04836026800312, 37.56522764382839], [127.04633863350085, 37.56909646346659], [127.04619691492432, 37.56932316863823], [127.04613594843079, 37.56939611837646], [127.04612533805961, 37.56940879020664], [127.04608433300845, 37.5694575126923], [127.04594258542599, 37.569618617272404], [127.04593180463614, 37.56962875924467], [127.0458285981066, 37.569720566605135], [127.04562527889891, 37.56990142221118], [127.04557065464135, 37.56994536542128], [127.04556393360272, 37.569950441182876], [127.04530420526388, 37.57009975901065], [127.0452646271971, 37.57012111094037], [127.04414361528946, 37.570723838575724], [127.04321600167899, 37.571154958918186], [127.04263532794806, 37.571410827999465], [127.04200684982078, 37.57167090733114], [127.0419985403795, 37.57167345114707], [127.0414458756728, 37.5718107704195], [127.04125418790957, 37.57185839653621], [127.04125049288305, 37.5718593069607], [127.0409911177696, 37.57192312551122], [127.04048755694966, 37.572047021740765], [127.04042914797188, 37.57206112400452], [127.04040814650301, 37.57206619435092], [127.04033156358851, 37.57207635542252], [127.03987832257258, 37.57213157836756], [127.03943718661576, 37.57218532351862], [127.03893223214004, 37.57224508756116], [127.03877165849768, 37.57226409166978], [127.03876140302447, 37.57226522155096], [127.03868602823223, 37.57226524610822], [127.03841172335578, 37.5722653312122], [127.03813001067921, 37.57226514152979], [127.04002007137522, 37.57299357973826]]], &quot;type&quot;: &quot;Polygon&quot;}, &quot;id&quot;: &quot;14&quot;, &quot;properties&quot;: {&quot;adm_cd&quot;: &quot;1104070&quot;, &quot;adm_nm&quot;: &quot;\\uc11c\\uc6b8\\ud2b9\\ubcc4\\uc2dc \\uc131\\ub3d9\\uad6c \\uc6a9\\ub2f5\\ub3d9&quot;, &quot;bj_nm&quot;: &quot;\\uc1a1\\uc815\\ub3d9&quot;, &quot;hj_nm&quot;: &quot;\\uc6a9\\ub2f5\\ub3d9&quot;, &quot;si_do&quot;: &quot;\\uc11c\\uc6b8\\ud2b9\\ubcc4\\uc2dc&quot;, &quot;si_gun_gu&quot;: &quot;\\uc131\\ub3d9\\uad6c&quot;, &quot;x&quot;: &quot;960925&quot;, &quot;y&quot;: &quot;1951149&quot;}, &quot;type&quot;: &quot;Feature&quot;}, {&quot;bbox&quot;: [127.03813001067921, 37.54971328396942, 127.07200303148211, 37.57299357973826], &quot;geometry&quot;: {&quot;coordinates&quot;: [[[127.04002007137522, 37.57299357973826], [127.04255513289132, 37.57269655819286], [127.04334582354818, 37.572364266551624], [127.04491321609058, 37.57169602777887], [127.04795064178883, 37.57038424057557], [127.04816472021976, 37.57022606042067], [127.04839894960858, 37.570052551105505], [127.0484861356298, 37.56998795503655], [127.0485550161496, 37.56993670637953], [127.04861828474591, 37.56988953195322], [127.05230919341722, 37.56713264656902], [127.05495009128744, 37.56515810706014], [127.05779766520018, 37.56303723909544], [127.05794669040463, 37.562925386203254], [127.05876084255056, 37.56231431487727], [127.05939591958796, 37.56222346000552], [127.05946294815637, 37.56221387279688], [127.06642653794012, 37.56121776667191], [127.06980519424286, 37.56073431815591], [127.07200303148211, 37.56009903530767], [127.0681733519462, 37.55621807218604], [127.06642074362371, 37.55407111235923], [127.06638794179852, 37.55402790007886], [127.06621408652066, 37.55379881749004], [127.0657905031576, 37.553240664993865], [127.06557753415426, 37.552960026294606], [127.06554556480661, 37.552917894854204], [127.06539772872065, 37.55265725669942], [127.06513615907599, 37.55219603269756], [127.06495006913458, 37.551867992375946], [127.06485610387158, 37.551752541666566], [127.0646043374045, 37.5514432177624], [127.06410470444001, 37.55082935446668], [127.06408399690282, 37.55080391577341], [127.06408284580716, 37.55080251082256], [127.0640800585662, 37.55080017684666], [127.06390552461563, 37.55065430830656], [127.0635430610729, 37.550351378416245], [127.06343350564913, 37.55029621445574], [127.06337681808971, 37.550267671744486], [127.0629521707202, 37.55005385750953], [127.0624164866149, 37.54984722149101], [127.06203624931622, 37.54979905139266], [127.06177259940463, 37.54976565154026], [127.06162261793907, 37.5497466513365], [127.06135922632659, 37.54971328396942], [127.06123854306388, 37.54974419903393], [127.06076523765518, 37.54986544865748], [127.06031082892576, 37.549981856179436], [127.05964953592503, 37.550184678364495], [127.05888113695025, 37.55042034220878], [127.05850434701549, 37.55053538322764], [127.05687062169099, 37.5510341645491], [127.05556194449652, 37.5514074693325], [127.05441357700529, 37.55173502794903], [127.05428104768447, 37.55177092251528], [127.05198463304865, 37.55239284761735], [127.05185844259752, 37.552427020292235], [127.05180722701209, 37.55225728708556], [127.05167177626129, 37.55218556067551], [127.05156210100562, 37.5521276109175], [127.05120266857003, 37.551937705959396], [127.05119435804168, 37.55193405274039], [127.05089033200828, 37.55186287793835], [127.0508822484484, 37.55186102465835], [127.05083321797945, 37.55184978577845], [127.05051647028327, 37.55183358372277], [127.05046257266164, 37.55184104362668], [127.05012093752221, 37.551942199068314], [127.05007996761614, 37.55195435001327], [127.05004643989182, 37.551964306571854], [127.04982722616874, 37.55202950039772], [127.04939361355869, 37.55223887980943], [127.0493462335037, 37.55226227112532], [127.0490122973527, 37.55255065439853], [127.04902604112864, 37.55256010257974], [127.0490858481803, 37.55261368558768], [127.04934917489443, 37.55284962274767], [127.04937295767252, 37.55287200573883], [127.04951522862137, 37.553010496849296], [127.04955903275854, 37.55305650128813], [127.04958223535468, 37.55308087400975], [127.04965748636262, 37.553159924732945], [127.04990477193412, 37.553440300973136], [127.04999678931286, 37.55356101455338], [127.0513868037596, 37.555544757232695], [127.05151209120466, 37.55585675272063], [127.05173222632317, 37.557159709003145], [127.05179711145487, 37.558017741954984], [127.05177795828432, 37.55915833918327], [127.05111225296604, 37.56255147380854], [127.05090081834128, 37.56267987101774], [127.05053299679297, 37.56278246903107], [127.05038570403686, 37.56286162537472], [127.04928530091412, 37.56355269475263], [127.04836026800312, 37.56522764382839], [127.04633863350085, 37.56909646346659], [127.04619691492432, 37.56932316863823], [127.04613594843079, 37.56939611837646], [127.04612533805961, 37.56940879020664], [127.04608433300845, 37.5694575126923], [127.04594258542599, 37.569618617272404], [127.04593180463614, 37.56962875924467], [127.0458285981066, 37.569720566605135], [127.04562527889891, 37.56990142221118], [127.04557065464135, 37.56994536542128], [127.04556393360272, 37.569950441182876], [127.04530420526388, 37.57009975901065], [127.0452646271971, 37.57012111094037], [127.04414361528946, 37.570723838575724], [127.04321600167899, 37.571154958918186], [127.04263532794806, 37.571410827999465], [127.04200684982078, 37.57167090733114], [127.0419985403795, 37.57167345114707], [127.0414458756728, 37.5718107704195], [127.04125418790957, 37.57185839653621], [127.04125049288305, 37.5718593069607], [127.0409911177696, 37.57192312551122], [127.04048755694966, 37.572047021740765], [127.04042914797188, 37.57206112400452], [127.04040814650301, 37.57206619435092], [127.04033156358851, 37.57207635542252], [127.03987832257258, 37.57213157836756], [127.03943718661576, 37.57218532351862], [127.03893223214004, 37.57224508756116], [127.03877165849768, 37.57226409166978], [127.03876140302447, 37.57226522155096], [127.03868602823223, 37.57226524610822], [127.03841172335578, 37.5722653312122], [127.03813001067921, 37.57226514152979], [127.04002007137522, 37.57299357973826]]], &quot;type&quot;: &quot;Polygon&quot;}, &quot;id&quot;: &quot;15&quot;, &quot;properties&quot;: {&quot;adm_cd&quot;: &quot;1104070&quot;, &quot;adm_nm&quot;: &quot;\\uc11c\\uc6b8\\ud2b9\\ubcc4\\uc2dc \\uc131\\ub3d9\\uad6c \\uc6a9\\ub2f5\\ub3d9&quot;, &quot;bj_nm&quot;: &quot;\\uc6a9\\ub2f5\\ub3d9&quot;, &quot;hj_nm&quot;: &quot;\\uc6a9\\ub2f5\\ub3d9&quot;, &quot;si_do&quot;: &quot;\\uc11c\\uc6b8\\ud2b9\\ubcc4\\uc2dc&quot;, &quot;si_gun_gu&quot;: &quot;\\uc131\\ub3d9\\uad6c&quot;, &quot;x&quot;: &quot;960925&quot;, &quot;y&quot;: &quot;1951149&quot;}, &quot;type&quot;: &quot;Feature&quot;}, {&quot;bbox&quot;: [127.02339131920078, 37.56140782138058, 127.03649381613482, 37.57190443907632], &quot;geometry&quot;: {&quot;coordinates&quot;: [[[127.02520517597577, 37.570845750359815], [127.0302888165231, 37.56980904874431], [127.030302465591, 37.56980719399469], [127.03042371652427, 37.56979928119143], [127.0306392309841, 37.56978528040805], [127.03087616986413, 37.56978325675684], [127.03096354304097, 37.56978254213941], [127.03099649599923, 37.569784118821204], [127.0311874238208, 37.56979594753844], [127.0312608209717, 37.569800659198776], [127.03126534847412, 37.569801351383724], [127.03132856179793, 37.56981350736194], [127.03142253250995, 37.56983282852628], [127.03153031484356, 37.56985508152804], [127.03156634598534, 37.56986529075974], [127.0319163156265, 37.569992195242655], [127.03199610610139, 37.570022311957366], [127.03216656134768, 37.570086940929365], [127.03351895652474, 37.56898478878461], [127.03361384793651, 37.56843232164475], [127.0336093533021, 37.568430000041694], [127.03337412307847, 37.56831057383133], [127.0328859354166, 37.568061383504066], [127.03462615876009, 37.566360932376895], [127.03469377012131, 37.56629515884985], [127.03474460626195, 37.56624841875663], [127.03649381613482, 37.56604786299777], [127.03639375165729, 37.5652671901328], [127.03639369331728, 37.565266737426555], [127.03634963972372, 37.56492901100432], [127.03629405593055, 37.56450966355802], [127.03610234372124, 37.563074791647175], [127.03609672920673, 37.563032891091964], [127.03608504557108, 37.56294571354152], [127.03602193297448, 37.56247482953831], [127.03602094560618, 37.56247045050779], [127.03601923396083, 37.56246454895569], [127.03556525112975, 37.56140857800257], [127.03556492294003, 37.56140782138058], [127.03546056272823, 37.561439781874085], [127.03474240719899, 37.56175535030898], [127.03423606440991, 37.56211687890867], [127.0335655936225, 37.56262856895808], [127.02740041358987, 37.56488807095957], [127.02676722647283, 37.56495516467002], [127.02358208454861, 37.565199778570715], [127.02339131920078, 37.57190443907632], [127.02520517597577, 37.570845750359815]]], &quot;type&quot;: &quot;Polygon&quot;}, &quot;id&quot;: &quot;16&quot;, &quot;properties&quot;: {&quot;adm_cd&quot;: &quot;1104071&quot;, &quot;adm_nm&quot;: &quot;\\uc11c\\uc6b8\\ud2b9\\ubcc4\\uc2dc \\uc131\\ub3d9\\uad6c \\uc655\\uc2ed\\ub9ac\\ub3c4\\uc120\\ub3d9&quot;, &quot;bj_nm&quot;: &quot;\\uc0c1\\uc655\\uc2ed\\ub9ac\\ub3d9&quot;, &quot;hj_nm&quot;: &quot;\\uc655\\uc2ed\\ub9ac\\ub3c4\\uc120\\ub3d9&quot;, &quot;si_do&quot;: &quot;\\uc11c\\uc6b8\\ud2b9\\ubcc4\\uc2dc&quot;, &quot;si_gun_gu&quot;: &quot;\\uc131\\ub3d9\\uad6c&quot;, &quot;x&quot;: &quot;958357&quot;, &quot;y&quot;: &quot;1952249&quot;}, &quot;type&quot;: &quot;Feature&quot;}, {&quot;bbox&quot;: [127.02339131920078, 37.56140782138058, 127.03649381613482, 37.57190443907632], &quot;geometry&quot;: {&quot;coordinates&quot;: [[[127.02520517597577, 37.570845750359815], [127.0302888165231, 37.56980904874431], [127.030302465591, 37.56980719399469], [127.03042371652427, 37.56979928119143], [127.0306392309841, 37.56978528040805], [127.03087616986413, 37.56978325675684], [127.03096354304097, 37.56978254213941], [127.03099649599923, 37.569784118821204], [127.0311874238208, 37.56979594753844], [127.0312608209717, 37.569800659198776], [127.03126534847412, 37.569801351383724], [127.03132856179793, 37.56981350736194], [127.03142253250995, 37.56983282852628], [127.03153031484356, 37.56985508152804], [127.03156634598534, 37.56986529075974], [127.0319163156265, 37.569992195242655], [127.03199610610139, 37.570022311957366], [127.03216656134768, 37.570086940929365], [127.03351895652474, 37.56898478878461], [127.03361384793651, 37.56843232164475], [127.0336093533021, 37.568430000041694], [127.03337412307847, 37.56831057383133], [127.0328859354166, 37.568061383504066], [127.03462615876009, 37.566360932376895], [127.03469377012131, 37.56629515884985], [127.03474460626195, 37.56624841875663], [127.03649381613482, 37.56604786299777], [127.03639375165729, 37.5652671901328], [127.03639369331728, 37.565266737426555], [127.03634963972372, 37.56492901100432], [127.03629405593055, 37.56450966355802], [127.03610234372124, 37.563074791647175], [127.03609672920673, 37.563032891091964], [127.03608504557108, 37.56294571354152], [127.03602193297448, 37.56247482953831], [127.03602094560618, 37.56247045050779], [127.03601923396083, 37.56246454895569], [127.03556525112975, 37.56140857800257], [127.03556492294003, 37.56140782138058], [127.03546056272823, 37.561439781874085], [127.03474240719899, 37.56175535030898], [127.03423606440991, 37.56211687890867], [127.0335655936225, 37.56262856895808], [127.02740041358987, 37.56488807095957], [127.02676722647283, 37.56495516467002], [127.02358208454861, 37.565199778570715], [127.02339131920078, 37.57190443907632], [127.02520517597577, 37.570845750359815]]], &quot;type&quot;: &quot;Polygon&quot;}, &quot;id&quot;: &quot;17&quot;, &quot;properties&quot;: {&quot;adm_cd&quot;: &quot;1104071&quot;, &quot;adm_nm&quot;: &quot;\\uc11c\\uc6b8\\ud2b9\\ubcc4\\uc2dc \\uc131\\ub3d9\\uad6c \\uc655\\uc2ed\\ub9ac\\ub3c4\\uc120\\ub3d9&quot;, &quot;bj_nm&quot;: &quot;\\ud558\\uc655\\uc2ed\\ub9ac\\ub3d9&quot;, &quot;hj_nm&quot;: &quot;\\uc655\\uc2ed\\ub9ac\\ub3c4\\uc120\\ub3d9&quot;, &quot;si_do&quot;: &quot;\\uc11c\\uc6b8\\ud2b9\\ubcc4\\uc2dc&quot;, &quot;si_gun_gu&quot;: &quot;\\uc131\\ub3d9\\uad6c&quot;, &quot;x&quot;: &quot;958357&quot;, &quot;y&quot;: &quot;1952249&quot;}, &quot;type&quot;: &quot;Feature&quot;}, {&quot;bbox&quot;: [127.02339131920078, 37.56140782138058, 127.03649381613482, 37.57190443907632], &quot;geometry&quot;: {&quot;coordinates&quot;: [[[127.02520517597577, 37.570845750359815], [127.0302888165231, 37.56980904874431], [127.030302465591, 37.56980719399469], [127.03042371652427, 37.56979928119143], [127.0306392309841, 37.56978528040805], [127.03087616986413, 37.56978325675684], [127.03096354304097, 37.56978254213941], [127.03099649599923, 37.569784118821204], [127.0311874238208, 37.56979594753844], [127.0312608209717, 37.569800659198776], [127.03126534847412, 37.569801351383724], [127.03132856179793, 37.56981350736194], [127.03142253250995, 37.56983282852628], [127.03153031484356, 37.56985508152804], [127.03156634598534, 37.56986529075974], [127.0319163156265, 37.569992195242655], [127.03199610610139, 37.570022311957366], [127.03216656134768, 37.570086940929365], [127.03351895652474, 37.56898478878461], [127.03361384793651, 37.56843232164475], [127.0336093533021, 37.568430000041694], [127.03337412307847, 37.56831057383133], [127.0328859354166, 37.568061383504066], [127.03462615876009, 37.566360932376895], [127.03469377012131, 37.56629515884985], [127.03474460626195, 37.56624841875663], [127.03649381613482, 37.56604786299777], [127.03639375165729, 37.5652671901328], [127.03639369331728, 37.565266737426555], [127.03634963972372, 37.56492901100432], [127.03629405593055, 37.56450966355802], [127.03610234372124, 37.563074791647175], [127.03609672920673, 37.563032891091964], [127.03608504557108, 37.56294571354152], [127.03602193297448, 37.56247482953831], [127.03602094560618, 37.56247045050779], [127.03601923396083, 37.56246454895569], [127.03556525112975, 37.56140857800257], [127.03556492294003, 37.56140782138058], [127.03546056272823, 37.561439781874085], [127.03474240719899, 37.56175535030898], [127.03423606440991, 37.56211687890867], [127.0335655936225, 37.56262856895808], [127.02740041358987, 37.56488807095957], [127.02676722647283, 37.56495516467002], [127.02358208454861, 37.565199778570715], [127.02339131920078, 37.57190443907632], [127.02520517597577, 37.570845750359815]]], &quot;type&quot;: &quot;Polygon&quot;}, &quot;id&quot;: &quot;18&quot;, &quot;properties&quot;: {&quot;adm_cd&quot;: &quot;1104071&quot;, &quot;adm_nm&quot;: &quot;\\uc11c\\uc6b8\\ud2b9\\ubcc4\\uc2dc \\uc131\\ub3d9\\uad6c \\uc655\\uc2ed\\ub9ac\\ub3c4\\uc120\\ub3d9&quot;, &quot;bj_nm&quot;: &quot;\\ud64d\\uc775\\ub3d9&quot;, &quot;hj_nm&quot;: &quot;\\uc655\\uc2ed\\ub9ac\\ub3c4\\uc120\\ub3d9&quot;, &quot;si_do&quot;: &quot;\\uc11c\\uc6b8\\ud2b9\\ubcc4\\uc2dc&quot;, &quot;si_gun_gu&quot;: &quot;\\uc131\\ub3d9\\uad6c&quot;, &quot;x&quot;: &quot;958357&quot;, &quot;y&quot;: &quot;1952249&quot;}, &quot;type&quot;: &quot;Feature&quot;}, {&quot;bbox&quot;: [127.02339131920078, 37.56140782138058, 127.03649381613482, 37.57190443907632], &quot;geometry&quot;: {&quot;coordinates&quot;: [[[127.02520517597577, 37.570845750359815], [127.0302888165231, 37.56980904874431], [127.030302465591, 37.56980719399469], [127.03042371652427, 37.56979928119143], [127.0306392309841, 37.56978528040805], [127.03087616986413, 37.56978325675684], [127.03096354304097, 37.56978254213941], [127.03099649599923, 37.569784118821204], [127.0311874238208, 37.56979594753844], [127.0312608209717, 37.569800659198776], [127.03126534847412, 37.569801351383724], [127.03132856179793, 37.56981350736194], [127.03142253250995, 37.56983282852628], [127.03153031484356, 37.56985508152804], [127.03156634598534, 37.56986529075974], [127.0319163156265, 37.569992195242655], [127.03199610610139, 37.570022311957366], [127.03216656134768, 37.570086940929365], [127.03351895652474, 37.56898478878461], [127.03361384793651, 37.56843232164475], [127.0336093533021, 37.568430000041694], [127.03337412307847, 37.56831057383133], [127.0328859354166, 37.568061383504066], [127.03462615876009, 37.566360932376895], [127.03469377012131, 37.56629515884985], [127.03474460626195, 37.56624841875663], [127.03649381613482, 37.56604786299777], [127.03639375165729, 37.5652671901328], [127.03639369331728, 37.565266737426555], [127.03634963972372, 37.56492901100432], [127.03629405593055, 37.56450966355802], [127.03610234372124, 37.563074791647175], [127.03609672920673, 37.563032891091964], [127.03608504557108, 37.56294571354152], [127.03602193297448, 37.56247482953831], [127.03602094560618, 37.56247045050779], [127.03601923396083, 37.56246454895569], [127.03556525112975, 37.56140857800257], [127.03556492294003, 37.56140782138058], [127.03546056272823, 37.561439781874085], [127.03474240719899, 37.56175535030898], [127.03423606440991, 37.56211687890867], [127.0335655936225, 37.56262856895808], [127.02740041358987, 37.56488807095957], [127.02676722647283, 37.56495516467002], [127.02358208454861, 37.565199778570715], [127.02339131920078, 37.57190443907632], [127.02520517597577, 37.570845750359815]]], &quot;type&quot;: &quot;Polygon&quot;}, &quot;id&quot;: &quot;19&quot;, &quot;properties&quot;: {&quot;adm_cd&quot;: &quot;1104071&quot;, &quot;adm_nm&quot;: &quot;\\uc11c\\uc6b8\\ud2b9\\ubcc4\\uc2dc \\uc131\\ub3d9\\uad6c \\uc655\\uc2ed\\ub9ac\\ub3c4\\uc120\\ub3d9&quot;, &quot;bj_nm&quot;: &quot;\\ub3c4\\uc120\\ub3d9&quot;, &quot;hj_nm&quot;: &quot;\\uc655\\uc2ed\\ub9ac\\ub3c4\\uc120\\ub3d9&quot;, &quot;si_do&quot;: &quot;\\uc11c\\uc6b8\\ud2b9\\ubcc4\\uc2dc&quot;, &quot;si_gun_gu&quot;: &quot;\\uc131\\ub3d9\\uad6c&quot;, &quot;x&quot;: &quot;958357&quot;, &quot;y&quot;: &quot;1952249&quot;}, &quot;type&quot;: &quot;Feature&quot;}, {&quot;bbox&quot;: [127.0131342650813, 37.54817136038092, 127.0260952779837, 37.55743266956389], &quot;geometry&quot;: {&quot;coordinates&quot;: [[[127.01965185599958, 37.55725558827208], [127.01999644984392, 37.55566195836634], [127.02273238993638, 37.55326499498699], [127.02285813657275, 37.55323932709206], [127.02308574774108, 37.553180776473376], [127.02315563477345, 37.553161067687356], [127.02318418363795, 37.553152060413055], [127.02332995451529, 37.55310606540167], [127.02344875801677, 37.553062499572455], [127.02441783136231, 37.55268447490768], [127.02443545125638, 37.55267727197815], [127.02446564977527, 37.552662310405445], [127.02467499066563, 37.552556925563536], [127.0247216082722, 37.55253342753182], [127.02476683213176, 37.552506551919315], [127.02481184297683, 37.55247934193227], [127.02485765623007, 37.55245145643981], [127.02513224474801, 37.552266194242954], [127.02521990569397, 37.55216835542909], [127.02526754396034, 37.55211292552797], [127.02532345770157, 37.55203290758106], [127.02536946567483, 37.55194853682455], [127.02539289501067, 37.55188658021842], [127.02606537691427, 37.55008601002446], [127.0260667999112, 37.550080117295195], [127.0260952779837, 37.54989180326631], [127.02609527629521, 37.54988205695084], [127.02608881588249, 37.54971159004587], [127.02603787221581, 37.549240616201786], [127.02603333458104, 37.54920454123831], [127.02594270679421, 37.5486615144395], [127.02590041172536, 37.54846896292406], [127.0257806456992, 37.54827271660424], [127.02574876699511, 37.548234070224716], [127.02574444188821, 37.54822952085892], [127.02568800502618, 37.5481846646615], [127.02567086833632, 37.54817136038092], [127.0215815393849, 37.54828809106083], [127.01707916884645, 37.548401069825466], [127.01535153293837, 37.54825080367963], [127.01448055149551, 37.549805624943765], [127.0131342650813, 37.55005099850538], [127.01630244028472, 37.55301214028038], [127.01704582361985, 37.55463943604955], [127.01733893283841, 37.555850833883866], [127.01763629795938, 37.55639694661992], [127.01767993347588, 37.55647708271731], [127.01776210032425, 37.55658929928449], [127.01807250052127, 37.556888105818615], [127.01940962501206, 37.55743266956389], [127.01962807774646, 37.55729293359603], [127.01965185599958, 37.55725558827208]]], &quot;type&quot;: &quot;Polygon&quot;}, &quot;id&quot;: &quot;20&quot;, &quot;properties&quot;: {&quot;adm_cd&quot;: &quot;1104072&quot;, &quot;adm_nm&quot;: &quot;\\uc11c\\uc6b8\\ud2b9\\ubcc4\\uc2dc \\uc131\\ub3d9\\uad6c \\uae08\\ud6382\\u00b73\\uac00\\ub3d9&quot;, &quot;bj_nm&quot;: &quot;\\uae08\\ud638\\ub3d92\\uac00&quot;, &quot;hj_nm&quot;: &quot;\\uae08\\ud6382\\u00b73\\uac00\\ub3d9&quot;, &quot;si_do&quot;: &quot;\\uc11c\\uc6b8\\ud2b9\\ubcc4\\uc2dc&quot;, &quot;si_gun_gu&quot;: &quot;\\uc131\\ub3d9\\uad6c&quot;, &quot;x&quot;: &quot;957598&quot;, &quot;y&quot;: &quot;1950348&quot;}, &quot;type&quot;: &quot;Feature&quot;}, {&quot;bbox&quot;: [127.0131342650813, 37.54817136038092, 127.0260952779837, 37.55743266956389], &quot;geometry&quot;: {&quot;coordinates&quot;: [[[127.01965185599958, 37.55725558827208], [127.01999644984392, 37.55566195836634], [127.02273238993638, 37.55326499498699], [127.02285813657275, 37.55323932709206], [127.02308574774108, 37.553180776473376], [127.02315563477345, 37.553161067687356], [127.02318418363795, 37.553152060413055], [127.02332995451529, 37.55310606540167], [127.02344875801677, 37.553062499572455], [127.02441783136231, 37.55268447490768], [127.02443545125638, 37.55267727197815], [127.02446564977527, 37.552662310405445], [127.02467499066563, 37.552556925563536], [127.0247216082722, 37.55253342753182], [127.02476683213176, 37.552506551919315], [127.02481184297683, 37.55247934193227], [127.02485765623007, 37.55245145643981], [127.02513224474801, 37.552266194242954], [127.02521990569397, 37.55216835542909], [127.02526754396034, 37.55211292552797], [127.02532345770157, 37.55203290758106], [127.02536946567483, 37.55194853682455], [127.02539289501067, 37.55188658021842], [127.02606537691427, 37.55008601002446], [127.0260667999112, 37.550080117295195], [127.0260952779837, 37.54989180326631], [127.02609527629521, 37.54988205695084], [127.02608881588249, 37.54971159004587], [127.02603787221581, 37.549240616201786], [127.02603333458104, 37.54920454123831], [127.02594270679421, 37.5486615144395], [127.02590041172536, 37.54846896292406], [127.0257806456992, 37.54827271660424], [127.02574876699511, 37.548234070224716], [127.02574444188821, 37.54822952085892], [127.02568800502618, 37.5481846646615], [127.02567086833632, 37.54817136038092], [127.0215815393849, 37.54828809106083], [127.01707916884645, 37.548401069825466], [127.01535153293837, 37.54825080367963], [127.01448055149551, 37.549805624943765], [127.0131342650813, 37.55005099850538], [127.01630244028472, 37.55301214028038], [127.01704582361985, 37.55463943604955], [127.01733893283841, 37.555850833883866], [127.01763629795938, 37.55639694661992], [127.01767993347588, 37.55647708271731], [127.01776210032425, 37.55658929928449], [127.01807250052127, 37.556888105818615], [127.01940962501206, 37.55743266956389], [127.01962807774646, 37.55729293359603], [127.01965185599958, 37.55725558827208]]], &quot;type&quot;: &quot;Polygon&quot;}, &quot;id&quot;: &quot;21&quot;, &quot;properties&quot;: {&quot;adm_cd&quot;: &quot;1104072&quot;, &quot;adm_nm&quot;: &quot;\\uc11c\\uc6b8\\ud2b9\\ubcc4\\uc2dc \\uc131\\ub3d9\\uad6c \\uae08\\ud6382\\u00b73\\uac00\\ub3d9&quot;, &quot;bj_nm&quot;: &quot;\\uae08\\ud638\\ub3d93\\uac00&quot;, &quot;hj_nm&quot;: &quot;\\uae08\\ud6382\\u00b73\\uac00\\ub3d9&quot;, &quot;si_do&quot;: &quot;\\uc11c\\uc6b8\\ud2b9\\ubcc4\\uc2dc&quot;, &quot;si_gun_gu&quot;: &quot;\\uc131\\ub3d9\\uad6c&quot;, &quot;x&quot;: &quot;957598&quot;, &quot;y&quot;: &quot;1950348&quot;}, &quot;type&quot;: &quot;Feature&quot;}, {&quot;bbox&quot;: [127.00815255436369, 37.534003516064075, 127.03581154873228, 37.55005099850538], &quot;geometry&quot;: {&quot;coordinates&quot;: [[[127.01448055149551, 37.549805624943765], [127.01535153293837, 37.54825080367963], [127.0148787376232, 37.547728688015845], [127.01486130351081, 37.547685082036026], [127.01486072921065, 37.54764129294705], [127.01488438572011, 37.547457370319925], [127.01564347312767, 37.54594761007731], [127.01614241500896, 37.54550155605168], [127.01654875291935, 37.54566954496399], [127.01692462890014, 37.54577555893401], [127.0169829872234, 37.54579136040035], [127.01702431359962, 37.54580233844746], [127.0173058602979, 37.545678996857], [127.0187360948829, 37.545008363286094], [127.0198447679466, 37.544398495626076], [127.02019125679651, 37.54288317957717], [127.0199587272392, 37.542842807575326], [127.01969237210012, 37.54269019279358], [127.02041734811444, 37.541711233591386], [127.02293225041741, 37.54145416436968], [127.02366243865359, 37.541454029476206], [127.02366969085837, 37.5414542534224], [127.02615059102011, 37.54186880496797], [127.02665495428909, 37.5419533177551], [127.02757488192088, 37.54210746085884], [127.02916528642474, 37.542359763149534], [127.03148549386397, 37.54241911408438], [127.03228128935208, 37.54196063759005], [127.03315182447916, 37.54145186907397], [127.03320974834925, 37.54137868469823], [127.03328829134459, 37.54127944616888], [127.03581154873228, 37.53784715578213], [127.03580842294168, 37.53655573318382], [127.03580666375147, 37.53582956349143], [127.02330345062144, 37.53579763673305], [127.02117868890711, 37.535818435547405], [127.01743995041575, 37.534003516064075], [127.01745117324391, 37.53445506592231], [127.01746737026646, 37.53510677068712], [127.017481988889, 37.53569500467287], [127.01751995622865, 37.537222767080145], [127.01753062912385, 37.53765227096254], [127.01729269131167, 37.53774071637576], [127.0150223606878, 37.53854239164421], [127.01322897600593, 37.53888641034141], [127.01148342838091, 37.53902571147789], [127.00994635821792, 37.5393925349774], [127.00984679883123, 37.53945741391091], [127.00975452485385, 37.53952256997578], [127.00958968856733, 37.53963896394965], [127.0093829308318, 37.539914055825506], [127.00934370439754, 37.53996624697131], [127.00880834621519, 37.5415815710622], [127.00872772230029, 37.54188358867666], [127.00869961241284, 37.541993422204584], [127.00898372462751, 37.54413421945665], [127.00815255436369, 37.54502577682319], [127.00908693581881, 37.54705717857063], [127.00920418100709, 37.547281804878885], [127.00930538750833, 37.547464357860285], [127.00967019447543, 37.54789053753389], [127.01022784787908, 37.54803864721881], [127.01092732594779, 37.548181636239896], [127.01121648376521, 37.54831427754928], [127.01159501917284, 37.54848791896756], [127.0131342650813, 37.55005099850538], [127.01448055149551, 37.549805624943765]]], &quot;type&quot;: &quot;Polygon&quot;}, &quot;id&quot;: &quot;22&quot;, &quot;properties&quot;: {&quot;adm_cd&quot;: &quot;1104073&quot;, &quot;adm_nm&quot;: &quot;\\uc11c\\uc6b8\\ud2b9\\ubcc4\\uc2dc \\uc131\\ub3d9\\uad6c \\uc625\\uc218\\ub3d9&quot;, &quot;bj_nm&quot;: &quot;\\uc625\\uc218\\ub3d9&quot;, &quot;hj_nm&quot;: &quot;\\uc625\\uc218\\ub3d9&quot;, &quot;si_do&quot;: &quot;\\uc11c\\uc6b8\\ud2b9\\ubcc4\\uc2dc&quot;, &quot;si_gun_gu&quot;: &quot;\\uc131\\ub3d9\\uad6c&quot;, &quot;x&quot;: &quot;957639&quot;, &quot;y&quot;: &quot;1949168&quot;}, &quot;type&quot;: &quot;Feature&quot;}], &quot;type&quot;: &quot;FeatureCollection&quot;});\n\n        \n    \n    var color_map_b69e9e25efa41cfd7024234ee9fe2b16 = {};\n\n    \n    color_map_b69e9e25efa41cfd7024234ee9fe2b16.color = d3.scale.threshold()\n              .domain([2058748.1622306718, 2065669.0895055914, 2072590.016780511, 2079510.9440554306, 2086431.8713303502, 2093352.7986052698, 2100273.7258801893, 2107194.653155109, 2114115.5804300285, 2121036.507704948, 2127957.4349798677, 2134878.3622547872, 2141799.2895297064, 2148720.216804626, 2155641.1440795455, 2162562.071354465, 2169482.9986293847, 2176403.9259043043, 2183324.853179224, 2190245.7804541434, 2197166.707729063, 2204087.6350039826, 2211008.562278902, 2217929.4895538217, 2224850.4168287413, 2231771.344103661, 2238692.2713785805, 2245613.1986535, 2252534.1259284196, 2259455.053203339, 2266375.980478259, 2273296.9077531784, 2280217.835028098, 2287138.762303017, 2294059.689577937, 2300980.6168528562, 2307901.544127776, 2314822.4714026954, 2321743.398677615, 2328664.3259525346, 2335585.253227454, 2342506.1805023737, 2349427.1077772933, 2356348.035052213, 2363268.9623271325, 2370189.889602052, 2377110.8168769716, 2384031.744151891, 2390952.671426811, 2397873.5987017304, 2404794.52597665, 2411715.4532515695, 2418636.380526489, 2425557.3078014087, 2432478.2350763283, 2439399.162351248, 2446320.089626167, 2453241.016901087, 2460161.944176006, 2467082.8714509257, 2474003.7987258453, 2480924.726000765, 2487845.6532756845, 2494766.580550604, 2501687.5078255236, 2508608.435100443, 2515529.362375363, 2522450.2896502824, 2529371.216925202, 2536292.1442001215, 2543213.071475041, 2550133.9987499607, 2557054.9260248803, 2563975.8532998, 2570896.7805747194, 2577817.707849639, 2584738.6351245586, 2591659.5623994777, 2598580.4896743977, 2605501.4169493173, 2612422.344224237, 2619343.271499156, 2626264.198774076, 2633185.126048995, 2640106.053323915, 2647026.9805988343, 2653947.907873754, 2660868.8351486735, 2667789.762423593, 2674710.6896985127, 2681631.6169734322, 2688552.544248352, 2695473.4715232714, 2702394.398798191, 2709315.3260731106, 2716236.25334803, 2723157.1806229497, 2730078.1078978693, 2736999.035172789, 2743919.9624477085, 2750840.8897226276, 2757761.8169975476, 2764682.7442724667, 2771603.671547387, 2778524.598822306, 2785445.5260972255, 2792366.453372145, 2799287.3806470647, 2806208.3079219842, 2813129.235196904, 2820050.1624718234, 2826971.089746743, 2833892.0170216626, 2840812.944296582, 2847733.8715715017, 2854654.7988464213, 2861575.726121341, 2868496.6533962605, 2875417.58067118, 2882338.5079460996, 2889259.435221019, 2896180.3624959383, 2903101.2897708584, 2910022.2170457775, 2916943.1443206975, 2923864.0715956166, 2930784.998870536, 2937705.926145456, 2944626.8534203754, 2951547.780695295, 2958468.7079702145, 2965389.635245134, 2972310.5625200537, 2979231.4897949733, 2986152.417069893, 2993073.3443448124, 2999994.271619732, 3006915.1988946516, 3013836.126169571, 3020757.053444491, 3027677.9807194103, 3034598.90799433, 3041519.8352692495, 3048440.762544169, 3055361.6898190887, 3062282.6170940083, 3069203.5443689274, 3076124.4716438474, 3083045.3989187665, 3089966.3261936866, 3096887.2534686057, 3103808.1807435257, 3110729.108018445, 3117650.0352933644, 3124570.962568284, 3131491.8898432036, 3138412.817118123, 3145333.7443930428, 3152254.6716679623, 3159175.598942882, 3166096.5262178015, 3173017.453492721, 3179938.3807676407, 3186859.3080425602, 3193780.23531748, 3200701.162592399, 3207622.089867319, 3214543.017142238, 3221463.944417158, 3228384.8716920773, 3235305.7989669973, 3242226.7262419164, 3249147.6535168365, 3256068.5807917556, 3262989.5080666756, 3269910.4353415947, 3276831.362616515, 3283752.289891434, 3290673.217166354, 3297594.144441273, 3304515.0717161926, 3311435.998991112, 3318356.926266032, 3325277.8535409514, 3332198.780815871, 3339119.7080907905, 3346040.63536571, 3352961.5626406297, 3359882.4899155493, 3366803.417190469, 3373724.344465388, 3380645.271740308, 3387566.199015227, 3394487.126290147, 3401408.0535650663, 3408328.980839986, 3415249.9081149055, 3422170.835389825, 3429091.7626647446, 3436012.689939664, 3442933.617214584, 3449854.5444895034, 3456775.471764423, 3463696.3990393425, 3470617.326314262, 3477538.253589181, 3484459.1808641013, 3491380.1081390204, 3498301.0354139404, 3505221.9626888596, 3512142.8899637796, 3519063.817238699, 3525984.7445136188, 3532905.6717885383, 3539826.599063458, 3546747.5263383775, 3553668.453613297, 3560589.380888216, 3567510.3081631362, 3574431.2354380554, 3581352.1627129754, 3588273.0899878945, 3595194.017262814, 3602114.9445377337, 3609035.8718126533, 3615956.799087573, 3622877.7263624924, 3629798.653637412, 3636719.5809123316, 3643640.508187251, 3650561.4354621707, 3657482.3627370903, 3664403.2900120094, 3671324.2172869295, 3678245.1445618486, 3685166.0718367686, 3692086.9991116878, 3699007.926386608, 3705928.853661527, 3712849.780936447, 3719770.708211366, 3726691.635486286, 3733612.5627612052, 3740533.4900361253, 3747454.4173110444, 3754375.3445859645, 3761296.2718608836, 3768217.199135803, 3775138.1264107227, 3782059.0536856423, 3788979.980960562, 3795900.9082354815, 3802821.835510401, 3809742.7627853206, 3816663.69006024, 3823584.61733516, 3830505.5446100794, 3837426.4718849985, 3844347.3991599185, 3851268.3264348377, 3858189.2537097577, 3865110.180984677, 3872031.1082595964, 3878952.035534516, 3885872.9628094356, 3892793.890084355, 3899714.817359275, 3906635.7446341943, 3913556.6719091143, 3920477.5991840335, 3927398.5264589535, 3934319.4537338726, 3941240.381008792, 3948161.308283712, 3955082.2355586314, 3962003.162833551, 3968924.0901084705, 3975845.01738339, 3982765.9446583097, 3989686.8719332293, 3996607.799208149, 4003528.7264830684, 4010449.6537579875, 4017370.5810329076, 4024291.5083078267, 4031212.4355827468, 4038133.362857666, 4045054.2901325854, 4051975.217407505, 4058896.1446824246, 4065817.071957344, 4072737.999232264, 4079658.9265071834, 4086579.853782103, 4093500.7810570225, 4100421.708331942, 4107342.6356068617, 4114263.562881781, 4121184.490156701, 4128105.41743162, 4135026.34470654, 4141947.271981459, 4148868.199256379, 4155789.1265312983, 4162710.053806218, 4169630.981081138, 4176551.908356057, 4183472.835630977, 4190393.762905896, 4197314.690180816, 4204235.617455736, 4211156.544730656, 4218077.472005574, 4224998.399280494, 4231919.326555414, 4238840.253830333, 4245761.181105253, 4252682.108380172, 4259603.035655092, 4266523.962930012, 4273444.890204931, 4280365.817479851, 4287286.744754771, 4294207.67202969, 4301128.599304609, 4308049.526579529, 4314970.453854449, 4321891.381129368, 4328812.308404287, 4335733.235679207, 4342654.1629541265, 4349575.0902290465, 4356496.017503966, 4363416.944778886, 4370337.872053805, 4377258.799328724, 4384179.726603644, 4391100.653878564, 4398021.581153483, 4404942.508428402, 4411863.435703322, 4418784.362978242, 4425705.290253161, 4432626.217528081, 4439547.144803001, 4446468.07207792, 4453388.99935284, 4460309.926627759, 4467230.853902679, 4474151.781177598, 4481072.708452517, 4487993.635727437, 4494914.563002357, 4501835.490277276, 4508756.4175521955, 4515677.344827116, 4522598.272102036, 4529519.199376955, 4536440.126651874, 4543361.053926794, 4550281.981201714, 4557202.908476633, 4564123.835751552, 4571044.763026472, 4577965.690301392, 4584886.61757631, 4591807.54485123, 4598728.4721261505, 4605649.399401071, 4612570.326675989, 4619491.253950909, 4626412.181225829, 4633333.108500749, 4640254.035775668, 4647174.963050587, 4654095.890325507, 4661016.817600427, 4667937.744875346, 4674858.672150265, 4681779.5994251855, 4688700.526700105, 4695621.453975025, 4702542.381249944, 4709463.308524864, 4716384.235799783, 4723305.163074702, 4730226.090349622, 4737147.017624542, 4744067.944899461, 4750988.87217438, 4757909.7994493, 4764830.72672422, 4771751.65399914, 4778672.581274059, 4785593.508548979, 4792514.435823898, 4799435.363098818, 4806356.290373737, 4813277.217648657, 4820198.144923576, 4827119.072198495, 4834039.999473415, 4840960.926748335, 4847881.8540232545, 4854802.781298174, 4861723.708573094, 4868644.635848014, 4875565.563122933, 4882486.490397852, 4889407.417672772, 4896328.344947691, 4903249.272222611, 4910170.19949753, 4917091.12677245, 4924012.054047369, 4930932.9813222885, 4937853.908597209, 4944774.835872129, 4951695.763147048, 4958616.690421967, 4965537.617696887, 4972458.544971807, 4979379.472246727, 4986300.399521645, 4993221.326796565, 5000142.254071485, 5007063.181346405, 5013984.1086213235, 5020905.0358962435, 5027825.963171164, 5034746.890446084, 5041667.817721002, 5048588.744995922, 5055509.672270842, 5062430.599545761, 5069351.52682068, 5076272.4540956, 5083193.38137052, 5090114.308645439, 5097035.235920358, 5103956.1631952785, 5110877.090470199, 5117798.017745118, 5124718.945020037, 5131639.872294957, 5138560.799569877, 5145481.726844796, 5152402.654119715, 5159323.581394635, 5166244.508669554, 5173165.435944474, 5180086.363219393, 5187007.290494313, 5193928.217769233, 5200849.145044152, 5207770.072319072, 5214690.999593992, 5221611.926868911, 5228532.85414383, 5235453.78141875, 5242374.70869367, 5249295.635968589, 5256216.563243508, 5263137.490518428, 5270058.4177933475, 5276979.345068268, 5283900.272343187, 5290821.199618107, 5297742.126893026, 5304663.054167945, 5311583.981442865, 5318504.908717785, 5325425.835992704, 5332346.763267623, 5339267.690542543, 5346188.617817463, 5353109.5450923825, 5360030.472367302, 5366951.399642222, 5373872.326917142, 5380793.254192061, 5387714.18146698, 5394635.1087419, 5401556.03601682, 5408476.963291738, 5415397.890566658, 5422318.817841578, 5429239.745116498, 5436160.6723914165, 5443081.599666337, 5450002.526941257, 5456923.454216177, 5463844.381491095, 5470765.308766015, 5477686.236040935, 5484607.163315855, 5491528.090590773, 5498449.017865693, 5505369.945140613, 5512290.872415532])\n              .range([&#x27;#ffffb2ff&#x27;, &#x27;#ffffb2ff&#x27;, &#x27;#ffffb2ff&#x27;, &#x27;#ffffb2ff&#x27;, &#x27;#ffffb2ff&#x27;, &#x27;#ffffb2ff&#x27;, &#x27;#ffffb2ff&#x27;, &#x27;#ffffb2ff&#x27;, &#x27;#ffffb2ff&#x27;, &#x27;#ffffb2ff&#x27;, &#x27;#ffffb2ff&#x27;, &#x27;#ffffb2ff&#x27;, &#x27;#ffffb2ff&#x27;, &#x27;#ffffb2ff&#x27;, &#x27;#ffffb2ff&#x27;, &#x27;#ffffb2ff&#x27;, &#x27;#ffffb2ff&#x27;, &#x27;#ffffb2ff&#x27;, &#x27;#ffffb2ff&#x27;, &#x27;#ffffb2ff&#x27;, &#x27;#ffffb2ff&#x27;, &#x27;#ffffb2ff&#x27;, &#x27;#ffffb2ff&#x27;, &#x27;#ffffb2ff&#x27;, &#x27;#ffffb2ff&#x27;, &#x27;#ffffb2ff&#x27;, &#x27;#ffffb2ff&#x27;, &#x27;#ffffb2ff&#x27;, &#x27;#ffffb2ff&#x27;, &#x27;#ffffb2ff&#x27;, &#x27;#ffffb2ff&#x27;, &#x27;#ffffb2ff&#x27;, &#x27;#ffffb2ff&#x27;, &#x27;#ffffb2ff&#x27;, &#x27;#ffffb2ff&#x27;, &#x27;#ffffb2ff&#x27;, &#x27;#ffffb2ff&#x27;, &#x27;#ffffb2ff&#x27;, &#x27;#ffffb2ff&#x27;, &#x27;#ffffb2ff&#x27;, &#x27;#ffffb2ff&#x27;, &#x27;#ffffb2ff&#x27;, &#x27;#ffffb2ff&#x27;, &#x27;#ffffb2ff&#x27;, &#x27;#ffffb2ff&#x27;, &#x27;#ffffb2ff&#x27;, &#x27;#ffffb2ff&#x27;, &#x27;#ffffb2ff&#x27;, &#x27;#ffffb2ff&#x27;, &#x27;#ffffb2ff&#x27;, &#x27;#ffffb2ff&#x27;, &#x27;#ffffb2ff&#x27;, &#x27;#ffffb2ff&#x27;, &#x27;#ffffb2ff&#x27;, &#x27;#ffffb2ff&#x27;, &#x27;#ffffb2ff&#x27;, &#x27;#ffffb2ff&#x27;, &#x27;#ffffb2ff&#x27;, &#x27;#ffffb2ff&#x27;, &#x27;#ffffb2ff&#x27;, &#x27;#ffffb2ff&#x27;, &#x27;#ffffb2ff&#x27;, &#x27;#ffffb2ff&#x27;, &#x27;#ffffb2ff&#x27;, &#x27;#ffffb2ff&#x27;, &#x27;#ffffb2ff&#x27;, &#x27;#ffffb2ff&#x27;, &#x27;#ffffb2ff&#x27;, &#x27;#ffffb2ff&#x27;, &#x27;#ffffb2ff&#x27;, &#x27;#ffffb2ff&#x27;, &#x27;#ffffb2ff&#x27;, &#x27;#ffffb2ff&#x27;, &#x27;#ffffb2ff&#x27;, &#x27;#ffffb2ff&#x27;, &#x27;#ffffb2ff&#x27;, &#x27;#ffffb2ff&#x27;, &#x27;#ffffb2ff&#x27;, &#x27;#ffffb2ff&#x27;, &#x27;#ffffb2ff&#x27;, &#x27;#ffffb2ff&#x27;, &#x27;#ffffb2ff&#x27;, &#x27;#ffffb2ff&#x27;, &#x27;#ffffb2ff&#x27;, &#x27;#fed976ff&#x27;, &#x27;#fed976ff&#x27;, &#x27;#fed976ff&#x27;, &#x27;#fed976ff&#x27;, &#x27;#fed976ff&#x27;, &#x27;#fed976ff&#x27;, &#x27;#fed976ff&#x27;, &#x27;#fed976ff&#x27;, &#x27;#fed976ff&#x27;, &#x27;#fed976ff&#x27;, &#x27;#fed976ff&#x27;, &#x27;#fed976ff&#x27;, &#x27;#fed976ff&#x27;, &#x27;#fed976ff&#x27;, &#x27;#fed976ff&#x27;, &#x27;#fed976ff&#x27;, &#x27;#fed976ff&#x27;, &#x27;#fed976ff&#x27;, &#x27;#fed976ff&#x27;, &#x27;#fed976ff&#x27;, &#x27;#fed976ff&#x27;, &#x27;#fed976ff&#x27;, &#x27;#fed976ff&#x27;, &#x27;#fed976ff&#x27;, &#x27;#fed976ff&#x27;, &#x27;#fed976ff&#x27;, &#x27;#fed976ff&#x27;, &#x27;#fed976ff&#x27;, &#x27;#fed976ff&#x27;, &#x27;#fed976ff&#x27;, &#x27;#fed976ff&#x27;, &#x27;#fed976ff&#x27;, &#x27;#fed976ff&#x27;, &#x27;#fed976ff&#x27;, &#x27;#fed976ff&#x27;, &#x27;#fed976ff&#x27;, &#x27;#fed976ff&#x27;, &#x27;#fed976ff&#x27;, &#x27;#fed976ff&#x27;, &#x27;#fed976ff&#x27;, &#x27;#fed976ff&#x27;, &#x27;#fed976ff&#x27;, &#x27;#fed976ff&#x27;, &#x27;#fed976ff&#x27;, &#x27;#fed976ff&#x27;, &#x27;#fed976ff&#x27;, &#x27;#fed976ff&#x27;, &#x27;#fed976ff&#x27;, &#x27;#fed976ff&#x27;, &#x27;#fed976ff&#x27;, &#x27;#fed976ff&#x27;, &#x27;#fed976ff&#x27;, &#x27;#fed976ff&#x27;, &#x27;#fed976ff&#x27;, &#x27;#fed976ff&#x27;, &#x27;#fed976ff&#x27;, &#x27;#fed976ff&#x27;, &#x27;#fed976ff&#x27;, &#x27;#fed976ff&#x27;, &#x27;#fed976ff&#x27;, &#x27;#fed976ff&#x27;, &#x27;#fed976ff&#x27;, &#x27;#fed976ff&#x27;, &#x27;#fed976ff&#x27;, &#x27;#fed976ff&#x27;, &#x27;#fed976ff&#x27;, &#x27;#fed976ff&#x27;, &#x27;#fed976ff&#x27;, &#x27;#fed976ff&#x27;, &#x27;#fed976ff&#x27;, &#x27;#fed976ff&#x27;, &#x27;#fed976ff&#x27;, &#x27;#fed976ff&#x27;, &#x27;#fed976ff&#x27;, &#x27;#fed976ff&#x27;, &#x27;#fed976ff&#x27;, &#x27;#fed976ff&#x27;, &#x27;#fed976ff&#x27;, &#x27;#fed976ff&#x27;, &#x27;#fed976ff&#x27;, &#x27;#fed976ff&#x27;, &#x27;#fed976ff&#x27;, &#x27;#fed976ff&#x27;, &#x27;#feb24cff&#x27;, &#x27;#feb24cff&#x27;, &#x27;#feb24cff&#x27;, &#x27;#feb24cff&#x27;, &#x27;#feb24cff&#x27;, &#x27;#feb24cff&#x27;, &#x27;#feb24cff&#x27;, &#x27;#feb24cff&#x27;, &#x27;#feb24cff&#x27;, &#x27;#feb24cff&#x27;, &#x27;#feb24cff&#x27;, &#x27;#feb24cff&#x27;, &#x27;#feb24cff&#x27;, &#x27;#feb24cff&#x27;, &#x27;#feb24cff&#x27;, &#x27;#feb24cff&#x27;, &#x27;#feb24cff&#x27;, &#x27;#feb24cff&#x27;, &#x27;#feb24cff&#x27;, &#x27;#feb24cff&#x27;, &#x27;#feb24cff&#x27;, &#x27;#feb24cff&#x27;, &#x27;#feb24cff&#x27;, &#x27;#feb24cff&#x27;, &#x27;#feb24cff&#x27;, &#x27;#feb24cff&#x27;, &#x27;#feb24cff&#x27;, &#x27;#feb24cff&#x27;, &#x27;#feb24cff&#x27;, &#x27;#feb24cff&#x27;, &#x27;#feb24cff&#x27;, &#x27;#feb24cff&#x27;, &#x27;#feb24cff&#x27;, &#x27;#feb24cff&#x27;, &#x27;#feb24cff&#x27;, &#x27;#feb24cff&#x27;, &#x27;#feb24cff&#x27;, &#x27;#feb24cff&#x27;, &#x27;#feb24cff&#x27;, &#x27;#feb24cff&#x27;, &#x27;#feb24cff&#x27;, &#x27;#feb24cff&#x27;, &#x27;#feb24cff&#x27;, &#x27;#feb24cff&#x27;, &#x27;#feb24cff&#x27;, &#x27;#feb24cff&#x27;, &#x27;#feb24cff&#x27;, &#x27;#feb24cff&#x27;, &#x27;#feb24cff&#x27;, &#x27;#feb24cff&#x27;, &#x27;#feb24cff&#x27;, &#x27;#feb24cff&#x27;, &#x27;#feb24cff&#x27;, &#x27;#feb24cff&#x27;, &#x27;#feb24cff&#x27;, &#x27;#feb24cff&#x27;, &#x27;#feb24cff&#x27;, &#x27;#feb24cff&#x27;, &#x27;#feb24cff&#x27;, &#x27;#feb24cff&#x27;, &#x27;#feb24cff&#x27;, &#x27;#feb24cff&#x27;, &#x27;#feb24cff&#x27;, &#x27;#feb24cff&#x27;, &#x27;#feb24cff&#x27;, &#x27;#feb24cff&#x27;, &#x27;#feb24cff&#x27;, &#x27;#feb24cff&#x27;, &#x27;#feb24cff&#x27;, &#x27;#feb24cff&#x27;, &#x27;#feb24cff&#x27;, &#x27;#feb24cff&#x27;, &#x27;#feb24cff&#x27;, &#x27;#feb24cff&#x27;, &#x27;#feb24cff&#x27;, &#x27;#feb24cff&#x27;, &#x27;#feb24cff&#x27;, &#x27;#feb24cff&#x27;, &#x27;#feb24cff&#x27;, &#x27;#feb24cff&#x27;, &#x27;#feb24cff&#x27;, &#x27;#feb24cff&#x27;, &#x27;#feb24cff&#x27;, &#x27;#fd8d3cff&#x27;, &#x27;#fd8d3cff&#x27;, &#x27;#fd8d3cff&#x27;, &#x27;#fd8d3cff&#x27;, &#x27;#fd8d3cff&#x27;, &#x27;#fd8d3cff&#x27;, &#x27;#fd8d3cff&#x27;, &#x27;#fd8d3cff&#x27;, &#x27;#fd8d3cff&#x27;, &#x27;#fd8d3cff&#x27;, &#x27;#fd8d3cff&#x27;, &#x27;#fd8d3cff&#x27;, &#x27;#fd8d3cff&#x27;, &#x27;#fd8d3cff&#x27;, &#x27;#fd8d3cff&#x27;, &#x27;#fd8d3cff&#x27;, &#x27;#fd8d3cff&#x27;, &#x27;#fd8d3cff&#x27;, &#x27;#fd8d3cff&#x27;, &#x27;#fd8d3cff&#x27;, &#x27;#fd8d3cff&#x27;, &#x27;#fd8d3cff&#x27;, &#x27;#fd8d3cff&#x27;, &#x27;#fd8d3cff&#x27;, &#x27;#fd8d3cff&#x27;, &#x27;#fd8d3cff&#x27;, &#x27;#fd8d3cff&#x27;, &#x27;#fd8d3cff&#x27;, &#x27;#fd8d3cff&#x27;, &#x27;#fd8d3cff&#x27;, &#x27;#fd8d3cff&#x27;, &#x27;#fd8d3cff&#x27;, &#x27;#fd8d3cff&#x27;, &#x27;#fd8d3cff&#x27;, &#x27;#fd8d3cff&#x27;, &#x27;#fd8d3cff&#x27;, &#x27;#fd8d3cff&#x27;, &#x27;#fd8d3cff&#x27;, &#x27;#fd8d3cff&#x27;, &#x27;#fd8d3cff&#x27;, &#x27;#fd8d3cff&#x27;, &#x27;#fd8d3cff&#x27;, &#x27;#fd8d3cff&#x27;, &#x27;#fd8d3cff&#x27;, &#x27;#fd8d3cff&#x27;, &#x27;#fd8d3cff&#x27;, &#x27;#fd8d3cff&#x27;, &#x27;#fd8d3cff&#x27;, &#x27;#fd8d3cff&#x27;, &#x27;#fd8d3cff&#x27;, &#x27;#fd8d3cff&#x27;, &#x27;#fd8d3cff&#x27;, &#x27;#fd8d3cff&#x27;, &#x27;#fd8d3cff&#x27;, &#x27;#fd8d3cff&#x27;, &#x27;#fd8d3cff&#x27;, &#x27;#fd8d3cff&#x27;, &#x27;#fd8d3cff&#x27;, &#x27;#fd8d3cff&#x27;, &#x27;#fd8d3cff&#x27;, &#x27;#fd8d3cff&#x27;, &#x27;#fd8d3cff&#x27;, &#x27;#fd8d3cff&#x27;, &#x27;#fd8d3cff&#x27;, &#x27;#fd8d3cff&#x27;, &#x27;#fd8d3cff&#x27;, &#x27;#fd8d3cff&#x27;, &#x27;#fd8d3cff&#x27;, &#x27;#fd8d3cff&#x27;, &#x27;#fd8d3cff&#x27;, &#x27;#fd8d3cff&#x27;, &#x27;#fd8d3cff&#x27;, &#x27;#fd8d3cff&#x27;, &#x27;#fd8d3cff&#x27;, &#x27;#fd8d3cff&#x27;, &#x27;#fd8d3cff&#x27;, &#x27;#fd8d3cff&#x27;, &#x27;#fd8d3cff&#x27;, &#x27;#fd8d3cff&#x27;, &#x27;#fd8d3cff&#x27;, &#x27;#fd8d3cff&#x27;, &#x27;#fd8d3cff&#x27;, &#x27;#fd8d3cff&#x27;, &#x27;#f03b20ff&#x27;, &#x27;#f03b20ff&#x27;, &#x27;#f03b20ff&#x27;, &#x27;#f03b20ff&#x27;, &#x27;#f03b20ff&#x27;, &#x27;#f03b20ff&#x27;, &#x27;#f03b20ff&#x27;, &#x27;#f03b20ff&#x27;, &#x27;#f03b20ff&#x27;, &#x27;#f03b20ff&#x27;, &#x27;#f03b20ff&#x27;, &#x27;#f03b20ff&#x27;, &#x27;#f03b20ff&#x27;, &#x27;#f03b20ff&#x27;, &#x27;#f03b20ff&#x27;, &#x27;#f03b20ff&#x27;, &#x27;#f03b20ff&#x27;, &#x27;#f03b20ff&#x27;, &#x27;#f03b20ff&#x27;, &#x27;#f03b20ff&#x27;, &#x27;#f03b20ff&#x27;, &#x27;#f03b20ff&#x27;, &#x27;#f03b20ff&#x27;, &#x27;#f03b20ff&#x27;, &#x27;#f03b20ff&#x27;, &#x27;#f03b20ff&#x27;, &#x27;#f03b20ff&#x27;, &#x27;#f03b20ff&#x27;, &#x27;#f03b20ff&#x27;, &#x27;#f03b20ff&#x27;, &#x27;#f03b20ff&#x27;, &#x27;#f03b20ff&#x27;, &#x27;#f03b20ff&#x27;, &#x27;#f03b20ff&#x27;, &#x27;#f03b20ff&#x27;, &#x27;#f03b20ff&#x27;, &#x27;#f03b20ff&#x27;, &#x27;#f03b20ff&#x27;, &#x27;#f03b20ff&#x27;, &#x27;#f03b20ff&#x27;, &#x27;#f03b20ff&#x27;, &#x27;#f03b20ff&#x27;, &#x27;#f03b20ff&#x27;, &#x27;#f03b20ff&#x27;, &#x27;#f03b20ff&#x27;, &#x27;#f03b20ff&#x27;, &#x27;#f03b20ff&#x27;, &#x27;#f03b20ff&#x27;, &#x27;#f03b20ff&#x27;, &#x27;#f03b20ff&#x27;, &#x27;#f03b20ff&#x27;, &#x27;#f03b20ff&#x27;, &#x27;#f03b20ff&#x27;, &#x27;#f03b20ff&#x27;, &#x27;#f03b20ff&#x27;, &#x27;#f03b20ff&#x27;, &#x27;#f03b20ff&#x27;, &#x27;#f03b20ff&#x27;, &#x27;#f03b20ff&#x27;, &#x27;#f03b20ff&#x27;, &#x27;#f03b20ff&#x27;, &#x27;#f03b20ff&#x27;, &#x27;#f03b20ff&#x27;, &#x27;#f03b20ff&#x27;, &#x27;#f03b20ff&#x27;, &#x27;#f03b20ff&#x27;, &#x27;#f03b20ff&#x27;, &#x27;#f03b20ff&#x27;, &#x27;#f03b20ff&#x27;, &#x27;#f03b20ff&#x27;, &#x27;#f03b20ff&#x27;, &#x27;#f03b20ff&#x27;, &#x27;#f03b20ff&#x27;, &#x27;#f03b20ff&#x27;, &#x27;#f03b20ff&#x27;, &#x27;#f03b20ff&#x27;, &#x27;#f03b20ff&#x27;, &#x27;#f03b20ff&#x27;, &#x27;#f03b20ff&#x27;, &#x27;#f03b20ff&#x27;, &#x27;#f03b20ff&#x27;, &#x27;#f03b20ff&#x27;, &#x27;#f03b20ff&#x27;, &#x27;#bd0026ff&#x27;, &#x27;#bd0026ff&#x27;, &#x27;#bd0026ff&#x27;, &#x27;#bd0026ff&#x27;, &#x27;#bd0026ff&#x27;, &#x27;#bd0026ff&#x27;, &#x27;#bd0026ff&#x27;, &#x27;#bd0026ff&#x27;, &#x27;#bd0026ff&#x27;, &#x27;#bd0026ff&#x27;, &#x27;#bd0026ff&#x27;, &#x27;#bd0026ff&#x27;, &#x27;#bd0026ff&#x27;, &#x27;#bd0026ff&#x27;, &#x27;#bd0026ff&#x27;, &#x27;#bd0026ff&#x27;, &#x27;#bd0026ff&#x27;, &#x27;#bd0026ff&#x27;, &#x27;#bd0026ff&#x27;, &#x27;#bd0026ff&#x27;, &#x27;#bd0026ff&#x27;, &#x27;#bd0026ff&#x27;, &#x27;#bd0026ff&#x27;, &#x27;#bd0026ff&#x27;, &#x27;#bd0026ff&#x27;, &#x27;#bd0026ff&#x27;, &#x27;#bd0026ff&#x27;, &#x27;#bd0026ff&#x27;, &#x27;#bd0026ff&#x27;, &#x27;#bd0026ff&#x27;, &#x27;#bd0026ff&#x27;, &#x27;#bd0026ff&#x27;, &#x27;#bd0026ff&#x27;, &#x27;#bd0026ff&#x27;, &#x27;#bd0026ff&#x27;, &#x27;#bd0026ff&#x27;, &#x27;#bd0026ff&#x27;, &#x27;#bd0026ff&#x27;, &#x27;#bd0026ff&#x27;, &#x27;#bd0026ff&#x27;, &#x27;#bd0026ff&#x27;, &#x27;#bd0026ff&#x27;, &#x27;#bd0026ff&#x27;, &#x27;#bd0026ff&#x27;, &#x27;#bd0026ff&#x27;, &#x27;#bd0026ff&#x27;, &#x27;#bd0026ff&#x27;, &#x27;#bd0026ff&#x27;, &#x27;#bd0026ff&#x27;, &#x27;#bd0026ff&#x27;, &#x27;#bd0026ff&#x27;, &#x27;#bd0026ff&#x27;, &#x27;#bd0026ff&#x27;, &#x27;#bd0026ff&#x27;, &#x27;#bd0026ff&#x27;, &#x27;#bd0026ff&#x27;, &#x27;#bd0026ff&#x27;, &#x27;#bd0026ff&#x27;, &#x27;#bd0026ff&#x27;, &#x27;#bd0026ff&#x27;, &#x27;#bd0026ff&#x27;, &#x27;#bd0026ff&#x27;, &#x27;#bd0026ff&#x27;, &#x27;#bd0026ff&#x27;, &#x27;#bd0026ff&#x27;, &#x27;#bd0026ff&#x27;, &#x27;#bd0026ff&#x27;, &#x27;#bd0026ff&#x27;, &#x27;#bd0026ff&#x27;, &#x27;#bd0026ff&#x27;, &#x27;#bd0026ff&#x27;, &#x27;#bd0026ff&#x27;, &#x27;#bd0026ff&#x27;, &#x27;#bd0026ff&#x27;, &#x27;#bd0026ff&#x27;, &#x27;#bd0026ff&#x27;, &#x27;#bd0026ff&#x27;, &#x27;#bd0026ff&#x27;, &#x27;#bd0026ff&#x27;, &#x27;#bd0026ff&#x27;, &#x27;#bd0026ff&#x27;, &#x27;#bd0026ff&#x27;, &#x27;#bd0026ff&#x27;, &#x27;#bd0026ff&#x27;]);\n    \n\n    color_map_b69e9e25efa41cfd7024234ee9fe2b16.x = d3.scale.linear()\n              .domain([2058748.1622306718, 5512290.872415532])\n              .range([0, 450 - 50]);\n\n    color_map_b69e9e25efa41cfd7024234ee9fe2b16.legend = L.control({position: &#x27;topright&#x27;});\n    color_map_b69e9e25efa41cfd7024234ee9fe2b16.legend.onAdd = function (map) {var div = L.DomUtil.create(&#x27;div&#x27;, &#x27;legend&#x27;); return div};\n    color_map_b69e9e25efa41cfd7024234ee9fe2b16.legend.addTo(map_c3da1ff7ea7f2b5fa606fc4b8cc7269c);\n\n    color_map_b69e9e25efa41cfd7024234ee9fe2b16.xAxis = d3.svg.axis()\n        .scale(color_map_b69e9e25efa41cfd7024234ee9fe2b16.x)\n        .orient(&quot;top&quot;)\n        .tickSize(1)\n        .tickValues([2058748.1622306718, 2634338.6139281485, 3209929.0656256257, 3785519.5173231023, 4361109.969020579, 4936700.420718055, 5512290.872415532]);\n\n    color_map_b69e9e25efa41cfd7024234ee9fe2b16.svg = d3.select(&quot;.legend.leaflet-control&quot;).append(&quot;svg&quot;)\n        .attr(&quot;id&quot;, &#x27;legend&#x27;)\n        .attr(&quot;width&quot;, 450)\n        .attr(&quot;height&quot;, 40);\n\n    color_map_b69e9e25efa41cfd7024234ee9fe2b16.g = color_map_b69e9e25efa41cfd7024234ee9fe2b16.svg.append(&quot;g&quot;)\n        .attr(&quot;class&quot;, &quot;key&quot;)\n        .attr(&quot;transform&quot;, &quot;translate(25,16)&quot;);\n\n    color_map_b69e9e25efa41cfd7024234ee9fe2b16.g.selectAll(&quot;rect&quot;)\n        .data(color_map_b69e9e25efa41cfd7024234ee9fe2b16.color.range().map(function(d, i) {\n          return {\n            x0: i ? color_map_b69e9e25efa41cfd7024234ee9fe2b16.x(color_map_b69e9e25efa41cfd7024234ee9fe2b16.color.domain()[i - 1]) : color_map_b69e9e25efa41cfd7024234ee9fe2b16.x.range()[0],\n            x1: i &lt; color_map_b69e9e25efa41cfd7024234ee9fe2b16.color.domain().length ? color_map_b69e9e25efa41cfd7024234ee9fe2b16.x(color_map_b69e9e25efa41cfd7024234ee9fe2b16.color.domain()[i]) : color_map_b69e9e25efa41cfd7024234ee9fe2b16.x.range()[1],\n            z: d\n          };\n        }))\n      .enter().append(&quot;rect&quot;)\n        .attr(&quot;height&quot;, 40 - 30)\n        .attr(&quot;x&quot;, function(d) { return d.x0; })\n        .attr(&quot;width&quot;, function(d) { return d.x1 - d.x0; })\n        .style(&quot;fill&quot;, function(d) { return d.z; });\n\n    color_map_b69e9e25efa41cfd7024234ee9fe2b16.g.call(color_map_b69e9e25efa41cfd7024234ee9fe2b16.xAxis).append(&quot;text&quot;)\n        .attr(&quot;class&quot;, &quot;caption&quot;)\n        .attr(&quot;y&quot;, 21)\n        .text(&quot;\\ud3c9\\uade0 \\uacf5\\uc2dc\\uc9c0\\uac00&quot;);\n&lt;/script&gt;\n&lt;/html&gt;\" style=\"position:absolute;width:100%;height:100%;left:0;top:0;border:none !important;\" allowfullscreen webkitallowfullscreen mozallowfullscreen></iframe></div></div>"
     },
     "execution_count": 52,
     "metadata": {},
     "output_type": "execute_result"
    }
   ],
   "source": [
    "map"
   ],
   "metadata": {
    "collapsed": false,
    "ExecuteTime": {
     "end_time": "2023-08-17T02:16:52.555727400Z",
     "start_time": "2023-08-17T02:16:52.398183800Z"
    }
   }
  },
  {
   "cell_type": "code",
   "execution_count": null,
   "outputs": [],
   "source": [],
   "metadata": {
    "collapsed": false
   }
  }
 ],
 "metadata": {
  "kernelspec": {
   "display_name": "Python 3",
   "language": "python",
   "name": "python3"
  },
  "language_info": {
   "codemirror_mode": {
    "name": "ipython",
    "version": 2
   },
   "file_extension": ".py",
   "mimetype": "text/x-python",
   "name": "python",
   "nbconvert_exporter": "python",
   "pygments_lexer": "ipython2",
   "version": "2.7.6"
  }
 },
 "nbformat": 4,
 "nbformat_minor": 0
}
