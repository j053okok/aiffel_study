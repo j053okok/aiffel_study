{
 "cells": [
  {
   "cell_type": "code",
   "execution_count": 1,
   "id": "initial_id",
   "metadata": {
    "collapsed": true,
    "ExecuteTime": {
     "end_time": "2023-10-18T05:17:46.933692300Z",
     "start_time": "2023-10-18T05:17:44.662336700Z"
    }
   },
   "outputs": [],
   "source": [
    "import tensorflow as tf"
   ]
  },
  {
   "cell_type": "markdown",
   "source": [
    "### 차원에 따른 텐서 생성"
   ],
   "metadata": {
    "collapsed": false
   },
   "id": "feb4d14c4233b76e"
  },
  {
   "cell_type": "code",
   "execution_count": 2,
   "outputs": [
    {
     "name": "stdout",
     "output_type": "stream",
     "text": [
      "tf.Tensor(1, shape=(), dtype=int32)\n",
      "tf.Tensor(0, shape=(), dtype=int32)\n"
     ]
    }
   ],
   "source": [
    "t0 = tf.constant(1)\n",
    "print(t0)\n",
    "print(tf.rank(t0))  # 축의 개수를 반환합니다."
   ],
   "metadata": {
    "collapsed": false,
    "ExecuteTime": {
     "end_time": "2023-10-18T05:18:09.319604600Z",
     "start_time": "2023-10-18T05:18:09.253115700Z"
    }
   },
   "id": "68f8a4e1770b406b"
  },
  {
   "cell_type": "code",
   "execution_count": 3,
   "outputs": [
    {
     "name": "stdout",
     "output_type": "stream",
     "text": [
      "tf.Tensor([1 2 3], shape=(3,), dtype=int32)\n",
      "tf.Tensor(1, shape=(), dtype=int32)\n"
     ]
    }
   ],
   "source": [
    "t1 = tf.constant([1, 2, 3])\n",
    "print(t1)\n",
    "print(tf.rank(t1))"
   ],
   "metadata": {
    "collapsed": false,
    "ExecuteTime": {
     "end_time": "2023-10-18T05:18:33.176631900Z",
     "start_time": "2023-10-18T05:18:33.158026100Z"
    }
   },
   "id": "c5d550575a85b18d"
  },
  {
   "cell_type": "code",
   "execution_count": 4,
   "outputs": [
    {
     "name": "stdout",
     "output_type": "stream",
     "text": [
      "tf.Tensor(\n",
      "[[1 2 3]\n",
      " [1 2 3]], shape=(2, 3), dtype=int32)\n",
      "tf.Tensor(2, shape=(), dtype=int32)\n"
     ]
    }
   ],
   "source": [
    "t2 = tf.constant([[1, 2, 3], [1, 2, 3]])\n",
    "print(t2)\n",
    "print(tf.rank(t2))"
   ],
   "metadata": {
    "collapsed": false,
    "ExecuteTime": {
     "end_time": "2023-10-18T05:19:29.526365600Z",
     "start_time": "2023-10-18T05:19:29.519619300Z"
    }
   },
   "id": "eaf070cf8db3db20"
  },
  {
   "cell_type": "code",
   "execution_count": 8,
   "outputs": [
    {
     "name": "stdout",
     "output_type": "stream",
     "text": [
      "tf.Tensor(\n",
      "[[[1 2 3]\n",
      "  [1 2 3]\n",
      "  [1 2 3]]], shape=(1, 3, 3), dtype=int32)\n",
      "tf.Tensor(3, shape=(), dtype=int32)\n"
     ]
    }
   ],
   "source": [
    "t3 = tf.constant([[[1, 2, 3], [1, 2, 3], [1, 2, 3]]])\n",
    "print(t3)\n",
    "print(tf.rank(t3))"
   ],
   "metadata": {
    "collapsed": false,
    "ExecuteTime": {
     "end_time": "2023-10-18T05:23:28.969912900Z",
     "start_time": "2023-10-18T05:23:28.953266Z"
    }
   },
   "id": "51f40b1b73dee04e"
  },
  {
   "cell_type": "markdown",
   "source": [
    "### 텐서의 타입"
   ],
   "metadata": {
    "collapsed": false
   },
   "id": "59b2ad4c6d6ec07"
  },
  {
   "cell_type": "code",
   "execution_count": 9,
   "outputs": [
    {
     "name": "stdout",
     "output_type": "stream",
     "text": [
      "tf.Tensor(2, shape=(), dtype=int32)\n"
     ]
    }
   ],
   "source": [
    "# 상수값 2인 텐서 생성\n",
    "i = tf.constant(2)\n",
    "print(i)"
   ],
   "metadata": {
    "collapsed": false,
    "ExecuteTime": {
     "end_time": "2023-10-18T05:27:23.195873800Z",
     "start_time": "2023-10-18T05:27:23.190119Z"
    }
   },
   "id": "ca80743b0b2989e9"
  },
  {
   "cell_type": "markdown",
   "source": [
    "* 타입 int32"
   ],
   "metadata": {
    "collapsed": false
   },
   "id": "d34975c381724b17"
  },
  {
   "cell_type": "code",
   "execution_count": null,
   "outputs": [],
   "source": [],
   "metadata": {
    "collapsed": false
   },
   "id": "3deb464ad27049ef"
  }
 ],
 "metadata": {
  "kernelspec": {
   "display_name": "Python 3",
   "language": "python",
   "name": "python3"
  },
  "language_info": {
   "codemirror_mode": {
    "name": "ipython",
    "version": 2
   },
   "file_extension": ".py",
   "mimetype": "text/x-python",
   "name": "python",
   "nbconvert_exporter": "python",
   "pygments_lexer": "ipython2",
   "version": "2.7.6"
  }
 },
 "nbformat": 4,
 "nbformat_minor": 5
}
