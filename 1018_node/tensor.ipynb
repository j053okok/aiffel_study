{
 "cells": [
  {
   "cell_type": "code",
   "execution_count": 1,
   "id": "initial_id",
   "metadata": {
    "collapsed": true,
    "ExecuteTime": {
     "end_time": "2023-10-18T07:56:45.304264400Z",
     "start_time": "2023-10-18T07:56:42.822492400Z"
    }
   },
   "outputs": [],
   "source": [
    "import tensorflow as tf"
   ]
  },
  {
   "cell_type": "markdown",
   "source": [
    "### 차원에 따른 텐서 생성"
   ],
   "metadata": {
    "collapsed": false
   },
   "id": "feb4d14c4233b76e"
  },
  {
   "cell_type": "code",
   "execution_count": 2,
   "outputs": [
    {
     "name": "stdout",
     "output_type": "stream",
     "text": [
      "tf.Tensor(1, shape=(), dtype=int32)\n",
      "tf.Tensor(0, shape=(), dtype=int32)\n"
     ]
    }
   ],
   "source": [
    "t0 = tf.constant(1)\n",
    "print(t0)\n",
    "print(tf.rank(t0))  # 축의 개수를 반환합니다."
   ],
   "metadata": {
    "collapsed": false,
    "ExecuteTime": {
     "end_time": "2023-10-18T07:56:45.371459400Z",
     "start_time": "2023-10-18T07:56:45.303514400Z"
    }
   },
   "id": "68f8a4e1770b406b"
  },
  {
   "cell_type": "code",
   "execution_count": 3,
   "outputs": [
    {
     "name": "stdout",
     "output_type": "stream",
     "text": [
      "tf.Tensor([1 2 3], shape=(3,), dtype=int32)\n",
      "tf.Tensor(1, shape=(), dtype=int32)\n"
     ]
    }
   ],
   "source": [
    "t1 = tf.constant([1, 2, 3])\n",
    "print(t1)\n",
    "print(tf.rank(t1))"
   ],
   "metadata": {
    "collapsed": false,
    "ExecuteTime": {
     "end_time": "2023-10-18T07:56:45.382216100Z",
     "start_time": "2023-10-18T07:56:45.370708900Z"
    }
   },
   "id": "c5d550575a85b18d"
  },
  {
   "cell_type": "code",
   "execution_count": 4,
   "outputs": [
    {
     "name": "stdout",
     "output_type": "stream",
     "text": [
      "tf.Tensor(\n",
      "[[1 2 3]\n",
      " [1 2 3]], shape=(2, 3), dtype=int32)\n",
      "tf.Tensor(2, shape=(), dtype=int32)\n"
     ]
    }
   ],
   "source": [
    "t2 = tf.constant([[1, 2, 3], [1, 2, 3]])\n",
    "print(t2)\n",
    "print(tf.rank(t2))"
   ],
   "metadata": {
    "collapsed": false,
    "ExecuteTime": {
     "end_time": "2023-10-18T07:56:45.391582500Z",
     "start_time": "2023-10-18T07:56:45.375461600Z"
    }
   },
   "id": "eaf070cf8db3db20"
  },
  {
   "cell_type": "code",
   "execution_count": 5,
   "outputs": [
    {
     "name": "stdout",
     "output_type": "stream",
     "text": [
      "tf.Tensor(\n",
      "[[[1 2 3]\n",
      "  [1 2 3]\n",
      "  [1 2 3]]], shape=(1, 3, 3), dtype=int32)\n",
      "tf.Tensor(3, shape=(), dtype=int32)\n"
     ]
    }
   ],
   "source": [
    "t3 = tf.constant([[[1, 2, 3], [1, 2, 3], [1, 2, 3]]])\n",
    "print(t3)\n",
    "print(tf.rank(t3))"
   ],
   "metadata": {
    "collapsed": false,
    "ExecuteTime": {
     "end_time": "2023-10-18T07:56:45.435306500Z",
     "start_time": "2023-10-18T07:56:45.384170100Z"
    }
   },
   "id": "51f40b1b73dee04e"
  },
  {
   "cell_type": "markdown",
   "source": [
    "### 텐서의 타입"
   ],
   "metadata": {
    "collapsed": false
   },
   "id": "59b2ad4c6d6ec07"
  },
  {
   "cell_type": "code",
   "execution_count": 6,
   "outputs": [
    {
     "name": "stdout",
     "output_type": "stream",
     "text": [
      "tf.Tensor(2, shape=(), dtype=int32)\n"
     ]
    }
   ],
   "source": [
    "# 상수값 2인 텐서 생성\n",
    "i = tf.constant(2)\n",
    "print(i)"
   ],
   "metadata": {
    "collapsed": false,
    "ExecuteTime": {
     "end_time": "2023-10-18T07:56:45.436057700Z",
     "start_time": "2023-10-18T07:56:45.395179900Z"
    }
   },
   "id": "ca80743b0b2989e9"
  },
  {
   "cell_type": "markdown",
   "source": [
    "* 타입 int32"
   ],
   "metadata": {
    "collapsed": false
   },
   "id": "d34975c381724b17"
  },
  {
   "cell_type": "code",
   "execution_count": 7,
   "outputs": [
    {
     "name": "stdout",
     "output_type": "stream",
     "text": [
      "tf.Tensor(2.0, shape=(), dtype=float32)\n"
     ]
    }
   ],
   "source": [
    "# 상수값 2.0인 텐서생성\n",
    "f = tf.constant(2.0)\n",
    "print(f)"
   ],
   "metadata": {
    "collapsed": false,
    "ExecuteTime": {
     "end_time": "2023-10-18T08:08:23.252346600Z",
     "start_time": "2023-10-18T08:08:23.234913400Z"
    }
   },
   "id": "3deb464ad27049ef"
  },
  {
   "cell_type": "code",
   "execution_count": 8,
   "outputs": [
    {
     "name": "stdout",
     "output_type": "stream",
     "text": [
      "tf.Tensor(b'Whathe', shape=(), dtype=string)\n"
     ]
    }
   ],
   "source": [
    "s = tf.constant(\"Whathe\")\n",
    "print(s)"
   ],
   "metadata": {
    "collapsed": false,
    "ExecuteTime": {
     "end_time": "2023-10-18T08:13:50.548926500Z",
     "start_time": "2023-10-18T08:13:50.535584800Z"
    }
   },
   "id": "c410c52736513c67"
  },
  {
   "cell_type": "code",
   "execution_count": 9,
   "outputs": [
    {
     "name": "stdout",
     "output_type": "stream",
     "text": [
      "tf.Tensor(2.0, shape=(), dtype=float16)\n"
     ]
    }
   ],
   "source": [
    "# 16비트 실수형으로 직접 타입 지정하기\n",
    "f16 = tf.constant(2., dtype=tf.float16)\n",
    "print(f16)"
   ],
   "metadata": {
    "collapsed": false,
    "ExecuteTime": {
     "end_time": "2023-10-18T08:14:41.537747700Z",
     "start_time": "2023-10-18T08:14:41.518510400Z"
    }
   },
   "id": "80d2b6691004f623"
  },
  {
   "cell_type": "code",
   "execution_count": 18,
   "outputs": [
    {
     "name": "stdout",
     "output_type": "stream",
     "text": [
      "tf.Tensor(3, shape=(), dtype=int8)\n"
     ]
    }
   ],
   "source": [
    "# 8비트 정수형으로 타입 지정\n",
    "t8 = tf.constant(3, dtype=tf.int8)\n",
    "print(t8)"
   ],
   "metadata": {
    "collapsed": false,
    "ExecuteTime": {
     "end_time": "2023-10-18T08:20:12.947297200Z",
     "start_time": "2023-10-18T08:20:12.934742900Z"
    }
   },
   "id": "4cc6ab0338cfbbf9"
  },
  {
   "cell_type": "markdown",
   "source": [
    "### 텐서 타입 변환"
   ],
   "metadata": {
    "collapsed": false
   },
   "id": "c119add992ef3af6"
  },
  {
   "cell_type": "code",
   "execution_count": 17,
   "outputs": [
    {
     "name": "stdout",
     "output_type": "stream",
     "text": [
      "tf.Tensor(2.0, shape=(), dtype=float32)\n",
      "tf.Tensor(2.0, shape=(), dtype=float16)\n"
     ]
    }
   ],
   "source": [
    "# 16비트 실수형을 32비트 실수형으로 변환\n",
    "f32 = tf.cast(f16, tf.float32)\n",
    "print(f32)\n",
    "print(f16) # 새로운 변수에 지정해서 대상은 바뀌지 않음"
   ],
   "metadata": {
    "collapsed": false,
    "ExecuteTime": {
     "end_time": "2023-10-18T08:19:17.690279200Z",
     "start_time": "2023-10-18T08:19:17.673807400Z"
    }
   },
   "id": "d004e5618c5c6a30"
  },
  {
   "cell_type": "code",
   "execution_count": 20,
   "outputs": [
    {
     "name": "stdout",
     "output_type": "stream",
     "text": [
      "tf.Tensor(3, shape=(), dtype=int32)\n",
      "tf.Tensor(3, shape=(), dtype=int8)\n"
     ]
    }
   ],
   "source": [
    "# 8비트 정수형에서 32비트 정수형으로 변환\n",
    "t32 = tf.cast(t8, tf.int32)\n",
    "print(t32)\n",
    "print(t8)"
   ],
   "metadata": {
    "collapsed": false,
    "ExecuteTime": {
     "end_time": "2023-10-18T08:20:57.962681600Z",
     "start_time": "2023-10-18T08:20:57.941741700Z"
    }
   },
   "id": "2a2867aec542a2b1"
  },
  {
   "cell_type": "markdown",
   "source": [
    "### 텐서 형상 변환"
   ],
   "metadata": {
    "collapsed": false
   },
   "id": "a9a18d111c95f7dc"
  },
  {
   "cell_type": "code",
   "execution_count": 23,
   "outputs": [
    {
     "name": "stdout",
     "output_type": "stream",
     "text": [
      "tf.Tensor(\n",
      "[[1]\n",
      " [2]\n",
      " [3]], shape=(3, 1), dtype=int32)\n",
      "(3, 1)\n",
      "tf.Tensor([[1 2 3]], shape=(1, 3), dtype=int32)\n",
      "(1, 3)\n"
     ]
    }
   ],
   "source": [
    "# reshape\n",
    "x = tf.constant([[1], [2], [3]])\n",
    "print(x)\n",
    "print(x.shape)\n",
    "\n",
    "y = tf.reshape(x, [1, 3])\n",
    "print(y)\n",
    "print(y.shape)"
   ],
   "metadata": {
    "collapsed": false,
    "ExecuteTime": {
     "end_time": "2023-10-18T08:21:51.554531500Z",
     "start_time": "2023-10-18T08:21:51.537172900Z"
    }
   },
   "id": "4d33fc5ec57563f"
  },
  {
   "cell_type": "code",
   "execution_count": 24,
   "outputs": [
    {
     "name": "stdout",
     "output_type": "stream",
     "text": [
      "tf.Tensor([[1 2 3]], shape=(1, 3), dtype=int32)\n",
      "tf.Tensor(\n",
      "[[1]\n",
      " [2]\n",
      " [3]], shape=(3, 1), dtype=int32)\n",
      "(1, 3)\n"
     ]
    }
   ],
   "source": [
    "# 텐서 전치(transpose)\n",
    "print(y)\n",
    "print(tf.transpose(y))\n",
    "print(y.shape)"
   ],
   "metadata": {
    "collapsed": false,
    "ExecuteTime": {
     "end_time": "2023-10-18T08:22:37.606882700Z",
     "start_time": "2023-10-18T08:22:37.586435300Z"
    }
   },
   "id": "abfe512548d6c6c1"
  },
  {
   "cell_type": "markdown",
   "source": [
    "### 차원 압축"
   ],
   "metadata": {
    "collapsed": false
   },
   "id": "b0a67dd0d2fa181b"
  },
  {
   "cell_type": "code",
   "execution_count": 26,
   "outputs": [
    {
     "name": "stdout",
     "output_type": "stream",
     "text": [
      "tf.Tensor(\n",
      "[[1]\n",
      " [2]\n",
      " [3]], shape=(3, 1), dtype=int32)\n",
      "tf.Tensor([1 2 3], shape=(3,), dtype=int32)\n"
     ]
    }
   ],
   "source": [
    "# tf.squeeze 는 텐서에서 크기가 1인 차원을 제거함\n",
    "print(x)\n",
    "print(tf.squeeze(x))"
   ],
   "metadata": {
    "collapsed": false,
    "ExecuteTime": {
     "end_time": "2023-10-18T08:23:53.099959200Z",
     "start_time": "2023-10-18T08:23:53.081654700Z"
    }
   },
   "id": "605014292f57cc07"
  },
  {
   "cell_type": "markdown",
   "source": [
    "### 차원 추가"
   ],
   "metadata": {
    "collapsed": false
   },
   "id": "b1d8664b372df50e"
  },
  {
   "cell_type": "code",
   "execution_count": 27,
   "outputs": [
    {
     "name": "stdout",
     "output_type": "stream",
     "text": [
      "tf.Tensor([[1 2 3]], shape=(1, 3), dtype=int32)\n",
      "tf.Tensor([[[1 2 3]]], shape=(1, 1, 3), dtype=int32)\n",
      "tf.Tensor([[[1 2 3]]], shape=(1, 1, 3), dtype=int32)\n",
      "tf.Tensor(\n",
      "[[[1]\n",
      "  [2]\n",
      "  [3]]], shape=(1, 3, 1), dtype=int32)\n"
     ]
    }
   ],
   "source": [
    "# tf.expand_dims는 차원을 추가함, axis는 차원을 확장할 텐서의 축을 지정함\n",
    "print(y)\n",
    "print(tf.expand_dims(y, axis=0))\n",
    "print(tf.expand_dims(y, axis=1))\n",
    "print(tf.expand_dims(y, axis=2))"
   ],
   "metadata": {
    "collapsed": false,
    "ExecuteTime": {
     "end_time": "2023-10-18T08:26:22.403847700Z",
     "start_time": "2023-10-18T08:26:22.393992900Z"
    }
   },
   "id": "6343877f348051e"
  },
  {
   "cell_type": "markdown",
   "source": [
    "### 텐서 분리"
   ],
   "metadata": {
    "collapsed": false
   },
   "id": "eab89d8b860d3c49"
  },
  {
   "cell_type": "code",
   "execution_count": 29,
   "outputs": [
    {
     "name": "stdout",
     "output_type": "stream",
     "text": [
      "tf.Tensor(\n",
      "[[1]\n",
      " [2]\n",
      " [3]], shape=(3, 1), dtype=int32)\n",
      "[<tf.Tensor: shape=(1, 1), dtype=int32, numpy=array([[1]])>, <tf.Tensor: shape=(1, 1), dtype=int32, numpy=array([[2]])>, <tf.Tensor: shape=(1, 1), dtype=int32, numpy=array([[3]])>]\n"
     ]
    }
   ],
   "source": [
    "# tf.split 로 차원을 지정하여 분리 아래에서는 텐서 x를 3개로 분리\n",
    "print(x)\n",
    "print(tf.split(x, 3))"
   ],
   "metadata": {
    "collapsed": false,
    "ExecuteTime": {
     "end_time": "2023-10-18T08:29:11.288136Z",
     "start_time": "2023-10-18T08:29:11.268481500Z"
    }
   },
   "id": "ce7131911f102183"
  },
  {
   "cell_type": "markdown",
   "source": [
    "### 텐서 연결"
   ],
   "metadata": {
    "collapsed": false
   },
   "id": "9e3bb0cc10505c32"
  },
  {
   "cell_type": "code",
   "execution_count": 30,
   "outputs": [
    {
     "name": "stdout",
     "output_type": "stream",
     "text": [
      "tf.Tensor(\n",
      "[[1]\n",
      " [2]\n",
      " [3]], shape=(3, 1), dtype=int32)\n",
      "tf.Tensor(\n",
      "[[1]\n",
      " [2]\n",
      " [3]\n",
      " [1]\n",
      " [2]\n",
      " [3]], shape=(6, 1), dtype=int32)\n",
      "tf.Tensor(\n",
      "[[1 1]\n",
      " [2 2]\n",
      " [3 3]], shape=(3, 2), dtype=int32)\n"
     ]
    }
   ],
   "source": [
    "# tf.concat 은 axis로 지정한 축을 기준으로 텐서들을 이어붙임\n",
    "print(x)\n",
    "print(tf.concat([x, x], axis=0))\n",
    "print(tf.concat([x, x], axis=1))"
   ],
   "metadata": {
    "collapsed": false,
    "ExecuteTime": {
     "end_time": "2023-10-18T08:30:20.447726400Z",
     "start_time": "2023-10-18T08:30:20.426579900Z"
    }
   },
   "id": "8fc56b9ec1047185"
  },
  {
   "cell_type": "code",
   "execution_count": null,
   "outputs": [],
   "source": [],
   "metadata": {
    "collapsed": false
   },
   "id": "124a7fc4c1dd558c"
  }
 ],
 "metadata": {
  "kernelspec": {
   "display_name": "Python 3",
   "language": "python",
   "name": "python3"
  },
  "language_info": {
   "codemirror_mode": {
    "name": "ipython",
    "version": 2
   },
   "file_extension": ".py",
   "mimetype": "text/x-python",
   "name": "python",
   "nbconvert_exporter": "python",
   "pygments_lexer": "ipython2",
   "version": "2.7.6"
  }
 },
 "nbformat": 4,
 "nbformat_minor": 5
}
