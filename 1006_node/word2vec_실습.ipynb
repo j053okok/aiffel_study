{
 "cells": [
  {
   "cell_type": "code",
   "execution_count": 1,
   "outputs": [
    {
     "name": "stderr",
     "output_type": "stream",
     "text": [
      "[nltk_data] Downloading package abc to\n",
      "[nltk_data]     C:\\Users\\008yo\\AppData\\Roaming\\nltk_data...\n",
      "[nltk_data]   Unzipping corpora\\abc.zip.\n",
      "[nltk_data] Downloading package punkt to\n",
      "[nltk_data]     C:\\Users\\008yo\\AppData\\Roaming\\nltk_data...\n",
      "[nltk_data]   Package punkt is already up-to-date!\n"
     ]
    },
    {
     "data": {
      "text/plain": "True"
     },
     "execution_count": 1,
     "metadata": {},
     "output_type": "execute_result"
    }
   ],
   "source": [
    "import nltk\n",
    "nltk.download('abc')\n",
    "nltk.download('punkt')"
   ],
   "metadata": {
    "collapsed": false,
    "ExecuteTime": {
     "end_time": "2023-10-06T01:41:45.151656300Z",
     "start_time": "2023-10-06T01:41:41.380138Z"
    }
   },
   "id": "f81c018e2339c253"
  },
  {
   "cell_type": "code",
   "execution_count": 2,
   "outputs": [],
   "source": [
    "from nltk.corpus import abc\n",
    "corpus = abc.sents()"
   ],
   "metadata": {
    "collapsed": false,
    "ExecuteTime": {
     "end_time": "2023-10-06T01:42:06.591087800Z",
     "start_time": "2023-10-06T01:42:06.572586900Z"
    }
   },
   "id": "7f38e01a72d5b8d2"
  },
  {
   "cell_type": "code",
   "execution_count": 6,
   "outputs": [
    {
     "name": "stdout",
     "output_type": "stream",
     "text": [
      "29059\n"
     ]
    }
   ],
   "source": [
    "print(len(corpus))"
   ],
   "metadata": {
    "collapsed": false,
    "ExecuteTime": {
     "end_time": "2023-10-06T01:42:45.149575600Z",
     "start_time": "2023-10-06T01:42:45.132363900Z"
    }
   },
   "id": "1c64ff83e051eea4"
  },
  {
   "cell_type": "code",
   "execution_count": 7,
   "outputs": [
    {
     "name": "stdout",
     "output_type": "stream",
     "text": [
      "[['PM', 'denies', 'knowledge', 'of', 'AWB', 'kickbacks', 'The', 'Prime', 'Minister', 'has', 'denied', 'he', 'knew', 'AWB', 'was', 'paying', 'kickbacks', 'to', 'Iraq', 'despite', 'writing', 'to', 'the', 'wheat', 'exporter', 'asking', 'to', 'be', 'kept', 'fully', 'informed', 'on', 'Iraq', 'wheat', 'sales', '.'], ['Letters', 'from', 'John', 'Howard', 'and', 'Deputy', 'Prime', 'Minister', 'Mark', 'Vaile', 'to', 'AWB', 'have', 'been', 'released', 'by', 'the', 'Cole', 'inquiry', 'into', 'the', 'oil', 'for', 'food', 'program', '.'], ['In', 'one', 'of', 'the', 'letters', 'Mr', 'Howard', 'asks', 'AWB', 'managing', 'director', 'Andrew', 'Lindberg', 'to', 'remain', 'in', 'close', 'contact', 'with', 'the', 'Government', 'on', 'Iraq', 'wheat', 'sales', '.']]\n"
     ]
    }
   ],
   "source": [
    "print(corpus[:3])"
   ],
   "metadata": {
    "collapsed": false,
    "ExecuteTime": {
     "end_time": "2023-10-06T01:42:46.083442600Z",
     "start_time": "2023-10-06T01:42:46.078028200Z"
    }
   },
   "id": "224c389c84b046a2"
  },
  {
   "cell_type": "code",
   "execution_count": 9,
   "outputs": [],
   "source": [
    "# 모델학습\n",
    "from gensim.models import Word2Vec\n",
    "\n",
    "model = Word2Vec(sentences = corpus, vector_size = 100, window = 5, min_count = 5, workers = 4, sg = 0)\n",
    "# vector_size : 학습 수 임베딩 벡터의 차원\n",
    "# window : 컨텍스트 윈도우 크기\n",
    "# min_count : 단어 최소 빈도수 제한(빈도가 적은 단어들은 학습하지 않음)\n",
    "# workers : 학습을 위한 프로세스 수\n",
    "# sg : 0은 CBoW, 1은 Skip-gram"
   ],
   "metadata": {
    "collapsed": false,
    "ExecuteTime": {
     "end_time": "2023-10-06T01:45:53.555132600Z",
     "start_time": "2023-10-06T01:45:48.376621500Z"
    }
   },
   "id": "f8edf05accdad1c8"
  },
  {
   "cell_type": "code",
   "execution_count": 12,
   "outputs": [
    {
     "name": "stdout",
     "output_type": "stream",
     "text": [
      "[('she', 0.9178720116615295), ('Buley', 0.7129672169685364), ('Twilley', 0.7084102034568787), ('Bradstock', 0.6986495852470398), ('Brownlee', 0.6707873940467834), ('Svenson', 0.6604803800582886), ('Selway', 0.6596983671188354), ('Shilton', 0.6509361267089844), ('Fischer', 0.6500013470649719), ('Mr', 0.6454015970230103)]\n"
     ]
    }
   ],
   "source": [
    "# 입력한 단어에 대해서 가장 코사인 유사도가 높은 단어들을 출력하는 model.wv.most_similar\n",
    "model_result = model.wv.most_similar(\"he\")\n",
    "print(model_result)"
   ],
   "metadata": {
    "collapsed": false,
    "ExecuteTime": {
     "end_time": "2023-10-06T01:46:45.987301900Z",
     "start_time": "2023-10-06T01:46:45.984397200Z"
    }
   },
   "id": "2885c1268dac8636"
  },
  {
   "cell_type": "code",
   "execution_count": 13,
   "outputs": [],
   "source": [
    "# 학습시킨 모델을 따로 저장 한후, 불러오기\n",
    "from gensim.models import KeyedVectors\n",
    "\n",
    "model.wv.save_word2vec_format('w2v') \n",
    "loaded_model = KeyedVectors.load_word2vec_format(\"w2v\")"
   ],
   "metadata": {
    "collapsed": false,
    "ExecuteTime": {
     "end_time": "2023-10-06T01:48:11.776109Z",
     "start_time": "2023-10-06T01:48:10.867877300Z"
    }
   },
   "id": "ad054a94232a5142"
  },
  {
   "cell_type": "code",
   "execution_count": 14,
   "outputs": [
    {
     "name": "stdout",
     "output_type": "stream",
     "text": [
      "[('she', 0.9178720116615295), ('Buley', 0.7129672169685364), ('Twilley', 0.7084102034568787), ('Bradstock', 0.6986495852470398), ('Brownlee', 0.6707873940467834), ('Svenson', 0.6604803800582886), ('Selway', 0.6596983671188354), ('Shilton', 0.6509361267089844), ('Fischer', 0.6500013470649719), ('Mr', 0.6454015970230103)]\n"
     ]
    }
   ],
   "source": [
    "model_result = loaded_model.most_similar(\"he\")\n",
    "print(model_result)"
   ],
   "metadata": {
    "collapsed": false,
    "ExecuteTime": {
     "end_time": "2023-10-06T01:49:08.657491300Z",
     "start_time": "2023-10-06T01:49:08.638883700Z"
    }
   },
   "id": "e105700a3ca15d77"
  },
  {
   "cell_type": "markdown",
   "source": [
    "* 현재 Word2Vec의 문제는 단어장에 없는 단어를 입력하거나, 오타를 내면 오류가 발생한다는 단점이 있음"
   ],
   "metadata": {
    "collapsed": false
   },
   "id": "8ede588c0f3ed709"
  },
  {
   "cell_type": "markdown",
   "source": [
    "### FastText"
   ],
   "metadata": {
    "collapsed": false
   },
   "id": "6906bb43c4388098"
  },
  {
   "cell_type": "code",
   "execution_count": 15,
   "outputs": [],
   "source": [
    "# 기존에 사용했던 corpus로 FastTest 훈련\n",
    "from gensim.models import FastText\n",
    "fasttext_model = FastText(corpus, window=5, min_count=5, workers=4, sg=1)"
   ],
   "metadata": {
    "collapsed": false,
    "ExecuteTime": {
     "end_time": "2023-10-06T02:15:01.961042900Z",
     "start_time": "2023-10-06T02:14:54.674313700Z"
    }
   },
   "id": "cb9c03931a71846a"
  },
  {
   "cell_type": "code",
   "execution_count": 16,
   "outputs": [
    {
     "data": {
      "text/plain": "[('resolving', 0.9359092712402344),\n ('fluctuating', 0.9346425533294678),\n ('declining', 0.9308010339736938),\n ('extracting', 0.9303319454193115),\n ('malting', 0.9300826787948608),\n ('emptying', 0.9299018383026123),\n ('overwhelming', 0.9288681149482727),\n ('debilitating', 0.9261333346366882),\n ('attracting', 0.9261040687561035),\n ('mounting', 0.9243015646934509)]"
     },
     "execution_count": 16,
     "metadata": {},
     "output_type": "execute_result"
    }
   ],
   "source": [
    "# 단어장에 존재 하지않는 단어 입력해보기\n",
    "fasttext_model.wv.most_similar('overacting')"
   ],
   "metadata": {
    "collapsed": false,
    "ExecuteTime": {
     "end_time": "2023-10-06T02:15:32.420072100Z",
     "start_time": "2023-10-06T02:15:32.403646Z"
    }
   },
   "id": "af6de3e65d1217c4"
  },
  {
   "cell_type": "code",
   "execution_count": 17,
   "outputs": [
    {
     "data": {
      "text/plain": "[('memory', 0.9482886791229248),\n ('musical', 0.8708481192588806),\n ('mechanisms', 0.8680495023727417),\n ('mechanism', 0.8640149235725403),\n ('basic', 0.8605291247367859),\n ('mechanical', 0.86045902967453),\n ('imagine', 0.849530816078186),\n ('technical', 0.8478343486785889),\n ('intelligence', 0.8394647836685181),\n ('visual', 0.8382443785667419)]"
     },
     "execution_count": 17,
     "metadata": {},
     "output_type": "execute_result"
    }
   ],
   "source": [
    "# 오타 입력해보기\n",
    "fasttext_model.wv.most_similar('memoryy')"
   ],
   "metadata": {
    "collapsed": false,
    "ExecuteTime": {
     "end_time": "2023-10-06T02:16:03.225089800Z",
     "start_time": "2023-10-06T02:16:03.207261200Z"
    }
   },
   "id": "f78e5a8bfeff4bc9"
  },
  {
   "cell_type": "code",
   "execution_count": null,
   "outputs": [],
   "source": [],
   "metadata": {
    "collapsed": false
   },
   "id": "f08e85d2ee404a27"
  }
 ],
 "metadata": {
  "kernelspec": {
   "display_name": "Python 3",
   "language": "python",
   "name": "python3"
  },
  "language_info": {
   "codemirror_mode": {
    "name": "ipython",
    "version": 2
   },
   "file_extension": ".py",
   "mimetype": "text/x-python",
   "name": "python",
   "nbconvert_exporter": "python",
   "pygments_lexer": "ipython2",
   "version": "2.7.6"
  }
 },
 "nbformat": 4,
 "nbformat_minor": 5
}
