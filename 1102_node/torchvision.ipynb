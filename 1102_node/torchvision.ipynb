{
 "cells": [
  {
   "cell_type": "markdown",
   "source": [
    "### 데이터셋 정의\n",
    "* 이미지: torchvision.tv_tensors.Image의 모양 [3, H, W], 순수 텐서 또는 PIL 이미지 크기(H, W)\n",
    "* 대상: 다음 필드를 포함하는 딕셔너리\n",
    "* 박스, torchvision.tv_tensors.BoundingBoxes의 모양 [N, 4]\n",
    "* 0에서 W까지, 0에서 H까지 범위의 [x0, y0, x1, y1] 형식의 N 바운딩 박스의 좌표\n",
    "* 레이블, 정수 토치.텐서의 모양 [N]: 각 바운딩 박스에 대한 레이블.\n",
    "* 0은 항상 배경 클래스를 나타냅니다.\n",
    "* image_id, int: 이미지 식별자. 이 식별자는 데이터셋의 모든 이미지 간에 고유해야 하며, 평가 중에 사용됩니다.\n",
    "* rea, float torch.Tensor의 모양 [N]: 바운딩 박스의 면적. 이 값은 COCO 메트릭으로 평가하는 동안 작은 박스(small), 중간 박스(medium), 큰 박스(large) 간에 메트릭 점수를 구분하는 데 사용됩니다.\n",
    "* iscrowd, uint8 torch.Tensor의 모양 [N]: iscrowd=True인 인스턴스는 평가 중에 무시됩니다.\n",
    "* (선택 사항) masks, torchvision.tv_tensors.Mask의 모양 [N, H, W]: 각 오브젝트에 대한 세그먼트 마스크"
   ],
   "metadata": {
    "collapsed": false
   },
   "id": "d364276537272d17"
  },
  {
   "cell_type": "code",
   "execution_count": 10,
   "id": "initial_id",
   "metadata": {
    "collapsed": true,
    "ExecuteTime": {
     "end_time": "2023-11-01T16:46:17.748366400Z",
     "start_time": "2023-11-01T16:46:17.745301900Z"
    }
   },
   "outputs": [],
   "source": [
    "import os\n",
    "import torch\n",
    "\n",
    "from torchvision.io import read_image\n",
    "from torchvision.ops.boxes import masks_to_boxes\n",
    "import torchvision.transforms as transforms\n",
    "import torch.utils.data\n",
    "\n",
    "\n",
    "class PennFudanDataset(torch.utils.data.Dataset):\n",
    "    def __init__(self, root, transforms=None):\n",
    "        self.root = root\n",
    "        self.transforms = transforms\n",
    "        # 모든 이미지 파일을 정렬되어 분류하여 불러온다.\n",
    "        self.imgs = list(sorted(os.listdir(os.path.join(root, \"PNGImages\"))))\n",
    "        self.masks = list(sorted(os.listdir(os.path.join(root, \"PedMasks\"))))\n",
    "\n",
    "    def __getitem__(self, idx):\n",
    "        # 이미지와 마스크를 로드\n",
    "        img_path = os.path.join(self.root, \"PNGImages\", self.imgs[idx])\n",
    "        mask_path = os.path.join(self.root, \"PedMasks\", self.masks[idx])\n",
    "        img = read_image(img_path)\n",
    "        mask = read_image(mask_path)\n",
    "        # 인스턴스를 다른 색상으로 인코딩\n",
    "        obj_ids = torch.unique(mask)\n",
    "        # 처음 id는 배경이므로 제거\n",
    "        obj_ids = obj_ids[1:]\n",
    "        num_objs = len(obj_ids)\n",
    "\n",
    "        # 색상 인코딩 마스크를 바이너리 마스크 집합으로 분할\n",
    "        masks = (mask == obj_ids[:, None, None]).to(dtype=torch.uint8)\n",
    "\n",
    "        # 각 마스크의 바운딩 박스좌표 가져오기\n",
    "        boxes = masks_to_boxes(masks)\n",
    "\n",
    "        # 클래스가 하나 뿐이다.\n",
    "        labels = torch.ones((num_objs,), dtype=torch.int64)\n",
    "\n",
    "        image_id = idx\n",
    "        area = (boxes[:, 3] - boxes[:, 1]) * (boxes[:, 2] - boxes[:, 0])\n",
    "        # 모든 인스턴스가 군중이 아니라고 가정한다.\n",
    "        iscrowd = torch.zeros((num_objs,), dtype=torch.int64)\n",
    "\n",
    "        # sample과 target을 torchvision의 tv_tensors로 래핑\n",
    "        img = tv_tensors.Image(img)\n",
    "\n",
    "        target = {}\n",
    "        target[\"boxes\"] = tv_tensors.BoundingBoxes(boxes, format=\"XYXY\", canvas_size=F.get_size(img))\n",
    "        target[\"masks\"] = tv_tensors.Mask(masks)\n",
    "        target[\"labels\"] = labels\n",
    "        target[\"image_id\"] = image_id\n",
    "        target[\"area\"] = area\n",
    "        target[\"iscrowd\"] = iscrowd\n",
    "\n",
    "        if self.transforms is not None:\n",
    "            img, target = self.transforms(img, target)\n",
    "\n",
    "        return img, target\n",
    "\n",
    "    def __len__(self):\n",
    "        return len(self.imgs)"
   ]
  },
  {
   "cell_type": "markdown",
   "source": [
    "### 모델 정의하기\n",
    "* Faster R-CNN을 기반으로 하는 Mask R-CNN을 사용\n",
    "* Mask R-CNN은 각 인스턴스에 대한 세그멘테이션 마스크도 예측하는 Faster R-CNN에 추가 브렌치(분기)를 추가\n",
    "* TorchVision Model Zoo에서 사용 가능한 모델 중 하나를 수정해야 하는 일반적인 상황은 두 가지\n",
    "* 첫 번째는 사전 학습된 모델에서 시작하여 마지막 레이어만 파인튜닝하려는 경우\n",
    "* 다른 하나는 모델의 백본(backbone)을 다른 모델로 교체하려는 경우"
   ],
   "metadata": {
    "collapsed": false
   },
   "id": "74895ff4f90c1238"
  },
  {
   "cell_type": "markdown",
   "source": [
    "#### 사전 학습된 모델에서 파인튜닝하기"
   ],
   "metadata": {
    "collapsed": false
   },
   "id": "736b7570ea112c3"
  },
  {
   "cell_type": "code",
   "execution_count": 1,
   "outputs": [
    {
     "name": "stderr",
     "output_type": "stream",
     "text": [
      "Downloading: \"https://download.pytorch.org/models/fasterrcnn_resnet50_fpn_coco-258fb6c6.pth\" to C:\\Users\\008yo/.cache\\torch\\hub\\checkpoints\\fasterrcnn_resnet50_fpn_coco-258fb6c6.pth\n",
      "100%|██████████| 160M/160M [00:02<00:00, 57.4MB/s] \n"
     ]
    }
   ],
   "source": [
    "import torchvision\n",
    "from torchvision.models.detection.faster_rcnn import FastRCNNPredictor\n",
    "\n",
    "# COCO에서 사전학습된 모델을 로드\n",
    "model = torchvision.models.detection.fasterrcnn_resnet50_fpn(weights=\"DEFAULT\")\n",
    "\n",
    "# 분류기(classifier) 사용자가 정의한 num_classes를 가진 새로운 것으로 교체\n",
    "num_classes = 2  # 1 class (person) + background\n",
    "# 분류기에 대한 입력 특징 수 가져오기\n",
    "in_features = model.roi_heads.box_predictor.cls_score.in_features\n",
    "# 사전 학습된 헤드를 새 헤드로 교체합니다.\n",
    "model.roi_heads.box_predictor = FastRCNNPredictor(in_features, num_classes)"
   ],
   "metadata": {
    "collapsed": false,
    "ExecuteTime": {
     "end_time": "2023-11-01T16:38:08.340023100Z",
     "start_time": "2023-11-01T16:38:01.463575600Z"
    }
   },
   "id": "11e7ad8b29bb5010"
  },
  {
   "cell_type": "markdown",
   "source": [
    "#### 모델을 수정하여 다른 백본 추가하기"
   ],
   "metadata": {
    "collapsed": false
   },
   "id": "984633b54f0c0a1"
  },
  {
   "cell_type": "code",
   "execution_count": 2,
   "outputs": [
    {
     "name": "stderr",
     "output_type": "stream",
     "text": [
      "Downloading: \"https://download.pytorch.org/models/mobilenet_v2-7ebf99e0.pth\" to C:\\Users\\008yo/.cache\\torch\\hub\\checkpoints\\mobilenet_v2-7ebf99e0.pth\n",
      "100%|██████████| 13.6M/13.6M [00:00<00:00, 48.9MB/s]\n"
     ]
    }
   ],
   "source": [
    "from torchvision.models.detection import FasterRCNN\n",
    "from torchvision.models.detection.rpn import AnchorGenerator\n",
    "\n",
    "# 분류를 위해 미리 학습된 모델을 로드하고 특징만 반환\n",
    "backbone = torchvision.models.mobilenet_v2(weights=\"DEFAULT\").features\n",
    "# ``FasterRCNN``은 백본의 출력 채널 수를 알아야 합니다. mobilenet_v2의 경우 1280이므로 여기에 추가해야 한다.\n",
    "backbone.out_channels = 1280\n",
    "\n",
    "# RPN이 공간 위치당 5개의 서로 다른 크기와 3개의 서로 다른 종횡비(aspect ratios)를 가진 5 x 3 앵커를 생성하도록 만들어 봅시다. 각 피처 맵의 크기와 종횡비가 다를 수 있으므로 Tuple[Tuple[int]]을 사용합니다.\n",
    "anchor_generator = AnchorGenerator(\n",
    "    sizes=((32, 64, 128, 256, 512),),\n",
    "    aspect_ratios=((0.5, 1.0, 2.0),)\n",
    ")\n",
    "\n",
    "# 관심 영역 자르기(crop)를 수행하는 데 사용할 피처 맵(feature map)과 리스케일링 후 자를(crop) 크기(size)를 정의해 보겠습니다. 백본이 텐서를 반환하는 경우 featmap_names는 [0]이 될 것으로 예상됩니다. 보다 일반적으로 백본은 ``OrderedDict[Tensor]``를 반환해야 하며, ``featmap_names``에서 어떤 피처 맵을 사용할지 선택할 수 있습니다.\n",
    "roi_pooler = torchvision.ops.MultiScaleRoIAlign(\n",
    "    featmap_names=['0'],\n",
    "    output_size=7,\n",
    "    sampling_ratio=2,\n",
    ")\n",
    "\n",
    "# Faster-RCNN 모델 안에 구성 요소 넣기\n",
    "model = FasterRCNN(\n",
    "    backbone,\n",
    "    num_classes=2,\n",
    "    rpn_anchor_generator=anchor_generator,\n",
    "    box_roi_pool=roi_pooler,\n",
    ")"
   ],
   "metadata": {
    "collapsed": false,
    "ExecuteTime": {
     "end_time": "2023-11-01T16:40:16.281245300Z",
     "start_time": "2023-11-01T16:40:15.149511Z"
    }
   },
   "id": "acee0083e1371882"
  },
  {
   "cell_type": "markdown",
   "source": [
    "#### 펜푸단 데이터셋에 대한 오브젝트 디텍션 및 인스턴스 세그멘테이션 모델\n",
    "* 인스턴스 세그멘테이션 마스크도 계산해야 하므로 Mask R-CNN을 사용"
   ],
   "metadata": {
    "collapsed": false
   },
   "id": "5b3321061f91edb1"
  },
  {
   "cell_type": "code",
   "execution_count": 3,
   "outputs": [],
   "source": [
    "from torchvision.models.detection.faster_rcnn import FastRCNNPredictor\n",
    "from torchvision.models.detection.mask_rcnn import MaskRCNNPredictor\n",
    "\n",
    "\n",
    "def get_model_instance_segmentation(num_classes):\n",
    "    # COCO에서 사전 학습된 인스턴스 세그멘테이션 모델을 로드\n",
    "    model = torchvision.models.detection.maskrcnn_resnet50_fpn(weights=\"DEFAULT\")\n",
    "\n",
    "    # 분류기에 대한 입력 기능 수 가져오기\n",
    "    in_features = model.roi_heads.box_predictor.cls_score.in_features\n",
    "    # replace the pre-trained head with a new one\n",
    "    model.roi_heads.box_predictor = FastRCNNPredictor(in_features, num_classes)\n",
    "\n",
    "    # 이제 마스크 분류기에 대한 입력 피처 수를 가져오기\n",
    "    in_features_mask = model.roi_heads.mask_predictor.conv5_mask.in_channels\n",
    "    hidden_layer = 256\n",
    "    # 마스크 예측기를 새 예측기로 교체\n",
    "    model.roi_heads.mask_predictor = MaskRCNNPredictor(\n",
    "        in_features_mask,\n",
    "        hidden_layer,\n",
    "        num_classes,\n",
    "    )\n",
    "\n",
    "    return model"
   ],
   "metadata": {
    "collapsed": false,
    "ExecuteTime": {
     "end_time": "2023-11-01T16:43:34.197353200Z",
     "start_time": "2023-11-01T16:43:34.162022800Z"
    }
   },
   "id": "4a5ddab5a1ce21f"
  },
  {
   "cell_type": "code",
   "execution_count": 6,
   "outputs": [
    {
     "data": {
      "text/plain": "1"
     },
     "execution_count": 6,
     "metadata": {},
     "output_type": "execute_result"
    }
   ],
   "source": [
    "import os\n",
    "os.system(\"wget https://raw.githubusercontent.com/pytorch/vision/main/references/detection/engine.py\")\n",
    "os.system(\"wget https://raw.githubusercontent.com/pytorch/vision/main/references/detection/utils.py\")\n",
    "os.system(\"wget https://raw.githubusercontent.com/pytorch/vision/main/references/detection/coco_utils.py\")\n",
    "os.system(\"wget https://raw.githubusercontent.com/pytorch/vision/main/references/detection/coco_eval.py\")\n",
    "os.system(\"wget https://raw.githubusercontent.com/pytorch/vision/main/references/detection/transforms.py\")"
   ],
   "metadata": {
    "collapsed": false,
    "ExecuteTime": {
     "end_time": "2023-11-01T16:44:46.855390800Z",
     "start_time": "2023-11-01T16:44:46.803046500Z"
    }
   },
   "id": "4955164b1b464820"
  },
  {
   "cell_type": "markdown",
   "source": [
    "* 데이터 증강/변환을 위한 몇 가지 헬퍼 함수를 작성"
   ],
   "metadata": {
    "collapsed": false
   },
   "id": "15ee369203571258"
  },
  {
   "cell_type": "code",
   "execution_count": 7,
   "outputs": [],
   "source": [
    "from torchvision.transforms import v2 as T\n",
    "\n",
    "\n",
    "def get_transform(train):\n",
    "    transforms = []\n",
    "    if train:\n",
    "        transforms.append(T.RandomHorizontalFlip(0.5))  # 랜덤 수평 플립\n",
    "    transforms.append(T.ToDtype(torch.float, scale=True)) \n",
    "    transforms.append(T.ToPureTensor())\n",
    "    return T.Compose(transforms)"
   ],
   "metadata": {
    "collapsed": false,
    "ExecuteTime": {
     "end_time": "2023-11-01T16:44:48.949739100Z",
     "start_time": "2023-11-01T16:44:48.947969800Z"
    }
   },
   "id": "8d35a1b32c57f475"
  },
  {
   "cell_type": "markdown",
   "source": [
    "### forward() 메서드 테스트\n",
    "* 데이터 집합을 반복하기 전에 샘플 데이터에 대한 학습 및 추론 시간 동안 모델이 무엇을 기대하는지 확인"
   ],
   "metadata": {
    "collapsed": false
   },
   "id": "a175386d1f6a1e42"
  },
  {
   "cell_type": "code",
   "execution_count": 11,
   "outputs": [
    {
     "ename": "TypeError",
     "evalue": "unsupported operand type(s) for +: 'NoneType' and 'str'",
     "output_type": "error",
     "traceback": [
      "\u001B[1;31m---------------------------------------------------------------------------\u001B[0m",
      "\u001B[1;31mTypeError\u001B[0m                                 Traceback (most recent call last)",
      "Cell \u001B[1;32mIn[11], line 6\u001B[0m\n\u001B[0;32m      2\u001B[0m \u001B[38;5;28;01mimport\u001B[39;00m \u001B[38;5;21;01mos\u001B[39;00m\n\u001B[0;32m      5\u001B[0m model \u001B[38;5;241m=\u001B[39m torchvision\u001B[38;5;241m.\u001B[39mmodels\u001B[38;5;241m.\u001B[39mdetection\u001B[38;5;241m.\u001B[39mfasterrcnn_resnet50_fpn(weights\u001B[38;5;241m=\u001B[39m\u001B[38;5;124m\"\u001B[39m\u001B[38;5;124mDEFAULT\u001B[39m\u001B[38;5;124m\"\u001B[39m)\n\u001B[1;32m----> 6\u001B[0m dataset \u001B[38;5;241m=\u001B[39m PennFudanDataset(\u001B[43mos\u001B[49m\u001B[38;5;241;43m.\u001B[39;49m\u001B[43mgetenv\u001B[49m\u001B[43m(\u001B[49m\u001B[38;5;124;43m'\u001B[39;49m\u001B[38;5;124;43mHOME\u001B[39;49m\u001B[38;5;124;43m'\u001B[39;49m\u001B[43m)\u001B[49m\u001B[38;5;241;43m+\u001B[39;49m\u001B[38;5;124;43m'\u001B[39;49m\u001B[38;5;124;43m/aiffel/pytorch_cv/data/PennFudanPed\u001B[39;49m\u001B[38;5;124;43m'\u001B[39;49m, get_transform(train\u001B[38;5;241m=\u001B[39m\u001B[38;5;28;01mTrue\u001B[39;00m))\n\u001B[0;32m      7\u001B[0m data_loader \u001B[38;5;241m=\u001B[39m torch\u001B[38;5;241m.\u001B[39mutils\u001B[38;5;241m.\u001B[39mdata\u001B[38;5;241m.\u001B[39mDataLoader(\n\u001B[0;32m      8\u001B[0m     dataset,\n\u001B[0;32m      9\u001B[0m     batch_size\u001B[38;5;241m=\u001B[39m\u001B[38;5;241m2\u001B[39m,\n\u001B[1;32m   (...)\u001B[0m\n\u001B[0;32m     12\u001B[0m     collate_fn\u001B[38;5;241m=\u001B[39mutils\u001B[38;5;241m.\u001B[39mcollate_fn\n\u001B[0;32m     13\u001B[0m )\n\u001B[0;32m     15\u001B[0m \u001B[38;5;66;03m# 학습 코드\u001B[39;00m\n",
      "\u001B[1;31mTypeError\u001B[0m: unsupported operand type(s) for +: 'NoneType' and 'str'"
     ]
    }
   ],
   "source": [
    "import utils\n",
    "import os\n",
    "\n",
    "\n",
    "model = torchvision.models.detection.fasterrcnn_resnet50_fpn(weights=\"DEFAULT\")\n",
    "dataset = PennFudanDataset(os.getenv('HOME')+'/aiffel/pytorch_cv/data/PennFudanPed', get_transform(train=True))\n",
    "data_loader = torch.utils.data.DataLoader(\n",
    "    dataset,\n",
    "    batch_size=2,\n",
    "    shuffle=True,\n",
    "    num_workers=3,\n",
    "    collate_fn=utils.collate_fn\n",
    ")\n",
    "\n",
    "# 학습 코드\n",
    "images, targets = next(iter(data_loader))\n",
    "images = list(image for image in images)\n",
    "targets = [{k: v for k, v in t.items()} for t in targets]\n",
    "output = model(images, targets)  # 손실값과 디텍션 출력\n",
    "\n",
    "print(output)\n",
    "\n",
    "# 추론 코드\n",
    "model.eval()\n",
    "x = [torch.rand(3, 300, 400), torch.rand(3, 500, 400)]\n",
    "predictions = model(x)  # 예측 출력\n",
    "print(predictions[0])"
   ],
   "metadata": {
    "collapsed": false,
    "ExecuteTime": {
     "end_time": "2023-11-01T16:46:22.057698700Z",
     "start_time": "2023-11-01T16:46:21.576910900Z"
    }
   },
   "id": "a7c0ee6c919ca813"
  },
  {
   "cell_type": "markdown",
   "source": [
    "* 학습과 유효성 검사를 수행하는 메인 함수"
   ],
   "metadata": {
    "collapsed": false
   },
   "id": "e299ccb0930ec3d4"
  },
  {
   "cell_type": "code",
   "execution_count": 12,
   "outputs": [
    {
     "ename": "ModuleNotFoundError",
     "evalue": "No module named 'engine'",
     "output_type": "error",
     "traceback": [
      "\u001B[1;31m---------------------------------------------------------------------------\u001B[0m",
      "\u001B[1;31mModuleNotFoundError\u001B[0m                       Traceback (most recent call last)",
      "Cell \u001B[1;32mIn[12], line 1\u001B[0m\n\u001B[1;32m----> 1\u001B[0m \u001B[38;5;28;01mfrom\u001B[39;00m \u001B[38;5;21;01mengine\u001B[39;00m \u001B[38;5;28;01mimport\u001B[39;00m train_one_epoch, evaluate\n\u001B[0;32m      3\u001B[0m \u001B[38;5;66;03m# GPU 또는 GPU를 사용할 수 없는 경우, CPU에서 훈련\u001B[39;00m\n\u001B[0;32m      4\u001B[0m device \u001B[38;5;241m=\u001B[39m torch\u001B[38;5;241m.\u001B[39mdevice(\u001B[38;5;124m'\u001B[39m\u001B[38;5;124mcuda\u001B[39m\u001B[38;5;124m'\u001B[39m) \u001B[38;5;28;01mif\u001B[39;00m torch\u001B[38;5;241m.\u001B[39mcuda\u001B[38;5;241m.\u001B[39mis_available() \u001B[38;5;28;01melse\u001B[39;00m torch\u001B[38;5;241m.\u001B[39mdevice(\u001B[38;5;124m'\u001B[39m\u001B[38;5;124mcpu\u001B[39m\u001B[38;5;124m'\u001B[39m)\n",
      "\u001B[1;31mModuleNotFoundError\u001B[0m: No module named 'engine'"
     ]
    }
   ],
   "source": [
    "from engine import train_one_epoch, evaluate\n",
    "\n",
    "# GPU 또는 GPU를 사용할 수 없는 경우, CPU에서 훈련\n",
    "device = torch.device('cuda') if torch.cuda.is_available() else torch.device('cpu')\n",
    "\n",
    "# 우리 데이터셋에는 배경과 사람, 두 개의 클래스만 있습니다.\n",
    "num_classes = 2\n",
    "\n",
    "# 데이터셋 및 정의된 변환 사용\n",
    "dataset = PennFudanDataset(os.getenv('HOME')+'/aiffel/pytorch_cv/data/PennFudanPed', get_transform(train=True))\n",
    "dataset_test = PennFudanDataset(os.getenv('HOME')+'/aiffel/pytorch_cv/data/PennFudanPed', get_transform(train=False))\n",
    "\n",
    "# 데이터 집합을 학습 및 테스트 집합으로 분할\n",
    "indices = torch.randperm(len(dataset)).tolist()\n",
    "dataset = torch.utils.data.Subset(dataset, indices[:-50])\n",
    "dataset_test = torch.utils.data.Subset(dataset_test, indices[-50:])\n",
    "\n",
    "# 학습 및 평가 데이터 로더 정의하기\n",
    "data_loader = torch.utils.data.DataLoader(\n",
    "    dataset,\n",
    "    pin_memory=True,\n",
    "    batch_size=2,\n",
    "    shuffle=True,\n",
    "    num_workers=3,\n",
    "    collate_fn=utils.collate_fn\n",
    ")\n",
    "\n",
    "data_loader_test = torch.utils.data.DataLoader(\n",
    "    dataset_test,\n",
    "    pin_memory=True,\n",
    "    batch_size=1,\n",
    "    shuffle=False,\n",
    "    num_workers=3,\n",
    "    collate_fn=utils.collate_fn\n",
    ")\n",
    "\n",
    "# 헬퍼 함수를 사용하여 모델 가져오기\n",
    "model = get_model_instance_segmentation(num_classes)\n",
    "\n",
    "# 올바른 기기로 모델 이동\n",
    "model.to(device)\n",
    "\n",
    "# 옵티마이저 구성\n",
    "params = [p for p in model.parameters() if p.requires_grad]\n",
    "optimizer = torch.optim.SGD(\n",
    "    params,\n",
    "    lr=0.005,\n",
    "    momentum=0.9,\n",
    "    weight_decay=0.0005\n",
    ")\n",
    "\n",
    "# 학습률 스케줄러\n",
    "lr_scheduler = torch.optim.lr_scheduler.StepLR(\n",
    "    optimizer,\n",
    "    step_size=3,\n",
    "    gamma=0.1\n",
    ")\n",
    "\n",
    "# 5 에포크 학습하기\n",
    "num_epochs = 5\n",
    "\n",
    "for epoch in range(num_epochs):\n",
    "    # 1 에포크 학습마다, 10회 반복마다 출력한다.\n",
    "    train_one_epoch(model, optimizer, data_loader, device, epoch, print_freq=10)\n",
    "    # 학습률 업데이트\n",
    "    lr_scheduler.step()\n",
    "    # 테스트 데이터셋으로 평가\n",
    "    evaluate(model, data_loader_test, device=device)\n",
    "\n",
    "print(\"That's it!\")"
   ],
   "metadata": {
    "collapsed": false,
    "ExecuteTime": {
     "end_time": "2023-11-01T16:46:49.922136700Z",
     "start_time": "2023-11-01T16:46:49.891339500Z"
    }
   },
   "id": "b90077c0ad2aaea1"
  },
  {
   "cell_type": "code",
   "execution_count": 13,
   "outputs": [
    {
     "ename": "TypeError",
     "evalue": "unsupported operand type(s) for +: 'NoneType' and 'str'",
     "output_type": "error",
     "traceback": [
      "\u001B[1;31m---------------------------------------------------------------------------\u001B[0m",
      "\u001B[1;31mTypeError\u001B[0m                                 Traceback (most recent call last)",
      "Cell \u001B[1;32mIn[13], line 5\u001B[0m\n\u001B[0;32m      1\u001B[0m \u001B[38;5;28;01mimport\u001B[39;00m \u001B[38;5;21;01mmatplotlib\u001B[39;00m\u001B[38;5;21;01m.\u001B[39;00m\u001B[38;5;21;01mpyplot\u001B[39;00m \u001B[38;5;28;01mas\u001B[39;00m \u001B[38;5;21;01mplt\u001B[39;00m\n\u001B[0;32m      2\u001B[0m \u001B[38;5;28;01mfrom\u001B[39;00m \u001B[38;5;21;01mtorchvision\u001B[39;00m\u001B[38;5;21;01m.\u001B[39;00m\u001B[38;5;21;01mutils\u001B[39;00m \u001B[38;5;28;01mimport\u001B[39;00m draw_bounding_boxes, draw_segmentation_masks\n\u001B[1;32m----> 5\u001B[0m image \u001B[38;5;241m=\u001B[39m read_image(\u001B[43mos\u001B[49m\u001B[38;5;241;43m.\u001B[39;49m\u001B[43mgetenv\u001B[49m\u001B[43m(\u001B[49m\u001B[38;5;124;43m'\u001B[39;49m\u001B[38;5;124;43mHOME\u001B[39;49m\u001B[38;5;124;43m'\u001B[39;49m\u001B[43m)\u001B[49m\u001B[38;5;241;43m+\u001B[39;49m\u001B[38;5;124;43m'\u001B[39;49m\u001B[38;5;124;43m/data/tv_image05.png\u001B[39;49m\u001B[38;5;124;43m'\u001B[39;49m)\n\u001B[0;32m      6\u001B[0m eval_transform \u001B[38;5;241m=\u001B[39m get_transform(train\u001B[38;5;241m=\u001B[39m\u001B[38;5;28;01mFalse\u001B[39;00m)\n\u001B[0;32m      8\u001B[0m model\u001B[38;5;241m.\u001B[39meval()\n",
      "\u001B[1;31mTypeError\u001B[0m: unsupported operand type(s) for +: 'NoneType' and 'str'"
     ]
    }
   ],
   "source": [
    "import matplotlib.pyplot as plt\n",
    "from torchvision.utils import draw_bounding_boxes, draw_segmentation_masks\n",
    "\n",
    "\n",
    "image = read_image(os.getenv('HOME')+'/data/tv_image05.png')\n",
    "eval_transform = get_transform(train=False)\n",
    "\n",
    "model.eval()\n",
    "with torch.no_grad():\n",
    "    x = eval_transform(image)\n",
    "    # RGBA -> RGB로 변환시켜서 장치에 넣어줍니다.\n",
    "    x = x[:3, ...].to(device)\n",
    "    predictions = model([x, ])\n",
    "    pred = predictions[0]\n",
    "\n",
    "image = (255.0 * (image - image.min()) / (image.max() - image.min())).to(torch.uint8)\n",
    "image = image[:3, ...]\n",
    "pred_labels = [f\"pedestrian: {score:.3f}\" for label, score in zip(pred[\"labels\"], pred[\"scores\"])]\n",
    "pred_boxes = pred[\"boxes\"].long()\n",
    "output_image = draw_bounding_boxes(image, pred_boxes, pred_labels, colors=\"red\")\n",
    "\n",
    "masks = (pred[\"masks\"] > 0.7).squeeze(1)\n",
    "output_image = draw_segmentation_masks(output_image, masks, alpha=0.5, colors=\"blue\")\n",
    "\n",
    "plt.figure(figsize=(12, 12))\n",
    "plt.imshow(output_image.permute(1, 2, 0))"
   ],
   "metadata": {
    "collapsed": false,
    "ExecuteTime": {
     "end_time": "2023-11-01T16:47:40.336650400Z",
     "start_time": "2023-11-01T16:47:39.710622900Z"
    }
   },
   "id": "496fe26d66543b57"
  },
  {
   "cell_type": "code",
   "execution_count": null,
   "outputs": [],
   "source": [],
   "metadata": {
    "collapsed": false
   },
   "id": "22d9d3e74014ea54"
  }
 ],
 "metadata": {
  "kernelspec": {
   "display_name": "Python 3",
   "language": "python",
   "name": "python3"
  },
  "language_info": {
   "codemirror_mode": {
    "name": "ipython",
    "version": 2
   },
   "file_extension": ".py",
   "mimetype": "text/x-python",
   "name": "python",
   "nbconvert_exporter": "python",
   "pygments_lexer": "ipython2",
   "version": "2.7.6"
  }
 },
 "nbformat": 4,
 "nbformat_minor": 5
}
