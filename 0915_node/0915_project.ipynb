{
 "cells": [
  {
   "cell_type": "code",
   "execution_count": 1,
   "metadata": {
    "collapsed": true,
    "ExecuteTime": {
     "end_time": "2023-09-14T16:39:31.302921900Z",
     "start_time": "2023-09-14T16:39:31.297213500Z"
    }
   },
   "outputs": [],
   "source": [
    "import pandas as pd\n",
    "import numpy as np\n",
    "import matplotlib.pyplot as plt\n",
    "import seaborn as sns"
   ]
  },
  {
   "cell_type": "code",
   "execution_count": 2,
   "outputs": [],
   "source": [
    "plt.rcParams['axes.unicode_minus'] = False\n",
    "custom_params = {\"axes.spines.right\": False, \"axes.spines.top\": False}\n",
    "sns.set_theme(context='notebook',\n",
    "              style='darkgrid',\n",
    "              palette='pastel',\n",
    "              font='Malgun Gothic',\n",
    "              rc=custom_params)"
   ],
   "metadata": {
    "collapsed": false,
    "ExecuteTime": {
     "end_time": "2023-09-14T16:39:59.071375700Z",
     "start_time": "2023-09-14T16:39:59.056021400Z"
    }
   }
  },
  {
   "cell_type": "code",
   "execution_count": 3,
   "outputs": [],
   "source": [
    "entry_data = pd.read_csv(\"entry_data.csv\")\n",
    "sales_data = pd.read_csv(\"sales_data.csv\")\n",
    "item_data = pd.read_csv(\"item_data.csv\")\n",
    "item_entry_data = pd.read_csv(\"item_entry_data.csv\")"
   ],
   "metadata": {
    "collapsed": false,
    "ExecuteTime": {
     "end_time": "2023-09-14T16:44:16.524089700Z",
     "start_time": "2023-09-14T16:44:16.366788400Z"
    }
   }
  },
  {
   "cell_type": "code",
   "execution_count": 8,
   "outputs": [
    {
     "data": {
      "text/plain": "         요금제명                입실                퇴실           이용    위치    금액  \\\n0  시간요금제(1시간)  2022-04-01 23:39   2022-04-02 0:39   오전 1:00:00  선불기2  3000   \n1  시간요금제(1시간)  2022-04-01 23:39   2022-04-02 0:39   오전 1:00:00  선불기2  3000   \n2     무제한 입장권  2022-04-01 20:55  2022-04-01 21:41  오전 12:46:00  선불기2  7400   \n\n   구분              고객  \n0  퇴실  customer263717  \n1  퇴실  customer263717  \n2  퇴실  customer247263  ",
      "text/html": "<div>\n<style scoped>\n    .dataframe tbody tr th:only-of-type {\n        vertical-align: middle;\n    }\n\n    .dataframe tbody tr th {\n        vertical-align: top;\n    }\n\n    .dataframe thead th {\n        text-align: right;\n    }\n</style>\n<table border=\"1\" class=\"dataframe\">\n  <thead>\n    <tr style=\"text-align: right;\">\n      <th></th>\n      <th>요금제명</th>\n      <th>입실</th>\n      <th>퇴실</th>\n      <th>이용</th>\n      <th>위치</th>\n      <th>금액</th>\n      <th>구분</th>\n      <th>고객</th>\n    </tr>\n  </thead>\n  <tbody>\n    <tr>\n      <th>0</th>\n      <td>시간요금제(1시간)</td>\n      <td>2022-04-01 23:39</td>\n      <td>2022-04-02 0:39</td>\n      <td>오전 1:00:00</td>\n      <td>선불기2</td>\n      <td>3000</td>\n      <td>퇴실</td>\n      <td>customer263717</td>\n    </tr>\n    <tr>\n      <th>1</th>\n      <td>시간요금제(1시간)</td>\n      <td>2022-04-01 23:39</td>\n      <td>2022-04-02 0:39</td>\n      <td>오전 1:00:00</td>\n      <td>선불기2</td>\n      <td>3000</td>\n      <td>퇴실</td>\n      <td>customer263717</td>\n    </tr>\n    <tr>\n      <th>2</th>\n      <td>무제한 입장권</td>\n      <td>2022-04-01 20:55</td>\n      <td>2022-04-01 21:41</td>\n      <td>오전 12:46:00</td>\n      <td>선불기2</td>\n      <td>7400</td>\n      <td>퇴실</td>\n      <td>customer247263</td>\n    </tr>\n  </tbody>\n</table>\n</div>"
     },
     "execution_count": 8,
     "metadata": {},
     "output_type": "execute_result"
    }
   ],
   "source": [
    "entry_data.head(3)"
   ],
   "metadata": {
    "collapsed": false,
    "ExecuteTime": {
     "end_time": "2023-09-14T16:46:02.927510Z",
     "start_time": "2023-09-14T16:46:02.915759800Z"
    }
   }
  },
  {
   "cell_type": "code",
   "execution_count": 9,
   "outputs": [
    {
     "data": {
      "text/plain": "               결제일시  판매위치         상품명  결제방식    비고  판매수량   결제금액              고객\n0  2022-04-01 19:41  선불기1  치킨카라아케 6pc  신용카드  결제완료     1  4,500  customer275507\n1  2022-04-01 19:41  선불기1  짜장라면(계란추가)  신용카드  결제완료     1  5,500  customer275507\n2  2022-04-01 19:41  선불기1          라면  신용카드  결제완료     1  4,000  customer275507",
      "text/html": "<div>\n<style scoped>\n    .dataframe tbody tr th:only-of-type {\n        vertical-align: middle;\n    }\n\n    .dataframe tbody tr th {\n        vertical-align: top;\n    }\n\n    .dataframe thead th {\n        text-align: right;\n    }\n</style>\n<table border=\"1\" class=\"dataframe\">\n  <thead>\n    <tr style=\"text-align: right;\">\n      <th></th>\n      <th>결제일시</th>\n      <th>판매위치</th>\n      <th>상품명</th>\n      <th>결제방식</th>\n      <th>비고</th>\n      <th>판매수량</th>\n      <th>결제금액</th>\n      <th>고객</th>\n    </tr>\n  </thead>\n  <tbody>\n    <tr>\n      <th>0</th>\n      <td>2022-04-01 19:41</td>\n      <td>선불기1</td>\n      <td>치킨카라아케 6pc</td>\n      <td>신용카드</td>\n      <td>결제완료</td>\n      <td>1</td>\n      <td>4,500</td>\n      <td>customer275507</td>\n    </tr>\n    <tr>\n      <th>1</th>\n      <td>2022-04-01 19:41</td>\n      <td>선불기1</td>\n      <td>짜장라면(계란추가)</td>\n      <td>신용카드</td>\n      <td>결제완료</td>\n      <td>1</td>\n      <td>5,500</td>\n      <td>customer275507</td>\n    </tr>\n    <tr>\n      <th>2</th>\n      <td>2022-04-01 19:41</td>\n      <td>선불기1</td>\n      <td>라면</td>\n      <td>신용카드</td>\n      <td>결제완료</td>\n      <td>1</td>\n      <td>4,000</td>\n      <td>customer275507</td>\n    </tr>\n  </tbody>\n</table>\n</div>"
     },
     "execution_count": 9,
     "metadata": {},
     "output_type": "execute_result"
    }
   ],
   "source": [
    "sales_data.head(3)"
   ],
   "metadata": {
    "collapsed": false,
    "ExecuteTime": {
     "end_time": "2023-09-14T16:46:03.719647700Z",
     "start_time": "2023-09-14T16:46:03.702744Z"
    }
   }
  },
  {
   "cell_type": "code",
   "execution_count": 10,
   "outputs": [
    {
     "data": {
      "text/plain": "   구분     분류       상품명    판매금액\n0   1  게임&TV  이어폰(커널형)  3,000원\n1   2    디저트      초코머핀  3,500원\n2   3    디저트   쿠키(초코칩)  1,500원",
      "text/html": "<div>\n<style scoped>\n    .dataframe tbody tr th:only-of-type {\n        vertical-align: middle;\n    }\n\n    .dataframe tbody tr th {\n        vertical-align: top;\n    }\n\n    .dataframe thead th {\n        text-align: right;\n    }\n</style>\n<table border=\"1\" class=\"dataframe\">\n  <thead>\n    <tr style=\"text-align: right;\">\n      <th></th>\n      <th>구분</th>\n      <th>분류</th>\n      <th>상품명</th>\n      <th>판매금액</th>\n    </tr>\n  </thead>\n  <tbody>\n    <tr>\n      <th>0</th>\n      <td>1</td>\n      <td>게임&amp;TV</td>\n      <td>이어폰(커널형)</td>\n      <td>3,000원</td>\n    </tr>\n    <tr>\n      <th>1</th>\n      <td>2</td>\n      <td>디저트</td>\n      <td>초코머핀</td>\n      <td>3,500원</td>\n    </tr>\n    <tr>\n      <th>2</th>\n      <td>3</td>\n      <td>디저트</td>\n      <td>쿠키(초코칩)</td>\n      <td>1,500원</td>\n    </tr>\n  </tbody>\n</table>\n</div>"
     },
     "execution_count": 10,
     "metadata": {},
     "output_type": "execute_result"
    }
   ],
   "source": [
    "item_data.head(3)"
   ],
   "metadata": {
    "collapsed": false,
    "ExecuteTime": {
     "end_time": "2023-09-14T16:46:04.473580200Z",
     "start_time": "2023-09-14T16:46:04.467944200Z"
    }
   }
  },
  {
   "cell_type": "code",
   "execution_count": 11,
   "outputs": [
    {
     "data": {
      "text/plain": "   순위     분류        상품명    판매금액\n0   1   한국대생   한국대생 요금제  2,000원\n1   2  심야-조조  심야-조조 요금제  5,000원\n2   3    일반인      일반요금제  2,500원",
      "text/html": "<div>\n<style scoped>\n    .dataframe tbody tr th:only-of-type {\n        vertical-align: middle;\n    }\n\n    .dataframe tbody tr th {\n        vertical-align: top;\n    }\n\n    .dataframe thead th {\n        text-align: right;\n    }\n</style>\n<table border=\"1\" class=\"dataframe\">\n  <thead>\n    <tr style=\"text-align: right;\">\n      <th></th>\n      <th>순위</th>\n      <th>분류</th>\n      <th>상품명</th>\n      <th>판매금액</th>\n    </tr>\n  </thead>\n  <tbody>\n    <tr>\n      <th>0</th>\n      <td>1</td>\n      <td>한국대생</td>\n      <td>한국대생 요금제</td>\n      <td>2,000원</td>\n    </tr>\n    <tr>\n      <th>1</th>\n      <td>2</td>\n      <td>심야-조조</td>\n      <td>심야-조조 요금제</td>\n      <td>5,000원</td>\n    </tr>\n    <tr>\n      <th>2</th>\n      <td>3</td>\n      <td>일반인</td>\n      <td>일반요금제</td>\n      <td>2,500원</td>\n    </tr>\n  </tbody>\n</table>\n</div>"
     },
     "execution_count": 11,
     "metadata": {},
     "output_type": "execute_result"
    }
   ],
   "source": [
    "item_entry_data.head(3)"
   ],
   "metadata": {
    "collapsed": false,
    "ExecuteTime": {
     "end_time": "2023-09-14T16:46:05.100424900Z",
     "start_time": "2023-09-14T16:46:05.084008400Z"
    }
   }
  },
  {
   "cell_type": "code",
   "execution_count": null,
   "outputs": [],
   "source": [],
   "metadata": {
    "collapsed": false
   }
  }
 ],
 "metadata": {
  "kernelspec": {
   "display_name": "Python 3",
   "language": "python",
   "name": "python3"
  },
  "language_info": {
   "codemirror_mode": {
    "name": "ipython",
    "version": 2
   },
   "file_extension": ".py",
   "mimetype": "text/x-python",
   "name": "python",
   "nbconvert_exporter": "python",
   "pygments_lexer": "ipython2",
   "version": "2.7.6"
  }
 },
 "nbformat": 4,
 "nbformat_minor": 0
}
