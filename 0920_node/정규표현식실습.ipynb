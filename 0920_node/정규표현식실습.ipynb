{
 "cells": [
  {
   "cell_type": "code",
   "execution_count": 1,
   "metadata": {
    "collapsed": true,
    "ExecuteTime": {
     "end_time": "2023-09-20T03:02:07.380387700Z",
     "start_time": "2023-09-20T03:02:07.378256200Z"
    }
   },
   "outputs": [],
   "source": [
    "import pandas as pd\n",
    "import re\n",
    "import os"
   ]
  },
  {
   "cell_type": "code",
   "execution_count": 2,
   "outputs": [
    {
     "data": {
      "text/plain": "   accident_id                                               memo\n0            1  - 운전자 : 본인\\n- 사고장소 : 화곡3동\\n- 사고경위 : 좌회전신호 받고 차...\n1            2  - 운전자 : 본인 \\n- 사고장소 : 12:54 \\n- 사고경위 : 인천공항 주차...\n2            3  - 운전자 : 본인\\n- 사고장소 : 17:20 홍제3동\\n- 사고경위 : 주차된 ...\n3            4  - 대차정보 : 김그린 010-0000-0003 / 동승자-배우자 기블루 \\n#대인...\n4            5  - 운전자 : 본인 (동승자 1인)\\n- 사고장소 : 삼방동\\n- 사고경위 : 자차...",
      "text/html": "<div>\n<style scoped>\n    .dataframe tbody tr th:only-of-type {\n        vertical-align: middle;\n    }\n\n    .dataframe tbody tr th {\n        vertical-align: top;\n    }\n\n    .dataframe thead th {\n        text-align: right;\n    }\n</style>\n<table border=\"1\" class=\"dataframe\">\n  <thead>\n    <tr style=\"text-align: right;\">\n      <th></th>\n      <th>accident_id</th>\n      <th>memo</th>\n    </tr>\n  </thead>\n  <tbody>\n    <tr>\n      <th>0</th>\n      <td>1</td>\n      <td>- 운전자 : 본인\\n- 사고장소 : 화곡3동\\n- 사고경위 : 좌회전신호 받고 차...</td>\n    </tr>\n    <tr>\n      <th>1</th>\n      <td>2</td>\n      <td>- 운전자 : 본인 \\n- 사고장소 : 12:54 \\n- 사고경위 : 인천공항 주차...</td>\n    </tr>\n    <tr>\n      <th>2</th>\n      <td>3</td>\n      <td>- 운전자 : 본인\\n- 사고장소 : 17:20 홍제3동\\n- 사고경위 : 주차된 ...</td>\n    </tr>\n    <tr>\n      <th>3</th>\n      <td>4</td>\n      <td>- 대차정보 : 김그린 010-0000-0003 / 동승자-배우자 기블루 \\n#대인...</td>\n    </tr>\n    <tr>\n      <th>4</th>\n      <td>5</td>\n      <td>- 운전자 : 본인 (동승자 1인)\\n- 사고장소 : 삼방동\\n- 사고경위 : 자차...</td>\n    </tr>\n  </tbody>\n</table>\n</div>"
     },
     "execution_count": 2,
     "metadata": {},
     "output_type": "execute_result"
    }
   ],
   "source": [
    "df = pd.read_csv(\"ch3_regex_sample_v2.csv\")\n",
    "df.head()"
   ],
   "metadata": {
    "collapsed": false,
    "ExecuteTime": {
     "end_time": "2023-09-20T03:05:37.698266400Z",
     "start_time": "2023-09-20T03:05:37.540488500Z"
    }
   }
  },
  {
   "cell_type": "code",
   "execution_count": 3,
   "outputs": [
    {
     "name": "stdout",
     "output_type": "stream",
     "text": [
      "<class 'pandas.core.frame.DataFrame'>\n",
      "RangeIndex: 36 entries, 0 to 35\n",
      "Data columns (total 2 columns):\n",
      " #   Column       Non-Null Count  Dtype \n",
      "---  ------       --------------  ----- \n",
      " 0   accident_id  36 non-null     int64 \n",
      " 1   memo         36 non-null     object\n",
      "dtypes: int64(1), object(1)\n",
      "memory usage: 708.0+ bytes\n"
     ]
    }
   ],
   "source": [
    "df.info()"
   ],
   "metadata": {
    "collapsed": false,
    "ExecuteTime": {
     "end_time": "2023-09-20T03:05:46.229150300Z",
     "start_time": "2023-09-20T03:05:46.182044Z"
    }
   }
  },
  {
   "cell_type": "code",
   "execution_count": 4,
   "outputs": [
    {
     "data": {
      "text/plain": "'- 운전자 : 본인\\n- 사고장소 : 화곡3동\\n- 사고경위 : 좌회전신호 받고 차선변경중 다른차량과 접촉\\n- 파손부위 : 자차 왼쪽 범퍼,타이어쪽 / 상대방 조수석 범퍼 \\n- 대차 접수번호 : \\n- 대인/대차정보 : \\n- 보험 : 010-0001-0000\\n- 현장 출동 : 010-0002-0000 안전하게 마무리 \\n- 처리내용 : 사진요청중 / 현출O / 평일기준 2-3일내 연락 / 블박 확인요청'"
     },
     "execution_count": 4,
     "metadata": {},
     "output_type": "execute_result"
    }
   ],
   "source": [
    "# 사고 일시, 사고 경위 등이 담겨있는 메모입니다.\n",
    "df.memo[0]"
   ],
   "metadata": {
    "collapsed": false,
    "ExecuteTime": {
     "end_time": "2023-09-20T03:06:03.825156700Z",
     "start_time": "2023-09-20T03:06:03.822773800Z"
    }
   }
  },
  {
   "cell_type": "code",
   "execution_count": 6,
   "outputs": [
    {
     "name": "stdout",
     "output_type": "stream",
     "text": [
      "0 - 파손부위 : 자차 왼쪽 범퍼,타이어쪽 / 상대방 조수석 범퍼 \n",
      "1 - 파손부위 : 운전석 휀다 / 대차 앞범퍼 \n",
      "2 - 파손부위 : 자차 앞범퍼 / 상대차 뒷문,뒷범퍼\n",
      "4 - 파손부위 : 자차 조수석쪽 뒷 후미등 밑 긁힘 / 대차 조수석쪽 뒷 후미등 밑 긁힘\n",
      "5 - 파손부위 : 보조석쪽 앞범퍼 안개등부분 긁힘 / 범퍼 손상 / 조수석 앞 타이어 옆부분 찢어짐\n",
      "6 - 파손부위 : 핸들 오른쪽으로 틀어짐 /조수석쪽 앞바퀴 휠 긁힘\n",
      "7 - 파손부위 : 앞범퍼, 좌측 전조등, 본넷, 좌측 앞펜더\n",
      "8 - 파손부위 : 우측 뒷펜더\n",
      "9 - 파손부위 : 뒷 범퍼\n",
      "10 - 파손부위 : 뒷 범퍼\n",
      "11 - 파손부위 : 뒷 범퍼\n",
      "12 - 파손부위 : 앞 범퍼\n",
      "13 - 파손부위 : 좌측 앞, 뒷도어\n",
      "22 - 접촉부위 (운행가능) - 누수여부(X)\n",
      "23 - 파손부위 : 운전석 휀다\n",
      "24 - 파손부위 : 자차 앞범퍼 / 상대차 뒷문,뒷범퍼\n",
      "25 - 파손부위 : 자차 조수석쪽 뒷 후미등 밑 긁힘 / 대차 조수석쪽 뒷 후미등 밑 긁힘\n",
      "26 - 파손부위 : 자차 조수석쪽 뒷 후미등 밑 긁힘 / 대차 조수석쪽 뒷 후미등 밑 긁힘\n",
      "27 - 파손부위 : 범퍼 경미 손상\n",
      "28 - 파손부위 : 핸들 오른쪽으로 틀어짐 /조수석쪽 앞바퀴 휠 긁힘\n",
      "29 - 파손부위 : 앞범퍼, 좌측 전조등, 본넷, 좌측 앞펜더\n",
      "30 - 파손부위 : 범퍼 경미 손상 \n",
      "31 - 파손부위 : 운전석 휀다 / 대차 앞범퍼 \n",
      "32 - 파손부위 : 앞범퍼, 좌측 전조등, 본넷, 좌측 앞펜더\n",
      "33 - 파손부위 : 앞범퍼\n",
      "34 - 파손부위 : 앞범퍼, 좌측 전조등\n",
      "35 - 파손부위 : 자차 조수석쪽 뒷 후미등 밑 긁힘 / 대차 조수석쪽 뒷 후미등 밑 긁힘\n"
     ]
    }
   ],
   "source": [
    "# 위의 메모를 토대로 파손부위 정보만 뽑아보기\n",
    "for idx, row in df.iterrows():\n",
    "    for sentence in row['memo'].split('\\n'):\n",
    "        if '부위' in sentence:\n",
    "            print(idx, sentence)"
   ],
   "metadata": {
    "collapsed": false,
    "ExecuteTime": {
     "end_time": "2023-09-20T03:08:44.190686500Z",
     "start_time": "2023-09-20T03:08:44.104160500Z"
    }
   }
  },
  {
   "cell_type": "code",
   "execution_count": 8,
   "outputs": [
    {
     "name": "stdout",
     "output_type": "stream",
     "text": [
      "0 []\n",
      "1 []\n",
      "2 []\n",
      "3 []\n",
      "4 []\n",
      "5 []\n",
      "6 []\n",
      "7 []\n",
      "8 []\n",
      "9 []\n",
      "10 []\n",
      "11 []\n",
      "12 []\n",
      "13 []\n",
      "14 []\n",
      "15 []\n",
      "16 []\n",
      "17 []\n",
      "18 []\n",
      "19 []\n",
      "20 ['01000000011', '01000000019', '01000000020', '01000000021']\n",
      "21 []\n",
      "22 []\n",
      "23 []\n",
      "24 ['01000000026', '01000000027']\n",
      "25 []\n",
      "26 []\n",
      "27 []\n",
      "28 ['01000000031', '01000000032']\n",
      "29 ['01000000033', '01000000034', '01000000035']\n",
      "30 []\n",
      "31 []\n",
      "32 ['01000000050', '01000000034', '01000000035']\n",
      "33 ['01000000070', '01000000071']\n",
      "34 ['01000000072', '01000000073']\n",
      "35 ['01000000009']\n"
     ]
    }
   ],
   "source": [
    "# '00000000000' 형태 가져오기\n",
    "for idx, row in df.iterrows():\n",
    "    print(idx, re.findall('[0-9]{11}', row['memo']))"
   ],
   "metadata": {
    "collapsed": false,
    "ExecuteTime": {
     "end_time": "2023-09-20T03:43:19.432637300Z",
     "start_time": "2023-09-20T03:43:19.416898800Z"
    }
   }
  },
  {
   "cell_type": "code",
   "execution_count": 9,
   "outputs": [
    {
     "name": "stdout",
     "output_type": "stream",
     "text": [
      "0 ['010-0001-0000', '010-0002-0000']\n",
      "1 ['010-0000-0013', '010-0000-0007']\n",
      "2 ['010-0001-0000']\n",
      "3 ['010-0000-0003']\n",
      "4 ['010-0000-0098']\n",
      "5 ['010-0000-0009', '010-0001-0000']\n",
      "6 []\n",
      "7 []\n",
      "8 []\n",
      "9 []\n",
      "10 []\n",
      "11 ['010-0002-0000']\n",
      "12 ['010-0001-0000']\n",
      "13 []\n",
      "14 ['010-0000-0007']\n",
      "15 []\n",
      "16 ['010-0000-0008', '010-0000-0004', '010-0000-0010', '010-0002-0000']\n",
      "17 ['010-0000-0011', '010-0000-0012', '010-0000-0013']\n",
      "18 ['010-0000-0014', '010-0000-0015', '010-0000-0016']\n",
      "19 ['010-0001-0000']\n",
      "20 ['01000000011', '01000000019', '01000000020', '01000000021']\n",
      "21 ['010-0000-0022', '010-0002-0000']\n",
      "22 ['010-0000-0011', '010-0000-0013', '010-0001-0000']\n",
      "23 ['010-0000-0025']\n",
      "24 ['01000000026', '01000000027']\n",
      "25 ['010-0000-0028']\n",
      "26 ['010-0001-0000', '010-0000-0029']\n",
      "27 ['010-0000-0030']\n",
      "28 ['010-0002-0000', '01000000031', '01000000032']\n",
      "29 ['01000000033', '01000000034', '01000000035']\n",
      "30 []\n",
      "31 ['010-0000-0009', '010-0000-0007']\n",
      "32 ['01000000050', '01000000034', '01000000035']\n",
      "33 ['01000000070', '01000000071']\n",
      "34 ['01000000072', '01000000073']\n",
      "35 ['010-0000-0050', '01000000009']\n"
     ]
    }
   ],
   "source": [
    "# '000-0000-0000', '00000000000' 형태 가져오기\n",
    "for idx, row in df.iterrows():\n",
    "    print(idx, re.findall('[0-9]{3}-?[0-9]{4}-?[0-9]{4}', row['memo']))"
   ],
   "metadata": {
    "collapsed": false,
    "ExecuteTime": {
     "end_time": "2023-09-20T03:44:21.644054800Z",
     "start_time": "2023-09-20T03:44:21.630522100Z"
    }
   }
  },
  {
   "cell_type": "markdown",
   "source": [
    "### 최다 빈출 문자열 찾기"
   ],
   "metadata": {
    "collapsed": false
   }
  },
  {
   "cell_type": "code",
   "execution_count": 10,
   "outputs": [],
   "source": [
    "# 우선 문자열을 순회하면서 담을 리스트를 선언합니다.\n",
    "result = []"
   ],
   "metadata": {
    "collapsed": false,
    "ExecuteTime": {
     "end_time": "2023-09-20T03:45:21.500376600Z",
     "start_time": "2023-09-20T03:45:21.484625Z"
    }
   }
  },
  {
   "cell_type": "code",
   "execution_count": 11,
   "outputs": [],
   "source": [
    "# 아래처럼 순회합니다.\n",
    "for idx, row in df.iterrows():\n",
    "    # 원하는 패턴의 문자열을 찾았다면 result 에 추가합니다.\n",
    "    for target_string in re.findall('[0-9]{3}-?[0-9]{4}-?[0-9]{4}', row['memo'] ) :\n",
    "        # '-' 는 제거하여 추가합니다.\n",
    "        result.append(target_string.replace('-', ''))"
   ],
   "metadata": {
    "collapsed": false,
    "ExecuteTime": {
     "end_time": "2023-09-20T03:45:42.626402700Z",
     "start_time": "2023-09-20T03:45:42.595019700Z"
    }
   }
  },
  {
   "cell_type": "code",
   "execution_count": 13,
   "outputs": [
    {
     "name": "stdout",
     "output_type": "stream",
     "text": [
      "['01000010000', '01000020000', '01000000013', '01000000007', '01000010000', '01000000003', '01000000098', '01000000009', '01000010000', '01000020000', '01000010000', '01000000007', '01000000008', '01000000004', '01000000010', '01000020000', '01000000011', '01000000012', '01000000013', '01000000014', '01000000015', '01000000016', '01000010000', '01000000011', '01000000019', '01000000020', '01000000021', '01000000022', '01000020000', '01000000011', '01000000013', '01000010000', '01000000025', '01000000026', '01000000027', '01000000028', '01000010000', '01000000029', '01000000030', '01000020000', '01000000031', '01000000032', '01000000033', '01000000034', '01000000035', '01000000009', '01000000007', '01000000050', '01000000034', '01000000035', '01000000070', '01000000071', '01000000072', '01000000073', '01000000050', '01000000009']\n"
     ]
    }
   ],
   "source": [
    "print(result)"
   ],
   "metadata": {
    "collapsed": false,
    "ExecuteTime": {
     "end_time": "2023-09-20T03:45:54.971269800Z",
     "start_time": "2023-09-20T03:45:54.947735200Z"
    }
   }
  },
  {
   "cell_type": "code",
   "execution_count": 14,
   "outputs": [
    {
     "name": "stdout",
     "output_type": "stream",
     "text": [
      "Counter({'01000010000': 7, '01000020000': 5, '01000000013': 3, '01000000007': 3, '01000000009': 3, '01000000011': 3, '01000000034': 2, '01000000035': 2, '01000000050': 2, '01000000003': 1, '01000000098': 1, '01000000008': 1, '01000000004': 1, '01000000010': 1, '01000000012': 1, '01000000014': 1, '01000000015': 1, '01000000016': 1, '01000000019': 1, '01000000020': 1, '01000000021': 1, '01000000022': 1, '01000000025': 1, '01000000026': 1, '01000000027': 1, '01000000028': 1, '01000000029': 1, '01000000030': 1, '01000000031': 1, '01000000032': 1, '01000000033': 1, '01000000070': 1, '01000000071': 1, '01000000072': 1, '01000000073': 1})\n"
     ]
    }
   ],
   "source": [
    "# 가장 많이 빈출된 값을 카운트해봅시다.\n",
    "from collections import Counter\n",
    "\n",
    "target_str_counter = Counter(result)\n",
    "print(target_str_counter)"
   ],
   "metadata": {
    "collapsed": false,
    "ExecuteTime": {
     "end_time": "2023-09-20T03:46:19.744511600Z",
     "start_time": "2023-09-20T03:46:19.680901700Z"
    }
   }
  },
  {
   "cell_type": "code",
   "execution_count": 15,
   "outputs": [
    {
     "name": "stdout",
     "output_type": "stream",
     "text": [
      "[('01000010000', 7), ('01000020000', 5), ('01000000013', 3), ('01000000007', 3), ('01000000009', 3)]\n"
     ]
    }
   ],
   "source": [
    "# 최빈값 가져오기 - most_common 메소드를 활용해 상위 K 개의 빈출 스트링을 가져옵니다.\n",
    "print(target_str_counter.most_common(5))"
   ],
   "metadata": {
    "collapsed": false,
    "ExecuteTime": {
     "end_time": "2023-09-20T03:46:54.216225600Z",
     "start_time": "2023-09-20T03:46:54.199205600Z"
    }
   }
  },
  {
   "cell_type": "code",
   "execution_count": 16,
   "outputs": [
    {
     "name": "stdout",
     "output_type": "stream",
     "text": [
      "- 보험 : 010-0001-0000\n",
      "- 보험 담당자 : 010-0001-0000\n",
      "- 보험 담당 : 010-0001-0000\n",
      "- 보험 담당 직원 : 010-0001-0000\n",
      "- 보험 담당 : 010-0001-0000\n",
      "- 보험사 연락처 : 010-0001-0000\n",
      "- 보험 담당 연락처 : 010-0001-0000\n"
     ]
    }
   ],
   "source": [
    "# 어떤 이유로 다양하게 등장했는지 알아보기 위해, 해당 문자열이 포함된 메모를 추출해보겠습니다.\n",
    "for idx, row in df.iterrows():\n",
    "    for sentence in row['memo'].split('\\n'):\n",
    "\n",
    "        target_string = re.findall('[0-9]{3}-?[0-9]{4}-?[0-9]{4}', sentence )\n",
    "        if '010-0001-0000' in target_string:\n",
    "            print(sentence)"
   ],
   "metadata": {
    "collapsed": false,
    "ExecuteTime": {
     "end_time": "2023-09-20T03:49:10.020660600Z",
     "start_time": "2023-09-20T03:49:10.004996Z"
    }
   }
  },
  {
   "cell_type": "code",
   "execution_count": null,
   "outputs": [],
   "source": [],
   "metadata": {
    "collapsed": false
   }
  }
 ],
 "metadata": {
  "kernelspec": {
   "display_name": "Python 3",
   "language": "python",
   "name": "python3"
  },
  "language_info": {
   "codemirror_mode": {
    "name": "ipython",
    "version": 2
   },
   "file_extension": ".py",
   "mimetype": "text/x-python",
   "name": "python",
   "nbconvert_exporter": "python",
   "pygments_lexer": "ipython2",
   "version": "2.7.6"
  }
 },
 "nbformat": 4,
 "nbformat_minor": 0
}
