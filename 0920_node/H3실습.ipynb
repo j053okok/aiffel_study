{
 "cells": [
  {
   "cell_type": "code",
   "execution_count": 1,
   "metadata": {
    "collapsed": true,
    "ExecuteTime": {
     "end_time": "2023-09-20T04:30:15.363147200Z",
     "start_time": "2023-09-20T04:30:15.007060900Z"
    }
   },
   "outputs": [],
   "source": [
    "import pandas as pd\n",
    "import folium"
   ]
  },
  {
   "cell_type": "code",
   "execution_count": 2,
   "outputs": [
    {
     "data": {
      "text/plain": "           id         lng        lat  is_fraud\n0     1010149  126.981566  35.058931      True\n1     1010149  126.979396  35.056668      True\n2     1010149  126.979395  35.056666      True\n3     1010149  126.979395  35.056666      True\n4     1010149  126.979397  35.056664      True\n...       ...         ...        ...       ...\n2996  1038215  127.334879  37.351526     False\n2997  1038215  127.329981  37.340787     False\n2998  1038215  127.326308  37.339377     False\n2999  1038215  127.325225  37.338941     False\n3000  1038215  127.327323  37.335819     False\n\n[3001 rows x 4 columns]",
      "text/html": "<div>\n<style scoped>\n    .dataframe tbody tr th:only-of-type {\n        vertical-align: middle;\n    }\n\n    .dataframe tbody tr th {\n        vertical-align: top;\n    }\n\n    .dataframe thead th {\n        text-align: right;\n    }\n</style>\n<table border=\"1\" class=\"dataframe\">\n  <thead>\n    <tr style=\"text-align: right;\">\n      <th></th>\n      <th>id</th>\n      <th>lng</th>\n      <th>lat</th>\n      <th>is_fraud</th>\n    </tr>\n  </thead>\n  <tbody>\n    <tr>\n      <th>0</th>\n      <td>1010149</td>\n      <td>126.981566</td>\n      <td>35.058931</td>\n      <td>True</td>\n    </tr>\n    <tr>\n      <th>1</th>\n      <td>1010149</td>\n      <td>126.979396</td>\n      <td>35.056668</td>\n      <td>True</td>\n    </tr>\n    <tr>\n      <th>2</th>\n      <td>1010149</td>\n      <td>126.979395</td>\n      <td>35.056666</td>\n      <td>True</td>\n    </tr>\n    <tr>\n      <th>3</th>\n      <td>1010149</td>\n      <td>126.979395</td>\n      <td>35.056666</td>\n      <td>True</td>\n    </tr>\n    <tr>\n      <th>4</th>\n      <td>1010149</td>\n      <td>126.979397</td>\n      <td>35.056664</td>\n      <td>True</td>\n    </tr>\n    <tr>\n      <th>...</th>\n      <td>...</td>\n      <td>...</td>\n      <td>...</td>\n      <td>...</td>\n    </tr>\n    <tr>\n      <th>2996</th>\n      <td>1038215</td>\n      <td>127.334879</td>\n      <td>37.351526</td>\n      <td>False</td>\n    </tr>\n    <tr>\n      <th>2997</th>\n      <td>1038215</td>\n      <td>127.329981</td>\n      <td>37.340787</td>\n      <td>False</td>\n    </tr>\n    <tr>\n      <th>2998</th>\n      <td>1038215</td>\n      <td>127.326308</td>\n      <td>37.339377</td>\n      <td>False</td>\n    </tr>\n    <tr>\n      <th>2999</th>\n      <td>1038215</td>\n      <td>127.325225</td>\n      <td>37.338941</td>\n      <td>False</td>\n    </tr>\n    <tr>\n      <th>3000</th>\n      <td>1038215</td>\n      <td>127.327323</td>\n      <td>37.335819</td>\n      <td>False</td>\n    </tr>\n  </tbody>\n</table>\n<p>3001 rows × 4 columns</p>\n</div>"
     },
     "execution_count": 2,
     "metadata": {},
     "output_type": "execute_result"
    }
   ],
   "source": [
    "gps_df = pd.read_csv(\"ch3_gps_sample_v2.csv\")\n",
    "gps_df"
   ],
   "metadata": {
    "collapsed": false,
    "ExecuteTime": {
     "end_time": "2023-09-20T04:30:35.035909200Z",
     "start_time": "2023-09-20T04:30:35.004245600Z"
    }
   }
  },
  {
   "cell_type": "code",
   "execution_count": 3,
   "outputs": [],
   "source": [
    "# 사기건과 비사기건의 id 는 다음과 같습니다.\n",
    "fraud_list = [1033662, 1023332, 1018336, 1010149]\n",
    "normal_list = [1037358, 1039563, 1038666, 1038215]"
   ],
   "metadata": {
    "collapsed": false,
    "ExecuteTime": {
     "end_time": "2023-09-20T04:31:03.014140700Z",
     "start_time": "2023-09-20T04:31:03.008780Z"
    }
   }
  },
  {
   "cell_type": "code",
   "execution_count": null,
   "outputs": [],
   "source": [],
   "metadata": {
    "collapsed": false
   }
  }
 ],
 "metadata": {
  "kernelspec": {
   "display_name": "Python 3",
   "language": "python",
   "name": "python3"
  },
  "language_info": {
   "codemirror_mode": {
    "name": "ipython",
    "version": 2
   },
   "file_extension": ".py",
   "mimetype": "text/x-python",
   "name": "python",
   "nbconvert_exporter": "python",
   "pygments_lexer": "ipython2",
   "version": "2.7.6"
  }
 },
 "nbformat": 4,
 "nbformat_minor": 0
}
