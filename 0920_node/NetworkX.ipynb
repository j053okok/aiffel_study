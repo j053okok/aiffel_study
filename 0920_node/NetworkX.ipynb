{
 "cells": [
  {
   "cell_type": "code",
   "execution_count": 48,
   "metadata": {
    "collapsed": true,
    "ExecuteTime": {
     "end_time": "2023-09-20T06:06:01.524726800Z",
     "start_time": "2023-09-20T06:06:01.355647500Z"
    }
   },
   "outputs": [],
   "source": [
    "import networkx as nx\n",
    "from IPython.core.display import Image\n",
    "from networkx.drawing.nx_pydot import to_pydot"
   ]
  },
  {
   "cell_type": "code",
   "execution_count": 49,
   "outputs": [],
   "source": [
    "# 그래프를 생성합니다.\n",
    "import networkx as nx\n",
    "\n",
    "G = nx.Graph()"
   ],
   "metadata": {
    "collapsed": false,
    "ExecuteTime": {
     "end_time": "2023-09-20T06:06:01.660956600Z",
     "start_time": "2023-09-20T06:06:01.360155Z"
    }
   }
  },
  {
   "cell_type": "code",
   "execution_count": 50,
   "outputs": [],
   "source": [
    "# 1 노드를 추가합니다.\n",
    "G.add_node(1)"
   ],
   "metadata": {
    "collapsed": false,
    "ExecuteTime": {
     "end_time": "2023-09-20T06:06:01.692110300Z",
     "start_time": "2023-09-20T06:06:01.379083Z"
    }
   }
  },
  {
   "cell_type": "code",
   "execution_count": 51,
   "outputs": [],
   "source": [
    "# 'p' 노드를 추가합니다.\n",
    "G.add_node('p')"
   ],
   "metadata": {
    "collapsed": false,
    "ExecuteTime": {
     "end_time": "2023-09-20T06:06:01.692110300Z",
     "start_time": "2023-09-20T06:06:01.387808800Z"
    }
   }
  },
  {
   "cell_type": "code",
   "execution_count": 52,
   "outputs": [],
   "source": [
    "# 복수개의 노드를 한번에 추가합니다\n",
    "G.add_nodes_from([2, 3, 9, 8, 10])"
   ],
   "metadata": {
    "collapsed": false,
    "ExecuteTime": {
     "end_time": "2023-09-20T06:06:01.692110300Z",
     "start_time": "2023-09-20T06:06:01.393305600Z"
    }
   }
  },
  {
   "cell_type": "code",
   "execution_count": 53,
   "outputs": [],
   "source": [
    "# 1 노드와 2 노드를 잇는 엣지를 추가합니다.\n",
    "G.add_edge(1, 2)"
   ],
   "metadata": {
    "collapsed": false,
    "ExecuteTime": {
     "end_time": "2023-09-20T06:06:01.692110300Z",
     "start_time": "2023-09-20T06:06:01.396773900Z"
    }
   }
  },
  {
   "cell_type": "code",
   "execution_count": 54,
   "outputs": [],
   "source": [
    "# 튜플을 unpack 하는 형태로 엣지를 추가할 수도 있습니다. 2 노드와 3노드를 잇는 엣지를 추가합니다.\n",
    "e = (2, 3)\n",
    "G.add_edge(*e)"
   ],
   "metadata": {
    "collapsed": false,
    "ExecuteTime": {
     "end_time": "2023-09-20T06:06:01.692110300Z",
     "start_time": "2023-09-20T06:06:01.408214700Z"
    }
   }
  },
  {
   "cell_type": "code",
   "execution_count": 55,
   "outputs": [],
   "source": [
    "# 여러 엣지를 한번에 추가할 수도 있습니다\n",
    "G.add_edges_from([('p', 2), (1, 3), (9, 8), (8, 10)])"
   ],
   "metadata": {
    "collapsed": false,
    "ExecuteTime": {
     "end_time": "2023-09-20T06:06:01.692110300Z",
     "start_time": "2023-09-20T06:06:01.414549500Z"
    }
   }
  },
  {
   "cell_type": "code",
   "execution_count": 56,
   "outputs": [
    {
     "name": "stdout",
     "output_type": "stream",
     "text": [
      "7\n",
      "6\n"
     ]
    }
   ],
   "source": [
    "# 노드의 갯수와 엣지를 확인해봅시다.\n",
    "print(G.number_of_nodes())\n",
    "print(G.number_of_edges())"
   ],
   "metadata": {
    "collapsed": false,
    "ExecuteTime": {
     "end_time": "2023-09-20T06:06:01.692110300Z",
     "start_time": "2023-09-20T06:06:01.423905400Z"
    }
   }
  },
  {
   "cell_type": "code",
   "execution_count": 57,
   "outputs": [
    {
     "data": {
      "text/plain": "[1, 'p', 2, 3, 9, 8, 10]"
     },
     "execution_count": 57,
     "metadata": {},
     "output_type": "execute_result"
    }
   ],
   "source": [
    "# 노드 리스트 확인하기\n",
    "list(G.nodes)"
   ],
   "metadata": {
    "collapsed": false,
    "ExecuteTime": {
     "end_time": "2023-09-20T06:06:01.692110300Z",
     "start_time": "2023-09-20T06:06:01.433219100Z"
    }
   }
  },
  {
   "cell_type": "code",
   "execution_count": 58,
   "outputs": [
    {
     "data": {
      "text/plain": "[(1, 2), (1, 3), ('p', 2), (2, 3), (9, 8), (8, 10)]"
     },
     "execution_count": 58,
     "metadata": {},
     "output_type": "execute_result"
    }
   ],
   "source": [
    "# 엣지 리스트 확인하기\n",
    "list(G.edges)"
   ],
   "metadata": {
    "collapsed": false,
    "ExecuteTime": {
     "end_time": "2023-09-20T06:06:01.692110300Z",
     "start_time": "2023-09-20T06:06:01.455409900Z"
    }
   }
  },
  {
   "cell_type": "code",
   "execution_count": 59,
   "outputs": [
    {
     "data": {
      "text/plain": "[2, 3]"
     },
     "execution_count": 59,
     "metadata": {},
     "output_type": "execute_result"
    }
   ],
   "source": [
    "# 1번 노드와 연결된 노드\n",
    "list(G.adj[1])"
   ],
   "metadata": {
    "collapsed": false,
    "ExecuteTime": {
     "end_time": "2023-09-20T06:06:01.692110300Z",
     "start_time": "2023-09-20T06:06:01.458224900Z"
    }
   }
  },
  {
   "cell_type": "code",
   "execution_count": 60,
   "outputs": [
    {
     "data": {
      "text/plain": "2"
     },
     "execution_count": 60,
     "metadata": {},
     "output_type": "execute_result"
    }
   ],
   "source": [
    "# 노드와 연결된 엣지 갯수를 해당 노드의 degree라고 부릅니다.\n",
    "# 1 번 노드의 degree 출력하기\n",
    "G.degree[1]"
   ],
   "metadata": {
    "collapsed": false,
    "ExecuteTime": {
     "end_time": "2023-09-20T06:06:01.707731200Z",
     "start_time": "2023-09-20T06:06:01.471333400Z"
    }
   }
  },
  {
   "cell_type": "code",
   "execution_count": 61,
   "outputs": [
    {
     "data": {
      "text/plain": "EdgeDataView([(2, 1), (2, 3), (2, 'p'), (3, 1)])"
     },
     "execution_count": 61,
     "metadata": {},
     "output_type": "execute_result"
    }
   ],
   "source": [
    "# 2와 3 노드에 연결된 모든 엣지 데이터 가져오기\n",
    "G.edges([2, 3])"
   ],
   "metadata": {
    "collapsed": false,
    "ExecuteTime": {
     "end_time": "2023-09-20T06:06:01.707731200Z",
     "start_time": "2023-09-20T06:06:01.475752900Z"
    }
   }
  },
  {
   "cell_type": "code",
   "execution_count": 62,
   "outputs": [
    {
     "data": {
      "text/plain": "DegreeView({1: 2, 2: 3, 3: 2})"
     },
     "execution_count": 62,
     "metadata": {},
     "output_type": "execute_result"
    }
   ],
   "source": [
    "# 1,2,3 노드의 degree 정보 가져오기\n",
    "G.degree([1, 2, 3])"
   ],
   "metadata": {
    "collapsed": false,
    "ExecuteTime": {
     "end_time": "2023-09-20T06:06:01.707731200Z",
     "start_time": "2023-09-20T06:06:01.486601700Z"
    }
   }
  },
  {
   "cell_type": "code",
   "execution_count": 63,
   "outputs": [
    {
     "name": "stdout",
     "output_type": "stream",
     "text": [
      "제거 전  [1, 'p', 2, 3, 9, 8, 10]\n",
      "제거 후  ['p', 2, 3, 9, 8, 10]\n"
     ]
    }
   ],
   "source": [
    "# 1 노드를 제거 해봅니다\n",
    "print('제거 전 ', list(G.nodes))\n",
    "G.remove_node(1)\n",
    "print('제거 후 ', list(G.nodes))"
   ],
   "metadata": {
    "collapsed": false,
    "ExecuteTime": {
     "end_time": "2023-09-20T06:06:01.707731200Z",
     "start_time": "2023-09-20T06:06:01.493806600Z"
    }
   }
  },
  {
   "cell_type": "code",
   "execution_count": 64,
   "outputs": [
    {
     "name": "stdout",
     "output_type": "stream",
     "text": [
      "제거 전  ['p', 2, 3, 9, 8, 10]\n",
      "제거 후  [2, 9, 8, 10]\n"
     ]
    }
   ],
   "source": [
    "# 여러 노드를 제거 해봅니다\n",
    "print('제거 전 ', list(G.nodes))\n",
    "G.remove_nodes_from(['p', 3])\n",
    "print('제거 후 ', list(G.nodes))"
   ],
   "metadata": {
    "collapsed": false,
    "ExecuteTime": {
     "end_time": "2023-09-20T06:06:01.707731200Z",
     "start_time": "2023-09-20T06:06:01.502541500Z"
    }
   }
  },
  {
   "cell_type": "code",
   "execution_count": 65,
   "outputs": [
    {
     "name": "stdout",
     "output_type": "stream",
     "text": [
      "[(9, 8), (8, 10)]\n",
      "[(9, 8)]\n"
     ]
    }
   ],
   "source": [
    "# 엣지 제거하기\n",
    "print(list(G.edges))\n",
    "G.remove_edge(8, 10)\n",
    "print(list(G.edges))"
   ],
   "metadata": {
    "collapsed": false,
    "ExecuteTime": {
     "end_time": "2023-09-20T06:06:01.707731200Z",
     "start_time": "2023-09-20T06:06:01.517688900Z"
    }
   }
  },
  {
   "cell_type": "markdown",
   "source": [
    "### 노드와 엣지에 속성 부여"
   ],
   "metadata": {
    "collapsed": false
   }
  },
  {
   "cell_type": "code",
   "execution_count": 66,
   "outputs": [],
   "source": [
    "# 그래프를 생성합니다\n",
    "G.add_edges_from([('p', 2), (1, 3), (9, 8), (8, 10)])"
   ],
   "metadata": {
    "collapsed": false,
    "ExecuteTime": {
     "end_time": "2023-09-20T06:06:01.707731200Z",
     "start_time": "2023-09-20T06:06:01.519473400Z"
    }
   }
  },
  {
   "cell_type": "code",
   "execution_count": 67,
   "outputs": [],
   "source": [
    "# 1 노드와 3 노드에 'friend' 라는 'relation' 속성을 추가합니다. (엣지속성)\n",
    "G = nx.Graph([(1, 3, {\"relation\": \"friend\"})])"
   ],
   "metadata": {
    "collapsed": false,
    "ExecuteTime": {
     "end_time": "2023-09-20T06:06:01.707731200Z",
     "start_time": "2023-09-20T06:06:01.524726800Z"
    }
   }
  },
  {
   "cell_type": "code",
   "execution_count": 68,
   "outputs": [
    {
     "name": "stdout",
     "output_type": "stream",
     "text": [
      "{3: {'relation': 'friend'}}\n",
      "{'relation': 'friend'}\n",
      "{'relation': 'friend'}\n"
     ]
    }
   ],
   "source": [
    "# 추가된 결과는 다양한 방식으로 확인할 수 있습니다.\n",
    "print(G[1])\n",
    "print(G[1][3])\n",
    "print(G.edges[1, 3])"
   ],
   "metadata": {
    "collapsed": false,
    "ExecuteTime": {
     "end_time": "2023-09-20T06:06:01.707731200Z",
     "start_time": "2023-09-20T06:06:01.534544500Z"
    }
   }
  },
  {
   "cell_type": "code",
   "execution_count": 69,
   "outputs": [
    {
     "name": "stdout",
     "output_type": "stream",
     "text": [
      "{'relation': 'friend', 'since': 2020, 'number_of_times met': 8}\n"
     ]
    }
   ],
   "source": [
    "# 또 다른 엣지 속성 부여하기\n",
    "G.edges[1, 3]['since'] = 2020\n",
    "G.edges[1, 3]['number_of_times met'] = 8\n",
    "print(G.edges[1, 3])"
   ],
   "metadata": {
    "collapsed": false,
    "ExecuteTime": {
     "end_time": "2023-09-20T06:06:01.707731200Z",
     "start_time": "2023-09-20T06:06:01.546569600Z"
    }
   }
  },
  {
   "cell_type": "code",
   "execution_count": 70,
   "outputs": [
    {
     "name": "stdout",
     "output_type": "stream",
     "text": [
      "\n",
      "노드  1\n",
      "인접 노드   ItemsView(AtlasView({2: {'weight': 0.125}, 3: {'weight': 0.75}}))\n",
      "\n",
      "노드  2\n",
      "인접 노드   ItemsView(AtlasView({1: {'weight': 0.125}, 4: {'weight': 1.2}}))\n",
      "\n",
      "노드  3\n",
      "인접 노드   ItemsView(AtlasView({1: {'weight': 0.75}, 4: {'weight': 0.375}}))\n",
      "\n",
      "노드  4\n",
      "인접 노드   ItemsView(AtlasView({2: {'weight': 1.2}, 3: {'weight': 0.375}}))\n"
     ]
    }
   ],
   "source": [
    "# 가중치(weight)를 부여한 그래프 순회하기\n",
    "FG = nx.Graph()\n",
    "FG.add_weighted_edges_from([(1, 2, 0.125), (1, 3, 0.75), (2, 4, 1.2), (3, 4, 0.375)])\n",
    "for n, nbrs in FG.adj.items():\n",
    "    print('\\n노드 ', n)\n",
    "    print('인접 노드  ', nbrs.items())"
   ],
   "metadata": {
    "collapsed": false,
    "ExecuteTime": {
     "end_time": "2023-09-20T06:06:01.707731200Z",
     "start_time": "2023-09-20T06:06:01.551220900Z"
    }
   }
  },
  {
   "cell_type": "code",
   "execution_count": 71,
   "outputs": [
    {
     "name": "stdout",
     "output_type": "stream",
     "text": [
      "(4, 3, 0.375)\n"
     ]
    }
   ],
   "source": [
    "# 가중치가 0.5 미만인 노드 출력하기\n",
    "for nbr, edge_attr in nbrs.items():\n",
    "    wt = edge_attr['weight']\n",
    "    if wt < 0.5: print(f\"({n}, {nbr}, {wt:.3})\")"
   ],
   "metadata": {
    "collapsed": false,
    "ExecuteTime": {
     "end_time": "2023-09-20T06:06:01.707731200Z",
     "start_time": "2023-09-20T06:06:01.565427200Z"
    }
   }
  },
  {
   "cell_type": "code",
   "execution_count": 72,
   "outputs": [
    {
     "data": {
      "text/plain": "ItemsView(AdjacencyView({1: {3: {'relation': 'friend', 'since': 2020, 'number_of_times met': 8}}, 3: {1: {'relation': 'friend', 'since': 2020, 'number_of_times met': 8}}}))"
     },
     "execution_count": 72,
     "metadata": {},
     "output_type": "execute_result"
    }
   ],
   "source": [
    "G.adj.items()"
   ],
   "metadata": {
    "collapsed": false,
    "ExecuteTime": {
     "end_time": "2023-09-20T06:06:01.707731200Z",
     "start_time": "2023-09-20T06:06:01.569165100Z"
    }
   }
  },
  {
   "cell_type": "code",
   "execution_count": 73,
   "outputs": [],
   "source": [
    "# 노드 속성\n",
    "G.add_node(1, age=28)\n",
    "G.add_nodes_from([3,2], age=26)"
   ],
   "metadata": {
    "collapsed": false,
    "ExecuteTime": {
     "end_time": "2023-09-20T06:06:01.707731200Z",
     "start_time": "2023-09-20T06:06:01.581331700Z"
    }
   }
  },
  {
   "cell_type": "code",
   "execution_count": 74,
   "outputs": [
    {
     "data": {
      "text/plain": "NodeDataView({1: {'age': 28}, 3: {'age': 26}, 2: {'age': 26}})"
     },
     "execution_count": 74,
     "metadata": {},
     "output_type": "execute_result"
    }
   ],
   "source": [
    "# 노드 속성 확인하기\n",
    "G.nodes.data()"
   ],
   "metadata": {
    "collapsed": false,
    "ExecuteTime": {
     "end_time": "2023-09-20T06:06:01.707731200Z",
     "start_time": "2023-09-20T06:06:01.586165100Z"
    }
   }
  },
  {
   "cell_type": "code",
   "execution_count": 75,
   "outputs": [
    {
     "data": {
      "text/plain": "<Figure size 640x480 with 1 Axes>",
      "image/png": "[encoded data removed]"
     },
     "metadata": {},
     "output_type": "display_data"
    }
   ],
   "source": [
    "# 시각화 하기\n",
    "nx.draw(G, with_labels=True, font_weight='bold')"
   ],
   "metadata": {
    "collapsed": false,
    "ExecuteTime": {
     "end_time": "2023-09-20T06:06:02.039683500Z",
     "start_time": "2023-09-20T06:06:01.597202200Z"
    }
   }
  },
  {
   "cell_type": "code",
   "execution_count": 76,
   "outputs": [
    {
     "data": {
      "text/plain": "<Figure size 640x480 with 1 Axes>",
      "image/png": "[encoded data removed]"
     },
     "metadata": {},
     "output_type": "display_data"
    }
   ],
   "source": [
    "# 데이터 추가 후 시각화하기\n",
    "G.add_edge('SOCAR', 2)\n",
    "G.add_edge(1, 'SOCAR')\n",
    "G.add_edge('SOCAR', 'AIFFEL')\n",
    "nx.draw(G, with_labels=True, font_weight='bold')"
   ],
   "metadata": {
    "collapsed": false,
    "ExecuteTime": {
     "end_time": "2023-09-20T06:06:02.133567100Z",
     "start_time": "2023-09-20T06:06:01.881941400Z"
    }
   }
  },
  {
   "cell_type": "markdown",
   "source": [
    "* 해당 그래프는 관계의 방향성이 없기 때문에 무형그래프 라고 함"
   ],
   "metadata": {
    "collapsed": false
   }
  },
  {
   "cell_type": "code",
   "execution_count": 80,
   "outputs": [
    {
     "data": {
      "text/plain": "<Figure size 640x480 with 1 Axes>",
      "image/png": "[encoded data removed]"
     },
     "metadata": {},
     "output_type": "display_data"
    }
   ],
   "source": [
    "x = [1,2,3,4,5]\n",
    "A = nx.Graph()\n",
    "\n",
    "A.add_nodes_from(x)\n",
    "A.add_edges_from([(1,2), (3,4), (2,5), (2,3)])\n",
    "A.add_edge(1,2)\n",
    "A.add_edge(3,4)\n",
    "A.add_edge(2,5)\n",
    "nx.draw(A, with_labels=True, font_weight='bold')"
   ],
   "metadata": {
    "collapsed": false,
    "ExecuteTime": {
     "end_time": "2023-09-20T06:08:25.360620300Z",
     "start_time": "2023-09-20T06:08:25.235452700Z"
    }
   }
  },
  {
   "cell_type": "code",
   "execution_count": null,
   "outputs": [],
   "source": [],
   "metadata": {
    "collapsed": false,
    "ExecuteTime": {
     "start_time": "2023-09-20T06:06:02.063116800Z"
    }
   }
  }
 ],
 "metadata": {
  "kernelspec": {
   "display_name": "Python 3",
   "language": "python",
   "name": "python3"
  },
  "language_info": {
   "codemirror_mode": {
    "name": "ipython",
    "version": 2
   },
   "file_extension": ".py",
   "mimetype": "text/x-python",
   "name": "python",
   "nbconvert_exporter": "python",
   "pygments_lexer": "ipython2",
   "version": "2.7.6"
  }
 },
 "nbformat": 4,
 "nbformat_minor": 0
}
