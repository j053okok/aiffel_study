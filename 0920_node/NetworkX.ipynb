{
 "cells": [
  {
   "cell_type": "code",
   "execution_count": 2,
   "metadata": {
    "collapsed": true,
    "ExecuteTime": {
     "end_time": "2023-09-20T01:44:33.378484900Z",
     "start_time": "2023-09-20T01:44:32.994019200Z"
    }
   },
   "outputs": [],
   "source": [
    "import networkx as nx\n",
    "from IPython.core.display import Image\n",
    "from networkx.drawing.nx_pydot import to_pydot"
   ]
  },
  {
   "cell_type": "code",
   "execution_count": 4,
   "outputs": [],
   "source": [
    "# 그래프를 생성합니다.\n",
    "import networkx as nx\n",
    "\n",
    "G = nx.Graph()"
   ],
   "metadata": {
    "collapsed": false,
    "ExecuteTime": {
     "end_time": "2023-09-20T01:54:19.050373200Z",
     "start_time": "2023-09-20T01:54:18.968096600Z"
    }
   }
  },
  {
   "cell_type": "code",
   "execution_count": 5,
   "outputs": [],
   "source": [
    "# 1 노드를 추가합니다.\n",
    "G.add_node(1)"
   ],
   "metadata": {
    "collapsed": false,
    "ExecuteTime": {
     "end_time": "2023-09-20T01:55:18.369121900Z",
     "start_time": "2023-09-20T01:55:18.301604700Z"
    }
   }
  },
  {
   "cell_type": "code",
   "execution_count": 6,
   "outputs": [],
   "source": [
    "# 'p' 노드를 추가합니다.\n",
    "G.add_node('p')"
   ],
   "metadata": {
    "collapsed": false,
    "ExecuteTime": {
     "end_time": "2023-09-20T01:55:22.049445300Z",
     "start_time": "2023-09-20T01:55:22.018177300Z"
    }
   }
  },
  {
   "cell_type": "code",
   "execution_count": 7,
   "outputs": [],
   "source": [
    "# 복수개의 노드를 한번에 추가합니다\n",
    "G.add_nodes_from([2, 3, 9, 8, 10])"
   ],
   "metadata": {
    "collapsed": false,
    "ExecuteTime": {
     "end_time": "2023-09-20T01:55:26.159273400Z",
     "start_time": "2023-09-20T01:55:26.137064Z"
    }
   }
  },
  {
   "cell_type": "code",
   "execution_count": 8,
   "outputs": [],
   "source": [
    "# 1 노드와 2 노드를 잇는 엣지를 추가합니다.\n",
    "G.add_edge(1, 2)"
   ],
   "metadata": {
    "collapsed": false,
    "ExecuteTime": {
     "end_time": "2023-09-20T01:55:42.221059200Z",
     "start_time": "2023-09-20T01:55:42.221059200Z"
    }
   }
  },
  {
   "cell_type": "code",
   "execution_count": 9,
   "outputs": [],
   "source": [
    "# 튜플을 unpack 하는 형태로 엣지를 추가할 수도 있습니다. 2 노드와 3노드를 잇는 엣지를 추가합니다.\n",
    "e = (2, 3)\n",
    "G.add_edge(*e)"
   ],
   "metadata": {
    "collapsed": false,
    "ExecuteTime": {
     "end_time": "2023-09-20T01:56:04.187272600Z",
     "start_time": "2023-09-20T01:56:04.177421800Z"
    }
   }
  },
  {
   "cell_type": "code",
   "execution_count": 10,
   "outputs": [],
   "source": [
    "# 여러 엣지를 한번에 추가할 수도 있습니다\n",
    "G.add_edges_from([('p', 2), (1, 3), (9, 8), (8, 10)])"
   ],
   "metadata": {
    "collapsed": false,
    "ExecuteTime": {
     "end_time": "2023-09-20T01:56:10.960637900Z",
     "start_time": "2023-09-20T01:56:10.950128200Z"
    }
   }
  },
  {
   "cell_type": "code",
   "execution_count": 12,
   "outputs": [
    {
     "name": "stdout",
     "output_type": "stream",
     "text": [
      "7\n",
      "6\n"
     ]
    }
   ],
   "source": [
    "# 노드의 갯수와 엣지를 확인해봅시다.\n",
    "print(G.number_of_nodes())\n",
    "print(G.number_of_edges())"
   ],
   "metadata": {
    "collapsed": false,
    "ExecuteTime": {
     "end_time": "2023-09-20T01:56:26.649574700Z",
     "start_time": "2023-09-20T01:56:26.639580Z"
    }
   }
  },
  {
   "cell_type": "code",
   "execution_count": 13,
   "outputs": [
    {
     "data": {
      "text/plain": "[1, 'p', 2, 3, 9, 8, 10]"
     },
     "execution_count": 13,
     "metadata": {},
     "output_type": "execute_result"
    }
   ],
   "source": [
    "# 노드 리스트 확인하기\n",
    "list(G.nodes)"
   ],
   "metadata": {
    "collapsed": false,
    "ExecuteTime": {
     "end_time": "2023-09-20T01:56:39.171231Z",
     "start_time": "2023-09-20T01:56:39.114524400Z"
    }
   }
  },
  {
   "cell_type": "code",
   "execution_count": 14,
   "outputs": [
    {
     "data": {
      "text/plain": "[(1, 2), (1, 3), ('p', 2), (2, 3), (9, 8), (8, 10)]"
     },
     "execution_count": 14,
     "metadata": {},
     "output_type": "execute_result"
    }
   ],
   "source": [
    "# 엣지 리스트 확인하기\n",
    "list(G.edges)"
   ],
   "metadata": {
    "collapsed": false,
    "ExecuteTime": {
     "end_time": "2023-09-20T01:56:44.887616400Z",
     "start_time": "2023-09-20T01:56:44.871832Z"
    }
   }
  },
  {
   "cell_type": "code",
   "execution_count": 15,
   "outputs": [
    {
     "data": {
      "text/plain": "[2, 3]"
     },
     "execution_count": 15,
     "metadata": {},
     "output_type": "execute_result"
    }
   ],
   "source": [
    "# 1번 노드와 연결된 노드\n",
    "list(G.adj[1])"
   ],
   "metadata": {
    "collapsed": false,
    "ExecuteTime": {
     "end_time": "2023-09-20T01:56:51.622244600Z",
     "start_time": "2023-09-20T01:56:51.621689Z"
    }
   }
  },
  {
   "cell_type": "code",
   "execution_count": 16,
   "outputs": [
    {
     "data": {
      "text/plain": "2"
     },
     "execution_count": 16,
     "metadata": {},
     "output_type": "execute_result"
    }
   ],
   "source": [
    "# 노드와 연결된 엣지 갯수를 해당 노드의 degree라고 부릅니다.\n",
    "# 1 번 노드의 degree 출력하기\n",
    "G.degree[1]"
   ],
   "metadata": {
    "collapsed": false,
    "ExecuteTime": {
     "end_time": "2023-09-20T01:57:04.740621900Z",
     "start_time": "2023-09-20T01:57:04.740621900Z"
    }
   }
  },
  {
   "cell_type": "code",
   "execution_count": 17,
   "outputs": [
    {
     "data": {
      "text/plain": "EdgeDataView([(2, 1), (2, 3), (2, 'p'), (3, 1)])"
     },
     "execution_count": 17,
     "metadata": {},
     "output_type": "execute_result"
    }
   ],
   "source": [
    "# 2와 3 노드에 연결된 모든 엣지 데이터 가져오기\n",
    "G.edges([2, 3])"
   ],
   "metadata": {
    "collapsed": false,
    "ExecuteTime": {
     "end_time": "2023-09-20T01:57:17.972945Z",
     "start_time": "2023-09-20T01:57:17.957177100Z"
    }
   }
  },
  {
   "cell_type": "code",
   "execution_count": 18,
   "outputs": [
    {
     "data": {
      "text/plain": "DegreeView({1: 2, 2: 3, 3: 2})"
     },
     "execution_count": 18,
     "metadata": {},
     "output_type": "execute_result"
    }
   ],
   "source": [
    "# 1,2,3 노드의 degree 정보 가져오기\n",
    "G.degree([1, 2, 3])"
   ],
   "metadata": {
    "collapsed": false,
    "ExecuteTime": {
     "end_time": "2023-09-20T01:57:30.876609500Z",
     "start_time": "2023-09-20T01:57:30.876609500Z"
    }
   }
  },
  {
   "cell_type": "code",
   "execution_count": 19,
   "outputs": [
    {
     "name": "stdout",
     "output_type": "stream",
     "text": [
      "제거 전  [1, 'p', 2, 3, 9, 8, 10]\n",
      "제거 후  ['p', 2, 3, 9, 8, 10]\n"
     ]
    }
   ],
   "source": [
    "# 1 노드를 제거 해봅니다\n",
    "print('제거 전 ', list(G.nodes))\n",
    "G.remove_node(1)\n",
    "print('제거 후 ', list(G.nodes))"
   ],
   "metadata": {
    "collapsed": false,
    "ExecuteTime": {
     "end_time": "2023-09-20T02:02:15.041970800Z",
     "start_time": "2023-09-20T02:02:15.010419800Z"
    }
   }
  },
  {
   "cell_type": "code",
   "execution_count": 20,
   "outputs": [
    {
     "name": "stdout",
     "output_type": "stream",
     "text": [
      "제거 전  ['p', 2, 3, 9, 8, 10]\n",
      "제거 후  [2, 9, 8, 10]\n"
     ]
    }
   ],
   "source": [
    "# 여러 노드를 제거 해봅니다\n",
    "print('제거 전 ', list(G.nodes))\n",
    "G.remove_nodes_from(['p', 3])\n",
    "print('제거 후 ', list(G.nodes))"
   ],
   "metadata": {
    "collapsed": false,
    "ExecuteTime": {
     "end_time": "2023-09-20T02:02:25.744669500Z",
     "start_time": "2023-09-20T02:02:25.728894500Z"
    }
   }
  },
  {
   "cell_type": "code",
   "execution_count": 21,
   "outputs": [
    {
     "name": "stdout",
     "output_type": "stream",
     "text": [
      "[(9, 8), (8, 10)]\n",
      "[(9, 8)]\n"
     ]
    }
   ],
   "source": [
    "# 엣지 제거하기\n",
    "print(list(G.edges))\n",
    "G.remove_edge(8, 10)\n",
    "print(list(G.edges))"
   ],
   "metadata": {
    "collapsed": false,
    "ExecuteTime": {
     "end_time": "2023-09-20T02:02:55.099986300Z",
     "start_time": "2023-09-20T02:02:55.084200200Z"
    }
   }
  },
  {
   "cell_type": "markdown",
   "source": [
    "### 노드와 엣지에 속성 부여"
   ],
   "metadata": {
    "collapsed": false
   }
  },
  {
   "cell_type": "code",
   "execution_count": 22,
   "outputs": [],
   "source": [
    "# 그래프를 생성합니다\n",
    "G.add_edges_from([('p', 2), (1, 3), (9, 8), (8, 10)])"
   ],
   "metadata": {
    "collapsed": false,
    "ExecuteTime": {
     "end_time": "2023-09-20T02:03:25.242144100Z",
     "start_time": "2023-09-20T02:03:25.229555100Z"
    }
   }
  },
  {
   "cell_type": "code",
   "execution_count": 23,
   "outputs": [],
   "source": [
    "# 1 노드와 3 노드에 'friend' 라는 'relation' 속성을 추가합니다. (엣지속성)\n",
    "G = nx.Graph([(1, 3, {\"relation\": \"friend\"})])"
   ],
   "metadata": {
    "collapsed": false,
    "ExecuteTime": {
     "end_time": "2023-09-20T02:03:52.035373700Z",
     "start_time": "2023-09-20T02:03:52.017290100Z"
    }
   }
  },
  {
   "cell_type": "code",
   "execution_count": 24,
   "outputs": [
    {
     "name": "stdout",
     "output_type": "stream",
     "text": [
      "{3: {'relation': 'friend'}}\n",
      "{'relation': 'friend'}\n",
      "{'relation': 'friend'}\n"
     ]
    }
   ],
   "source": [
    "# 추가된 결과는 다양한 방식으로 확인할 수 있습니다.\n",
    "print(G[1])\n",
    "print(G[1][3])\n",
    "print(G.edges[1, 3])"
   ],
   "metadata": {
    "collapsed": false,
    "ExecuteTime": {
     "end_time": "2023-09-20T02:04:19.261741800Z",
     "start_time": "2023-09-20T02:04:19.234942500Z"
    }
   }
  },
  {
   "cell_type": "code",
   "execution_count": 29,
   "outputs": [
    {
     "name": "stdout",
     "output_type": "stream",
     "text": [
      "{'relation': 'friend', 'since': 2020, 'number_of_times met': 8}\n"
     ]
    }
   ],
   "source": [
    "# 또 다른 엣지 속성 부여하기\n",
    "G.edges[1, 3]['since'] = 2020\n",
    "G.edges[1, 3]['number_of_times met'] = 8\n",
    "print(G.edges[1, 3])"
   ],
   "metadata": {
    "collapsed": false,
    "ExecuteTime": {
     "end_time": "2023-09-20T02:06:00.264926700Z",
     "start_time": "2023-09-20T02:06:00.255410300Z"
    }
   }
  },
  {
   "cell_type": "code",
   "execution_count": 31,
   "outputs": [
    {
     "name": "stdout",
     "output_type": "stream",
     "text": [
      "\n",
      "노드  1\n",
      "인접 노드   ItemsView(AtlasView({2: {'weight': 0.125}, 3: {'weight': 0.75}}))\n",
      "\n",
      "노드  2\n",
      "인접 노드   ItemsView(AtlasView({1: {'weight': 0.125}, 4: {'weight': 1.2}}))\n",
      "\n",
      "노드  3\n",
      "인접 노드   ItemsView(AtlasView({1: {'weight': 0.75}, 4: {'weight': 0.375}}))\n",
      "\n",
      "노드  4\n",
      "인접 노드   ItemsView(AtlasView({2: {'weight': 1.2}, 3: {'weight': 0.375}}))\n"
     ]
    }
   ],
   "source": [
    "# 가중치(weight)를 부여한 그래프 순회하기\n",
    "FG = nx.Graph()\n",
    "FG.add_weighted_edges_from([(1, 2, 0.125), (1, 3, 0.75), (2, 4, 1.2), (3, 4, 0.375)])\n",
    "for n, nbrs in FG.adj.items():\n",
    "    print('\\n노드 ', n)\n",
    "    print('인접 노드  ', nbrs.items())"
   ],
   "metadata": {
    "collapsed": false,
    "ExecuteTime": {
     "end_time": "2023-09-20T02:07:30.492831300Z",
     "start_time": "2023-09-20T02:07:30.382779100Z"
    }
   }
  },
  {
   "cell_type": "code",
   "execution_count": 32,
   "outputs": [
    {
     "name": "stdout",
     "output_type": "stream",
     "text": [
      "(4, 3, 0.375)\n"
     ]
    }
   ],
   "source": [
    "# 가중치가 0.5 미만인 노드 출력하기\n",
    "for nbr, edge_attr in nbrs.items():\n",
    "    wt = edge_attr['weight']\n",
    "    if wt < 0.5: print(f\"({n}, {nbr}, {wt:.3})\")"
   ],
   "metadata": {
    "collapsed": false,
    "ExecuteTime": {
     "end_time": "2023-09-20T02:07:31.493278600Z",
     "start_time": "2023-09-20T02:07:31.493278600Z"
    }
   }
  },
  {
   "cell_type": "code",
   "execution_count": 33,
   "outputs": [
    {
     "data": {
      "text/plain": "ItemsView(AdjacencyView({1: {3: {'relation': 'friend', 'since': 2020, 'number_of_times met': 8}}, 3: {1: {'relation': 'friend', 'since': 2020, 'number_of_times met': 8}}}))"
     },
     "execution_count": 33,
     "metadata": {},
     "output_type": "execute_result"
    }
   ],
   "source": [
    "G.adj.items()"
   ],
   "metadata": {
    "collapsed": false,
    "ExecuteTime": {
     "end_time": "2023-09-20T02:08:38.066993300Z",
     "start_time": "2023-09-20T02:08:38.066993300Z"
    }
   }
  },
  {
   "cell_type": "code",
   "execution_count": 34,
   "outputs": [],
   "source": [
    "# 노드 속성\n",
    "G.add_node(1, age=28)\n",
    "G.add_nodes_from([3,2], age=26)"
   ],
   "metadata": {
    "collapsed": false,
    "ExecuteTime": {
     "end_time": "2023-09-20T02:13:03.517890800Z",
     "start_time": "2023-09-20T02:13:03.501701200Z"
    }
   }
  },
  {
   "cell_type": "code",
   "execution_count": 40,
   "outputs": [
    {
     "data": {
      "text/plain": "NodeDataView({1: {'age': 28}, 3: {'age': 26}, 2: {'age': 26}})"
     },
     "execution_count": 40,
     "metadata": {},
     "output_type": "execute_result"
    }
   ],
   "source": [
    "# 노드 속성 확인하기\n",
    "G.nodes.data()"
   ],
   "metadata": {
    "collapsed": false,
    "ExecuteTime": {
     "end_time": "2023-09-20T02:16:39.527875900Z",
     "start_time": "2023-09-20T02:16:39.511765600Z"
    }
   }
  },
  {
   "cell_type": "code",
   "execution_count": 45,
   "outputs": [
    {
     "data": {
      "text/plain": "<Figure size 640x480 with 1 Axes>",
      "image/png": "[encoded data removed]"
     },
     "metadata": {},
     "output_type": "display_data"
    }
   ],
   "source": [
    "# 시각화 하기\n",
    "nx.draw(G, with_labels=True, font_weight='bold')"
   ],
   "metadata": {
    "collapsed": false,
    "ExecuteTime": {
     "end_time": "2023-09-20T02:18:08.205254700Z",
     "start_time": "2023-09-20T02:18:08.102393300Z"
    }
   }
  },
  {
   "cell_type": "code",
   "execution_count": 46,
   "outputs": [
    {
     "data": {
      "text/plain": "<Figure size 640x480 with 1 Axes>",
      "image/png": "[encoded data removed]"
     },
     "metadata": {},
     "output_type": "display_data"
    }
   ],
   "source": [
    "# 데이터 추가 후 시각화하기\n",
    "G.add_edge('SOCAR', 2)\n",
    "G.add_edge(1, 'SOCAR')\n",
    "G.add_edge('SOCAR', 'AIFFEL')\n",
    "nx.draw(G, with_labels=True, font_weight='bold')"
   ],
   "metadata": {
    "collapsed": false,
    "ExecuteTime": {
     "end_time": "2023-09-20T02:18:26.987419Z",
     "start_time": "2023-09-20T02:18:26.877445400Z"
    }
   }
  },
  {
   "cell_type": "markdown",
   "source": [
    "* 해당 그래프는 관계의 방향성이 없기 때문에 무형그래프 라고 함"
   ],
   "metadata": {
    "collapsed": false
   }
  },
  {
   "cell_type": "code",
   "execution_count": null,
   "outputs": [],
   "source": [],
   "metadata": {
    "collapsed": false
   }
  }
 ],
 "metadata": {
  "kernelspec": {
   "display_name": "Python 3",
   "language": "python",
   "name": "python3"
  },
  "language_info": {
   "codemirror_mode": {
    "name": "ipython",
    "version": 2
   },
   "file_extension": ".py",
   "mimetype": "text/x-python",
   "name": "python",
   "nbconvert_exporter": "python",
   "pygments_lexer": "ipython2",
   "version": "2.7.6"
  }
 },
 "nbformat": 4,
 "nbformat_minor": 0
}
