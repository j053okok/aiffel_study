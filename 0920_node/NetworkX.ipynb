{
 "cells": [
  {
   "cell_type": "code",
   "execution_count": 2,
   "metadata": {
    "collapsed": true,
    "ExecuteTime": {
     "end_time": "2023-09-20T09:02:13.150323500Z",
     "start_time": "2023-09-20T09:02:13.070291300Z"
    }
   },
   "outputs": [],
   "source": [
    "import networkx as nx\n",
    "from IPython.core.display import Image\n",
    "from networkx.drawing.nx_pydot import to_pydot"
   ]
  },
  {
   "cell_type": "code",
   "execution_count": 3,
   "outputs": [],
   "source": [
    "# 그래프를 생성합니다.\n",
    "import networkx as nx\n",
    "\n",
    "G = nx.Graph()"
   ],
   "metadata": {
    "collapsed": false,
    "ExecuteTime": {
     "end_time": "2023-09-20T09:02:13.161037100Z",
     "start_time": "2023-09-20T09:02:13.074698300Z"
    }
   }
  },
  {
   "cell_type": "code",
   "execution_count": 4,
   "outputs": [],
   "source": [
    "# 1 노드를 추가합니다.\n",
    "G.add_node(1)"
   ],
   "metadata": {
    "collapsed": false,
    "ExecuteTime": {
     "end_time": "2023-09-20T09:02:13.195933600Z",
     "start_time": "2023-09-20T09:02:13.083784500Z"
    }
   }
  },
  {
   "cell_type": "code",
   "execution_count": 5,
   "outputs": [],
   "source": [
    "# 'p' 노드를 추가합니다.\n",
    "G.add_node('p')"
   ],
   "metadata": {
    "collapsed": false,
    "ExecuteTime": {
     "end_time": "2023-09-20T09:02:13.196693200Z",
     "start_time": "2023-09-20T09:02:13.094367100Z"
    }
   }
  },
  {
   "cell_type": "code",
   "execution_count": 6,
   "outputs": [],
   "source": [
    "# 복수개의 노드를 한번에 추가합니다\n",
    "G.add_nodes_from([2, 3, 9, 8, 10])"
   ],
   "metadata": {
    "collapsed": false,
    "ExecuteTime": {
     "end_time": "2023-09-20T09:02:13.196693200Z",
     "start_time": "2023-09-20T09:02:13.106226Z"
    }
   }
  },
  {
   "cell_type": "code",
   "execution_count": 7,
   "outputs": [],
   "source": [
    "# 1 노드와 2 노드를 잇는 엣지를 추가합니다.\n",
    "G.add_edge(1, 2)"
   ],
   "metadata": {
    "collapsed": false,
    "ExecuteTime": {
     "end_time": "2023-09-20T09:02:13.196693200Z",
     "start_time": "2023-09-20T09:02:13.115738300Z"
    }
   }
  },
  {
   "cell_type": "code",
   "execution_count": 8,
   "outputs": [],
   "source": [
    "# 튜플을 unpack 하는 형태로 엣지를 추가할 수도 있습니다. 2 노드와 3노드를 잇는 엣지를 추가합니다.\n",
    "e = (2, 3)\n",
    "G.add_edge(*e)"
   ],
   "metadata": {
    "collapsed": false,
    "ExecuteTime": {
     "end_time": "2023-09-20T09:02:13.196693200Z",
     "start_time": "2023-09-20T09:02:13.125838400Z"
    }
   }
  },
  {
   "cell_type": "code",
   "execution_count": 9,
   "outputs": [],
   "source": [
    "# 여러 엣지를 한번에 추가할 수도 있습니다\n",
    "G.add_edges_from([('p', 2), (1, 3), (9, 8), (8, 10)])"
   ],
   "metadata": {
    "collapsed": false,
    "ExecuteTime": {
     "end_time": "2023-09-20T09:02:13.197433500Z",
     "start_time": "2023-09-20T09:02:13.136650200Z"
    }
   }
  },
  {
   "cell_type": "code",
   "execution_count": 10,
   "outputs": [
    {
     "name": "stdout",
     "output_type": "stream",
     "text": [
      "7\n",
      "6\n"
     ]
    }
   ],
   "source": [
    "# 노드의 갯수와 엣지를 확인해봅시다.\n",
    "print(G.number_of_nodes())\n",
    "print(G.number_of_edges())"
   ],
   "metadata": {
    "collapsed": false,
    "ExecuteTime": {
     "end_time": "2023-09-20T09:02:13.198087800Z",
     "start_time": "2023-09-20T09:02:13.146572800Z"
    }
   }
  },
  {
   "cell_type": "code",
   "execution_count": 11,
   "outputs": [
    {
     "data": {
      "text/plain": "[1, 'p', 2, 3, 9, 8, 10]"
     },
     "execution_count": 11,
     "metadata": {},
     "output_type": "execute_result"
    }
   ],
   "source": [
    "# 노드 리스트 확인하기\n",
    "list(G.nodes)"
   ],
   "metadata": {
    "collapsed": false,
    "ExecuteTime": {
     "end_time": "2023-09-20T09:02:13.198831200Z",
     "start_time": "2023-09-20T09:02:13.157286100Z"
    }
   }
  },
  {
   "cell_type": "code",
   "execution_count": 12,
   "outputs": [
    {
     "data": {
      "text/plain": "[(1, 2), (1, 3), ('p', 2), (2, 3), (9, 8), (8, 10)]"
     },
     "execution_count": 12,
     "metadata": {},
     "output_type": "execute_result"
    }
   ],
   "source": [
    "# 엣지 리스트 확인하기\n",
    "list(G.edges)"
   ],
   "metadata": {
    "collapsed": false,
    "ExecuteTime": {
     "end_time": "2023-09-20T09:02:13.199478200Z",
     "start_time": "2023-09-20T09:02:13.168992900Z"
    }
   }
  },
  {
   "cell_type": "code",
   "execution_count": 13,
   "outputs": [
    {
     "data": {
      "text/plain": "[2, 3]"
     },
     "execution_count": 13,
     "metadata": {},
     "output_type": "execute_result"
    }
   ],
   "source": [
    "# 1번 노드와 연결된 노드\n",
    "list(G.adj[1])"
   ],
   "metadata": {
    "collapsed": false,
    "ExecuteTime": {
     "end_time": "2023-09-20T09:02:13.199478200Z",
     "start_time": "2023-09-20T09:02:13.179820100Z"
    }
   }
  },
  {
   "cell_type": "code",
   "execution_count": 14,
   "outputs": [
    {
     "data": {
      "text/plain": "2"
     },
     "execution_count": 14,
     "metadata": {},
     "output_type": "execute_result"
    }
   ],
   "source": [
    "# 노드와 연결된 엣지 갯수를 해당 노드의 degree라고 부릅니다.\n",
    "# 1 번 노드의 degree 출력하기\n",
    "G.degree[1]"
   ],
   "metadata": {
    "collapsed": false,
    "ExecuteTime": {
     "end_time": "2023-09-20T09:02:13.224322100Z",
     "start_time": "2023-09-20T09:02:13.189931300Z"
    }
   }
  },
  {
   "cell_type": "code",
   "execution_count": 15,
   "outputs": [
    {
     "data": {
      "text/plain": "EdgeDataView([(2, 1), (2, 3), (2, 'p'), (3, 1)])"
     },
     "execution_count": 15,
     "metadata": {},
     "output_type": "execute_result"
    }
   ],
   "source": [
    "# 2와 3 노드에 연결된 모든 엣지 데이터 가져오기\n",
    "G.edges([2, 3])"
   ],
   "metadata": {
    "collapsed": false,
    "ExecuteTime": {
     "end_time": "2023-09-20T09:02:13.233492300Z",
     "start_time": "2023-09-20T09:02:13.201539400Z"
    }
   }
  },
  {
   "cell_type": "code",
   "execution_count": 16,
   "outputs": [
    {
     "data": {
      "text/plain": "DegreeView({1: 2, 2: 3, 3: 2})"
     },
     "execution_count": 16,
     "metadata": {},
     "output_type": "execute_result"
    }
   ],
   "source": [
    "# 1,2,3 노드의 degree 정보 가져오기\n",
    "G.degree([1, 2, 3])"
   ],
   "metadata": {
    "collapsed": false,
    "ExecuteTime": {
     "end_time": "2023-09-20T09:02:13.311186100Z",
     "start_time": "2023-09-20T09:02:13.210447200Z"
    }
   }
  },
  {
   "cell_type": "code",
   "execution_count": 17,
   "outputs": [
    {
     "name": "stdout",
     "output_type": "stream",
     "text": [
      "제거 전  [1, 'p', 2, 3, 9, 8, 10]\n",
      "제거 후  ['p', 2, 3, 9, 8, 10]\n"
     ]
    }
   ],
   "source": [
    "# 1 노드를 제거 해봅니다\n",
    "print('제거 전 ', list(G.nodes))\n",
    "G.remove_node(1)\n",
    "print('제거 후 ', list(G.nodes))"
   ],
   "metadata": {
    "collapsed": false,
    "ExecuteTime": {
     "end_time": "2023-09-20T09:02:13.312061200Z",
     "start_time": "2023-09-20T09:02:13.222820600Z"
    }
   }
  },
  {
   "cell_type": "code",
   "execution_count": 18,
   "outputs": [
    {
     "name": "stdout",
     "output_type": "stream",
     "text": [
      "제거 전  ['p', 2, 3, 9, 8, 10]\n",
      "제거 후  [2, 9, 8, 10]\n"
     ]
    }
   ],
   "source": [
    "# 여러 노드를 제거 해봅니다\n",
    "print('제거 전 ', list(G.nodes))\n",
    "G.remove_nodes_from(['p', 3])\n",
    "print('제거 후 ', list(G.nodes))"
   ],
   "metadata": {
    "collapsed": false,
    "ExecuteTime": {
     "end_time": "2023-09-20T09:02:13.312800400Z",
     "start_time": "2023-09-20T09:02:13.232238200Z"
    }
   }
  },
  {
   "cell_type": "code",
   "execution_count": 19,
   "outputs": [
    {
     "name": "stdout",
     "output_type": "stream",
     "text": [
      "[(9, 8), (8, 10)]\n",
      "[(9, 8)]\n"
     ]
    }
   ],
   "source": [
    "# 엣지 제거하기\n",
    "print(list(G.edges))\n",
    "G.remove_edge(8, 10)\n",
    "print(list(G.edges))"
   ],
   "metadata": {
    "collapsed": false,
    "ExecuteTime": {
     "end_time": "2023-09-20T09:02:13.313550200Z",
     "start_time": "2023-09-20T09:02:13.242243Z"
    }
   }
  },
  {
   "cell_type": "markdown",
   "source": [
    "### 노드와 엣지에 속성 부여"
   ],
   "metadata": {
    "collapsed": false
   }
  },
  {
   "cell_type": "code",
   "execution_count": 20,
   "outputs": [],
   "source": [
    "# 그래프를 생성합니다\n",
    "G.add_edges_from([('p', 2), (1, 3), (9, 8), (8, 10)])"
   ],
   "metadata": {
    "collapsed": false,
    "ExecuteTime": {
     "end_time": "2023-09-20T09:02:13.313550200Z",
     "start_time": "2023-09-20T09:02:13.252489600Z"
    }
   }
  },
  {
   "cell_type": "code",
   "execution_count": 21,
   "outputs": [],
   "source": [
    "# 1 노드와 3 노드에 'friend' 라는 'relation' 속성을 추가합니다. (엣지속성)\n",
    "G = nx.Graph([(1, 3, {\"relation\": \"friend\"})])"
   ],
   "metadata": {
    "collapsed": false,
    "ExecuteTime": {
     "end_time": "2023-09-20T09:02:14.298127900Z",
     "start_time": "2023-09-20T09:02:13.262994500Z"
    }
   }
  },
  {
   "cell_type": "code",
   "execution_count": 22,
   "outputs": [
    {
     "name": "stdout",
     "output_type": "stream",
     "text": [
      "{3: {'relation': 'friend'}}\n",
      "{'relation': 'friend'}\n",
      "{'relation': 'friend'}\n"
     ]
    }
   ],
   "source": [
    "# 추가된 결과는 다양한 방식으로 확인할 수 있습니다.\n",
    "print(G[1])\n",
    "print(G[1][3])\n",
    "print(G.edges[1, 3])"
   ],
   "metadata": {
    "collapsed": false,
    "ExecuteTime": {
     "end_time": "2023-09-20T09:02:14.298127900Z",
     "start_time": "2023-09-20T09:02:14.296240400Z"
    }
   }
  },
  {
   "cell_type": "code",
   "execution_count": 23,
   "outputs": [
    {
     "name": "stdout",
     "output_type": "stream",
     "text": [
      "{'relation': 'friend', 'since': 2020, 'number_of_times met': 8}\n"
     ]
    }
   ],
   "source": [
    "# 또 다른 엣지 속성 부여하기\n",
    "G.edges[1, 3]['since'] = 2020\n",
    "G.edges[1, 3]['number_of_times met'] = 8\n",
    "print(G.edges[1, 3])"
   ],
   "metadata": {
    "collapsed": false,
    "ExecuteTime": {
     "end_time": "2023-09-20T09:02:14.312081600Z",
     "start_time": "2023-09-20T09:02:14.298877900Z"
    }
   }
  },
  {
   "cell_type": "code",
   "execution_count": 24,
   "outputs": [
    {
     "name": "stdout",
     "output_type": "stream",
     "text": [
      "\n",
      "노드  1\n",
      "인접 노드   ItemsView(AtlasView({2: {'weight': 0.125}, 3: {'weight': 0.75}}))\n",
      "\n",
      "노드  2\n",
      "인접 노드   ItemsView(AtlasView({1: {'weight': 0.125}, 4: {'weight': 1.2}}))\n",
      "\n",
      "노드  3\n",
      "인접 노드   ItemsView(AtlasView({1: {'weight': 0.75}, 4: {'weight': 0.375}}))\n",
      "\n",
      "노드  4\n",
      "인접 노드   ItemsView(AtlasView({2: {'weight': 1.2}, 3: {'weight': 0.375}}))\n"
     ]
    }
   ],
   "source": [
    "# 가중치(weight)를 부여한 그래프 순회하기\n",
    "FG = nx.Graph()\n",
    "FG.add_weighted_edges_from([(1, 2, 0.125), (1, 3, 0.75), (2, 4, 1.2), (3, 4, 0.375)])\n",
    "for n, nbrs in FG.adj.items():\n",
    "    print('\\n노드 ', n)\n",
    "    print('인접 노드  ', nbrs.items())"
   ],
   "metadata": {
    "collapsed": false,
    "ExecuteTime": {
     "end_time": "2023-09-20T09:02:14.348106600Z",
     "start_time": "2023-09-20T09:02:14.309831Z"
    }
   }
  },
  {
   "cell_type": "code",
   "execution_count": 25,
   "outputs": [
    {
     "name": "stdout",
     "output_type": "stream",
     "text": [
      "(4, 3, 0.375)\n"
     ]
    }
   ],
   "source": [
    "# 가중치가 0.5 미만인 노드 출력하기\n",
    "for nbr, edge_attr in nbrs.items():\n",
    "    wt = edge_attr['weight']\n",
    "    if wt < 0.5: print(f\"({n}, {nbr}, {wt:.3})\")"
   ],
   "metadata": {
    "collapsed": false,
    "ExecuteTime": {
     "end_time": "2023-09-20T09:02:14.357381600Z",
     "start_time": "2023-09-20T09:02:14.320544800Z"
    }
   }
  },
  {
   "cell_type": "code",
   "execution_count": 26,
   "outputs": [
    {
     "data": {
      "text/plain": "ItemsView(AdjacencyView({1: {3: {'relation': 'friend', 'since': 2020, 'number_of_times met': 8}}, 3: {1: {'relation': 'friend', 'since': 2020, 'number_of_times met': 8}}}))"
     },
     "execution_count": 26,
     "metadata": {},
     "output_type": "execute_result"
    }
   ],
   "source": [
    "G.adj.items()"
   ],
   "metadata": {
    "collapsed": false,
    "ExecuteTime": {
     "end_time": "2023-09-20T09:02:14.358132Z",
     "start_time": "2023-09-20T09:02:14.330591900Z"
    }
   }
  },
  {
   "cell_type": "code",
   "execution_count": 27,
   "outputs": [],
   "source": [
    "# 노드 속성\n",
    "G.add_node(1, age=28)\n",
    "G.add_nodes_from([3,2], age=26)"
   ],
   "metadata": {
    "collapsed": false,
    "ExecuteTime": {
     "end_time": "2023-09-20T09:02:14.359631600Z",
     "start_time": "2023-09-20T09:02:14.341355500Z"
    }
   }
  },
  {
   "cell_type": "code",
   "execution_count": 28,
   "outputs": [
    {
     "data": {
      "text/plain": "NodeDataView({1: {'age': 28}, 3: {'age': 26}, 2: {'age': 26}})"
     },
     "execution_count": 28,
     "metadata": {},
     "output_type": "execute_result"
    }
   ],
   "source": [
    "# 노드 속성 확인하기\n",
    "G.nodes.data()"
   ],
   "metadata": {
    "collapsed": false,
    "ExecuteTime": {
     "end_time": "2023-09-20T09:02:14.362359400Z",
     "start_time": "2023-09-20T09:02:14.352132600Z"
    }
   }
  },
  {
   "cell_type": "code",
   "execution_count": 29,
   "outputs": [
    {
     "data": {
      "text/plain": "<Figure size 640x480 with 1 Axes>",
      "image/png": "[encoded data removed]"
     },
     "metadata": {},
     "output_type": "display_data"
    }
   ],
   "source": [
    "# 시각화 하기\n",
    "nx.draw(G, with_labels=True, font_weight='bold')"
   ],
   "metadata": {
    "collapsed": false,
    "ExecuteTime": {
     "end_time": "2023-09-20T09:02:14.946916500Z",
     "start_time": "2023-09-20T09:02:14.363102200Z"
    }
   }
  },
  {
   "cell_type": "code",
   "execution_count": 30,
   "outputs": [
    {
     "data": {
      "text/plain": "<Figure size 640x480 with 1 Axes>",
      "image/png": "[encoded data removed]"
     },
     "metadata": {},
     "output_type": "display_data"
    }
   ],
   "source": [
    "# 데이터 추가 후 시각화하기\n",
    "G.add_edge('SOCAR', 2)\n",
    "G.add_edge(1, 'SOCAR')\n",
    "G.add_edge('SOCAR', 'AIFFEL')\n",
    "nx.draw(G, with_labels=True, font_weight='bold')"
   ],
   "metadata": {
    "collapsed": false,
    "ExecuteTime": {
     "end_time": "2023-09-20T09:02:15.036007300Z",
     "start_time": "2023-09-20T09:02:14.947666600Z"
    }
   }
  },
  {
   "cell_type": "markdown",
   "source": [
    "* 해당 그래프는 관계의 방향성이 없기 때문에 무형그래프 라고 함"
   ],
   "metadata": {
    "collapsed": false
   }
  },
  {
   "cell_type": "code",
   "execution_count": 31,
   "outputs": [
    {
     "data": {
      "text/plain": "<Figure size 640x480 with 1 Axes>",
      "image/png": "[encoded data removed]"
     },
     "metadata": {},
     "output_type": "display_data"
    }
   ],
   "source": [
    "x = [1,2,3,4,5]\n",
    "A = nx.Graph()\n",
    "\n",
    "A.add_nodes_from(x)\n",
    "A.add_edges_from([(1,2), (3,4), (2,5), (2,3)])\n",
    "nx.draw(A, with_labels=True, font_weight='bold')"
   ],
   "metadata": {
    "collapsed": false,
    "ExecuteTime": {
     "end_time": "2023-09-20T09:02:15.110129800Z",
     "start_time": "2023-09-20T09:02:15.028562700Z"
    }
   }
  },
  {
   "cell_type": "code",
   "execution_count": 31,
   "outputs": [],
   "source": [],
   "metadata": {
    "collapsed": false,
    "ExecuteTime": {
     "end_time": "2023-09-20T09:02:15.116638200Z",
     "start_time": "2023-09-20T09:02:15.109258900Z"
    }
   }
  }
 ],
 "metadata": {
  "kernelspec": {
   "display_name": "Python 3",
   "language": "python",
   "name": "python3"
  },
  "language_info": {
   "codemirror_mode": {
    "name": "ipython",
    "version": 2
   },
   "file_extension": ".py",
   "mimetype": "text/x-python",
   "name": "python",
   "nbconvert_exporter": "python",
   "pygments_lexer": "ipython2",
   "version": "2.7.6"
  }
 },
 "nbformat": 4,
 "nbformat_minor": 0
}
