{
 "cells": [
  {
   "cell_type": "code",
   "execution_count": 53,
   "metadata": {
    "collapsed": true,
    "ExecuteTime": {
     "end_time": "2023-09-20T02:57:08.501360700Z",
     "start_time": "2023-09-20T02:57:08.438018200Z"
    }
   },
   "outputs": [],
   "source": [
    "from shapely.geometry import Point, Polygon\n",
    "import h3\n",
    "import geopandas as gpd\n",
    "import folium\n",
    "import pandas as pd\n",
    "import numpy as np\n",
    "import warnings\n",
    "warnings.filterwarnings('ignore', category=FutureWarning)"
   ]
  },
  {
   "cell_type": "code",
   "execution_count": 54,
   "outputs": [],
   "source": [
    "# 남산의 좌표, 강남의 좌표를 준비합니다.\n",
    "namsan_lat = 37.56421\n",
    "namsan_lng = 127.0016\n",
    "\n",
    "gangnam_lat = 37.50881\n",
    "gangnam_lng = 127.04097"
   ],
   "metadata": {
    "collapsed": false,
    "ExecuteTime": {
     "end_time": "2023-09-20T02:57:08.501360700Z",
     "start_time": "2023-09-20T02:57:08.441431200Z"
    }
   }
  },
  {
   "cell_type": "code",
   "execution_count": 55,
   "outputs": [
    {
     "name": "stdout",
     "output_type": "stream",
     "text": [
      "8730e1d88ffffff 8830e1d88bfffff 8730e1ca3ffffff 8830e1ca39fffff\n"
     ]
    }
   ],
   "source": [
    "# 좌표를 H3 단위로 변환합니다.\n",
    "namsan_h3_r7 = h3.geo_to_h3(lat=namsan_lat, lng=namsan_lng, resolution=7)\n",
    "namsan_h3_r8 = h3.geo_to_h3(lat=namsan_lat, lng=namsan_lng, resolution=8)\n",
    "gangnam_h3_r7 = h3.geo_to_h3(lat=gangnam_lat, lng=gangnam_lng, resolution=7)\n",
    "gangnam_h3_r8 = h3.geo_to_h3(lat=gangnam_lat, lng=gangnam_lng, resolution=8)\n",
    "\n",
    "print(namsan_h3_r7, namsan_h3_r8, gangnam_h3_r7, gangnam_h3_r8)"
   ],
   "metadata": {
    "collapsed": false,
    "ExecuteTime": {
     "end_time": "2023-09-20T02:57:08.591133600Z",
     "start_time": "2023-09-20T02:57:08.453203Z"
    }
   }
  },
  {
   "cell_type": "code",
   "execution_count": 56,
   "outputs": [],
   "source": [
    "# 지도상 표현하기 위한 폴리곤을 리턴해주는 함수를 만듭니다.\n",
    "def make_polygon(k):\n",
    "    return Polygon(h3.h3_to_geo_boundary(k, geo_json=True))"
   ],
   "metadata": {
    "collapsed": false,
    "ExecuteTime": {
     "end_time": "2023-09-20T02:57:08.591367100Z",
     "start_time": "2023-09-20T02:57:08.459494600Z"
    }
   }
  },
  {
   "cell_type": "code",
   "execution_count": 57,
   "outputs": [
    {
     "data": {
      "text/plain": "<POLYGON ((127.009 37.556, 127.003 37.566, 126.991 37.568, 126.984 37.559, 1...>",
      "image/svg+xml": "<svg xmlns=\"http://www.w3.org/2000/svg\" xmlns:xlink=\"http://www.w3.org/1999/xlink\" width=\"100.0\" height=\"100.0\" viewBox=\"126.98344410595537 37.54544363907096 0.026146444732972896 0.023211390350702743\" preserveAspectRatio=\"xMinYMin meet\"><g transform=\"matrix(1,0,0,-1,0,75.11409866849263)\"><path fill-rule=\"evenodd\" fill=\"#66cc99\" stroke=\"#555555\" stroke-width=\"0.0005229288946594579\" opacity=\"0.6\" d=\"M 127.00862216384638,37.555541403538875 L 127.003385966061,37.56618001482632 L 126.99127915815644,37.5676866425797 L 126.98441249279733,37.558556574809394 L 126.98964930624477,37.547920569127925 L 127.00175217015295,37.54641202591292 L 127.00862216384638,37.555541403538875 z\" /></g></svg>"
     },
     "execution_count": 57,
     "metadata": {},
     "output_type": "execute_result"
    }
   ],
   "source": [
    "# H3 를 인풋으로 넣으면 폴리곤을 돌려줍니다.\n",
    "make_polygon(namsan_h3_r7)"
   ],
   "metadata": {
    "collapsed": false,
    "ExecuteTime": {
     "end_time": "2023-09-20T02:57:08.591367100Z",
     "start_time": "2023-09-20T02:57:08.461488300Z"
    }
   }
  },
  {
   "cell_type": "code",
   "execution_count": 58,
   "outputs": [],
   "source": [
    "# 폴리곤 데이터 타입을 읽기 위한 GeoDataFrame를 선언합니다.\n",
    "seoul_example_h3 = [namsan_h3_r7, namsan_h3_r8, gangnam_h3_r7, gangnam_h3_r8]\n",
    "df = gpd.GeoDataFrame({'h3': seoul_example_h3})\n",
    "df['geometry'] = df['h3'].apply(make_polygon)\n",
    "df.crs = {'init': 'epsg:4326'}"
   ],
   "metadata": {
    "collapsed": false,
    "ExecuteTime": {
     "end_time": "2023-09-20T02:57:08.591367100Z",
     "start_time": "2023-09-20T02:57:08.479516100Z"
    }
   }
  },
  {
   "cell_type": "code",
   "execution_count": 59,
   "outputs": [
    {
     "data": {
      "text/plain": "                h3                                           geometry\n0  8730e1d88ffffff  POLYGON ((127.00862 37.55554, 127.00339 37.566...\n1  8830e1d88bfffff  POLYGON ((127.00390 37.56184, 127.00339 37.566...\n2  8730e1ca3ffffff  POLYGON ((127.05899 37.49930, 127.05377 37.509...\n3  8830e1ca39fffff  POLYGON ((127.04638 37.50516, 127.04587 37.509...",
      "text/html": "<div>\n<style scoped>\n    .dataframe tbody tr th:only-of-type {\n        vertical-align: middle;\n    }\n\n    .dataframe tbody tr th {\n        vertical-align: top;\n    }\n\n    .dataframe thead th {\n        text-align: right;\n    }\n</style>\n<table border=\"1\" class=\"dataframe\">\n  <thead>\n    <tr style=\"text-align: right;\">\n      <th></th>\n      <th>h3</th>\n      <th>geometry</th>\n    </tr>\n  </thead>\n  <tbody>\n    <tr>\n      <th>0</th>\n      <td>8730e1d88ffffff</td>\n      <td>POLYGON ((127.00862 37.55554, 127.00339 37.566...</td>\n    </tr>\n    <tr>\n      <th>1</th>\n      <td>8830e1d88bfffff</td>\n      <td>POLYGON ((127.00390 37.56184, 127.00339 37.566...</td>\n    </tr>\n    <tr>\n      <th>2</th>\n      <td>8730e1ca3ffffff</td>\n      <td>POLYGON ((127.05899 37.49930, 127.05377 37.509...</td>\n    </tr>\n    <tr>\n      <th>3</th>\n      <td>8830e1ca39fffff</td>\n      <td>POLYGON ((127.04638 37.50516, 127.04587 37.509...</td>\n    </tr>\n  </tbody>\n</table>\n</div>"
     },
     "execution_count": 59,
     "metadata": {},
     "output_type": "execute_result"
    }
   ],
   "source": [
    "df"
   ],
   "metadata": {
    "collapsed": false,
    "ExecuteTime": {
     "end_time": "2023-09-20T02:57:08.591367100Z",
     "start_time": "2023-09-20T02:57:08.480026100Z"
    }
   }
  },
  {
   "cell_type": "code",
   "execution_count": 60,
   "outputs": [
    {
     "data": {
      "text/plain": "<folium.folium.Map at 0x1e7bf50d3d0>",
      "text/html": "<div style=\"width:100%;\"><div style=\"position:relative;width:100%;height:0;padding-bottom:60%;\"><span style=\"color:#565656\">Make this Notebook Trusted to load map: File -> Trust Notebook</span><iframe srcdoc=\"&lt;!DOCTYPE html&gt;\n&lt;html&gt;\n&lt;head&gt;\n    \n    &lt;meta http-equiv=&quot;content-type&quot; content=&quot;text/html; charset=UTF-8&quot; /&gt;\n    \n        &lt;script&gt;\n            L_NO_TOUCH = false;\n            L_DISABLE_3D = false;\n        &lt;/script&gt;\n    \n    &lt;style&gt;html, body {width: 100%;height: 100%;margin: 0;padding: 0;}&lt;/style&gt;\n    &lt;style&gt;#map {position:absolute;top:0;bottom:0;right:0;left:0;}&lt;/style&gt;\n    &lt;script src=&quot;https://cdn.jsdelivr.net/npm/leaflet@1.9.3/dist/leaflet.js&quot;&gt;&lt;/script&gt;\n    &lt;script src=&quot;https://code.jquery.com/jquery-1.12.4.min.js&quot;&gt;&lt;/script&gt;\n    &lt;script src=&quot;https://cdn.jsdelivr.net/npm/bootstrap@5.2.2/dist/js/bootstrap.bundle.min.js&quot;&gt;&lt;/script&gt;\n    &lt;script src=&quot;https://cdnjs.cloudflare.com/ajax/libs/Leaflet.awesome-markers/2.0.2/leaflet.awesome-markers.js&quot;&gt;&lt;/script&gt;\n    &lt;link rel=&quot;stylesheet&quot; href=&quot;https://cdn.jsdelivr.net/npm/leaflet@1.9.3/dist/leaflet.css&quot;/&gt;\n    &lt;link rel=&quot;stylesheet&quot; href=&quot;https://cdn.jsdelivr.net/npm/bootstrap@5.2.2/dist/css/bootstrap.min.css&quot;/&gt;\n    &lt;link rel=&quot;stylesheet&quot; href=&quot;https://netdna.bootstrapcdn.com/bootstrap/3.0.0/css/bootstrap.min.css&quot;/&gt;\n    &lt;link rel=&quot;stylesheet&quot; href=&quot;https://cdn.jsdelivr.net/npm/@fortawesome/fontawesome-free@6.2.0/css/all.min.css&quot;/&gt;\n    &lt;link rel=&quot;stylesheet&quot; href=&quot;https://cdnjs.cloudflare.com/ajax/libs/Leaflet.awesome-markers/2.0.2/leaflet.awesome-markers.css&quot;/&gt;\n    &lt;link rel=&quot;stylesheet&quot; href=&quot;https://cdn.jsdelivr.net/gh/python-visualization/folium/folium/templates/leaflet.awesome.rotate.min.css&quot;/&gt;\n    \n            &lt;meta name=&quot;viewport&quot; content=&quot;width=device-width,\n                initial-scale=1.0, maximum-scale=1.0, user-scalable=no&quot; /&gt;\n            &lt;style&gt;\n                #map_eaea7db9f507f50ab07692e93a3f2934 {\n                    position: relative;\n                    width: 100.0%;\n                    height: 100.0%;\n                    left: 0.0%;\n                    top: 0.0%;\n                }\n                .leaflet-container { font-size: 1rem; }\n            &lt;/style&gt;\n        \n&lt;/head&gt;\n&lt;body&gt;\n    \n    \n            &lt;div class=&quot;folium-map&quot; id=&quot;map_eaea7db9f507f50ab07692e93a3f2934&quot; &gt;&lt;/div&gt;\n        \n&lt;/body&gt;\n&lt;script&gt;\n    \n    \n            var map_eaea7db9f507f50ab07692e93a3f2934 = L.map(\n                &quot;map_eaea7db9f507f50ab07692e93a3f2934&quot;,\n                {\n                    center: [37.56421, 127.0016],\n                    crs: L.CRS.EPSG3857,\n                    zoom: 10,\n                    zoomControl: true,\n                    preferCanvas: false,\n                }\n            );\n\n            \n\n        \n    \n            var tile_layer_6c9346ff64400087182c0c258d192153 = L.tileLayer(\n                &quot;https://{s}.tile.openstreetmap.org/{z}/{x}/{y}.png&quot;,\n                {&quot;attribution&quot;: &quot;Data by \\u0026copy; \\u003ca target=\\&quot;_blank\\&quot; href=\\&quot;http://openstreetmap.org\\&quot;\\u003eOpenStreetMap\\u003c/a\\u003e, under \\u003ca target=\\&quot;_blank\\&quot; href=\\&quot;http://www.openstreetmap.org/copyright\\&quot;\\u003eODbL\\u003c/a\\u003e.&quot;, &quot;detectRetina&quot;: false, &quot;maxNativeZoom&quot;: 18, &quot;maxZoom&quot;: 18, &quot;minZoom&quot;: 0, &quot;noWrap&quot;: false, &quot;opacity&quot;: 1, &quot;subdomains&quot;: &quot;abc&quot;, &quot;tms&quot;: false}\n            ).addTo(map_eaea7db9f507f50ab07692e93a3f2934);\n        \n    \n\n        function geo_json_40236f4a53b43382aab8aea15b5a2275_onEachFeature(feature, layer) {\n            layer.on({\n            });\n        };\n        var geo_json_40236f4a53b43382aab8aea15b5a2275 = L.geoJson(null, {\n                onEachFeature: geo_json_40236f4a53b43382aab8aea15b5a2275_onEachFeature,\n            \n        });\n\n        function geo_json_40236f4a53b43382aab8aea15b5a2275_add (data) {\n            geo_json_40236f4a53b43382aab8aea15b5a2275\n                .addData(data)\n                .addTo(map_eaea7db9f507f50ab07692e93a3f2934);\n        }\n            geo_json_40236f4a53b43382aab8aea15b5a2275_add({&quot;bbox&quot;: [126.98441249279733, 37.49017104226939, 127.05899475853819, 37.56813029875324], &quot;features&quot;: [{&quot;bbox&quot;: [126.98441249279733, 37.54641202591292, 127.00862216384638, 37.5676866425797], &quot;geometry&quot;: {&quot;coordinates&quot;: [[[127.00862216384638, 37.555541403538875], [127.003385966061, 37.56618001482632], [126.99127915815644, 37.5676866425797], [126.98441249279733, 37.558556574809394], [126.98964930624477, 37.547920569127925], [127.00175217015295, 37.54641202591292], [127.00862216384638, 37.555541403538875]]], &quot;type&quot;: &quot;Polygon&quot;}, &quot;id&quot;: &quot;0&quot;, &quot;properties&quot;: {&quot;h3&quot;: &quot;8730e1d88ffffff&quot;}, &quot;type&quot;: &quot;Feature&quot;}, {&quot;bbox&quot;: [126.99548621869458, 37.55944292804004, 127.00390057448038, 37.56813029875324], &quot;geometry&quot;: {&quot;coordinates&quot;: [[[127.00390057448038, 37.561836151975754], [127.003385966061, 37.56618001482632], [126.99917849753122, 37.56813029875324], [126.99548621869458, 37.56573676669885], [126.99600126741025, 37.561393258830336], [127.00020815471062, 37.55944292804004], [127.00390057448038, 37.561836151975754]]], &quot;type&quot;: &quot;Polygon&quot;}, &quot;id&quot;: &quot;1&quot;, &quot;properties&quot;: {&quot;h3&quot;: &quot;8830e1d88bfffff&quot;}, &quot;type&quot;: &quot;Feature&quot;}, {&quot;bbox&quot;: [127.0347854805752, 37.49017104226939, 127.05899475853819, 37.51146133502923], &quot;geometry&quot;: {&quot;coordinates&quot;: [[[127.05899475853819, 37.49929642720959], [127.05376624897943, 37.50994287777661], [127.04165963803993, 37.51146133502923], [127.0347854805752, 37.502335253319664], [127.04001461165386, 37.491691410824615], [127.05211727944138, 37.49017104226939], [127.05899475853819, 37.49929642720959]]], &quot;type&quot;: &quot;Polygon&quot;}, &quot;id&quot;: &quot;2&quot;, &quot;properties&quot;: {&quot;h3&quot;: &quot;8730e1ca3ffffff&quot;}, &quot;type&quot;: &quot;Feature&quot;}, {&quot;bbox&quot;: [127.03796609436475, 37.502771332762, 127.04637732715288, 37.51146133502923], &quot;geometry&quot;: {&quot;coordinates&quot;: [[[127.04637732715288, 37.50516178061069], [127.0458655446794, 37.509506959115356], [127.04165963803993, 37.51146133502923], [127.03796609436475, 37.509070578458314], [127.03847831724117, 37.50472575468991], [127.0426836434341, 37.502771332762], [127.04637732715288, 37.50516178061069]]], &quot;type&quot;: &quot;Polygon&quot;}, &quot;id&quot;: &quot;3&quot;, &quot;properties&quot;: {&quot;h3&quot;: &quot;8830e1ca39fffff&quot;}, &quot;type&quot;: &quot;Feature&quot;}], &quot;type&quot;: &quot;FeatureCollection&quot;});\n\n        \n&lt;/script&gt;\n&lt;/html&gt;\" style=\"position:absolute;width:100%;height:100%;left:0;top:0;border:none !important;\" allowfullscreen webkitallowfullscreen mozallowfullscreen></iframe></div></div>"
     },
     "execution_count": 60,
     "metadata": {},
     "output_type": "execute_result"
    }
   ],
   "source": [
    "# 맵에 데이터 프레임을 추가한 후 출력합니다.\n",
    "m = folium.Map([namsan_lat, namsan_lng])\n",
    "folium.GeoJson(df).add_to(m)\n",
    "m"
   ],
   "metadata": {
    "collapsed": false,
    "ExecuteTime": {
     "end_time": "2023-09-20T02:57:08.592527200Z",
     "start_time": "2023-09-20T02:57:08.490699100Z"
    }
   }
  },
  {
   "cell_type": "code",
   "execution_count": 61,
   "outputs": [
    {
     "name": "stdout",
     "output_type": "stream",
     "text": [
      "['8830e1ca15fffff', '8830e1ca03fffff', '8830e1ca07fffff', '8830e1ca3bfffff', '8830e1ca3dfffff', '8830e1ca31fffff']\n"
     ]
    }
   ],
   "source": [
    "# 이웃 H3 를 가져오기 위해서는 hex_ring 메소드를 활용합니다.\n",
    "gangnam_h3_neighbor = list(h3.hex_ring(gangnam_h3_r8))\n",
    "print(gangnam_h3_neighbor)"
   ],
   "metadata": {
    "collapsed": false,
    "ExecuteTime": {
     "end_time": "2023-09-20T02:57:08.593533400Z",
     "start_time": "2023-09-20T02:57:08.517214200Z"
    }
   }
  },
  {
   "cell_type": "code",
   "execution_count": 62,
   "outputs": [
    {
     "data": {
      "text/plain": "<folium.folium.Map at 0x1e7bf50ff50>",
      "text/html": "<div style=\"width:100%;\"><div style=\"position:relative;width:100%;height:0;padding-bottom:60%;\"><span style=\"color:#565656\">Make this Notebook Trusted to load map: File -> Trust Notebook</span><iframe srcdoc=\"&lt;!DOCTYPE html&gt;\n&lt;html&gt;\n&lt;head&gt;\n    \n    &lt;meta http-equiv=&quot;content-type&quot; content=&quot;text/html; charset=UTF-8&quot; /&gt;\n    \n        &lt;script&gt;\n            L_NO_TOUCH = false;\n            L_DISABLE_3D = false;\n        &lt;/script&gt;\n    \n    &lt;style&gt;html, body {width: 100%;height: 100%;margin: 0;padding: 0;}&lt;/style&gt;\n    &lt;style&gt;#map {position:absolute;top:0;bottom:0;right:0;left:0;}&lt;/style&gt;\n    &lt;script src=&quot;https://cdn.jsdelivr.net/npm/leaflet@1.9.3/dist/leaflet.js&quot;&gt;&lt;/script&gt;\n    &lt;script src=&quot;https://code.jquery.com/jquery-1.12.4.min.js&quot;&gt;&lt;/script&gt;\n    &lt;script src=&quot;https://cdn.jsdelivr.net/npm/bootstrap@5.2.2/dist/js/bootstrap.bundle.min.js&quot;&gt;&lt;/script&gt;\n    &lt;script src=&quot;https://cdnjs.cloudflare.com/ajax/libs/Leaflet.awesome-markers/2.0.2/leaflet.awesome-markers.js&quot;&gt;&lt;/script&gt;\n    &lt;link rel=&quot;stylesheet&quot; href=&quot;https://cdn.jsdelivr.net/npm/leaflet@1.9.3/dist/leaflet.css&quot;/&gt;\n    &lt;link rel=&quot;stylesheet&quot; href=&quot;https://cdn.jsdelivr.net/npm/bootstrap@5.2.2/dist/css/bootstrap.min.css&quot;/&gt;\n    &lt;link rel=&quot;stylesheet&quot; href=&quot;https://netdna.bootstrapcdn.com/bootstrap/3.0.0/css/bootstrap.min.css&quot;/&gt;\n    &lt;link rel=&quot;stylesheet&quot; href=&quot;https://cdn.jsdelivr.net/npm/@fortawesome/fontawesome-free@6.2.0/css/all.min.css&quot;/&gt;\n    &lt;link rel=&quot;stylesheet&quot; href=&quot;https://cdnjs.cloudflare.com/ajax/libs/Leaflet.awesome-markers/2.0.2/leaflet.awesome-markers.css&quot;/&gt;\n    &lt;link rel=&quot;stylesheet&quot; href=&quot;https://cdn.jsdelivr.net/gh/python-visualization/folium/folium/templates/leaflet.awesome.rotate.min.css&quot;/&gt;\n    \n            &lt;meta name=&quot;viewport&quot; content=&quot;width=device-width,\n                initial-scale=1.0, maximum-scale=1.0, user-scalable=no&quot; /&gt;\n            &lt;style&gt;\n                #map_faf1b77d9f633629f6a0bdf8ada45017 {\n                    position: relative;\n                    width: 100.0%;\n                    height: 100.0%;\n                    left: 0.0%;\n                    top: 0.0%;\n                }\n                .leaflet-container { font-size: 1rem; }\n            &lt;/style&gt;\n        \n&lt;/head&gt;\n&lt;body&gt;\n    \n    \n            &lt;div class=&quot;folium-map&quot; id=&quot;map_faf1b77d9f633629f6a0bdf8ada45017&quot; &gt;&lt;/div&gt;\n        \n&lt;/body&gt;\n&lt;script&gt;\n    \n    \n            var map_faf1b77d9f633629f6a0bdf8ada45017 = L.map(\n                &quot;map_faf1b77d9f633629f6a0bdf8ada45017&quot;,\n                {\n                    center: [37.56421, 127.0016],\n                    crs: L.CRS.EPSG3857,\n                    zoom: 10,\n                    zoomControl: true,\n                    preferCanvas: false,\n                }\n            );\n\n            \n\n        \n    \n            var tile_layer_66515257b57e3dec3e5576dd32d7bda3 = L.tileLayer(\n                &quot;https://{s}.tile.openstreetmap.org/{z}/{x}/{y}.png&quot;,\n                {&quot;attribution&quot;: &quot;Data by \\u0026copy; \\u003ca target=\\&quot;_blank\\&quot; href=\\&quot;http://openstreetmap.org\\&quot;\\u003eOpenStreetMap\\u003c/a\\u003e, under \\u003ca target=\\&quot;_blank\\&quot; href=\\&quot;http://www.openstreetmap.org/copyright\\&quot;\\u003eODbL\\u003c/a\\u003e.&quot;, &quot;detectRetina&quot;: false, &quot;maxNativeZoom&quot;: 18, &quot;maxZoom&quot;: 18, &quot;minZoom&quot;: 0, &quot;noWrap&quot;: false, &quot;opacity&quot;: 1, &quot;subdomains&quot;: &quot;abc&quot;, &quot;tms&quot;: false}\n            ).addTo(map_faf1b77d9f633629f6a0bdf8ada45017);\n        \n    \n\n        function geo_json_c8ed6839892f975e12f1631bfb32c3cd_onEachFeature(feature, layer) {\n            layer.on({\n            });\n        };\n        var geo_json_c8ed6839892f975e12f1631bfb32c3cd = L.geoJson(null, {\n                onEachFeature: geo_json_c8ed6839892f975e12f1631bfb32c3cd_onEachFeature,\n            \n        });\n\n        function geo_json_c8ed6839892f975e12f1631bfb32c3cd_add (data) {\n            geo_json_c8ed6839892f975e12f1631bfb32c3cd\n                .addData(data)\n                .addTo(map_faf1b77d9f633629f6a0bdf8ada45017);\n        }\n            geo_json_c8ed6839892f975e12f1631bfb32c3cd_add({&quot;bbox&quot;: [127.03006789803725, 37.49603617082221, 127.05427759088424, 37.51819737956698], &quot;features&quot;: [{&quot;bbox&quot;: [127.04114754179314, 37.509506959115356, 127.0495599356082, 37.51819737956698], &quot;geometry&quot;: {&quot;coordinates&quot;: [[[127.0495599356082, 37.51189766208344], [127.04904827991844, 37.51624304968023], [127.04484179269855, 37.51819737956698], [127.04114754179314, 37.515806367889866], [127.04165963803993, 37.51146133502923], [127.0458655446794, 37.509506959115356], [127.0495599356082, 37.51189766208344]]], &quot;type&quot;: &quot;Polygon&quot;}, &quot;id&quot;: &quot;0&quot;, &quot;properties&quot;: {&quot;h3&quot;: &quot;8830e1ca15fffff&quot;}, &quot;type&quot;: &quot;Feature&quot;}, {&quot;bbox&quot;: [127.03324805790284, 37.509070578458314, 127.04165963803993, 37.51776028941001], &quot;geometry&quot;: {&quot;coordinates&quot;: [[[127.04165963803993, 37.51146133502923], [127.04114754179314, 37.515806367889866], [127.03694146143569, 37.51776028941001], [127.03324805790284, 37.51536922418387], [127.03376059454082, 37.51102454608697], [127.03796609436475, 37.509070578458314], [127.04165963803993, 37.51146133502923]]], &quot;type&quot;: &quot;Polygon&quot;}, &quot;id&quot;: &quot;1&quot;, &quot;properties&quot;: {&quot;h3&quot;: &quot;8830e1ca03fffff&quot;}, &quot;type&quot;: &quot;Feature&quot;}, {&quot;bbox&quot;: [127.03006789803725, 37.502335253319664, 127.03847831724117, 37.51102454608697], &quot;geometry&quot;: {&quot;coordinates&quot;: [[[127.03847831724117, 37.50472575468991], [127.03796609436475, 37.509070578458314], [127.03376059454082, 37.51102454608697], [127.03006789803725, 37.50863373604836], [127.0305805611509, 37.50428926704365], [127.0347854805752, 37.502335253319664], [127.03847831724117, 37.50472575468991]]], &quot;type&quot;: &quot;Polygon&quot;}, &quot;id&quot;: &quot;2&quot;, &quot;properties&quot;: {&quot;h3&quot;: &quot;8830e1ca07fffff&quot;}, &quot;type&quot;: &quot;Feature&quot;}, {&quot;bbox&quot;: [127.0458655446794, 37.503206950371165, 127.05427759088424, 37.51189766208344], &quot;geometry&quot;: {&quot;coordinates&quot;: [[[127.05427759088424, 37.50559734456324], [127.05376624897943, 37.50994287777661], [127.0495599356082, 37.51189766208344], [127.0458655446794, 37.509506959115356], [127.04637732715288, 37.50516178061069], [127.05058306003073, 37.503206950371165], [127.05427759088424, 37.50559734456324]]], &quot;type&quot;: &quot;Polygon&quot;}, &quot;id&quot;: &quot;3&quot;, &quot;properties&quot;: {&quot;h3&quot;: &quot;8830e1ca3bfffff&quot;}, &quot;type&quot;: &quot;Feature&quot;}, {&quot;bbox&quot;: [127.0347854805752, 37.49603617082221, 127.0431955526041, 37.50472575468991], &quot;geometry&quot;: {&quot;coordinates&quot;: [[[127.0431955526041, 37.49842636345708], [127.0426836434341, 37.502771332762], [127.03847831724117, 37.50472575468991], [127.0347854805752, 37.502335253319664], [127.03529782999418, 37.49799063875103], [127.03950257587444, 37.49603617082221], [127.0431955526041, 37.49842636345708]]], &quot;type&quot;: &quot;Polygon&quot;}, &quot;id&quot;: &quot;4&quot;, &quot;properties&quot;: {&quot;h3&quot;: &quot;8830e1ca3dfffff&quot;}, &quot;type&quot;: &quot;Feature&quot;}, {&quot;bbox&quot;: [127.0426836434341, 37.49647148729796, 127.05109452878608, 37.50516178061069], &quot;geometry&quot;: {&quot;coordinates&quot;: [[[127.05109452878608, 37.49886162635751], [127.05058306003073, 37.503206950371165], [127.04637732715288, 37.50516178061069], [127.0426836434341, 37.502771332762], [127.0431955526041, 37.49842636345708], [127.04740070512244, 37.49647148729796], [127.05109452878608, 37.49886162635751]]], &quot;type&quot;: &quot;Polygon&quot;}, &quot;id&quot;: &quot;5&quot;, &quot;properties&quot;: {&quot;h3&quot;: &quot;8830e1ca31fffff&quot;}, &quot;type&quot;: &quot;Feature&quot;}], &quot;type&quot;: &quot;FeatureCollection&quot;});\n\n        \n&lt;/script&gt;\n&lt;/html&gt;\" style=\"position:absolute;width:100%;height:100%;left:0;top:0;border:none !important;\" allowfullscreen webkitallowfullscreen mozallowfullscreen></iframe></div></div>"
     },
     "execution_count": 62,
     "metadata": {},
     "output_type": "execute_result"
    }
   ],
   "source": [
    "# 데이터프레임을 생성해, 맵에 출력합니다.\n",
    "df = gpd.GeoDataFrame({'h3': gangnam_h3_neighbor})\n",
    "df['geometry'] = df['h3'].apply(make_polygon)\n",
    "df.crs = {'init': 'epsg:4326'}\n",
    "\n",
    "m = folium.Map([namsan_lat, namsan_lng])\n",
    "folium.GeoJson(df).add_to(m)\n",
    "m\n",
    "\n",
    "# 6개의 이웃이 출력되었습니다."
   ],
   "metadata": {
    "collapsed": false,
    "ExecuteTime": {
     "end_time": "2023-09-20T02:57:08.605890100Z",
     "start_time": "2023-09-20T02:57:08.519882600Z"
    }
   }
  },
  {
   "cell_type": "code",
   "execution_count": 63,
   "outputs": [
    {
     "data": {
      "text/plain": "                h3                                           geometry\n0  8830e1ca15fffff  POLYGON ((127.04956 37.51190, 127.04905 37.516...\n1  8830e1ca03fffff  POLYGON ((127.04166 37.51146, 127.04115 37.515...\n2  8830e1ca07fffff  POLYGON ((127.03848 37.50473, 127.03797 37.509...\n3  8830e1ca3bfffff  POLYGON ((127.05428 37.50560, 127.05377 37.509...\n4  8830e1ca3dfffff  POLYGON ((127.04320 37.49843, 127.04268 37.502...\n5  8830e1ca31fffff  POLYGON ((127.05109 37.49886, 127.05058 37.503...",
      "text/html": "<div>\n<style scoped>\n    .dataframe tbody tr th:only-of-type {\n        vertical-align: middle;\n    }\n\n    .dataframe tbody tr th {\n        vertical-align: top;\n    }\n\n    .dataframe thead th {\n        text-align: right;\n    }\n</style>\n<table border=\"1\" class=\"dataframe\">\n  <thead>\n    <tr style=\"text-align: right;\">\n      <th></th>\n      <th>h3</th>\n      <th>geometry</th>\n    </tr>\n  </thead>\n  <tbody>\n    <tr>\n      <th>0</th>\n      <td>8830e1ca15fffff</td>\n      <td>POLYGON ((127.04956 37.51190, 127.04905 37.516...</td>\n    </tr>\n    <tr>\n      <th>1</th>\n      <td>8830e1ca03fffff</td>\n      <td>POLYGON ((127.04166 37.51146, 127.04115 37.515...</td>\n    </tr>\n    <tr>\n      <th>2</th>\n      <td>8830e1ca07fffff</td>\n      <td>POLYGON ((127.03848 37.50473, 127.03797 37.509...</td>\n    </tr>\n    <tr>\n      <th>3</th>\n      <td>8830e1ca3bfffff</td>\n      <td>POLYGON ((127.05428 37.50560, 127.05377 37.509...</td>\n    </tr>\n    <tr>\n      <th>4</th>\n      <td>8830e1ca3dfffff</td>\n      <td>POLYGON ((127.04320 37.49843, 127.04268 37.502...</td>\n    </tr>\n    <tr>\n      <th>5</th>\n      <td>8830e1ca31fffff</td>\n      <td>POLYGON ((127.05109 37.49886, 127.05058 37.503...</td>\n    </tr>\n  </tbody>\n</table>\n</div>"
     },
     "execution_count": 63,
     "metadata": {},
     "output_type": "execute_result"
    }
   ],
   "source": [
    "df"
   ],
   "metadata": {
    "collapsed": false,
    "ExecuteTime": {
     "end_time": "2023-09-20T02:57:08.605890100Z",
     "start_time": "2023-09-20T02:57:08.548255800Z"
    }
   }
  },
  {
   "cell_type": "code",
   "execution_count": 64,
   "outputs": [
    {
     "name": "stdout",
     "output_type": "stream",
     "text": [
      "['8830e1d887fffff', '8830e1d883fffff', '8830e1d881fffff', '8830e1d88bfffff', '8830e1d885fffff', '8830e1d88dfffff', '8830e1d889fffff']\n"
     ]
    }
   ],
   "source": [
    "# 이웃 H3 를 가져오기 위해서는 h3_to_children 메소드를 활용합니다.\n",
    "namsan_h3_children = list(h3.h3_to_children(namsan_h3_r7))\n",
    "print(namsan_h3_children)"
   ],
   "metadata": {
    "collapsed": false,
    "ExecuteTime": {
     "end_time": "2023-09-20T02:57:08.605890100Z",
     "start_time": "2023-09-20T02:57:08.559692Z"
    }
   }
  },
  {
   "cell_type": "code",
   "execution_count": 65,
   "outputs": [
    {
     "name": "stdout",
     "output_type": "stream",
     "text": [
      "['8830e1d887fffff', '8830e1d883fffff', '8830e1d881fffff', '8830e1d88bfffff', '8830e1d885fffff', '8830e1d88dfffff', '8830e1d889fffff', '8730e1d88ffffff']\n"
     ]
    }
   ],
   "source": [
    "namsan_h3_children.append(namsan_h3_r7)\n",
    "print(namsan_h3_children)"
   ],
   "metadata": {
    "collapsed": false,
    "ExecuteTime": {
     "end_time": "2023-09-20T02:57:08.605890100Z",
     "start_time": "2023-09-20T02:57:08.563683700Z"
    }
   }
  },
  {
   "cell_type": "code",
   "execution_count": 66,
   "outputs": [
    {
     "data": {
      "text/plain": "<folium.folium.Map at 0x1e7bf4e2710>",
      "text/html": "<div style=\"width:100%;\"><div style=\"position:relative;width:100%;height:0;padding-bottom:60%;\"><span style=\"color:#565656\">Make this Notebook Trusted to load map: File -> Trust Notebook</span><iframe srcdoc=\"&lt;!DOCTYPE html&gt;\n&lt;html&gt;\n&lt;head&gt;\n    \n    &lt;meta http-equiv=&quot;content-type&quot; content=&quot;text/html; charset=UTF-8&quot; /&gt;\n    \n        &lt;script&gt;\n            L_NO_TOUCH = false;\n            L_DISABLE_3D = false;\n        &lt;/script&gt;\n    \n    &lt;style&gt;html, body {width: 100%;height: 100%;margin: 0;padding: 0;}&lt;/style&gt;\n    &lt;style&gt;#map {position:absolute;top:0;bottom:0;right:0;left:0;}&lt;/style&gt;\n    &lt;script src=&quot;https://cdn.jsdelivr.net/npm/leaflet@1.9.3/dist/leaflet.js&quot;&gt;&lt;/script&gt;\n    &lt;script src=&quot;https://code.jquery.com/jquery-1.12.4.min.js&quot;&gt;&lt;/script&gt;\n    &lt;script src=&quot;https://cdn.jsdelivr.net/npm/bootstrap@5.2.2/dist/js/bootstrap.bundle.min.js&quot;&gt;&lt;/script&gt;\n    &lt;script src=&quot;https://cdnjs.cloudflare.com/ajax/libs/Leaflet.awesome-markers/2.0.2/leaflet.awesome-markers.js&quot;&gt;&lt;/script&gt;\n    &lt;link rel=&quot;stylesheet&quot; href=&quot;https://cdn.jsdelivr.net/npm/leaflet@1.9.3/dist/leaflet.css&quot;/&gt;\n    &lt;link rel=&quot;stylesheet&quot; href=&quot;https://cdn.jsdelivr.net/npm/bootstrap@5.2.2/dist/css/bootstrap.min.css&quot;/&gt;\n    &lt;link rel=&quot;stylesheet&quot; href=&quot;https://netdna.bootstrapcdn.com/bootstrap/3.0.0/css/bootstrap.min.css&quot;/&gt;\n    &lt;link rel=&quot;stylesheet&quot; href=&quot;https://cdn.jsdelivr.net/npm/@fortawesome/fontawesome-free@6.2.0/css/all.min.css&quot;/&gt;\n    &lt;link rel=&quot;stylesheet&quot; href=&quot;https://cdnjs.cloudflare.com/ajax/libs/Leaflet.awesome-markers/2.0.2/leaflet.awesome-markers.css&quot;/&gt;\n    &lt;link rel=&quot;stylesheet&quot; href=&quot;https://cdn.jsdelivr.net/gh/python-visualization/folium/folium/templates/leaflet.awesome.rotate.min.css&quot;/&gt;\n    \n            &lt;meta name=&quot;viewport&quot; content=&quot;width=device-width,\n                initial-scale=1.0, maximum-scale=1.0, user-scalable=no&quot; /&gt;\n            &lt;style&gt;\n                #map_fba102a96c42631b225a51310fdc2597 {\n                    position: relative;\n                    width: 100.0%;\n                    height: 100.0%;\n                    left: 0.0%;\n                    top: 0.0%;\n                }\n                .leaflet-container { font-size: 1rem; }\n            &lt;/style&gt;\n        \n&lt;/head&gt;\n&lt;body&gt;\n    \n    \n            &lt;div class=&quot;folium-map&quot; id=&quot;map_fba102a96c42631b225a51310fdc2597&quot; &gt;&lt;/div&gt;\n        \n&lt;/body&gt;\n&lt;script&gt;\n    \n    \n            var map_fba102a96c42631b225a51310fdc2597 = L.map(\n                &quot;map_fba102a96c42631b225a51310fdc2597&quot;,\n                {\n                    center: [37.56421, 127.0016],\n                    crs: L.CRS.EPSG3857,\n                    zoom: 10,\n                    zoomControl: true,\n                    preferCanvas: false,\n                }\n            );\n\n            \n\n        \n    \n            var tile_layer_bf181e0d607ae81ec6cb63bde0779aeb = L.tileLayer(\n                &quot;https://{s}.tile.openstreetmap.org/{z}/{x}/{y}.png&quot;,\n                {&quot;attribution&quot;: &quot;Data by \\u0026copy; \\u003ca target=\\&quot;_blank\\&quot; href=\\&quot;http://openstreetmap.org\\&quot;\\u003eOpenStreetMap\\u003c/a\\u003e, under \\u003ca target=\\&quot;_blank\\&quot; href=\\&quot;http://www.openstreetmap.org/copyright\\&quot;\\u003eODbL\\u003c/a\\u003e.&quot;, &quot;detectRetina&quot;: false, &quot;maxNativeZoom&quot;: 18, &quot;maxZoom&quot;: 18, &quot;minZoom&quot;: 0, &quot;noWrap&quot;: false, &quot;opacity&quot;: 1, &quot;subdomains&quot;: &quot;abc&quot;, &quot;tms&quot;: false}\n            ).addTo(map_fba102a96c42631b225a51310fdc2597);\n        \n    \n\n        function geo_json_d43df5354cb136b9eb17ef4cd7e13b64_onEachFeature(feature, layer) {\n            layer.on({\n            });\n        };\n        var geo_json_d43df5354cb136b9eb17ef4cd7e13b64 = L.geoJson(null, {\n                onEachFeature: geo_json_d43df5354cb136b9eb17ef4cd7e13b64_onEachFeature,\n            \n        });\n\n        function geo_json_d43df5354cb136b9eb17ef4cd7e13b64_add (data) {\n            geo_json_d43df5354cb136b9eb17ef4cd7e13b64\n                .addData(data)\n                .addTo(map_fba102a96c42631b225a51310fdc2597);\n        }\n            geo_json_d43df5354cb136b9eb17ef4cd7e13b64_add({&quot;bbox&quot;: [126.98441249279733, 37.54597014465024, 127.00862216384638, 37.56813029875324], &quot;features&quot;: [{&quot;bbox&quot;: [126.99703117662271, 37.54641202591292, 127.00544402360785, 37.55509927342113], &quot;geometry&quot;: {&quot;coordinates&quot;: [[[127.00544402360785, 37.5488046865544], [127.00492960324243, 37.55314848778893], [127.0007228892236, 37.55509927342113], [126.99703117662271, 37.55270630458062], [126.99754603714231, 37.54836285830106], [127.00175217015295, 37.54641202591292], [127.00544402360785, 37.5488046865544]]], &quot;type&quot;: &quot;Polygon&quot;}, &quot;id&quot;: &quot;0&quot;, &quot;properties&quot;: {&quot;h3&quot;: &quot;8830e1d887fffff&quot;}, &quot;type&quot;: &quot;Feature&quot;}, {&quot;bbox&quot;: [127.00020815471062, 37.55314848778893, 127.00862216384638, 37.561836151975754], &quot;geometry&quot;: {&quot;coordinates&quot;: [[[127.00862216384638, 37.555541403538875], [127.00810786964165, 37.559885413112625], [127.00390057448038, 37.561836151975754], [127.00020815471062, 37.55944292804004], [127.0007228892236, 37.55509927342113], [127.00492960324243, 37.55314848778893], [127.00862216384638, 37.555541403538875]]], &quot;type&quot;: &quot;Polygon&quot;}, &quot;id&quot;: &quot;1&quot;, &quot;properties&quot;: {&quot;h3&quot;: &quot;8830e1d883fffff&quot;}, &quot;type&quot;: &quot;Feature&quot;}, {&quot;bbox&quot;: [126.9923096957623, 37.55270630458062, 127.0007228892236, 37.561393258830336], &quot;geometry&quot;: {&quot;coordinates&quot;: [[[127.0007228892236, 37.55509927342113], [127.00020815471062, 37.55944292804004], [126.99600126741025, 37.561393258830336], [126.9923096957623, 37.55899998185792], [126.99282487041748, 37.55465668222118], [126.99703117662271, 37.55270630458062], [127.0007228892236, 37.55509927342113]]], &quot;type&quot;: &quot;Polygon&quot;}, &quot;id&quot;: &quot;2&quot;, &quot;properties&quot;: {&quot;h3&quot;: &quot;8830e1d881fffff&quot;}, &quot;type&quot;: &quot;Feature&quot;}, {&quot;bbox&quot;: [126.99548621869458, 37.55944292804004, 127.00390057448038, 37.56813029875324], &quot;geometry&quot;: {&quot;coordinates&quot;: [[[127.00390057448038, 37.561836151975754], [127.003385966061, 37.56618001482632], [126.99917849753122, 37.56813029875324], [126.99548621869458, 37.56573676669885], [126.99600126741025, 37.561393258830336], [127.00020815471062, 37.55944292804004], [127.00390057448038, 37.561836151975754]]], &quot;type&quot;: &quot;Polygon&quot;}, &quot;id&quot;: &quot;3&quot;, &quot;properties&quot;: {&quot;h3&quot;: &quot;8830e1d88bfffff&quot;}, &quot;type&quot;: &quot;Feature&quot;}, {&quot;bbox&quot;: [126.98913400573701, 37.54597014465024, 126.99754603714231, 37.55465668222118], &quot;geometry&quot;: {&quot;coordinates&quot;: [[[126.99754603714231, 37.54836285830106], [126.99703117662271, 37.55270630458062], [126.99282487041748, 37.55465668222118], [126.98913400573701, 37.55226366042522], [126.98964930624477, 37.547920569127925], [126.99385503148913, 37.54597014465024], [126.99754603714231, 37.54836285830106]]], &quot;type&quot;: &quot;Polygon&quot;}, &quot;id&quot;: &quot;4&quot;, &quot;properties&quot;: {&quot;h3&quot;: &quot;8830e1d885fffff&quot;}, &quot;type&quot;: &quot;Feature&quot;}, {&quot;bbox&quot;: [126.98441249279733, 37.55226366042522, 126.99282487041748, 37.56094990468332], &quot;geometry&quot;: {&quot;coordinates&quot;: [[[126.99282487041748, 37.55465668222118], [126.9923096957623, 37.55899998185792], [126.9881032164062, 37.56094990468332], [126.98441249279733, 37.558556574809394], [126.98492810742864, 37.55421363018209], [126.98913400573701, 37.55226366042522], [126.99282487041748, 37.55465668222118]]], &quot;type&quot;: &quot;Polygon&quot;}, &quot;id&quot;: &quot;5&quot;, &quot;properties&quot;: {&quot;h3&quot;: &quot;8830e1d88dfffff&quot;}, &quot;type&quot;: &quot;Feature&quot;}, {&quot;bbox&quot;: [126.98758772756037, 37.55899998185792, 126.99600126741025, 37.5676866425797], &quot;geometry&quot;: {&quot;coordinates&quot;: [[[126.99600126741025, 37.561393258830336], [126.99548621869458, 37.56573676669885], [126.99127915815644, 37.5676866425797], [126.98758772756037, 37.56529305754251], [126.9881032164062, 37.56094990468332], [126.9923096957623, 37.55899998185792], [126.99600126741025, 37.561393258830336]]], &quot;type&quot;: &quot;Polygon&quot;}, &quot;id&quot;: &quot;6&quot;, &quot;properties&quot;: {&quot;h3&quot;: &quot;8830e1d889fffff&quot;}, &quot;type&quot;: &quot;Feature&quot;}, {&quot;bbox&quot;: [126.98441249279733, 37.54641202591292, 127.00862216384638, 37.5676866425797], &quot;geometry&quot;: {&quot;coordinates&quot;: [[[127.00862216384638, 37.555541403538875], [127.003385966061, 37.56618001482632], [126.99127915815644, 37.5676866425797], [126.98441249279733, 37.558556574809394], [126.98964930624477, 37.547920569127925], [127.00175217015295, 37.54641202591292], [127.00862216384638, 37.555541403538875]]], &quot;type&quot;: &quot;Polygon&quot;}, &quot;id&quot;: &quot;7&quot;, &quot;properties&quot;: {&quot;h3&quot;: &quot;8730e1d88ffffff&quot;}, &quot;type&quot;: &quot;Feature&quot;}], &quot;type&quot;: &quot;FeatureCollection&quot;});\n\n        \n&lt;/script&gt;\n&lt;/html&gt;\" style=\"position:absolute;width:100%;height:100%;left:0;top:0;border:none !important;\" allowfullscreen webkitallowfullscreen mozallowfullscreen></iframe></div></div>"
     },
     "execution_count": 66,
     "metadata": {},
     "output_type": "execute_result"
    }
   ],
   "source": [
    "# 데이터프레임을 생성해, 맵에 출력합니다.\n",
    "df = gpd.GeoDataFrame({'h3': namsan_h3_children})\n",
    "df['geometry'] = df['h3'].apply(make_polygon)\n",
    "df.crs = {'init': 'epsg:4326'}\n",
    "\n",
    "m = folium.Map([namsan_lat, namsan_lng])\n",
    "folium.GeoJson(df).add_to(m)\n",
    "m\n",
    "\n",
    "# namsan_h3_r7 와 Children h3 들이 함께 출력되는 것을 확인할 수 있습니다."
   ],
   "metadata": {
    "collapsed": false,
    "ExecuteTime": {
     "end_time": "2023-09-20T02:57:08.616320Z",
     "start_time": "2023-09-20T02:57:08.571631200Z"
    }
   }
  },
  {
   "cell_type": "code",
   "execution_count": 69,
   "outputs": [
    {
     "data": {
      "text/plain": "                h3\n0  8830e1d887fffff\n1  8830e1d883fffff\n2  8830e1d881fffff\n3  8830e1d88bfffff\n4  8830e1d885fffff\n5  8830e1d88dfffff\n6  8830e1d889fffff\n7  8730e1d88ffffff",
      "text/html": "<div>\n<style scoped>\n    .dataframe tbody tr th:only-of-type {\n        vertical-align: middle;\n    }\n\n    .dataframe tbody tr th {\n        vertical-align: top;\n    }\n\n    .dataframe thead th {\n        text-align: right;\n    }\n</style>\n<table border=\"1\" class=\"dataframe\">\n  <thead>\n    <tr style=\"text-align: right;\">\n      <th></th>\n      <th>h3</th>\n    </tr>\n  </thead>\n  <tbody>\n    <tr>\n      <th>0</th>\n      <td>8830e1d887fffff</td>\n    </tr>\n    <tr>\n      <th>1</th>\n      <td>8830e1d883fffff</td>\n    </tr>\n    <tr>\n      <th>2</th>\n      <td>8830e1d881fffff</td>\n    </tr>\n    <tr>\n      <th>3</th>\n      <td>8830e1d88bfffff</td>\n    </tr>\n    <tr>\n      <th>4</th>\n      <td>8830e1d885fffff</td>\n    </tr>\n    <tr>\n      <th>5</th>\n      <td>8830e1d88dfffff</td>\n    </tr>\n    <tr>\n      <th>6</th>\n      <td>8830e1d889fffff</td>\n    </tr>\n    <tr>\n      <th>7</th>\n      <td>8730e1d88ffffff</td>\n    </tr>\n  </tbody>\n</table>\n</div>"
     },
     "execution_count": 69,
     "metadata": {},
     "output_type": "execute_result"
    }
   ],
   "source": [
    "df = gpd.GeoDataFrame({'h3': namsan_h3_children})\n",
    "df"
   ],
   "metadata": {
    "collapsed": false,
    "ExecuteTime": {
     "end_time": "2023-09-20T02:57:16.243083800Z",
     "start_time": "2023-09-20T02:57:16.226902100Z"
    }
   }
  },
  {
   "cell_type": "code",
   "execution_count": 70,
   "outputs": [
    {
     "data": {
      "text/plain": "                h3                                           geometry\n0  8830e1d887fffff  POLYGON ((127.00544 37.54880, 127.00493 37.553...\n1  8830e1d883fffff  POLYGON ((127.00862 37.55554, 127.00811 37.559...\n2  8830e1d881fffff  POLYGON ((127.00072 37.55510, 127.00021 37.559...\n3  8830e1d88bfffff  POLYGON ((127.00390 37.56184, 127.00339 37.566...\n4  8830e1d885fffff  POLYGON ((126.99755 37.54836, 126.99703 37.552...\n5  8830e1d88dfffff  POLYGON ((126.99282 37.55466, 126.99231 37.559...\n6  8830e1d889fffff  POLYGON ((126.99600 37.56139, 126.99549 37.565...\n7  8730e1d88ffffff  POLYGON ((127.00862 37.55554, 127.00339 37.566...",
      "text/html": "<div>\n<style scoped>\n    .dataframe tbody tr th:only-of-type {\n        vertical-align: middle;\n    }\n\n    .dataframe tbody tr th {\n        vertical-align: top;\n    }\n\n    .dataframe thead th {\n        text-align: right;\n    }\n</style>\n<table border=\"1\" class=\"dataframe\">\n  <thead>\n    <tr style=\"text-align: right;\">\n      <th></th>\n      <th>h3</th>\n      <th>geometry</th>\n    </tr>\n  </thead>\n  <tbody>\n    <tr>\n      <th>0</th>\n      <td>8830e1d887fffff</td>\n      <td>POLYGON ((127.00544 37.54880, 127.00493 37.553...</td>\n    </tr>\n    <tr>\n      <th>1</th>\n      <td>8830e1d883fffff</td>\n      <td>POLYGON ((127.00862 37.55554, 127.00811 37.559...</td>\n    </tr>\n    <tr>\n      <th>2</th>\n      <td>8830e1d881fffff</td>\n      <td>POLYGON ((127.00072 37.55510, 127.00021 37.559...</td>\n    </tr>\n    <tr>\n      <th>3</th>\n      <td>8830e1d88bfffff</td>\n      <td>POLYGON ((127.00390 37.56184, 127.00339 37.566...</td>\n    </tr>\n    <tr>\n      <th>4</th>\n      <td>8830e1d885fffff</td>\n      <td>POLYGON ((126.99755 37.54836, 126.99703 37.552...</td>\n    </tr>\n    <tr>\n      <th>5</th>\n      <td>8830e1d88dfffff</td>\n      <td>POLYGON ((126.99282 37.55466, 126.99231 37.559...</td>\n    </tr>\n    <tr>\n      <th>6</th>\n      <td>8830e1d889fffff</td>\n      <td>POLYGON ((126.99600 37.56139, 126.99549 37.565...</td>\n    </tr>\n    <tr>\n      <th>7</th>\n      <td>8730e1d88ffffff</td>\n      <td>POLYGON ((127.00862 37.55554, 127.00339 37.566...</td>\n    </tr>\n  </tbody>\n</table>\n</div>"
     },
     "execution_count": 70,
     "metadata": {},
     "output_type": "execute_result"
    }
   ],
   "source": [
    "df['geometry'] = df['h3'].apply(make_polygon)\n",
    "df"
   ],
   "metadata": {
    "collapsed": false,
    "ExecuteTime": {
     "end_time": "2023-09-20T02:57:17.856789800Z",
     "start_time": "2023-09-20T02:57:17.840943800Z"
    }
   }
  },
  {
   "cell_type": "markdown",
   "source": [
    "### tooltip 추가하기"
   ],
   "metadata": {
    "collapsed": false
   }
  },
  {
   "cell_type": "code",
   "execution_count": 76,
   "outputs": [],
   "source": [
    "# H3 와 H3 갯수 만큼의 더미 데이터를 생성합니다\n",
    "namsan_h3_children = list(h3.h3_to_children(namsan_h3_r7))\n",
    "dummy_demand = np.random.randint(0, len(namsan_h3_children), size=len(namsan_h3_children))*1000"
   ],
   "metadata": {
    "collapsed": false,
    "ExecuteTime": {
     "end_time": "2023-09-20T02:59:25.653627200Z",
     "start_time": "2023-09-20T02:59:25.637881900Z"
    }
   }
  },
  {
   "cell_type": "code",
   "execution_count": 77,
   "outputs": [
    {
     "data": {
      "text/plain": "                h3  demand_cnt  \\\n0  8830e1d887fffff        1000   \n1  8830e1d883fffff        4000   \n2  8830e1d881fffff        1000   \n3  8830e1d88bfffff        2000   \n4  8830e1d885fffff        1000   \n5  8830e1d88dfffff        6000   \n6  8830e1d889fffff        5000   \n\n                                            geometry  \n0  POLYGON ((127.00544 37.54880, 127.00493 37.553...  \n1  POLYGON ((127.00862 37.55554, 127.00811 37.559...  \n2  POLYGON ((127.00072 37.55510, 127.00021 37.559...  \n3  POLYGON ((127.00390 37.56184, 127.00339 37.566...  \n4  POLYGON ((126.99755 37.54836, 126.99703 37.552...  \n5  POLYGON ((126.99282 37.55466, 126.99231 37.559...  \n6  POLYGON ((126.99600 37.56139, 126.99549 37.565...  ",
      "text/html": "<div>\n<style scoped>\n    .dataframe tbody tr th:only-of-type {\n        vertical-align: middle;\n    }\n\n    .dataframe tbody tr th {\n        vertical-align: top;\n    }\n\n    .dataframe thead th {\n        text-align: right;\n    }\n</style>\n<table border=\"1\" class=\"dataframe\">\n  <thead>\n    <tr style=\"text-align: right;\">\n      <th></th>\n      <th>h3</th>\n      <th>demand_cnt</th>\n      <th>geometry</th>\n    </tr>\n  </thead>\n  <tbody>\n    <tr>\n      <th>0</th>\n      <td>8830e1d887fffff</td>\n      <td>1000</td>\n      <td>POLYGON ((127.00544 37.54880, 127.00493 37.553...</td>\n    </tr>\n    <tr>\n      <th>1</th>\n      <td>8830e1d883fffff</td>\n      <td>4000</td>\n      <td>POLYGON ((127.00862 37.55554, 127.00811 37.559...</td>\n    </tr>\n    <tr>\n      <th>2</th>\n      <td>8830e1d881fffff</td>\n      <td>1000</td>\n      <td>POLYGON ((127.00072 37.55510, 127.00021 37.559...</td>\n    </tr>\n    <tr>\n      <th>3</th>\n      <td>8830e1d88bfffff</td>\n      <td>2000</td>\n      <td>POLYGON ((127.00390 37.56184, 127.00339 37.566...</td>\n    </tr>\n    <tr>\n      <th>4</th>\n      <td>8830e1d885fffff</td>\n      <td>1000</td>\n      <td>POLYGON ((126.99755 37.54836, 126.99703 37.552...</td>\n    </tr>\n    <tr>\n      <th>5</th>\n      <td>8830e1d88dfffff</td>\n      <td>6000</td>\n      <td>POLYGON ((126.99282 37.55466, 126.99231 37.559...</td>\n    </tr>\n    <tr>\n      <th>6</th>\n      <td>8830e1d889fffff</td>\n      <td>5000</td>\n      <td>POLYGON ((126.99600 37.56139, 126.99549 37.565...</td>\n    </tr>\n  </tbody>\n</table>\n</div>"
     },
     "execution_count": 77,
     "metadata": {},
     "output_type": "execute_result"
    }
   ],
   "source": [
    "# 데이터프레임을 생성합니다\n",
    "df = gpd.GeoDataFrame( {'h3': namsan_h3_children,\n",
    "                       'demand_cnt': dummy_demand})\n",
    "\n",
    "df['geometry'] = df['h3'].apply(make_polygon)\n",
    "df.crs = {'init': 'epsg:4326'}\n",
    "\n",
    "df"
   ],
   "metadata": {
    "collapsed": false,
    "ExecuteTime": {
     "end_time": "2023-09-20T02:59:25.889436800Z",
     "start_time": "2023-09-20T02:59:25.858448200Z"
    }
   }
  },
  {
   "cell_type": "code",
   "execution_count": 78,
   "outputs": [
    {
     "data": {
      "text/plain": "<folium.folium.Map at 0x1e7bdc2c750>",
      "text/html": "<div style=\"width:100%;\"><div style=\"position:relative;width:100%;height:0;padding-bottom:60%;\"><span style=\"color:#565656\">Make this Notebook Trusted to load map: File -> Trust Notebook</span><iframe srcdoc=\"&lt;!DOCTYPE html&gt;\n&lt;html&gt;\n&lt;head&gt;\n    \n    &lt;meta http-equiv=&quot;content-type&quot; content=&quot;text/html; charset=UTF-8&quot; /&gt;\n    \n        &lt;script&gt;\n            L_NO_TOUCH = false;\n            L_DISABLE_3D = false;\n        &lt;/script&gt;\n    \n    &lt;style&gt;html, body {width: 100%;height: 100%;margin: 0;padding: 0;}&lt;/style&gt;\n    &lt;style&gt;#map {position:absolute;top:0;bottom:0;right:0;left:0;}&lt;/style&gt;\n    &lt;script src=&quot;https://cdn.jsdelivr.net/npm/leaflet@1.9.3/dist/leaflet.js&quot;&gt;&lt;/script&gt;\n    &lt;script src=&quot;https://code.jquery.com/jquery-1.12.4.min.js&quot;&gt;&lt;/script&gt;\n    &lt;script src=&quot;https://cdn.jsdelivr.net/npm/bootstrap@5.2.2/dist/js/bootstrap.bundle.min.js&quot;&gt;&lt;/script&gt;\n    &lt;script src=&quot;https://cdnjs.cloudflare.com/ajax/libs/Leaflet.awesome-markers/2.0.2/leaflet.awesome-markers.js&quot;&gt;&lt;/script&gt;\n    &lt;link rel=&quot;stylesheet&quot; href=&quot;https://cdn.jsdelivr.net/npm/leaflet@1.9.3/dist/leaflet.css&quot;/&gt;\n    &lt;link rel=&quot;stylesheet&quot; href=&quot;https://cdn.jsdelivr.net/npm/bootstrap@5.2.2/dist/css/bootstrap.min.css&quot;/&gt;\n    &lt;link rel=&quot;stylesheet&quot; href=&quot;https://netdna.bootstrapcdn.com/bootstrap/3.0.0/css/bootstrap.min.css&quot;/&gt;\n    &lt;link rel=&quot;stylesheet&quot; href=&quot;https://cdn.jsdelivr.net/npm/@fortawesome/fontawesome-free@6.2.0/css/all.min.css&quot;/&gt;\n    &lt;link rel=&quot;stylesheet&quot; href=&quot;https://cdnjs.cloudflare.com/ajax/libs/Leaflet.awesome-markers/2.0.2/leaflet.awesome-markers.css&quot;/&gt;\n    &lt;link rel=&quot;stylesheet&quot; href=&quot;https://cdn.jsdelivr.net/gh/python-visualization/folium/folium/templates/leaflet.awesome.rotate.min.css&quot;/&gt;\n    \n            &lt;meta name=&quot;viewport&quot; content=&quot;width=device-width,\n                initial-scale=1.0, maximum-scale=1.0, user-scalable=no&quot; /&gt;\n            &lt;style&gt;\n                #map_24e0691b0e0b38abf240ab85b7b07e84 {\n                    position: relative;\n                    width: 100.0%;\n                    height: 100.0%;\n                    left: 0.0%;\n                    top: 0.0%;\n                }\n                .leaflet-container { font-size: 1rem; }\n            &lt;/style&gt;\n        \n    \n                    &lt;style&gt;\n                        .foliumtooltip {\n                            \n                        }\n                       .foliumtooltip table{\n                            margin: auto;\n                        }\n                        .foliumtooltip tr{\n                            text-align: left;\n                        }\n                        .foliumtooltip th{\n                            padding: 2px; padding-right: 8px;\n                        }\n                    &lt;/style&gt;\n            \n&lt;/head&gt;\n&lt;body&gt;\n    \n    \n            &lt;div class=&quot;folium-map&quot; id=&quot;map_24e0691b0e0b38abf240ab85b7b07e84&quot; &gt;&lt;/div&gt;\n        \n&lt;/body&gt;\n&lt;script&gt;\n    \n    \n            var map_24e0691b0e0b38abf240ab85b7b07e84 = L.map(\n                &quot;map_24e0691b0e0b38abf240ab85b7b07e84&quot;,\n                {\n                    center: [37.56421, 127.0016],\n                    crs: L.CRS.EPSG3857,\n                    zoom: 12,\n                    zoomControl: true,\n                    preferCanvas: false,\n                }\n            );\n\n            \n\n        \n    \n            var tile_layer_4e6d7defdd16e57528c8c271926bf8c6 = L.tileLayer(\n                &quot;https://{s}.tile.openstreetmap.org/{z}/{x}/{y}.png&quot;,\n                {&quot;attribution&quot;: &quot;Data by \\u0026copy; \\u003ca target=\\&quot;_blank\\&quot; href=\\&quot;http://openstreetmap.org\\&quot;\\u003eOpenStreetMap\\u003c/a\\u003e, under \\u003ca target=\\&quot;_blank\\&quot; href=\\&quot;http://www.openstreetmap.org/copyright\\&quot;\\u003eODbL\\u003c/a\\u003e.&quot;, &quot;detectRetina&quot;: false, &quot;maxNativeZoom&quot;: 18, &quot;maxZoom&quot;: 18, &quot;minZoom&quot;: 0, &quot;noWrap&quot;: false, &quot;opacity&quot;: 1, &quot;subdomains&quot;: &quot;abc&quot;, &quot;tms&quot;: false}\n            ).addTo(map_24e0691b0e0b38abf240ab85b7b07e84);\n        \n    \n\n        function geo_json_e70f206f03180560637b549c9765492e_onEachFeature(feature, layer) {\n            layer.on({\n            });\n        };\n        var geo_json_e70f206f03180560637b549c9765492e = L.geoJson(null, {\n                onEachFeature: geo_json_e70f206f03180560637b549c9765492e_onEachFeature,\n            \n        });\n\n        function geo_json_e70f206f03180560637b549c9765492e_add (data) {\n            geo_json_e70f206f03180560637b549c9765492e\n                .addData(data)\n                .addTo(map_24e0691b0e0b38abf240ab85b7b07e84);\n        }\n            geo_json_e70f206f03180560637b549c9765492e_add({&quot;bbox&quot;: [126.98441249279733, 37.54597014465024, 127.00862216384638, 37.56813029875324], &quot;features&quot;: [{&quot;bbox&quot;: [126.99703117662271, 37.54641202591292, 127.00544402360785, 37.55509927342113], &quot;geometry&quot;: {&quot;coordinates&quot;: [[[127.00544402360785, 37.5488046865544], [127.00492960324243, 37.55314848778893], [127.0007228892236, 37.55509927342113], [126.99703117662271, 37.55270630458062], [126.99754603714231, 37.54836285830106], [127.00175217015295, 37.54641202591292], [127.00544402360785, 37.5488046865544]]], &quot;type&quot;: &quot;Polygon&quot;}, &quot;id&quot;: &quot;0&quot;, &quot;properties&quot;: {&quot;demand_cnt&quot;: 1000, &quot;h3&quot;: &quot;8830e1d887fffff&quot;}, &quot;type&quot;: &quot;Feature&quot;}, {&quot;bbox&quot;: [127.00020815471062, 37.55314848778893, 127.00862216384638, 37.561836151975754], &quot;geometry&quot;: {&quot;coordinates&quot;: [[[127.00862216384638, 37.555541403538875], [127.00810786964165, 37.559885413112625], [127.00390057448038, 37.561836151975754], [127.00020815471062, 37.55944292804004], [127.0007228892236, 37.55509927342113], [127.00492960324243, 37.55314848778893], [127.00862216384638, 37.555541403538875]]], &quot;type&quot;: &quot;Polygon&quot;}, &quot;id&quot;: &quot;1&quot;, &quot;properties&quot;: {&quot;demand_cnt&quot;: 4000, &quot;h3&quot;: &quot;8830e1d883fffff&quot;}, &quot;type&quot;: &quot;Feature&quot;}, {&quot;bbox&quot;: [126.9923096957623, 37.55270630458062, 127.0007228892236, 37.561393258830336], &quot;geometry&quot;: {&quot;coordinates&quot;: [[[127.0007228892236, 37.55509927342113], [127.00020815471062, 37.55944292804004], [126.99600126741025, 37.561393258830336], [126.9923096957623, 37.55899998185792], [126.99282487041748, 37.55465668222118], [126.99703117662271, 37.55270630458062], [127.0007228892236, 37.55509927342113]]], &quot;type&quot;: &quot;Polygon&quot;}, &quot;id&quot;: &quot;2&quot;, &quot;properties&quot;: {&quot;demand_cnt&quot;: 1000, &quot;h3&quot;: &quot;8830e1d881fffff&quot;}, &quot;type&quot;: &quot;Feature&quot;}, {&quot;bbox&quot;: [126.99548621869458, 37.55944292804004, 127.00390057448038, 37.56813029875324], &quot;geometry&quot;: {&quot;coordinates&quot;: [[[127.00390057448038, 37.561836151975754], [127.003385966061, 37.56618001482632], [126.99917849753122, 37.56813029875324], [126.99548621869458, 37.56573676669885], [126.99600126741025, 37.561393258830336], [127.00020815471062, 37.55944292804004], [127.00390057448038, 37.561836151975754]]], &quot;type&quot;: &quot;Polygon&quot;}, &quot;id&quot;: &quot;3&quot;, &quot;properties&quot;: {&quot;demand_cnt&quot;: 2000, &quot;h3&quot;: &quot;8830e1d88bfffff&quot;}, &quot;type&quot;: &quot;Feature&quot;}, {&quot;bbox&quot;: [126.98913400573701, 37.54597014465024, 126.99754603714231, 37.55465668222118], &quot;geometry&quot;: {&quot;coordinates&quot;: [[[126.99754603714231, 37.54836285830106], [126.99703117662271, 37.55270630458062], [126.99282487041748, 37.55465668222118], [126.98913400573701, 37.55226366042522], [126.98964930624477, 37.547920569127925], [126.99385503148913, 37.54597014465024], [126.99754603714231, 37.54836285830106]]], &quot;type&quot;: &quot;Polygon&quot;}, &quot;id&quot;: &quot;4&quot;, &quot;properties&quot;: {&quot;demand_cnt&quot;: 1000, &quot;h3&quot;: &quot;8830e1d885fffff&quot;}, &quot;type&quot;: &quot;Feature&quot;}, {&quot;bbox&quot;: [126.98441249279733, 37.55226366042522, 126.99282487041748, 37.56094990468332], &quot;geometry&quot;: {&quot;coordinates&quot;: [[[126.99282487041748, 37.55465668222118], [126.9923096957623, 37.55899998185792], [126.9881032164062, 37.56094990468332], [126.98441249279733, 37.558556574809394], [126.98492810742864, 37.55421363018209], [126.98913400573701, 37.55226366042522], [126.99282487041748, 37.55465668222118]]], &quot;type&quot;: &quot;Polygon&quot;}, &quot;id&quot;: &quot;5&quot;, &quot;properties&quot;: {&quot;demand_cnt&quot;: 6000, &quot;h3&quot;: &quot;8830e1d88dfffff&quot;}, &quot;type&quot;: &quot;Feature&quot;}, {&quot;bbox&quot;: [126.98758772756037, 37.55899998185792, 126.99600126741025, 37.5676866425797], &quot;geometry&quot;: {&quot;coordinates&quot;: [[[126.99600126741025, 37.561393258830336], [126.99548621869458, 37.56573676669885], [126.99127915815644, 37.5676866425797], [126.98758772756037, 37.56529305754251], [126.9881032164062, 37.56094990468332], [126.9923096957623, 37.55899998185792], [126.99600126741025, 37.561393258830336]]], &quot;type&quot;: &quot;Polygon&quot;}, &quot;id&quot;: &quot;6&quot;, &quot;properties&quot;: {&quot;demand_cnt&quot;: 5000, &quot;h3&quot;: &quot;8830e1d889fffff&quot;}, &quot;type&quot;: &quot;Feature&quot;}], &quot;type&quot;: &quot;FeatureCollection&quot;});\n\n        \n    \n    geo_json_e70f206f03180560637b549c9765492e.bindTooltip(\n    function(layer){\n    let div = L.DomUtil.create(&#x27;div&#x27;);\n    \n    let handleObject = feature=&gt;typeof(feature)==&#x27;object&#x27; ? JSON.stringify(feature) : feature;\n    let fields = [&quot;demand_cnt&quot;, &quot;h3&quot;];\n    let aliases = [&quot;demand_cnt&quot;, &quot;h3&quot;];\n    let table = &#x27;&lt;table&gt;&#x27; +\n        String(\n        fields.map(\n        (v,i)=&gt;\n        `&lt;tr&gt;\n            &lt;th&gt;${aliases[i]}&lt;/th&gt;\n            \n            &lt;td&gt;${handleObject(layer.feature.properties[v])}&lt;/td&gt;\n        &lt;/tr&gt;`).join(&#x27;&#x27;))\n    +&#x27;&lt;/table&gt;&#x27;;\n    div.innerHTML=table;\n    \n    return div\n    }\n    ,{&quot;className&quot;: &quot;foliumtooltip&quot;, &quot;sticky&quot;: true});\n                     \n&lt;/script&gt;\n&lt;/html&gt;\" style=\"position:absolute;width:100%;height:100%;left:0;top:0;border:none !important;\" allowfullscreen webkitallowfullscreen mozallowfullscreen></iframe></div></div>"
     },
     "execution_count": 78,
     "metadata": {},
     "output_type": "execute_result"
    }
   ],
   "source": [
    "m = folium.Map([namsan_lat, namsan_lng], zoom_start=12)\n",
    "\n",
    "tootip = folium.GeoJsonTooltip(fields=['demand_cnt', 'h3'])\n",
    "folium.GeoJson(df, tooltip = tootip).add_to(m)\n",
    "\n",
    "m\n",
    "\n",
    "# 아래와 같이 H3 별 정보를 담은 툴팁이 생겼습니다."
   ],
   "metadata": {
    "collapsed": false,
    "ExecuteTime": {
     "end_time": "2023-09-20T02:59:37.019511100Z",
     "start_time": "2023-09-20T02:59:36.924814900Z"
    }
   }
  },
  {
   "cell_type": "code",
   "execution_count": null,
   "outputs": [],
   "source": [
    "."
   ],
   "metadata": {
    "collapsed": false
   }
  }
 ],
 "metadata": {
  "kernelspec": {
   "display_name": "Python 3",
   "language": "python",
   "name": "python3"
  },
  "language_info": {
   "codemirror_mode": {
    "name": "ipython",
    "version": 2
   },
   "file_extension": ".py",
   "mimetype": "text/x-python",
   "name": "python",
   "nbconvert_exporter": "python",
   "pygments_lexer": "ipython2",
   "version": "2.7.6"
  }
 },
 "nbformat": 4,
 "nbformat_minor": 0
}
