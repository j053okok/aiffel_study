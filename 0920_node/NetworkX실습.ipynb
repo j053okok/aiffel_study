{
 "cells": [
  {
   "cell_type": "code",
   "execution_count": 1,
   "metadata": {
    "collapsed": true,
    "ExecuteTime": {
     "end_time": "2023-09-20T03:50:31.198413600Z",
     "start_time": "2023-09-20T03:50:30.916279300Z"
    }
   },
   "outputs": [],
   "source": [
    "import pandas as pd\n",
    "import re\n",
    "import networkx as nx\n",
    "from pyvis.network import Network\n",
    "from itertools import combinations"
   ]
  },
  {
   "cell_type": "code",
   "execution_count": 2,
   "outputs": [
    {
     "data": {
      "text/plain": "   accident_id                                               memo\n0            1  - 운전자 : 본인\\n- 사고장소 : 화곡3동\\n- 사고경위 : 좌회전신호 받고 차...\n1            2  - 운전자 : 본인 \\n- 사고장소 : 12:54 \\n- 사고경위 : 인천공항 주차...\n2            3  - 운전자 : 본인\\n- 사고장소 : 17:20 홍제3동\\n- 사고경위 : 주차된 ...\n3            4  - 대차정보 : 김그린 010-0000-0003 / 동승자-배우자 기블루 \\n#대인...\n4            5  - 운전자 : 본인 (동승자 1인)\\n- 사고장소 : 삼방동\\n- 사고경위 : 자차...",
      "text/html": "<div>\n<style scoped>\n    .dataframe tbody tr th:only-of-type {\n        vertical-align: middle;\n    }\n\n    .dataframe tbody tr th {\n        vertical-align: top;\n    }\n\n    .dataframe thead th {\n        text-align: right;\n    }\n</style>\n<table border=\"1\" class=\"dataframe\">\n  <thead>\n    <tr style=\"text-align: right;\">\n      <th></th>\n      <th>accident_id</th>\n      <th>memo</th>\n    </tr>\n  </thead>\n  <tbody>\n    <tr>\n      <th>0</th>\n      <td>1</td>\n      <td>- 운전자 : 본인\\n- 사고장소 : 화곡3동\\n- 사고경위 : 좌회전신호 받고 차...</td>\n    </tr>\n    <tr>\n      <th>1</th>\n      <td>2</td>\n      <td>- 운전자 : 본인 \\n- 사고장소 : 12:54 \\n- 사고경위 : 인천공항 주차...</td>\n    </tr>\n    <tr>\n      <th>2</th>\n      <td>3</td>\n      <td>- 운전자 : 본인\\n- 사고장소 : 17:20 홍제3동\\n- 사고경위 : 주차된 ...</td>\n    </tr>\n    <tr>\n      <th>3</th>\n      <td>4</td>\n      <td>- 대차정보 : 김그린 010-0000-0003 / 동승자-배우자 기블루 \\n#대인...</td>\n    </tr>\n    <tr>\n      <th>4</th>\n      <td>5</td>\n      <td>- 운전자 : 본인 (동승자 1인)\\n- 사고장소 : 삼방동\\n- 사고경위 : 자차...</td>\n    </tr>\n  </tbody>\n</table>\n</div>"
     },
     "execution_count": 2,
     "metadata": {},
     "output_type": "execute_result"
    }
   ],
   "source": [
    "df = pd.read_csv(\"ch3_regex_sample_v2.csv\")\n",
    "df.head()"
   ],
   "metadata": {
    "collapsed": false,
    "ExecuteTime": {
     "end_time": "2023-09-20T03:51:05.771599800Z",
     "start_time": "2023-09-20T03:51:05.734390300Z"
    }
   }
  },
  {
   "cell_type": "code",
   "execution_count": 3,
   "outputs": [
    {
     "data": {
      "text/plain": "['010-0000-0013', '010-0000-0007']"
     },
     "execution_count": 3,
     "metadata": {},
     "output_type": "execute_result"
    }
   ],
   "source": [
    "# 전화번호 추출\n",
    "re.findall('[0-9]{3}-?[0-9]{4}-?[0-9]{4}', df.memo[1])"
   ],
   "metadata": {
    "collapsed": false,
    "ExecuteTime": {
     "end_time": "2023-09-20T03:51:17.760630200Z",
     "start_time": "2023-09-20T03:51:17.744633600Z"
    }
   }
  },
  {
   "cell_type": "code",
   "execution_count": 4,
   "outputs": [],
   "source": [
    "# '보험', '현장' 등이 포함된 문장은 전화번호 추출에서 제거 (노이즈 제거)\n",
    "# memo 에서 문자열을 찾는 함수를 작성합니다\n",
    "def find_number(memo):\n",
    "    result = []\n",
    "    for sentence in memo.split('\\n'):\n",
    "\n",
    "        if '보험' in sentence or '현장' in sentence:  # 보험 직원, 현장 출동 기사의 정보는 제외합니다.\n",
    "            continue\n",
    "        else:\n",
    "            extracted_numbers = re.findall('[0-9]{3}-?[0-9]{4}-?[0-9]{4}', sentence) # 번호를 리스트 형식으로 받음\n",
    "            extracted_numbers = list(map(lambda x: x.replace('-', ''), extracted_numbers)) # 번호의 - 를 없애는 작업\n",
    "            result.append(extracted_numbers[0]) if len(extracted_numbers) > 0 else '' # 길이가 0보다 크면 추가, 아니면 공백 추가\n",
    "\n",
    "    return result\n",
    "\n",
    "\n",
    "df['number_involved'] = df['memo'].apply(lambda x: find_number(x))"
   ],
   "metadata": {
    "collapsed": false,
    "ExecuteTime": {
     "end_time": "2023-09-20T03:51:58.284891300Z",
     "start_time": "2023-09-20T03:51:58.253403400Z"
    }
   }
  },
  {
   "cell_type": "code",
   "execution_count": 5,
   "outputs": [
    {
     "data": {
      "text/plain": "   accident_id                                               memo  \\\n0            1  - 운전자 : 본인\\n- 사고장소 : 화곡3동\\n- 사고경위 : 좌회전신호 받고 차...   \n1            2  - 운전자 : 본인 \\n- 사고장소 : 12:54 \\n- 사고경위 : 인천공항 주차...   \n2            3  - 운전자 : 본인\\n- 사고장소 : 17:20 홍제3동\\n- 사고경위 : 주차된 ...   \n3            4  - 대차정보 : 김그린 010-0000-0003 / 동승자-배우자 기블루 \\n#대인...   \n4            5  - 운전자 : 본인 (동승자 1인)\\n- 사고장소 : 삼방동\\n- 사고경위 : 자차...   \n\n              number_involved  \n0                          []  \n1  [01000000013, 01000000007]  \n2                          []  \n3               [01000000003]  \n4               [01000000098]  ",
      "text/html": "<div>\n<style scoped>\n    .dataframe tbody tr th:only-of-type {\n        vertical-align: middle;\n    }\n\n    .dataframe tbody tr th {\n        vertical-align: top;\n    }\n\n    .dataframe thead th {\n        text-align: right;\n    }\n</style>\n<table border=\"1\" class=\"dataframe\">\n  <thead>\n    <tr style=\"text-align: right;\">\n      <th></th>\n      <th>accident_id</th>\n      <th>memo</th>\n      <th>number_involved</th>\n    </tr>\n  </thead>\n  <tbody>\n    <tr>\n      <th>0</th>\n      <td>1</td>\n      <td>- 운전자 : 본인\\n- 사고장소 : 화곡3동\\n- 사고경위 : 좌회전신호 받고 차...</td>\n      <td>[]</td>\n    </tr>\n    <tr>\n      <th>1</th>\n      <td>2</td>\n      <td>- 운전자 : 본인 \\n- 사고장소 : 12:54 \\n- 사고경위 : 인천공항 주차...</td>\n      <td>[01000000013, 01000000007]</td>\n    </tr>\n    <tr>\n      <th>2</th>\n      <td>3</td>\n      <td>- 운전자 : 본인\\n- 사고장소 : 17:20 홍제3동\\n- 사고경위 : 주차된 ...</td>\n      <td>[]</td>\n    </tr>\n    <tr>\n      <th>3</th>\n      <td>4</td>\n      <td>- 대차정보 : 김그린 010-0000-0003 / 동승자-배우자 기블루 \\n#대인...</td>\n      <td>[01000000003]</td>\n    </tr>\n    <tr>\n      <th>4</th>\n      <td>5</td>\n      <td>- 운전자 : 본인 (동승자 1인)\\n- 사고장소 : 삼방동\\n- 사고경위 : 자차...</td>\n      <td>[01000000098]</td>\n    </tr>\n  </tbody>\n</table>\n</div>"
     },
     "execution_count": 5,
     "metadata": {},
     "output_type": "execute_result"
    }
   ],
   "source": [
    "df.head()"
   ],
   "metadata": {
    "collapsed": false,
    "ExecuteTime": {
     "end_time": "2023-09-20T03:52:24.925388800Z",
     "start_time": "2023-09-20T03:52:24.906511100Z"
    }
   }
  },
  {
   "cell_type": "markdown",
   "source": [
    "### 전화번호 조합 만들기\n",
    "* 사람이 노드가 되고, 두 사람이 같은 사고에 연결되어 있다면 두 사람은 엣지(관계)를 갖는다고 할 수 있음."
   ],
   "metadata": {
    "collapsed": false
   }
  },
  {
   "cell_type": "code",
   "execution_count": 6,
   "outputs": [],
   "source": [
    "# combination 을 이용하여 번호들의 조합을 만듭니다.\n",
    "def make_combination(involved_number):\n",
    "    return list(combinations(involved_number, 2))\n",
    "\n",
    "\n",
    "df['number_combinations'] = df['number_involved'].apply(lambda x: make_combination(x))"
   ],
   "metadata": {
    "collapsed": false,
    "ExecuteTime": {
     "end_time": "2023-09-20T03:55:35.804722400Z",
     "start_time": "2023-09-20T03:55:35.773003700Z"
    }
   }
  },
  {
   "cell_type": "code",
   "execution_count": 7,
   "outputs": [
    {
     "data": {
      "text/plain": "    accident_id                                               memo  \\\n31           32  - 운전자 : 본인 \\n- 사고장소 : 12:54 \\n- 사고경위 : 인천공항 주차...   \n32           33  - 운전자 : 김용산(01000000050)\\n- 사고장소 : 용산구\\n- 사고경위...   \n33           34  - 운전자 : 김용산(01000000070)\\n- 사고장소 : 용인 \\n- 사고경위...   \n34           35  - 운전자 : 김용산(01000000072)\\n- 사고장소 : 용산구\\n- 사고경위...   \n35           36  - 운전자 : 본인 (동승자 1인)\\n- 사고장소 : 삼방동\\n- 사고경위 : 자차...   \n\n                            number_involved  \\\n31               [01000000009, 01000000007]   \n32  [01000000050, 01000000034, 01000000035]   \n33               [01000000070, 01000000071]   \n34               [01000000072, 01000000073]   \n35               [01000000050, 01000000009]   \n\n                                  number_combinations  \n31                       [(01000000009, 01000000007)]  \n32  [(01000000050, 01000000034), (01000000050, 010...  \n33                       [(01000000070, 01000000071)]  \n34                       [(01000000072, 01000000073)]  \n35                       [(01000000050, 01000000009)]  ",
      "text/html": "<div>\n<style scoped>\n    .dataframe tbody tr th:only-of-type {\n        vertical-align: middle;\n    }\n\n    .dataframe tbody tr th {\n        vertical-align: top;\n    }\n\n    .dataframe thead th {\n        text-align: right;\n    }\n</style>\n<table border=\"1\" class=\"dataframe\">\n  <thead>\n    <tr style=\"text-align: right;\">\n      <th></th>\n      <th>accident_id</th>\n      <th>memo</th>\n      <th>number_involved</th>\n      <th>number_combinations</th>\n    </tr>\n  </thead>\n  <tbody>\n    <tr>\n      <th>31</th>\n      <td>32</td>\n      <td>- 운전자 : 본인 \\n- 사고장소 : 12:54 \\n- 사고경위 : 인천공항 주차...</td>\n      <td>[01000000009, 01000000007]</td>\n      <td>[(01000000009, 01000000007)]</td>\n    </tr>\n    <tr>\n      <th>32</th>\n      <td>33</td>\n      <td>- 운전자 : 김용산(01000000050)\\n- 사고장소 : 용산구\\n- 사고경위...</td>\n      <td>[01000000050, 01000000034, 01000000035]</td>\n      <td>[(01000000050, 01000000034), (01000000050, 010...</td>\n    </tr>\n    <tr>\n      <th>33</th>\n      <td>34</td>\n      <td>- 운전자 : 김용산(01000000070)\\n- 사고장소 : 용인 \\n- 사고경위...</td>\n      <td>[01000000070, 01000000071]</td>\n      <td>[(01000000070, 01000000071)]</td>\n    </tr>\n    <tr>\n      <th>34</th>\n      <td>35</td>\n      <td>- 운전자 : 김용산(01000000072)\\n- 사고장소 : 용산구\\n- 사고경위...</td>\n      <td>[01000000072, 01000000073]</td>\n      <td>[(01000000072, 01000000073)]</td>\n    </tr>\n    <tr>\n      <th>35</th>\n      <td>36</td>\n      <td>- 운전자 : 본인 (동승자 1인)\\n- 사고장소 : 삼방동\\n- 사고경위 : 자차...</td>\n      <td>[01000000050, 01000000009]</td>\n      <td>[(01000000050, 01000000009)]</td>\n    </tr>\n  </tbody>\n</table>\n</div>"
     },
     "execution_count": 7,
     "metadata": {},
     "output_type": "execute_result"
    }
   ],
   "source": [
    "df.tail()"
   ],
   "metadata": {
    "collapsed": false,
    "ExecuteTime": {
     "end_time": "2023-09-20T03:55:41.619908300Z",
     "start_time": "2023-09-20T03:55:41.604080100Z"
    }
   }
  },
  {
   "cell_type": "code",
   "execution_count": 8,
   "outputs": [
    {
     "name": "stdout",
     "output_type": "stream",
     "text": [
      "[['01000000013', '01000000007'], ['01000000008', '01000000004'], ['01000000008', '01000000010'], ['01000000004', '01000000010'], ['01000000011', '01000000012'], ['01000000011', '01000000013'], ['01000000012', '01000000013'], ['01000000014', '01000000015'], ['01000000014', '01000000016'], ['01000000015', '01000000016']]\n"
     ]
    }
   ],
   "source": [
    "# list 에 pair 를 담습니다.\n",
    "numbers_pair = []\n",
    "for idx, row in df.iterrows():\n",
    "    for comb in row['number_combinations']:\n",
    "        numbers_pair.append(list(comb))\n",
    "\n",
    "print(numbers_pair[:10])"
   ],
   "metadata": {
    "collapsed": false,
    "ExecuteTime": {
     "end_time": "2023-09-20T03:56:18.321612200Z",
     "start_time": "2023-09-20T03:56:18.305906800Z"
    }
   }
  },
  {
   "cell_type": "code",
   "execution_count": 10,
   "outputs": [
    {
     "data": {
      "text/plain": "             p1           p2  freq\n0   01000000013  01000000007     1\n1   01000000008  01000000004     1\n2   01000000008  01000000010     1\n3   01000000004  01000000010     1\n4   01000000011  01000000012     1\n5   01000000011  01000000013     1\n6   01000000012  01000000013     1\n7   01000000014  01000000015     1\n8   01000000014  01000000016     1\n9   01000000015  01000000016     1\n10  01000000011  01000000019     1\n11  01000000011  01000000020     1\n12  01000000011  01000000021     1\n13  01000000019  01000000020     1\n14  01000000019  01000000021     1\n15  01000000020  01000000021     1\n16  01000000011  01000000013     1\n17  01000000026  01000000027     1\n18  01000000031  01000000032     1\n19  01000000033  01000000034     1\n20  01000000033  01000000035     1\n21  01000000034  01000000035     1\n22  01000000009  01000000007     1\n23  01000000050  01000000034     1\n24  01000000050  01000000035     1\n25  01000000034  01000000035     1\n26  01000000070  01000000071     1\n27  01000000072  01000000073     1\n28  01000000050  01000000009     1",
      "text/html": "<div>\n<style scoped>\n    .dataframe tbody tr th:only-of-type {\n        vertical-align: middle;\n    }\n\n    .dataframe tbody tr th {\n        vertical-align: top;\n    }\n\n    .dataframe thead th {\n        text-align: right;\n    }\n</style>\n<table border=\"1\" class=\"dataframe\">\n  <thead>\n    <tr style=\"text-align: right;\">\n      <th></th>\n      <th>p1</th>\n      <th>p2</th>\n      <th>freq</th>\n    </tr>\n  </thead>\n  <tbody>\n    <tr>\n      <th>0</th>\n      <td>01000000013</td>\n      <td>01000000007</td>\n      <td>1</td>\n    </tr>\n    <tr>\n      <th>1</th>\n      <td>01000000008</td>\n      <td>01000000004</td>\n      <td>1</td>\n    </tr>\n    <tr>\n      <th>2</th>\n      <td>01000000008</td>\n      <td>01000000010</td>\n      <td>1</td>\n    </tr>\n    <tr>\n      <th>3</th>\n      <td>01000000004</td>\n      <td>01000000010</td>\n      <td>1</td>\n    </tr>\n    <tr>\n      <th>4</th>\n      <td>01000000011</td>\n      <td>01000000012</td>\n      <td>1</td>\n    </tr>\n    <tr>\n      <th>5</th>\n      <td>01000000011</td>\n      <td>01000000013</td>\n      <td>1</td>\n    </tr>\n    <tr>\n      <th>6</th>\n      <td>01000000012</td>\n      <td>01000000013</td>\n      <td>1</td>\n    </tr>\n    <tr>\n      <th>7</th>\n      <td>01000000014</td>\n      <td>01000000015</td>\n      <td>1</td>\n    </tr>\n    <tr>\n      <th>8</th>\n      <td>01000000014</td>\n      <td>01000000016</td>\n      <td>1</td>\n    </tr>\n    <tr>\n      <th>9</th>\n      <td>01000000015</td>\n      <td>01000000016</td>\n      <td>1</td>\n    </tr>\n    <tr>\n      <th>10</th>\n      <td>01000000011</td>\n      <td>01000000019</td>\n      <td>1</td>\n    </tr>\n    <tr>\n      <th>11</th>\n      <td>01000000011</td>\n      <td>01000000020</td>\n      <td>1</td>\n    </tr>\n    <tr>\n      <th>12</th>\n      <td>01000000011</td>\n      <td>01000000021</td>\n      <td>1</td>\n    </tr>\n    <tr>\n      <th>13</th>\n      <td>01000000019</td>\n      <td>01000000020</td>\n      <td>1</td>\n    </tr>\n    <tr>\n      <th>14</th>\n      <td>01000000019</td>\n      <td>01000000021</td>\n      <td>1</td>\n    </tr>\n    <tr>\n      <th>15</th>\n      <td>01000000020</td>\n      <td>01000000021</td>\n      <td>1</td>\n    </tr>\n    <tr>\n      <th>16</th>\n      <td>01000000011</td>\n      <td>01000000013</td>\n      <td>1</td>\n    </tr>\n    <tr>\n      <th>17</th>\n      <td>01000000026</td>\n      <td>01000000027</td>\n      <td>1</td>\n    </tr>\n    <tr>\n      <th>18</th>\n      <td>01000000031</td>\n      <td>01000000032</td>\n      <td>1</td>\n    </tr>\n    <tr>\n      <th>19</th>\n      <td>01000000033</td>\n      <td>01000000034</td>\n      <td>1</td>\n    </tr>\n    <tr>\n      <th>20</th>\n      <td>01000000033</td>\n      <td>01000000035</td>\n      <td>1</td>\n    </tr>\n    <tr>\n      <th>21</th>\n      <td>01000000034</td>\n      <td>01000000035</td>\n      <td>1</td>\n    </tr>\n    <tr>\n      <th>22</th>\n      <td>01000000009</td>\n      <td>01000000007</td>\n      <td>1</td>\n    </tr>\n    <tr>\n      <th>23</th>\n      <td>01000000050</td>\n      <td>01000000034</td>\n      <td>1</td>\n    </tr>\n    <tr>\n      <th>24</th>\n      <td>01000000050</td>\n      <td>01000000035</td>\n      <td>1</td>\n    </tr>\n    <tr>\n      <th>25</th>\n      <td>01000000034</td>\n      <td>01000000035</td>\n      <td>1</td>\n    </tr>\n    <tr>\n      <th>26</th>\n      <td>01000000070</td>\n      <td>01000000071</td>\n      <td>1</td>\n    </tr>\n    <tr>\n      <th>27</th>\n      <td>01000000072</td>\n      <td>01000000073</td>\n      <td>1</td>\n    </tr>\n    <tr>\n      <th>28</th>\n      <td>01000000050</td>\n      <td>01000000009</td>\n      <td>1</td>\n    </tr>\n  </tbody>\n</table>\n</div>"
     },
     "execution_count": 10,
     "metadata": {},
     "output_type": "execute_result"
    }
   ],
   "source": [
    "# dataframe 을 생성합니다.\n",
    "network_df = pd.DataFrame(numbers_pair, columns=['p1', 'p2'])\n",
    "network_df['freq'] = 1\n",
    "network_df"
   ],
   "metadata": {
    "collapsed": false,
    "ExecuteTime": {
     "end_time": "2023-09-20T03:56:48.216462100Z",
     "start_time": "2023-09-20T03:56:48.184672200Z"
    }
   }
  },
  {
   "cell_type": "code",
   "execution_count": 11,
   "outputs": [
    {
     "data": {
      "text/plain": "             p1           p2  freq\n5   01000000011  01000000013     2\n21  01000000034  01000000035     2\n0   01000000004  01000000010     1\n14  01000000019  01000000020     1\n25  01000000070  01000000071     1\n24  01000000050  01000000035     1\n23  01000000050  01000000034     1\n22  01000000050  01000000009     1\n20  01000000033  01000000035     1\n19  01000000033  01000000034     1\n18  01000000031  01000000032     1\n17  01000000026  01000000027     1\n16  01000000020  01000000021     1\n15  01000000019  01000000021     1\n13  01000000015  01000000016     1\n1   01000000008  01000000004     1\n12  01000000014  01000000016     1\n11  01000000014  01000000015     1\n10  01000000013  01000000007     1\n9   01000000012  01000000013     1\n8   01000000011  01000000021     1\n7   01000000011  01000000020     1\n6   01000000011  01000000019     1\n4   01000000011  01000000012     1\n3   01000000009  01000000007     1\n2   01000000008  01000000010     1\n26  01000000072  01000000073     1",
      "text/html": "<div>\n<style scoped>\n    .dataframe tbody tr th:only-of-type {\n        vertical-align: middle;\n    }\n\n    .dataframe tbody tr th {\n        vertical-align: top;\n    }\n\n    .dataframe thead th {\n        text-align: right;\n    }\n</style>\n<table border=\"1\" class=\"dataframe\">\n  <thead>\n    <tr style=\"text-align: right;\">\n      <th></th>\n      <th>p1</th>\n      <th>p2</th>\n      <th>freq</th>\n    </tr>\n  </thead>\n  <tbody>\n    <tr>\n      <th>5</th>\n      <td>01000000011</td>\n      <td>01000000013</td>\n      <td>2</td>\n    </tr>\n    <tr>\n      <th>21</th>\n      <td>01000000034</td>\n      <td>01000000035</td>\n      <td>2</td>\n    </tr>\n    <tr>\n      <th>0</th>\n      <td>01000000004</td>\n      <td>01000000010</td>\n      <td>1</td>\n    </tr>\n    <tr>\n      <th>14</th>\n      <td>01000000019</td>\n      <td>01000000020</td>\n      <td>1</td>\n    </tr>\n    <tr>\n      <th>25</th>\n      <td>01000000070</td>\n      <td>01000000071</td>\n      <td>1</td>\n    </tr>\n    <tr>\n      <th>24</th>\n      <td>01000000050</td>\n      <td>01000000035</td>\n      <td>1</td>\n    </tr>\n    <tr>\n      <th>23</th>\n      <td>01000000050</td>\n      <td>01000000034</td>\n      <td>1</td>\n    </tr>\n    <tr>\n      <th>22</th>\n      <td>01000000050</td>\n      <td>01000000009</td>\n      <td>1</td>\n    </tr>\n    <tr>\n      <th>20</th>\n      <td>01000000033</td>\n      <td>01000000035</td>\n      <td>1</td>\n    </tr>\n    <tr>\n      <th>19</th>\n      <td>01000000033</td>\n      <td>01000000034</td>\n      <td>1</td>\n    </tr>\n    <tr>\n      <th>18</th>\n      <td>01000000031</td>\n      <td>01000000032</td>\n      <td>1</td>\n    </tr>\n    <tr>\n      <th>17</th>\n      <td>01000000026</td>\n      <td>01000000027</td>\n      <td>1</td>\n    </tr>\n    <tr>\n      <th>16</th>\n      <td>01000000020</td>\n      <td>01000000021</td>\n      <td>1</td>\n    </tr>\n    <tr>\n      <th>15</th>\n      <td>01000000019</td>\n      <td>01000000021</td>\n      <td>1</td>\n    </tr>\n    <tr>\n      <th>13</th>\n      <td>01000000015</td>\n      <td>01000000016</td>\n      <td>1</td>\n    </tr>\n    <tr>\n      <th>1</th>\n      <td>01000000008</td>\n      <td>01000000004</td>\n      <td>1</td>\n    </tr>\n    <tr>\n      <th>12</th>\n      <td>01000000014</td>\n      <td>01000000016</td>\n      <td>1</td>\n    </tr>\n    <tr>\n      <th>11</th>\n      <td>01000000014</td>\n      <td>01000000015</td>\n      <td>1</td>\n    </tr>\n    <tr>\n      <th>10</th>\n      <td>01000000013</td>\n      <td>01000000007</td>\n      <td>1</td>\n    </tr>\n    <tr>\n      <th>9</th>\n      <td>01000000012</td>\n      <td>01000000013</td>\n      <td>1</td>\n    </tr>\n    <tr>\n      <th>8</th>\n      <td>01000000011</td>\n      <td>01000000021</td>\n      <td>1</td>\n    </tr>\n    <tr>\n      <th>7</th>\n      <td>01000000011</td>\n      <td>01000000020</td>\n      <td>1</td>\n    </tr>\n    <tr>\n      <th>6</th>\n      <td>01000000011</td>\n      <td>01000000019</td>\n      <td>1</td>\n    </tr>\n    <tr>\n      <th>4</th>\n      <td>01000000011</td>\n      <td>01000000012</td>\n      <td>1</td>\n    </tr>\n    <tr>\n      <th>3</th>\n      <td>01000000009</td>\n      <td>01000000007</td>\n      <td>1</td>\n    </tr>\n    <tr>\n      <th>2</th>\n      <td>01000000008</td>\n      <td>01000000010</td>\n      <td>1</td>\n    </tr>\n    <tr>\n      <th>26</th>\n      <td>01000000072</td>\n      <td>01000000073</td>\n      <td>1</td>\n    </tr>\n  </tbody>\n</table>\n</div>"
     },
     "execution_count": 11,
     "metadata": {},
     "output_type": "execute_result"
    }
   ],
   "source": [
    "# 2회 연루된 사람에게는 weight 을 더 크게 줍니다.\n",
    "network_df = network_df.groupby(by=['p1','p2'], as_index=False).sum('Weight').sort_values(by='freq', ascending=False )\n",
    "network_df"
   ],
   "metadata": {
    "collapsed": false,
    "ExecuteTime": {
     "end_time": "2023-09-20T03:57:07.411002500Z",
     "start_time": "2023-09-20T03:57:07.385972400Z"
    }
   }
  },
  {
   "cell_type": "markdown",
   "source": [
    "### 시각화 하기"
   ],
   "metadata": {
    "collapsed": false
   }
  },
  {
   "cell_type": "code",
   "execution_count": 12,
   "outputs": [
    {
     "name": "stdout",
     "output_type": "stream",
     "text": [
      "Warning: When  cdn_resources is 'local' jupyter notebook has issues displaying graphics on chrome/safari. Use cdn_resources='in_line' or cdn_resources='remote' if you have issues viewing graphics in a notebook.\n"
     ]
    }
   ],
   "source": [
    "g = Network(notebook=True)\n",
    "\n",
    "for index, row in network_df.iterrows():\n",
    "    g.add_node(row['p1'])\n",
    "    g.add_node(row['p2'])\n",
    "    g.add_edge(row['p1'], row['p2'], value=row['freq'], title='freq')"
   ],
   "metadata": {
    "collapsed": false,
    "ExecuteTime": {
     "end_time": "2023-09-20T03:57:55.978947700Z",
     "start_time": "2023-09-20T03:57:55.865978500Z"
    }
   }
  },
  {
   "cell_type": "code",
   "execution_count": 13,
   "outputs": [
    {
     "name": "stdout",
     "output_type": "stream",
     "text": [
      "result.html\n"
     ]
    },
    {
     "name": "stderr",
     "output_type": "stream",
     "text": [
      "C:\\Users\\김영준\\AppData\\Local\\Temp\\ipykernel_8444\\869169897.py:1: DeprecationWarning: Importing display from IPython.core.display is deprecated since IPython 7.14, please import from IPython display\n",
      "  from IPython.core.display import display, HTML\n"
     ]
    },
    {
     "data": {
      "text/plain": "<IPython.core.display.HTML object>",
      "text/html": "<html>\n    <head>\n        <meta charset=\"utf-8\">\n        \n            <script src=\"lib/bindings/utils.js\"></script>\n            <link rel=\"stylesheet\" href=\"https://cdnjs.cloudflare.com/ajax/libs/vis-network/9.1.2/dist/dist/vis-network.min.css\" integrity=\"sha512-WgxfT5LWjfszlPHXRmBWHkV2eceiWTOBvrKCNbdgDYTHrT2AeLCGbF4sZlZw3UMN3WtL0tGUoIAKsu8mllg/XA==\" crossorigin=\"anonymous\" referrerpolicy=\"no-referrer\" />\n            <script src=\"https://cdnjs.cloudflare.com/ajax/libs/vis-network/9.1.2/dist/vis-network.min.js\" integrity=\"sha512-LnvoEWDFrqGHlHmDD2101OrLcbsfkrzoSpvtSQtxK3RMnRV0eOkhhBN2dXHKRrUU8p2DGRTk35n4O8nWSVe1mQ==\" crossorigin=\"anonymous\" referrerpolicy=\"no-referrer\"></script>\n            \n        \n<center>\n<h1></h1>\n</center>\n\n<!-- <link rel=\"stylesheet\" href=\"../node_modules/vis/dist/vis.min.css\" type=\"text/css\" />\n<script type=\"text/javascript\" src=\"../node_modules/vis/dist/vis.js\"> </script>-->\n        <link\n          href=\"https://cdn.jsdelivr.net/npm/bootstrap@5.0.0-beta3/dist/css/bootstrap.min.css\"\n          rel=\"stylesheet\"\n          integrity=\"sha384-eOJMYsd53ii+scO/bJGFsiCZc+5NDVN2yr8+0RDqr0Ql0h+rP48ckxlpbzKgwra6\"\n          crossorigin=\"anonymous\"\n        />\n        <script\n          src=\"https://cdn.jsdelivr.net/npm/bootstrap@5.0.0-beta3/dist/js/bootstrap.bundle.min.js\"\n          integrity=\"sha384-JEW9xMcG8R+pH31jmWH6WWP0WintQrMb4s7ZOdauHnUtxwoG2vI5DkLtS3qm9Ekf\"\n          crossorigin=\"anonymous\"\n        ></script>\n\n\n        <center>\n          <h1></h1>\n        </center>\n        <style type=\"text/css\">\n\n             #mynetwork {\n                 width: 100%;\n                 height: 600px;\n                 background-color: #ffffff;\n                 border: 1px solid lightgray;\n                 position: relative;\n                 float: left;\n             }\n\n             \n\n             \n\n             \n        </style>\n    </head>\n\n\n    <body>\n        <div class=\"card\" style=\"width: 100%\">\n            \n            \n            <div id=\"mynetwork\" class=\"card-body\"></div>\n        </div>\n\n        \n        \n\n        <script type=\"text/javascript\">\n\n              // initialize global variables.\n              var edges;\n              var nodes;\n              var allNodes;\n              var allEdges;\n              var nodeColors;\n              var originalNodes;\n              var network;\n              var container;\n              var options, data;\n              var filter = {\n                  item : '',\n                  property : '',\n                  value : []\n              };\n\n              \n\n              \n\n              // This method is responsible for drawing the graph, returns the drawn network\n              function drawGraph() {\n                  var container = document.getElementById('mynetwork');\n\n                  \n\n                  // parsing and collecting nodes and edges from the python\n                  nodes = new vis.DataSet([{\"color\": \"#97c2fc\", \"id\": \"01000000011\", \"label\": \"01000000011\", \"shape\": \"dot\"}, {\"color\": \"#97c2fc\", \"id\": \"01000000013\", \"label\": \"01000000013\", \"shape\": \"dot\"}, {\"color\": \"#97c2fc\", \"id\": \"01000000034\", \"label\": \"01000000034\", \"shape\": \"dot\"}, {\"color\": \"#97c2fc\", \"id\": \"01000000035\", \"label\": \"01000000035\", \"shape\": \"dot\"}, {\"color\": \"#97c2fc\", \"id\": \"01000000004\", \"label\": \"01000000004\", \"shape\": \"dot\"}, {\"color\": \"#97c2fc\", \"id\": \"01000000010\", \"label\": \"01000000010\", \"shape\": \"dot\"}, {\"color\": \"#97c2fc\", \"id\": \"01000000019\", \"label\": \"01000000019\", \"shape\": \"dot\"}, {\"color\": \"#97c2fc\", \"id\": \"01000000020\", \"label\": \"01000000020\", \"shape\": \"dot\"}, {\"color\": \"#97c2fc\", \"id\": \"01000000070\", \"label\": \"01000000070\", \"shape\": \"dot\"}, {\"color\": \"#97c2fc\", \"id\": \"01000000071\", \"label\": \"01000000071\", \"shape\": \"dot\"}, {\"color\": \"#97c2fc\", \"id\": \"01000000050\", \"label\": \"01000000050\", \"shape\": \"dot\"}, {\"color\": \"#97c2fc\", \"id\": \"01000000009\", \"label\": \"01000000009\", \"shape\": \"dot\"}, {\"color\": \"#97c2fc\", \"id\": \"01000000033\", \"label\": \"01000000033\", \"shape\": \"dot\"}, {\"color\": \"#97c2fc\", \"id\": \"01000000031\", \"label\": \"01000000031\", \"shape\": \"dot\"}, {\"color\": \"#97c2fc\", \"id\": \"01000000032\", \"label\": \"01000000032\", \"shape\": \"dot\"}, {\"color\": \"#97c2fc\", \"id\": \"01000000026\", \"label\": \"01000000026\", \"shape\": \"dot\"}, {\"color\": \"#97c2fc\", \"id\": \"01000000027\", \"label\": \"01000000027\", \"shape\": \"dot\"}, {\"color\": \"#97c2fc\", \"id\": \"01000000021\", \"label\": \"01000000021\", \"shape\": \"dot\"}, {\"color\": \"#97c2fc\", \"id\": \"01000000015\", \"label\": \"01000000015\", \"shape\": \"dot\"}, {\"color\": \"#97c2fc\", \"id\": \"01000000016\", \"label\": \"01000000016\", \"shape\": \"dot\"}, {\"color\": \"#97c2fc\", \"id\": \"01000000008\", \"label\": \"01000000008\", \"shape\": \"dot\"}, {\"color\": \"#97c2fc\", \"id\": \"01000000014\", \"label\": \"01000000014\", \"shape\": \"dot\"}, {\"color\": \"#97c2fc\", \"id\": \"01000000007\", \"label\": \"01000000007\", \"shape\": \"dot\"}, {\"color\": \"#97c2fc\", \"id\": \"01000000012\", \"label\": \"01000000012\", \"shape\": \"dot\"}, {\"color\": \"#97c2fc\", \"id\": \"01000000072\", \"label\": \"01000000072\", \"shape\": \"dot\"}, {\"color\": \"#97c2fc\", \"id\": \"01000000073\", \"label\": \"01000000073\", \"shape\": \"dot\"}]);\n                  edges = new vis.DataSet([{\"from\": \"01000000011\", \"title\": \"freq\", \"to\": \"01000000013\", \"value\": 2}, {\"from\": \"01000000034\", \"title\": \"freq\", \"to\": \"01000000035\", \"value\": 2}, {\"from\": \"01000000004\", \"title\": \"freq\", \"to\": \"01000000010\", \"value\": 1}, {\"from\": \"01000000019\", \"title\": \"freq\", \"to\": \"01000000020\", \"value\": 1}, {\"from\": \"01000000070\", \"title\": \"freq\", \"to\": \"01000000071\", \"value\": 1}, {\"from\": \"01000000050\", \"title\": \"freq\", \"to\": \"01000000035\", \"value\": 1}, {\"from\": \"01000000050\", \"title\": \"freq\", \"to\": \"01000000034\", \"value\": 1}, {\"from\": \"01000000050\", \"title\": \"freq\", \"to\": \"01000000009\", \"value\": 1}, {\"from\": \"01000000033\", \"title\": \"freq\", \"to\": \"01000000035\", \"value\": 1}, {\"from\": \"01000000033\", \"title\": \"freq\", \"to\": \"01000000034\", \"value\": 1}, {\"from\": \"01000000031\", \"title\": \"freq\", \"to\": \"01000000032\", \"value\": 1}, {\"from\": \"01000000026\", \"title\": \"freq\", \"to\": \"01000000027\", \"value\": 1}, {\"from\": \"01000000020\", \"title\": \"freq\", \"to\": \"01000000021\", \"value\": 1}, {\"from\": \"01000000019\", \"title\": \"freq\", \"to\": \"01000000021\", \"value\": 1}, {\"from\": \"01000000015\", \"title\": \"freq\", \"to\": \"01000000016\", \"value\": 1}, {\"from\": \"01000000008\", \"title\": \"freq\", \"to\": \"01000000004\", \"value\": 1}, {\"from\": \"01000000014\", \"title\": \"freq\", \"to\": \"01000000016\", \"value\": 1}, {\"from\": \"01000000014\", \"title\": \"freq\", \"to\": \"01000000015\", \"value\": 1}, {\"from\": \"01000000013\", \"title\": \"freq\", \"to\": \"01000000007\", \"value\": 1}, {\"from\": \"01000000012\", \"title\": \"freq\", \"to\": \"01000000013\", \"value\": 1}, {\"from\": \"01000000011\", \"title\": \"freq\", \"to\": \"01000000021\", \"value\": 1}, {\"from\": \"01000000011\", \"title\": \"freq\", \"to\": \"01000000020\", \"value\": 1}, {\"from\": \"01000000011\", \"title\": \"freq\", \"to\": \"01000000019\", \"value\": 1}, {\"from\": \"01000000011\", \"title\": \"freq\", \"to\": \"01000000012\", \"value\": 1}, {\"from\": \"01000000009\", \"title\": \"freq\", \"to\": \"01000000007\", \"value\": 1}, {\"from\": \"01000000008\", \"title\": \"freq\", \"to\": \"01000000010\", \"value\": 1}, {\"from\": \"01000000072\", \"title\": \"freq\", \"to\": \"01000000073\", \"value\": 1}]);\n\n                  nodeColors = {};\n                  allNodes = nodes.get({ returnType: \"Object\" });\n                  for (nodeId in allNodes) {\n                    nodeColors[nodeId] = allNodes[nodeId].color;\n                  }\n                  allEdges = edges.get({ returnType: \"Object\" });\n                  // adding nodes and edges to the graph\n                  data = {nodes: nodes, edges: edges};\n\n                  var options = {\n    \"configure\": {\n        \"enabled\": false\n    },\n    \"edges\": {\n        \"color\": {\n            \"inherit\": true\n        },\n        \"smooth\": {\n            \"enabled\": true,\n            \"type\": \"dynamic\"\n        }\n    },\n    \"interaction\": {\n        \"dragNodes\": true,\n        \"hideEdgesOnDrag\": false,\n        \"hideNodesOnDrag\": false\n    },\n    \"physics\": {\n        \"enabled\": true,\n        \"stabilization\": {\n            \"enabled\": true,\n            \"fit\": true,\n            \"iterations\": 1000,\n            \"onlyDynamicEdges\": false,\n            \"updateInterval\": 50\n        }\n    }\n};\n\n                  \n\n\n                  \n\n                  network = new vis.Network(container, data, options);\n\n                  \n\n                  \n\n                  \n\n\n                  \n\n                  return network;\n\n              }\n              drawGraph();\n        </script>\n    </body>\n</html>"
     },
     "metadata": {},
     "output_type": "display_data"
    }
   ],
   "source": [
    "from IPython.core.display import display, HTML\n",
    "\n",
    "g.show('result.html')\n",
    "display(HTML('result.html'))"
   ],
   "metadata": {
    "collapsed": false,
    "ExecuteTime": {
     "end_time": "2023-09-20T03:57:59.304993700Z",
     "start_time": "2023-09-20T03:57:59.257684800Z"
    }
   }
  },
  {
   "cell_type": "code",
   "execution_count": null,
   "outputs": [],
   "source": [],
   "metadata": {
    "collapsed": false
   }
  }
 ],
 "metadata": {
  "kernelspec": {
   "display_name": "Python 3",
   "language": "python",
   "name": "python3"
  },
  "language_info": {
   "codemirror_mode": {
    "name": "ipython",
    "version": 2
   },
   "file_extension": ".py",
   "mimetype": "text/x-python",
   "name": "python",
   "nbconvert_exporter": "python",
   "pygments_lexer": "ipython2",
   "version": "2.7.6"
  }
 },
 "nbformat": 4,
 "nbformat_minor": 0
}
