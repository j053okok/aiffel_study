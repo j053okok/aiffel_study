{
 "cells": [
  {
   "cell_type": "code",
   "execution_count": 1,
   "metadata": {
    "collapsed": true,
    "ExecuteTime": {
     "end_time": "2023-09-20T01:21:16.395573300Z",
     "start_time": "2023-09-20T01:21:16.381978Z"
    }
   },
   "outputs": [],
   "source": [
    "import re"
   ]
  },
  {
   "cell_type": "markdown",
   "source": [
    "* [] : One of, 문자열 중 하나\n",
    "* [-] : 예를 들어 [2-3c-e]의미는 2에서 3, c에서 e까지 매칭이 되는지 여부\n",
    "* [^] : Not 의 의미\n",
    "* () : 문자그룹의 의미\n",
    "* | : Or, X|Y 이면, X 또는 Y를 뜻함\n",
    "* ? : 반복 횟수. 안나타 나거나 1번 나타나는 것\n",
    "* \"+\" : 한번 이상 나타남\n",
    "* \"*\" : 0번 이상 나타남\n",
    "* x{n} : x 가 n번 반복됨\n",
    "* x{n,} : x가 n번 이상 반복\n",
    "* . : any character\n",
    "* ^ $ : 문장의 시작과 끝"
   ],
   "metadata": {
    "collapsed": false
   }
  },
  {
   "cell_type": "markdown",
   "source": [
    "### findall() : 정규식과 매치되는 모든 문자열을 리스트형식으로 리턴"
   ],
   "metadata": {
    "collapsed": false
   }
  },
  {
   "cell_type": "code",
   "execution_count": 3,
   "outputs": [
    {
     "name": "stdout",
     "output_type": "stream",
     "text": [
      "['2', '0', '2', '1', '1', '0', '0', '1']\n",
      "[' ', ' ', ' ', 'M', 'o', 'n', 'd', 'a', 'y']\n"
     ]
    }
   ],
   "source": [
    "# 숫자 찾기\n",
    "example = '2021 10 01 Monday'\n",
    "print(re.findall('[0-9]', example))\n",
    "\n",
    "# 숫자 아닌 것 찾기 '\n",
    "print(re.findall('[^0-9]', example))"
   ],
   "metadata": {
    "collapsed": false,
    "ExecuteTime": {
     "end_time": "2023-09-20T01:31:05.809790200Z",
     "start_time": "2023-09-20T01:31:05.780754800Z"
    }
   }
  },
  {
   "cell_type": "code",
   "execution_count": 4,
   "outputs": [
    {
     "data": {
      "text/plain": "['modulabs@socar.kr', 'modulabs@gmail.com']"
     },
     "execution_count": 4,
     "metadata": {},
     "output_type": "execute_result"
    }
   ],
   "source": [
    "# 이메일 주소 찾기\n",
    "example = '제 이메일은 modulabs@socar.kr 입니다. modulabs@gmail.com 에서 변경되었습니다.'\n",
    "re.findall('[a-z]+@[a-z]+.[a-z]+', example)"
   ],
   "metadata": {
    "collapsed": false,
    "ExecuteTime": {
     "end_time": "2023-09-20T01:33:36.855376400Z",
     "start_time": "2023-09-20T01:33:36.784357800Z"
    }
   }
  },
  {
   "cell_type": "code",
   "execution_count": 8,
   "outputs": [
    {
     "data": {
      "text/plain": "['https://www.google.com/', 'https://www.socar.kr/']"
     },
     "execution_count": 8,
     "metadata": {},
     "output_type": "execute_result"
    }
   ],
   "source": [
    "# URL 찾기\n",
    "example = 'https://www.google.com/ 에 쏘카를 검색하시면 https://www.socar.kr/ 이 상단에 노출됩니다.'\n",
    "re.findall('http[s]?://[a-z]{3}.[a-z]+.[a-z]+/', example)"
   ],
   "metadata": {
    "collapsed": false,
    "ExecuteTime": {
     "end_time": "2023-09-20T05:52:20.125375Z",
     "start_time": "2023-09-20T05:52:20.071357300Z"
    }
   }
  },
  {
   "cell_type": "code",
   "execution_count": 6,
   "outputs": [
    {
     "data": {
      "text/plain": "['sonata01.png', 'avante02.jpg', 'socar2021.gif']"
     },
     "execution_count": 6,
     "metadata": {},
     "output_type": "execute_result"
    }
   ],
   "source": [
    "# 파일 찾기\n",
    "example = '제 바탕화면 보시면 sonata01.png 파일과 avante02.jpg 파일 그리고 socar2021.gif 파일이 존재합니다.'\n",
    "re.findall('[a-z0-9]+\\.[(png)|(jpg)|(gif)]+', example) #[a-z0-9]++\\.(jpg|png|gif)"
   ],
   "metadata": {
    "collapsed": false,
    "ExecuteTime": {
     "end_time": "2023-09-20T01:40:44.433433900Z",
     "start_time": "2023-09-20T01:40:44.417469300Z"
    }
   }
  },
  {
   "cell_type": "code",
   "execution_count": 7,
   "outputs": [
    {
     "name": "stdout",
     "output_type": "stream",
     "text": [
      "[' ', ' ', ' ', 'M', 'o', 'n', 'd', 'a', 'y']\n"
     ]
    }
   ],
   "source": [
    "example = '2021 10 01 Monday'\n",
    "print(re.findall('[^0-9]', example))"
   ],
   "metadata": {
    "collapsed": false,
    "ExecuteTime": {
     "end_time": "2023-09-20T03:24:25.524458800Z",
     "start_time": "2023-09-20T03:24:25.484258300Z"
    }
   }
  },
  {
   "cell_type": "code",
   "execution_count": null,
   "outputs": [],
   "source": [],
   "metadata": {
    "collapsed": false
   }
  }
 ],
 "metadata": {
  "kernelspec": {
   "display_name": "Python 3",
   "language": "python",
   "name": "python3"
  },
  "language_info": {
   "codemirror_mode": {
    "name": "ipython",
    "version": 2
   },
   "file_extension": ".py",
   "mimetype": "text/x-python",
   "name": "python",
   "nbconvert_exporter": "python",
   "pygments_lexer": "ipython2",
   "version": "2.7.6"
  }
 },
 "nbformat": 4,
 "nbformat_minor": 0
}
