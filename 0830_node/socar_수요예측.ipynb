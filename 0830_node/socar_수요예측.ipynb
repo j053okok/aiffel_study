{
 "cells": [
  {
   "cell_type": "code",
   "execution_count": 56,
   "metadata": {
    "collapsed": true,
    "ExecuteTime": {
     "end_time": "2023-08-29T16:03:38.335177200Z",
     "start_time": "2023-08-29T16:03:38.287879100Z"
    }
   },
   "outputs": [],
   "source": [
    "import pandas as pd\n",
    "import numpy as np\n",
    "import matplotlib.pyplot as plt\n",
    "import matplotlib.ticker as plticker\n",
    "import seaborn as sns\n",
    "import statsmodels.api as sm\n",
    "import scipy\n",
    "plt.rc('axes', unicode_minus=False)"
   ]
  },
  {
   "cell_type": "code",
   "execution_count": 57,
   "outputs": [],
   "source": [
    "custom_params = {\"axes.spines.right\": False, \"axes.spines.top\": False}\n",
    "sns.set_theme(context='notebook',\n",
    "              style='darkgrid',\n",
    "              palette='pastel',\n",
    "              font='Malgun Gothic',\n",
    "              rc=custom_params)"
   ],
   "metadata": {
    "collapsed": false,
    "ExecuteTime": {
     "end_time": "2023-08-29T16:03:38.351151Z",
     "start_time": "2023-08-29T16:03:38.290262300Z"
    }
   }
  },
  {
   "cell_type": "code",
   "execution_count": 58,
   "outputs": [],
   "source": [
    "df_pre = pd.read_csv(\"pre_operation.csv\")\n",
    "df_click = pd.read_csv(\"click_data.csv\")\n",
    "df_weather = pd.read_csv(\"weather.csv\")"
   ],
   "metadata": {
    "collapsed": false,
    "ExecuteTime": {
     "end_time": "2023-08-29T16:03:38.448635300Z",
     "start_time": "2023-08-29T16:03:38.303490800Z"
    }
   }
  },
  {
   "cell_type": "code",
   "execution_count": 59,
   "outputs": [
    {
     "data": {
      "text/plain": "  target_dates  op_rate_0d_all_cars  op_rate_1d_all_cars  op_rate_2d_all_cars  \\\n0   2019-11-20             0.316167             0.128829             0.073450   \n1   2019-04-07             0.433710             0.165792             0.114138   \n2   2020-09-20             0.470135             0.252650             0.181241   \n3   2019-11-28             0.320862             0.132336             0.075752   \n4   2021-06-26             0.444924             0.233424             0.174414   \n\n   op_rate_3d_all_cars  op_rate_4d_all_cars  op_rate_5d_all_cars  \\\n0             0.047983             0.041501             0.035837   \n1             0.091261             0.073171             0.060375   \n2             0.142521             0.117679             0.095518   \n3             0.052990             0.038522             0.033602   \n4             0.144886             0.123617             0.102621   \n\n   op_rate_6d_all_cars  op_rate_7d_all_cars  op_rate_0d_major_cars  \\\n0             0.028633             0.023602               0.354157   \n1             0.048367             0.040212               0.477168   \n2             0.076442             0.059885               0.469391   \n3             0.029606             0.025020               0.358306   \n4             0.086654             0.077878               0.426241   \n\n   op_rate_1d_major_cars  op_rate_2d_major_cars  op_rate_3d_major_cars  \\\n0               0.133284               0.078416               0.051335   \n1               0.162459               0.116169               0.092505   \n2               0.259594               0.186417               0.146953   \n3               0.140434               0.082168               0.057721   \n4               0.230812               0.167328               0.136924   \n\n   op_rate_4d_major_cars  op_rate_5d_major_cars  op_rate_6d_major_cars  \\\n0               0.043031               0.037124               0.030191   \n1               0.075456               0.062375               0.051132   \n2               0.120212               0.098140               0.078305   \n3               0.041842               0.036485               0.030878   \n4               0.114490               0.092528               0.078320   \n\n   op_rate_7d_major_cars  \n0               0.024724  \n1               0.040773  \n2               0.060749  \n3               0.027118  \n4               0.070913  ",
      "text/html": "<div>\n<style scoped>\n    .dataframe tbody tr th:only-of-type {\n        vertical-align: middle;\n    }\n\n    .dataframe tbody tr th {\n        vertical-align: top;\n    }\n\n    .dataframe thead th {\n        text-align: right;\n    }\n</style>\n<table border=\"1\" class=\"dataframe\">\n  <thead>\n    <tr style=\"text-align: right;\">\n      <th></th>\n      <th>target_dates</th>\n      <th>op_rate_0d_all_cars</th>\n      <th>op_rate_1d_all_cars</th>\n      <th>op_rate_2d_all_cars</th>\n      <th>op_rate_3d_all_cars</th>\n      <th>op_rate_4d_all_cars</th>\n      <th>op_rate_5d_all_cars</th>\n      <th>op_rate_6d_all_cars</th>\n      <th>op_rate_7d_all_cars</th>\n      <th>op_rate_0d_major_cars</th>\n      <th>op_rate_1d_major_cars</th>\n      <th>op_rate_2d_major_cars</th>\n      <th>op_rate_3d_major_cars</th>\n      <th>op_rate_4d_major_cars</th>\n      <th>op_rate_5d_major_cars</th>\n      <th>op_rate_6d_major_cars</th>\n      <th>op_rate_7d_major_cars</th>\n    </tr>\n  </thead>\n  <tbody>\n    <tr>\n      <th>0</th>\n      <td>2019-11-20</td>\n      <td>0.316167</td>\n      <td>0.128829</td>\n      <td>0.073450</td>\n      <td>0.047983</td>\n      <td>0.041501</td>\n      <td>0.035837</td>\n      <td>0.028633</td>\n      <td>0.023602</td>\n      <td>0.354157</td>\n      <td>0.133284</td>\n      <td>0.078416</td>\n      <td>0.051335</td>\n      <td>0.043031</td>\n      <td>0.037124</td>\n      <td>0.030191</td>\n      <td>0.024724</td>\n    </tr>\n    <tr>\n      <th>1</th>\n      <td>2019-04-07</td>\n      <td>0.433710</td>\n      <td>0.165792</td>\n      <td>0.114138</td>\n      <td>0.091261</td>\n      <td>0.073171</td>\n      <td>0.060375</td>\n      <td>0.048367</td>\n      <td>0.040212</td>\n      <td>0.477168</td>\n      <td>0.162459</td>\n      <td>0.116169</td>\n      <td>0.092505</td>\n      <td>0.075456</td>\n      <td>0.062375</td>\n      <td>0.051132</td>\n      <td>0.040773</td>\n    </tr>\n    <tr>\n      <th>2</th>\n      <td>2020-09-20</td>\n      <td>0.470135</td>\n      <td>0.252650</td>\n      <td>0.181241</td>\n      <td>0.142521</td>\n      <td>0.117679</td>\n      <td>0.095518</td>\n      <td>0.076442</td>\n      <td>0.059885</td>\n      <td>0.469391</td>\n      <td>0.259594</td>\n      <td>0.186417</td>\n      <td>0.146953</td>\n      <td>0.120212</td>\n      <td>0.098140</td>\n      <td>0.078305</td>\n      <td>0.060749</td>\n    </tr>\n    <tr>\n      <th>3</th>\n      <td>2019-11-28</td>\n      <td>0.320862</td>\n      <td>0.132336</td>\n      <td>0.075752</td>\n      <td>0.052990</td>\n      <td>0.038522</td>\n      <td>0.033602</td>\n      <td>0.029606</td>\n      <td>0.025020</td>\n      <td>0.358306</td>\n      <td>0.140434</td>\n      <td>0.082168</td>\n      <td>0.057721</td>\n      <td>0.041842</td>\n      <td>0.036485</td>\n      <td>0.030878</td>\n      <td>0.027118</td>\n    </tr>\n    <tr>\n      <th>4</th>\n      <td>2021-06-26</td>\n      <td>0.444924</td>\n      <td>0.233424</td>\n      <td>0.174414</td>\n      <td>0.144886</td>\n      <td>0.123617</td>\n      <td>0.102621</td>\n      <td>0.086654</td>\n      <td>0.077878</td>\n      <td>0.426241</td>\n      <td>0.230812</td>\n      <td>0.167328</td>\n      <td>0.136924</td>\n      <td>0.114490</td>\n      <td>0.092528</td>\n      <td>0.078320</td>\n      <td>0.070913</td>\n    </tr>\n  </tbody>\n</table>\n</div>"
     },
     "execution_count": 59,
     "metadata": {},
     "output_type": "execute_result"
    }
   ],
   "source": [
    "df_pre.head()"
   ],
   "metadata": {
    "collapsed": false,
    "ExecuteTime": {
     "end_time": "2023-08-29T16:03:38.448635300Z",
     "start_time": "2023-08-29T16:03:38.351151Z"
    }
   }
  },
  {
   "cell_type": "code",
   "execution_count": 60,
   "outputs": [
    {
     "data": {
      "text/plain": "   target_dates  click_d_day  click_d_1  click_d_2  click_d_3  click_d_4  \\\n0    2019-01-23            0          0          0          0          0   \n1    2019-07-24            0          0          0          0          0   \n2    2019-08-21            0          0          0          0          0   \n3    2019-08-24            0          0          0          0          0   \n4    2019-08-25            0          0          0          0          0   \n5    2019-08-26            0          0          0          0          0   \n6    2019-08-29            0          0          0          0          0   \n7    2019-08-31           33          0          0          0          0   \n8    2019-09-01       265846          0          0          0          0   \n9    2019-09-02       218807       6761          0          0          0   \n10   2019-09-03       208567      11582       2167          0          0   \n11   2019-09-04       207250      12927       5700       1279          0   \n12   2019-09-05       211608      12305       6835       3502       1307   \n13   2019-09-06       225281      14673       8554       6819       6041   \n14   2019-09-07       243573      18392      12402      11697      12723   \n\n    click_d_5  click_d_6  click_d_7  \n0           0          0          0  \n1           0          0          0  \n2           0          0          0  \n3           0          0          0  \n4           0          0          0  \n5           0          0          0  \n6           0          0          0  \n7           0          0          0  \n8           0          0          0  \n9           0          0          0  \n10          0          0          0  \n11          0          0          0  \n12          0          0          0  \n13       1962          0          0  \n14      10323       2007          0  ",
      "text/html": "<div>\n<style scoped>\n    .dataframe tbody tr th:only-of-type {\n        vertical-align: middle;\n    }\n\n    .dataframe tbody tr th {\n        vertical-align: top;\n    }\n\n    .dataframe thead th {\n        text-align: right;\n    }\n</style>\n<table border=\"1\" class=\"dataframe\">\n  <thead>\n    <tr style=\"text-align: right;\">\n      <th></th>\n      <th>target_dates</th>\n      <th>click_d_day</th>\n      <th>click_d_1</th>\n      <th>click_d_2</th>\n      <th>click_d_3</th>\n      <th>click_d_4</th>\n      <th>click_d_5</th>\n      <th>click_d_6</th>\n      <th>click_d_7</th>\n    </tr>\n  </thead>\n  <tbody>\n    <tr>\n      <th>0</th>\n      <td>2019-01-23</td>\n      <td>0</td>\n      <td>0</td>\n      <td>0</td>\n      <td>0</td>\n      <td>0</td>\n      <td>0</td>\n      <td>0</td>\n      <td>0</td>\n    </tr>\n    <tr>\n      <th>1</th>\n      <td>2019-07-24</td>\n      <td>0</td>\n      <td>0</td>\n      <td>0</td>\n      <td>0</td>\n      <td>0</td>\n      <td>0</td>\n      <td>0</td>\n      <td>0</td>\n    </tr>\n    <tr>\n      <th>2</th>\n      <td>2019-08-21</td>\n      <td>0</td>\n      <td>0</td>\n      <td>0</td>\n      <td>0</td>\n      <td>0</td>\n      <td>0</td>\n      <td>0</td>\n      <td>0</td>\n    </tr>\n    <tr>\n      <th>3</th>\n      <td>2019-08-24</td>\n      <td>0</td>\n      <td>0</td>\n      <td>0</td>\n      <td>0</td>\n      <td>0</td>\n      <td>0</td>\n      <td>0</td>\n      <td>0</td>\n    </tr>\n    <tr>\n      <th>4</th>\n      <td>2019-08-25</td>\n      <td>0</td>\n      <td>0</td>\n      <td>0</td>\n      <td>0</td>\n      <td>0</td>\n      <td>0</td>\n      <td>0</td>\n      <td>0</td>\n    </tr>\n    <tr>\n      <th>5</th>\n      <td>2019-08-26</td>\n      <td>0</td>\n      <td>0</td>\n      <td>0</td>\n      <td>0</td>\n      <td>0</td>\n      <td>0</td>\n      <td>0</td>\n      <td>0</td>\n    </tr>\n    <tr>\n      <th>6</th>\n      <td>2019-08-29</td>\n      <td>0</td>\n      <td>0</td>\n      <td>0</td>\n      <td>0</td>\n      <td>0</td>\n      <td>0</td>\n      <td>0</td>\n      <td>0</td>\n    </tr>\n    <tr>\n      <th>7</th>\n      <td>2019-08-31</td>\n      <td>33</td>\n      <td>0</td>\n      <td>0</td>\n      <td>0</td>\n      <td>0</td>\n      <td>0</td>\n      <td>0</td>\n      <td>0</td>\n    </tr>\n    <tr>\n      <th>8</th>\n      <td>2019-09-01</td>\n      <td>265846</td>\n      <td>0</td>\n      <td>0</td>\n      <td>0</td>\n      <td>0</td>\n      <td>0</td>\n      <td>0</td>\n      <td>0</td>\n    </tr>\n    <tr>\n      <th>9</th>\n      <td>2019-09-02</td>\n      <td>218807</td>\n      <td>6761</td>\n      <td>0</td>\n      <td>0</td>\n      <td>0</td>\n      <td>0</td>\n      <td>0</td>\n      <td>0</td>\n    </tr>\n    <tr>\n      <th>10</th>\n      <td>2019-09-03</td>\n      <td>208567</td>\n      <td>11582</td>\n      <td>2167</td>\n      <td>0</td>\n      <td>0</td>\n      <td>0</td>\n      <td>0</td>\n      <td>0</td>\n    </tr>\n    <tr>\n      <th>11</th>\n      <td>2019-09-04</td>\n      <td>207250</td>\n      <td>12927</td>\n      <td>5700</td>\n      <td>1279</td>\n      <td>0</td>\n      <td>0</td>\n      <td>0</td>\n      <td>0</td>\n    </tr>\n    <tr>\n      <th>12</th>\n      <td>2019-09-05</td>\n      <td>211608</td>\n      <td>12305</td>\n      <td>6835</td>\n      <td>3502</td>\n      <td>1307</td>\n      <td>0</td>\n      <td>0</td>\n      <td>0</td>\n    </tr>\n    <tr>\n      <th>13</th>\n      <td>2019-09-06</td>\n      <td>225281</td>\n      <td>14673</td>\n      <td>8554</td>\n      <td>6819</td>\n      <td>6041</td>\n      <td>1962</td>\n      <td>0</td>\n      <td>0</td>\n    </tr>\n    <tr>\n      <th>14</th>\n      <td>2019-09-07</td>\n      <td>243573</td>\n      <td>18392</td>\n      <td>12402</td>\n      <td>11697</td>\n      <td>12723</td>\n      <td>10323</td>\n      <td>2007</td>\n      <td>0</td>\n    </tr>\n  </tbody>\n</table>\n</div>"
     },
     "execution_count": 60,
     "metadata": {},
     "output_type": "execute_result"
    }
   ],
   "source": [
    "df_click.head(15)"
   ],
   "metadata": {
    "collapsed": false,
    "ExecuteTime": {
     "end_time": "2023-08-29T16:03:38.448635300Z",
     "start_time": "2023-08-29T16:03:38.360993500Z"
    }
   }
  },
  {
   "cell_type": "code",
   "execution_count": 61,
   "outputs": [
    {
     "data": {
      "text/plain": "         date  is_clean  avg_precipitation  avg_temperature\n0  2018-01-01         1                0.0              0.2\n1  2018-01-02         1                0.0              0.2\n2  2018-01-03         0                0.4             -1.3\n3  2018-01-04         0                0.7             -1.9\n4  2018-01-05         0                2.4             -0.3",
      "text/html": "<div>\n<style scoped>\n    .dataframe tbody tr th:only-of-type {\n        vertical-align: middle;\n    }\n\n    .dataframe tbody tr th {\n        vertical-align: top;\n    }\n\n    .dataframe thead th {\n        text-align: right;\n    }\n</style>\n<table border=\"1\" class=\"dataframe\">\n  <thead>\n    <tr style=\"text-align: right;\">\n      <th></th>\n      <th>date</th>\n      <th>is_clean</th>\n      <th>avg_precipitation</th>\n      <th>avg_temperature</th>\n    </tr>\n  </thead>\n  <tbody>\n    <tr>\n      <th>0</th>\n      <td>2018-01-01</td>\n      <td>1</td>\n      <td>0.0</td>\n      <td>0.2</td>\n    </tr>\n    <tr>\n      <th>1</th>\n      <td>2018-01-02</td>\n      <td>1</td>\n      <td>0.0</td>\n      <td>0.2</td>\n    </tr>\n    <tr>\n      <th>2</th>\n      <td>2018-01-03</td>\n      <td>0</td>\n      <td>0.4</td>\n      <td>-1.3</td>\n    </tr>\n    <tr>\n      <th>3</th>\n      <td>2018-01-04</td>\n      <td>0</td>\n      <td>0.7</td>\n      <td>-1.9</td>\n    </tr>\n    <tr>\n      <th>4</th>\n      <td>2018-01-05</td>\n      <td>0</td>\n      <td>2.4</td>\n      <td>-0.3</td>\n    </tr>\n  </tbody>\n</table>\n</div>"
     },
     "execution_count": 61,
     "metadata": {},
     "output_type": "execute_result"
    }
   ],
   "source": [
    "df_weather.head()"
   ],
   "metadata": {
    "collapsed": false,
    "ExecuteTime": {
     "end_time": "2023-08-29T16:03:38.448635300Z",
     "start_time": "2023-08-29T16:03:38.367019Z"
    }
   }
  },
  {
   "cell_type": "code",
   "execution_count": 62,
   "outputs": [
    {
     "name": "stdout",
     "output_type": "stream",
     "text": [
      "<class 'pandas.core.frame.DataFrame'>\n",
      "RangeIndex: 939 entries, 0 to 938\n",
      "Data columns (total 17 columns):\n",
      " #   Column                 Non-Null Count  Dtype  \n",
      "---  ------                 --------------  -----  \n",
      " 0   target_dates           939 non-null    object \n",
      " 1   op_rate_0d_all_cars    939 non-null    float64\n",
      " 2   op_rate_1d_all_cars    939 non-null    float64\n",
      " 3   op_rate_2d_all_cars    939 non-null    float64\n",
      " 4   op_rate_3d_all_cars    939 non-null    float64\n",
      " 5   op_rate_4d_all_cars    939 non-null    float64\n",
      " 6   op_rate_5d_all_cars    939 non-null    float64\n",
      " 7   op_rate_6d_all_cars    939 non-null    float64\n",
      " 8   op_rate_7d_all_cars    939 non-null    float64\n",
      " 9   op_rate_0d_major_cars  939 non-null    float64\n",
      " 10  op_rate_1d_major_cars  939 non-null    float64\n",
      " 11  op_rate_2d_major_cars  939 non-null    float64\n",
      " 12  op_rate_3d_major_cars  939 non-null    float64\n",
      " 13  op_rate_4d_major_cars  939 non-null    float64\n",
      " 14  op_rate_5d_major_cars  939 non-null    float64\n",
      " 15  op_rate_6d_major_cars  939 non-null    float64\n",
      " 16  op_rate_7d_major_cars  939 non-null    float64\n",
      "dtypes: float64(16), object(1)\n",
      "memory usage: 124.8+ KB\n"
     ]
    }
   ],
   "source": [
    "df_pre.info()"
   ],
   "metadata": {
    "collapsed": false,
    "ExecuteTime": {
     "end_time": "2023-08-29T16:03:38.448635300Z",
     "start_time": "2023-08-29T16:03:38.383401700Z"
    }
   }
  },
  {
   "cell_type": "code",
   "execution_count": 63,
   "outputs": [
    {
     "name": "stdout",
     "output_type": "stream",
     "text": [
      "<class 'pandas.core.frame.DataFrame'>\n",
      "RangeIndex: 793 entries, 0 to 792\n",
      "Data columns (total 9 columns):\n",
      " #   Column        Non-Null Count  Dtype \n",
      "---  ------        --------------  ----- \n",
      " 0   target_dates  793 non-null    object\n",
      " 1   click_d_day   793 non-null    int64 \n",
      " 2   click_d_1     793 non-null    int64 \n",
      " 3   click_d_2     793 non-null    int64 \n",
      " 4   click_d_3     793 non-null    int64 \n",
      " 5   click_d_4     793 non-null    int64 \n",
      " 6   click_d_5     793 non-null    int64 \n",
      " 7   click_d_6     793 non-null    int64 \n",
      " 8   click_d_7     793 non-null    int64 \n",
      "dtypes: int64(8), object(1)\n",
      "memory usage: 55.9+ KB\n"
     ]
    }
   ],
   "source": [
    "df_click.info()"
   ],
   "metadata": {
    "collapsed": false,
    "ExecuteTime": {
     "end_time": "2023-08-29T16:03:38.448635300Z",
     "start_time": "2023-08-29T16:03:38.407268800Z"
    }
   }
  },
  {
   "cell_type": "code",
   "execution_count": 64,
   "outputs": [
    {
     "name": "stdout",
     "output_type": "stream",
     "text": [
      "<class 'pandas.core.frame.DataFrame'>\n",
      "RangeIndex: 1232 entries, 0 to 1231\n",
      "Data columns (total 4 columns):\n",
      " #   Column             Non-Null Count  Dtype  \n",
      "---  ------             --------------  -----  \n",
      " 0   date               1232 non-null   object \n",
      " 1   is_clean           1232 non-null   int64  \n",
      " 2   avg_precipitation  1232 non-null   float64\n",
      " 3   avg_temperature    1213 non-null   float64\n",
      "dtypes: float64(2), int64(1), object(1)\n",
      "memory usage: 38.6+ KB\n"
     ]
    }
   ],
   "source": [
    "df_weather.info()"
   ],
   "metadata": {
    "collapsed": false,
    "ExecuteTime": {
     "end_time": "2023-08-29T16:03:38.448635300Z",
     "start_time": "2023-08-29T16:03:38.414783900Z"
    }
   }
  },
  {
   "cell_type": "code",
   "execution_count": 65,
   "outputs": [],
   "source": [
    "df_pre['target_dates'] = pd.to_datetime(df_pre['target_dates'])\n",
    "df_click['target_dates'] = pd.to_datetime(df_click['target_dates'], format='%Y-%m-%d')\n",
    "df_weather['date'] = pd.to_datetime(df_weather['date'], format='%Y-%m-%d')"
   ],
   "metadata": {
    "collapsed": false,
    "ExecuteTime": {
     "end_time": "2023-08-29T16:03:38.448635300Z",
     "start_time": "2023-08-29T16:03:38.421106300Z"
    }
   }
  },
  {
   "cell_type": "code",
   "execution_count": 66,
   "outputs": [
    {
     "data": {
      "text/plain": "set()"
     },
     "execution_count": 66,
     "metadata": {},
     "output_type": "execute_result"
    }
   ],
   "source": [
    "# set를 이용한 결측치 확인 방법\n",
    "set(pd.date_range(min(df_pre.target_dates), max(df_pre.target_dates))).difference(set(df_pre.target_dates))"
   ],
   "metadata": {
    "collapsed": false,
    "ExecuteTime": {
     "end_time": "2023-08-29T16:03:38.448635300Z",
     "start_time": "2023-08-29T16:03:38.435161300Z"
    }
   }
  },
  {
   "cell_type": "code",
   "execution_count": 67,
   "outputs": [
    {
     "data": {
      "text/plain": "{Timestamp('2019-01-24 00:00:00'),\n Timestamp('2019-01-25 00:00:00'),\n Timestamp('2019-01-26 00:00:00'),\n Timestamp('2019-01-27 00:00:00'),\n Timestamp('2019-01-28 00:00:00'),\n Timestamp('2019-01-29 00:00:00'),\n Timestamp('2019-01-30 00:00:00'),\n Timestamp('2019-01-31 00:00:00'),\n Timestamp('2019-02-01 00:00:00'),\n Timestamp('2019-02-02 00:00:00'),\n Timestamp('2019-02-03 00:00:00'),\n Timestamp('2019-02-04 00:00:00'),\n Timestamp('2019-02-05 00:00:00'),\n Timestamp('2019-02-06 00:00:00'),\n Timestamp('2019-02-07 00:00:00'),\n Timestamp('2019-02-08 00:00:00'),\n Timestamp('2019-02-09 00:00:00'),\n Timestamp('2019-02-10 00:00:00'),\n Timestamp('2019-02-11 00:00:00'),\n Timestamp('2019-02-12 00:00:00'),\n Timestamp('2019-02-13 00:00:00'),\n Timestamp('2019-02-14 00:00:00'),\n Timestamp('2019-02-15 00:00:00'),\n Timestamp('2019-02-16 00:00:00'),\n Timestamp('2019-02-17 00:00:00'),\n Timestamp('2019-02-18 00:00:00'),\n Timestamp('2019-02-19 00:00:00'),\n Timestamp('2019-02-20 00:00:00'),\n Timestamp('2019-02-21 00:00:00'),\n Timestamp('2019-02-22 00:00:00'),\n Timestamp('2019-02-23 00:00:00'),\n Timestamp('2019-02-24 00:00:00'),\n Timestamp('2019-02-25 00:00:00'),\n Timestamp('2019-02-26 00:00:00'),\n Timestamp('2019-02-27 00:00:00'),\n Timestamp('2019-02-28 00:00:00'),\n Timestamp('2019-03-01 00:00:00'),\n Timestamp('2019-03-02 00:00:00'),\n Timestamp('2019-03-03 00:00:00'),\n Timestamp('2019-03-04 00:00:00'),\n Timestamp('2019-03-05 00:00:00'),\n Timestamp('2019-03-06 00:00:00'),\n Timestamp('2019-03-07 00:00:00'),\n Timestamp('2019-03-08 00:00:00'),\n Timestamp('2019-03-09 00:00:00'),\n Timestamp('2019-03-10 00:00:00'),\n Timestamp('2019-03-11 00:00:00'),\n Timestamp('2019-03-12 00:00:00'),\n Timestamp('2019-03-13 00:00:00'),\n Timestamp('2019-03-14 00:00:00'),\n Timestamp('2019-03-15 00:00:00'),\n Timestamp('2019-03-16 00:00:00'),\n Timestamp('2019-03-17 00:00:00'),\n Timestamp('2019-03-18 00:00:00'),\n Timestamp('2019-03-19 00:00:00'),\n Timestamp('2019-03-20 00:00:00'),\n Timestamp('2019-03-21 00:00:00'),\n Timestamp('2019-03-22 00:00:00'),\n Timestamp('2019-03-23 00:00:00'),\n Timestamp('2019-03-24 00:00:00'),\n Timestamp('2019-03-25 00:00:00'),\n Timestamp('2019-03-26 00:00:00'),\n Timestamp('2019-03-27 00:00:00'),\n Timestamp('2019-03-28 00:00:00'),\n Timestamp('2019-03-29 00:00:00'),\n Timestamp('2019-03-30 00:00:00'),\n Timestamp('2019-03-31 00:00:00'),\n Timestamp('2019-04-01 00:00:00'),\n Timestamp('2019-04-02 00:00:00'),\n Timestamp('2019-04-03 00:00:00'),\n Timestamp('2019-04-04 00:00:00'),\n Timestamp('2019-04-05 00:00:00'),\n Timestamp('2019-04-06 00:00:00'),\n Timestamp('2019-04-07 00:00:00'),\n Timestamp('2019-04-08 00:00:00'),\n Timestamp('2019-04-09 00:00:00'),\n Timestamp('2019-04-10 00:00:00'),\n Timestamp('2019-04-11 00:00:00'),\n Timestamp('2019-04-12 00:00:00'),\n Timestamp('2019-04-13 00:00:00'),\n Timestamp('2019-04-14 00:00:00'),\n Timestamp('2019-04-15 00:00:00'),\n Timestamp('2019-04-16 00:00:00'),\n Timestamp('2019-04-17 00:00:00'),\n Timestamp('2019-04-18 00:00:00'),\n Timestamp('2019-04-19 00:00:00'),\n Timestamp('2019-04-20 00:00:00'),\n Timestamp('2019-04-21 00:00:00'),\n Timestamp('2019-04-22 00:00:00'),\n Timestamp('2019-04-23 00:00:00'),\n Timestamp('2019-04-24 00:00:00'),\n Timestamp('2019-04-25 00:00:00'),\n Timestamp('2019-04-26 00:00:00'),\n Timestamp('2019-04-27 00:00:00'),\n Timestamp('2019-04-28 00:00:00'),\n Timestamp('2019-04-29 00:00:00'),\n Timestamp('2019-04-30 00:00:00'),\n Timestamp('2019-05-01 00:00:00'),\n Timestamp('2019-05-02 00:00:00'),\n Timestamp('2019-05-03 00:00:00'),\n Timestamp('2019-05-04 00:00:00'),\n Timestamp('2019-05-05 00:00:00'),\n Timestamp('2019-05-06 00:00:00'),\n Timestamp('2019-05-07 00:00:00'),\n Timestamp('2019-05-08 00:00:00'),\n Timestamp('2019-05-09 00:00:00'),\n Timestamp('2019-05-10 00:00:00'),\n Timestamp('2019-05-11 00:00:00'),\n Timestamp('2019-05-12 00:00:00'),\n Timestamp('2019-05-13 00:00:00'),\n Timestamp('2019-05-14 00:00:00'),\n Timestamp('2019-05-15 00:00:00'),\n Timestamp('2019-05-16 00:00:00'),\n Timestamp('2019-05-17 00:00:00'),\n Timestamp('2019-05-18 00:00:00'),\n Timestamp('2019-05-19 00:00:00'),\n Timestamp('2019-05-20 00:00:00'),\n Timestamp('2019-05-21 00:00:00'),\n Timestamp('2019-05-22 00:00:00'),\n Timestamp('2019-05-23 00:00:00'),\n Timestamp('2019-05-24 00:00:00'),\n Timestamp('2019-05-25 00:00:00'),\n Timestamp('2019-05-26 00:00:00'),\n Timestamp('2019-05-27 00:00:00'),\n Timestamp('2019-05-28 00:00:00'),\n Timestamp('2019-05-29 00:00:00'),\n Timestamp('2019-05-30 00:00:00'),\n Timestamp('2019-05-31 00:00:00'),\n Timestamp('2019-06-01 00:00:00'),\n Timestamp('2019-06-02 00:00:00'),\n Timestamp('2019-06-03 00:00:00'),\n Timestamp('2019-06-04 00:00:00'),\n Timestamp('2019-06-05 00:00:00'),\n Timestamp('2019-06-06 00:00:00'),\n Timestamp('2019-06-07 00:00:00'),\n Timestamp('2019-06-08 00:00:00'),\n Timestamp('2019-06-09 00:00:00'),\n Timestamp('2019-06-10 00:00:00'),\n Timestamp('2019-06-11 00:00:00'),\n Timestamp('2019-06-12 00:00:00'),\n Timestamp('2019-06-13 00:00:00'),\n Timestamp('2019-06-14 00:00:00'),\n Timestamp('2019-06-15 00:00:00'),\n Timestamp('2019-06-16 00:00:00'),\n Timestamp('2019-06-17 00:00:00'),\n Timestamp('2019-06-18 00:00:00'),\n Timestamp('2019-06-19 00:00:00'),\n Timestamp('2019-06-20 00:00:00'),\n Timestamp('2019-06-21 00:00:00'),\n Timestamp('2019-06-22 00:00:00'),\n Timestamp('2019-06-23 00:00:00'),\n Timestamp('2019-06-24 00:00:00'),\n Timestamp('2019-06-25 00:00:00'),\n Timestamp('2019-06-26 00:00:00'),\n Timestamp('2019-06-27 00:00:00'),\n Timestamp('2019-06-28 00:00:00'),\n Timestamp('2019-06-29 00:00:00'),\n Timestamp('2019-06-30 00:00:00'),\n Timestamp('2019-07-01 00:00:00'),\n Timestamp('2019-07-02 00:00:00'),\n Timestamp('2019-07-03 00:00:00'),\n Timestamp('2019-07-04 00:00:00'),\n Timestamp('2019-07-05 00:00:00'),\n Timestamp('2019-07-06 00:00:00'),\n Timestamp('2019-07-07 00:00:00'),\n Timestamp('2019-07-08 00:00:00'),\n Timestamp('2019-07-09 00:00:00'),\n Timestamp('2019-07-10 00:00:00'),\n Timestamp('2019-07-11 00:00:00'),\n Timestamp('2019-07-12 00:00:00'),\n Timestamp('2019-07-13 00:00:00'),\n Timestamp('2019-07-14 00:00:00'),\n Timestamp('2019-07-15 00:00:00'),\n Timestamp('2019-07-16 00:00:00'),\n Timestamp('2019-07-17 00:00:00'),\n Timestamp('2019-07-18 00:00:00'),\n Timestamp('2019-07-19 00:00:00'),\n Timestamp('2019-07-20 00:00:00'),\n Timestamp('2019-07-21 00:00:00'),\n Timestamp('2019-07-22 00:00:00'),\n Timestamp('2019-07-23 00:00:00'),\n Timestamp('2019-07-25 00:00:00'),\n Timestamp('2019-07-26 00:00:00'),\n Timestamp('2019-07-27 00:00:00'),\n Timestamp('2019-07-28 00:00:00'),\n Timestamp('2019-07-29 00:00:00'),\n Timestamp('2019-07-30 00:00:00'),\n Timestamp('2019-07-31 00:00:00'),\n Timestamp('2019-08-01 00:00:00'),\n Timestamp('2019-08-02 00:00:00'),\n Timestamp('2019-08-03 00:00:00'),\n Timestamp('2019-08-04 00:00:00'),\n Timestamp('2019-08-05 00:00:00'),\n Timestamp('2019-08-06 00:00:00'),\n Timestamp('2019-08-07 00:00:00'),\n Timestamp('2019-08-08 00:00:00'),\n Timestamp('2019-08-09 00:00:00'),\n Timestamp('2019-08-10 00:00:00'),\n Timestamp('2019-08-11 00:00:00'),\n Timestamp('2019-08-12 00:00:00'),\n Timestamp('2019-08-13 00:00:00'),\n Timestamp('2019-08-14 00:00:00'),\n Timestamp('2019-08-15 00:00:00'),\n Timestamp('2019-08-16 00:00:00'),\n Timestamp('2019-08-17 00:00:00'),\n Timestamp('2019-08-18 00:00:00'),\n Timestamp('2019-08-19 00:00:00'),\n Timestamp('2019-08-20 00:00:00'),\n Timestamp('2019-08-22 00:00:00'),\n Timestamp('2019-08-23 00:00:00'),\n Timestamp('2019-08-27 00:00:00'),\n Timestamp('2019-08-28 00:00:00'),\n Timestamp('2019-08-30 00:00:00')}"
     },
     "execution_count": 67,
     "metadata": {},
     "output_type": "execute_result"
    }
   ],
   "source": [
    "# 생성한 날짜 범위 내에서 누락된 날짜들을 찾음, 즉 date_range로 날짜 범위는 있지만 데이터프레임 안에서는 존재하지않는 날짜를 출력해줌.\n",
    "set(pd.date_range(min(df_click.target_dates), max(df_click.target_dates))).difference(set(df_click.target_dates)) # 차집합"
   ],
   "metadata": {
    "collapsed": false,
    "ExecuteTime": {
     "end_time": "2023-08-29T16:03:38.465937900Z",
     "start_time": "2023-08-29T16:03:38.448635300Z"
    }
   }
  },
  {
   "cell_type": "code",
   "execution_count": 68,
   "outputs": [
    {
     "name": "stdout",
     "output_type": "stream",
     "text": [
      "  target_dates  click_d_day  click_d_1  click_d_2  click_d_3  click_d_4  \\\n",
      "0   2019-01-23            0          0          0          0          0   \n",
      "1   2019-07-24            0          0          0          0          0   \n",
      "2   2019-08-21            0          0          0          0          0   \n",
      "3   2019-08-24            0          0          0          0          0   \n",
      "4   2019-08-25            0          0          0          0          0   \n",
      "5   2019-08-26            0          0          0          0          0   \n",
      "6   2019-08-29            0          0          0          0          0   \n",
      "\n",
      "   click_d_5  click_d_6  click_d_7  \n",
      "0          0          0          0  \n",
      "1          0          0          0  \n",
      "2          0          0          0  \n",
      "3          0          0          0  \n",
      "4          0          0          0  \n",
      "5          0          0          0  \n",
      "6          0          0          0  \n"
     ]
    }
   ],
   "source": [
    "print(df_click[df_click.target_dates<'2019-08-30'])"
   ],
   "metadata": {
    "collapsed": false,
    "ExecuteTime": {
     "end_time": "2023-08-29T16:03:38.584061Z",
     "start_time": "2023-08-29T16:03:38.465937900Z"
    }
   }
  },
  {
   "cell_type": "code",
   "execution_count": 69,
   "outputs": [
    {
     "data": {
      "text/plain": "set()"
     },
     "execution_count": 69,
     "metadata": {},
     "output_type": "execute_result"
    }
   ],
   "source": [
    "df_click.drop(df_click[df_click.target_dates<'2019-08-30'].index, inplace=True) # .index는 조건에 해당하는 행들의 인덱스를 선택하는 것\n",
    "set(pd.date_range(min(df_click.target_dates), max(df_click.target_dates))).difference(set(df_click.target_dates))"
   ],
   "metadata": {
    "collapsed": false,
    "ExecuteTime": {
     "end_time": "2023-08-29T16:03:38.584061Z",
     "start_time": "2023-08-29T16:03:38.478253200Z"
    }
   }
  },
  {
   "cell_type": "code",
   "execution_count": 70,
   "outputs": [
    {
     "data": {
      "text/plain": "   target_dates  click_d_day  click_d_1  click_d_2  click_d_3  click_d_4  \\\n7    2019-08-31           33          0          0          0          0   \n8    2019-09-01       265846          0          0          0          0   \n9    2019-09-02       218807       6761          0          0          0   \n10   2019-09-03       208567      11582       2167          0          0   \n11   2019-09-04       207250      12927       5700       1279          0   \n\n    click_d_5  click_d_6  click_d_7  \n7           0          0          0  \n8           0          0          0  \n9           0          0          0  \n10          0          0          0  \n11          0          0          0  ",
      "text/html": "<div>\n<style scoped>\n    .dataframe tbody tr th:only-of-type {\n        vertical-align: middle;\n    }\n\n    .dataframe tbody tr th {\n        vertical-align: top;\n    }\n\n    .dataframe thead th {\n        text-align: right;\n    }\n</style>\n<table border=\"1\" class=\"dataframe\">\n  <thead>\n    <tr style=\"text-align: right;\">\n      <th></th>\n      <th>target_dates</th>\n      <th>click_d_day</th>\n      <th>click_d_1</th>\n      <th>click_d_2</th>\n      <th>click_d_3</th>\n      <th>click_d_4</th>\n      <th>click_d_5</th>\n      <th>click_d_6</th>\n      <th>click_d_7</th>\n    </tr>\n  </thead>\n  <tbody>\n    <tr>\n      <th>7</th>\n      <td>2019-08-31</td>\n      <td>33</td>\n      <td>0</td>\n      <td>0</td>\n      <td>0</td>\n      <td>0</td>\n      <td>0</td>\n      <td>0</td>\n      <td>0</td>\n    </tr>\n    <tr>\n      <th>8</th>\n      <td>2019-09-01</td>\n      <td>265846</td>\n      <td>0</td>\n      <td>0</td>\n      <td>0</td>\n      <td>0</td>\n      <td>0</td>\n      <td>0</td>\n      <td>0</td>\n    </tr>\n    <tr>\n      <th>9</th>\n      <td>2019-09-02</td>\n      <td>218807</td>\n      <td>6761</td>\n      <td>0</td>\n      <td>0</td>\n      <td>0</td>\n      <td>0</td>\n      <td>0</td>\n      <td>0</td>\n    </tr>\n    <tr>\n      <th>10</th>\n      <td>2019-09-03</td>\n      <td>208567</td>\n      <td>11582</td>\n      <td>2167</td>\n      <td>0</td>\n      <td>0</td>\n      <td>0</td>\n      <td>0</td>\n      <td>0</td>\n    </tr>\n    <tr>\n      <th>11</th>\n      <td>2019-09-04</td>\n      <td>207250</td>\n      <td>12927</td>\n      <td>5700</td>\n      <td>1279</td>\n      <td>0</td>\n      <td>0</td>\n      <td>0</td>\n      <td>0</td>\n    </tr>\n  </tbody>\n</table>\n</div>"
     },
     "execution_count": 70,
     "metadata": {},
     "output_type": "execute_result"
    }
   ],
   "source": [
    "df_click.head()"
   ],
   "metadata": {
    "collapsed": false,
    "ExecuteTime": {
     "end_time": "2023-08-29T16:03:38.694486900Z",
     "start_time": "2023-08-29T16:03:38.508581200Z"
    }
   }
  },
  {
   "cell_type": "code",
   "execution_count": 70,
   "outputs": [],
   "source": [],
   "metadata": {
    "collapsed": false,
    "ExecuteTime": {
     "end_time": "2023-08-29T16:03:38.741406700Z",
     "start_time": "2023-08-29T16:03:38.515345100Z"
    }
   }
  }
 ],
 "metadata": {
  "kernelspec": {
   "display_name": "Python 3",
   "language": "python",
   "name": "python3"
  },
  "language_info": {
   "codemirror_mode": {
    "name": "ipython",
    "version": 2
   },
   "file_extension": ".py",
   "mimetype": "text/x-python",
   "name": "python",
   "nbconvert_exporter": "python",
   "pygments_lexer": "ipython2",
   "version": "2.7.6"
  }
 },
 "nbformat": 4,
 "nbformat_minor": 0
}
