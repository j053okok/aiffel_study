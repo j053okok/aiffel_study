{
 "cells": [
  {
   "cell_type": "markdown",
   "source": [
    "* soynlp는 품사태깅, 형태소분석 등을 지원하는 형태소 분석기\n",
    "* 비지도 학습으로 분석을 한다는 특징을 가지고 있음\n",
    "* 내부적으로 단어 점수표로 동작을함 이 점수는 응집확률과 브랜칭 엔트로피를 활용함"
   ],
   "metadata": {
    "collapsed": false
   },
   "id": "71ba4a5b64683658"
  },
  {
   "cell_type": "code",
   "execution_count": 14,
   "id": "initial_id",
   "metadata": {
    "collapsed": true,
    "ExecuteTime": {
     "end_time": "2023-10-05T08:19:29.221121500Z",
     "start_time": "2023-10-05T08:19:29.205549Z"
    }
   },
   "outputs": [],
   "source": [
    "import urllib.request\n",
    "from soynlp import DoublespaceLineCorpus\n",
    "import os"
   ]
  },
  {
   "cell_type": "code",
   "execution_count": 18,
   "outputs": [
    {
     "data": {
      "text/plain": "('C:\\\\Users\\\\008yo\\\\AppData\\\\Local\\\\Temp\\\\tmp8bkr_ur5',\n <http.client.HTTPMessage at 0x1e85e957c10>)"
     },
     "execution_count": 18,
     "metadata": {},
     "output_type": "execute_result"
    }
   ],
   "source": [
    "txt_filename = os.getenv(\"C:/Users/008yo/PycharmProjects/aiffel_study/1005_node/2016-10-20.txt\")\n",
    "\n",
    "urllib.request.urlretrieve(\"https://raw.githubusercontent.com/lovit/soynlp/master/tutorials/2016-10-20.txt\",\\\n",
    "                            filename=txt_filename)"
   ],
   "metadata": {
    "collapsed": false,
    "ExecuteTime": {
     "end_time": "2023-10-05T08:20:40.163110900Z",
     "start_time": "2023-10-05T08:20:39.072481Z"
    }
   },
   "id": "27cd0aa833f1a47a"
  },
  {
   "cell_type": "code",
   "execution_count": 19,
   "outputs": [
    {
     "name": "stdout",
     "output_type": "stream",
     "text": [
      "cannot access local variable 'f' where it is not associated with a value\n"
     ]
    },
    {
     "ename": "ValueError",
     "evalue": "__len__() should return >= 0",
     "output_type": "error",
     "traceback": [
      "\u001B[1;31m---------------------------------------------------------------------------\u001B[0m",
      "\u001B[1;31mValueError\u001B[0m                                Traceback (most recent call last)",
      "Cell \u001B[1;32mIn[19], line 3\u001B[0m\n\u001B[0;32m      1\u001B[0m \u001B[38;5;66;03m# 말뭉치에 대해서 다수의 문서로 분리\u001B[39;00m\n\u001B[0;32m      2\u001B[0m corpus \u001B[38;5;241m=\u001B[39m DoublespaceLineCorpus(txt_filename)\n\u001B[1;32m----> 3\u001B[0m \u001B[38;5;28;43mlen\u001B[39;49m\u001B[43m(\u001B[49m\u001B[43mcorpus\u001B[49m\u001B[43m)\u001B[49m\n",
      "\u001B[1;31mValueError\u001B[0m: __len__() should return >= 0"
     ]
    }
   ],
   "source": [
    "# 말뭉치에 대해서 다수의 문서로 분리\n",
    "corpus = DoublespaceLineCorpus(txt_filename)\n",
    "len(corpus)"
   ],
   "metadata": {
    "collapsed": false,
    "ExecuteTime": {
     "end_time": "2023-10-05T08:20:43.796836500Z",
     "start_time": "2023-10-05T08:20:43.784370900Z"
    }
   },
   "id": "2b8c52c6a98df4eb"
  },
  {
   "cell_type": "code",
   "execution_count": 20,
   "outputs": [
    {
     "name": "stdout",
     "output_type": "stream",
     "text": [
      "cannot access local variable 'f' where it is not associated with a value\n",
      "training was done. used memory 0.135 Gb\n",
      "all cohesion probabilities was computed. # words = 0\n",
      "all branching entropies was computed # words = 0\n",
      "all accessor variety was computed # words = 0\n"
     ]
    }
   ],
   "source": [
    "from soynlp.word import WordExtractor\n",
    "\n",
    "word_extractor = WordExtractor()\n",
    "word_extractor.train(corpus)\n",
    "word_score_table = word_extractor.extract()"
   ],
   "metadata": {
    "collapsed": false,
    "ExecuteTime": {
     "end_time": "2023-10-05T08:23:51.356132900Z",
     "start_time": "2023-10-05T08:23:51.339702500Z"
    }
   },
   "id": "5b693248c7a66cb0"
  },
  {
   "cell_type": "code",
   "execution_count": null,
   "outputs": [],
   "source": [],
   "metadata": {
    "collapsed": false
   },
   "id": "ec6f464e96062177"
  }
 ],
 "metadata": {
  "kernelspec": {
   "display_name": "Python 3",
   "language": "python",
   "name": "python3"
  },
  "language_info": {
   "codemirror_mode": {
    "name": "ipython",
    "version": 2
   },
   "file_extension": ".py",
   "mimetype": "text/x-python",
   "name": "python",
   "nbconvert_exporter": "python",
   "pygments_lexer": "ipython2",
   "version": "2.7.6"
  }
 },
 "nbformat": 4,
 "nbformat_minor": 5
}
