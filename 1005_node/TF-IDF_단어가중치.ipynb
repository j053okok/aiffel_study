{
 "cells": [
  {
   "cell_type": "code",
   "execution_count": 6,
   "outputs": [],
   "source": [
    "from math import log\n",
    "import pandas as pd"
   ],
   "metadata": {
    "collapsed": false,
    "ExecuteTime": {
     "end_time": "2023-10-05T04:43:31.441974900Z",
     "start_time": "2023-10-05T04:43:30.497412200Z"
    }
   },
   "id": "96d1baa9c127a71b"
  },
  {
   "cell_type": "code",
   "execution_count": 7,
   "outputs": [],
   "source": [
    "docs = [\n",
    "  'John likes to watch movies and Mary likes movies too',\n",
    "  'James likes to watch TV',\n",
    "  'Mary also likes to watch football games',  \n",
    "]"
   ],
   "metadata": {
    "collapsed": false,
    "ExecuteTime": {
     "end_time": "2023-10-05T04:43:31.442724900Z",
     "start_time": "2023-10-05T04:43:31.435547900Z"
    }
   },
   "id": "4b7294c39445abd3"
  },
  {
   "cell_type": "code",
   "execution_count": 8,
   "outputs": [
    {
     "name": "stdout",
     "output_type": "stream",
     "text": [
      "단어장의 크기 : 13\n",
      "['James', 'John', 'Mary', 'TV', 'also', 'and', 'football', 'games', 'likes', 'movies', 'to', 'too', 'watch']\n"
     ]
    }
   ],
   "source": [
    "vocab = list(set(w for doc in docs for w in doc.split()))\n",
    "vocab.sort()\n",
    "print('단어장의 크기 :', len(vocab))\n",
    "print(vocab)"
   ],
   "metadata": {
    "collapsed": false,
    "ExecuteTime": {
     "end_time": "2023-10-05T04:43:31.454837Z",
     "start_time": "2023-10-05T04:43:31.438973900Z"
    }
   },
   "id": "e7b68fe507ccd329"
  },
  {
   "cell_type": "code",
   "execution_count": 9,
   "outputs": [
    {
     "data": {
      "text/plain": "3"
     },
     "execution_count": 9,
     "metadata": {},
     "output_type": "execute_result"
    }
   ],
   "source": [
    "N = len(docs) # 총 문서의 수\n",
    "N"
   ],
   "metadata": {
    "collapsed": false,
    "ExecuteTime": {
     "end_time": "2023-10-05T04:43:31.465906Z",
     "start_time": "2023-10-05T04:43:31.450336100Z"
    }
   },
   "id": "4f59f0f1b252e478"
  },
  {
   "cell_type": "code",
   "execution_count": 10,
   "outputs": [],
   "source": [
    "# TF함수, IDF함수 TF-IDF함수 정의\n",
    "def tf(t, d):\n",
    "    return d.count(t)\n",
    " \n",
    "def idf(t):\n",
    "    df = 0\n",
    "    for doc in docs:\n",
    "        df += t in doc    \n",
    "    return log(N/(df + 1)) + 1\n",
    " \n",
    "def tfidf(t, d):\n",
    "    return tf(t,d)* idf(t)"
   ],
   "metadata": {
    "collapsed": false,
    "ExecuteTime": {
     "end_time": "2023-10-05T04:43:31.487770700Z",
     "start_time": "2023-10-05T04:43:31.460655400Z"
    }
   },
   "id": "b1a33696cdf674d8"
  },
  {
   "cell_type": "code",
   "execution_count": 12,
   "outputs": [
    {
     "data": {
      "text/plain": "   James  John  Mary  TV  also  and  football  games  likes  movies  to  too  \\\n0      0     1     1   0     0    1         0      0      2       2   2    1   \n1      1     0     0   1     0    0         0      0      1       0   1    0   \n2      0     0     1   0     1    0         1      1      1       0   1    0   \n\n   watch  \n0      1  \n1      1  \n2      1  ",
      "text/html": "<div>\n<style scoped>\n    .dataframe tbody tr th:only-of-type {\n        vertical-align: middle;\n    }\n\n    .dataframe tbody tr th {\n        vertical-align: top;\n    }\n\n    .dataframe thead th {\n        text-align: right;\n    }\n</style>\n<table border=\"1\" class=\"dataframe\">\n  <thead>\n    <tr style=\"text-align: right;\">\n      <th></th>\n      <th>James</th>\n      <th>John</th>\n      <th>Mary</th>\n      <th>TV</th>\n      <th>also</th>\n      <th>and</th>\n      <th>football</th>\n      <th>games</th>\n      <th>likes</th>\n      <th>movies</th>\n      <th>to</th>\n      <th>too</th>\n      <th>watch</th>\n    </tr>\n  </thead>\n  <tbody>\n    <tr>\n      <th>0</th>\n      <td>0</td>\n      <td>1</td>\n      <td>1</td>\n      <td>0</td>\n      <td>0</td>\n      <td>1</td>\n      <td>0</td>\n      <td>0</td>\n      <td>2</td>\n      <td>2</td>\n      <td>2</td>\n      <td>1</td>\n      <td>1</td>\n    </tr>\n    <tr>\n      <th>1</th>\n      <td>1</td>\n      <td>0</td>\n      <td>0</td>\n      <td>1</td>\n      <td>0</td>\n      <td>0</td>\n      <td>0</td>\n      <td>0</td>\n      <td>1</td>\n      <td>0</td>\n      <td>1</td>\n      <td>0</td>\n      <td>1</td>\n    </tr>\n    <tr>\n      <th>2</th>\n      <td>0</td>\n      <td>0</td>\n      <td>1</td>\n      <td>0</td>\n      <td>1</td>\n      <td>0</td>\n      <td>1</td>\n      <td>1</td>\n      <td>1</td>\n      <td>0</td>\n      <td>1</td>\n      <td>0</td>\n      <td>1</td>\n    </tr>\n  </tbody>\n</table>\n</div>"
     },
     "execution_count": 12,
     "metadata": {},
     "output_type": "execute_result"
    }
   ],
   "source": [
    "# TF함수를 사용하여 DTM을 만들기\n",
    "result = []\n",
    "for i in range(N): # 각 문서에 대해서 아래 명령을 수행\n",
    "    result.append([])\n",
    "    d = docs[i]\n",
    "    for j in range(len(vocab)):\n",
    "        t = vocab[j]\n",
    "        \n",
    "        result[-1].append(tf(t, d))\n",
    "        \n",
    "tf_ = pd.DataFrame(result, columns = vocab)\n",
    "tf_"
   ],
   "metadata": {
    "collapsed": false,
    "ExecuteTime": {
     "end_time": "2023-10-05T04:58:37.089239300Z",
     "start_time": "2023-10-05T04:58:37.079575Z"
    }
   },
   "id": "6838db05510d231a"
  },
  {
   "cell_type": "code",
   "execution_count": 13,
   "outputs": [
    {
     "data": {
      "text/plain": "               IDF\nJames     1.405465\nJohn      1.405465\nMary      1.000000\nTV        1.405465\nalso      1.405465\nand       1.405465\nfootball  1.405465\ngames     1.405465\nlikes     0.712318\nmovies    1.405465\nto        0.712318\ntoo       1.405465\nwatch     0.712318",
      "text/html": "<div>\n<style scoped>\n    .dataframe tbody tr th:only-of-type {\n        vertical-align: middle;\n    }\n\n    .dataframe tbody tr th {\n        vertical-align: top;\n    }\n\n    .dataframe thead th {\n        text-align: right;\n    }\n</style>\n<table border=\"1\" class=\"dataframe\">\n  <thead>\n    <tr style=\"text-align: right;\">\n      <th></th>\n      <th>IDF</th>\n    </tr>\n  </thead>\n  <tbody>\n    <tr>\n      <th>James</th>\n      <td>1.405465</td>\n    </tr>\n    <tr>\n      <th>John</th>\n      <td>1.405465</td>\n    </tr>\n    <tr>\n      <th>Mary</th>\n      <td>1.000000</td>\n    </tr>\n    <tr>\n      <th>TV</th>\n      <td>1.405465</td>\n    </tr>\n    <tr>\n      <th>also</th>\n      <td>1.405465</td>\n    </tr>\n    <tr>\n      <th>and</th>\n      <td>1.405465</td>\n    </tr>\n    <tr>\n      <th>football</th>\n      <td>1.405465</td>\n    </tr>\n    <tr>\n      <th>games</th>\n      <td>1.405465</td>\n    </tr>\n    <tr>\n      <th>likes</th>\n      <td>0.712318</td>\n    </tr>\n    <tr>\n      <th>movies</th>\n      <td>1.405465</td>\n    </tr>\n    <tr>\n      <th>to</th>\n      <td>0.712318</td>\n    </tr>\n    <tr>\n      <th>too</th>\n      <td>1.405465</td>\n    </tr>\n    <tr>\n      <th>watch</th>\n      <td>0.712318</td>\n    </tr>\n  </tbody>\n</table>\n</div>"
     },
     "execution_count": 13,
     "metadata": {},
     "output_type": "execute_result"
    }
   ],
   "source": [
    "# 각 단어의 IDF구하기\n",
    "result = []\n",
    "for j in range(len(vocab)):\n",
    "    t = vocab[j]\n",
    "    result.append(idf(t))\n",
    "\n",
    "idf_ = pd.DataFrame(result, index = vocab, columns=[\"IDF\"])\n",
    "idf_"
   ],
   "metadata": {
    "collapsed": false,
    "ExecuteTime": {
     "end_time": "2023-10-05T04:58:51.811068200Z",
     "start_time": "2023-10-05T04:58:51.791981500Z"
    }
   },
   "id": "d62415b742c91dd"
  },
  {
   "cell_type": "code",
   "execution_count": 14,
   "outputs": [
    {
     "data": {
      "text/plain": "      James      John  Mary        TV      also       and  football     games  \\\n0  0.000000  1.405465   1.0  0.000000  0.000000  1.405465  0.000000  0.000000   \n1  1.405465  0.000000   0.0  1.405465  0.000000  0.000000  0.000000  0.000000   \n2  0.000000  0.000000   1.0  0.000000  1.405465  0.000000  1.405465  1.405465   \n\n      likes   movies        to       too     watch  \n0  1.424636  2.81093  1.424636  1.405465  0.712318  \n1  0.712318  0.00000  0.712318  0.000000  0.712318  \n2  0.712318  0.00000  0.712318  0.000000  0.712318  ",
      "text/html": "<div>\n<style scoped>\n    .dataframe tbody tr th:only-of-type {\n        vertical-align: middle;\n    }\n\n    .dataframe tbody tr th {\n        vertical-align: top;\n    }\n\n    .dataframe thead th {\n        text-align: right;\n    }\n</style>\n<table border=\"1\" class=\"dataframe\">\n  <thead>\n    <tr style=\"text-align: right;\">\n      <th></th>\n      <th>James</th>\n      <th>John</th>\n      <th>Mary</th>\n      <th>TV</th>\n      <th>also</th>\n      <th>and</th>\n      <th>football</th>\n      <th>games</th>\n      <th>likes</th>\n      <th>movies</th>\n      <th>to</th>\n      <th>too</th>\n      <th>watch</th>\n    </tr>\n  </thead>\n  <tbody>\n    <tr>\n      <th>0</th>\n      <td>0.000000</td>\n      <td>1.405465</td>\n      <td>1.0</td>\n      <td>0.000000</td>\n      <td>0.000000</td>\n      <td>1.405465</td>\n      <td>0.000000</td>\n      <td>0.000000</td>\n      <td>1.424636</td>\n      <td>2.81093</td>\n      <td>1.424636</td>\n      <td>1.405465</td>\n      <td>0.712318</td>\n    </tr>\n    <tr>\n      <th>1</th>\n      <td>1.405465</td>\n      <td>0.000000</td>\n      <td>0.0</td>\n      <td>1.405465</td>\n      <td>0.000000</td>\n      <td>0.000000</td>\n      <td>0.000000</td>\n      <td>0.000000</td>\n      <td>0.712318</td>\n      <td>0.00000</td>\n      <td>0.712318</td>\n      <td>0.000000</td>\n      <td>0.712318</td>\n    </tr>\n    <tr>\n      <th>2</th>\n      <td>0.000000</td>\n      <td>0.000000</td>\n      <td>1.0</td>\n      <td>0.000000</td>\n      <td>1.405465</td>\n      <td>0.000000</td>\n      <td>1.405465</td>\n      <td>1.405465</td>\n      <td>0.712318</td>\n      <td>0.00000</td>\n      <td>0.712318</td>\n      <td>0.000000</td>\n      <td>0.712318</td>\n    </tr>\n  </tbody>\n</table>\n</div>"
     },
     "execution_count": 14,
     "metadata": {},
     "output_type": "execute_result"
    }
   ],
   "source": [
    "# TF-IDF행렬 출력하기\n",
    "result = []\n",
    "for i in range(N):\n",
    "    result.append([])\n",
    "    d = docs[i]\n",
    "    for j in range(len(vocab)):\n",
    "        t = vocab[j]\n",
    "        \n",
    "        result[-1].append(tfidf(t,d))\n",
    "\n",
    "tfidf_ = pd.DataFrame(result, columns = vocab)\n",
    "tfidf_"
   ],
   "metadata": {
    "collapsed": false,
    "ExecuteTime": {
     "end_time": "2023-10-05T05:00:16.820078700Z",
     "start_time": "2023-10-05T05:00:16.803134Z"
    }
   },
   "id": "a27c66300e4ca1d3"
  },
  {
   "cell_type": "markdown",
   "source": [
    "#### scikit-learn TFidVectorizer 활용"
   ],
   "metadata": {
    "collapsed": false
   },
   "id": "3199eff25e43e52d"
  },
  {
   "cell_type": "code",
   "execution_count": 15,
   "outputs": [
    {
     "data": {
      "text/plain": "       also       and  football     games     james      john     likes  \\\n0  0.000000  0.321556  0.000000  0.000000  0.000000  0.321556  0.379832   \n1  0.000000  0.000000  0.000000  0.000000  0.572929  0.000000  0.338381   \n2  0.464997  0.000000  0.464997  0.464997  0.000000  0.000000  0.274634   \n\n       mary    movies        to       too        tv     watch  \n0  0.244551  0.643111  0.189916  0.321556  0.000000  0.189916  \n1  0.000000  0.000000  0.338381  0.000000  0.572929  0.338381  \n2  0.353642  0.000000  0.274634  0.000000  0.000000  0.274634  ",
      "text/html": "<div>\n<style scoped>\n    .dataframe tbody tr th:only-of-type {\n        vertical-align: middle;\n    }\n\n    .dataframe tbody tr th {\n        vertical-align: top;\n    }\n\n    .dataframe thead th {\n        text-align: right;\n    }\n</style>\n<table border=\"1\" class=\"dataframe\">\n  <thead>\n    <tr style=\"text-align: right;\">\n      <th></th>\n      <th>also</th>\n      <th>and</th>\n      <th>football</th>\n      <th>games</th>\n      <th>james</th>\n      <th>john</th>\n      <th>likes</th>\n      <th>mary</th>\n      <th>movies</th>\n      <th>to</th>\n      <th>too</th>\n      <th>tv</th>\n      <th>watch</th>\n    </tr>\n  </thead>\n  <tbody>\n    <tr>\n      <th>0</th>\n      <td>0.000000</td>\n      <td>0.321556</td>\n      <td>0.000000</td>\n      <td>0.000000</td>\n      <td>0.000000</td>\n      <td>0.321556</td>\n      <td>0.379832</td>\n      <td>0.244551</td>\n      <td>0.643111</td>\n      <td>0.189916</td>\n      <td>0.321556</td>\n      <td>0.000000</td>\n      <td>0.189916</td>\n    </tr>\n    <tr>\n      <th>1</th>\n      <td>0.000000</td>\n      <td>0.000000</td>\n      <td>0.000000</td>\n      <td>0.000000</td>\n      <td>0.572929</td>\n      <td>0.000000</td>\n      <td>0.338381</td>\n      <td>0.000000</td>\n      <td>0.000000</td>\n      <td>0.338381</td>\n      <td>0.000000</td>\n      <td>0.572929</td>\n      <td>0.338381</td>\n    </tr>\n    <tr>\n      <th>2</th>\n      <td>0.464997</td>\n      <td>0.000000</td>\n      <td>0.464997</td>\n      <td>0.464997</td>\n      <td>0.000000</td>\n      <td>0.000000</td>\n      <td>0.274634</td>\n      <td>0.353642</td>\n      <td>0.000000</td>\n      <td>0.274634</td>\n      <td>0.000000</td>\n      <td>0.000000</td>\n      <td>0.274634</td>\n    </tr>\n  </tbody>\n</table>\n</div>"
     },
     "execution_count": 15,
     "metadata": {},
     "output_type": "execute_result"
    }
   ],
   "source": [
    "from sklearn.feature_extraction.text import TfidfVectorizer\n",
    "\n",
    "corpus = [\n",
    "  'John likes to watch movies and Mary likes movies too',\n",
    "  'James likes to watch TV',\n",
    "  'Mary also likes to watch football games',  \n",
    "]\n",
    "\n",
    "tfidfv = TfidfVectorizer().fit(corpus)\n",
    "vocab = list(tfidfv.vocabulary_.keys()) # 단어장을 리스트로 저장\n",
    "vocab.sort() # 단어장을 알파벳 순으로 정렬\n",
    "\n",
    "# TF-IDF 행렬에 단어장을 데이터프레임의 열로 지정하여 데이터프레임 생성\n",
    "tfidf_ = pd.DataFrame(tfidfv.transform(corpus).toarray(), columns = vocab)\n",
    "tfidf_"
   ],
   "metadata": {
    "collapsed": false,
    "ExecuteTime": {
     "end_time": "2023-10-05T05:01:24.437367900Z",
     "start_time": "2023-10-05T05:01:22.874401700Z"
    }
   },
   "id": "520b8d1b9a67bed7"
  },
  {
   "cell_type": "code",
   "execution_count": null,
   "outputs": [],
   "source": [],
   "metadata": {
    "collapsed": false
   },
   "id": "a0ce8a5f0e4d0d78"
  }
 ],
 "metadata": {
  "kernelspec": {
   "display_name": "Python 3",
   "language": "python",
   "name": "python3"
  },
  "language_info": {
   "codemirror_mode": {
    "name": "ipython",
    "version": 2
   },
   "file_extension": ".py",
   "mimetype": "text/x-python",
   "name": "python",
   "nbconvert_exporter": "python",
   "pygments_lexer": "ipython2",
   "version": "2.7.6"
  }
 },
 "nbformat": 4,
 "nbformat_minor": 5
}
