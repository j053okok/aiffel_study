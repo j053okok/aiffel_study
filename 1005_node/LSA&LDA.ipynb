{
 "cells": [
  {
   "cell_type": "code",
   "execution_count": 2,
   "id": "initial_id",
   "metadata": {
    "collapsed": true,
    "ExecuteTime": {
     "end_time": "2023-10-05T07:55:11.279096400Z",
     "start_time": "2023-10-05T07:55:10.152196800Z"
    }
   },
   "outputs": [],
   "source": [
    "import pandas as pd\n",
    "import numpy as np\n",
    "import urllib.request\n",
    "from sklearn.feature_extraction.text import CountVectorizer\n",
    "from sklearn.feature_extraction.text import TfidfVectorizer\n",
    "import nltk\n",
    "from nltk.corpus import stopwords\n",
    "from nltk.stem import WordNetLemmatizer"
   ]
  },
  {
   "cell_type": "markdown",
   "source": [
    "## LSA"
   ],
   "metadata": {
    "collapsed": false
   },
   "id": "6fad3eb8e9f925b3"
  },
  {
   "cell_type": "code",
   "execution_count": 3,
   "outputs": [],
   "source": [
    "# nltk.download('punkt')\n",
    "# nltk.download('wordnet')\n",
    "# nltk.download('stopwords')"
   ],
   "metadata": {
    "collapsed": false,
    "ExecuteTime": {
     "end_time": "2023-10-05T07:55:11.284833100Z",
     "start_time": "2023-10-05T07:55:11.280577700Z"
    }
   },
   "id": "b4da2985adf9ea83"
  },
  {
   "cell_type": "code",
   "execution_count": 4,
   "outputs": [
    {
     "data": {
      "text/plain": "(1082168, 2)"
     },
     "execution_count": 4,
     "metadata": {},
     "output_type": "execute_result"
    }
   ],
   "source": [
    "df = pd.read_csv(\"abcnews-date-text.csv\")\n",
    "df.shape"
   ],
   "metadata": {
    "collapsed": false,
    "ExecuteTime": {
     "end_time": "2023-10-05T07:55:11.989862Z",
     "start_time": "2023-10-05T07:55:11.282582900Z"
    }
   },
   "id": "376f92cde638d1ba"
  },
  {
   "cell_type": "code",
   "execution_count": 5,
   "outputs": [
    {
     "data": {
      "text/plain": "   publish_date                                      headline_text\n0      20030219  aba decides against community broadcasting lic...\n1      20030219     act fire witnesses must be aware of defamation\n2      20030219     a g calls for infrastructure protection summit\n3      20030219           air nz staff in aust strike for pay rise\n4      20030219      air nz strike to affect australian travellers",
      "text/html": "<div>\n<style scoped>\n    .dataframe tbody tr th:only-of-type {\n        vertical-align: middle;\n    }\n\n    .dataframe tbody tr th {\n        vertical-align: top;\n    }\n\n    .dataframe thead th {\n        text-align: right;\n    }\n</style>\n<table border=\"1\" class=\"dataframe\">\n  <thead>\n    <tr style=\"text-align: right;\">\n      <th></th>\n      <th>publish_date</th>\n      <th>headline_text</th>\n    </tr>\n  </thead>\n  <tbody>\n    <tr>\n      <th>0</th>\n      <td>20030219</td>\n      <td>aba decides against community broadcasting lic...</td>\n    </tr>\n    <tr>\n      <th>1</th>\n      <td>20030219</td>\n      <td>act fire witnesses must be aware of defamation</td>\n    </tr>\n    <tr>\n      <th>2</th>\n      <td>20030219</td>\n      <td>a g calls for infrastructure protection summit</td>\n    </tr>\n    <tr>\n      <th>3</th>\n      <td>20030219</td>\n      <td>air nz staff in aust strike for pay rise</td>\n    </tr>\n    <tr>\n      <th>4</th>\n      <td>20030219</td>\n      <td>air nz strike to affect australian travellers</td>\n    </tr>\n  </tbody>\n</table>\n</div>"
     },
     "execution_count": 5,
     "metadata": {},
     "output_type": "execute_result"
    }
   ],
   "source": [
    "df.head()"
   ],
   "metadata": {
    "collapsed": false,
    "ExecuteTime": {
     "end_time": "2023-10-05T07:55:11.997671300Z",
     "start_time": "2023-10-05T07:55:11.989112100Z"
    }
   },
   "id": "bc7362c98d23ff60"
  },
  {
   "cell_type": "code",
   "execution_count": 6,
   "outputs": [
    {
     "data": {
      "text/plain": "                                       headline_text\n0  aba decides against community broadcasting lic...\n1     act fire witnesses must be aware of defamation\n2     a g calls for infrastructure protection summit\n3           air nz staff in aust strike for pay rise\n4      air nz strike to affect australian travellers",
      "text/html": "<div>\n<style scoped>\n    .dataframe tbody tr th:only-of-type {\n        vertical-align: middle;\n    }\n\n    .dataframe tbody tr th {\n        vertical-align: top;\n    }\n\n    .dataframe thead th {\n        text-align: right;\n    }\n</style>\n<table border=\"1\" class=\"dataframe\">\n  <thead>\n    <tr style=\"text-align: right;\">\n      <th></th>\n      <th>headline_text</th>\n    </tr>\n  </thead>\n  <tbody>\n    <tr>\n      <th>0</th>\n      <td>aba decides against community broadcasting lic...</td>\n    </tr>\n    <tr>\n      <th>1</th>\n      <td>act fire witnesses must be aware of defamation</td>\n    </tr>\n    <tr>\n      <th>2</th>\n      <td>a g calls for infrastructure protection summit</td>\n    </tr>\n    <tr>\n      <th>3</th>\n      <td>air nz staff in aust strike for pay rise</td>\n    </tr>\n    <tr>\n      <th>4</th>\n      <td>air nz strike to affect australian travellers</td>\n    </tr>\n  </tbody>\n</table>\n</div>"
     },
     "execution_count": 6,
     "metadata": {},
     "output_type": "execute_result"
    }
   ],
   "source": [
    "text = df[['headline_text']].copy()\n",
    "text.head()"
   ],
   "metadata": {
    "collapsed": false,
    "ExecuteTime": {
     "end_time": "2023-10-05T07:55:12.101944700Z",
     "start_time": "2023-10-05T07:55:11.995419500Z"
    }
   },
   "id": "633d12cfdf4c16ca"
  },
  {
   "cell_type": "code",
   "execution_count": 7,
   "outputs": [
    {
     "data": {
      "text/plain": "headline_text    1054983\ndtype: int64"
     },
     "execution_count": 7,
     "metadata": {},
     "output_type": "execute_result"
    }
   ],
   "source": [
    "text.nunique() # 중복을 제외하고 유일한 시퀀스를 가지는 샘플의 개수를 출력"
   ],
   "metadata": {
    "collapsed": false,
    "ExecuteTime": {
     "end_time": "2023-10-05T07:55:12.336496700Z",
     "start_time": "2023-10-05T07:55:12.047864200Z"
    }
   },
   "id": "9528a387f10843da"
  },
  {
   "cell_type": "code",
   "execution_count": 8,
   "outputs": [
    {
     "data": {
      "text/plain": "(1054983, 1)"
     },
     "execution_count": 8,
     "metadata": {},
     "output_type": "execute_result"
    }
   ],
   "source": [
    "text.drop_duplicates(inplace=True) # 중복 샘플 제거\n",
    "text.reset_index(drop=True, inplace=True)\n",
    "text.shape"
   ],
   "metadata": {
    "collapsed": false,
    "ExecuteTime": {
     "end_time": "2023-10-05T07:55:12.541789500Z",
     "start_time": "2023-10-05T07:55:12.329284400Z"
    }
   },
   "id": "82c0a74cd6bf7c38"
  },
  {
   "cell_type": "markdown",
   "source": [
    "### 데이터 정제 및 정규화\n",
    "* NLTK의 토크나이저를 이용해 전체 텍스트 데이터에 대해서 단어 토큰화를 수행\n",
    "* NLTK가 제공하는 불용어 리스트를 사용하여 불용어를 제거"
   ],
   "metadata": {
    "collapsed": false
   },
   "id": "f1cb336e1922bc20"
  },
  {
   "cell_type": "code",
   "execution_count": 9,
   "outputs": [
    {
     "data": {
      "text/plain": "                                       headline_text\n0   [aba, decides, community, broadcasting, licence]\n1    [act, fire, witnesses, must, aware, defamation]\n2     [g, calls, infrastructure, protection, summit]\n3          [air, nz, staff, aust, strike, pay, rise]\n4  [air, nz, strike, affect, australian, travellers]",
      "text/html": "<div>\n<style scoped>\n    .dataframe tbody tr th:only-of-type {\n        vertical-align: middle;\n    }\n\n    .dataframe tbody tr th {\n        vertical-align: top;\n    }\n\n    .dataframe thead th {\n        text-align: right;\n    }\n</style>\n<table border=\"1\" class=\"dataframe\">\n  <thead>\n    <tr style=\"text-align: right;\">\n      <th></th>\n      <th>headline_text</th>\n    </tr>\n  </thead>\n  <tbody>\n    <tr>\n      <th>0</th>\n      <td>[aba, decides, community, broadcasting, licence]</td>\n    </tr>\n    <tr>\n      <th>1</th>\n      <td>[act, fire, witnesses, must, aware, defamation]</td>\n    </tr>\n    <tr>\n      <th>2</th>\n      <td>[g, calls, infrastructure, protection, summit]</td>\n    </tr>\n    <tr>\n      <th>3</th>\n      <td>[air, nz, staff, aust, strike, pay, rise]</td>\n    </tr>\n    <tr>\n      <th>4</th>\n      <td>[air, nz, strike, affect, australian, travellers]</td>\n    </tr>\n  </tbody>\n</table>\n</div>"
     },
     "execution_count": 9,
     "metadata": {},
     "output_type": "execute_result"
    }
   ],
   "source": [
    "# NLTK 토크나이저를 이용해서 토큰화\n",
    "text['headline_text'] = text.apply(lambda row: nltk.word_tokenize(row['headline_text']), axis=1)\n",
    "\n",
    "# 불용어 제거\n",
    "stop_words = stopwords.words('english')\n",
    "text['headline_text'] = text['headline_text'].apply(lambda x: [word for word in x if word not in (stop_words)])\n",
    "\n",
    "text.head()"
   ],
   "metadata": {
    "collapsed": false,
    "ExecuteTime": {
     "end_time": "2023-10-05T07:56:13.862832400Z",
     "start_time": "2023-10-05T07:55:12.542540100Z"
    }
   },
   "id": "8f5905e90633f9b2"
  },
  {
   "cell_type": "markdown",
   "source": [
    "* 동일한 단어지만 다른표현을 가지는 단어들은 하나의 단어로 통합하는 단어 정규화 과정\n",
    "* 길이가 1~2인 단어를 제거"
   ],
   "metadata": {
    "collapsed": false
   },
   "id": "2fd5700532fe2fa8"
  },
  {
   "cell_type": "code",
   "execution_count": 10,
   "outputs": [
    {
     "name": "stdout",
     "output_type": "stream",
     "text": [
      "0     [aba, decide, community, broadcast, licence]\n",
      "1    [act, fire, witness, must, aware, defamation]\n",
      "2       [call, infrastructure, protection, summit]\n",
      "3            [air, staff, aust, strike, pay, rise]\n",
      "4    [air, strike, affect, australian, travellers]\n",
      "Name: headline_text, dtype: object\n"
     ]
    }
   ],
   "source": [
    "# 단어 정규화. 3인칭 단수 표현 -> 1인칭 변환, 과거형 동사 -> 현재형 동사 등을 수행한다.\n",
    "text['headline_text'] = text['headline_text'].apply(lambda x: [WordNetLemmatizer().lemmatize(word, pos='v') for word in x])\n",
    "\n",
    "# 길이가 1 ~ 2인 단어는 제거.\n",
    "text = text['headline_text'].apply(lambda x: [word for word in x if len(word) > 2])\n",
    "print(text[:5])"
   ],
   "metadata": {
    "collapsed": false,
    "ExecuteTime": {
     "end_time": "2023-10-05T07:56:32.311936200Z",
     "start_time": "2023-10-05T07:56:13.862832400Z"
    }
   },
   "id": "4467f792699e1b82"
  },
  {
   "cell_type": "markdown",
   "source": [
    "#### 역토큰화 및 DTM 생성\n",
    "* 토큰화 과정을 역으로 되돌리는 역토큰화 과정"
   ],
   "metadata": {
    "collapsed": false
   },
   "id": "ef0fe3b692a715a7"
  },
  {
   "cell_type": "code",
   "execution_count": 11,
   "outputs": [],
   "source": [
    "# 역토큰화 (토큰화 작업을 역으로 수행)\n",
    "detokenized_doc = []\n",
    "for i in range(len(text)):\n",
    "    t = ' '.join(text[i])\n",
    "    detokenized_doc.append(t)\n",
    "\n",
    "train_data = detokenized_doc"
   ],
   "metadata": {
    "collapsed": false,
    "ExecuteTime": {
     "end_time": "2023-10-05T07:56:33.707682400Z",
     "start_time": "2023-10-05T07:56:32.314186700Z"
    }
   },
   "id": "2423e4dcaddcbc36"
  },
  {
   "cell_type": "code",
   "execution_count": 12,
   "outputs": [
    {
     "data": {
      "text/plain": "['aba decide community broadcast licence',\n 'act fire witness must aware defamation',\n 'call infrastructure protection summit',\n 'air staff aust strike pay rise',\n 'air strike affect australian travellers']"
     },
     "execution_count": 12,
     "metadata": {},
     "output_type": "execute_result"
    }
   ],
   "source": [
    "# 전처리 최종물 확인\n",
    "train_data[:5]"
   ],
   "metadata": {
    "collapsed": false,
    "ExecuteTime": {
     "end_time": "2023-10-05T07:56:33.713400800Z",
     "start_time": "2023-10-05T07:56:33.707682400Z"
    }
   },
   "id": "339176ec280dae98"
  },
  {
   "cell_type": "code",
   "execution_count": 13,
   "outputs": [],
   "source": [
    "# 상위 5000개의 단어만 사용\n",
    "c_vectorizer = CountVectorizer(stop_words='english', max_features = 5000)\n",
    "document_term_matrix = c_vectorizer.fit_transform(train_data)"
   ],
   "metadata": {
    "collapsed": false,
    "ExecuteTime": {
     "end_time": "2023-10-05T07:56:38.039852400Z",
     "start_time": "2023-10-05T07:56:33.711150100Z"
    }
   },
   "id": "f5694393289d31d6"
  },
  {
   "cell_type": "code",
   "execution_count": 14,
   "outputs": [
    {
     "name": "stdout",
     "output_type": "stream",
     "text": [
      "행렬의 크기 : (1054983, 5000)\n"
     ]
    }
   ],
   "source": [
    "print('행렬의 크기 :',document_term_matrix.shape)"
   ],
   "metadata": {
    "collapsed": false,
    "ExecuteTime": {
     "end_time": "2023-10-05T07:56:38.046141500Z",
     "start_time": "2023-10-05T07:56:38.040602300Z"
    }
   },
   "id": "1a8ca12ed0f07916"
  },
  {
   "cell_type": "markdown",
   "source": [
    "### scikit-learn TruncatedSVD 활용"
   ],
   "metadata": {
    "collapsed": false
   },
   "id": "891e871e4b1f9b58"
  },
  {
   "cell_type": "code",
   "execution_count": 15,
   "outputs": [
    {
     "data": {
      "text/plain": "array([[ 0.0120269 , -0.00366278,  0.01833436, ...,  0.0040925 ,\n         0.00252895,  0.01211236],\n       [ 0.0290427 , -0.01065042,  0.01833555, ..., -0.00491488,\n        -0.00598788, -0.00213485],\n       [ 0.00502692, -0.00201313,  0.0097928 , ..., -0.0034884 ,\n         0.00200884,  0.00261587],\n       ...,\n       [ 0.02971472,  0.00460226,  0.02523923, ...,  0.02343761,\n         0.01736954,  0.02910524],\n       [ 0.06171363, -0.00611369,  0.13742009, ...,  0.8604459 ,\n         0.76776338, -0.42321487],\n       [ 0.07141915,  0.02863788,  0.00160812, ..., -0.00352558,\n         0.0098141 ,  0.06181563]])"
     },
     "execution_count": 15,
     "metadata": {},
     "output_type": "execute_result"
    }
   ],
   "source": [
    "from sklearn.decomposition import TruncatedSVD\n",
    "\n",
    "n_topics = 10\n",
    "lsa_model = TruncatedSVD(n_components = n_topics)\n",
    "lsa_model.fit_transform(document_term_matrix)"
   ],
   "metadata": {
    "collapsed": false,
    "ExecuteTime": {
     "end_time": "2023-10-05T07:56:40.987730700Z",
     "start_time": "2023-10-05T07:56:38.043140900Z"
    }
   },
   "id": "a6744a3c4107488f"
  },
  {
   "cell_type": "code",
   "execution_count": 16,
   "outputs": [
    {
     "name": "stdout",
     "output_type": "stream",
     "text": [
      "(10, 5000)\n"
     ]
    }
   ],
   "source": [
    "print(lsa_model.components_.shape)"
   ],
   "metadata": {
    "collapsed": false,
    "ExecuteTime": {
     "end_time": "2023-10-05T07:56:40.992569900Z",
     "start_time": "2023-10-05T07:56:40.987730700Z"
    }
   },
   "id": "2312a88bd8402019"
  },
  {
   "cell_type": "code",
   "execution_count": 17,
   "outputs": [
    {
     "name": "stdout",
     "output_type": "stream",
     "text": [
      "Topic 1: [('police', 0.74636), ('man', 0.45355), ('charge', 0.21098), ('new', 0.14092), ('court', 0.11147)]\n",
      "Topic 2: [('man', 0.69448), ('charge', 0.30029), ('court', 0.16857), ('face', 0.11254), ('murder', 0.10653)]\n",
      "Topic 3: [('new', 0.83679), ('plan', 0.23604), ('say', 0.18242), ('govt', 0.10996), ('council', 0.10868)]\n",
      "Topic 4: [('say', 0.73941), ('plan', 0.35729), ('govt', 0.16455), ('council', 0.13044), ('fund', 0.0797)]\n",
      "Topic 5: [('plan', 0.73259), ('council', 0.1739), ('govt', 0.13586), ('urge', 0.0822), ('fund', 0.06208)]\n",
      "Topic 6: [('govt', 0.55633), ('urge', 0.26972), ('court', 0.24011), ('fund', 0.1693), ('win', 0.15865)]\n",
      "Topic 7: [('charge', 0.54799), ('court', 0.43272), ('face', 0.37049), ('murder', 0.11129), ('plan', 0.09978)]\n",
      "Topic 8: [('win', 0.60617), ('court', 0.33921), ('kill', 0.23939), ('council', 0.17761), ('face', 0.12636)]\n",
      "Topic 9: [('win', 0.58054), ('charge', 0.48159), ('water', 0.083), ('murder', 0.07007), ('fund', 0.06419)]\n",
      "Topic 10: [('council', 0.55438), ('kill', 0.3729), ('crash', 0.30077), ('charge', 0.17143), ('car', 0.12188)]\n"
     ]
    }
   ],
   "source": [
    "terms = c_vectorizer.get_feature_names_out() # 단어 집합. 5,000개의 단어가 저장됨.\n",
    "\n",
    "def get_topics(components, feature_names, n=5):\n",
    "    for idx, topic in enumerate(components):\n",
    "        print(\"Topic %d:\" % (idx+1), [(feature_names[i], topic[i].round(5)) for i in topic.argsort()[:-n - 1:-1]])\n",
    "get_topics(lsa_model.components_, terms)"
   ],
   "metadata": {
    "collapsed": false,
    "ExecuteTime": {
     "end_time": "2023-10-05T07:56:41.009903800Z",
     "start_time": "2023-10-05T07:56:40.991069800Z"
    }
   },
   "id": "30770fc54a27b53c"
  },
  {
   "cell_type": "markdown",
   "source": [
    "## LDA"
   ],
   "metadata": {
    "collapsed": false
   },
   "id": "cedad666e9dd707f"
  },
  {
   "cell_type": "markdown",
   "source": [
    "#### TF-IDF 행렬 생성"
   ],
   "metadata": {
    "collapsed": false
   },
   "id": "d9e0f464c752eaa"
  },
  {
   "cell_type": "code",
   "execution_count": 18,
   "outputs": [
    {
     "name": "stdout",
     "output_type": "stream",
     "text": [
      "행렬의 크기 : (1054983, 5000)\n"
     ]
    }
   ],
   "source": [
    "# 상위 5,000개의 단어만 사용\n",
    "tfidf_vectorizer = TfidfVectorizer(stop_words='english', max_features=5000)\n",
    "tf_idf_matrix = tfidf_vectorizer.fit_transform(train_data)\n",
    "\n",
    "# TF-IDF 행렬의 크기를 확인해봅시다.\n",
    "print('행렬의 크기 :', tf_idf_matrix.shape)"
   ],
   "metadata": {
    "collapsed": false,
    "ExecuteTime": {
     "end_time": "2023-10-05T07:56:45.421788100Z",
     "start_time": "2023-10-05T07:56:41.007612300Z"
    }
   },
   "id": "7eaf8a71dc39be43"
  },
  {
   "cell_type": "markdown",
   "source": [
    "#### scikit-learn LDA Model 활용"
   ],
   "metadata": {
    "collapsed": false
   },
   "id": "e7d57998e8d2a8ee"
  },
  {
   "cell_type": "code",
   "execution_count": 19,
   "outputs": [
    {
     "data": {
      "text/plain": "array([[0.0335099 , 0.0335099 , 0.0335099 , ..., 0.17024867, 0.0335099 ,\n        0.0335099 ],\n       [0.03365631, 0.03365631, 0.03365631, ..., 0.03365631, 0.03365631,\n        0.03365631],\n       [0.25184095, 0.0366096 , 0.0366096 , ..., 0.0366096 , 0.0366096 ,\n        0.0366096 ],\n       ...,\n       [0.26687206, 0.02914502, 0.02914502, ..., 0.13007484, 0.02916018,\n        0.28739608],\n       [0.10378115, 0.02637829, 0.12325014, ..., 0.02637829, 0.02637829,\n        0.02637829],\n       [0.03376055, 0.03376055, 0.2255442 , ..., 0.03376055, 0.03376055,\n        0.03376055]])"
     },
     "execution_count": 19,
     "metadata": {},
     "output_type": "execute_result"
    }
   ],
   "source": [
    "from sklearn.decomposition import LatentDirichletAllocation\n",
    "\n",
    "lda_model = LatentDirichletAllocation(n_components=10, learning_method='online', random_state=777, max_iter=1)\n",
    "lda_model.fit_transform(tf_idf_matrix)"
   ],
   "metadata": {
    "collapsed": false,
    "ExecuteTime": {
     "end_time": "2023-10-05T07:58:27.469807500Z",
     "start_time": "2023-10-05T07:56:45.420287400Z"
    }
   },
   "id": "88b8ea8a1cfd2b7d"
  },
  {
   "cell_type": "code",
   "execution_count": 20,
   "outputs": [
    {
     "name": "stdout",
     "output_type": "stream",
     "text": [
      "(10, 5000)\n"
     ]
    }
   ],
   "source": [
    "print(lda_model.components_.shape)"
   ],
   "metadata": {
    "collapsed": false,
    "ExecuteTime": {
     "end_time": "2023-10-05T07:58:27.476007Z",
     "start_time": "2023-10-05T07:58:27.469807500Z"
    }
   },
   "id": "7c9a3b016c88813c"
  },
  {
   "cell_type": "code",
   "execution_count": 23,
   "outputs": [
    {
     "name": "stdout",
     "output_type": "stream",
     "text": [
      "Topic 1: [('australia', 9359.06334), ('sydney', 5854.97288), ('attack', 4784.76322), ('change', 4193.63035), ('year', 3924.88997)]\n",
      "Topic 2: [('government', 6344.07413), ('charge', 5947.12292), ('man', 4519.7974), ('state', 3658.16422), ('live', 3625.10473)]\n",
      "Topic 3: [('australian', 7666.65651), ('say', 7561.01807), ('police', 5513.22932), ('home', 4048.38409), ('report', 3796.04446)]\n",
      "Topic 4: [('melbourne', 5298.35047), ('south', 4844.59835), ('death', 4281.78433), ('china', 3214.44581), ('women', 3029.28443)]\n",
      "Topic 5: [('win', 5704.0914), ('canberra', 4322.0963), ('die', 4025.63057), ('open', 3771.65243), ('warn', 3577.47151)]\n",
      "Topic 6: [('court', 5246.3124), ('world', 4536.86331), ('country', 4166.34794), ('woman', 3983.97748), ('crash', 3793.50267)]\n",
      "Topic 7: [('election', 5418.5038), ('adelaide', 4864.95604), ('house', 4478.6135), ('school', 3966.82676), ('2016', 3955.11155)]\n",
      "Topic 8: [('trump', 8189.58575), ('new', 6625.2724), ('north', 3705.40987), ('rural', 3521.42659), ('donald', 3356.26657)]\n",
      "Topic 9: [('perth', 4552.8151), ('kill', 4093.61782), ('break', 2695.71958), ('budget', 2596.93268), ('children', 2586.01957)]\n",
      "Topic 10: [('queensland', 5552.68506), ('coast', 3825.32603), ('tasmanian', 3550.75997), ('shoot', 3185.71575), ('service', 2695.21462)]\n"
     ]
    }
   ],
   "source": [
    "terms = tfidf_vectorizer.get_feature_names_out()\n",
    "\n",
    "def get_topics(components, feature_names, n=5):\n",
    "    for idx, topic in enumerate(components):\n",
    "        print(\"Topic %d:\" % (idx+1), [(feature_names[i], topic[i].round(5)) for i in topic.argsort()[:-n-1:-1]])\n",
    "\n",
    "get_topics(lda_model.components_, terms)"
   ],
   "metadata": {
    "collapsed": false,
    "ExecuteTime": {
     "end_time": "2023-10-05T07:59:53.650775800Z",
     "start_time": "2023-10-05T07:59:53.643911200Z"
    }
   },
   "id": "d2eb0242f533ecd2"
  },
  {
   "cell_type": "code",
   "execution_count": null,
   "outputs": [],
   "source": [],
   "metadata": {
    "collapsed": false
   },
   "id": "2ac38c5fe50c0006"
  }
 ],
 "metadata": {
  "kernelspec": {
   "display_name": "Python 3",
   "language": "python",
   "name": "python3"
  },
  "language_info": {
   "codemirror_mode": {
    "name": "ipython",
    "version": 2
   },
   "file_extension": ".py",
   "mimetype": "text/x-python",
   "name": "python",
   "nbconvert_exporter": "python",
   "pygments_lexer": "ipython2",
   "version": "2.7.6"
  }
 },
 "nbformat": 4,
 "nbformat_minor": 5
}
