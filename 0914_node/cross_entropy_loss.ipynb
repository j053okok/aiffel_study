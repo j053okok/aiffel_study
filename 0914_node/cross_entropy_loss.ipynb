{
 "cells": [
  {
   "cell_type": "code",
   "execution_count": 1,
   "metadata": {
    "collapsed": true,
    "ExecuteTime": {
     "end_time": "2023-09-14T01:34:22.548282400Z",
     "start_time": "2023-09-14T01:34:22.354341300Z"
    }
   },
   "outputs": [
    {
     "name": "stdout",
     "output_type": "stream",
     "text": [
      "[0.985      0.007      0.005      0.         0.         0.00153164]\n"
     ]
    }
   ],
   "source": [
    "import numpy as np\n",
    "import random\n",
    "\n",
    "# generate random output\n",
    "#-----------------#\n",
    "# can be modified\n",
    "class_num = 6\n",
    "#-----------------#\n",
    "q_vector = []\n",
    "total = 1\n",
    "\n",
    "for i in range(class_num-1):\n",
    "    q = random.uniform(0,total)\n",
    "    q_vector.append(round(q,3))\n",
    "    total = total - q\n",
    "\n",
    "q_vector.append(total)\n",
    "softmax_output = np.array(q_vector)\n",
    "\n",
    "print(softmax_output)"
   ]
  },
  {
   "cell_type": "code",
   "execution_count": 2,
   "outputs": [
    {
     "name": "stdout",
     "output_type": "stream",
     "text": [
      "model prediction: [0.985      0.007      0.005      0.         0.         0.00153164]\n",
      "data label: [0. 0. 0. 1. 0. 0.]\n",
      "cross entropy: nan\n"
     ]
    },
    {
     "name": "stderr",
     "output_type": "stream",
     "text": [
      "C:\\Users\\김영준\\AppData\\Local\\Temp\\ipykernel_1884\\3823897665.py:9: RuntimeWarning: divide by zero encountered in log\n",
      "  cross_entropy = -np.sum(np.multiply(p_vector, np.log(softmax_output)))\n",
      "C:\\Users\\김영준\\AppData\\Local\\Temp\\ipykernel_1884\\3823897665.py:9: RuntimeWarning: invalid value encountered in multiply\n",
      "  cross_entropy = -np.sum(np.multiply(p_vector, np.log(softmax_output)))\n"
     ]
    }
   ],
   "source": [
    "#-----------------#\n",
    "# can be modified\n",
    "class_index = 4\n",
    "#-----------------#\n",
    "\n",
    "p_vector = np.zeros(class_num)\n",
    "p_vector[class_index-1] = 1\n",
    "\n",
    "cross_entropy = -np.sum(np.multiply(p_vector, np.log(softmax_output)))\n",
    "\n",
    "print('model prediction: '+str(softmax_output))\n",
    "print('data label: '+str(p_vector))\n",
    "print('cross entropy: '+str(round(cross_entropy,4)))"
   ],
   "metadata": {
    "collapsed": false,
    "ExecuteTime": {
     "end_time": "2023-09-14T01:35:31.886257500Z",
     "start_time": "2023-09-14T01:35:31.880666500Z"
    }
   }
  },
  {
   "cell_type": "code",
   "execution_count": null,
   "outputs": [],
   "source": [],
   "metadata": {
    "collapsed": false
   }
  }
 ],
 "metadata": {
  "kernelspec": {
   "display_name": "Python 3",
   "language": "python",
   "name": "python3"
  },
  "language_info": {
   "codemirror_mode": {
    "name": "ipython",
    "version": 2
   },
   "file_extension": ".py",
   "mimetype": "text/x-python",
   "name": "python",
   "nbconvert_exporter": "python",
   "pygments_lexer": "ipython2",
   "version": "2.7.6"
  }
 },
 "nbformat": 4,
 "nbformat_minor": 0
}
