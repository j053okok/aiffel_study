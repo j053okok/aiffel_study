{
 "cells": [
  {
   "cell_type": "code",
   "execution_count": 1,
   "metadata": {
    "collapsed": true,
    "ExecuteTime": {
     "end_time": "2023-09-14T01:41:45.421301900Z",
     "start_time": "2023-09-14T01:41:43.282557200Z"
    }
   },
   "outputs": [],
   "source": [
    "import pandas as pd\n",
    "import numpy as np\n",
    "from sklearn.tree import DecisionTreeClassifier\n",
    "from sklearn.model_selection import train_test_split\n",
    "from sklearn import metrics"
   ]
  },
  {
   "cell_type": "code",
   "execution_count": 7,
   "outputs": [
    {
     "data": {
      "text/plain": "     pregnant  glucose  bp  skin  insulin   bmi  pedigree  age  label\n0           6      148  72    35        0  33.6     0.627   50      1\n1           1       85  66    29        0  26.6     0.351   31      0\n2           8      183  64     0        0  23.3     0.672   32      1\n3           1       89  66    23       94  28.1     0.167   21      0\n4           0      137  40    35      168  43.1     2.288   33      1\n..        ...      ...  ..   ...      ...   ...       ...  ...    ...\n763        10      101  76    48      180  32.9     0.171   63      0\n764         2      122  70    27        0  36.8     0.340   27      0\n765         5      121  72    23      112  26.2     0.245   30      0\n766         1      126  60     0        0  30.1     0.349   47      1\n767         1       93  70    31        0  30.4     0.315   23      0\n\n[768 rows x 9 columns]",
      "text/html": "<div>\n<style scoped>\n    .dataframe tbody tr th:only-of-type {\n        vertical-align: middle;\n    }\n\n    .dataframe tbody tr th {\n        vertical-align: top;\n    }\n\n    .dataframe thead th {\n        text-align: right;\n    }\n</style>\n<table border=\"1\" class=\"dataframe\">\n  <thead>\n    <tr style=\"text-align: right;\">\n      <th></th>\n      <th>pregnant</th>\n      <th>glucose</th>\n      <th>bp</th>\n      <th>skin</th>\n      <th>insulin</th>\n      <th>bmi</th>\n      <th>pedigree</th>\n      <th>age</th>\n      <th>label</th>\n    </tr>\n  </thead>\n  <tbody>\n    <tr>\n      <th>0</th>\n      <td>6</td>\n      <td>148</td>\n      <td>72</td>\n      <td>35</td>\n      <td>0</td>\n      <td>33.6</td>\n      <td>0.627</td>\n      <td>50</td>\n      <td>1</td>\n    </tr>\n    <tr>\n      <th>1</th>\n      <td>1</td>\n      <td>85</td>\n      <td>66</td>\n      <td>29</td>\n      <td>0</td>\n      <td>26.6</td>\n      <td>0.351</td>\n      <td>31</td>\n      <td>0</td>\n    </tr>\n    <tr>\n      <th>2</th>\n      <td>8</td>\n      <td>183</td>\n      <td>64</td>\n      <td>0</td>\n      <td>0</td>\n      <td>23.3</td>\n      <td>0.672</td>\n      <td>32</td>\n      <td>1</td>\n    </tr>\n    <tr>\n      <th>3</th>\n      <td>1</td>\n      <td>89</td>\n      <td>66</td>\n      <td>23</td>\n      <td>94</td>\n      <td>28.1</td>\n      <td>0.167</td>\n      <td>21</td>\n      <td>0</td>\n    </tr>\n    <tr>\n      <th>4</th>\n      <td>0</td>\n      <td>137</td>\n      <td>40</td>\n      <td>35</td>\n      <td>168</td>\n      <td>43.1</td>\n      <td>2.288</td>\n      <td>33</td>\n      <td>1</td>\n    </tr>\n    <tr>\n      <th>...</th>\n      <td>...</td>\n      <td>...</td>\n      <td>...</td>\n      <td>...</td>\n      <td>...</td>\n      <td>...</td>\n      <td>...</td>\n      <td>...</td>\n      <td>...</td>\n    </tr>\n    <tr>\n      <th>763</th>\n      <td>10</td>\n      <td>101</td>\n      <td>76</td>\n      <td>48</td>\n      <td>180</td>\n      <td>32.9</td>\n      <td>0.171</td>\n      <td>63</td>\n      <td>0</td>\n    </tr>\n    <tr>\n      <th>764</th>\n      <td>2</td>\n      <td>122</td>\n      <td>70</td>\n      <td>27</td>\n      <td>0</td>\n      <td>36.8</td>\n      <td>0.340</td>\n      <td>27</td>\n      <td>0</td>\n    </tr>\n    <tr>\n      <th>765</th>\n      <td>5</td>\n      <td>121</td>\n      <td>72</td>\n      <td>23</td>\n      <td>112</td>\n      <td>26.2</td>\n      <td>0.245</td>\n      <td>30</td>\n      <td>0</td>\n    </tr>\n    <tr>\n      <th>766</th>\n      <td>1</td>\n      <td>126</td>\n      <td>60</td>\n      <td>0</td>\n      <td>0</td>\n      <td>30.1</td>\n      <td>0.349</td>\n      <td>47</td>\n      <td>1</td>\n    </tr>\n    <tr>\n      <th>767</th>\n      <td>1</td>\n      <td>93</td>\n      <td>70</td>\n      <td>31</td>\n      <td>0</td>\n      <td>30.4</td>\n      <td>0.315</td>\n      <td>23</td>\n      <td>0</td>\n    </tr>\n  </tbody>\n</table>\n<p>768 rows × 9 columns</p>\n</div>"
     },
     "execution_count": 7,
     "metadata": {},
     "output_type": "execute_result"
    }
   ],
   "source": [
    "col_names = ['pregnant', 'glucose', 'bp', 'skin', 'insulin', 'bmi', 'pedigree', 'age', 'label']\n",
    "df = pd.read_csv(\"diabetes.csv\",names=col_names,header=0)\n",
    "df"
   ],
   "metadata": {
    "collapsed": false,
    "ExecuteTime": {
     "end_time": "2023-09-14T01:44:36.091654300Z",
     "start_time": "2023-09-14T01:44:36.059756800Z"
    }
   }
  },
  {
   "cell_type": "code",
   "execution_count": 8,
   "outputs": [
    {
     "name": "stdout",
     "output_type": "stream",
     "text": [
      "(537, 7)\n",
      "(231, 7)\n",
      "(537,)\n",
      "(231,)\n"
     ]
    }
   ],
   "source": [
    "# 데이터셋 준비\n",
    "feature_cols = ['pregnant', 'insulin', 'bmi', 'age', 'glucose', 'bp', 'pedigree']\n",
    "X = df[feature_cols] # Features\n",
    "y = df.label # Target variable\n",
    "\n",
    "# Split dataset into training set and test set\n",
    "X_train, X_test, y_train, y_test = train_test_split(X, y, test_size=0.3, random_state=1)\n",
    "print(X_train.shape)\n",
    "print(X_test.shape)\n",
    "print(y_train.shape)\n",
    "print(y_test.shape)"
   ],
   "metadata": {
    "collapsed": false,
    "ExecuteTime": {
     "end_time": "2023-09-14T01:44:37.269057400Z",
     "start_time": "2023-09-14T01:44:37.251060100Z"
    }
   }
  },
  {
   "cell_type": "code",
   "execution_count": 9,
   "outputs": [
    {
     "name": "stdout",
     "output_type": "stream",
     "text": [
      "Accuracy: 0.683982683982684\n"
     ]
    }
   ],
   "source": [
    "# Decision Tree  모델 학습\n",
    "# Create Decision Tree classifer object\n",
    "clf = DecisionTreeClassifier()\n",
    "\n",
    "# Train Decision Tree Classifer\n",
    "clf = clf.fit(X_train,y_train)\n",
    "\n",
    "#Predict the response for test dataset\n",
    "y_pred = clf.predict(X_test)\n",
    "\n",
    "print(\"Accuracy:\",metrics.accuracy_score(y_test, y_pred))"
   ],
   "metadata": {
    "collapsed": false,
    "ExecuteTime": {
     "end_time": "2023-09-14T01:44:37.778912600Z",
     "start_time": "2023-09-14T01:44:37.751452500Z"
    }
   }
  },
  {
   "cell_type": "code",
   "execution_count": 13,
   "outputs": [
    {
     "ename": "InvocationException",
     "evalue": "GraphViz's executables not found",
     "output_type": "error",
     "traceback": [
      "\u001B[1;31m---------------------------------------------------------------------------\u001B[0m",
      "\u001B[1;31mInvocationException\u001B[0m                       Traceback (most recent call last)",
      "Cell \u001B[1;32mIn[13], line 15\u001B[0m\n\u001B[0;32m      7\u001B[0m export_graphviz(clf,\n\u001B[0;32m      8\u001B[0m                 out_file\u001B[38;5;241m=\u001B[39mdot_data,\n\u001B[0;32m      9\u001B[0m                 filled\u001B[38;5;241m=\u001B[39m\u001B[38;5;28;01mTrue\u001B[39;00m,\n\u001B[1;32m   (...)\u001B[0m\n\u001B[0;32m     12\u001B[0m                 feature_names\u001B[38;5;241m=\u001B[39mfeature_cols,\n\u001B[0;32m     13\u001B[0m                 class_names\u001B[38;5;241m=\u001B[39m[\u001B[38;5;124m'\u001B[39m\u001B[38;5;124m0\u001B[39m\u001B[38;5;124m'\u001B[39m,\u001B[38;5;124m'\u001B[39m\u001B[38;5;124m1\u001B[39m\u001B[38;5;124m'\u001B[39m])\n\u001B[0;32m     14\u001B[0m graph \u001B[38;5;241m=\u001B[39m pydotplus\u001B[38;5;241m.\u001B[39mgraph_from_dot_data(dot_data\u001B[38;5;241m.\u001B[39mgetvalue())\n\u001B[1;32m---> 15\u001B[0m \u001B[43mgraph\u001B[49m\u001B[38;5;241;43m.\u001B[39;49m\u001B[43mwrite_png\u001B[49m\u001B[43m(\u001B[49m\u001B[38;5;124;43m'\u001B[39;49m\u001B[38;5;124;43mdiabetes1.png\u001B[39;49m\u001B[38;5;124;43m'\u001B[39;49m\u001B[43m)\u001B[49m\n\u001B[0;32m     16\u001B[0m Image(graph\u001B[38;5;241m.\u001B[39mcreate_png(), retina\u001B[38;5;241m=\u001B[39m\u001B[38;5;28;01mTrue\u001B[39;00m)\n",
      "File \u001B[1;32m~\\PycharmProjects\\aiffel_study\\venv\\Lib\\site-packages\\pydotplus\\graphviz.py:1810\u001B[0m, in \u001B[0;36mDot.__init__.<locals>.<lambda>\u001B[1;34m(path, f, prog)\u001B[0m\n\u001B[0;32m   1800\u001B[0m     f\u001B[38;5;241m.\u001B[39m\u001B[38;5;18m__doc__\u001B[39m \u001B[38;5;241m=\u001B[39m (\n\u001B[0;32m   1801\u001B[0m \u001B[38;5;250m        \u001B[39m\u001B[38;5;124;03m'''Refer to the docstring accompanying the'''\u001B[39;00m\n\u001B[0;32m   1802\u001B[0m \u001B[38;5;250m        \u001B[39m\u001B[38;5;124;03m''''create' method for more information.'''\u001B[39;00m\n\u001B[0;32m   1803\u001B[0m     )\n\u001B[0;32m   1805\u001B[0m \u001B[38;5;28;01mfor\u001B[39;00m frmt \u001B[38;5;129;01min\u001B[39;00m \u001B[38;5;28mself\u001B[39m\u001B[38;5;241m.\u001B[39mformats \u001B[38;5;241m+\u001B[39m [\u001B[38;5;124m'\u001B[39m\u001B[38;5;124mraw\u001B[39m\u001B[38;5;124m'\u001B[39m]:\n\u001B[0;32m   1806\u001B[0m     \u001B[38;5;28mself\u001B[39m\u001B[38;5;241m.\u001B[39m\u001B[38;5;21m__setattr__\u001B[39m(\n\u001B[0;32m   1807\u001B[0m         \u001B[38;5;124m'\u001B[39m\u001B[38;5;124mwrite_\u001B[39m\u001B[38;5;124m'\u001B[39m \u001B[38;5;241m+\u001B[39m frmt,\n\u001B[0;32m   1808\u001B[0m         \u001B[38;5;28;01mlambda\u001B[39;00m path,\n\u001B[0;32m   1809\u001B[0m         f\u001B[38;5;241m=\u001B[39mfrmt,\n\u001B[1;32m-> 1810\u001B[0m         prog\u001B[38;5;241m=\u001B[39m\u001B[38;5;28mself\u001B[39m\u001B[38;5;241m.\u001B[39mprog: \u001B[38;5;28;43mself\u001B[39;49m\u001B[38;5;241;43m.\u001B[39;49m\u001B[43mwrite\u001B[49m\u001B[43m(\u001B[49m\u001B[43mpath\u001B[49m\u001B[43m,\u001B[49m\u001B[43m \u001B[49m\u001B[38;5;28;43mformat\u001B[39;49m\u001B[38;5;241;43m=\u001B[39;49m\u001B[43mf\u001B[49m\u001B[43m,\u001B[49m\u001B[43m \u001B[49m\u001B[43mprog\u001B[49m\u001B[38;5;241;43m=\u001B[39;49m\u001B[43mprog\u001B[49m\u001B[43m)\u001B[49m\n\u001B[0;32m   1811\u001B[0m     )\n\u001B[0;32m   1813\u001B[0m     f \u001B[38;5;241m=\u001B[39m \u001B[38;5;28mself\u001B[39m\u001B[38;5;241m.\u001B[39m\u001B[38;5;18m__dict__\u001B[39m[\u001B[38;5;124m'\u001B[39m\u001B[38;5;124mwrite_\u001B[39m\u001B[38;5;124m'\u001B[39m \u001B[38;5;241m+\u001B[39m frmt]\n\u001B[0;32m   1814\u001B[0m     f\u001B[38;5;241m.\u001B[39m\u001B[38;5;18m__doc__\u001B[39m \u001B[38;5;241m=\u001B[39m (\n\u001B[0;32m   1815\u001B[0m \u001B[38;5;250m        \u001B[39m\u001B[38;5;124;03m'''Refer to the docstring accompanying the'''\u001B[39;00m\n\u001B[0;32m   1816\u001B[0m \u001B[38;5;250m        \u001B[39m\u001B[38;5;124;03m''''write' method for more information.'''\u001B[39;00m\n\u001B[0;32m   1817\u001B[0m     )\n",
      "File \u001B[1;32m~\\PycharmProjects\\aiffel_study\\venv\\Lib\\site-packages\\pydotplus\\graphviz.py:1918\u001B[0m, in \u001B[0;36mDot.write\u001B[1;34m(self, path, prog, format)\u001B[0m\n\u001B[0;32m   1915\u001B[0m         fobj\u001B[38;5;241m.\u001B[39mwrite(data)\n\u001B[0;32m   1917\u001B[0m     \u001B[38;5;28;01melse\u001B[39;00m:\n\u001B[1;32m-> 1918\u001B[0m         fobj\u001B[38;5;241m.\u001B[39mwrite(\u001B[38;5;28;43mself\u001B[39;49m\u001B[38;5;241;43m.\u001B[39;49m\u001B[43mcreate\u001B[49m\u001B[43m(\u001B[49m\u001B[43mprog\u001B[49m\u001B[43m,\u001B[49m\u001B[43m \u001B[49m\u001B[38;5;28;43mformat\u001B[39;49m\u001B[43m)\u001B[49m)\n\u001B[0;32m   1919\u001B[0m \u001B[38;5;28;01mfinally\u001B[39;00m:\n\u001B[0;32m   1920\u001B[0m     \u001B[38;5;28;01mif\u001B[39;00m close:\n",
      "File \u001B[1;32m~\\PycharmProjects\\aiffel_study\\venv\\Lib\\site-packages\\pydotplus\\graphviz.py:1959\u001B[0m, in \u001B[0;36mDot.create\u001B[1;34m(self, prog, format)\u001B[0m\n\u001B[0;32m   1957\u001B[0m     \u001B[38;5;28mself\u001B[39m\u001B[38;5;241m.\u001B[39mprogs \u001B[38;5;241m=\u001B[39m find_graphviz()\n\u001B[0;32m   1958\u001B[0m     \u001B[38;5;28;01mif\u001B[39;00m \u001B[38;5;28mself\u001B[39m\u001B[38;5;241m.\u001B[39mprogs \u001B[38;5;129;01mis\u001B[39;00m \u001B[38;5;28;01mNone\u001B[39;00m:\n\u001B[1;32m-> 1959\u001B[0m         \u001B[38;5;28;01mraise\u001B[39;00m InvocationException(\n\u001B[0;32m   1960\u001B[0m             \u001B[38;5;124m'\u001B[39m\u001B[38;5;124mGraphViz\u001B[39m\u001B[38;5;130;01m\\'\u001B[39;00m\u001B[38;5;124ms executables not found\u001B[39m\u001B[38;5;124m'\u001B[39m)\n\u001B[0;32m   1962\u001B[0m \u001B[38;5;28;01mif\u001B[39;00m prog \u001B[38;5;129;01mnot\u001B[39;00m \u001B[38;5;129;01min\u001B[39;00m \u001B[38;5;28mself\u001B[39m\u001B[38;5;241m.\u001B[39mprogs:\n\u001B[0;32m   1963\u001B[0m     \u001B[38;5;28;01mraise\u001B[39;00m InvocationException(\n\u001B[0;32m   1964\u001B[0m         \u001B[38;5;124m'\u001B[39m\u001B[38;5;124mGraphViz\u001B[39m\u001B[38;5;130;01m\\'\u001B[39;00m\u001B[38;5;124ms executable \u001B[39m\u001B[38;5;124m\"\u001B[39m\u001B[38;5;132;01m%s\u001B[39;00m\u001B[38;5;124m\"\u001B[39m\u001B[38;5;124m not found\u001B[39m\u001B[38;5;124m'\u001B[39m \u001B[38;5;241m%\u001B[39m prog)\n",
      "\u001B[1;31mInvocationException\u001B[0m: GraphViz's executables not found"
     ]
    }
   ],
   "source": [
    "from sklearn.tree import export_graphviz\n",
    "from six import StringIO\n",
    "from IPython.display import Image\n",
    "import pydotplus\n",
    "\n",
    "dot_data = StringIO()\n",
    "export_graphviz(clf,\n",
    "                out_file=dot_data,\n",
    "                filled=True,\n",
    "                rounded=True,\n",
    "                special_characters=True,\n",
    "                feature_names=feature_cols,\n",
    "                class_names=['0','1'])\n",
    "graph = pydotplus.graph_from_dot_data(dot_data.getvalue())\n",
    "graph.write_png('diabetes1.png')\n",
    "Image(graph.create_png(), retina=True)"
   ],
   "metadata": {
    "collapsed": false,
    "ExecuteTime": {
     "end_time": "2023-09-14T01:48:03.512625100Z",
     "start_time": "2023-09-14T01:48:01.635535800Z"
    }
   }
  },
  {
   "cell_type": "code",
   "execution_count": 14,
   "outputs": [
    {
     "name": "stdout",
     "output_type": "stream",
     "text": [
      "0.153053671865334\n",
      "0.14867712053802257\n"
     ]
    }
   ],
   "source": [
    "ccp_path1 = clf.cost_complexity_pruning_path(X_train,y_train)\n",
    "ccp_path2 = clf.cost_complexity_pruning_path(X_test,y_test)\n",
    "print(np.mean(ccp_path1.impurities))\n",
    "print(np.mean(ccp_path2.impurities))"
   ],
   "metadata": {
    "collapsed": false,
    "ExecuteTime": {
     "end_time": "2023-09-14T01:48:18.195863Z",
     "start_time": "2023-09-14T01:48:17.784719900Z"
    }
   }
  },
  {
   "cell_type": "code",
   "execution_count": 15,
   "outputs": [
    {
     "name": "stdout",
     "output_type": "stream",
     "text": [
      "Accuracy: 0.7575757575757576\n"
     ]
    }
   ],
   "source": [
    "clf = DecisionTreeClassifier(max_depth=3)\n",
    "\n",
    "# Train Decision Tree Classifer\n",
    "clf = clf.fit(X_train, y_train)\n",
    "\n",
    "#Predict the response for test dataset\n",
    "y_pred = clf.predict(X_test)\n",
    "\n",
    "# Model Accuracy, how often is the classifier correct?\n",
    "print(\"Accuracy:\",metrics.accuracy_score(y_test, y_pred))"
   ],
   "metadata": {
    "collapsed": false,
    "ExecuteTime": {
     "end_time": "2023-09-14T01:48:25.195591900Z",
     "start_time": "2023-09-14T01:48:25.179494600Z"
    }
   }
  },
  {
   "cell_type": "code",
   "execution_count": 16,
   "outputs": [
    {
     "ename": "InvocationException",
     "evalue": "GraphViz's executables not found",
     "output_type": "error",
     "traceback": [
      "\u001B[1;31m---------------------------------------------------------------------------\u001B[0m",
      "\u001B[1;31mInvocationException\u001B[0m                       Traceback (most recent call last)",
      "Cell \u001B[1;32mIn[16], line 10\u001B[0m\n\u001B[0;32m      2\u001B[0m export_graphviz(clf, \n\u001B[0;32m      3\u001B[0m                 out_file\u001B[38;5;241m=\u001B[39mdot_data,  \n\u001B[0;32m      4\u001B[0m                 filled\u001B[38;5;241m=\u001B[39m\u001B[38;5;28;01mTrue\u001B[39;00m, \n\u001B[1;32m   (...)\u001B[0m\n\u001B[0;32m      7\u001B[0m                 feature_names \u001B[38;5;241m=\u001B[39m feature_cols,\n\u001B[0;32m      8\u001B[0m                 class_names\u001B[38;5;241m=\u001B[39m[\u001B[38;5;124m'\u001B[39m\u001B[38;5;124m0\u001B[39m\u001B[38;5;124m'\u001B[39m,\u001B[38;5;124m'\u001B[39m\u001B[38;5;124m1\u001B[39m\u001B[38;5;124m'\u001B[39m])\n\u001B[0;32m      9\u001B[0m graph \u001B[38;5;241m=\u001B[39m pydotplus\u001B[38;5;241m.\u001B[39mgraph_from_dot_data(dot_data\u001B[38;5;241m.\u001B[39mgetvalue())  \n\u001B[1;32m---> 10\u001B[0m \u001B[43mgraph\u001B[49m\u001B[38;5;241;43m.\u001B[39;49m\u001B[43mwrite_png\u001B[49m\u001B[43m(\u001B[49m\u001B[38;5;124;43m'\u001B[39;49m\u001B[38;5;124;43mdiabetes2.png\u001B[39;49m\u001B[38;5;124;43m'\u001B[39;49m\u001B[43m)\u001B[49m\n\u001B[0;32m     11\u001B[0m Image(graph\u001B[38;5;241m.\u001B[39mcreate_png(), retina\u001B[38;5;241m=\u001B[39m\u001B[38;5;28;01mTrue\u001B[39;00m)\n",
      "File \u001B[1;32m~\\PycharmProjects\\aiffel_study\\venv\\Lib\\site-packages\\pydotplus\\graphviz.py:1810\u001B[0m, in \u001B[0;36mDot.__init__.<locals>.<lambda>\u001B[1;34m(path, f, prog)\u001B[0m\n\u001B[0;32m   1800\u001B[0m     f\u001B[38;5;241m.\u001B[39m\u001B[38;5;18m__doc__\u001B[39m \u001B[38;5;241m=\u001B[39m (\n\u001B[0;32m   1801\u001B[0m \u001B[38;5;250m        \u001B[39m\u001B[38;5;124;03m'''Refer to the docstring accompanying the'''\u001B[39;00m\n\u001B[0;32m   1802\u001B[0m \u001B[38;5;250m        \u001B[39m\u001B[38;5;124;03m''''create' method for more information.'''\u001B[39;00m\n\u001B[0;32m   1803\u001B[0m     )\n\u001B[0;32m   1805\u001B[0m \u001B[38;5;28;01mfor\u001B[39;00m frmt \u001B[38;5;129;01min\u001B[39;00m \u001B[38;5;28mself\u001B[39m\u001B[38;5;241m.\u001B[39mformats \u001B[38;5;241m+\u001B[39m [\u001B[38;5;124m'\u001B[39m\u001B[38;5;124mraw\u001B[39m\u001B[38;5;124m'\u001B[39m]:\n\u001B[0;32m   1806\u001B[0m     \u001B[38;5;28mself\u001B[39m\u001B[38;5;241m.\u001B[39m\u001B[38;5;21m__setattr__\u001B[39m(\n\u001B[0;32m   1807\u001B[0m         \u001B[38;5;124m'\u001B[39m\u001B[38;5;124mwrite_\u001B[39m\u001B[38;5;124m'\u001B[39m \u001B[38;5;241m+\u001B[39m frmt,\n\u001B[0;32m   1808\u001B[0m         \u001B[38;5;28;01mlambda\u001B[39;00m path,\n\u001B[0;32m   1809\u001B[0m         f\u001B[38;5;241m=\u001B[39mfrmt,\n\u001B[1;32m-> 1810\u001B[0m         prog\u001B[38;5;241m=\u001B[39m\u001B[38;5;28mself\u001B[39m\u001B[38;5;241m.\u001B[39mprog: \u001B[38;5;28;43mself\u001B[39;49m\u001B[38;5;241;43m.\u001B[39;49m\u001B[43mwrite\u001B[49m\u001B[43m(\u001B[49m\u001B[43mpath\u001B[49m\u001B[43m,\u001B[49m\u001B[43m \u001B[49m\u001B[38;5;28;43mformat\u001B[39;49m\u001B[38;5;241;43m=\u001B[39;49m\u001B[43mf\u001B[49m\u001B[43m,\u001B[49m\u001B[43m \u001B[49m\u001B[43mprog\u001B[49m\u001B[38;5;241;43m=\u001B[39;49m\u001B[43mprog\u001B[49m\u001B[43m)\u001B[49m\n\u001B[0;32m   1811\u001B[0m     )\n\u001B[0;32m   1813\u001B[0m     f \u001B[38;5;241m=\u001B[39m \u001B[38;5;28mself\u001B[39m\u001B[38;5;241m.\u001B[39m\u001B[38;5;18m__dict__\u001B[39m[\u001B[38;5;124m'\u001B[39m\u001B[38;5;124mwrite_\u001B[39m\u001B[38;5;124m'\u001B[39m \u001B[38;5;241m+\u001B[39m frmt]\n\u001B[0;32m   1814\u001B[0m     f\u001B[38;5;241m.\u001B[39m\u001B[38;5;18m__doc__\u001B[39m \u001B[38;5;241m=\u001B[39m (\n\u001B[0;32m   1815\u001B[0m \u001B[38;5;250m        \u001B[39m\u001B[38;5;124;03m'''Refer to the docstring accompanying the'''\u001B[39;00m\n\u001B[0;32m   1816\u001B[0m \u001B[38;5;250m        \u001B[39m\u001B[38;5;124;03m''''write' method for more information.'''\u001B[39;00m\n\u001B[0;32m   1817\u001B[0m     )\n",
      "File \u001B[1;32m~\\PycharmProjects\\aiffel_study\\venv\\Lib\\site-packages\\pydotplus\\graphviz.py:1918\u001B[0m, in \u001B[0;36mDot.write\u001B[1;34m(self, path, prog, format)\u001B[0m\n\u001B[0;32m   1915\u001B[0m         fobj\u001B[38;5;241m.\u001B[39mwrite(data)\n\u001B[0;32m   1917\u001B[0m     \u001B[38;5;28;01melse\u001B[39;00m:\n\u001B[1;32m-> 1918\u001B[0m         fobj\u001B[38;5;241m.\u001B[39mwrite(\u001B[38;5;28;43mself\u001B[39;49m\u001B[38;5;241;43m.\u001B[39;49m\u001B[43mcreate\u001B[49m\u001B[43m(\u001B[49m\u001B[43mprog\u001B[49m\u001B[43m,\u001B[49m\u001B[43m \u001B[49m\u001B[38;5;28;43mformat\u001B[39;49m\u001B[43m)\u001B[49m)\n\u001B[0;32m   1919\u001B[0m \u001B[38;5;28;01mfinally\u001B[39;00m:\n\u001B[0;32m   1920\u001B[0m     \u001B[38;5;28;01mif\u001B[39;00m close:\n",
      "File \u001B[1;32m~\\PycharmProjects\\aiffel_study\\venv\\Lib\\site-packages\\pydotplus\\graphviz.py:1959\u001B[0m, in \u001B[0;36mDot.create\u001B[1;34m(self, prog, format)\u001B[0m\n\u001B[0;32m   1957\u001B[0m     \u001B[38;5;28mself\u001B[39m\u001B[38;5;241m.\u001B[39mprogs \u001B[38;5;241m=\u001B[39m find_graphviz()\n\u001B[0;32m   1958\u001B[0m     \u001B[38;5;28;01mif\u001B[39;00m \u001B[38;5;28mself\u001B[39m\u001B[38;5;241m.\u001B[39mprogs \u001B[38;5;129;01mis\u001B[39;00m \u001B[38;5;28;01mNone\u001B[39;00m:\n\u001B[1;32m-> 1959\u001B[0m         \u001B[38;5;28;01mraise\u001B[39;00m InvocationException(\n\u001B[0;32m   1960\u001B[0m             \u001B[38;5;124m'\u001B[39m\u001B[38;5;124mGraphViz\u001B[39m\u001B[38;5;130;01m\\'\u001B[39;00m\u001B[38;5;124ms executables not found\u001B[39m\u001B[38;5;124m'\u001B[39m)\n\u001B[0;32m   1962\u001B[0m \u001B[38;5;28;01mif\u001B[39;00m prog \u001B[38;5;129;01mnot\u001B[39;00m \u001B[38;5;129;01min\u001B[39;00m \u001B[38;5;28mself\u001B[39m\u001B[38;5;241m.\u001B[39mprogs:\n\u001B[0;32m   1963\u001B[0m     \u001B[38;5;28;01mraise\u001B[39;00m InvocationException(\n\u001B[0;32m   1964\u001B[0m         \u001B[38;5;124m'\u001B[39m\u001B[38;5;124mGraphViz\u001B[39m\u001B[38;5;130;01m\\'\u001B[39;00m\u001B[38;5;124ms executable \u001B[39m\u001B[38;5;124m\"\u001B[39m\u001B[38;5;132;01m%s\u001B[39;00m\u001B[38;5;124m\"\u001B[39m\u001B[38;5;124m not found\u001B[39m\u001B[38;5;124m'\u001B[39m \u001B[38;5;241m%\u001B[39m prog)\n",
      "\u001B[1;31mInvocationException\u001B[0m: GraphViz's executables not found"
     ]
    }
   ],
   "source": [
    "dot_data = StringIO()\n",
    "export_graphviz(clf,\n",
    "                out_file=dot_data,\n",
    "                filled=True,\n",
    "                rounded=True,\n",
    "                special_characters=True,\n",
    "                feature_names = feature_cols,\n",
    "                class_names=['0','1'])\n",
    "graph = pydotplus.graph_from_dot_data(dot_data.getvalue())\n",
    "graph.write_png('diabetes2.png')\n",
    "Image(graph.create_png(), retina=True)"
   ],
   "metadata": {
    "collapsed": false,
    "ExecuteTime": {
     "end_time": "2023-09-14T01:48:31.702925400Z",
     "start_time": "2023-09-14T01:48:30.824001Z"
    }
   }
  },
  {
   "cell_type": "code",
   "execution_count": 17,
   "outputs": [
    {
     "name": "stdout",
     "output_type": "stream",
     "text": [
      "0.3488385063866954\n",
      "0.30877554783402966\n"
     ]
    }
   ],
   "source": [
    "# 정보이득이 되지 않고 남은 Impurity  총량 측정\n",
    "ccp_path1 = clf.cost_complexity_pruning_path(X_train,y_train)\n",
    "ccp_path2 = clf.cost_complexity_pruning_path(X_test,y_test)\n",
    "print(np.mean(ccp_path1.impurities))\n",
    "print(np.mean(ccp_path2.impurities))"
   ],
   "metadata": {
    "collapsed": false,
    "ExecuteTime": {
     "end_time": "2023-09-14T01:48:36.950876Z",
     "start_time": "2023-09-14T01:48:36.918673800Z"
    }
   }
  },
  {
   "cell_type": "code",
   "execution_count": null,
   "outputs": [],
   "source": [],
   "metadata": {
    "collapsed": false
   }
  }
 ],
 "metadata": {
  "kernelspec": {
   "display_name": "Python 3",
   "language": "python",
   "name": "python3"
  },
  "language_info": {
   "codemirror_mode": {
    "name": "ipython",
    "version": 2
   },
   "file_extension": ".py",
   "mimetype": "text/x-python",
   "name": "python",
   "nbconvert_exporter": "python",
   "pygments_lexer": "ipython2",
   "version": "2.7.6"
  }
 },
 "nbformat": 4,
 "nbformat_minor": 0
}
