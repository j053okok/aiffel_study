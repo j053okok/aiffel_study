{
 "cells": [
  {
   "cell_type": "code",
   "execution_count": 1,
   "metadata": {
    "collapsed": true,
    "ExecuteTime": {
     "end_time": "2023-08-10T05:48:12.383973100Z",
     "start_time": "2023-08-10T05:48:11.281142500Z"
    }
   },
   "outputs": [],
   "source": [
    "import pandas as pd"
   ]
  },
  {
   "cell_type": "code",
   "execution_count": 2,
   "outputs": [
    {
     "data": {
      "text/plain": "0    a\n1    b\n2    c\n3    3\ndtype: object"
     },
     "execution_count": 2,
     "metadata": {},
     "output_type": "execute_result"
    }
   ],
   "source": [
    "ser = pd.Series(['a', 'b', 'c', 3])\n",
    "ser"
   ],
   "metadata": {
    "collapsed": false,
    "ExecuteTime": {
     "end_time": "2023-08-10T05:48:36.300893100Z",
     "start_time": "2023-08-10T05:48:36.300893100Z"
    }
   }
  },
  {
   "cell_type": "code",
   "execution_count": 5,
   "outputs": [
    {
     "name": "stdout",
     "output_type": "stream",
     "text": [
      "['a' 'b' 'c' 3]\n",
      "<class 'pandas.core.series.Series'>\n"
     ]
    }
   ],
   "source": [
    "print(ser.values)\n",
    "print(type(ser))"
   ],
   "metadata": {
    "collapsed": false,
    "ExecuteTime": {
     "end_time": "2023-08-10T05:49:11.520551700Z",
     "start_time": "2023-08-10T05:49:11.520551700Z"
    }
   }
  },
  {
   "cell_type": "code",
   "execution_count": 6,
   "outputs": [
    {
     "data": {
      "text/plain": "RangeIndex(start=0, stop=4, step=1)"
     },
     "execution_count": 6,
     "metadata": {},
     "output_type": "execute_result"
    }
   ],
   "source": [
    "ser.index"
   ],
   "metadata": {
    "collapsed": false,
    "ExecuteTime": {
     "end_time": "2023-08-10T05:49:33.169880700Z",
     "start_time": "2023-08-10T05:49:33.169880700Z"
    }
   }
  },
  {
   "cell_type": "markdown",
   "source": [
    "### Series의 인자로 인덱스 설정하기"
   ],
   "metadata": {
    "collapsed": false
   }
  },
  {
   "cell_type": "code",
   "execution_count": 7,
   "outputs": [
    {
     "data": {
      "text/plain": "i    a\nj    b\nk    c\nh    3\ndtype: object"
     },
     "execution_count": 7,
     "metadata": {},
     "output_type": "execute_result"
    }
   ],
   "source": [
    "ser2 = pd.Series(['a', 'b', 'c', 3], index=['i', 'j', 'k', 'h'])\n",
    "ser2"
   ],
   "metadata": {
    "collapsed": false,
    "ExecuteTime": {
     "end_time": "2023-08-10T05:52:10.851968700Z",
     "start_time": "2023-08-10T05:52:10.835553200Z"
    }
   }
  },
  {
   "cell_type": "code",
   "execution_count": 9,
   "outputs": [
    {
     "data": {
      "text/plain": "Kim     a\nLee     b\nPark    c\nJung    3\ndtype: object"
     },
     "execution_count": 9,
     "metadata": {},
     "output_type": "execute_result"
    }
   ],
   "source": [
    "ser2.index = ['Kim', \"Lee\", \"Park\", \"Jung\"]\n",
    "ser2"
   ],
   "metadata": {
    "collapsed": false,
    "ExecuteTime": {
     "end_time": "2023-08-10T05:53:00.248869900Z",
     "start_time": "2023-08-10T05:53:00.248869900Z"
    }
   }
  },
  {
   "cell_type": "code",
   "execution_count": 10,
   "outputs": [
    {
     "data": {
      "text/plain": "Index(['Kim', 'Lee', 'Park', 'Jung'], dtype='object')"
     },
     "execution_count": 10,
     "metadata": {},
     "output_type": "execute_result"
    }
   ],
   "source": [
    "ser2.index"
   ],
   "metadata": {
    "collapsed": false,
    "ExecuteTime": {
     "end_time": "2023-08-10T05:53:18.798006700Z",
     "start_time": "2023-08-10T05:53:18.792938300Z"
    }
   }
  },
  {
   "cell_type": "markdown",
   "source": [
    "### 사전형 자료를 판다스 Series 객체로 변형"
   ],
   "metadata": {
    "collapsed": false
   }
  },
  {
   "cell_type": "code",
   "execution_count": 13,
   "outputs": [
    {
     "data": {
      "text/plain": "Seoul       02\nBusan      051\nDeagu      053\nGwangju    062\nIncheon    032\nDaejun     042\nJeju       064\ndtype: object"
     },
     "execution_count": 13,
     "metadata": {},
     "output_type": "execute_result"
    }
   ],
   "source": [
    "location = {\"Seoul\": \"02\", \"Busan\": \"051\", \"Deagu\": \"053\", \"Gwangju\": \"062\", \"Incheon\": \"032\", \"Daejun\": \"042\", \"Jeju\": \"064\"}\n",
    "ser3 = pd.Series(location)\n",
    "ser3"
   ],
   "metadata": {
    "collapsed": false,
    "ExecuteTime": {
     "end_time": "2023-08-10T05:58:53.107657300Z",
     "start_time": "2023-08-10T05:58:53.102598100Z"
    }
   }
  },
  {
   "cell_type": "markdown",
   "source": [
    "인덱스가 사전형의 키값이 됨"
   ],
   "metadata": {
    "collapsed": false
   }
  },
  {
   "cell_type": "code",
   "execution_count": 14,
   "outputs": [
    {
     "data": {
      "text/plain": "'051'"
     },
     "execution_count": 14,
     "metadata": {},
     "output_type": "execute_result"
    }
   ],
   "source": [
    "ser3['Busan']"
   ],
   "metadata": {
    "collapsed": false,
    "ExecuteTime": {
     "end_time": "2023-08-10T06:00:25.773593900Z",
     "start_time": "2023-08-10T06:00:25.757585400Z"
    }
   }
  },
  {
   "cell_type": "code",
   "execution_count": 19,
   "outputs": [
    {
     "data": {
      "text/plain": "Gwangju    062\nIncheon    032\nDaejun     042\nJeju       064\ndtype: object"
     },
     "execution_count": 19,
     "metadata": {},
     "output_type": "execute_result"
    }
   ],
   "source": [
    "ser3[\"Gwangju\":]  # 인덱스 슬라이싱 기법"
   ],
   "metadata": {
    "collapsed": false,
    "ExecuteTime": {
     "end_time": "2023-08-10T06:01:12.530206200Z",
     "start_time": "2023-08-10T06:01:12.498386100Z"
    }
   }
  },
  {
   "cell_type": "code",
   "execution_count": 21,
   "outputs": [
    {
     "data": {
      "text/plain": "LocationName\nSeoul       02\nBusan      051\nDeagu      053\nGwangju    062\nIncheon    032\nDaejun     042\nJeju       064\nName: Korea_LocationNumber, dtype: object"
     },
     "execution_count": 21,
     "metadata": {},
     "output_type": "execute_result"
    }
   ],
   "source": [
    "ser3.name = \"Korea_LocationNumber\"  # 시리즈 자체의 이름을 설정\n",
    "ser3.index.name = \"LocationName\"  # 시리즈 인덱스 이름을 설정\n",
    "ser3"
   ],
   "metadata": {
    "collapsed": false,
    "ExecuteTime": {
     "end_time": "2023-08-10T06:02:39.088016400Z",
     "start_time": "2023-08-10T06:02:39.086106400Z"
    }
   }
  },
  {
   "cell_type": "code",
   "execution_count": 22,
   "outputs": [
    {
     "name": "stdout",
     "output_type": "stream",
     "text": [
      "<class 'pandas.core.frame.DataFrame'>\n"
     ]
    },
    {
     "data": {
      "text/plain": "       SNo                 Date Country  RegionCode      RegionName  \\\n0        0  2020-02-24T18:00:00     ITA          13         Abruzzo   \n1        1  2020-02-24T18:00:00     ITA          17      Basilicata   \n2        2  2020-02-24T18:00:00     ITA          18        Calabria   \n3        3  2020-02-24T18:00:00     ITA          15        Campania   \n4        4  2020-02-24T18:00:00     ITA           8  Emilia-Romagna   \n...    ...                  ...     ...         ...             ...   \n6022  6022  2020-12-06T17:00:00     ITA          19         Sicilia   \n6023  6023  2020-12-06T17:00:00     ITA           9         Toscana   \n6024  6024  2020-12-06T17:00:00     ITA          10          Umbria   \n6025  6025  2020-12-06T17:00:00     ITA           2   Valle d'Aosta   \n6026  6026  2020-12-06T17:00:00     ITA           5          Veneto   \n\n       Latitude  Longitude  HospitalizedPatients  IntensiveCarePatients  \\\n0     42.351222  13.398438                     0                      0   \n1     40.639471  15.805148                     0                      0   \n2     38.905976  16.594402                     0                      0   \n3     40.839566  14.250850                     0                      0   \n4     44.494367  11.341721                    10                      2   \n...         ...        ...                   ...                    ...   \n6022  38.115697  13.362357                  1367                    213   \n6023  43.769231  11.255889                  1360                    252   \n6024  43.106758  12.388247                   332                     60   \n6025  45.737503   7.320149                   102                      8   \n6026  45.434905  12.338452                  2508                    308   \n\n      TotalHospitalizedPatients  HomeConfinement  CurrentPositiveCases  \\\n0                             0                0                     0   \n1                             0                0                     0   \n2                             0                0                     0   \n3                             0                0                     0   \n4                            12                6                    18   \n...                         ...              ...                   ...   \n6022                       1580            38166                 39746   \n6023                       1612            27587                 29199   \n6024                        392             5673                  6065   \n6025                        110              877                   987   \n6026                       2816            73988                 76804   \n\n      NewPositiveCases  Recovered  Deaths  TotalPositiveCases  TestsPerformed  \n0                    0          0       0                   0             NaN  \n1                    0          0       0                   0             NaN  \n2                    0          0       0                   0             NaN  \n3                    0          0       0                   0             NaN  \n4                   18          0       0                  18             NaN  \n...                ...        ...     ...                 ...             ...  \n6022              1022      29984    1759               71489        692062.0  \n6023               753      76331    2867              108397        983103.0  \n6024               234      18619     460               25144        231538.0  \n6025                34       5406     333                6726         34644.0  \n6026              3444      84235    4210              165249       1090932.0  \n\n[6027 rows x 17 columns]",
      "text/html": "<div>\n<style scoped>\n    .dataframe tbody tr th:only-of-type {\n        vertical-align: middle;\n    }\n\n    .dataframe tbody tr th {\n        vertical-align: top;\n    }\n\n    .dataframe thead th {\n        text-align: right;\n    }\n</style>\n<table border=\"1\" class=\"dataframe\">\n  <thead>\n    <tr style=\"text-align: right;\">\n      <th></th>\n      <th>SNo</th>\n      <th>Date</th>\n      <th>Country</th>\n      <th>RegionCode</th>\n      <th>RegionName</th>\n      <th>Latitude</th>\n      <th>Longitude</th>\n      <th>HospitalizedPatients</th>\n      <th>IntensiveCarePatients</th>\n      <th>TotalHospitalizedPatients</th>\n      <th>HomeConfinement</th>\n      <th>CurrentPositiveCases</th>\n      <th>NewPositiveCases</th>\n      <th>Recovered</th>\n      <th>Deaths</th>\n      <th>TotalPositiveCases</th>\n      <th>TestsPerformed</th>\n    </tr>\n  </thead>\n  <tbody>\n    <tr>\n      <th>0</th>\n      <td>0</td>\n      <td>2020-02-24T18:00:00</td>\n      <td>ITA</td>\n      <td>13</td>\n      <td>Abruzzo</td>\n      <td>42.351222</td>\n      <td>13.398438</td>\n      <td>0</td>\n      <td>0</td>\n      <td>0</td>\n      <td>0</td>\n      <td>0</td>\n      <td>0</td>\n      <td>0</td>\n      <td>0</td>\n      <td>0</td>\n      <td>NaN</td>\n    </tr>\n    <tr>\n      <th>1</th>\n      <td>1</td>\n      <td>2020-02-24T18:00:00</td>\n      <td>ITA</td>\n      <td>17</td>\n      <td>Basilicata</td>\n      <td>40.639471</td>\n      <td>15.805148</td>\n      <td>0</td>\n      <td>0</td>\n      <td>0</td>\n      <td>0</td>\n      <td>0</td>\n      <td>0</td>\n      <td>0</td>\n      <td>0</td>\n      <td>0</td>\n      <td>NaN</td>\n    </tr>\n    <tr>\n      <th>2</th>\n      <td>2</td>\n      <td>2020-02-24T18:00:00</td>\n      <td>ITA</td>\n      <td>18</td>\n      <td>Calabria</td>\n      <td>38.905976</td>\n      <td>16.594402</td>\n      <td>0</td>\n      <td>0</td>\n      <td>0</td>\n      <td>0</td>\n      <td>0</td>\n      <td>0</td>\n      <td>0</td>\n      <td>0</td>\n      <td>0</td>\n      <td>NaN</td>\n    </tr>\n    <tr>\n      <th>3</th>\n      <td>3</td>\n      <td>2020-02-24T18:00:00</td>\n      <td>ITA</td>\n      <td>15</td>\n      <td>Campania</td>\n      <td>40.839566</td>\n      <td>14.250850</td>\n      <td>0</td>\n      <td>0</td>\n      <td>0</td>\n      <td>0</td>\n      <td>0</td>\n      <td>0</td>\n      <td>0</td>\n      <td>0</td>\n      <td>0</td>\n      <td>NaN</td>\n    </tr>\n    <tr>\n      <th>4</th>\n      <td>4</td>\n      <td>2020-02-24T18:00:00</td>\n      <td>ITA</td>\n      <td>8</td>\n      <td>Emilia-Romagna</td>\n      <td>44.494367</td>\n      <td>11.341721</td>\n      <td>10</td>\n      <td>2</td>\n      <td>12</td>\n      <td>6</td>\n      <td>18</td>\n      <td>18</td>\n      <td>0</td>\n      <td>0</td>\n      <td>18</td>\n      <td>NaN</td>\n    </tr>\n    <tr>\n      <th>...</th>\n      <td>...</td>\n      <td>...</td>\n      <td>...</td>\n      <td>...</td>\n      <td>...</td>\n      <td>...</td>\n      <td>...</td>\n      <td>...</td>\n      <td>...</td>\n      <td>...</td>\n      <td>...</td>\n      <td>...</td>\n      <td>...</td>\n      <td>...</td>\n      <td>...</td>\n      <td>...</td>\n      <td>...</td>\n    </tr>\n    <tr>\n      <th>6022</th>\n      <td>6022</td>\n      <td>2020-12-06T17:00:00</td>\n      <td>ITA</td>\n      <td>19</td>\n      <td>Sicilia</td>\n      <td>38.115697</td>\n      <td>13.362357</td>\n      <td>1367</td>\n      <td>213</td>\n      <td>1580</td>\n      <td>38166</td>\n      <td>39746</td>\n      <td>1022</td>\n      <td>29984</td>\n      <td>1759</td>\n      <td>71489</td>\n      <td>692062.0</td>\n    </tr>\n    <tr>\n      <th>6023</th>\n      <td>6023</td>\n      <td>2020-12-06T17:00:00</td>\n      <td>ITA</td>\n      <td>9</td>\n      <td>Toscana</td>\n      <td>43.769231</td>\n      <td>11.255889</td>\n      <td>1360</td>\n      <td>252</td>\n      <td>1612</td>\n      <td>27587</td>\n      <td>29199</td>\n      <td>753</td>\n      <td>76331</td>\n      <td>2867</td>\n      <td>108397</td>\n      <td>983103.0</td>\n    </tr>\n    <tr>\n      <th>6024</th>\n      <td>6024</td>\n      <td>2020-12-06T17:00:00</td>\n      <td>ITA</td>\n      <td>10</td>\n      <td>Umbria</td>\n      <td>43.106758</td>\n      <td>12.388247</td>\n      <td>332</td>\n      <td>60</td>\n      <td>392</td>\n      <td>5673</td>\n      <td>6065</td>\n      <td>234</td>\n      <td>18619</td>\n      <td>460</td>\n      <td>25144</td>\n      <td>231538.0</td>\n    </tr>\n    <tr>\n      <th>6025</th>\n      <td>6025</td>\n      <td>2020-12-06T17:00:00</td>\n      <td>ITA</td>\n      <td>2</td>\n      <td>Valle d'Aosta</td>\n      <td>45.737503</td>\n      <td>7.320149</td>\n      <td>102</td>\n      <td>8</td>\n      <td>110</td>\n      <td>877</td>\n      <td>987</td>\n      <td>34</td>\n      <td>5406</td>\n      <td>333</td>\n      <td>6726</td>\n      <td>34644.0</td>\n    </tr>\n    <tr>\n      <th>6026</th>\n      <td>6026</td>\n      <td>2020-12-06T17:00:00</td>\n      <td>ITA</td>\n      <td>5</td>\n      <td>Veneto</td>\n      <td>45.434905</td>\n      <td>12.338452</td>\n      <td>2508</td>\n      <td>308</td>\n      <td>2816</td>\n      <td>73988</td>\n      <td>76804</td>\n      <td>3444</td>\n      <td>84235</td>\n      <td>4210</td>\n      <td>165249</td>\n      <td>1090932.0</td>\n    </tr>\n  </tbody>\n</table>\n<p>6027 rows × 17 columns</p>\n</div>"
     },
     "execution_count": 22,
     "metadata": {},
     "output_type": "execute_result"
    }
   ],
   "source": [
    "data = pd.read_csv(\"covid19_italy_region.csv\")\n",
    "print(type(data))\n",
    "data"
   ],
   "metadata": {
    "collapsed": false,
    "ExecuteTime": {
     "end_time": "2023-08-10T06:10:56.481431500Z",
     "start_time": "2023-08-10T06:10:56.280853500Z"
    }
   }
  },
  {
   "cell_type": "code",
   "execution_count": 23,
   "outputs": [
    {
     "data": {
      "text/plain": "Index(['SNo', 'Date', 'Country', 'RegionCode', 'RegionName', 'Latitude',\n       'Longitude', 'HospitalizedPatients', 'IntensiveCarePatients',\n       'TotalHospitalizedPatients', 'HomeConfinement', 'CurrentPositiveCases',\n       'NewPositiveCases', 'Recovered', 'Deaths', 'TotalPositiveCases',\n       'TestsPerformed'],\n      dtype='object')"
     },
     "execution_count": 23,
     "metadata": {},
     "output_type": "execute_result"
    }
   ],
   "source": [
    "data.columns"
   ],
   "metadata": {
    "collapsed": false,
    "ExecuteTime": {
     "end_time": "2023-08-10T06:11:35.879985800Z",
     "start_time": "2023-08-10T06:11:35.833328900Z"
    }
   }
  },
  {
   "cell_type": "code",
   "execution_count": 24,
   "outputs": [
    {
     "name": "stdout",
     "output_type": "stream",
     "text": [
      "<class 'pandas.core.frame.DataFrame'>\n",
      "RangeIndex: 6027 entries, 0 to 6026\n",
      "Data columns (total 17 columns):\n",
      " #   Column                     Non-Null Count  Dtype  \n",
      "---  ------                     --------------  -----  \n",
      " 0   SNo                        6027 non-null   int64  \n",
      " 1   Date                       6027 non-null   object \n",
      " 2   Country                    6027 non-null   object \n",
      " 3   RegionCode                 6027 non-null   int64  \n",
      " 4   RegionName                 6027 non-null   object \n",
      " 5   Latitude                   6027 non-null   float64\n",
      " 6   Longitude                  6027 non-null   float64\n",
      " 7   HospitalizedPatients       6027 non-null   int64  \n",
      " 8   IntensiveCarePatients      6027 non-null   int64  \n",
      " 9   TotalHospitalizedPatients  6027 non-null   int64  \n",
      " 10  HomeConfinement            6027 non-null   int64  \n",
      " 11  CurrentPositiveCases       6027 non-null   int64  \n",
      " 12  NewPositiveCases           6027 non-null   int64  \n",
      " 13  Recovered                  6027 non-null   int64  \n",
      " 14  Deaths                     6027 non-null   int64  \n",
      " 15  TotalPositiveCases         6027 non-null   int64  \n",
      " 16  TestsPerformed             4872 non-null   float64\n",
      "dtypes: float64(3), int64(11), object(3)\n",
      "memory usage: 800.6+ KB\n"
     ]
    }
   ],
   "source": [
    "data.info()"
   ],
   "metadata": {
    "collapsed": false,
    "ExecuteTime": {
     "end_time": "2023-08-10T06:11:44.419686600Z",
     "start_time": "2023-08-10T06:11:44.310160500Z"
    }
   }
  },
  {
   "cell_type": "code",
   "execution_count": 25,
   "outputs": [
    {
     "data": {
      "text/plain": "               SNo   RegionCode     Latitude    Longitude  \\\ncount  6027.000000  6027.000000  6027.000000  6027.000000   \nmean   3013.000000    11.857143    43.046293    12.225955   \nstd    1739.989368     6.274319     2.488987     2.659168   \nmin       0.000000     1.000000    38.115697     7.320149   \n25%    1506.500000     7.000000    41.125596    11.121231   \n50%    3013.000000    12.000000    43.616760    12.388247   \n75%    4519.500000    17.000000    45.434905    13.768136   \nmax    6026.000000    22.000000    46.499335    16.867367   \n\n       HospitalizedPatients  IntensiveCarePatients  TotalHospitalizedPatients  \\\ncount           6027.000000            6027.000000                6027.000000   \nmean             509.093579              55.892318                 564.985897   \nstd             1272.731157             134.957979                1403.362341   \nmin                0.000000               0.000000                   0.000000   \n25%               16.000000               1.000000                  17.000000   \n50%               93.000000               9.000000                 106.000000   \n75%              384.500000              46.000000                 434.000000   \nmax            12077.000000            1381.000000               13328.000000   \n\n       HomeConfinement  CurrentPositiveCases  NewPositiveCases      Recovered  \\\ncount      6027.000000           6027.000000       6027.000000    6027.000000   \nmean       5722.911399           6287.897296        286.885847    9337.852829   \nstd       15892.768789          16804.884786        818.450458   20551.265039   \nmin           0.000000              0.000000       -229.000000       0.000000   \n25%         139.000000            168.000000          4.000000     734.000000   \n50%         743.000000            905.000000         31.000000    2840.000000   \n75%        3057.000000           3735.000000        159.500000    8450.500000   \nmax      155066.000000         164406.000000      11489.000000  289706.000000   \n\n             Deaths  TotalPositiveCases  TestsPerformed  \ncount   6027.000000          6027.00000    4.872000e+03  \nmean    1474.370665         17100.12361    2.600810e+05  \nstd     3365.190225         36934.67627    3.339818e+05  \nmin        0.000000             0.00000    3.482000e+03  \n25%       98.000000          1383.50000    6.507375e+04  \n50%      389.000000          4613.00000    1.365560e+05  \n75%     1102.500000         15304.00000    3.043542e+05  \nmax    23024.000000        429109.00000    2.415099e+06  ",
      "text/html": "<div>\n<style scoped>\n    .dataframe tbody tr th:only-of-type {\n        vertical-align: middle;\n    }\n\n    .dataframe tbody tr th {\n        vertical-align: top;\n    }\n\n    .dataframe thead th {\n        text-align: right;\n    }\n</style>\n<table border=\"1\" class=\"dataframe\">\n  <thead>\n    <tr style=\"text-align: right;\">\n      <th></th>\n      <th>SNo</th>\n      <th>RegionCode</th>\n      <th>Latitude</th>\n      <th>Longitude</th>\n      <th>HospitalizedPatients</th>\n      <th>IntensiveCarePatients</th>\n      <th>TotalHospitalizedPatients</th>\n      <th>HomeConfinement</th>\n      <th>CurrentPositiveCases</th>\n      <th>NewPositiveCases</th>\n      <th>Recovered</th>\n      <th>Deaths</th>\n      <th>TotalPositiveCases</th>\n      <th>TestsPerformed</th>\n    </tr>\n  </thead>\n  <tbody>\n    <tr>\n      <th>count</th>\n      <td>6027.000000</td>\n      <td>6027.000000</td>\n      <td>6027.000000</td>\n      <td>6027.000000</td>\n      <td>6027.000000</td>\n      <td>6027.000000</td>\n      <td>6027.000000</td>\n      <td>6027.000000</td>\n      <td>6027.000000</td>\n      <td>6027.000000</td>\n      <td>6027.000000</td>\n      <td>6027.000000</td>\n      <td>6027.00000</td>\n      <td>4.872000e+03</td>\n    </tr>\n    <tr>\n      <th>mean</th>\n      <td>3013.000000</td>\n      <td>11.857143</td>\n      <td>43.046293</td>\n      <td>12.225955</td>\n      <td>509.093579</td>\n      <td>55.892318</td>\n      <td>564.985897</td>\n      <td>5722.911399</td>\n      <td>6287.897296</td>\n      <td>286.885847</td>\n      <td>9337.852829</td>\n      <td>1474.370665</td>\n      <td>17100.12361</td>\n      <td>2.600810e+05</td>\n    </tr>\n    <tr>\n      <th>std</th>\n      <td>1739.989368</td>\n      <td>6.274319</td>\n      <td>2.488987</td>\n      <td>2.659168</td>\n      <td>1272.731157</td>\n      <td>134.957979</td>\n      <td>1403.362341</td>\n      <td>15892.768789</td>\n      <td>16804.884786</td>\n      <td>818.450458</td>\n      <td>20551.265039</td>\n      <td>3365.190225</td>\n      <td>36934.67627</td>\n      <td>3.339818e+05</td>\n    </tr>\n    <tr>\n      <th>min</th>\n      <td>0.000000</td>\n      <td>1.000000</td>\n      <td>38.115697</td>\n      <td>7.320149</td>\n      <td>0.000000</td>\n      <td>0.000000</td>\n      <td>0.000000</td>\n      <td>0.000000</td>\n      <td>0.000000</td>\n      <td>-229.000000</td>\n      <td>0.000000</td>\n      <td>0.000000</td>\n      <td>0.00000</td>\n      <td>3.482000e+03</td>\n    </tr>\n    <tr>\n      <th>25%</th>\n      <td>1506.500000</td>\n      <td>7.000000</td>\n      <td>41.125596</td>\n      <td>11.121231</td>\n      <td>16.000000</td>\n      <td>1.000000</td>\n      <td>17.000000</td>\n      <td>139.000000</td>\n      <td>168.000000</td>\n      <td>4.000000</td>\n      <td>734.000000</td>\n      <td>98.000000</td>\n      <td>1383.50000</td>\n      <td>6.507375e+04</td>\n    </tr>\n    <tr>\n      <th>50%</th>\n      <td>3013.000000</td>\n      <td>12.000000</td>\n      <td>43.616760</td>\n      <td>12.388247</td>\n      <td>93.000000</td>\n      <td>9.000000</td>\n      <td>106.000000</td>\n      <td>743.000000</td>\n      <td>905.000000</td>\n      <td>31.000000</td>\n      <td>2840.000000</td>\n      <td>389.000000</td>\n      <td>4613.00000</td>\n      <td>1.365560e+05</td>\n    </tr>\n    <tr>\n      <th>75%</th>\n      <td>4519.500000</td>\n      <td>17.000000</td>\n      <td>45.434905</td>\n      <td>13.768136</td>\n      <td>384.500000</td>\n      <td>46.000000</td>\n      <td>434.000000</td>\n      <td>3057.000000</td>\n      <td>3735.000000</td>\n      <td>159.500000</td>\n      <td>8450.500000</td>\n      <td>1102.500000</td>\n      <td>15304.00000</td>\n      <td>3.043542e+05</td>\n    </tr>\n    <tr>\n      <th>max</th>\n      <td>6026.000000</td>\n      <td>22.000000</td>\n      <td>46.499335</td>\n      <td>16.867367</td>\n      <td>12077.000000</td>\n      <td>1381.000000</td>\n      <td>13328.000000</td>\n      <td>155066.000000</td>\n      <td>164406.000000</td>\n      <td>11489.000000</td>\n      <td>289706.000000</td>\n      <td>23024.000000</td>\n      <td>429109.00000</td>\n      <td>2.415099e+06</td>\n    </tr>\n  </tbody>\n</table>\n</div>"
     },
     "execution_count": 25,
     "metadata": {},
     "output_type": "execute_result"
    }
   ],
   "source": [
    "data.describe()"
   ],
   "metadata": {
    "collapsed": false,
    "ExecuteTime": {
     "end_time": "2023-08-10T06:12:30.270044300Z",
     "start_time": "2023-08-10T06:12:30.155171700Z"
    }
   }
  },
  {
   "cell_type": "code",
   "execution_count": 26,
   "outputs": [
    {
     "data": {
      "text/plain": "SNo                             0\nDate                            0\nCountry                         0\nRegionCode                      0\nRegionName                      0\nLatitude                        0\nLongitude                       0\nHospitalizedPatients            0\nIntensiveCarePatients           0\nTotalHospitalizedPatients       0\nHomeConfinement                 0\nCurrentPositiveCases            0\nNewPositiveCases                0\nRecovered                       0\nDeaths                          0\nTotalPositiveCases              0\nTestsPerformed               1155\ndtype: int64"
     },
     "execution_count": 26,
     "metadata": {},
     "output_type": "execute_result"
    }
   ],
   "source": [
    "data.isnull().sum()"
   ],
   "metadata": {
    "collapsed": false,
    "ExecuteTime": {
     "end_time": "2023-08-10T06:12:55.501633800Z",
     "start_time": "2023-08-10T06:12:55.497660400Z"
    }
   }
  },
  {
   "cell_type": "code",
   "execution_count": 28,
   "outputs": [
    {
     "data": {
      "text/plain": "SNo                             0\nDate                            0\nCountry                         0\nRegionCode                      0\nRegionName                      0\nLatitude                        0\nLongitude                       0\nHospitalizedPatients            0\nIntensiveCarePatients           0\nTotalHospitalizedPatients       0\nHomeConfinement                 0\nCurrentPositiveCases            0\nNewPositiveCases                0\nRecovered                       0\nDeaths                          0\nTotalPositiveCases              0\nTestsPerformed               1155\ndtype: int64"
     },
     "execution_count": 28,
     "metadata": {},
     "output_type": "execute_result"
    }
   ],
   "source": [
    "data.isnull().sum()  # 결측치 한눈에 확인"
   ],
   "metadata": {
    "collapsed": false,
    "ExecuteTime": {
     "end_time": "2023-08-10T06:13:40.078608Z",
     "start_time": "2023-08-10T06:13:40.046580900Z"
    }
   }
  },
  {
   "cell_type": "code",
   "execution_count": 36,
   "outputs": [
    {
     "data": {
      "text/plain": "RegionName\nAbruzzo                  287\nP.A. Bolzano             287\nValle d'Aosta            287\nUmbria                   287\nToscana                  287\nSicilia                  287\nSardegna                 287\nPuglia                   287\nPiemonte                 287\nP.A. Trento              287\nMolise                   287\nBasilicata               287\nMarche                   287\nLombardia                287\nLiguria                  287\nLazio                    287\nFriuli Venezia Giulia    287\nEmilia-Romagna           287\nCampania                 287\nCalabria                 287\nVeneto                   287\nName: count, dtype: int64"
     },
     "execution_count": 36,
     "metadata": {},
     "output_type": "execute_result"
    }
   ],
   "source": [
    "data['RegionName'].value_counts()  # 범주형데이터로 기재되는 열에 대해서 범주별로 값이 몇개 있는지 확인 가능"
   ],
   "metadata": {
    "collapsed": false,
    "ExecuteTime": {
     "end_time": "2023-08-10T06:18:29.203657200Z",
     "start_time": "2023-08-10T06:18:29.199608100Z"
    }
   }
  },
  {
   "cell_type": "code",
   "execution_count": 40,
   "outputs": [
    {
     "data": {
      "text/plain": "6027"
     },
     "execution_count": 40,
     "metadata": {},
     "output_type": "execute_result"
    }
   ],
   "source": [
    "data['RegionName'].value_counts().sum()  # 이 처럼 함수뒤에 함수를 붙일수 있음"
   ],
   "metadata": {
    "collapsed": false,
    "ExecuteTime": {
     "end_time": "2023-08-10T06:19:43.003694500Z",
     "start_time": "2023-08-10T06:19:42.971924800Z"
    }
   }
  },
  {
   "cell_type": "code",
   "execution_count": 39,
   "outputs": [
    {
     "data": {
      "text/plain": "Country\nITA    6027\nName: count, dtype: int64"
     },
     "execution_count": 39,
     "metadata": {},
     "output_type": "execute_result"
    }
   ],
   "source": [
    "data['Country'].value_counts()"
   ],
   "metadata": {
    "collapsed": false,
    "ExecuteTime": {
     "end_time": "2023-08-10T06:19:32.652450200Z",
     "start_time": "2023-08-10T06:19:32.648487700Z"
    }
   }
  },
  {
   "cell_type": "code",
   "execution_count": 44,
   "outputs": [
    {
     "name": "stdout",
     "output_type": "stream",
     "text": [
      "총 감염자:  103062445 명\n",
      "전체 검사자:  1267114790 명\n",
      "사망자:  8886032 명\n",
      "회복자: 56279239 명\n"
     ]
    }
   ],
   "source": [
    "print(\"총 감염자: \", data['TotalPositiveCases'].sum(), \"명\")\n",
    "print(\"전체 검사자: \", int(data['TestsPerformed'].sum()), \"명\")\n",
    "print(\"사망자: \", data['Deaths'].sum(), \"명\")\n",
    "print(\"회복자:\", data['Recovered'].sum(), \"명\")"
   ],
   "metadata": {
    "collapsed": false,
    "ExecuteTime": {
     "end_time": "2023-08-10T06:22:45.546555600Z",
     "start_time": "2023-08-10T06:22:45.514857300Z"
    }
   }
  },
  {
   "cell_type": "code",
   "execution_count": 45,
   "outputs": [
    {
     "data": {
      "text/plain": "SNo                                                                   18159351\nDate                         2020-02-24T18:00:002020-02-24T18:00:002020-02-...\nCountry                      ITAITAITAITAITAITAITAITAITAITAITAITAITAITAITAI...\nRegionCode                                                               71463\nRegionName                   AbruzzoBasilicataCalabriaCampaniaEmilia-Romagn...\nLatitude                                                         259440.006226\nLongitude                                                         73685.833704\nHospitalizedPatients                                                   3068307\nIntensiveCarePatients                                                   336863\nTotalHospitalizedPatients                                              3405170\nHomeConfinement                                                       34491987\nCurrentPositiveCases                                                  37897157\nNewPositiveCases                                                       1729061\nRecovered                                                             56279239\nDeaths                                                                 8886032\nTotalPositiveCases                                                   103062445\nTestsPerformed                                                    1267114790.0\ndtype: object"
     },
     "execution_count": 45,
     "metadata": {},
     "output_type": "execute_result"
    }
   ],
   "source": [
    "data.sum()  # 전체 데이터 합계 한눈에 확인"
   ],
   "metadata": {
    "collapsed": false,
    "ExecuteTime": {
     "end_time": "2023-08-10T06:23:17.175200Z",
     "start_time": "2023-08-10T06:23:17.104804500Z"
    }
   }
  },
  {
   "cell_type": "markdown",
   "source": [
    "### 데이터에서 상관관계 확인하기"
   ],
   "metadata": {
    "collapsed": false
   }
  },
  {
   "cell_type": "code",
   "execution_count": 48,
   "outputs": [
    {
     "data": {
      "text/plain": "0.8722532022962404"
     },
     "execution_count": 48,
     "metadata": {},
     "output_type": "execute_result"
    }
   ],
   "source": [
    "data['TestsPerformed'].corr(data['TotalPositiveCases'])"
   ],
   "metadata": {
    "collapsed": false,
    "ExecuteTime": {
     "end_time": "2023-08-10T06:24:56.973079500Z",
     "start_time": "2023-08-10T06:24:56.941350Z"
    }
   }
  },
  {
   "cell_type": "code",
   "execution_count": 49,
   "outputs": [
    {
     "data": {
      "text/plain": "0.6647142914858846"
     },
     "execution_count": 49,
     "metadata": {},
     "output_type": "execute_result"
    }
   ],
   "source": [
    "data['TestsPerformed'].corr(data['Deaths'])"
   ],
   "metadata": {
    "collapsed": false,
    "ExecuteTime": {
     "end_time": "2023-08-10T06:25:28.354183600Z",
     "start_time": "2023-08-10T06:25:28.331625300Z"
    }
   }
  },
  {
   "cell_type": "code",
   "execution_count": 50,
   "outputs": [
    {
     "data": {
      "text/plain": "0.7863555398726735"
     },
     "execution_count": 50,
     "metadata": {},
     "output_type": "execute_result"
    }
   ],
   "source": [
    "data['TotalPositiveCases'].corr(data['Deaths'])"
   ],
   "metadata": {
    "collapsed": false,
    "ExecuteTime": {
     "end_time": "2023-08-10T06:25:42.948016100Z",
     "start_time": "2023-08-10T06:25:42.911750200Z"
    }
   }
  },
  {
   "cell_type": "code",
   "execution_count": 55,
   "outputs": [
    {
     "data": {
      "text/plain": "      CurrentPositiveCases  NewPositiveCases  Recovered  Deaths  \\\n0                        0                 0          0       0   \n1                        0                 0          0       0   \n2                        0                 0          0       0   \n3                        0                 0          0       0   \n4                       18                18          0       0   \n...                    ...               ...        ...     ...   \n6022                 39746              1022      29984    1759   \n6023                 29199               753      76331    2867   \n6024                  6065               234      18619     460   \n6025                   987                34       5406     333   \n6026                 76804              3444      84235    4210   \n\n      TotalPositiveCases  TestsPerformed  \n0                      0             NaN  \n1                      0             NaN  \n2                      0             NaN  \n3                      0             NaN  \n4                     18             NaN  \n...                  ...             ...  \n6022               71489        692062.0  \n6023              108397        983103.0  \n6024               25144        231538.0  \n6025                6726         34644.0  \n6026              165249       1090932.0  \n\n[6027 rows x 6 columns]",
      "text/html": "<div>\n<style scoped>\n    .dataframe tbody tr th:only-of-type {\n        vertical-align: middle;\n    }\n\n    .dataframe tbody tr th {\n        vertical-align: top;\n    }\n\n    .dataframe thead th {\n        text-align: right;\n    }\n</style>\n<table border=\"1\" class=\"dataframe\">\n  <thead>\n    <tr style=\"text-align: right;\">\n      <th></th>\n      <th>CurrentPositiveCases</th>\n      <th>NewPositiveCases</th>\n      <th>Recovered</th>\n      <th>Deaths</th>\n      <th>TotalPositiveCases</th>\n      <th>TestsPerformed</th>\n    </tr>\n  </thead>\n  <tbody>\n    <tr>\n      <th>0</th>\n      <td>0</td>\n      <td>0</td>\n      <td>0</td>\n      <td>0</td>\n      <td>0</td>\n      <td>NaN</td>\n    </tr>\n    <tr>\n      <th>1</th>\n      <td>0</td>\n      <td>0</td>\n      <td>0</td>\n      <td>0</td>\n      <td>0</td>\n      <td>NaN</td>\n    </tr>\n    <tr>\n      <th>2</th>\n      <td>0</td>\n      <td>0</td>\n      <td>0</td>\n      <td>0</td>\n      <td>0</td>\n      <td>NaN</td>\n    </tr>\n    <tr>\n      <th>3</th>\n      <td>0</td>\n      <td>0</td>\n      <td>0</td>\n      <td>0</td>\n      <td>0</td>\n      <td>NaN</td>\n    </tr>\n    <tr>\n      <th>4</th>\n      <td>18</td>\n      <td>18</td>\n      <td>0</td>\n      <td>0</td>\n      <td>18</td>\n      <td>NaN</td>\n    </tr>\n    <tr>\n      <th>...</th>\n      <td>...</td>\n      <td>...</td>\n      <td>...</td>\n      <td>...</td>\n      <td>...</td>\n      <td>...</td>\n    </tr>\n    <tr>\n      <th>6022</th>\n      <td>39746</td>\n      <td>1022</td>\n      <td>29984</td>\n      <td>1759</td>\n      <td>71489</td>\n      <td>692062.0</td>\n    </tr>\n    <tr>\n      <th>6023</th>\n      <td>29199</td>\n      <td>753</td>\n      <td>76331</td>\n      <td>2867</td>\n      <td>108397</td>\n      <td>983103.0</td>\n    </tr>\n    <tr>\n      <th>6024</th>\n      <td>6065</td>\n      <td>234</td>\n      <td>18619</td>\n      <td>460</td>\n      <td>25144</td>\n      <td>231538.0</td>\n    </tr>\n    <tr>\n      <th>6025</th>\n      <td>987</td>\n      <td>34</td>\n      <td>5406</td>\n      <td>333</td>\n      <td>6726</td>\n      <td>34644.0</td>\n    </tr>\n    <tr>\n      <th>6026</th>\n      <td>76804</td>\n      <td>3444</td>\n      <td>84235</td>\n      <td>4210</td>\n      <td>165249</td>\n      <td>1090932.0</td>\n    </tr>\n  </tbody>\n</table>\n<p>6027 rows × 6 columns</p>\n</div>"
     },
     "execution_count": 55,
     "metadata": {},
     "output_type": "execute_result"
    }
   ],
   "source": [
    "data2 = data.drop(['Latitude', 'Longitude', 'Country', 'Date', 'HospitalizedPatients', 'IntensiveCarePatients', 'TotalHospitalizedPatients', 'HomeConfinement', 'RegionCode', 'SNo', 'RegionName'], axis=1)\n",
    "data2"
   ],
   "metadata": {
    "collapsed": false,
    "ExecuteTime": {
     "end_time": "2023-08-10T06:30:08.249461Z",
     "start_time": "2023-08-10T06:30:08.227535500Z"
    }
   }
  },
  {
   "cell_type": "code",
   "execution_count": 56,
   "outputs": [
    {
     "data": {
      "text/plain": "                      CurrentPositiveCases  NewPositiveCases  Recovered  \\\nCurrentPositiveCases              1.000000          0.878294   0.688062   \nNewPositiveCases                  0.878294          1.000000   0.594320   \nRecovered                         0.688062          0.594320   1.000000   \nDeaths                            0.479631          0.432150   0.857293   \nTotalPositiveCases                0.881542          0.769681   0.947592   \nTestsPerformed                    0.792406          0.750132   0.808176   \n\n                        Deaths  TotalPositiveCases  TestsPerformed  \nCurrentPositiveCases  0.479631            0.881542        0.792406  \nNewPositiveCases      0.432150            0.769681        0.750132  \nRecovered             0.857293            0.947592        0.808176  \nDeaths                1.000000            0.786356        0.664714  \nTotalPositiveCases    0.786356            1.000000        0.872253  \nTestsPerformed        0.664714            0.872253        1.000000  ",
      "text/html": "<div>\n<style scoped>\n    .dataframe tbody tr th:only-of-type {\n        vertical-align: middle;\n    }\n\n    .dataframe tbody tr th {\n        vertical-align: top;\n    }\n\n    .dataframe thead th {\n        text-align: right;\n    }\n</style>\n<table border=\"1\" class=\"dataframe\">\n  <thead>\n    <tr style=\"text-align: right;\">\n      <th></th>\n      <th>CurrentPositiveCases</th>\n      <th>NewPositiveCases</th>\n      <th>Recovered</th>\n      <th>Deaths</th>\n      <th>TotalPositiveCases</th>\n      <th>TestsPerformed</th>\n    </tr>\n  </thead>\n  <tbody>\n    <tr>\n      <th>CurrentPositiveCases</th>\n      <td>1.000000</td>\n      <td>0.878294</td>\n      <td>0.688062</td>\n      <td>0.479631</td>\n      <td>0.881542</td>\n      <td>0.792406</td>\n    </tr>\n    <tr>\n      <th>NewPositiveCases</th>\n      <td>0.878294</td>\n      <td>1.000000</td>\n      <td>0.594320</td>\n      <td>0.432150</td>\n      <td>0.769681</td>\n      <td>0.750132</td>\n    </tr>\n    <tr>\n      <th>Recovered</th>\n      <td>0.688062</td>\n      <td>0.594320</td>\n      <td>1.000000</td>\n      <td>0.857293</td>\n      <td>0.947592</td>\n      <td>0.808176</td>\n    </tr>\n    <tr>\n      <th>Deaths</th>\n      <td>0.479631</td>\n      <td>0.432150</td>\n      <td>0.857293</td>\n      <td>1.000000</td>\n      <td>0.786356</td>\n      <td>0.664714</td>\n    </tr>\n    <tr>\n      <th>TotalPositiveCases</th>\n      <td>0.881542</td>\n      <td>0.769681</td>\n      <td>0.947592</td>\n      <td>0.786356</td>\n      <td>1.000000</td>\n      <td>0.872253</td>\n    </tr>\n    <tr>\n      <th>TestsPerformed</th>\n      <td>0.792406</td>\n      <td>0.750132</td>\n      <td>0.808176</td>\n      <td>0.664714</td>\n      <td>0.872253</td>\n      <td>1.000000</td>\n    </tr>\n  </tbody>\n</table>\n</div>"
     },
     "execution_count": 56,
     "metadata": {},
     "output_type": "execute_result"
    }
   ],
   "source": [
    "data2.corr()"
   ],
   "metadata": {
    "collapsed": false,
    "ExecuteTime": {
     "end_time": "2023-08-10T06:30:10.089136400Z",
     "start_time": "2023-08-10T06:30:10.071195Z"
    }
   }
  },
  {
   "cell_type": "code",
   "execution_count": null,
   "outputs": [],
   "source": [],
   "metadata": {
    "collapsed": false
   }
  }
 ],
 "metadata": {
  "kernelspec": {
   "display_name": "Python 3",
   "language": "python",
   "name": "python3"
  },
  "language_info": {
   "codemirror_mode": {
    "name": "ipython",
    "version": 2
   },
   "file_extension": ".py",
   "mimetype": "text/x-python",
   "name": "python",
   "nbconvert_exporter": "python",
   "pygments_lexer": "ipython2",
   "version": "2.7.6"
  }
 },
 "nbformat": 4,
 "nbformat_minor": 0
}
