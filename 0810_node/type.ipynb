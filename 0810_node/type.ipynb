{
 "cells": [
  {
   "cell_type": "code",
   "execution_count": 8,
   "metadata": {
    "collapsed": true,
    "ExecuteTime": {
     "end_time": "2023-08-10T08:37:28.868638100Z",
     "start_time": "2023-08-10T08:37:28.867326500Z"
    }
   },
   "outputs": [],
   "source": [
    "import pandas as pd"
   ]
  },
  {
   "cell_type": "code",
   "execution_count": 2,
   "outputs": [
    {
     "data": {
      "text/plain": "       SNo                 Date Country  RegionCode      RegionName  \\\n0        0  2020-02-24T18:00:00     ITA          13         Abruzzo   \n1        1  2020-02-24T18:00:00     ITA          17      Basilicata   \n2        2  2020-02-24T18:00:00     ITA          18        Calabria   \n3        3  2020-02-24T18:00:00     ITA          15        Campania   \n4        4  2020-02-24T18:00:00     ITA           8  Emilia-Romagna   \n...    ...                  ...     ...         ...             ...   \n6022  6022  2020-12-06T17:00:00     ITA          19         Sicilia   \n6023  6023  2020-12-06T17:00:00     ITA           9         Toscana   \n6024  6024  2020-12-06T17:00:00     ITA          10          Umbria   \n6025  6025  2020-12-06T17:00:00     ITA           2   Valle d'Aosta   \n6026  6026  2020-12-06T17:00:00     ITA           5          Veneto   \n\n       Latitude  Longitude  HospitalizedPatients  IntensiveCarePatients  \\\n0     42.351222  13.398438                     0                      0   \n1     40.639471  15.805148                     0                      0   \n2     38.905976  16.594402                     0                      0   \n3     40.839566  14.250850                     0                      0   \n4     44.494367  11.341721                    10                      2   \n...         ...        ...                   ...                    ...   \n6022  38.115697  13.362357                  1367                    213   \n6023  43.769231  11.255889                  1360                    252   \n6024  43.106758  12.388247                   332                     60   \n6025  45.737503   7.320149                   102                      8   \n6026  45.434905  12.338452                  2508                    308   \n\n      TotalHospitalizedPatients  HomeConfinement  CurrentPositiveCases  \\\n0                             0                0                     0   \n1                             0                0                     0   \n2                             0                0                     0   \n3                             0                0                     0   \n4                            12                6                    18   \n...                         ...              ...                   ...   \n6022                       1580            38166                 39746   \n6023                       1612            27587                 29199   \n6024                        392             5673                  6065   \n6025                        110              877                   987   \n6026                       2816            73988                 76804   \n\n      NewPositiveCases  Recovered  Deaths  TotalPositiveCases  TestsPerformed  \n0                    0          0       0                   0             NaN  \n1                    0          0       0                   0             NaN  \n2                    0          0       0                   0             NaN  \n3                    0          0       0                   0             NaN  \n4                   18          0       0                  18             NaN  \n...                ...        ...     ...                 ...             ...  \n6022              1022      29984    1759               71489        692062.0  \n6023               753      76331    2867              108397        983103.0  \n6024               234      18619     460               25144        231538.0  \n6025                34       5406     333                6726         34644.0  \n6026              3444      84235    4210              165249       1090932.0  \n\n[6027 rows x 17 columns]",
      "text/html": "<div>\n<style scoped>\n    .dataframe tbody tr th:only-of-type {\n        vertical-align: middle;\n    }\n\n    .dataframe tbody tr th {\n        vertical-align: top;\n    }\n\n    .dataframe thead th {\n        text-align: right;\n    }\n</style>\n<table border=\"1\" class=\"dataframe\">\n  <thead>\n    <tr style=\"text-align: right;\">\n      <th></th>\n      <th>SNo</th>\n      <th>Date</th>\n      <th>Country</th>\n      <th>RegionCode</th>\n      <th>RegionName</th>\n      <th>Latitude</th>\n      <th>Longitude</th>\n      <th>HospitalizedPatients</th>\n      <th>IntensiveCarePatients</th>\n      <th>TotalHospitalizedPatients</th>\n      <th>HomeConfinement</th>\n      <th>CurrentPositiveCases</th>\n      <th>NewPositiveCases</th>\n      <th>Recovered</th>\n      <th>Deaths</th>\n      <th>TotalPositiveCases</th>\n      <th>TestsPerformed</th>\n    </tr>\n  </thead>\n  <tbody>\n    <tr>\n      <th>0</th>\n      <td>0</td>\n      <td>2020-02-24T18:00:00</td>\n      <td>ITA</td>\n      <td>13</td>\n      <td>Abruzzo</td>\n      <td>42.351222</td>\n      <td>13.398438</td>\n      <td>0</td>\n      <td>0</td>\n      <td>0</td>\n      <td>0</td>\n      <td>0</td>\n      <td>0</td>\n      <td>0</td>\n      <td>0</td>\n      <td>0</td>\n      <td>NaN</td>\n    </tr>\n    <tr>\n      <th>1</th>\n      <td>1</td>\n      <td>2020-02-24T18:00:00</td>\n      <td>ITA</td>\n      <td>17</td>\n      <td>Basilicata</td>\n      <td>40.639471</td>\n      <td>15.805148</td>\n      <td>0</td>\n      <td>0</td>\n      <td>0</td>\n      <td>0</td>\n      <td>0</td>\n      <td>0</td>\n      <td>0</td>\n      <td>0</td>\n      <td>0</td>\n      <td>NaN</td>\n    </tr>\n    <tr>\n      <th>2</th>\n      <td>2</td>\n      <td>2020-02-24T18:00:00</td>\n      <td>ITA</td>\n      <td>18</td>\n      <td>Calabria</td>\n      <td>38.905976</td>\n      <td>16.594402</td>\n      <td>0</td>\n      <td>0</td>\n      <td>0</td>\n      <td>0</td>\n      <td>0</td>\n      <td>0</td>\n      <td>0</td>\n      <td>0</td>\n      <td>0</td>\n      <td>NaN</td>\n    </tr>\n    <tr>\n      <th>3</th>\n      <td>3</td>\n      <td>2020-02-24T18:00:00</td>\n      <td>ITA</td>\n      <td>15</td>\n      <td>Campania</td>\n      <td>40.839566</td>\n      <td>14.250850</td>\n      <td>0</td>\n      <td>0</td>\n      <td>0</td>\n      <td>0</td>\n      <td>0</td>\n      <td>0</td>\n      <td>0</td>\n      <td>0</td>\n      <td>0</td>\n      <td>NaN</td>\n    </tr>\n    <tr>\n      <th>4</th>\n      <td>4</td>\n      <td>2020-02-24T18:00:00</td>\n      <td>ITA</td>\n      <td>8</td>\n      <td>Emilia-Romagna</td>\n      <td>44.494367</td>\n      <td>11.341721</td>\n      <td>10</td>\n      <td>2</td>\n      <td>12</td>\n      <td>6</td>\n      <td>18</td>\n      <td>18</td>\n      <td>0</td>\n      <td>0</td>\n      <td>18</td>\n      <td>NaN</td>\n    </tr>\n    <tr>\n      <th>...</th>\n      <td>...</td>\n      <td>...</td>\n      <td>...</td>\n      <td>...</td>\n      <td>...</td>\n      <td>...</td>\n      <td>...</td>\n      <td>...</td>\n      <td>...</td>\n      <td>...</td>\n      <td>...</td>\n      <td>...</td>\n      <td>...</td>\n      <td>...</td>\n      <td>...</td>\n      <td>...</td>\n      <td>...</td>\n    </tr>\n    <tr>\n      <th>6022</th>\n      <td>6022</td>\n      <td>2020-12-06T17:00:00</td>\n      <td>ITA</td>\n      <td>19</td>\n      <td>Sicilia</td>\n      <td>38.115697</td>\n      <td>13.362357</td>\n      <td>1367</td>\n      <td>213</td>\n      <td>1580</td>\n      <td>38166</td>\n      <td>39746</td>\n      <td>1022</td>\n      <td>29984</td>\n      <td>1759</td>\n      <td>71489</td>\n      <td>692062.0</td>\n    </tr>\n    <tr>\n      <th>6023</th>\n      <td>6023</td>\n      <td>2020-12-06T17:00:00</td>\n      <td>ITA</td>\n      <td>9</td>\n      <td>Toscana</td>\n      <td>43.769231</td>\n      <td>11.255889</td>\n      <td>1360</td>\n      <td>252</td>\n      <td>1612</td>\n      <td>27587</td>\n      <td>29199</td>\n      <td>753</td>\n      <td>76331</td>\n      <td>2867</td>\n      <td>108397</td>\n      <td>983103.0</td>\n    </tr>\n    <tr>\n      <th>6024</th>\n      <td>6024</td>\n      <td>2020-12-06T17:00:00</td>\n      <td>ITA</td>\n      <td>10</td>\n      <td>Umbria</td>\n      <td>43.106758</td>\n      <td>12.388247</td>\n      <td>332</td>\n      <td>60</td>\n      <td>392</td>\n      <td>5673</td>\n      <td>6065</td>\n      <td>234</td>\n      <td>18619</td>\n      <td>460</td>\n      <td>25144</td>\n      <td>231538.0</td>\n    </tr>\n    <tr>\n      <th>6025</th>\n      <td>6025</td>\n      <td>2020-12-06T17:00:00</td>\n      <td>ITA</td>\n      <td>2</td>\n      <td>Valle d'Aosta</td>\n      <td>45.737503</td>\n      <td>7.320149</td>\n      <td>102</td>\n      <td>8</td>\n      <td>110</td>\n      <td>877</td>\n      <td>987</td>\n      <td>34</td>\n      <td>5406</td>\n      <td>333</td>\n      <td>6726</td>\n      <td>34644.0</td>\n    </tr>\n    <tr>\n      <th>6026</th>\n      <td>6026</td>\n      <td>2020-12-06T17:00:00</td>\n      <td>ITA</td>\n      <td>5</td>\n      <td>Veneto</td>\n      <td>45.434905</td>\n      <td>12.338452</td>\n      <td>2508</td>\n      <td>308</td>\n      <td>2816</td>\n      <td>73988</td>\n      <td>76804</td>\n      <td>3444</td>\n      <td>84235</td>\n      <td>4210</td>\n      <td>165249</td>\n      <td>1090932.0</td>\n    </tr>\n  </tbody>\n</table>\n<p>6027 rows × 17 columns</p>\n</div>"
     },
     "execution_count": 2,
     "metadata": {},
     "output_type": "execute_result"
    }
   ],
   "source": [
    "x = pd.read_csv(\"covid19_italy_region.csv\")\n",
    "x"
   ],
   "metadata": {
    "collapsed": false,
    "ExecuteTime": {
     "end_time": "2023-08-10T08:35:29.025608400Z",
     "start_time": "2023-08-10T08:35:28.991897500Z"
    }
   }
  },
  {
   "cell_type": "code",
   "execution_count": 3,
   "outputs": [
    {
     "name": "stdout",
     "output_type": "stream",
     "text": [
      "<class 'pandas.core.frame.DataFrame'>\n",
      "RangeIndex: 6027 entries, 0 to 6026\n",
      "Data columns (total 17 columns):\n",
      " #   Column                     Non-Null Count  Dtype  \n",
      "---  ------                     --------------  -----  \n",
      " 0   SNo                        6027 non-null   int64  \n",
      " 1   Date                       6027 non-null   object \n",
      " 2   Country                    6027 non-null   object \n",
      " 3   RegionCode                 6027 non-null   int64  \n",
      " 4   RegionName                 6027 non-null   object \n",
      " 5   Latitude                   6027 non-null   float64\n",
      " 6   Longitude                  6027 non-null   float64\n",
      " 7   HospitalizedPatients       6027 non-null   int64  \n",
      " 8   IntensiveCarePatients      6027 non-null   int64  \n",
      " 9   TotalHospitalizedPatients  6027 non-null   int64  \n",
      " 10  HomeConfinement            6027 non-null   int64  \n",
      " 11  CurrentPositiveCases       6027 non-null   int64  \n",
      " 12  NewPositiveCases           6027 non-null   int64  \n",
      " 13  Recovered                  6027 non-null   int64  \n",
      " 14  Deaths                     6027 non-null   int64  \n",
      " 15  TotalPositiveCases         6027 non-null   int64  \n",
      " 16  TestsPerformed             4872 non-null   float64\n",
      "dtypes: float64(3), int64(11), object(3)\n",
      "memory usage: 800.6+ KB\n"
     ]
    }
   ],
   "source": [
    "x.info()"
   ],
   "metadata": {
    "collapsed": false,
    "ExecuteTime": {
     "end_time": "2023-08-10T08:35:33.691466400Z",
     "start_time": "2023-08-10T08:35:33.649570900Z"
    }
   }
  },
  {
   "cell_type": "code",
   "execution_count": 5,
   "outputs": [],
   "source": [
    "y = x.columns\n",
    "for i in y:\n",
    "    x[i] = x[i].astype('str')"
   ],
   "metadata": {
    "collapsed": false,
    "ExecuteTime": {
     "end_time": "2023-08-10T08:36:44.600572100Z",
     "start_time": "2023-08-10T08:36:44.573298800Z"
    }
   }
  },
  {
   "cell_type": "code",
   "execution_count": 7,
   "outputs": [
    {
     "name": "stdout",
     "output_type": "stream",
     "text": [
      "<class 'pandas.core.frame.DataFrame'>\n",
      "RangeIndex: 6027 entries, 0 to 6026\n",
      "Data columns (total 17 columns):\n",
      " #   Column                     Non-Null Count  Dtype \n",
      "---  ------                     --------------  ----- \n",
      " 0   SNo                        6027 non-null   object\n",
      " 1   Date                       6027 non-null   object\n",
      " 2   Country                    6027 non-null   object\n",
      " 3   RegionCode                 6027 non-null   object\n",
      " 4   RegionName                 6027 non-null   object\n",
      " 5   Latitude                   6027 non-null   object\n",
      " 6   Longitude                  6027 non-null   object\n",
      " 7   HospitalizedPatients       6027 non-null   object\n",
      " 8   IntensiveCarePatients      6027 non-null   object\n",
      " 9   TotalHospitalizedPatients  6027 non-null   object\n",
      " 10  HomeConfinement            6027 non-null   object\n",
      " 11  CurrentPositiveCases       6027 non-null   object\n",
      " 12  NewPositiveCases           6027 non-null   object\n",
      " 13  Recovered                  6027 non-null   object\n",
      " 14  Deaths                     6027 non-null   object\n",
      " 15  TotalPositiveCases         6027 non-null   object\n",
      " 16  TestsPerformed             6027 non-null   object\n",
      "dtypes: object(17)\n",
      "memory usage: 800.6+ KB\n"
     ]
    }
   ],
   "source": [
    "x.info()"
   ],
   "metadata": {
    "collapsed": false,
    "ExecuteTime": {
     "end_time": "2023-08-10T08:36:53.876094500Z",
     "start_time": "2023-08-10T08:36:53.847117700Z"
    }
   }
  },
  {
   "cell_type": "code",
   "execution_count": null,
   "outputs": [],
   "source": [],
   "metadata": {
    "collapsed": false
   }
  }
 ],
 "metadata": {
  "kernelspec": {
   "display_name": "Python 3",
   "language": "python",
   "name": "python3"
  },
  "language_info": {
   "codemirror_mode": {
    "name": "ipython",
    "version": 2
   },
   "file_extension": ".py",
   "mimetype": "text/x-python",
   "name": "python",
   "nbconvert_exporter": "python",
   "pygments_lexer": "ipython2",
   "version": "2.7.6"
  }
 },
 "nbformat": 4,
 "nbformat_minor": 0
}
