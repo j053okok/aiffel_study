{
 "cells": [
  {
   "cell_type": "code",
   "execution_count": 1,
   "metadata": {
    "collapsed": true,
    "ExecuteTime": {
     "end_time": "2023-08-10T07:17:35.107800700Z",
     "start_time": "2023-08-10T07:17:34.221479500Z"
    }
   },
   "outputs": [],
   "source": [
    "import pandas as pd\n",
    "import numpy as np\n",
    "import pylab as pl"
   ]
  },
  {
   "cell_type": "code",
   "execution_count": 2,
   "outputs": [
    {
     "data": {
      "text/plain": "0    1.0\n1    3.0\n2    5.0\n3    NaN\n4    6.0\n5    8.0\ndtype: float64"
     },
     "execution_count": 2,
     "metadata": {},
     "output_type": "execute_result"
    }
   ],
   "source": [
    "s = pd.Series([1, 3, 5, np.nan, 6, 8])\n",
    "s"
   ],
   "metadata": {
    "collapsed": false,
    "ExecuteTime": {
     "end_time": "2023-08-10T07:18:01.352314200Z",
     "start_time": "2023-08-10T07:18:01.352314200Z"
    }
   }
  },
  {
   "cell_type": "code",
   "execution_count": 4,
   "outputs": [
    {
     "data": {
      "text/plain": "1"
     },
     "execution_count": 4,
     "metadata": {},
     "output_type": "execute_result"
    }
   ],
   "source": [
    "s.isnull().sum()"
   ],
   "metadata": {
    "collapsed": false,
    "ExecuteTime": {
     "end_time": "2023-08-10T07:18:19.600233700Z",
     "start_time": "2023-08-10T07:18:19.584599800Z"
    }
   }
  },
  {
   "cell_type": "code",
   "execution_count": 9,
   "outputs": [
    {
     "data": {
      "text/plain": "DatetimeIndex(['2023-08-01', '2023-08-02', '2023-08-03', '2023-08-04',\n               '2023-08-05', '2023-08-06'],\n              dtype='datetime64[ns]', freq='D')"
     },
     "execution_count": 9,
     "metadata": {},
     "output_type": "execute_result"
    }
   ],
   "source": [
    "dates = pd.date_range(\"20230801\", periods=6)  # 날짜 범위 설정방법\n",
    "dates"
   ],
   "metadata": {
    "collapsed": false,
    "ExecuteTime": {
     "end_time": "2023-08-10T07:21:36.849493400Z",
     "start_time": "2023-08-10T07:21:36.821483700Z"
    }
   }
  },
  {
   "cell_type": "code",
   "execution_count": 10,
   "outputs": [
    {
     "data": {
      "text/plain": "                   A         B         C         D\n2023-08-01 -1.056037 -1.805402 -1.403116  0.596369\n2023-08-02  0.222075 -0.511272  0.951325 -0.066203\n2023-08-03 -0.219207  0.890976  0.071881 -2.325203\n2023-08-04 -0.483127  1.482486 -1.106968  0.104813\n2023-08-05 -0.332895 -1.034390  0.674528 -1.610098\n2023-08-06 -1.082368 -0.110432  0.163371  0.978219",
      "text/html": "<div>\n<style scoped>\n    .dataframe tbody tr th:only-of-type {\n        vertical-align: middle;\n    }\n\n    .dataframe tbody tr th {\n        vertical-align: top;\n    }\n\n    .dataframe thead th {\n        text-align: right;\n    }\n</style>\n<table border=\"1\" class=\"dataframe\">\n  <thead>\n    <tr style=\"text-align: right;\">\n      <th></th>\n      <th>A</th>\n      <th>B</th>\n      <th>C</th>\n      <th>D</th>\n    </tr>\n  </thead>\n  <tbody>\n    <tr>\n      <th>2023-08-01</th>\n      <td>-1.056037</td>\n      <td>-1.805402</td>\n      <td>-1.403116</td>\n      <td>0.596369</td>\n    </tr>\n    <tr>\n      <th>2023-08-02</th>\n      <td>0.222075</td>\n      <td>-0.511272</td>\n      <td>0.951325</td>\n      <td>-0.066203</td>\n    </tr>\n    <tr>\n      <th>2023-08-03</th>\n      <td>-0.219207</td>\n      <td>0.890976</td>\n      <td>0.071881</td>\n      <td>-2.325203</td>\n    </tr>\n    <tr>\n      <th>2023-08-04</th>\n      <td>-0.483127</td>\n      <td>1.482486</td>\n      <td>-1.106968</td>\n      <td>0.104813</td>\n    </tr>\n    <tr>\n      <th>2023-08-05</th>\n      <td>-0.332895</td>\n      <td>-1.034390</td>\n      <td>0.674528</td>\n      <td>-1.610098</td>\n    </tr>\n    <tr>\n      <th>2023-08-06</th>\n      <td>-1.082368</td>\n      <td>-0.110432</td>\n      <td>0.163371</td>\n      <td>0.978219</td>\n    </tr>\n  </tbody>\n</table>\n</div>"
     },
     "execution_count": 10,
     "metadata": {},
     "output_type": "execute_result"
    }
   ],
   "source": [
    "df = pd.DataFrame(np.random.randn(6, 4), index=dates, columns=list(\"ABCD\"))\n",
    "df"
   ],
   "metadata": {
    "collapsed": false,
    "ExecuteTime": {
     "end_time": "2023-08-10T07:21:37.054608500Z",
     "start_time": "2023-08-10T07:21:37.054099900Z"
    }
   }
  },
  {
   "cell_type": "markdown",
   "source": [
    "### 사전형 -> 데이터 프레임"
   ],
   "metadata": {
    "collapsed": false
   }
  },
  {
   "cell_type": "code",
   "execution_count": 12,
   "outputs": [
    {
     "data": {
      "text/plain": "     A          B    C  D      E    F\n0  1.0 2023-08-02  1.0  3   test  foo\n1  1.0 2023-08-02  1.0  3  train  foo\n2  1.0 2023-08-02  1.0  3   test  foo\n3  1.0 2023-08-02  1.0  3  train  foo",
      "text/html": "<div>\n<style scoped>\n    .dataframe tbody tr th:only-of-type {\n        vertical-align: middle;\n    }\n\n    .dataframe tbody tr th {\n        vertical-align: top;\n    }\n\n    .dataframe thead th {\n        text-align: right;\n    }\n</style>\n<table border=\"1\" class=\"dataframe\">\n  <thead>\n    <tr style=\"text-align: right;\">\n      <th></th>\n      <th>A</th>\n      <th>B</th>\n      <th>C</th>\n      <th>D</th>\n      <th>E</th>\n      <th>F</th>\n    </tr>\n  </thead>\n  <tbody>\n    <tr>\n      <th>0</th>\n      <td>1.0</td>\n      <td>2023-08-02</td>\n      <td>1.0</td>\n      <td>3</td>\n      <td>test</td>\n      <td>foo</td>\n    </tr>\n    <tr>\n      <th>1</th>\n      <td>1.0</td>\n      <td>2023-08-02</td>\n      <td>1.0</td>\n      <td>3</td>\n      <td>train</td>\n      <td>foo</td>\n    </tr>\n    <tr>\n      <th>2</th>\n      <td>1.0</td>\n      <td>2023-08-02</td>\n      <td>1.0</td>\n      <td>3</td>\n      <td>test</td>\n      <td>foo</td>\n    </tr>\n    <tr>\n      <th>3</th>\n      <td>1.0</td>\n      <td>2023-08-02</td>\n      <td>1.0</td>\n      <td>3</td>\n      <td>train</td>\n      <td>foo</td>\n    </tr>\n  </tbody>\n</table>\n</div>"
     },
     "execution_count": 12,
     "metadata": {},
     "output_type": "execute_result"
    }
   ],
   "source": [
    "df2 = pd.DataFrame(\n",
    "    {\n",
    "        \"A\": 1.0,\n",
    "        \"B\": pd.Timestamp(\"20230802\"),\n",
    "        \"C\": pd.Series(1, index=list(range(4)), dtype=\"float32\"),\n",
    "        \"D\": np.array([3] * 4, dtype=\"int32\"),\n",
    "        \"E\": pd.Categorical([\"test\", \"train\", \"test\", \"train\"]),\n",
    "        \"F\": \"foo\"\n",
    "    }\n",
    ")\n",
    "df2"
   ],
   "metadata": {
    "collapsed": false,
    "ExecuteTime": {
     "end_time": "2023-08-10T07:27:40.330473600Z",
     "start_time": "2023-08-10T07:27:40.322004900Z"
    }
   }
  },
  {
   "cell_type": "code",
   "execution_count": 13,
   "outputs": [
    {
     "data": {
      "text/plain": "A           float64\nB    datetime64[ns]\nC           float32\nD             int32\nE          category\nF            object\ndtype: object"
     },
     "execution_count": 13,
     "metadata": {},
     "output_type": "execute_result"
    }
   ],
   "source": [
    "df2.dtypes"
   ],
   "metadata": {
    "collapsed": false,
    "ExecuteTime": {
     "end_time": "2023-08-10T07:30:30.038745500Z",
     "start_time": "2023-08-10T07:30:30.032644700Z"
    }
   }
  },
  {
   "cell_type": "code",
   "execution_count": 23,
   "outputs": [
    {
     "data": {
      "text/plain": "Index([0, 1, 2, 3], dtype='int64')"
     },
     "execution_count": 23,
     "metadata": {},
     "output_type": "execute_result"
    }
   ],
   "source": [
    "df2.index"
   ],
   "metadata": {
    "collapsed": false,
    "ExecuteTime": {
     "end_time": "2023-08-10T07:33:34.300947300Z",
     "start_time": "2023-08-10T07:33:34.296437300Z"
    }
   }
  },
  {
   "cell_type": "code",
   "execution_count": 24,
   "outputs": [
    {
     "data": {
      "text/plain": "Index(['A', 'B', 'C', 'D', 'E', 'F'], dtype='object')"
     },
     "execution_count": 24,
     "metadata": {},
     "output_type": "execute_result"
    }
   ],
   "source": [
    "df2.columns"
   ],
   "metadata": {
    "collapsed": false,
    "ExecuteTime": {
     "end_time": "2023-08-10T07:33:34.669852700Z",
     "start_time": "2023-08-10T07:33:34.646091Z"
    }
   }
  },
  {
   "cell_type": "code",
   "execution_count": 25,
   "outputs": [
    {
     "data": {
      "text/plain": "array([[-1.05603715, -1.80540208, -1.40311594,  0.59636942],\n       [ 0.22207486, -0.51127188,  0.95132536, -0.06620273],\n       [-0.219207  ,  0.89097604,  0.07188055, -2.32520323],\n       [-0.48312658,  1.48248609, -1.1069684 ,  0.10481266],\n       [-0.33289469, -1.0343901 ,  0.67452772, -1.61009831],\n       [-1.08236759, -0.11043156,  0.16337097,  0.97821908]])"
     },
     "execution_count": 25,
     "metadata": {},
     "output_type": "execute_result"
    }
   ],
   "source": [
    "df.to_numpy()"
   ],
   "metadata": {
    "collapsed": false,
    "ExecuteTime": {
     "end_time": "2023-08-10T07:34:37.183911700Z",
     "start_time": "2023-08-10T07:34:37.178905200Z"
    }
   }
  },
  {
   "cell_type": "code",
   "execution_count": 26,
   "outputs": [
    {
     "data": {
      "text/plain": "array([[1.0, Timestamp('2023-08-02 00:00:00'), 1.0, 3, 'test', 'foo'],\n       [1.0, Timestamp('2023-08-02 00:00:00'), 1.0, 3, 'train', 'foo'],\n       [1.0, Timestamp('2023-08-02 00:00:00'), 1.0, 3, 'test', 'foo'],\n       [1.0, Timestamp('2023-08-02 00:00:00'), 1.0, 3, 'train', 'foo']],\n      dtype=object)"
     },
     "execution_count": 26,
     "metadata": {},
     "output_type": "execute_result"
    }
   ],
   "source": [
    "df2.to_numpy()"
   ],
   "metadata": {
    "collapsed": false,
    "ExecuteTime": {
     "end_time": "2023-08-10T07:34:47.216030800Z",
     "start_time": "2023-08-10T07:34:47.214975600Z"
    }
   }
  },
  {
   "cell_type": "code",
   "execution_count": 27,
   "outputs": [
    {
     "data": {
      "text/plain": "              A         B         C         D\ncount  6.000000  6.000000  6.000000  6.000000\nmean  -0.491926 -0.181339 -0.108163 -0.387017\nstd    0.505249  1.216333  0.950345  1.298324\nmin   -1.082368 -1.805402 -1.403116 -2.325203\n25%   -0.912810 -0.903611 -0.812256 -1.224124\n50%   -0.408011 -0.310852  0.117626  0.019305\n75%   -0.247629  0.640624  0.546739  0.473480\nmax    0.222075  1.482486  0.951325  0.978219",
      "text/html": "<div>\n<style scoped>\n    .dataframe tbody tr th:only-of-type {\n        vertical-align: middle;\n    }\n\n    .dataframe tbody tr th {\n        vertical-align: top;\n    }\n\n    .dataframe thead th {\n        text-align: right;\n    }\n</style>\n<table border=\"1\" class=\"dataframe\">\n  <thead>\n    <tr style=\"text-align: right;\">\n      <th></th>\n      <th>A</th>\n      <th>B</th>\n      <th>C</th>\n      <th>D</th>\n    </tr>\n  </thead>\n  <tbody>\n    <tr>\n      <th>count</th>\n      <td>6.000000</td>\n      <td>6.000000</td>\n      <td>6.000000</td>\n      <td>6.000000</td>\n    </tr>\n    <tr>\n      <th>mean</th>\n      <td>-0.491926</td>\n      <td>-0.181339</td>\n      <td>-0.108163</td>\n      <td>-0.387017</td>\n    </tr>\n    <tr>\n      <th>std</th>\n      <td>0.505249</td>\n      <td>1.216333</td>\n      <td>0.950345</td>\n      <td>1.298324</td>\n    </tr>\n    <tr>\n      <th>min</th>\n      <td>-1.082368</td>\n      <td>-1.805402</td>\n      <td>-1.403116</td>\n      <td>-2.325203</td>\n    </tr>\n    <tr>\n      <th>25%</th>\n      <td>-0.912810</td>\n      <td>-0.903611</td>\n      <td>-0.812256</td>\n      <td>-1.224124</td>\n    </tr>\n    <tr>\n      <th>50%</th>\n      <td>-0.408011</td>\n      <td>-0.310852</td>\n      <td>0.117626</td>\n      <td>0.019305</td>\n    </tr>\n    <tr>\n      <th>75%</th>\n      <td>-0.247629</td>\n      <td>0.640624</td>\n      <td>0.546739</td>\n      <td>0.473480</td>\n    </tr>\n    <tr>\n      <th>max</th>\n      <td>0.222075</td>\n      <td>1.482486</td>\n      <td>0.951325</td>\n      <td>0.978219</td>\n    </tr>\n  </tbody>\n</table>\n</div>"
     },
     "execution_count": 27,
     "metadata": {},
     "output_type": "execute_result"
    }
   ],
   "source": [
    "df.describe()"
   ],
   "metadata": {
    "collapsed": false,
    "ExecuteTime": {
     "end_time": "2023-08-10T07:35:23.546891100Z",
     "start_time": "2023-08-10T07:35:23.515511900Z"
    }
   }
  },
  {
   "cell_type": "code",
   "execution_count": 29,
   "outputs": [
    {
     "data": {
      "text/plain": "                   A         B         C         D\n2023-08-01 -1.056037 -1.805402 -1.403116  0.596369\n2023-08-02  0.222075 -0.511272  0.951325 -0.066203\n2023-08-03 -0.219207  0.890976  0.071881 -2.325203\n2023-08-04 -0.483127  1.482486 -1.106968  0.104813\n2023-08-05 -0.332895 -1.034390  0.674528 -1.610098\n2023-08-06 -1.082368 -0.110432  0.163371  0.978219",
      "text/html": "<div>\n<style scoped>\n    .dataframe tbody tr th:only-of-type {\n        vertical-align: middle;\n    }\n\n    .dataframe tbody tr th {\n        vertical-align: top;\n    }\n\n    .dataframe thead th {\n        text-align: right;\n    }\n</style>\n<table border=\"1\" class=\"dataframe\">\n  <thead>\n    <tr style=\"text-align: right;\">\n      <th></th>\n      <th>A</th>\n      <th>B</th>\n      <th>C</th>\n      <th>D</th>\n    </tr>\n  </thead>\n  <tbody>\n    <tr>\n      <th>2023-08-01</th>\n      <td>-1.056037</td>\n      <td>-1.805402</td>\n      <td>-1.403116</td>\n      <td>0.596369</td>\n    </tr>\n    <tr>\n      <th>2023-08-02</th>\n      <td>0.222075</td>\n      <td>-0.511272</td>\n      <td>0.951325</td>\n      <td>-0.066203</td>\n    </tr>\n    <tr>\n      <th>2023-08-03</th>\n      <td>-0.219207</td>\n      <td>0.890976</td>\n      <td>0.071881</td>\n      <td>-2.325203</td>\n    </tr>\n    <tr>\n      <th>2023-08-04</th>\n      <td>-0.483127</td>\n      <td>1.482486</td>\n      <td>-1.106968</td>\n      <td>0.104813</td>\n    </tr>\n    <tr>\n      <th>2023-08-05</th>\n      <td>-0.332895</td>\n      <td>-1.034390</td>\n      <td>0.674528</td>\n      <td>-1.610098</td>\n    </tr>\n    <tr>\n      <th>2023-08-06</th>\n      <td>-1.082368</td>\n      <td>-0.110432</td>\n      <td>0.163371</td>\n      <td>0.978219</td>\n    </tr>\n  </tbody>\n</table>\n</div>"
     },
     "execution_count": 29,
     "metadata": {},
     "output_type": "execute_result"
    }
   ],
   "source": [
    "df"
   ],
   "metadata": {
    "collapsed": false,
    "ExecuteTime": {
     "end_time": "2023-08-10T07:35:48.653997300Z",
     "start_time": "2023-08-10T07:35:48.625854500Z"
    }
   }
  },
  {
   "cell_type": "code",
   "execution_count": 28,
   "outputs": [
    {
     "data": {
      "text/plain": "   2023-08-01  2023-08-02  2023-08-03  2023-08-04  2023-08-05  2023-08-06\nA   -1.056037    0.222075   -0.219207   -0.483127   -0.332895   -1.082368\nB   -1.805402   -0.511272    0.890976    1.482486   -1.034390   -0.110432\nC   -1.403116    0.951325    0.071881   -1.106968    0.674528    0.163371\nD    0.596369   -0.066203   -2.325203    0.104813   -1.610098    0.978219",
      "text/html": "<div>\n<style scoped>\n    .dataframe tbody tr th:only-of-type {\n        vertical-align: middle;\n    }\n\n    .dataframe tbody tr th {\n        vertical-align: top;\n    }\n\n    .dataframe thead th {\n        text-align: right;\n    }\n</style>\n<table border=\"1\" class=\"dataframe\">\n  <thead>\n    <tr style=\"text-align: right;\">\n      <th></th>\n      <th>2023-08-01</th>\n      <th>2023-08-02</th>\n      <th>2023-08-03</th>\n      <th>2023-08-04</th>\n      <th>2023-08-05</th>\n      <th>2023-08-06</th>\n    </tr>\n  </thead>\n  <tbody>\n    <tr>\n      <th>A</th>\n      <td>-1.056037</td>\n      <td>0.222075</td>\n      <td>-0.219207</td>\n      <td>-0.483127</td>\n      <td>-0.332895</td>\n      <td>-1.082368</td>\n    </tr>\n    <tr>\n      <th>B</th>\n      <td>-1.805402</td>\n      <td>-0.511272</td>\n      <td>0.890976</td>\n      <td>1.482486</td>\n      <td>-1.034390</td>\n      <td>-0.110432</td>\n    </tr>\n    <tr>\n      <th>C</th>\n      <td>-1.403116</td>\n      <td>0.951325</td>\n      <td>0.071881</td>\n      <td>-1.106968</td>\n      <td>0.674528</td>\n      <td>0.163371</td>\n    </tr>\n    <tr>\n      <th>D</th>\n      <td>0.596369</td>\n      <td>-0.066203</td>\n      <td>-2.325203</td>\n      <td>0.104813</td>\n      <td>-1.610098</td>\n      <td>0.978219</td>\n    </tr>\n  </tbody>\n</table>\n</div>"
     },
     "execution_count": 28,
     "metadata": {},
     "output_type": "execute_result"
    }
   ],
   "source": [
    "df.T"
   ],
   "metadata": {
    "collapsed": false,
    "ExecuteTime": {
     "end_time": "2023-08-10T07:35:35.186177Z",
     "start_time": "2023-08-10T07:35:35.138909700Z"
    }
   }
  },
  {
   "cell_type": "code",
   "execution_count": 30,
   "outputs": [
    {
     "data": {
      "text/plain": "                   D         C         B         A\n2023-08-01  0.596369 -1.403116 -1.805402 -1.056037\n2023-08-02 -0.066203  0.951325 -0.511272  0.222075\n2023-08-03 -2.325203  0.071881  0.890976 -0.219207\n2023-08-04  0.104813 -1.106968  1.482486 -0.483127\n2023-08-05 -1.610098  0.674528 -1.034390 -0.332895\n2023-08-06  0.978219  0.163371 -0.110432 -1.082368",
      "text/html": "<div>\n<style scoped>\n    .dataframe tbody tr th:only-of-type {\n        vertical-align: middle;\n    }\n\n    .dataframe tbody tr th {\n        vertical-align: top;\n    }\n\n    .dataframe thead th {\n        text-align: right;\n    }\n</style>\n<table border=\"1\" class=\"dataframe\">\n  <thead>\n    <tr style=\"text-align: right;\">\n      <th></th>\n      <th>D</th>\n      <th>C</th>\n      <th>B</th>\n      <th>A</th>\n    </tr>\n  </thead>\n  <tbody>\n    <tr>\n      <th>2023-08-01</th>\n      <td>0.596369</td>\n      <td>-1.403116</td>\n      <td>-1.805402</td>\n      <td>-1.056037</td>\n    </tr>\n    <tr>\n      <th>2023-08-02</th>\n      <td>-0.066203</td>\n      <td>0.951325</td>\n      <td>-0.511272</td>\n      <td>0.222075</td>\n    </tr>\n    <tr>\n      <th>2023-08-03</th>\n      <td>-2.325203</td>\n      <td>0.071881</td>\n      <td>0.890976</td>\n      <td>-0.219207</td>\n    </tr>\n    <tr>\n      <th>2023-08-04</th>\n      <td>0.104813</td>\n      <td>-1.106968</td>\n      <td>1.482486</td>\n      <td>-0.483127</td>\n    </tr>\n    <tr>\n      <th>2023-08-05</th>\n      <td>-1.610098</td>\n      <td>0.674528</td>\n      <td>-1.034390</td>\n      <td>-0.332895</td>\n    </tr>\n    <tr>\n      <th>2023-08-06</th>\n      <td>0.978219</td>\n      <td>0.163371</td>\n      <td>-0.110432</td>\n      <td>-1.082368</td>\n    </tr>\n  </tbody>\n</table>\n</div>"
     },
     "execution_count": 30,
     "metadata": {},
     "output_type": "execute_result"
    }
   ],
   "source": [
    "df.sort_index(axis=1, ascending=False)"
   ],
   "metadata": {
    "collapsed": false,
    "ExecuteTime": {
     "end_time": "2023-08-10T07:36:10.543778700Z",
     "start_time": "2023-08-10T07:36:10.527709300Z"
    }
   }
  },
  {
   "cell_type": "code",
   "execution_count": 32,
   "outputs": [
    {
     "data": {
      "text/plain": "                   A         B         C         D\n2023-08-01 -1.056037 -1.805402 -1.403116  0.596369\n2023-08-05 -0.332895 -1.034390  0.674528 -1.610098\n2023-08-02  0.222075 -0.511272  0.951325 -0.066203\n2023-08-06 -1.082368 -0.110432  0.163371  0.978219\n2023-08-03 -0.219207  0.890976  0.071881 -2.325203\n2023-08-04 -0.483127  1.482486 -1.106968  0.104813",
      "text/html": "<div>\n<style scoped>\n    .dataframe tbody tr th:only-of-type {\n        vertical-align: middle;\n    }\n\n    .dataframe tbody tr th {\n        vertical-align: top;\n    }\n\n    .dataframe thead th {\n        text-align: right;\n    }\n</style>\n<table border=\"1\" class=\"dataframe\">\n  <thead>\n    <tr style=\"text-align: right;\">\n      <th></th>\n      <th>A</th>\n      <th>B</th>\n      <th>C</th>\n      <th>D</th>\n    </tr>\n  </thead>\n  <tbody>\n    <tr>\n      <th>2023-08-01</th>\n      <td>-1.056037</td>\n      <td>-1.805402</td>\n      <td>-1.403116</td>\n      <td>0.596369</td>\n    </tr>\n    <tr>\n      <th>2023-08-05</th>\n      <td>-0.332895</td>\n      <td>-1.034390</td>\n      <td>0.674528</td>\n      <td>-1.610098</td>\n    </tr>\n    <tr>\n      <th>2023-08-02</th>\n      <td>0.222075</td>\n      <td>-0.511272</td>\n      <td>0.951325</td>\n      <td>-0.066203</td>\n    </tr>\n    <tr>\n      <th>2023-08-06</th>\n      <td>-1.082368</td>\n      <td>-0.110432</td>\n      <td>0.163371</td>\n      <td>0.978219</td>\n    </tr>\n    <tr>\n      <th>2023-08-03</th>\n      <td>-0.219207</td>\n      <td>0.890976</td>\n      <td>0.071881</td>\n      <td>-2.325203</td>\n    </tr>\n    <tr>\n      <th>2023-08-04</th>\n      <td>-0.483127</td>\n      <td>1.482486</td>\n      <td>-1.106968</td>\n      <td>0.104813</td>\n    </tr>\n  </tbody>\n</table>\n</div>"
     },
     "execution_count": 32,
     "metadata": {},
     "output_type": "execute_result"
    }
   ],
   "source": [
    "df.sort_values(by='B') # B열 기준으로 내림차순 정렬"
   ],
   "metadata": {
    "collapsed": false,
    "ExecuteTime": {
     "end_time": "2023-08-10T07:37:16.649539200Z",
     "start_time": "2023-08-10T07:37:16.625262700Z"
    }
   }
  },
  {
   "cell_type": "code",
   "execution_count": 35,
   "outputs": [
    {
     "name": "stdout",
     "output_type": "stream",
     "text": [
      "6\n"
     ]
    },
    {
     "data": {
      "text/plain": "array([-1.05603715,  0.22207486, -0.219207  , -0.48312658, -0.33289469,\n       -1.08236759])"
     },
     "execution_count": 35,
     "metadata": {},
     "output_type": "execute_result"
    }
   ],
   "source": [
    "print(df['A'].nunique())\n",
    "df['A'].unique()"
   ],
   "metadata": {
    "collapsed": false,
    "ExecuteTime": {
     "end_time": "2023-08-10T07:41:57.767566100Z",
     "start_time": "2023-08-10T07:41:57.737839400Z"
    }
   }
  },
  {
   "cell_type": "code",
   "execution_count": 36,
   "outputs": [
    {
     "data": {
      "text/plain": "                   C         D\n2023-08-01 -1.403116  0.596369\n2023-08-02  0.951325 -0.066203\n2023-08-03  0.071881 -2.325203\n2023-08-04 -1.106968  0.104813\n2023-08-05  0.674528 -1.610098\n2023-08-06  0.163371  0.978219",
      "text/html": "<div>\n<style scoped>\n    .dataframe tbody tr th:only-of-type {\n        vertical-align: middle;\n    }\n\n    .dataframe tbody tr th {\n        vertical-align: top;\n    }\n\n    .dataframe thead th {\n        text-align: right;\n    }\n</style>\n<table border=\"1\" class=\"dataframe\">\n  <thead>\n    <tr style=\"text-align: right;\">\n      <th></th>\n      <th>C</th>\n      <th>D</th>\n    </tr>\n  </thead>\n  <tbody>\n    <tr>\n      <th>2023-08-01</th>\n      <td>-1.403116</td>\n      <td>0.596369</td>\n    </tr>\n    <tr>\n      <th>2023-08-02</th>\n      <td>0.951325</td>\n      <td>-0.066203</td>\n    </tr>\n    <tr>\n      <th>2023-08-03</th>\n      <td>0.071881</td>\n      <td>-2.325203</td>\n    </tr>\n    <tr>\n      <th>2023-08-04</th>\n      <td>-1.106968</td>\n      <td>0.104813</td>\n    </tr>\n    <tr>\n      <th>2023-08-05</th>\n      <td>0.674528</td>\n      <td>-1.610098</td>\n    </tr>\n    <tr>\n      <th>2023-08-06</th>\n      <td>0.163371</td>\n      <td>0.978219</td>\n    </tr>\n  </tbody>\n</table>\n</div>"
     },
     "execution_count": 36,
     "metadata": {},
     "output_type": "execute_result"
    }
   ],
   "source": [
    "df.loc[:, ['C','D']]"
   ],
   "metadata": {
    "collapsed": false,
    "ExecuteTime": {
     "end_time": "2023-08-10T07:43:40.856729Z",
     "start_time": "2023-08-10T07:43:40.853119600Z"
    }
   }
  },
  {
   "cell_type": "code",
   "execution_count": 38,
   "outputs": [
    {
     "data": {
      "text/plain": "                   A         C\n2023-08-01 -1.056037 -1.403116\n2023-08-02  0.222075  0.951325\n2023-08-03 -0.219207  0.071881",
      "text/html": "<div>\n<style scoped>\n    .dataframe tbody tr th:only-of-type {\n        vertical-align: middle;\n    }\n\n    .dataframe tbody tr th {\n        vertical-align: top;\n    }\n\n    .dataframe thead th {\n        text-align: right;\n    }\n</style>\n<table border=\"1\" class=\"dataframe\">\n  <thead>\n    <tr style=\"text-align: right;\">\n      <th></th>\n      <th>A</th>\n      <th>C</th>\n    </tr>\n  </thead>\n  <tbody>\n    <tr>\n      <th>2023-08-01</th>\n      <td>-1.056037</td>\n      <td>-1.403116</td>\n    </tr>\n    <tr>\n      <th>2023-08-02</th>\n      <td>0.222075</td>\n      <td>0.951325</td>\n    </tr>\n    <tr>\n      <th>2023-08-03</th>\n      <td>-0.219207</td>\n      <td>0.071881</td>\n    </tr>\n  </tbody>\n</table>\n</div>"
     },
     "execution_count": 38,
     "metadata": {},
     "output_type": "execute_result"
    }
   ],
   "source": [
    "df.iloc[0:3, [0,2]]"
   ],
   "metadata": {
    "collapsed": false,
    "ExecuteTime": {
     "end_time": "2023-08-10T07:44:17.802299500Z",
     "start_time": "2023-08-10T07:44:17.785004700Z"
    }
   }
  },
  {
   "cell_type": "code",
   "execution_count": 41,
   "outputs": [
    {
     "data": {
      "text/plain": "                   A         B         C         D\n2023-08-02  0.222075 -0.511272  0.951325 -0.066203\n2023-08-03 -0.219207  0.890976  0.071881 -2.325203\n2023-08-04 -0.483127  1.482486 -1.106968  0.104813\n2023-08-05 -0.332895 -1.034390  0.674528 -1.610098",
      "text/html": "<div>\n<style scoped>\n    .dataframe tbody tr th:only-of-type {\n        vertical-align: middle;\n    }\n\n    .dataframe tbody tr th {\n        vertical-align: top;\n    }\n\n    .dataframe thead th {\n        text-align: right;\n    }\n</style>\n<table border=\"1\" class=\"dataframe\">\n  <thead>\n    <tr style=\"text-align: right;\">\n      <th></th>\n      <th>A</th>\n      <th>B</th>\n      <th>C</th>\n      <th>D</th>\n    </tr>\n  </thead>\n  <tbody>\n    <tr>\n      <th>2023-08-02</th>\n      <td>0.222075</td>\n      <td>-0.511272</td>\n      <td>0.951325</td>\n      <td>-0.066203</td>\n    </tr>\n    <tr>\n      <th>2023-08-03</th>\n      <td>-0.219207</td>\n      <td>0.890976</td>\n      <td>0.071881</td>\n      <td>-2.325203</td>\n    </tr>\n    <tr>\n      <th>2023-08-04</th>\n      <td>-0.483127</td>\n      <td>1.482486</td>\n      <td>-1.106968</td>\n      <td>0.104813</td>\n    </tr>\n    <tr>\n      <th>2023-08-05</th>\n      <td>-0.332895</td>\n      <td>-1.034390</td>\n      <td>0.674528</td>\n      <td>-1.610098</td>\n    </tr>\n  </tbody>\n</table>\n</div>"
     },
     "execution_count": 41,
     "metadata": {},
     "output_type": "execute_result"
    }
   ],
   "source": [
    "df[\"2023-08-02\":\"2023-08-05\"]"
   ],
   "metadata": {
    "collapsed": false,
    "ExecuteTime": {
     "end_time": "2023-08-10T07:47:02.147145Z",
     "start_time": "2023-08-10T07:47:02.140244100Z"
    }
   }
  },
  {
   "cell_type": "code",
   "execution_count": 43,
   "outputs": [
    {
     "data": {
      "text/plain": "                   A         B         C         D\n2023-08-01 -1.056037 -1.805402 -1.403116  0.596369\n2023-08-02  0.222075 -0.511272  0.951325 -0.066203\n2023-08-03 -0.219207  0.890976  0.071881 -2.325203\n2023-08-04 -0.483127  1.482486 -1.106968  0.104813\n2023-08-05 -0.332895 -1.034390  0.674528 -1.610098\n2023-08-06 -1.082368 -0.110432  0.163371  0.978219",
      "text/html": "<div>\n<style scoped>\n    .dataframe tbody tr th:only-of-type {\n        vertical-align: middle;\n    }\n\n    .dataframe tbody tr th {\n        vertical-align: top;\n    }\n\n    .dataframe thead th {\n        text-align: right;\n    }\n</style>\n<table border=\"1\" class=\"dataframe\">\n  <thead>\n    <tr style=\"text-align: right;\">\n      <th></th>\n      <th>A</th>\n      <th>B</th>\n      <th>C</th>\n      <th>D</th>\n    </tr>\n  </thead>\n  <tbody>\n    <tr>\n      <th>2023-08-01</th>\n      <td>-1.056037</td>\n      <td>-1.805402</td>\n      <td>-1.403116</td>\n      <td>0.596369</td>\n    </tr>\n    <tr>\n      <th>2023-08-02</th>\n      <td>0.222075</td>\n      <td>-0.511272</td>\n      <td>0.951325</td>\n      <td>-0.066203</td>\n    </tr>\n    <tr>\n      <th>2023-08-03</th>\n      <td>-0.219207</td>\n      <td>0.890976</td>\n      <td>0.071881</td>\n      <td>-2.325203</td>\n    </tr>\n    <tr>\n      <th>2023-08-04</th>\n      <td>-0.483127</td>\n      <td>1.482486</td>\n      <td>-1.106968</td>\n      <td>0.104813</td>\n    </tr>\n    <tr>\n      <th>2023-08-05</th>\n      <td>-0.332895</td>\n      <td>-1.034390</td>\n      <td>0.674528</td>\n      <td>-1.610098</td>\n    </tr>\n    <tr>\n      <th>2023-08-06</th>\n      <td>-1.082368</td>\n      <td>-0.110432</td>\n      <td>0.163371</td>\n      <td>0.978219</td>\n    </tr>\n  </tbody>\n</table>\n</div>"
     },
     "execution_count": 43,
     "metadata": {},
     "output_type": "execute_result"
    }
   ],
   "source": [
    "import matplotlib.pyplot as plt\n",
    "df"
   ],
   "metadata": {
    "collapsed": false,
    "ExecuteTime": {
     "end_time": "2023-08-10T07:56:13.852576100Z",
     "start_time": "2023-08-10T07:56:12.619436400Z"
    }
   }
  },
  {
   "cell_type": "code",
   "execution_count": 66,
   "outputs": [
    {
     "data": {
      "text/plain": "<Figure size 500x400 with 1 Axes>",
      "image/png": "[encoded data removed]"
     },
     "metadata": {},
     "output_type": "display_data"
    }
   ],
   "source": [
    "plt.figure(figsize=(5,4))\n",
    "plt.title(\"don't know\")\n",
    "plt.bar(df.index, df[\"A\"],color = \"yellow\")\n",
    "plt.xlabel(\"date\")\n",
    "plt.xticks(rotation=45)\n",
    "plt.show()"
   ],
   "metadata": {
    "collapsed": false,
    "ExecuteTime": {
     "end_time": "2023-08-10T08:12:55.444865300Z",
     "start_time": "2023-08-10T08:12:55.319589Z"
    }
   }
  },
  {
   "cell_type": "code",
   "execution_count": 60,
   "outputs": [
    {
     "data": {
      "text/plain": "<Figure size 800x400 with 1 Axes>",
      "image/png": "[encoded data removed]"
     },
     "metadata": {},
     "output_type": "display_data"
    }
   ],
   "source": [
    "from seaborn._core.properties import LineStyle\n",
    "plt.figure(figsize=(8, 4))\n",
    "x = df.columns\n",
    "for i in x:\n",
    "    data = df[i]\n",
    "    plt.plot(data, label=str(i), linestyle=\"--\", marker=\"o\")\n",
    "plt.title(\"plot graph\")\n",
    "plt.xlabel(\"date\")\n",
    "plt.legend()\n",
    "plt.grid()\n",
    "plt.show()"
   ],
   "metadata": {
    "collapsed": false,
    "ExecuteTime": {
     "end_time": "2023-08-10T08:09:32.756999600Z",
     "start_time": "2023-08-10T08:09:32.212881600Z"
    }
   }
  },
  {
   "cell_type": "code",
   "execution_count": 62,
   "outputs": [
    {
     "data": {
      "text/plain": "<Axes: xlabel='B', ylabel='A'>"
     },
     "execution_count": 62,
     "metadata": {},
     "output_type": "execute_result"
    },
    {
     "data": {
      "text/plain": "<Figure size 640x480 with 1 Axes>",
      "image/png": "[encoded data removed]"
     },
     "metadata": {},
     "output_type": "display_data"
    }
   ],
   "source": [
    "df.plot(kind='scatter', x='B', y='A')"
   ],
   "metadata": {
    "collapsed": false,
    "ExecuteTime": {
     "end_time": "2023-08-10T08:11:00.583920500Z",
     "start_time": "2023-08-10T08:11:00.392015800Z"
    }
   }
  },
  {
   "cell_type": "code",
   "execution_count": 70,
   "outputs": [
    {
     "data": {
      "text/plain": "                   A         B         C         D\n2023-08-02  0.222075 -0.511272  0.951325 -0.066203",
      "text/html": "<div>\n<style scoped>\n    .dataframe tbody tr th:only-of-type {\n        vertical-align: middle;\n    }\n\n    .dataframe tbody tr th {\n        vertical-align: top;\n    }\n\n    .dataframe thead th {\n        text-align: right;\n    }\n</style>\n<table border=\"1\" class=\"dataframe\">\n  <thead>\n    <tr style=\"text-align: right;\">\n      <th></th>\n      <th>A</th>\n      <th>B</th>\n      <th>C</th>\n      <th>D</th>\n    </tr>\n  </thead>\n  <tbody>\n    <tr>\n      <th>2023-08-02</th>\n      <td>0.222075</td>\n      <td>-0.511272</td>\n      <td>0.951325</td>\n      <td>-0.066203</td>\n    </tr>\n  </tbody>\n</table>\n</div>"
     },
     "execution_count": 70,
     "metadata": {},
     "output_type": "execute_result"
    }
   ],
   "source": [
    "df[df[\"A\"] > 0]"
   ],
   "metadata": {
    "collapsed": false,
    "ExecuteTime": {
     "end_time": "2023-08-10T08:14:01.557416400Z",
     "start_time": "2023-08-10T08:14:01.541458900Z"
    }
   }
  },
  {
   "cell_type": "code",
   "execution_count": 71,
   "outputs": [
    {
     "data": {
      "text/plain": "                   A         B         C         D\n2023-08-04 -0.483127  1.482486 -1.106968  0.104813",
      "text/html": "<div>\n<style scoped>\n    .dataframe tbody tr th:only-of-type {\n        vertical-align: middle;\n    }\n\n    .dataframe tbody tr th {\n        vertical-align: top;\n    }\n\n    .dataframe thead th {\n        text-align: right;\n    }\n</style>\n<table border=\"1\" class=\"dataframe\">\n  <thead>\n    <tr style=\"text-align: right;\">\n      <th></th>\n      <th>A</th>\n      <th>B</th>\n      <th>C</th>\n      <th>D</th>\n    </tr>\n  </thead>\n  <tbody>\n    <tr>\n      <th>2023-08-04</th>\n      <td>-0.483127</td>\n      <td>1.482486</td>\n      <td>-1.106968</td>\n      <td>0.104813</td>\n    </tr>\n  </tbody>\n</table>\n</div>"
     },
     "execution_count": 71,
     "metadata": {},
     "output_type": "execute_result"
    }
   ],
   "source": [
    "df[df[\"B\"] == df[\"B\"].max()]"
   ],
   "metadata": {
    "collapsed": false,
    "ExecuteTime": {
     "end_time": "2023-08-10T08:16:33.614198900Z",
     "start_time": "2023-08-10T08:16:33.566739300Z"
    }
   }
  },
  {
   "cell_type": "code",
   "execution_count": 72,
   "outputs": [
    {
     "data": {
      "text/plain": "                   A         B         C         D\n2023-08-01 -1.056037 -1.805402 -1.403116  0.596369",
      "text/html": "<div>\n<style scoped>\n    .dataframe tbody tr th:only-of-type {\n        vertical-align: middle;\n    }\n\n    .dataframe tbody tr th {\n        vertical-align: top;\n    }\n\n    .dataframe thead th {\n        text-align: right;\n    }\n</style>\n<table border=\"1\" class=\"dataframe\">\n  <thead>\n    <tr style=\"text-align: right;\">\n      <th></th>\n      <th>A</th>\n      <th>B</th>\n      <th>C</th>\n      <th>D</th>\n    </tr>\n  </thead>\n  <tbody>\n    <tr>\n      <th>2023-08-01</th>\n      <td>-1.056037</td>\n      <td>-1.805402</td>\n      <td>-1.403116</td>\n      <td>0.596369</td>\n    </tr>\n  </tbody>\n</table>\n</div>"
     },
     "execution_count": 72,
     "metadata": {},
     "output_type": "execute_result"
    }
   ],
   "source": [
    "df[df[\"C\"] == df[\"C\"].min()]"
   ],
   "metadata": {
    "collapsed": false,
    "ExecuteTime": {
     "end_time": "2023-08-10T08:17:10.710347300Z",
     "start_time": "2023-08-10T08:17:10.666408900Z"
    }
   }
  },
  {
   "cell_type": "code",
   "execution_count": 73,
   "outputs": [
    {
     "data": {
      "text/plain": "A   -2.951558\nB   -1.088033\nC   -0.648980\nD   -2.322103\ndtype: float64"
     },
     "execution_count": 73,
     "metadata": {},
     "output_type": "execute_result"
    }
   ],
   "source": [
    "df.sum()"
   ],
   "metadata": {
    "collapsed": false,
    "ExecuteTime": {
     "end_time": "2023-08-10T08:18:07.593316600Z",
     "start_time": "2023-08-10T08:18:07.580221200Z"
    }
   }
  },
  {
   "cell_type": "code",
   "execution_count": 76,
   "outputs": [
    {
     "data": {
      "text/plain": "                  B         C         D\nA                                      \n-1.082368 -0.110432  0.163371  0.978219\n-1.056037 -1.805402 -1.403116  0.596369\n-0.483127  1.482486 -1.106968  0.104813\n-0.332895 -1.034390  0.674528 -1.610098\n-0.219207  0.890976  0.071881 -2.325203\n 0.222075 -0.511272  0.951325 -0.066203",
      "text/html": "<div>\n<style scoped>\n    .dataframe tbody tr th:only-of-type {\n        vertical-align: middle;\n    }\n\n    .dataframe tbody tr th {\n        vertical-align: top;\n    }\n\n    .dataframe thead th {\n        text-align: right;\n    }\n</style>\n<table border=\"1\" class=\"dataframe\">\n  <thead>\n    <tr style=\"text-align: right;\">\n      <th></th>\n      <th>B</th>\n      <th>C</th>\n      <th>D</th>\n    </tr>\n    <tr>\n      <th>A</th>\n      <th></th>\n      <th></th>\n      <th></th>\n    </tr>\n  </thead>\n  <tbody>\n    <tr>\n      <th>-1.082368</th>\n      <td>-0.110432</td>\n      <td>0.163371</td>\n      <td>0.978219</td>\n    </tr>\n    <tr>\n      <th>-1.056037</th>\n      <td>-1.805402</td>\n      <td>-1.403116</td>\n      <td>0.596369</td>\n    </tr>\n    <tr>\n      <th>-0.483127</th>\n      <td>1.482486</td>\n      <td>-1.106968</td>\n      <td>0.104813</td>\n    </tr>\n    <tr>\n      <th>-0.332895</th>\n      <td>-1.034390</td>\n      <td>0.674528</td>\n      <td>-1.610098</td>\n    </tr>\n    <tr>\n      <th>-0.219207</th>\n      <td>0.890976</td>\n      <td>0.071881</td>\n      <td>-2.325203</td>\n    </tr>\n    <tr>\n      <th>0.222075</th>\n      <td>-0.511272</td>\n      <td>0.951325</td>\n      <td>-0.066203</td>\n    </tr>\n  </tbody>\n</table>\n</div>"
     },
     "execution_count": 76,
     "metadata": {},
     "output_type": "execute_result"
    }
   ],
   "source": [
    "df.groupby(\"A\").mean()"
   ],
   "metadata": {
    "collapsed": false,
    "ExecuteTime": {
     "end_time": "2023-08-10T08:30:44.715017300Z",
     "start_time": "2023-08-10T08:30:44.698798600Z"
    }
   }
  },
  {
   "cell_type": "code",
   "execution_count": null,
   "outputs": [],
   "source": [],
   "metadata": {
    "collapsed": false
   }
  }
 ],
 "metadata": {
  "kernelspec": {
   "display_name": "Python 3",
   "language": "python",
   "name": "python3"
  },
  "language_info": {
   "codemirror_mode": {
    "name": "ipython",
    "version": 2
   },
   "file_extension": ".py",
   "mimetype": "text/x-python",
   "name": "python",
   "nbconvert_exporter": "python",
   "pygments_lexer": "ipython2",
   "version": "2.7.6"
  }
 },
 "nbformat": 4,
 "nbformat_minor": 0
}
