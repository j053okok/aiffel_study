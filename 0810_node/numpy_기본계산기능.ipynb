{
 "cells": [
  {
   "cell_type": "code",
   "execution_count": 1,
   "metadata": {
    "collapsed": true,
    "ExecuteTime": {
     "end_time": "2023-08-10T03:12:49.947003100Z",
     "start_time": "2023-08-10T03:12:49.723657800Z"
    }
   },
   "outputs": [],
   "source": [
    "import numpy as np"
   ]
  },
  {
   "cell_type": "code",
   "execution_count": 2,
   "outputs": [],
   "source": [
    "def numbers():\n",
    "    arr = []\n",
    "    a = input('Enter number (input \"q\" to quit): ')\n",
    "    while a != 'q':\n",
    "        try:\n",
    "            arr.append(float(a))\n",
    "        except ValueError:\n",
    "            print(\"Not a number, please input number\")\n",
    "        a = input('Enter number (input \"q\" to quit): ')\n",
    "    return arr"
   ],
   "metadata": {
    "collapsed": false,
    "ExecuteTime": {
     "end_time": "2023-08-10T03:16:54.346550200Z",
     "start_time": "2023-08-10T03:16:54.338411100Z"
    }
   }
  },
  {
   "cell_type": "code",
   "execution_count": 3,
   "outputs": [],
   "source": [
    "def one():\n",
    "    x = np.array(numbers())\n",
    "    print(\"sum: \", x.sum())\n",
    "    print(\"mean: \", x.mean())\n",
    "    print(\"std: \", x.std())\n",
    "    print(\"median: \", np.median(x))"
   ],
   "metadata": {
    "collapsed": false,
    "ExecuteTime": {
     "end_time": "2023-08-10T03:19:09.515839600Z",
     "start_time": "2023-08-10T03:19:09.501165400Z"
    }
   }
  },
  {
   "cell_type": "code",
   "execution_count": 4,
   "outputs": [
    {
     "name": "stdout",
     "output_type": "stream",
     "text": [
      "sum:  34.0\n",
      "mean:  5.666666666666667\n",
      "std:  2.6246692913372702\n",
      "median:  5.0\n"
     ]
    }
   ],
   "source": [
    "one()"
   ],
   "metadata": {
    "collapsed": false,
    "ExecuteTime": {
     "end_time": "2023-08-10T03:19:18.143923400Z",
     "start_time": "2023-08-10T03:19:12.953003600Z"
    }
   }
  },
  {
   "cell_type": "code",
   "execution_count": null,
   "outputs": [],
   "source": [],
   "metadata": {
    "collapsed": false
   }
  }
 ],
 "metadata": {
  "kernelspec": {
   "display_name": "Python 3",
   "language": "python",
   "name": "python3"
  },
  "language_info": {
   "codemirror_mode": {
    "name": "ipython",
    "version": 2
   },
   "file_extension": ".py",
   "mimetype": "text/x-python",
   "name": "python",
   "nbconvert_exporter": "python",
   "pygments_lexer": "ipython2",
   "version": "2.7.6"
  }
 },
 "nbformat": 4,
 "nbformat_minor": 0
}
