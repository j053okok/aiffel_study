{
 "cells": [
  {
   "cell_type": "code",
   "execution_count": 1,
   "metadata": {
    "collapsed": true,
    "ExecuteTime": {
     "end_time": "2023-08-14T02:28:45.794797Z",
     "start_time": "2023-08-14T02:28:45.479708600Z"
    }
   },
   "outputs": [],
   "source": [
    "import numpy as np"
   ]
  },
  {
   "cell_type": "code",
   "execution_count": 2,
   "outputs": [],
   "source": [
    "a = np.arange(10)  # 0 ~ 9\n",
    "b = np.array([0, 1, 2, 3, 4])\n",
    "c = np.array([0, 1, 2, 3, '4'])"
   ],
   "metadata": {
    "collapsed": false,
    "ExecuteTime": {
     "end_time": "2023-08-14T02:28:45.798402700Z",
     "start_time": "2023-08-14T02:28:45.795648100Z"
    }
   }
  },
  {
   "cell_type": "code",
   "execution_count": 3,
   "outputs": [
    {
     "name": "stdout",
     "output_type": "stream",
     "text": [
      "<class 'numpy.ndarray'> [0 1 2 3 4 5 6 7 8 9]\n",
      "<class 'numpy.ndarray'> [0 1 2 3 4]\n",
      "<class 'numpy.ndarray'> ['0' '1' '2' '3' '4']\n"
     ]
    }
   ],
   "source": [
    "print(type(a), a)\n",
    "print(type(b), b)\n",
    "print(type(c), c)"
   ],
   "metadata": {
    "collapsed": false,
    "ExecuteTime": {
     "end_time": "2023-08-14T02:28:45.810706100Z",
     "start_time": "2023-08-14T02:28:45.798402700Z"
    }
   }
  },
  {
   "cell_type": "markdown",
   "source": [
    "array 형식에는 같은 타입의 자료형만 들어가야함.\n",
    "이 같은 경우 문자열을 모두 숫자로 바꿀 순 없지만, 숫자는 모두 문자열로 바꿀 수 있기 때문에 문자열로 유연하게 통일시켜버림."
   ],
   "metadata": {
    "collapsed": false
   }
  },
  {
   "cell_type": "code",
   "execution_count": 4,
   "outputs": [
    {
     "name": "stdout",
     "output_type": "stream",
     "text": [
      "행렬의 모양:  (2, 5)\n",
      "행렬의 축 갯수:  2\n",
      "행렬 내 원소의 갯수:  10\n"
     ]
    },
    {
     "data": {
      "text/plain": "array([[0, 1, 2, 3, 4],\n       [5, 6, 7, 8, 9]])"
     },
     "execution_count": 4,
     "metadata": {},
     "output_type": "execute_result"
    }
   ],
   "source": [
    "d = a.reshape(2, 5)\n",
    "print(\"행렬의 모양: \", d.shape)\n",
    "print(\"행렬의 축 갯수: \", d.ndim)\n",
    "print(\"행렬 내 원소의 갯수: \", d.size)\n",
    "d"
   ],
   "metadata": {
    "collapsed": false,
    "ExecuteTime": {
     "end_time": "2023-08-14T02:28:45.854805800Z",
     "start_time": "2023-08-14T02:28:45.809955600Z"
    }
   }
  },
  {
   "cell_type": "markdown",
   "source": [
    "1차원 배열을 2차원 배열로 reshape 할때 (10 = 2 * 5)  처럼 갯수가 맞아야함. 갯수가 맞지 않으면 오류가 발생"
   ],
   "metadata": {
    "collapsed": false
   }
  },
  {
   "cell_type": "code",
   "execution_count": 5,
   "outputs": [
    {
     "name": "stdout",
     "output_type": "stream",
     "text": [
      "[0 1 2 3 list([4, 5]) 6]\n",
      "<class 'numpy.ndarray'>\n",
      "object\n",
      "<class 'int'>\n",
      "<class 'list'>\n"
     ]
    }
   ],
   "source": [
    "x = np.array([0, 1, 2, 3, [4, 5], 6], dtype=object)\n",
    "print(x)\n",
    "print(type(x))\n",
    "print(x.dtype)\n",
    "print(type(x[0]))\n",
    "print(type(x[4]))"
   ],
   "metadata": {
    "collapsed": false,
    "ExecuteTime": {
     "end_time": "2023-08-14T02:28:45.854805800Z",
     "start_time": "2023-08-14T02:28:45.821359300Z"
    }
   }
  },
  {
   "cell_type": "markdown",
   "source": [
    "dtype = object 는 객체중 최상위 객체를 뜻함, 즉 array 타입을 다 object 로 지정해서 한 array 에 담음"
   ],
   "metadata": {
    "collapsed": false
   }
  },
  {
   "cell_type": "code",
   "execution_count": 6,
   "outputs": [
    {
     "data": {
      "text/plain": "array([[1., 0., 0., 0.],\n       [0., 1., 0., 0.],\n       [0., 0., 1., 0.],\n       [0., 0., 0., 1.]])"
     },
     "execution_count": 6,
     "metadata": {},
     "output_type": "execute_result"
    }
   ],
   "source": [
    "# 단위행렬 생성하기\n",
    "np.eye(4)"
   ],
   "metadata": {
    "collapsed": false,
    "ExecuteTime": {
     "end_time": "2023-08-14T02:28:45.855434500Z",
     "start_time": "2023-08-14T02:28:45.831223700Z"
    }
   }
  },
  {
   "cell_type": "code",
   "execution_count": 7,
   "outputs": [
    {
     "data": {
      "text/plain": "array([[0., 0., 0., 0., 0., 0.],\n       [0., 0., 0., 0., 0., 0.],\n       [0., 0., 0., 0., 0., 0.],\n       [0., 0., 0., 0., 0., 0.]])"
     },
     "execution_count": 7,
     "metadata": {},
     "output_type": "execute_result"
    }
   ],
   "source": [
    "# 0 행렬 생성하기\n",
    "np.zeros([4, 6])"
   ],
   "metadata": {
    "collapsed": false,
    "ExecuteTime": {
     "end_time": "2023-08-14T02:28:45.855434500Z",
     "start_time": "2023-08-14T02:28:45.841711200Z"
    }
   }
  },
  {
   "cell_type": "code",
   "execution_count": 8,
   "outputs": [
    {
     "data": {
      "text/plain": "array([[1., 1., 1., 1., 1., 1.],\n       [1., 1., 1., 1., 1., 1.],\n       [1., 1., 1., 1., 1., 1.]])"
     },
     "execution_count": 8,
     "metadata": {},
     "output_type": "execute_result"
    }
   ],
   "source": [
    "# 1행렬 생성하기\n",
    "np.ones([3, 6])"
   ],
   "metadata": {
    "collapsed": false,
    "ExecuteTime": {
     "end_time": "2023-08-14T02:28:45.920628800Z",
     "start_time": "2023-08-14T02:28:45.852780700Z"
    }
   }
  },
  {
   "cell_type": "markdown",
   "source": [
    "### 브로드캐스팅 기법"
   ],
   "metadata": {
    "collapsed": false
   }
  },
  {
   "cell_type": "code",
   "execution_count": 9,
   "outputs": [
    {
     "data": {
      "text/plain": "array([[0, 1, 2],\n       [3, 4, 5],\n       [6, 7, 8]])"
     },
     "execution_count": 9,
     "metadata": {},
     "output_type": "execute_result"
    }
   ],
   "source": [
    "y = np.arange(9).reshape(3, 3)\n",
    "y"
   ],
   "metadata": {
    "collapsed": false,
    "ExecuteTime": {
     "end_time": "2023-08-14T02:28:45.921379300Z",
     "start_time": "2023-08-14T02:28:45.862389300Z"
    }
   }
  },
  {
   "cell_type": "code",
   "execution_count": 10,
   "outputs": [
    {
     "data": {
      "text/plain": "array([[ 0,  2,  4],\n       [ 6,  8, 10],\n       [12, 14, 16]])"
     },
     "execution_count": 10,
     "metadata": {},
     "output_type": "execute_result"
    }
   ],
   "source": [
    "y * 2"
   ],
   "metadata": {
    "collapsed": false,
    "ExecuteTime": {
     "end_time": "2023-08-14T02:28:45.922128900Z",
     "start_time": "2023-08-14T02:28:45.872875500Z"
    }
   }
  },
  {
   "cell_type": "code",
   "execution_count": 11,
   "outputs": [
    {
     "data": {
      "text/plain": "array([[ 2,  3,  4],\n       [ 5,  6,  7],\n       [ 8,  9, 10]])"
     },
     "execution_count": 11,
     "metadata": {},
     "output_type": "execute_result"
    }
   ],
   "source": [
    "y + 2"
   ],
   "metadata": {
    "collapsed": false,
    "ExecuteTime": {
     "end_time": "2023-08-14T02:28:45.922878900Z",
     "start_time": "2023-08-14T02:28:45.883031400Z"
    }
   }
  },
  {
   "cell_type": "code",
   "execution_count": 12,
   "outputs": [
    {
     "data": {
      "text/plain": "array([1, 2, 3])"
     },
     "execution_count": 12,
     "metadata": {},
     "output_type": "execute_result"
    }
   ],
   "source": [
    "z = np.array([i for i in range(1, 4)])\n",
    "z"
   ],
   "metadata": {
    "collapsed": false,
    "ExecuteTime": {
     "end_time": "2023-08-14T02:28:45.922878900Z",
     "start_time": "2023-08-14T02:28:45.894633400Z"
    }
   }
  },
  {
   "cell_type": "code",
   "execution_count": 13,
   "outputs": [
    {
     "name": "stdout",
     "output_type": "stream",
     "text": [
      "[[0 1 2]\n",
      " [3 4 5]\n",
      " [6 7 8]]\n",
      "[1 2 3]\n"
     ]
    },
    {
     "data": {
      "text/plain": "array([[ 1,  3,  5],\n       [ 4,  6,  8],\n       [ 7,  9, 11]])"
     },
     "execution_count": 13,
     "metadata": {},
     "output_type": "execute_result"
    }
   ],
   "source": [
    "# 행렬끼리 계산 (3 X 3) + (1 X 3)\n",
    "print(y)\n",
    "print(z)\n",
    "y + z"
   ],
   "metadata": {
    "collapsed": false,
    "ExecuteTime": {
     "end_time": "2023-08-14T02:28:45.923506400Z",
     "start_time": "2023-08-14T02:28:45.904212700Z"
    }
   }
  },
  {
   "cell_type": "code",
   "execution_count": 14,
   "outputs": [
    {
     "name": "stdout",
     "output_type": "stream",
     "text": [
      "[[0 1 2]\n",
      " [3 4 5]\n",
      " [6 7 8]]\n",
      "[[1]\n",
      " [2]\n",
      " [3]]\n"
     ]
    },
    {
     "data": {
      "text/plain": "array([[ 1,  2,  3],\n       [ 5,  6,  7],\n       [ 9, 10, 11]])"
     },
     "execution_count": 14,
     "metadata": {},
     "output_type": "execute_result"
    }
   ],
   "source": [
    "# (3 X 3) + (3 X 1)\n",
    "k = np.array([[1], [2], [3]])\n",
    "print(y)\n",
    "print(k)\n",
    "y + k"
   ],
   "metadata": {
    "collapsed": false,
    "ExecuteTime": {
     "end_time": "2023-08-14T02:28:45.934723600Z",
     "start_time": "2023-08-14T02:28:45.914627300Z"
    }
   }
  },
  {
   "cell_type": "markdown",
   "source": [
    "행렬간 계산에서 행렬끼리 사이즈가 맞지 않으면 오류가 발생"
   ],
   "metadata": {
    "collapsed": false
   }
  },
  {
   "cell_type": "code",
   "execution_count": 15,
   "outputs": [
    {
     "data": {
      "text/plain": "[1, 2, 3, 4]"
     },
     "execution_count": 15,
     "metadata": {},
     "output_type": "execute_result"
    }
   ],
   "source": [
    "# 간단한 리스트와 어레이의 차이\n",
    "[1, 2] + [3, 4]"
   ],
   "metadata": {
    "collapsed": false,
    "ExecuteTime": {
     "end_time": "2023-08-14T02:28:45.935474800Z",
     "start_time": "2023-08-14T02:28:45.924945200Z"
    }
   }
  },
  {
   "cell_type": "code",
   "execution_count": 16,
   "outputs": [
    {
     "name": "stdout",
     "output_type": "stream",
     "text": [
      "[4 6]\n",
      "[4 5]\n"
     ]
    }
   ],
   "source": [
    "print(np.array([1, 2]) + np.array([3, 4]))\n",
    "print(np.array([1, 2]) + 3)"
   ],
   "metadata": {
    "collapsed": false,
    "ExecuteTime": {
     "end_time": "2023-08-14T02:28:46.012066600Z",
     "start_time": "2023-08-14T02:28:45.935474800Z"
    }
   }
  },
  {
   "cell_type": "markdown",
   "source": [
    "### 슬라이스, 인덱싱"
   ],
   "metadata": {
    "collapsed": false
   }
  },
  {
   "cell_type": "code",
   "execution_count": 17,
   "outputs": [
    {
     "data": {
      "text/plain": "array([[0, 1, 2],\n       [3, 4, 5],\n       [6, 7, 8]])"
     },
     "execution_count": 17,
     "metadata": {},
     "output_type": "execute_result"
    }
   ],
   "source": [
    "y"
   ],
   "metadata": {
    "collapsed": false,
    "ExecuteTime": {
     "end_time": "2023-08-14T02:28:46.013530Z",
     "start_time": "2023-08-14T02:28:45.944578800Z"
    }
   }
  },
  {
   "cell_type": "code",
   "execution_count": 18,
   "outputs": [
    {
     "name": "stdout",
     "output_type": "stream",
     "text": [
      "[[0 1 2]\n",
      " [3 4 5]\n",
      " [6 7 8]]\n"
     ]
    },
    {
     "data": {
      "text/plain": "array([3, 4, 5])"
     },
     "execution_count": 18,
     "metadata": {},
     "output_type": "execute_result"
    }
   ],
   "source": [
    "print(y)\n",
    "y[1]"
   ],
   "metadata": {
    "collapsed": false,
    "ExecuteTime": {
     "end_time": "2023-08-14T02:28:46.014038900Z",
     "start_time": "2023-08-14T02:28:45.954627Z"
    }
   }
  },
  {
   "cell_type": "code",
   "execution_count": 19,
   "outputs": [
    {
     "data": {
      "text/plain": "6"
     },
     "execution_count": 19,
     "metadata": {},
     "output_type": "execute_result"
    }
   ],
   "source": [
    "y[2, 0]  # 3번째 에서 1번째 값"
   ],
   "metadata": {
    "collapsed": false,
    "ExecuteTime": {
     "end_time": "2023-08-14T02:28:46.015534300Z",
     "start_time": "2023-08-14T02:28:45.964793Z"
    }
   }
  },
  {
   "cell_type": "code",
   "execution_count": 20,
   "outputs": [
    {
     "data": {
      "text/plain": "6"
     },
     "execution_count": 20,
     "metadata": {},
     "output_type": "execute_result"
    }
   ],
   "source": [
    "y[2][0]"
   ],
   "metadata": {
    "collapsed": false,
    "ExecuteTime": {
     "end_time": "2023-08-14T02:28:46.015534300Z",
     "start_time": "2023-08-14T02:28:45.975275800Z"
    }
   }
  },
  {
   "cell_type": "code",
   "execution_count": 21,
   "outputs": [
    {
     "name": "stdout",
     "output_type": "stream",
     "text": [
      "[[0 1 2]\n",
      " [3 4 5]]\n"
     ]
    },
    {
     "data": {
      "text/plain": "array([[0, 1, 2],\n       [3, 4, 5]])"
     },
     "execution_count": 21,
     "metadata": {},
     "output_type": "execute_result"
    }
   ],
   "source": [
    "print(y[:-1])\n",
    "y[:-1]  # -1까지니까, -1을 제외하고 모두"
   ],
   "metadata": {
    "collapsed": false,
    "ExecuteTime": {
     "end_time": "2023-08-14T02:28:46.016284900Z",
     "start_time": "2023-08-14T02:28:45.985568100Z"
    }
   }
  },
  {
   "cell_type": "code",
   "execution_count": 22,
   "outputs": [
    {
     "data": {
      "text/plain": "array([[2],\n       [5],\n       [8]])"
     },
     "execution_count": 22,
     "metadata": {},
     "output_type": "execute_result"
    }
   ],
   "source": [
    "y[:, 2:]  # 열로 인덱싱 슬라이스 하기"
   ],
   "metadata": {
    "collapsed": false,
    "ExecuteTime": {
     "end_time": "2023-08-14T02:28:46.016284900Z",
     "start_time": "2023-08-14T02:28:45.995337800Z"
    }
   }
  },
  {
   "cell_type": "code",
   "execution_count": 23,
   "outputs": [
    {
     "data": {
      "text/plain": "array([[0, 1],\n       [3, 4],\n       [6, 7]])"
     },
     "execution_count": 23,
     "metadata": {},
     "output_type": "execute_result"
    }
   ],
   "source": [
    "y[:, :-1]"
   ],
   "metadata": {
    "collapsed": false,
    "ExecuteTime": {
     "end_time": "2023-08-14T02:28:46.017035Z",
     "start_time": "2023-08-14T02:28:46.005316400Z"
    }
   }
  },
  {
   "cell_type": "code",
   "execution_count": 24,
   "outputs": [
    {
     "data": {
      "text/plain": "array([5])"
     },
     "execution_count": 24,
     "metadata": {},
     "output_type": "execute_result"
    }
   ],
   "source": [
    "y[1, 2:]  # 행 열 동시 인덱싱 슬라이스"
   ],
   "metadata": {
    "collapsed": false,
    "ExecuteTime": {
     "end_time": "2023-08-14T02:28:46.038863800Z",
     "start_time": "2023-08-14T02:28:46.015534300Z"
    }
   }
  },
  {
   "cell_type": "code",
   "execution_count": 25,
   "outputs": [
    {
     "data": {
      "text/plain": "array([[1, 2],\n       [4, 5]])"
     },
     "execution_count": 25,
     "metadata": {},
     "output_type": "execute_result"
    }
   ],
   "source": [
    "y[:2, 1:]  # 0,1행, 1열부터"
   ],
   "metadata": {
    "collapsed": false,
    "ExecuteTime": {
     "end_time": "2023-08-14T02:28:46.103534200Z",
     "start_time": "2023-08-14T02:28:46.025665300Z"
    }
   }
  },
  {
   "cell_type": "code",
   "execution_count": 26,
   "outputs": [
    {
     "data": {
      "text/plain": "array([2, 5, 8])"
     },
     "execution_count": 26,
     "metadata": {},
     "output_type": "execute_result"
    }
   ],
   "source": [
    "y[:, -1]"
   ],
   "metadata": {
    "collapsed": false,
    "ExecuteTime": {
     "end_time": "2023-08-14T02:28:46.105030400Z",
     "start_time": "2023-08-14T02:28:46.037363200Z"
    }
   }
  },
  {
   "cell_type": "markdown",
   "source": [
    "### numpy 의사 난수 기능"
   ],
   "metadata": {
    "collapsed": false
   }
  },
  {
   "cell_type": "code",
   "execution_count": 27,
   "outputs": [
    {
     "name": "stdout",
     "output_type": "stream",
     "text": [
      "0.1559939753202133\n",
      "7\n",
      "0\n"
     ]
    }
   ],
   "source": [
    "print(np.random.random())  # 0에서 1사이 실수형 난수 하나 생성\n",
    "print(np.random.randint(0, 10))  # 0에서 10 사이 정수형 난수 하나 생성\n",
    "print(np.random.choice([0, 1, 2, 3, 4, 5, 6, 7, 8, 9]))  # 리스트에 주어진 값 중 하나를 랜덤하게 고름"
   ],
   "metadata": {
    "collapsed": false,
    "ExecuteTime": {
     "end_time": "2023-08-14T02:28:46.126901700Z",
     "start_time": "2023-08-14T02:28:46.045629100Z"
    }
   }
  },
  {
   "cell_type": "code",
   "execution_count": 28,
   "outputs": [
    {
     "name": "stdout",
     "output_type": "stream",
     "text": [
      "[3 7 6 9 8 2 5 0 4 1]\n"
     ]
    },
    {
     "data": {
      "text/plain": "numpy.ndarray"
     },
     "execution_count": 28,
     "metadata": {},
     "output_type": "execute_result"
    }
   ],
   "source": [
    "t = np.random.permutation(10)  # 파라미터값의 범위 내에서 무작위로 섞인 배열(array)을 생성\n",
    "print(t)\n",
    "type(t)"
   ],
   "metadata": {
    "collapsed": false,
    "ExecuteTime": {
     "end_time": "2023-08-14T02:28:46.127651600Z",
     "start_time": "2023-08-14T02:28:46.055759600Z"
    }
   }
  },
  {
   "cell_type": "code",
   "execution_count": 29,
   "outputs": [
    {
     "name": "stdout",
     "output_type": "stream",
     "text": [
      "[13.11100158  9.62146469  9.82178333  9.15022276  7.03660584 11.3256187 ]\n",
      "[3.14045814 4.49264068 1.69401816 1.59150703]\n"
     ]
    }
   ],
   "source": [
    "# 정규분포와 균등분포 에 따른 무작위 값 생성하기\n",
    "print(np.random.normal(loc=10, scale=2, size=6))  # 평균(loc), 표준편차(scale), 갯수(size) - 정규 분포\n",
    "print(np.random.uniform(low=1, high=5, size=4))  # 최솟값(low), 최댓값(high), 갯수(size) - 균등 분포"
   ],
   "metadata": {
    "collapsed": false,
    "ExecuteTime": {
     "end_time": "2023-08-14T02:28:46.128986700Z",
     "start_time": "2023-08-14T02:28:46.066106800Z"
    }
   }
  },
  {
   "cell_type": "markdown",
   "source": [
    "### 전치행렬"
   ],
   "metadata": {
    "collapsed": false
   }
  },
  {
   "cell_type": "code",
   "execution_count": 30,
   "outputs": [
    {
     "data": {
      "text/plain": "array([[[ 0,  1,  2,  3],\n        [ 4,  5,  6,  7],\n        [ 8,  9, 10, 11]],\n\n       [[12, 13, 14, 15],\n        [16, 17, 18, 19],\n        [20, 21, 22, 23]]])"
     },
     "execution_count": 30,
     "metadata": {},
     "output_type": "execute_result"
    }
   ],
   "source": [
    "px = np.arange(24).reshape(2,3,4)\n",
    "px"
   ],
   "metadata": {
    "collapsed": false,
    "ExecuteTime": {
     "end_time": "2023-08-14T02:28:46.129736900Z",
     "start_time": "2023-08-14T02:28:46.076827600Z"
    }
   }
  },
  {
   "cell_type": "code",
   "execution_count": 31,
   "outputs": [
    {
     "data": {
      "text/plain": "(2, 3, 4)"
     },
     "execution_count": 31,
     "metadata": {},
     "output_type": "execute_result"
    }
   ],
   "source": [
    "px.shape"
   ],
   "metadata": {
    "collapsed": false,
    "ExecuteTime": {
     "end_time": "2023-08-14T02:28:46.129918200Z",
     "start_time": "2023-08-14T02:28:46.087824Z"
    }
   }
  },
  {
   "cell_type": "code",
   "execution_count": 32,
   "outputs": [
    {
     "data": {
      "text/plain": "array([[[ 0, 12],\n        [ 4, 16],\n        [ 8, 20]],\n\n       [[ 1, 13],\n        [ 5, 17],\n        [ 9, 21]],\n\n       [[ 2, 14],\n        [ 6, 18],\n        [10, 22]],\n\n       [[ 3, 15],\n        [ 7, 19],\n        [11, 23]]])"
     },
     "execution_count": 32,
     "metadata": {},
     "output_type": "execute_result"
    }
   ],
   "source": [
    "px.T  # 행과 열 맞바꾸기 (replace필요)"
   ],
   "metadata": {
    "collapsed": false,
    "ExecuteTime": {
     "end_time": "2023-08-14T02:28:46.130427500Z",
     "start_time": "2023-08-14T02:28:46.097775200Z"
    }
   }
  },
  {
   "cell_type": "code",
   "execution_count": 33,
   "outputs": [
    {
     "data": {
      "text/plain": "(4, 3, 2)"
     },
     "execution_count": 33,
     "metadata": {},
     "output_type": "execute_result"
    }
   ],
   "source": [
    "px.T.shape"
   ],
   "metadata": {
    "collapsed": false,
    "ExecuteTime": {
     "end_time": "2023-08-14T02:28:46.130427500Z",
     "start_time": "2023-08-14T02:28:46.116120400Z"
    }
   }
  },
  {
   "cell_type": "code",
   "execution_count": 34,
   "outputs": [
    {
     "name": "stdout",
     "output_type": "stream",
     "text": [
      "(2, 3, 4)\n",
      "(4, 2, 3)\n"
     ]
    },
    {
     "data": {
      "text/plain": "array([[[ 0,  4,  8],\n        [12, 16, 20]],\n\n       [[ 1,  5,  9],\n        [13, 17, 21]],\n\n       [[ 2,  6, 10],\n        [14, 18, 22]],\n\n       [[ 3,  7, 11],\n        [15, 19, 23]]])"
     },
     "execution_count": 34,
     "metadata": {},
     "output_type": "execute_result"
    }
   ],
   "source": [
    "# 행렬의 축을 지정할 수 있는 행렬 전치 함수\n",
    "py = np.transpose(px, (2, 0, 1))  # 2,3,4 의 순서를 인덱스 기법으로 지정\n",
    "print(px.shape)\n",
    "print(py.shape)\n",
    "py"
   ],
   "metadata": {
    "collapsed": false,
    "ExecuteTime": {
     "end_time": "2023-08-14T02:28:46.197648Z",
     "start_time": "2023-08-14T02:28:46.118886900Z"
    }
   }
  },
  {
   "cell_type": "code",
   "execution_count": 35,
   "outputs": [
    {
     "data": {
      "text/plain": "8"
     },
     "execution_count": 35,
     "metadata": {},
     "output_type": "execute_result"
    }
   ],
   "source": [
    "px[0,2,0]"
   ],
   "metadata": {
    "collapsed": false,
    "ExecuteTime": {
     "end_time": "2023-08-14T02:29:34.024575800Z",
     "start_time": "2023-08-14T02:29:34.002564300Z"
    }
   }
  },
  {
   "cell_type": "code",
   "execution_count": 36,
   "outputs": [
    {
     "data": {
      "text/plain": "8"
     },
     "execution_count": 36,
     "metadata": {},
     "output_type": "execute_result"
    }
   ],
   "source": [
    "py[0,0,2]"
   ],
   "metadata": {
    "collapsed": false,
    "ExecuteTime": {
     "end_time": "2023-08-14T02:30:01.223618900Z",
     "start_time": "2023-08-14T02:30:01.208675300Z"
    }
   }
  },
  {
   "cell_type": "code",
   "execution_count": null,
   "outputs": [],
   "source": [],
   "metadata": {
    "collapsed": false
   }
  }
 ],
 "metadata": {
  "kernelspec": {
   "display_name": "Python 3",
   "language": "python",
   "name": "python3"
  },
  "language_info": {
   "codemirror_mode": {
    "name": "ipython",
    "version": 2
   },
   "file_extension": ".py",
   "mimetype": "text/x-python",
   "name": "python",
   "nbconvert_exporter": "python",
   "pygments_lexer": "ipython2",
   "version": "2.7.6"
  }
 },
 "nbformat": 4,
 "nbformat_minor": 0
}
