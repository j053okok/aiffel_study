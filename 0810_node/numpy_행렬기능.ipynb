{
 "cells": [
  {
   "cell_type": "code",
   "execution_count": 1,
   "metadata": {
    "collapsed": true,
    "ExecuteTime": {
     "end_time": "2023-08-10T02:05:50.290392900Z",
     "start_time": "2023-08-10T02:05:50.140395400Z"
    }
   },
   "outputs": [],
   "source": [
    "import numpy as np"
   ]
  },
  {
   "cell_type": "code",
   "execution_count": 4,
   "outputs": [],
   "source": [
    "a = np.arange(10)  # 0 ~ 9\n",
    "b = np.array([0, 1, 2, 3, 4])\n",
    "c = np.array([0, 1, 2, 3, '4'])"
   ],
   "metadata": {
    "collapsed": false,
    "ExecuteTime": {
     "end_time": "2023-08-10T02:12:00.812050Z",
     "start_time": "2023-08-10T02:12:00.791823Z"
    }
   }
  },
  {
   "cell_type": "code",
   "execution_count": 5,
   "outputs": [
    {
     "name": "stdout",
     "output_type": "stream",
     "text": [
      "<class 'numpy.ndarray'> [0 1 2 3 4 5 6 7 8 9]\n",
      "<class 'numpy.ndarray'> [0 1 2 3 4]\n",
      "<class 'numpy.ndarray'> ['0' '1' '2' '3' '4']\n"
     ]
    }
   ],
   "source": [
    "print(type(a), a)\n",
    "print(type(b), b)\n",
    "print(type(c), c)"
   ],
   "metadata": {
    "collapsed": false,
    "ExecuteTime": {
     "end_time": "2023-08-10T02:12:01.209613200Z",
     "start_time": "2023-08-10T02:12:01.202425500Z"
    }
   }
  },
  {
   "cell_type": "markdown",
   "source": [
    "array 형식에는 같은 타입의 자료형만 들어가야함.\n",
    "이 같은 경우 문자열을 모두 숫자로 바꿀 순 없지만, 숫자는 모두 문자열로 바꿀 수 있기 때문에 문자열로 유연하게 통일시켜버림."
   ],
   "metadata": {
    "collapsed": false
   }
  },
  {
   "cell_type": "code",
   "execution_count": 9,
   "outputs": [
    {
     "name": "stdout",
     "output_type": "stream",
     "text": [
      "행렬의 모양:  (2, 5)\n",
      "행렬의 축 갯수:  2\n",
      "행렬 내 원소의 갯수:  10\n"
     ]
    },
    {
     "data": {
      "text/plain": "array([[0, 1, 2, 3, 4],\n       [5, 6, 7, 8, 9]])"
     },
     "execution_count": 9,
     "metadata": {},
     "output_type": "execute_result"
    }
   ],
   "source": [
    "d = a.reshape(2, 5)\n",
    "print(\"행렬의 모양: \", d.shape)\n",
    "print(\"행렬의 축 갯수: \", d.ndim)\n",
    "print(\"행렬 내 원소의 갯수: \", d.size)\n",
    "d"
   ],
   "metadata": {
    "collapsed": false,
    "ExecuteTime": {
     "end_time": "2023-08-10T02:13:55.158202900Z",
     "start_time": "2023-08-10T02:13:55.139658100Z"
    }
   }
  },
  {
   "cell_type": "markdown",
   "source": [
    "1차원 배열을 2차원 배열로 reshape 할때 (10 = 2 * 5)  처럼 갯수가 맞아야함. 갯수가 맞지 않으면 오류가 발생"
   ],
   "metadata": {
    "collapsed": false
   }
  },
  {
   "cell_type": "code",
   "execution_count": 13,
   "outputs": [
    {
     "name": "stdout",
     "output_type": "stream",
     "text": [
      "[0 1 2 3 list([4, 5]) 6]\n",
      "<class 'numpy.ndarray'>\n",
      "object\n",
      "<class 'int'>\n",
      "<class 'list'>\n"
     ]
    }
   ],
   "source": [
    "x = np.array([0, 1, 2, 3, [4, 5], 6], dtype=object)\n",
    "print(x)\n",
    "print(type(x))\n",
    "print(x.dtype)\n",
    "print(type(x[0]))\n",
    "print(type(x[4]))"
   ],
   "metadata": {
    "collapsed": false,
    "ExecuteTime": {
     "end_time": "2023-08-10T02:22:01.272667200Z",
     "start_time": "2023-08-10T02:22:01.209628Z"
    }
   }
  },
  {
   "cell_type": "markdown",
   "source": [
    "dtype = object 는 객체중 최상위 객체를 뜻함, 즉 array 타입을 다 object 로 지정해서 한 array 에 담음"
   ],
   "metadata": {
    "collapsed": false
   }
  },
  {
   "cell_type": "code",
   "execution_count": 14,
   "outputs": [
    {
     "data": {
      "text/plain": "array([[1., 0., 0., 0.],\n       [0., 1., 0., 0.],\n       [0., 0., 1., 0.],\n       [0., 0., 0., 1.]])"
     },
     "execution_count": 14,
     "metadata": {},
     "output_type": "execute_result"
    }
   ],
   "source": [
    "# 단위행렬 생성하기\n",
    "np.eye(4)"
   ],
   "metadata": {
    "collapsed": false,
    "ExecuteTime": {
     "end_time": "2023-08-10T02:23:30.898934800Z",
     "start_time": "2023-08-10T02:23:30.897452800Z"
    }
   }
  },
  {
   "cell_type": "code",
   "execution_count": 18,
   "outputs": [
    {
     "data": {
      "text/plain": "array([[0., 0., 0., 0., 0., 0.],\n       [0., 0., 0., 0., 0., 0.],\n       [0., 0., 0., 0., 0., 0.],\n       [0., 0., 0., 0., 0., 0.]])"
     },
     "execution_count": 18,
     "metadata": {},
     "output_type": "execute_result"
    }
   ],
   "source": [
    "# 0 행렬 생성하기\n",
    "np.zeros([4, 6])"
   ],
   "metadata": {
    "collapsed": false,
    "ExecuteTime": {
     "end_time": "2023-08-10T02:24:06.206666900Z",
     "start_time": "2023-08-10T02:24:06.174959600Z"
    }
   }
  },
  {
   "cell_type": "code",
   "execution_count": 19,
   "outputs": [
    {
     "data": {
      "text/plain": "array([[1., 1., 1., 1., 1., 1.],\n       [1., 1., 1., 1., 1., 1.],\n       [1., 1., 1., 1., 1., 1.]])"
     },
     "execution_count": 19,
     "metadata": {},
     "output_type": "execute_result"
    }
   ],
   "source": [
    "# 1행렬 생성하기\n",
    "np.ones([3, 6])"
   ],
   "metadata": {
    "collapsed": false,
    "ExecuteTime": {
     "end_time": "2023-08-10T02:24:23.704854800Z",
     "start_time": "2023-08-10T02:24:23.704854800Z"
    }
   }
  },
  {
   "cell_type": "markdown",
   "source": [
    "### 브로드캐스팅 기법"
   ],
   "metadata": {
    "collapsed": false
   }
  },
  {
   "cell_type": "code",
   "execution_count": 24,
   "outputs": [
    {
     "data": {
      "text/plain": "array([[0, 1, 2],\n       [3, 4, 5],\n       [6, 7, 8]])"
     },
     "execution_count": 24,
     "metadata": {},
     "output_type": "execute_result"
    }
   ],
   "source": [
    "y = np.arange(9).reshape(3, 3)\n",
    "y"
   ],
   "metadata": {
    "collapsed": false,
    "ExecuteTime": {
     "end_time": "2023-08-10T02:26:20.924165400Z",
     "start_time": "2023-08-10T02:26:20.907958200Z"
    }
   }
  },
  {
   "cell_type": "code",
   "execution_count": 25,
   "outputs": [
    {
     "data": {
      "text/plain": "array([[ 0,  2,  4],\n       [ 6,  8, 10],\n       [12, 14, 16]])"
     },
     "execution_count": 25,
     "metadata": {},
     "output_type": "execute_result"
    }
   ],
   "source": [
    "y * 2"
   ],
   "metadata": {
    "collapsed": false,
    "ExecuteTime": {
     "end_time": "2023-08-10T02:26:27.421058600Z",
     "start_time": "2023-08-10T02:26:27.417040900Z"
    }
   }
  },
  {
   "cell_type": "code",
   "execution_count": 26,
   "outputs": [
    {
     "data": {
      "text/plain": "array([[ 2,  3,  4],\n       [ 5,  6,  7],\n       [ 8,  9, 10]])"
     },
     "execution_count": 26,
     "metadata": {},
     "output_type": "execute_result"
    }
   ],
   "source": [
    "y + 2"
   ],
   "metadata": {
    "collapsed": false,
    "ExecuteTime": {
     "end_time": "2023-08-10T02:26:49.370399Z",
     "start_time": "2023-08-10T02:26:49.370399Z"
    }
   }
  },
  {
   "cell_type": "code",
   "execution_count": 27,
   "outputs": [
    {
     "data": {
      "text/plain": "array([1, 2, 3])"
     },
     "execution_count": 27,
     "metadata": {},
     "output_type": "execute_result"
    }
   ],
   "source": [
    "z = np.array([i for i in range(1, 4)])\n",
    "z"
   ],
   "metadata": {
    "collapsed": false,
    "ExecuteTime": {
     "end_time": "2023-08-10T02:27:45.463064400Z",
     "start_time": "2023-08-10T02:27:45.453038300Z"
    }
   }
  },
  {
   "cell_type": "code",
   "execution_count": 31,
   "outputs": [
    {
     "name": "stdout",
     "output_type": "stream",
     "text": [
      "[[0 1 2]\n",
      " [3 4 5]\n",
      " [6 7 8]]\n",
      "[1 2 3]\n"
     ]
    },
    {
     "data": {
      "text/plain": "array([[ 1,  3,  5],\n       [ 4,  6,  8],\n       [ 7,  9, 11]])"
     },
     "execution_count": 31,
     "metadata": {},
     "output_type": "execute_result"
    }
   ],
   "source": [
    "# 행렬끼리 계산 (3 X 3) + (1 X 3)\n",
    "print(y)\n",
    "print(z)\n",
    "y + z"
   ],
   "metadata": {
    "collapsed": false,
    "ExecuteTime": {
     "end_time": "2023-08-10T02:29:24.315502900Z",
     "start_time": "2023-08-10T02:29:24.311989400Z"
    }
   }
  },
  {
   "cell_type": "code",
   "execution_count": 32,
   "outputs": [
    {
     "name": "stdout",
     "output_type": "stream",
     "text": [
      "[[0 1 2]\n",
      " [3 4 5]\n",
      " [6 7 8]]\n",
      "[[1]\n",
      " [2]\n",
      " [3]]\n"
     ]
    },
    {
     "data": {
      "text/plain": "array([[ 1,  2,  3],\n       [ 5,  6,  7],\n       [ 9, 10, 11]])"
     },
     "execution_count": 32,
     "metadata": {},
     "output_type": "execute_result"
    }
   ],
   "source": [
    "# (3 X 3) + (3 X 1)\n",
    "k = np.array([[1], [2], [3]])\n",
    "print(y)\n",
    "print(k)\n",
    "y + k"
   ],
   "metadata": {
    "collapsed": false,
    "ExecuteTime": {
     "end_time": "2023-08-10T02:31:27.993257300Z",
     "start_time": "2023-08-10T02:31:27.961917600Z"
    }
   }
  },
  {
   "cell_type": "markdown",
   "source": [
    "행렬간 계산에서 행렬끼리 사이즈가 맞지 않으면 오류가 발생"
   ],
   "metadata": {
    "collapsed": false
   }
  },
  {
   "cell_type": "code",
   "execution_count": 33,
   "outputs": [
    {
     "data": {
      "text/plain": "[1, 2, 3, 4]"
     },
     "execution_count": 33,
     "metadata": {},
     "output_type": "execute_result"
    }
   ],
   "source": [
    "# 간단한 리스트와 어레이의 차이\n",
    "[1, 2] + [3, 4]"
   ],
   "metadata": {
    "collapsed": false,
    "ExecuteTime": {
     "end_time": "2023-08-10T02:33:15.734107500Z",
     "start_time": "2023-08-10T02:33:15.682610200Z"
    }
   }
  },
  {
   "cell_type": "code",
   "execution_count": 34,
   "outputs": [
    {
     "name": "stdout",
     "output_type": "stream",
     "text": [
      "[4 6]\n",
      "[4 5]\n"
     ]
    }
   ],
   "source": [
    "print(np.array([1, 2]) + np.array([3, 4]))\n",
    "print(np.array([1, 2]) + 3)"
   ],
   "metadata": {
    "collapsed": false,
    "ExecuteTime": {
     "end_time": "2023-08-10T02:33:55.407830700Z",
     "start_time": "2023-08-10T02:33:55.380057700Z"
    }
   }
  },
  {
   "cell_type": "markdown",
   "source": [
    "### 슬라이스, 인덱싱"
   ],
   "metadata": {
    "collapsed": false
   }
  },
  {
   "cell_type": "code",
   "execution_count": 35,
   "outputs": [
    {
     "data": {
      "text/plain": "array([[0, 1, 2],\n       [3, 4, 5],\n       [6, 7, 8]])"
     },
     "execution_count": 35,
     "metadata": {},
     "output_type": "execute_result"
    }
   ],
   "source": [
    "y"
   ],
   "metadata": {
    "collapsed": false,
    "ExecuteTime": {
     "end_time": "2023-08-10T02:34:52.533819500Z",
     "start_time": "2023-08-10T02:34:52.533819500Z"
    }
   }
  },
  {
   "cell_type": "code",
   "execution_count": 39,
   "outputs": [
    {
     "name": "stdout",
     "output_type": "stream",
     "text": [
      "[[0 1 2]\n",
      " [3 4 5]\n",
      " [6 7 8]]\n"
     ]
    },
    {
     "data": {
      "text/plain": "array([3, 4, 5])"
     },
     "execution_count": 39,
     "metadata": {},
     "output_type": "execute_result"
    }
   ],
   "source": [
    "print(y)\n",
    "y[1]"
   ],
   "metadata": {
    "collapsed": false,
    "ExecuteTime": {
     "end_time": "2023-08-10T02:35:38.345176600Z",
     "start_time": "2023-08-10T02:35:38.327933Z"
    }
   }
  },
  {
   "cell_type": "code",
   "execution_count": 40,
   "outputs": [
    {
     "data": {
      "text/plain": "6"
     },
     "execution_count": 40,
     "metadata": {},
     "output_type": "execute_result"
    }
   ],
   "source": [
    "y[2, 0]  # 3번째 에서 1번째 값"
   ],
   "metadata": {
    "collapsed": false,
    "ExecuteTime": {
     "end_time": "2023-08-10T02:36:26.654467400Z",
     "start_time": "2023-08-10T02:36:26.643461700Z"
    }
   }
  },
  {
   "cell_type": "code",
   "execution_count": 41,
   "outputs": [
    {
     "data": {
      "text/plain": "6"
     },
     "execution_count": 41,
     "metadata": {},
     "output_type": "execute_result"
    }
   ],
   "source": [
    "y[2][0]"
   ],
   "metadata": {
    "collapsed": false,
    "ExecuteTime": {
     "end_time": "2023-08-10T02:36:57.870503900Z",
     "start_time": "2023-08-10T02:36:57.870503900Z"
    }
   }
  },
  {
   "cell_type": "code",
   "execution_count": 43,
   "outputs": [
    {
     "name": "stdout",
     "output_type": "stream",
     "text": [
      "[[0 1 2]\n",
      " [3 4 5]]\n"
     ]
    },
    {
     "data": {
      "text/plain": "array([[0, 1, 2],\n       [3, 4, 5]])"
     },
     "execution_count": 43,
     "metadata": {},
     "output_type": "execute_result"
    }
   ],
   "source": [
    "print(y[:-1])\n",
    "y[:-1]  # -1까지니까, -1을 제외하고 모두"
   ],
   "metadata": {
    "collapsed": false,
    "ExecuteTime": {
     "end_time": "2023-08-10T02:38:06.429136Z",
     "start_time": "2023-08-10T02:38:06.413002100Z"
    }
   }
  },
  {
   "cell_type": "code",
   "execution_count": 50,
   "outputs": [
    {
     "data": {
      "text/plain": "array([[2],\n       [5],\n       [8]])"
     },
     "execution_count": 50,
     "metadata": {},
     "output_type": "execute_result"
    }
   ],
   "source": [
    "y[:, 2:]  # 열로 인덱싱 슬라이스 하기"
   ],
   "metadata": {
    "collapsed": false,
    "ExecuteTime": {
     "end_time": "2023-08-10T02:40:12.030263200Z",
     "start_time": "2023-08-10T02:40:12.017422800Z"
    }
   }
  },
  {
   "cell_type": "code",
   "execution_count": 56,
   "outputs": [
    {
     "data": {
      "text/plain": "array([[0, 1],\n       [3, 4],\n       [6, 7]])"
     },
     "execution_count": 56,
     "metadata": {},
     "output_type": "execute_result"
    }
   ],
   "source": [
    "y[:, :-1]"
   ],
   "metadata": {
    "collapsed": false,
    "ExecuteTime": {
     "end_time": "2023-08-10T02:41:36.882198100Z",
     "start_time": "2023-08-10T02:41:36.850726600Z"
    }
   }
  },
  {
   "cell_type": "code",
   "execution_count": 57,
   "outputs": [
    {
     "data": {
      "text/plain": "array([5])"
     },
     "execution_count": 57,
     "metadata": {},
     "output_type": "execute_result"
    }
   ],
   "source": [
    "y[1, 2:]  # 행 열 동시 인덱싱 슬라이스"
   ],
   "metadata": {
    "collapsed": false,
    "ExecuteTime": {
     "end_time": "2023-08-10T02:42:33.666743500Z",
     "start_time": "2023-08-10T02:42:33.666743500Z"
    }
   }
  },
  {
   "cell_type": "code",
   "execution_count": 58,
   "outputs": [
    {
     "data": {
      "text/plain": "array([[1, 2],\n       [4, 5]])"
     },
     "execution_count": 58,
     "metadata": {},
     "output_type": "execute_result"
    }
   ],
   "source": [
    "y[:2, 1:]  # 0,1행, 1열부터"
   ],
   "metadata": {
    "collapsed": false,
    "ExecuteTime": {
     "end_time": "2023-08-10T02:43:00.658264800Z",
     "start_time": "2023-08-10T02:43:00.658264800Z"
    }
   }
  },
  {
   "cell_type": "code",
   "execution_count": 59,
   "outputs": [
    {
     "data": {
      "text/plain": "array([2, 5, 8])"
     },
     "execution_count": 59,
     "metadata": {},
     "output_type": "execute_result"
    }
   ],
   "source": [
    "y[:, -1]"
   ],
   "metadata": {
    "collapsed": false,
    "ExecuteTime": {
     "end_time": "2023-08-10T02:45:26.441881100Z",
     "start_time": "2023-08-10T02:45:26.405814600Z"
    }
   }
  },
  {
   "cell_type": "markdown",
   "source": [
    "### numpy 의사 난수 기능"
   ],
   "metadata": {
    "collapsed": false
   }
  },
  {
   "cell_type": "code",
   "execution_count": 62,
   "outputs": [
    {
     "name": "stdout",
     "output_type": "stream",
     "text": [
      "0.31600586936822883\n",
      "7\n",
      "8\n"
     ]
    }
   ],
   "source": [
    "print(np.random.random())  # 0에서 1사이 실수형 난수 하나 생성\n",
    "print(np.random.randint(0, 10))  # 0에서 10 사이 정수형 난수 하나 생성\n",
    "print(np.random.choice([0, 1, 2, 3, 4, 5, 6, 7, 8, 9]))  # 리스트에 주어진 값 중 하나를 랜덤하게 고름"
   ],
   "metadata": {
    "collapsed": false,
    "ExecuteTime": {
     "end_time": "2023-08-10T02:49:36.023061100Z",
     "start_time": "2023-08-10T02:49:36.007330500Z"
    }
   }
  },
  {
   "cell_type": "code",
   "execution_count": 66,
   "outputs": [
    {
     "name": "stdout",
     "output_type": "stream",
     "text": [
      "[1 7 6 2 9 4 3 5 8 0]\n"
     ]
    },
    {
     "data": {
      "text/plain": "numpy.ndarray"
     },
     "execution_count": 66,
     "metadata": {},
     "output_type": "execute_result"
    }
   ],
   "source": [
    "t = np.random.permutation(10)  # 파라미터값의 범위 내에서 무작위로 섞인 배열(array)을 생성\n",
    "print(t)\n",
    "type(t)"
   ],
   "metadata": {
    "collapsed": false,
    "ExecuteTime": {
     "end_time": "2023-08-10T02:50:54.182612700Z",
     "start_time": "2023-08-10T02:50:54.160425600Z"
    }
   }
  },
  {
   "cell_type": "code",
   "execution_count": 68,
   "outputs": [
    {
     "name": "stdout",
     "output_type": "stream",
     "text": [
      "[11.20934118  8.77159433 10.35842508  9.58758469  7.55843133  7.89226883]\n",
      "[1.53757533 3.00323143 4.74040877 4.99919871]\n"
     ]
    }
   ],
   "source": [
    "# 정규분포와 균등분포 에 따른 무작위 값 생성하기\n",
    "print(np.random.normal(loc=10, scale=2, size=6))  # 평균(loc), 표준편차(scale), 갯수(size) - 정규 분포\n",
    "print(np.random.uniform(low=1, high=5, size=4))  # 최솟값(low), 최댓값(high), 갯수(size) - 균등 분포"
   ],
   "metadata": {
    "collapsed": false,
    "ExecuteTime": {
     "end_time": "2023-08-10T02:54:50.437552500Z",
     "start_time": "2023-08-10T02:54:50.405253900Z"
    }
   }
  },
  {
   "cell_type": "markdown",
   "source": [
    "### 전치행렬"
   ],
   "metadata": {
    "collapsed": false
   }
  },
  {
   "cell_type": "code",
   "execution_count": 74,
   "outputs": [
    {
     "data": {
      "text/plain": "array([[[ 0,  1,  2,  3],\n        [ 4,  5,  6,  7],\n        [ 8,  9, 10, 11]],\n\n       [[12, 13, 14, 15],\n        [16, 17, 18, 19],\n        [20, 21, 22, 23]]])"
     },
     "execution_count": 74,
     "metadata": {},
     "output_type": "execute_result"
    }
   ],
   "source": [
    "px = np.arange(24).reshape(2,3,4)\n",
    "px"
   ],
   "metadata": {
    "collapsed": false,
    "ExecuteTime": {
     "end_time": "2023-08-10T02:59:47.317747Z",
     "start_time": "2023-08-10T02:59:47.301691900Z"
    }
   }
  },
  {
   "cell_type": "code",
   "execution_count": 75,
   "outputs": [
    {
     "data": {
      "text/plain": "(2, 3, 4)"
     },
     "execution_count": 75,
     "metadata": {},
     "output_type": "execute_result"
    }
   ],
   "source": [
    "px.shape"
   ],
   "metadata": {
    "collapsed": false,
    "ExecuteTime": {
     "end_time": "2023-08-10T02:59:48.754347500Z",
     "start_time": "2023-08-10T02:59:48.722850600Z"
    }
   }
  },
  {
   "cell_type": "code",
   "execution_count": 80,
   "outputs": [
    {
     "data": {
      "text/plain": "array([[[ 0, 12],\n        [ 4, 16],\n        [ 8, 20]],\n\n       [[ 1, 13],\n        [ 5, 17],\n        [ 9, 21]],\n\n       [[ 2, 14],\n        [ 6, 18],\n        [10, 22]],\n\n       [[ 3, 15],\n        [ 7, 19],\n        [11, 23]]])"
     },
     "execution_count": 80,
     "metadata": {},
     "output_type": "execute_result"
    }
   ],
   "source": [
    "px.T  # 행과 열 맞바꾸기 (replace필요)"
   ],
   "metadata": {
    "collapsed": false,
    "ExecuteTime": {
     "end_time": "2023-08-10T03:00:15.426759800Z",
     "start_time": "2023-08-10T03:00:15.409152100Z"
    }
   }
  },
  {
   "cell_type": "code",
   "execution_count": 81,
   "outputs": [
    {
     "data": {
      "text/plain": "(4, 3, 2)"
     },
     "execution_count": 81,
     "metadata": {},
     "output_type": "execute_result"
    }
   ],
   "source": [
    "px.T.shape"
   ],
   "metadata": {
    "collapsed": false,
    "ExecuteTime": {
     "end_time": "2023-08-10T03:00:15.768810600Z",
     "start_time": "2023-08-10T03:00:15.767293200Z"
    }
   }
  },
  {
   "cell_type": "code",
   "execution_count": 85,
   "outputs": [
    {
     "name": "stdout",
     "output_type": "stream",
     "text": [
      "(2, 3, 4)\n",
      "(4, 2, 3)\n"
     ]
    },
    {
     "data": {
      "text/plain": "array([[[ 0,  4,  8],\n        [12, 16, 20]],\n\n       [[ 1,  5,  9],\n        [13, 17, 21]],\n\n       [[ 2,  6, 10],\n        [14, 18, 22]],\n\n       [[ 3,  7, 11],\n        [15, 19, 23]]])"
     },
     "execution_count": 85,
     "metadata": {},
     "output_type": "execute_result"
    }
   ],
   "source": [
    "# 행렬의 축을 지정할 수 있는 행렬 전치 함수\n",
    "py = np.transpose(px, (2, 0, 1))  # 2,3,4 의 순서를 인덱스 기법으로 지정\n",
    "print(px.shape)\n",
    "print(py.shape)\n",
    "py"
   ],
   "metadata": {
    "collapsed": false,
    "ExecuteTime": {
     "end_time": "2023-08-10T03:06:19.437461400Z",
     "start_time": "2023-08-10T03:06:19.420635900Z"
    }
   }
  },
  {
   "cell_type": "code",
   "execution_count": null,
   "outputs": [],
   "source": [],
   "metadata": {
    "collapsed": false
   }
  }
 ],
 "metadata": {
  "kernelspec": {
   "display_name": "Python 3",
   "language": "python",
   "name": "python3"
  },
  "language_info": {
   "codemirror_mode": {
    "name": "ipython",
    "version": 2
   },
   "file_extension": ".py",
   "mimetype": "text/x-python",
   "name": "python",
   "nbconvert_exporter": "python",
   "pygments_lexer": "ipython2",
   "version": "2.7.6"
  }
 },
 "nbformat": 4,
 "nbformat_minor": 0
}
