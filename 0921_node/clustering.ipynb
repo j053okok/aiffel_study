{
 "cells": [
  {
   "cell_type": "code",
   "execution_count": 20,
   "id": "initial_id",
   "metadata": {
    "collapsed": true,
    "ExecuteTime": {
     "end_time": "2023-09-21T08:12:23.592733800Z",
     "start_time": "2023-09-21T08:12:23.589089Z"
    }
   },
   "outputs": [],
   "source": [
    "import os\n",
    "import numpy as np\n",
    "import pandas as pd \n",
    "from sklearn.metrics import r2_score, classification_report, confusion_matrix, accuracy_score, roc_auc_score, roc_curve, precision_recall_curve, average_precision_score\n",
    "from sklearn.preprocessing import MinMaxScaler\n",
    "from sklearn.cluster import KMeans\n",
    "\n",
    "import matplotlib.pyplot as plt"
   ]
  },
  {
   "cell_type": "code",
   "execution_count": 21,
   "outputs": [],
   "source": [
    "df_v1 = pd.read_csv(\"dataset_1_labeled_train.csv\")\n",
    "df_v2 = pd.read_csv(\"dataset_4_labeled_test.csv\")"
   ],
   "metadata": {
    "collapsed": false,
    "ExecuteTime": {
     "end_time": "2023-09-21T08:12:23.627656100Z",
     "start_time": "2023-09-21T08:12:23.591983500Z"
    }
   },
   "id": "8043d94cad7a882e"
  },
  {
   "cell_type": "code",
   "execution_count": 22,
   "outputs": [
    {
     "data": {
      "text/plain": "   accident_id created_at_date  car_model_1  car_model_2  car_model_3  \\\n0      1007811      2021-01-03            0            1            0   \n1      1007691      2021-01-02            0            1            0   \n2      1009501      2021-01-20            0            1            0   \n3      1010149      2021-01-26            1            0            0   \n4      1008972      2021-01-15            1            0            0   \n\n   car_model_4  car_model_5  sharing_type_0  sharing_type_1  age_group_1  ...  \\\n0            0            0               1               0            0  ...   \n1            0            0               0               1            1  ...   \n2            0            0               1               0            1  ...   \n3            0            0               1               0            1  ...   \n4            0            0               1               0            0  ...   \n\n   total_acc_history_cnt_of_persons_5  acc_hitory_bool_by_0_null  \\\n0                                   0                          0   \n1                                   0                          0   \n2                                   0                          0   \n3                                   0                          0   \n4                                   0                          0   \n\n   acc_history_bool_by_0_0  acc_history_bool_by_0_1  accumulate_used_count  \\\n0                        1                        0                      2   \n1                        1                        0                      1   \n2                        1                        0                      1   \n3                        1                        0                      1   \n4                        1                        0                      1   \n\n   month  is_fraud  dataset  network    h3  \n0      1         1       v1      0.0  0.63  \n1      1         1       v1      1.0  0.56  \n2      1         1       v1      0.0  0.45  \n3      1         1       v1      1.0  0.37  \n4      1         1       v1      1.0  0.75  \n\n[5 rows x 66 columns]",
      "text/html": "<div>\n<style scoped>\n    .dataframe tbody tr th:only-of-type {\n        vertical-align: middle;\n    }\n\n    .dataframe tbody tr th {\n        vertical-align: top;\n    }\n\n    .dataframe thead th {\n        text-align: right;\n    }\n</style>\n<table border=\"1\" class=\"dataframe\">\n  <thead>\n    <tr style=\"text-align: right;\">\n      <th></th>\n      <th>accident_id</th>\n      <th>created_at_date</th>\n      <th>car_model_1</th>\n      <th>car_model_2</th>\n      <th>car_model_3</th>\n      <th>car_model_4</th>\n      <th>car_model_5</th>\n      <th>sharing_type_0</th>\n      <th>sharing_type_1</th>\n      <th>age_group_1</th>\n      <th>...</th>\n      <th>total_acc_history_cnt_of_persons_5</th>\n      <th>acc_hitory_bool_by_0_null</th>\n      <th>acc_history_bool_by_0_0</th>\n      <th>acc_history_bool_by_0_1</th>\n      <th>accumulate_used_count</th>\n      <th>month</th>\n      <th>is_fraud</th>\n      <th>dataset</th>\n      <th>network</th>\n      <th>h3</th>\n    </tr>\n  </thead>\n  <tbody>\n    <tr>\n      <th>0</th>\n      <td>1007811</td>\n      <td>2021-01-03</td>\n      <td>0</td>\n      <td>1</td>\n      <td>0</td>\n      <td>0</td>\n      <td>0</td>\n      <td>1</td>\n      <td>0</td>\n      <td>0</td>\n      <td>...</td>\n      <td>0</td>\n      <td>0</td>\n      <td>1</td>\n      <td>0</td>\n      <td>2</td>\n      <td>1</td>\n      <td>1</td>\n      <td>v1</td>\n      <td>0.0</td>\n      <td>0.63</td>\n    </tr>\n    <tr>\n      <th>1</th>\n      <td>1007691</td>\n      <td>2021-01-02</td>\n      <td>0</td>\n      <td>1</td>\n      <td>0</td>\n      <td>0</td>\n      <td>0</td>\n      <td>0</td>\n      <td>1</td>\n      <td>1</td>\n      <td>...</td>\n      <td>0</td>\n      <td>0</td>\n      <td>1</td>\n      <td>0</td>\n      <td>1</td>\n      <td>1</td>\n      <td>1</td>\n      <td>v1</td>\n      <td>1.0</td>\n      <td>0.56</td>\n    </tr>\n    <tr>\n      <th>2</th>\n      <td>1009501</td>\n      <td>2021-01-20</td>\n      <td>0</td>\n      <td>1</td>\n      <td>0</td>\n      <td>0</td>\n      <td>0</td>\n      <td>1</td>\n      <td>0</td>\n      <td>1</td>\n      <td>...</td>\n      <td>0</td>\n      <td>0</td>\n      <td>1</td>\n      <td>0</td>\n      <td>1</td>\n      <td>1</td>\n      <td>1</td>\n      <td>v1</td>\n      <td>0.0</td>\n      <td>0.45</td>\n    </tr>\n    <tr>\n      <th>3</th>\n      <td>1010149</td>\n      <td>2021-01-26</td>\n      <td>1</td>\n      <td>0</td>\n      <td>0</td>\n      <td>0</td>\n      <td>0</td>\n      <td>1</td>\n      <td>0</td>\n      <td>1</td>\n      <td>...</td>\n      <td>0</td>\n      <td>0</td>\n      <td>1</td>\n      <td>0</td>\n      <td>1</td>\n      <td>1</td>\n      <td>1</td>\n      <td>v1</td>\n      <td>1.0</td>\n      <td>0.37</td>\n    </tr>\n    <tr>\n      <th>4</th>\n      <td>1008972</td>\n      <td>2021-01-15</td>\n      <td>1</td>\n      <td>0</td>\n      <td>0</td>\n      <td>0</td>\n      <td>0</td>\n      <td>1</td>\n      <td>0</td>\n      <td>0</td>\n      <td>...</td>\n      <td>0</td>\n      <td>0</td>\n      <td>1</td>\n      <td>0</td>\n      <td>1</td>\n      <td>1</td>\n      <td>1</td>\n      <td>v1</td>\n      <td>1.0</td>\n      <td>0.75</td>\n    </tr>\n  </tbody>\n</table>\n<p>5 rows × 66 columns</p>\n</div>"
     },
     "execution_count": 22,
     "metadata": {},
     "output_type": "execute_result"
    }
   ],
   "source": [
    "df_v1.head()"
   ],
   "metadata": {
    "collapsed": false,
    "ExecuteTime": {
     "end_time": "2023-09-21T08:12:23.635354900Z",
     "start_time": "2023-09-21T08:12:23.623365700Z"
    }
   },
   "id": "b9b40915ea06d4f5"
  },
  {
   "cell_type": "code",
   "execution_count": 23,
   "outputs": [
    {
     "data": {
      "text/plain": "accident_id        0\ncreated_at_date    0\ncar_model_1        0\ncar_model_2        0\ncar_model_3        0\n                  ..\nmonth              0\nis_fraud           0\ndataset            0\nnetwork            0\nh3                 0\nLength: 66, dtype: int64"
     },
     "execution_count": 23,
     "metadata": {},
     "output_type": "execute_result"
    }
   ],
   "source": [
    "df_v1.isnull().sum()"
   ],
   "metadata": {
    "collapsed": false,
    "ExecuteTime": {
     "end_time": "2023-09-21T08:12:23.645093800Z",
     "start_time": "2023-09-21T08:12:23.631220200Z"
    }
   },
   "id": "7a8a0489cd5cdabb"
  },
  {
   "cell_type": "code",
   "execution_count": 24,
   "outputs": [],
   "source": [
    "# 필요없는 칼럼 정리, 타겟 칼럼 빼내기\n",
    "labels = df_v1['is_fraud']\n",
    "features = df_v1.columns.drop(['month', 'is_fraud', 'dataset', 'accident_id', 'created_at_date'])"
   ],
   "metadata": {
    "collapsed": false,
    "ExecuteTime": {
     "end_time": "2023-09-21T08:12:23.665022800Z",
     "start_time": "2023-09-21T08:12:23.644343600Z"
    }
   },
   "id": "479f9adc1392bf19"
  },
  {
   "cell_type": "code",
   "execution_count": 25,
   "outputs": [],
   "source": [
    "# 전처리 - 최빈값으로 null 값을 채웁니다. \n",
    "df_v1[features]=df_v1[features].fillna(df_v1.mode().iloc[0])"
   ],
   "metadata": {
    "collapsed": false,
    "ExecuteTime": {
     "end_time": "2023-09-21T08:12:23.730045900Z",
     "start_time": "2023-09-21T08:12:23.652063700Z"
    }
   },
   "id": "de1c272b30cad782"
  },
  {
   "cell_type": "code",
   "execution_count": 26,
   "outputs": [
    {
     "data": {
      "text/plain": "      accident_id created_at_date  car_model_1  car_model_2  car_model_3  \\\n0         1007811      2021-01-03            0            1            0   \n1         1007691      2021-01-02            0            1            0   \n2         1009501      2021-01-20            0            1            0   \n3         1010149      2021-01-26            1            0            0   \n4         1008972      2021-01-15            1            0            0   \n...           ...             ...          ...          ...          ...   \n4315      1008392      2021-01-09            1            0            0   \n4316      1008359      2021-01-08            0            1            0   \n4317      1012413      2021-02-15            0            1            0   \n4318      1013303      2021-02-22            0            1            0   \n4319      1012086      2021-02-12            0            1            0   \n\n      car_model_4  car_model_5  sharing_type_0  sharing_type_1  age_group_1  \\\n0               0            0               1               0            0   \n1               0            0               0               1            1   \n2               0            0               1               0            1   \n3               0            0               1               0            1   \n4               0            0               1               0            0   \n...           ...          ...             ...             ...          ...   \n4315            0            0               1               0            0   \n4316            0            0               1               0            0   \n4317            0            0               1               0            0   \n4318            0            0               0               1            0   \n4319            0            0               1               0            0   \n\n      ...  total_acc_history_cnt_of_persons_5  acc_hitory_bool_by_0_null  \\\n0     ...                                   0                          0   \n1     ...                                   0                          0   \n2     ...                                   0                          0   \n3     ...                                   0                          0   \n4     ...                                   0                          0   \n...   ...                                 ...                        ...   \n4315  ...                                   0                          0   \n4316  ...                                   0                          0   \n4317  ...                                   0                          0   \n4318  ...                                   0                          0   \n4319  ...                                   0                          0   \n\n      acc_history_bool_by_0_0  acc_history_bool_by_0_1  accumulate_used_count  \\\n0                           1                        0                      2   \n1                           1                        0                      1   \n2                           1                        0                      1   \n3                           1                        0                      1   \n4                           1                        0                      1   \n...                       ...                      ...                    ...   \n4315                        1                        0                      4   \n4316                        1                        0                      4   \n4317                        1                        0                      1   \n4318                        1                        0                      1   \n4319                        1                        0                      4   \n\n      month  is_fraud  dataset  network    h3  \n0         1         1       v1      0.0  0.63  \n1         1         1       v1      1.0  0.56  \n2         1         1       v1      0.0  0.45  \n3         1         1       v1      1.0  0.37  \n4         1         1       v1      1.0  0.75  \n...     ...       ...      ...      ...   ...  \n4315      1         0       v1      1.0  0.66  \n4316      1         0       v1      0.0  0.55  \n4317      2         0       v1      1.0  0.66  \n4318      2         0       v1      1.0  0.63  \n4319      2         0       v1      1.0  0.61  \n\n[4320 rows x 66 columns]",
      "text/html": "<div>\n<style scoped>\n    .dataframe tbody tr th:only-of-type {\n        vertical-align: middle;\n    }\n\n    .dataframe tbody tr th {\n        vertical-align: top;\n    }\n\n    .dataframe thead th {\n        text-align: right;\n    }\n</style>\n<table border=\"1\" class=\"dataframe\">\n  <thead>\n    <tr style=\"text-align: right;\">\n      <th></th>\n      <th>accident_id</th>\n      <th>created_at_date</th>\n      <th>car_model_1</th>\n      <th>car_model_2</th>\n      <th>car_model_3</th>\n      <th>car_model_4</th>\n      <th>car_model_5</th>\n      <th>sharing_type_0</th>\n      <th>sharing_type_1</th>\n      <th>age_group_1</th>\n      <th>...</th>\n      <th>total_acc_history_cnt_of_persons_5</th>\n      <th>acc_hitory_bool_by_0_null</th>\n      <th>acc_history_bool_by_0_0</th>\n      <th>acc_history_bool_by_0_1</th>\n      <th>accumulate_used_count</th>\n      <th>month</th>\n      <th>is_fraud</th>\n      <th>dataset</th>\n      <th>network</th>\n      <th>h3</th>\n    </tr>\n  </thead>\n  <tbody>\n    <tr>\n      <th>0</th>\n      <td>1007811</td>\n      <td>2021-01-03</td>\n      <td>0</td>\n      <td>1</td>\n      <td>0</td>\n      <td>0</td>\n      <td>0</td>\n      <td>1</td>\n      <td>0</td>\n      <td>0</td>\n      <td>...</td>\n      <td>0</td>\n      <td>0</td>\n      <td>1</td>\n      <td>0</td>\n      <td>2</td>\n      <td>1</td>\n      <td>1</td>\n      <td>v1</td>\n      <td>0.0</td>\n      <td>0.63</td>\n    </tr>\n    <tr>\n      <th>1</th>\n      <td>1007691</td>\n      <td>2021-01-02</td>\n      <td>0</td>\n      <td>1</td>\n      <td>0</td>\n      <td>0</td>\n      <td>0</td>\n      <td>0</td>\n      <td>1</td>\n      <td>1</td>\n      <td>...</td>\n      <td>0</td>\n      <td>0</td>\n      <td>1</td>\n      <td>0</td>\n      <td>1</td>\n      <td>1</td>\n      <td>1</td>\n      <td>v1</td>\n      <td>1.0</td>\n      <td>0.56</td>\n    </tr>\n    <tr>\n      <th>2</th>\n      <td>1009501</td>\n      <td>2021-01-20</td>\n      <td>0</td>\n      <td>1</td>\n      <td>0</td>\n      <td>0</td>\n      <td>0</td>\n      <td>1</td>\n      <td>0</td>\n      <td>1</td>\n      <td>...</td>\n      <td>0</td>\n      <td>0</td>\n      <td>1</td>\n      <td>0</td>\n      <td>1</td>\n      <td>1</td>\n      <td>1</td>\n      <td>v1</td>\n      <td>0.0</td>\n      <td>0.45</td>\n    </tr>\n    <tr>\n      <th>3</th>\n      <td>1010149</td>\n      <td>2021-01-26</td>\n      <td>1</td>\n      <td>0</td>\n      <td>0</td>\n      <td>0</td>\n      <td>0</td>\n      <td>1</td>\n      <td>0</td>\n      <td>1</td>\n      <td>...</td>\n      <td>0</td>\n      <td>0</td>\n      <td>1</td>\n      <td>0</td>\n      <td>1</td>\n      <td>1</td>\n      <td>1</td>\n      <td>v1</td>\n      <td>1.0</td>\n      <td>0.37</td>\n    </tr>\n    <tr>\n      <th>4</th>\n      <td>1008972</td>\n      <td>2021-01-15</td>\n      <td>1</td>\n      <td>0</td>\n      <td>0</td>\n      <td>0</td>\n      <td>0</td>\n      <td>1</td>\n      <td>0</td>\n      <td>0</td>\n      <td>...</td>\n      <td>0</td>\n      <td>0</td>\n      <td>1</td>\n      <td>0</td>\n      <td>1</td>\n      <td>1</td>\n      <td>1</td>\n      <td>v1</td>\n      <td>1.0</td>\n      <td>0.75</td>\n    </tr>\n    <tr>\n      <th>...</th>\n      <td>...</td>\n      <td>...</td>\n      <td>...</td>\n      <td>...</td>\n      <td>...</td>\n      <td>...</td>\n      <td>...</td>\n      <td>...</td>\n      <td>...</td>\n      <td>...</td>\n      <td>...</td>\n      <td>...</td>\n      <td>...</td>\n      <td>...</td>\n      <td>...</td>\n      <td>...</td>\n      <td>...</td>\n      <td>...</td>\n      <td>...</td>\n      <td>...</td>\n      <td>...</td>\n    </tr>\n    <tr>\n      <th>4315</th>\n      <td>1008392</td>\n      <td>2021-01-09</td>\n      <td>1</td>\n      <td>0</td>\n      <td>0</td>\n      <td>0</td>\n      <td>0</td>\n      <td>1</td>\n      <td>0</td>\n      <td>0</td>\n      <td>...</td>\n      <td>0</td>\n      <td>0</td>\n      <td>1</td>\n      <td>0</td>\n      <td>4</td>\n      <td>1</td>\n      <td>0</td>\n      <td>v1</td>\n      <td>1.0</td>\n      <td>0.66</td>\n    </tr>\n    <tr>\n      <th>4316</th>\n      <td>1008359</td>\n      <td>2021-01-08</td>\n      <td>0</td>\n      <td>1</td>\n      <td>0</td>\n      <td>0</td>\n      <td>0</td>\n      <td>1</td>\n      <td>0</td>\n      <td>0</td>\n      <td>...</td>\n      <td>0</td>\n      <td>0</td>\n      <td>1</td>\n      <td>0</td>\n      <td>4</td>\n      <td>1</td>\n      <td>0</td>\n      <td>v1</td>\n      <td>0.0</td>\n      <td>0.55</td>\n    </tr>\n    <tr>\n      <th>4317</th>\n      <td>1012413</td>\n      <td>2021-02-15</td>\n      <td>0</td>\n      <td>1</td>\n      <td>0</td>\n      <td>0</td>\n      <td>0</td>\n      <td>1</td>\n      <td>0</td>\n      <td>0</td>\n      <td>...</td>\n      <td>0</td>\n      <td>0</td>\n      <td>1</td>\n      <td>0</td>\n      <td>1</td>\n      <td>2</td>\n      <td>0</td>\n      <td>v1</td>\n      <td>1.0</td>\n      <td>0.66</td>\n    </tr>\n    <tr>\n      <th>4318</th>\n      <td>1013303</td>\n      <td>2021-02-22</td>\n      <td>0</td>\n      <td>1</td>\n      <td>0</td>\n      <td>0</td>\n      <td>0</td>\n      <td>0</td>\n      <td>1</td>\n      <td>0</td>\n      <td>...</td>\n      <td>0</td>\n      <td>0</td>\n      <td>1</td>\n      <td>0</td>\n      <td>1</td>\n      <td>2</td>\n      <td>0</td>\n      <td>v1</td>\n      <td>1.0</td>\n      <td>0.63</td>\n    </tr>\n    <tr>\n      <th>4319</th>\n      <td>1012086</td>\n      <td>2021-02-12</td>\n      <td>0</td>\n      <td>1</td>\n      <td>0</td>\n      <td>0</td>\n      <td>0</td>\n      <td>1</td>\n      <td>0</td>\n      <td>0</td>\n      <td>...</td>\n      <td>0</td>\n      <td>0</td>\n      <td>1</td>\n      <td>0</td>\n      <td>4</td>\n      <td>2</td>\n      <td>0</td>\n      <td>v1</td>\n      <td>1.0</td>\n      <td>0.61</td>\n    </tr>\n  </tbody>\n</table>\n<p>4320 rows × 66 columns</p>\n</div>"
     },
     "execution_count": 26,
     "metadata": {},
     "output_type": "execute_result"
    }
   ],
   "source": [
    "df_v1   "
   ],
   "metadata": {
    "collapsed": false,
    "ExecuteTime": {
     "end_time": "2023-09-21T08:12:23.730796200Z",
     "start_time": "2023-09-21T08:12:23.694317900Z"
    }
   },
   "id": "e3471628ec004111"
  },
  {
   "cell_type": "code",
   "execution_count": 26,
   "outputs": [],
   "source": [],
   "metadata": {
    "collapsed": false,
    "ExecuteTime": {
     "end_time": "2023-09-21T08:12:23.730796200Z",
     "start_time": "2023-09-21T08:12:23.705570400Z"
    }
   },
   "id": "847ec982fffcf79d"
  }
 ],
 "metadata": {
  "kernelspec": {
   "display_name": "Python 3",
   "language": "python",
   "name": "python3"
  },
  "language_info": {
   "codemirror_mode": {
    "name": "ipython",
    "version": 2
   },
   "file_extension": ".py",
   "mimetype": "text/x-python",
   "name": "python",
   "nbconvert_exporter": "python",
   "pygments_lexer": "ipython2",
   "version": "2.7.6"
  }
 },
 "nbformat": 4,
 "nbformat_minor": 5
}
