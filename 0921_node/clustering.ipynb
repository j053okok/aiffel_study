{
 "cells": [
  {
   "cell_type": "code",
   "execution_count": 75,
   "id": "initial_id",
   "metadata": {
    "collapsed": true,
    "ExecuteTime": {
     "end_time": "2023-09-21T08:34:14.242775200Z",
     "start_time": "2023-09-21T08:34:14.181232400Z"
    }
   },
   "outputs": [],
   "source": [
    "import os\n",
    "import numpy as np\n",
    "import pandas as pd \n",
    "from sklearn.metrics import r2_score, classification_report, confusion_matrix, accuracy_score, roc_auc_score, roc_curve, precision_recall_curve, average_precision_score\n",
    "from sklearn.preprocessing import MinMaxScaler\n",
    "from sklearn.cluster import KMeans\n",
    "\n",
    "import warnings\n",
    "warnings.filterwarnings(\"ignore\", category=FutureWarning)\n",
    "\n",
    "import matplotlib.pyplot as plt"
   ]
  },
  {
   "cell_type": "code",
   "execution_count": 65,
   "outputs": [],
   "source": [
    "df_v1 = pd.read_csv(\"dataset_1_labeled_train.csv\")\n",
    "df_v4 = pd.read_csv(\"dataset_4_labeled_test.csv\")"
   ],
   "metadata": {
    "collapsed": false,
    "ExecuteTime": {
     "end_time": "2023-09-21T08:30:25.959228700Z",
     "start_time": "2023-09-21T08:30:25.923112800Z"
    }
   },
   "id": "8043d94cad7a882e"
  },
  {
   "cell_type": "code",
   "execution_count": 66,
   "outputs": [
    {
     "data": {
      "text/plain": "   accident_id created_at_date  car_model_1  car_model_2  car_model_3  \\\n0      1007811      2021-01-03            0            1            0   \n1      1007691      2021-01-02            0            1            0   \n2      1009501      2021-01-20            0            1            0   \n3      1010149      2021-01-26            1            0            0   \n4      1008972      2021-01-15            1            0            0   \n\n   car_model_4  car_model_5  sharing_type_0  sharing_type_1  age_group_1  ...  \\\n0            0            0               1               0            0  ...   \n1            0            0               0               1            1  ...   \n2            0            0               1               0            1  ...   \n3            0            0               1               0            1  ...   \n4            0            0               1               0            0  ...   \n\n   total_acc_history_cnt_of_persons_5  acc_hitory_bool_by_0_null  \\\n0                                   0                          0   \n1                                   0                          0   \n2                                   0                          0   \n3                                   0                          0   \n4                                   0                          0   \n\n   acc_history_bool_by_0_0  acc_history_bool_by_0_1  accumulate_used_count  \\\n0                        1                        0                      2   \n1                        1                        0                      1   \n2                        1                        0                      1   \n3                        1                        0                      1   \n4                        1                        0                      1   \n\n   month  is_fraud  dataset  network    h3  \n0      1         1       v1      0.0  0.63  \n1      1         1       v1      1.0  0.56  \n2      1         1       v1      0.0  0.45  \n3      1         1       v1      1.0  0.37  \n4      1         1       v1      1.0  0.75  \n\n[5 rows x 66 columns]",
      "text/html": "<div>\n<style scoped>\n    .dataframe tbody tr th:only-of-type {\n        vertical-align: middle;\n    }\n\n    .dataframe tbody tr th {\n        vertical-align: top;\n    }\n\n    .dataframe thead th {\n        text-align: right;\n    }\n</style>\n<table border=\"1\" class=\"dataframe\">\n  <thead>\n    <tr style=\"text-align: right;\">\n      <th></th>\n      <th>accident_id</th>\n      <th>created_at_date</th>\n      <th>car_model_1</th>\n      <th>car_model_2</th>\n      <th>car_model_3</th>\n      <th>car_model_4</th>\n      <th>car_model_5</th>\n      <th>sharing_type_0</th>\n      <th>sharing_type_1</th>\n      <th>age_group_1</th>\n      <th>...</th>\n      <th>total_acc_history_cnt_of_persons_5</th>\n      <th>acc_hitory_bool_by_0_null</th>\n      <th>acc_history_bool_by_0_0</th>\n      <th>acc_history_bool_by_0_1</th>\n      <th>accumulate_used_count</th>\n      <th>month</th>\n      <th>is_fraud</th>\n      <th>dataset</th>\n      <th>network</th>\n      <th>h3</th>\n    </tr>\n  </thead>\n  <tbody>\n    <tr>\n      <th>0</th>\n      <td>1007811</td>\n      <td>2021-01-03</td>\n      <td>0</td>\n      <td>1</td>\n      <td>0</td>\n      <td>0</td>\n      <td>0</td>\n      <td>1</td>\n      <td>0</td>\n      <td>0</td>\n      <td>...</td>\n      <td>0</td>\n      <td>0</td>\n      <td>1</td>\n      <td>0</td>\n      <td>2</td>\n      <td>1</td>\n      <td>1</td>\n      <td>v1</td>\n      <td>0.0</td>\n      <td>0.63</td>\n    </tr>\n    <tr>\n      <th>1</th>\n      <td>1007691</td>\n      <td>2021-01-02</td>\n      <td>0</td>\n      <td>1</td>\n      <td>0</td>\n      <td>0</td>\n      <td>0</td>\n      <td>0</td>\n      <td>1</td>\n      <td>1</td>\n      <td>...</td>\n      <td>0</td>\n      <td>0</td>\n      <td>1</td>\n      <td>0</td>\n      <td>1</td>\n      <td>1</td>\n      <td>1</td>\n      <td>v1</td>\n      <td>1.0</td>\n      <td>0.56</td>\n    </tr>\n    <tr>\n      <th>2</th>\n      <td>1009501</td>\n      <td>2021-01-20</td>\n      <td>0</td>\n      <td>1</td>\n      <td>0</td>\n      <td>0</td>\n      <td>0</td>\n      <td>1</td>\n      <td>0</td>\n      <td>1</td>\n      <td>...</td>\n      <td>0</td>\n      <td>0</td>\n      <td>1</td>\n      <td>0</td>\n      <td>1</td>\n      <td>1</td>\n      <td>1</td>\n      <td>v1</td>\n      <td>0.0</td>\n      <td>0.45</td>\n    </tr>\n    <tr>\n      <th>3</th>\n      <td>1010149</td>\n      <td>2021-01-26</td>\n      <td>1</td>\n      <td>0</td>\n      <td>0</td>\n      <td>0</td>\n      <td>0</td>\n      <td>1</td>\n      <td>0</td>\n      <td>1</td>\n      <td>...</td>\n      <td>0</td>\n      <td>0</td>\n      <td>1</td>\n      <td>0</td>\n      <td>1</td>\n      <td>1</td>\n      <td>1</td>\n      <td>v1</td>\n      <td>1.0</td>\n      <td>0.37</td>\n    </tr>\n    <tr>\n      <th>4</th>\n      <td>1008972</td>\n      <td>2021-01-15</td>\n      <td>1</td>\n      <td>0</td>\n      <td>0</td>\n      <td>0</td>\n      <td>0</td>\n      <td>1</td>\n      <td>0</td>\n      <td>0</td>\n      <td>...</td>\n      <td>0</td>\n      <td>0</td>\n      <td>1</td>\n      <td>0</td>\n      <td>1</td>\n      <td>1</td>\n      <td>1</td>\n      <td>v1</td>\n      <td>1.0</td>\n      <td>0.75</td>\n    </tr>\n  </tbody>\n</table>\n<p>5 rows × 66 columns</p>\n</div>"
     },
     "execution_count": 66,
     "metadata": {},
     "output_type": "execute_result"
    }
   ],
   "source": [
    "df_v1.head()"
   ],
   "metadata": {
    "collapsed": false,
    "ExecuteTime": {
     "end_time": "2023-09-21T08:30:25.965913800Z",
     "start_time": "2023-09-21T08:30:25.955478200Z"
    }
   },
   "id": "b9b40915ea06d4f5"
  },
  {
   "cell_type": "code",
   "execution_count": 67,
   "outputs": [
    {
     "data": {
      "text/plain": "accident_id        0\ncreated_at_date    0\ncar_model_1        0\ncar_model_2        0\ncar_model_3        0\n                  ..\nmonth              0\nis_fraud           0\ndataset            0\nnetwork            0\nh3                 0\nLength: 66, dtype: int64"
     },
     "execution_count": 67,
     "metadata": {},
     "output_type": "execute_result"
    }
   ],
   "source": [
    "df_v1.isnull().sum()"
   ],
   "metadata": {
    "collapsed": false,
    "ExecuteTime": {
     "end_time": "2023-09-21T08:30:25.977511300Z",
     "start_time": "2023-09-21T08:30:25.964331800Z"
    }
   },
   "id": "7a8a0489cd5cdabb"
  },
  {
   "cell_type": "code",
   "execution_count": 68,
   "outputs": [],
   "source": [
    "# 필요없는 칼럼 정리, 타겟 칼럼 빼내기\n",
    "features = df_v1.columns.drop(['month', 'is_fraud', 'dataset', 'accident_id', 'created_at_date'])\n",
    "labels = ['is_fraud']"
   ],
   "metadata": {
    "collapsed": false,
    "ExecuteTime": {
     "end_time": "2023-09-21T08:30:26.008822600Z",
     "start_time": "2023-09-21T08:30:25.977511300Z"
    }
   },
   "id": "479f9adc1392bf19"
  },
  {
   "cell_type": "code",
   "execution_count": 69,
   "outputs": [],
   "source": [
    "# 전처리 - 최빈값으로 null 값을 채웁니다. \n",
    "df_v1[features]=df_v1[features].fillna(df_v1.mode().iloc[0])"
   ],
   "metadata": {
    "collapsed": false,
    "ExecuteTime": {
     "end_time": "2023-09-21T08:30:26.047427200Z",
     "start_time": "2023-09-21T08:30:25.985535700Z"
    }
   },
   "id": "de1c272b30cad782"
  },
  {
   "cell_type": "code",
   "execution_count": 70,
   "outputs": [
    {
     "data": {
      "text/plain": "   accident_id created_at_date  car_model_1  car_model_2  car_model_3  \\\n0      1007811      2021-01-03            0            1            0   \n1      1007691      2021-01-02            0            1            0   \n2      1009501      2021-01-20            0            1            0   \n3      1010149      2021-01-26            1            0            0   \n4      1008972      2021-01-15            1            0            0   \n\n   car_model_4  car_model_5  sharing_type_0  sharing_type_1  age_group_1  ...  \\\n0            0            0               1               0            0  ...   \n1            0            0               0               1            1  ...   \n2            0            0               1               0            1  ...   \n3            0            0               1               0            1  ...   \n4            0            0               1               0            0  ...   \n\n   total_acc_history_cnt_of_persons_5  acc_hitory_bool_by_0_null  \\\n0                                   0                          0   \n1                                   0                          0   \n2                                   0                          0   \n3                                   0                          0   \n4                                   0                          0   \n\n   acc_history_bool_by_0_0  acc_history_bool_by_0_1  accumulate_used_count  \\\n0                        1                        0                      2   \n1                        1                        0                      1   \n2                        1                        0                      1   \n3                        1                        0                      1   \n4                        1                        0                      1   \n\n   month  is_fraud  dataset  network    h3  \n0      1         1       v1      0.0  0.63  \n1      1         1       v1      1.0  0.56  \n2      1         1       v1      0.0  0.45  \n3      1         1       v1      1.0  0.37  \n4      1         1       v1      1.0  0.75  \n\n[5 rows x 66 columns]",
      "text/html": "<div>\n<style scoped>\n    .dataframe tbody tr th:only-of-type {\n        vertical-align: middle;\n    }\n\n    .dataframe tbody tr th {\n        vertical-align: top;\n    }\n\n    .dataframe thead th {\n        text-align: right;\n    }\n</style>\n<table border=\"1\" class=\"dataframe\">\n  <thead>\n    <tr style=\"text-align: right;\">\n      <th></th>\n      <th>accident_id</th>\n      <th>created_at_date</th>\n      <th>car_model_1</th>\n      <th>car_model_2</th>\n      <th>car_model_3</th>\n      <th>car_model_4</th>\n      <th>car_model_5</th>\n      <th>sharing_type_0</th>\n      <th>sharing_type_1</th>\n      <th>age_group_1</th>\n      <th>...</th>\n      <th>total_acc_history_cnt_of_persons_5</th>\n      <th>acc_hitory_bool_by_0_null</th>\n      <th>acc_history_bool_by_0_0</th>\n      <th>acc_history_bool_by_0_1</th>\n      <th>accumulate_used_count</th>\n      <th>month</th>\n      <th>is_fraud</th>\n      <th>dataset</th>\n      <th>network</th>\n      <th>h3</th>\n    </tr>\n  </thead>\n  <tbody>\n    <tr>\n      <th>0</th>\n      <td>1007811</td>\n      <td>2021-01-03</td>\n      <td>0</td>\n      <td>1</td>\n      <td>0</td>\n      <td>0</td>\n      <td>0</td>\n      <td>1</td>\n      <td>0</td>\n      <td>0</td>\n      <td>...</td>\n      <td>0</td>\n      <td>0</td>\n      <td>1</td>\n      <td>0</td>\n      <td>2</td>\n      <td>1</td>\n      <td>1</td>\n      <td>v1</td>\n      <td>0.0</td>\n      <td>0.63</td>\n    </tr>\n    <tr>\n      <th>1</th>\n      <td>1007691</td>\n      <td>2021-01-02</td>\n      <td>0</td>\n      <td>1</td>\n      <td>0</td>\n      <td>0</td>\n      <td>0</td>\n      <td>0</td>\n      <td>1</td>\n      <td>1</td>\n      <td>...</td>\n      <td>0</td>\n      <td>0</td>\n      <td>1</td>\n      <td>0</td>\n      <td>1</td>\n      <td>1</td>\n      <td>1</td>\n      <td>v1</td>\n      <td>1.0</td>\n      <td>0.56</td>\n    </tr>\n    <tr>\n      <th>2</th>\n      <td>1009501</td>\n      <td>2021-01-20</td>\n      <td>0</td>\n      <td>1</td>\n      <td>0</td>\n      <td>0</td>\n      <td>0</td>\n      <td>1</td>\n      <td>0</td>\n      <td>1</td>\n      <td>...</td>\n      <td>0</td>\n      <td>0</td>\n      <td>1</td>\n      <td>0</td>\n      <td>1</td>\n      <td>1</td>\n      <td>1</td>\n      <td>v1</td>\n      <td>0.0</td>\n      <td>0.45</td>\n    </tr>\n    <tr>\n      <th>3</th>\n      <td>1010149</td>\n      <td>2021-01-26</td>\n      <td>1</td>\n      <td>0</td>\n      <td>0</td>\n      <td>0</td>\n      <td>0</td>\n      <td>1</td>\n      <td>0</td>\n      <td>1</td>\n      <td>...</td>\n      <td>0</td>\n      <td>0</td>\n      <td>1</td>\n      <td>0</td>\n      <td>1</td>\n      <td>1</td>\n      <td>1</td>\n      <td>v1</td>\n      <td>1.0</td>\n      <td>0.37</td>\n    </tr>\n    <tr>\n      <th>4</th>\n      <td>1008972</td>\n      <td>2021-01-15</td>\n      <td>1</td>\n      <td>0</td>\n      <td>0</td>\n      <td>0</td>\n      <td>0</td>\n      <td>1</td>\n      <td>0</td>\n      <td>0</td>\n      <td>...</td>\n      <td>0</td>\n      <td>0</td>\n      <td>1</td>\n      <td>0</td>\n      <td>1</td>\n      <td>1</td>\n      <td>1</td>\n      <td>v1</td>\n      <td>1.0</td>\n      <td>0.75</td>\n    </tr>\n  </tbody>\n</table>\n<p>5 rows × 66 columns</p>\n</div>"
     },
     "execution_count": 70,
     "metadata": {},
     "output_type": "execute_result"
    }
   ],
   "source": [
    "df_v1.head()"
   ],
   "metadata": {
    "collapsed": false,
    "ExecuteTime": {
     "end_time": "2023-09-21T08:30:26.055377600Z",
     "start_time": "2023-09-21T08:30:26.027014400Z"
    }
   },
   "id": "e3471628ec004111"
  },
  {
   "cell_type": "code",
   "execution_count": 71,
   "outputs": [
    {
     "name": "stdout",
     "output_type": "stream",
     "text": [
      "(4320, 61)\n",
      "(3282, 61)\n"
     ]
    }
   ],
   "source": [
    "# 데이터셋 나누기\n",
    "X_df_v1 = df_v1[features]\n",
    "Y_df_v1 = df_v1[labels]\n",
    "\n",
    "X_df_v4 = df_v4[features]\n",
    "Y_df_v4 = df_v4[labels]\n",
    "\n",
    "# shape 을 확인합니다.\n",
    "print(X_df_v1.shape)\n",
    "print(X_df_v4.shape)"
   ],
   "metadata": {
    "collapsed": false,
    "ExecuteTime": {
     "end_time": "2023-09-21T08:30:26.056118900Z",
     "start_time": "2023-09-21T08:30:26.038240600Z"
    }
   },
   "id": "847ec982fffcf79d"
  },
  {
   "cell_type": "code",
   "execution_count": 72,
   "outputs": [],
   "source": [
    "# 스케일링을 적용합니다.  \n",
    "scaler = MinMaxScaler()\n",
    "\n",
    "X_df_v1_scaled = scaler.fit_transform(X_df_v1)\n",
    "X_df_v4_scaled = scaler.transform(X_df_v4)"
   ],
   "metadata": {
    "collapsed": false,
    "ExecuteTime": {
     "end_time": "2023-09-21T08:32:25.384229600Z",
     "start_time": "2023-09-21T08:32:25.364551200Z"
    }
   },
   "id": "9969dc1f6c538ff7"
  },
  {
   "cell_type": "code",
   "execution_count": 73,
   "outputs": [
    {
     "name": "stdout",
     "output_type": "stream",
     "text": [
      "(3282, 61)\n"
     ]
    }
   ],
   "source": [
    "print(X_df_v4_scaled.shape)"
   ],
   "metadata": {
    "collapsed": false,
    "ExecuteTime": {
     "end_time": "2023-09-21T08:32:31.540550500Z",
     "start_time": "2023-09-21T08:32:31.533049Z"
    }
   },
   "id": "4913a0aa4c5aa520"
  },
  {
   "cell_type": "markdown",
   "source": [
    "* 클러스터 갯수를 1개씩 늘려가면서 중심점(centroid)간의 평균 거리가 더 이상 많이 감소하지 않는 경우의 k를 선택해야합니다. 갯수가 늘 때마다 평균이 급격하게 감소하는데 적절한 k가 발견되면 매우 천천히 감소하게 됩니다. 그래서 적절한 k를 선택하기 위해 elbow curve를 그려보았습니다. elbow method에 의하면 4번 포인트 이후부터는 개선이 안되기 때문에, 이 기준으로 클러스터링 갯수를 정하게 됩니다."
   ],
   "metadata": {
    "collapsed": false
   },
   "id": "2a5fdfa9d8eb5b8b"
  },
  {
   "cell_type": "code",
   "execution_count": 76,
   "outputs": [
    {
     "data": {
      "text/plain": "<Figure size 640x480 with 1 Axes>",
      "image/png": "[encoded data removed]"
     },
     "metadata": {},
     "output_type": "display_data"
    }
   ],
   "source": [
    "# elbow curve 그리기\n",
    "cluster_range = range(1, 12) \n",
    "kmeans = [KMeans(n_clusters=i) for i in cluster_range]\n",
    "score = [kmeans[i].fit(X_df_v1_scaled).score(X_df_v1_scaled) for i in range(len(kmeans))]\n",
    "\n",
    "plt.plot(cluster_range, score)\n",
    "plt.xlabel('')\n",
    "plt.ylabel('Score')\n",
    "plt.title('Elbow Curve')\n",
    "plt.show()"
   ],
   "metadata": {
    "collapsed": false,
    "ExecuteTime": {
     "end_time": "2023-09-21T08:34:20.537529500Z",
     "start_time": "2023-09-21T08:34:19.863466300Z"
    }
   },
   "id": "312804361bfa807e"
  },
  {
   "cell_type": "code",
   "execution_count": 77,
   "outputs": [
    {
     "name": "stdout",
     "output_type": "stream",
     "text": [
      "[ 3.84550085e-01  5.33955857e-01  3.48047538e-02  1.18845501e-02\n",
      "  3.48047538e-02  8.74363328e-01  1.25636672e-01  1.00169779e-01\n",
      "  3.53140917e-01  2.76740238e-01  2.02886248e-01  5.94227504e-02\n",
      "  1.68930390e-01  8.31069610e-01  9.99151104e-01  8.48896435e-04\n",
      "  6.02716469e-01  1.68930390e-01  2.28353141e-01 -2.10942375e-15\n",
      "  1.00000000e+00  9.23599321e-01  7.64006791e-02  7.13073005e-02\n",
      "  1.71477080e-01  6.28183362e-02  2.32597623e-01  2.89473684e-01\n",
      "  1.72325976e-01  2.69100170e-01  2.58064516e-01  3.42954160e-01\n",
      "  1.29881154e-01  2.42861287e-17  0.00000000e+00  1.74872666e-01\n",
      "  2.87775891e-01  1.01867572e-02  6.87606112e-02  1.82512733e-01\n",
      "  2.65704584e-01  0.00000000e+00  4.74533107e-01  4.20203735e-01\n",
      "  5.60271647e-02  4.49915110e-02  3.39558574e-03  8.48896435e-04\n",
      " -2.38524478e-18  1.00000000e+00  1.38777878e-17 -1.21430643e-17\n",
      "  5.42101086e-20  0.00000000e+00  0.00000000e+00 -2.38524478e-18\n",
      "  1.00000000e+00 -9.71445147e-17  7.21561969e-01  1.80531975e-01\n",
      "  4.66258350e-01]\n"
     ]
    }
   ],
   "source": [
    "# v1 데이터에 대해 4개의 클러스터를 생성한 후, v4 데이터에 클러스터를 부여합니다. \n",
    "kmeans = KMeans(n_clusters=4, random_state=42).fit(X_df_v1_scaled)\n",
    "X_df_v4_clusters = kmeans.predict(X_df_v4_scaled)\n",
    "\n",
    "# 생성된 클러스터의 중점을 확인합니다. \n",
    "X_df_v4_clusters_centers = kmeans.cluster_centers_\n",
    "print(X_df_v4_clusters_centers[0]) #첫 번째 클러스터"
   ],
   "metadata": {
    "collapsed": false,
    "ExecuteTime": {
     "end_time": "2023-09-21T08:35:38.224066Z",
     "start_time": "2023-09-21T08:35:38.178366700Z"
    }
   },
   "id": "43c2e62041150628"
  },
  {
   "cell_type": "markdown",
   "source": [
    "*  61컬럼을 모델의 input으로 넣었기 때문에 첫 번째 클러스터의 61차원의 값이 반환됨"
   ],
   "metadata": {
    "collapsed": false
   },
   "id": "c33770a79f754e95"
  },
  {
   "cell_type": "code",
   "execution_count": 78,
   "outputs": [],
   "source": [
    "# v4 데이터 포인트에 할당된 클러스터와 중점까지의 거리를 구합니다. \n",
    "dist = [np.linalg.norm(x-y) for x,y in zip(X_df_v4_scaled, X_df_v4_clusters_centers[X_df_v4_clusters])]\n",
    "\n",
    "# 거리에 기반하여 fraud 여부를 할당합니다. \n",
    "is_fraud_pred = np.array(dist)\n",
    "is_fraud_pred[dist>=np.percentile(dist, 90)] = 1 # 아웃라이더 사기다\n",
    "is_fraud_pred[dist<np.percentile(dist, 90)] = 0"
   ],
   "metadata": {
    "collapsed": false,
    "ExecuteTime": {
     "end_time": "2023-09-21T08:43:26.191976400Z",
     "start_time": "2023-09-21T08:43:26.172818400Z"
    }
   },
   "id": "b3e2002451e4e80a"
  },
  {
   "cell_type": "code",
   "execution_count": 79,
   "outputs": [
    {
     "name": "stdout",
     "output_type": "stream",
     "text": [
      "(3282, 61)\n",
      "(3282,)\n"
     ]
    }
   ],
   "source": [
    "# 예측 결과 확인 \n",
    "print( X_df_v4.shape ) \n",
    "print( is_fraud_pred.shape )"
   ],
   "metadata": {
    "collapsed": false,
    "ExecuteTime": {
     "end_time": "2023-09-21T08:43:45.036271300Z",
     "start_time": "2023-09-21T08:43:45.027148200Z"
    }
   },
   "id": "4bda8df385314c2f"
  },
  {
   "cell_type": "code",
   "execution_count": 80,
   "outputs": [
    {
     "data": {
      "text/plain": "array([0., 0., 0., ..., 0., 0., 0.])"
     },
     "execution_count": 80,
     "metadata": {},
     "output_type": "execute_result"
    }
   ],
   "source": [
    "is_fraud_pred"
   ],
   "metadata": {
    "collapsed": false,
    "ExecuteTime": {
     "end_time": "2023-09-21T08:45:33.846405Z",
     "start_time": "2023-09-21T08:45:33.836860800Z"
    }
   },
   "id": "2a25aa57204ecfae"
  },
  {
   "cell_type": "code",
   "execution_count": 81,
   "outputs": [],
   "source": [
    "y_pred = is_fraud_pred\n",
    "y = Y_df_v4"
   ],
   "metadata": {
    "collapsed": false,
    "ExecuteTime": {
     "end_time": "2023-09-21T08:46:30.010707800Z",
     "start_time": "2023-09-21T08:46:30.000992800Z"
    }
   },
   "id": "15593aae659de3d3"
  },
  {
   "cell_type": "code",
   "execution_count": 82,
   "outputs": [
    {
     "name": "stdout",
     "output_type": "stream",
     "text": [
      "              precision    recall  f1-score   support\n",
      "\n",
      "           0       0.99      0.91      0.95      3203\n",
      "           1       0.11      0.47      0.18        79\n",
      "\n",
      "    accuracy                           0.90      3282\n",
      "   macro avg       0.55      0.69      0.56      3282\n",
      "weighted avg       0.96      0.90      0.93      3282\n",
      "\n",
      "[[2911  292]\n",
      " [  42   37]]\n"
     ]
    }
   ],
   "source": [
    "print(classification_report(y, y_pred))\n",
    "print(confusion_matrix(y, y_pred))\n",
    "\n",
    "# 이상치에 대한 f1-score : 0.18 을 기록하였습니다."
   ],
   "metadata": {
    "collapsed": false,
    "ExecuteTime": {
     "end_time": "2023-09-21T08:47:40.463607900Z",
     "start_time": "2023-09-21T08:47:40.443654200Z"
    }
   },
   "id": "ad88fe7deabd80b3"
  },
  {
   "cell_type": "code",
   "execution_count": 83,
   "outputs": [
    {
     "data": {
      "text/plain": "is_fraud    79\ndtype: int64"
     },
     "execution_count": 83,
     "metadata": {},
     "output_type": "execute_result"
    }
   ],
   "source": [
    "y.sum()"
   ],
   "metadata": {
    "collapsed": false,
    "ExecuteTime": {
     "end_time": "2023-09-21T08:47:55.452864800Z",
     "start_time": "2023-09-21T08:47:55.442360Z"
    }
   },
   "id": "93baa06b127ff80e"
  },
  {
   "cell_type": "code",
   "execution_count": null,
   "outputs": [],
   "source": [],
   "metadata": {
    "collapsed": false
   },
   "id": "64465d0079d5409e"
  }
 ],
 "metadata": {
  "kernelspec": {
   "display_name": "Python 3",
   "language": "python",
   "name": "python3"
  },
  "language_info": {
   "codemirror_mode": {
    "name": "ipython",
    "version": 2
   },
   "file_extension": ".py",
   "mimetype": "text/x-python",
   "name": "python",
   "nbconvert_exporter": "python",
   "pygments_lexer": "ipython2",
   "version": "2.7.6"
  }
 },
 "nbformat": 4,
 "nbformat_minor": 5
}
