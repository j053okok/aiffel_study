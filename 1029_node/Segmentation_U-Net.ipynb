{
 "cells": [
  {
   "cell_type": "code",
   "execution_count": 1,
   "id": "initial_id",
   "metadata": {
    "collapsed": true,
    "ExecuteTime": {
     "end_time": "2023-10-29T19:07:06.973552700Z",
     "start_time": "2023-10-29T19:07:04.052442200Z"
    }
   },
   "outputs": [],
   "source": [
    "import tensorflow.keras.layers as layers\n",
    "import tensorflow as tf"
   ]
  },
  {
   "cell_type": "markdown",
   "source": [
    "#### U-NET 구현"
   ],
   "metadata": {
    "collapsed": false
   },
   "id": "d3766d599bb45ac4"
  },
  {
   "cell_type": "code",
   "execution_count": 2,
   "outputs": [],
   "source": [
    "inputs = layers.Input(shape=(572, 572, 1))\n",
    "\n",
    "# Contracting path 시작\n",
    "# [1]\n",
    "conv0 = layers.Conv2D(64, activation='relu', kernel_size=3)(inputs)\n",
    "conv1 = layers.Conv2D(64, activation='relu', kernel_size=3)(conv0)  # Skip connection으로 Expanding path로 이어질 예정\n",
    "conv2 = layers.MaxPool2D(pool_size=(2, 2), strides=(2, 2))(conv1)\n",
    "\n",
    "\n",
    "# Q.위 이미지를 보고 [2]번 블럭을 구현해 봅시다. (filter 수를 주의하세요!)\n",
    "conv3 = layers.Conv2D(128, activation='relu', kernel_size=3)(conv2)\n",
    "conv4 = layers.Conv2D(128, activation='relu', kernel_size=3)(conv3)\n",
    "conv5 = layers.MaxPool2D(pool_size=(2, 2), strides=(2, 2))(conv4)\n",
    "\n",
    "\n",
    "# Q.위 이미지를 보고 [3]번 블럭을 구현해 봅시다. (filter 수를 주의하세요!)\n",
    "conv6 = layers.Conv2D(256, activation='relu', kernel_size=3)(conv5)\n",
    "conv7 = layers.Conv2D(256, activation='relu', kernel_size=3)(conv6) \n",
    "conv8 = layers.MaxPool2D(pool_size=(2, 2), strides=(2, 2))(conv7)\n",
    "\n",
    "\n",
    "# Q.위 이미지를 보고 [4]번 블럭을 구현해 봅시다. (filter 수를 주의하세요!)\n",
    "conv9 = layers.Conv2D(512, activation='relu', kernel_size=3)(conv8)\n",
    "conv10 = layers.Conv2D(512, activation='relu', kernel_size=3)(conv9)\n",
    "conv11 = layers.MaxPool2D(pool_size=(2, 2), strides=(2, 2))(conv10)\n",
    "\n",
    "\n",
    "# [5]\n",
    "conv12 = layers.Conv2D(1024, activation='relu', kernel_size=3)(conv11)\n",
    "conv13 = layers.Conv2D(1024, activation='relu', kernel_size=3)(conv12)\n",
    "# Contracting path 끝\n",
    "\n",
    "# Expanding path 시작\n",
    "# [6]\n",
    "trans01 = layers.Conv2DTranspose(512, kernel_size=2, strides=(2, 2), activation='relu')(conv13)\n",
    "crop01 = layers.Cropping2D(cropping=(4, 4))(conv10)\n",
    "concat01 = layers.concatenate([trans01, crop01], axis=-1)\n",
    "\n",
    "# [7]\n",
    "conv14 = layers.Conv2D(512, activation='relu', kernel_size=3)(concat01)\n",
    "conv15 = layers.Conv2D(512, activation='relu', kernel_size=3)(conv14)\n",
    "trans02 = layers.Conv2DTranspose(256, kernel_size=2, strides=(2, 2), activation='relu')(conv15)\n",
    "\n",
    "# [8]\n",
    "crop02 = layers.Cropping2D(cropping=(16, 16))(conv7)\n",
    "concat02 = layers.concatenate([trans02, crop02], axis=-1)\n",
    "\n",
    "\n",
    "# Q.위 이미지를 보고 [9]번 블럭을 구현해 봅시다. (filter 수를 주의하세요!)\n",
    "conv16 = layers.Conv2D(256, activation='relu', kernel_size=3)(concat02)\n",
    "conv17 = layers.Conv2D(256, activation='relu', kernel_size=3)(conv16)\n",
    "trans03 = layers.Conv2DTranspose(128, kernel_size=2, strides=(2, 2), activation='relu')(conv17)\n",
    "\n",
    "\n",
    "# Q.위 이미지를 보고 [10]번 블럭을 구현해 봅시다. (cropping=(40, 40))\n",
    "crop03 = layers.Cropping2D(cropping=(40, 40))(conv4)\n",
    "concat03 = layers.concatenate([trans03, crop03], axis=-1)\n",
    "\n",
    "\n",
    "# Q.위 이미지를 보고 [11]번 블럭을 구현해 봅시다. (filter 수를 주의하세요!)\n",
    "conv18 = layers.Conv2D(128, activation='relu', kernel_size=3)(concat03)\n",
    "conv19 = layers.Conv2D(128, activation='relu', kernel_size=3)(conv18)\n",
    "trans04 = layers.Conv2DTranspose(64, kernel_size=2, strides=(2, 2), activation='relu')(conv19)\n",
    "\n",
    "\n",
    "# Q.위 이미지를 보고 [12]번 블럭을 구현해 봅시다. (cropping=(88, 88))\n",
    "crop04 = layers.Cropping2D(cropping=(88, 88))(conv1)\n",
    "concat04 = layers.concatenate([trans04, crop04], axis=-1)\n",
    "\n",
    "\n",
    "# [13]\n",
    "conv20 = layers.Conv2D(64, activation='relu', kernel_size=3)(concat04)\n",
    "conv21 = layers.Conv2D(64, activation='relu', kernel_size=3)(conv20)\n",
    "# Expanding path 끝\n",
    "\n",
    "outputs = layers.Conv2D(2, kernel_size=1)(conv21)\n",
    "\n",
    "model = tf.keras.Model(inputs=inputs, outputs=outputs, name=\"u-netmodel\")"
   ],
   "metadata": {
    "collapsed": false,
    "ExecuteTime": {
     "end_time": "2023-10-29T19:07:07.355564300Z",
     "start_time": "2023-10-29T19:07:06.979553800Z"
    }
   },
   "id": "1a8ad95133433152"
  },
  {
   "cell_type": "code",
   "execution_count": 3,
   "outputs": [
    {
     "name": "stdout",
     "output_type": "stream",
     "text": [
      "Model: \"u-netmodel\"\n",
      "__________________________________________________________________________________________________\n",
      " Layer (type)                Output Shape                 Param #   Connected to                  \n",
      "==================================================================================================\n",
      " input_1 (InputLayer)        [(None, 572, 572, 1)]        0         []                            \n",
      "                                                                                                  \n",
      " conv2d (Conv2D)             (None, 570, 570, 64)         640       ['input_1[0][0]']             \n",
      "                                                                                                  \n",
      " conv2d_1 (Conv2D)           (None, 568, 568, 64)         36928     ['conv2d[0][0]']              \n",
      "                                                                                                  \n",
      " max_pooling2d (MaxPooling2  (None, 284, 284, 64)         0         ['conv2d_1[0][0]']            \n",
      " D)                                                                                               \n",
      "                                                                                                  \n",
      " conv2d_2 (Conv2D)           (None, 282, 282, 128)        73856     ['max_pooling2d[0][0]']       \n",
      "                                                                                                  \n",
      " conv2d_3 (Conv2D)           (None, 280, 280, 128)        147584    ['conv2d_2[0][0]']            \n",
      "                                                                                                  \n",
      " max_pooling2d_1 (MaxPoolin  (None, 140, 140, 128)        0         ['conv2d_3[0][0]']            \n",
      " g2D)                                                                                             \n",
      "                                                                                                  \n",
      " conv2d_4 (Conv2D)           (None, 138, 138, 256)        295168    ['max_pooling2d_1[0][0]']     \n",
      "                                                                                                  \n",
      " conv2d_5 (Conv2D)           (None, 136, 136, 256)        590080    ['conv2d_4[0][0]']            \n",
      "                                                                                                  \n",
      " max_pooling2d_2 (MaxPoolin  (None, 68, 68, 256)          0         ['conv2d_5[0][0]']            \n",
      " g2D)                                                                                             \n",
      "                                                                                                  \n",
      " conv2d_6 (Conv2D)           (None, 66, 66, 512)          1180160   ['max_pooling2d_2[0][0]']     \n",
      "                                                                                                  \n",
      " conv2d_7 (Conv2D)           (None, 64, 64, 512)          2359808   ['conv2d_6[0][0]']            \n",
      "                                                                                                  \n",
      " max_pooling2d_3 (MaxPoolin  (None, 32, 32, 512)          0         ['conv2d_7[0][0]']            \n",
      " g2D)                                                                                             \n",
      "                                                                                                  \n",
      " conv2d_8 (Conv2D)           (None, 30, 30, 1024)         4719616   ['max_pooling2d_3[0][0]']     \n",
      "                                                                                                  \n",
      " conv2d_9 (Conv2D)           (None, 28, 28, 1024)         9438208   ['conv2d_8[0][0]']            \n",
      "                                                                                                  \n",
      " conv2d_transpose (Conv2DTr  (None, 56, 56, 512)          2097664   ['conv2d_9[0][0]']            \n",
      " anspose)                                                                                         \n",
      "                                                                                                  \n",
      " cropping2d (Cropping2D)     (None, 56, 56, 512)          0         ['conv2d_7[0][0]']            \n",
      "                                                                                                  \n",
      " concatenate (Concatenate)   (None, 56, 56, 1024)         0         ['conv2d_transpose[0][0]',    \n",
      "                                                                     'cropping2d[0][0]']          \n",
      "                                                                                                  \n",
      " conv2d_10 (Conv2D)          (None, 54, 54, 512)          4719104   ['concatenate[0][0]']         \n",
      "                                                                                                  \n",
      " conv2d_11 (Conv2D)          (None, 52, 52, 512)          2359808   ['conv2d_10[0][0]']           \n",
      "                                                                                                  \n",
      " conv2d_transpose_1 (Conv2D  (None, 104, 104, 256)        524544    ['conv2d_11[0][0]']           \n",
      " Transpose)                                                                                       \n",
      "                                                                                                  \n",
      " cropping2d_1 (Cropping2D)   (None, 104, 104, 256)        0         ['conv2d_5[0][0]']            \n",
      "                                                                                                  \n",
      " concatenate_1 (Concatenate  (None, 104, 104, 512)        0         ['conv2d_transpose_1[0][0]',  \n",
      " )                                                                   'cropping2d_1[0][0]']        \n",
      "                                                                                                  \n",
      " conv2d_12 (Conv2D)          (None, 102, 102, 256)        1179904   ['concatenate_1[0][0]']       \n",
      "                                                                                                  \n",
      " conv2d_13 (Conv2D)          (None, 100, 100, 256)        590080    ['conv2d_12[0][0]']           \n",
      "                                                                                                  \n",
      " conv2d_transpose_2 (Conv2D  (None, 200, 200, 128)        131200    ['conv2d_13[0][0]']           \n",
      " Transpose)                                                                                       \n",
      "                                                                                                  \n",
      " cropping2d_2 (Cropping2D)   (None, 200, 200, 128)        0         ['conv2d_3[0][0]']            \n",
      "                                                                                                  \n",
      " concatenate_2 (Concatenate  (None, 200, 200, 256)        0         ['conv2d_transpose_2[0][0]',  \n",
      " )                                                                   'cropping2d_2[0][0]']        \n",
      "                                                                                                  \n",
      " conv2d_14 (Conv2D)          (None, 198, 198, 128)        295040    ['concatenate_2[0][0]']       \n",
      "                                                                                                  \n",
      " conv2d_15 (Conv2D)          (None, 196, 196, 128)        147584    ['conv2d_14[0][0]']           \n",
      "                                                                                                  \n",
      " conv2d_transpose_3 (Conv2D  (None, 392, 392, 64)         32832     ['conv2d_15[0][0]']           \n",
      " Transpose)                                                                                       \n",
      "                                                                                                  \n",
      " cropping2d_3 (Cropping2D)   (None, 392, 392, 64)         0         ['conv2d_1[0][0]']            \n",
      "                                                                                                  \n",
      " concatenate_3 (Concatenate  (None, 392, 392, 128)        0         ['conv2d_transpose_3[0][0]',  \n",
      " )                                                                   'cropping2d_3[0][0]']        \n",
      "                                                                                                  \n",
      " conv2d_16 (Conv2D)          (None, 390, 390, 64)         73792     ['concatenate_3[0][0]']       \n",
      "                                                                                                  \n",
      " conv2d_17 (Conv2D)          (None, 388, 388, 64)         36928     ['conv2d_16[0][0]']           \n",
      "                                                                                                  \n",
      " conv2d_18 (Conv2D)          (None, 388, 388, 2)          130       ['conv2d_17[0][0]']           \n",
      "                                                                                                  \n",
      "==================================================================================================\n",
      "Total params: 31030658 (118.37 MB)\n",
      "Trainable params: 31030658 (118.37 MB)\n",
      "Non-trainable params: 0 (0.00 Byte)\n",
      "__________________________________________________________________________________________________\n"
     ]
    }
   ],
   "source": [
    "model.summary()"
   ],
   "metadata": {
    "collapsed": false,
    "ExecuteTime": {
     "end_time": "2023-10-29T19:07:07.414385100Z",
     "start_time": "2023-10-29T19:07:07.355564300Z"
    }
   },
   "id": "cf28427a5bb27a56"
  },
  {
   "cell_type": "code",
   "execution_count": 4,
   "outputs": [
    {
     "data": {
      "text/plain": "<IPython.core.display.SVG object>",
      "image/svg+xml": "<svg xmlns=\"http://www.w3.org/2000/svg\" xmlns:xlink=\"http://www.w3.org/1999/xlink\" width=\"794pt\" height=\"1858pt\" viewBox=\"0.00 0.00 1144.00 2676.00\">\n<g id=\"graph0\" class=\"graph\" transform=\"scale(0.694444 0.694444) rotate(0) translate(4 2672)\">\n<title>G</title>\n<polygon fill=\"white\" stroke=\"none\" points=\"-4,4 -4,-2672 1140,-2672 1140,4 -4,4\"/>\n<!-- 2826676527632 -->\n<g id=\"node1\" class=\"node\">\n<title>2826676527632</title>\n<polygon fill=\"none\" stroke=\"black\" points=\"716.62,-2620 716.62,-2667.5 982.12,-2667.5 982.12,-2620 716.62,-2620\"/>\n<text text-anchor=\"middle\" x=\"755\" y=\"-2650.2\" font-family=\"Times New Roman,serif\" font-size=\"14.00\">input_1</text>\n<polyline fill=\"none\" stroke=\"black\" points=\"716.62,-2643.75 793.38,-2643.75\"/>\n<text text-anchor=\"middle\" x=\"755\" y=\"-2626.45\" font-family=\"Times New Roman,serif\" font-size=\"14.00\">InputLayer</text>\n<polyline fill=\"none\" stroke=\"black\" points=\"793.38,-2620 793.38,-2667.5\"/>\n<text text-anchor=\"middle\" x=\"820.88\" y=\"-2650.2\" font-family=\"Times New Roman,serif\" font-size=\"14.00\">input:</text>\n<polyline fill=\"none\" stroke=\"black\" points=\"793.38,-2643.75 848.38,-2643.75\"/>\n<text text-anchor=\"middle\" x=\"820.88\" y=\"-2626.45\" font-family=\"Times New Roman,serif\" font-size=\"14.00\">output:</text>\n<polyline fill=\"none\" stroke=\"black\" points=\"848.38,-2620 848.38,-2667.5\"/>\n<text text-anchor=\"middle\" x=\"915.25\" y=\"-2650.2\" font-family=\"Times New Roman,serif\" font-size=\"14.00\">[(None, 572, 572, 1)]</text>\n<polyline fill=\"none\" stroke=\"black\" points=\"848.38,-2643.75 982.12,-2643.75\"/>\n<text text-anchor=\"middle\" x=\"915.25\" y=\"-2626.45\" font-family=\"Times New Roman,serif\" font-size=\"14.00\">[(None, 572, 572, 1)]</text>\n</g>\n<!-- 2826710465040 -->\n<g id=\"node2\" class=\"node\">\n<title>2826710465040</title>\n<polygon fill=\"none\" stroke=\"black\" points=\"724.5,-2535.5 724.5,-2583 974.25,-2583 974.25,-2535.5 724.5,-2535.5\"/>\n<text text-anchor=\"middle\" x=\"756.12\" y=\"-2565.7\" font-family=\"Times New Roman,serif\" font-size=\"14.00\">conv2d</text>\n<polyline fill=\"none\" stroke=\"black\" points=\"724.5,-2559.25 787.75,-2559.25\"/>\n<text text-anchor=\"middle\" x=\"756.12\" y=\"-2541.95\" font-family=\"Times New Roman,serif\" font-size=\"14.00\">Conv2D</text>\n<polyline fill=\"none\" stroke=\"black\" points=\"787.75,-2535.5 787.75,-2583\"/>\n<text text-anchor=\"middle\" x=\"815.25\" y=\"-2565.7\" font-family=\"Times New Roman,serif\" font-size=\"14.00\">input:</text>\n<polyline fill=\"none\" stroke=\"black\" points=\"787.75,-2559.25 842.75,-2559.25\"/>\n<text text-anchor=\"middle\" x=\"815.25\" y=\"-2541.95\" font-family=\"Times New Roman,serif\" font-size=\"14.00\">output:</text>\n<polyline fill=\"none\" stroke=\"black\" points=\"842.75,-2535.5 842.75,-2583\"/>\n<text text-anchor=\"middle\" x=\"908.12\" y=\"-2565.7\" font-family=\"Times New Roman,serif\" font-size=\"14.00\">(None, 572, 572, 1)</text>\n<polyline fill=\"none\" stroke=\"black\" points=\"842.75,-2559.25 974.25,-2559.25\"/>\n<text text-anchor=\"middle\" x=\"908.5\" y=\"-2541.95\" font-family=\"Times New Roman,serif\" font-size=\"14.00\">(None, 570, 570, 64)</text>\n</g>\n<!-- 2826676527632&#45;&gt;2826710465040 -->\n<g id=\"edge1\" class=\"edge\">\n<title>2826676527632-&gt;2826710465040</title>\n<path fill=\"none\" stroke=\"black\" d=\"M849.38,-2619.77C849.38,-2612.06 849.38,-2603.28 849.38,-2594.87\"/>\n<polygon fill=\"black\" stroke=\"black\" points=\"852.88,-2594.91 849.38,-2584.91 845.88,-2594.91 852.88,-2594.91\"/>\n</g>\n<!-- 2826672749392 -->\n<g id=\"node3\" class=\"node\">\n<title>2826672749392</title>\n<polygon fill=\"none\" stroke=\"black\" points=\"720,-2451 720,-2498.5 978.75,-2498.5 978.75,-2451 720,-2451\"/>\n<text text-anchor=\"middle\" x=\"756.12\" y=\"-2481.2\" font-family=\"Times New Roman,serif\" font-size=\"14.00\">conv2d_1</text>\n<polyline fill=\"none\" stroke=\"black\" points=\"720,-2474.75 792.25,-2474.75\"/>\n<text text-anchor=\"middle\" x=\"756.12\" y=\"-2457.45\" font-family=\"Times New Roman,serif\" font-size=\"14.00\">Conv2D</text>\n<polyline fill=\"none\" stroke=\"black\" points=\"792.25,-2451 792.25,-2498.5\"/>\n<text text-anchor=\"middle\" x=\"819.75\" y=\"-2481.2\" font-family=\"Times New Roman,serif\" font-size=\"14.00\">input:</text>\n<polyline fill=\"none\" stroke=\"black\" points=\"792.25,-2474.75 847.25,-2474.75\"/>\n<text text-anchor=\"middle\" x=\"819.75\" y=\"-2457.45\" font-family=\"Times New Roman,serif\" font-size=\"14.00\">output:</text>\n<polyline fill=\"none\" stroke=\"black\" points=\"847.25,-2451 847.25,-2498.5\"/>\n<text text-anchor=\"middle\" x=\"913\" y=\"-2481.2\" font-family=\"Times New Roman,serif\" font-size=\"14.00\">(None, 570, 570, 64)</text>\n<polyline fill=\"none\" stroke=\"black\" points=\"847.25,-2474.75 978.75,-2474.75\"/>\n<text text-anchor=\"middle\" x=\"913\" y=\"-2457.45\" font-family=\"Times New Roman,serif\" font-size=\"14.00\">(None, 568, 568, 64)</text>\n</g>\n<!-- 2826710465040&#45;&gt;2826672749392 -->\n<g id=\"edge2\" class=\"edge\">\n<title>2826710465040-&gt;2826672749392</title>\n<path fill=\"none\" stroke=\"black\" d=\"M849.38,-2535.27C849.38,-2527.56 849.38,-2518.78 849.38,-2510.37\"/>\n<polygon fill=\"black\" stroke=\"black\" points=\"852.88,-2510.41 849.38,-2500.41 845.88,-2510.41 852.88,-2510.41\"/>\n</g>\n<!-- 2826675287568 -->\n<g id=\"node4\" class=\"node\">\n<title>2826675287568</title>\n<polygon fill=\"none\" stroke=\"black\" points=\"618.62,-2366.5 618.62,-2414 908.12,-2414 908.12,-2366.5 618.62,-2366.5\"/>\n<text text-anchor=\"middle\" x=\"670.12\" y=\"-2396.7\" font-family=\"Times New Roman,serif\" font-size=\"14.00\">max_pooling2d</text>\n<polyline fill=\"none\" stroke=\"black\" points=\"618.62,-2390.25 721.62,-2390.25\"/>\n<text text-anchor=\"middle\" x=\"670.12\" y=\"-2372.95\" font-family=\"Times New Roman,serif\" font-size=\"14.00\">MaxPooling2D</text>\n<polyline fill=\"none\" stroke=\"black\" points=\"721.62,-2366.5 721.62,-2414\"/>\n<text text-anchor=\"middle\" x=\"749.12\" y=\"-2396.7\" font-family=\"Times New Roman,serif\" font-size=\"14.00\">input:</text>\n<polyline fill=\"none\" stroke=\"black\" points=\"721.62,-2390.25 776.62,-2390.25\"/>\n<text text-anchor=\"middle\" x=\"749.12\" y=\"-2372.95\" font-family=\"Times New Roman,serif\" font-size=\"14.00\">output:</text>\n<polyline fill=\"none\" stroke=\"black\" points=\"776.62,-2366.5 776.62,-2414\"/>\n<text text-anchor=\"middle\" x=\"842.38\" y=\"-2396.7\" font-family=\"Times New Roman,serif\" font-size=\"14.00\">(None, 568, 568, 64)</text>\n<polyline fill=\"none\" stroke=\"black\" points=\"776.62,-2390.25 908.12,-2390.25\"/>\n<text text-anchor=\"middle\" x=\"842.38\" y=\"-2372.95\" font-family=\"Times New Roman,serif\" font-size=\"14.00\">(None, 284, 284, 64)</text>\n</g>\n<!-- 2826672749392&#45;&gt;2826675287568 -->\n<g id=\"edge3\" class=\"edge\">\n<title>2826672749392-&gt;2826675287568</title>\n<path fill=\"none\" stroke=\"black\" d=\"M825.42,-2450.77C816.18,-2441.9 805.47,-2431.63 795.57,-2422.14\"/>\n<polygon fill=\"black\" stroke=\"black\" points=\"798.23,-2419.84 788.59,-2415.44 793.39,-2424.89 798.23,-2419.84\"/>\n</g>\n<!-- 2826710843152 -->\n<g id=\"node32\" class=\"node\">\n<title>2826710843152</title>\n<polygon fill=\"none\" stroke=\"black\" points=\"854.75,-2282 854.75,-2329.5 1136,-2329.5 1136,-2282 854.75,-2282\"/>\n<text text-anchor=\"middle\" x=\"902.12\" y=\"-2312.2\" font-family=\"Times New Roman,serif\" font-size=\"14.00\">cropping2d_3</text>\n<polyline fill=\"none\" stroke=\"black\" points=\"854.75,-2305.75 949.5,-2305.75\"/>\n<text text-anchor=\"middle\" x=\"902.12\" y=\"-2288.45\" font-family=\"Times New Roman,serif\" font-size=\"14.00\">Cropping2D</text>\n<polyline fill=\"none\" stroke=\"black\" points=\"949.5,-2282 949.5,-2329.5\"/>\n<text text-anchor=\"middle\" x=\"977\" y=\"-2312.2\" font-family=\"Times New Roman,serif\" font-size=\"14.00\">input:</text>\n<polyline fill=\"none\" stroke=\"black\" points=\"949.5,-2305.75 1004.5,-2305.75\"/>\n<text text-anchor=\"middle\" x=\"977\" y=\"-2288.45\" font-family=\"Times New Roman,serif\" font-size=\"14.00\">output:</text>\n<polyline fill=\"none\" stroke=\"black\" points=\"1004.5,-2282 1004.5,-2329.5\"/>\n<text text-anchor=\"middle\" x=\"1070.25\" y=\"-2312.2\" font-family=\"Times New Roman,serif\" font-size=\"14.00\">(None, 568, 568, 64)</text>\n<polyline fill=\"none\" stroke=\"black\" points=\"1004.5,-2305.75 1136,-2305.75\"/>\n<text text-anchor=\"middle\" x=\"1070.25\" y=\"-2288.45\" font-family=\"Times New Roman,serif\" font-size=\"14.00\">(None, 392, 392, 64)</text>\n</g>\n<!-- 2826672749392&#45;&gt;2826710843152 -->\n<g id=\"edge34\" class=\"edge\">\n<title>2826672749392-&gt;2826710843152</title>\n<path fill=\"none\" stroke=\"black\" d=\"M878.83,-2450.61C891.31,-2440.17 905.65,-2427.33 917.38,-2414.5 938.95,-2390.89 960.01,-2361.28 974.8,-2339.09\"/>\n<polygon fill=\"black\" stroke=\"black\" points=\"977.53,-2341.3 980.1,-2331.02 971.68,-2337.46 977.53,-2341.3\"/>\n</g>\n<!-- 2826711575056 -->\n<g id=\"node5\" class=\"node\">\n<title>2826711575056</title>\n<polygon fill=\"none\" stroke=\"black\" points=\"571.62,-2282 571.62,-2329.5 837.12,-2329.5 837.12,-2282 571.62,-2282\"/>\n<text text-anchor=\"middle\" x=\"607.75\" y=\"-2312.2\" font-family=\"Times New Roman,serif\" font-size=\"14.00\">conv2d_2</text>\n<polyline fill=\"none\" stroke=\"black\" points=\"571.62,-2305.75 643.88,-2305.75\"/>\n<text text-anchor=\"middle\" x=\"607.75\" y=\"-2288.45\" font-family=\"Times New Roman,serif\" font-size=\"14.00\">Conv2D</text>\n<polyline fill=\"none\" stroke=\"black\" points=\"643.88,-2282 643.88,-2329.5\"/>\n<text text-anchor=\"middle\" x=\"671.38\" y=\"-2312.2\" font-family=\"Times New Roman,serif\" font-size=\"14.00\">input:</text>\n<polyline fill=\"none\" stroke=\"black\" points=\"643.88,-2305.75 698.88,-2305.75\"/>\n<text text-anchor=\"middle\" x=\"671.38\" y=\"-2288.45\" font-family=\"Times New Roman,serif\" font-size=\"14.00\">output:</text>\n<polyline fill=\"none\" stroke=\"black\" points=\"698.88,-2282 698.88,-2329.5\"/>\n<text text-anchor=\"middle\" x=\"767.62\" y=\"-2312.2\" font-family=\"Times New Roman,serif\" font-size=\"14.00\">(None, 284, 284, 64)</text>\n<polyline fill=\"none\" stroke=\"black\" points=\"698.88,-2305.75 837.12,-2305.75\"/>\n<text text-anchor=\"middle\" x=\"768\" y=\"-2288.45\" font-family=\"Times New Roman,serif\" font-size=\"14.00\">(None, 282, 282, 128)</text>\n</g>\n<!-- 2826675287568&#45;&gt;2826711575056 -->\n<g id=\"edge4\" class=\"edge\">\n<title>2826675287568-&gt;2826711575056</title>\n<path fill=\"none\" stroke=\"black\" d=\"M746.94,-2366.27C740.92,-2357.85 733.98,-2348.15 727.49,-2339.06\"/>\n<polygon fill=\"black\" stroke=\"black\" points=\"730.47,-2337.22 721.81,-2331.12 724.78,-2341.29 730.47,-2337.22\"/>\n</g>\n<!-- 2826711579280 -->\n<g id=\"node6\" class=\"node\">\n<title>2826711579280</title>\n<polygon fill=\"none\" stroke=\"black\" points=\"571.62,-2197.5 571.62,-2245 837.12,-2245 837.12,-2197.5 571.62,-2197.5\"/>\n<text text-anchor=\"middle\" x=\"607.75\" y=\"-2227.7\" font-family=\"Times New Roman,serif\" font-size=\"14.00\">conv2d_3</text>\n<polyline fill=\"none\" stroke=\"black\" points=\"571.62,-2221.25 643.88,-2221.25\"/>\n<text text-anchor=\"middle\" x=\"607.75\" y=\"-2203.95\" font-family=\"Times New Roman,serif\" font-size=\"14.00\">Conv2D</text>\n<polyline fill=\"none\" stroke=\"black\" points=\"643.88,-2197.5 643.88,-2245\"/>\n<text text-anchor=\"middle\" x=\"671.38\" y=\"-2227.7\" font-family=\"Times New Roman,serif\" font-size=\"14.00\">input:</text>\n<polyline fill=\"none\" stroke=\"black\" points=\"643.88,-2221.25 698.88,-2221.25\"/>\n<text text-anchor=\"middle\" x=\"671.38\" y=\"-2203.95\" font-family=\"Times New Roman,serif\" font-size=\"14.00\">output:</text>\n<polyline fill=\"none\" stroke=\"black\" points=\"698.88,-2197.5 698.88,-2245\"/>\n<text text-anchor=\"middle\" x=\"768\" y=\"-2227.7\" font-family=\"Times New Roman,serif\" font-size=\"14.00\">(None, 282, 282, 128)</text>\n<polyline fill=\"none\" stroke=\"black\" points=\"698.88,-2221.25 837.12,-2221.25\"/>\n<text text-anchor=\"middle\" x=\"768\" y=\"-2203.95\" font-family=\"Times New Roman,serif\" font-size=\"14.00\">(None, 280, 280, 128)</text>\n</g>\n<!-- 2826711575056&#45;&gt;2826711579280 -->\n<g id=\"edge5\" class=\"edge\">\n<title>2826711575056-&gt;2826711579280</title>\n<path fill=\"none\" stroke=\"black\" d=\"M704.38,-2281.77C704.38,-2274.06 704.38,-2265.28 704.38,-2256.87\"/>\n<polygon fill=\"black\" stroke=\"black\" points=\"707.88,-2256.91 704.38,-2246.91 700.88,-2256.91 707.88,-2256.91\"/>\n</g>\n<!-- 2827648331472 -->\n<g id=\"node7\" class=\"node\">\n<title>2827648331472</title>\n<polygon fill=\"none\" stroke=\"black\" points=\"370.12,-2113 370.12,-2160.5 680.62,-2160.5 680.62,-2113 370.12,-2113\"/>\n<text text-anchor=\"middle\" x=\"428.75\" y=\"-2143.2\" font-family=\"Times New Roman,serif\" font-size=\"14.00\">max_pooling2d_1</text>\n<polyline fill=\"none\" stroke=\"black\" points=\"370.12,-2136.75 487.38,-2136.75\"/>\n<text text-anchor=\"middle\" x=\"428.75\" y=\"-2119.45\" font-family=\"Times New Roman,serif\" font-size=\"14.00\">MaxPooling2D</text>\n<polyline fill=\"none\" stroke=\"black\" points=\"487.38,-2113 487.38,-2160.5\"/>\n<text text-anchor=\"middle\" x=\"514.88\" y=\"-2143.2\" font-family=\"Times New Roman,serif\" font-size=\"14.00\">input:</text>\n<polyline fill=\"none\" stroke=\"black\" points=\"487.38,-2136.75 542.38,-2136.75\"/>\n<text text-anchor=\"middle\" x=\"514.88\" y=\"-2119.45\" font-family=\"Times New Roman,serif\" font-size=\"14.00\">output:</text>\n<polyline fill=\"none\" stroke=\"black\" points=\"542.38,-2113 542.38,-2160.5\"/>\n<text text-anchor=\"middle\" x=\"611.5\" y=\"-2143.2\" font-family=\"Times New Roman,serif\" font-size=\"14.00\">(None, 280, 280, 128)</text>\n<polyline fill=\"none\" stroke=\"black\" points=\"542.38,-2136.75 680.62,-2136.75\"/>\n<text text-anchor=\"middle\" x=\"611.5\" y=\"-2119.45\" font-family=\"Times New Roman,serif\" font-size=\"14.00\">(None, 140, 140, 128)</text>\n</g>\n<!-- 2826711579280&#45;&gt;2827648331472 -->\n<g id=\"edge6\" class=\"edge\">\n<title>2826711579280-&gt;2827648331472</title>\n<path fill=\"none\" stroke=\"black\" d=\"M654.04,-2197.05C632.88,-2187.3 608.09,-2175.87 585.94,-2165.66\"/>\n<polygon fill=\"black\" stroke=\"black\" points=\"587.57,-2162.56 577.02,-2161.55 584.64,-2168.92 587.57,-2162.56\"/>\n</g>\n<!-- 2826711395152 -->\n<g id=\"node27\" class=\"node\">\n<title>2826711395152</title>\n<polygon fill=\"none\" stroke=\"black\" points=\"648.38,-2028.5 648.38,-2076 936.38,-2076 936.38,-2028.5 648.38,-2028.5\"/>\n<text text-anchor=\"middle\" x=\"695.75\" y=\"-2058.7\" font-family=\"Times New Roman,serif\" font-size=\"14.00\">cropping2d_2</text>\n<polyline fill=\"none\" stroke=\"black\" points=\"648.38,-2052.25 743.12,-2052.25\"/>\n<text text-anchor=\"middle\" x=\"695.75\" y=\"-2034.95\" font-family=\"Times New Roman,serif\" font-size=\"14.00\">Cropping2D</text>\n<polyline fill=\"none\" stroke=\"black\" points=\"743.12,-2028.5 743.12,-2076\"/>\n<text text-anchor=\"middle\" x=\"770.62\" y=\"-2058.7\" font-family=\"Times New Roman,serif\" font-size=\"14.00\">input:</text>\n<polyline fill=\"none\" stroke=\"black\" points=\"743.12,-2052.25 798.12,-2052.25\"/>\n<text text-anchor=\"middle\" x=\"770.62\" y=\"-2034.95\" font-family=\"Times New Roman,serif\" font-size=\"14.00\">output:</text>\n<polyline fill=\"none\" stroke=\"black\" points=\"798.12,-2028.5 798.12,-2076\"/>\n<text text-anchor=\"middle\" x=\"867.25\" y=\"-2058.7\" font-family=\"Times New Roman,serif\" font-size=\"14.00\">(None, 280, 280, 128)</text>\n<polyline fill=\"none\" stroke=\"black\" points=\"798.12,-2052.25 936.38,-2052.25\"/>\n<text text-anchor=\"middle\" x=\"867.25\" y=\"-2034.95\" font-family=\"Times New Roman,serif\" font-size=\"14.00\">(None, 200, 200, 128)</text>\n</g>\n<!-- 2826711579280&#45;&gt;2826711395152 -->\n<g id=\"edge28\" class=\"edge\">\n<title>2826711579280-&gt;2826711395152</title>\n<path fill=\"none\" stroke=\"black\" d=\"M716.61,-2197.03C731.78,-2168.24 757.74,-2118.98 774.98,-2086.27\"/>\n<polygon fill=\"black\" stroke=\"black\" points=\"777.97,-2088.09 779.54,-2077.61 771.78,-2084.83 777.97,-2088.09\"/>\n</g>\n<!-- 2826711722704 -->\n<g id=\"node8\" class=\"node\">\n<title>2826711722704</title>\n<polygon fill=\"none\" stroke=\"black\" points=\"364.62,-2028.5 364.62,-2076 630.12,-2076 630.12,-2028.5 364.62,-2028.5\"/>\n<text text-anchor=\"middle\" x=\"400.75\" y=\"-2058.7\" font-family=\"Times New Roman,serif\" font-size=\"14.00\">conv2d_4</text>\n<polyline fill=\"none\" stroke=\"black\" points=\"364.62,-2052.25 436.88,-2052.25\"/>\n<text text-anchor=\"middle\" x=\"400.75\" y=\"-2034.95\" font-family=\"Times New Roman,serif\" font-size=\"14.00\">Conv2D</text>\n<polyline fill=\"none\" stroke=\"black\" points=\"436.88,-2028.5 436.88,-2076\"/>\n<text text-anchor=\"middle\" x=\"464.38\" y=\"-2058.7\" font-family=\"Times New Roman,serif\" font-size=\"14.00\">input:</text>\n<polyline fill=\"none\" stroke=\"black\" points=\"436.88,-2052.25 491.88,-2052.25\"/>\n<text text-anchor=\"middle\" x=\"464.38\" y=\"-2034.95\" font-family=\"Times New Roman,serif\" font-size=\"14.00\">output:</text>\n<polyline fill=\"none\" stroke=\"black\" points=\"491.88,-2028.5 491.88,-2076\"/>\n<text text-anchor=\"middle\" x=\"561\" y=\"-2058.7\" font-family=\"Times New Roman,serif\" font-size=\"14.00\">(None, 140, 140, 128)</text>\n<polyline fill=\"none\" stroke=\"black\" points=\"491.88,-2052.25 630.12,-2052.25\"/>\n<text text-anchor=\"middle\" x=\"561\" y=\"-2034.95\" font-family=\"Times New Roman,serif\" font-size=\"14.00\">(None, 138, 138, 256)</text>\n</g>\n<!-- 2827648331472&#45;&gt;2826711722704 -->\n<g id=\"edge7\" class=\"edge\">\n<title>2827648331472-&gt;2826711722704</title>\n<path fill=\"none\" stroke=\"black\" d=\"M517.58,-2112.77C514.9,-2104.88 511.84,-2095.87 508.93,-2087.29\"/>\n<polygon fill=\"black\" stroke=\"black\" points=\"512.24,-2086.17 505.72,-2077.83 505.62,-2088.42 512.24,-2086.17\"/>\n</g>\n<!-- 2826711580624 -->\n<g id=\"node9\" class=\"node\">\n<title>2826711580624</title>\n<polygon fill=\"none\" stroke=\"black\" points=\"364.62,-1944 364.62,-1991.5 630.12,-1991.5 630.12,-1944 364.62,-1944\"/>\n<text text-anchor=\"middle\" x=\"400.75\" y=\"-1974.2\" font-family=\"Times New Roman,serif\" font-size=\"14.00\">conv2d_5</text>\n<polyline fill=\"none\" stroke=\"black\" points=\"364.62,-1967.75 436.88,-1967.75\"/>\n<text text-anchor=\"middle\" x=\"400.75\" y=\"-1950.45\" font-family=\"Times New Roman,serif\" font-size=\"14.00\">Conv2D</text>\n<polyline fill=\"none\" stroke=\"black\" points=\"436.88,-1944 436.88,-1991.5\"/>\n<text text-anchor=\"middle\" x=\"464.38\" y=\"-1974.2\" font-family=\"Times New Roman,serif\" font-size=\"14.00\">input:</text>\n<polyline fill=\"none\" stroke=\"black\" points=\"436.88,-1967.75 491.88,-1967.75\"/>\n<text text-anchor=\"middle\" x=\"464.38\" y=\"-1950.45\" font-family=\"Times New Roman,serif\" font-size=\"14.00\">output:</text>\n<polyline fill=\"none\" stroke=\"black\" points=\"491.88,-1944 491.88,-1991.5\"/>\n<text text-anchor=\"middle\" x=\"561\" y=\"-1974.2\" font-family=\"Times New Roman,serif\" font-size=\"14.00\">(None, 138, 138, 256)</text>\n<polyline fill=\"none\" stroke=\"black\" points=\"491.88,-1967.75 630.12,-1967.75\"/>\n<text text-anchor=\"middle\" x=\"561\" y=\"-1950.45\" font-family=\"Times New Roman,serif\" font-size=\"14.00\">(None, 136, 136, 256)</text>\n</g>\n<!-- 2826711722704&#45;&gt;2826711580624 -->\n<g id=\"edge8\" class=\"edge\">\n<title>2826711722704-&gt;2826711580624</title>\n<path fill=\"none\" stroke=\"black\" d=\"M497.38,-2028.27C497.38,-2020.56 497.38,-2011.78 497.38,-2003.37\"/>\n<polygon fill=\"black\" stroke=\"black\" points=\"500.88,-2003.41 497.38,-1993.41 493.88,-2003.41 500.88,-2003.41\"/>\n</g>\n<!-- 2826711727120 -->\n<g id=\"node10\" class=\"node\">\n<title>2826711727120</title>\n<polygon fill=\"none\" stroke=\"black\" points=\"169.12,-1859.5 169.12,-1907 479.62,-1907 479.62,-1859.5 169.12,-1859.5\"/>\n<text text-anchor=\"middle\" x=\"227.75\" y=\"-1889.7\" font-family=\"Times New Roman,serif\" font-size=\"14.00\">max_pooling2d_2</text>\n<polyline fill=\"none\" stroke=\"black\" points=\"169.12,-1883.25 286.38,-1883.25\"/>\n<text text-anchor=\"middle\" x=\"227.75\" y=\"-1865.95\" font-family=\"Times New Roman,serif\" font-size=\"14.00\">MaxPooling2D</text>\n<polyline fill=\"none\" stroke=\"black\" points=\"286.38,-1859.5 286.38,-1907\"/>\n<text text-anchor=\"middle\" x=\"313.88\" y=\"-1889.7\" font-family=\"Times New Roman,serif\" font-size=\"14.00\">input:</text>\n<polyline fill=\"none\" stroke=\"black\" points=\"286.38,-1883.25 341.38,-1883.25\"/>\n<text text-anchor=\"middle\" x=\"313.88\" y=\"-1865.95\" font-family=\"Times New Roman,serif\" font-size=\"14.00\">output:</text>\n<polyline fill=\"none\" stroke=\"black\" points=\"341.38,-1859.5 341.38,-1907\"/>\n<text text-anchor=\"middle\" x=\"410.5\" y=\"-1889.7\" font-family=\"Times New Roman,serif\" font-size=\"14.00\">(None, 136, 136, 256)</text>\n<polyline fill=\"none\" stroke=\"black\" points=\"341.38,-1883.25 479.62,-1883.25\"/>\n<text text-anchor=\"middle\" x=\"410.25\" y=\"-1865.95\" font-family=\"Times New Roman,serif\" font-size=\"14.00\">(None, 68, 68, 256)</text>\n</g>\n<!-- 2826711580624&#45;&gt;2826711727120 -->\n<g id=\"edge9\" class=\"edge\">\n<title>2826711580624-&gt;2826711727120</title>\n<path fill=\"none\" stroke=\"black\" d=\"M448.72,-1943.55C428.37,-1933.84 404.53,-1922.47 383.2,-1912.3\"/>\n<polygon fill=\"black\" stroke=\"black\" points=\"384.86,-1909.22 374.33,-1908.07 381.85,-1915.53 384.86,-1909.22\"/>\n</g>\n<!-- 2826711256976 -->\n<g id=\"node22\" class=\"node\">\n<title>2826711256976</title>\n<polygon fill=\"none\" stroke=\"black\" points=\"441.38,-1775 441.38,-1822.5 729.38,-1822.5 729.38,-1775 441.38,-1775\"/>\n<text text-anchor=\"middle\" x=\"488.75\" y=\"-1805.2\" font-family=\"Times New Roman,serif\" font-size=\"14.00\">cropping2d_1</text>\n<polyline fill=\"none\" stroke=\"black\" points=\"441.38,-1798.75 536.12,-1798.75\"/>\n<text text-anchor=\"middle\" x=\"488.75\" y=\"-1781.45\" font-family=\"Times New Roman,serif\" font-size=\"14.00\">Cropping2D</text>\n<polyline fill=\"none\" stroke=\"black\" points=\"536.12,-1775 536.12,-1822.5\"/>\n<text text-anchor=\"middle\" x=\"563.62\" y=\"-1805.2\" font-family=\"Times New Roman,serif\" font-size=\"14.00\">input:</text>\n<polyline fill=\"none\" stroke=\"black\" points=\"536.12,-1798.75 591.12,-1798.75\"/>\n<text text-anchor=\"middle\" x=\"563.62\" y=\"-1781.45\" font-family=\"Times New Roman,serif\" font-size=\"14.00\">output:</text>\n<polyline fill=\"none\" stroke=\"black\" points=\"591.12,-1775 591.12,-1822.5\"/>\n<text text-anchor=\"middle\" x=\"660.25\" y=\"-1805.2\" font-family=\"Times New Roman,serif\" font-size=\"14.00\">(None, 136, 136, 256)</text>\n<polyline fill=\"none\" stroke=\"black\" points=\"591.12,-1798.75 729.38,-1798.75\"/>\n<text text-anchor=\"middle\" x=\"660.25\" y=\"-1781.45\" font-family=\"Times New Roman,serif\" font-size=\"14.00\">(None, 104, 104, 256)</text>\n</g>\n<!-- 2826711580624&#45;&gt;2826711256976 -->\n<g id=\"edge22\" class=\"edge\">\n<title>2826711580624-&gt;2826711256976</title>\n<path fill=\"none\" stroke=\"black\" d=\"M509.61,-1943.53C524.78,-1914.74 550.74,-1865.48 567.98,-1832.77\"/>\n<polygon fill=\"black\" stroke=\"black\" points=\"570.97,-1834.59 572.54,-1824.11 564.78,-1831.33 570.97,-1834.59\"/>\n</g>\n<!-- 2826709734992 -->\n<g id=\"node11\" class=\"node\">\n<title>2826709734992</title>\n<polygon fill=\"none\" stroke=\"black\" points=\"171.38,-1775 171.38,-1822.5 423.38,-1822.5 423.38,-1775 171.38,-1775\"/>\n<text text-anchor=\"middle\" x=\"207.5\" y=\"-1805.2\" font-family=\"Times New Roman,serif\" font-size=\"14.00\">conv2d_6</text>\n<polyline fill=\"none\" stroke=\"black\" points=\"171.38,-1798.75 243.62,-1798.75\"/>\n<text text-anchor=\"middle\" x=\"207.5\" y=\"-1781.45\" font-family=\"Times New Roman,serif\" font-size=\"14.00\">Conv2D</text>\n<polyline fill=\"none\" stroke=\"black\" points=\"243.62,-1775 243.62,-1822.5\"/>\n<text text-anchor=\"middle\" x=\"271.12\" y=\"-1805.2\" font-family=\"Times New Roman,serif\" font-size=\"14.00\">input:</text>\n<polyline fill=\"none\" stroke=\"black\" points=\"243.62,-1798.75 298.62,-1798.75\"/>\n<text text-anchor=\"middle\" x=\"271.12\" y=\"-1781.45\" font-family=\"Times New Roman,serif\" font-size=\"14.00\">output:</text>\n<polyline fill=\"none\" stroke=\"black\" points=\"298.62,-1775 298.62,-1822.5\"/>\n<text text-anchor=\"middle\" x=\"361\" y=\"-1805.2\" font-family=\"Times New Roman,serif\" font-size=\"14.00\">(None, 68, 68, 256)</text>\n<polyline fill=\"none\" stroke=\"black\" points=\"298.62,-1798.75 423.38,-1798.75\"/>\n<text text-anchor=\"middle\" x=\"361\" y=\"-1781.45\" font-family=\"Times New Roman,serif\" font-size=\"14.00\">(None, 66, 66, 512)</text>\n</g>\n<!-- 2826711727120&#45;&gt;2826709734992 -->\n<g id=\"edge10\" class=\"edge\">\n<title>2826711727120-&gt;2826709734992</title>\n<path fill=\"none\" stroke=\"black\" d=\"M316.85,-1859.27C314.27,-1851.38 311.32,-1842.37 308.52,-1833.79\"/>\n<polygon fill=\"black\" stroke=\"black\" points=\"311.86,-1832.75 305.42,-1824.33 305.2,-1834.92 311.86,-1832.75\"/>\n</g>\n<!-- 2826711389648 -->\n<g id=\"node12\" class=\"node\">\n<title>2826711389648</title>\n<polygon fill=\"none\" stroke=\"black\" points=\"171.38,-1690.5 171.38,-1738 423.38,-1738 423.38,-1690.5 171.38,-1690.5\"/>\n<text text-anchor=\"middle\" x=\"207.5\" y=\"-1720.7\" font-family=\"Times New Roman,serif\" font-size=\"14.00\">conv2d_7</text>\n<polyline fill=\"none\" stroke=\"black\" points=\"171.38,-1714.25 243.62,-1714.25\"/>\n<text text-anchor=\"middle\" x=\"207.5\" y=\"-1696.95\" font-family=\"Times New Roman,serif\" font-size=\"14.00\">Conv2D</text>\n<polyline fill=\"none\" stroke=\"black\" points=\"243.62,-1690.5 243.62,-1738\"/>\n<text text-anchor=\"middle\" x=\"271.12\" y=\"-1720.7\" font-family=\"Times New Roman,serif\" font-size=\"14.00\">input:</text>\n<polyline fill=\"none\" stroke=\"black\" points=\"243.62,-1714.25 298.62,-1714.25\"/>\n<text text-anchor=\"middle\" x=\"271.12\" y=\"-1696.95\" font-family=\"Times New Roman,serif\" font-size=\"14.00\">output:</text>\n<polyline fill=\"none\" stroke=\"black\" points=\"298.62,-1690.5 298.62,-1738\"/>\n<text text-anchor=\"middle\" x=\"361\" y=\"-1720.7\" font-family=\"Times New Roman,serif\" font-size=\"14.00\">(None, 66, 66, 512)</text>\n<polyline fill=\"none\" stroke=\"black\" points=\"298.62,-1714.25 423.38,-1714.25\"/>\n<text text-anchor=\"middle\" x=\"361\" y=\"-1696.95\" font-family=\"Times New Roman,serif\" font-size=\"14.00\">(None, 64, 64, 512)</text>\n</g>\n<!-- 2826709734992&#45;&gt;2826711389648 -->\n<g id=\"edge11\" class=\"edge\">\n<title>2826709734992-&gt;2826711389648</title>\n<path fill=\"none\" stroke=\"black\" d=\"M297.38,-1774.77C297.38,-1767.06 297.38,-1758.28 297.38,-1749.87\"/>\n<polygon fill=\"black\" stroke=\"black\" points=\"300.88,-1749.91 297.38,-1739.91 293.88,-1749.91 300.88,-1749.91\"/>\n</g>\n<!-- 2826711805968 -->\n<g id=\"node13\" class=\"node\">\n<title>2826711805968</title>\n<polygon fill=\"none\" stroke=\"black\" points=\"6.88,-1606 6.88,-1653.5 303.88,-1653.5 303.88,-1606 6.88,-1606\"/>\n<text text-anchor=\"middle\" x=\"65.5\" y=\"-1636.2\" font-family=\"Times New Roman,serif\" font-size=\"14.00\">max_pooling2d_3</text>\n<polyline fill=\"none\" stroke=\"black\" points=\"6.88,-1629.75 124.12,-1629.75\"/>\n<text text-anchor=\"middle\" x=\"65.5\" y=\"-1612.45\" font-family=\"Times New Roman,serif\" font-size=\"14.00\">MaxPooling2D</text>\n<polyline fill=\"none\" stroke=\"black\" points=\"124.12,-1606 124.12,-1653.5\"/>\n<text text-anchor=\"middle\" x=\"151.62\" y=\"-1636.2\" font-family=\"Times New Roman,serif\" font-size=\"14.00\">input:</text>\n<polyline fill=\"none\" stroke=\"black\" points=\"124.12,-1629.75 179.12,-1629.75\"/>\n<text text-anchor=\"middle\" x=\"151.62\" y=\"-1612.45\" font-family=\"Times New Roman,serif\" font-size=\"14.00\">output:</text>\n<polyline fill=\"none\" stroke=\"black\" points=\"179.12,-1606 179.12,-1653.5\"/>\n<text text-anchor=\"middle\" x=\"241.5\" y=\"-1636.2\" font-family=\"Times New Roman,serif\" font-size=\"14.00\">(None, 64, 64, 512)</text>\n<polyline fill=\"none\" stroke=\"black\" points=\"179.12,-1629.75 303.88,-1629.75\"/>\n<text text-anchor=\"middle\" x=\"241.5\" y=\"-1612.45\" font-family=\"Times New Roman,serif\" font-size=\"14.00\">(None, 32, 32, 512)</text>\n</g>\n<!-- 2826711389648&#45;&gt;2826711805968 -->\n<g id=\"edge12\" class=\"edge\">\n<title>2826711389648-&gt;2826711805968</title>\n<path fill=\"none\" stroke=\"black\" d=\"M257.44,-1690.05C241.12,-1680.57 222.07,-1669.5 204.88,-1659.51\"/>\n<polygon fill=\"black\" stroke=\"black\" points=\"206.72,-1656.53 196.32,-1654.54 203.21,-1662.59 206.72,-1656.53\"/>\n</g>\n<!-- 2826711808848 -->\n<g id=\"node17\" class=\"node\">\n<title>2826711808848</title>\n<polygon fill=\"none\" stroke=\"black\" points=\"276.62,-1521.5 276.62,-1569 542.12,-1569 542.12,-1521.5 276.62,-1521.5\"/>\n<text text-anchor=\"middle\" x=\"319.5\" y=\"-1551.7\" font-family=\"Times New Roman,serif\" font-size=\"14.00\">cropping2d</text>\n<polyline fill=\"none\" stroke=\"black\" points=\"276.62,-1545.25 362.38,-1545.25\"/>\n<text text-anchor=\"middle\" x=\"319.5\" y=\"-1527.95\" font-family=\"Times New Roman,serif\" font-size=\"14.00\">Cropping2D</text>\n<polyline fill=\"none\" stroke=\"black\" points=\"362.38,-1521.5 362.38,-1569\"/>\n<text text-anchor=\"middle\" x=\"389.88\" y=\"-1551.7\" font-family=\"Times New Roman,serif\" font-size=\"14.00\">input:</text>\n<polyline fill=\"none\" stroke=\"black\" points=\"362.38,-1545.25 417.38,-1545.25\"/>\n<text text-anchor=\"middle\" x=\"389.88\" y=\"-1527.95\" font-family=\"Times New Roman,serif\" font-size=\"14.00\">output:</text>\n<polyline fill=\"none\" stroke=\"black\" points=\"417.38,-1521.5 417.38,-1569\"/>\n<text text-anchor=\"middle\" x=\"479.75\" y=\"-1551.7\" font-family=\"Times New Roman,serif\" font-size=\"14.00\">(None, 64, 64, 512)</text>\n<polyline fill=\"none\" stroke=\"black\" points=\"417.38,-1545.25 542.12,-1545.25\"/>\n<text text-anchor=\"middle\" x=\"479.75\" y=\"-1527.95\" font-family=\"Times New Roman,serif\" font-size=\"14.00\">(None, 56, 56, 512)</text>\n</g>\n<!-- 2826711389648&#45;&gt;2826711808848 -->\n<g id=\"edge16\" class=\"edge\">\n<title>2826711389648-&gt;2826711808848</title>\n<path fill=\"none\" stroke=\"black\" d=\"M312.95,-1690.03C332.42,-1660.99 365.87,-1611.12 387.8,-1578.42\"/>\n<polygon fill=\"black\" stroke=\"black\" points=\"390.43,-1580.79 393.09,-1570.53 384.61,-1576.89 390.43,-1580.79\"/>\n</g>\n<!-- 2826710968464 -->\n<g id=\"node14\" class=\"node\">\n<title>2826710968464</title>\n<polygon fill=\"none\" stroke=\"black\" points=\"0,-1521.5 0,-1569 258.75,-1569 258.75,-1521.5 0,-1521.5\"/>\n<text text-anchor=\"middle\" x=\"36.12\" y=\"-1551.7\" font-family=\"Times New Roman,serif\" font-size=\"14.00\">conv2d_8</text>\n<polyline fill=\"none\" stroke=\"black\" points=\"0,-1545.25 72.25,-1545.25\"/>\n<text text-anchor=\"middle\" x=\"36.12\" y=\"-1527.95\" font-family=\"Times New Roman,serif\" font-size=\"14.00\">Conv2D</text>\n<polyline fill=\"none\" stroke=\"black\" points=\"72.25,-1521.5 72.25,-1569\"/>\n<text text-anchor=\"middle\" x=\"99.75\" y=\"-1551.7\" font-family=\"Times New Roman,serif\" font-size=\"14.00\">input:</text>\n<polyline fill=\"none\" stroke=\"black\" points=\"72.25,-1545.25 127.25,-1545.25\"/>\n<text text-anchor=\"middle\" x=\"99.75\" y=\"-1527.95\" font-family=\"Times New Roman,serif\" font-size=\"14.00\">output:</text>\n<polyline fill=\"none\" stroke=\"black\" points=\"127.25,-1521.5 127.25,-1569\"/>\n<text text-anchor=\"middle\" x=\"192.62\" y=\"-1551.7\" font-family=\"Times New Roman,serif\" font-size=\"14.00\">(None, 32, 32, 512)</text>\n<polyline fill=\"none\" stroke=\"black\" points=\"127.25,-1545.25 258.75,-1545.25\"/>\n<text text-anchor=\"middle\" x=\"193\" y=\"-1527.95\" font-family=\"Times New Roman,serif\" font-size=\"14.00\">(None, 30, 30, 1024)</text>\n</g>\n<!-- 2826711805968&#45;&gt;2826710968464 -->\n<g id=\"edge13\" class=\"edge\">\n<title>2826711805968-&gt;2826710968464</title>\n<path fill=\"none\" stroke=\"black\" d=\"M148.13,-1605.77C145.65,-1597.88 142.81,-1588.87 140.1,-1580.29\"/>\n<polygon fill=\"black\" stroke=\"black\" points=\"143.47,-1579.32 137.12,-1570.84 136.79,-1581.43 143.47,-1579.32\"/>\n</g>\n<!-- 2826711061968 -->\n<g id=\"node15\" class=\"node\">\n<title>2826711061968</title>\n<polygon fill=\"none\" stroke=\"black\" points=\"33,-1437 33,-1484.5 291.75,-1484.5 291.75,-1437 33,-1437\"/>\n<text text-anchor=\"middle\" x=\"69.12\" y=\"-1467.2\" font-family=\"Times New Roman,serif\" font-size=\"14.00\">conv2d_9</text>\n<polyline fill=\"none\" stroke=\"black\" points=\"33,-1460.75 105.25,-1460.75\"/>\n<text text-anchor=\"middle\" x=\"69.12\" y=\"-1443.45\" font-family=\"Times New Roman,serif\" font-size=\"14.00\">Conv2D</text>\n<polyline fill=\"none\" stroke=\"black\" points=\"105.25,-1437 105.25,-1484.5\"/>\n<text text-anchor=\"middle\" x=\"132.75\" y=\"-1467.2\" font-family=\"Times New Roman,serif\" font-size=\"14.00\">input:</text>\n<polyline fill=\"none\" stroke=\"black\" points=\"105.25,-1460.75 160.25,-1460.75\"/>\n<text text-anchor=\"middle\" x=\"132.75\" y=\"-1443.45\" font-family=\"Times New Roman,serif\" font-size=\"14.00\">output:</text>\n<polyline fill=\"none\" stroke=\"black\" points=\"160.25,-1437 160.25,-1484.5\"/>\n<text text-anchor=\"middle\" x=\"226\" y=\"-1467.2\" font-family=\"Times New Roman,serif\" font-size=\"14.00\">(None, 30, 30, 1024)</text>\n<polyline fill=\"none\" stroke=\"black\" points=\"160.25,-1460.75 291.75,-1460.75\"/>\n<text text-anchor=\"middle\" x=\"226\" y=\"-1443.45\" font-family=\"Times New Roman,serif\" font-size=\"14.00\">(None, 28, 28, 1024)</text>\n</g>\n<!-- 2826710968464&#45;&gt;2826711061968 -->\n<g id=\"edge14\" class=\"edge\">\n<title>2826710968464-&gt;2826711061968</title>\n<path fill=\"none\" stroke=\"black\" d=\"M138.57,-1521.27C141.76,-1513.29 145.41,-1504.17 148.87,-1495.5\"/>\n<polygon fill=\"black\" stroke=\"black\" points=\"152.09,-1496.88 152.56,-1486.3 145.59,-1494.28 152.09,-1496.88\"/>\n</g>\n<!-- 2826711861520 -->\n<g id=\"node16\" class=\"node\">\n<title>2826711861520</title>\n<polygon fill=\"none\" stroke=\"black\" points=\"31.88,-1352.5 31.88,-1400 340.88,-1400 340.88,-1352.5 31.88,-1352.5\"/>\n<text text-anchor=\"middle\" x=\"93.12\" y=\"-1382.7\" font-family=\"Times New Roman,serif\" font-size=\"14.00\">conv2d_transpose</text>\n<polyline fill=\"none\" stroke=\"black\" points=\"31.88,-1376.25 154.38,-1376.25\"/>\n<text text-anchor=\"middle\" x=\"93.12\" y=\"-1358.95\" font-family=\"Times New Roman,serif\" font-size=\"14.00\">Conv2DTranspose</text>\n<polyline fill=\"none\" stroke=\"black\" points=\"154.38,-1352.5 154.38,-1400\"/>\n<text text-anchor=\"middle\" x=\"181.88\" y=\"-1382.7\" font-family=\"Times New Roman,serif\" font-size=\"14.00\">input:</text>\n<polyline fill=\"none\" stroke=\"black\" points=\"154.38,-1376.25 209.38,-1376.25\"/>\n<text text-anchor=\"middle\" x=\"181.88\" y=\"-1358.95\" font-family=\"Times New Roman,serif\" font-size=\"14.00\">output:</text>\n<polyline fill=\"none\" stroke=\"black\" points=\"209.38,-1352.5 209.38,-1400\"/>\n<text text-anchor=\"middle\" x=\"275.12\" y=\"-1382.7\" font-family=\"Times New Roman,serif\" font-size=\"14.00\">(None, 28, 28, 1024)</text>\n<polyline fill=\"none\" stroke=\"black\" points=\"209.38,-1376.25 340.88,-1376.25\"/>\n<text text-anchor=\"middle\" x=\"274.75\" y=\"-1358.95\" font-family=\"Times New Roman,serif\" font-size=\"14.00\">(None, 56, 56, 512)</text>\n</g>\n<!-- 2826711061968&#45;&gt;2826711861520 -->\n<g id=\"edge15\" class=\"edge\">\n<title>2826711061968-&gt;2826711861520</title>\n<path fill=\"none\" stroke=\"black\" d=\"M169.06,-1436.77C171.36,-1428.88 173.98,-1419.87 176.47,-1411.29\"/>\n<polygon fill=\"black\" stroke=\"black\" points=\"179.79,-1412.43 179.22,-1401.85 173.07,-1410.47 179.79,-1412.43\"/>\n</g>\n<!-- 2826711797904 -->\n<g id=\"node18\" class=\"node\">\n<title>2826711797904</title>\n<polygon fill=\"none\" stroke=\"black\" points=\"167.38,-1268 167.38,-1315.5 557.38,-1315.5 557.38,-1268 167.38,-1268\"/>\n<text text-anchor=\"middle\" x=\"209.88\" y=\"-1298.2\" font-family=\"Times New Roman,serif\" font-size=\"14.00\">concatenate</text>\n<polyline fill=\"none\" stroke=\"black\" points=\"167.38,-1291.75 252.38,-1291.75\"/>\n<text text-anchor=\"middle\" x=\"209.88\" y=\"-1274.45\" font-family=\"Times New Roman,serif\" font-size=\"14.00\">Concatenate</text>\n<polyline fill=\"none\" stroke=\"black\" points=\"252.38,-1268 252.38,-1315.5\"/>\n<text text-anchor=\"middle\" x=\"279.88\" y=\"-1298.2\" font-family=\"Times New Roman,serif\" font-size=\"14.00\">input:</text>\n<polyline fill=\"none\" stroke=\"black\" points=\"252.38,-1291.75 307.38,-1291.75\"/>\n<text text-anchor=\"middle\" x=\"279.88\" y=\"-1274.45\" font-family=\"Times New Roman,serif\" font-size=\"14.00\">output:</text>\n<polyline fill=\"none\" stroke=\"black\" points=\"307.38,-1268 307.38,-1315.5\"/>\n<text text-anchor=\"middle\" x=\"432.38\" y=\"-1298.2\" font-family=\"Times New Roman,serif\" font-size=\"14.00\">[(None, 56, 56, 512), (None, 56, 56, 512)]</text>\n<polyline fill=\"none\" stroke=\"black\" points=\"307.38,-1291.75 557.38,-1291.75\"/>\n<text text-anchor=\"middle\" x=\"432.12\" y=\"-1274.45\" font-family=\"Times New Roman,serif\" font-size=\"14.00\">(None, 56, 56, 1024)</text>\n</g>\n<!-- 2826711861520&#45;&gt;2826711797904 -->\n<g id=\"edge17\" class=\"edge\">\n<title>2826711861520-&gt;2826711797904</title>\n<path fill=\"none\" stroke=\"black\" d=\"M235.87,-1352.05C256.58,-1342.34 280.83,-1330.97 302.53,-1320.8\"/>\n<polygon fill=\"black\" stroke=\"black\" points=\"304.01,-1323.97 311.58,-1316.56 301.04,-1317.64 304.01,-1323.97\"/>\n</g>\n<!-- 2826711808848&#45;&gt;2826711797904 -->\n<g id=\"edge18\" class=\"edge\">\n<title>2826711808848-&gt;2826711797904</title>\n<path fill=\"none\" stroke=\"black\" d=\"M405.04,-1521.04C396.73,-1476.59 378.54,-1379.25 368.81,-1327.2\"/>\n<polygon fill=\"black\" stroke=\"black\" points=\"372.26,-1326.58 366.98,-1317.39 365.38,-1327.86 372.26,-1326.58\"/>\n</g>\n<!-- 2826710465936 -->\n<g id=\"node19\" class=\"node\">\n<title>2826710465936</title>\n<polygon fill=\"none\" stroke=\"black\" points=\"244.62,-1183.5 244.62,-1231 510.12,-1231 510.12,-1183.5 244.62,-1183.5\"/>\n<text text-anchor=\"middle\" x=\"284.12\" y=\"-1213.7\" font-family=\"Times New Roman,serif\" font-size=\"14.00\">conv2d_10</text>\n<polyline fill=\"none\" stroke=\"black\" points=\"244.62,-1207.25 323.62,-1207.25\"/>\n<text text-anchor=\"middle\" x=\"284.12\" y=\"-1189.95\" font-family=\"Times New Roman,serif\" font-size=\"14.00\">Conv2D</text>\n<polyline fill=\"none\" stroke=\"black\" points=\"323.62,-1183.5 323.62,-1231\"/>\n<text text-anchor=\"middle\" x=\"351.12\" y=\"-1213.7\" font-family=\"Times New Roman,serif\" font-size=\"14.00\">input:</text>\n<polyline fill=\"none\" stroke=\"black\" points=\"323.62,-1207.25 378.62,-1207.25\"/>\n<text text-anchor=\"middle\" x=\"351.12\" y=\"-1189.95\" font-family=\"Times New Roman,serif\" font-size=\"14.00\">output:</text>\n<polyline fill=\"none\" stroke=\"black\" points=\"378.62,-1183.5 378.62,-1231\"/>\n<text text-anchor=\"middle\" x=\"444.38\" y=\"-1213.7\" font-family=\"Times New Roman,serif\" font-size=\"14.00\">(None, 56, 56, 1024)</text>\n<polyline fill=\"none\" stroke=\"black\" points=\"378.62,-1207.25 510.12,-1207.25\"/>\n<text text-anchor=\"middle\" x=\"444\" y=\"-1189.95\" font-family=\"Times New Roman,serif\" font-size=\"14.00\">(None, 54, 54, 512)</text>\n</g>\n<!-- 2826711797904&#45;&gt;2826710465936 -->\n<g id=\"edge19\" class=\"edge\">\n<title>2826711797904-&gt;2826710465936</title>\n<path fill=\"none\" stroke=\"black\" d=\"M366.55,-1267.77C367.97,-1259.97 369.59,-1251.07 371.13,-1242.58\"/>\n<polygon fill=\"black\" stroke=\"black\" points=\"374.55,-1243.35 372.9,-1232.88 367.66,-1242.1 374.55,-1243.35\"/>\n</g>\n<!-- 2826677007824 -->\n<g id=\"node20\" class=\"node\">\n<title>2826677007824</title>\n<polygon fill=\"none\" stroke=\"black\" points=\"256,-1099 256,-1146.5 514.75,-1146.5 514.75,-1099 256,-1099\"/>\n<text text-anchor=\"middle\" x=\"295.5\" y=\"-1129.2\" font-family=\"Times New Roman,serif\" font-size=\"14.00\">conv2d_11</text>\n<polyline fill=\"none\" stroke=\"black\" points=\"256,-1122.75 335,-1122.75\"/>\n<text text-anchor=\"middle\" x=\"295.5\" y=\"-1105.45\" font-family=\"Times New Roman,serif\" font-size=\"14.00\">Conv2D</text>\n<polyline fill=\"none\" stroke=\"black\" points=\"335,-1099 335,-1146.5\"/>\n<text text-anchor=\"middle\" x=\"362.5\" y=\"-1129.2\" font-family=\"Times New Roman,serif\" font-size=\"14.00\">input:</text>\n<polyline fill=\"none\" stroke=\"black\" points=\"335,-1122.75 390,-1122.75\"/>\n<text text-anchor=\"middle\" x=\"362.5\" y=\"-1105.45\" font-family=\"Times New Roman,serif\" font-size=\"14.00\">output:</text>\n<polyline fill=\"none\" stroke=\"black\" points=\"390,-1099 390,-1146.5\"/>\n<text text-anchor=\"middle\" x=\"452.38\" y=\"-1129.2\" font-family=\"Times New Roman,serif\" font-size=\"14.00\">(None, 54, 54, 512)</text>\n<polyline fill=\"none\" stroke=\"black\" points=\"390,-1122.75 514.75,-1122.75\"/>\n<text text-anchor=\"middle\" x=\"452.38\" y=\"-1105.45\" font-family=\"Times New Roman,serif\" font-size=\"14.00\">(None, 52, 52, 512)</text>\n</g>\n<!-- 2826710465936&#45;&gt;2826677007824 -->\n<g id=\"edge20\" class=\"edge\">\n<title>2826710465936-&gt;2826677007824</title>\n<path fill=\"none\" stroke=\"black\" d=\"M379.6,-1183.27C380.36,-1175.47 381.22,-1166.57 382.05,-1158.08\"/>\n<polygon fill=\"black\" stroke=\"black\" points=\"385.5,-1158.69 382.98,-1148.4 378.54,-1158.02 385.5,-1158.69\"/>\n</g>\n<!-- 2826711989648 -->\n<g id=\"node21\" class=\"node\">\n<title>2826711989648</title>\n<polygon fill=\"none\" stroke=\"black\" points=\"225.88,-1014.5 225.88,-1062 552.88,-1062 552.88,-1014.5 225.88,-1014.5\"/>\n<text text-anchor=\"middle\" x=\"292.75\" y=\"-1044.7\" font-family=\"Times New Roman,serif\" font-size=\"14.00\">conv2d_transpose_1</text>\n<polyline fill=\"none\" stroke=\"black\" points=\"225.88,-1038.25 359.62,-1038.25\"/>\n<text text-anchor=\"middle\" x=\"292.75\" y=\"-1020.95\" font-family=\"Times New Roman,serif\" font-size=\"14.00\">Conv2DTranspose</text>\n<polyline fill=\"none\" stroke=\"black\" points=\"359.62,-1014.5 359.62,-1062\"/>\n<text text-anchor=\"middle\" x=\"387.12\" y=\"-1044.7\" font-family=\"Times New Roman,serif\" font-size=\"14.00\">input:</text>\n<polyline fill=\"none\" stroke=\"black\" points=\"359.62,-1038.25 414.62,-1038.25\"/>\n<text text-anchor=\"middle\" x=\"387.12\" y=\"-1020.95\" font-family=\"Times New Roman,serif\" font-size=\"14.00\">output:</text>\n<polyline fill=\"none\" stroke=\"black\" points=\"414.62,-1014.5 414.62,-1062\"/>\n<text text-anchor=\"middle\" x=\"483.5\" y=\"-1044.7\" font-family=\"Times New Roman,serif\" font-size=\"14.00\">(None, 52, 52, 512)</text>\n<polyline fill=\"none\" stroke=\"black\" points=\"414.62,-1038.25 552.88,-1038.25\"/>\n<text text-anchor=\"middle\" x=\"483.75\" y=\"-1020.95\" font-family=\"Times New Roman,serif\" font-size=\"14.00\">(None, 104, 104, 256)</text>\n</g>\n<!-- 2826677007824&#45;&gt;2826711989648 -->\n<g id=\"edge21\" class=\"edge\">\n<title>2826677007824-&gt;2826711989648</title>\n<path fill=\"none\" stroke=\"black\" d=\"M386.49,-1098.77C386.86,-1091.06 387.29,-1082.28 387.7,-1073.87\"/>\n<polygon fill=\"black\" stroke=\"black\" points=\"391.19,-1074.06 388.18,-1063.91 384.2,-1073.72 391.19,-1074.06\"/>\n</g>\n<!-- 2826709056656 -->\n<g id=\"node23\" class=\"node\">\n<title>2826709056656</title>\n<polygon fill=\"none\" stroke=\"black\" points=\"336.25,-930 336.25,-977.5 764.5,-977.5 764.5,-930 336.25,-930\"/>\n<text text-anchor=\"middle\" x=\"384.38\" y=\"-960.2\" font-family=\"Times New Roman,serif\" font-size=\"14.00\">concatenate_1</text>\n<polyline fill=\"none\" stroke=\"black\" points=\"336.25,-953.75 432.5,-953.75\"/>\n<text text-anchor=\"middle\" x=\"384.38\" y=\"-936.45\" font-family=\"Times New Roman,serif\" font-size=\"14.00\">Concatenate</text>\n<polyline fill=\"none\" stroke=\"black\" points=\"432.5,-930 432.5,-977.5\"/>\n<text text-anchor=\"middle\" x=\"460\" y=\"-960.2\" font-family=\"Times New Roman,serif\" font-size=\"14.00\">input:</text>\n<polyline fill=\"none\" stroke=\"black\" points=\"432.5,-953.75 487.5,-953.75\"/>\n<text text-anchor=\"middle\" x=\"460\" y=\"-936.45\" font-family=\"Times New Roman,serif\" font-size=\"14.00\">output:</text>\n<polyline fill=\"none\" stroke=\"black\" points=\"487.5,-930 487.5,-977.5\"/>\n<text text-anchor=\"middle\" x=\"626\" y=\"-960.2\" font-family=\"Times New Roman,serif\" font-size=\"14.00\">[(None, 104, 104, 256), (None, 104, 104, 256)]</text>\n<polyline fill=\"none\" stroke=\"black\" points=\"487.5,-953.75 764.5,-953.75\"/>\n<text text-anchor=\"middle\" x=\"625.62\" y=\"-936.45\" font-family=\"Times New Roman,serif\" font-size=\"14.00\">(None, 104, 104, 512)</text>\n</g>\n<!-- 2826711989648&#45;&gt;2826709056656 -->\n<g id=\"edge23\" class=\"edge\">\n<title>2826711989648-&gt;2826709056656</title>\n<path fill=\"none\" stroke=\"black\" d=\"M434.65,-1014.05C453.42,-1004.43 475.38,-993.18 495.09,-983.08\"/>\n<polygon fill=\"black\" stroke=\"black\" points=\"496.51,-986.28 503.81,-978.61 493.32,-980.05 496.51,-986.28\"/>\n</g>\n<!-- 2826711256976&#45;&gt;2826709056656 -->\n<g id=\"edge24\" class=\"edge\">\n<title>2826711256976-&gt;2826709056656</title>\n<path fill=\"none\" stroke=\"black\" d=\"M585.38,-1774.52C585.38,-1742.26 585.38,-1682.07 585.38,-1630.75 585.38,-1630.75 585.38,-1630.75 585.38,-1121.75 585.38,-1074.78 571.95,-1021.92 561.72,-988.49\"/>\n<polygon fill=\"black\" stroke=\"black\" points=\"565.2,-987.87 558.86,-979.38 558.52,-989.97 565.2,-987.87\"/>\n</g>\n<!-- 2826672830480 -->\n<g id=\"node24\" class=\"node\">\n<title>2826672830480</title>\n<polygon fill=\"none\" stroke=\"black\" points=\"421.25,-845.5 421.25,-893 693.5,-893 693.5,-845.5 421.25,-845.5\"/>\n<text text-anchor=\"middle\" x=\"460.75\" y=\"-875.7\" font-family=\"Times New Roman,serif\" font-size=\"14.00\">conv2d_12</text>\n<polyline fill=\"none\" stroke=\"black\" points=\"421.25,-869.25 500.25,-869.25\"/>\n<text text-anchor=\"middle\" x=\"460.75\" y=\"-851.95\" font-family=\"Times New Roman,serif\" font-size=\"14.00\">Conv2D</text>\n<polyline fill=\"none\" stroke=\"black\" points=\"500.25,-845.5 500.25,-893\"/>\n<text text-anchor=\"middle\" x=\"527.75\" y=\"-875.7\" font-family=\"Times New Roman,serif\" font-size=\"14.00\">input:</text>\n<polyline fill=\"none\" stroke=\"black\" points=\"500.25,-869.25 555.25,-869.25\"/>\n<text text-anchor=\"middle\" x=\"527.75\" y=\"-851.95\" font-family=\"Times New Roman,serif\" font-size=\"14.00\">output:</text>\n<polyline fill=\"none\" stroke=\"black\" points=\"555.25,-845.5 555.25,-893\"/>\n<text text-anchor=\"middle\" x=\"624.38\" y=\"-875.7\" font-family=\"Times New Roman,serif\" font-size=\"14.00\">(None, 104, 104, 512)</text>\n<polyline fill=\"none\" stroke=\"black\" points=\"555.25,-869.25 693.5,-869.25\"/>\n<text text-anchor=\"middle\" x=\"624.38\" y=\"-851.95\" font-family=\"Times New Roman,serif\" font-size=\"14.00\">(None, 102, 102, 256)</text>\n</g>\n<!-- 2826709056656&#45;&gt;2826672830480 -->\n<g id=\"edge25\" class=\"edge\">\n<title>2826709056656-&gt;2826672830480</title>\n<path fill=\"none\" stroke=\"black\" d=\"M552.32,-929.77C552.99,-921.97 553.74,-913.07 554.46,-904.58\"/>\n<polygon fill=\"black\" stroke=\"black\" points=\"557.93,-905.16 555.28,-894.9 550.95,-904.57 557.93,-905.16\"/>\n</g>\n<!-- 2826710958864 -->\n<g id=\"node25\" class=\"node\">\n<title>2826710958864</title>\n<polygon fill=\"none\" stroke=\"black\" points=\"433.25,-761 433.25,-808.5 705.5,-808.5 705.5,-761 433.25,-761\"/>\n<text text-anchor=\"middle\" x=\"472.75\" y=\"-791.2\" font-family=\"Times New Roman,serif\" font-size=\"14.00\">conv2d_13</text>\n<polyline fill=\"none\" stroke=\"black\" points=\"433.25,-784.75 512.25,-784.75\"/>\n<text text-anchor=\"middle\" x=\"472.75\" y=\"-767.45\" font-family=\"Times New Roman,serif\" font-size=\"14.00\">Conv2D</text>\n<polyline fill=\"none\" stroke=\"black\" points=\"512.25,-761 512.25,-808.5\"/>\n<text text-anchor=\"middle\" x=\"539.75\" y=\"-791.2\" font-family=\"Times New Roman,serif\" font-size=\"14.00\">input:</text>\n<polyline fill=\"none\" stroke=\"black\" points=\"512.25,-784.75 567.25,-784.75\"/>\n<text text-anchor=\"middle\" x=\"539.75\" y=\"-767.45\" font-family=\"Times New Roman,serif\" font-size=\"14.00\">output:</text>\n<polyline fill=\"none\" stroke=\"black\" points=\"567.25,-761 567.25,-808.5\"/>\n<text text-anchor=\"middle\" x=\"636.38\" y=\"-791.2\" font-family=\"Times New Roman,serif\" font-size=\"14.00\">(None, 102, 102, 256)</text>\n<polyline fill=\"none\" stroke=\"black\" points=\"567.25,-784.75 705.5,-784.75\"/>\n<text text-anchor=\"middle\" x=\"636.38\" y=\"-767.45\" font-family=\"Times New Roman,serif\" font-size=\"14.00\">(None, 100, 100, 256)</text>\n</g>\n<!-- 2826672830480&#45;&gt;2826710958864 -->\n<g id=\"edge26\" class=\"edge\">\n<title>2826672830480-&gt;2826710958864</title>\n<path fill=\"none\" stroke=\"black\" d=\"M560.72,-845.27C561.85,-837.47 563.15,-828.57 564.38,-820.08\"/>\n<polygon fill=\"black\" stroke=\"black\" points=\"567.81,-820.79 565.79,-810.39 560.89,-819.78 567.81,-820.79\"/>\n</g>\n<!-- 2826711799632 -->\n<g id=\"node26\" class=\"node\">\n<title>2826711799632</title>\n<polygon fill=\"none\" stroke=\"black\" points=\"411.88,-676.5 411.88,-724 738.88,-724 738.88,-676.5 411.88,-676.5\"/>\n<text text-anchor=\"middle\" x=\"478.75\" y=\"-706.7\" font-family=\"Times New Roman,serif\" font-size=\"14.00\">conv2d_transpose_2</text>\n<polyline fill=\"none\" stroke=\"black\" points=\"411.88,-700.25 545.62,-700.25\"/>\n<text text-anchor=\"middle\" x=\"478.75\" y=\"-682.95\" font-family=\"Times New Roman,serif\" font-size=\"14.00\">Conv2DTranspose</text>\n<polyline fill=\"none\" stroke=\"black\" points=\"545.62,-676.5 545.62,-724\"/>\n<text text-anchor=\"middle\" x=\"573.12\" y=\"-706.7\" font-family=\"Times New Roman,serif\" font-size=\"14.00\">input:</text>\n<polyline fill=\"none\" stroke=\"black\" points=\"545.62,-700.25 600.62,-700.25\"/>\n<text text-anchor=\"middle\" x=\"573.12\" y=\"-682.95\" font-family=\"Times New Roman,serif\" font-size=\"14.00\">output:</text>\n<polyline fill=\"none\" stroke=\"black\" points=\"600.62,-676.5 600.62,-724\"/>\n<text text-anchor=\"middle\" x=\"669.75\" y=\"-706.7\" font-family=\"Times New Roman,serif\" font-size=\"14.00\">(None, 100, 100, 256)</text>\n<polyline fill=\"none\" stroke=\"black\" points=\"600.62,-700.25 738.88,-700.25\"/>\n<text text-anchor=\"middle\" x=\"669.75\" y=\"-682.95\" font-family=\"Times New Roman,serif\" font-size=\"14.00\">(None, 200, 200, 128)</text>\n</g>\n<!-- 2826710958864&#45;&gt;2826711799632 -->\n<g id=\"edge27\" class=\"edge\">\n<title>2826710958864-&gt;2826711799632</title>\n<path fill=\"none\" stroke=\"black\" d=\"M571.05,-760.77C571.61,-753.06 572.25,-744.28 572.86,-735.87\"/>\n<polygon fill=\"black\" stroke=\"black\" points=\"576.35,-736.13 573.58,-725.9 569.37,-735.62 576.35,-736.13\"/>\n</g>\n<!-- 2826711919440 -->\n<g id=\"node28\" class=\"node\">\n<title>2826711919440</title>\n<polygon fill=\"none\" stroke=\"black\" points=\"539.25,-592 539.25,-639.5 967.5,-639.5 967.5,-592 539.25,-592\"/>\n<text text-anchor=\"middle\" x=\"587.38\" y=\"-622.2\" font-family=\"Times New Roman,serif\" font-size=\"14.00\">concatenate_2</text>\n<polyline fill=\"none\" stroke=\"black\" points=\"539.25,-615.75 635.5,-615.75\"/>\n<text text-anchor=\"middle\" x=\"587.38\" y=\"-598.45\" font-family=\"Times New Roman,serif\" font-size=\"14.00\">Concatenate</text>\n<polyline fill=\"none\" stroke=\"black\" points=\"635.5,-592 635.5,-639.5\"/>\n<text text-anchor=\"middle\" x=\"663\" y=\"-622.2\" font-family=\"Times New Roman,serif\" font-size=\"14.00\">input:</text>\n<polyline fill=\"none\" stroke=\"black\" points=\"635.5,-615.75 690.5,-615.75\"/>\n<text text-anchor=\"middle\" x=\"663\" y=\"-598.45\" font-family=\"Times New Roman,serif\" font-size=\"14.00\">output:</text>\n<polyline fill=\"none\" stroke=\"black\" points=\"690.5,-592 690.5,-639.5\"/>\n<text text-anchor=\"middle\" x=\"829\" y=\"-622.2\" font-family=\"Times New Roman,serif\" font-size=\"14.00\">[(None, 200, 200, 128), (None, 200, 200, 128)]</text>\n<polyline fill=\"none\" stroke=\"black\" points=\"690.5,-615.75 967.5,-615.75\"/>\n<text text-anchor=\"middle\" x=\"828.62\" y=\"-598.45\" font-family=\"Times New Roman,serif\" font-size=\"14.00\">(None, 200, 200, 256)</text>\n</g>\n<!-- 2826711799632&#45;&gt;2826711919440 -->\n<g id=\"edge29\" class=\"edge\">\n<title>2826711799632-&gt;2826711919440</title>\n<path fill=\"none\" stroke=\"black\" d=\"M625.43,-676.05C646.47,-666.3 671.12,-654.87 693.15,-644.66\"/>\n<polygon fill=\"black\" stroke=\"black\" points=\"694.41,-647.94 702.01,-640.56 691.47,-641.59 694.41,-647.94\"/>\n</g>\n<!-- 2826711395152&#45;&gt;2826711919440 -->\n<g id=\"edge30\" class=\"edge\">\n<title>2826711395152-&gt;2826711919440</title>\n<path fill=\"none\" stroke=\"black\" d=\"M792.38,-2028.02C792.38,-1995.76 792.38,-1935.57 792.38,-1884.25 792.38,-1884.25 792.38,-1884.25 792.38,-783.75 792.38,-736.54 777.41,-683.74 766.02,-650.39\"/>\n<polygon fill=\"black\" stroke=\"black\" points=\"769.44,-649.56 762.82,-641.29 762.84,-651.88 769.44,-649.56\"/>\n</g>\n<!-- 2826711266064 -->\n<g id=\"node29\" class=\"node\">\n<title>2826711266064</title>\n<polygon fill=\"none\" stroke=\"black\" points=\"624.25,-507.5 624.25,-555 896.5,-555 896.5,-507.5 624.25,-507.5\"/>\n<text text-anchor=\"middle\" x=\"663.75\" y=\"-537.7\" font-family=\"Times New Roman,serif\" font-size=\"14.00\">conv2d_14</text>\n<polyline fill=\"none\" stroke=\"black\" points=\"624.25,-531.25 703.25,-531.25\"/>\n<text text-anchor=\"middle\" x=\"663.75\" y=\"-513.95\" font-family=\"Times New Roman,serif\" font-size=\"14.00\">Conv2D</text>\n<polyline fill=\"none\" stroke=\"black\" points=\"703.25,-507.5 703.25,-555\"/>\n<text text-anchor=\"middle\" x=\"730.75\" y=\"-537.7\" font-family=\"Times New Roman,serif\" font-size=\"14.00\">input:</text>\n<polyline fill=\"none\" stroke=\"black\" points=\"703.25,-531.25 758.25,-531.25\"/>\n<text text-anchor=\"middle\" x=\"730.75\" y=\"-513.95\" font-family=\"Times New Roman,serif\" font-size=\"14.00\">output:</text>\n<polyline fill=\"none\" stroke=\"black\" points=\"758.25,-507.5 758.25,-555\"/>\n<text text-anchor=\"middle\" x=\"827.38\" y=\"-537.7\" font-family=\"Times New Roman,serif\" font-size=\"14.00\">(None, 200, 200, 256)</text>\n<polyline fill=\"none\" stroke=\"black\" points=\"758.25,-531.25 896.5,-531.25\"/>\n<text text-anchor=\"middle\" x=\"827.38\" y=\"-513.95\" font-family=\"Times New Roman,serif\" font-size=\"14.00\">(None, 198, 198, 128)</text>\n</g>\n<!-- 2826711919440&#45;&gt;2826711266064 -->\n<g id=\"edge31\" class=\"edge\">\n<title>2826711919440-&gt;2826711266064</title>\n<path fill=\"none\" stroke=\"black\" d=\"M755.32,-591.77C755.99,-583.97 756.74,-575.07 757.46,-566.58\"/>\n<polygon fill=\"black\" stroke=\"black\" points=\"760.93,-567.16 758.28,-556.9 753.95,-566.57 760.93,-567.16\"/>\n</g>\n<!-- 2826712121232 -->\n<g id=\"node30\" class=\"node\">\n<title>2826712121232</title>\n<polygon fill=\"none\" stroke=\"black\" points=\"649.25,-423 649.25,-470.5 921.5,-470.5 921.5,-423 649.25,-423\"/>\n<text text-anchor=\"middle\" x=\"688.75\" y=\"-453.2\" font-family=\"Times New Roman,serif\" font-size=\"14.00\">conv2d_15</text>\n<polyline fill=\"none\" stroke=\"black\" points=\"649.25,-446.75 728.25,-446.75\"/>\n<text text-anchor=\"middle\" x=\"688.75\" y=\"-429.45\" font-family=\"Times New Roman,serif\" font-size=\"14.00\">Conv2D</text>\n<polyline fill=\"none\" stroke=\"black\" points=\"728.25,-423 728.25,-470.5\"/>\n<text text-anchor=\"middle\" x=\"755.75\" y=\"-453.2\" font-family=\"Times New Roman,serif\" font-size=\"14.00\">input:</text>\n<polyline fill=\"none\" stroke=\"black\" points=\"728.25,-446.75 783.25,-446.75\"/>\n<text text-anchor=\"middle\" x=\"755.75\" y=\"-429.45\" font-family=\"Times New Roman,serif\" font-size=\"14.00\">output:</text>\n<polyline fill=\"none\" stroke=\"black\" points=\"783.25,-423 783.25,-470.5\"/>\n<text text-anchor=\"middle\" x=\"852.38\" y=\"-453.2\" font-family=\"Times New Roman,serif\" font-size=\"14.00\">(None, 198, 198, 128)</text>\n<polyline fill=\"none\" stroke=\"black\" points=\"783.25,-446.75 921.5,-446.75\"/>\n<text text-anchor=\"middle\" x=\"852.38\" y=\"-429.45\" font-family=\"Times New Roman,serif\" font-size=\"14.00\">(None, 196, 196, 128)</text>\n</g>\n<!-- 2826711266064&#45;&gt;2826712121232 -->\n<g id=\"edge32\" class=\"edge\">\n<title>2826711266064-&gt;2826712121232</title>\n<path fill=\"none\" stroke=\"black\" d=\"M767.34,-507.27C769.73,-499.38 772.46,-490.37 775.06,-481.79\"/>\n<polygon fill=\"black\" stroke=\"black\" points=\"778.37,-482.93 777.92,-472.34 771.67,-480.9 778.37,-482.93\"/>\n</g>\n<!-- 2826712120720 -->\n<g id=\"node31\" class=\"node\">\n<title>2826712120720</title>\n<polygon fill=\"none\" stroke=\"black\" points=\"633.88,-338.5 633.88,-386 960.88,-386 960.88,-338.5 633.88,-338.5\"/>\n<text text-anchor=\"middle\" x=\"700.75\" y=\"-368.7\" font-family=\"Times New Roman,serif\" font-size=\"14.00\">conv2d_transpose_3</text>\n<polyline fill=\"none\" stroke=\"black\" points=\"633.88,-362.25 767.62,-362.25\"/>\n<text text-anchor=\"middle\" x=\"700.75\" y=\"-344.95\" font-family=\"Times New Roman,serif\" font-size=\"14.00\">Conv2DTranspose</text>\n<polyline fill=\"none\" stroke=\"black\" points=\"767.62,-338.5 767.62,-386\"/>\n<text text-anchor=\"middle\" x=\"795.12\" y=\"-368.7\" font-family=\"Times New Roman,serif\" font-size=\"14.00\">input:</text>\n<polyline fill=\"none\" stroke=\"black\" points=\"767.62,-362.25 822.62,-362.25\"/>\n<text text-anchor=\"middle\" x=\"795.12\" y=\"-344.95\" font-family=\"Times New Roman,serif\" font-size=\"14.00\">output:</text>\n<polyline fill=\"none\" stroke=\"black\" points=\"822.62,-338.5 822.62,-386\"/>\n<text text-anchor=\"middle\" x=\"891.75\" y=\"-368.7\" font-family=\"Times New Roman,serif\" font-size=\"14.00\">(None, 196, 196, 128)</text>\n<polyline fill=\"none\" stroke=\"black\" points=\"822.62,-362.25 960.88,-362.25\"/>\n<text text-anchor=\"middle\" x=\"891.38\" y=\"-344.95\" font-family=\"Times New Roman,serif\" font-size=\"14.00\">(None, 392, 392, 64)</text>\n</g>\n<!-- 2826712121232&#45;&gt;2826712120720 -->\n<g id=\"edge33\" class=\"edge\">\n<title>2826712121232-&gt;2826712120720</title>\n<path fill=\"none\" stroke=\"black\" d=\"M788.72,-422.77C789.85,-414.97 791.15,-406.07 792.38,-397.58\"/>\n<polygon fill=\"black\" stroke=\"black\" points=\"795.81,-398.29 793.79,-387.89 788.89,-397.28 795.81,-398.29\"/>\n</g>\n<!-- 2826712138640 -->\n<g id=\"node33\" class=\"node\">\n<title>2826712138640</title>\n<polygon fill=\"none\" stroke=\"black\" points=\"686,-254 686,-301.5 1100.75,-301.5 1100.75,-254 686,-254\"/>\n<text text-anchor=\"middle\" x=\"734.12\" y=\"-284.2\" font-family=\"Times New Roman,serif\" font-size=\"14.00\">concatenate_3</text>\n<polyline fill=\"none\" stroke=\"black\" points=\"686,-277.75 782.25,-277.75\"/>\n<text text-anchor=\"middle\" x=\"734.12\" y=\"-260.45\" font-family=\"Times New Roman,serif\" font-size=\"14.00\">Concatenate</text>\n<polyline fill=\"none\" stroke=\"black\" points=\"782.25,-254 782.25,-301.5\"/>\n<text text-anchor=\"middle\" x=\"809.75\" y=\"-284.2\" font-family=\"Times New Roman,serif\" font-size=\"14.00\">input:</text>\n<polyline fill=\"none\" stroke=\"black\" points=\"782.25,-277.75 837.25,-277.75\"/>\n<text text-anchor=\"middle\" x=\"809.75\" y=\"-260.45\" font-family=\"Times New Roman,serif\" font-size=\"14.00\">output:</text>\n<polyline fill=\"none\" stroke=\"black\" points=\"837.25,-254 837.25,-301.5\"/>\n<text text-anchor=\"middle\" x=\"969\" y=\"-284.2\" font-family=\"Times New Roman,serif\" font-size=\"14.00\">[(None, 392, 392, 64), (None, 392, 392, 64)]</text>\n<polyline fill=\"none\" stroke=\"black\" points=\"837.25,-277.75 1100.75,-277.75\"/>\n<text text-anchor=\"middle\" x=\"968.88\" y=\"-260.45\" font-family=\"Times New Roman,serif\" font-size=\"14.00\">(None, 392, 392, 128)</text>\n</g>\n<!-- 2826712120720&#45;&gt;2826712138640 -->\n<g id=\"edge35\" class=\"edge\">\n<title>2826712120720-&gt;2826712138640</title>\n<path fill=\"none\" stroke=\"black\" d=\"M824.37,-338.05C834.79,-329.1 846.84,-318.74 857.94,-309.2\"/>\n<polygon fill=\"black\" stroke=\"black\" points=\"860.13,-311.93 865.43,-302.76 855.57,-306.63 860.13,-311.93\"/>\n</g>\n<!-- 2826710843152&#45;&gt;2826712138640 -->\n<g id=\"edge36\" class=\"edge\">\n<title>2826710843152-&gt;2826712138640</title>\n<path fill=\"none\" stroke=\"black\" d=\"M995.38,-2281.52C995.38,-2249.26 995.38,-2189.07 995.38,-2137.75 995.38,-2137.75 995.38,-2137.75 995.38,-445.75 995.38,-396.59 996.96,-379.35 970.38,-338 963.25,-326.92 953.3,-317.08 942.92,-308.76\"/>\n<polygon fill=\"black\" stroke=\"black\" points=\"945.04,-305.98 934.95,-302.76 940.83,-311.57 945.04,-305.98\"/>\n</g>\n<!-- 2826712164688 -->\n<g id=\"node34\" class=\"node\">\n<title>2826712164688</title>\n<polygon fill=\"none\" stroke=\"black\" points=\"757.25,-169.5 757.25,-217 1029.5,-217 1029.5,-169.5 757.25,-169.5\"/>\n<text text-anchor=\"middle\" x=\"796.75\" y=\"-199.7\" font-family=\"Times New Roman,serif\" font-size=\"14.00\">conv2d_16</text>\n<polyline fill=\"none\" stroke=\"black\" points=\"757.25,-193.25 836.25,-193.25\"/>\n<text text-anchor=\"middle\" x=\"796.75\" y=\"-175.95\" font-family=\"Times New Roman,serif\" font-size=\"14.00\">Conv2D</text>\n<polyline fill=\"none\" stroke=\"black\" points=\"836.25,-169.5 836.25,-217\"/>\n<text text-anchor=\"middle\" x=\"863.75\" y=\"-199.7\" font-family=\"Times New Roman,serif\" font-size=\"14.00\">input:</text>\n<polyline fill=\"none\" stroke=\"black\" points=\"836.25,-193.25 891.25,-193.25\"/>\n<text text-anchor=\"middle\" x=\"863.75\" y=\"-175.95\" font-family=\"Times New Roman,serif\" font-size=\"14.00\">output:</text>\n<polyline fill=\"none\" stroke=\"black\" points=\"891.25,-169.5 891.25,-217\"/>\n<text text-anchor=\"middle\" x=\"960.38\" y=\"-199.7\" font-family=\"Times New Roman,serif\" font-size=\"14.00\">(None, 392, 392, 128)</text>\n<polyline fill=\"none\" stroke=\"black\" points=\"891.25,-193.25 1029.5,-193.25\"/>\n<text text-anchor=\"middle\" x=\"960\" y=\"-175.95\" font-family=\"Times New Roman,serif\" font-size=\"14.00\">(None, 390, 390, 64)</text>\n</g>\n<!-- 2826712138640&#45;&gt;2826712164688 -->\n<g id=\"edge37\" class=\"edge\">\n<title>2826712138640-&gt;2826712164688</title>\n<path fill=\"none\" stroke=\"black\" d=\"M893.38,-253.77C893.38,-246.06 893.38,-237.28 893.38,-228.87\"/>\n<polygon fill=\"black\" stroke=\"black\" points=\"896.88,-228.91 893.38,-218.91 889.88,-228.91 896.88,-228.91\"/>\n</g>\n<!-- 2826686101776 -->\n<g id=\"node35\" class=\"node\">\n<title>2826686101776</title>\n<polygon fill=\"none\" stroke=\"black\" points=\"760.62,-85 760.62,-132.5 1026.12,-132.5 1026.12,-85 760.62,-85\"/>\n<text text-anchor=\"middle\" x=\"800.12\" y=\"-115.2\" font-family=\"Times New Roman,serif\" font-size=\"14.00\">conv2d_17</text>\n<polyline fill=\"none\" stroke=\"black\" points=\"760.62,-108.75 839.62,-108.75\"/>\n<text text-anchor=\"middle\" x=\"800.12\" y=\"-91.45\" font-family=\"Times New Roman,serif\" font-size=\"14.00\">Conv2D</text>\n<polyline fill=\"none\" stroke=\"black\" points=\"839.62,-85 839.62,-132.5\"/>\n<text text-anchor=\"middle\" x=\"867.12\" y=\"-115.2\" font-family=\"Times New Roman,serif\" font-size=\"14.00\">input:</text>\n<polyline fill=\"none\" stroke=\"black\" points=\"839.62,-108.75 894.62,-108.75\"/>\n<text text-anchor=\"middle\" x=\"867.12\" y=\"-91.45\" font-family=\"Times New Roman,serif\" font-size=\"14.00\">output:</text>\n<polyline fill=\"none\" stroke=\"black\" points=\"894.62,-85 894.62,-132.5\"/>\n<text text-anchor=\"middle\" x=\"960.38\" y=\"-115.2\" font-family=\"Times New Roman,serif\" font-size=\"14.00\">(None, 390, 390, 64)</text>\n<polyline fill=\"none\" stroke=\"black\" points=\"894.62,-108.75 1026.12,-108.75\"/>\n<text text-anchor=\"middle\" x=\"960.38\" y=\"-91.45\" font-family=\"Times New Roman,serif\" font-size=\"14.00\">(None, 388, 388, 64)</text>\n</g>\n<!-- 2826712164688&#45;&gt;2826686101776 -->\n<g id=\"edge38\" class=\"edge\">\n<title>2826712164688-&gt;2826686101776</title>\n<path fill=\"none\" stroke=\"black\" d=\"M893.38,-169.27C893.38,-161.56 893.38,-152.78 893.38,-144.37\"/>\n<polygon fill=\"black\" stroke=\"black\" points=\"896.88,-144.41 893.38,-134.41 889.88,-144.41 896.88,-144.41\"/>\n</g>\n<!-- 2826711264720 -->\n<g id=\"node36\" class=\"node\">\n<title>2826711264720</title>\n<polygon fill=\"none\" stroke=\"black\" points=\"760.62,-0.5 760.62,-48 1026.12,-48 1026.12,-0.5 760.62,-0.5\"/>\n<text text-anchor=\"middle\" x=\"800.12\" y=\"-30.7\" font-family=\"Times New Roman,serif\" font-size=\"14.00\">conv2d_18</text>\n<polyline fill=\"none\" stroke=\"black\" points=\"760.62,-24.25 839.62,-24.25\"/>\n<text text-anchor=\"middle\" x=\"800.12\" y=\"-6.95\" font-family=\"Times New Roman,serif\" font-size=\"14.00\">Conv2D</text>\n<polyline fill=\"none\" stroke=\"black\" points=\"839.62,-0.5 839.62,-48\"/>\n<text text-anchor=\"middle\" x=\"867.12\" y=\"-30.7\" font-family=\"Times New Roman,serif\" font-size=\"14.00\">input:</text>\n<polyline fill=\"none\" stroke=\"black\" points=\"839.62,-24.25 894.62,-24.25\"/>\n<text text-anchor=\"middle\" x=\"867.12\" y=\"-6.95\" font-family=\"Times New Roman,serif\" font-size=\"14.00\">output:</text>\n<polyline fill=\"none\" stroke=\"black\" points=\"894.62,-0.5 894.62,-48\"/>\n<text text-anchor=\"middle\" x=\"960.38\" y=\"-30.7\" font-family=\"Times New Roman,serif\" font-size=\"14.00\">(None, 388, 388, 64)</text>\n<polyline fill=\"none\" stroke=\"black\" points=\"894.62,-24.25 1026.12,-24.25\"/>\n<text text-anchor=\"middle\" x=\"960\" y=\"-6.95\" font-family=\"Times New Roman,serif\" font-size=\"14.00\">(None, 388, 388, 2)</text>\n</g>\n<!-- 2826686101776&#45;&gt;2826711264720 -->\n<g id=\"edge39\" class=\"edge\">\n<title>2826686101776-&gt;2826711264720</title>\n<path fill=\"none\" stroke=\"black\" d=\"M893.38,-84.77C893.38,-77.06 893.38,-68.28 893.38,-59.87\"/>\n<polygon fill=\"black\" stroke=\"black\" points=\"896.88,-59.91 893.38,-49.91 889.88,-59.91 896.88,-59.91\"/>\n</g>\n</g>\n</svg>"
     },
     "execution_count": 4,
     "metadata": {},
     "output_type": "execute_result"
    }
   ],
   "source": [
    "from IPython.display import SVG\n",
    "from keras.utils import model_to_dot  \n",
    "\n",
    "%matplotlib inline\n",
    "\n",
    "SVG(model_to_dot(model, show_shapes= True, show_layer_names=True, dpi=50).create(prog='dot', format='svg'))  #dpi를 작게 하면 그래프가 커집니다."
   ],
   "metadata": {
    "collapsed": false,
    "ExecuteTime": {
     "end_time": "2023-10-29T19:07:08.100530800Z",
     "start_time": "2023-10-29T19:07:07.397880700Z"
    }
   },
   "id": "a1c98e647a68638d"
  },
  {
   "cell_type": "markdown",
   "source": [
    "#### Transposed Convolution"
   ],
   "metadata": {
    "collapsed": false
   },
   "id": "8ac67b743db42d2a"
  },
  {
   "cell_type": "code",
   "execution_count": 78,
   "outputs": [],
   "source": [
    "# 필요한 모듈 불러오기 \n",
    "import numpy as np\n",
    "import tensorflow as tf"
   ],
   "metadata": {
    "collapsed": false,
    "ExecuteTime": {
     "end_time": "2023-10-29T19:15:07.978411600Z",
     "start_time": "2023-10-29T19:15:07.971635500Z"
    }
   },
   "id": "98cfd008f5a4f5cb"
  },
  {
   "cell_type": "code",
   "execution_count": 79,
   "outputs": [],
   "source": [
    "# input data \n",
    "X = np.asarray([[1, 2], \n",
    "\t\t\t  [3, 4]])"
   ],
   "metadata": {
    "collapsed": false,
    "ExecuteTime": {
     "end_time": "2023-10-29T19:15:08.165948700Z",
     "start_time": "2023-10-29T19:15:08.159944500Z"
    }
   },
   "id": "e341befecb1603e2"
  },
  {
   "cell_type": "code",
   "execution_count": 80,
   "outputs": [
    {
     "name": "stdout",
     "output_type": "stream",
     "text": [
      "[[1 2]\n",
      " [3 4]]\n",
      "(2, 2)\n"
     ]
    }
   ],
   "source": [
    "print(X) \n",
    "print(X.shape)"
   ],
   "metadata": {
    "collapsed": false,
    "ExecuteTime": {
     "end_time": "2023-10-29T19:15:08.344428500Z",
     "start_time": "2023-10-29T19:15:08.341671900Z"
    }
   },
   "id": "ef65d67e09832d67"
  },
  {
   "cell_type": "code",
   "execution_count": 81,
   "outputs": [],
   "source": [
    "# 모델에 맞게 reshaping \n",
    "X = X.reshape((1, 2, 2, 1))"
   ],
   "metadata": {
    "collapsed": false,
    "ExecuteTime": {
     "end_time": "2023-10-29T19:15:08.512209100Z",
     "start_time": "2023-10-29T19:15:08.505702700Z"
    }
   },
   "id": "44d0bed1e9b6934e"
  },
  {
   "cell_type": "code",
   "execution_count": 82,
   "outputs": [
    {
     "name": "stdout",
     "output_type": "stream",
     "text": [
      "[[[[1]\n",
      "   [2]]\n",
      "\n",
      "  [[3]\n",
      "   [4]]]]\n",
      "(1, 2, 2, 1)\n"
     ]
    }
   ],
   "source": [
    "print(X)\n",
    "print(X.shape)"
   ],
   "metadata": {
    "collapsed": false,
    "ExecuteTime": {
     "end_time": "2023-10-29T19:15:08.938156Z",
     "start_time": "2023-10-29T19:15:08.932947Z"
    }
   },
   "id": "93891a544e069f9e"
  },
  {
   "cell_type": "code",
   "execution_count": 112,
   "outputs": [],
   "source": [
    "# 모델 만들기 \n",
    "model = tf.keras.models.Sequential()\n",
    "model.add(tf.keras.layers.Conv2DTranspose(1, kernel_size=1, strides=(2, 2), input_shape=(2, 2, 1))) # Conv2DTranspos layer"
   ],
   "metadata": {
    "collapsed": false,
    "ExecuteTime": {
     "end_time": "2023-10-29T19:18:03.998239500Z",
     "start_time": "2023-10-29T19:18:03.979266800Z"
    }
   },
   "id": "8a38a5f7b7304bb2"
  },
  {
   "cell_type": "code",
   "execution_count": 113,
   "outputs": [],
   "source": [
    "weights = [np.asarray([[[[1]]]]), np.asarray([1])] # weight = 1, bias = 1"
   ],
   "metadata": {
    "collapsed": false,
    "ExecuteTime": {
     "end_time": "2023-10-29T19:18:04.149955100Z",
     "start_time": "2023-10-29T19:18:04.143030400Z"
    }
   },
   "id": "2a6d435f91e1d5d9"
  },
  {
   "cell_type": "code",
   "execution_count": 114,
   "outputs": [
    {
     "data": {
      "text/plain": "[array([[[[1]]]]), array([1])]"
     },
     "execution_count": 114,
     "metadata": {},
     "output_type": "execute_result"
    }
   ],
   "source": [
    "weights"
   ],
   "metadata": {
    "collapsed": false,
    "ExecuteTime": {
     "end_time": "2023-10-29T19:18:04.295949900Z",
     "start_time": "2023-10-29T19:18:04.292594700Z"
    }
   },
   "id": "49775098e4739307"
  },
  {
   "cell_type": "code",
   "execution_count": 115,
   "outputs": [],
   "source": [
    "model.set_weights(weights)"
   ],
   "metadata": {
    "collapsed": false,
    "ExecuteTime": {
     "end_time": "2023-10-29T19:18:04.459578Z",
     "start_time": "2023-10-29T19:18:04.452726200Z"
    }
   },
   "id": "9f67f7d1f978138a"
  },
  {
   "cell_type": "code",
   "execution_count": 116,
   "outputs": [
    {
     "name": "stdout",
     "output_type": "stream",
     "text": [
      "1/1 [==============================] - 0s 29ms/step\n",
      "(1, 4, 4, 1)\n"
     ]
    }
   ],
   "source": [
    "yhat = model.predict(X) \n",
    "print(yhat.shape)"
   ],
   "metadata": {
    "collapsed": false,
    "ExecuteTime": {
     "end_time": "2023-10-29T19:18:04.664416500Z",
     "start_time": "2023-10-29T19:18:04.606591100Z"
    }
   },
   "id": "c3943c3d7f4f7edf"
  },
  {
   "cell_type": "code",
   "execution_count": 117,
   "outputs": [
    {
     "name": "stdout",
     "output_type": "stream",
     "text": [
      "[[[[2.]\n",
      "   [1.]\n",
      "   [3.]\n",
      "   [1.]]\n",
      "\n",
      "  [[1.]\n",
      "   [1.]\n",
      "   [1.]\n",
      "   [1.]]\n",
      "\n",
      "  [[4.]\n",
      "   [1.]\n",
      "   [5.]\n",
      "   [1.]]\n",
      "\n",
      "  [[1.]\n",
      "   [1.]\n",
      "   [1.]\n",
      "   [1.]]]]\n"
     ]
    }
   ],
   "source": [
    "# yhat = yhat.reshape((4, 4)) # 결과를 확인하기 편하게 reshaping\n",
    "print(yhat)"
   ],
   "metadata": {
    "collapsed": false,
    "ExecuteTime": {
     "end_time": "2023-10-29T19:18:05.668599700Z",
     "start_time": "2023-10-29T19:18:05.660593100Z"
    }
   },
   "id": "39bf502d61cf3fd"
  },
  {
   "cell_type": "code",
   "execution_count": null,
   "outputs": [],
   "source": [],
   "metadata": {
    "collapsed": false
   },
   "id": "c620e6de4c047373"
  }
 ],
 "metadata": {
  "kernelspec": {
   "display_name": "Python 3",
   "language": "python",
   "name": "python3"
  },
  "language_info": {
   "codemirror_mode": {
    "name": "ipython",
    "version": 2
   },
   "file_extension": ".py",
   "mimetype": "text/x-python",
   "name": "python",
   "nbconvert_exporter": "python",
   "pygments_lexer": "ipython2",
   "version": "2.7.6"
  }
 },
 "nbformat": 4,
 "nbformat_minor": 5
}
