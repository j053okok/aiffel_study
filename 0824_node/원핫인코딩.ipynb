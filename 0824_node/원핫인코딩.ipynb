{
 "cells": [
  {
   "cell_type": "code",
   "execution_count": 20,
   "metadata": {
    "collapsed": true,
    "ExecuteTime": {
     "end_time": "2023-08-24T13:48:48.818398200Z",
     "start_time": "2023-08-24T13:48:48.801812500Z"
    }
   },
   "outputs": [],
   "source": [
    "import pandas as pd\n",
    "import numpy as np\n",
    "import matplotlib.pyplot as plt"
   ]
  },
  {
   "cell_type": "code",
   "execution_count": 21,
   "outputs": [
    {
     "data": {
      "text/plain": "          기간 국가명      수출건수      수출금액      수입건수      수입금액      무역수지\n0  2015년 01월  중국  0.142372  0.794728  0.197014  0.700903  0.708320\n1  2015년 01월  미국  0.035939  0.295728  0.332972  0.085394  0.496512\n2  2015년 01월  일본  0.011187  0.042477  0.001249  0.112938  0.125310\n3  2015년 02월  중국  0.078351  0.629759  0.099597  0.542551  0.603281\n4  2015년 02월  미국  0.024131  0.254394  0.270146  0.000000  0.505660",
      "text/html": "<div>\n<style scoped>\n    .dataframe tbody tr th:only-of-type {\n        vertical-align: middle;\n    }\n\n    .dataframe tbody tr th {\n        vertical-align: top;\n    }\n\n    .dataframe thead th {\n        text-align: right;\n    }\n</style>\n<table border=\"1\" class=\"dataframe\">\n  <thead>\n    <tr style=\"text-align: right;\">\n      <th></th>\n      <th>기간</th>\n      <th>국가명</th>\n      <th>수출건수</th>\n      <th>수출금액</th>\n      <th>수입건수</th>\n      <th>수입금액</th>\n      <th>무역수지</th>\n    </tr>\n  </thead>\n  <tbody>\n    <tr>\n      <th>0</th>\n      <td>2015년 01월</td>\n      <td>중국</td>\n      <td>0.142372</td>\n      <td>0.794728</td>\n      <td>0.197014</td>\n      <td>0.700903</td>\n      <td>0.708320</td>\n    </tr>\n    <tr>\n      <th>1</th>\n      <td>2015년 01월</td>\n      <td>미국</td>\n      <td>0.035939</td>\n      <td>0.295728</td>\n      <td>0.332972</td>\n      <td>0.085394</td>\n      <td>0.496512</td>\n    </tr>\n    <tr>\n      <th>2</th>\n      <td>2015년 01월</td>\n      <td>일본</td>\n      <td>0.011187</td>\n      <td>0.042477</td>\n      <td>0.001249</td>\n      <td>0.112938</td>\n      <td>0.125310</td>\n    </tr>\n    <tr>\n      <th>3</th>\n      <td>2015년 02월</td>\n      <td>중국</td>\n      <td>0.078351</td>\n      <td>0.629759</td>\n      <td>0.099597</td>\n      <td>0.542551</td>\n      <td>0.603281</td>\n    </tr>\n    <tr>\n      <th>4</th>\n      <td>2015년 02월</td>\n      <td>미국</td>\n      <td>0.024131</td>\n      <td>0.254394</td>\n      <td>0.270146</td>\n      <td>0.000000</td>\n      <td>0.505660</td>\n    </tr>\n  </tbody>\n</table>\n</div>"
     },
     "execution_count": 21,
     "metadata": {},
     "output_type": "execute_result"
    }
   ],
   "source": [
    "trade = pd.read_csv(\"trade.csv\")\n",
    "trade = trade.drop(\"기타사항\", axis=1)\n",
    "trade.dropna(how=\"all\", subset=[\"수출건수\", \"수출금액\", \"수입건수\", \"수입금액\", \"무역수지\"], inplace=True)\n",
    "trade.loc[191, '수출금액'] = (trade.loc[188, '수출금액'] + trade.loc[194, '수출금액'] )/2\n",
    "trade.loc[191, '무역수지'] = (trade.loc[188, '무역수지'] + trade.loc[194, '무역수지'] )/2\n",
    "trade.drop_duplicates(inplace=True)\n",
    "cols = ['수출건수', '수출금액', '수입건수', '수입금액', '무역수지']\n",
    "trade[cols] = (trade[cols]-trade[cols].min())/(trade[cols].max()-trade[cols].min())\n",
    "trade.head()"
   ],
   "metadata": {
    "collapsed": false,
    "ExecuteTime": {
     "end_time": "2023-08-24T13:48:49.006853800Z",
     "start_time": "2023-08-24T13:48:48.833416200Z"
    }
   }
  },
  {
   "cell_type": "code",
   "execution_count": 22,
   "outputs": [
    {
     "data": {
      "text/plain": "array(['중국', '미국', '일본'], dtype=object)"
     },
     "execution_count": 22,
     "metadata": {},
     "output_type": "execute_result"
    }
   ],
   "source": [
    "trade['국가명'].unique()"
   ],
   "metadata": {
    "collapsed": false,
    "ExecuteTime": {
     "end_time": "2023-08-24T13:48:49.021674600Z",
     "start_time": "2023-08-24T13:48:49.006853800Z"
    }
   }
  },
  {
   "cell_type": "markdown",
   "source": [
    "### get_dummies 를 사용해서 원핫인코딩 하기"
   ],
   "metadata": {
    "collapsed": false
   }
  },
  {
   "cell_type": "code",
   "execution_count": 23,
   "outputs": [
    {
     "data": {
      "text/plain": "      미국     일본     중국\n0  False  False   True\n1   True  False  False\n2  False   True  False\n3  False  False   True\n4   True  False  False",
      "text/html": "<div>\n<style scoped>\n    .dataframe tbody tr th:only-of-type {\n        vertical-align: middle;\n    }\n\n    .dataframe tbody tr th {\n        vertical-align: top;\n    }\n\n    .dataframe thead th {\n        text-align: right;\n    }\n</style>\n<table border=\"1\" class=\"dataframe\">\n  <thead>\n    <tr style=\"text-align: right;\">\n      <th></th>\n      <th>미국</th>\n      <th>일본</th>\n      <th>중국</th>\n    </tr>\n  </thead>\n  <tbody>\n    <tr>\n      <th>0</th>\n      <td>False</td>\n      <td>False</td>\n      <td>True</td>\n    </tr>\n    <tr>\n      <th>1</th>\n      <td>True</td>\n      <td>False</td>\n      <td>False</td>\n    </tr>\n    <tr>\n      <th>2</th>\n      <td>False</td>\n      <td>True</td>\n      <td>False</td>\n    </tr>\n    <tr>\n      <th>3</th>\n      <td>False</td>\n      <td>False</td>\n      <td>True</td>\n    </tr>\n    <tr>\n      <th>4</th>\n      <td>True</td>\n      <td>False</td>\n      <td>False</td>\n    </tr>\n  </tbody>\n</table>\n</div>"
     },
     "execution_count": 23,
     "metadata": {},
     "output_type": "execute_result"
    }
   ],
   "source": [
    "country = pd.get_dummies(trade['국가명'])\n",
    "country.head()"
   ],
   "metadata": {
    "collapsed": false,
    "ExecuteTime": {
     "end_time": "2023-08-24T13:48:49.068383600Z",
     "start_time": "2023-08-24T13:48:49.021674600Z"
    }
   }
  },
  {
   "cell_type": "code",
   "execution_count": 24,
   "outputs": [
    {
     "data": {
      "text/plain": "          기간 국가명      수출건수      수출금액      수입건수      수입금액      무역수지     미국  \\\n0  2015년 01월  중국  0.142372  0.794728  0.197014  0.700903  0.708320  False   \n1  2015년 01월  미국  0.035939  0.295728  0.332972  0.085394  0.496512   True   \n2  2015년 01월  일본  0.011187  0.042477  0.001249  0.112938  0.125310  False   \n3  2015년 02월  중국  0.078351  0.629759  0.099597  0.542551  0.603281  False   \n4  2015년 02월  미국  0.024131  0.254394  0.270146  0.000000  0.505660   True   \n\n      일본     중국  \n0  False   True  \n1  False  False  \n2   True  False  \n3  False   True  \n4  False  False  ",
      "text/html": "<div>\n<style scoped>\n    .dataframe tbody tr th:only-of-type {\n        vertical-align: middle;\n    }\n\n    .dataframe tbody tr th {\n        vertical-align: top;\n    }\n\n    .dataframe thead th {\n        text-align: right;\n    }\n</style>\n<table border=\"1\" class=\"dataframe\">\n  <thead>\n    <tr style=\"text-align: right;\">\n      <th></th>\n      <th>기간</th>\n      <th>국가명</th>\n      <th>수출건수</th>\n      <th>수출금액</th>\n      <th>수입건수</th>\n      <th>수입금액</th>\n      <th>무역수지</th>\n      <th>미국</th>\n      <th>일본</th>\n      <th>중국</th>\n    </tr>\n  </thead>\n  <tbody>\n    <tr>\n      <th>0</th>\n      <td>2015년 01월</td>\n      <td>중국</td>\n      <td>0.142372</td>\n      <td>0.794728</td>\n      <td>0.197014</td>\n      <td>0.700903</td>\n      <td>0.708320</td>\n      <td>False</td>\n      <td>False</td>\n      <td>True</td>\n    </tr>\n    <tr>\n      <th>1</th>\n      <td>2015년 01월</td>\n      <td>미국</td>\n      <td>0.035939</td>\n      <td>0.295728</td>\n      <td>0.332972</td>\n      <td>0.085394</td>\n      <td>0.496512</td>\n      <td>True</td>\n      <td>False</td>\n      <td>False</td>\n    </tr>\n    <tr>\n      <th>2</th>\n      <td>2015년 01월</td>\n      <td>일본</td>\n      <td>0.011187</td>\n      <td>0.042477</td>\n      <td>0.001249</td>\n      <td>0.112938</td>\n      <td>0.125310</td>\n      <td>False</td>\n      <td>True</td>\n      <td>False</td>\n    </tr>\n    <tr>\n      <th>3</th>\n      <td>2015년 02월</td>\n      <td>중국</td>\n      <td>0.078351</td>\n      <td>0.629759</td>\n      <td>0.099597</td>\n      <td>0.542551</td>\n      <td>0.603281</td>\n      <td>False</td>\n      <td>False</td>\n      <td>True</td>\n    </tr>\n    <tr>\n      <th>4</th>\n      <td>2015년 02월</td>\n      <td>미국</td>\n      <td>0.024131</td>\n      <td>0.254394</td>\n      <td>0.270146</td>\n      <td>0.000000</td>\n      <td>0.505660</td>\n      <td>True</td>\n      <td>False</td>\n      <td>False</td>\n    </tr>\n  </tbody>\n</table>\n</div>"
     },
     "execution_count": 24,
     "metadata": {},
     "output_type": "execute_result"
    }
   ],
   "source": [
    "trade = pd.concat([trade, country], axis=1)\n",
    "# axis=1 로 주어서 옆으로 붙임\n",
    "trade.head()"
   ],
   "metadata": {
    "collapsed": false,
    "ExecuteTime": {
     "end_time": "2023-08-24T13:48:49.068383600Z",
     "start_time": "2023-08-24T13:48:49.050295700Z"
    }
   }
  },
  {
   "cell_type": "code",
   "execution_count": 25,
   "outputs": [
    {
     "data": {
      "text/plain": "          기간      수출건수      수출금액      수입건수      수입금액      무역수지     미국     일본  \\\n0  2015년 01월  0.142372  0.794728  0.197014  0.700903  0.708320  False  False   \n1  2015년 01월  0.035939  0.295728  0.332972  0.085394  0.496512   True  False   \n2  2015년 01월  0.011187  0.042477  0.001249  0.112938  0.125310  False   True   \n3  2015년 02월  0.078351  0.629759  0.099597  0.542551  0.603281  False  False   \n4  2015년 02월  0.024131  0.254394  0.270146  0.000000  0.505660   True  False   \n\n      중국  \n0   True  \n1  False  \n2  False  \n3   True  \n4  False  ",
      "text/html": "<div>\n<style scoped>\n    .dataframe tbody tr th:only-of-type {\n        vertical-align: middle;\n    }\n\n    .dataframe tbody tr th {\n        vertical-align: top;\n    }\n\n    .dataframe thead th {\n        text-align: right;\n    }\n</style>\n<table border=\"1\" class=\"dataframe\">\n  <thead>\n    <tr style=\"text-align: right;\">\n      <th></th>\n      <th>기간</th>\n      <th>수출건수</th>\n      <th>수출금액</th>\n      <th>수입건수</th>\n      <th>수입금액</th>\n      <th>무역수지</th>\n      <th>미국</th>\n      <th>일본</th>\n      <th>중국</th>\n    </tr>\n  </thead>\n  <tbody>\n    <tr>\n      <th>0</th>\n      <td>2015년 01월</td>\n      <td>0.142372</td>\n      <td>0.794728</td>\n      <td>0.197014</td>\n      <td>0.700903</td>\n      <td>0.708320</td>\n      <td>False</td>\n      <td>False</td>\n      <td>True</td>\n    </tr>\n    <tr>\n      <th>1</th>\n      <td>2015년 01월</td>\n      <td>0.035939</td>\n      <td>0.295728</td>\n      <td>0.332972</td>\n      <td>0.085394</td>\n      <td>0.496512</td>\n      <td>True</td>\n      <td>False</td>\n      <td>False</td>\n    </tr>\n    <tr>\n      <th>2</th>\n      <td>2015년 01월</td>\n      <td>0.011187</td>\n      <td>0.042477</td>\n      <td>0.001249</td>\n      <td>0.112938</td>\n      <td>0.125310</td>\n      <td>False</td>\n      <td>True</td>\n      <td>False</td>\n    </tr>\n    <tr>\n      <th>3</th>\n      <td>2015년 02월</td>\n      <td>0.078351</td>\n      <td>0.629759</td>\n      <td>0.099597</td>\n      <td>0.542551</td>\n      <td>0.603281</td>\n      <td>False</td>\n      <td>False</td>\n      <td>True</td>\n    </tr>\n    <tr>\n      <th>4</th>\n      <td>2015년 02월</td>\n      <td>0.024131</td>\n      <td>0.254394</td>\n      <td>0.270146</td>\n      <td>0.000000</td>\n      <td>0.505660</td>\n      <td>True</td>\n      <td>False</td>\n      <td>False</td>\n    </tr>\n  </tbody>\n</table>\n</div>"
     },
     "execution_count": 25,
     "metadata": {},
     "output_type": "execute_result"
    }
   ],
   "source": [
    "trade.drop(['국가명'], axis=1, inplace=True)\n",
    "trade.head()"
   ],
   "metadata": {
    "collapsed": false,
    "ExecuteTime": {
     "end_time": "2023-08-24T13:48:49.093541200Z",
     "start_time": "2023-08-24T13:48:49.053311600Z"
    }
   }
  },
  {
   "cell_type": "code",
   "execution_count": 25,
   "outputs": [],
   "source": [],
   "metadata": {
    "collapsed": false,
    "ExecuteTime": {
     "end_time": "2023-08-24T13:48:49.093541200Z",
     "start_time": "2023-08-24T13:48:49.068383600Z"
    }
   }
  }
 ],
 "metadata": {
  "kernelspec": {
   "display_name": "Python 3",
   "language": "python",
   "name": "python3"
  },
  "language_info": {
   "codemirror_mode": {
    "name": "ipython",
    "version": 2
   },
   "file_extension": ".py",
   "mimetype": "text/x-python",
   "name": "python",
   "nbconvert_exporter": "python",
   "pygments_lexer": "ipython2",
   "version": "2.7.6"
  }
 },
 "nbformat": 4,
 "nbformat_minor": 0
}
