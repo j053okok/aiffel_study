{
 "cells": [
  {
   "cell_type": "code",
   "execution_count": 1,
   "metadata": {
    "collapsed": true,
    "ExecuteTime": {
     "end_time": "2023-08-24T08:01:58.991998200Z",
     "start_time": "2023-08-24T08:01:58.988024800Z"
    }
   },
   "outputs": [],
   "source": [
    "import pandas as pd\n",
    "import numpy as np\n",
    "import matplotlib.pyplot as plt"
   ]
  },
  {
   "cell_type": "code",
   "execution_count": 2,
   "outputs": [],
   "source": [
    "trade = pd.read_csv(\"trade.csv\")\n",
    "trade = trade.drop(\"기타사항\", axis=1)\n",
    "trade.dropna(how=\"all\", subset=[\"수출건수\", \"수출금액\", \"수입건수\", \"수입금액\", \"무역수지\"], inplace=True)\n",
    "trade.loc[191, '수출금액'] = (trade.loc[188, '수출금액'] + trade.loc[194, '수출금액'] )/2\n",
    "trade.loc[191, '무역수지'] = (trade.loc[188, '무역수지'] + trade.loc[194, '무역수지'] )/2\n",
    "trade.drop_duplicates(inplace=True)"
   ],
   "metadata": {
    "collapsed": false,
    "ExecuteTime": {
     "end_time": "2023-08-24T08:02:11.226367Z",
     "start_time": "2023-08-24T08:02:11.210387300Z"
    }
   }
  },
  {
   "cell_type": "markdown",
   "source": [
    "### 임의의 데이터를 생성해서 정규화 해보기"
   ],
   "metadata": {
    "collapsed": false
   }
  },
  {
   "cell_type": "code",
   "execution_count": 3,
   "outputs": [
    {
     "data": {
      "text/plain": "           A         B\n0   2.647060  0.017668\n1   4.574012 -0.425769\n2   3.869561 -0.929176\n3   1.753561  0.026319\n4   7.470267 -2.695071\n..       ...       ...\n95  1.667151  2.135065\n96  1.553666 -1.882531\n97 -1.796662  0.428472\n98  5.603041 -0.781387\n99  3.774052 -0.761782\n\n[100 rows x 2 columns]",
      "text/html": "<div>\n<style scoped>\n    .dataframe tbody tr th:only-of-type {\n        vertical-align: middle;\n    }\n\n    .dataframe tbody tr th {\n        vertical-align: top;\n    }\n\n    .dataframe thead th {\n        text-align: right;\n    }\n</style>\n<table border=\"1\" class=\"dataframe\">\n  <thead>\n    <tr style=\"text-align: right;\">\n      <th></th>\n      <th>A</th>\n      <th>B</th>\n    </tr>\n  </thead>\n  <tbody>\n    <tr>\n      <th>0</th>\n      <td>2.647060</td>\n      <td>0.017668</td>\n    </tr>\n    <tr>\n      <th>1</th>\n      <td>4.574012</td>\n      <td>-0.425769</td>\n    </tr>\n    <tr>\n      <th>2</th>\n      <td>3.869561</td>\n      <td>-0.929176</td>\n    </tr>\n    <tr>\n      <th>3</th>\n      <td>1.753561</td>\n      <td>0.026319</td>\n    </tr>\n    <tr>\n      <th>4</th>\n      <td>7.470267</td>\n      <td>-2.695071</td>\n    </tr>\n    <tr>\n      <th>...</th>\n      <td>...</td>\n      <td>...</td>\n    </tr>\n    <tr>\n      <th>95</th>\n      <td>1.667151</td>\n      <td>2.135065</td>\n    </tr>\n    <tr>\n      <th>96</th>\n      <td>1.553666</td>\n      <td>-1.882531</td>\n    </tr>\n    <tr>\n      <th>97</th>\n      <td>-1.796662</td>\n      <td>0.428472</td>\n    </tr>\n    <tr>\n      <th>98</th>\n      <td>5.603041</td>\n      <td>-0.781387</td>\n    </tr>\n    <tr>\n      <th>99</th>\n      <td>3.774052</td>\n      <td>-0.761782</td>\n    </tr>\n  </tbody>\n</table>\n<p>100 rows × 2 columns</p>\n</div>"
     },
     "execution_count": 3,
     "metadata": {},
     "output_type": "execute_result"
    }
   ],
   "source": [
    "x = pd.DataFrame({'A': np.random.randn(100)*4+4,\n",
    "                 'B': np.random.randn(100)-1})\n",
    "x"
   ],
   "metadata": {
    "collapsed": false,
    "ExecuteTime": {
     "end_time": "2023-08-24T08:02:39.565709500Z",
     "start_time": "2023-08-24T08:02:39.504000300Z"
    }
   }
  },
  {
   "cell_type": "code",
   "execution_count": 4,
   "outputs": [
    {
     "data": {
      "text/plain": "           A         B\n0  -0.408499  0.937077\n1   0.107511  0.506169\n2  -0.081131  0.016986\n3  -0.647765  0.945483\n4   0.883086 -1.699016\n..       ...       ...\n95 -0.670904  2.994649\n96 -0.701293 -0.909433\n97 -1.598462  1.336274\n98  0.383070  0.160598\n99 -0.106707  0.179649\n\n[100 rows x 2 columns]",
      "text/html": "<div>\n<style scoped>\n    .dataframe tbody tr th:only-of-type {\n        vertical-align: middle;\n    }\n\n    .dataframe tbody tr th {\n        vertical-align: top;\n    }\n\n    .dataframe thead th {\n        text-align: right;\n    }\n</style>\n<table border=\"1\" class=\"dataframe\">\n  <thead>\n    <tr style=\"text-align: right;\">\n      <th></th>\n      <th>A</th>\n      <th>B</th>\n    </tr>\n  </thead>\n  <tbody>\n    <tr>\n      <th>0</th>\n      <td>-0.408499</td>\n      <td>0.937077</td>\n    </tr>\n    <tr>\n      <th>1</th>\n      <td>0.107511</td>\n      <td>0.506169</td>\n    </tr>\n    <tr>\n      <th>2</th>\n      <td>-0.081131</td>\n      <td>0.016986</td>\n    </tr>\n    <tr>\n      <th>3</th>\n      <td>-0.647765</td>\n      <td>0.945483</td>\n    </tr>\n    <tr>\n      <th>4</th>\n      <td>0.883086</td>\n      <td>-1.699016</td>\n    </tr>\n    <tr>\n      <th>...</th>\n      <td>...</td>\n      <td>...</td>\n    </tr>\n    <tr>\n      <th>95</th>\n      <td>-0.670904</td>\n      <td>2.994649</td>\n    </tr>\n    <tr>\n      <th>96</th>\n      <td>-0.701293</td>\n      <td>-0.909433</td>\n    </tr>\n    <tr>\n      <th>97</th>\n      <td>-1.598462</td>\n      <td>1.336274</td>\n    </tr>\n    <tr>\n      <th>98</th>\n      <td>0.383070</td>\n      <td>0.160598</td>\n    </tr>\n    <tr>\n      <th>99</th>\n      <td>-0.106707</td>\n      <td>0.179649</td>\n    </tr>\n  </tbody>\n</table>\n<p>100 rows × 2 columns</p>\n</div>"
     },
     "execution_count": 4,
     "metadata": {},
     "output_type": "execute_result"
    }
   ],
   "source": [
    "# Standardization 기법\n",
    "x_standardization = (x-x.mean())/x.std()\n",
    "x_standardization"
   ],
   "metadata": {
    "collapsed": false,
    "ExecuteTime": {
     "end_time": "2023-08-24T08:03:21.396705800Z",
     "start_time": "2023-08-24T08:03:21.374822400Z"
    }
   }
  },
  {
   "cell_type": "code",
   "execution_count": 5,
   "outputs": [
    {
     "data": {
      "text/plain": "           A         B\n0   0.434325  0.658575\n1   0.530668  0.587072\n2   0.495448  0.505899\n3   0.389652  0.659970\n4   0.675475  0.221152\n..       ...       ...\n95  0.385332  1.000000\n96  0.379658  0.352172\n97  0.212149  0.724816\n98  0.582118  0.529729\n99  0.490672  0.532890\n\n[100 rows x 2 columns]",
      "text/html": "<div>\n<style scoped>\n    .dataframe tbody tr th:only-of-type {\n        vertical-align: middle;\n    }\n\n    .dataframe tbody tr th {\n        vertical-align: top;\n    }\n\n    .dataframe thead th {\n        text-align: right;\n    }\n</style>\n<table border=\"1\" class=\"dataframe\">\n  <thead>\n    <tr style=\"text-align: right;\">\n      <th></th>\n      <th>A</th>\n      <th>B</th>\n    </tr>\n  </thead>\n  <tbody>\n    <tr>\n      <th>0</th>\n      <td>0.434325</td>\n      <td>0.658575</td>\n    </tr>\n    <tr>\n      <th>1</th>\n      <td>0.530668</td>\n      <td>0.587072</td>\n    </tr>\n    <tr>\n      <th>2</th>\n      <td>0.495448</td>\n      <td>0.505899</td>\n    </tr>\n    <tr>\n      <th>3</th>\n      <td>0.389652</td>\n      <td>0.659970</td>\n    </tr>\n    <tr>\n      <th>4</th>\n      <td>0.675475</td>\n      <td>0.221152</td>\n    </tr>\n    <tr>\n      <th>...</th>\n      <td>...</td>\n      <td>...</td>\n    </tr>\n    <tr>\n      <th>95</th>\n      <td>0.385332</td>\n      <td>1.000000</td>\n    </tr>\n    <tr>\n      <th>96</th>\n      <td>0.379658</td>\n      <td>0.352172</td>\n    </tr>\n    <tr>\n      <th>97</th>\n      <td>0.212149</td>\n      <td>0.724816</td>\n    </tr>\n    <tr>\n      <th>98</th>\n      <td>0.582118</td>\n      <td>0.529729</td>\n    </tr>\n    <tr>\n      <th>99</th>\n      <td>0.490672</td>\n      <td>0.532890</td>\n    </tr>\n  </tbody>\n</table>\n<p>100 rows × 2 columns</p>\n</div>"
     },
     "execution_count": 5,
     "metadata": {},
     "output_type": "execute_result"
    }
   ],
   "source": [
    "# min-max scaling 기법\n",
    "x_min_max = (x-x.min())/(x.max()-x.min())\n",
    "x_min_max"
   ],
   "metadata": {
    "collapsed": false,
    "ExecuteTime": {
     "end_time": "2023-08-24T08:03:29.178881500Z",
     "start_time": "2023-08-24T08:03:29.162914600Z"
    }
   }
  },
  {
   "cell_type": "code",
   "execution_count": 6,
   "outputs": [
    {
     "data": {
      "text/plain": "<Figure size 1200x400 with 2 Axes>",
      "image/png": "[encoded data removed]"
     },
     "metadata": {},
     "output_type": "display_data"
    }
   ],
   "source": [
    "fig, axs = plt.subplots(1,2, figsize=(12, 4),\n",
    "                        gridspec_kw={'width_ratios': [2, 1]})\n",
    "\n",
    "axs[0].scatter(x['A'], x['B'])\n",
    "axs[0].set_xlim(-5, 15)\n",
    "axs[0].set_ylim(-5, 5)\n",
    "axs[0].axvline(c='grey', lw=1)\n",
    "axs[0].axhline(c='grey', lw=1)\n",
    "axs[0].set_title('Original Data')\n",
    "\n",
    "axs[1].scatter(x_standardization['A'], x_standardization['B'])\n",
    "axs[1].set_xlim(-5, 5)\n",
    "axs[1].set_ylim(-5, 5)\n",
    "axs[1].axvline(c='grey', lw=1)\n",
    "axs[1].axhline(c='grey', lw=1)\n",
    "axs[1].set_title('Data after standardization')\n",
    "\n",
    "plt.show()"
   ],
   "metadata": {
    "collapsed": false,
    "ExecuteTime": {
     "end_time": "2023-08-24T08:03:44.351041600Z",
     "start_time": "2023-08-24T08:03:44.049547600Z"
    }
   }
  },
  {
   "cell_type": "code",
   "execution_count": 7,
   "outputs": [
    {
     "data": {
      "text/plain": "<Figure size 1200x400 with 2 Axes>",
      "image/png": "[encoded data removed]"
     },
     "metadata": {},
     "output_type": "display_data"
    }
   ],
   "source": [
    "fig, axs = plt.subplots(1,2, figsize=(12, 4),\n",
    "                        gridspec_kw={'width_ratios': [2, 1]})\n",
    "\n",
    "axs[0].scatter(x['A'], x['B'])\n",
    "axs[0].set_xlim(-5, 15)\n",
    "axs[0].set_ylim(-5, 5)\n",
    "axs[0].axvline(c='grey', lw=1)\n",
    "axs[0].axhline(c='grey', lw=1)\n",
    "axs[0].set_title('Original Data')\n",
    "\n",
    "axs[1].scatter(x_min_max['A'], x_min_max['B'])\n",
    "axs[1].set_xlim(-5, 5)\n",
    "axs[1].set_ylim(-5, 5)\n",
    "axs[1].axvline(c='grey', lw=1)\n",
    "axs[1].axhline(c='grey', lw=1)\n",
    "axs[1].set_title('Data after min-max scaling')\n",
    "\n",
    "plt.show()"
   ],
   "metadata": {
    "collapsed": false,
    "ExecuteTime": {
     "end_time": "2023-08-24T08:03:50.251566500Z",
     "start_time": "2023-08-24T08:03:50.008797500Z"
    }
   }
  },
  {
   "cell_type": "markdown",
   "source": [
    "### trade 데이터를 가지고 정규화 해보기"
   ],
   "metadata": {
    "collapsed": false
   }
  },
  {
   "cell_type": "code",
   "execution_count": 8,
   "outputs": [
    {
     "data": {
      "text/plain": "       수출건수      수출금액      수입건수      수입금액      무역수지\n0 -0.007488  1.398931 -0.163593  1.283660  1.255899\n1 -0.689278 -0.252848  0.412529 -0.964444  0.400646\n2 -0.847838 -1.091156 -0.993148 -0.863844 -1.098217\n3 -0.417598  0.852853 -0.576399  0.705292  0.831767\n4 -0.764918 -0.389673  0.146306 -1.276341  0.437586",
      "text/html": "<div>\n<style scoped>\n    .dataframe tbody tr th:only-of-type {\n        vertical-align: middle;\n    }\n\n    .dataframe tbody tr th {\n        vertical-align: top;\n    }\n\n    .dataframe thead th {\n        text-align: right;\n    }\n</style>\n<table border=\"1\" class=\"dataframe\">\n  <thead>\n    <tr style=\"text-align: right;\">\n      <th></th>\n      <th>수출건수</th>\n      <th>수출금액</th>\n      <th>수입건수</th>\n      <th>수입금액</th>\n      <th>무역수지</th>\n    </tr>\n  </thead>\n  <tbody>\n    <tr>\n      <th>0</th>\n      <td>-0.007488</td>\n      <td>1.398931</td>\n      <td>-0.163593</td>\n      <td>1.283660</td>\n      <td>1.255899</td>\n    </tr>\n    <tr>\n      <th>1</th>\n      <td>-0.689278</td>\n      <td>-0.252848</td>\n      <td>0.412529</td>\n      <td>-0.964444</td>\n      <td>0.400646</td>\n    </tr>\n    <tr>\n      <th>2</th>\n      <td>-0.847838</td>\n      <td>-1.091156</td>\n      <td>-0.993148</td>\n      <td>-0.863844</td>\n      <td>-1.098217</td>\n    </tr>\n    <tr>\n      <th>3</th>\n      <td>-0.417598</td>\n      <td>0.852853</td>\n      <td>-0.576399</td>\n      <td>0.705292</td>\n      <td>0.831767</td>\n    </tr>\n    <tr>\n      <th>4</th>\n      <td>-0.764918</td>\n      <td>-0.389673</td>\n      <td>0.146306</td>\n      <td>-1.276341</td>\n      <td>0.437586</td>\n    </tr>\n  </tbody>\n</table>\n</div>"
     },
     "execution_count": 8,
     "metadata": {},
     "output_type": "execute_result"
    }
   ],
   "source": [
    "cols = ['수출건수', '수출금액', '수입건수', '수입금액', '무역수지']\n",
    "trade_standardization = (trade[cols]-trade[cols].mean())/trade[cols].std()\n",
    "trade_standardization.head()"
   ],
   "metadata": {
    "collapsed": false,
    "ExecuteTime": {
     "end_time": "2023-08-24T08:04:28.637720900Z",
     "start_time": "2023-08-24T08:04:28.637720900Z"
    }
   }
  },
  {
   "cell_type": "code",
   "execution_count": 9,
   "outputs": [
    {
     "data": {
      "text/plain": "               수출건수          수출금액          수입건수          수입금액          무역수지\ncount  1.950000e+02  1.950000e+02  1.950000e+02  1.950000e+02  1.950000e+02\nmean  -1.093143e-16  6.832142e-17  1.821904e-17 -5.465713e-17  4.099285e-17\nstd    1.000000e+00  1.000000e+00  1.000000e+00  1.000000e+00  1.000000e+00\nmin   -9.194976e-01 -1.231761e+00 -9.984408e-01 -1.276341e+00 -1.604200e+00\n25%   -5.937426e-01 -1.041338e+00 -7.673625e-01 -7.911669e-01 -1.117203e+00\n50%   -4.373265e-01 -1.564700e-01 -3.429346e-01 -4.137392e-01  1.422420e-01\n75%    4.420459e-01  1.037200e+00  3.927781e-01  8.827841e-01  7.457220e-01\nmax    5.486317e+00  2.078416e+00  3.239068e+00  2.376092e+00  2.433663e+00",
      "text/html": "<div>\n<style scoped>\n    .dataframe tbody tr th:only-of-type {\n        vertical-align: middle;\n    }\n\n    .dataframe tbody tr th {\n        vertical-align: top;\n    }\n\n    .dataframe thead th {\n        text-align: right;\n    }\n</style>\n<table border=\"1\" class=\"dataframe\">\n  <thead>\n    <tr style=\"text-align: right;\">\n      <th></th>\n      <th>수출건수</th>\n      <th>수출금액</th>\n      <th>수입건수</th>\n      <th>수입금액</th>\n      <th>무역수지</th>\n    </tr>\n  </thead>\n  <tbody>\n    <tr>\n      <th>count</th>\n      <td>1.950000e+02</td>\n      <td>1.950000e+02</td>\n      <td>1.950000e+02</td>\n      <td>1.950000e+02</td>\n      <td>1.950000e+02</td>\n    </tr>\n    <tr>\n      <th>mean</th>\n      <td>-1.093143e-16</td>\n      <td>6.832142e-17</td>\n      <td>1.821904e-17</td>\n      <td>-5.465713e-17</td>\n      <td>4.099285e-17</td>\n    </tr>\n    <tr>\n      <th>std</th>\n      <td>1.000000e+00</td>\n      <td>1.000000e+00</td>\n      <td>1.000000e+00</td>\n      <td>1.000000e+00</td>\n      <td>1.000000e+00</td>\n    </tr>\n    <tr>\n      <th>min</th>\n      <td>-9.194976e-01</td>\n      <td>-1.231761e+00</td>\n      <td>-9.984408e-01</td>\n      <td>-1.276341e+00</td>\n      <td>-1.604200e+00</td>\n    </tr>\n    <tr>\n      <th>25%</th>\n      <td>-5.937426e-01</td>\n      <td>-1.041338e+00</td>\n      <td>-7.673625e-01</td>\n      <td>-7.911669e-01</td>\n      <td>-1.117203e+00</td>\n    </tr>\n    <tr>\n      <th>50%</th>\n      <td>-4.373265e-01</td>\n      <td>-1.564700e-01</td>\n      <td>-3.429346e-01</td>\n      <td>-4.137392e-01</td>\n      <td>1.422420e-01</td>\n    </tr>\n    <tr>\n      <th>75%</th>\n      <td>4.420459e-01</td>\n      <td>1.037200e+00</td>\n      <td>3.927781e-01</td>\n      <td>8.827841e-01</td>\n      <td>7.457220e-01</td>\n    </tr>\n    <tr>\n      <th>max</th>\n      <td>5.486317e+00</td>\n      <td>2.078416e+00</td>\n      <td>3.239068e+00</td>\n      <td>2.376092e+00</td>\n      <td>2.433663e+00</td>\n    </tr>\n  </tbody>\n</table>\n</div>"
     },
     "execution_count": 9,
     "metadata": {},
     "output_type": "execute_result"
    }
   ],
   "source": [
    "trade_standardization.describe()"
   ],
   "metadata": {
    "collapsed": false,
    "ExecuteTime": {
     "end_time": "2023-08-24T08:04:36.146279300Z",
     "start_time": "2023-08-24T08:04:36.126236800Z"
    }
   }
  },
  {
   "cell_type": "code",
   "execution_count": 10,
   "outputs": [
    {
     "data": {
      "text/plain": "          기간 국가명      수출건수      수출금액      수입건수      수입금액      무역수지\n0  2015년 01월  중국  0.142372  0.794728  0.197014  0.700903  0.708320\n1  2015년 01월  미국  0.035939  0.295728  0.332972  0.085394  0.496512\n2  2015년 01월  일본  0.011187  0.042477  0.001249  0.112938  0.125310\n3  2015년 02월  중국  0.078351  0.629759  0.099597  0.542551  0.603281\n4  2015년 02월  미국  0.024131  0.254394  0.270146  0.000000  0.505660",
      "text/html": "<div>\n<style scoped>\n    .dataframe tbody tr th:only-of-type {\n        vertical-align: middle;\n    }\n\n    .dataframe tbody tr th {\n        vertical-align: top;\n    }\n\n    .dataframe thead th {\n        text-align: right;\n    }\n</style>\n<table border=\"1\" class=\"dataframe\">\n  <thead>\n    <tr style=\"text-align: right;\">\n      <th></th>\n      <th>기간</th>\n      <th>국가명</th>\n      <th>수출건수</th>\n      <th>수출금액</th>\n      <th>수입건수</th>\n      <th>수입금액</th>\n      <th>무역수지</th>\n    </tr>\n  </thead>\n  <tbody>\n    <tr>\n      <th>0</th>\n      <td>2015년 01월</td>\n      <td>중국</td>\n      <td>0.142372</td>\n      <td>0.794728</td>\n      <td>0.197014</td>\n      <td>0.700903</td>\n      <td>0.708320</td>\n    </tr>\n    <tr>\n      <th>1</th>\n      <td>2015년 01월</td>\n      <td>미국</td>\n      <td>0.035939</td>\n      <td>0.295728</td>\n      <td>0.332972</td>\n      <td>0.085394</td>\n      <td>0.496512</td>\n    </tr>\n    <tr>\n      <th>2</th>\n      <td>2015년 01월</td>\n      <td>일본</td>\n      <td>0.011187</td>\n      <td>0.042477</td>\n      <td>0.001249</td>\n      <td>0.112938</td>\n      <td>0.125310</td>\n    </tr>\n    <tr>\n      <th>3</th>\n      <td>2015년 02월</td>\n      <td>중국</td>\n      <td>0.078351</td>\n      <td>0.629759</td>\n      <td>0.099597</td>\n      <td>0.542551</td>\n      <td>0.603281</td>\n    </tr>\n    <tr>\n      <th>4</th>\n      <td>2015년 02월</td>\n      <td>미국</td>\n      <td>0.024131</td>\n      <td>0.254394</td>\n      <td>0.270146</td>\n      <td>0.000000</td>\n      <td>0.505660</td>\n    </tr>\n  </tbody>\n</table>\n</div>"
     },
     "execution_count": 10,
     "metadata": {},
     "output_type": "execute_result"
    }
   ],
   "source": [
    "trade[cols] = (trade[cols]-trade[cols].min())/(trade[cols].max()-trade[cols].min())\n",
    "trade.head()"
   ],
   "metadata": {
    "collapsed": false,
    "ExecuteTime": {
     "end_time": "2023-08-24T08:05:05.757923400Z",
     "start_time": "2023-08-24T08:05:05.726205700Z"
    }
   }
  },
  {
   "cell_type": "code",
   "execution_count": 11,
   "outputs": [
    {
     "data": {
      "text/plain": "             수출건수        수출금액        수입건수        수입금액        무역수지\ncount  195.000000  195.000000  195.000000  195.000000  195.000000\nmean     0.143541    0.372113    0.235620    0.349450    0.397289\nstd      0.156108    0.302099    0.235988    0.273790    0.247656\nmin      0.000000    0.000000    0.000000    0.000000    0.000000\n25%      0.050853    0.057527    0.054532    0.132836    0.120608\n50%      0.075271    0.324844    0.154691    0.236172    0.432516\n75%      0.212548    0.685450    0.328311    0.591147    0.581972\nmax      1.000000    1.000000    1.000000    1.000000    1.000000",
      "text/html": "<div>\n<style scoped>\n    .dataframe tbody tr th:only-of-type {\n        vertical-align: middle;\n    }\n\n    .dataframe tbody tr th {\n        vertical-align: top;\n    }\n\n    .dataframe thead th {\n        text-align: right;\n    }\n</style>\n<table border=\"1\" class=\"dataframe\">\n  <thead>\n    <tr style=\"text-align: right;\">\n      <th></th>\n      <th>수출건수</th>\n      <th>수출금액</th>\n      <th>수입건수</th>\n      <th>수입금액</th>\n      <th>무역수지</th>\n    </tr>\n  </thead>\n  <tbody>\n    <tr>\n      <th>count</th>\n      <td>195.000000</td>\n      <td>195.000000</td>\n      <td>195.000000</td>\n      <td>195.000000</td>\n      <td>195.000000</td>\n    </tr>\n    <tr>\n      <th>mean</th>\n      <td>0.143541</td>\n      <td>0.372113</td>\n      <td>0.235620</td>\n      <td>0.349450</td>\n      <td>0.397289</td>\n    </tr>\n    <tr>\n      <th>std</th>\n      <td>0.156108</td>\n      <td>0.302099</td>\n      <td>0.235988</td>\n      <td>0.273790</td>\n      <td>0.247656</td>\n    </tr>\n    <tr>\n      <th>min</th>\n      <td>0.000000</td>\n      <td>0.000000</td>\n      <td>0.000000</td>\n      <td>0.000000</td>\n      <td>0.000000</td>\n    </tr>\n    <tr>\n      <th>25%</th>\n      <td>0.050853</td>\n      <td>0.057527</td>\n      <td>0.054532</td>\n      <td>0.132836</td>\n      <td>0.120608</td>\n    </tr>\n    <tr>\n      <th>50%</th>\n      <td>0.075271</td>\n      <td>0.324844</td>\n      <td>0.154691</td>\n      <td>0.236172</td>\n      <td>0.432516</td>\n    </tr>\n    <tr>\n      <th>75%</th>\n      <td>0.212548</td>\n      <td>0.685450</td>\n      <td>0.328311</td>\n      <td>0.591147</td>\n      <td>0.581972</td>\n    </tr>\n    <tr>\n      <th>max</th>\n      <td>1.000000</td>\n      <td>1.000000</td>\n      <td>1.000000</td>\n      <td>1.000000</td>\n      <td>1.000000</td>\n    </tr>\n  </tbody>\n</table>\n</div>"
     },
     "execution_count": 11,
     "metadata": {},
     "output_type": "execute_result"
    }
   ],
   "source": [
    "trade.describe()"
   ],
   "metadata": {
    "collapsed": false,
    "ExecuteTime": {
     "end_time": "2023-08-24T08:05:11.843615100Z",
     "start_time": "2023-08-24T08:05:11.822175600Z"
    }
   }
  },
  {
   "cell_type": "markdown",
   "source": [
    "두가지 기법의 차이로 봤을때 min-max기법이 좀더 잘 작동된다"
   ],
   "metadata": {
    "collapsed": false
   }
  },
  {
   "cell_type": "markdown",
   "source": [
    "### 머신러닝에서는 train데이터를 기준으로 test데이터를 정규화시켜야함"
   ],
   "metadata": {
    "collapsed": false
   }
  },
  {
   "cell_type": "code",
   "execution_count": 12,
   "outputs": [],
   "source": [
    "train = pd.DataFrame([[10, -10], [30, 10], [50, 0]])\n",
    "test = pd.DataFrame([[0, 1], [10, 10]])"
   ],
   "metadata": {
    "collapsed": false,
    "ExecuteTime": {
     "end_time": "2023-08-24T08:06:32.862327Z",
     "start_time": "2023-08-24T08:06:32.853733900Z"
    }
   }
  },
  {
   "cell_type": "code",
   "execution_count": 13,
   "outputs": [
    {
     "data": {
      "text/plain": "    0   1\n0  10 -10\n1  30  10\n2  50   0",
      "text/html": "<div>\n<style scoped>\n    .dataframe tbody tr th:only-of-type {\n        vertical-align: middle;\n    }\n\n    .dataframe tbody tr th {\n        vertical-align: top;\n    }\n\n    .dataframe thead th {\n        text-align: right;\n    }\n</style>\n<table border=\"1\" class=\"dataframe\">\n  <thead>\n    <tr style=\"text-align: right;\">\n      <th></th>\n      <th>0</th>\n      <th>1</th>\n    </tr>\n  </thead>\n  <tbody>\n    <tr>\n      <th>0</th>\n      <td>10</td>\n      <td>-10</td>\n    </tr>\n    <tr>\n      <th>1</th>\n      <td>30</td>\n      <td>10</td>\n    </tr>\n    <tr>\n      <th>2</th>\n      <td>50</td>\n      <td>0</td>\n    </tr>\n  </tbody>\n</table>\n</div>"
     },
     "execution_count": 13,
     "metadata": {},
     "output_type": "execute_result"
    }
   ],
   "source": [
    "train"
   ],
   "metadata": {
    "collapsed": false,
    "ExecuteTime": {
     "end_time": "2023-08-24T08:06:36.801687500Z",
     "start_time": "2023-08-24T08:06:36.792589400Z"
    }
   }
  },
  {
   "cell_type": "code",
   "execution_count": 14,
   "outputs": [
    {
     "data": {
      "text/plain": "    0   1\n0   0   1\n1  10  10",
      "text/html": "<div>\n<style scoped>\n    .dataframe tbody tr th:only-of-type {\n        vertical-align: middle;\n    }\n\n    .dataframe tbody tr th {\n        vertical-align: top;\n    }\n\n    .dataframe thead th {\n        text-align: right;\n    }\n</style>\n<table border=\"1\" class=\"dataframe\">\n  <thead>\n    <tr style=\"text-align: right;\">\n      <th></th>\n      <th>0</th>\n      <th>1</th>\n    </tr>\n  </thead>\n  <tbody>\n    <tr>\n      <th>0</th>\n      <td>0</td>\n      <td>1</td>\n    </tr>\n    <tr>\n      <th>1</th>\n      <td>10</td>\n      <td>10</td>\n    </tr>\n  </tbody>\n</table>\n</div>"
     },
     "execution_count": 14,
     "metadata": {},
     "output_type": "execute_result"
    }
   ],
   "source": [
    "test"
   ],
   "metadata": {
    "collapsed": false,
    "ExecuteTime": {
     "end_time": "2023-08-24T08:06:40.099984900Z",
     "start_time": "2023-08-24T08:06:40.095268800Z"
    }
   }
  },
  {
   "cell_type": "code",
   "execution_count": 15,
   "outputs": [],
   "source": [
    "train_min_max = (train-train.min())/(train.max()-train.min())\n",
    "test_min_max =  (test-test.min())/(train.max()-train.min())"
   ],
   "metadata": {
    "collapsed": false,
    "ExecuteTime": {
     "end_time": "2023-08-24T08:18:37.032834500Z",
     "start_time": "2023-08-24T08:18:37.025829500Z"
    }
   }
  },
  {
   "cell_type": "code",
   "execution_count": 16,
   "outputs": [
    {
     "data": {
      "text/plain": "     0    1\n0  0.0  0.0\n1  0.5  1.0\n2  1.0  0.5",
      "text/html": "<div>\n<style scoped>\n    .dataframe tbody tr th:only-of-type {\n        vertical-align: middle;\n    }\n\n    .dataframe tbody tr th {\n        vertical-align: top;\n    }\n\n    .dataframe thead th {\n        text-align: right;\n    }\n</style>\n<table border=\"1\" class=\"dataframe\">\n  <thead>\n    <tr style=\"text-align: right;\">\n      <th></th>\n      <th>0</th>\n      <th>1</th>\n    </tr>\n  </thead>\n  <tbody>\n    <tr>\n      <th>0</th>\n      <td>0.0</td>\n      <td>0.0</td>\n    </tr>\n    <tr>\n      <th>1</th>\n      <td>0.5</td>\n      <td>1.0</td>\n    </tr>\n    <tr>\n      <th>2</th>\n      <td>1.0</td>\n      <td>0.5</td>\n    </tr>\n  </tbody>\n</table>\n</div>"
     },
     "execution_count": 16,
     "metadata": {},
     "output_type": "execute_result"
    }
   ],
   "source": [
    "train_min_max"
   ],
   "metadata": {
    "collapsed": false,
    "ExecuteTime": {
     "end_time": "2023-08-24T08:18:40.957015300Z",
     "start_time": "2023-08-24T08:18:40.894391600Z"
    }
   }
  },
  {
   "cell_type": "code",
   "execution_count": 20,
   "outputs": [
    {
     "data": {
      "text/plain": "      0     1\n0  0.00  0.00\n1  0.25  0.45",
      "text/html": "<div>\n<style scoped>\n    .dataframe tbody tr th:only-of-type {\n        vertical-align: middle;\n    }\n\n    .dataframe tbody tr th {\n        vertical-align: top;\n    }\n\n    .dataframe thead th {\n        text-align: right;\n    }\n</style>\n<table border=\"1\" class=\"dataframe\">\n  <thead>\n    <tr style=\"text-align: right;\">\n      <th></th>\n      <th>0</th>\n      <th>1</th>\n    </tr>\n  </thead>\n  <tbody>\n    <tr>\n      <th>0</th>\n      <td>0.00</td>\n      <td>0.00</td>\n    </tr>\n    <tr>\n      <th>1</th>\n      <td>0.25</td>\n      <td>0.45</td>\n    </tr>\n  </tbody>\n</table>\n</div>"
     },
     "execution_count": 20,
     "metadata": {},
     "output_type": "execute_result"
    }
   ],
   "source": [
    "test_min_max"
   ],
   "metadata": {
    "collapsed": false,
    "ExecuteTime": {
     "end_time": "2023-08-24T08:19:20.253078900Z",
     "start_time": "2023-08-24T08:19:20.232954700Z"
    }
   }
  },
  {
   "cell_type": "code",
   "execution_count": 22,
   "outputs": [],
   "source": [
    "from sklearn.preprocessing import MinMaxScaler\n",
    "train = [[10, -10], [30, 10], [50, 0]]\n",
    "test = [[0, 1]]\n",
    "scaler = MinMaxScaler()"
   ],
   "metadata": {
    "collapsed": false,
    "ExecuteTime": {
     "end_time": "2023-08-24T08:21:18.403088800Z",
     "start_time": "2023-08-24T08:21:17.550174400Z"
    }
   }
  },
  {
   "cell_type": "code",
   "execution_count": 24,
   "outputs": [
    {
     "data": {
      "text/plain": "array([[0. , 0. ],\n       [0.5, 1. ],\n       [1. , 0.5]])"
     },
     "execution_count": 24,
     "metadata": {},
     "output_type": "execute_result"
    }
   ],
   "source": [
    "scaler.fit_transform(train)"
   ],
   "metadata": {
    "collapsed": false,
    "ExecuteTime": {
     "end_time": "2023-08-24T08:21:38.727900600Z",
     "start_time": "2023-08-24T08:21:38.711146100Z"
    }
   }
  },
  {
   "cell_type": "code",
   "execution_count": 25,
   "outputs": [
    {
     "data": {
      "text/plain": "array([[-0.25,  0.55]])"
     },
     "execution_count": 25,
     "metadata": {},
     "output_type": "execute_result"
    }
   ],
   "source": [
    "scaler.transform(test)"
   ],
   "metadata": {
    "collapsed": false,
    "ExecuteTime": {
     "end_time": "2023-08-24T08:21:39.607968300Z",
     "start_time": "2023-08-24T08:21:39.607968300Z"
    }
   }
  },
  {
   "cell_type": "code",
   "execution_count": null,
   "outputs": [],
   "source": [
    "."
   ],
   "metadata": {
    "collapsed": false
   }
  }
 ],
 "metadata": {
  "kernelspec": {
   "display_name": "Python 3",
   "language": "python",
   "name": "python3"
  },
  "language_info": {
   "codemirror_mode": {
    "name": "ipython",
    "version": 2
   },
   "file_extension": ".py",
   "mimetype": "text/x-python",
   "name": "python",
   "nbconvert_exporter": "python",
   "pygments_lexer": "ipython2",
   "version": "2.7.6"
  }
 },
 "nbformat": 4,
 "nbformat_minor": 0
}
