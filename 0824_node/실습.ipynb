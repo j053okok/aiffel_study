{
 "cells": [
  {
   "cell_type": "code",
   "execution_count": 81,
   "metadata": {
    "collapsed": true,
    "ExecuteTime": {
     "end_time": "2023-08-27T21:54:35.575120200Z",
     "start_time": "2023-08-27T21:54:35.543380900Z"
    }
   },
   "outputs": [],
   "source": [
    "import pandas as pd\n",
    "import numpy as np\n",
    "import matplotlib.pyplot as plt"
   ]
  },
  {
   "cell_type": "code",
   "execution_count": 82,
   "outputs": [
    {
     "data": {
      "text/plain": "          기간 국가명      수출건수        수출금액      수입건수       수입금액       무역수지  기타사항\n0  2015년 01월  중국  116932.0  12083947.0  334522.0  8143271.0  3940676.0   NaN\n1  2015년 01월  미국   65888.0   5561545.0  509564.0  3625062.0  1936484.0   NaN\n2  2015년 01월  일본   54017.0   2251307.0   82480.0  3827247.0 -1575940.0   NaN\n3  2015년 02월  중국   86228.0   9927642.0  209100.0  6980874.0  2946768.0   NaN\n4  2015년 02월  미국   60225.0   5021264.0  428678.0  2998216.0  2023048.0   NaN",
      "text/html": "<div>\n<style scoped>\n    .dataframe tbody tr th:only-of-type {\n        vertical-align: middle;\n    }\n\n    .dataframe tbody tr th {\n        vertical-align: top;\n    }\n\n    .dataframe thead th {\n        text-align: right;\n    }\n</style>\n<table border=\"1\" class=\"dataframe\">\n  <thead>\n    <tr style=\"text-align: right;\">\n      <th></th>\n      <th>기간</th>\n      <th>국가명</th>\n      <th>수출건수</th>\n      <th>수출금액</th>\n      <th>수입건수</th>\n      <th>수입금액</th>\n      <th>무역수지</th>\n      <th>기타사항</th>\n    </tr>\n  </thead>\n  <tbody>\n    <tr>\n      <th>0</th>\n      <td>2015년 01월</td>\n      <td>중국</td>\n      <td>116932.0</td>\n      <td>12083947.0</td>\n      <td>334522.0</td>\n      <td>8143271.0</td>\n      <td>3940676.0</td>\n      <td>NaN</td>\n    </tr>\n    <tr>\n      <th>1</th>\n      <td>2015년 01월</td>\n      <td>미국</td>\n      <td>65888.0</td>\n      <td>5561545.0</td>\n      <td>509564.0</td>\n      <td>3625062.0</td>\n      <td>1936484.0</td>\n      <td>NaN</td>\n    </tr>\n    <tr>\n      <th>2</th>\n      <td>2015년 01월</td>\n      <td>일본</td>\n      <td>54017.0</td>\n      <td>2251307.0</td>\n      <td>82480.0</td>\n      <td>3827247.0</td>\n      <td>-1575940.0</td>\n      <td>NaN</td>\n    </tr>\n    <tr>\n      <th>3</th>\n      <td>2015년 02월</td>\n      <td>중국</td>\n      <td>86228.0</td>\n      <td>9927642.0</td>\n      <td>209100.0</td>\n      <td>6980874.0</td>\n      <td>2946768.0</td>\n      <td>NaN</td>\n    </tr>\n    <tr>\n      <th>4</th>\n      <td>2015년 02월</td>\n      <td>미국</td>\n      <td>60225.0</td>\n      <td>5021264.0</td>\n      <td>428678.0</td>\n      <td>2998216.0</td>\n      <td>2023048.0</td>\n      <td>NaN</td>\n    </tr>\n  </tbody>\n</table>\n</div>"
     },
     "execution_count": 82,
     "metadata": {},
     "output_type": "execute_result"
    }
   ],
   "source": [
    "df = pd.read_csv(\"trade.csv\")\n",
    "df.head()"
   ],
   "metadata": {
    "collapsed": false,
    "ExecuteTime": {
     "end_time": "2023-08-27T21:54:35.865514900Z",
     "start_time": "2023-08-27T21:54:35.840431400Z"
    }
   }
  },
  {
   "cell_type": "code",
   "execution_count": 83,
   "outputs": [
    {
     "name": "stdout",
     "output_type": "stream",
     "text": [
      "<class 'pandas.core.frame.DataFrame'>\n",
      "RangeIndex: 199 entries, 0 to 198\n",
      "Data columns (total 8 columns):\n",
      " #   Column  Non-Null Count  Dtype  \n",
      "---  ------  --------------  -----  \n",
      " 0   기간      199 non-null    object \n",
      " 1   국가명     199 non-null    object \n",
      " 2   수출건수    196 non-null    float64\n",
      " 3   수출금액    195 non-null    float64\n",
      " 4   수입건수    196 non-null    float64\n",
      " 5   수입금액    196 non-null    float64\n",
      " 6   무역수지    195 non-null    float64\n",
      " 7   기타사항    0 non-null      float64\n",
      "dtypes: float64(6), object(2)\n",
      "memory usage: 12.6+ KB\n"
     ]
    }
   ],
   "source": [
    "df.info()"
   ],
   "metadata": {
    "collapsed": false,
    "ExecuteTime": {
     "end_time": "2023-08-27T21:54:37.007377700Z",
     "start_time": "2023-08-27T21:54:36.986820200Z"
    }
   }
  },
  {
   "cell_type": "code",
   "execution_count": 84,
   "outputs": [],
   "source": [
    "df.drop(\"기타사항\",axis=1,inplace=True)"
   ],
   "metadata": {
    "collapsed": false,
    "ExecuteTime": {
     "end_time": "2023-08-27T21:54:39.692815900Z",
     "start_time": "2023-08-27T21:54:39.690410Z"
    }
   }
  },
  {
   "cell_type": "code",
   "execution_count": 85,
   "outputs": [
    {
     "data": {
      "text/plain": "            기간 국가명      수출건수  수출금액       수입건수       수입금액  무역수지\n191  2020년 04월  미국  105360.0   NaN  1141118.0  5038739.0   NaN\n196  2020년 06월  중국       NaN   NaN        NaN        NaN   NaN\n197  2020년 06월  미국       NaN   NaN        NaN        NaN   NaN\n198  2020년 06월  일본       NaN   NaN        NaN        NaN   NaN",
      "text/html": "<div>\n<style scoped>\n    .dataframe tbody tr th:only-of-type {\n        vertical-align: middle;\n    }\n\n    .dataframe tbody tr th {\n        vertical-align: top;\n    }\n\n    .dataframe thead th {\n        text-align: right;\n    }\n</style>\n<table border=\"1\" class=\"dataframe\">\n  <thead>\n    <tr style=\"text-align: right;\">\n      <th></th>\n      <th>기간</th>\n      <th>국가명</th>\n      <th>수출건수</th>\n      <th>수출금액</th>\n      <th>수입건수</th>\n      <th>수입금액</th>\n      <th>무역수지</th>\n    </tr>\n  </thead>\n  <tbody>\n    <tr>\n      <th>191</th>\n      <td>2020년 04월</td>\n      <td>미국</td>\n      <td>105360.0</td>\n      <td>NaN</td>\n      <td>1141118.0</td>\n      <td>5038739.0</td>\n      <td>NaN</td>\n    </tr>\n    <tr>\n      <th>196</th>\n      <td>2020년 06월</td>\n      <td>중국</td>\n      <td>NaN</td>\n      <td>NaN</td>\n      <td>NaN</td>\n      <td>NaN</td>\n      <td>NaN</td>\n    </tr>\n    <tr>\n      <th>197</th>\n      <td>2020년 06월</td>\n      <td>미국</td>\n      <td>NaN</td>\n      <td>NaN</td>\n      <td>NaN</td>\n      <td>NaN</td>\n      <td>NaN</td>\n    </tr>\n    <tr>\n      <th>198</th>\n      <td>2020년 06월</td>\n      <td>일본</td>\n      <td>NaN</td>\n      <td>NaN</td>\n      <td>NaN</td>\n      <td>NaN</td>\n      <td>NaN</td>\n    </tr>\n  </tbody>\n</table>\n</div>"
     },
     "execution_count": 85,
     "metadata": {},
     "output_type": "execute_result"
    }
   ],
   "source": [
    "df[df.isnull().any(axis=1)]"
   ],
   "metadata": {
    "collapsed": false,
    "ExecuteTime": {
     "end_time": "2023-08-27T21:54:40.241316700Z",
     "start_time": "2023-08-27T21:54:40.210171900Z"
    }
   }
  },
  {
   "cell_type": "code",
   "execution_count": 86,
   "outputs": [
    {
     "data": {
      "text/plain": "국가명\nFalse    7.635770e+05\nTrue     1.486036e+06\nName: 무역수지, dtype: float64"
     },
     "execution_count": 86,
     "metadata": {},
     "output_type": "execute_result"
    }
   ],
   "source": [
    "x = df[\"무역수지\"].groupby(df[\"국가명\"] == \"미국\").mean()\n",
    "x"
   ],
   "metadata": {
    "collapsed": false,
    "ExecuteTime": {
     "end_time": "2023-08-27T21:54:46.968542300Z",
     "start_time": "2023-08-27T21:54:46.936692300Z"
    }
   }
  },
  {
   "cell_type": "code",
   "execution_count": 87,
   "outputs": [
    {
     "data": {
      "text/plain": "              수출건수          수출금액           수입건수          수입금액          무역수지\n국가명                                                                        \n미국    80319.353846  5.852103e+06  744377.615385  4.376416e+06  1.486036e+06\n일본    75868.338462  2.256469e+06  128967.738462  4.139249e+06 -1.882779e+06\n중국   197074.439394  1.155607e+07  280528.363636  8.186234e+06  3.369837e+06",
      "text/html": "<div>\n<style scoped>\n    .dataframe tbody tr th:only-of-type {\n        vertical-align: middle;\n    }\n\n    .dataframe tbody tr th {\n        vertical-align: top;\n    }\n\n    .dataframe thead th {\n        text-align: right;\n    }\n</style>\n<table border=\"1\" class=\"dataframe\">\n  <thead>\n    <tr style=\"text-align: right;\">\n      <th></th>\n      <th>수출건수</th>\n      <th>수출금액</th>\n      <th>수입건수</th>\n      <th>수입금액</th>\n      <th>무역수지</th>\n    </tr>\n    <tr>\n      <th>국가명</th>\n      <th></th>\n      <th></th>\n      <th></th>\n      <th></th>\n      <th></th>\n    </tr>\n  </thead>\n  <tbody>\n    <tr>\n      <th>미국</th>\n      <td>80319.353846</td>\n      <td>5.852103e+06</td>\n      <td>744377.615385</td>\n      <td>4.376416e+06</td>\n      <td>1.486036e+06</td>\n    </tr>\n    <tr>\n      <th>일본</th>\n      <td>75868.338462</td>\n      <td>2.256469e+06</td>\n      <td>128967.738462</td>\n      <td>4.139249e+06</td>\n      <td>-1.882779e+06</td>\n    </tr>\n    <tr>\n      <th>중국</th>\n      <td>197074.439394</td>\n      <td>1.155607e+07</td>\n      <td>280528.363636</td>\n      <td>8.186234e+06</td>\n      <td>3.369837e+06</td>\n    </tr>\n  </tbody>\n</table>\n</div>"
     },
     "execution_count": 87,
     "metadata": {},
     "output_type": "execute_result"
    }
   ],
   "source": [
    "df[[\"수출건수\", \"수출금액\", \"수입건수\", \"수입금액\", \"무역수지\"]].groupby(df[\"국가명\"]).mean()"
   ],
   "metadata": {
    "collapsed": false,
    "ExecuteTime": {
     "end_time": "2023-08-27T21:54:50.360037400Z",
     "start_time": "2023-08-27T21:54:50.343975Z"
    }
   }
  },
  {
   "cell_type": "code",
   "execution_count": 89,
   "outputs": [],
   "source": [
    "df['무역수지'].fillna(df.groupby('국가명')['무역수지'].transform('mean').round(1), inplace=True)"
   ],
   "metadata": {
    "collapsed": false,
    "ExecuteTime": {
     "end_time": "2023-08-27T21:54:55.903850100Z",
     "start_time": "2023-08-27T21:54:55.887948800Z"
    }
   }
  },
  {
   "cell_type": "code",
   "execution_count": 90,
   "outputs": [
    {
     "data": {
      "text/plain": "기간      2020년 04월\n국가명            미국\n수출건수     105360.0\n수출금액          NaN\n수입건수    1141118.0\n수입금액    5038739.0\n무역수지    1486036.4\nName: 191, dtype: object"
     },
     "execution_count": 90,
     "metadata": {},
     "output_type": "execute_result"
    }
   ],
   "source": [
    "df.loc[191]"
   ],
   "metadata": {
    "collapsed": false,
    "ExecuteTime": {
     "end_time": "2023-08-27T21:54:56.347591500Z",
     "start_time": "2023-08-27T21:54:56.324753900Z"
    }
   }
  },
  {
   "cell_type": "code",
   "execution_count": 91,
   "outputs": [
    {
     "data": {
      "text/plain": "기간      2020년 04월\n국가명            미국\n수출건수     105360.0\n수출금액    5852103.5\n수입건수    1141118.0\n수입금액    5038739.0\n무역수지    1486036.4\nName: 191, dtype: object"
     },
     "execution_count": 91,
     "metadata": {},
     "output_type": "execute_result"
    }
   ],
   "source": [
    "df['수출금액'].fillna(df.groupby('국가명')['수출금액'].transform('mean').round(1), inplace=True)\n",
    "df.loc[191]"
   ],
   "metadata": {
    "collapsed": false,
    "ExecuteTime": {
     "end_time": "2023-08-27T21:54:58.150206500Z",
     "start_time": "2023-08-27T21:54:58.143558200Z"
    }
   }
  },
  {
   "cell_type": "code",
   "execution_count": 93,
   "outputs": [
    {
     "data": {
      "text/plain": "            기간 국가명  수출건수        수출금액  수입건수  수입금액       무역수지\n196  2020년 06월  중국   NaN  11556071.4   NaN   NaN  3369837.1\n197  2020년 06월  미국   NaN   5852103.5   NaN   NaN  1486036.4\n198  2020년 06월  일본   NaN   2256469.4   NaN   NaN -1882779.4",
      "text/html": "<div>\n<style scoped>\n    .dataframe tbody tr th:only-of-type {\n        vertical-align: middle;\n    }\n\n    .dataframe tbody tr th {\n        vertical-align: top;\n    }\n\n    .dataframe thead th {\n        text-align: right;\n    }\n</style>\n<table border=\"1\" class=\"dataframe\">\n  <thead>\n    <tr style=\"text-align: right;\">\n      <th></th>\n      <th>기간</th>\n      <th>국가명</th>\n      <th>수출건수</th>\n      <th>수출금액</th>\n      <th>수입건수</th>\n      <th>수입금액</th>\n      <th>무역수지</th>\n    </tr>\n  </thead>\n  <tbody>\n    <tr>\n      <th>196</th>\n      <td>2020년 06월</td>\n      <td>중국</td>\n      <td>NaN</td>\n      <td>11556071.4</td>\n      <td>NaN</td>\n      <td>NaN</td>\n      <td>3369837.1</td>\n    </tr>\n    <tr>\n      <th>197</th>\n      <td>2020년 06월</td>\n      <td>미국</td>\n      <td>NaN</td>\n      <td>5852103.5</td>\n      <td>NaN</td>\n      <td>NaN</td>\n      <td>1486036.4</td>\n    </tr>\n    <tr>\n      <th>198</th>\n      <td>2020년 06월</td>\n      <td>일본</td>\n      <td>NaN</td>\n      <td>2256469.4</td>\n      <td>NaN</td>\n      <td>NaN</td>\n      <td>-1882779.4</td>\n    </tr>\n  </tbody>\n</table>\n</div>"
     },
     "execution_count": 93,
     "metadata": {},
     "output_type": "execute_result"
    }
   ],
   "source": [
    "df[df.isnull().any(axis=1)]"
   ],
   "metadata": {
    "collapsed": false,
    "ExecuteTime": {
     "end_time": "2023-08-27T21:55:43.654419400Z",
     "start_time": "2023-08-27T21:55:43.647501600Z"
    }
   }
  },
  {
   "cell_type": "code",
   "execution_count": 97,
   "outputs": [
    {
     "data": {
      "text/plain": "array(['2020년 04월', '미국', 105360.0, 5852103.5, 1141118.0, 5038739.0,\n       1486036.4], dtype=object)"
     },
     "execution_count": 97,
     "metadata": {},
     "output_type": "execute_result"
    }
   ],
   "source": [
    "df.loc[191].values"
   ],
   "metadata": {
    "collapsed": false,
    "ExecuteTime": {
     "end_time": "2023-08-28T05:22:54.958836300Z",
     "start_time": "2023-08-28T05:22:54.958251800Z"
    }
   }
  },
  {
   "cell_type": "code",
   "execution_count": null,
   "outputs": [],
   "source": [],
   "metadata": {
    "collapsed": false
   }
  }
 ],
 "metadata": {
  "kernelspec": {
   "display_name": "Python 3",
   "language": "python",
   "name": "python3"
  },
  "language_info": {
   "codemirror_mode": {
    "name": "ipython",
    "version": 2
   },
   "file_extension": ".py",
   "mimetype": "text/x-python",
   "name": "python",
   "nbconvert_exporter": "python",
   "pygments_lexer": "ipython2",
   "version": "2.7.6"
  }
 },
 "nbformat": 4,
 "nbformat_minor": 0
}
