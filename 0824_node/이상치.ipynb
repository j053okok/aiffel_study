{
 "cells": [
  {
   "cell_type": "code",
   "execution_count": 1,
   "metadata": {
    "collapsed": true,
    "ExecuteTime": {
     "end_time": "2023-08-24T06:22:11.703643800Z",
     "start_time": "2023-08-24T06:22:11.703643800Z"
    }
   },
   "outputs": [],
   "source": [
    "import pandas as pd\n",
    "import numpy as np\n",
    "import matplotlib.pyplot as plt"
   ]
  },
  {
   "cell_type": "code",
   "execution_count": 2,
   "outputs": [],
   "source": [
    "trade = pd.read_csv(\"trade.csv\")\n",
    "trade = trade.drop(\"기타사항\", axis=1)\n",
    "trade.dropna(how=\"all\", subset=[\"수출건수\", \"수출금액\", \"수입건수\", \"수입금액\", \"무역수지\"], inplace=True)\n",
    "trade.loc[191, '수출금액'] = (trade.loc[188, '수출금액'] + trade.loc[194, '수출금액'] )/2\n",
    "trade.loc[191, '무역수지'] = (trade.loc[188, '무역수지'] + trade.loc[194, '무역수지'] )/2\n",
    "trade.drop_duplicates(inplace=True)"
   ],
   "metadata": {
    "collapsed": false,
    "ExecuteTime": {
     "end_time": "2023-08-24T06:22:31.099790500Z",
     "start_time": "2023-08-24T06:22:31.083078600Z"
    }
   }
  },
  {
   "cell_type": "markdown",
   "source": [
    "### 이상치를 찾는 z-score 방식"
   ],
   "metadata": {
    "collapsed": false
   }
  },
  {
   "cell_type": "code",
   "execution_count": 8,
   "outputs": [],
   "source": [
    "# 표준점수를 구해주는 함수 작성\n",
    "def outlier(df, col, z):\n",
    "    return df[abs(df[col] - np.mean(df[col]))/np.std(df[col])>z].index\n",
    "# abs(df[col] - np.mean(df[col])) : 데이터에서 평균을 빼준 것에 절대값을 취합니다.\n",
    "# abs(df[col] - np.mean(df[col]))/np.std(df[col]) : 위에서 얻은 값을 표준편차로 나눠줍니다.\n",
    "# df[abs(df[col] - np.mean(df[col]))/np.std(df[col])>z].index: 값이 z보다 큰 데이터의 인덱스를 추출합니다."
   ],
   "metadata": {
    "collapsed": false,
    "ExecuteTime": {
     "end_time": "2023-08-24T06:28:49.372664600Z",
     "start_time": "2023-08-24T06:28:49.367140300Z"
    }
   }
  },
  {
   "cell_type": "code",
   "execution_count": 9,
   "outputs": [
    {
     "data": {
      "text/plain": "            기간 국가명      수출건수        수출금액      수입건수       수입금액       무역수지\n6    2015년 03월  중국  117529.0  11868032.0  234321.0  7226911.0  4641121.0\n75   2017년 02월  중국  159062.0  11118131.0  188555.0  6600637.0  4517495.0\n80   2017년 03월  일본   65093.0   2395932.0  165734.0  5157589.0 -2761657.0\n96   2017년 09월  중국  183442.0  13540683.0  295443.0  8443414.0  5097269.0\n99   2017년 10월  중국  137873.0  12580474.0  244977.0  7932403.0  4648071.0\n101  2017년 10월  일본   63510.0   1847999.0  127696.0  4418583.0 -2570584.0\n102  2017년 11월  중국  421194.0  14000887.0  307790.0  9253318.0  4747569.0\n105  2017년 12월  중국  218114.0  13848364.0  290347.0  8600132.0  5248232.0\n114  2018년 03월  중국  232396.0  13576667.0  267249.0  8412516.0  5164151.0\n116  2018년 03월  일본   80142.0   2603450.0  159601.0  5226141.0 -2622691.0\n120  2018년 05월  중국  214145.0  13851900.0  307183.0  9279720.0  4572180.0\n123  2018년 06월  중국  257130.0  13814241.0  279023.0  8713018.0  5101223.0\n126  2018년 07월  중국  181772.0  13721233.0  293164.0  8869278.0  4851955.0\n129  2018년 08월  중국  199010.0  14401521.0  280033.0  8525532.0  5875989.0\n132  2018년 09월  중국  171328.0  14590529.0  280337.0  7889890.0  6700639.0\n135  2018년 10월  중국  169809.0  14767041.0  319876.0  9963108.0  4803932.0",
      "text/html": "<div>\n<style scoped>\n    .dataframe tbody tr th:only-of-type {\n        vertical-align: middle;\n    }\n\n    .dataframe tbody tr th {\n        vertical-align: top;\n    }\n\n    .dataframe thead th {\n        text-align: right;\n    }\n</style>\n<table border=\"1\" class=\"dataframe\">\n  <thead>\n    <tr style=\"text-align: right;\">\n      <th></th>\n      <th>기간</th>\n      <th>국가명</th>\n      <th>수출건수</th>\n      <th>수출금액</th>\n      <th>수입건수</th>\n      <th>수입금액</th>\n      <th>무역수지</th>\n    </tr>\n  </thead>\n  <tbody>\n    <tr>\n      <th>6</th>\n      <td>2015년 03월</td>\n      <td>중국</td>\n      <td>117529.0</td>\n      <td>11868032.0</td>\n      <td>234321.0</td>\n      <td>7226911.0</td>\n      <td>4641121.0</td>\n    </tr>\n    <tr>\n      <th>75</th>\n      <td>2017년 02월</td>\n      <td>중국</td>\n      <td>159062.0</td>\n      <td>11118131.0</td>\n      <td>188555.0</td>\n      <td>6600637.0</td>\n      <td>4517495.0</td>\n    </tr>\n    <tr>\n      <th>80</th>\n      <td>2017년 03월</td>\n      <td>일본</td>\n      <td>65093.0</td>\n      <td>2395932.0</td>\n      <td>165734.0</td>\n      <td>5157589.0</td>\n      <td>-2761657.0</td>\n    </tr>\n    <tr>\n      <th>96</th>\n      <td>2017년 09월</td>\n      <td>중국</td>\n      <td>183442.0</td>\n      <td>13540683.0</td>\n      <td>295443.0</td>\n      <td>8443414.0</td>\n      <td>5097269.0</td>\n    </tr>\n    <tr>\n      <th>99</th>\n      <td>2017년 10월</td>\n      <td>중국</td>\n      <td>137873.0</td>\n      <td>12580474.0</td>\n      <td>244977.0</td>\n      <td>7932403.0</td>\n      <td>4648071.0</td>\n    </tr>\n    <tr>\n      <th>101</th>\n      <td>2017년 10월</td>\n      <td>일본</td>\n      <td>63510.0</td>\n      <td>1847999.0</td>\n      <td>127696.0</td>\n      <td>4418583.0</td>\n      <td>-2570584.0</td>\n    </tr>\n    <tr>\n      <th>102</th>\n      <td>2017년 11월</td>\n      <td>중국</td>\n      <td>421194.0</td>\n      <td>14000887.0</td>\n      <td>307790.0</td>\n      <td>9253318.0</td>\n      <td>4747569.0</td>\n    </tr>\n    <tr>\n      <th>105</th>\n      <td>2017년 12월</td>\n      <td>중국</td>\n      <td>218114.0</td>\n      <td>13848364.0</td>\n      <td>290347.0</td>\n      <td>8600132.0</td>\n      <td>5248232.0</td>\n    </tr>\n    <tr>\n      <th>114</th>\n      <td>2018년 03월</td>\n      <td>중국</td>\n      <td>232396.0</td>\n      <td>13576667.0</td>\n      <td>267249.0</td>\n      <td>8412516.0</td>\n      <td>5164151.0</td>\n    </tr>\n    <tr>\n      <th>116</th>\n      <td>2018년 03월</td>\n      <td>일본</td>\n      <td>80142.0</td>\n      <td>2603450.0</td>\n      <td>159601.0</td>\n      <td>5226141.0</td>\n      <td>-2622691.0</td>\n    </tr>\n    <tr>\n      <th>120</th>\n      <td>2018년 05월</td>\n      <td>중국</td>\n      <td>214145.0</td>\n      <td>13851900.0</td>\n      <td>307183.0</td>\n      <td>9279720.0</td>\n      <td>4572180.0</td>\n    </tr>\n    <tr>\n      <th>123</th>\n      <td>2018년 06월</td>\n      <td>중국</td>\n      <td>257130.0</td>\n      <td>13814241.0</td>\n      <td>279023.0</td>\n      <td>8713018.0</td>\n      <td>5101223.0</td>\n    </tr>\n    <tr>\n      <th>126</th>\n      <td>2018년 07월</td>\n      <td>중국</td>\n      <td>181772.0</td>\n      <td>13721233.0</td>\n      <td>293164.0</td>\n      <td>8869278.0</td>\n      <td>4851955.0</td>\n    </tr>\n    <tr>\n      <th>129</th>\n      <td>2018년 08월</td>\n      <td>중국</td>\n      <td>199010.0</td>\n      <td>14401521.0</td>\n      <td>280033.0</td>\n      <td>8525532.0</td>\n      <td>5875989.0</td>\n    </tr>\n    <tr>\n      <th>132</th>\n      <td>2018년 09월</td>\n      <td>중국</td>\n      <td>171328.0</td>\n      <td>14590529.0</td>\n      <td>280337.0</td>\n      <td>7889890.0</td>\n      <td>6700639.0</td>\n    </tr>\n    <tr>\n      <th>135</th>\n      <td>2018년 10월</td>\n      <td>중국</td>\n      <td>169809.0</td>\n      <td>14767041.0</td>\n      <td>319876.0</td>\n      <td>9963108.0</td>\n      <td>4803932.0</td>\n    </tr>\n  </tbody>\n</table>\n</div>"
     },
     "execution_count": 9,
     "metadata": {},
     "output_type": "execute_result"
    }
   ],
   "source": [
    "trade.loc[outlier(trade,\"무역수지\",1.5)] # outlier함수가 인덱스를 반환하기 때문에 loc를 사용"
   ],
   "metadata": {
    "collapsed": false,
    "ExecuteTime": {
     "end_time": "2023-08-24T06:29:45.938333100Z",
     "start_time": "2023-08-24T06:29:45.922573200Z"
    }
   }
  },
  {
   "cell_type": "code",
   "execution_count": 10,
   "outputs": [
    {
     "data": {
      "text/plain": "            기간 국가명      수출건수        수출금액      수입건수       수입금액       무역수지\n129  2018년 08월  중국  199010.0  14401521.0  280033.0  8525532.0  5875989.0\n132  2018년 09월  중국  171328.0  14590529.0  280337.0  7889890.0  6700639.0",
      "text/html": "<div>\n<style scoped>\n    .dataframe tbody tr th:only-of-type {\n        vertical-align: middle;\n    }\n\n    .dataframe tbody tr th {\n        vertical-align: top;\n    }\n\n    .dataframe thead th {\n        text-align: right;\n    }\n</style>\n<table border=\"1\" class=\"dataframe\">\n  <thead>\n    <tr style=\"text-align: right;\">\n      <th></th>\n      <th>기간</th>\n      <th>국가명</th>\n      <th>수출건수</th>\n      <th>수출금액</th>\n      <th>수입건수</th>\n      <th>수입금액</th>\n      <th>무역수지</th>\n    </tr>\n  </thead>\n  <tbody>\n    <tr>\n      <th>129</th>\n      <td>2018년 08월</td>\n      <td>중국</td>\n      <td>199010.0</td>\n      <td>14401521.0</td>\n      <td>280033.0</td>\n      <td>8525532.0</td>\n      <td>5875989.0</td>\n    </tr>\n    <tr>\n      <th>132</th>\n      <td>2018년 09월</td>\n      <td>중국</td>\n      <td>171328.0</td>\n      <td>14590529.0</td>\n      <td>280337.0</td>\n      <td>7889890.0</td>\n      <td>6700639.0</td>\n    </tr>\n  </tbody>\n</table>\n</div>"
     },
     "execution_count": 10,
     "metadata": {},
     "output_type": "execute_result"
    }
   ],
   "source": [
    "trade.loc[outlier(trade,\"무역수지\",2)]"
   ],
   "metadata": {
    "collapsed": false,
    "ExecuteTime": {
     "end_time": "2023-08-24T06:29:58.162120800Z",
     "start_time": "2023-08-24T06:29:58.130313900Z"
    }
   }
  },
  {
   "cell_type": "code",
   "execution_count": 11,
   "outputs": [],
   "source": [
    "def not_outlier(df, col, z):\n",
    "    return df[abs(df[col] - np.mean(df[col]))/np.std(df[col])<z].index\n",
    "# z보다 작으면 이상치가 아니라는 함수"
   ],
   "metadata": {
    "collapsed": false,
    "ExecuteTime": {
     "end_time": "2023-08-24T06:33:45.659067300Z",
     "start_time": "2023-08-24T06:33:45.653968400Z"
    }
   }
  },
  {
   "cell_type": "code",
   "execution_count": 12,
   "outputs": [
    {
     "data": {
      "text/plain": "            기간 국가명      수출건수        수출금액       수입건수       수입금액       무역수지\n0    2015년 01월  중국  116932.0  12083947.0   334522.0  8143271.0  3940676.0\n1    2015년 01월  미국   65888.0   5561545.0   509564.0  3625062.0  1936484.0\n2    2015년 01월  일본   54017.0   2251307.0    82480.0  3827247.0 -1575940.0\n3    2015년 02월  중국   86228.0   9927642.0   209100.0  6980874.0  2946768.0\n4    2015년 02월  미국   60225.0   5021264.0   428678.0  2998216.0  2023048.0\n..         ...  ..       ...         ...        ...        ...        ...\n191  2020년 04월  미국  105360.0   5946782.0  1141118.0  5038739.0  1109176.5\n192  2020년 04월  일본  134118.0   1989323.0   141207.0  3989562.0 -2000239.0\n193  2020년 05월  중국  185320.0  10746069.0   349007.0  8989920.0  1756149.0\n194  2020년 05월  미국  126598.0   4600726.0  1157163.0  4286873.0   313853.0\n195  2020년 05월  일본  166568.0   1798128.0   133763.0  3102734.0 -1304606.0\n\n[179 rows x 7 columns]",
      "text/html": "<div>\n<style scoped>\n    .dataframe tbody tr th:only-of-type {\n        vertical-align: middle;\n    }\n\n    .dataframe tbody tr th {\n        vertical-align: top;\n    }\n\n    .dataframe thead th {\n        text-align: right;\n    }\n</style>\n<table border=\"1\" class=\"dataframe\">\n  <thead>\n    <tr style=\"text-align: right;\">\n      <th></th>\n      <th>기간</th>\n      <th>국가명</th>\n      <th>수출건수</th>\n      <th>수출금액</th>\n      <th>수입건수</th>\n      <th>수입금액</th>\n      <th>무역수지</th>\n    </tr>\n  </thead>\n  <tbody>\n    <tr>\n      <th>0</th>\n      <td>2015년 01월</td>\n      <td>중국</td>\n      <td>116932.0</td>\n      <td>12083947.0</td>\n      <td>334522.0</td>\n      <td>8143271.0</td>\n      <td>3940676.0</td>\n    </tr>\n    <tr>\n      <th>1</th>\n      <td>2015년 01월</td>\n      <td>미국</td>\n      <td>65888.0</td>\n      <td>5561545.0</td>\n      <td>509564.0</td>\n      <td>3625062.0</td>\n      <td>1936484.0</td>\n    </tr>\n    <tr>\n      <th>2</th>\n      <td>2015년 01월</td>\n      <td>일본</td>\n      <td>54017.0</td>\n      <td>2251307.0</td>\n      <td>82480.0</td>\n      <td>3827247.0</td>\n      <td>-1575940.0</td>\n    </tr>\n    <tr>\n      <th>3</th>\n      <td>2015년 02월</td>\n      <td>중국</td>\n      <td>86228.0</td>\n      <td>9927642.0</td>\n      <td>209100.0</td>\n      <td>6980874.0</td>\n      <td>2946768.0</td>\n    </tr>\n    <tr>\n      <th>4</th>\n      <td>2015년 02월</td>\n      <td>미국</td>\n      <td>60225.0</td>\n      <td>5021264.0</td>\n      <td>428678.0</td>\n      <td>2998216.0</td>\n      <td>2023048.0</td>\n    </tr>\n    <tr>\n      <th>...</th>\n      <td>...</td>\n      <td>...</td>\n      <td>...</td>\n      <td>...</td>\n      <td>...</td>\n      <td>...</td>\n      <td>...</td>\n    </tr>\n    <tr>\n      <th>191</th>\n      <td>2020년 04월</td>\n      <td>미국</td>\n      <td>105360.0</td>\n      <td>5946782.0</td>\n      <td>1141118.0</td>\n      <td>5038739.0</td>\n      <td>1109176.5</td>\n    </tr>\n    <tr>\n      <th>192</th>\n      <td>2020년 04월</td>\n      <td>일본</td>\n      <td>134118.0</td>\n      <td>1989323.0</td>\n      <td>141207.0</td>\n      <td>3989562.0</td>\n      <td>-2000239.0</td>\n    </tr>\n    <tr>\n      <th>193</th>\n      <td>2020년 05월</td>\n      <td>중국</td>\n      <td>185320.0</td>\n      <td>10746069.0</td>\n      <td>349007.0</td>\n      <td>8989920.0</td>\n      <td>1756149.0</td>\n    </tr>\n    <tr>\n      <th>194</th>\n      <td>2020년 05월</td>\n      <td>미국</td>\n      <td>126598.0</td>\n      <td>4600726.0</td>\n      <td>1157163.0</td>\n      <td>4286873.0</td>\n      <td>313853.0</td>\n    </tr>\n    <tr>\n      <th>195</th>\n      <td>2020년 05월</td>\n      <td>일본</td>\n      <td>166568.0</td>\n      <td>1798128.0</td>\n      <td>133763.0</td>\n      <td>3102734.0</td>\n      <td>-1304606.0</td>\n    </tr>\n  </tbody>\n</table>\n<p>179 rows × 7 columns</p>\n</div>"
     },
     "execution_count": 12,
     "metadata": {},
     "output_type": "execute_result"
    }
   ],
   "source": [
    "trade.loc[not_outlier(trade, \"무역수지\", 1.5)]"
   ],
   "metadata": {
    "collapsed": false,
    "ExecuteTime": {
     "end_time": "2023-08-24T06:34:04.413372300Z",
     "start_time": "2023-08-24T06:34:04.385140200Z"
    }
   }
  },
  {
   "cell_type": "markdown",
   "source": [
    "### 사분위 범위수 IQR로 이상치를 찾는 방식"
   ],
   "metadata": {
    "collapsed": false
   }
  },
  {
   "cell_type": "code",
   "execution_count": 15,
   "outputs": [
    {
     "data": {
      "text/plain": "array([-1.76884571,  0.07555227, -1.1306297 , -0.65143017, -0.89311563,\n       -1.27410098, -0.06115443,  0.06451384,  0.41011295, -0.57288249,\n       -0.80133362,  1.31203519,  1.27469887, -1.2143576 ,  0.31371941,\n       -1.44482142, -0.3689613 , -0.76922658,  0.3926161 ,  0.05729383,\n        2.08997884,  0.04197131, -0.04834072, -0.51315392, -0.08458928,\n       -1.21545008, -1.41293073, -1.48691055,  0.38222486,  0.937673  ,\n        1.77267804,  0.87882801,  0.33171912, -0.30603567,  1.24026615,\n       -0.21562684,  0.15592948,  0.09805553,  0.83209585,  2.04520542,\n       -0.31681392, -1.31283291, -1.75445746,  0.10209408, -1.36150208,\n        0.48178488, -0.20832874, -0.09186351,  0.70268816,  0.10365506,\n        0.62123638,  0.95411497,  2.03781352, -0.48445122,  0.2071549 ,\n        1.64424216, -0.4882074 , -0.01782826,  0.46891556,  0.27987266,\n       -0.64664972, -0.54406002, -0.16008985,  0.03781172,  1.03383296,\n       -1.23096117, -1.24673665,  0.29572055,  2.1409624 , -0.92020227,\n       -0.06000238,  0.27978391, -1.53126966, -0.30293101, -0.14601413,\n        0.27746159, -0.13952066,  0.69515966, -0.11338746, -1.233267  ,\n       -0.79614131, -0.46739138,  0.65890607, -0.41063115,  0.17344356,\n        0.28946174,  1.03451736,  1.22661712,  1.71998252,  0.40806834,\n        0.32256894,  1.04722748, -1.8196003 , -0.42582157,  0.12454883,\n        2.31256634, -0.96557586, -0.34627486,  0.96668378, -0.92550192,\n        8.        , 10.        , -3.        , -5.        ])"
     },
     "execution_count": 15,
     "metadata": {},
     "output_type": "execute_result"
    }
   ],
   "source": [
    "np.random.seed(2020)\n",
    "data = np.random.randn(100)  # 평균 0, 표준편차 1의 분포에서 100개의 숫자를 샘플링한 데이터 생성\n",
    "data = np.concatenate((data, np.array([8, 10, -3, -5])))      # [8, 10, -3, -5])를 데이터 뒤에 추가함\n",
    "data"
   ],
   "metadata": {
    "collapsed": false,
    "ExecuteTime": {
     "end_time": "2023-08-24T06:35:58.732033800Z",
     "start_time": "2023-08-24T06:35:58.727411Z"
    }
   }
  },
  {
   "cell_type": "code",
   "execution_count": 17,
   "outputs": [
    {
     "data": {
      "text/plain": "<Figure size 640x480 with 1 Axes>",
      "image/png": "[encoded data removed]"
     },
     "metadata": {},
     "output_type": "display_data"
    }
   ],
   "source": [
    "plt.boxplot(data)\n",
    "plt.show()"
   ],
   "metadata": {
    "collapsed": false,
    "ExecuteTime": {
     "end_time": "2023-08-24T06:36:26.288849200Z",
     "start_time": "2023-08-24T06:36:26.136977600Z"
    }
   }
  },
  {
   "cell_type": "markdown",
   "source": [
    "----"
   ],
   "metadata": {
    "collapsed": false
   }
  },
  {
   "cell_type": "code",
   "execution_count": 30,
   "outputs": [
    {
     "data": {
      "text/plain": "1.1644925829790964"
     },
     "execution_count": 30,
     "metadata": {},
     "output_type": "execute_result"
    }
   ],
   "source": [
    "Q3, Q1 = np.percentile(data, [75 ,25])\n",
    "IQR = Q3 - Q1\n",
    "IQR"
   ],
   "metadata": {
    "collapsed": false,
    "ExecuteTime": {
     "end_time": "2023-08-24T06:59:49.556473Z",
     "start_time": "2023-08-24T06:59:49.539745600Z"
    }
   }
  },
  {
   "cell_type": "markdown",
   "source": [
    "percentile은 백분위수를 구해주는 함수 옵션으로 백분위수에 해당하는 값을 넣을 수 있다.\n",
    "백분위수란 오름차순으로 정렬했을때, 0을 최솟값, 100을 최댓값으로 백분율로 나타낸 특정위치의 값."
   ],
   "metadata": {
    "collapsed": false
   }
  },
  {
   "cell_type": "code",
   "execution_count": 31,
   "outputs": [
    {
     "data": {
      "text/plain": "0.5166477538712722"
     },
     "execution_count": 31,
     "metadata": {},
     "output_type": "execute_result"
    }
   ],
   "source": [
    "Q3"
   ],
   "metadata": {
    "collapsed": false,
    "ExecuteTime": {
     "end_time": "2023-08-24T06:59:51.520595800Z",
     "start_time": "2023-08-24T06:59:51.514000300Z"
    }
   }
  },
  {
   "cell_type": "code",
   "execution_count": 32,
   "outputs": [
    {
     "data": {
      "text/plain": "-0.6478448291078243"
     },
     "execution_count": 32,
     "metadata": {},
     "output_type": "execute_result"
    }
   ],
   "source": [
    "Q1"
   ],
   "metadata": {
    "collapsed": false,
    "ExecuteTime": {
     "end_time": "2023-08-24T06:59:51.868766900Z",
     "start_time": "2023-08-24T06:59:51.845878200Z"
    }
   }
  },
  {
   "cell_type": "code",
   "execution_count": 33,
   "outputs": [
    {
     "data": {
      "text/plain": "array([ 2.31256634,  8.        , 10.        , -3.        , -5.        ])"
     },
     "execution_count": 33,
     "metadata": {},
     "output_type": "execute_result"
    }
   ],
   "source": [
    "# 코드로 이상치를 판단할때 (IQR을 이용)\n",
    "data[(Q1-1.5*IQR > data)|(Q3+1.5*IQR < data)]"
   ],
   "metadata": {
    "collapsed": false,
    "ExecuteTime": {
     "end_time": "2023-08-24T06:59:52.834069800Z",
     "start_time": "2023-08-24T06:59:52.830006800Z"
    }
   }
  },
  {
   "cell_type": "markdown",
   "source": [
    "----"
   ],
   "metadata": {
    "collapsed": false
   }
  },
  {
   "cell_type": "code",
   "execution_count": 35,
   "outputs": [
    {
     "name": "stdout",
     "output_type": "stream",
     "text": [
      "2745131.0 -1620432.0\n"
     ]
    }
   ],
   "source": [
    "Q3, Q1 = np.percentile(trade[\"무역수지\"], [75 ,25])\n",
    "print(Q3, Q1)"
   ],
   "metadata": {
    "collapsed": false,
    "ExecuteTime": {
     "end_time": "2023-08-24T07:22:04.654537300Z",
     "start_time": "2023-08-24T07:22:04.622414100Z"
    }
   }
  },
  {
   "cell_type": "code",
   "execution_count": 36,
   "outputs": [
    {
     "data": {
      "text/plain": "4365563.0"
     },
     "execution_count": 36,
     "metadata": {},
     "output_type": "execute_result"
    }
   ],
   "source": [
    "IQR = Q3 - Q1\n",
    "IQR"
   ],
   "metadata": {
    "collapsed": false,
    "ExecuteTime": {
     "end_time": "2023-08-24T07:22:04.984786Z",
     "start_time": "2023-08-24T07:22:04.953354200Z"
    }
   }
  },
  {
   "cell_type": "code",
   "execution_count": 37,
   "outputs": [
    {
     "data": {
      "text/plain": "Empty DataFrame\nColumns: [기간, 국가명, 수출건수, 수출금액, 수입건수, 수입금액, 무역수지]\nIndex: []",
      "text/html": "<div>\n<style scoped>\n    .dataframe tbody tr th:only-of-type {\n        vertical-align: middle;\n    }\n\n    .dataframe tbody tr th {\n        vertical-align: top;\n    }\n\n    .dataframe thead th {\n        text-align: right;\n    }\n</style>\n<table border=\"1\" class=\"dataframe\">\n  <thead>\n    <tr style=\"text-align: right;\">\n      <th></th>\n      <th>기간</th>\n      <th>국가명</th>\n      <th>수출건수</th>\n      <th>수출금액</th>\n      <th>수입건수</th>\n      <th>수입금액</th>\n      <th>무역수지</th>\n    </tr>\n  </thead>\n  <tbody>\n  </tbody>\n</table>\n</div>"
     },
     "execution_count": 37,
     "metadata": {},
     "output_type": "execute_result"
    }
   ],
   "source": [
    "# 1.5를 기준으로는 이상치가 안 보임\n",
    "trade[(Q1-1.5*IQR > trade[\"무역수지\"])|(Q3+1.5*IQR < trade[\"무역수지\"])]"
   ],
   "metadata": {
    "collapsed": false,
    "ExecuteTime": {
     "end_time": "2023-08-24T07:22:05.324597300Z",
     "start_time": "2023-08-24T07:22:05.306728900Z"
    }
   }
  },
  {
   "cell_type": "code",
   "execution_count": 39,
   "outputs": [
    {
     "data": {
      "text/plain": "            기간 국가명      수출건수        수출금액      수입건수       수입금액       무역수지\n96   2017년 09월  중국  183442.0  13540683.0  295443.0  8443414.0  5097269.0\n105  2017년 12월  중국  218114.0  13848364.0  290347.0  8600132.0  5248232.0\n114  2018년 03월  중국  232396.0  13576667.0  267249.0  8412516.0  5164151.0\n123  2018년 06월  중국  257130.0  13814241.0  279023.0  8713018.0  5101223.0\n129  2018년 08월  중국  199010.0  14401521.0  280033.0  8525532.0  5875989.0\n132  2018년 09월  중국  171328.0  14590529.0  280337.0  7889890.0  6700639.0",
      "text/html": "<div>\n<style scoped>\n    .dataframe tbody tr th:only-of-type {\n        vertical-align: middle;\n    }\n\n    .dataframe tbody tr th {\n        vertical-align: top;\n    }\n\n    .dataframe thead th {\n        text-align: right;\n    }\n</style>\n<table border=\"1\" class=\"dataframe\">\n  <thead>\n    <tr style=\"text-align: right;\">\n      <th></th>\n      <th>기간</th>\n      <th>국가명</th>\n      <th>수출건수</th>\n      <th>수출금액</th>\n      <th>수입건수</th>\n      <th>수입금액</th>\n      <th>무역수지</th>\n    </tr>\n  </thead>\n  <tbody>\n    <tr>\n      <th>96</th>\n      <td>2017년 09월</td>\n      <td>중국</td>\n      <td>183442.0</td>\n      <td>13540683.0</td>\n      <td>295443.0</td>\n      <td>8443414.0</td>\n      <td>5097269.0</td>\n    </tr>\n    <tr>\n      <th>105</th>\n      <td>2017년 12월</td>\n      <td>중국</td>\n      <td>218114.0</td>\n      <td>13848364.0</td>\n      <td>290347.0</td>\n      <td>8600132.0</td>\n      <td>5248232.0</td>\n    </tr>\n    <tr>\n      <th>114</th>\n      <td>2018년 03월</td>\n      <td>중국</td>\n      <td>232396.0</td>\n      <td>13576667.0</td>\n      <td>267249.0</td>\n      <td>8412516.0</td>\n      <td>5164151.0</td>\n    </tr>\n    <tr>\n      <th>123</th>\n      <td>2018년 06월</td>\n      <td>중국</td>\n      <td>257130.0</td>\n      <td>13814241.0</td>\n      <td>279023.0</td>\n      <td>8713018.0</td>\n      <td>5101223.0</td>\n    </tr>\n    <tr>\n      <th>129</th>\n      <td>2018년 08월</td>\n      <td>중국</td>\n      <td>199010.0</td>\n      <td>14401521.0</td>\n      <td>280033.0</td>\n      <td>8525532.0</td>\n      <td>5875989.0</td>\n    </tr>\n    <tr>\n      <th>132</th>\n      <td>2018년 09월</td>\n      <td>중국</td>\n      <td>171328.0</td>\n      <td>14590529.0</td>\n      <td>280337.0</td>\n      <td>7889890.0</td>\n      <td>6700639.0</td>\n    </tr>\n  </tbody>\n</table>\n</div>"
     },
     "execution_count": 39,
     "metadata": {},
     "output_type": "execute_result"
    }
   ],
   "source": [
    "# 0.5를 기준으로는 이상치가 보임\n",
    "trade[(Q1-0.5*IQR > trade[\"무역수지\"])|(Q3+0.5*IQR < trade[\"무역수지\"])]"
   ],
   "metadata": {
    "collapsed": false,
    "ExecuteTime": {
     "end_time": "2023-08-24T07:22:40.453039400Z",
     "start_time": "2023-08-24T07:22:40.452157300Z"
    }
   }
  },
  {
   "cell_type": "code",
   "execution_count": null,
   "outputs": [],
   "source": [],
   "metadata": {
    "collapsed": false
   }
  }
 ],
 "metadata": {
  "kernelspec": {
   "display_name": "Python 3",
   "language": "python",
   "name": "python3"
  },
  "language_info": {
   "codemirror_mode": {
    "name": "ipython",
    "version": 2
   },
   "file_extension": ".py",
   "mimetype": "text/x-python",
   "name": "python",
   "nbconvert_exporter": "python",
   "pygments_lexer": "ipython2",
   "version": "2.7.6"
  }
 },
 "nbformat": 4,
 "nbformat_minor": 0
}
