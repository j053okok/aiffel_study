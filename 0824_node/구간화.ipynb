{
 "cells": [
  {
   "cell_type": "code",
   "execution_count": 1,
   "metadata": {
    "collapsed": true,
    "ExecuteTime": {
     "end_time": "2023-08-24T08:29:11.239057Z",
     "start_time": "2023-08-24T08:29:11.238550600Z"
    }
   },
   "outputs": [],
   "source": [
    "import pandas as pd\n",
    "import numpy as np\n",
    "import matplotlib.pyplot as plt"
   ]
  },
  {
   "cell_type": "code",
   "execution_count": 2,
   "outputs": [],
   "source": [
    "salary = pd.Series([4300, 8370, 1750, 3830, 1840, 4220, 3020, 2290, 4740, 4600,\n",
    "                    2860, 3400, 4800, 4470, 2440, 4530, 4850, 4850, 4760, 4500,\n",
    "                    4640, 3000, 1880, 4880, 2240, 4750, 2750, 2810, 3100, 4290,\n",
    "                    1540, 2870, 1780, 4670, 4150, 2010, 3580, 1610, 2930, 4300,\n",
    "                    2740, 1680, 3490, 4350, 1680, 6420, 8740, 8980, 9080, 3990,\n",
    "                    4960, 3700, 9600, 9330, 5600, 4100, 1770, 8280, 3120, 1950,\n",
    "                    4210, 2020, 3820, 3170, 6330, 2570, 6940, 8610, 5060, 6370,\n",
    "                    9080, 3760, 8060, 2500, 4660, 1770, 9220, 3380, 2490, 3450,\n",
    "                    1960, 7210, 5810, 9450, 8910, 3470, 7350, 8410, 7520, 9610,\n",
    "                    5150, 2630, 5610, 2750, 7050, 3350, 9450, 7140, 4170, 3090])"
   ],
   "metadata": {
    "collapsed": false,
    "ExecuteTime": {
     "end_time": "2023-08-24T08:29:14.603464Z",
     "start_time": "2023-08-24T08:29:14.603464Z"
    }
   }
  },
  {
   "cell_type": "markdown",
   "source": [
    "##### 이 데이터를 구간별로 나누고자 합니다. 이러한 기법을 구간화(Data binning 혹은 bucketing)이라고 부릅니다"
   ],
   "metadata": {
    "collapsed": false
   }
  },
  {
   "cell_type": "code",
   "execution_count": 4,
   "outputs": [
    {
     "data": {
      "text/plain": "0    4300\n1    8370\n2    1750\n3    3830\n4    1840\ndtype: int64"
     },
     "execution_count": 4,
     "metadata": {},
     "output_type": "execute_result"
    }
   ],
   "source": [
    "salary.head()"
   ],
   "metadata": {
    "collapsed": false,
    "ExecuteTime": {
     "end_time": "2023-08-24T08:29:23.005245500Z",
     "start_time": "2023-08-24T08:29:23.004732900Z"
    }
   }
  },
  {
   "cell_type": "code",
   "execution_count": 6,
   "outputs": [
    {
     "data": {
      "text/plain": "<Figure size 640x480 with 1 Axes>",
      "image/png": "[encoded data removed]"
     },
     "metadata": {},
     "output_type": "display_data"
    }
   ],
   "source": [
    "salary.hist()\n",
    "plt.show()"
   ],
   "metadata": {
    "collapsed": false,
    "ExecuteTime": {
     "end_time": "2023-08-24T08:30:10.859632300Z",
     "start_time": "2023-08-24T08:30:10.661444500Z"
    }
   }
  },
  {
   "cell_type": "code",
   "execution_count": 7,
   "outputs": [],
   "source": [
    "# 구간 설정\n",
    "bins = [0, 2000, 4000, 6000, 8000, 10000]"
   ],
   "metadata": {
    "collapsed": false,
    "ExecuteTime": {
     "end_time": "2023-08-24T08:30:25.243234900Z",
     "start_time": "2023-08-24T08:30:25.239195700Z"
    }
   }
  },
  {
   "cell_type": "code",
   "execution_count": 8,
   "outputs": [
    {
     "data": {
      "text/plain": "0      (4000, 6000]\n1     (8000, 10000]\n2         (0, 2000]\n3      (2000, 4000]\n4         (0, 2000]\n          ...      \n95     (2000, 4000]\n96    (8000, 10000]\n97     (6000, 8000]\n98     (4000, 6000]\n99     (2000, 4000]\nLength: 100, dtype: category\nCategories (5, interval[int64, right]): [(0, 2000] < (2000, 4000] < (4000, 6000] < (6000, 8000] < (8000, 10000]]"
     },
     "execution_count": 8,
     "metadata": {},
     "output_type": "execute_result"
    }
   ],
   "source": [
    "ctg = pd.cut(salary, bins=bins)\n",
    "ctg"
   ],
   "metadata": {
    "collapsed": false,
    "ExecuteTime": {
     "end_time": "2023-08-24T08:30:38.162408200Z",
     "start_time": "2023-08-24T08:30:38.143847200Z"
    }
   }
  },
  {
   "cell_type": "code",
   "execution_count": 10,
   "outputs": [
    {
     "name": "stdout",
     "output_type": "stream",
     "text": [
      "salary[0]: 4300\n",
      "salary[0]가 속한 카테고리: (4000, 6000]\n"
     ]
    }
   ],
   "source": [
    "# 단순 카테고리 확인\n",
    "print('salary[0]:', salary[0])\n",
    "print('salary[0]가 속한 카테고리:', ctg[0])"
   ],
   "metadata": {
    "collapsed": false,
    "ExecuteTime": {
     "end_time": "2023-08-24T08:31:18.568839700Z",
     "start_time": "2023-08-24T08:31:18.568839700Z"
    }
   }
  },
  {
   "cell_type": "code",
   "execution_count": 12,
   "outputs": [
    {
     "data": {
      "text/plain": "(0, 2000]        12\n(2000, 4000]     34\n(4000, 6000]     29\n(6000, 8000]      9\n(8000, 10000]    16\nName: count, dtype: int64"
     },
     "execution_count": 12,
     "metadata": {},
     "output_type": "execute_result"
    }
   ],
   "source": [
    "# 구간별로 몇개 있는지 확인하기\n",
    "ctg.value_counts().sort_index()"
   ],
   "metadata": {
    "collapsed": false,
    "ExecuteTime": {
     "end_time": "2023-08-24T08:31:40.167841Z",
     "start_time": "2023-08-24T08:31:40.135953900Z"
    }
   }
  },
  {
   "cell_type": "code",
   "execution_count": 13,
   "outputs": [
    {
     "data": {
      "text/plain": "0      (4230.0, 5575.0]\n1      (8265.0, 9610.0]\n2     (1531.93, 2885.0]\n3      (2885.0, 4230.0]\n4     (1531.93, 2885.0]\n            ...        \n95     (2885.0, 4230.0]\n96     (8265.0, 9610.0]\n97     (6920.0, 8265.0]\n98     (2885.0, 4230.0]\n99     (2885.0, 4230.0]\nLength: 100, dtype: category\nCategories (6, interval[float64, right]): [(1531.93, 2885.0] < (2885.0, 4230.0] < (4230.0, 5575.0] < (5575.0, 6920.0] < (6920.0, 8265.0] < (8265.0, 9610.0]]"
     },
     "execution_count": 13,
     "metadata": {},
     "output_type": "execute_result"
    }
   ],
   "source": [
    "# bins구간에 정수를 입력하면 데이터의 최솟값에서 최댓값을 균등하게 지정한 갯수만큼 나누어줌\n",
    "ctg = pd.cut(salary, bins=6)\n",
    "ctg"
   ],
   "metadata": {
    "collapsed": false,
    "ExecuteTime": {
     "end_time": "2023-08-24T08:35:25.310288800Z",
     "start_time": "2023-08-24T08:35:25.290837600Z"
    }
   }
  },
  {
   "cell_type": "code",
   "execution_count": 14,
   "outputs": [
    {
     "data": {
      "text/plain": "(1531.93, 2885.0]    27\n(2885.0, 4230.0]     24\n(4230.0, 5575.0]     21\n(5575.0, 6920.0]      6\n(6920.0, 8265.0]      7\n(8265.0, 9610.0]     15\nName: count, dtype: int64"
     },
     "execution_count": 14,
     "metadata": {},
     "output_type": "execute_result"
    }
   ],
   "source": [
    "ctg.value_counts().sort_index()"
   ],
   "metadata": {
    "collapsed": false,
    "ExecuteTime": {
     "end_time": "2023-08-24T08:35:34.264178600Z",
     "start_time": "2023-08-24T08:35:34.261166Z"
    }
   }
  },
  {
   "cell_type": "code",
   "execution_count": 15,
   "outputs": [
    {
     "data": {
      "text/plain": "0       (3544.0, 4648.0]\n1       (7068.0, 9610.0]\n2     (1539.999, 2618.0]\n3       (3544.0, 4648.0]\n4     (1539.999, 2618.0]\n             ...        \n95      (2618.0, 3544.0]\n96      (7068.0, 9610.0]\n97      (7068.0, 9610.0]\n98      (3544.0, 4648.0]\n99      (2618.0, 3544.0]\nLength: 100, dtype: category\nCategories (5, interval[float64, right]): [(1539.999, 2618.0] < (2618.0, 3544.0] < (3544.0, 4648.0] < (4648.0, 7068.0] < (7068.0, 9610.0]]"
     },
     "execution_count": 15,
     "metadata": {},
     "output_type": "execute_result"
    }
   ],
   "source": [
    "# qcut은 데이터의 분포를 비슷한 크기의 그룹으로 나눔\n",
    "ctg = pd.qcut(salary, q=5)\n",
    "ctg"
   ],
   "metadata": {
    "collapsed": false,
    "ExecuteTime": {
     "end_time": "2023-08-24T08:36:01.836277400Z",
     "start_time": "2023-08-24T08:36:01.820156Z"
    }
   }
  },
  {
   "cell_type": "code",
   "execution_count": 16,
   "outputs": [
    {
     "name": "stdout",
     "output_type": "stream",
     "text": [
      "(1539.999, 2618.0]    20\n",
      "(2618.0, 3544.0]      20\n",
      "(3544.0, 4648.0]      20\n",
      "(4648.0, 7068.0]      20\n",
      "(7068.0, 9610.0]      20\n",
      "Name: count, dtype: int64\n"
     ]
    }
   ],
   "source": [
    "print(ctg.value_counts().sort_index())"
   ],
   "metadata": {
    "collapsed": false,
    "ExecuteTime": {
     "end_time": "2023-08-24T08:36:08.278344900Z",
     "start_time": "2023-08-24T08:36:08.251363100Z"
    }
   }
  },
  {
   "cell_type": "code",
   "execution_count": null,
   "outputs": [],
   "source": [],
   "metadata": {
    "collapsed": false
   }
  }
 ],
 "metadata": {
  "kernelspec": {
   "display_name": "Python 3",
   "language": "python",
   "name": "python3"
  },
  "language_info": {
   "codemirror_mode": {
    "name": "ipython",
    "version": 2
   },
   "file_extension": ".py",
   "mimetype": "text/x-python",
   "name": "python",
   "nbconvert_exporter": "python",
   "pygments_lexer": "ipython2",
   "version": "2.7.6"
  }
 },
 "nbformat": 4,
 "nbformat_minor": 0
}
