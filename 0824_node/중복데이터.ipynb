{
 "cells": [
  {
   "cell_type": "code",
   "execution_count": 1,
   "metadata": {
    "collapsed": true,
    "ExecuteTime": {
     "end_time": "2023-08-24T06:09:27.371743600Z",
     "start_time": "2023-08-24T06:09:27.371236600Z"
    }
   },
   "outputs": [],
   "source": [
    "import pandas as pd\n",
    "import numpy as np\n",
    "import matplotlib.pyplot as plt"
   ]
  },
  {
   "cell_type": "code",
   "execution_count": 2,
   "outputs": [
    {
     "data": {
      "text/plain": "기간      0\n국가명     0\n수출건수    0\n수출금액    0\n수입건수    0\n수입금액    0\n무역수지    0\ndtype: int64"
     },
     "execution_count": 2,
     "metadata": {},
     "output_type": "execute_result"
    }
   ],
   "source": [
    "# 결측치 처리 내용\n",
    "trade = pd.read_csv(\"trade.csv\")\n",
    "trade = trade.drop(\"기타사항\", axis=1)\n",
    "trade.dropna(how=\"all\", subset=[\"수출건수\", \"수출금액\", \"수입건수\", \"수입금액\", \"무역수지\"], inplace=True)\n",
    "trade.loc[191, '수출금액'] = (trade.loc[188, '수출금액'] + trade.loc[194, '수출금액'] )/2\n",
    "trade.loc[191, '무역수지'] = (trade.loc[188, '무역수지'] + trade.loc[194, '무역수지'] )/2\n",
    "trade.isnull().sum()"
   ],
   "metadata": {
    "collapsed": false,
    "ExecuteTime": {
     "end_time": "2023-08-24T06:10:52.117962200Z",
     "start_time": "2023-08-24T06:10:52.086187500Z"
    }
   }
  },
  {
   "cell_type": "code",
   "execution_count": 3,
   "outputs": [
    {
     "data": {
      "text/plain": "          기간 국가명      수출건수        수출금액      수입건수       수입금액       무역수지\n0  2015년 01월  중국  116932.0  12083947.0  334522.0  8143271.0  3940676.0\n1  2015년 01월  미국   65888.0   5561545.0  509564.0  3625062.0  1936484.0\n2  2015년 01월  일본   54017.0   2251307.0   82480.0  3827247.0 -1575940.0\n3  2015년 02월  중국   86228.0   9927642.0  209100.0  6980874.0  2946768.0\n4  2015년 02월  미국   60225.0   5021264.0  428678.0  2998216.0  2023048.0",
      "text/html": "<div>\n<style scoped>\n    .dataframe tbody tr th:only-of-type {\n        vertical-align: middle;\n    }\n\n    .dataframe tbody tr th {\n        vertical-align: top;\n    }\n\n    .dataframe thead th {\n        text-align: right;\n    }\n</style>\n<table border=\"1\" class=\"dataframe\">\n  <thead>\n    <tr style=\"text-align: right;\">\n      <th></th>\n      <th>기간</th>\n      <th>국가명</th>\n      <th>수출건수</th>\n      <th>수출금액</th>\n      <th>수입건수</th>\n      <th>수입금액</th>\n      <th>무역수지</th>\n    </tr>\n  </thead>\n  <tbody>\n    <tr>\n      <th>0</th>\n      <td>2015년 01월</td>\n      <td>중국</td>\n      <td>116932.0</td>\n      <td>12083947.0</td>\n      <td>334522.0</td>\n      <td>8143271.0</td>\n      <td>3940676.0</td>\n    </tr>\n    <tr>\n      <th>1</th>\n      <td>2015년 01월</td>\n      <td>미국</td>\n      <td>65888.0</td>\n      <td>5561545.0</td>\n      <td>509564.0</td>\n      <td>3625062.0</td>\n      <td>1936484.0</td>\n    </tr>\n    <tr>\n      <th>2</th>\n      <td>2015년 01월</td>\n      <td>일본</td>\n      <td>54017.0</td>\n      <td>2251307.0</td>\n      <td>82480.0</td>\n      <td>3827247.0</td>\n      <td>-1575940.0</td>\n    </tr>\n    <tr>\n      <th>3</th>\n      <td>2015년 02월</td>\n      <td>중국</td>\n      <td>86228.0</td>\n      <td>9927642.0</td>\n      <td>209100.0</td>\n      <td>6980874.0</td>\n      <td>2946768.0</td>\n    </tr>\n    <tr>\n      <th>4</th>\n      <td>2015년 02월</td>\n      <td>미국</td>\n      <td>60225.0</td>\n      <td>5021264.0</td>\n      <td>428678.0</td>\n      <td>2998216.0</td>\n      <td>2023048.0</td>\n    </tr>\n  </tbody>\n</table>\n</div>"
     },
     "execution_count": 3,
     "metadata": {},
     "output_type": "execute_result"
    }
   ],
   "source": [
    "trade.head()"
   ],
   "metadata": {
    "collapsed": false,
    "ExecuteTime": {
     "end_time": "2023-08-24T06:11:29.408721300Z",
     "start_time": "2023-08-24T06:11:29.403906200Z"
    }
   }
  },
  {
   "cell_type": "code",
   "execution_count": 5,
   "outputs": [
    {
     "data": {
      "text/plain": "1"
     },
     "execution_count": 5,
     "metadata": {},
     "output_type": "execute_result"
    }
   ],
   "source": [
    "# 중복치를 확인하기 위한 duplicated\n",
    "trade.duplicated().sum()"
   ],
   "metadata": {
    "collapsed": false,
    "ExecuteTime": {
     "end_time": "2023-08-24T06:11:57.130306200Z",
     "start_time": "2023-08-24T06:11:57.114062400Z"
    }
   }
  },
  {
   "cell_type": "code",
   "execution_count": 6,
   "outputs": [
    {
     "data": {
      "text/plain": "            기간 국가명      수출건수        수출금액      수입건수       수입금액       무역수지\n187  2020년 03월  중국  248059.0  10658599.0  358234.0  8948918.0  1709682.0",
      "text/html": "<div>\n<style scoped>\n    .dataframe tbody tr th:only-of-type {\n        vertical-align: middle;\n    }\n\n    .dataframe tbody tr th {\n        vertical-align: top;\n    }\n\n    .dataframe thead th {\n        text-align: right;\n    }\n</style>\n<table border=\"1\" class=\"dataframe\">\n  <thead>\n    <tr style=\"text-align: right;\">\n      <th></th>\n      <th>기간</th>\n      <th>국가명</th>\n      <th>수출건수</th>\n      <th>수출금액</th>\n      <th>수입건수</th>\n      <th>수입금액</th>\n      <th>무역수지</th>\n    </tr>\n  </thead>\n  <tbody>\n    <tr>\n      <th>187</th>\n      <td>2020년 03월</td>\n      <td>중국</td>\n      <td>248059.0</td>\n      <td>10658599.0</td>\n      <td>358234.0</td>\n      <td>8948918.0</td>\n      <td>1709682.0</td>\n    </tr>\n  </tbody>\n</table>\n</div>"
     },
     "execution_count": 6,
     "metadata": {},
     "output_type": "execute_result"
    }
   ],
   "source": [
    "trade[trade.duplicated()]"
   ],
   "metadata": {
    "collapsed": false,
    "ExecuteTime": {
     "end_time": "2023-08-24T06:12:13.603829200Z",
     "start_time": "2023-08-24T06:12:13.587996800Z"
    }
   }
  },
  {
   "cell_type": "code",
   "execution_count": 7,
   "outputs": [
    {
     "data": {
      "text/plain": "            기간 국가명      수출건수        수출금액      수입건수       수입금액       무역수지\n186  2020년 03월  중국  248059.0  10658599.0  358234.0  8948918.0  1709682.0\n187  2020년 03월  중국  248059.0  10658599.0  358234.0  8948918.0  1709682.0",
      "text/html": "<div>\n<style scoped>\n    .dataframe tbody tr th:only-of-type {\n        vertical-align: middle;\n    }\n\n    .dataframe tbody tr th {\n        vertical-align: top;\n    }\n\n    .dataframe thead th {\n        text-align: right;\n    }\n</style>\n<table border=\"1\" class=\"dataframe\">\n  <thead>\n    <tr style=\"text-align: right;\">\n      <th></th>\n      <th>기간</th>\n      <th>국가명</th>\n      <th>수출건수</th>\n      <th>수출금액</th>\n      <th>수입건수</th>\n      <th>수입금액</th>\n      <th>무역수지</th>\n    </tr>\n  </thead>\n  <tbody>\n    <tr>\n      <th>186</th>\n      <td>2020년 03월</td>\n      <td>중국</td>\n      <td>248059.0</td>\n      <td>10658599.0</td>\n      <td>358234.0</td>\n      <td>8948918.0</td>\n      <td>1709682.0</td>\n    </tr>\n    <tr>\n      <th>187</th>\n      <td>2020년 03월</td>\n      <td>중국</td>\n      <td>248059.0</td>\n      <td>10658599.0</td>\n      <td>358234.0</td>\n      <td>8948918.0</td>\n      <td>1709682.0</td>\n    </tr>\n  </tbody>\n</table>\n</div>"
     },
     "execution_count": 7,
     "metadata": {},
     "output_type": "execute_result"
    }
   ],
   "source": [
    "# 다른 중복열을 찾아보기위한 한 가지 방법\n",
    "trade[(trade['기간']=='2020년 03월')&(trade['국가명']=='중국')]"
   ],
   "metadata": {
    "collapsed": false,
    "ExecuteTime": {
     "end_time": "2023-08-24T06:12:51.519165800Z",
     "start_time": "2023-08-24T06:12:51.515656100Z"
    }
   }
  },
  {
   "cell_type": "code",
   "execution_count": 8,
   "outputs": [],
   "source": [
    "# drop_duplicates는 중복열을 삭제해줌\n",
    "trade.drop_duplicates(inplace=True)"
   ],
   "metadata": {
    "collapsed": false,
    "ExecuteTime": {
     "end_time": "2023-08-24T06:13:52.820972800Z",
     "start_time": "2023-08-24T06:13:52.772440400Z"
    }
   }
  },
  {
   "cell_type": "markdown",
   "source": [
    "#### 아래는 duplicates 예시"
   ],
   "metadata": {
    "collapsed": false
   }
  },
  {
   "cell_type": "code",
   "execution_count": 13,
   "outputs": [
    {
     "data": {
      "text/plain": "    id      name\n0  001  Park Yun\n1  002  Kim Sung\n2  003  Park Jin\n3  004   Lee Han\n4  002   Kim Min",
      "text/html": "<div>\n<style scoped>\n    .dataframe tbody tr th:only-of-type {\n        vertical-align: middle;\n    }\n\n    .dataframe tbody tr th {\n        vertical-align: top;\n    }\n\n    .dataframe thead th {\n        text-align: right;\n    }\n</style>\n<table border=\"1\" class=\"dataframe\">\n  <thead>\n    <tr style=\"text-align: right;\">\n      <th></th>\n      <th>id</th>\n      <th>name</th>\n    </tr>\n  </thead>\n  <tbody>\n    <tr>\n      <th>0</th>\n      <td>001</td>\n      <td>Park Yun</td>\n    </tr>\n    <tr>\n      <th>1</th>\n      <td>002</td>\n      <td>Kim Sung</td>\n    </tr>\n    <tr>\n      <th>2</th>\n      <td>003</td>\n      <td>Park Jin</td>\n    </tr>\n    <tr>\n      <th>3</th>\n      <td>004</td>\n      <td>Lee Han</td>\n    </tr>\n    <tr>\n      <th>4</th>\n      <td>002</td>\n      <td>Kim Min</td>\n    </tr>\n  </tbody>\n</table>\n</div>"
     },
     "execution_count": 13,
     "metadata": {},
     "output_type": "execute_result"
    }
   ],
   "source": [
    "df = pd.DataFrame({'id':['001', '002', '003', '004', '002'],\n",
    "                   'name':['Park Yun', 'Kim Sung', 'Park Jin', 'Lee Han', 'Kim Min']})\n",
    "df"
   ],
   "metadata": {
    "collapsed": false,
    "ExecuteTime": {
     "end_time": "2023-08-24T06:20:20.382666600Z",
     "start_time": "2023-08-24T06:20:20.380250800Z"
    }
   }
  },
  {
   "cell_type": "code",
   "execution_count": 16,
   "outputs": [
    {
     "data": {
      "text/plain": "0    False\n1    False\n2    False\n3    False\n4     True\ndtype: bool"
     },
     "execution_count": 16,
     "metadata": {},
     "output_type": "execute_result"
    }
   ],
   "source": [
    "df.duplicated(subset=\"id\")"
   ],
   "metadata": {
    "collapsed": false,
    "ExecuteTime": {
     "end_time": "2023-08-24T06:20:46.961005100Z",
     "start_time": "2023-08-24T06:20:46.957283900Z"
    }
   }
  },
  {
   "cell_type": "code",
   "execution_count": 17,
   "outputs": [
    {
     "data": {
      "text/plain": "    id      name\n0  001  Park Yun\n2  003  Park Jin\n3  004   Lee Han\n4  002   Kim Min",
      "text/html": "<div>\n<style scoped>\n    .dataframe tbody tr th:only-of-type {\n        vertical-align: middle;\n    }\n\n    .dataframe tbody tr th {\n        vertical-align: top;\n    }\n\n    .dataframe thead th {\n        text-align: right;\n    }\n</style>\n<table border=\"1\" class=\"dataframe\">\n  <thead>\n    <tr style=\"text-align: right;\">\n      <th></th>\n      <th>id</th>\n      <th>name</th>\n    </tr>\n  </thead>\n  <tbody>\n    <tr>\n      <th>0</th>\n      <td>001</td>\n      <td>Park Yun</td>\n    </tr>\n    <tr>\n      <th>2</th>\n      <td>003</td>\n      <td>Park Jin</td>\n    </tr>\n    <tr>\n      <th>3</th>\n      <td>004</td>\n      <td>Lee Han</td>\n    </tr>\n    <tr>\n      <th>4</th>\n      <td>002</td>\n      <td>Kim Min</td>\n    </tr>\n  </tbody>\n</table>\n</div>"
     },
     "execution_count": 17,
     "metadata": {},
     "output_type": "execute_result"
    }
   ],
   "source": [
    "df.drop_duplicates(subset=\"id\", keep=\"last\", inplace=True)\n",
    "df"
   ],
   "metadata": {
    "collapsed": false,
    "ExecuteTime": {
     "end_time": "2023-08-24T06:21:05.017742400Z",
     "start_time": "2023-08-24T06:21:05.012881600Z"
    }
   }
  },
  {
   "cell_type": "code",
   "execution_count": null,
   "outputs": [],
   "source": [],
   "metadata": {
    "collapsed": false
   }
  }
 ],
 "metadata": {
  "kernelspec": {
   "display_name": "Python 3",
   "language": "python",
   "name": "python3"
  },
  "language_info": {
   "codemirror_mode": {
    "name": "ipython",
    "version": 2
   },
   "file_extension": ".py",
   "mimetype": "text/x-python",
   "name": "python",
   "nbconvert_exporter": "python",
   "pygments_lexer": "ipython2",
   "version": "2.7.6"
  }
 },
 "nbformat": 4,
 "nbformat_minor": 0
}
