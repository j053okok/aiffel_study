{
 "cells": [
  {
   "cell_type": "code",
   "execution_count": 1,
   "metadata": {
    "collapsed": true,
    "ExecuteTime": {
     "end_time": "2023-08-24T05:49:04.158877900Z",
     "start_time": "2023-08-24T05:49:02.955327900Z"
    }
   },
   "outputs": [],
   "source": [
    "import pandas as pd\n",
    "import numpy as np\n",
    "import matplotlib.pyplot as plt"
   ]
  },
  {
   "cell_type": "code",
   "execution_count": 2,
   "outputs": [
    {
     "data": {
      "text/plain": "          기간 국가명      수출건수        수출금액      수입건수       수입금액       무역수지  기타사항\n0  2015년 01월  중국  116932.0  12083947.0  334522.0  8143271.0  3940676.0   NaN\n1  2015년 01월  미국   65888.0   5561545.0  509564.0  3625062.0  1936484.0   NaN\n2  2015년 01월  일본   54017.0   2251307.0   82480.0  3827247.0 -1575940.0   NaN\n3  2015년 02월  중국   86228.0   9927642.0  209100.0  6980874.0  2946768.0   NaN\n4  2015년 02월  미국   60225.0   5021264.0  428678.0  2998216.0  2023048.0   NaN",
      "text/html": "<div>\n<style scoped>\n    .dataframe tbody tr th:only-of-type {\n        vertical-align: middle;\n    }\n\n    .dataframe tbody tr th {\n        vertical-align: top;\n    }\n\n    .dataframe thead th {\n        text-align: right;\n    }\n</style>\n<table border=\"1\" class=\"dataframe\">\n  <thead>\n    <tr style=\"text-align: right;\">\n      <th></th>\n      <th>기간</th>\n      <th>국가명</th>\n      <th>수출건수</th>\n      <th>수출금액</th>\n      <th>수입건수</th>\n      <th>수입금액</th>\n      <th>무역수지</th>\n      <th>기타사항</th>\n    </tr>\n  </thead>\n  <tbody>\n    <tr>\n      <th>0</th>\n      <td>2015년 01월</td>\n      <td>중국</td>\n      <td>116932.0</td>\n      <td>12083947.0</td>\n      <td>334522.0</td>\n      <td>8143271.0</td>\n      <td>3940676.0</td>\n      <td>NaN</td>\n    </tr>\n    <tr>\n      <th>1</th>\n      <td>2015년 01월</td>\n      <td>미국</td>\n      <td>65888.0</td>\n      <td>5561545.0</td>\n      <td>509564.0</td>\n      <td>3625062.0</td>\n      <td>1936484.0</td>\n      <td>NaN</td>\n    </tr>\n    <tr>\n      <th>2</th>\n      <td>2015년 01월</td>\n      <td>일본</td>\n      <td>54017.0</td>\n      <td>2251307.0</td>\n      <td>82480.0</td>\n      <td>3827247.0</td>\n      <td>-1575940.0</td>\n      <td>NaN</td>\n    </tr>\n    <tr>\n      <th>3</th>\n      <td>2015년 02월</td>\n      <td>중국</td>\n      <td>86228.0</td>\n      <td>9927642.0</td>\n      <td>209100.0</td>\n      <td>6980874.0</td>\n      <td>2946768.0</td>\n      <td>NaN</td>\n    </tr>\n    <tr>\n      <th>4</th>\n      <td>2015년 02월</td>\n      <td>미국</td>\n      <td>60225.0</td>\n      <td>5021264.0</td>\n      <td>428678.0</td>\n      <td>2998216.0</td>\n      <td>2023048.0</td>\n      <td>NaN</td>\n    </tr>\n  </tbody>\n</table>\n</div>"
     },
     "execution_count": 2,
     "metadata": {},
     "output_type": "execute_result"
    }
   ],
   "source": [
    "trade = pd.read_csv(\"trade.csv\")\n",
    "trade.head()"
   ],
   "metadata": {
    "collapsed": false,
    "ExecuteTime": {
     "end_time": "2023-08-24T05:49:24.962482300Z",
     "start_time": "2023-08-24T05:49:24.934169Z"
    }
   }
  },
  {
   "cell_type": "code",
   "execution_count": 3,
   "outputs": [
    {
     "name": "stdout",
     "output_type": "stream",
     "text": [
      "<class 'pandas.core.frame.DataFrame'>\n",
      "RangeIndex: 199 entries, 0 to 198\n",
      "Data columns (total 8 columns):\n",
      " #   Column  Non-Null Count  Dtype  \n",
      "---  ------  --------------  -----  \n",
      " 0   기간      199 non-null    object \n",
      " 1   국가명     199 non-null    object \n",
      " 2   수출건수    196 non-null    float64\n",
      " 3   수출금액    195 non-null    float64\n",
      " 4   수입건수    196 non-null    float64\n",
      " 5   수입금액    196 non-null    float64\n",
      " 6   무역수지    195 non-null    float64\n",
      " 7   기타사항    0 non-null      float64\n",
      "dtypes: float64(6), object(2)\n",
      "memory usage: 12.6+ KB\n"
     ]
    }
   ],
   "source": [
    "trade.info()"
   ],
   "metadata": {
    "collapsed": false,
    "ExecuteTime": {
     "end_time": "2023-08-24T05:49:50.528484200Z",
     "start_time": "2023-08-24T05:49:50.509503600Z"
    }
   }
  },
  {
   "cell_type": "code",
   "execution_count": 4,
   "outputs": [],
   "source": [
    "trade = trade.drop(\"기타사항\", axis=1)"
   ],
   "metadata": {
    "collapsed": false,
    "ExecuteTime": {
     "end_time": "2023-08-24T05:50:15.165513200Z",
     "start_time": "2023-08-24T05:50:15.165513200Z"
    }
   }
  },
  {
   "cell_type": "code",
   "execution_count": 9,
   "outputs": [
    {
     "data": {
      "text/plain": "0      False\n1      False\n2      False\n3      False\n4      False\n       ...  \n194    False\n195    False\n196     True\n197     True\n198     True\nLength: 199, dtype: bool"
     },
     "execution_count": 9,
     "metadata": {},
     "output_type": "execute_result"
    }
   ],
   "source": [
    "# 결측치가 하나라도 있으면 True\n",
    "trade.isnull().any(axis=1)"
   ],
   "metadata": {
    "collapsed": false,
    "ExecuteTime": {
     "end_time": "2023-08-24T05:51:22.902057Z",
     "start_time": "2023-08-24T05:51:22.870348Z"
    }
   }
  },
  {
   "cell_type": "code",
   "execution_count": 11,
   "outputs": [
    {
     "data": {
      "text/plain": "            기간 국가명      수출건수  수출금액       수입건수       수입금액  무역수지\n191  2020년 04월  미국  105360.0   NaN  1141118.0  5038739.0   NaN\n196  2020년 06월  중국       NaN   NaN        NaN        NaN   NaN\n197  2020년 06월  미국       NaN   NaN        NaN        NaN   NaN\n198  2020년 06월  일본       NaN   NaN        NaN        NaN   NaN",
      "text/html": "<div>\n<style scoped>\n    .dataframe tbody tr th:only-of-type {\n        vertical-align: middle;\n    }\n\n    .dataframe tbody tr th {\n        vertical-align: top;\n    }\n\n    .dataframe thead th {\n        text-align: right;\n    }\n</style>\n<table border=\"1\" class=\"dataframe\">\n  <thead>\n    <tr style=\"text-align: right;\">\n      <th></th>\n      <th>기간</th>\n      <th>국가명</th>\n      <th>수출건수</th>\n      <th>수출금액</th>\n      <th>수입건수</th>\n      <th>수입금액</th>\n      <th>무역수지</th>\n    </tr>\n  </thead>\n  <tbody>\n    <tr>\n      <th>191</th>\n      <td>2020년 04월</td>\n      <td>미국</td>\n      <td>105360.0</td>\n      <td>NaN</td>\n      <td>1141118.0</td>\n      <td>5038739.0</td>\n      <td>NaN</td>\n    </tr>\n    <tr>\n      <th>196</th>\n      <td>2020년 06월</td>\n      <td>중국</td>\n      <td>NaN</td>\n      <td>NaN</td>\n      <td>NaN</td>\n      <td>NaN</td>\n      <td>NaN</td>\n    </tr>\n    <tr>\n      <th>197</th>\n      <td>2020년 06월</td>\n      <td>미국</td>\n      <td>NaN</td>\n      <td>NaN</td>\n      <td>NaN</td>\n      <td>NaN</td>\n      <td>NaN</td>\n    </tr>\n    <tr>\n      <th>198</th>\n      <td>2020년 06월</td>\n      <td>일본</td>\n      <td>NaN</td>\n      <td>NaN</td>\n      <td>NaN</td>\n      <td>NaN</td>\n      <td>NaN</td>\n    </tr>\n  </tbody>\n</table>\n</div>"
     },
     "execution_count": 11,
     "metadata": {},
     "output_type": "execute_result"
    }
   ],
   "source": [
    "trade[trade.isnull().any(axis=1)] # 조건문 사용"
   ],
   "metadata": {
    "collapsed": false,
    "ExecuteTime": {
     "end_time": "2023-08-24T05:51:53.747521700Z",
     "start_time": "2023-08-24T05:51:53.735372300Z"
    }
   }
  },
  {
   "cell_type": "code",
   "execution_count": 13,
   "outputs": [],
   "source": [
    "# 결측치가 있는것을 없애주는 함수 dropna\n",
    "trade.dropna(how=\"all\", subset=[\"수출건수\", \"수출금액\", \"수입건수\", \"수입금액\", \"무역수지\"], inplace=True)\n",
    "# how에 any를 주면 하나라도 결측치면 삭제 all 이면 모두 해당되야 삭제 (기본값은 any)\n",
    "# subset 은 칼럼 기준을 제시 (기본값은 all)"
   ],
   "metadata": {
    "collapsed": false,
    "ExecuteTime": {
     "end_time": "2023-08-24T05:54:26.832276Z",
     "start_time": "2023-08-24T05:54:26.828238400Z"
    }
   }
  },
  {
   "cell_type": "code",
   "execution_count": 14,
   "outputs": [
    {
     "data": {
      "text/plain": "            기간 국가명      수출건수  수출금액       수입건수       수입금액  무역수지\n191  2020년 04월  미국  105360.0   NaN  1141118.0  5038739.0   NaN",
      "text/html": "<div>\n<style scoped>\n    .dataframe tbody tr th:only-of-type {\n        vertical-align: middle;\n    }\n\n    .dataframe tbody tr th {\n        vertical-align: top;\n    }\n\n    .dataframe thead th {\n        text-align: right;\n    }\n</style>\n<table border=\"1\" class=\"dataframe\">\n  <thead>\n    <tr style=\"text-align: right;\">\n      <th></th>\n      <th>기간</th>\n      <th>국가명</th>\n      <th>수출건수</th>\n      <th>수출금액</th>\n      <th>수입건수</th>\n      <th>수입금액</th>\n      <th>무역수지</th>\n    </tr>\n  </thead>\n  <tbody>\n    <tr>\n      <th>191</th>\n      <td>2020년 04월</td>\n      <td>미국</td>\n      <td>105360.0</td>\n      <td>NaN</td>\n      <td>1141118.0</td>\n      <td>5038739.0</td>\n      <td>NaN</td>\n    </tr>\n  </tbody>\n</table>\n</div>"
     },
     "execution_count": 14,
     "metadata": {},
     "output_type": "execute_result"
    }
   ],
   "source": [
    "trade[trade.isnull().any(axis=1)]"
   ],
   "metadata": {
    "collapsed": false,
    "ExecuteTime": {
     "end_time": "2023-08-24T05:54:31.642035500Z",
     "start_time": "2023-08-24T05:54:31.609920100Z"
    }
   }
  },
  {
   "cell_type": "markdown",
   "source": [
    "위의 결측치를 처리하기 위해 기간에 해당하는 아래 위의 값의 평균을 사용하기로 함."
   ],
   "metadata": {
    "collapsed": false
   }
  },
  {
   "cell_type": "code",
   "execution_count": 16,
   "outputs": [
    {
     "data": {
      "text/plain": "            기간 국가명      수출건수       수출금액       수입건수       수입금액       무역수지\n188  2020년 03월  미국   97117.0  7292838.0  1368345.0  5388338.0  1904500.0\n194  2020년 05월  미국  126598.0  4600726.0  1157163.0  4286873.0   313853.0",
      "text/html": "<div>\n<style scoped>\n    .dataframe tbody tr th:only-of-type {\n        vertical-align: middle;\n    }\n\n    .dataframe tbody tr th {\n        vertical-align: top;\n    }\n\n    .dataframe thead th {\n        text-align: right;\n    }\n</style>\n<table border=\"1\" class=\"dataframe\">\n  <thead>\n    <tr style=\"text-align: right;\">\n      <th></th>\n      <th>기간</th>\n      <th>국가명</th>\n      <th>수출건수</th>\n      <th>수출금액</th>\n      <th>수입건수</th>\n      <th>수입금액</th>\n      <th>무역수지</th>\n    </tr>\n  </thead>\n  <tbody>\n    <tr>\n      <th>188</th>\n      <td>2020년 03월</td>\n      <td>미국</td>\n      <td>97117.0</td>\n      <td>7292838.0</td>\n      <td>1368345.0</td>\n      <td>5388338.0</td>\n      <td>1904500.0</td>\n    </tr>\n    <tr>\n      <th>194</th>\n      <td>2020년 05월</td>\n      <td>미국</td>\n      <td>126598.0</td>\n      <td>4600726.0</td>\n      <td>1157163.0</td>\n      <td>4286873.0</td>\n      <td>313853.0</td>\n    </tr>\n  </tbody>\n</table>\n</div>"
     },
     "execution_count": 16,
     "metadata": {},
     "output_type": "execute_result"
    }
   ],
   "source": [
    "trade[(trade['국가명']=='미국')&((trade['기간']=='2020년 03월')|(trade['기간']=='2020년 05월'))] # |는 합집합 기호"
   ],
   "metadata": {
    "collapsed": false,
    "ExecuteTime": {
     "end_time": "2023-08-24T05:57:01.607025700Z",
     "start_time": "2023-08-24T05:57:01.593423300Z"
    }
   }
  },
  {
   "cell_type": "code",
   "execution_count": 17,
   "outputs": [
    {
     "data": {
      "text/plain": "기간      2020년 04월\n국가명            미국\n수출건수     105360.0\n수출금액    5946782.0\n수입건수    1141118.0\n수입금액    5038739.0\n무역수지          NaN\nName: 191, dtype: object"
     },
     "execution_count": 17,
     "metadata": {},
     "output_type": "execute_result"
    }
   ],
   "source": [
    "trade.loc[191, '수출금액'] = (trade.loc[188, '수출금액'] + trade.loc[194, '수출금액'] )/2\n",
    "trade.loc[191]"
   ],
   "metadata": {
    "collapsed": false,
    "ExecuteTime": {
     "end_time": "2023-08-24T05:57:44.173497400Z",
     "start_time": "2023-08-24T05:57:44.151984200Z"
    }
   }
  },
  {
   "cell_type": "code",
   "execution_count": 18,
   "outputs": [
    {
     "data": {
      "text/plain": "            기간 국가명      수출건수       수출금액       수입건수       수입금액       무역수지\n191  2020년 04월  미국  105360.0  5946782.0  1141118.0  5038739.0  1109176.5",
      "text/html": "<div>\n<style scoped>\n    .dataframe tbody tr th:only-of-type {\n        vertical-align: middle;\n    }\n\n    .dataframe tbody tr th {\n        vertical-align: top;\n    }\n\n    .dataframe thead th {\n        text-align: right;\n    }\n</style>\n<table border=\"1\" class=\"dataframe\">\n  <thead>\n    <tr style=\"text-align: right;\">\n      <th></th>\n      <th>기간</th>\n      <th>국가명</th>\n      <th>수출건수</th>\n      <th>수출금액</th>\n      <th>수입건수</th>\n      <th>수입금액</th>\n      <th>무역수지</th>\n    </tr>\n  </thead>\n  <tbody>\n    <tr>\n      <th>191</th>\n      <td>2020년 04월</td>\n      <td>미국</td>\n      <td>105360.0</td>\n      <td>5946782.0</td>\n      <td>1141118.0</td>\n      <td>5038739.0</td>\n      <td>1109176.5</td>\n    </tr>\n  </tbody>\n</table>\n</div>"
     },
     "execution_count": 18,
     "metadata": {},
     "output_type": "execute_result"
    }
   ],
   "source": [
    "trade.loc[191, '무역수지'] = (trade.loc[188, '무역수지'] + trade.loc[194, '무역수지'] )/2\n",
    "trade.loc[[191]]"
   ],
   "metadata": {
    "collapsed": false,
    "ExecuteTime": {
     "end_time": "2023-08-24T05:59:01.024600300Z",
     "start_time": "2023-08-24T05:59:01.005395Z"
    }
   }
  },
  {
   "cell_type": "code",
   "execution_count": 19,
   "outputs": [
    {
     "data": {
      "text/plain": "기간      0\n국가명     0\n수출건수    0\n수출금액    0\n수입건수    0\n수입금액    0\n무역수지    0\ndtype: int64"
     },
     "execution_count": 19,
     "metadata": {},
     "output_type": "execute_result"
    }
   ],
   "source": [
    "trade.isnull().sum()"
   ],
   "metadata": {
    "collapsed": false,
    "ExecuteTime": {
     "end_time": "2023-08-24T06:08:22.676602600Z",
     "start_time": "2023-08-24T06:08:22.660782300Z"
    }
   }
  },
  {
   "cell_type": "code",
   "execution_count": null,
   "outputs": [],
   "source": [],
   "metadata": {
    "collapsed": false
   }
  }
 ],
 "metadata": {
  "kernelspec": {
   "display_name": "Python 3",
   "language": "python",
   "name": "python3"
  },
  "language_info": {
   "codemirror_mode": {
    "name": "ipython",
    "version": 2
   },
   "file_extension": ".py",
   "mimetype": "text/x-python",
   "name": "python",
   "nbconvert_exporter": "python",
   "pygments_lexer": "ipython2",
   "version": "2.7.6"
  }
 },
 "nbformat": 4,
 "nbformat_minor": 0
}
