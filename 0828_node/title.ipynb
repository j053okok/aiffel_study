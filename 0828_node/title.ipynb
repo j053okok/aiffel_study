{
 "cells": [
  {
   "cell_type": "code",
   "execution_count": 13,
   "outputs": [],
   "source": [
    "from IPython.display import display, Image\n",
    "import pandas as pd\n",
    "import matplotlib.pyplot as plt\n",
    "# 실행한 브라우저에서 바로 그림을 볼 수 있게 해줌\n",
    "%matplotlib inline\n",
    "import numpy as np"
   ],
   "metadata": {
    "collapsed": false,
    "ExecuteTime": {
     "end_time": "2023-08-28T05:11:56.067157Z",
     "start_time": "2023-08-28T05:11:56.057650700Z"
    }
   }
  },
  {
   "cell_type": "code",
   "execution_count": 10,
   "outputs": [
    {
     "name": "stdout",
     "output_type": "stream",
     "text": [
      "(80, 2)\n"
     ]
    },
    {
     "data": {
      "text/plain": "   used_years  price\n0        2.65    175\n1        3.80     63\n2        0.95    273\n3        4.50    133\n4        4.45    106",
      "text/html": "<div>\n<style scoped>\n    .dataframe tbody tr th:only-of-type {\n        vertical-align: middle;\n    }\n\n    .dataframe tbody tr th {\n        vertical-align: top;\n    }\n\n    .dataframe thead th {\n        text-align: right;\n    }\n</style>\n<table border=\"1\" class=\"dataframe\">\n  <thead>\n    <tr style=\"text-align: right;\">\n      <th></th>\n      <th>used_years</th>\n      <th>price</th>\n    </tr>\n  </thead>\n  <tbody>\n    <tr>\n      <th>0</th>\n      <td>2.65</td>\n      <td>175</td>\n    </tr>\n    <tr>\n      <th>1</th>\n      <td>3.80</td>\n      <td>63</td>\n    </tr>\n    <tr>\n      <th>2</th>\n      <td>0.95</td>\n      <td>273</td>\n    </tr>\n    <tr>\n      <th>3</th>\n      <td>4.50</td>\n      <td>133</td>\n    </tr>\n    <tr>\n      <th>4</th>\n      <td>4.45</td>\n      <td>106</td>\n    </tr>\n  </tbody>\n</table>\n</div>"
     },
     "execution_count": 10,
     "metadata": {},
     "output_type": "execute_result"
    }
   ],
   "source": [
    "macbook = pd.read_csv(\"macbook.csv\")\n",
    "print(macbook.shape)\n",
    "macbook.head()"
   ],
   "metadata": {
    "collapsed": false,
    "ExecuteTime": {
     "end_time": "2023-08-28T05:06:54.976702400Z",
     "start_time": "2023-08-28T05:06:54.945135500Z"
    }
   }
  },
  {
   "cell_type": "code",
   "execution_count": 11,
   "outputs": [
    {
     "name": "stdout",
     "output_type": "stream",
     "text": [
      "<class 'pandas.core.frame.DataFrame'>\n",
      "RangeIndex: 80 entries, 0 to 79\n",
      "Data columns (total 2 columns):\n",
      " #   Column      Non-Null Count  Dtype  \n",
      "---  ------      --------------  -----  \n",
      " 0   used_years  80 non-null     float64\n",
      " 1   price       80 non-null     int64  \n",
      "dtypes: float64(1), int64(1)\n",
      "memory usage: 1.4 KB\n"
     ]
    }
   ],
   "source": [
    "macbook.info()"
   ],
   "metadata": {
    "collapsed": false,
    "ExecuteTime": {
     "end_time": "2023-08-28T05:06:55.360685500Z",
     "start_time": "2023-08-28T05:06:55.358884500Z"
    }
   }
  },
  {
   "cell_type": "code",
   "execution_count": 12,
   "outputs": [
    {
     "data": {
      "text/plain": "<Figure size 640x480 with 1 Axes>",
      "image/png": "[encoded data removed]"
     },
     "metadata": {},
     "output_type": "display_data"
    }
   ],
   "source": [
    "plt.scatter(macbook[\"used_years\"], macbook[\"price\"])\n",
    "plt.show()"
   ],
   "metadata": {
    "collapsed": false,
    "ExecuteTime": {
     "end_time": "2023-08-28T05:06:55.920217700Z",
     "start_time": "2023-08-28T05:06:55.801217600Z"
    }
   }
  },
  {
   "cell_type": "code",
   "execution_count": 14,
   "outputs": [
    {
     "data": {
      "text/plain": "array([[ 1.        , -0.78972238],\n       [-0.78972238,  1.        ]])"
     },
     "execution_count": 14,
     "metadata": {},
     "output_type": "execute_result"
    }
   ],
   "source": [
    "np.corrcoef(macbook['used_years'], macbook['price'])"
   ],
   "metadata": {
    "collapsed": false,
    "ExecuteTime": {
     "end_time": "2023-08-28T05:12:03.250246100Z",
     "start_time": "2023-08-28T05:12:03.218112200Z"
    }
   }
  },
  {
   "cell_type": "code",
   "execution_count": 15,
   "outputs": [
    {
     "name": "stdout",
     "output_type": "stream",
     "text": [
      "[2.65 3.8  0.95 4.5  4.45 2.7  3.05 2.25 2.3  1.85 1.5  0.95 2.6  0.55\n",
      " 2.05 0.75 3.95 2.8  2.05 1.15 1.35 3.35 1.35 2.45 2.4  0.1  3.45 2.35\n",
      " 0.7  1.05 1.75 4.1  4.5  4.   2.   2.45 2.5  2.1  3.   4.05 2.7  2.15\n",
      " 3.3  2.4  2.85 1.65 1.55 2.15 3.4  1.55 0.8  2.95 2.4  1.4  1.65 2.25\n",
      " 3.85 3.9  4.6  2.35 4.05 1.2  1.95 1.6  2.   1.8  3.75 3.65 2.35 2.2\n",
      " 1.   4.15 1.1  1.55 2.95 1.5  1.65 1.1  3.25 0.75] [175  63 273 133 106 115 177 248 198 219 163 290 162 217 188 282 106 106\n",
      " 208 306 232 168 209 196 217 256 121 216 260 277 216   9  94 116 165 197\n",
      " 205 262 121  77 174 251 197 234 124 183 190 261 170 170 233 169 168 176\n",
      " 221 202 123 115 161 229  76 255 154 185 222 188 142 165 209 276 308  57\n",
      " 258 151 142 184 191 251 131 303]\n"
     ]
    }
   ],
   "source": [
    "x = macbook[\"used_years\"].values\n",
    "y = macbook[\"price\"].values\n",
    "print(x, y)"
   ],
   "metadata": {
    "collapsed": false,
    "ExecuteTime": {
     "end_time": "2023-08-28T05:21:47.632823900Z",
     "start_time": "2023-08-28T05:21:47.627728400Z"
    }
   }
  },
  {
   "cell_type": "code",
   "execution_count": null,
   "outputs": [],
   "source": [],
   "metadata": {
    "collapsed": false
   }
  }
 ],
 "metadata": {
  "kernelspec": {
   "display_name": "Python 3",
   "language": "python",
   "name": "python3"
  },
  "language_info": {
   "codemirror_mode": {
    "name": "ipython",
    "version": 2
   },
   "file_extension": ".py",
   "mimetype": "text/x-python",
   "name": "python",
   "nbconvert_exporter": "python",
   "pygments_lexer": "ipython2",
   "version": "2.7.6"
  }
 },
 "nbformat": 4,
 "nbformat_minor": 0
}
