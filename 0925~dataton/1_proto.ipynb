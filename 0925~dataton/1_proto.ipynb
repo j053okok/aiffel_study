{
 "cells": [
  {
   "cell_type": "code",
   "execution_count": 64,
   "id": "initial_id",
   "metadata": {
    "collapsed": true,
    "ExecuteTime": {
     "end_time": "2023-09-25T03:57:25.617687500Z",
     "start_time": "2023-09-25T03:57:25.540655Z"
    }
   },
   "outputs": [],
   "source": [
    "import pandas as pd\n",
    "import matplotlib.pyplot as plt\n",
    "import seaborn as sns"
   ]
  },
  {
   "cell_type": "code",
   "execution_count": 65,
   "outputs": [],
   "source": [
    "# 한글 시각화를 위한 seaborn 폰트설정\n",
    "plt.rcParams['axes.unicode_minus'] = False\n",
    "custom_params = {\"axes.spines.right\": False, \"axes.spines.top\": False}\n",
    "sns.set_theme(context='notebook',\n",
    "              style='darkgrid',\n",
    "              palette='pastel',\n",
    "              font='Malgun Gothic',\n",
    "              rc=custom_params)"
   ],
   "metadata": {
    "collapsed": false,
    "ExecuteTime": {
     "end_time": "2023-09-25T03:57:25.617687500Z",
     "start_time": "2023-09-25T03:57:25.543651600Z"
    }
   },
   "id": "618727d4207eacf2"
  },
  {
   "cell_type": "code",
   "execution_count": 66,
   "outputs": [],
   "source": [
    "aisles = pd.read_csv(\"aisles.csv\")\n",
    "dep = pd.read_csv(\"departments.csv\")\n",
    "prior = pd.read_csv(\"order_products__prior.csv\")\n",
    "train = pd.read_csv(\"order_products__train.csv\")\n",
    "order = pd.read_csv(\"orders.csv\")\n",
    "product = pd.read_csv(\"products.csv\")\n",
    "submission = pd.read_csv(\"sample_submission.csv\")"
   ],
   "metadata": {
    "collapsed": false,
    "ExecuteTime": {
     "end_time": "2023-09-25T03:57:32.073112700Z",
     "start_time": "2023-09-25T03:57:25.555270200Z"
    }
   },
   "id": "3b0f717154eea257"
  },
  {
   "cell_type": "code",
   "execution_count": 67,
   "outputs": [
    {
     "data": {
      "text/plain": "     aisle_id                       aisle\n0           1       prepared soups salads\n1           2           specialty cheeses\n2           3         energy granola bars\n3           4               instant foods\n4           5  marinades meat preparation\n..        ...                         ...\n129       130    hot cereal pancake mixes\n130       131                   dry pasta\n131       132                      beauty\n132       133  muscles joints pain relief\n133       134  specialty wines champagnes\n\n[134 rows x 2 columns]",
      "text/html": "<div>\n<style scoped>\n    .dataframe tbody tr th:only-of-type {\n        vertical-align: middle;\n    }\n\n    .dataframe tbody tr th {\n        vertical-align: top;\n    }\n\n    .dataframe thead th {\n        text-align: right;\n    }\n</style>\n<table border=\"1\" class=\"dataframe\">\n  <thead>\n    <tr style=\"text-align: right;\">\n      <th></th>\n      <th>aisle_id</th>\n      <th>aisle</th>\n    </tr>\n  </thead>\n  <tbody>\n    <tr>\n      <th>0</th>\n      <td>1</td>\n      <td>prepared soups salads</td>\n    </tr>\n    <tr>\n      <th>1</th>\n      <td>2</td>\n      <td>specialty cheeses</td>\n    </tr>\n    <tr>\n      <th>2</th>\n      <td>3</td>\n      <td>energy granola bars</td>\n    </tr>\n    <tr>\n      <th>3</th>\n      <td>4</td>\n      <td>instant foods</td>\n    </tr>\n    <tr>\n      <th>4</th>\n      <td>5</td>\n      <td>marinades meat preparation</td>\n    </tr>\n    <tr>\n      <th>...</th>\n      <td>...</td>\n      <td>...</td>\n    </tr>\n    <tr>\n      <th>129</th>\n      <td>130</td>\n      <td>hot cereal pancake mixes</td>\n    </tr>\n    <tr>\n      <th>130</th>\n      <td>131</td>\n      <td>dry pasta</td>\n    </tr>\n    <tr>\n      <th>131</th>\n      <td>132</td>\n      <td>beauty</td>\n    </tr>\n    <tr>\n      <th>132</th>\n      <td>133</td>\n      <td>muscles joints pain relief</td>\n    </tr>\n    <tr>\n      <th>133</th>\n      <td>134</td>\n      <td>specialty wines champagnes</td>\n    </tr>\n  </tbody>\n</table>\n<p>134 rows × 2 columns</p>\n</div>"
     },
     "execution_count": 67,
     "metadata": {},
     "output_type": "execute_result"
    }
   ],
   "source": [
    "aisles"
   ],
   "metadata": {
    "collapsed": false,
    "ExecuteTime": {
     "end_time": "2023-09-25T03:57:32.082037700Z",
     "start_time": "2023-09-25T03:57:32.073112700Z"
    }
   },
   "id": "bd690e583b5070d8"
  },
  {
   "cell_type": "code",
   "execution_count": 68,
   "outputs": [
    {
     "data": {
      "text/plain": "    department_id       department\n0               1           frozen\n1               2            other\n2               3           bakery\n3               4          produce\n4               5          alcohol\n5               6    international\n6               7        beverages\n7               8             pets\n8               9  dry goods pasta\n9              10             bulk\n10             11    personal care\n11             12     meat seafood\n12             13           pantry\n13             14        breakfast\n14             15     canned goods\n15             16       dairy eggs\n16             17        household\n17             18           babies\n18             19           snacks\n19             20             deli\n20             21          missing",
      "text/html": "<div>\n<style scoped>\n    .dataframe tbody tr th:only-of-type {\n        vertical-align: middle;\n    }\n\n    .dataframe tbody tr th {\n        vertical-align: top;\n    }\n\n    .dataframe thead th {\n        text-align: right;\n    }\n</style>\n<table border=\"1\" class=\"dataframe\">\n  <thead>\n    <tr style=\"text-align: right;\">\n      <th></th>\n      <th>department_id</th>\n      <th>department</th>\n    </tr>\n  </thead>\n  <tbody>\n    <tr>\n      <th>0</th>\n      <td>1</td>\n      <td>frozen</td>\n    </tr>\n    <tr>\n      <th>1</th>\n      <td>2</td>\n      <td>other</td>\n    </tr>\n    <tr>\n      <th>2</th>\n      <td>3</td>\n      <td>bakery</td>\n    </tr>\n    <tr>\n      <th>3</th>\n      <td>4</td>\n      <td>produce</td>\n    </tr>\n    <tr>\n      <th>4</th>\n      <td>5</td>\n      <td>alcohol</td>\n    </tr>\n    <tr>\n      <th>5</th>\n      <td>6</td>\n      <td>international</td>\n    </tr>\n    <tr>\n      <th>6</th>\n      <td>7</td>\n      <td>beverages</td>\n    </tr>\n    <tr>\n      <th>7</th>\n      <td>8</td>\n      <td>pets</td>\n    </tr>\n    <tr>\n      <th>8</th>\n      <td>9</td>\n      <td>dry goods pasta</td>\n    </tr>\n    <tr>\n      <th>9</th>\n      <td>10</td>\n      <td>bulk</td>\n    </tr>\n    <tr>\n      <th>10</th>\n      <td>11</td>\n      <td>personal care</td>\n    </tr>\n    <tr>\n      <th>11</th>\n      <td>12</td>\n      <td>meat seafood</td>\n    </tr>\n    <tr>\n      <th>12</th>\n      <td>13</td>\n      <td>pantry</td>\n    </tr>\n    <tr>\n      <th>13</th>\n      <td>14</td>\n      <td>breakfast</td>\n    </tr>\n    <tr>\n      <th>14</th>\n      <td>15</td>\n      <td>canned goods</td>\n    </tr>\n    <tr>\n      <th>15</th>\n      <td>16</td>\n      <td>dairy eggs</td>\n    </tr>\n    <tr>\n      <th>16</th>\n      <td>17</td>\n      <td>household</td>\n    </tr>\n    <tr>\n      <th>17</th>\n      <td>18</td>\n      <td>babies</td>\n    </tr>\n    <tr>\n      <th>18</th>\n      <td>19</td>\n      <td>snacks</td>\n    </tr>\n    <tr>\n      <th>19</th>\n      <td>20</td>\n      <td>deli</td>\n    </tr>\n    <tr>\n      <th>20</th>\n      <td>21</td>\n      <td>missing</td>\n    </tr>\n  </tbody>\n</table>\n</div>"
     },
     "execution_count": 68,
     "metadata": {},
     "output_type": "execute_result"
    }
   ],
   "source": [
    "dep"
   ],
   "metadata": {
    "collapsed": false,
    "ExecuteTime": {
     "end_time": "2023-09-25T03:57:32.099803100Z",
     "start_time": "2023-09-25T03:57:32.080537400Z"
    }
   },
   "id": "55cb6eecbff4b727"
  },
  {
   "cell_type": "code",
   "execution_count": 87,
   "outputs": [
    {
     "name": "stdout",
     "output_type": "stream",
     "text": [
      "(32434489, 4)\n"
     ]
    },
    {
     "data": {
      "text/plain": "   order_id  product_id  add_to_cart_order  reordered\n0         2       33120                  1          1\n1         2       28985                  2          1\n2         2        9327                  3          0\n3         2       45918                  4          1\n4         2       30035                  5          0",
      "text/html": "<div>\n<style scoped>\n    .dataframe tbody tr th:only-of-type {\n        vertical-align: middle;\n    }\n\n    .dataframe tbody tr th {\n        vertical-align: top;\n    }\n\n    .dataframe thead th {\n        text-align: right;\n    }\n</style>\n<table border=\"1\" class=\"dataframe\">\n  <thead>\n    <tr style=\"text-align: right;\">\n      <th></th>\n      <th>order_id</th>\n      <th>product_id</th>\n      <th>add_to_cart_order</th>\n      <th>reordered</th>\n    </tr>\n  </thead>\n  <tbody>\n    <tr>\n      <th>0</th>\n      <td>2</td>\n      <td>33120</td>\n      <td>1</td>\n      <td>1</td>\n    </tr>\n    <tr>\n      <th>1</th>\n      <td>2</td>\n      <td>28985</td>\n      <td>2</td>\n      <td>1</td>\n    </tr>\n    <tr>\n      <th>2</th>\n      <td>2</td>\n      <td>9327</td>\n      <td>3</td>\n      <td>0</td>\n    </tr>\n    <tr>\n      <th>3</th>\n      <td>2</td>\n      <td>45918</td>\n      <td>4</td>\n      <td>1</td>\n    </tr>\n    <tr>\n      <th>4</th>\n      <td>2</td>\n      <td>30035</td>\n      <td>5</td>\n      <td>0</td>\n    </tr>\n  </tbody>\n</table>\n</div>"
     },
     "execution_count": 87,
     "metadata": {},
     "output_type": "execute_result"
    }
   ],
   "source": [
    "print(prior.shape)\n",
    "prior.head()"
   ],
   "metadata": {
    "collapsed": false,
    "ExecuteTime": {
     "end_time": "2023-09-25T04:01:09.649543100Z",
     "start_time": "2023-09-25T04:01:09.613641200Z"
    }
   },
   "id": "91517c5ee3edaa4b"
  },
  {
   "cell_type": "code",
   "execution_count": 70,
   "outputs": [
    {
     "data": {
      "text/plain": "   order_id  user_id eval_set  order_number  order_dow  order_hour_of_day  \\\n0   2539329        1    prior             1          2                  8   \n1   2398795        1    prior             2          3                  7   \n2    473747        1    prior             3          3                 12   \n3   2254736        1    prior             4          4                  7   \n4    431534        1    prior             5          4                 15   \n\n   days_since_prior_order  \n0                     NaN  \n1                    15.0  \n2                    21.0  \n3                    29.0  \n4                    28.0  ",
      "text/html": "<div>\n<style scoped>\n    .dataframe tbody tr th:only-of-type {\n        vertical-align: middle;\n    }\n\n    .dataframe tbody tr th {\n        vertical-align: top;\n    }\n\n    .dataframe thead th {\n        text-align: right;\n    }\n</style>\n<table border=\"1\" class=\"dataframe\">\n  <thead>\n    <tr style=\"text-align: right;\">\n      <th></th>\n      <th>order_id</th>\n      <th>user_id</th>\n      <th>eval_set</th>\n      <th>order_number</th>\n      <th>order_dow</th>\n      <th>order_hour_of_day</th>\n      <th>days_since_prior_order</th>\n    </tr>\n  </thead>\n  <tbody>\n    <tr>\n      <th>0</th>\n      <td>2539329</td>\n      <td>1</td>\n      <td>prior</td>\n      <td>1</td>\n      <td>2</td>\n      <td>8</td>\n      <td>NaN</td>\n    </tr>\n    <tr>\n      <th>1</th>\n      <td>2398795</td>\n      <td>1</td>\n      <td>prior</td>\n      <td>2</td>\n      <td>3</td>\n      <td>7</td>\n      <td>15.0</td>\n    </tr>\n    <tr>\n      <th>2</th>\n      <td>473747</td>\n      <td>1</td>\n      <td>prior</td>\n      <td>3</td>\n      <td>3</td>\n      <td>12</td>\n      <td>21.0</td>\n    </tr>\n    <tr>\n      <th>3</th>\n      <td>2254736</td>\n      <td>1</td>\n      <td>prior</td>\n      <td>4</td>\n      <td>4</td>\n      <td>7</td>\n      <td>29.0</td>\n    </tr>\n    <tr>\n      <th>4</th>\n      <td>431534</td>\n      <td>1</td>\n      <td>prior</td>\n      <td>5</td>\n      <td>4</td>\n      <td>15</td>\n      <td>28.0</td>\n    </tr>\n  </tbody>\n</table>\n</div>"
     },
     "execution_count": 70,
     "metadata": {},
     "output_type": "execute_result"
    }
   ],
   "source": [
    "order.head()ㅜㅜㅝㅜㅏjnjh mhv"
   ],
   "metadata": {
    "collapsed": false,
    "ExecuteTime": {
     "end_time": "2023-09-25T03:57:32.180481600Z",
     "start_time": "2023-09-25T03:57:32.102493Z"
    }
   },
   "id": "d4fa5a1536594e70"
  },
  {
   "cell_type": "code",
   "execution_count": 71,
   "outputs": [
    {
     "data": {
      "text/plain": "   product_id                                       product_name  aisle_id  \\\n0           1                         Chocolate Sandwich Cookies        61   \n1           2                                   All-Seasons Salt       104   \n2           3               Robust Golden Unsweetened Oolong Tea        94   \n3           4  Smart Ones Classic Favorites Mini Rigatoni Wit...        38   \n4           5                          Green Chile Anytime Sauce         5   \n\n   department_id  \n0             19  \n1             13  \n2              7  \n3              1  \n4             13  ",
      "text/html": "<div>\n<style scoped>\n    .dataframe tbody tr th:only-of-type {\n        vertical-align: middle;\n    }\n\n    .dataframe tbody tr th {\n        vertical-align: top;\n    }\n\n    .dataframe thead th {\n        text-align: right;\n    }\n</style>\n<table border=\"1\" class=\"dataframe\">\n  <thead>\n    <tr style=\"text-align: right;\">\n      <th></th>\n      <th>product_id</th>\n      <th>product_name</th>\n      <th>aisle_id</th>\n      <th>department_id</th>\n    </tr>\n  </thead>\n  <tbody>\n    <tr>\n      <th>0</th>\n      <td>1</td>\n      <td>Chocolate Sandwich Cookies</td>\n      <td>61</td>\n      <td>19</td>\n    </tr>\n    <tr>\n      <th>1</th>\n      <td>2</td>\n      <td>All-Seasons Salt</td>\n      <td>104</td>\n      <td>13</td>\n    </tr>\n    <tr>\n      <th>2</th>\n      <td>3</td>\n      <td>Robust Golden Unsweetened Oolong Tea</td>\n      <td>94</td>\n      <td>7</td>\n    </tr>\n    <tr>\n      <th>3</th>\n      <td>4</td>\n      <td>Smart Ones Classic Favorites Mini Rigatoni Wit...</td>\n      <td>38</td>\n      <td>1</td>\n    </tr>\n    <tr>\n      <th>4</th>\n      <td>5</td>\n      <td>Green Chile Anytime Sauce</td>\n      <td>5</td>\n      <td>13</td>\n    </tr>\n  </tbody>\n</table>\n</div>"
     },
     "execution_count": 71,
     "metadata": {},
     "output_type": "execute_result"
    }
   ],
   "source": [
    "product.head()"
   ],
   "metadata": {
    "collapsed": false,
    "ExecuteTime": {
     "end_time": "2023-09-25T03:57:32.203618500Z",
     "start_time": "2023-09-25T03:57:32.116093Z"
    }
   },
   "id": "6d3c77aa52d7d441"
  },
  {
   "cell_type": "code",
   "execution_count": 86,
   "outputs": [
    {
     "name": "stdout",
     "output_type": "stream",
     "text": [
      "(1384617, 4)\n"
     ]
    },
    {
     "data": {
      "text/plain": "         order_id  product_id  add_to_cart_order  reordered\n0               1       49302                  1          1\n1               1       11109                  2          1\n2               1       10246                  3          0\n3               1       49683                  4          0\n4               1       43633                  5          1\n...           ...         ...                ...        ...\n1384612   3421063       14233                  3          1\n1384613   3421063       35548                  4          1\n1384614   3421070       35951                  1          1\n1384615   3421070       16953                  2          1\n1384616   3421070        4724                  3          1\n\n[1384617 rows x 4 columns]",
      "text/html": "<div>\n<style scoped>\n    .dataframe tbody tr th:only-of-type {\n        vertical-align: middle;\n    }\n\n    .dataframe tbody tr th {\n        vertical-align: top;\n    }\n\n    .dataframe thead th {\n        text-align: right;\n    }\n</style>\n<table border=\"1\" class=\"dataframe\">\n  <thead>\n    <tr style=\"text-align: right;\">\n      <th></th>\n      <th>order_id</th>\n      <th>product_id</th>\n      <th>add_to_cart_order</th>\n      <th>reordered</th>\n    </tr>\n  </thead>\n  <tbody>\n    <tr>\n      <th>0</th>\n      <td>1</td>\n      <td>49302</td>\n      <td>1</td>\n      <td>1</td>\n    </tr>\n    <tr>\n      <th>1</th>\n      <td>1</td>\n      <td>11109</td>\n      <td>2</td>\n      <td>1</td>\n    </tr>\n    <tr>\n      <th>2</th>\n      <td>1</td>\n      <td>10246</td>\n      <td>3</td>\n      <td>0</td>\n    </tr>\n    <tr>\n      <th>3</th>\n      <td>1</td>\n      <td>49683</td>\n      <td>4</td>\n      <td>0</td>\n    </tr>\n    <tr>\n      <th>4</th>\n      <td>1</td>\n      <td>43633</td>\n      <td>5</td>\n      <td>1</td>\n    </tr>\n    <tr>\n      <th>...</th>\n      <td>...</td>\n      <td>...</td>\n      <td>...</td>\n      <td>...</td>\n    </tr>\n    <tr>\n      <th>1384612</th>\n      <td>3421063</td>\n      <td>14233</td>\n      <td>3</td>\n      <td>1</td>\n    </tr>\n    <tr>\n      <th>1384613</th>\n      <td>3421063</td>\n      <td>35548</td>\n      <td>4</td>\n      <td>1</td>\n    </tr>\n    <tr>\n      <th>1384614</th>\n      <td>3421070</td>\n      <td>35951</td>\n      <td>1</td>\n      <td>1</td>\n    </tr>\n    <tr>\n      <th>1384615</th>\n      <td>3421070</td>\n      <td>16953</td>\n      <td>2</td>\n      <td>1</td>\n    </tr>\n    <tr>\n      <th>1384616</th>\n      <td>3421070</td>\n      <td>4724</td>\n      <td>3</td>\n      <td>1</td>\n    </tr>\n  </tbody>\n</table>\n<p>1384617 rows × 4 columns</p>\n</div>"
     },
     "execution_count": 86,
     "metadata": {},
     "output_type": "execute_result"
    }
   ],
   "source": [
    "print(train.shape)\n",
    "train"
   ],
   "metadata": {
    "collapsed": false,
    "ExecuteTime": {
     "end_time": "2023-09-25T04:00:54.832412500Z",
     "start_time": "2023-09-25T04:00:54.805215100Z"
    }
   },
   "id": "14b2efb37beb0811"
  },
  {
   "cell_type": "code",
   "execution_count": 88,
   "outputs": [
    {
     "data": {
      "text/plain": "   order_id  product_id  add_to_cart_order  reordered\n0         1       49302                  1          1\n1         1       11109                  2          1\n2         1       10246                  3          0\n3         1       49683                  4          0\n4         1       43633                  5          1\n5         1       13176                  6          0\n6         1       47209                  7          0\n7         1       22035                  8          1",
      "text/html": "<div>\n<style scoped>\n    .dataframe tbody tr th:only-of-type {\n        vertical-align: middle;\n    }\n\n    .dataframe tbody tr th {\n        vertical-align: top;\n    }\n\n    .dataframe thead th {\n        text-align: right;\n    }\n</style>\n<table border=\"1\" class=\"dataframe\">\n  <thead>\n    <tr style=\"text-align: right;\">\n      <th></th>\n      <th>order_id</th>\n      <th>product_id</th>\n      <th>add_to_cart_order</th>\n      <th>reordered</th>\n    </tr>\n  </thead>\n  <tbody>\n    <tr>\n      <th>0</th>\n      <td>1</td>\n      <td>49302</td>\n      <td>1</td>\n      <td>1</td>\n    </tr>\n    <tr>\n      <th>1</th>\n      <td>1</td>\n      <td>11109</td>\n      <td>2</td>\n      <td>1</td>\n    </tr>\n    <tr>\n      <th>2</th>\n      <td>1</td>\n      <td>10246</td>\n      <td>3</td>\n      <td>0</td>\n    </tr>\n    <tr>\n      <th>3</th>\n      <td>1</td>\n      <td>49683</td>\n      <td>4</td>\n      <td>0</td>\n    </tr>\n    <tr>\n      <th>4</th>\n      <td>1</td>\n      <td>43633</td>\n      <td>5</td>\n      <td>1</td>\n    </tr>\n    <tr>\n      <th>5</th>\n      <td>1</td>\n      <td>13176</td>\n      <td>6</td>\n      <td>0</td>\n    </tr>\n    <tr>\n      <th>6</th>\n      <td>1</td>\n      <td>47209</td>\n      <td>7</td>\n      <td>0</td>\n    </tr>\n    <tr>\n      <th>7</th>\n      <td>1</td>\n      <td>22035</td>\n      <td>8</td>\n      <td>1</td>\n    </tr>\n  </tbody>\n</table>\n</div>"
     },
     "execution_count": 88,
     "metadata": {},
     "output_type": "execute_result"
    }
   ],
   "source": [
    "train[train[\"order_id\"] == 1]"
   ],
   "metadata": {
    "collapsed": false,
    "ExecuteTime": {
     "end_time": "2023-09-25T04:02:13.020454800Z",
     "start_time": "2023-09-25T04:02:13.000176100Z"
    }
   },
   "id": "46ba758caa3521fc"
  },
  {
   "cell_type": "code",
   "execution_count": 72,
   "outputs": [
    {
     "data": {
      "text/plain": "   product_id                                    product_name  aisle_id  \\\n0           1                      Chocolate Sandwich Cookies        61   \n1          78               Nutter Butter Cookie Bites Go-Pak        61   \n2         102                           Danish Butter Cookies        61   \n3         172  Gluten Free All Natural Chocolate Chip Cookies        61   \n4         285                    Mini Nilla Wafers Munch Pack        61   \n\n   department_id          aisle  \n0             19  cookies cakes  \n1             19  cookies cakes  \n2             19  cookies cakes  \n3             19  cookies cakes  \n4             19  cookies cakes  ",
      "text/html": "<div>\n<style scoped>\n    .dataframe tbody tr th:only-of-type {\n        vertical-align: middle;\n    }\n\n    .dataframe tbody tr th {\n        vertical-align: top;\n    }\n\n    .dataframe thead th {\n        text-align: right;\n    }\n</style>\n<table border=\"1\" class=\"dataframe\">\n  <thead>\n    <tr style=\"text-align: right;\">\n      <th></th>\n      <th>product_id</th>\n      <th>product_name</th>\n      <th>aisle_id</th>\n      <th>department_id</th>\n      <th>aisle</th>\n    </tr>\n  </thead>\n  <tbody>\n    <tr>\n      <th>0</th>\n      <td>1</td>\n      <td>Chocolate Sandwich Cookies</td>\n      <td>61</td>\n      <td>19</td>\n      <td>cookies cakes</td>\n    </tr>\n    <tr>\n      <th>1</th>\n      <td>78</td>\n      <td>Nutter Butter Cookie Bites Go-Pak</td>\n      <td>61</td>\n      <td>19</td>\n      <td>cookies cakes</td>\n    </tr>\n    <tr>\n      <th>2</th>\n      <td>102</td>\n      <td>Danish Butter Cookies</td>\n      <td>61</td>\n      <td>19</td>\n      <td>cookies cakes</td>\n    </tr>\n    <tr>\n      <th>3</th>\n      <td>172</td>\n      <td>Gluten Free All Natural Chocolate Chip Cookies</td>\n      <td>61</td>\n      <td>19</td>\n      <td>cookies cakes</td>\n    </tr>\n    <tr>\n      <th>4</th>\n      <td>285</td>\n      <td>Mini Nilla Wafers Munch Pack</td>\n      <td>61</td>\n      <td>19</td>\n      <td>cookies cakes</td>\n    </tr>\n  </tbody>\n</table>\n</div>"
     },
     "execution_count": 72,
     "metadata": {},
     "output_type": "execute_result"
    }
   ],
   "source": [
    "item_info = pd.merge(product, aisles, on =\"aisle_id\")\n",
    "item_info.head()"
   ],
   "metadata": {
    "collapsed": false,
    "ExecuteTime": {
     "end_time": "2023-09-25T03:57:32.245604700Z",
     "start_time": "2023-09-25T03:57:32.128627600Z"
    }
   },
   "id": "6332b0d623f18775"
  },
  {
   "cell_type": "code",
   "execution_count": 73,
   "outputs": [
    {
     "data": {
      "text/plain": "   product_id                                    product_name  aisle_id  \\\n0           1                      Chocolate Sandwich Cookies        61   \n1          78               Nutter Butter Cookie Bites Go-Pak        61   \n2         102                           Danish Butter Cookies        61   \n3         172  Gluten Free All Natural Chocolate Chip Cookies        61   \n4         285                    Mini Nilla Wafers Munch Pack        61   \n\n   department_id          aisle department  \n0             19  cookies cakes     snacks  \n1             19  cookies cakes     snacks  \n2             19  cookies cakes     snacks  \n3             19  cookies cakes     snacks  \n4             19  cookies cakes     snacks  ",
      "text/html": "<div>\n<style scoped>\n    .dataframe tbody tr th:only-of-type {\n        vertical-align: middle;\n    }\n\n    .dataframe tbody tr th {\n        vertical-align: top;\n    }\n\n    .dataframe thead th {\n        text-align: right;\n    }\n</style>\n<table border=\"1\" class=\"dataframe\">\n  <thead>\n    <tr style=\"text-align: right;\">\n      <th></th>\n      <th>product_id</th>\n      <th>product_name</th>\n      <th>aisle_id</th>\n      <th>department_id</th>\n      <th>aisle</th>\n      <th>department</th>\n    </tr>\n  </thead>\n  <tbody>\n    <tr>\n      <th>0</th>\n      <td>1</td>\n      <td>Chocolate Sandwich Cookies</td>\n      <td>61</td>\n      <td>19</td>\n      <td>cookies cakes</td>\n      <td>snacks</td>\n    </tr>\n    <tr>\n      <th>1</th>\n      <td>78</td>\n      <td>Nutter Butter Cookie Bites Go-Pak</td>\n      <td>61</td>\n      <td>19</td>\n      <td>cookies cakes</td>\n      <td>snacks</td>\n    </tr>\n    <tr>\n      <th>2</th>\n      <td>102</td>\n      <td>Danish Butter Cookies</td>\n      <td>61</td>\n      <td>19</td>\n      <td>cookies cakes</td>\n      <td>snacks</td>\n    </tr>\n    <tr>\n      <th>3</th>\n      <td>172</td>\n      <td>Gluten Free All Natural Chocolate Chip Cookies</td>\n      <td>61</td>\n      <td>19</td>\n      <td>cookies cakes</td>\n      <td>snacks</td>\n    </tr>\n    <tr>\n      <th>4</th>\n      <td>285</td>\n      <td>Mini Nilla Wafers Munch Pack</td>\n      <td>61</td>\n      <td>19</td>\n      <td>cookies cakes</td>\n      <td>snacks</td>\n    </tr>\n  </tbody>\n</table>\n</div>"
     },
     "execution_count": 73,
     "metadata": {},
     "output_type": "execute_result"
    }
   ],
   "source": [
    "item_info = pd.merge(item_info, dep, on=\"department_id\")\n",
    "item_info.head()"
   ],
   "metadata": {
    "collapsed": false,
    "ExecuteTime": {
     "end_time": "2023-09-25T03:57:32.245604700Z",
     "start_time": "2023-09-25T03:57:32.147898600Z"
    }
   },
   "id": "df7a39202e749186"
  },
  {
   "cell_type": "code",
   "execution_count": 74,
   "outputs": [
    {
     "data": {
      "text/plain": "   order_id  product_id  add_to_cart_order  reordered  user_id eval_set  \\\n0         2       33120                  1          1   202279    prior   \n1         2       28985                  2          1   202279    prior   \n2         2        9327                  3          0   202279    prior   \n3         2       45918                  4          1   202279    prior   \n4         2       30035                  5          0   202279    prior   \n\n   order_number  order_dow  order_hour_of_day  days_since_prior_order  \n0             3          5                  9                     8.0  \n1             3          5                  9                     8.0  \n2             3          5                  9                     8.0  \n3             3          5                  9                     8.0  \n4             3          5                  9                     8.0  ",
      "text/html": "<div>\n<style scoped>\n    .dataframe tbody tr th:only-of-type {\n        vertical-align: middle;\n    }\n\n    .dataframe tbody tr th {\n        vertical-align: top;\n    }\n\n    .dataframe thead th {\n        text-align: right;\n    }\n</style>\n<table border=\"1\" class=\"dataframe\">\n  <thead>\n    <tr style=\"text-align: right;\">\n      <th></th>\n      <th>order_id</th>\n      <th>product_id</th>\n      <th>add_to_cart_order</th>\n      <th>reordered</th>\n      <th>user_id</th>\n      <th>eval_set</th>\n      <th>order_number</th>\n      <th>order_dow</th>\n      <th>order_hour_of_day</th>\n      <th>days_since_prior_order</th>\n    </tr>\n  </thead>\n  <tbody>\n    <tr>\n      <th>0</th>\n      <td>2</td>\n      <td>33120</td>\n      <td>1</td>\n      <td>1</td>\n      <td>202279</td>\n      <td>prior</td>\n      <td>3</td>\n      <td>5</td>\n      <td>9</td>\n      <td>8.0</td>\n    </tr>\n    <tr>\n      <th>1</th>\n      <td>2</td>\n      <td>28985</td>\n      <td>2</td>\n      <td>1</td>\n      <td>202279</td>\n      <td>prior</td>\n      <td>3</td>\n      <td>5</td>\n      <td>9</td>\n      <td>8.0</td>\n    </tr>\n    <tr>\n      <th>2</th>\n      <td>2</td>\n      <td>9327</td>\n      <td>3</td>\n      <td>0</td>\n      <td>202279</td>\n      <td>prior</td>\n      <td>3</td>\n      <td>5</td>\n      <td>9</td>\n      <td>8.0</td>\n    </tr>\n    <tr>\n      <th>3</th>\n      <td>2</td>\n      <td>45918</td>\n      <td>4</td>\n      <td>1</td>\n      <td>202279</td>\n      <td>prior</td>\n      <td>3</td>\n      <td>5</td>\n      <td>9</td>\n      <td>8.0</td>\n    </tr>\n    <tr>\n      <th>4</th>\n      <td>2</td>\n      <td>30035</td>\n      <td>5</td>\n      <td>0</td>\n      <td>202279</td>\n      <td>prior</td>\n      <td>3</td>\n      <td>5</td>\n      <td>9</td>\n      <td>8.0</td>\n    </tr>\n  </tbody>\n</table>\n</div>"
     },
     "execution_count": 74,
     "metadata": {},
     "output_type": "execute_result"
    }
   ],
   "source": [
    "order_total = pd.merge (prior, order, on=\"order_id\")\n",
    "order_total.head()"
   ],
   "metadata": {
    "collapsed": false,
    "ExecuteTime": {
     "end_time": "2023-09-25T03:57:36.214515700Z",
     "start_time": "2023-09-25T03:57:32.158683400Z"
    }
   },
   "id": "91c5fdad94a36f45"
  },
  {
   "cell_type": "code",
   "execution_count": 75,
   "outputs": [
    {
     "data": {
      "text/plain": "          product_id                                       product_name  \\\n0                  1                         Chocolate Sandwich Cookies   \n1                  1                         Chocolate Sandwich Cookies   \n2                  1                         Chocolate Sandwich Cookies   \n3                  1                         Chocolate Sandwich Cookies   \n4                  1                         Chocolate Sandwich Cookies   \n...              ...                                                ...   \n32434484       48778  Fit Super A Juice, Cold Pressed, Carrot/Apple/...   \n32434485       48778  Fit Super A Juice, Cold Pressed, Carrot/Apple/...   \n32434486       48778  Fit Super A Juice, Cold Pressed, Carrot/Apple/...   \n32434487       48778  Fit Super A Juice, Cold Pressed, Carrot/Apple/...   \n32434488       48778  Fit Super A Juice, Cold Pressed, Carrot/Apple/...   \n\n          aisle_id  department_id                         aisle department  \\\n0               61             19                 cookies cakes     snacks   \n1               61             19                 cookies cakes     snacks   \n2               61             19                 cookies cakes     snacks   \n3               61             19                 cookies cakes     snacks   \n4               61             19                 cookies cakes     snacks   \n...            ...            ...                           ...        ...   \n32434484        18             10  bulk dried fruits vegetables       bulk   \n32434485        18             10  bulk dried fruits vegetables       bulk   \n32434486        18             10  bulk dried fruits vegetables       bulk   \n32434487        18             10  bulk dried fruits vegetables       bulk   \n32434488        18             10  bulk dried fruits vegetables       bulk   \n\n          order_id  add_to_cart_order  reordered  user_id eval_set  \\\n0             1107                  7          0    38259    prior   \n1             5319                  3          1   196224    prior   \n2             7540                  4          1   138499    prior   \n3             9228                  2          0    79603    prior   \n4             9273                 30          0    50005    prior   \n...            ...                ...        ...      ...      ...   \n32434484   3054471                 19          1   157473    prior   \n32434485   3136178                 12          0    51953    prior   \n32434486   3174062                 10          0    23556    prior   \n32434487   3220368                 16          0   172793    prior   \n32434488   3262111                 13          1    10651    prior   \n\n          order_number  order_dow  order_hour_of_day  days_since_prior_order  \n0                    2          1                 11                     7.0  \n1                   65          1                 14                     1.0  \n2                    8          0                 14                     7.0  \n3                    2          2                 10                    30.0  \n4                    1          1                 15                     NaN  \n...                ...        ...                ...                     ...  \n32434484            14          0                 18                     6.0  \n32434485             3          5                 15                    17.0  \n32434486            14          3                 12                    15.0  \n32434487            24          0                 14                     3.0  \n32434488             4          1                 13                    20.0  \n\n[32434489 rows x 15 columns]",
      "text/html": "<div>\n<style scoped>\n    .dataframe tbody tr th:only-of-type {\n        vertical-align: middle;\n    }\n\n    .dataframe tbody tr th {\n        vertical-align: top;\n    }\n\n    .dataframe thead th {\n        text-align: right;\n    }\n</style>\n<table border=\"1\" class=\"dataframe\">\n  <thead>\n    <tr style=\"text-align: right;\">\n      <th></th>\n      <th>product_id</th>\n      <th>product_name</th>\n      <th>aisle_id</th>\n      <th>department_id</th>\n      <th>aisle</th>\n      <th>department</th>\n      <th>order_id</th>\n      <th>add_to_cart_order</th>\n      <th>reordered</th>\n      <th>user_id</th>\n      <th>eval_set</th>\n      <th>order_number</th>\n      <th>order_dow</th>\n      <th>order_hour_of_day</th>\n      <th>days_since_prior_order</th>\n    </tr>\n  </thead>\n  <tbody>\n    <tr>\n      <th>0</th>\n      <td>1</td>\n      <td>Chocolate Sandwich Cookies</td>\n      <td>61</td>\n      <td>19</td>\n      <td>cookies cakes</td>\n      <td>snacks</td>\n      <td>1107</td>\n      <td>7</td>\n      <td>0</td>\n      <td>38259</td>\n      <td>prior</td>\n      <td>2</td>\n      <td>1</td>\n      <td>11</td>\n      <td>7.0</td>\n    </tr>\n    <tr>\n      <th>1</th>\n      <td>1</td>\n      <td>Chocolate Sandwich Cookies</td>\n      <td>61</td>\n      <td>19</td>\n      <td>cookies cakes</td>\n      <td>snacks</td>\n      <td>5319</td>\n      <td>3</td>\n      <td>1</td>\n      <td>196224</td>\n      <td>prior</td>\n      <td>65</td>\n      <td>1</td>\n      <td>14</td>\n      <td>1.0</td>\n    </tr>\n    <tr>\n      <th>2</th>\n      <td>1</td>\n      <td>Chocolate Sandwich Cookies</td>\n      <td>61</td>\n      <td>19</td>\n      <td>cookies cakes</td>\n      <td>snacks</td>\n      <td>7540</td>\n      <td>4</td>\n      <td>1</td>\n      <td>138499</td>\n      <td>prior</td>\n      <td>8</td>\n      <td>0</td>\n      <td>14</td>\n      <td>7.0</td>\n    </tr>\n    <tr>\n      <th>3</th>\n      <td>1</td>\n      <td>Chocolate Sandwich Cookies</td>\n      <td>61</td>\n      <td>19</td>\n      <td>cookies cakes</td>\n      <td>snacks</td>\n      <td>9228</td>\n      <td>2</td>\n      <td>0</td>\n      <td>79603</td>\n      <td>prior</td>\n      <td>2</td>\n      <td>2</td>\n      <td>10</td>\n      <td>30.0</td>\n    </tr>\n    <tr>\n      <th>4</th>\n      <td>1</td>\n      <td>Chocolate Sandwich Cookies</td>\n      <td>61</td>\n      <td>19</td>\n      <td>cookies cakes</td>\n      <td>snacks</td>\n      <td>9273</td>\n      <td>30</td>\n      <td>0</td>\n      <td>50005</td>\n      <td>prior</td>\n      <td>1</td>\n      <td>1</td>\n      <td>15</td>\n      <td>NaN</td>\n    </tr>\n    <tr>\n      <th>...</th>\n      <td>...</td>\n      <td>...</td>\n      <td>...</td>\n      <td>...</td>\n      <td>...</td>\n      <td>...</td>\n      <td>...</td>\n      <td>...</td>\n      <td>...</td>\n      <td>...</td>\n      <td>...</td>\n      <td>...</td>\n      <td>...</td>\n      <td>...</td>\n      <td>...</td>\n    </tr>\n    <tr>\n      <th>32434484</th>\n      <td>48778</td>\n      <td>Fit Super A Juice, Cold Pressed, Carrot/Apple/...</td>\n      <td>18</td>\n      <td>10</td>\n      <td>bulk dried fruits vegetables</td>\n      <td>bulk</td>\n      <td>3054471</td>\n      <td>19</td>\n      <td>1</td>\n      <td>157473</td>\n      <td>prior</td>\n      <td>14</td>\n      <td>0</td>\n      <td>18</td>\n      <td>6.0</td>\n    </tr>\n    <tr>\n      <th>32434485</th>\n      <td>48778</td>\n      <td>Fit Super A Juice, Cold Pressed, Carrot/Apple/...</td>\n      <td>18</td>\n      <td>10</td>\n      <td>bulk dried fruits vegetables</td>\n      <td>bulk</td>\n      <td>3136178</td>\n      <td>12</td>\n      <td>0</td>\n      <td>51953</td>\n      <td>prior</td>\n      <td>3</td>\n      <td>5</td>\n      <td>15</td>\n      <td>17.0</td>\n    </tr>\n    <tr>\n      <th>32434486</th>\n      <td>48778</td>\n      <td>Fit Super A Juice, Cold Pressed, Carrot/Apple/...</td>\n      <td>18</td>\n      <td>10</td>\n      <td>bulk dried fruits vegetables</td>\n      <td>bulk</td>\n      <td>3174062</td>\n      <td>10</td>\n      <td>0</td>\n      <td>23556</td>\n      <td>prior</td>\n      <td>14</td>\n      <td>3</td>\n      <td>12</td>\n      <td>15.0</td>\n    </tr>\n    <tr>\n      <th>32434487</th>\n      <td>48778</td>\n      <td>Fit Super A Juice, Cold Pressed, Carrot/Apple/...</td>\n      <td>18</td>\n      <td>10</td>\n      <td>bulk dried fruits vegetables</td>\n      <td>bulk</td>\n      <td>3220368</td>\n      <td>16</td>\n      <td>0</td>\n      <td>172793</td>\n      <td>prior</td>\n      <td>24</td>\n      <td>0</td>\n      <td>14</td>\n      <td>3.0</td>\n    </tr>\n    <tr>\n      <th>32434488</th>\n      <td>48778</td>\n      <td>Fit Super A Juice, Cold Pressed, Carrot/Apple/...</td>\n      <td>18</td>\n      <td>10</td>\n      <td>bulk dried fruits vegetables</td>\n      <td>bulk</td>\n      <td>3262111</td>\n      <td>13</td>\n      <td>1</td>\n      <td>10651</td>\n      <td>prior</td>\n      <td>4</td>\n      <td>1</td>\n      <td>13</td>\n      <td>20.0</td>\n    </tr>\n  </tbody>\n</table>\n<p>32434489 rows × 15 columns</p>\n</div>"
     },
     "execution_count": 75,
     "metadata": {},
     "output_type": "execute_result"
    }
   ],
   "source": [
    "df = pd.merge(item_info, order_total, on=\"product_id\")\n",
    "df       "
   ],
   "metadata": {
    "collapsed": false,
    "ExecuteTime": {
     "end_time": "2023-09-25T03:57:46.590829300Z",
     "start_time": "2023-09-25T03:57:36.214515700Z"
    }
   },
   "id": "48e920155d3b0ec5"
  },
  {
   "cell_type": "code",
   "execution_count": 76,
   "outputs": [
    {
     "data": {
      "text/plain": "product_id                      0\nproduct_name                    0\naisle_id                        0\ndepartment_id                   0\naisle                           0\ndepartment                      0\norder_id                        0\nadd_to_cart_order               0\nreordered                       0\nuser_id                         0\neval_set                        0\norder_number                    0\norder_dow                       0\norder_hour_of_day               0\ndays_since_prior_order    2078068\ndtype: int64"
     },
     "execution_count": 76,
     "metadata": {},
     "output_type": "execute_result"
    }
   ],
   "source": [
    "df.isnull().sum()"
   ],
   "metadata": {
    "collapsed": false,
    "ExecuteTime": {
     "end_time": "2023-09-25T03:57:49.615740100Z",
     "start_time": "2023-09-25T03:57:46.590829300Z"
    }
   },
   "id": "3e601c6f3513dc4e"
  },
  {
   "cell_type": "code",
   "execution_count": 77,
   "outputs": [
    {
     "data": {
      "text/plain": "Index(['product_id', 'product_name', 'aisle_id', 'department_id', 'aisle',\n       'department', 'order_id', 'add_to_cart_order', 'reordered', 'user_id',\n       'eval_set', 'order_number', 'order_dow', 'order_hour_of_day',\n       'days_since_prior_order'],\n      dtype='object')"
     },
     "execution_count": 77,
     "metadata": {},
     "output_type": "execute_result"
    }
   ],
   "source": [
    "df.columns"
   ],
   "metadata": {
    "collapsed": false,
    "ExecuteTime": {
     "end_time": "2023-09-25T03:57:49.616473600Z",
     "start_time": "2023-09-25T03:57:49.603303100Z"
    }
   },
   "id": "4dcb5e11d3b782c2"
  },
  {
   "cell_type": "code",
   "execution_count": 78,
   "outputs": [
    {
     "data": {
      "text/plain": "   제품번호                         제품명  통로번호  부서번호           통로이름    카테고리  주문번호  \\\n0     1  Chocolate Sandwich Cookies    61    19  cookies cakes  snacks  1107   \n1     1  Chocolate Sandwich Cookies    61    19  cookies cakes  snacks  5319   \n2     1  Chocolate Sandwich Cookies    61    19  cookies cakes  snacks  7540   \n3     1  Chocolate Sandwich Cookies    61    19  cookies cakes  snacks  9228   \n4     1  Chocolate Sandwich Cookies    61    19  cookies cakes  snacks  9273   \n\n   add_to_cart_order  reordered  user_id eval_set  order_number  order_dow  \\\n0                  7          0    38259    prior             2          1   \n1                  3          1   196224    prior            65          1   \n2                  4          1   138499    prior             8          0   \n3                  2          0    79603    prior             2          2   \n4                 30          0    50005    prior             1          1   \n\n   order_hour_of_day  days_since_prior_order  \n0                 11                     7.0  \n1                 14                     1.0  \n2                 14                     7.0  \n3                 10                    30.0  \n4                 15                     NaN  ",
      "text/html": "<div>\n<style scoped>\n    .dataframe tbody tr th:only-of-type {\n        vertical-align: middle;\n    }\n\n    .dataframe tbody tr th {\n        vertical-align: top;\n    }\n\n    .dataframe thead th {\n        text-align: right;\n    }\n</style>\n<table border=\"1\" class=\"dataframe\">\n  <thead>\n    <tr style=\"text-align: right;\">\n      <th></th>\n      <th>제품번호</th>\n      <th>제품명</th>\n      <th>통로번호</th>\n      <th>부서번호</th>\n      <th>통로이름</th>\n      <th>카테고리</th>\n      <th>주문번호</th>\n      <th>add_to_cart_order</th>\n      <th>reordered</th>\n      <th>user_id</th>\n      <th>eval_set</th>\n      <th>order_number</th>\n      <th>order_dow</th>\n      <th>order_hour_of_day</th>\n      <th>days_since_prior_order</th>\n    </tr>\n  </thead>\n  <tbody>\n    <tr>\n      <th>0</th>\n      <td>1</td>\n      <td>Chocolate Sandwich Cookies</td>\n      <td>61</td>\n      <td>19</td>\n      <td>cookies cakes</td>\n      <td>snacks</td>\n      <td>1107</td>\n      <td>7</td>\n      <td>0</td>\n      <td>38259</td>\n      <td>prior</td>\n      <td>2</td>\n      <td>1</td>\n      <td>11</td>\n      <td>7.0</td>\n    </tr>\n    <tr>\n      <th>1</th>\n      <td>1</td>\n      <td>Chocolate Sandwich Cookies</td>\n      <td>61</td>\n      <td>19</td>\n      <td>cookies cakes</td>\n      <td>snacks</td>\n      <td>5319</td>\n      <td>3</td>\n      <td>1</td>\n      <td>196224</td>\n      <td>prior</td>\n      <td>65</td>\n      <td>1</td>\n      <td>14</td>\n      <td>1.0</td>\n    </tr>\n    <tr>\n      <th>2</th>\n      <td>1</td>\n      <td>Chocolate Sandwich Cookies</td>\n      <td>61</td>\n      <td>19</td>\n      <td>cookies cakes</td>\n      <td>snacks</td>\n      <td>7540</td>\n      <td>4</td>\n      <td>1</td>\n      <td>138499</td>\n      <td>prior</td>\n      <td>8</td>\n      <td>0</td>\n      <td>14</td>\n      <td>7.0</td>\n    </tr>\n    <tr>\n      <th>3</th>\n      <td>1</td>\n      <td>Chocolate Sandwich Cookies</td>\n      <td>61</td>\n      <td>19</td>\n      <td>cookies cakes</td>\n      <td>snacks</td>\n      <td>9228</td>\n      <td>2</td>\n      <td>0</td>\n      <td>79603</td>\n      <td>prior</td>\n      <td>2</td>\n      <td>2</td>\n      <td>10</td>\n      <td>30.0</td>\n    </tr>\n    <tr>\n      <th>4</th>\n      <td>1</td>\n      <td>Chocolate Sandwich Cookies</td>\n      <td>61</td>\n      <td>19</td>\n      <td>cookies cakes</td>\n      <td>snacks</td>\n      <td>9273</td>\n      <td>30</td>\n      <td>0</td>\n      <td>50005</td>\n      <td>prior</td>\n      <td>1</td>\n      <td>1</td>\n      <td>15</td>\n      <td>NaN</td>\n    </tr>\n  </tbody>\n</table>\n</div>"
     },
     "execution_count": 78,
     "metadata": {},
     "output_type": "execute_result"
    }
   ],
   "source": [
    "df.rename(columns={'product_id' : '제품번호', 'product_name' : '제품명', 'aisle_id' : '통로번호', 'department_id': '부서번호', 'department' : '카테고리', 'aisle' : '통로이름', 'order_id': '주문번호'}, inplace = True)\n",
    "df.head()"
   ],
   "metadata": {
    "collapsed": false,
    "ExecuteTime": {
     "end_time": "2023-09-25T03:57:49.633477700Z",
     "start_time": "2023-09-25T03:57:49.607527800Z"
    }
   },
   "id": "c527f0c303696096"
  },
  {
   "cell_type": "code",
   "execution_count": 79,
   "outputs": [
    {
     "data": {
      "text/plain": "(32434489, 12)"
     },
     "execution_count": 79,
     "metadata": {},
     "output_type": "execute_result"
    }
   ],
   "source": [
    "df = df.drop(['제품번호','통로번호','부서번호'], axis = 1)\n",
    "df.head()\n",
    "df.shape"
   ],
   "metadata": {
    "collapsed": false,
    "ExecuteTime": {
     "end_time": "2023-09-25T03:57:50.859208100Z",
     "start_time": "2023-09-25T03:57:49.625226500Z"
    }
   },
   "id": "5653b8cbbd797e6"
  },
  {
   "cell_type": "code",
   "execution_count": 80,
   "outputs": [
    {
     "data": {
      "text/plain": "user_id\n1         20.259259\n2         15.967033\n3         11.487179\n4         15.357143\n5         14.500000\n            ...    \n206205    20.666667\n206206     4.042705\n206207    14.879397\n206208     7.442105\n206209    20.275862\nName: days_since_prior_order, Length: 206209, dtype: float64"
     },
     "execution_count": 80,
     "metadata": {},
     "output_type": "execute_result"
    }
   ],
   "source": [
    "df.groupby(\"user_id\")[\"days_since_prior_order\"].mean()"
   ],
   "metadata": {
    "collapsed": false,
    "ExecuteTime": {
     "end_time": "2023-09-25T03:57:51.626854900Z",
     "start_time": "2023-09-25T03:57:50.859208100Z"
    }
   },
   "id": "389778a6d451ddce"
  },
  {
   "cell_type": "code",
   "execution_count": 81,
   "outputs": [
    {
     "data": {
      "text/plain": "array([ 7.,  1., 30., nan,  8., 14., 24.,  6.,  9.,  5., 20.,  0., 15.,\n       25., 16., 23., 26., 10., 28., 17., 22., 19.,  3.,  2., 18., 11.,\n       12., 13.,  4., 21., 27., 29.])"
     },
     "execution_count": 81,
     "metadata": {},
     "output_type": "execute_result"
    }
   ],
   "source": [
    "# 실수가 아닌 정수형들임\n",
    "df['days_since_prior_order'].unique()"
   ],
   "metadata": {
    "collapsed": false,
    "ExecuteTime": {
     "end_time": "2023-09-25T03:57:51.917537600Z",
     "start_time": "2023-09-25T03:57:51.618824400Z"
    }
   },
   "id": "6e66443d0530d088"
  },
  {
   "cell_type": "code",
   "execution_count": 82,
   "outputs": [
    {
     "data": {
      "text/plain": "<Figure size 1000x600 with 1 Axes>",
      "image/png": "[encoded data removed]"
     },
     "metadata": {},
     "output_type": "display_data"
    }
   ],
   "source": [
    "plt.figure(figsize=(10, 6))\n",
    "sns.countplot(data = df, x = 'days_since_prior_order')\n",
    "plt.xlabel('재주문 일자')\n",
    "plt.xticks(rotation=45)\n",
    "plt.show()"
   ],
   "metadata": {
    "collapsed": false,
    "ExecuteTime": {
     "end_time": "2023-09-25T03:57:55.144042200Z",
     "start_time": "2023-09-25T03:57:51.911776800Z"
    }
   },
   "id": "ee322d60d99f484f"
  },
  {
   "cell_type": "code",
   "execution_count": 82,
   "outputs": [],
   "source": [
    "."
   ],
   "metadata": {
    "collapsed": false,
    "ExecuteTime": {
     "end_time": "2023-09-25T03:57:55.144792400Z",
     "start_time": "2023-09-25T03:57:55.131569700Z"
    }
   },
   "id": "48f4fd2f3485bf8e"
  }
 ],
 "metadata": {
  "kernelspec": {
   "display_name": "Python 3",
   "language": "python",
   "name": "python3"
  },
  "language_info": {
   "codemirror_mode": {
    "name": "ipython",
    "version": 2
   },
   "file_extension": ".py",
   "mimetype": "text/x-python",
   "name": "python",
   "nbconvert_exporter": "python",
   "pygments_lexer": "ipython2",
   "version": "2.7.6"
  }
 },
 "nbformat": 4,
 "nbformat_minor": 5
}
