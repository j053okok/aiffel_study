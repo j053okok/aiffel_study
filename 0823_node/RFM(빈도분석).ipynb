{
 "cells": [
  {
   "cell_type": "markdown",
   "source": [
    "#### RFM은 Recency, Frequency, Monetary 의 약자\n",
    "\n",
    "- Recency : 최근성\n",
    "- Frequency : 빈번함\n",
    "- Monetary : 양 (현재 데이터에서는 결제한 총 금액)"
   ],
   "metadata": {
    "collapsed": false
   }
  },
  {
   "cell_type": "code",
   "execution_count": 1,
   "metadata": {
    "collapsed": true,
    "ExecuteTime": {
     "end_time": "2023-08-22T16:25:40.397045200Z",
     "start_time": "2023-08-22T16:25:40.392770800Z"
    }
   },
   "outputs": [],
   "source": [
    "import pandas as pd\n",
    "import numpy as np\n",
    "import matplotlib.pyplot as plt\n",
    "import seaborn as sns\n",
    "import datetime as dt"
   ]
  },
  {
   "cell_type": "code",
   "execution_count": 2,
   "outputs": [],
   "source": [
    "custom_params = {\"axes.spines.right\": False, \"axes.spines.top\": False}\n",
    "sns.set_theme(context='notebook',\n",
    "              style='darkgrid',\n",
    "              palette='pastel',\n",
    "              font='Malgun Gothic',\n",
    "              rc=custom_params)"
   ],
   "metadata": {
    "collapsed": false,
    "ExecuteTime": {
     "end_time": "2023-08-22T16:25:47.351081100Z",
     "start_time": "2023-08-22T16:25:47.342048300Z"
    }
   }
  },
  {
   "cell_type": "code",
   "execution_count": 3,
   "outputs": [
    {
     "data": {
      "text/plain": "      Install  Time_stamp    Status            ID  Payment       Game_Name\n0  2022-01-14  2022-01-27  purchase     Heidi_635    19900  Soccer Manager\n1  2022-03-10  2022-03-13  purchase  Courtney_067      900     Mine Ground\n2  2022-02-13  2022-02-19  purchase     David_737     9900  Soccer Manager\n3  2022-02-07  2022-02-25  purchase   Lindsay_820     4900     Mine Ground\n4  2022-03-06  2022-03-10  purchase       Jon_823    49900  Soccer Manager",
      "text/html": "<div>\n<style scoped>\n    .dataframe tbody tr th:only-of-type {\n        vertical-align: middle;\n    }\n\n    .dataframe tbody tr th {\n        vertical-align: top;\n    }\n\n    .dataframe thead th {\n        text-align: right;\n    }\n</style>\n<table border=\"1\" class=\"dataframe\">\n  <thead>\n    <tr style=\"text-align: right;\">\n      <th></th>\n      <th>Install</th>\n      <th>Time_stamp</th>\n      <th>Status</th>\n      <th>ID</th>\n      <th>Payment</th>\n      <th>Game_Name</th>\n    </tr>\n  </thead>\n  <tbody>\n    <tr>\n      <th>0</th>\n      <td>2022-01-14</td>\n      <td>2022-01-27</td>\n      <td>purchase</td>\n      <td>Heidi_635</td>\n      <td>19900</td>\n      <td>Soccer Manager</td>\n    </tr>\n    <tr>\n      <th>1</th>\n      <td>2022-03-10</td>\n      <td>2022-03-13</td>\n      <td>purchase</td>\n      <td>Courtney_067</td>\n      <td>900</td>\n      <td>Mine Ground</td>\n    </tr>\n    <tr>\n      <th>2</th>\n      <td>2022-02-13</td>\n      <td>2022-02-19</td>\n      <td>purchase</td>\n      <td>David_737</td>\n      <td>9900</td>\n      <td>Soccer Manager</td>\n    </tr>\n    <tr>\n      <th>3</th>\n      <td>2022-02-07</td>\n      <td>2022-02-25</td>\n      <td>purchase</td>\n      <td>Lindsay_820</td>\n      <td>4900</td>\n      <td>Mine Ground</td>\n    </tr>\n    <tr>\n      <th>4</th>\n      <td>2022-03-06</td>\n      <td>2022-03-10</td>\n      <td>purchase</td>\n      <td>Jon_823</td>\n      <td>49900</td>\n      <td>Soccer Manager</td>\n    </tr>\n  </tbody>\n</table>\n</div>"
     },
     "execution_count": 3,
     "metadata": {},
     "output_type": "execute_result"
    }
   ],
   "source": [
    "sales_data = pd.read_csv(\"sales_05_8.csv\")\n",
    "sales_data.head()"
   ],
   "metadata": {
    "collapsed": false,
    "ExecuteTime": {
     "end_time": "2023-08-22T16:28:19.537584100Z",
     "start_time": "2023-08-22T16:28:19.437350Z"
    }
   }
  },
  {
   "cell_type": "code",
   "execution_count": 4,
   "outputs": [
    {
     "name": "stdout",
     "output_type": "stream",
     "text": [
      "<class 'pandas.core.frame.DataFrame'>\n",
      "RangeIndex: 75087 entries, 0 to 75086\n",
      "Data columns (total 6 columns):\n",
      " #   Column      Non-Null Count  Dtype \n",
      "---  ------      --------------  ----- \n",
      " 0   Install     75087 non-null  object\n",
      " 1   Time_stamp  75087 non-null  object\n",
      " 2   Status      75087 non-null  object\n",
      " 3   ID          75087 non-null  object\n",
      " 4   Payment     75087 non-null  int64 \n",
      " 5   Game_Name   75087 non-null  object\n",
      "dtypes: int64(1), object(5)\n",
      "memory usage: 3.4+ MB\n"
     ]
    }
   ],
   "source": [
    "sales_data.info()"
   ],
   "metadata": {
    "collapsed": false,
    "ExecuteTime": {
     "end_time": "2023-08-22T16:28:27.559699500Z",
     "start_time": "2023-08-22T16:28:27.529918400Z"
    }
   }
  },
  {
   "cell_type": "code",
   "execution_count": 5,
   "outputs": [
    {
     "data": {
      "text/plain": "52672"
     },
     "execution_count": 5,
     "metadata": {},
     "output_type": "execute_result"
    }
   ],
   "source": [
    "sales_data[\"ID\"].nunique()"
   ],
   "metadata": {
    "collapsed": false,
    "ExecuteTime": {
     "end_time": "2023-08-22T16:29:29.393091700Z",
     "start_time": "2023-08-22T16:29:29.345621900Z"
    }
   }
  },
  {
   "cell_type": "code",
   "execution_count": 8,
   "outputs": [
    {
     "name": "stdout",
     "output_type": "stream",
     "text": [
      "<class 'pandas.core.frame.DataFrame'>\n",
      "Index: 27682 entries, 0 to 27681\n",
      "Data columns (total 7 columns):\n",
      " #   Column      Non-Null Count  Dtype         \n",
      "---  ------      --------------  -----         \n",
      " 0   Install     27682 non-null  object        \n",
      " 1   Time_stamp  27682 non-null  datetime64[ns]\n",
      " 2   Status      27682 non-null  object        \n",
      " 3   ID          27682 non-null  object        \n",
      " 4   Payment     27682 non-null  int64         \n",
      " 5   Game_Name   27682 non-null  object        \n",
      " 6   Now         27682 non-null  datetime64[ns]\n",
      "dtypes: datetime64[ns](2), int64(1), object(4)\n",
      "memory usage: 1.7+ MB\n"
     ]
    }
   ],
   "source": [
    "# datetime형 칼럼 생성 및, 기존 칼럼 datetime형으로 변경\n",
    "sales_data[\"Now\"] = pd.to_datetime(\"2022-06-10\")\n",
    "sales_data[\"Time_stamp\"] = pd.to_datetime(sales_data[\"Time_stamp\"])\n",
    "sales_data = sales_data[sales_data[\"Status\"] == \"purchase\"]\n",
    "sales_data.info()"
   ],
   "metadata": {
    "collapsed": false,
    "ExecuteTime": {
     "end_time": "2023-08-22T16:37:46.825059700Z",
     "start_time": "2023-08-22T16:37:46.780108400Z"
    }
   }
  },
  {
   "cell_type": "code",
   "execution_count": 10,
   "outputs": [
    {
     "name": "stderr",
     "output_type": "stream",
     "text": [
      "C:\\Users\\김영준\\AppData\\Local\\Temp\\ipykernel_9508\\1677220807.py:1: SettingWithCopyWarning: \n",
      "A value is trying to be set on a copy of a slice from a DataFrame.\n",
      "Try using .loc[row_indexer,col_indexer] = value instead\n",
      "\n",
      "See the caveats in the documentation: https://pandas.pydata.org/pandas-docs/stable/user_guide/indexing.html#returning-a-view-versus-a-copy\n",
      "  sales_data[\"Interval\"] = sales_data[\"Now\"] - sales_data[\"Time_stamp\"]\n"
     ]
    },
    {
     "data": {
      "text/plain": "      Install Time_stamp    Status            ID  Payment       Game_Name  \\\n0  2022-01-14 2022-01-27  purchase     Heidi_635    19900  Soccer Manager   \n1  2022-03-10 2022-03-13  purchase  Courtney_067      900     Mine Ground   \n2  2022-02-13 2022-02-19  purchase     David_737     9900  Soccer Manager   \n3  2022-02-07 2022-02-25  purchase   Lindsay_820     4900     Mine Ground   \n4  2022-03-06 2022-03-10  purchase       Jon_823    49900  Soccer Manager   \n\n         Now Interval  \n0 2022-06-10 134 days  \n1 2022-06-10  89 days  \n2 2022-06-10 111 days  \n3 2022-06-10 105 days  \n4 2022-06-10  92 days  ",
      "text/html": "<div>\n<style scoped>\n    .dataframe tbody tr th:only-of-type {\n        vertical-align: middle;\n    }\n\n    .dataframe tbody tr th {\n        vertical-align: top;\n    }\n\n    .dataframe thead th {\n        text-align: right;\n    }\n</style>\n<table border=\"1\" class=\"dataframe\">\n  <thead>\n    <tr style=\"text-align: right;\">\n      <th></th>\n      <th>Install</th>\n      <th>Time_stamp</th>\n      <th>Status</th>\n      <th>ID</th>\n      <th>Payment</th>\n      <th>Game_Name</th>\n      <th>Now</th>\n      <th>Interval</th>\n    </tr>\n  </thead>\n  <tbody>\n    <tr>\n      <th>0</th>\n      <td>2022-01-14</td>\n      <td>2022-01-27</td>\n      <td>purchase</td>\n      <td>Heidi_635</td>\n      <td>19900</td>\n      <td>Soccer Manager</td>\n      <td>2022-06-10</td>\n      <td>134 days</td>\n    </tr>\n    <tr>\n      <th>1</th>\n      <td>2022-03-10</td>\n      <td>2022-03-13</td>\n      <td>purchase</td>\n      <td>Courtney_067</td>\n      <td>900</td>\n      <td>Mine Ground</td>\n      <td>2022-06-10</td>\n      <td>89 days</td>\n    </tr>\n    <tr>\n      <th>2</th>\n      <td>2022-02-13</td>\n      <td>2022-02-19</td>\n      <td>purchase</td>\n      <td>David_737</td>\n      <td>9900</td>\n      <td>Soccer Manager</td>\n      <td>2022-06-10</td>\n      <td>111 days</td>\n    </tr>\n    <tr>\n      <th>3</th>\n      <td>2022-02-07</td>\n      <td>2022-02-25</td>\n      <td>purchase</td>\n      <td>Lindsay_820</td>\n      <td>4900</td>\n      <td>Mine Ground</td>\n      <td>2022-06-10</td>\n      <td>105 days</td>\n    </tr>\n    <tr>\n      <th>4</th>\n      <td>2022-03-06</td>\n      <td>2022-03-10</td>\n      <td>purchase</td>\n      <td>Jon_823</td>\n      <td>49900</td>\n      <td>Soccer Manager</td>\n      <td>2022-06-10</td>\n      <td>92 days</td>\n    </tr>\n  </tbody>\n</table>\n</div>"
     },
     "execution_count": 10,
     "metadata": {},
     "output_type": "execute_result"
    }
   ],
   "source": [
    "sales_data[\"Interval\"] = sales_data[\"Now\"] - sales_data[\"Time_stamp\"]\n",
    "sales_data.head()"
   ],
   "metadata": {
    "collapsed": false,
    "ExecuteTime": {
     "end_time": "2023-08-22T16:41:59.956254400Z",
     "start_time": "2023-08-22T16:41:59.924289600Z"
    }
   }
  },
  {
   "cell_type": "code",
   "execution_count": 12,
   "outputs": [
    {
     "data": {
      "text/plain": "          Interval  ID  Payment\nID                             \nAaron_027  60 days   5    40500\nAaron_031 102 days   5    17500\nAaron_077  40 days   4    26600\nAaron_165  21 days   4    49600\nAaron_224 108 days   1      900",
      "text/html": "<div>\n<style scoped>\n    .dataframe tbody tr th:only-of-type {\n        vertical-align: middle;\n    }\n\n    .dataframe tbody tr th {\n        vertical-align: top;\n    }\n\n    .dataframe thead th {\n        text-align: right;\n    }\n</style>\n<table border=\"1\" class=\"dataframe\">\n  <thead>\n    <tr style=\"text-align: right;\">\n      <th></th>\n      <th>Interval</th>\n      <th>ID</th>\n      <th>Payment</th>\n    </tr>\n    <tr>\n      <th>ID</th>\n      <th></th>\n      <th></th>\n      <th></th>\n    </tr>\n  </thead>\n  <tbody>\n    <tr>\n      <th>Aaron_027</th>\n      <td>60 days</td>\n      <td>5</td>\n      <td>40500</td>\n    </tr>\n    <tr>\n      <th>Aaron_031</th>\n      <td>102 days</td>\n      <td>5</td>\n      <td>17500</td>\n    </tr>\n    <tr>\n      <th>Aaron_077</th>\n      <td>40 days</td>\n      <td>4</td>\n      <td>26600</td>\n    </tr>\n    <tr>\n      <th>Aaron_165</th>\n      <td>21 days</td>\n      <td>4</td>\n      <td>49600</td>\n    </tr>\n    <tr>\n      <th>Aaron_224</th>\n      <td>108 days</td>\n      <td>1</td>\n      <td>900</td>\n    </tr>\n  </tbody>\n</table>\n</div>"
     },
     "execution_count": 12,
     "metadata": {},
     "output_type": "execute_result"
    }
   ],
   "source": [
    "RFM_data = sales_data.groupby([\"ID\"]).agg({\"Interval\" : \"min\", \"ID\" : \"count\", \"Payment\" : \"sum\"})\n",
    "RFM_data.head()"
   ],
   "metadata": {
    "collapsed": false,
    "ExecuteTime": {
     "end_time": "2023-08-22T16:44:54.348088500Z",
     "start_time": "2023-08-22T16:44:54.316827900Z"
    }
   }
  },
  {
   "cell_type": "code",
   "execution_count": 14,
   "outputs": [
    {
     "data": {
      "text/plain": "           Recency  Frequency  Monetary\nID                                     \nAaron_027  60 days          5     40500\nAaron_031 102 days          5     17500\nAaron_077  40 days          4     26600\nAaron_165  21 days          4     49600\nAaron_224 108 days          1       900",
      "text/html": "<div>\n<style scoped>\n    .dataframe tbody tr th:only-of-type {\n        vertical-align: middle;\n    }\n\n    .dataframe tbody tr th {\n        vertical-align: top;\n    }\n\n    .dataframe thead th {\n        text-align: right;\n    }\n</style>\n<table border=\"1\" class=\"dataframe\">\n  <thead>\n    <tr style=\"text-align: right;\">\n      <th></th>\n      <th>Recency</th>\n      <th>Frequency</th>\n      <th>Monetary</th>\n    </tr>\n    <tr>\n      <th>ID</th>\n      <th></th>\n      <th></th>\n      <th></th>\n    </tr>\n  </thead>\n  <tbody>\n    <tr>\n      <th>Aaron_027</th>\n      <td>60 days</td>\n      <td>5</td>\n      <td>40500</td>\n    </tr>\n    <tr>\n      <th>Aaron_031</th>\n      <td>102 days</td>\n      <td>5</td>\n      <td>17500</td>\n    </tr>\n    <tr>\n      <th>Aaron_077</th>\n      <td>40 days</td>\n      <td>4</td>\n      <td>26600</td>\n    </tr>\n    <tr>\n      <th>Aaron_165</th>\n      <td>21 days</td>\n      <td>4</td>\n      <td>49600</td>\n    </tr>\n    <tr>\n      <th>Aaron_224</th>\n      <td>108 days</td>\n      <td>1</td>\n      <td>900</td>\n    </tr>\n  </tbody>\n</table>\n</div>"
     },
     "execution_count": 14,
     "metadata": {},
     "output_type": "execute_result"
    }
   ],
   "source": [
    "RFM_data.columns = [\"Recency\", \"Frequency\", \"Monetary\"]\n",
    "RFM_data.head()"
   ],
   "metadata": {
    "collapsed": false,
    "ExecuteTime": {
     "end_time": "2023-08-22T16:45:55.745908200Z",
     "start_time": "2023-08-22T16:45:55.729863700Z"
    }
   }
  },
  {
   "cell_type": "code",
   "execution_count": 15,
   "outputs": [
    {
     "name": "stdout",
     "output_type": "stream",
     "text": [
      "<class 'pandas.core.frame.DataFrame'>\n",
      "Index: 5267 entries, Aaron_027 to Zoe_638\n",
      "Data columns (total 3 columns):\n",
      " #   Column     Non-Null Count  Dtype          \n",
      "---  ------     --------------  -----          \n",
      " 0   Recency    5267 non-null   timedelta64[ns]\n",
      " 1   Frequency  5267 non-null   int64          \n",
      " 2   Monetary   5267 non-null   int64          \n",
      "dtypes: int64(2), timedelta64[ns](1)\n",
      "memory usage: 164.6+ KB\n"
     ]
    }
   ],
   "source": [
    "RFM_data.info()"
   ],
   "metadata": {
    "collapsed": false,
    "ExecuteTime": {
     "end_time": "2023-08-22T16:46:34.508238100Z",
     "start_time": "2023-08-22T16:46:34.504357900Z"
    }
   }
  },
  {
   "cell_type": "code",
   "execution_count": 16,
   "outputs": [
    {
     "data": {
      "text/plain": "             Recency  Frequency  Monetary\nID                                       \nAaron_027         60          5     40500\nAaron_031        102          5     17500\nAaron_077         40          4     26600\nAaron_165         21          4     49600\nAaron_224        108          1       900\n...              ...        ...       ...\nZachary_937      101          4     11600\nZachary_948       48          5     26500\nZoe_163           11          5    105500\nZoe_536           88          1       900\nZoe_638          117          3     25700\n\n[5267 rows x 3 columns]",
      "text/html": "<div>\n<style scoped>\n    .dataframe tbody tr th:only-of-type {\n        vertical-align: middle;\n    }\n\n    .dataframe tbody tr th {\n        vertical-align: top;\n    }\n\n    .dataframe thead th {\n        text-align: right;\n    }\n</style>\n<table border=\"1\" class=\"dataframe\">\n  <thead>\n    <tr style=\"text-align: right;\">\n      <th></th>\n      <th>Recency</th>\n      <th>Frequency</th>\n      <th>Monetary</th>\n    </tr>\n    <tr>\n      <th>ID</th>\n      <th></th>\n      <th></th>\n      <th></th>\n    </tr>\n  </thead>\n  <tbody>\n    <tr>\n      <th>Aaron_027</th>\n      <td>60</td>\n      <td>5</td>\n      <td>40500</td>\n    </tr>\n    <tr>\n      <th>Aaron_031</th>\n      <td>102</td>\n      <td>5</td>\n      <td>17500</td>\n    </tr>\n    <tr>\n      <th>Aaron_077</th>\n      <td>40</td>\n      <td>4</td>\n      <td>26600</td>\n    </tr>\n    <tr>\n      <th>Aaron_165</th>\n      <td>21</td>\n      <td>4</td>\n      <td>49600</td>\n    </tr>\n    <tr>\n      <th>Aaron_224</th>\n      <td>108</td>\n      <td>1</td>\n      <td>900</td>\n    </tr>\n    <tr>\n      <th>...</th>\n      <td>...</td>\n      <td>...</td>\n      <td>...</td>\n    </tr>\n    <tr>\n      <th>Zachary_937</th>\n      <td>101</td>\n      <td>4</td>\n      <td>11600</td>\n    </tr>\n    <tr>\n      <th>Zachary_948</th>\n      <td>48</td>\n      <td>5</td>\n      <td>26500</td>\n    </tr>\n    <tr>\n      <th>Zoe_163</th>\n      <td>11</td>\n      <td>5</td>\n      <td>105500</td>\n    </tr>\n    <tr>\n      <th>Zoe_536</th>\n      <td>88</td>\n      <td>1</td>\n      <td>900</td>\n    </tr>\n    <tr>\n      <th>Zoe_638</th>\n      <td>117</td>\n      <td>3</td>\n      <td>25700</td>\n    </tr>\n  </tbody>\n</table>\n<p>5267 rows × 3 columns</p>\n</div>"
     },
     "execution_count": 16,
     "metadata": {},
     "output_type": "execute_result"
    }
   ],
   "source": [
    "# 열에서 날짜 차이를 일(day) 단위로 추출하는 메서드인 dt.days\n",
    "RFM_data[\"Recency\"] = RFM_data[\"Recency\"].dt.days\n",
    "RFM_data"
   ],
   "metadata": {
    "collapsed": false,
    "ExecuteTime": {
     "end_time": "2023-08-22T16:47:02.400092900Z",
     "start_time": "2023-08-22T16:47:02.337382200Z"
    }
   }
  },
  {
   "cell_type": "code",
   "execution_count": 17,
   "outputs": [
    {
     "name": "stdout",
     "output_type": "stream",
     "text": [
      "<class 'pandas.core.frame.DataFrame'>\n",
      "Index: 5267 entries, Aaron_027 to Zoe_638\n",
      "Data columns (total 3 columns):\n",
      " #   Column     Non-Null Count  Dtype\n",
      "---  ------     --------------  -----\n",
      " 0   Recency    5267 non-null   int64\n",
      " 1   Frequency  5267 non-null   int64\n",
      " 2   Monetary   5267 non-null   int64\n",
      "dtypes: int64(3)\n",
      "memory usage: 164.6+ KB\n"
     ]
    }
   ],
   "source": [
    "RFM_data.info()"
   ],
   "metadata": {
    "collapsed": false,
    "ExecuteTime": {
     "end_time": "2023-08-22T16:47:07.691614200Z",
     "start_time": "2023-08-22T16:47:07.644591400Z"
    }
   }
  },
  {
   "cell_type": "code",
   "execution_count": 18,
   "outputs": [
    {
     "data": {
      "text/plain": "           Recency    Frequency       Monetary\ncount  5267.000000  5267.000000    5267.000000\nmean     66.517752     5.255743   50340.003797\nstd      35.684775     6.995041   73012.364791\nmin       7.000000     1.000000     900.000000\n25%      36.000000     1.000000    9900.000000\n50%      61.000000     5.000000   29900.000000\n75%      94.000000     5.000000   55500.000000\nmax     158.000000    37.000000  582700.000000",
      "text/html": "<div>\n<style scoped>\n    .dataframe tbody tr th:only-of-type {\n        vertical-align: middle;\n    }\n\n    .dataframe tbody tr th {\n        vertical-align: top;\n    }\n\n    .dataframe thead th {\n        text-align: right;\n    }\n</style>\n<table border=\"1\" class=\"dataframe\">\n  <thead>\n    <tr style=\"text-align: right;\">\n      <th></th>\n      <th>Recency</th>\n      <th>Frequency</th>\n      <th>Monetary</th>\n    </tr>\n  </thead>\n  <tbody>\n    <tr>\n      <th>count</th>\n      <td>5267.000000</td>\n      <td>5267.000000</td>\n      <td>5267.000000</td>\n    </tr>\n    <tr>\n      <th>mean</th>\n      <td>66.517752</td>\n      <td>5.255743</td>\n      <td>50340.003797</td>\n    </tr>\n    <tr>\n      <th>std</th>\n      <td>35.684775</td>\n      <td>6.995041</td>\n      <td>73012.364791</td>\n    </tr>\n    <tr>\n      <th>min</th>\n      <td>7.000000</td>\n      <td>1.000000</td>\n      <td>900.000000</td>\n    </tr>\n    <tr>\n      <th>25%</th>\n      <td>36.000000</td>\n      <td>1.000000</td>\n      <td>9900.000000</td>\n    </tr>\n    <tr>\n      <th>50%</th>\n      <td>61.000000</td>\n      <td>5.000000</td>\n      <td>29900.000000</td>\n    </tr>\n    <tr>\n      <th>75%</th>\n      <td>94.000000</td>\n      <td>5.000000</td>\n      <td>55500.000000</td>\n    </tr>\n    <tr>\n      <th>max</th>\n      <td>158.000000</td>\n      <td>37.000000</td>\n      <td>582700.000000</td>\n    </tr>\n  </tbody>\n</table>\n</div>"
     },
     "execution_count": 18,
     "metadata": {},
     "output_type": "execute_result"
    }
   ],
   "source": [
    "RFM_data.describe()\n",
    "# 표준편차는 평균을 중심으로 각 요소 값들이 얼마나 떨어져 있나를 나타냄\n",
    "# 표준편차가 75%값을 벗어나는 경우 데이터가 넓게 흩어져 있다는 의미가 됨\n",
    "# 25%~75% 사분위수 범위"
   ],
   "metadata": {
    "collapsed": false,
    "ExecuteTime": {
     "end_time": "2023-08-22T16:53:52.997831800Z",
     "start_time": "2023-08-22T16:53:52.934289900Z"
    }
   }
  },
  {
   "cell_type": "code",
   "execution_count": null,
   "outputs": [],
   "source": [],
   "metadata": {
    "collapsed": false
   }
  }
 ],
 "metadata": {
  "kernelspec": {
   "display_name": "Python 3",
   "language": "python",
   "name": "python3"
  },
  "language_info": {
   "codemirror_mode": {
    "name": "ipython",
    "version": 2
   },
   "file_extension": ".py",
   "mimetype": "text/x-python",
   "name": "python",
   "nbconvert_exporter": "python",
   "pygments_lexer": "ipython2",
   "version": "2.7.6"
  }
 },
 "nbformat": 4,
 "nbformat_minor": 0
}
