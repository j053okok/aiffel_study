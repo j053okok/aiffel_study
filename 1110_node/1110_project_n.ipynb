{
 "cells": [
  {
   "cell_type": "markdown",
   "id": "fa00f9b0",
   "metadata": {},
   "source": [
    "## 19-1. 프로젝트"
   ]
  },
  {
   "cell_type": "code",
   "execution_count": 2,
   "id": "29daefe2",
   "metadata": {},
   "outputs": [
    {
     "name": "stdout",
     "output_type": "stream",
     "text": [
      "1.9.1+cu111\n",
      "0.10.1+cu111\n",
      "1.21.4\n",
      "8.3.2\n"
     ]
    }
   ],
   "source": [
    "import torch\n",
    "import torchvision\n",
    "import numpy as np\n",
    "import PIL\n",
    "\n",
    "print(torch.__version__)\n",
    "print(torchvision.__version__)\n",
    "print(np.__version__)\n",
    "print(PIL.__version__)"
   ]
  },
  {
   "cell_type": "code",
   "execution_count": 20,
   "id": "b3f4cbcd",
   "metadata": {},
   "outputs": [],
   "source": [
    "import os\n",
    "import numpy as np\n",
    "from statistics import mean\n",
    "\n",
    "import torch\n",
    "import torchvision\n",
    "\n",
    "from sklearn.metrics import accuracy_score, f1_score, precision_score, recall_score, confusion_matrix\n",
    "from scipy import stats\n",
    "\n",
    "from PIL import Image\n",
    "import pandas as pd\n",
    "import matplotlib.pyplot as plt\n",
    "import seaborn as sns\n",
    "\n",
    "import warnings\n",
    "warnings.filterwarnings(\"ignore\")"
   ]
  },
  {
   "cell_type": "code",
   "execution_count": 21,
   "id": "928fb78d",
   "metadata": {},
   "outputs": [],
   "source": [
    "plt.rcParams['axes.unicode_minus'] = False\n",
    "custom_params = {\"axes.spines.right\": False, \"axes.spines.top\": False}\n",
    "sns.set_theme(context='notebook',\n",
    "              style='darkgrid',\n",
    "              palette='pastel',\n",
    "              font='NanumBarunGothic',\n",
    "              rc=custom_params)"
   ]
  },
  {
   "cell_type": "markdown",
   "id": "0ba19861",
   "metadata": {},
   "source": [
    "### 1단계: Activation Vector 추출"
   ]
  },
  {
   "cell_type": "code",
   "execution_count": 4,
   "id": "3d55e72a",
   "metadata": {},
   "outputs": [],
   "source": [
    "# 경로 설정\n",
    "PROJECT_PATH = os.getenv('HOME') + '/aiffel/socar_open_set'\n",
    "MODEL_PATH = os.path.join(PROJECT_PATH, 'weights')\n",
    "DATA_PATH = os.path.join(PROJECT_PATH, 'data')\n",
    "TRAIN_PATH = os.path.join(DATA_PATH, 'train')\n",
    "TEST_PATH = os.path.join(DATA_PATH, 'test')\n",
    "REJECT_PATH = os.path.join(DATA_PATH, 'reject')\n",
    "\n",
    "device = torch.device(\"cuda\" if torch.cuda.is_available() else \"cpu\")"
   ]
  },
  {
   "cell_type": "code",
   "execution_count": 6,
   "id": "09e414cd",
   "metadata": {},
   "outputs": [],
   "source": [
    "# 데이터 전처리 파이프라인\n",
    "def create_dataloader(path, batch_size, istrain):\n",
    "    nearest_mode = torchvision.transforms.InterpolationMode.NEAREST\n",
    "    normalize = torchvision.transforms.Normalize(\n",
    "            mean=[0.485, 0.456, 0.406],\n",
    "            std=[0.229, 0.224, 0.225]\n",
    "    )\n",
    "    train_transformer = torchvision.transforms.Compose([\n",
    "        torchvision.transforms.Resize((320,320), interpolation=nearest_mode),\n",
    "        torchvision.transforms.CenterCrop((224,224)),\n",
    "        torchvision.transforms.RandomHorizontalFlip(),\n",
    "        torchvision.transforms.RandomVerticalFlip(),\n",
    "        torchvision.transforms.ColorJitter(),\n",
    "        torchvision.transforms.ToTensor(),\n",
    "        normalize\n",
    "    ])\n",
    "\n",
    "    test_transformer = torchvision.transforms.Compose([\n",
    "        torchvision.transforms.Resize((320,320), interpolation=nearest_mode),\n",
    "        torchvision.transforms.CenterCrop((224,224)),\n",
    "        torchvision.transforms.ToTensor(),\n",
    "        normalize\n",
    "    ])\n",
    "    \n",
    "    if istrain:\n",
    "        data = torchvision.datasets.ImageFolder(path, transform=train_transformer)\n",
    "        dataloader = torch.utils.data.DataLoader(data, batch_size=batch_size, shuffle=True)\n",
    "        \n",
    "    else:\n",
    "        data = torchvision.datasets.ImageFolder(path, transform=test_transformer)\n",
    "        dataloader = torch.utils.data.DataLoader(data, shuffle=False)\n",
    "\n",
    "    return dataloader, data"
   ]
  },
  {
   "cell_type": "code",
   "execution_count": 7,
   "id": "b97bcf58",
   "metadata": {},
   "outputs": [
    {
     "name": "stderr",
     "output_type": "stream",
     "text": [
      "Downloading: \"https://download.pytorch.org/models/resnet50-0676ba61.pth\" to /aiffel/.cache/torch/hub/checkpoints/resnet50-0676ba61.pth\n"
     ]
    },
    {
     "data": {
      "application/vnd.jupyter.widget-view+json": {
       "model_id": "81aaf556e0a24f798c16634b8cddccff",
       "version_major": 2,
       "version_minor": 0
      },
      "text/plain": [
       "  0%|          | 0.00/97.8M [00:00<?, ?B/s]"
      ]
     },
     "metadata": {},
     "output_type": "display_data"
    },
    {
     "name": "stdout",
     "output_type": "stream",
     "text": [
      "Successfully Loaded the Network Weight!\n"
     ]
    },
    {
     "data": {
      "text/plain": [
       "ResNet(\n",
       "  (conv1): Conv2d(3, 64, kernel_size=(7, 7), stride=(2, 2), padding=(3, 3), bias=False)\n",
       "  (bn1): BatchNorm2d(64, eps=1e-05, momentum=0.1, affine=True, track_running_stats=True)\n",
       "  (relu): ReLU(inplace=True)\n",
       "  (maxpool): MaxPool2d(kernel_size=3, stride=2, padding=1, dilation=1, ceil_mode=False)\n",
       "  (layer1): Sequential(\n",
       "    (0): Bottleneck(\n",
       "      (conv1): Conv2d(64, 64, kernel_size=(1, 1), stride=(1, 1), bias=False)\n",
       "      (bn1): BatchNorm2d(64, eps=1e-05, momentum=0.1, affine=True, track_running_stats=True)\n",
       "      (conv2): Conv2d(64, 64, kernel_size=(3, 3), stride=(1, 1), padding=(1, 1), bias=False)\n",
       "      (bn2): BatchNorm2d(64, eps=1e-05, momentum=0.1, affine=True, track_running_stats=True)\n",
       "      (conv3): Conv2d(64, 256, kernel_size=(1, 1), stride=(1, 1), bias=False)\n",
       "      (bn3): BatchNorm2d(256, eps=1e-05, momentum=0.1, affine=True, track_running_stats=True)\n",
       "      (relu): ReLU(inplace=True)\n",
       "      (downsample): Sequential(\n",
       "        (0): Conv2d(64, 256, kernel_size=(1, 1), stride=(1, 1), bias=False)\n",
       "        (1): BatchNorm2d(256, eps=1e-05, momentum=0.1, affine=True, track_running_stats=True)\n",
       "      )\n",
       "    )\n",
       "    (1): Bottleneck(\n",
       "      (conv1): Conv2d(256, 64, kernel_size=(1, 1), stride=(1, 1), bias=False)\n",
       "      (bn1): BatchNorm2d(64, eps=1e-05, momentum=0.1, affine=True, track_running_stats=True)\n",
       "      (conv2): Conv2d(64, 64, kernel_size=(3, 3), stride=(1, 1), padding=(1, 1), bias=False)\n",
       "      (bn2): BatchNorm2d(64, eps=1e-05, momentum=0.1, affine=True, track_running_stats=True)\n",
       "      (conv3): Conv2d(64, 256, kernel_size=(1, 1), stride=(1, 1), bias=False)\n",
       "      (bn3): BatchNorm2d(256, eps=1e-05, momentum=0.1, affine=True, track_running_stats=True)\n",
       "      (relu): ReLU(inplace=True)\n",
       "    )\n",
       "    (2): Bottleneck(\n",
       "      (conv1): Conv2d(256, 64, kernel_size=(1, 1), stride=(1, 1), bias=False)\n",
       "      (bn1): BatchNorm2d(64, eps=1e-05, momentum=0.1, affine=True, track_running_stats=True)\n",
       "      (conv2): Conv2d(64, 64, kernel_size=(3, 3), stride=(1, 1), padding=(1, 1), bias=False)\n",
       "      (bn2): BatchNorm2d(64, eps=1e-05, momentum=0.1, affine=True, track_running_stats=True)\n",
       "      (conv3): Conv2d(64, 256, kernel_size=(1, 1), stride=(1, 1), bias=False)\n",
       "      (bn3): BatchNorm2d(256, eps=1e-05, momentum=0.1, affine=True, track_running_stats=True)\n",
       "      (relu): ReLU(inplace=True)\n",
       "    )\n",
       "  )\n",
       "  (layer2): Sequential(\n",
       "    (0): Bottleneck(\n",
       "      (conv1): Conv2d(256, 128, kernel_size=(1, 1), stride=(1, 1), bias=False)\n",
       "      (bn1): BatchNorm2d(128, eps=1e-05, momentum=0.1, affine=True, track_running_stats=True)\n",
       "      (conv2): Conv2d(128, 128, kernel_size=(3, 3), stride=(2, 2), padding=(1, 1), bias=False)\n",
       "      (bn2): BatchNorm2d(128, eps=1e-05, momentum=0.1, affine=True, track_running_stats=True)\n",
       "      (conv3): Conv2d(128, 512, kernel_size=(1, 1), stride=(1, 1), bias=False)\n",
       "      (bn3): BatchNorm2d(512, eps=1e-05, momentum=0.1, affine=True, track_running_stats=True)\n",
       "      (relu): ReLU(inplace=True)\n",
       "      (downsample): Sequential(\n",
       "        (0): Conv2d(256, 512, kernel_size=(1, 1), stride=(2, 2), bias=False)\n",
       "        (1): BatchNorm2d(512, eps=1e-05, momentum=0.1, affine=True, track_running_stats=True)\n",
       "      )\n",
       "    )\n",
       "    (1): Bottleneck(\n",
       "      (conv1): Conv2d(512, 128, kernel_size=(1, 1), stride=(1, 1), bias=False)\n",
       "      (bn1): BatchNorm2d(128, eps=1e-05, momentum=0.1, affine=True, track_running_stats=True)\n",
       "      (conv2): Conv2d(128, 128, kernel_size=(3, 3), stride=(1, 1), padding=(1, 1), bias=False)\n",
       "      (bn2): BatchNorm2d(128, eps=1e-05, momentum=0.1, affine=True, track_running_stats=True)\n",
       "      (conv3): Conv2d(128, 512, kernel_size=(1, 1), stride=(1, 1), bias=False)\n",
       "      (bn3): BatchNorm2d(512, eps=1e-05, momentum=0.1, affine=True, track_running_stats=True)\n",
       "      (relu): ReLU(inplace=True)\n",
       "    )\n",
       "    (2): Bottleneck(\n",
       "      (conv1): Conv2d(512, 128, kernel_size=(1, 1), stride=(1, 1), bias=False)\n",
       "      (bn1): BatchNorm2d(128, eps=1e-05, momentum=0.1, affine=True, track_running_stats=True)\n",
       "      (conv2): Conv2d(128, 128, kernel_size=(3, 3), stride=(1, 1), padding=(1, 1), bias=False)\n",
       "      (bn2): BatchNorm2d(128, eps=1e-05, momentum=0.1, affine=True, track_running_stats=True)\n",
       "      (conv3): Conv2d(128, 512, kernel_size=(1, 1), stride=(1, 1), bias=False)\n",
       "      (bn3): BatchNorm2d(512, eps=1e-05, momentum=0.1, affine=True, track_running_stats=True)\n",
       "      (relu): ReLU(inplace=True)\n",
       "    )\n",
       "    (3): Bottleneck(\n",
       "      (conv1): Conv2d(512, 128, kernel_size=(1, 1), stride=(1, 1), bias=False)\n",
       "      (bn1): BatchNorm2d(128, eps=1e-05, momentum=0.1, affine=True, track_running_stats=True)\n",
       "      (conv2): Conv2d(128, 128, kernel_size=(3, 3), stride=(1, 1), padding=(1, 1), bias=False)\n",
       "      (bn2): BatchNorm2d(128, eps=1e-05, momentum=0.1, affine=True, track_running_stats=True)\n",
       "      (conv3): Conv2d(128, 512, kernel_size=(1, 1), stride=(1, 1), bias=False)\n",
       "      (bn3): BatchNorm2d(512, eps=1e-05, momentum=0.1, affine=True, track_running_stats=True)\n",
       "      (relu): ReLU(inplace=True)\n",
       "    )\n",
       "  )\n",
       "  (layer3): Sequential(\n",
       "    (0): Bottleneck(\n",
       "      (conv1): Conv2d(512, 256, kernel_size=(1, 1), stride=(1, 1), bias=False)\n",
       "      (bn1): BatchNorm2d(256, eps=1e-05, momentum=0.1, affine=True, track_running_stats=True)\n",
       "      (conv2): Conv2d(256, 256, kernel_size=(3, 3), stride=(2, 2), padding=(1, 1), bias=False)\n",
       "      (bn2): BatchNorm2d(256, eps=1e-05, momentum=0.1, affine=True, track_running_stats=True)\n",
       "      (conv3): Conv2d(256, 1024, kernel_size=(1, 1), stride=(1, 1), bias=False)\n",
       "      (bn3): BatchNorm2d(1024, eps=1e-05, momentum=0.1, affine=True, track_running_stats=True)\n",
       "      (relu): ReLU(inplace=True)\n",
       "      (downsample): Sequential(\n",
       "        (0): Conv2d(512, 1024, kernel_size=(1, 1), stride=(2, 2), bias=False)\n",
       "        (1): BatchNorm2d(1024, eps=1e-05, momentum=0.1, affine=True, track_running_stats=True)\n",
       "      )\n",
       "    )\n",
       "    (1): Bottleneck(\n",
       "      (conv1): Conv2d(1024, 256, kernel_size=(1, 1), stride=(1, 1), bias=False)\n",
       "      (bn1): BatchNorm2d(256, eps=1e-05, momentum=0.1, affine=True, track_running_stats=True)\n",
       "      (conv2): Conv2d(256, 256, kernel_size=(3, 3), stride=(1, 1), padding=(1, 1), bias=False)\n",
       "      (bn2): BatchNorm2d(256, eps=1e-05, momentum=0.1, affine=True, track_running_stats=True)\n",
       "      (conv3): Conv2d(256, 1024, kernel_size=(1, 1), stride=(1, 1), bias=False)\n",
       "      (bn3): BatchNorm2d(1024, eps=1e-05, momentum=0.1, affine=True, track_running_stats=True)\n",
       "      (relu): ReLU(inplace=True)\n",
       "    )\n",
       "    (2): Bottleneck(\n",
       "      (conv1): Conv2d(1024, 256, kernel_size=(1, 1), stride=(1, 1), bias=False)\n",
       "      (bn1): BatchNorm2d(256, eps=1e-05, momentum=0.1, affine=True, track_running_stats=True)\n",
       "      (conv2): Conv2d(256, 256, kernel_size=(3, 3), stride=(1, 1), padding=(1, 1), bias=False)\n",
       "      (bn2): BatchNorm2d(256, eps=1e-05, momentum=0.1, affine=True, track_running_stats=True)\n",
       "      (conv3): Conv2d(256, 1024, kernel_size=(1, 1), stride=(1, 1), bias=False)\n",
       "      (bn3): BatchNorm2d(1024, eps=1e-05, momentum=0.1, affine=True, track_running_stats=True)\n",
       "      (relu): ReLU(inplace=True)\n",
       "    )\n",
       "    (3): Bottleneck(\n",
       "      (conv1): Conv2d(1024, 256, kernel_size=(1, 1), stride=(1, 1), bias=False)\n",
       "      (bn1): BatchNorm2d(256, eps=1e-05, momentum=0.1, affine=True, track_running_stats=True)\n",
       "      (conv2): Conv2d(256, 256, kernel_size=(3, 3), stride=(1, 1), padding=(1, 1), bias=False)\n",
       "      (bn2): BatchNorm2d(256, eps=1e-05, momentum=0.1, affine=True, track_running_stats=True)\n",
       "      (conv3): Conv2d(256, 1024, kernel_size=(1, 1), stride=(1, 1), bias=False)\n",
       "      (bn3): BatchNorm2d(1024, eps=1e-05, momentum=0.1, affine=True, track_running_stats=True)\n",
       "      (relu): ReLU(inplace=True)\n",
       "    )\n",
       "    (4): Bottleneck(\n",
       "      (conv1): Conv2d(1024, 256, kernel_size=(1, 1), stride=(1, 1), bias=False)\n",
       "      (bn1): BatchNorm2d(256, eps=1e-05, momentum=0.1, affine=True, track_running_stats=True)\n",
       "      (conv2): Conv2d(256, 256, kernel_size=(3, 3), stride=(1, 1), padding=(1, 1), bias=False)\n",
       "      (bn2): BatchNorm2d(256, eps=1e-05, momentum=0.1, affine=True, track_running_stats=True)\n",
       "      (conv3): Conv2d(256, 1024, kernel_size=(1, 1), stride=(1, 1), bias=False)\n",
       "      (bn3): BatchNorm2d(1024, eps=1e-05, momentum=0.1, affine=True, track_running_stats=True)\n",
       "      (relu): ReLU(inplace=True)\n",
       "    )\n",
       "    (5): Bottleneck(\n",
       "      (conv1): Conv2d(1024, 256, kernel_size=(1, 1), stride=(1, 1), bias=False)\n",
       "      (bn1): BatchNorm2d(256, eps=1e-05, momentum=0.1, affine=True, track_running_stats=True)\n",
       "      (conv2): Conv2d(256, 256, kernel_size=(3, 3), stride=(1, 1), padding=(1, 1), bias=False)\n",
       "      (bn2): BatchNorm2d(256, eps=1e-05, momentum=0.1, affine=True, track_running_stats=True)\n",
       "      (conv3): Conv2d(256, 1024, kernel_size=(1, 1), stride=(1, 1), bias=False)\n",
       "      (bn3): BatchNorm2d(1024, eps=1e-05, momentum=0.1, affine=True, track_running_stats=True)\n",
       "      (relu): ReLU(inplace=True)\n",
       "    )\n",
       "  )\n",
       "  (layer4): Sequential(\n",
       "    (0): Bottleneck(\n",
       "      (conv1): Conv2d(1024, 512, kernel_size=(1, 1), stride=(1, 1), bias=False)\n",
       "      (bn1): BatchNorm2d(512, eps=1e-05, momentum=0.1, affine=True, track_running_stats=True)\n",
       "      (conv2): Conv2d(512, 512, kernel_size=(3, 3), stride=(2, 2), padding=(1, 1), bias=False)\n",
       "      (bn2): BatchNorm2d(512, eps=1e-05, momentum=0.1, affine=True, track_running_stats=True)\n",
       "      (conv3): Conv2d(512, 2048, kernel_size=(1, 1), stride=(1, 1), bias=False)\n",
       "      (bn3): BatchNorm2d(2048, eps=1e-05, momentum=0.1, affine=True, track_running_stats=True)\n",
       "      (relu): ReLU(inplace=True)\n",
       "      (downsample): Sequential(\n",
       "        (0): Conv2d(1024, 2048, kernel_size=(1, 1), stride=(2, 2), bias=False)\n",
       "        (1): BatchNorm2d(2048, eps=1e-05, momentum=0.1, affine=True, track_running_stats=True)\n",
       "      )\n",
       "    )\n",
       "    (1): Bottleneck(\n",
       "      (conv1): Conv2d(2048, 512, kernel_size=(1, 1), stride=(1, 1), bias=False)\n",
       "      (bn1): BatchNorm2d(512, eps=1e-05, momentum=0.1, affine=True, track_running_stats=True)\n",
       "      (conv2): Conv2d(512, 512, kernel_size=(3, 3), stride=(1, 1), padding=(1, 1), bias=False)\n",
       "      (bn2): BatchNorm2d(512, eps=1e-05, momentum=0.1, affine=True, track_running_stats=True)\n",
       "      (conv3): Conv2d(512, 2048, kernel_size=(1, 1), stride=(1, 1), bias=False)\n",
       "      (bn3): BatchNorm2d(2048, eps=1e-05, momentum=0.1, affine=True, track_running_stats=True)\n",
       "      (relu): ReLU(inplace=True)\n",
       "    )\n",
       "    (2): Bottleneck(\n",
       "      (conv1): Conv2d(2048, 512, kernel_size=(1, 1), stride=(1, 1), bias=False)\n",
       "      (bn1): BatchNorm2d(512, eps=1e-05, momentum=0.1, affine=True, track_running_stats=True)\n",
       "      (conv2): Conv2d(512, 512, kernel_size=(3, 3), stride=(1, 1), padding=(1, 1), bias=False)\n",
       "      (bn2): BatchNorm2d(512, eps=1e-05, momentum=0.1, affine=True, track_running_stats=True)\n",
       "      (conv3): Conv2d(512, 2048, kernel_size=(1, 1), stride=(1, 1), bias=False)\n",
       "      (bn3): BatchNorm2d(2048, eps=1e-05, momentum=0.1, affine=True, track_running_stats=True)\n",
       "      (relu): ReLU(inplace=True)\n",
       "    )\n",
       "  )\n",
       "  (avgpool): AdaptiveAvgPool2d(output_size=(1, 1))\n",
       "  (fc): Linear(in_features=2048, out_features=4, bias=True)\n",
       ")"
      ]
     },
     "execution_count": 7,
     "metadata": {},
     "output_type": "execute_result"
    }
   ],
   "source": [
    "# 학습 데이터를 연결하고, 미리 준비해 둔 모델을 불러오기\n",
    "train_loader, _train_data = create_dataloader(TRAIN_PATH, 1, False)\n",
    "target_class_num = len(os.listdir(TRAIN_PATH))\n",
    "\n",
    "net = torchvision.models.resnet50(pretrained=True)\n",
    "net.fc = torch.nn.Linear(\n",
    "    net.fc.in_features,\n",
    "    target_class_num\n",
    ")\n",
    "\n",
    "saved_weight_path = os.path.join(MODEL_PATH, 'classifier_acc_0.96008.pth')\n",
    "net.load_state_dict(torch.load(saved_weight_path, map_location=device))\n",
    "print('Successfully Loaded the Network Weight!')\n",
    "net.eval()\n",
    "\n",
    "net.to(device)"
   ]
  },
  {
   "cell_type": "code",
   "execution_count": 8,
   "id": "749c6c8c",
   "metadata": {},
   "outputs": [],
   "source": [
    "train_preds = list()\n",
    "train_actvecs = list()\n",
    "train_outputs_softmax = list()\n",
    "train_labels = list()\n",
    "\n",
    "with torch.no_grad():\n",
    "  for idx, (img, label) in enumerate(train_loader):\n",
    "      img = img.to(device)\n",
    "      label = label.to(device)\n",
    "\n",
    "      out = net(img)\n",
    "      out_actvec = out.cpu().detach().numpy()[0]\n",
    "      out_softmax = torch.softmax(out, 1).cpu().detach().numpy()[0]\n",
    "      out_pred = int(torch.argmax(out).cpu().detach().numpy())\n",
    "      out_label = int(label.cpu().detach().numpy())\n",
    "\n",
    "      train_actvecs.append(out_actvec) # component 1: softmax 전의 Activation Vector\n",
    "      train_preds.append(out_pred) # componenet 2: 각 데이터에 대한 예측값\n",
    "      train_outputs_softmax.append(out_softmax) # component 3: 각 데이터에 대한 softmax 확률\n",
    "      train_labels.append(out_label) # component 4: 각 데이터에 대한 Label (정답)\n",
    "\n",
    "train_actvecs = np.asarray(train_actvecs)\n",
    "train_preds = np.asarray(train_preds)\n",
    "train_outputs_softmax = np.asarray(train_outputs_softmax)\n",
    "train_labels = np.asarray(train_labels)"
   ]
  },
  {
   "cell_type": "code",
   "execution_count": 9,
   "id": "3b0daefd",
   "metadata": {},
   "outputs": [
    {
     "name": "stdout",
     "output_type": "stream",
     "text": [
      "Activation vector:  (4790, 4)\n",
      "Labels:  (4790,)\n"
     ]
    }
   ],
   "source": [
    "train_correct_actvecs = train_actvecs[train_labels==train_preds]\n",
    "train_correct_labels = train_labels[train_labels==train_preds]\n",
    "print('Activation vector: ', train_correct_actvecs.shape)\n",
    "print('Labels: ', train_correct_labels.shape)"
   ]
  },
  {
   "cell_type": "markdown",
   "id": "440ee327",
   "metadata": {},
   "source": [
    "### 2단계: Weibull-Distribution"
   ]
  },
  {
   "cell_type": "code",
   "execution_count": 11,
   "id": "552ee1b9",
   "metadata": {},
   "outputs": [
    {
     "name": "stdout",
     "output_type": "stream",
     "text": [
      "class_idx:  0\n",
      "(1250, 4)\n",
      "class_idx:  1\n",
      "(1170, 4)\n",
      "class_idx:  2\n",
      "(1179, 4)\n",
      "class_idx:  3\n",
      "(1191, 4)\n"
     ]
    }
   ],
   "source": [
    "# 베이불 분포의 모수를 얻기\n",
    "class_means = list()\n",
    "dist_to_means = list()\n",
    "mr_models = {}\n",
    "\n",
    "for class_idx in np.unique(train_labels):\n",
    "    \n",
    "    print('class_idx: ', class_idx)\n",
    "    class_act_vec = train_correct_actvecs[train_correct_labels==class_idx]\n",
    "    print(class_act_vec.shape)\n",
    "    \n",
    "    class_mean = class_act_vec.mean(axis=0)\n",
    "    class_means.append(class_mean)\n",
    "    \n",
    "    dist_to_mean = np.square(class_act_vec - class_mean).sum(axis=1) # 각 activation vector의 거리를 계산\n",
    "    dist_to_mean_sorted = np.sort(dist_to_mean).astype(np.float64) # 거리를 기준으로 오름차순 정렬\n",
    "    dist_to_means.append(dist_to_mean_sorted)\n",
    "\n",
    "    shape, loc, scale = stats.weibull_max.fit(dist_to_mean_sorted[-100:]) # 거리가 가장 먼 100개를 사용하여 모수 추출\n",
    "    \n",
    "    mr_models[str(class_idx)] = {\n",
    "        'shape':shape,\n",
    "        'loc':loc,\n",
    "        'scale':scale\n",
    "    }\n",
    "    \n",
    "class_means = np.asarray(class_means)"
   ]
  },
  {
   "cell_type": "markdown",
   "id": "0df8c231",
   "metadata": {},
   "source": [
    "### OpenMax 적용"
   ]
  },
  {
   "cell_type": "code",
   "execution_count": 12,
   "id": "bf6144b0",
   "metadata": {},
   "outputs": [],
   "source": [
    "# reject 클래스 추가\n",
    "def compute_openmax(actvec, class_means, mr_models):\n",
    "    dist_to_mean = np.square(actvec - class_means).sum(axis=1)\n",
    "\n",
    "    scores = list()\n",
    "    for class_idx in range(len(class_means)):\n",
    "        params = mr_models[str(class_idx)]\n",
    "        score = stats.weibull_max.cdf(\n",
    "            dist_to_mean[class_idx],\n",
    "            params['shape'],\n",
    "            params['loc'],\n",
    "            params['scale']\n",
    "        )\n",
    "        scores.append(score)\n",
    "    scores = np.asarray(scores)\n",
    "    \n",
    "    weight_on_actvec = 1 - scores # 각 class별 가중치\n",
    "    rev_actvec = np.concatenate([\n",
    "        weight_on_actvec * actvec, # known class에 대한 가중치 곱\n",
    "        [((1-weight_on_actvec) * actvec).sum()] # unknown class에 새로운 계산식\n",
    "    ])\n",
    "    \n",
    "    openmax_prob = np.exp(rev_actvec) / np.exp(rev_actvec).sum()\n",
    "    return openmax_prob"
   ]
  },
  {
   "cell_type": "code",
   "execution_count": 13,
   "id": "6f27e43b",
   "metadata": {},
   "outputs": [],
   "source": [
    "def inference(actvec, threshold, target_class_num, class_means, mr_models):\n",
    "    openmax_prob = compute_openmax(actvec, class_means, mr_models)\n",
    "    openmax_softmax = np.exp(openmax_prob)/sum(np.exp(openmax_prob))\n",
    "\n",
    "    pred = np.argmax(openmax_softmax)\n",
    "    if np.max(openmax_softmax) < threshold:\n",
    "        pred = target_class_num\n",
    "    return pred"
   ]
  },
  {
   "cell_type": "code",
   "execution_count": 14,
   "id": "bc7511ba",
   "metadata": {},
   "outputs": [],
   "source": [
    "# Threshold 탐색을 쉽게 하기 위해 함수 설정\n",
    "def inference_dataloader(net, data_loader, threshold, target_class_num, class_means, mr_models, is_reject=False):\n",
    "    result_preds = list()\n",
    "    result_labels = list()\n",
    "\n",
    "    with torch.no_grad():\n",
    "      for idx, (img, label) in enumerate(data_loader):\n",
    "          img = img.to(device)\n",
    "          label = label.to(device)\n",
    "\n",
    "          out = net(img)\n",
    "          out_actvec = out.cpu().detach().numpy()[0]\n",
    "          out_softmax = torch.softmax(out, 1).cpu().detach().numpy()[0]\n",
    "          out_label = int(label.cpu().detach().numpy())\n",
    "\n",
    "          pred = inference(out_actvec, threshold, target_class_num, class_means, mr_models)\n",
    "      \n",
    "          result_preds.append(pred)\n",
    "          if is_reject:\n",
    "              result_labels.append(target_class_num)\n",
    "          else:\n",
    "              result_labels.append(out_label)\n",
    "\n",
    "    return result_preds, result_labels"
   ]
  },
  {
   "cell_type": "code",
   "execution_count": 79,
   "id": "c5ab0522",
   "metadata": {},
   "outputs": [],
   "source": [
    "test_loader, _test_data = create_dataloader(TEST_PATH, 1, False)\n",
    "reject_loader, _reject_data = create_dataloader(REJECT_PATH, 1, False)\n",
    "target_class_num = len(os.listdir(TEST_PATH))"
   ]
  },
  {
   "cell_type": "markdown",
   "id": "a930c269",
   "metadata": {},
   "source": [
    "### 최적의 threshold 찾기"
   ]
  },
  {
   "cell_type": "code",
   "execution_count": 80,
   "id": "37f3e147",
   "metadata": {},
   "outputs": [],
   "source": [
    "test_accuracy_dict = {} # 사전형으로 정확도들을 저장\n",
    "reject_accuracy_dict = {}\n",
    "\n",
    "# threshold 정확도 추출 과정 함수화\n",
    "def thr(num):    \n",
    "    test_preds, test_labels = inference_dataloader(net, test_loader, num, target_class_num, class_means, mr_models)\n",
    "    reject_preds, reject_labels = inference_dataloader(net, reject_loader, num, target_class_num, class_means, mr_models, is_reject=True)\n",
    "    \n",
    "    test_accuracy_dict.update({f'{num}' : accuracy_score(test_labels, test_preds)}) # 사전형 저장\n",
    "    reject_accuracy_dict.update({f'{num}' : accuracy_score(reject_labels, reject_preds)})\n",
    "\n",
    "    print('Test Accuracy: ', accuracy_score(test_labels, test_preds))\n",
    "    print('Reject Accuracy: ', accuracy_score(reject_labels, reject_preds))"
   ]
  },
  {
   "cell_type": "code",
   "execution_count": 81,
   "id": "0fd6f1f2",
   "metadata": {},
   "outputs": [
    {
     "name": "stdout",
     "output_type": "stream",
     "text": [
      "Test Accuracy:  0.931\n",
      "Reject Accuracy:  0.576\n",
      "Test Accuracy:  0.916\n",
      "Reject Accuracy:  0.64\n",
      "Test Accuracy:  0.888\n",
      "Reject Accuracy:  0.712\n",
      "Test Accuracy:  0.81\n",
      "Reject Accuracy:  0.746\n"
     ]
    }
   ],
   "source": [
    "th_list = [0.36, 0.37, 0.38, 0.39] # threshold값들 임의 지정 및 for문 활용\n",
    "for i in th_list:\n",
    "    thr(i)"
   ]
  },
  {
   "cell_type": "code",
   "execution_count": 82,
   "id": "5866d182",
   "metadata": {},
   "outputs": [
    {
     "name": "stdout",
     "output_type": "stream",
     "text": [
      "['0.36', '0.37', '0.38', '0.39']\n",
      "[0.931, 0.916, 0.888, 0.81]\n",
      "[0.576, 0.64, 0.712, 0.746]\n"
     ]
    }
   ],
   "source": [
    "# 사전형으로 저장한 값들 list토 변환\n",
    "t_list = list(test_accuracy_dict.keys())\n",
    "test_values_list = list(test_accuracy_dict.values())\n",
    "reject_values_list = list(reject_accuracy_dict.values())\n",
    "\n",
    "print(t_list)\n",
    "print(values_list)\n",
    "print(reject_values_list)"
   ]
  },
  {
   "cell_type": "code",
   "execution_count": 83,
   "id": "976785b3",
   "metadata": {},
   "outputs": [
    {
     "data": {
      "image/png": "[encoded data removed]",
      "text/plain": [
       "<Figure size 720x432 with 1 Axes>"
      ]
     },
     "metadata": {},
     "output_type": "display_data"
    }
   ],
   "source": [
    "# 시각화\n",
    "plt.figure(figsize=(10, 6))\n",
    "\n",
    "sns.lineplot(x=t_list, y=test_values_list, color='blue', label='Test Acc')\n",
    "sns.lineplot(x=t_list, y=reject_values_list, color='orange', label='Reject Acc')\n",
    "\n",
    "plt.xlabel('threshold')\n",
    "plt.ylabel('Accuracy')\n",
    "plt.legend()\n",
    "plt.show()"
   ]
  },
  {
   "cell_type": "markdown",
   "id": "b1df9196",
   "metadata": {},
   "source": [
    "* Test Acc가 0.85이상이고, Reject Acc가 최대치인 부분을 찾으려면 0.38 ~ 0.39 에서 탐색필요"
   ]
  },
  {
   "cell_type": "code",
   "execution_count": 84,
   "id": "0edb91a6",
   "metadata": {},
   "outputs": [
    {
     "name": "stdout",
     "output_type": "stream",
     "text": [
      "Test Accuracy:  0.887\n",
      "Reject Accuracy:  0.719\n",
      "Test Accuracy:  0.883\n",
      "Reject Accuracy:  0.723\n",
      "Test Accuracy:  0.876\n",
      "Reject Accuracy:  0.724\n",
      "Test Accuracy:  0.871\n",
      "Reject Accuracy:  0.727\n",
      "Test Accuracy:  0.865\n",
      "Reject Accuracy:  0.73\n",
      "Test Accuracy:  0.857\n",
      "Reject Accuracy:  0.733\n",
      "Test Accuracy:  0.846\n",
      "Reject Accuracy:  0.735\n",
      "Test Accuracy:  0.834\n",
      "Reject Accuracy:  0.737\n",
      "Test Accuracy:  0.96\n",
      "Reject Accuracy:  0.046\n",
      "Test Accuracy:  0.0\n",
      "Reject Accuracy:  1.0\n",
      "Test Accuracy:  0.81\n",
      "Reject Accuracy:  0.746\n"
     ]
    },
    {
     "data": {
      "image/png": "[encoded data removed]",
      "text/plain": [
       "<Figure size 720x432 with 1 Axes>"
      ]
     },
     "metadata": {},
     "output_type": "display_data"
    }
   ],
   "source": [
    "test_accuracy_dict = {} #사전형 초기화\n",
    "reject_accuracy_dict = {}\n",
    "\n",
    "th_list = [0.381, 0.382, 0.383, 0.384, 0.385, 0.386, 0.387, 0.388, 0,389, 0.390] # 범위의 세분화\n",
    "for i in th_list:\n",
    "        thr(i)\n",
    "\n",
    "t_list = list(test_accuracy_dict.keys())\n",
    "test_values_list = list(test_accuracy_dict.values())\n",
    "reject_values_list = list(reject_accuracy_dict.values())\n",
    "\n",
    "plt.figure(figsize=(10, 6))\n",
    "\n",
    "sns.lineplot(x=t_list, y=test_values_list, color='blue', label='Test Acc')\n",
    "sns.lineplot(x=t_list, y=reject_values_list, color='orange', label='Reject Acc')\n",
    "\n",
    "plt.xlabel('threshold')\n",
    "plt.ylabel('Accuracy')\n",
    "plt.legend()\n",
    "plt.show()"
   ]
  },
  {
   "cell_type": "code",
   "execution_count": 85,
   "id": "8b4a4dac",
   "metadata": {},
   "outputs": [
    {
     "name": "stdout",
     "output_type": "stream",
     "text": [
      "{'0.381': 0.887, '0.382': 0.883, '0.383': 0.876, '0.384': 0.871, '0.385': 0.865, '0.386': 0.857, '0.387': 0.846, '0.388': 0.834, '0': 0.96, '389': 0.0, '0.39': 0.81}\n"
     ]
    }
   ],
   "source": [
    "print(test_accuracy_dict)"
   ]
  },
  {
   "cell_type": "markdown",
   "id": "a3b43b32",
   "metadata": {},
   "source": [
    "* 0.386 ~ 0.387 구간에서 Test Acc가 0.85밑으로 떨어짐 해당 부분에서 다시 탐색\n",
    "* 더이상 시각화를 통해 눈으로 확인하는것이 아닌 최대값을 활용해서 최댓값만 뽑아보기"
   ]
  },
  {
   "cell_type": "code",
   "execution_count": 86,
   "id": "089db169",
   "metadata": {},
   "outputs": [
    {
     "name": "stdout",
     "output_type": "stream",
     "text": [
      "[0.3861, 0.3862, 0.3863, 0.3864, 0.3865, 0.3866, 0.3867, 0.3868, 0.3869]\n"
     ]
    }
   ],
   "source": [
    "# 범위의 세분화 arange활용\n",
    "th_list = []\n",
    "for i in np.arange(0.3861, 0.3869, 0.0001):\n",
    "    th_list.append(round(i, 4))\n",
    "print(th_list)"
   ]
  },
  {
   "cell_type": "code",
   "execution_count": 72,
   "id": "78434513",
   "metadata": {},
   "outputs": [],
   "source": [
    "max_acc = ['0.3', 0, 0]\n",
    "\n",
    "def max_thr(num):\n",
    "    test_preds, test_labels = inference_dataloader(net, test_loader, num, target_class_num, class_means, mr_models)\n",
    "    reject_preds, reject_labels = inference_dataloader(net, reject_loader, num, target_class_num, class_means, mr_models, is_reject=True)\n",
    "    \n",
    "    # Test Acc가 0.85보다 높고 Reject Acc가 기존의 값보다 높을때 max_acc 업데이트\n",
    "    if accuracy_score(test_labels, test_preds) >= 0.85 and accuracy_score(reject_labels, reject_preds) > max_acc[2]:\n",
    "        max_acc.clear()\n",
    "        max_acc.extend([f'{num}', accuracy_score(test_labels, test_preds), accuracy_score(reject_labels, reject_preds)])"
   ]
  },
  {
   "cell_type": "code",
   "execution_count": 73,
   "id": "45580666",
   "metadata": {},
   "outputs": [],
   "source": [
    "for i in th_list:\n",
    "    max_thr(i)"
   ]
  },
  {
   "cell_type": "code",
   "execution_count": 75,
   "id": "701c765c",
   "metadata": {},
   "outputs": [
    {
     "name": "stdout",
     "output_type": "stream",
     "text": [
      "['0.3865', 0.852, 0.734]\n"
     ]
    }
   ],
   "source": [
    "print(max_acc)"
   ]
  },
  {
   "cell_type": "markdown",
   "id": "2cb9f050",
   "metadata": {},
   "source": [
    "* threshold 탐색 과정을 거친후 최적의 값은 '0.3865'\n",
    "* 해당 값의 Testaccuracy는 0.852, Rejectaccuracy는 0.734"
   ]
  },
  {
   "cell_type": "markdown",
   "source": [
    "## 회고\n",
    "##### 작성자 : 김영준\n",
    "\n",
    "---\n",
    "### 평가문항\n",
    "1. 쏘카 데이터를 이용하여 각자 모델을 학습시키고 OpenMax를 적용해 본다.\n",
    " * 쏘카 데이터를 활용하여 OpenMax 적용에 성공했다.\n",
    "2. Test accuracy 0.85 이상이고, reject accuracy가 최대가 되도록 만드는 threshold를 찾는다.\n",
    " * 조건을 만족하는 threshold를 찾았다.\n",
    "3. Threshold 변화에 따른 test accuracy와 reject accuracy의 추이를 비교 분석한다.\n",
    "* Test accuracy와 reject accuracy의 변화를 타당하고 체계적으로 분석하였다.\n",
    "\n",
    "### 총평\n",
    "* OpenMax에서 적용하는 Reject개념이 매우 흥미로웠음\n",
    "* OpenMax를 구성하는 과정에서 사용되는 함수들에 대한 추가적인 공부가 필요함\n",
    "* 현재 이 모델은 하나의 threshold값마다 훈련에 소모되는 시간이 상당히 오래걸림\n",
    "* 해당 시간을 줄이기 위해 개선된 모델을 따로 찾아봐야 할 필요성이 있음\n",
    "* threshold의 최적값을 찾는방법을 주먹구구식으로 해결하였으나 좀더 체계적인 방법이 있을것으로 예상\n",
    "* 이전까지는 함수를 직접 정의하고 사용하는것이 익숙하지 않았으나 스스로 정의하면서 사용해보니 매우 편리함\n",
    "* 임의의 함수 정의를 앞으로 적극 활용하겠음"
   ],
   "metadata": {
    "collapsed": false
   },
   "id": "74a85017a571f313"
  }
 ],
 "metadata": {
  "kernelspec": {
   "display_name": "Python 3 (ipykernel)",
   "language": "python",
   "name": "python3"
  },
  "language_info": {
   "codemirror_mode": {
    "name": "ipython",
    "version": 3
   },
   "file_extension": ".py",
   "mimetype": "text/x-python",
   "name": "python",
   "nbconvert_exporter": "python",
   "pygments_lexer": "ipython3",
   "version": "3.9.7"
  }
 },
 "nbformat": 4,
 "nbformat_minor": 5
}
