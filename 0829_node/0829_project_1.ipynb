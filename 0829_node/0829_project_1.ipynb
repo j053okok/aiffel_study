{
 "cells": [
  {
   "cell_type": "code",
   "execution_count": 1816,
   "metadata": {
    "collapsed": true,
    "ExecuteTime": {
     "end_time": "2023-08-29T04:55:15.421434900Z",
     "start_time": "2023-08-29T04:55:15.415328500Z"
    }
   },
   "outputs": [],
   "source": [
    "import pandas as pd\n",
    "from sklearn.datasets import load_diabetes\n",
    "import numpy as np\n",
    "from sklearn.model_selection import train_test_split\n",
    "import matplotlib.pyplot as plt"
   ]
  },
  {
   "cell_type": "code",
   "execution_count": 1817,
   "outputs": [
    {
     "data": {
      "text/plain": "        age       sex       bmi        bp        s1        s2        s3  \\\n0  0.038076  0.050680  0.061696  0.021872 -0.044223 -0.034821 -0.043401   \n1 -0.001882 -0.044642 -0.051474 -0.026328 -0.008449 -0.019163  0.074412   \n2  0.085299  0.050680  0.044451 -0.005670 -0.045599 -0.034194 -0.032356   \n\n         s4        s5        s6  target  \n0 -0.002592  0.019907 -0.017646   151.0  \n1 -0.039493 -0.068332 -0.092204    75.0  \n2 -0.002592  0.002861 -0.025930   141.0  ",
      "text/html": "<div>\n<style scoped>\n    .dataframe tbody tr th:only-of-type {\n        vertical-align: middle;\n    }\n\n    .dataframe tbody tr th {\n        vertical-align: top;\n    }\n\n    .dataframe thead th {\n        text-align: right;\n    }\n</style>\n<table border=\"1\" class=\"dataframe\">\n  <thead>\n    <tr style=\"text-align: right;\">\n      <th></th>\n      <th>age</th>\n      <th>sex</th>\n      <th>bmi</th>\n      <th>bp</th>\n      <th>s1</th>\n      <th>s2</th>\n      <th>s3</th>\n      <th>s4</th>\n      <th>s5</th>\n      <th>s6</th>\n      <th>target</th>\n    </tr>\n  </thead>\n  <tbody>\n    <tr>\n      <th>0</th>\n      <td>0.038076</td>\n      <td>0.050680</td>\n      <td>0.061696</td>\n      <td>0.021872</td>\n      <td>-0.044223</td>\n      <td>-0.034821</td>\n      <td>-0.043401</td>\n      <td>-0.002592</td>\n      <td>0.019907</td>\n      <td>-0.017646</td>\n      <td>151.0</td>\n    </tr>\n    <tr>\n      <th>1</th>\n      <td>-0.001882</td>\n      <td>-0.044642</td>\n      <td>-0.051474</td>\n      <td>-0.026328</td>\n      <td>-0.008449</td>\n      <td>-0.019163</td>\n      <td>0.074412</td>\n      <td>-0.039493</td>\n      <td>-0.068332</td>\n      <td>-0.092204</td>\n      <td>75.0</td>\n    </tr>\n    <tr>\n      <th>2</th>\n      <td>0.085299</td>\n      <td>0.050680</td>\n      <td>0.044451</td>\n      <td>-0.005670</td>\n      <td>-0.045599</td>\n      <td>-0.034194</td>\n      <td>-0.032356</td>\n      <td>-0.002592</td>\n      <td>0.002861</td>\n      <td>-0.025930</td>\n      <td>141.0</td>\n    </tr>\n  </tbody>\n</table>\n</div>"
     },
     "execution_count": 1817,
     "metadata": {},
     "output_type": "execute_result"
    }
   ],
   "source": [
    "diabetes = load_diabetes()\n",
    "df = pd.DataFrame(data=diabetes.data, columns=diabetes.feature_names)\n",
    "df[\"target\"] = diabetes.target\n",
    "df.head(3)"
   ],
   "metadata": {
    "collapsed": false,
    "ExecuteTime": {
     "end_time": "2023-08-29T04:55:15.424440900Z",
     "start_time": "2023-08-29T04:55:15.421434900Z"
    }
   }
  },
  {
   "cell_type": "code",
   "execution_count": 1818,
   "outputs": [
    {
     "data": {
      "text/plain": "11"
     },
     "execution_count": 1818,
     "metadata": {},
     "output_type": "execute_result"
    }
   ],
   "source": [
    "col = df.columns.tolist()\n",
    "len(col)"
   ],
   "metadata": {
    "collapsed": false,
    "ExecuteTime": {
     "end_time": "2023-08-29T04:55:15.511927800Z",
     "start_time": "2023-08-29T04:55:15.428110200Z"
    }
   }
  },
  {
   "cell_type": "code",
   "execution_count": 1819,
   "outputs": [
    {
     "data": {
      "text/plain": "        age       sex       bmi        bp        s1        s2        s3  \\\n0  0.038076  0.050680  0.061696  0.021872 -0.044223 -0.034821 -0.043401   \n1 -0.001882 -0.044642 -0.051474 -0.026328 -0.008449 -0.019163  0.074412   \n2  0.085299  0.050680  0.044451 -0.005670 -0.045599 -0.034194 -0.032356   \n\n         s4        s5        s6  \n0 -0.002592  0.019907 -0.017646  \n1 -0.039493 -0.068332 -0.092204  \n2 -0.002592  0.002861 -0.025930  ",
      "text/html": "<div>\n<style scoped>\n    .dataframe tbody tr th:only-of-type {\n        vertical-align: middle;\n    }\n\n    .dataframe tbody tr th {\n        vertical-align: top;\n    }\n\n    .dataframe thead th {\n        text-align: right;\n    }\n</style>\n<table border=\"1\" class=\"dataframe\">\n  <thead>\n    <tr style=\"text-align: right;\">\n      <th></th>\n      <th>age</th>\n      <th>sex</th>\n      <th>bmi</th>\n      <th>bp</th>\n      <th>s1</th>\n      <th>s2</th>\n      <th>s3</th>\n      <th>s4</th>\n      <th>s5</th>\n      <th>s6</th>\n    </tr>\n  </thead>\n  <tbody>\n    <tr>\n      <th>0</th>\n      <td>0.038076</td>\n      <td>0.050680</td>\n      <td>0.061696</td>\n      <td>0.021872</td>\n      <td>-0.044223</td>\n      <td>-0.034821</td>\n      <td>-0.043401</td>\n      <td>-0.002592</td>\n      <td>0.019907</td>\n      <td>-0.017646</td>\n    </tr>\n    <tr>\n      <th>1</th>\n      <td>-0.001882</td>\n      <td>-0.044642</td>\n      <td>-0.051474</td>\n      <td>-0.026328</td>\n      <td>-0.008449</td>\n      <td>-0.019163</td>\n      <td>0.074412</td>\n      <td>-0.039493</td>\n      <td>-0.068332</td>\n      <td>-0.092204</td>\n    </tr>\n    <tr>\n      <th>2</th>\n      <td>0.085299</td>\n      <td>0.050680</td>\n      <td>0.044451</td>\n      <td>-0.005670</td>\n      <td>-0.045599</td>\n      <td>-0.034194</td>\n      <td>-0.032356</td>\n      <td>-0.002592</td>\n      <td>0.002861</td>\n      <td>-0.025930</td>\n    </tr>\n  </tbody>\n</table>\n</div>"
     },
     "execution_count": 1819,
     "metadata": {},
     "output_type": "execute_result"
    }
   ],
   "source": [
    "df_x = df[col[0:10]]\n",
    "df_x.head(3)"
   ],
   "metadata": {
    "collapsed": false,
    "ExecuteTime": {
     "end_time": "2023-08-29T04:55:15.561338500Z",
     "start_time": "2023-08-29T04:55:15.434402400Z"
    }
   }
  },
  {
   "cell_type": "code",
   "execution_count": 1820,
   "outputs": [
    {
     "data": {
      "text/plain": "0    151.0\n1     75.0\n2    141.0\n3    206.0\n4    135.0\n5     97.0\nName: target, dtype: float64"
     },
     "execution_count": 1820,
     "metadata": {},
     "output_type": "execute_result"
    }
   ],
   "source": [
    "df_y = df[\"target\"]\n",
    "df_y.head(6)"
   ],
   "metadata": {
    "collapsed": false,
    "ExecuteTime": {
     "end_time": "2023-08-29T04:55:15.561338500Z",
     "start_time": "2023-08-29T04:55:15.447224100Z"
    }
   }
  },
  {
   "cell_type": "code",
   "execution_count": 1821,
   "outputs": [
    {
     "data": {
      "text/plain": "array([[ 0.03807591,  0.05068012,  0.06169621, ..., -0.00259226,\n         0.01990749, -0.01764613],\n       [-0.00188202, -0.04464164, -0.05147406, ..., -0.03949338,\n        -0.06833155, -0.09220405],\n       [ 0.08529891,  0.05068012,  0.04445121, ..., -0.00259226,\n         0.00286131, -0.02593034],\n       ...,\n       [ 0.04170844,  0.05068012, -0.01590626, ..., -0.01107952,\n        -0.04688253,  0.01549073],\n       [-0.04547248, -0.04464164,  0.03906215, ...,  0.02655962,\n         0.04452873, -0.02593034],\n       [-0.04547248, -0.04464164, -0.0730303 , ..., -0.03949338,\n        -0.00422151,  0.00306441]])"
     },
     "execution_count": 1821,
     "metadata": {},
     "output_type": "execute_result"
    }
   ],
   "source": [
    "df_x, df_y = df_x.values, df_y.values\n",
    "df_x"
   ],
   "metadata": {
    "collapsed": false,
    "ExecuteTime": {
     "end_time": "2023-08-29T04:55:15.561338500Z",
     "start_time": "2023-08-29T04:55:15.457799400Z"
    }
   }
  },
  {
   "cell_type": "code",
   "execution_count": 1822,
   "outputs": [
    {
     "data": {
      "text/plain": "array([151.,  75., 141., 206., 135.,  97., 138.,  63., 110., 310., 101.,\n        69., 179., 185., 118., 171., 166., 144.,  97., 168.,  68.,  49.,\n        68., 245., 184., 202., 137.,  85., 131., 283., 129.,  59., 341.,\n        87.,  65., 102., 265., 276., 252.,  90., 100.,  55.,  61.,  92.,\n       259.,  53., 190., 142.,  75., 142., 155., 225.,  59., 104., 182.,\n       128.,  52.,  37., 170., 170.,  61., 144.,  52., 128.,  71., 163.,\n       150.,  97., 160., 178.,  48., 270., 202., 111.,  85.,  42., 170.,\n       200., 252., 113., 143.,  51.,  52., 210.,  65., 141.,  55., 134.,\n        42., 111.,  98., 164.,  48.,  96.,  90., 162., 150., 279.,  92.,\n        83., 128., 102., 302., 198.,  95.,  53., 134., 144., 232.,  81.,\n       104.,  59., 246., 297., 258., 229., 275., 281., 179., 200., 200.,\n       173., 180.,  84., 121., 161.,  99., 109., 115., 268., 274., 158.,\n       107.,  83., 103., 272.,  85., 280., 336., 281., 118., 317., 235.,\n        60., 174., 259., 178., 128.,  96., 126., 288.,  88., 292.,  71.,\n       197., 186.,  25.,  84.,  96., 195.,  53., 217., 172., 131., 214.,\n        59.,  70., 220., 268., 152.,  47.,  74., 295., 101., 151., 127.,\n       237., 225.,  81., 151., 107.,  64., 138., 185., 265., 101., 137.,\n       143., 141.,  79., 292., 178.,  91., 116.,  86., 122.,  72., 129.,\n       142.,  90., 158.,  39., 196., 222., 277.,  99., 196., 202., 155.,\n        77., 191.,  70.,  73.,  49.,  65., 263., 248., 296., 214., 185.,\n        78.,  93., 252., 150.,  77., 208.,  77., 108., 160.,  53., 220.,\n       154., 259.,  90., 246., 124.,  67.,  72., 257., 262., 275., 177.,\n        71.,  47., 187., 125.,  78.,  51., 258., 215., 303., 243.,  91.,\n       150., 310., 153., 346.,  63.,  89.,  50.,  39., 103., 308., 116.,\n       145.,  74.,  45., 115., 264.,  87., 202., 127., 182., 241.,  66.,\n        94., 283.,  64., 102., 200., 265.,  94., 230., 181., 156., 233.,\n        60., 219.,  80.,  68., 332., 248.,  84., 200.,  55.,  85.,  89.,\n        31., 129.,  83., 275.,  65., 198., 236., 253., 124.,  44., 172.,\n       114., 142., 109., 180., 144., 163., 147.,  97., 220., 190., 109.,\n       191., 122., 230., 242., 248., 249., 192., 131., 237.,  78., 135.,\n       244., 199., 270., 164.,  72.,  96., 306.,  91., 214.,  95., 216.,\n       263., 178., 113., 200., 139., 139.,  88., 148.,  88., 243.,  71.,\n        77., 109., 272.,  60.,  54., 221.,  90., 311., 281., 182., 321.,\n        58., 262., 206., 233., 242., 123., 167.,  63., 197.,  71., 168.,\n       140., 217., 121., 235., 245.,  40.,  52., 104., 132.,  88.,  69.,\n       219.,  72., 201., 110.,  51., 277.,  63., 118.,  69., 273., 258.,\n        43., 198., 242., 232., 175.,  93., 168., 275., 293., 281.,  72.,\n       140., 189., 181., 209., 136., 261., 113., 131., 174., 257.,  55.,\n        84.,  42., 146., 212., 233.,  91., 111., 152., 120.,  67., 310.,\n        94., 183.,  66., 173.,  72.,  49.,  64.,  48., 178., 104., 132.,\n       220.,  57.])"
     },
     "execution_count": 1822,
     "metadata": {},
     "output_type": "execute_result"
    }
   ],
   "source": [
    "df_y"
   ],
   "metadata": {
    "collapsed": false,
    "ExecuteTime": {
     "end_time": "2023-08-29T04:55:15.571449300Z",
     "start_time": "2023-08-29T04:55:15.468154900Z"
    }
   }
  },
  {
   "cell_type": "code",
   "execution_count": 1823,
   "outputs": [],
   "source": [
    "train_input, test_input, train_target, test_target = train_test_split(df_x, df_y, test_size=0.2)"
   ],
   "metadata": {
    "collapsed": false,
    "ExecuteTime": {
     "end_time": "2023-08-29T04:55:15.571449300Z",
     "start_time": "2023-08-29T04:55:15.475860100Z"
    }
   }
  },
  {
   "cell_type": "code",
   "execution_count": 1824,
   "outputs": [],
   "source": [
    "np.random.seed(21)\n",
    "W = np.random.rand(10)\n",
    "b = np.random.rand()"
   ],
   "metadata": {
    "collapsed": false,
    "ExecuteTime": {
     "end_time": "2023-08-29T04:55:15.571449300Z",
     "start_time": "2023-08-29T04:55:15.484920800Z"
    }
   }
  },
  {
   "cell_type": "code",
   "execution_count": 1825,
   "outputs": [
    {
     "name": "stdout",
     "output_type": "stream",
     "text": [
      "[0.04872488 0.28910966 0.72096635 0.02161625 0.20592277 0.05077326\n",
      " 0.30227189 0.66391029 0.30811439 0.58359128] 0.06957095461260054\n"
     ]
    }
   ],
   "source": [
    "print(W, b)"
   ],
   "metadata": {
    "collapsed": false,
    "ExecuteTime": {
     "end_time": "2023-08-29T04:55:15.571449300Z",
     "start_time": "2023-08-29T04:55:15.491232300Z"
    }
   }
  },
  {
   "cell_type": "code",
   "execution_count": 1826,
   "outputs": [],
   "source": [
    "def model(X, W, b):\n",
    "    predictions = 0\n",
    "    for i in range(10):\n",
    "        predictions += X[:, i] * W[i]\n",
    "    predictions += b\n",
    "    return predictions"
   ],
   "metadata": {
    "collapsed": false,
    "ExecuteTime": {
     "end_time": "2023-08-29T04:55:15.571449300Z",
     "start_time": "2023-08-29T04:55:15.497099400Z"
    }
   }
  },
  {
   "cell_type": "code",
   "execution_count": 1827,
   "outputs": [],
   "source": [
    "def MSE(a, b):\n",
    "    mse = ((a - b) ** 2).mean()\n",
    "    return mse"
   ],
   "metadata": {
    "collapsed": false,
    "ExecuteTime": {
     "end_time": "2023-08-29T04:55:15.571449300Z",
     "start_time": "2023-08-29T04:55:15.499732600Z"
    }
   }
  },
  {
   "cell_type": "code",
   "execution_count": 1828,
   "outputs": [],
   "source": [
    "def loss(X, W, b, y):\n",
    "    predictions = model(X, W, b)\n",
    "    L = MSE(predictions, y)\n",
    "    return L"
   ],
   "metadata": {
    "collapsed": false,
    "ExecuteTime": {
     "end_time": "2023-08-29T04:55:15.571449300Z",
     "start_time": "2023-08-29T04:55:15.503257700Z"
    }
   }
  },
  {
   "cell_type": "code",
   "execution_count": 1829,
   "outputs": [],
   "source": [
    "def gradient(X, W, b, y):\n",
    "    N = len(y)\n",
    "    y_pred = model(X, W, b)\n",
    "    dW = 1/N * 2 * X.T.dot(y_pred - y)\n",
    "    db = 2 * (y_pred - y).mean()\n",
    "    return dW, db"
   ],
   "metadata": {
    "collapsed": false,
    "ExecuteTime": {
     "end_time": "2023-08-29T04:55:15.571449300Z",
     "start_time": "2023-08-29T04:55:15.514481700Z"
    }
   }
  },
  {
   "cell_type": "code",
   "execution_count": 1830,
   "outputs": [
    {
     "name": "stdout",
     "output_type": "stream",
     "text": [
      "Iteration 1000 : Loss 3422.299\n",
      "Iteration 2000 : Loss 3098.544\n",
      "Iteration 3000 : Loss 2990.836\n",
      "Iteration 4000 : Loss 2947.245\n",
      "Iteration 5000 : Loss 2928.429\n"
     ]
    }
   ],
   "source": [
    "LEARNING_RATE = 0.1\n",
    "losses = []\n",
    "\n",
    "for i in range(1, 5001):\n",
    "    dW, db = gradient(train_input, W, b, train_target)\n",
    "    W -= LEARNING_RATE * dW\n",
    "    b -= LEARNING_RATE * db\n",
    "    L = loss(train_input, W, b, train_target)\n",
    "    losses.append(L)\n",
    "    if i % 1000 == 0:\n",
    "        print('Iteration %d : Loss %0.3f' % (i, L))"
   ],
   "metadata": {
    "collapsed": false,
    "ExecuteTime": {
     "end_time": "2023-08-29T04:55:15.878430300Z",
     "start_time": "2023-08-29T04:55:15.520434700Z"
    }
   }
  },
  {
   "cell_type": "code",
   "execution_count": 1831,
   "outputs": [
    {
     "data": {
      "text/plain": "<Figure size 640x480 with 1 Axes>",
      "image/png": "[encoded data removed]"
     },
     "metadata": {},
     "output_type": "display_data"
    }
   ],
   "source": [
    "plt.plot(losses)\n",
    "plt.show()"
   ],
   "metadata": {
    "collapsed": false,
    "ExecuteTime": {
     "end_time": "2023-08-29T04:55:15.960761Z",
     "start_time": "2023-08-29T04:55:15.860230100Z"
    }
   }
  },
  {
   "cell_type": "code",
   "execution_count": 1832,
   "outputs": [
    {
     "name": "stdout",
     "output_type": "stream",
     "text": [
      "MSE점수 : 2822.9257346604813\n"
     ]
    }
   ],
   "source": [
    "prediction = model(test_input, W, b)\n",
    "mse = loss(test_input, W, b, test_target)\n",
    "print(f\"MSE점수 : {mse}\")"
   ],
   "metadata": {
    "collapsed": false,
    "ExecuteTime": {
     "end_time": "2023-08-29T04:55:15.965032300Z",
     "start_time": "2023-08-29T04:55:15.960761Z"
    }
   }
  },
  {
   "cell_type": "code",
   "execution_count": 1833,
   "outputs": [
    {
     "data": {
      "text/plain": "<Figure size 640x480 with 1 Axes>",
      "image/png": "[encoded data removed]"
     },
     "metadata": {},
     "output_type": "display_data"
    }
   ],
   "source": [
    "plt.scatter(test_input[:, 0], test_target, label=\"true\", color = \"red\")\n",
    "plt.scatter(test_input[:, 0], prediction, label=\"pred\")\n",
    "plt.legend()\n",
    "plt.show()"
   ],
   "metadata": {
    "collapsed": false,
    "ExecuteTime": {
     "end_time": "2023-08-29T04:55:16.276264900Z",
     "start_time": "2023-08-29T04:55:15.965032300Z"
    }
   }
  },
  {
   "cell_type": "code",
   "execution_count": 1833,
   "outputs": [],
   "source": [],
   "metadata": {
    "collapsed": false,
    "ExecuteTime": {
     "end_time": "2023-08-29T04:55:16.279257200Z",
     "start_time": "2023-08-29T04:55:16.095873Z"
    }
   }
  }
 ],
 "metadata": {
  "kernelspec": {
   "display_name": "Python 3",
   "language": "python",
   "name": "python3"
  },
  "language_info": {
   "codemirror_mode": {
    "name": "ipython",
    "version": 2
   },
   "file_extension": ".py",
   "mimetype": "text/x-python",
   "name": "python",
   "nbconvert_exporter": "python",
   "pygments_lexer": "ipython2",
   "version": "2.7.6"
  }
 },
 "nbformat": 4,
 "nbformat_minor": 0
}
