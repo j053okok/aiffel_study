{
 "cells": [
  {
   "cell_type": "code",
   "execution_count": 1,
   "id": "initial_id",
   "metadata": {
    "collapsed": true,
    "ExecuteTime": {
     "end_time": "2023-10-30T20:12:57.037604700Z",
     "start_time": "2023-10-30T20:12:55.020435Z"
    }
   },
   "outputs": [],
   "source": [
    "import torch\n",
    "from torch import nn\n",
    "from torch.utils.data import DataLoader\n",
    "from torchvision import datasets\n",
    "from torchvision.transforms import ToTensor\n",
    "\n",
    "training_data = datasets.FashionMNIST(\n",
    "    root=\"data\",\n",
    "    train=True,\n",
    "    download=True,\n",
    "    transform=ToTensor()\n",
    ")\n",
    "\n",
    "test_data = datasets.FashionMNIST(\n",
    "    root=\"data\",\n",
    "    train=False,\n",
    "    download=True,\n",
    "    transform=ToTensor()\n",
    ")\n",
    "\n",
    "train_dataloader = DataLoader(training_data, batch_size=64)\n",
    "test_dataloader = DataLoader(test_data, batch_size=64)\n",
    "\n",
    "class NeuralNetwork(nn.Module):\n",
    "    def __init__(self):\n",
    "        super().__init__()\n",
    "        self.flatten = nn.Flatten()\n",
    "        self.linear_relu_stack = nn.Sequential(\n",
    "            nn.Linear(28*28, 512),\n",
    "            nn.ReLU(),\n",
    "            nn.Linear(512, 512),\n",
    "            nn.ReLU(),\n",
    "            nn.Linear(512, 10),\n",
    "        )\n",
    "\n",
    "    def forward(self, x):\n",
    "        x = self.flatten(x)\n",
    "        logits = self.linear_relu_stack(x)\n",
    "        return logits\n",
    "\n",
    "model = NeuralNetwork()"
   ]
  },
  {
   "cell_type": "markdown",
   "source": [
    "### 하이퍼파라미터\n",
    "* 하이퍼파라미터는 모델 최적화 프로세스를 제어할 수 있는 조정 가능한 파라미터입니다.\n",
    "- 에포크 수 : 데이터셋을 반복할 횟수입니다.\n",
    "- 배치 크기 : 파라미터가 업데이트되기 전에 네트워크를 통해 전달되는 데이터 샘플의 수입니다.\n",
    "- 학습율 : 각 배치/에포크에서 모델 파라미터를 업데이트할 양입니다. 값이 작을수록 학습 속도가 느려지고, 값이 클수록 학습 중에 예측할 수 없는 동작이 발생할 수 있습니다."
   ],
   "metadata": {
    "collapsed": false
   },
   "id": "1933d5b9d382a6f2"
  },
  {
   "cell_type": "code",
   "execution_count": 2,
   "outputs": [],
   "source": [
    "learning_rate = 1e-3\n",
    "batch_size = 64\n",
    "epochs = 5"
   ],
   "metadata": {
    "collapsed": false,
    "ExecuteTime": {
     "end_time": "2023-10-30T20:13:43.377180400Z",
     "start_time": "2023-10-30T20:13:43.360351900Z"
    }
   },
   "id": "eddab9adc4957721"
  },
  {
   "cell_type": "markdown",
   "source": [
    "### 최적화(Optimization) 루프\n",
    "* 최적화 루프의 각 반복을 에포크라고 합니다.\n",
    "- 학습 루프 : 학습 데이터셋을 반복하여 최적의 파라미터로 수렴을 시도합니다.\n",
    "- 검증/테스트 루프 : 테스트 데이터셋을 반복하여 모델 성능이 개선되고 있는지 확인합니다."
   ],
   "metadata": {
    "collapsed": false
   },
   "id": "efe5f28d94267371"
  },
  {
   "cell_type": "markdown",
   "source": [
    "### 손실 함수\n",
    "* 손실 함수는 얻은 결과와 목표 값의 차이 정도인 오차를 측정하는 것\n",
    "* 학습 과정에서 최소화하고자 하는 것이 바로 손실 함수\n",
    "* 오차를 계산하기 위해 주어진 데이터 샘플의 입력을 사용하여 예측을 하고 이를 실제 데이터 레이블 값과 비교"
   ],
   "metadata": {
    "collapsed": false
   },
   "id": "d42ae16b2c567872"
  },
  {
   "cell_type": "code",
   "execution_count": 3,
   "outputs": [],
   "source": [
    "loss_fn = nn.CrossEntropyLoss()"
   ],
   "metadata": {
    "collapsed": false,
    "ExecuteTime": {
     "end_time": "2023-10-30T20:14:56.023292500Z",
     "start_time": "2023-10-30T20:14:56.008114600Z"
    }
   },
   "id": "c41f2e2f568623be"
  },
  {
   "cell_type": "markdown",
   "source": [
    "### Optimizer\n",
    "* 최적화는 각 학습 단계에서 모델 오류를 줄이기 위해 모델 파라미터를 조정하는 프로세스\n",
    "* 최적화 알고리즘은 이 프로세스가 수행되는 방식을 정의"
   ],
   "metadata": {
    "collapsed": false
   },
   "id": "f58dbc067934d25a"
  },
  {
   "cell_type": "code",
   "execution_count": 4,
   "outputs": [],
   "source": [
    "optimizer = torch.optim.SGD(model.parameters(), lr=learning_rate)"
   ],
   "metadata": {
    "collapsed": false,
    "ExecuteTime": {
     "end_time": "2023-10-30T20:15:25.519214100Z",
     "start_time": "2023-10-30T20:15:25.503206400Z"
    }
   },
   "id": "882c2aae3b801367"
  },
  {
   "cell_type": "markdown",
   "source": [
    "### 전체 구현\n",
    "* 최적화 코드를 반복하는 train_loop와 테스트 데이터에 대해 모델의 성능을 평가하는 test_loop를 정의"
   ],
   "metadata": {
    "collapsed": false
   },
   "id": "d2d42b781c8b6c1"
  },
  {
   "cell_type": "code",
   "execution_count": 5,
   "outputs": [],
   "source": [
    "def train_loop(dataloader, model, loss_fn, optimizer):\n",
    "    size = len(dataloader.dataset)\n",
    "    # 모델을 학습 모드로 설정 - 일괄 정규화 및 드롭아웃 레이어에 중요함\n",
    "    # 이 상황에서는 불필요하지만 모범 사례를 위해 추가되었습니다.\n",
    "    model.train()\n",
    "    for batch, (X, y) in enumerate(dataloader):\n",
    "        # 예측 및 손실 계산\n",
    "        pred = model(X)\n",
    "        loss = loss_fn(pred, y)\n",
    "\n",
    "        # 역전파\n",
    "        loss.backward()\n",
    "        optimizer.step()\n",
    "        optimizer.zero_grad()\n",
    "\n",
    "        if batch % 100 == 0:\n",
    "            loss, current = loss.item(), (batch + 1) * len(X)\n",
    "            print(f\"loss: {loss:>7f}  [{current:>5d}/{size:>5d}]\")\n",
    "\n",
    "\n",
    "def test_loop(dataloader, model, loss_fn):\n",
    "    # 모델을 평가 모드로 설정 - 배치 정규화 및 드롭아웃 레이어에 중요합니다.\n",
    "    # 이 상황에서는 불필요하지만 모범 사례를 위해 추가되었습니다.\n",
    "    model.eval()\n",
    "    size = len(dataloader.dataset)\n",
    "    num_batches = len(dataloader)\n",
    "    test_loss, correct = 0, 0\n",
    "\n",
    "    # torch.no_grad()로 모델을 평가하면 테스트 모드에서 그라데이션이 계산되지 않습니다.\n",
    "    # 또한 requires_grad = True인 텐서에서 불필요한 그라데이션 계산과 메모리 사용량을 줄이는 역할도 합니다.\n",
    "    with torch.no_grad():\n",
    "        for X, y in dataloader:\n",
    "            pred = model(X)\n",
    "            test_loss += loss_fn(pred, y).item()\n",
    "            correct += (pred.argmax(1) == y).type(torch.float).sum().item()\n",
    "\n",
    "    test_loss /= num_batches\n",
    "    correct /= size\n",
    "    print(f\"Test Error: \\n Accuracy: {(100*correct):>0.1f}%, Avg loss: {test_loss:>8f} \\n\")"
   ],
   "metadata": {
    "collapsed": false,
    "ExecuteTime": {
     "end_time": "2023-10-30T20:15:57.070520700Z",
     "start_time": "2023-10-30T20:15:57.049695Z"
    }
   },
   "id": "d9685378f6161f08"
  },
  {
   "cell_type": "code",
   "execution_count": 6,
   "outputs": [
    {
     "name": "stdout",
     "output_type": "stream",
     "text": [
      "Epoch 1\n",
      "-------------------------------\n",
      "loss: 2.294755  [   64/60000]\n",
      "loss: 2.289910  [ 6464/60000]\n",
      "loss: 2.277708  [12864/60000]\n",
      "loss: 2.271257  [19264/60000]\n",
      "loss: 2.257020  [25664/60000]\n",
      "loss: 2.217723  [32064/60000]\n",
      "loss: 2.230270  [38464/60000]\n",
      "loss: 2.194645  [44864/60000]\n",
      "loss: 2.192195  [51264/60000]\n",
      "loss: 2.161500  [57664/60000]\n",
      "Test Error: \n",
      " Accuracy: 47.6%, Avg loss: 2.159667 \n",
      "\n",
      "Epoch 2\n",
      "-------------------------------\n",
      "loss: 2.169229  [   64/60000]\n",
      "loss: 2.158765  [ 6464/60000]\n",
      "loss: 2.110713  [12864/60000]\n",
      "loss: 2.116802  [19264/60000]\n",
      "loss: 2.072376  [25664/60000]\n",
      "loss: 2.011608  [32064/60000]\n",
      "loss: 2.037680  [38464/60000]\n",
      "loss: 1.966541  [44864/60000]\n",
      "loss: 1.964715  [51264/60000]\n",
      "loss: 1.892347  [57664/60000]\n",
      "Test Error: \n",
      " Accuracy: 58.5%, Avg loss: 1.895185 \n",
      "\n",
      "Epoch 3\n",
      "-------------------------------\n",
      "loss: 1.937343  [   64/60000]\n",
      "loss: 1.899254  [ 6464/60000]\n",
      "loss: 1.795655  [12864/60000]\n",
      "loss: 1.813076  [19264/60000]\n",
      "loss: 1.709141  [25664/60000]\n",
      "loss: 1.667702  [32064/60000]\n",
      "loss: 1.682974  [38464/60000]\n",
      "loss: 1.597979  [44864/60000]\n",
      "loss: 1.611677  [51264/60000]\n",
      "loss: 1.498394  [57664/60000]\n",
      "Test Error: \n",
      " Accuracy: 60.3%, Avg loss: 1.526169 \n",
      "\n",
      "Epoch 4\n",
      "-------------------------------\n",
      "loss: 1.606864  [   64/60000]\n",
      "loss: 1.557795  [ 6464/60000]\n",
      "loss: 1.424046  [12864/60000]\n",
      "loss: 1.468703  [19264/60000]\n",
      "loss: 1.351248  [25664/60000]\n",
      "loss: 1.353763  [32064/60000]\n",
      "loss: 1.362433  [38464/60000]\n",
      "loss: 1.303718  [44864/60000]\n",
      "loss: 1.329913  [51264/60000]\n",
      "loss: 1.214856  [57664/60000]\n",
      "Test Error: \n",
      " Accuracy: 63.1%, Avg loss: 1.256460 \n",
      "\n",
      "Epoch 5\n",
      "-------------------------------\n",
      "loss: 1.347121  [   64/60000]\n",
      "loss: 1.313540  [ 6464/60000]\n",
      "loss: 1.164185  [12864/60000]\n",
      "loss: 1.244812  [19264/60000]\n",
      "loss: 1.120332  [25664/60000]\n",
      "loss: 1.148646  [32064/60000]\n",
      "loss: 1.166814  [38464/60000]\n",
      "loss: 1.121923  [44864/60000]\n",
      "loss: 1.154513  [51264/60000]\n",
      "loss: 1.052268  [57664/60000]\n",
      "Test Error: \n",
      " Accuracy: 64.9%, Avg loss: 1.089620 \n",
      "\n",
      "Epoch 6\n",
      "-------------------------------\n",
      "loss: 1.172765  [   64/60000]\n",
      "loss: 1.158837  [ 6464/60000]\n",
      "loss: 0.992014  [12864/60000]\n",
      "loss: 1.107104  [19264/60000]\n",
      "loss: 0.979211  [25664/60000]\n",
      "loss: 1.011919  [32064/60000]\n",
      "loss: 1.047675  [38464/60000]\n",
      "loss: 1.007221  [44864/60000]\n",
      "loss: 1.039901  [51264/60000]\n",
      "loss: 0.952489  [57664/60000]\n",
      "Test Error: \n",
      " Accuracy: 66.2%, Avg loss: 0.982624 \n",
      "\n",
      "Epoch 7\n",
      "-------------------------------\n",
      "loss: 1.050604  [   64/60000]\n",
      "loss: 1.057887  [ 6464/60000]\n",
      "loss: 0.873430  [12864/60000]\n",
      "loss: 1.016360  [19264/60000]\n",
      "loss: 0.890778  [25664/60000]\n",
      "loss: 0.915914  [32064/60000]\n",
      "loss: 0.970832  [38464/60000]\n",
      "loss: 0.932829  [44864/60000]\n",
      "loss: 0.960827  [51264/60000]\n",
      "loss: 0.885984  [57664/60000]\n",
      "Test Error: \n",
      " Accuracy: 67.0%, Avg loss: 0.909903 \n",
      "\n",
      "Epoch 8\n",
      "-------------------------------\n",
      "loss: 0.960522  [   64/60000]\n",
      "loss: 0.987728  [ 6464/60000]\n",
      "loss: 0.788768  [12864/60000]\n",
      "loss: 0.952522  [19264/60000]\n",
      "loss: 0.831755  [25664/60000]\n",
      "loss: 0.845711  [32064/60000]\n",
      "loss: 0.916962  [38464/60000]\n",
      "loss: 0.883004  [44864/60000]\n",
      "loss: 0.903670  [51264/60000]\n",
      "loss: 0.838019  [57664/60000]\n",
      "Test Error: \n",
      " Accuracy: 68.2%, Avg loss: 0.857491 \n",
      "\n",
      "Epoch 9\n",
      "-------------------------------\n",
      "loss: 0.891114  [   64/60000]\n",
      "loss: 0.935283  [ 6464/60000]\n",
      "loss: 0.725960  [12864/60000]\n",
      "loss: 0.905038  [19264/60000]\n",
      "loss: 0.789570  [25664/60000]\n",
      "loss: 0.793204  [32064/60000]\n",
      "loss: 0.875902  [38464/60000]\n",
      "loss: 0.848102  [44864/60000]\n",
      "loss: 0.860748  [51264/60000]\n",
      "loss: 0.801263  [57664/60000]\n",
      "Test Error: \n",
      " Accuracy: 69.5%, Avg loss: 0.817679 \n",
      "\n",
      "Epoch 10\n",
      "-------------------------------\n",
      "loss: 0.835548  [   64/60000]\n",
      "loss: 0.893582  [ 6464/60000]\n",
      "loss: 0.677599  [12864/60000]\n",
      "loss: 0.868289  [19264/60000]\n",
      "loss: 0.757390  [25664/60000]\n",
      "loss: 0.753100  [32064/60000]\n",
      "loss: 0.842392  [38464/60000]\n",
      "loss: 0.822113  [44864/60000]\n",
      "loss: 0.827243  [51264/60000]\n",
      "loss: 0.771552  [57664/60000]\n",
      "Test Error: \n",
      " Accuracy: 71.1%, Avg loss: 0.785903 \n",
      "\n",
      "Done!\n"
     ]
    }
   ],
   "source": [
    "loss_fn = nn.CrossEntropyLoss()\n",
    "optimizer = torch.optim.SGD(model.parameters(), lr=learning_rate)\n",
    "\n",
    "epochs = 10\n",
    "for t in range(epochs):\n",
    "    print(f\"Epoch {t+1}\\n-------------------------------\")\n",
    "    train_loop(train_dataloader, model, loss_fn, optimizer)\n",
    "    test_loop(test_dataloader, model, loss_fn)\n",
    "print(\"Done!\")"
   ],
   "metadata": {
    "collapsed": false,
    "ExecuteTime": {
     "end_time": "2023-10-30T20:17:20.235132200Z",
     "start_time": "2023-10-30T20:16:01.815118100Z"
    }
   },
   "id": "403aa049afab5959"
  },
  {
   "cell_type": "code",
   "execution_count": null,
   "outputs": [],
   "source": [],
   "metadata": {
    "collapsed": false
   },
   "id": "4269cfccb5123eb7"
  }
 ],
 "metadata": {
  "kernelspec": {
   "display_name": "Python 3",
   "language": "python",
   "name": "python3"
  },
  "language_info": {
   "codemirror_mode": {
    "name": "ipython",
    "version": 2
   },
   "file_extension": ".py",
   "mimetype": "text/x-python",
   "name": "python",
   "nbconvert_exporter": "python",
   "pygments_lexer": "ipython2",
   "version": "2.7.6"
  }
 },
 "nbformat": 4,
 "nbformat_minor": 5
}
