{
 "cells": [
  {
   "cell_type": "code",
   "execution_count": 1,
   "outputs": [
    {
     "name": "stdout",
     "output_type": "stream",
     "text": [
      "Downloading http://fashion-mnist.s3-website.eu-central-1.amazonaws.com/train-images-idx3-ubyte.gz\n",
      "Downloading http://fashion-mnist.s3-website.eu-central-1.amazonaws.com/train-images-idx3-ubyte.gz to data\\FashionMNIST\\raw\\train-images-idx3-ubyte.gz\n"
     ]
    },
    {
     "name": "stderr",
     "output_type": "stream",
     "text": [
      "100%|██████████| 26421880/26421880 [00:06<00:00, 4162474.05it/s]\n"
     ]
    },
    {
     "name": "stdout",
     "output_type": "stream",
     "text": [
      "Extracting data\\FashionMNIST\\raw\\train-images-idx3-ubyte.gz to data\\FashionMNIST\\raw\n",
      "\n",
      "Downloading http://fashion-mnist.s3-website.eu-central-1.amazonaws.com/train-labels-idx1-ubyte.gz\n",
      "Downloading http://fashion-mnist.s3-website.eu-central-1.amazonaws.com/train-labels-idx1-ubyte.gz to data\\FashionMNIST\\raw\\train-labels-idx1-ubyte.gz\n"
     ]
    },
    {
     "name": "stderr",
     "output_type": "stream",
     "text": [
      "100%|██████████| 29515/29515 [00:00<00:00, 105822.43it/s]\n"
     ]
    },
    {
     "name": "stdout",
     "output_type": "stream",
     "text": [
      "Extracting data\\FashionMNIST\\raw\\train-labels-idx1-ubyte.gz to data\\FashionMNIST\\raw\n",
      "\n",
      "Downloading http://fashion-mnist.s3-website.eu-central-1.amazonaws.com/t10k-images-idx3-ubyte.gz\n",
      "Downloading http://fashion-mnist.s3-website.eu-central-1.amazonaws.com/t10k-images-idx3-ubyte.gz to data\\FashionMNIST\\raw\\t10k-images-idx3-ubyte.gz\n"
     ]
    },
    {
     "name": "stderr",
     "output_type": "stream",
     "text": [
      "100%|██████████| 4422102/4422102 [00:02<00:00, 1735538.91it/s]\n"
     ]
    },
    {
     "name": "stdout",
     "output_type": "stream",
     "text": [
      "Extracting data\\FashionMNIST\\raw\\t10k-images-idx3-ubyte.gz to data\\FashionMNIST\\raw\n",
      "\n",
      "Downloading http://fashion-mnist.s3-website.eu-central-1.amazonaws.com/t10k-labels-idx1-ubyte.gz\n",
      "Downloading http://fashion-mnist.s3-website.eu-central-1.amazonaws.com/t10k-labels-idx1-ubyte.gz to data\\FashionMNIST\\raw\\t10k-labels-idx1-ubyte.gz\n"
     ]
    },
    {
     "name": "stderr",
     "output_type": "stream",
     "text": [
      "100%|██████████| 5148/5148 [00:00<00:00, 5147145.89it/s]"
     ]
    },
    {
     "name": "stdout",
     "output_type": "stream",
     "text": [
      "Extracting data\\FashionMNIST\\raw\\t10k-labels-idx1-ubyte.gz to data\\FashionMNIST\\raw\n"
     ]
    },
    {
     "name": "stderr",
     "output_type": "stream",
     "text": [
      "\n"
     ]
    }
   ],
   "source": [
    "# Fashion_MNIST 샘플은 PIL 이미지 형식이며 레이블은 정수\n",
    "# 학습을 위해서 feature로는 정규화된 텐서\n",
    "# 레이블은 원핫 인코딩된 텐서\n",
    "# 이러한 변환을 위해 ToTensor와 Lambda를 사용\n",
    "import torch\n",
    "from torchvision import datasets, transforms\n",
    "from torchvision.transforms import ToTensor, Lambda\n",
    "\n",
    "ds = datasets.FashionMNIST(\n",
    "    root=\"data\",\n",
    "    train=True,\n",
    "    download=True,\n",
    "    transform=ToTensor(),\n",
    "    target_transform=Lambda(lambda y: torch.zeros(10, dtype=torch.float).scatter_(0, torch.tensor(y), value=1))\n",
    ")"
   ],
   "metadata": {
    "collapsed": false,
    "ExecuteTime": {
     "end_time": "2023-10-30T18:56:34.617364600Z",
     "start_time": "2023-10-30T18:56:18.165173500Z"
    }
   },
   "id": "1ec8a1a4ad4b0b92"
  },
  {
   "cell_type": "markdown",
   "source": [
    "###  ToTensor()\n",
    "* ToTensor는 PIL 이미지 또는 NumPy ndarray을 FloatTensor로 변환하고 이미지의 픽셀 밝기 값을 [0., 1.] 범위에서 스케일링합니다."
   ],
   "metadata": {
    "collapsed": false
   },
   "id": "af92e8fa8930b508"
  },
  {
   "cell_type": "markdown",
   "source": [
    "### 람다 트랜스폼\n",
    "* 람다 트랜스폼은 사용자 정의 람다 함수를 적용합니다."
   ],
   "metadata": {
    "collapsed": false
   },
   "id": "3e41026490e3ec53"
  },
  {
   "cell_type": "code",
   "execution_count": 2,
   "outputs": [],
   "source": [
    "# 크기 10(데이터 세트의 레이블 수)의 제로 텐서를 생성\n",
    "# 레이블 y에 지정된 대로 인덱스에 value=1을 할당하는 scatter_를 호출\n",
    "target_transform = Lambda(lambda y: torch.zeros(\n",
    "    10, dtype=torch.float).scatter_(dim=0, index=torch.tensor(y), value=1))"
   ],
   "metadata": {
    "collapsed": false,
    "ExecuteTime": {
     "end_time": "2023-10-30T19:03:20.165368300Z",
     "start_time": "2023-10-30T19:03:20.148859200Z"
    }
   },
   "id": "5ef2940085e2301"
  },
  {
   "cell_type": "markdown",
   "source": [
    "### Compose\n",
    "* Compose를 통해서 여러 트랜스폼을 함께 구성할 수 있습니다."
   ],
   "metadata": {
    "collapsed": false
   },
   "id": "bacda8ba0a9fd892"
  },
  {
   "cell_type": "code",
   "execution_count": 3,
   "outputs": [
    {
     "data": {
      "text/plain": "Compose(\n    CenterCrop(size=(10, 10))\n    PILToTensor()\n    ConvertImageDtype()\n)"
     },
     "execution_count": 3,
     "metadata": {},
     "output_type": "execute_result"
    }
   ],
   "source": [
    "transforms.Compose([\n",
    "    transforms.CenterCrop(10),\n",
    "    transforms.PILToTensor(),\n",
    "    transforms.ConvertImageDtype(torch.float),\n",
    "])"
   ],
   "metadata": {
    "collapsed": false,
    "ExecuteTime": {
     "end_time": "2023-10-30T19:05:37.075221400Z",
     "start_time": "2023-10-30T19:05:37.056452Z"
    }
   },
   "id": "63fca87409c4d8ac"
  },
  {
   "cell_type": "markdown",
   "source": [
    "* Compose를 활용한 트랜스폼은 torchscript를 지원하지 않습니다.\n",
    "*  변환을 스크립트화하려면 아래와 같이 torch.nn.sequential을 사용하세요."
   ],
   "metadata": {
    "collapsed": false
   },
   "id": "7e7a63d58e20208c"
  },
  {
   "cell_type": "code",
   "execution_count": 4,
   "outputs": [],
   "source": [
    "transforms = torch.nn.Sequential(\n",
    "    transforms.CenterCrop(10),\n",
    "    transforms.Normalize((0.485, 0.456, 0.406), (0.229, 0.224, 0.225)),\n",
    ")\n",
    "scripted_transforms = torch.jit.script(transforms)"
   ],
   "metadata": {
    "collapsed": false,
    "ExecuteTime": {
     "end_time": "2023-10-30T19:06:00.357505200Z",
     "start_time": "2023-10-30T19:06:00.305324400Z"
    }
   },
   "id": "bf1d1bebff2485eb"
  },
  {
   "cell_type": "markdown",
   "source": [
    "* torch.nn.sequential은 스크립트화가 가능한 변환만 사용해야 합니다."
   ],
   "metadata": {
    "collapsed": false
   },
   "id": "b9749e74d8996ffe"
  },
  {
   "cell_type": "code",
   "execution_count": null,
   "outputs": [],
   "source": [],
   "metadata": {
    "collapsed": false
   },
   "id": "819088e734ee4ea6"
  }
 ],
 "metadata": {
  "kernelspec": {
   "display_name": "Python 3",
   "language": "python",
   "name": "python3"
  },
  "language_info": {
   "codemirror_mode": {
    "name": "ipython",
    "version": 2
   },
   "file_extension": ".py",
   "mimetype": "text/x-python",
   "name": "python",
   "nbconvert_exporter": "python",
   "pygments_lexer": "ipython2",
   "version": "2.7.6"
  }
 },
 "nbformat": 4,
 "nbformat_minor": 5
}
