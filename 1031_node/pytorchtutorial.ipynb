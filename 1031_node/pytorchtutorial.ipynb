{
 "cells": [
  {
   "cell_type": "code",
   "execution_count": 1,
   "id": "initial_id",
   "metadata": {
    "collapsed": true,
    "ExecuteTime": {
     "end_time": "2023-10-30T15:43:51.778361Z",
     "start_time": "2023-10-30T15:43:00.082333900Z"
    }
   },
   "outputs": [
    {
     "name": "stderr",
     "output_type": "stream",
     "text": [
      "'sudo'은(는) 내부 또는 외부 명령, 실행할 수 있는 프로그램, 또는\n",
      "배치 파일이 아닙니다.\n"
     ]
    },
    {
     "name": "stdout",
     "output_type": "stream",
     "text": [
      "Collecting torch==2.1.0\n",
      "  Downloading torch-2.1.0-cp311-cp311-win_amd64.whl.metadata (25 kB)\n",
      "Collecting torchvision\n",
      "  Downloading torchvision-0.16.0-cp311-cp311-win_amd64.whl.metadata (6.6 kB)\n",
      "Collecting filelock (from torch==2.1.0)\n",
      "  Downloading filelock-3.13.0-py3-none-any.whl.metadata (2.8 kB)\n",
      "Requirement already satisfied: typing-extensions in c:\\users\\008yo\\appdata\\local\\programs\\python\\python311\\lib\\site-packages (from torch==2.1.0) (4.5.0)\n",
      "Collecting sympy (from torch==2.1.0)\n",
      "  Downloading sympy-1.12-py3-none-any.whl (5.7 MB)\n",
      "     ---------------------------------------- 0.0/5.7 MB ? eta -:--:--\n",
      "     -------- ------------------------------- 1.2/5.7 MB 37.0 MB/s eta 0:00:01\n",
      "     ---------------------- ----------------- 3.2/5.7 MB 40.6 MB/s eta 0:00:01\n",
      "     ------------------------------------ --- 5.2/5.7 MB 48.0 MB/s eta 0:00:01\n",
      "     ---------------------------------------  5.7/5.7 MB 45.8 MB/s eta 0:00:01\n",
      "     ---------------------------------------- 5.7/5.7 MB 36.7 MB/s eta 0:00:00\n",
      "Requirement already satisfied: networkx in c:\\users\\008yo\\appdata\\local\\programs\\python\\python311\\lib\\site-packages (from torch==2.1.0) (3.1)\n",
      "Requirement already satisfied: jinja2 in c:\\users\\008yo\\appdata\\local\\programs\\python\\python311\\lib\\site-packages (from torch==2.1.0) (3.1.2)\n",
      "Collecting fsspec (from torch==2.1.0)\n",
      "  Downloading fsspec-2023.10.0-py3-none-any.whl.metadata (6.8 kB)\n",
      "Requirement already satisfied: numpy in c:\\users\\008yo\\appdata\\local\\programs\\python\\python311\\lib\\site-packages (from torchvision) (1.24.3)\n",
      "Requirement already satisfied: requests in c:\\users\\008yo\\appdata\\local\\programs\\python\\python311\\lib\\site-packages (from torchvision) (2.31.0)\n",
      "Requirement already satisfied: pillow!=8.3.*,>=5.3.0 in c:\\users\\008yo\\appdata\\local\\programs\\python\\python311\\lib\\site-packages (from torchvision) (10.0.0)\n",
      "Requirement already satisfied: MarkupSafe>=2.0 in c:\\users\\008yo\\appdata\\local\\programs\\python\\python311\\lib\\site-packages (from jinja2->torch==2.1.0) (2.1.3)\n",
      "Requirement already satisfied: charset-normalizer<4,>=2 in c:\\users\\008yo\\appdata\\local\\programs\\python\\python311\\lib\\site-packages (from requests->torchvision) (3.2.0)\n",
      "Requirement already satisfied: idna<4,>=2.5 in c:\\users\\008yo\\appdata\\local\\programs\\python\\python311\\lib\\site-packages (from requests->torchvision) (3.4)\n",
      "Requirement already satisfied: urllib3<3,>=1.21.1 in c:\\users\\008yo\\appdata\\local\\programs\\python\\python311\\lib\\site-packages (from requests->torchvision) (1.26.16)\n",
      "Requirement already satisfied: certifi>=2017.4.17 in c:\\users\\008yo\\appdata\\local\\programs\\python\\python311\\lib\\site-packages (from requests->torchvision) (2023.7.22)\n",
      "Collecting mpmath>=0.19 (from sympy->torch==2.1.0)\n",
      "  Downloading mpmath-1.3.0-py3-none-any.whl (536 kB)\n",
      "     ---------------------------------------- 0.0/536.2 kB ? eta -:--:--\n",
      "     ------------------------------------- 536.2/536.2 kB 17.0 MB/s eta 0:00:00\n",
      "Downloading torch-2.1.0-cp311-cp311-win_amd64.whl (192.3 MB)\n",
      "   ---------------------------------------- 0.0/192.3 MB ? eta -:--:--\n",
      "   ---------------------------------------- 2.1/192.3 MB 66.4 MB/s eta 0:00:03\n",
      "    --------------------------------------- 4.1/192.3 MB 64.5 MB/s eta 0:00:03\n",
      "   - -------------------------------------- 6.0/192.3 MB 64.2 MB/s eta 0:00:03\n",
      "   - -------------------------------------- 7.8/192.3 MB 55.6 MB/s eta 0:00:04\n",
      "   - -------------------------------------- 8.1/192.3 MB 46.9 MB/s eta 0:00:04\n",
      "   - -------------------------------------- 8.3/192.3 MB 41.1 MB/s eta 0:00:05\n",
      "   - -------------------------------------- 8.6/192.3 MB 36.5 MB/s eta 0:00:06\n",
      "   - -------------------------------------- 8.8/192.3 MB 33.1 MB/s eta 0:00:06\n",
      "   - -------------------------------------- 9.0/192.3 MB 30.3 MB/s eta 0:00:07\n",
      "   -- ------------------------------------- 9.9/192.3 MB 28.7 MB/s eta 0:00:07\n",
      "   -- ------------------------------------- 11.7/192.3 MB 29.7 MB/s eta 0:00:07\n",
      "   -- ------------------------------------- 13.3/192.3 MB 27.3 MB/s eta 0:00:07\n",
      "   --- ------------------------------------ 15.3/192.3 MB 27.3 MB/s eta 0:00:07\n",
      "   --- ------------------------------------ 17.3/192.3 MB 28.5 MB/s eta 0:00:07\n",
      "   --- ------------------------------------ 18.2/192.3 MB 28.4 MB/s eta 0:00:07\n",
      "   --- ------------------------------------ 19.1/192.3 MB 36.3 MB/s eta 0:00:05\n",
      "   ---- ----------------------------------- 20.6/192.3 MB 43.5 MB/s eta 0:00:04\n",
      "   ---- ----------------------------------- 22.7/192.3 MB 46.7 MB/s eta 0:00:04\n",
      "   ---- ----------------------------------- 23.5/192.3 MB 43.7 MB/s eta 0:00:04\n",
      "   ----- ---------------------------------- 25.2/192.3 MB 40.9 MB/s eta 0:00:05\n",
      "   ----- ---------------------------------- 27.0/192.3 MB 38.6 MB/s eta 0:00:05\n",
      "   ------ --------------------------------- 29.1/192.3 MB 46.7 MB/s eta 0:00:04\n",
      "   ------ --------------------------------- 30.9/192.3 MB 50.4 MB/s eta 0:00:04\n",
      "   ------ --------------------------------- 33.0/192.3 MB 46.7 MB/s eta 0:00:04\n",
      "   ------- -------------------------------- 35.0/192.3 MB 54.7 MB/s eta 0:00:03\n",
      "   ------- -------------------------------- 37.0/192.3 MB 59.5 MB/s eta 0:00:03\n",
      "   ------- -------------------------------- 38.4/192.3 MB 54.4 MB/s eta 0:00:03\n",
      "   -------- ------------------------------- 40.5/192.3 MB 54.7 MB/s eta 0:00:03\n",
      "   -------- ------------------------------- 41.7/192.3 MB 50.4 MB/s eta 0:00:03\n",
      "   -------- ------------------------------- 43.2/192.3 MB 50.4 MB/s eta 0:00:03\n",
      "   --------- ------------------------------ 45.1/192.3 MB 46.7 MB/s eta 0:00:04\n",
      "   --------- ------------------------------ 47.2/192.3 MB 46.7 MB/s eta 0:00:04\n",
      "   ---------- ----------------------------- 49.0/192.3 MB 50.4 MB/s eta 0:00:03\n",
      "   ---------- ----------------------------- 51.0/192.3 MB 50.1 MB/s eta 0:00:03\n",
      "   ---------- ----------------------------- 51.4/192.3 MB 50.4 MB/s eta 0:00:03\n",
      "   ---------- ----------------------------- 51.4/192.3 MB 50.4 MB/s eta 0:00:03\n",
      "   ---------- ----------------------------- 52.8/192.3 MB 40.9 MB/s eta 0:00:04\n",
      "   ----------- ---------------------------- 54.8/192.3 MB 40.9 MB/s eta 0:00:04\n",
      "   ----------- ---------------------------- 56.9/192.3 MB 38.5 MB/s eta 0:00:04\n",
      "   ------------ --------------------------- 58.9/192.3 MB 38.6 MB/s eta 0:00:04\n",
      "   ------------ --------------------------- 61.0/192.3 MB 40.9 MB/s eta 0:00:04\n",
      "   ------------- -------------------------- 63.0/192.3 MB 59.5 MB/s eta 0:00:03\n",
      "   ------------- -------------------------- 65.1/192.3 MB 54.4 MB/s eta 0:00:03\n",
      "   ------------- -------------------------- 67.1/192.3 MB 59.5 MB/s eta 0:00:03\n",
      "   -------------- ------------------------- 69.1/192.3 MB 59.5 MB/s eta 0:00:03\n",
      "   -------------- ------------------------- 71.1/192.3 MB 59.8 MB/s eta 0:00:03\n",
      "   --------------- ------------------------ 73.2/192.3 MB 54.7 MB/s eta 0:00:03\n",
      "   --------------- ------------------------ 75.2/192.3 MB 54.4 MB/s eta 0:00:03\n",
      "   ---------------- ----------------------- 77.2/192.3 MB 59.5 MB/s eta 0:00:02\n",
      "   ---------------- ----------------------- 79.3/192.3 MB 59.5 MB/s eta 0:00:02\n",
      "   ---------------- ----------------------- 81.3/192.3 MB 54.4 MB/s eta 0:00:03\n",
      "   ----------------- ---------------------- 83.3/192.3 MB 59.5 MB/s eta 0:00:02\n",
      "   ----------------- ---------------------- 85.3/192.3 MB 59.8 MB/s eta 0:00:02\n",
      "   ------------------ --------------------- 87.3/192.3 MB 59.5 MB/s eta 0:00:02\n",
      "   ------------------ --------------------- 89.4/192.3 MB 54.4 MB/s eta 0:00:02\n",
      "   ------------------- -------------------- 91.5/192.3 MB 59.5 MB/s eta 0:00:02\n",
      "   ------------------- -------------------- 93.5/192.3 MB 59.5 MB/s eta 0:00:02\n",
      "   ------------------- -------------------- 95.6/192.3 MB 59.5 MB/s eta 0:00:02\n",
      "   -------------------- ------------------- 97.6/192.3 MB 54.7 MB/s eta 0:00:02\n",
      "   -------------------- ------------------- 99.6/192.3 MB 59.8 MB/s eta 0:00:02\n",
      "   -------------------- ------------------ 101.6/192.3 MB 59.5 MB/s eta 0:00:02\n",
      "   --------------------- ----------------- 103.7/192.3 MB 59.5 MB/s eta 0:00:02\n",
      "   --------------------- ----------------- 105.7/192.3 MB 54.4 MB/s eta 0:00:02\n",
      "   --------------------- ----------------- 107.8/192.3 MB 59.5 MB/s eta 0:00:02\n",
      "   ---------------------- ---------------- 109.8/192.3 MB 59.5 MB/s eta 0:00:02\n",
      "   ---------------------- ---------------- 111.9/192.3 MB 59.5 MB/s eta 0:00:02\n",
      "   ----------------------- --------------- 113.9/192.3 MB 54.7 MB/s eta 0:00:02\n",
      "   ----------------------- --------------- 115.9/192.3 MB 59.5 MB/s eta 0:00:02\n",
      "   ----------------------- --------------- 117.9/192.3 MB 59.5 MB/s eta 0:00:02\n",
      "   ------------------------ -------------- 119.7/192.3 MB 59.5 MB/s eta 0:00:02\n",
      "   ------------------------ -------------- 121.9/192.3 MB 54.7 MB/s eta 0:00:02\n",
      "   ------------------------- ------------- 124.1/192.3 MB 59.5 MB/s eta 0:00:02\n",
      "   ------------------------- ------------- 126.1/192.3 MB 59.5 MB/s eta 0:00:02\n",
      "   ------------------------- ------------- 128.2/192.3 MB 54.7 MB/s eta 0:00:02\n",
      "   -------------------------- ------------ 130.2/192.3 MB 59.5 MB/s eta 0:00:02\n",
      "   -------------------------- ------------ 132.2/192.3 MB 59.5 MB/s eta 0:00:02\n",
      "   --------------------------- ----------- 134.3/192.3 MB 59.5 MB/s eta 0:00:01\n",
      "   --------------------------- ----------- 136.4/192.3 MB 54.7 MB/s eta 0:00:02\n",
      "   ---------------------------- ---------- 138.4/192.3 MB 59.5 MB/s eta 0:00:01\n",
      "   ---------------------------- ---------- 140.5/192.3 MB 59.5 MB/s eta 0:00:01\n",
      "   ---------------------------- ---------- 142.5/192.3 MB 59.5 MB/s eta 0:00:01\n",
      "   ----------------------------- --------- 144.5/192.3 MB 54.4 MB/s eta 0:00:01\n",
      "   ----------------------------- --------- 146.6/192.3 MB 59.5 MB/s eta 0:00:01\n",
      "   ------------------------------ -------- 148.7/192.3 MB 59.5 MB/s eta 0:00:01\n",
      "   ------------------------------ -------- 150.7/192.3 MB 59.8 MB/s eta 0:00:01\n",
      "   ------------------------------ -------- 152.8/192.3 MB 59.5 MB/s eta 0:00:01\n",
      "   ------------------------------- ------- 154.7/192.3 MB 59.5 MB/s eta 0:00:01\n",
      "   ------------------------------- ------- 156.9/192.3 MB 59.5 MB/s eta 0:00:01\n",
      "   ------------------------------- ------- 157.3/192.3 MB 59.8 MB/s eta 0:00:01\n",
      "   ------------------------------- ------- 157.3/192.3 MB 59.8 MB/s eta 0:00:01\n",
      "   ------------------------------- ------- 157.3/192.3 MB 59.8 MB/s eta 0:00:01\n",
      "   ------------------------------- ------- 157.3/192.3 MB 59.8 MB/s eta 0:00:01\n",
      "   ------------------------------- ------- 157.3/192.3 MB 59.8 MB/s eta 0:00:01\n",
      "   ------------------------------- ------- 157.3/192.3 MB 59.8 MB/s eta 0:00:01\n",
      "   ------------------------------- ------- 157.3/192.3 MB 59.8 MB/s eta 0:00:01\n",
      "   -------------------------------- ------ 158.4/192.3 MB 24.2 MB/s eta 0:00:02\n",
      "   -------------------------------- ------ 160.5/192.3 MB 23.4 MB/s eta 0:00:02\n",
      "   -------------------------------- ------ 162.6/192.3 MB 23.4 MB/s eta 0:00:02\n",
      "   --------------------------------- ----- 164.6/192.3 MB 24.3 MB/s eta 0:00:02\n",
      "   --------------------------------- ----- 166.7/192.3 MB 24.2 MB/s eta 0:00:02\n",
      "   ---------------------------------- ---- 168.7/192.3 MB 54.4 MB/s eta 0:00:01\n",
      "   ---------------------------------- ---- 170.7/192.3 MB 59.5 MB/s eta 0:00:01\n",
      "   ----------------------------------- --- 172.8/192.3 MB 59.5 MB/s eta 0:00:01\n",
      "   ----------------------------------- --- 174.8/192.3 MB 59.5 MB/s eta 0:00:01\n",
      "   ----------------------------------- --- 176.9/192.3 MB 54.7 MB/s eta 0:00:01\n",
      "   ----------------------------------- --- 177.2/192.3 MB 54.4 MB/s eta 0:00:01\n",
      "   ------------------------------------ -- 178.6/192.3 MB 46.7 MB/s eta 0:00:01\n",
      "   ------------------------------------ -- 180.6/192.3 MB 46.7 MB/s eta 0:00:01\n",
      "   ------------------------------------ -- 182.4/192.3 MB 43.5 MB/s eta 0:00:01\n",
      "   ------------------------------------ -- 182.4/192.3 MB 43.5 MB/s eta 0:00:01\n",
      "   ------------------------------------ -- 182.4/192.3 MB 43.5 MB/s eta 0:00:01\n",
      "   ------------------------------------ -- 182.4/192.3 MB 43.5 MB/s eta 0:00:01\n",
      "   ------------------------------------ -- 182.4/192.3 MB 43.5 MB/s eta 0:00:01\n",
      "   ------------------------------------ -- 182.4/192.3 MB 43.5 MB/s eta 0:00:01\n",
      "   ------------------------------------ -- 182.4/192.3 MB 43.5 MB/s eta 0:00:01\n",
      "   ------------------------------------- - 183.7/192.3 MB 23.4 MB/s eta 0:00:01\n",
      "   ------------------------------------- - 185.7/192.3 MB 22.6 MB/s eta 0:00:01\n",
      "   --------------------------------------  187.8/192.3 MB 25.2 MB/s eta 0:00:01\n",
      "   --------------------------------------  189.8/192.3 MB 25.1 MB/s eta 0:00:01\n",
      "   --------------------------------------  191.9/192.3 MB 25.2 MB/s eta 0:00:01\n",
      "   --------------------------------------  192.3/192.3 MB 25.2 MB/s eta 0:00:01\n",
      "   --------------------------------------  192.3/192.3 MB 25.2 MB/s eta 0:00:01\n",
      "   --------------------------------------  192.3/192.3 MB 25.2 MB/s eta 0:00:01\n",
      "   --------------------------------------  192.3/192.3 MB 25.2 MB/s eta 0:00:01\n",
      "   --------------------------------------  192.3/192.3 MB 25.2 MB/s eta 0:00:01\n",
      "   --------------------------------------  192.3/192.3 MB 25.2 MB/s eta 0:00:01\n",
      "   --------------------------------------  192.3/192.3 MB 25.2 MB/s eta 0:00:01\n",
      "   --------------------------------------  192.3/192.3 MB 25.2 MB/s eta 0:00:01\n",
      "   --------------------------------------  192.3/192.3 MB 25.2 MB/s eta 0:00:01\n",
      "   --------------------------------------  192.3/192.3 MB 25.2 MB/s eta 0:00:01\n",
      "   --------------------------------------  192.3/192.3 MB 25.2 MB/s eta 0:00:01\n",
      "   --------------------------------------  192.3/192.3 MB 25.2 MB/s eta 0:00:01\n",
      "   --------------------------------------  192.3/192.3 MB 25.2 MB/s eta 0:00:01\n",
      "   --------------------------------------  192.3/192.3 MB 25.2 MB/s eta 0:00:01\n",
      "   --------------------------------------  192.3/192.3 MB 25.2 MB/s eta 0:00:01\n",
      "   --------------------------------------  192.3/192.3 MB 25.2 MB/s eta 0:00:01\n",
      "   --------------------------------------  192.3/192.3 MB 25.2 MB/s eta 0:00:01\n",
      "   --------------------------------------  192.3/192.3 MB 25.2 MB/s eta 0:00:01\n",
      "   --------------------------------------  192.3/192.3 MB 25.2 MB/s eta 0:00:01\n",
      "   --------------------------------------  192.3/192.3 MB 25.2 MB/s eta 0:00:01\n",
      "   --------------------------------------  192.3/192.3 MB 25.2 MB/s eta 0:00:01\n",
      "   --------------------------------------  192.3/192.3 MB 25.2 MB/s eta 0:00:01\n",
      "   --------------------------------------  192.3/192.3 MB 25.2 MB/s eta 0:00:01\n",
      "   --------------------------------------  192.3/192.3 MB 25.2 MB/s eta 0:00:01\n",
      "   --------------------------------------  192.3/192.3 MB 25.2 MB/s eta 0:00:01\n",
      "   --------------------------------------  192.3/192.3 MB 25.2 MB/s eta 0:00:01\n",
      "   --------------------------------------  192.3/192.3 MB 25.2 MB/s eta 0:00:01\n",
      "   --------------------------------------  192.3/192.3 MB 25.2 MB/s eta 0:00:01\n",
      "   --------------------------------------  192.3/192.3 MB 25.2 MB/s eta 0:00:01\n",
      "   ---------------------------------------- 192.3/192.3 MB 6.9 MB/s eta 0:00:00\n",
      "Downloading torchvision-0.16.0-cp311-cp311-win_amd64.whl (1.3 MB)\n",
      "   ---------------------------------------- 0.0/1.3 MB ? eta -:--:--\n",
      "   ---------------------------------------- 1.3/1.3 MB 27.2 MB/s eta 0:00:00\n",
      "Downloading filelock-3.13.0-py3-none-any.whl (11 kB)\n",
      "Downloading fsspec-2023.10.0-py3-none-any.whl (166 kB)\n",
      "   ---------------------------------------- 0.0/166.4 kB ? eta -:--:--\n",
      "   ---------------------------------------- 166.4/166.4 kB 9.8 MB/s eta 0:00:00\n",
      "Installing collected packages: mpmath, sympy, fsspec, filelock, torch, torchvision\n",
      "Successfully installed filelock-3.13.0 fsspec-2023.10.0 mpmath-1.3.0 sympy-1.12 torch-2.1.0 torchvision-0.16.0\n"
     ]
    }
   ],
   "source": [
    "# !sudo apt-get install libtinfo5\n",
    "# !python -m venv myenv\n",
    "# !pip install torch==2.1.0 torchvision --upgrade"
   ]
  },
  {
   "cell_type": "code",
   "execution_count": 2,
   "outputs": [],
   "source": [
    "import torch\n",
    "from torch import nn\n",
    "from torch.utils.data import DataLoader\n",
    "from torchvision import datasets\n",
    "from torchvision.transforms import ToTensor"
   ],
   "metadata": {
    "collapsed": false,
    "ExecuteTime": {
     "end_time": "2023-10-30T15:49:24.989327200Z",
     "start_time": "2023-10-30T15:49:22.769018800Z"
    }
   },
   "id": "fa9a27e8b74722b5"
  },
  {
   "cell_type": "code",
   "execution_count": 3,
   "outputs": [
    {
     "name": "stdout",
     "output_type": "stream",
     "text": [
      "Downloading http://fashion-mnist.s3-website.eu-central-1.amazonaws.com/train-images-idx3-ubyte.gz\n",
      "Downloading http://fashion-mnist.s3-website.eu-central-1.amazonaws.com/train-images-idx3-ubyte.gz to /tmp/data\\FashionMNIST\\raw\\train-images-idx3-ubyte.gz\n"
     ]
    },
    {
     "name": "stderr",
     "output_type": "stream",
     "text": [
      "100%|██████████| 26421880/26421880 [00:06<00:00, 4068800.30it/s]\n"
     ]
    },
    {
     "name": "stdout",
     "output_type": "stream",
     "text": [
      "Extracting /tmp/data\\FashionMNIST\\raw\\train-images-idx3-ubyte.gz to /tmp/data\\FashionMNIST\\raw\n",
      "\n",
      "Downloading http://fashion-mnist.s3-website.eu-central-1.amazonaws.com/train-labels-idx1-ubyte.gz\n",
      "Downloading http://fashion-mnist.s3-website.eu-central-1.amazonaws.com/train-labels-idx1-ubyte.gz to /tmp/data\\FashionMNIST\\raw\\train-labels-idx1-ubyte.gz\n"
     ]
    },
    {
     "name": "stderr",
     "output_type": "stream",
     "text": [
      "100%|██████████| 29515/29515 [00:00<00:00, 105766.64it/s]\n"
     ]
    },
    {
     "name": "stdout",
     "output_type": "stream",
     "text": [
      "Extracting /tmp/data\\FashionMNIST\\raw\\train-labels-idx1-ubyte.gz to /tmp/data\\FashionMNIST\\raw\n",
      "\n",
      "Downloading http://fashion-mnist.s3-website.eu-central-1.amazonaws.com/t10k-images-idx3-ubyte.gz\n",
      "Downloading http://fashion-mnist.s3-website.eu-central-1.amazonaws.com/t10k-images-idx3-ubyte.gz to /tmp/data\\FashionMNIST\\raw\\t10k-images-idx3-ubyte.gz\n"
     ]
    },
    {
     "name": "stderr",
     "output_type": "stream",
     "text": [
      "100%|██████████| 4422102/4422102 [00:02<00:00, 1580747.04it/s]\n"
     ]
    },
    {
     "name": "stdout",
     "output_type": "stream",
     "text": [
      "Extracting /tmp/data\\FashionMNIST\\raw\\t10k-images-idx3-ubyte.gz to /tmp/data\\FashionMNIST\\raw\n",
      "\n",
      "Downloading http://fashion-mnist.s3-website.eu-central-1.amazonaws.com/t10k-labels-idx1-ubyte.gz\n",
      "Downloading http://fashion-mnist.s3-website.eu-central-1.amazonaws.com/t10k-labels-idx1-ubyte.gz to /tmp/data\\FashionMNIST\\raw\\t10k-labels-idx1-ubyte.gz\n"
     ]
    },
    {
     "name": "stderr",
     "output_type": "stream",
     "text": [
      "100%|██████████| 5148/5148 [00:00<?, ?it/s]"
     ]
    },
    {
     "name": "stdout",
     "output_type": "stream",
     "text": [
      "Extracting /tmp/data\\FashionMNIST\\raw\\t10k-labels-idx1-ubyte.gz to /tmp/data\\FashionMNIST\\raw\n"
     ]
    },
    {
     "name": "stderr",
     "output_type": "stream",
     "text": [
      "\n"
     ]
    }
   ],
   "source": [
    "# transform = ToTensor()를 사용해서 데이터셋을 텐서로 변환시킬 수 있습니다.\n",
    "# 오픈 데이터셋에서 학습 데이터를 다운로드하세요.\n",
    "training_data = datasets.FashionMNIST(\n",
    "    root=\"/tmp/data\",\n",
    "    train=True, # 학습 데이터를 지정\n",
    "    download=True,\n",
    "    transform=ToTensor(), # 텐서로 변환\n",
    ")\n",
    "\n",
    "# 오픈 데이터셋에서 테스트 데이터를 다운로드하세요.\n",
    "test_data = datasets.FashionMNIST(\n",
    "    root=\"/tmp/data\",\n",
    "    train=False, # 테스트 데이터를 지정\n",
    "    download=True,\n",
    "    transform=ToTensor(), # 텐서로 변환\n",
    ")"
   ],
   "metadata": {
    "collapsed": false,
    "ExecuteTime": {
     "end_time": "2023-10-30T15:59:10.838778100Z",
     "start_time": "2023-10-30T15:58:55.968022500Z"
    }
   },
   "id": "de4bca94ff66135"
  },
  {
   "cell_type": "code",
   "execution_count": 4,
   "outputs": [
    {
     "name": "stdout",
     "output_type": "stream",
     "text": [
      "Shape of X [N, C, H, W]: torch.Size([64, 1, 28, 28])\n",
      "Shape of y: torch.Size([64]) torch.int64\n"
     ]
    }
   ],
   "source": [
    "# 미니 배치 학습\n",
    "batch_size = 64\n",
    "\n",
    "# 데이터 로더 만들기\n",
    "train_dataloader = DataLoader(training_data, batch_size=batch_size)\n",
    "test_dataloader = DataLoader(test_data, batch_size=batch_size)\n",
    "\n",
    "for X, y in test_dataloader:\n",
    "    print(f\"Shape of X [N, C, H, W]: {X.shape}\")\n",
    "    print(f\"Shape of y: {y.shape} {y.dtype}\")\n",
    "    break"
   ],
   "metadata": {
    "collapsed": false,
    "ExecuteTime": {
     "end_time": "2023-10-30T16:05:14.645568400Z",
     "start_time": "2023-10-30T16:05:14.627584Z"
    }
   },
   "id": "aa4e97f588805f5b"
  },
  {
   "cell_type": "markdown",
   "source": [
    "#### 모델 만들기"
   ],
   "metadata": {
    "collapsed": false
   },
   "id": "6119784f9fa876a0"
  },
  {
   "cell_type": "code",
   "execution_count": 5,
   "outputs": [
    {
     "name": "stdout",
     "output_type": "stream",
     "text": [
      "Using cpu device\n",
      "NeuralNetwork(\n",
      "  (flatten): Flatten(start_dim=1, end_dim=-1)\n",
      "  (linear_relu_stack): Sequential(\n",
      "    (0): Linear(in_features=784, out_features=512, bias=True)\n",
      "    (1): ReLU()\n",
      "    (2): Linear(in_features=512, out_features=512, bias=True)\n",
      "    (3): ReLU()\n",
      "    (4): Linear(in_features=512, out_features=10, bias=True)\n",
      "  )\n",
      ")\n"
     ]
    }
   ],
   "source": [
    "# PyTorch에서 인공신경망을 정의하기 위해 nn.Module을 상속하는 클래스를 생성\n",
    "# 훈련에 사용할 cpu, gpu나 mps device 가져오기\n",
    "device = (\n",
    "    \"cuda\"\n",
    "    if torch.cuda.is_available()\n",
    "    else \"mps\"\n",
    "    if torch.backends.mps.is_available()\n",
    "    else \"cpu\"\n",
    ")\n",
    "print(f\"Using {device} device\")\n",
    "\n",
    "# 모델 정의\n",
    "class NeuralNetwork(nn.Module):\n",
    "    def __init__(self):\n",
    "        super().__init__()\n",
    "        self.flatten = nn.Flatten()\n",
    "        self.linear_relu_stack = nn.Sequential(\n",
    "            nn.Linear(28*28, 512),\n",
    "            nn.ReLU(),\n",
    "            nn.Linear(512, 512),\n",
    "            nn.ReLU(),\n",
    "            nn.Linear(512, 10)\n",
    "        )\n",
    "\n",
    "    def forward(self, x):\n",
    "        x = self.flatten(x)\n",
    "        logits = self.linear_relu_stack(x)\n",
    "        return logits\n",
    "\n",
    "model = NeuralNetwork().to(device)\n",
    "print(model)"
   ],
   "metadata": {
    "collapsed": false,
    "ExecuteTime": {
     "end_time": "2023-10-30T16:05:55.216368300Z",
     "start_time": "2023-10-30T16:05:55.198557400Z"
    }
   },
   "id": "e2c7fe1baf43d080"
  },
  {
   "cell_type": "markdown",
   "source": [
    "#### 모델 파라미터 최적화"
   ],
   "metadata": {
    "collapsed": false
   },
   "id": "dcc5a4178424ccef"
  },
  {
   "cell_type": "code",
   "execution_count": 6,
   "outputs": [],
   "source": [
    "loss_fn = nn.CrossEntropyLoss()     # 손실함수로 크로스엔트로피를 사용한다.\n",
    "optimizer = torch.optim.SGD(model.parameters(), lr=1e-3)  # 경사하강법으로 최적화된 파라미터를 찾으며, 학습률은 10의 -3승으로 설정한다."
   ],
   "metadata": {
    "collapsed": false,
    "ExecuteTime": {
     "end_time": "2023-10-30T16:06:45.870723300Z",
     "start_time": "2023-10-30T16:06:45.863218200Z"
    }
   },
   "id": "ac727d5f9140147d"
  },
  {
   "cell_type": "code",
   "execution_count": 7,
   "outputs": [],
   "source": [
    "# 단일 train 순환에서 모델은 train 데이터셋에 대해 예측하고 예측 오류를 역전파(Back propaganda)를 이용해서 모델의 파라미터를 조정\n",
    "def train(dataloader, model, loss_fn, optimizer):\n",
    "    size = len(dataloader.dataset)\n",
    "    model.train()\n",
    "    for batch, (X, y) in enumerate(dataloader):\n",
    "        X, y = X.to(device), y.to(device)\n",
    "\n",
    "        # 예측 오차 계산\n",
    "        pred = model(X)\n",
    "        loss = loss_fn(pred, y)\n",
    "\n",
    "        # 역전파\n",
    "        loss.backward()\n",
    "        optimizer.step()\n",
    "        optimizer.zero_grad()\n",
    "\n",
    "        if batch % 100 == 0:\n",
    "            loss, current = loss.item(), (batch + 1) * len(X)\n",
    "            print(f\"loss: {loss:>7f}  [{current:>5d}/{size:>5d}]\")"
   ],
   "metadata": {
    "collapsed": false,
    "ExecuteTime": {
     "end_time": "2023-10-30T16:07:12.951091300Z",
     "start_time": "2023-10-30T16:07:12.934832600Z"
    }
   },
   "id": "caa05afc644b05bb"
  },
  {
   "cell_type": "code",
   "execution_count": 8,
   "outputs": [],
   "source": [
    "# 테스트 데이터셋에 대한 모델의 성능을 확인하여 학습이 제대로 이루어지고 있는지 확인\n",
    "def test(dataloader, model, loss_fn):\n",
    "    size = len(dataloader.dataset)\n",
    "    num_batches = len(dataloader)\n",
    "    model.eval()\n",
    "    test_loss, correct = 0, 0\n",
    "    with torch.no_grad():\n",
    "        for X, y in dataloader:\n",
    "            X, y = X.to(device), y.to(device)\n",
    "            pred = model(X)\n",
    "            test_loss += loss_fn(pred, y).item()\n",
    "            correct += (pred.argmax(1) == y).type(torch.float).sum().item()\n",
    "    test_loss /= num_batches\n",
    "    correct /= size\n",
    "    print(f\"Test Error: \\n Accuracy: {(100*correct):>0.1f}%, Avg loss: {test_loss:>8f} \\n\")"
   ],
   "metadata": {
    "collapsed": false,
    "ExecuteTime": {
     "end_time": "2023-10-30T16:08:51.947101800Z",
     "start_time": "2023-10-30T16:08:51.939095600Z"
    }
   },
   "id": "79877863c07603b1"
  },
  {
   "cell_type": "code",
   "execution_count": 9,
   "outputs": [
    {
     "name": "stdout",
     "output_type": "stream",
     "text": [
      "Epoch 1\n",
      "-------------------------------\n",
      "loss: 2.309915  [   64/60000]\n",
      "loss: 2.288436  [ 6464/60000]\n",
      "loss: 2.274080  [12864/60000]\n",
      "loss: 2.267854  [19264/60000]\n",
      "loss: 2.235236  [25664/60000]\n",
      "loss: 2.222524  [32064/60000]\n",
      "loss: 2.236331  [38464/60000]\n",
      "loss: 2.205964  [44864/60000]\n",
      "loss: 2.196496  [51264/60000]\n",
      "loss: 2.158480  [57664/60000]\n",
      "Test Error: \n",
      " Accuracy: 40.7%, Avg loss: 2.157734 \n",
      "\n",
      "Epoch 2\n",
      "-------------------------------\n",
      "loss: 2.174232  [   64/60000]\n",
      "loss: 2.153783  [ 6464/60000]\n",
      "loss: 2.105566  [12864/60000]\n",
      "loss: 2.122394  [19264/60000]\n",
      "loss: 2.050462  [25664/60000]\n",
      "loss: 2.005322  [32064/60000]\n",
      "loss: 2.045302  [38464/60000]\n",
      "loss: 1.968817  [44864/60000]\n",
      "loss: 1.970545  [51264/60000]\n",
      "loss: 1.887103  [57664/60000]\n",
      "Test Error: \n",
      " Accuracy: 49.7%, Avg loss: 1.892033 \n",
      "\n",
      "Epoch 3\n",
      "-------------------------------\n",
      "loss: 1.930401  [   64/60000]\n",
      "loss: 1.887758  [ 6464/60000]\n",
      "loss: 1.783833  [12864/60000]\n",
      "loss: 1.829454  [19264/60000]\n",
      "loss: 1.697480  [25664/60000]\n",
      "loss: 1.656397  [32064/60000]\n",
      "loss: 1.698974  [38464/60000]\n",
      "loss: 1.598327  [44864/60000]\n",
      "loss: 1.616072  [51264/60000]\n",
      "loss: 1.508231  [57664/60000]\n",
      "Test Error: \n",
      " Accuracy: 60.9%, Avg loss: 1.525678 \n",
      "\n",
      "Epoch 4\n",
      "-------------------------------\n",
      "loss: 1.592527  [   64/60000]\n",
      "loss: 1.546273  [ 6464/60000]\n",
      "loss: 1.407375  [12864/60000]\n",
      "loss: 1.485973  [19264/60000]\n",
      "loss: 1.350297  [25664/60000]\n",
      "loss: 1.349975  [32064/60000]\n",
      "loss: 1.384429  [38464/60000]\n",
      "loss: 1.304959  [44864/60000]\n",
      "loss: 1.326630  [51264/60000]\n",
      "loss: 1.231237  [57664/60000]\n",
      "Test Error: \n",
      " Accuracy: 63.5%, Avg loss: 1.254010 \n",
      "\n",
      "Epoch 5\n",
      "-------------------------------\n",
      "loss: 1.326901  [   64/60000]\n",
      "loss: 1.302097  [ 6464/60000]\n",
      "loss: 1.144606  [12864/60000]\n",
      "loss: 1.258107  [19264/60000]\n",
      "loss: 1.121889  [25664/60000]\n",
      "loss: 1.147822  [32064/60000]\n",
      "loss: 1.188360  [38464/60000]\n",
      "loss: 1.121824  [44864/60000]\n",
      "loss: 1.144910  [51264/60000]\n",
      "loss: 1.067294  [57664/60000]\n",
      "Test Error: \n",
      " Accuracy: 65.0%, Avg loss: 1.085453 \n",
      "\n",
      "Done!\n"
     ]
    }
   ],
   "source": [
    "epochs = 5\n",
    "for t in range(epochs):\n",
    "    print(f\"Epoch {t+1}\\n-------------------------------\")\n",
    "    train(train_dataloader, model, loss_fn, optimizer)\n",
    "    test(test_dataloader, model, loss_fn)\n",
    "print(\"Done!\")"
   ],
   "metadata": {
    "collapsed": false,
    "ExecuteTime": {
     "end_time": "2023-10-30T16:13:14.702621100Z",
     "start_time": "2023-10-30T16:12:32.174544200Z"
    }
   },
   "id": "c14ea7758dc956ec"
  },
  {
   "cell_type": "markdown",
   "source": [
    "#### 모델 저장하기"
   ],
   "metadata": {
    "collapsed": false
   },
   "id": "b27407b4487b5f2a"
  },
  {
   "cell_type": "code",
   "execution_count": 10,
   "outputs": [
    {
     "name": "stdout",
     "output_type": "stream",
     "text": [
      "Saved PyTorch Model State to model.pth\n"
     ]
    }
   ],
   "source": [
    "torch.save(model.state_dict(), \"model.pth\")\n",
    "print(\"Saved PyTorch Model State to model.pth\")"
   ],
   "metadata": {
    "collapsed": false,
    "ExecuteTime": {
     "end_time": "2023-10-30T16:13:47.093122200Z",
     "start_time": "2023-10-30T16:13:47.074377800Z"
    }
   },
   "id": "37c35892fa1de76"
  },
  {
   "cell_type": "markdown",
   "source": [
    "#### 모델 불러오기\n",
    "1. 모델 구조를 다시 만들어서\n",
    "2. 그 안의 내부 상태 사전을 불러옴"
   ],
   "metadata": {
    "collapsed": false
   },
   "id": "b1b4f3021a574b1d"
  },
  {
   "cell_type": "code",
   "execution_count": 11,
   "outputs": [
    {
     "data": {
      "text/plain": "<All keys matched successfully>"
     },
     "execution_count": 11,
     "metadata": {},
     "output_type": "execute_result"
    }
   ],
   "source": [
    "model = NeuralNetwork().to(device)\n",
    "model.load_state_dict(torch.load(\"model.pth\"))"
   ],
   "metadata": {
    "collapsed": false,
    "ExecuteTime": {
     "end_time": "2023-10-30T16:15:29.766723400Z",
     "start_time": "2023-10-30T16:15:29.739443300Z"
    }
   },
   "id": "d45516f4adb9c8b1"
  },
  {
   "cell_type": "markdown",
   "source": [
    "#### 모델을 통한 예측하기"
   ],
   "metadata": {
    "collapsed": false
   },
   "id": "fc84df945070b53"
  },
  {
   "cell_type": "code",
   "execution_count": 12,
   "outputs": [
    {
     "name": "stdout",
     "output_type": "stream",
     "text": [
      "Predicted: \"Ankle boot\", Actual: \"Ankle boot\"\n"
     ]
    }
   ],
   "source": [
    "classes = [\n",
    "    \"T-shirt/top\",\n",
    "    \"Trouser\",\n",
    "    \"Pullover\",\n",
    "    \"Dress\",\n",
    "    \"Coat\",\n",
    "    \"Sandal\",\n",
    "    \"Shirt\",\n",
    "    \"Sneaker\",\n",
    "    \"Bag\",\n",
    "    \"Ankle boot\",\n",
    "]\n",
    "\n",
    "model.eval()\n",
    "x, y = test_data[0][0], test_data[0][1]\n",
    "with torch.no_grad():\n",
    "    x = x.to(device)\n",
    "    pred = model(x)\n",
    "    predicted, actual = classes[pred[0].argmax(0)], classes[y]\n",
    "    print(f'Predicted: \"{predicted}\", Actual: \"{actual}\"')"
   ],
   "metadata": {
    "collapsed": false,
    "ExecuteTime": {
     "end_time": "2023-10-30T16:15:53.184296900Z",
     "start_time": "2023-10-30T16:15:53.167275200Z"
    }
   },
   "id": "935e2cec35c4cd29"
  },
  {
   "cell_type": "code",
   "execution_count": null,
   "outputs": [],
   "source": [],
   "metadata": {
    "collapsed": false
   },
   "id": "bdc6d67a8cca2fcc"
  }
 ],
 "metadata": {
  "kernelspec": {
   "display_name": "Python 3",
   "language": "python",
   "name": "python3"
  },
  "language_info": {
   "codemirror_mode": {
    "name": "ipython",
    "version": 2
   },
   "file_extension": ".py",
   "mimetype": "text/x-python",
   "name": "python",
   "nbconvert_exporter": "python",
   "pygments_lexer": "ipython2",
   "version": "2.7.6"
  }
 },
 "nbformat": 4,
 "nbformat_minor": 5
}
