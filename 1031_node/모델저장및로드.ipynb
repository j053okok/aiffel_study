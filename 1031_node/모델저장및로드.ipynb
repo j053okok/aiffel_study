{
 "cells": [
  {
   "cell_type": "code",
   "execution_count": 1,
   "id": "initial_id",
   "metadata": {
    "collapsed": true,
    "ExecuteTime": {
     "end_time": "2023-10-30T20:16:54.362571500Z",
     "start_time": "2023-10-30T20:16:51.956712200Z"
    }
   },
   "outputs": [],
   "source": [
    "import torch\n",
    "import torchvision.models as models"
   ]
  },
  {
   "cell_type": "markdown",
   "source": [
    "### 모델 가중치 저장 및 로드\n",
    "* 파이토치 모델은 학습된 파라미터를 state_dict라는 내부 상태 사전에 저장\n",
    "*  이러한 파라미터는 torch.save 메서드를 통해 지속될 수 있습니다."
   ],
   "metadata": {
    "collapsed": false
   },
   "id": "d0e37828d0d25632"
  },
  {
   "cell_type": "code",
   "execution_count": 2,
   "outputs": [
    {
     "name": "stderr",
     "output_type": "stream",
     "text": [
      "Downloading: \"https://download.pytorch.org/models/vgg16-397923af.pth\" to C:\\Users\\008yo/.cache\\torch\\hub\\checkpoints\\vgg16-397923af.pth\n",
      "100%|██████████| 528M/528M [00:09<00:00, 58.6MB/s] \n"
     ]
    }
   ],
   "source": [
    "model = models.vgg16(weights='IMAGENET1K_V1')\n",
    "torch.save(model.state_dict(), 'model_weights.pth')"
   ],
   "metadata": {
    "collapsed": false,
    "ExecuteTime": {
     "end_time": "2023-10-30T20:17:22.120990800Z",
     "start_time": "2023-10-30T20:17:09.069691400Z"
    }
   },
   "id": "a8fc3a772d169641"
  },
  {
   "cell_type": "markdown",
   "source": [
    "* 모델 가중치를 로드하려면 먼저 동일한 모델의 인스턴스를 생성한 다음 load_state_dict() 메서드를 사용하여 파라미터를 로드해야 함."
   ],
   "metadata": {
    "collapsed": false
   },
   "id": "5f4b0696a0f1619b"
  },
  {
   "cell_type": "code",
   "execution_count": 3,
   "outputs": [
    {
     "data": {
      "text/plain": "VGG(\n  (features): Sequential(\n    (0): Conv2d(3, 64, kernel_size=(3, 3), stride=(1, 1), padding=(1, 1))\n    (1): ReLU(inplace=True)\n    (2): Conv2d(64, 64, kernel_size=(3, 3), stride=(1, 1), padding=(1, 1))\n    (3): ReLU(inplace=True)\n    (4): MaxPool2d(kernel_size=2, stride=2, padding=0, dilation=1, ceil_mode=False)\n    (5): Conv2d(64, 128, kernel_size=(3, 3), stride=(1, 1), padding=(1, 1))\n    (6): ReLU(inplace=True)\n    (7): Conv2d(128, 128, kernel_size=(3, 3), stride=(1, 1), padding=(1, 1))\n    (8): ReLU(inplace=True)\n    (9): MaxPool2d(kernel_size=2, stride=2, padding=0, dilation=1, ceil_mode=False)\n    (10): Conv2d(128, 256, kernel_size=(3, 3), stride=(1, 1), padding=(1, 1))\n    (11): ReLU(inplace=True)\n    (12): Conv2d(256, 256, kernel_size=(3, 3), stride=(1, 1), padding=(1, 1))\n    (13): ReLU(inplace=True)\n    (14): Conv2d(256, 256, kernel_size=(3, 3), stride=(1, 1), padding=(1, 1))\n    (15): ReLU(inplace=True)\n    (16): MaxPool2d(kernel_size=2, stride=2, padding=0, dilation=1, ceil_mode=False)\n    (17): Conv2d(256, 512, kernel_size=(3, 3), stride=(1, 1), padding=(1, 1))\n    (18): ReLU(inplace=True)\n    (19): Conv2d(512, 512, kernel_size=(3, 3), stride=(1, 1), padding=(1, 1))\n    (20): ReLU(inplace=True)\n    (21): Conv2d(512, 512, kernel_size=(3, 3), stride=(1, 1), padding=(1, 1))\n    (22): ReLU(inplace=True)\n    (23): MaxPool2d(kernel_size=2, stride=2, padding=0, dilation=1, ceil_mode=False)\n    (24): Conv2d(512, 512, kernel_size=(3, 3), stride=(1, 1), padding=(1, 1))\n    (25): ReLU(inplace=True)\n    (26): Conv2d(512, 512, kernel_size=(3, 3), stride=(1, 1), padding=(1, 1))\n    (27): ReLU(inplace=True)\n    (28): Conv2d(512, 512, kernel_size=(3, 3), stride=(1, 1), padding=(1, 1))\n    (29): ReLU(inplace=True)\n    (30): MaxPool2d(kernel_size=2, stride=2, padding=0, dilation=1, ceil_mode=False)\n  )\n  (avgpool): AdaptiveAvgPool2d(output_size=(7, 7))\n  (classifier): Sequential(\n    (0): Linear(in_features=25088, out_features=4096, bias=True)\n    (1): ReLU(inplace=True)\n    (2): Dropout(p=0.5, inplace=False)\n    (3): Linear(in_features=4096, out_features=4096, bias=True)\n    (4): ReLU(inplace=True)\n    (5): Dropout(p=0.5, inplace=False)\n    (6): Linear(in_features=4096, out_features=1000, bias=True)\n  )\n)"
     },
     "execution_count": 3,
     "metadata": {},
     "output_type": "execute_result"
    }
   ],
   "source": [
    "model = models.vgg16() # '가중치'를 지정하지 않습니다. 즉, 학습되지 않은 모델을 생성합니다.\n",
    "model.load_state_dict(torch.load('model_weights.pth'))\n",
    "model.eval()"
   ],
   "metadata": {
    "collapsed": false,
    "ExecuteTime": {
     "end_time": "2023-10-30T20:17:44.114053500Z",
     "start_time": "2023-10-30T20:17:42.970887600Z"
    }
   },
   "id": "93aa943c4027172"
  },
  {
   "cell_type": "markdown",
   "source": [
    "### 구조(shape)가 있는 모델 저장 및 로드\n",
    "* 클래스의 구조를 모델과 함께 저장하고 싶을 수도 있는데, 이 경우에는 저장 함수에 model.state_dict()가 아닌 model을 전달하면 됩니다."
   ],
   "metadata": {
    "collapsed": false
   },
   "id": "edbeebf5107f8078"
  },
  {
   "cell_type": "code",
   "execution_count": 4,
   "outputs": [],
   "source": [
    "torch.save(model, 'model.pth')"
   ],
   "metadata": {
    "collapsed": false,
    "ExecuteTime": {
     "end_time": "2023-10-30T20:18:20.950572200Z",
     "start_time": "2023-10-30T20:18:18.611368500Z"
    }
   },
   "id": "5e0583eb720e5c34"
  },
  {
   "cell_type": "code",
   "execution_count": 5,
   "outputs": [],
   "source": [
    "# 모델 불러오기\n",
    "model = torch.load('model.pth')"
   ],
   "metadata": {
    "collapsed": false,
    "ExecuteTime": {
     "end_time": "2023-10-30T20:18:25.559030100Z",
     "start_time": "2023-10-30T20:18:25.469267700Z"
    }
   },
   "id": "1ee8048f3a4e9d96"
  },
  {
   "cell_type": "markdown",
   "source": [
    "###  파이토치에서 일반 체크포인트 저장 및 로드하기\n",
    "* 추론 또는 학습을 재개를 위해 일반 체크포인트 모델을 저장하고 로드하면 마지막으로 중단한 부분을 다시 시작할 수 있어, 유용\n",
    "* 모델이 학습할 때 업데이트되는 버퍼와 파라미터가 포함되어 있으므로 옵티마이저의 state_dict도 저장하는 것이 중요\n",
    "* 여러 체크포인트를 저장하려면 딕셔너리로 구성하고 torch.save()를 사용하여 딕셔너리를 직렬화해야 함\n",
    "* 일반적인 파이토치 규칙은 .tar 파일 확장자를 사용하여 이러한 체크포인트를 저장하는 것\n",
    "* 항목을 로드하려면 먼저 모델과 옵티마이저를 초기화한 다음 torch.load()를 사용하여 딕셔너리를 로컬로 로드"
   ],
   "metadata": {
    "collapsed": false
   },
   "id": "cd699ce8ea1c9809"
  },
  {
   "cell_type": "markdown",
   "source": [
    "## 학습 단계\n",
    "1. 데이터 로딩에 필요한 모든 라이브러리 가져오기\n",
    "2. 신경망 정의 및 초기화\n",
    "3. 옵티마이저 초기화\n",
    "4. 일반 체크포인트 저장\n",
    "5. 일반 체크포인트 로드"
   ],
   "metadata": {
    "collapsed": false
   },
   "id": "f0f2cc2995362b7d"
  },
  {
   "cell_type": "markdown",
   "source": [
    "##### 데이터 로딩에 필요한 라이브러리 가져오기"
   ],
   "metadata": {
    "collapsed": false
   },
   "id": "50e40aa2df58e381"
  },
  {
   "cell_type": "code",
   "execution_count": 6,
   "outputs": [],
   "source": [
    "import torch\n",
    "import torch.nn as nn\n",
    "import torch.optim as optim"
   ],
   "metadata": {
    "collapsed": false,
    "ExecuteTime": {
     "end_time": "2023-10-30T20:30:00.659349400Z",
     "start_time": "2023-10-30T20:30:00.652788700Z"
    }
   },
   "id": "5f88010802a99acd"
  },
  {
   "cell_type": "markdown",
   "source": [
    "##### 신경망 정의 및 초기화"
   ],
   "metadata": {
    "collapsed": false
   },
   "id": "69a436bb9566a812"
  },
  {
   "cell_type": "code",
   "execution_count": 7,
   "outputs": [
    {
     "name": "stdout",
     "output_type": "stream",
     "text": [
      "Net(\n",
      "  (conv1): Conv2d(3, 6, kernel_size=(5, 5), stride=(1, 1))\n",
      "  (pool): MaxPool2d(kernel_size=2, stride=2, padding=0, dilation=1, ceil_mode=False)\n",
      "  (conv2): Conv2d(6, 16, kernel_size=(5, 5), stride=(1, 1))\n",
      "  (fc1): Linear(in_features=400, out_features=120, bias=True)\n",
      "  (fc2): Linear(in_features=120, out_features=84, bias=True)\n",
      "  (fc3): Linear(in_features=84, out_features=10, bias=True)\n",
      ")\n"
     ]
    }
   ],
   "source": [
    "class Net(nn.Module):\n",
    "    def __init__(self):\n",
    "        super(Net, self).__init__()\n",
    "        self.conv1 = nn.Conv2d(3, 6, 5)\n",
    "        self.pool = nn.MaxPool2d(2, 2)\n",
    "        self.conv2 = nn.Conv2d(6, 16, 5)\n",
    "        self.fc1 = nn.Linear(16 * 5 * 5, 120)\n",
    "        self.fc2 = nn.Linear(120, 84)\n",
    "        self.fc3 = nn.Linear(84, 10)\n",
    "\n",
    "    def forward(self, x):\n",
    "        x = self.pool(F.relu(self.conv1(x)))\n",
    "        x = self.pool(F.relu(self.conv2(x)))\n",
    "        x = x.view(-1, 16 * 5 * 5)\n",
    "        x = F.relu(self.fc1(x))\n",
    "        x = F.relu(self.fc2(x))\n",
    "        x = self.fc3(x)\n",
    "        return x\n",
    "\n",
    "net = Net()\n",
    "print(net)"
   ],
   "metadata": {
    "collapsed": false,
    "ExecuteTime": {
     "end_time": "2023-10-30T20:30:09.486317500Z",
     "start_time": "2023-10-30T20:30:09.466311200Z"
    }
   },
   "id": "53b91acddeeb45b0"
  },
  {
   "cell_type": "markdown",
   "source": [
    "##### 옵티마이저 초기화하기\n",
    "* 모멘텀이 있는 SGD를 사용"
   ],
   "metadata": {
    "collapsed": false
   },
   "id": "33dbff47ffea1198"
  },
  {
   "cell_type": "code",
   "execution_count": 8,
   "outputs": [],
   "source": [
    "optimizer = optim.SGD(net.parameters(), lr=0.001, momentum=0.9)"
   ],
   "metadata": {
    "collapsed": false,
    "ExecuteTime": {
     "end_time": "2023-10-30T20:30:33.539787800Z",
     "start_time": "2023-10-30T20:30:33.531911600Z"
    }
   },
   "id": "4e293ca824edbbe9"
  },
  {
   "cell_type": "markdown",
   "source": [
    "##### 일반 체크포인트 저장"
   ],
   "metadata": {
    "collapsed": false
   },
   "id": "a2872e4005ed52f0"
  },
  {
   "cell_type": "code",
   "execution_count": 10,
   "outputs": [],
   "source": [
    "EPOCH = 5\n",
    "PATH = \"model.pt\"\n",
    "LOSS = 0.4\n",
    "\n",
    "torch.save({\n",
    "            'epoch': EPOCH,\n",
    "            'model_state_dict': net.state_dict(),\n",
    "            'optimizer_state_dict': optimizer.state_dict(),\n",
    "            'loss': LOSS,\n",
    "            }, PATH)"
   ],
   "metadata": {
    "collapsed": false,
    "ExecuteTime": {
     "end_time": "2023-10-30T20:30:48.307906300Z",
     "start_time": "2023-10-30T20:30:48.299233700Z"
    }
   },
   "id": "9f6ef6e660a50db7"
  },
  {
   "cell_type": "markdown",
   "source": [
    "##### 일반 체크포인트 로드"
   ],
   "metadata": {
    "collapsed": false
   },
   "id": "5428ee0e8a386bd4"
  },
  {
   "cell_type": "code",
   "execution_count": 11,
   "outputs": [
    {
     "data": {
      "text/plain": "Net(\n  (conv1): Conv2d(3, 6, kernel_size=(5, 5), stride=(1, 1))\n  (pool): MaxPool2d(kernel_size=2, stride=2, padding=0, dilation=1, ceil_mode=False)\n  (conv2): Conv2d(6, 16, kernel_size=(5, 5), stride=(1, 1))\n  (fc1): Linear(in_features=400, out_features=120, bias=True)\n  (fc2): Linear(in_features=120, out_features=84, bias=True)\n  (fc3): Linear(in_features=84, out_features=10, bias=True)\n)"
     },
     "execution_count": 11,
     "metadata": {},
     "output_type": "execute_result"
    }
   ],
   "source": [
    "model = Net()\n",
    "optimizer = optim.SGD(model.parameters(), lr=0.001, momentum=0.9)\n",
    "\n",
    "checkpoint = torch.load(PATH)\n",
    "model.load_state_dict(checkpoint['model_state_dict'])\n",
    "optimizer.load_state_dict(checkpoint['optimizer_state_dict'])\n",
    "epoch = checkpoint['epoch']\n",
    "loss = checkpoint['loss']\n",
    "\n",
    "model.eval()\n",
    "# - or -\n",
    "model.train()"
   ],
   "metadata": {
    "collapsed": false,
    "ExecuteTime": {
     "end_time": "2023-10-30T20:30:54.427189Z",
     "start_time": "2023-10-30T20:30:54.409495400Z"
    }
   },
   "id": "e7ea8f9dc5bc846f"
  },
  {
   "cell_type": "markdown",
   "source": [
    "* 추론을 실행하기 전에 model.eval()을 호출하여 드롭아웃 및 배치 정규화 레이어를 평가 모드로 설정해야 함\n",
    "* 이 작업을 수행하지 않으면 일관되지 않은 추론 결과가 생성됨\n",
    "* 학습을 다시 시작하려면 model.train()을 호출하여 이러한 레이어가 학습 모드에 있는지 확인"
   ],
   "metadata": {
    "collapsed": false
   },
   "id": "5de5e7eaf4a8613e"
  },
  {
   "cell_type": "code",
   "execution_count": null,
   "outputs": [],
   "source": [],
   "metadata": {
    "collapsed": false
   },
   "id": "d0faf551451ecc44"
  }
 ],
 "metadata": {
  "kernelspec": {
   "display_name": "Python 3",
   "language": "python",
   "name": "python3"
  },
  "language_info": {
   "codemirror_mode": {
    "name": "ipython",
    "version": 2
   },
   "file_extension": ".py",
   "mimetype": "text/x-python",
   "name": "python",
   "nbconvert_exporter": "python",
   "pygments_lexer": "ipython2",
   "version": "2.7.6"
  }
 },
 "nbformat": 4,
 "nbformat_minor": 5
}
