{
 "cells": [
  {
   "cell_type": "code",
   "execution_count": 1,
   "id": "initial_id",
   "metadata": {
    "collapsed": true,
    "ExecuteTime": {
     "end_time": "2023-10-30T16:25:02.466689700Z",
     "start_time": "2023-10-30T16:25:00.787447600Z"
    }
   },
   "outputs": [],
   "source": [
    "import torch\n",
    "import numpy as np"
   ]
  },
  {
   "cell_type": "code",
   "execution_count": 6,
   "outputs": [
    {
     "name": "stdout",
     "output_type": "stream",
     "text": [
      "tensor([[1, 2],\n",
      "        [3, 4]])\n"
     ]
    }
   ],
   "source": [
    "# 텐서 초기 설정\n",
    "# 데이터 직접 생성\n",
    "data = [[1, 2],[3, 4]]\n",
    "x_data = torch.tensor(data)\n",
    "print(x_data)"
   ],
   "metadata": {
    "collapsed": false,
    "ExecuteTime": {
     "end_time": "2023-10-30T16:27:18.337196100Z",
     "start_time": "2023-10-30T16:27:18.322299300Z"
    }
   },
   "id": "712098c4d8112575"
  },
  {
   "cell_type": "code",
   "execution_count": 7,
   "outputs": [
    {
     "name": "stdout",
     "output_type": "stream",
     "text": [
      "tensor([[1, 2],\n",
      "        [3, 4]], dtype=torch.int32)\n"
     ]
    }
   ],
   "source": [
    "# Numpy 배열에서 생성\n",
    "np_array = np.array(data)\n",
    "x_np = torch.from_numpy(np_array)\n",
    "print(x_np)"
   ],
   "metadata": {
    "collapsed": false,
    "ExecuteTime": {
     "end_time": "2023-10-30T16:27:25.873888700Z",
     "start_time": "2023-10-30T16:27:25.857672200Z"
    }
   },
   "id": "785c154b17d8c0c0"
  },
  {
   "cell_type": "code",
   "execution_count": 8,
   "outputs": [
    {
     "name": "stdout",
     "output_type": "stream",
     "text": [
      "Ones Tensor: \n",
      " tensor([[1, 1],\n",
      "        [1, 1]]) \n",
      "\n",
      "Random Tensor: \n",
      " tensor([[0.3428, 0.2366],\n",
      "        [0.2362, 0.6119]]) \n"
     ]
    }
   ],
   "source": [
    "# 다른 텐서에서 생성\n",
    "x_ones = torch.ones_like(x_data) # x_data의 속성을 유지합니다.\n",
    "print(f\"Ones Tensor: \\n {x_ones} \\n\")\n",
    "\n",
    "x_rand = torch.rand_like(x_data, dtype=torch.float) # x_data의 데이터 유형을 재정의합니다.\n",
    "print(f\"Random Tensor: \\n {x_rand} \\n\")"
   ],
   "metadata": {
    "collapsed": false,
    "ExecuteTime": {
     "end_time": "2023-10-30T16:27:45.596280300Z",
     "start_time": "2023-10-30T16:27:45.577264100Z"
    }
   },
   "id": "1e058358cbf7f1dc"
  },
  {
   "cell_type": "code",
   "execution_count": 9,
   "outputs": [
    {
     "name": "stdout",
     "output_type": "stream",
     "text": [
      "Random Tensor: \n",
      " tensor([[0.4532, 0.6277, 0.4299],\n",
      "        [0.0552, 0.6276, 0.9368]]) \n",
      "\n",
      "Ones Tensor: \n",
      " tensor([[1., 1., 1.],\n",
      "        [1., 1., 1.]]) \n",
      "\n",
      "Zeros Tensor: \n",
      " tensor([[0., 0., 0.],\n",
      "        [0., 0., 0.]])\n"
     ]
    }
   ],
   "source": [
    "# 임의 또는 상수 값으로 생성\n",
    "shape = (2,3,)\n",
    "rand_tensor = torch.rand(shape)\n",
    "ones_tensor = torch.ones(shape)\n",
    "zeros_tensor = torch.zeros(shape)\n",
    "\n",
    "print(f\"Random Tensor: \\n {rand_tensor} \\n\")\n",
    "print(f\"Ones Tensor: \\n {ones_tensor} \\n\")\n",
    "print(f\"Zeros Tensor: \\n {zeros_tensor}\")"
   ],
   "metadata": {
    "collapsed": false,
    "ExecuteTime": {
     "end_time": "2023-10-30T16:33:46.935384800Z",
     "start_time": "2023-10-30T16:33:46.927772900Z"
    }
   },
   "id": "888473b43b317d7d"
  },
  {
   "cell_type": "markdown",
   "source": [
    "####  텐서의 속성"
   ],
   "metadata": {
    "collapsed": false
   },
   "id": "4fd5c3cff5f60b19"
  },
  {
   "cell_type": "code",
   "execution_count": 10,
   "outputs": [
    {
     "name": "stdout",
     "output_type": "stream",
     "text": [
      "Shape of tensor: torch.Size([3, 4])\n",
      "Datatype of tensor: torch.float32\n",
      "Device tensor is stored on: cpu\n"
     ]
    }
   ],
   "source": [
    "tensor = torch.rand(3,4)\n",
    "\n",
    "print(f\"Shape of tensor: {tensor.shape}\")\n",
    "print(f\"Datatype of tensor: {tensor.dtype}\")\n",
    "print(f\"Device tensor is stored on: {tensor.device}\")"
   ],
   "metadata": {
    "collapsed": false,
    "ExecuteTime": {
     "end_time": "2023-10-30T16:36:27.876398100Z",
     "start_time": "2023-10-30T16:36:27.859336100Z"
    }
   },
   "id": "b5ea44a1b4a082a3"
  },
  {
   "cell_type": "markdown",
   "source": [
    "#### 텐서 연산"
   ],
   "metadata": {
    "collapsed": false
   },
   "id": "4c2a35dba76ad442"
  },
  {
   "cell_type": "code",
   "execution_count": 11,
   "outputs": [],
   "source": [
    "# 가능한 경우 텐서를 GPU로 옮깁니다.\n",
    "if torch.cuda.is_available():\n",
    "    tensor = tensor.to(\"cuda\")"
   ],
   "metadata": {
    "collapsed": false,
    "ExecuteTime": {
     "end_time": "2023-10-30T16:57:13.290564900Z",
     "start_time": "2023-10-30T16:57:13.270686200Z"
    }
   },
   "id": "59927c34d1faee26"
  },
  {
   "cell_type": "markdown",
   "source": [
    "####  표준 NumPy와 유사한 인덱싱 및 슬라이싱"
   ],
   "metadata": {
    "collapsed": false
   },
   "id": "187e0a21da149cd5"
  },
  {
   "cell_type": "code",
   "execution_count": 12,
   "outputs": [
    {
     "name": "stdout",
     "output_type": "stream",
     "text": [
      "First row: tensor([1., 1., 1., 1.])\n",
      "First column: tensor([1., 1., 1., 1.])\n",
      "Last column: tensor([1., 1., 1., 1.])\n",
      "tensor([[1., 0., 1., 1.],\n",
      "        [1., 0., 1., 1.],\n",
      "        [1., 0., 1., 1.],\n",
      "        [1., 0., 1., 1.]])\n"
     ]
    }
   ],
   "source": [
    "tensor = torch.ones(4, 4)\n",
    "print(f\"First row: {tensor[0]}\")\n",
    "print(f\"First column: {tensor[:, 0]}\")\n",
    "print(f\"Last column: {tensor[..., -1]}\")\n",
    "tensor[:,1] = 0\n",
    "print(tensor)"
   ],
   "metadata": {
    "collapsed": false,
    "ExecuteTime": {
     "end_time": "2023-10-30T17:05:54.293901900Z",
     "start_time": "2023-10-30T17:05:54.277311700Z"
    }
   },
   "id": "9f09594c303e683f"
  },
  {
   "cell_type": "markdown",
   "source": [
    "#### 텐서 연결하기"
   ],
   "metadata": {
    "collapsed": false
   },
   "id": "bc177eec2adeda7d"
  },
  {
   "cell_type": "code",
   "execution_count": 13,
   "outputs": [
    {
     "name": "stdout",
     "output_type": "stream",
     "text": [
      "tensor([[1., 0., 1., 1., 1., 0., 1., 1., 1., 0., 1., 1.],\n",
      "        [1., 0., 1., 1., 1., 0., 1., 1., 1., 0., 1., 1.],\n",
      "        [1., 0., 1., 1., 1., 0., 1., 1., 1., 0., 1., 1.],\n",
      "        [1., 0., 1., 1., 1., 0., 1., 1., 1., 0., 1., 1.]])\n"
     ]
    }
   ],
   "source": [
    "t1 = torch.cat([tensor, tensor, tensor], dim=1)\n",
    "print(t1)"
   ],
   "metadata": {
    "collapsed": false,
    "ExecuteTime": {
     "end_time": "2023-10-30T17:12:06.537214400Z",
     "start_time": "2023-10-30T17:12:06.520659800Z"
    }
   },
   "id": "1967e7116e3c7d2b"
  },
  {
   "cell_type": "markdown",
   "source": [
    "#### 산술 연산\n",
    "* @, torch.matmul() : 행렬곱\n",
    "* *, mul : 요소별 곱"
   ],
   "metadata": {
    "collapsed": false
   },
   "id": "87cf68f76ff7b0d2"
  },
  {
   "cell_type": "code",
   "execution_count": 14,
   "outputs": [
    {
     "data": {
      "text/plain": "tensor([[1., 0., 1., 1.],\n        [1., 0., 1., 1.],\n        [1., 0., 1., 1.],\n        [1., 0., 1., 1.]])"
     },
     "execution_count": 14,
     "metadata": {},
     "output_type": "execute_result"
    }
   ],
   "source": [
    "# 두 텐서 사이의 행렬 곱셈을 계산합니다. y1, y2, y3은 동일한 값을 갖습니다.\n",
    "# ``tensor.T``텐서의 전치(Transpose)를 반환합니다.\n",
    "y1 = tensor @ tensor.T\n",
    "y2 = tensor.matmul(tensor.T)\n",
    "\n",
    "y3 = torch.rand_like(y1) # rand_like는 입력 텐서와 같은 0~1의 균일분포로 값을 채운 텐서를 반환\n",
    "torch.matmul(tensor, tensor.T, out=y3)\n",
    "\n",
    "\n",
    "# 이렇게 하면 요소별 곱이 계산됩니다. z1, z2, z3는 동일한 값을 갖습니다.\n",
    "z1 = tensor * tensor\n",
    "z2 = tensor.mul(tensor)\n",
    "\n",
    "z3 = torch.rand_like(tensor)\n",
    "torch.mul(tensor, tensor, out=z3)"
   ],
   "metadata": {
    "collapsed": false,
    "ExecuteTime": {
     "end_time": "2023-10-30T17:16:44.352043600Z",
     "start_time": "2023-10-30T17:16:44.334321Z"
    }
   },
   "id": "1844b9a1d63856a0"
  },
  {
   "cell_type": "code",
   "execution_count": 20,
   "outputs": [
    {
     "name": "stdout",
     "output_type": "stream",
     "text": [
      "tensor([[3., 3., 3., 3.],\n",
      "        [3., 3., 3., 3.],\n",
      "        [3., 3., 3., 3.],\n",
      "        [3., 3., 3., 3.]])\n",
      "tensor([[1., 0., 1., 1.],\n",
      "        [1., 0., 1., 1.],\n",
      "        [1., 0., 1., 1.],\n",
      "        [1., 0., 1., 1.]])\n"
     ]
    }
   ],
   "source": [
    "print(y1)\n",
    "print(z1)"
   ],
   "metadata": {
    "collapsed": false,
    "ExecuteTime": {
     "end_time": "2023-10-30T17:19:58.237185Z",
     "start_time": "2023-10-30T17:19:58.219920400Z"
    }
   },
   "id": "98f9f4274f8646d8"
  },
  {
   "cell_type": "markdown",
   "source": [
    "#### 단일 엘리먼트 텐서\n",
    "* 텐서의 모든 값을 하나의 값으로 집계하는 등의 단일 엘리먼트 텐서가 있는 경우 item()을 사용하여 이를 Python 숫자 자료형 값으로 변환할 수 있습니다."
   ],
   "metadata": {
    "collapsed": false
   },
   "id": "3e34fea0fe021e78"
  },
  {
   "cell_type": "code",
   "execution_count": 23,
   "outputs": [
    {
     "name": "stdout",
     "output_type": "stream",
     "text": [
      "tensor(12.)\n",
      "12.0 <class 'float'>\n"
     ]
    }
   ],
   "source": [
    "agg = tensor.sum() # 합계\n",
    "print(agg)\n",
    "agg_item = agg.item() # 파이썬의 숫자 자료형으로 변환\n",
    "print(agg_item, type(agg_item))"
   ],
   "metadata": {
    "collapsed": false,
    "ExecuteTime": {
     "end_time": "2023-10-30T17:22:03.672086300Z",
     "start_time": "2023-10-30T17:22:03.657204500Z"
    }
   },
   "id": "d6de689947aed9dd"
  },
  {
   "cell_type": "markdown",
   "source": [
    "#### 제자리 연산(In-place operations)\n",
    "* 결과를 피연산자에 저장하는 연산"
   ],
   "metadata": {
    "collapsed": false
   },
   "id": "e836aa73d17b44a2"
  },
  {
   "cell_type": "code",
   "execution_count": 24,
   "outputs": [
    {
     "name": "stdout",
     "output_type": "stream",
     "text": [
      "tensor([[1., 0., 1., 1.],\n",
      "        [1., 0., 1., 1.],\n",
      "        [1., 0., 1., 1.],\n",
      "        [1., 0., 1., 1.]]) \n",
      "\n",
      "tensor([[6., 5., 6., 6.],\n",
      "        [6., 5., 6., 6.],\n",
      "        [6., 5., 6., 6.],\n",
      "        [6., 5., 6., 6.]])\n"
     ]
    }
   ],
   "source": [
    "print(f\"{tensor} \\n\")\n",
    "tensor.add_(5)\n",
    "print(tensor)"
   ],
   "metadata": {
    "collapsed": false,
    "ExecuteTime": {
     "end_time": "2023-10-30T17:30:32.535004500Z",
     "start_time": "2023-10-30T17:30:32.525839100Z"
    }
   },
   "id": "d4171091fe96b511"
  },
  {
   "cell_type": "markdown",
   "source": [
    "## NumPy와의 브리지"
   ],
   "metadata": {
    "collapsed": false
   },
   "id": "3352ec60acbceb17"
  },
  {
   "cell_type": "markdown",
   "source": [
    "#### Tensor에서 NumPy 배열로 변환"
   ],
   "metadata": {
    "collapsed": false
   },
   "id": "de42052fc8942ba1"
  },
  {
   "cell_type": "code",
   "execution_count": 25,
   "outputs": [
    {
     "name": "stdout",
     "output_type": "stream",
     "text": [
      "t: tensor([1., 1., 1., 1., 1.])\n",
      "n: [1. 1. 1. 1. 1.]\n"
     ]
    }
   ],
   "source": [
    "t = torch.ones(5)\n",
    "print(f\"t: {t}\")\n",
    "n = t.numpy()\n",
    "print(f\"n: {n}\")"
   ],
   "metadata": {
    "collapsed": false,
    "ExecuteTime": {
     "end_time": "2023-10-30T17:31:23.580181200Z",
     "start_time": "2023-10-30T17:31:23.570202300Z"
    }
   },
   "id": "970b6f09c62463a4"
  },
  {
   "cell_type": "code",
   "execution_count": 26,
   "outputs": [
    {
     "name": "stdout",
     "output_type": "stream",
     "text": [
      "t: tensor([2., 2., 2., 2., 2.])\n",
      "n: [2. 2. 2. 2. 2.]\n"
     ]
    }
   ],
   "source": [
    "t.add_(1)\n",
    "print(f\"t: {t}\")\n",
    "print(f\"n: {n}\")"
   ],
   "metadata": {
    "collapsed": false,
    "ExecuteTime": {
     "end_time": "2023-10-30T17:34:19.602492Z",
     "start_time": "2023-10-30T17:34:19.592068200Z"
    }
   },
   "id": "6fa1f3276b121ebe"
  },
  {
   "cell_type": "markdown",
   "source": [
    "#### NumPy 배열을 텐서로 변환"
   ],
   "metadata": {
    "collapsed": false
   },
   "id": "1cf37bb6e1456fd7"
  },
  {
   "cell_type": "code",
   "execution_count": 27,
   "outputs": [],
   "source": [
    "n = np.ones(5)\n",
    "t = torch.from_numpy(n)"
   ],
   "metadata": {
    "collapsed": false,
    "ExecuteTime": {
     "end_time": "2023-10-30T17:35:52.671592100Z",
     "start_time": "2023-10-30T17:35:52.662218800Z"
    }
   },
   "id": "77c198a570f38550"
  },
  {
   "cell_type": "code",
   "execution_count": 28,
   "outputs": [
    {
     "name": "stdout",
     "output_type": "stream",
     "text": [
      "t: tensor([2., 2., 2., 2., 2.], dtype=torch.float64)\n",
      "n: [2. 2. 2. 2. 2.]\n"
     ]
    }
   ],
   "source": [
    "np.add(n, 1, out=n)\n",
    "print(f\"t: {t}\")\n",
    "print(f\"n: {n}\")"
   ],
   "metadata": {
    "collapsed": false,
    "ExecuteTime": {
     "end_time": "2023-10-30T17:35:55.934600Z",
     "start_time": "2023-10-30T17:35:55.917745400Z"
    }
   },
   "id": "f46aeba91c3da845"
  },
  {
   "cell_type": "code",
   "execution_count": null,
   "outputs": [],
   "source": [],
   "metadata": {
    "collapsed": false
   },
   "id": "76376fbb629caa9e"
  }
 ],
 "metadata": {
  "kernelspec": {
   "display_name": "Python 3",
   "language": "python",
   "name": "python3"
  },
  "language_info": {
   "codemirror_mode": {
    "name": "ipython",
    "version": 2
   },
   "file_extension": ".py",
   "mimetype": "text/x-python",
   "name": "python",
   "nbconvert_exporter": "python",
   "pygments_lexer": "ipython2",
   "version": "2.7.6"
  }
 },
 "nbformat": 4,
 "nbformat_minor": 5
}
