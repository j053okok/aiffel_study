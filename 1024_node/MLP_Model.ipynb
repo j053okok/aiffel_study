{
 "cells": [
  {
   "cell_type": "code",
   "execution_count": 1,
   "id": "initial_id",
   "metadata": {
    "collapsed": true,
    "ExecuteTime": {
     "end_time": "2023-10-23T18:56:29.724631800Z",
     "start_time": "2023-10-23T18:56:27.253991800Z"
    }
   },
   "outputs": [],
   "source": [
    "import sys\n",
    "import tensorflow as tf\n",
    "import numpy as np"
   ]
  },
  {
   "cell_type": "code",
   "execution_count": 2,
   "outputs": [
    {
     "name": "stdout",
     "output_type": "stream",
     "text": [
      "Downloading data from https://storage.googleapis.com/tensorflow/tf-keras-datasets/mnist.npz\n",
      "11490434/11490434 [==============================] - 1s 0us/step\n",
      "(60000, 28, 28)\n",
      "(60000,)\n",
      "학습셋 이미지 수 : 60000 개\n",
      "테스트셋 이미지 수 : 10000 개\n"
     ]
    }
   ],
   "source": [
    "# MNIST 데이터셋 불러오기\n",
    "(X_train, Y_train), (X_test, Y_test) = tf.keras.datasets.mnist.load_data()\n",
    "\n",
    "# shape 확인하기\n",
    "print(X_train.shape) # 28 x 28의 이미지가 60,000장\n",
    "print(Y_train.shape) ## [ 5, 1, 2, 3, 4, 4,   .... ]\n",
    "print(\"학습셋 이미지 수 : %d 개\" % (X_train.shape[0]))\n",
    "print(\"테스트셋 이미지 수 : %d 개\" % (X_test.shape[0]))"
   ],
   "metadata": {
    "collapsed": false,
    "ExecuteTime": {
     "end_time": "2023-10-23T18:56:30.705278900Z",
     "start_time": "2023-10-23T18:56:29.725380900Z"
    }
   },
   "id": "66e51202cd11724"
  },
  {
   "cell_type": "code",
   "execution_count": 3,
   "outputs": [
    {
     "name": "stdout",
     "output_type": "stream",
     "text": [
      "5\n"
     ]
    },
    {
     "data": {
      "text/plain": "<Figure size 640x480 with 1 Axes>",
      "image/png": "[encoded data removed]"
     },
     "metadata": {},
     "output_type": "display_data"
    }
   ],
   "source": [
    "# MNIST 데이터를 시각화하기 \n",
    "import matplotlib.pyplot as plt\n",
    "print(Y_train[0])\n",
    "plt.imshow(X_train[0], cmap='Greys') # 흑백 이미지로 확인\n",
    "plt.show()"
   ],
   "metadata": {
    "collapsed": false,
    "ExecuteTime": {
     "end_time": "2023-10-23T18:58:51.890636700Z",
     "start_time": "2023-10-23T18:58:51.750902900Z"
    }
   },
   "id": "56370550211a7331"
  },
  {
   "cell_type": "code",
   "execution_count": 4,
   "outputs": [
    {
     "name": "stdout",
     "output_type": "stream",
     "text": [
      "0\t0\t0\t0\t0\t0\t0\t0\t0\t0\t0\t0\t0\t0\t0\t0\t0\t0\t0\t0\t0\t0\t0\t0\t0\t0\t0\t0\t\n",
      "0\t0\t0\t0\t0\t0\t0\t0\t0\t0\t0\t0\t0\t0\t0\t0\t0\t0\t0\t0\t0\t0\t0\t0\t0\t0\t0\t0\t\n",
      "0\t0\t0\t0\t0\t0\t0\t0\t0\t0\t0\t0\t0\t0\t0\t0\t0\t0\t0\t0\t0\t0\t0\t0\t0\t0\t0\t0\t\n",
      "0\t0\t0\t0\t0\t0\t0\t0\t0\t0\t0\t0\t0\t0\t0\t0\t0\t0\t0\t0\t0\t0\t0\t0\t0\t0\t0\t0\t\n",
      "0\t0\t0\t0\t0\t0\t0\t0\t0\t0\t0\t0\t0\t0\t0\t0\t0\t0\t0\t0\t0\t0\t0\t0\t0\t0\t0\t0\t\n",
      "0\t0\t0\t0\t0\t0\t0\t0\t0\t0\t0\t0\t3\t18\t18\t18\t126\t136\t175\t26\t166\t255\t247\t127\t0\t0\t0\t0\t\n",
      "0\t0\t0\t0\t0\t0\t0\t0\t30\t36\t94\t154\t170\t253\t253\t253\t253\t253\t225\t172\t253\t242\t195\t64\t0\t0\t0\t0\t\n",
      "0\t0\t0\t0\t0\t0\t0\t49\t238\t253\t253\t253\t253\t253\t253\t253\t253\t251\t93\t82\t82\t56\t39\t0\t0\t0\t0\t0\t\n",
      "0\t0\t0\t0\t0\t0\t0\t18\t219\t253\t253\t253\t253\t253\t198\t182\t247\t241\t0\t0\t0\t0\t0\t0\t0\t0\t0\t0\t\n",
      "0\t0\t0\t0\t0\t0\t0\t0\t80\t156\t107\t253\t253\t205\t11\t0\t43\t154\t0\t0\t0\t0\t0\t0\t0\t0\t0\t0\t\n",
      "0\t0\t0\t0\t0\t0\t0\t0\t0\t14\t1\t154\t253\t90\t0\t0\t0\t0\t0\t0\t0\t0\t0\t0\t0\t0\t0\t0\t\n",
      "0\t0\t0\t0\t0\t0\t0\t0\t0\t0\t0\t139\t253\t190\t2\t0\t0\t0\t0\t0\t0\t0\t0\t0\t0\t0\t0\t0\t\n",
      "0\t0\t0\t0\t0\t0\t0\t0\t0\t0\t0\t11\t190\t253\t70\t0\t0\t0\t0\t0\t0\t0\t0\t0\t0\t0\t0\t0\t\n",
      "0\t0\t0\t0\t0\t0\t0\t0\t0\t0\t0\t0\t35\t241\t225\t160\t108\t1\t0\t0\t0\t0\t0\t0\t0\t0\t0\t0\t\n",
      "0\t0\t0\t0\t0\t0\t0\t0\t0\t0\t0\t0\t0\t81\t240\t253\t253\t119\t25\t0\t0\t0\t0\t0\t0\t0\t0\t0\t\n",
      "0\t0\t0\t0\t0\t0\t0\t0\t0\t0\t0\t0\t0\t0\t45\t186\t253\t253\t150\t27\t0\t0\t0\t0\t0\t0\t0\t0\t\n",
      "0\t0\t0\t0\t0\t0\t0\t0\t0\t0\t0\t0\t0\t0\t0\t16\t93\t252\t253\t187\t0\t0\t0\t0\t0\t0\t0\t0\t\n",
      "0\t0\t0\t0\t0\t0\t0\t0\t0\t0\t0\t0\t0\t0\t0\t0\t0\t249\t253\t249\t64\t0\t0\t0\t0\t0\t0\t0\t\n",
      "0\t0\t0\t0\t0\t0\t0\t0\t0\t0\t0\t0\t0\t0\t46\t130\t183\t253\t253\t207\t2\t0\t0\t0\t0\t0\t0\t0\t\n",
      "0\t0\t0\t0\t0\t0\t0\t0\t0\t0\t0\t0\t39\t148\t229\t253\t253\t253\t250\t182\t0\t0\t0\t0\t0\t0\t0\t0\t\n",
      "0\t0\t0\t0\t0\t0\t0\t0\t0\t0\t24\t114\t221\t253\t253\t253\t253\t201\t78\t0\t0\t0\t0\t0\t0\t0\t0\t0\t\n",
      "0\t0\t0\t0\t0\t0\t0\t0\t23\t66\t213\t253\t253\t253\t253\t198\t81\t2\t0\t0\t0\t0\t0\t0\t0\t0\t0\t0\t\n",
      "0\t0\t0\t0\t0\t0\t18\t171\t219\t253\t253\t253\t253\t195\t80\t9\t0\t0\t0\t0\t0\t0\t0\t0\t0\t0\t0\t0\t\n",
      "0\t0\t0\t0\t55\t172\t226\t253\t253\t253\t253\t244\t133\t11\t0\t0\t0\t0\t0\t0\t0\t0\t0\t0\t0\t0\t0\t0\t\n",
      "0\t0\t0\t0\t136\t253\t253\t253\t212\t135\t132\t16\t0\t0\t0\t0\t0\t0\t0\t0\t0\t0\t0\t0\t0\t0\t0\t0\t\n",
      "0\t0\t0\t0\t0\t0\t0\t0\t0\t0\t0\t0\t0\t0\t0\t0\t0\t0\t0\t0\t0\t0\t0\t0\t0\t0\t0\t0\t\n",
      "0\t0\t0\t0\t0\t0\t0\t0\t0\t0\t0\t0\t0\t0\t0\t0\t0\t0\t0\t0\t0\t0\t0\t0\t0\t0\t0\t0\t\n",
      "0\t0\t0\t0\t0\t0\t0\t0\t0\t0\t0\t0\t0\t0\t0\t0\t0\t0\t0\t0\t0\t0\t0\t0\t0\t0\t0\t0\t\n"
     ]
    }
   ],
   "source": [
    "# 데이터를 직접 들여다보기\n",
    "for x in X_train[0]:\n",
    "    for i in x:\n",
    "        sys.stdout.write('%d\\t' % i)\n",
    "    sys.stdout.write('\\n')"
   ],
   "metadata": {
    "collapsed": false,
    "ExecuteTime": {
     "end_time": "2023-10-23T18:59:04.540416100Z",
     "start_time": "2023-10-23T18:59:04.530454200Z"
    }
   },
   "id": "c4d1d346e720cb20"
  },
  {
   "cell_type": "code",
   "execution_count": 5,
   "outputs": [],
   "source": [
    "# MLP 구조에 적절한 input의 형태로 변형하기\n",
    "## reshape()을 사용하여 2차원의 데이터를 1차원으로 변형\n",
    "## 1차원으로 변형함과 동시에 Normalization\n",
    "X_train = X_train.reshape(X_train.shape[0], 784).astype('float32') # 28 x 28= 784\n",
    "X_test = X_test.reshape(X_test.shape[0], 784).astype('float32')"
   ],
   "metadata": {
    "collapsed": false,
    "ExecuteTime": {
     "end_time": "2023-10-23T19:00:41.759302600Z",
     "start_time": "2023-10-23T19:00:41.706919200Z"
    }
   },
   "id": "23659c4b8a444607"
  },
  {
   "cell_type": "code",
   "execution_count": 6,
   "outputs": [],
   "source": [
    "# Label 값을 One-hot encoding 하기 \n",
    "# Multi-Class Classfication이므로 keras.utils.to_categorical을 사용\n",
    "Y_train = tf.keras.utils.to_categorical(Y_train)\n",
    "Y_test = tf.keras.utils.to_categorical(Y_test)"
   ],
   "metadata": {
    "collapsed": false,
    "ExecuteTime": {
     "end_time": "2023-10-23T19:01:57.492305Z",
     "start_time": "2023-10-23T19:01:57.483436800Z"
    }
   },
   "id": "7fdcbeebd90a3d4f"
  },
  {
   "cell_type": "code",
   "execution_count": 7,
   "outputs": [
    {
     "name": "stdout",
     "output_type": "stream",
     "text": [
      "(60000, 10)\n",
      "(10000, 10)\n",
      "[0. 0. 0. 0. 0. 1. 0. 0. 0. 0.]\n"
     ]
    }
   ],
   "source": [
    "print(Y_train.shape)\n",
    "print(Y_test.shape)\n",
    "print(Y_train[0])"
   ],
   "metadata": {
    "collapsed": false,
    "ExecuteTime": {
     "end_time": "2023-10-23T19:02:04.369795200Z",
     "start_time": "2023-10-23T19:02:04.360300Z"
    }
   },
   "id": "df4d5e0b3e11011b"
  },
  {
   "cell_type": "code",
   "execution_count": 8,
   "outputs": [
    {
     "name": "stdout",
     "output_type": "stream",
     "text": [
      "Model: \"model\"\n",
      "_________________________________________________________________\n",
      " Layer (type)                Output Shape              Param #   \n",
      "=================================================================\n",
      " input_1 (InputLayer)        [(None, 784)]             0         \n",
      "                                                                 \n",
      " dense (Dense)               (None, 512)               401920    \n",
      "                                                                 \n",
      " dense_1 (Dense)             (None, 512)               262656    \n",
      "                                                                 \n",
      " dense_2 (Dense)             (None, 10)                5130      \n",
      "                                                                 \n",
      "=================================================================\n",
      "Total params: 669706 (2.55 MB)\n",
      "Trainable params: 669706 (2.55 MB)\n",
      "Non-trainable params: 0 (0.00 Byte)\n",
      "_________________________________________________________________\n"
     ]
    }
   ],
   "source": [
    "# perceptron에서 나온 출력을 확률 값으로 만들기 위해 활성화 함수로 softmax를 사용해야 함\n",
    "\n",
    "# 모델 설계하기 \n",
    "input_layer = tf.keras.layers.Input(shape=(784,)) # input layer, input의 사이즈에 맞게 shape을 지정하는 것이 중요\n",
    "x = tf.keras.layers.Dense(512, activation='relu')(input_layer) # hidden layer 1, 512개의 perceptron으로 구성된 fully connted layer, activation 함수는 relu\n",
    "x = tf.keras.layers.Dense(512, activation='relu')(x) # hidden layer 2\n",
    "\n",
    "# 분류해야 하는 class 0~9 (10개) -> 따라서 최종 layer의 perceptron은 10개\n",
    "out_layer= tf.keras.layers.Dense(10, activation='softmax')(x)\n",
    "\n",
    "model = tf.keras.Model(inputs=[input_layer], outputs=[out_layer])\n",
    "model.summary()"
   ],
   "metadata": {
    "collapsed": false,
    "ExecuteTime": {
     "end_time": "2023-10-23T19:04:18.462723500Z",
     "start_time": "2023-10-23T19:04:18.396328500Z"
    }
   },
   "id": "d486b166cf67a4e9"
  },
  {
   "cell_type": "code",
   "execution_count": 9,
   "outputs": [],
   "source": [
    "# 모델의 loss 함수, optimizer, metric을 설정하고 모델을 compile하기\n",
    "loss=tf.keras.losses.categorical_crossentropy\n",
    "optimizer = tf.keras.optimizers.Adam(learning_rate = 0.001)\n",
    "metric=tf.keras.metrics.categorical_accuracy\n",
    "model.compile(loss = loss,\n",
    "              optimizer = optimizer,\n",
    "              metrics = [metric])"
   ],
   "metadata": {
    "collapsed": false,
    "ExecuteTime": {
     "end_time": "2023-10-23T19:18:15.592776500Z",
     "start_time": "2023-10-23T19:18:15.575661400Z"
    }
   },
   "id": "2573a99665bc036b"
  },
  {
   "cell_type": "code",
   "execution_count": 10,
   "outputs": [
    {
     "name": "stdout",
     "output_type": "stream",
     "text": [
      "Epoch 1/30\n",
      "48/48 [==============================] - 1s 16ms/step - loss: 19.7670 - categorical_accuracy: 0.7665 - val_loss: 1.4030 - val_categorical_accuracy: 0.9112\n",
      "Epoch 2/30\n",
      "48/48 [==============================] - 1s 13ms/step - loss: 0.9919 - categorical_accuracy: 0.9211 - val_loss: 0.7397 - val_categorical_accuracy: 0.9301\n",
      "Epoch 3/30\n",
      "48/48 [==============================] - 1s 13ms/step - loss: 0.4827 - categorical_accuracy: 0.9453 - val_loss: 0.6153 - val_categorical_accuracy: 0.9328\n",
      "Epoch 4/30\n",
      "48/48 [==============================] - 1s 13ms/step - loss: 0.2766 - categorical_accuracy: 0.9600 - val_loss: 0.5085 - val_categorical_accuracy: 0.9404\n",
      "Epoch 5/30\n",
      "48/48 [==============================] - 1s 13ms/step - loss: 0.1638 - categorical_accuracy: 0.9719 - val_loss: 0.4811 - val_categorical_accuracy: 0.9432\n",
      "Epoch 6/30\n",
      "48/48 [==============================] - 1s 13ms/step - loss: 0.1006 - categorical_accuracy: 0.9802 - val_loss: 0.4442 - val_categorical_accuracy: 0.9451\n",
      "Epoch 7/30\n",
      "48/48 [==============================] - 1s 13ms/step - loss: 0.0558 - categorical_accuracy: 0.9877 - val_loss: 0.4434 - val_categorical_accuracy: 0.9468\n",
      "Epoch 8/30\n",
      "48/48 [==============================] - 1s 13ms/step - loss: 0.0356 - categorical_accuracy: 0.9913 - val_loss: 0.4164 - val_categorical_accuracy: 0.9507\n",
      "Epoch 9/30\n",
      "48/48 [==============================] - 1s 13ms/step - loss: 0.0181 - categorical_accuracy: 0.9950 - val_loss: 0.4089 - val_categorical_accuracy: 0.9527\n",
      "Epoch 10/30\n",
      "48/48 [==============================] - 1s 12ms/step - loss: 0.0102 - categorical_accuracy: 0.9974 - val_loss: 0.4141 - val_categorical_accuracy: 0.9514\n",
      "Epoch 11/30\n",
      "48/48 [==============================] - 1s 12ms/step - loss: 0.0045 - categorical_accuracy: 0.9991 - val_loss: 0.4095 - val_categorical_accuracy: 0.9529\n",
      "Epoch 12/30\n",
      "48/48 [==============================] - 1s 13ms/step - loss: 0.0022 - categorical_accuracy: 0.9997 - val_loss: 0.4038 - val_categorical_accuracy: 0.9528\n",
      "Epoch 13/30\n",
      "48/48 [==============================] - 1s 13ms/step - loss: 0.0012 - categorical_accuracy: 0.9999 - val_loss: 0.4015 - val_categorical_accuracy: 0.9528\n",
      "Epoch 14/30\n",
      "48/48 [==============================] - 1s 12ms/step - loss: 7.2490e-04 - categorical_accuracy: 1.0000 - val_loss: 0.4008 - val_categorical_accuracy: 0.9536\n",
      "Epoch 15/30\n",
      "48/48 [==============================] - 1s 13ms/step - loss: 5.7081e-04 - categorical_accuracy: 1.0000 - val_loss: 0.4005 - val_categorical_accuracy: 0.9543\n",
      "Epoch 16/30\n",
      "48/48 [==============================] - 1s 13ms/step - loss: 4.9707e-04 - categorical_accuracy: 1.0000 - val_loss: 0.4005 - val_categorical_accuracy: 0.9545\n",
      "Epoch 17/30\n",
      "48/48 [==============================] - 1s 13ms/step - loss: 4.4788e-04 - categorical_accuracy: 1.0000 - val_loss: 0.4001 - val_categorical_accuracy: 0.9542\n",
      "Epoch 18/30\n",
      "48/48 [==============================] - 1s 13ms/step - loss: 3.9953e-04 - categorical_accuracy: 1.0000 - val_loss: 0.4002 - val_categorical_accuracy: 0.9545\n",
      "Epoch 19/30\n",
      "48/48 [==============================] - 1s 13ms/step - loss: 3.7177e-04 - categorical_accuracy: 1.0000 - val_loss: 0.3997 - val_categorical_accuracy: 0.9546\n",
      "Epoch 20/30\n",
      "48/48 [==============================] - 1s 13ms/step - loss: 3.4176e-04 - categorical_accuracy: 1.0000 - val_loss: 0.3996 - val_categorical_accuracy: 0.9546\n",
      "Epoch 21/30\n",
      "48/48 [==============================] - 1s 13ms/step - loss: 3.1735e-04 - categorical_accuracy: 1.0000 - val_loss: 0.3994 - val_categorical_accuracy: 0.9545\n",
      "Epoch 22/30\n",
      "48/48 [==============================] - 1s 12ms/step - loss: 2.9512e-04 - categorical_accuracy: 1.0000 - val_loss: 0.3995 - val_categorical_accuracy: 0.9544\n",
      "Epoch 23/30\n",
      "48/48 [==============================] - 1s 13ms/step - loss: 2.7706e-04 - categorical_accuracy: 1.0000 - val_loss: 0.3995 - val_categorical_accuracy: 0.9548\n",
      "Epoch 24/30\n",
      "48/48 [==============================] - 1s 13ms/step - loss: 2.6249e-04 - categorical_accuracy: 1.0000 - val_loss: 0.3994 - val_categorical_accuracy: 0.9546\n",
      "Epoch 25/30\n",
      "48/48 [==============================] - 1s 13ms/step - loss: 2.4567e-04 - categorical_accuracy: 1.0000 - val_loss: 0.3993 - val_categorical_accuracy: 0.9551\n",
      "Epoch 26/30\n",
      "48/48 [==============================] - 1s 12ms/step - loss: 2.3250e-04 - categorical_accuracy: 1.0000 - val_loss: 0.3988 - val_categorical_accuracy: 0.9551\n",
      "Epoch 27/30\n",
      "48/48 [==============================] - 1s 12ms/step - loss: 2.1934e-04 - categorical_accuracy: 1.0000 - val_loss: 0.3992 - val_categorical_accuracy: 0.9553\n",
      "Epoch 28/30\n",
      "48/48 [==============================] - 1s 13ms/step - loss: 2.0767e-04 - categorical_accuracy: 1.0000 - val_loss: 0.3992 - val_categorical_accuracy: 0.9555\n",
      "Epoch 29/30\n",
      "48/48 [==============================] - 1s 12ms/step - loss: 1.9685e-04 - categorical_accuracy: 1.0000 - val_loss: 0.3993 - val_categorical_accuracy: 0.9555\n",
      "Epoch 30/30\n",
      "48/48 [==============================] - 1s 13ms/step - loss: 1.8736e-04 - categorical_accuracy: 1.0000 - val_loss: 0.3991 - val_categorical_accuracy: 0.9557\n",
      "dict_keys(['loss', 'categorical_accuracy', 'val_loss', 'val_categorical_accuracy'])\n"
     ]
    }
   ],
   "source": [
    "# validation_data 옵션으로 테스트 데이터만 넣어주어서 검증 데이터 분류가 가능\n",
    "history = model.fit(X_train, Y_train, validation_split=0.2, epochs=30, batch_size=1000, verbose=1)\n",
    "print(history.history.keys())"
   ],
   "metadata": {
    "collapsed": false,
    "ExecuteTime": {
     "end_time": "2023-10-23T19:19:04.961761700Z",
     "start_time": "2023-10-23T19:18:45.961379Z"
    }
   },
   "id": "c65811552eabf5b2"
  },
  {
   "cell_type": "code",
   "execution_count": 11,
   "outputs": [
    {
     "name": "stdout",
     "output_type": "stream",
     "text": [
      "[19.766979217529297, 0.9919335842132568, 0.4827270209789276, 0.2766221761703491, 0.16377098858356476, 0.10064955800771713, 0.05575808882713318, 0.03555804863572121, 0.018053913488984108, 0.010198836214840412, 0.004512864630669355, 0.0022452492266893387, 0.0012065288610756397, 0.0007248962647281587, 0.0005708113312721252, 0.0004970676964148879, 0.0004478784103412181, 0.0003995302249677479, 0.0003717664221767336, 0.0003417561820242554, 0.0003173484292346984, 0.0002951193309854716, 0.00027706005494110286, 0.00026249312213622034, 0.000245667906710878, 0.0002325048262719065, 0.0002193387335864827, 0.0002076693926937878, 0.0001968503202078864, 0.00018735576304607093]\n"
     ]
    }
   ],
   "source": [
    "# Training loss 확인하기\n",
    "loss = history.history['loss']\n",
    "print(loss)"
   ],
   "metadata": {
    "collapsed": false,
    "ExecuteTime": {
     "end_time": "2023-10-23T19:20:55.868842500Z",
     "start_time": "2023-10-23T19:20:55.847586400Z"
    }
   },
   "id": "6a4dd103216e10bd"
  },
  {
   "cell_type": "code",
   "execution_count": 12,
   "outputs": [
    {
     "name": "stdout",
     "output_type": "stream",
     "text": [
      "[1.402961254119873, 0.7397336959838867, 0.61529940366745, 0.5084863901138306, 0.4811148941516876, 0.4442272484302521, 0.44340312480926514, 0.4163699448108673, 0.40893200039863586, 0.41406145691871643, 0.4095349907875061, 0.4038337767124176, 0.40147659182548523, 0.4008110761642456, 0.4004555642604828, 0.40053030848503113, 0.400053471326828, 0.40019237995147705, 0.39967215061187744, 0.39964038133621216, 0.3993871808052063, 0.3994666039943695, 0.39953699707984924, 0.3993966579437256, 0.3993069529533386, 0.39883020520210266, 0.3991873860359192, 0.39917880296707153, 0.39926066994667053, 0.3991232216358185]\n"
     ]
    }
   ],
   "source": [
    "# Q. Validation loss를 확인해 보세요.\n",
    "val_loss = history.history['val_loss']\n",
    "print(val_loss)"
   ],
   "metadata": {
    "collapsed": false,
    "ExecuteTime": {
     "end_time": "2023-10-23T19:26:55.778333800Z",
     "start_time": "2023-10-23T19:26:55.768950100Z"
    }
   },
   "id": "1ee0467396073048"
  },
  {
   "cell_type": "code",
   "execution_count": 13,
   "outputs": [
    {
     "name": "stdout",
     "output_type": "stream",
     "text": [
      "313/313 [==============================] - 0s 961us/step - loss: 0.4396 - categorical_accuracy: 0.9513\n",
      "\n",
      " Test Accuracy: 0.9513\n"
     ]
    }
   ],
   "source": [
    "# Test 데이터를 통해서 정확도 확인하기\n",
    "print(\"\\n Test Accuracy: %.4f\" % (model.evaluate(X_test, Y_test)[1]))"
   ],
   "metadata": {
    "collapsed": false,
    "ExecuteTime": {
     "end_time": "2023-10-23T19:27:12.736265300Z",
     "start_time": "2023-10-23T19:27:12.320197900Z"
    }
   },
   "id": "d23cb436ec26ecea"
  },
  {
   "cell_type": "code",
   "execution_count": 14,
   "outputs": [
    {
     "data": {
      "text/plain": "<Figure size 640x480 with 1 Axes>",
      "image/png": "[encoded data removed]"
     },
     "metadata": {},
     "output_type": "display_data"
    }
   ],
   "source": [
    "# 그래프로 표현\n",
    "x_len = np.arange(len(val_loss))\n",
    "plt.plot(x_len, val_loss, marker='.', c=\"red\", label='validation loss')\n",
    "plt.plot(x_len, loss, marker='.', c=\"blue\", label='training loss')\n",
    "\n",
    "# 그래프에 그리드를 주고 레이블을 표시\n",
    "plt.legend(loc='upper right')\n",
    "# plt.axis([0, 20, 0, 0.35])\n",
    "plt.grid()\n",
    "plt.xlabel('epoch')\n",
    "plt.ylabel('loss')\n",
    "plt.show()"
   ],
   "metadata": {
    "collapsed": false,
    "ExecuteTime": {
     "end_time": "2023-10-23T19:27:22.600990900Z",
     "start_time": "2023-10-23T19:27:22.468685300Z"
    }
   },
   "id": "3dfff76a430331c0"
  },
  {
   "cell_type": "markdown",
   "source": [
    "#### 모델에 임의의 변화주기"
   ],
   "metadata": {
    "collapsed": false
   },
   "id": "74e4a1129a863cfd"
  },
  {
   "cell_type": "code",
   "execution_count": 15,
   "outputs": [
    {
     "name": "stdout",
     "output_type": "stream",
     "text": [
      "Model: \"model_1\"\n",
      "_________________________________________________________________\n",
      " Layer (type)                Output Shape              Param #   \n",
      "=================================================================\n",
      " input_2 (InputLayer)        [(None, 784)]             0         \n",
      "                                                                 \n",
      " dense_3 (Dense)             (None, 512)               401920    \n",
      "                                                                 \n",
      " dense_4 (Dense)             (None, 256)               131328    \n",
      "                                                                 \n",
      " dropout (Dropout)           (None, 256)               0         \n",
      "                                                                 \n",
      " leaky_re_lu (LeakyReLU)     (None, 256)               0         \n",
      "                                                                 \n",
      " dense_5 (Dense)             (None, 10)                2570      \n",
      "                                                                 \n",
      "=================================================================\n",
      "Total params: 535818 (2.04 MB)\n",
      "Trainable params: 535818 (2.04 MB)\n",
      "Non-trainable params: 0 (0.00 Byte)\n",
      "_________________________________________________________________\n",
      "Epoch 1/30\n",
      "48/48 [==============================] - 1s 11ms/step - loss: 15.1549 - accuracy: 0.6376 - val_loss: 0.6956 - val_accuracy: 0.8155\n",
      "Epoch 2/30\n",
      "48/48 [==============================] - 0s 10ms/step - loss: 0.9627 - accuracy: 0.7488 - val_loss: 0.4812 - val_accuracy: 0.8868\n",
      "Epoch 3/30\n",
      "48/48 [==============================] - 1s 11ms/step - loss: 0.7237 - accuracy: 0.8109 - val_loss: 0.4125 - val_accuracy: 0.9068\n",
      "Epoch 4/30\n",
      "48/48 [==============================] - 0s 10ms/step - loss: 0.5843 - accuracy: 0.8413 - val_loss: 0.3681 - val_accuracy: 0.9164\n",
      "Epoch 5/30\n",
      "48/48 [==============================] - 0s 10ms/step - loss: 0.5004 - accuracy: 0.8626 - val_loss: 0.3310 - val_accuracy: 0.9274\n",
      "Epoch 6/30\n",
      "48/48 [==============================] - 0s 10ms/step - loss: 0.4356 - accuracy: 0.8759 - val_loss: 0.3126 - val_accuracy: 0.9343\n",
      "Epoch 7/30\n",
      "48/48 [==============================] - 0s 10ms/step - loss: 0.3851 - accuracy: 0.8906 - val_loss: 0.2870 - val_accuracy: 0.9365\n",
      "Epoch 8/30\n",
      "48/48 [==============================] - 1s 11ms/step - loss: 0.3471 - accuracy: 0.8992 - val_loss: 0.2873 - val_accuracy: 0.9398\n",
      "Epoch 9/30\n",
      "48/48 [==============================] - 0s 10ms/step - loss: 0.3056 - accuracy: 0.9076 - val_loss: 0.2673 - val_accuracy: 0.9429\n",
      "Epoch 10/30\n",
      "48/48 [==============================] - 0s 10ms/step - loss: 0.2880 - accuracy: 0.9127 - val_loss: 0.2794 - val_accuracy: 0.9463\n",
      "Epoch 11/30\n",
      "48/48 [==============================] - 0s 10ms/step - loss: 0.2563 - accuracy: 0.9208 - val_loss: 0.2561 - val_accuracy: 0.9474\n",
      "Epoch 12/30\n",
      "48/48 [==============================] - 0s 10ms/step - loss: 0.2362 - accuracy: 0.9256 - val_loss: 0.2409 - val_accuracy: 0.9485\n",
      "Epoch 13/30\n",
      "48/48 [==============================] - 0s 10ms/step - loss: 0.2229 - accuracy: 0.9306 - val_loss: 0.2508 - val_accuracy: 0.9517\n",
      "Epoch 14/30\n",
      "48/48 [==============================] - 0s 9ms/step - loss: 0.2021 - accuracy: 0.9342 - val_loss: 0.2347 - val_accuracy: 0.9528\n",
      "Epoch 15/30\n",
      "48/48 [==============================] - 0s 9ms/step - loss: 0.1866 - accuracy: 0.9392 - val_loss: 0.2405 - val_accuracy: 0.9554\n",
      "Epoch 16/30\n",
      "48/48 [==============================] - 0s 10ms/step - loss: 0.1763 - accuracy: 0.9435 - val_loss: 0.2452 - val_accuracy: 0.9572\n",
      "Epoch 17/30\n",
      "48/48 [==============================] - 0s 10ms/step - loss: 0.1621 - accuracy: 0.9467 - val_loss: 0.2388 - val_accuracy: 0.9567\n",
      "Epoch 18/30\n",
      "48/48 [==============================] - 0s 9ms/step - loss: 0.1513 - accuracy: 0.9491 - val_loss: 0.2382 - val_accuracy: 0.9582\n",
      "Epoch 19/30\n",
      "48/48 [==============================] - 0s 9ms/step - loss: 0.1439 - accuracy: 0.9510 - val_loss: 0.2458 - val_accuracy: 0.9584\n",
      "Epoch 20/30\n",
      "48/48 [==============================] - 0s 9ms/step - loss: 0.1391 - accuracy: 0.9530 - val_loss: 0.2451 - val_accuracy: 0.9598\n",
      "Epoch 21/30\n",
      "48/48 [==============================] - 0s 9ms/step - loss: 0.1329 - accuracy: 0.9555 - val_loss: 0.2403 - val_accuracy: 0.9608\n",
      "Epoch 22/30\n",
      "48/48 [==============================] - 0s 9ms/step - loss: 0.1235 - accuracy: 0.9578 - val_loss: 0.2449 - val_accuracy: 0.9599\n",
      "Epoch 23/30\n",
      "48/48 [==============================] - 0s 9ms/step - loss: 0.1196 - accuracy: 0.9589 - val_loss: 0.2341 - val_accuracy: 0.9607\n",
      "Epoch 24/30\n",
      "48/48 [==============================] - 0s 9ms/step - loss: 0.1139 - accuracy: 0.9611 - val_loss: 0.2342 - val_accuracy: 0.9628\n",
      "Epoch 25/30\n",
      "48/48 [==============================] - 0s 9ms/step - loss: 0.1079 - accuracy: 0.9624 - val_loss: 0.2232 - val_accuracy: 0.9649\n",
      "Epoch 26/30\n",
      "48/48 [==============================] - 0s 9ms/step - loss: 0.1033 - accuracy: 0.9642 - val_loss: 0.2503 - val_accuracy: 0.9641\n",
      "Epoch 27/30\n",
      "48/48 [==============================] - 0s 9ms/step - loss: 0.1065 - accuracy: 0.9646 - val_loss: 0.2233 - val_accuracy: 0.9664\n",
      "Epoch 28/30\n",
      "48/48 [==============================] - 0s 9ms/step - loss: 0.0994 - accuracy: 0.9670 - val_loss: 0.2332 - val_accuracy: 0.9652\n",
      "Epoch 29/30\n",
      "48/48 [==============================] - 0s 9ms/step - loss: 0.0908 - accuracy: 0.9687 - val_loss: 0.2530 - val_accuracy: 0.9648\n",
      "Epoch 30/30\n",
      "48/48 [==============================] - 0s 9ms/step - loss: 0.0881 - accuracy: 0.9699 - val_loss: 0.2425 - val_accuracy: 0.9664\n",
      "dict_keys(['loss', 'accuracy', 'val_loss', 'val_accuracy'])\n",
      "313/313 [==============================] - 0s 962us/step - loss: 0.2197 - accuracy: 0.9659\n",
      "\n",
      " Test Accuracy: 0.9659\n"
     ]
    }
   ],
   "source": [
    "# 모델 설계하기 \n",
    "input_layer = tf.keras.layers.Input(shape=(784,))\n",
    "x = tf.keras.layers.Dense(512, activation='relu')(input_layer) \n",
    "x = tf.keras.layers.Dense(256, activation='relu')(x)\n",
    "x = tf.keras.layers.Dropout(0.5)(x)\n",
    "x = tf.keras.layers.LeakyReLU(alpha=0.1)(x)\n",
    "\n",
    "out_layer= tf.keras.layers.Dense(10, activation='softmax')(x)\n",
    "\n",
    "model = tf.keras.Model(inputs=[input_layer], outputs=[out_layer])\n",
    "model.summary()\n",
    "\n",
    "model.compile(optimizer='adam', loss='categorical_crossentropy', metrics=['accuracy'])\n",
    "\n",
    "history = model.fit(X_train, Y_train, validation_split=0.2, epochs=30, batch_size=1000, verbose=1)\n",
    "print(history.history.keys())\n",
    "\n",
    "print(\"\\n Test Accuracy: %.4f\" % (model.evaluate(X_test, Y_test)[1]))"
   ],
   "metadata": {
    "collapsed": false,
    "ExecuteTime": {
     "end_time": "2023-10-23T19:34:38.432467400Z",
     "start_time": "2023-10-23T19:34:23.611850100Z"
    }
   },
   "id": "7cdfaefc36ad2d29"
  },
  {
   "cell_type": "code",
   "execution_count": 16,
   "outputs": [
    {
     "data": {
      "text/plain": "<Figure size 640x480 with 1 Axes>",
      "image/png": "[encoded data removed]"
     },
     "metadata": {},
     "output_type": "display_data"
    }
   ],
   "source": [
    "# 시각화\n",
    "x_len = np.arange(len(val_loss))\n",
    "plt.plot(x_len, val_loss, marker='.', c=\"red\", label='validation loss')\n",
    "plt.plot(x_len, loss, marker='.', c=\"blue\", label='training loss')\n",
    "\n",
    "plt.legend(loc='upper right')\n",
    "# plt.axis([0, 20, 0, 0.35])\n",
    "plt.grid()\n",
    "plt.xlabel('epoch')\n",
    "plt.ylabel('loss')\n",
    "plt.show()"
   ],
   "metadata": {
    "collapsed": false,
    "ExecuteTime": {
     "end_time": "2023-10-23T19:34:40.889739300Z",
     "start_time": "2023-10-23T19:34:40.759244800Z"
    }
   },
   "id": "e32510bddc3fdbdc"
  },
  {
   "cell_type": "code",
   "execution_count": null,
   "outputs": [],
   "source": [],
   "metadata": {
    "collapsed": false
   },
   "id": "d05e44c3a9194ac7"
  }
 ],
 "metadata": {
  "kernelspec": {
   "display_name": "Python 3",
   "language": "python",
   "name": "python3"
  },
  "language_info": {
   "codemirror_mode": {
    "name": "ipython",
    "version": 2
   },
   "file_extension": ".py",
   "mimetype": "text/x-python",
   "name": "python",
   "nbconvert_exporter": "python",
   "pygments_lexer": "ipython2",
   "version": "2.7.6"
  }
 },
 "nbformat": 4,
 "nbformat_minor": 5
}
